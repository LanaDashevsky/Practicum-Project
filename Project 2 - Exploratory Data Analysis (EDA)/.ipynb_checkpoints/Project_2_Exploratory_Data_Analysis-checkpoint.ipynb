{
 "cells": [
  {
   "cell_type": "markdown",
   "metadata": {
    "toc": true
   },
   "source": [
    "<h1>Table of Contents<span class=\"tocSkip\"></span></h1>\n",
    "<div class=\"toc\"><ul class=\"toc-item\"><li><span><a href=\"#What-sells-a-car?\" data-toc-modified-id=\"What-sells-a-car?-1\">What sells a car?</a></span><ul class=\"toc-item\"><li><span><a href=\"#Initialization\" data-toc-modified-id=\"Initialization-1.1\">Initialization</a></span></li></ul></li><li><span><a href=\"#Load-data\" data-toc-modified-id=\"Load-data-2\">Load data</a></span><ul class=\"toc-item\"><li><ul class=\"toc-item\"><li><span><a href=\"#Explore-initial-data\" data-toc-modified-id=\"Explore-initial-data-2.0.1\">Explore initial data</a></span></li><li><span><a href=\"#Conclusions-and-further-steps\" data-toc-modified-id=\"Conclusions-and-further-steps-2.0.2\">Conclusions and further steps</a></span></li></ul></li></ul></li><li><span><a href=\"#Data-Preprocessing\" data-toc-modified-id=\"Data-Preprocessing-3\">Data Preprocessing</a></span><ul class=\"toc-item\"><li><span><a href=\"#column-date_posted\" data-toc-modified-id=\"column-date_posted-3.1\">column <code>date_posted</code></a></span></li><li><span><a href=\"#column-type\" data-toc-modified-id=\"column-type-3.2\">column <code>type</code></a></span></li><li><span><a href=\"#column-is_4wd\" data-toc-modified-id=\"column-is_4wd-3.3\">column <code>is_4wd</code></a></span></li></ul></li><li><span><a href=\"#Treat-missing-values\" data-toc-modified-id=\"Treat-missing-values-4\">Treat missing values</a></span><ul class=\"toc-item\"><li><span><a href=\"#column-model_year\" data-toc-modified-id=\"column-model_year-4.1\">column <code>model_year</code></a></span></li><li><span><a href=\"#column-odometer\" data-toc-modified-id=\"column-odometer-4.2\">column <code>odometer</code></a></span></li><li><span><a href=\"#column-cylinders\" data-toc-modified-id=\"column-cylinders-4.3\">column <code>cylinders</code></a></span></li></ul></li><li><span><a href=\"#Enrich-data\" data-toc-modified-id=\"Enrich-data-5\">Enrich data</a></span><ul class=\"toc-item\"><li><span><a href=\"#Day-of-the-week,-month,-and-year-the-ad-was-placed\" data-toc-modified-id=\"Day-of-the-week,-month,-and-year-the-ad-was-placed-5.1\">Day of the week, month, and year the ad was placed</a></span></li><li><span><a href=\"#Inserting-the-age-of-the-car\" data-toc-modified-id=\"Inserting-the-age-of-the-car-5.2\">Inserting the age of the car</a></span></li><li><span><a href=\"#Average-yearly-mileage\" data-toc-modified-id=\"Average-yearly-mileage-5.3\">Average yearly mileage</a></span></li><li><span><a href=\"#Replace-column-condition\" data-toc-modified-id=\"Replace-column-condition-5.4\">Replace column <code>condition</code></a></span></li><li><span><a href=\"#Check-clean-data\" data-toc-modified-id=\"Check-clean-data-5.5\">Check clean data</a></span></li></ul></li><li><span><a href=\"#Study-core-parameters\" data-toc-modified-id=\"Study-core-parameters-6\">Study core parameters</a></span><ul class=\"toc-item\"><li><span><a href=\"#Study-core-parameters-without-outliers\" data-toc-modified-id=\"Study-core-parameters-without-outliers-6.1\">Study core parameters without outliers</a></span></li><li><span><a href=\"#Study-and-treat-outliers\" data-toc-modified-id=\"Study-and-treat-outliers-6.2\">Study and treat outliers</a></span></li><li><span><a href=\"#Ads-lifetime\" data-toc-modified-id=\"Ads-lifetime-6.3\">Ads lifetime</a></span></li><li><span><a href=\"#Average-price-per-each-type-of-vehicle\" data-toc-modified-id=\"Average-price-per-each-type-of-vehicle-6.4\">Average price per each type of vehicle</a></span></li></ul></li><li><span><a href=\"#Price-factors\" data-toc-modified-id=\"Price-factors-7\">Price factors</a></span><ul class=\"toc-item\"><li><span><a href=\"#Scatterplot-for-suv\" data-toc-modified-id=\"Scatterplot-for-suv-7.1\">Scatterplot for <code>suv</code></a></span></li><li><span><a href=\"#Scatterplot-for-sedan\" data-toc-modified-id=\"Scatterplot-for-sedan-7.2\">Scatterplot for <code>sedan</code></a></span></li></ul></li><li><span><a href=\"#General-conclusion\" data-toc-modified-id=\"General-conclusion-8\">General conclusion</a></span></li></ul></div>"
   ]
  },
  {
   "cell_type": "markdown",
   "metadata": {},
   "source": [
    "\n",
    "# What sells a car?\n",
    "\n",
    "You're an analyst at Crankshaft List. Hundreds of free advertisements for vehicles are published on your site every day. You need to study data collected over the last few years and determine which factors influence the price of a vehicle."
   ]
  },
  {
   "cell_type": "markdown",
   "metadata": {},
   "source": [
    "We have to load the database, analyze the data for incorrect and missing values. After we prepare our database for work, we need to turn to the main tasks that we want to study - the average age of advertisements, how different parameters affect the price and speed of sale, what are the patterns and correlations in the data. So, let's begin."
   ]
  },
  {
   "cell_type": "markdown",
   "metadata": {},
   "source": [
    "## Initialization"
   ]
  },
  {
   "cell_type": "markdown",
   "metadata": {},
   "source": [
    "Let's start by importing the needed libraries and modules."
   ]
  },
  {
   "cell_type": "code",
   "execution_count": 1,
   "metadata": {},
   "outputs": [],
   "source": [
    "# Loading all the libraries\n",
    "import pandas as pd\n",
    "import numpy as np \n",
    "import matplotlib.pyplot as plt #imports the pyplot module from the matplotlib library to plot graphs"
   ]
  },
  {
   "cell_type": "markdown",
   "metadata": {},
   "source": [
    "# Load data"
   ]
  },
  {
   "cell_type": "markdown",
   "metadata": {},
   "source": [
    "Let's load the `vehicles_us.csv` file, make it a data frame and look at the general information."
   ]
  },
  {
   "cell_type": "code",
   "execution_count": 4,
   "metadata": {},
   "outputs": [],
   "source": [
    "#creating variable for dataset path\n",
    "data_path = '/Users/lanadashevsky/Practicum DA projects/datasets/vehicles_us.csv'"
   ]
  },
  {
   "cell_type": "code",
   "execution_count": 3,
   "metadata": {},
   "outputs": [
    {
     "ename": "FileNotFoundError",
     "evalue": "[Errno 2] No such file or directory: '/datasets/vehicles_us.csv'",
     "output_type": "error",
     "traceback": [
      "\u001b[0;31m---------------------------------------------------------------------------\u001b[0m",
      "\u001b[0;31mFileNotFoundError\u001b[0m                         Traceback (most recent call last)",
      "Input \u001b[0;32mIn [3]\u001b[0m, in \u001b[0;36m<cell line: 3>\u001b[0;34m()\u001b[0m\n\u001b[1;32m      3\u001b[0m \u001b[38;5;28;01mtry\u001b[39;00m:\n\u001b[0;32m----> 4\u001b[0m     data \u001b[38;5;241m=\u001b[39m \u001b[43mpd\u001b[49m\u001b[38;5;241;43m.\u001b[39;49m\u001b[43mread_csv\u001b[49m\u001b[43m(\u001b[49m\u001b[38;5;124;43m'\u001b[39;49m\u001b[38;5;124;43mvehicles_us.csv\u001b[39;49m\u001b[38;5;124;43m'\u001b[39;49m\u001b[43m)\u001b[49m\n\u001b[1;32m      5\u001b[0m \u001b[38;5;28;01mexcept\u001b[39;00m:\n",
      "File \u001b[0;32m~/opt/anaconda3/lib/python3.9/site-packages/pandas/util/_decorators.py:311\u001b[0m, in \u001b[0;36mdeprecate_nonkeyword_arguments.<locals>.decorate.<locals>.wrapper\u001b[0;34m(*args, **kwargs)\u001b[0m\n\u001b[1;32m    306\u001b[0m     warnings\u001b[38;5;241m.\u001b[39mwarn(\n\u001b[1;32m    307\u001b[0m         msg\u001b[38;5;241m.\u001b[39mformat(arguments\u001b[38;5;241m=\u001b[39marguments),\n\u001b[1;32m    308\u001b[0m         \u001b[38;5;167;01mFutureWarning\u001b[39;00m,\n\u001b[1;32m    309\u001b[0m         stacklevel\u001b[38;5;241m=\u001b[39mstacklevel,\n\u001b[1;32m    310\u001b[0m     )\n\u001b[0;32m--> 311\u001b[0m \u001b[38;5;28;01mreturn\u001b[39;00m \u001b[43mfunc\u001b[49m\u001b[43m(\u001b[49m\u001b[38;5;241;43m*\u001b[39;49m\u001b[43margs\u001b[49m\u001b[43m,\u001b[49m\u001b[43m \u001b[49m\u001b[38;5;241;43m*\u001b[39;49m\u001b[38;5;241;43m*\u001b[39;49m\u001b[43mkwargs\u001b[49m\u001b[43m)\u001b[49m\n",
      "File \u001b[0;32m~/opt/anaconda3/lib/python3.9/site-packages/pandas/io/parsers/readers.py:680\u001b[0m, in \u001b[0;36mread_csv\u001b[0;34m(filepath_or_buffer, sep, delimiter, header, names, index_col, usecols, squeeze, prefix, mangle_dupe_cols, dtype, engine, converters, true_values, false_values, skipinitialspace, skiprows, skipfooter, nrows, na_values, keep_default_na, na_filter, verbose, skip_blank_lines, parse_dates, infer_datetime_format, keep_date_col, date_parser, dayfirst, cache_dates, iterator, chunksize, compression, thousands, decimal, lineterminator, quotechar, quoting, doublequote, escapechar, comment, encoding, encoding_errors, dialect, error_bad_lines, warn_bad_lines, on_bad_lines, delim_whitespace, low_memory, memory_map, float_precision, storage_options)\u001b[0m\n\u001b[1;32m    678\u001b[0m kwds\u001b[38;5;241m.\u001b[39mupdate(kwds_defaults)\n\u001b[0;32m--> 680\u001b[0m \u001b[38;5;28;01mreturn\u001b[39;00m \u001b[43m_read\u001b[49m\u001b[43m(\u001b[49m\u001b[43mfilepath_or_buffer\u001b[49m\u001b[43m,\u001b[49m\u001b[43m \u001b[49m\u001b[43mkwds\u001b[49m\u001b[43m)\u001b[49m\n",
      "File \u001b[0;32m~/opt/anaconda3/lib/python3.9/site-packages/pandas/io/parsers/readers.py:575\u001b[0m, in \u001b[0;36m_read\u001b[0;34m(filepath_or_buffer, kwds)\u001b[0m\n\u001b[1;32m    574\u001b[0m \u001b[38;5;66;03m# Create the parser.\u001b[39;00m\n\u001b[0;32m--> 575\u001b[0m parser \u001b[38;5;241m=\u001b[39m \u001b[43mTextFileReader\u001b[49m\u001b[43m(\u001b[49m\u001b[43mfilepath_or_buffer\u001b[49m\u001b[43m,\u001b[49m\u001b[43m \u001b[49m\u001b[38;5;241;43m*\u001b[39;49m\u001b[38;5;241;43m*\u001b[39;49m\u001b[43mkwds\u001b[49m\u001b[43m)\u001b[49m\n\u001b[1;32m    577\u001b[0m \u001b[38;5;28;01mif\u001b[39;00m chunksize \u001b[38;5;129;01mor\u001b[39;00m iterator:\n",
      "File \u001b[0;32m~/opt/anaconda3/lib/python3.9/site-packages/pandas/io/parsers/readers.py:933\u001b[0m, in \u001b[0;36mTextFileReader.__init__\u001b[0;34m(self, f, engine, **kwds)\u001b[0m\n\u001b[1;32m    932\u001b[0m \u001b[38;5;28mself\u001b[39m\u001b[38;5;241m.\u001b[39mhandles: IOHandles \u001b[38;5;241m|\u001b[39m \u001b[38;5;28;01mNone\u001b[39;00m \u001b[38;5;241m=\u001b[39m \u001b[38;5;28;01mNone\u001b[39;00m\n\u001b[0;32m--> 933\u001b[0m \u001b[38;5;28mself\u001b[39m\u001b[38;5;241m.\u001b[39m_engine \u001b[38;5;241m=\u001b[39m \u001b[38;5;28;43mself\u001b[39;49m\u001b[38;5;241;43m.\u001b[39;49m\u001b[43m_make_engine\u001b[49m\u001b[43m(\u001b[49m\u001b[43mf\u001b[49m\u001b[43m,\u001b[49m\u001b[43m \u001b[49m\u001b[38;5;28;43mself\u001b[39;49m\u001b[38;5;241;43m.\u001b[39;49m\u001b[43mengine\u001b[49m\u001b[43m)\u001b[49m\n",
      "File \u001b[0;32m~/opt/anaconda3/lib/python3.9/site-packages/pandas/io/parsers/readers.py:1217\u001b[0m, in \u001b[0;36mTextFileReader._make_engine\u001b[0;34m(self, f, engine)\u001b[0m\n\u001b[1;32m   1214\u001b[0m \u001b[38;5;66;03m# error: No overload variant of \"get_handle\" matches argument types\u001b[39;00m\n\u001b[1;32m   1215\u001b[0m \u001b[38;5;66;03m# \"Union[str, PathLike[str], ReadCsvBuffer[bytes], ReadCsvBuffer[str]]\"\u001b[39;00m\n\u001b[1;32m   1216\u001b[0m \u001b[38;5;66;03m# , \"str\", \"bool\", \"Any\", \"Any\", \"Any\", \"Any\", \"Any\"\u001b[39;00m\n\u001b[0;32m-> 1217\u001b[0m \u001b[38;5;28mself\u001b[39m\u001b[38;5;241m.\u001b[39mhandles \u001b[38;5;241m=\u001b[39m \u001b[43mget_handle\u001b[49m\u001b[43m(\u001b[49m\u001b[43m  \u001b[49m\u001b[38;5;66;43;03m# type: ignore[call-overload]\u001b[39;49;00m\n\u001b[1;32m   1218\u001b[0m \u001b[43m    \u001b[49m\u001b[43mf\u001b[49m\u001b[43m,\u001b[49m\n\u001b[1;32m   1219\u001b[0m \u001b[43m    \u001b[49m\u001b[43mmode\u001b[49m\u001b[43m,\u001b[49m\n\u001b[1;32m   1220\u001b[0m \u001b[43m    \u001b[49m\u001b[43mencoding\u001b[49m\u001b[38;5;241;43m=\u001b[39;49m\u001b[38;5;28;43mself\u001b[39;49m\u001b[38;5;241;43m.\u001b[39;49m\u001b[43moptions\u001b[49m\u001b[38;5;241;43m.\u001b[39;49m\u001b[43mget\u001b[49m\u001b[43m(\u001b[49m\u001b[38;5;124;43m\"\u001b[39;49m\u001b[38;5;124;43mencoding\u001b[39;49m\u001b[38;5;124;43m\"\u001b[39;49m\u001b[43m,\u001b[49m\u001b[43m \u001b[49m\u001b[38;5;28;43;01mNone\u001b[39;49;00m\u001b[43m)\u001b[49m\u001b[43m,\u001b[49m\n\u001b[1;32m   1221\u001b[0m \u001b[43m    \u001b[49m\u001b[43mcompression\u001b[49m\u001b[38;5;241;43m=\u001b[39;49m\u001b[38;5;28;43mself\u001b[39;49m\u001b[38;5;241;43m.\u001b[39;49m\u001b[43moptions\u001b[49m\u001b[38;5;241;43m.\u001b[39;49m\u001b[43mget\u001b[49m\u001b[43m(\u001b[49m\u001b[38;5;124;43m\"\u001b[39;49m\u001b[38;5;124;43mcompression\u001b[39;49m\u001b[38;5;124;43m\"\u001b[39;49m\u001b[43m,\u001b[49m\u001b[43m \u001b[49m\u001b[38;5;28;43;01mNone\u001b[39;49;00m\u001b[43m)\u001b[49m\u001b[43m,\u001b[49m\n\u001b[1;32m   1222\u001b[0m \u001b[43m    \u001b[49m\u001b[43mmemory_map\u001b[49m\u001b[38;5;241;43m=\u001b[39;49m\u001b[38;5;28;43mself\u001b[39;49m\u001b[38;5;241;43m.\u001b[39;49m\u001b[43moptions\u001b[49m\u001b[38;5;241;43m.\u001b[39;49m\u001b[43mget\u001b[49m\u001b[43m(\u001b[49m\u001b[38;5;124;43m\"\u001b[39;49m\u001b[38;5;124;43mmemory_map\u001b[39;49m\u001b[38;5;124;43m\"\u001b[39;49m\u001b[43m,\u001b[49m\u001b[43m \u001b[49m\u001b[38;5;28;43;01mFalse\u001b[39;49;00m\u001b[43m)\u001b[49m\u001b[43m,\u001b[49m\n\u001b[1;32m   1223\u001b[0m \u001b[43m    \u001b[49m\u001b[43mis_text\u001b[49m\u001b[38;5;241;43m=\u001b[39;49m\u001b[43mis_text\u001b[49m\u001b[43m,\u001b[49m\n\u001b[1;32m   1224\u001b[0m \u001b[43m    \u001b[49m\u001b[43merrors\u001b[49m\u001b[38;5;241;43m=\u001b[39;49m\u001b[38;5;28;43mself\u001b[39;49m\u001b[38;5;241;43m.\u001b[39;49m\u001b[43moptions\u001b[49m\u001b[38;5;241;43m.\u001b[39;49m\u001b[43mget\u001b[49m\u001b[43m(\u001b[49m\u001b[38;5;124;43m\"\u001b[39;49m\u001b[38;5;124;43mencoding_errors\u001b[39;49m\u001b[38;5;124;43m\"\u001b[39;49m\u001b[43m,\u001b[49m\u001b[43m \u001b[49m\u001b[38;5;124;43m\"\u001b[39;49m\u001b[38;5;124;43mstrict\u001b[39;49m\u001b[38;5;124;43m\"\u001b[39;49m\u001b[43m)\u001b[49m\u001b[43m,\u001b[49m\n\u001b[1;32m   1225\u001b[0m \u001b[43m    \u001b[49m\u001b[43mstorage_options\u001b[49m\u001b[38;5;241;43m=\u001b[39;49m\u001b[38;5;28;43mself\u001b[39;49m\u001b[38;5;241;43m.\u001b[39;49m\u001b[43moptions\u001b[49m\u001b[38;5;241;43m.\u001b[39;49m\u001b[43mget\u001b[49m\u001b[43m(\u001b[49m\u001b[38;5;124;43m\"\u001b[39;49m\u001b[38;5;124;43mstorage_options\u001b[39;49m\u001b[38;5;124;43m\"\u001b[39;49m\u001b[43m,\u001b[49m\u001b[43m \u001b[49m\u001b[38;5;28;43;01mNone\u001b[39;49;00m\u001b[43m)\u001b[49m\u001b[43m,\u001b[49m\n\u001b[1;32m   1226\u001b[0m \u001b[43m\u001b[49m\u001b[43m)\u001b[49m\n\u001b[1;32m   1227\u001b[0m \u001b[38;5;28;01massert\u001b[39;00m \u001b[38;5;28mself\u001b[39m\u001b[38;5;241m.\u001b[39mhandles \u001b[38;5;129;01mis\u001b[39;00m \u001b[38;5;129;01mnot\u001b[39;00m \u001b[38;5;28;01mNone\u001b[39;00m\n",
      "File \u001b[0;32m~/opt/anaconda3/lib/python3.9/site-packages/pandas/io/common.py:789\u001b[0m, in \u001b[0;36mget_handle\u001b[0;34m(path_or_buf, mode, encoding, compression, memory_map, is_text, errors, storage_options)\u001b[0m\n\u001b[1;32m    787\u001b[0m \u001b[38;5;28;01mif\u001b[39;00m ioargs\u001b[38;5;241m.\u001b[39mencoding \u001b[38;5;129;01mand\u001b[39;00m \u001b[38;5;124m\"\u001b[39m\u001b[38;5;124mb\u001b[39m\u001b[38;5;124m\"\u001b[39m \u001b[38;5;129;01mnot\u001b[39;00m \u001b[38;5;129;01min\u001b[39;00m ioargs\u001b[38;5;241m.\u001b[39mmode:\n\u001b[1;32m    788\u001b[0m     \u001b[38;5;66;03m# Encoding\u001b[39;00m\n\u001b[0;32m--> 789\u001b[0m     handle \u001b[38;5;241m=\u001b[39m \u001b[38;5;28;43mopen\u001b[39;49m\u001b[43m(\u001b[49m\n\u001b[1;32m    790\u001b[0m \u001b[43m        \u001b[49m\u001b[43mhandle\u001b[49m\u001b[43m,\u001b[49m\n\u001b[1;32m    791\u001b[0m \u001b[43m        \u001b[49m\u001b[43mioargs\u001b[49m\u001b[38;5;241;43m.\u001b[39;49m\u001b[43mmode\u001b[49m\u001b[43m,\u001b[49m\n\u001b[1;32m    792\u001b[0m \u001b[43m        \u001b[49m\u001b[43mencoding\u001b[49m\u001b[38;5;241;43m=\u001b[39;49m\u001b[43mioargs\u001b[49m\u001b[38;5;241;43m.\u001b[39;49m\u001b[43mencoding\u001b[49m\u001b[43m,\u001b[49m\n\u001b[1;32m    793\u001b[0m \u001b[43m        \u001b[49m\u001b[43merrors\u001b[49m\u001b[38;5;241;43m=\u001b[39;49m\u001b[43merrors\u001b[49m\u001b[43m,\u001b[49m\n\u001b[1;32m    794\u001b[0m \u001b[43m        \u001b[49m\u001b[43mnewline\u001b[49m\u001b[38;5;241;43m=\u001b[39;49m\u001b[38;5;124;43m\"\u001b[39;49m\u001b[38;5;124;43m\"\u001b[39;49m\u001b[43m,\u001b[49m\n\u001b[1;32m    795\u001b[0m \u001b[43m    \u001b[49m\u001b[43m)\u001b[49m\n\u001b[1;32m    796\u001b[0m \u001b[38;5;28;01melse\u001b[39;00m:\n\u001b[1;32m    797\u001b[0m     \u001b[38;5;66;03m# Binary mode\u001b[39;00m\n",
      "\u001b[0;31mFileNotFoundError\u001b[0m: [Errno 2] No such file or directory: 'vehicles_us.csv'",
      "\nDuring handling of the above exception, another exception occurred:\n",
      "\u001b[0;31mFileNotFoundError\u001b[0m                         Traceback (most recent call last)",
      "Input \u001b[0;32mIn [3]\u001b[0m, in \u001b[0;36m<cell line: 3>\u001b[0;34m()\u001b[0m\n\u001b[1;32m      4\u001b[0m     data \u001b[38;5;241m=\u001b[39m pd\u001b[38;5;241m.\u001b[39mread_csv(\u001b[38;5;124m'\u001b[39m\u001b[38;5;124mvehicles_us.csv\u001b[39m\u001b[38;5;124m'\u001b[39m)\n\u001b[1;32m      5\u001b[0m \u001b[38;5;28;01mexcept\u001b[39;00m:\n\u001b[0;32m----> 6\u001b[0m     data \u001b[38;5;241m=\u001b[39m \u001b[43mpd\u001b[49m\u001b[38;5;241;43m.\u001b[39;49m\u001b[43mread_csv\u001b[49m\u001b[43m(\u001b[49m\u001b[43mdata_path\u001b[49m\u001b[43m)\u001b[49m\n\u001b[1;32m      8\u001b[0m data\u001b[38;5;241m.\u001b[39minfo()\n",
      "File \u001b[0;32m~/opt/anaconda3/lib/python3.9/site-packages/pandas/util/_decorators.py:311\u001b[0m, in \u001b[0;36mdeprecate_nonkeyword_arguments.<locals>.decorate.<locals>.wrapper\u001b[0;34m(*args, **kwargs)\u001b[0m\n\u001b[1;32m    305\u001b[0m \u001b[38;5;28;01mif\u001b[39;00m \u001b[38;5;28mlen\u001b[39m(args) \u001b[38;5;241m>\u001b[39m num_allow_args:\n\u001b[1;32m    306\u001b[0m     warnings\u001b[38;5;241m.\u001b[39mwarn(\n\u001b[1;32m    307\u001b[0m         msg\u001b[38;5;241m.\u001b[39mformat(arguments\u001b[38;5;241m=\u001b[39marguments),\n\u001b[1;32m    308\u001b[0m         \u001b[38;5;167;01mFutureWarning\u001b[39;00m,\n\u001b[1;32m    309\u001b[0m         stacklevel\u001b[38;5;241m=\u001b[39mstacklevel,\n\u001b[1;32m    310\u001b[0m     )\n\u001b[0;32m--> 311\u001b[0m \u001b[38;5;28;01mreturn\u001b[39;00m \u001b[43mfunc\u001b[49m\u001b[43m(\u001b[49m\u001b[38;5;241;43m*\u001b[39;49m\u001b[43margs\u001b[49m\u001b[43m,\u001b[49m\u001b[43m \u001b[49m\u001b[38;5;241;43m*\u001b[39;49m\u001b[38;5;241;43m*\u001b[39;49m\u001b[43mkwargs\u001b[49m\u001b[43m)\u001b[49m\n",
      "File \u001b[0;32m~/opt/anaconda3/lib/python3.9/site-packages/pandas/io/parsers/readers.py:680\u001b[0m, in \u001b[0;36mread_csv\u001b[0;34m(filepath_or_buffer, sep, delimiter, header, names, index_col, usecols, squeeze, prefix, mangle_dupe_cols, dtype, engine, converters, true_values, false_values, skipinitialspace, skiprows, skipfooter, nrows, na_values, keep_default_na, na_filter, verbose, skip_blank_lines, parse_dates, infer_datetime_format, keep_date_col, date_parser, dayfirst, cache_dates, iterator, chunksize, compression, thousands, decimal, lineterminator, quotechar, quoting, doublequote, escapechar, comment, encoding, encoding_errors, dialect, error_bad_lines, warn_bad_lines, on_bad_lines, delim_whitespace, low_memory, memory_map, float_precision, storage_options)\u001b[0m\n\u001b[1;32m    665\u001b[0m kwds_defaults \u001b[38;5;241m=\u001b[39m _refine_defaults_read(\n\u001b[1;32m    666\u001b[0m     dialect,\n\u001b[1;32m    667\u001b[0m     delimiter,\n\u001b[0;32m   (...)\u001b[0m\n\u001b[1;32m    676\u001b[0m     defaults\u001b[38;5;241m=\u001b[39m{\u001b[38;5;124m\"\u001b[39m\u001b[38;5;124mdelimiter\u001b[39m\u001b[38;5;124m\"\u001b[39m: \u001b[38;5;124m\"\u001b[39m\u001b[38;5;124m,\u001b[39m\u001b[38;5;124m\"\u001b[39m},\n\u001b[1;32m    677\u001b[0m )\n\u001b[1;32m    678\u001b[0m kwds\u001b[38;5;241m.\u001b[39mupdate(kwds_defaults)\n\u001b[0;32m--> 680\u001b[0m \u001b[38;5;28;01mreturn\u001b[39;00m \u001b[43m_read\u001b[49m\u001b[43m(\u001b[49m\u001b[43mfilepath_or_buffer\u001b[49m\u001b[43m,\u001b[49m\u001b[43m \u001b[49m\u001b[43mkwds\u001b[49m\u001b[43m)\u001b[49m\n",
      "File \u001b[0;32m~/opt/anaconda3/lib/python3.9/site-packages/pandas/io/parsers/readers.py:575\u001b[0m, in \u001b[0;36m_read\u001b[0;34m(filepath_or_buffer, kwds)\u001b[0m\n\u001b[1;32m    572\u001b[0m _validate_names(kwds\u001b[38;5;241m.\u001b[39mget(\u001b[38;5;124m\"\u001b[39m\u001b[38;5;124mnames\u001b[39m\u001b[38;5;124m\"\u001b[39m, \u001b[38;5;28;01mNone\u001b[39;00m))\n\u001b[1;32m    574\u001b[0m \u001b[38;5;66;03m# Create the parser.\u001b[39;00m\n\u001b[0;32m--> 575\u001b[0m parser \u001b[38;5;241m=\u001b[39m \u001b[43mTextFileReader\u001b[49m\u001b[43m(\u001b[49m\u001b[43mfilepath_or_buffer\u001b[49m\u001b[43m,\u001b[49m\u001b[43m \u001b[49m\u001b[38;5;241;43m*\u001b[39;49m\u001b[38;5;241;43m*\u001b[39;49m\u001b[43mkwds\u001b[49m\u001b[43m)\u001b[49m\n\u001b[1;32m    577\u001b[0m \u001b[38;5;28;01mif\u001b[39;00m chunksize \u001b[38;5;129;01mor\u001b[39;00m iterator:\n\u001b[1;32m    578\u001b[0m     \u001b[38;5;28;01mreturn\u001b[39;00m parser\n",
      "File \u001b[0;32m~/opt/anaconda3/lib/python3.9/site-packages/pandas/io/parsers/readers.py:933\u001b[0m, in \u001b[0;36mTextFileReader.__init__\u001b[0;34m(self, f, engine, **kwds)\u001b[0m\n\u001b[1;32m    930\u001b[0m     \u001b[38;5;28mself\u001b[39m\u001b[38;5;241m.\u001b[39moptions[\u001b[38;5;124m\"\u001b[39m\u001b[38;5;124mhas_index_names\u001b[39m\u001b[38;5;124m\"\u001b[39m] \u001b[38;5;241m=\u001b[39m kwds[\u001b[38;5;124m\"\u001b[39m\u001b[38;5;124mhas_index_names\u001b[39m\u001b[38;5;124m\"\u001b[39m]\n\u001b[1;32m    932\u001b[0m \u001b[38;5;28mself\u001b[39m\u001b[38;5;241m.\u001b[39mhandles: IOHandles \u001b[38;5;241m|\u001b[39m \u001b[38;5;28;01mNone\u001b[39;00m \u001b[38;5;241m=\u001b[39m \u001b[38;5;28;01mNone\u001b[39;00m\n\u001b[0;32m--> 933\u001b[0m \u001b[38;5;28mself\u001b[39m\u001b[38;5;241m.\u001b[39m_engine \u001b[38;5;241m=\u001b[39m \u001b[38;5;28;43mself\u001b[39;49m\u001b[38;5;241;43m.\u001b[39;49m\u001b[43m_make_engine\u001b[49m\u001b[43m(\u001b[49m\u001b[43mf\u001b[49m\u001b[43m,\u001b[49m\u001b[43m \u001b[49m\u001b[38;5;28;43mself\u001b[39;49m\u001b[38;5;241;43m.\u001b[39;49m\u001b[43mengine\u001b[49m\u001b[43m)\u001b[49m\n",
      "File \u001b[0;32m~/opt/anaconda3/lib/python3.9/site-packages/pandas/io/parsers/readers.py:1217\u001b[0m, in \u001b[0;36mTextFileReader._make_engine\u001b[0;34m(self, f, engine)\u001b[0m\n\u001b[1;32m   1213\u001b[0m     mode \u001b[38;5;241m=\u001b[39m \u001b[38;5;124m\"\u001b[39m\u001b[38;5;124mrb\u001b[39m\u001b[38;5;124m\"\u001b[39m\n\u001b[1;32m   1214\u001b[0m \u001b[38;5;66;03m# error: No overload variant of \"get_handle\" matches argument types\u001b[39;00m\n\u001b[1;32m   1215\u001b[0m \u001b[38;5;66;03m# \"Union[str, PathLike[str], ReadCsvBuffer[bytes], ReadCsvBuffer[str]]\"\u001b[39;00m\n\u001b[1;32m   1216\u001b[0m \u001b[38;5;66;03m# , \"str\", \"bool\", \"Any\", \"Any\", \"Any\", \"Any\", \"Any\"\u001b[39;00m\n\u001b[0;32m-> 1217\u001b[0m \u001b[38;5;28mself\u001b[39m\u001b[38;5;241m.\u001b[39mhandles \u001b[38;5;241m=\u001b[39m \u001b[43mget_handle\u001b[49m\u001b[43m(\u001b[49m\u001b[43m  \u001b[49m\u001b[38;5;66;43;03m# type: ignore[call-overload]\u001b[39;49;00m\n\u001b[1;32m   1218\u001b[0m \u001b[43m    \u001b[49m\u001b[43mf\u001b[49m\u001b[43m,\u001b[49m\n\u001b[1;32m   1219\u001b[0m \u001b[43m    \u001b[49m\u001b[43mmode\u001b[49m\u001b[43m,\u001b[49m\n\u001b[1;32m   1220\u001b[0m \u001b[43m    \u001b[49m\u001b[43mencoding\u001b[49m\u001b[38;5;241;43m=\u001b[39;49m\u001b[38;5;28;43mself\u001b[39;49m\u001b[38;5;241;43m.\u001b[39;49m\u001b[43moptions\u001b[49m\u001b[38;5;241;43m.\u001b[39;49m\u001b[43mget\u001b[49m\u001b[43m(\u001b[49m\u001b[38;5;124;43m\"\u001b[39;49m\u001b[38;5;124;43mencoding\u001b[39;49m\u001b[38;5;124;43m\"\u001b[39;49m\u001b[43m,\u001b[49m\u001b[43m \u001b[49m\u001b[38;5;28;43;01mNone\u001b[39;49;00m\u001b[43m)\u001b[49m\u001b[43m,\u001b[49m\n\u001b[1;32m   1221\u001b[0m \u001b[43m    \u001b[49m\u001b[43mcompression\u001b[49m\u001b[38;5;241;43m=\u001b[39;49m\u001b[38;5;28;43mself\u001b[39;49m\u001b[38;5;241;43m.\u001b[39;49m\u001b[43moptions\u001b[49m\u001b[38;5;241;43m.\u001b[39;49m\u001b[43mget\u001b[49m\u001b[43m(\u001b[49m\u001b[38;5;124;43m\"\u001b[39;49m\u001b[38;5;124;43mcompression\u001b[39;49m\u001b[38;5;124;43m\"\u001b[39;49m\u001b[43m,\u001b[49m\u001b[43m \u001b[49m\u001b[38;5;28;43;01mNone\u001b[39;49;00m\u001b[43m)\u001b[49m\u001b[43m,\u001b[49m\n\u001b[1;32m   1222\u001b[0m \u001b[43m    \u001b[49m\u001b[43mmemory_map\u001b[49m\u001b[38;5;241;43m=\u001b[39;49m\u001b[38;5;28;43mself\u001b[39;49m\u001b[38;5;241;43m.\u001b[39;49m\u001b[43moptions\u001b[49m\u001b[38;5;241;43m.\u001b[39;49m\u001b[43mget\u001b[49m\u001b[43m(\u001b[49m\u001b[38;5;124;43m\"\u001b[39;49m\u001b[38;5;124;43mmemory_map\u001b[39;49m\u001b[38;5;124;43m\"\u001b[39;49m\u001b[43m,\u001b[49m\u001b[43m \u001b[49m\u001b[38;5;28;43;01mFalse\u001b[39;49;00m\u001b[43m)\u001b[49m\u001b[43m,\u001b[49m\n\u001b[1;32m   1223\u001b[0m \u001b[43m    \u001b[49m\u001b[43mis_text\u001b[49m\u001b[38;5;241;43m=\u001b[39;49m\u001b[43mis_text\u001b[49m\u001b[43m,\u001b[49m\n\u001b[1;32m   1224\u001b[0m \u001b[43m    \u001b[49m\u001b[43merrors\u001b[49m\u001b[38;5;241;43m=\u001b[39;49m\u001b[38;5;28;43mself\u001b[39;49m\u001b[38;5;241;43m.\u001b[39;49m\u001b[43moptions\u001b[49m\u001b[38;5;241;43m.\u001b[39;49m\u001b[43mget\u001b[49m\u001b[43m(\u001b[49m\u001b[38;5;124;43m\"\u001b[39;49m\u001b[38;5;124;43mencoding_errors\u001b[39;49m\u001b[38;5;124;43m\"\u001b[39;49m\u001b[43m,\u001b[49m\u001b[43m \u001b[49m\u001b[38;5;124;43m\"\u001b[39;49m\u001b[38;5;124;43mstrict\u001b[39;49m\u001b[38;5;124;43m\"\u001b[39;49m\u001b[43m)\u001b[49m\u001b[43m,\u001b[49m\n\u001b[1;32m   1225\u001b[0m \u001b[43m    \u001b[49m\u001b[43mstorage_options\u001b[49m\u001b[38;5;241;43m=\u001b[39;49m\u001b[38;5;28;43mself\u001b[39;49m\u001b[38;5;241;43m.\u001b[39;49m\u001b[43moptions\u001b[49m\u001b[38;5;241;43m.\u001b[39;49m\u001b[43mget\u001b[49m\u001b[43m(\u001b[49m\u001b[38;5;124;43m\"\u001b[39;49m\u001b[38;5;124;43mstorage_options\u001b[39;49m\u001b[38;5;124;43m\"\u001b[39;49m\u001b[43m,\u001b[49m\u001b[43m \u001b[49m\u001b[38;5;28;43;01mNone\u001b[39;49;00m\u001b[43m)\u001b[49m\u001b[43m,\u001b[49m\n\u001b[1;32m   1226\u001b[0m \u001b[43m\u001b[49m\u001b[43m)\u001b[49m\n\u001b[1;32m   1227\u001b[0m \u001b[38;5;28;01massert\u001b[39;00m \u001b[38;5;28mself\u001b[39m\u001b[38;5;241m.\u001b[39mhandles \u001b[38;5;129;01mis\u001b[39;00m \u001b[38;5;129;01mnot\u001b[39;00m \u001b[38;5;28;01mNone\u001b[39;00m\n\u001b[1;32m   1228\u001b[0m f \u001b[38;5;241m=\u001b[39m \u001b[38;5;28mself\u001b[39m\u001b[38;5;241m.\u001b[39mhandles\u001b[38;5;241m.\u001b[39mhandle\n",
      "File \u001b[0;32m~/opt/anaconda3/lib/python3.9/site-packages/pandas/io/common.py:789\u001b[0m, in \u001b[0;36mget_handle\u001b[0;34m(path_or_buf, mode, encoding, compression, memory_map, is_text, errors, storage_options)\u001b[0m\n\u001b[1;32m    784\u001b[0m \u001b[38;5;28;01melif\u001b[39;00m \u001b[38;5;28misinstance\u001b[39m(handle, \u001b[38;5;28mstr\u001b[39m):\n\u001b[1;32m    785\u001b[0m     \u001b[38;5;66;03m# Check whether the filename is to be opened in binary mode.\u001b[39;00m\n\u001b[1;32m    786\u001b[0m     \u001b[38;5;66;03m# Binary mode does not support 'encoding' and 'newline'.\u001b[39;00m\n\u001b[1;32m    787\u001b[0m     \u001b[38;5;28;01mif\u001b[39;00m ioargs\u001b[38;5;241m.\u001b[39mencoding \u001b[38;5;129;01mand\u001b[39;00m \u001b[38;5;124m\"\u001b[39m\u001b[38;5;124mb\u001b[39m\u001b[38;5;124m\"\u001b[39m \u001b[38;5;129;01mnot\u001b[39;00m \u001b[38;5;129;01min\u001b[39;00m ioargs\u001b[38;5;241m.\u001b[39mmode:\n\u001b[1;32m    788\u001b[0m         \u001b[38;5;66;03m# Encoding\u001b[39;00m\n\u001b[0;32m--> 789\u001b[0m         handle \u001b[38;5;241m=\u001b[39m \u001b[38;5;28;43mopen\u001b[39;49m\u001b[43m(\u001b[49m\n\u001b[1;32m    790\u001b[0m \u001b[43m            \u001b[49m\u001b[43mhandle\u001b[49m\u001b[43m,\u001b[49m\n\u001b[1;32m    791\u001b[0m \u001b[43m            \u001b[49m\u001b[43mioargs\u001b[49m\u001b[38;5;241;43m.\u001b[39;49m\u001b[43mmode\u001b[49m\u001b[43m,\u001b[49m\n\u001b[1;32m    792\u001b[0m \u001b[43m            \u001b[49m\u001b[43mencoding\u001b[49m\u001b[38;5;241;43m=\u001b[39;49m\u001b[43mioargs\u001b[49m\u001b[38;5;241;43m.\u001b[39;49m\u001b[43mencoding\u001b[49m\u001b[43m,\u001b[49m\n\u001b[1;32m    793\u001b[0m \u001b[43m            \u001b[49m\u001b[43merrors\u001b[49m\u001b[38;5;241;43m=\u001b[39;49m\u001b[43merrors\u001b[49m\u001b[43m,\u001b[49m\n\u001b[1;32m    794\u001b[0m \u001b[43m            \u001b[49m\u001b[43mnewline\u001b[49m\u001b[38;5;241;43m=\u001b[39;49m\u001b[38;5;124;43m\"\u001b[39;49m\u001b[38;5;124;43m\"\u001b[39;49m\u001b[43m,\u001b[49m\n\u001b[1;32m    795\u001b[0m \u001b[43m        \u001b[49m\u001b[43m)\u001b[49m\n\u001b[1;32m    796\u001b[0m     \u001b[38;5;28;01melse\u001b[39;00m:\n\u001b[1;32m    797\u001b[0m         \u001b[38;5;66;03m# Binary mode\u001b[39;00m\n\u001b[1;32m    798\u001b[0m         handle \u001b[38;5;241m=\u001b[39m \u001b[38;5;28mopen\u001b[39m(handle, ioargs\u001b[38;5;241m.\u001b[39mmode)\n",
      "\u001b[0;31mFileNotFoundError\u001b[0m: [Errno 2] No such file or directory: '/datasets/vehicles_us.csv'"
     ]
    }
   ],
   "source": [
    "# Load the data file into a DataFrame\n",
    "\n",
    "try:\n",
    "    data = pd.read_csv('vehicles_us.csv')\n",
    "except:\n",
    "    data = pd.read_csv(data_path)\n",
    "    \n",
    "data.info()"
   ]
  },
  {
   "cell_type": "markdown",
   "metadata": {},
   "source": [
    "### Explore initial data"
   ]
  },
  {
   "cell_type": "markdown",
   "metadata": {},
   "source": [
    "The dataset contains the following fields:\n",
    "- `price`\n",
    "- `model_year`\n",
    "- `model`\n",
    "- `condition`\n",
    "- `cylinders`\n",
    "- `fuel` — gas, diesel, etc.\n",
    "- `odometer` — the vehicle's mileage when the ad was published\n",
    "- `transmission`\n",
    "- `paint_color`\n",
    "- `is_4wd` — whether the vehicle has 4-wheel drive (Boolean type)\n",
    "- `date_posted` — the date the ad was published\n",
    "- `days_listed` — from publication to removal\n",
    "\n",
    "We'll want to see how many columns and rows our data has, look at a few rows to check for potential issues with the data."
   ]
  },
  {
   "cell_type": "code",
   "execution_count": null,
   "metadata": {},
   "outputs": [],
   "source": [
    "# print the general/summary information about the DataFrame\n",
    "data.describe()"
   ]
  },
  {
   "cell_type": "code",
   "execution_count": null,
   "metadata": {},
   "outputs": [],
   "source": [
    "# Let's look in the filtered table at the the first column with missing data\n",
    "data.isna().sum()"
   ]
  },
  {
   "cell_type": "markdown",
   "metadata": {},
   "source": [
    "**Conclusion.**\n",
    "\n",
    "Our data has 51525 rows and 13 columns total. Presented data in columns - 6 numeric and 7 objects type. We have missing values in 5 columns - `model_year`, `cylinders`, `odometer`, `paint_color`, `is_4wd`.\n",
    "\n",
    "Two columns have a problems with type:\n",
    "- `date_posted` contains str objects that can be converted to a datetime objects;\n",
    "- `is_4wd` needs to be boolean and not to be **float64**.\n",
    "\n",
    "**Next step.** \n",
    "We need to print out a few rows of our data to see how the data is presented and what problems there might be."
   ]
  },
  {
   "cell_type": "code",
   "execution_count": null,
   "metadata": {},
   "outputs": [],
   "source": [
    "# print a sample of data\n",
    "\n",
    "data.head(10)"
   ]
  },
  {
   "cell_type": "code",
   "execution_count": null,
   "metadata": {},
   "outputs": [],
   "source": [
    "data.duplicated().sum()"
   ]
  },
  {
   "cell_type": "markdown",
   "metadata": {},
   "source": [
    "On first review we don't have duplicate ads\n",
    "\n",
    "**We have some problems with data:**\n",
    "1. `model_year` have a missing values and type float64;\n",
    "2. `cylinders`, `odometer` have a missing values;\n",
    "3. `type` have some values are uppercase, some are lowercase;\n",
    "4. `paint_color` have a missing values;\n",
    "5. `is_4wd` column must be a boolean but represented as a float64;\n",
    "6. `date_posted` contains str objects that can be converted to a datetime objects."
   ]
  },
  {
   "cell_type": "markdown",
   "metadata": {},
   "source": [
    "### Conclusions and further steps\n",
    "\n",
    "After looking at the information about the data frame and the first few lines, and identifying the problems, we can take the first steps to fix some of the problems:\n",
    "\n",
    "- `date_posted` column contains str objects that can be converted to datetime objects;\n",
    "- `type` replace all with lowercase for ease of operation;\n",
    "- `paint_color` all missing colors replace to `unknown`;\n",
    "- Convert `model_year` column to integer\n",
    "\n",
    "Let's start with simple problems that don't require big changes."
   ]
  },
  {
   "cell_type": "markdown",
   "metadata": {},
   "source": [
    "# Data Preprocessing"
   ]
  },
  {
   "cell_type": "markdown",
   "metadata": {},
   "source": [
    "##  column `date_posted` "
   ]
  },
  {
   "cell_type": "markdown",
   "metadata": {},
   "source": [
    "The `date_posted` column has an object type. We need to change to date/time type. For this we will use the pd.to_datetime() method. According to our data, the date is written in the format - **`%Y-%m-%d`**."
   ]
  },
  {
   "cell_type": "code",
   "execution_count": null,
   "metadata": {},
   "outputs": [],
   "source": [
    "# changes the data type in the date_posted column to datetime type\n",
    "data['date_posted'] = pd.to_datetime(data['date_posted'], format='%Y-%m-%d')\n",
    "data.info()"
   ]
  },
  {
   "cell_type": "markdown",
   "metadata": {},
   "source": [
    "Data type in column `date_posted` successfully changed to **datetime64**."
   ]
  },
  {
   "cell_type": "markdown",
   "metadata": {},
   "source": [
    "## column `type`"
   ]
  },
  {
   "cell_type": "markdown",
   "metadata": {},
   "source": [
    "The column `type` have some values are uppercase, some are lowercase. Check how many unique values this column has."
   ]
  },
  {
   "cell_type": "code",
   "execution_count": null,
   "metadata": {},
   "outputs": [],
   "source": [
    "# Let's see all values in type column to check\n",
    "data['type'].unique()"
   ]
  },
  {
   "cell_type": "code",
   "execution_count": null,
   "metadata": {},
   "outputs": [],
   "source": [
    "# Fix the registers\n",
    "data['type'] = data['type'].str.lower()\n",
    "\n",
    "# Checking all the values in the column to make sure we fixed them\n",
    "data['type'].value_counts()"
   ]
  },
  {
   "cell_type": "markdown",
   "metadata": {},
   "source": [
    "We fixed registers in the column `type` and now it look fine."
   ]
  },
  {
   "cell_type": "markdown",
   "metadata": {},
   "source": [
    "## column `is_4wd`"
   ]
  },
  {
   "cell_type": "markdown",
   "metadata": {},
   "source": [
    "The column `is_4wd` column must be a boolean but represented as a float64. Check how many unique values this column has."
   ]
  },
  {
   "cell_type": "code",
   "execution_count": null,
   "metadata": {},
   "outputs": [],
   "source": [
    "# Let's see all values in type column to check\n",
    "data['is_4wd'].unique()"
   ]
  },
  {
   "cell_type": "markdown",
   "metadata": {},
   "source": [
    "We have two uniques value - 1 and NaN. This column tells us whether the car is 4wd or not. \n",
    "We can assume that 1 is a boolean value field of True, it is reasonable to assume that missing values are False or Null. So we need to change all missing values to null and then convert our column to boolean type."
   ]
  },
  {
   "cell_type": "code",
   "execution_count": null,
   "metadata": {},
   "outputs": [],
   "source": [
    "# all missing values in the is_4wd column are changed to null\n",
    "data['is_4wd'] = data['is_4wd'].fillna(0)\n",
    "\n",
    "# changes the data type in the is_4wd column to boolean\n",
    "data['is_4wd'] = data['is_4wd'].astype('bool')"
   ]
  },
  {
   "cell_type": "code",
   "execution_count": null,
   "metadata": {},
   "outputs": [],
   "source": [
    "# check column after convert\n",
    "data['is_4wd'].value_counts()"
   ]
  },
  {
   "cell_type": "markdown",
   "metadata": {},
   "source": [
    "# Treat missing values\n",
    "\n",
    "Study missing values for each column in more details and decide what to do with them."
   ]
  },
  {
   "cell_type": "code",
   "execution_count": null,
   "metadata": {
    "scrolled": true
   },
   "outputs": [],
   "source": [
    "data.isna().sum()"
   ]
  },
  {
   "cell_type": "markdown",
   "metadata": {},
   "source": [
    "We see that data is missing in 4 columns - `model_year`, `cylinders`, `odometer`and `paint_color`. \n",
    "\n",
    "We have three columns, between which there is logical relationship -`model_year`, `cylinders` and `odometer`, we'll start with the one with the most value lost."
   ]
  },
  {
   "cell_type": "markdown",
   "metadata": {},
   "source": [
    "## column `model_year`"
   ]
  },
  {
   "cell_type": "markdown",
   "metadata": {},
   "source": [
    "Let's look at the column `model_year` first.  \n",
    "The year of a model can be determined by its `condition` and vehicle `model`. Since there are no missing values in these columns and based on them we can fill in the missing values in column `model_year`, then we will consider this filling first.\n",
    "Let us look at a description of the column."
   ]
  },
  {
   "cell_type": "code",
   "execution_count": null,
   "metadata": {},
   "outputs": [],
   "source": [
    "# check a unique description of the cylinders column\n",
    "data['model_year'].describe()"
   ]
  },
  {
   "cell_type": "markdown",
   "metadata": {},
   "source": [
    "We have a min value equal 1908 in this column, which looks strange. Let's check how much data there is with such a year and think about what to do with it."
   ]
  },
  {
   "cell_type": "code",
   "execution_count": null,
   "metadata": {},
   "outputs": [],
   "source": [
    "# check min values in column model_year\n",
    "data.query('model_year == 1908')"
   ]
  },
  {
   "cell_type": "markdown",
   "metadata": {},
   "source": [
    "Checking these models and their year tells us that this is a human error at the stage of filling in the data. The correct model year is 1998, which will be right and allow us to avoid outliers at the preprocessing stage."
   ]
  },
  {
   "cell_type": "code",
   "execution_count": null,
   "metadata": {},
   "outputs": [],
   "source": [
    "# fix the min value that it's not correct\n",
    "data['model_year'] = data['model_year'].replace(1908,1998)\n"
   ]
  },
  {
   "cell_type": "code",
   "execution_count": null,
   "metadata": {},
   "outputs": [],
   "source": [
    "# look at the missing rows\n",
    "data[data.model_year.isna()]"
   ]
  },
  {
   "cell_type": "markdown",
   "metadata": {},
   "source": [
    "We group the missing values by `model` and `condition` and return the median value for this data that we fill in column `model_year`."
   ]
  },
  {
   "cell_type": "code",
   "execution_count": null,
   "metadata": {
    "scrolled": true
   },
   "outputs": [],
   "source": [
    "# grouped values by car's condition and model and filling the missing values by median\n",
    "data['model_year'] = data['model_year'].fillna(data.groupby(['model', 'condition'])['model_year'].transform('median'))\n",
    "\n",
    "# check row with missing value in column after fix\n",
    "data.loc[72]"
   ]
  },
  {
   "cell_type": "code",
   "execution_count": null,
   "metadata": {},
   "outputs": [],
   "source": [
    "# check our data after fix\n",
    "data.model_year.isna().sum()"
   ]
  },
  {
   "cell_type": "markdown",
   "metadata": {},
   "source": [
    "## column `odometer`"
   ]
  },
  {
   "cell_type": "markdown",
   "metadata": {},
   "source": [
    "Odometer is an instrument for measuring the distance traveled by a vehicle, it's a numeracal value.  \n",
    "Let us look at a numerical description of the column"
   ]
  },
  {
   "cell_type": "code",
   "execution_count": null,
   "metadata": {},
   "outputs": [],
   "source": [
    "# check a numerical description of the odometer column\n",
    "data['odometer'].describe()"
   ]
  },
  {
   "cell_type": "code",
   "execution_count": null,
   "metadata": {},
   "outputs": [],
   "source": [
    "# look at the missing rows\n",
    "data[data.odometer.isna()]"
   ]
  },
  {
   "cell_type": "markdown",
   "metadata": {},
   "source": [
    "We see that we have a large standard deviation and a high maximum, so in this case it is better to use the median instead of the mean.  \n",
    "The odometer value depends on the model year and its condition, but we cannot replace the missing values with just the median, we must do this based on the median value based on the model year and condition of the car.\n",
    "We group the missing values by year and condition and return the median value for this data that we fill in column `odometer`."
   ]
  },
  {
   "cell_type": "code",
   "execution_count": null,
   "metadata": {},
   "outputs": [],
   "source": [
    "# grouped values by car's model_year and condition and filling the missing values by median\n",
    "data['odometer'] = data['odometer'].fillna(data.groupby(['model_year', 'condition'])['odometer'].transform('median'))\n",
    "\n",
    "# check row with missing value in column odometer after fix\n",
    "data.loc[25]"
   ]
  },
  {
   "cell_type": "code",
   "execution_count": null,
   "metadata": {
    "scrolled": true
   },
   "outputs": [],
   "source": [
    "# check our data after fix\n",
    "data['odometer'].describe()"
   ]
  },
  {
   "cell_type": "code",
   "execution_count": null,
   "metadata": {},
   "outputs": [],
   "source": [
    "# check our data after fix\n",
    "data.odometer.isna().sum()"
   ]
  },
  {
   "cell_type": "markdown",
   "metadata": {},
   "source": [
    "## column `cylinders`"
   ]
  },
  {
   "cell_type": "markdown",
   "metadata": {},
   "source": [
    "Let's look at the next column `cylinders`.  \n",
    "This column keeps values that tell us how many cylinders the car has, so the values are numeric too.   \n",
    "Let us look at a unique description of the column."
   ]
  },
  {
   "cell_type": "code",
   "execution_count": null,
   "metadata": {},
   "outputs": [],
   "source": [
    "# check a unique description of the cylinders column\n",
    "data['cylinders'].unique()"
   ]
  },
  {
   "cell_type": "code",
   "execution_count": null,
   "metadata": {},
   "outputs": [],
   "source": [
    "# look at the missing rows\n",
    "data[data.cylinders.isna()]"
   ]
  },
  {
   "cell_type": "markdown",
   "metadata": {},
   "source": [
    "We will replace the missing values in a similar way to the method we used in the `odometer` column.  \n",
    "But we have to keep in mind that the number of cylinders depends on the car model and year. We will group by `model` and use the median."
   ]
  },
  {
   "cell_type": "code",
   "execution_count": null,
   "metadata": {
    "scrolled": true
   },
   "outputs": [],
   "source": [
    "# grouped values by car's model_year and model and filling the missing values by median\n",
    "data['cylinders'] = data['cylinders'].fillna(data.groupby(['model'])['cylinders'].transform('median'))\n",
    "\n",
    "# check row with missing value in column cylinders after fix\n",
    "data.loc[59]"
   ]
  },
  {
   "cell_type": "code",
   "execution_count": null,
   "metadata": {},
   "outputs": [],
   "source": [
    "data.cylinders.isna().sum()"
   ]
  },
  {
   "cell_type": "markdown",
   "metadata": {},
   "source": [
    "**The `paint_color` column**  \n",
    "This column is categorical and we cannot replace these values. In this case, its NaN values will remain unchanged for now."
   ]
  },
  {
   "cell_type": "code",
   "execution_count": null,
   "metadata": {
    "scrolled": true
   },
   "outputs": [],
   "source": [
    "# check missing value in data after fix\n",
    "data.isna().sum()"
   ]
  },
  {
   "cell_type": "markdown",
   "metadata": {},
   "source": [
    "Our replacement by grouping columns by type worked very well and we can see that we have a small amount of lost data left.  \n",
    "\n",
    "Let's get to work and explore our data."
   ]
  },
  {
   "cell_type": "markdown",
   "metadata": {},
   "source": [
    "# Enrich data"
   ]
  },
  {
   "cell_type": "markdown",
   "metadata": {},
   "source": [
    "## Day of the week, month, and year the ad was placed"
   ]
  },
  {
   "cell_type": "markdown",
   "metadata": {},
   "source": [
    "In order to calculate the vehicle's age at the time of the advertisement was placed, we need to create three separate columns - year, month and day, which we must get from the `date_posted`. For this we use built-in commands."
   ]
  },
  {
   "cell_type": "code",
   "execution_count": null,
   "metadata": {},
   "outputs": [],
   "source": [
    "# Add datetime values for when the ad was placed\n",
    "\n",
    "data['ad_day'] = pd.to_datetime(data['date_posted']).dt.day\n",
    "data['ad_month'] = pd.to_datetime(data['date_posted']).dt.month\n",
    "data['ad_year'] = pd.to_datetime(data['date_posted']).dt.year\n",
    "data.head()"
   ]
  },
  {
   "cell_type": "markdown",
   "metadata": {},
   "source": [
    "## Inserting the age of the car"
   ]
  },
  {
   "cell_type": "markdown",
   "metadata": {},
   "source": [
    "Now we want to create a column `ad_posted_age` with the age of the car at the time of publication. This will simply subtract model_year from ad_year."
   ]
  },
  {
   "cell_type": "code",
   "execution_count": null,
   "metadata": {},
   "outputs": [],
   "source": [
    "# Add the vehicle's age when the ad was placed\n",
    "data['ad_posted_age'] = data['ad_year'] - data['model_year']\n",
    "\n",
    "data['ad_posted_age'].unique()"
   ]
  },
  {
   "cell_type": "code",
   "execution_count": null,
   "metadata": {},
   "outputs": [],
   "source": [
    "data['ad_posted_age'] = data['ad_posted_age'].apply( lambda x: np.ceil(x))\n",
    "data['ad_posted_age'].unique()"
   ]
  },
  {
   "cell_type": "markdown",
   "metadata": {},
   "source": [
    "We can assume that we may have zero values in the column in the case when the year of the model coincides with the year of the advertisement.  \n",
    "Let's check it out."
   ]
  },
  {
   "cell_type": "code",
   "execution_count": null,
   "metadata": {},
   "outputs": [],
   "source": [
    "# check zero values\n",
    "data.query('ad_posted_age == 0')"
   ]
  },
  {
   "cell_type": "markdown",
   "metadata": {},
   "source": [
    "Our guess was correct - 2156 rows have a zero values in column `ad_posted_age`. We need to change the zero values to one year, because in these situations we round up and assume that the car is already a year old."
   ]
  },
  {
   "cell_type": "code",
   "execution_count": null,
   "metadata": {},
   "outputs": [],
   "source": [
    "# fix the data based on our decision\n",
    "data['ad_posted_age'] = data['ad_posted_age'].replace(0,1)\n",
    "\n",
    "# check our column on zero values after fix\n",
    "data.query('ad_posted_age == 0')"
   ]
  },
  {
   "cell_type": "markdown",
   "metadata": {},
   "source": [
    "We have succesfully inserted and checked our `ad_posted_age` column."
   ]
  },
  {
   "cell_type": "markdown",
   "metadata": {},
   "source": [
    "## Average yearly mileage\n"
   ]
  },
  {
   "cell_type": "markdown",
   "metadata": {},
   "source": [
    "Now we want to add an `avg_miles` column that stores the average number of miles per year for each car. To do this, the odometer value must be divided by the age of the car."
   ]
  },
  {
   "cell_type": "code",
   "execution_count": null,
   "metadata": {},
   "outputs": [],
   "source": [
    "# Add the vehicle's average mileage per year\n",
    "data['avg_yearly_mileage'] = data['odometer'] / data['ad_posted_age']\n",
    "data.head() #check our data\n"
   ]
  },
  {
   "cell_type": "markdown",
   "metadata": {},
   "source": [
    "## Replace column `condition`"
   ]
  },
  {
   "cell_type": "markdown",
   "metadata": {},
   "source": [
    "In the `condition` column, replace string values with a numeric scale:\n",
    "- new = 5\n",
    "- like new = 4\n",
    "- excellent = 3\n",
    "- good = 2\n",
    "- fair = 1\n",
    "- salvage = 0"
   ]
  },
  {
   "cell_type": "code",
   "execution_count": null,
   "metadata": {},
   "outputs": [],
   "source": [
    "# check our unique data in condition  column\n",
    "data['condition'].unique()"
   ]
  },
  {
   "cell_type": "code",
   "execution_count": null,
   "metadata": {},
   "outputs": [],
   "source": [
    "# let's create dictionary with our values as a keys\n",
    "condition_dict={\n",
    "    'new':5,\n",
    "    'like new':4,\n",
    "    'excellent':3,\n",
    "    'good':2,\n",
    "    'fair':1,\n",
    "    'salvage':0\n",
    "}"
   ]
  },
  {
   "cell_type": "code",
   "execution_count": null,
   "metadata": {},
   "outputs": [],
   "source": [
    "# define a function that replace categories valueas to new column in numeric values with dictionary\n",
    "def replace_cond(x):\n",
    "    return condition_dict[x]\n",
    "\n",
    "data['cond_categ'] = data['condition'].apply(replace_cond)\n",
    "\n",
    "#check  our unique values in new column\n",
    "data['cond_categ'].unique()"
   ]
  },
  {
   "cell_type": "markdown",
   "metadata": {},
   "source": [
    "## Check clean data"
   ]
  },
  {
   "cell_type": "markdown",
   "metadata": {},
   "source": [
    "Look at our data after the pre-processing step.  \n",
    "We have added several columns for your future study, analysis and plotting and histograms - `ad_year`,             `ad_posted_age`, `avg_yearly_mileage`, `cond_categ`.      "
   ]
  },
  {
   "cell_type": "code",
   "execution_count": null,
   "metadata": {},
   "outputs": [],
   "source": [
    "# print the general/summary information about the DataFrame\n",
    "data.info()"
   ]
  },
  {
   "cell_type": "code",
   "execution_count": null,
   "metadata": {
    "scrolled": true
   },
   "outputs": [],
   "source": [
    "# print a sample of data\n",
    "data.head()"
   ]
  },
  {
   "cell_type": "code",
   "execution_count": null,
   "metadata": {},
   "outputs": [],
   "source": [
    "data.describe()"
   ]
  },
  {
   "cell_type": "markdown",
   "metadata": {},
   "source": [
    "# Study core parameters\n",
    "\n",
    "Study the following parameters:\n",
    "- Price\n",
    "- The vehicle's age when the ad was placed\n",
    "- Mileage\n",
    "- Number of cylinders\n",
    "- Condition\n",
    "\n",
    "We plot histograms for each of these parameters and study how outliers affect the form and readability of the histograms.\n"
   ]
  },
  {
   "cell_type": "code",
   "execution_count": null,
   "metadata": {},
   "outputs": [],
   "source": [
    "# import library for plots and histograms\n",
    "import seaborn as sns"
   ]
  },
  {
   "cell_type": "markdown",
   "metadata": {},
   "source": [
    "## Study core parameters without outliers"
   ]
  },
  {
   "cell_type": "code",
   "execution_count": null,
   "metadata": {},
   "outputs": [],
   "source": [
    "data['price'].describe()"
   ]
  },
  {
   "cell_type": "code",
   "execution_count": null,
   "metadata": {},
   "outputs": [],
   "source": [
    "#plots a histogram for the 'price' column with 20 bins and the x-axis ranging from 0 to 60000\n",
    "plt.title('Price')\n",
    "data['price'].hist(bins=20, range=(0, 60000))\n",
    "plt.show() #shows the above histogram\n",
    "print('The outliers are considered to be values below', np.percentile(data.price, 3), ' and above', np.percentile(data.price, 97))\n",
    "\n",
    "#plots a histogram for the 'ad_posted_age' column with 20 bins and the x-axis ranging from 0 to 40\n",
    "plt.title('The vehicle\\'s age when the ad was placed')\n",
    "data['ad_posted_age'].hist(bins=20, range=(0, 40))\n",
    "plt.show() #shows the above histogram\n",
    "\n",
    "#plots a histogram for the 'odometer' column with 20 bins and the x-axis ranging from 0 to 400000\n",
    "plt.title('Odometer')\n",
    "data['odometer'].hist(bins=20, range=(0, 400000))\n",
    "plt.show() #shows the above histogram\n",
    "\n",
    "#plots a histogram for the 'cylinders' column with 5 bins\n",
    "plt.title('Number of cylinders')\n",
    "data['cylinders'].hist(bins=5)\n",
    "plt.show() #shows the above histogram\n",
    "\n",
    "#plots a histogram for the 'cond_categ' column with 6 bins\n",
    "plt.title('Condition')\n",
    "data['cond_categ'].hist(bins=6)\n",
    "plt.show() #shows the above histogram\n"
   ]
  },
  {
   "cell_type": "markdown",
   "metadata": {},
   "source": [
    "Let's analyze what we see on the histograms and what happens to our data.\n",
    "- on the `price` histogram, the bins begin to zero out and form a wide bottom after 40,000, and the percentile shows us that 97% is 35,000;\n",
    "- on the `ad_posted_age` histogram, the same thing happens after 30 years;\n",
    "- on the `odometer` bar graph, we start to notice a tail after 270,000 km.\n",
    "- there are no outliers on the `cylinder` and `condition` histograms."
   ]
  },
  {
   "cell_type": "markdown",
   "metadata": {},
   "source": [
    "## Study and treat outliers\n",
    "\n",
    "Let's filter our date with these outputs and check - **`price more than 45000, ad_posted_age more than 30, odometer more 270000 km`** and see how the new date compares to the date without outliers."
   ]
  },
  {
   "cell_type": "code",
   "execution_count": null,
   "metadata": {},
   "outputs": [],
   "source": [
    "#creates a slice of data where the price is more than 45000, age is more than 30, and odometer is more than 270000\n",
    "outlier_data = data.query('price > 45000 & ad_posted_age > 30 & odometer > 270000')\n",
    "outlier_data.head()"
   ]
  },
  {
   "cell_type": "code",
   "execution_count": null,
   "metadata": {},
   "outputs": [],
   "source": [
    "filtered_data = data.query('price < 45000 & ad_posted_age < 30 & odometer < 270000')\n",
    "filtered_data.info() #general information about dataframe\n",
    "filtered_data.head()"
   ]
  },
  {
   "cell_type": "markdown",
   "metadata": {},
   "source": [
    "Now let's build histograms by the same parameters for two tables at the same time - full and filtered tables."
   ]
  },
  {
   "cell_type": "code",
   "execution_count": null,
   "metadata": {},
   "outputs": [],
   "source": [
    "plt.title('Price')\n",
    "data['price'].hist(bins=20, alpha=0.3, range=(0, 45000), label='with outliers')\n",
    "filtered_data['price'].hist(bins=20, alpha=0.3, range=(0, 45000), label='without outliers')\n",
    "plt.legend(loc='upper right')\n",
    "plt.show() #shows the above histogram\n",
    "\n",
    "plt.title('The vehicle\\'s age when the ad was placed')\n",
    "data['ad_posted_age'].hist(bins=20, alpha=0.3, range=(0, 40), label='with outliers')\n",
    "filtered_data['ad_posted_age'].hist(bins=20,alpha=0.3, range=(0, 40), label='without outliers')\n",
    "plt.legend(loc='upper right')\n",
    "plt.show()  #shows the above histogram\n",
    "\n",
    "plt.title('Odometer')\n",
    "data['odometer'].hist(bins=20, alpha=0.3, range=(0, 270000), label='with outliers')\n",
    "filtered_data['odometer'].hist(bins=20,alpha=0.3, range=(0, 270000), label='without outliers')\n",
    "plt.legend(loc='upper right')\n",
    "plt.show() #shows the above histogram\n",
    "\n",
    "plt.title('Number of cylinders')\n",
    "data['cylinders'].hist(bins=5, alpha=0.3, label='with outliers')\n",
    "filtered_data['cylinders'].hist(bins=5,alpha=0.3, label='without outliers')\n",
    "plt.legend(loc='upper right')\n",
    "plt.show() #shows the above histogram\n",
    "\n",
    "plt.title('Condition')\n",
    "data['cond_categ'].hist(bins=6, alpha=0.3, label='with outliers')\n",
    "filtered_data['cond_categ'].hist(bins=6,alpha=0.3, label='without outliers')\n",
    "plt.legend(loc='upper left')\n",
    "plt.show() #shows the above histogram"
   ]
  },
  {
   "cell_type": "markdown",
   "metadata": {},
   "source": [
    "**Conclusions** \n",
    "- `Venicle price` - a right skewed histogram, normal correlation with a peak in price of 5000-6000, then a uniform price decrease. Removing the outliers did not affect the histogram and did not change the main distribution.\n",
    "- `The vehicle's age when the ad was placed` - a right skewed histogram, normal correlation with a peak in 6-7 years, then a uniform decline values. Removing the outliers did not affect the histogram and did not change the main distribution.\n",
    "- `Odometer` - a central skewed histogram, normal correlation with a peak in 100-150k miles. Removing the outliers did not affect the histogram and did not change the main distribution.\n",
    "- `Numbers of cylinders` - Removing the outliers did not affect the histogram and did not change the main distribution.\n",
    "- `Condition` - most of the vehicles shown are in \"good\" or \"excellent\" condition. Removing the outliers did not affect the histogram and did not change the main distribution."
   ]
  },
  {
   "cell_type": "code",
   "execution_count": null,
   "metadata": {},
   "outputs": [],
   "source": [
    "# let's build a boxplot for column 'price' without outliers\n",
    "sns.boxplot(x=data['price'], showfliers = False)"
   ]
  },
  {
   "cell_type": "markdown",
   "metadata": {},
   "source": [
    "## Ads lifetime\n",
    "\n",
    "- Study how many days advertisements were displayed.  \n",
    "- Calculate the mean and median.  \n",
    "- Describe the typical lifetime of an ad.  \n",
    "- Determine when ads were removed quickly, and when they were listed for an abnormally long time."
   ]
  },
  {
   "cell_type": "code",
   "execution_count": null,
   "metadata": {},
   "outputs": [],
   "source": [
    "def distr_percentile(parameter):\n",
    "    \n",
    "    ninety_seven = np.percentile(filtered_data[parameter], 97)\n",
    "    three = np.percentile(filtered_data[parameter], 3)\n",
    "    print('Statistics on: {}'.format(parameter))\n",
    "    print('---------------------------------------')\n",
    "    print('lower outliers border:',three)\n",
    "    print('max outliers border:',ninety_seven)\n",
    "    print('---------------------------------------')\n",
    "    print('The outliers are considered to be values below',three, \"and above\",ninety_seven)\n",
    "    print('We have',len(filtered_data[(filtered_data[parameter]<three)|(filtered_data[parameter]>ninety_seven)]),\"values that we can consider outliers\")"
   ]
  },
  {
   "cell_type": "code",
   "execution_count": null,
   "metadata": {},
   "outputs": [],
   "source": [
    "filtered_data['days_listed'].describe()"
   ]
  },
  {
   "cell_type": "markdown",
   "metadata": {},
   "source": [
    "Accordingly this information in `days_listed` the mean is about 39 days and the median is 33."
   ]
  },
  {
   "cell_type": "code",
   "execution_count": null,
   "metadata": {},
   "outputs": [],
   "source": [
    "# plots a histogram for the 'days_listed' column with 20 bins and the x-axis ranging from 0 to 200\n",
    "\n",
    "plt.title('Ads lifetime')\n",
    "filtered_data['days_listed'].hist(bins=20, range=(0, 200))\n",
    "plt.show()\n",
    "print(distr_percentile('days_listed'))"
   ]
  },
  {
   "cell_type": "code",
   "execution_count": null,
   "metadata": {},
   "outputs": [],
   "source": [
    "# Determine the lower limits for outliers\n",
    "ad_outlier_data = filtered_data.query('days_listed < 5')\n",
    " \n",
    "plt.title('Ads outlier lifetime less then 4 days')\n",
    "ad_outlier_data['days_listed'].hist(bins=5, range=(0, 5)) \n",
    "plt.show()\n",
    "\n",
    "# Determine the upper limits for outliers\n",
    "ad_outlier_data_max = filtered_data.query('days_listed > 105')\n",
    " \n",
    "plt.title('Ads outlier lifetime more then 105 days')\n",
    "ad_outlier_data_max['days_listed'].hist(bins=7, range=(105, 270)) \n",
    "plt.show()"
   ]
  },
  {
   "cell_type": "markdown",
   "metadata": {},
   "source": [
    "We will make the assumption that cars in excellent condition and at a lower price are bought faster and therefore they are in the data for a short time. Let's take a look and compare with cars whose ads are more than 105 days old."
   ]
  },
  {
   "cell_type": "code",
   "execution_count": null,
   "metadata": {},
   "outputs": [],
   "source": [
    "print('Type and conditions of the venicles that sold in less then 5 days:')\n",
    "type_car_short_ad=ad_outlier_data.groupby(['type', 'cond_categ'])['price'].agg(['count','mean']).reset_index().sort_values(by='count',ascending=False)\n",
    "print(type_car_short_ad.iloc[:3])\n",
    "print('---------------------------------')\n",
    "print('')\n",
    "print('Type and conditions of the venicles that sold in more then 105 days:')\n",
    "type_car_long_ad=ad_outlier_data_max.groupby(['type', 'cond_categ'])['price'].agg(['count','mean']).reset_index().sort_values(by='count',ascending=False)\n",
    "print(type_car_long_ad.iloc[:3])"
   ]
  },
  {
   "cell_type": "markdown",
   "metadata": {},
   "source": [
    "Our assumption was not confirmed. There is no pattern and the top three top of ads of these periods are exactly the same."
   ]
  },
  {
   "cell_type": "markdown",
   "metadata": {},
   "source": [
    "Let's look at the average value for the columns - `'price', 'model_year', 'odometer', 'cond_categ'`, as well as the average value of the immediate for the data that is included in the lower and upper of the outliers.  \n",
    "To do this, we define a function that takes our rows as a parameter and calculates the average value in the filtered dataframe."
   ]
  },
  {
   "cell_type": "code",
   "execution_count": null,
   "metadata": {},
   "outputs": [],
   "source": [
    "# function that takes our rows as a parameter and calculates the average value in the filtered dataframe\n",
    "def lifetime_ads(parameter):\n",
    "    print(f'Average: {parameter}')\n",
    "    print('---------------------------------------------------') \n",
    "    print(f'for all venicles: {int(filtered_data[parameter].mean())}')\n",
    "    print(f'for venicles that sold in less then 5 days: {int(ad_outlier_data[parameter].mean())}')\n",
    "    print(f'for venicles that sold in more then 105 days: {int(ad_outlier_data_max[parameter].mean())}')\n",
    "    print('---------------------------------------------------')\n",
    "    print(' ')\n"
   ]
  },
  {
   "cell_type": "code",
   "execution_count": null,
   "metadata": {},
   "outputs": [],
   "source": [
    "# send rows to function lifetime_ads\n",
    "for parameter in ['price', 'model_year', 'odometer', 'cond_categ']:\n",
    "    lifetime_ads(parameter)"
   ]
  },
  {
   "cell_type": "code",
   "execution_count": null,
   "metadata": {},
   "outputs": [],
   "source": [
    "# describe the typical lifetime of an ad, let's make a boxplot\n",
    "filtered_data.boxplot(column='days_listed', figsize=(8,8))\n",
    "plt.show()"
   ]
  },
  {
   "cell_type": "markdown",
   "metadata": {},
   "source": [
    "**Conclusions**\n",
    "- The typical lifetime of an ad placement is between 19 and 53 days;\n",
    "- Ads that are in the database for more than 105 days are considered abnormal;\n",
    "- Ads that were posted less than 19 days consider that the car was sold in a short time."
   ]
  },
  {
   "cell_type": "code",
   "execution_count": null,
   "metadata": {},
   "outputs": [],
   "source": [
    "# gets final filtered data with our conclusions before\n",
    "filtered_data_fin = filtered_data.query('days_listed > 5 & days_listed < 105')"
   ]
  },
  {
   "cell_type": "code",
   "execution_count": null,
   "metadata": {},
   "outputs": [],
   "source": [
    "# plots a histogram for the 'days_listed' column without outliers\n",
    "plt.title('Ads lifetime without outliers')\n",
    "filtered_data_fin['days_listed'].hist(bins=20, range=(0, 100))\n",
    "plt.show()"
   ]
  },
  {
   "cell_type": "markdown",
   "metadata": {},
   "source": [
    "## Average price per each type of vehicle"
   ]
  },
  {
   "cell_type": "markdown",
   "metadata": {},
   "source": [
    "We analyze the number of ads and the average price for each type of vehicle.  "
   ]
  },
  {
   "cell_type": "code",
   "execution_count": null,
   "metadata": {},
   "outputs": [],
   "source": [
    "type_car_ad=filtered_data_fin.groupby(['type'])['price'].agg(['count','mean']).reset_index().sort_values(by='count',ascending=False)\n",
    "type_car_ad"
   ]
  },
  {
   "cell_type": "code",
   "execution_count": null,
   "metadata": {
    "scrolled": true
   },
   "outputs": [],
   "source": [
    "#Plot a graph showing the dependence of the number of ads on the vehicle type\n",
    "plt.figure(figsize=(12,5))\n",
    "sns.barplot(x=\"type\", y=\"count\", data=type_car_ad)"
   ]
  },
  {
   "cell_type": "markdown",
   "metadata": {},
   "source": [
    "Two types with the greatest number of ads - **`suv`** and **`sedan`**."
   ]
  },
  {
   "cell_type": "markdown",
   "metadata": {},
   "source": [
    "# Price factors"
   ]
  },
  {
   "cell_type": "markdown",
   "metadata": {},
   "source": [
    "## Scatterplot for `suv`"
   ]
  },
  {
   "cell_type": "markdown",
   "metadata": {},
   "source": [
    "Now we will study how the price depends on the age, mileage, condition, type of transmission and color of the car in these categories.  \n",
    "\n",
    "Let's make a cut according to the type of **`suv`**."
   ]
  },
  {
   "cell_type": "code",
   "execution_count": null,
   "metadata": {},
   "outputs": [],
   "source": [
    "#creates a slice of rows where the type is SUV\n",
    "suv = filtered_data_fin[filtered_data_fin['type'] == 'suv']\n",
    "#reset the index after slicing\n",
    "suv= suv.reset_index(drop=True)\n",
    "suv"
   ]
  },
  {
   "cell_type": "code",
   "execution_count": null,
   "metadata": {},
   "outputs": [],
   "source": [
    "# price depends on age, mileage, condition, transmission type, and color.\n",
    "for_scatter=suv[['price','ad_posted_age','avg_yearly_mileage','cond_categ', 'transmission', 'paint_color']]\n",
    "for_scatter"
   ]
  },
  {
   "cell_type": "markdown",
   "metadata": {},
   "source": [
    "We use of correlation matrix and correlation plots for study depends."
   ]
  },
  {
   "cell_type": "code",
   "execution_count": null,
   "metadata": {},
   "outputs": [],
   "source": [
    "sns.pairplot(for_scatter) "
   ]
  },
  {
   "cell_type": "code",
   "execution_count": null,
   "metadata": {},
   "outputs": [],
   "source": [
    "# correlation matrix\n",
    "for_scatter.corr()"
   ]
  },
  {
   "cell_type": "markdown",
   "metadata": {},
   "source": [
    "For categorical variables (transmission type and color), we plot a box-and-whisker charts, and create scatterplots for the rest. When analyzing categorical variables, note that the categories must have at least 50 ads; otherwise, their parameters won't be valid for analysis."
   ]
  },
  {
   "cell_type": "code",
   "execution_count": null,
   "metadata": {},
   "outputs": [],
   "source": [
    "# Making sure that it has more than 50 listings\n",
    "suv['transmission'].value_counts()"
   ]
  },
  {
   "cell_type": "code",
   "execution_count": null,
   "metadata": {},
   "outputs": [],
   "source": [
    "plt.figure(figsize=(10,6))\n",
    "ax=sns.boxplot(x=\"transmission\", y=\"price\", data=suv, showfliers = False)"
   ]
  },
  {
   "cell_type": "code",
   "execution_count": null,
   "metadata": {},
   "outputs": [],
   "source": [
    "# Making sure that it has more than 50 listings\n",
    "print(suv['paint_color'].value_counts())\n",
    "\n",
    "# remove two colors from our data because there are less than 50 \n",
    "suv_color = suv.query('paint_color not in(\"yellow\", \"purple\")')"
   ]
  },
  {
   "cell_type": "code",
   "execution_count": null,
   "metadata": {},
   "outputs": [],
   "source": [
    "plt.figure(figsize=(12,6))\n",
    "ax=sns.boxplot(x=\"paint_color\", y=\"price\", data=suv_color, showfliers = False)"
   ]
  },
  {
   "cell_type": "markdown",
   "metadata": {},
   "source": [
    "**Conclusions**  \n",
    "\n",
    "Based on the correlation matrix and histograms, we can say:\n",
    "- the age of the SUV is a factor that affects the price of the car. No correlation was found between price and condition or average mileage;\n",
    "- SUVs with manual transmission had higher typical prices than SUV's with automatic transmission;\n",
    "- the most numerous were advertisements for the sale of cars in black, white and silver.\n",
    "- the price of black cars was higher than other colors, white cars were in second place. We see that the prices of orange cars are the highest, but due to the small number (only 79) we cannot tell about the trend."
   ]
  },
  {
   "cell_type": "markdown",
   "metadata": {},
   "source": [
    "## Scatterplot for `sedan`"
   ]
  },
  {
   "cell_type": "markdown",
   "metadata": {},
   "source": [
    "Now we will study how the price depends on the age, mileage, condition, type of transmission and color of the car in these categories.\n",
    "\n",
    "Let's make a cut according to the type of `sedan`."
   ]
  },
  {
   "cell_type": "code",
   "execution_count": null,
   "metadata": {},
   "outputs": [],
   "source": [
    "#creates a slice of rows where the type is SUV\n",
    "sedan = filtered_data_fin[filtered_data_fin['type'] == 'sedan']\n",
    "#reset the index after slicing\n",
    "sedan= sedan.reset_index(drop=True)\n",
    "\n",
    "sedan"
   ]
  },
  {
   "cell_type": "code",
   "execution_count": null,
   "metadata": {},
   "outputs": [],
   "source": [
    "# price depends on age, mileage, condition, transmission type, and color.\n",
    "for_scatter_sd=sedan[['price','ad_posted_age','avg_yearly_mileage','cond_categ', 'transmission', 'paint_color']]\n",
    "for_scatter_sd"
   ]
  },
  {
   "cell_type": "code",
   "execution_count": null,
   "metadata": {},
   "outputs": [],
   "source": [
    "sns.pairplot(for_scatter_sd) "
   ]
  },
  {
   "cell_type": "code",
   "execution_count": null,
   "metadata": {},
   "outputs": [],
   "source": [
    "# correlation matrix\n",
    "for_scatter_sd.corr()"
   ]
  },
  {
   "cell_type": "code",
   "execution_count": null,
   "metadata": {},
   "outputs": [],
   "source": [
    "# Making sure that it has more than 50 listings\n",
    "sedan['transmission'].value_counts()"
   ]
  },
  {
   "cell_type": "code",
   "execution_count": null,
   "metadata": {},
   "outputs": [],
   "source": [
    "plt.figure(figsize=(10,6))\n",
    "ax=sns.boxplot(x=\"transmission\", y=\"price\", data=sedan, showfliers = False)"
   ]
  },
  {
   "cell_type": "code",
   "execution_count": null,
   "metadata": {},
   "outputs": [],
   "source": [
    "##Making sure that it has more than 50 listings\n",
    "print(sedan['paint_color'].value_counts())\n",
    "\n",
    "# remove two colors from our data because there are less than 50 \n",
    "sedan_color = sedan.query('paint_color not in(\"yellow\", \"purple\", \"orange\")')"
   ]
  },
  {
   "cell_type": "code",
   "execution_count": null,
   "metadata": {},
   "outputs": [],
   "source": [
    "plt.figure(figsize=(12,6))\n",
    "ax=sns.boxplot(x=\"paint_color\", y=\"price\", data=sedan_color, showfliers = False)"
   ]
  },
  {
   "cell_type": "markdown",
   "metadata": {},
   "source": [
    "**Conclusions**  \n",
    "\n",
    "Based on the correlation matrix and histograms, we can say:\n",
    "- the age of the `sedan` is a factor that affects the price of the car. No correlation was found between price and condition or average mileage;\n",
    "- Sedan's with automatic transmission had higher typical prices than sedan's with others transmission;\n",
    "- the most numerous were advertisements for the sale of cars in silver, black, white and grey colors.\n",
    "- the price of cars in black and white colors was higher than other colors."
   ]
  },
  {
   "cell_type": "markdown",
   "metadata": {},
   "source": [
    "# General conclusion\n",
    "\n",
    "- We filtered the data, replaced the missing values and, based on this, built histograms, graphs, correlation matrices for the study.\n",
    "- We have added new columns - the age of the car at the time of advertising, the average mileage and made a new classification.\n",
    "- We have seen that the typical lifetime of advertisements is between 19 and 53 days, and those that last more than 105 days we can consider as anomalously long.\n",
    "- For short ads, which were only 5 days old, we made an assumption that these were cars in excellent condition for a lower price and they quickly sold out, but this was not confirmed.\n",
    "- The factor that most influences the price is the age of the car. Pearson correlation coefficient for SUVs - 0.58, for sedans - 0.61.\n",
    "- The three most popular type featured in ads are SUVs, sedans and trucks - 11380, 11264 and 11055.\n",
    "- For SUVs, cars in black color and manual transmission cars were more expensive.\n",
    "- For sedans, black and white cars were almost equally expensive, with silver being the most popular color - 1880. Cars with an automatic transmission were listed as more expensive than a manual transmission."
   ]
  }
 ],
 "metadata": {
  "ExecuteTimeLog": [
   {
    "duration": 828,
    "start_time": "2021-11-16T09:21:11.304Z"
   },
   {
    "duration": 893,
    "start_time": "2021-11-16T09:21:17.728Z"
   },
   {
    "duration": 1150,
    "start_time": "2021-11-16T09:21:29.568Z"
   },
   {
    "duration": 3,
    "start_time": "2021-11-16T09:24:14.495Z"
   },
   {
    "duration": 120,
    "start_time": "2021-11-16T09:24:46.630Z"
   },
   {
    "duration": 3,
    "start_time": "2021-11-16T09:28:27.882Z"
   },
   {
    "duration": 4,
    "start_time": "2021-11-16T09:29:54.281Z"
   },
   {
    "duration": 3,
    "start_time": "2021-11-16T09:30:45.936Z"
   },
   {
    "duration": 4,
    "start_time": "2021-11-16T09:31:06.300Z"
   },
   {
    "duration": 113,
    "start_time": "2021-11-16T09:31:37.208Z"
   },
   {
    "duration": 143,
    "start_time": "2021-11-16T09:31:48.656Z"
   },
   {
    "duration": 98,
    "start_time": "2021-11-16T09:31:55.678Z"
   },
   {
    "duration": 3,
    "start_time": "2021-11-16T09:32:08.535Z"
   },
   {
    "duration": 111,
    "start_time": "2021-11-16T09:32:10.120Z"
   },
   {
    "duration": 3,
    "start_time": "2021-11-16T09:32:15.732Z"
   },
   {
    "duration": 4,
    "start_time": "2021-11-16T09:32:29.423Z"
   },
   {
    "duration": 3,
    "start_time": "2021-11-16T10:03:03.074Z"
   },
   {
    "duration": 3,
    "start_time": "2021-11-16T10:10:01.288Z"
   },
   {
    "duration": 3,
    "start_time": "2021-11-16T10:10:46.923Z"
   },
   {
    "duration": 121,
    "start_time": "2021-11-16T10:37:46.494Z"
   },
   {
    "duration": 125,
    "start_time": "2021-11-16T10:38:20.632Z"
   },
   {
    "duration": 112,
    "start_time": "2021-11-16T10:46:53.001Z"
   },
   {
    "duration": 110,
    "start_time": "2021-11-16T10:48:25.775Z"
   },
   {
    "duration": 3,
    "start_time": "2021-11-16T10:50:18.720Z"
   },
   {
    "duration": 4,
    "start_time": "2021-11-16T10:50:37.649Z"
   },
   {
    "duration": 2,
    "start_time": "2021-11-16T10:50:51.884Z"
   },
   {
    "duration": 3,
    "start_time": "2021-11-16T10:51:56.237Z"
   },
   {
    "duration": 101,
    "start_time": "2021-11-16T10:53:13.791Z"
   },
   {
    "duration": 3,
    "start_time": "2021-11-16T10:55:59.186Z"
   },
   {
    "duration": 3,
    "start_time": "2021-11-16T10:56:10.751Z"
   },
   {
    "duration": 3,
    "start_time": "2021-11-16T10:56:49.038Z"
   },
   {
    "duration": 3,
    "start_time": "2021-11-16T10:56:49.174Z"
   },
   {
    "duration": 4,
    "start_time": "2021-11-16T10:56:49.414Z"
   },
   {
    "duration": 3,
    "start_time": "2021-11-16T10:56:49.680Z"
   },
   {
    "duration": 3,
    "start_time": "2021-11-16T10:56:50.370Z"
   },
   {
    "duration": 114,
    "start_time": "2021-11-16T10:59:34.518Z"
   },
   {
    "duration": 3,
    "start_time": "2021-11-16T11:01:41.201Z"
   },
   {
    "duration": 116,
    "start_time": "2021-11-16T11:01:48.754Z"
   },
   {
    "duration": 3,
    "start_time": "2021-11-16T11:02:16.685Z"
   },
   {
    "duration": 3,
    "start_time": "2021-11-16T11:02:19.479Z"
   },
   {
    "duration": 3,
    "start_time": "2021-11-16T11:02:47.067Z"
   },
   {
    "duration": 3,
    "start_time": "2021-11-16T11:02:49.353Z"
   },
   {
    "duration": 3,
    "start_time": "2021-11-16T11:03:07.835Z"
   },
   {
    "duration": 3,
    "start_time": "2021-11-16T11:03:07.953Z"
   },
   {
    "duration": 112,
    "start_time": "2021-11-16T11:07:52.072Z"
   },
   {
    "duration": 187,
    "start_time": "2021-11-16T11:09:23.468Z"
   },
   {
    "duration": 4,
    "start_time": "2021-11-16T11:10:01.455Z"
   },
   {
    "duration": 3,
    "start_time": "2021-11-16T11:10:05.069Z"
   },
   {
    "duration": 4,
    "start_time": "2021-11-16T11:10:13.376Z"
   },
   {
    "duration": 3,
    "start_time": "2021-11-16T11:10:14.434Z"
   },
   {
    "duration": 3,
    "start_time": "2021-11-16T11:10:22.853Z"
   },
   {
    "duration": 4,
    "start_time": "2021-11-16T11:27:29.279Z"
   },
   {
    "duration": 4,
    "start_time": "2021-11-16T11:29:08.919Z"
   },
   {
    "duration": 118,
    "start_time": "2021-11-16T11:29:46.703Z"
   },
   {
    "duration": 437,
    "start_time": "2021-11-16T11:36:02.181Z"
   },
   {
    "duration": 157,
    "start_time": "2021-11-16T11:36:14.388Z"
   },
   {
    "duration": 207,
    "start_time": "2021-11-16T11:47:15.898Z"
   },
   {
    "duration": 3,
    "start_time": "2021-11-16T11:53:52.092Z"
   },
   {
    "duration": 3,
    "start_time": "2021-11-16T11:53:52.236Z"
   },
   {
    "duration": 3,
    "start_time": "2021-11-16T11:59:12.005Z"
   },
   {
    "duration": 112,
    "start_time": "2021-11-16T12:00:33.446Z"
   },
   {
    "duration": 3,
    "start_time": "2021-11-16T12:02:14.453Z"
   },
   {
    "duration": 3,
    "start_time": "2021-11-16T12:02:39.512Z"
   },
   {
    "duration": 106,
    "start_time": "2021-11-16T12:03:03.460Z"
   },
   {
    "duration": 44,
    "start_time": "2022-08-09T11:10:14.171Z"
   },
   {
    "duration": 8,
    "start_time": "2022-08-09T11:10:22.780Z"
   },
   {
    "duration": 727,
    "start_time": "2022-08-09T11:10:44.014Z"
   },
   {
    "duration": 181,
    "start_time": "2022-08-09T11:10:44.743Z"
   },
   {
    "duration": 23,
    "start_time": "2022-08-09T11:10:44.925Z"
   },
   {
    "duration": 2,
    "start_time": "2022-08-09T11:10:44.950Z"
   },
   {
    "duration": 5,
    "start_time": "2022-08-09T11:10:44.953Z"
   },
   {
    "duration": 8,
    "start_time": "2022-08-09T11:10:44.959Z"
   },
   {
    "duration": 11,
    "start_time": "2022-08-09T11:10:44.968Z"
   },
   {
    "duration": 6,
    "start_time": "2022-08-09T11:10:44.981Z"
   },
   {
    "duration": 8,
    "start_time": "2022-08-09T11:10:44.988Z"
   },
   {
    "duration": 8,
    "start_time": "2022-08-09T11:10:44.998Z"
   },
   {
    "duration": 37,
    "start_time": "2022-08-09T11:10:45.007Z"
   },
   {
    "duration": 27,
    "start_time": "2022-08-09T11:10:45.046Z"
   },
   {
    "duration": 34,
    "start_time": "2022-08-09T11:10:45.074Z"
   },
   {
    "duration": 10,
    "start_time": "2022-08-09T11:10:45.110Z"
   },
   {
    "duration": 18,
    "start_time": "2022-08-09T11:10:45.121Z"
   },
   {
    "duration": 15,
    "start_time": "2022-08-09T11:10:45.140Z"
   },
   {
    "duration": 21,
    "start_time": "2022-08-09T11:10:45.157Z"
   },
   {
    "duration": 20,
    "start_time": "2022-08-09T11:10:45.180Z"
   },
   {
    "duration": 15,
    "start_time": "2022-08-09T11:10:45.202Z"
   },
   {
    "duration": 62,
    "start_time": "2022-08-09T11:11:29.787Z"
   },
   {
    "duration": 18,
    "start_time": "2022-08-09T11:13:00.965Z"
   },
   {
    "duration": 32,
    "start_time": "2022-08-09T12:32:09.795Z"
   },
   {
    "duration": 38,
    "start_time": "2022-08-09T12:32:17.421Z"
   },
   {
    "duration": 30,
    "start_time": "2022-08-09T12:36:14.698Z"
   },
   {
    "duration": 52,
    "start_time": "2022-08-09T15:10:53.023Z"
   },
   {
    "duration": 1011,
    "start_time": "2022-08-09T15:10:59.805Z"
   },
   {
    "duration": 527,
    "start_time": "2022-08-09T15:11:00.818Z"
   },
   {
    "duration": 29,
    "start_time": "2022-08-09T15:11:01.347Z"
   },
   {
    "duration": 25,
    "start_time": "2022-08-09T15:11:01.378Z"
   },
   {
    "duration": 73,
    "start_time": "2022-08-09T15:11:01.404Z"
   },
   {
    "duration": 2,
    "start_time": "2022-08-09T15:11:01.479Z"
   },
   {
    "duration": 16,
    "start_time": "2022-08-09T15:11:01.483Z"
   },
   {
    "duration": 24,
    "start_time": "2022-08-09T15:11:01.500Z"
   },
   {
    "duration": 22,
    "start_time": "2022-08-09T15:11:01.526Z"
   },
   {
    "duration": 12,
    "start_time": "2022-08-09T15:11:01.550Z"
   },
   {
    "duration": 7,
    "start_time": "2022-08-09T15:11:01.564Z"
   },
   {
    "duration": 11,
    "start_time": "2022-08-09T15:11:01.572Z"
   },
   {
    "duration": 9,
    "start_time": "2022-08-09T15:11:01.585Z"
   },
   {
    "duration": 8,
    "start_time": "2022-08-09T15:11:01.596Z"
   },
   {
    "duration": 7,
    "start_time": "2022-08-09T15:11:01.606Z"
   },
   {
    "duration": 8,
    "start_time": "2022-08-09T15:11:01.614Z"
   },
   {
    "duration": 22,
    "start_time": "2022-08-09T15:11:01.623Z"
   },
   {
    "duration": 7,
    "start_time": "2022-08-09T15:11:01.646Z"
   },
   {
    "duration": 5,
    "start_time": "2022-08-09T15:11:01.655Z"
   },
   {
    "duration": 9,
    "start_time": "2022-08-09T15:11:01.661Z"
   },
   {
    "duration": 24,
    "start_time": "2022-08-09T15:44:42.015Z"
   },
   {
    "duration": 66,
    "start_time": "2022-08-09T15:51:09.274Z"
   },
   {
    "duration": 59,
    "start_time": "2022-08-09T16:08:48.108Z"
   },
   {
    "duration": 44,
    "start_time": "2022-08-09T16:09:22.994Z"
   },
   {
    "duration": 22,
    "start_time": "2022-08-09T16:09:29.290Z"
   },
   {
    "duration": 43,
    "start_time": "2022-08-09T16:34:40.068Z"
   },
   {
    "duration": 4,
    "start_time": "2022-08-09T16:34:49.399Z"
   },
   {
    "duration": 172,
    "start_time": "2022-08-09T16:34:49.405Z"
   },
   {
    "duration": 62,
    "start_time": "2022-08-09T16:34:49.579Z"
   },
   {
    "duration": 20,
    "start_time": "2022-08-09T16:34:49.643Z"
   },
   {
    "duration": 32,
    "start_time": "2022-08-09T16:34:49.665Z"
   },
   {
    "duration": 74,
    "start_time": "2022-08-09T16:34:49.698Z"
   },
   {
    "duration": 7,
    "start_time": "2022-08-09T16:34:49.774Z"
   },
   {
    "duration": 0,
    "start_time": "2022-08-09T16:34:49.783Z"
   },
   {
    "duration": 0,
    "start_time": "2022-08-09T16:34:49.784Z"
   },
   {
    "duration": 0,
    "start_time": "2022-08-09T16:34:49.786Z"
   },
   {
    "duration": 0,
    "start_time": "2022-08-09T16:34:49.787Z"
   },
   {
    "duration": 0,
    "start_time": "2022-08-09T16:34:49.788Z"
   },
   {
    "duration": 0,
    "start_time": "2022-08-09T16:34:49.789Z"
   },
   {
    "duration": 0,
    "start_time": "2022-08-09T16:34:49.790Z"
   },
   {
    "duration": 0,
    "start_time": "2022-08-09T16:34:49.791Z"
   },
   {
    "duration": 0,
    "start_time": "2022-08-09T16:34:49.792Z"
   },
   {
    "duration": 0,
    "start_time": "2022-08-09T16:34:49.793Z"
   },
   {
    "duration": 0,
    "start_time": "2022-08-09T16:34:49.794Z"
   },
   {
    "duration": 0,
    "start_time": "2022-08-09T16:34:49.795Z"
   },
   {
    "duration": 0,
    "start_time": "2022-08-09T16:34:49.796Z"
   },
   {
    "duration": 0,
    "start_time": "2022-08-09T16:34:49.797Z"
   },
   {
    "duration": 2,
    "start_time": "2022-08-09T16:34:49.822Z"
   },
   {
    "duration": 16,
    "start_time": "2022-08-09T16:35:32.563Z"
   },
   {
    "duration": 4,
    "start_time": "2022-08-09T16:35:58.444Z"
   },
   {
    "duration": 142,
    "start_time": "2022-08-09T16:35:58.450Z"
   },
   {
    "duration": 62,
    "start_time": "2022-08-09T16:35:58.594Z"
   },
   {
    "duration": 34,
    "start_time": "2022-08-09T16:35:58.658Z"
   },
   {
    "duration": 23,
    "start_time": "2022-08-09T16:35:58.695Z"
   },
   {
    "duration": 44,
    "start_time": "2022-08-09T16:35:58.720Z"
   },
   {
    "duration": 35,
    "start_time": "2022-08-09T16:35:58.765Z"
   },
   {
    "duration": 0,
    "start_time": "2022-08-09T16:35:58.802Z"
   },
   {
    "duration": 0,
    "start_time": "2022-08-09T16:35:58.803Z"
   },
   {
    "duration": 0,
    "start_time": "2022-08-09T16:35:58.805Z"
   },
   {
    "duration": 0,
    "start_time": "2022-08-09T16:35:58.806Z"
   },
   {
    "duration": 0,
    "start_time": "2022-08-09T16:35:58.808Z"
   },
   {
    "duration": 0,
    "start_time": "2022-08-09T16:35:58.809Z"
   },
   {
    "duration": 0,
    "start_time": "2022-08-09T16:35:58.810Z"
   },
   {
    "duration": 0,
    "start_time": "2022-08-09T16:35:58.811Z"
   },
   {
    "duration": 0,
    "start_time": "2022-08-09T16:35:58.812Z"
   },
   {
    "duration": 0,
    "start_time": "2022-08-09T16:35:58.814Z"
   },
   {
    "duration": 0,
    "start_time": "2022-08-09T16:35:58.815Z"
   },
   {
    "duration": 2,
    "start_time": "2022-08-09T16:35:58.818Z"
   },
   {
    "duration": 7,
    "start_time": "2022-08-09T16:35:58.822Z"
   },
   {
    "duration": 5,
    "start_time": "2022-08-09T16:35:58.831Z"
   },
   {
    "duration": 4,
    "start_time": "2022-08-09T16:35:58.837Z"
   },
   {
    "duration": 14,
    "start_time": "2022-08-09T16:36:13.132Z"
   },
   {
    "duration": 6,
    "start_time": "2022-08-09T16:36:32.296Z"
   },
   {
    "duration": 7,
    "start_time": "2022-08-09T16:37:39.525Z"
   },
   {
    "duration": 7,
    "start_time": "2022-08-09T16:38:13.350Z"
   },
   {
    "duration": 34,
    "start_time": "2022-08-09T16:44:23.534Z"
   },
   {
    "duration": 43,
    "start_time": "2022-08-09T16:44:56.087Z"
   },
   {
    "duration": 37,
    "start_time": "2022-08-09T16:45:05.879Z"
   },
   {
    "duration": 34,
    "start_time": "2022-08-09T16:47:29.108Z"
   },
   {
    "duration": 115,
    "start_time": "2022-08-09T16:50:11.850Z"
   },
   {
    "duration": 7,
    "start_time": "2022-08-09T16:51:49.565Z"
   },
   {
    "duration": 28,
    "start_time": "2022-08-09T17:01:34.336Z"
   },
   {
    "duration": 33,
    "start_time": "2022-08-09T17:44:46.499Z"
   },
   {
    "duration": 3,
    "start_time": "2022-08-09T17:45:04.126Z"
   },
   {
    "duration": 179,
    "start_time": "2022-08-09T17:45:04.132Z"
   },
   {
    "duration": 66,
    "start_time": "2022-08-09T17:45:04.313Z"
   },
   {
    "duration": 29,
    "start_time": "2022-08-09T17:45:04.381Z"
   },
   {
    "duration": 28,
    "start_time": "2022-08-09T17:45:04.412Z"
   },
   {
    "duration": 58,
    "start_time": "2022-08-09T17:45:04.442Z"
   },
   {
    "duration": 34,
    "start_time": "2022-08-09T17:45:04.501Z"
   },
   {
    "duration": 7,
    "start_time": "2022-08-09T17:45:04.540Z"
   },
   {
    "duration": 45,
    "start_time": "2022-08-09T17:45:04.548Z"
   },
   {
    "duration": 23,
    "start_time": "2022-08-09T17:45:04.594Z"
   },
   {
    "duration": 27,
    "start_time": "2022-08-09T17:45:04.619Z"
   },
   {
    "duration": 18,
    "start_time": "2022-08-09T17:45:04.648Z"
   },
   {
    "duration": 36,
    "start_time": "2022-08-09T17:45:04.667Z"
   },
   {
    "duration": 40,
    "start_time": "2022-08-09T17:45:04.706Z"
   },
   {
    "duration": 24,
    "start_time": "2022-08-09T17:45:04.748Z"
   },
   {
    "duration": 20,
    "start_time": "2022-08-09T17:45:04.774Z"
   },
   {
    "duration": 28,
    "start_time": "2022-08-09T17:45:04.796Z"
   },
   {
    "duration": 12,
    "start_time": "2022-08-09T17:45:04.826Z"
   },
   {
    "duration": 16,
    "start_time": "2022-08-09T17:45:04.840Z"
   },
   {
    "duration": 13,
    "start_time": "2022-08-09T17:45:04.858Z"
   },
   {
    "duration": 11,
    "start_time": "2022-08-09T17:45:04.873Z"
   },
   {
    "duration": 15,
    "start_time": "2022-08-09T17:45:04.886Z"
   },
   {
    "duration": 10,
    "start_time": "2022-08-09T17:45:04.903Z"
   },
   {
    "duration": 16,
    "start_time": "2022-08-09T17:45:04.915Z"
   },
   {
    "duration": 11,
    "start_time": "2022-08-09T17:46:09.726Z"
   },
   {
    "duration": 8,
    "start_time": "2022-08-09T17:46:32.481Z"
   },
   {
    "duration": 28,
    "start_time": "2022-08-09T17:47:55.611Z"
   },
   {
    "duration": 24,
    "start_time": "2022-08-09T17:48:17.004Z"
   },
   {
    "duration": 26,
    "start_time": "2022-08-09T17:48:27.324Z"
   },
   {
    "duration": 27,
    "start_time": "2022-08-09T17:49:08.204Z"
   },
   {
    "duration": 12,
    "start_time": "2022-08-09T17:51:50.512Z"
   },
   {
    "duration": 14,
    "start_time": "2022-08-09T17:52:05.881Z"
   },
   {
    "duration": 30,
    "start_time": "2022-08-09T18:07:26.492Z"
   },
   {
    "duration": 5,
    "start_time": "2022-08-09T18:08:12.116Z"
   },
   {
    "duration": 4,
    "start_time": "2022-08-09T18:10:22.373Z"
   },
   {
    "duration": 4,
    "start_time": "2022-08-09T18:11:32.537Z"
   },
   {
    "duration": 5,
    "start_time": "2022-08-09T18:11:34.410Z"
   },
   {
    "duration": 5,
    "start_time": "2022-08-09T18:12:26.193Z"
   },
   {
    "duration": 5,
    "start_time": "2022-08-09T18:12:28.426Z"
   },
   {
    "duration": 5,
    "start_time": "2022-08-09T18:13:17.170Z"
   },
   {
    "duration": 5,
    "start_time": "2022-08-09T18:22:00.729Z"
   },
   {
    "duration": 5,
    "start_time": "2022-08-09T18:22:42.273Z"
   },
   {
    "duration": 7,
    "start_time": "2022-08-09T18:23:02.859Z"
   },
   {
    "duration": 5,
    "start_time": "2022-08-09T18:23:18.557Z"
   },
   {
    "duration": 24,
    "start_time": "2022-08-09T18:30:43.831Z"
   },
   {
    "duration": 20,
    "start_time": "2022-08-09T18:31:10.889Z"
   },
   {
    "duration": 30,
    "start_time": "2022-08-09T18:43:55.993Z"
   },
   {
    "duration": 11,
    "start_time": "2022-08-09T18:46:52.398Z"
   },
   {
    "duration": 13,
    "start_time": "2022-08-09T18:47:23.574Z"
   },
   {
    "duration": 15,
    "start_time": "2022-08-09T18:50:54.927Z"
   },
   {
    "duration": 14,
    "start_time": "2022-08-09T18:51:00.565Z"
   },
   {
    "duration": 18,
    "start_time": "2022-08-09T18:52:21.968Z"
   },
   {
    "duration": 3,
    "start_time": "2022-08-09T18:52:35.723Z"
   },
   {
    "duration": 152,
    "start_time": "2022-08-09T18:52:35.728Z"
   },
   {
    "duration": 75,
    "start_time": "2022-08-09T18:52:35.883Z"
   },
   {
    "duration": 39,
    "start_time": "2022-08-09T18:52:35.959Z"
   },
   {
    "duration": 32,
    "start_time": "2022-08-09T18:52:36.002Z"
   },
   {
    "duration": 41,
    "start_time": "2022-08-09T18:52:36.036Z"
   },
   {
    "duration": 52,
    "start_time": "2022-08-09T18:52:36.079Z"
   },
   {
    "duration": 7,
    "start_time": "2022-08-09T18:52:36.133Z"
   },
   {
    "duration": 25,
    "start_time": "2022-08-09T18:52:36.142Z"
   },
   {
    "duration": 23,
    "start_time": "2022-08-09T18:52:36.169Z"
   },
   {
    "duration": 5,
    "start_time": "2022-08-09T18:52:36.195Z"
   },
   {
    "duration": 17,
    "start_time": "2022-08-09T18:52:36.203Z"
   },
   {
    "duration": 21,
    "start_time": "2022-08-09T18:52:36.222Z"
   },
   {
    "duration": 29,
    "start_time": "2022-08-09T18:52:36.245Z"
   },
   {
    "duration": 29,
    "start_time": "2022-08-09T18:52:36.276Z"
   },
   {
    "duration": 0,
    "start_time": "2022-08-09T18:52:36.308Z"
   },
   {
    "duration": 0,
    "start_time": "2022-08-09T18:52:36.309Z"
   },
   {
    "duration": 0,
    "start_time": "2022-08-09T18:52:36.310Z"
   },
   {
    "duration": 0,
    "start_time": "2022-08-09T18:52:36.312Z"
   },
   {
    "duration": 0,
    "start_time": "2022-08-09T18:52:36.314Z"
   },
   {
    "duration": 0,
    "start_time": "2022-08-09T18:52:36.315Z"
   },
   {
    "duration": 0,
    "start_time": "2022-08-09T18:52:36.316Z"
   },
   {
    "duration": 0,
    "start_time": "2022-08-09T18:52:36.317Z"
   },
   {
    "duration": 0,
    "start_time": "2022-08-09T18:52:36.318Z"
   },
   {
    "duration": 0,
    "start_time": "2022-08-09T18:52:36.320Z"
   },
   {
    "duration": 0,
    "start_time": "2022-08-09T18:52:36.320Z"
   },
   {
    "duration": 0,
    "start_time": "2022-08-09T18:52:36.322Z"
   },
   {
    "duration": 0,
    "start_time": "2022-08-09T18:52:36.323Z"
   },
   {
    "duration": 0,
    "start_time": "2022-08-09T18:52:36.324Z"
   },
   {
    "duration": 8,
    "start_time": "2022-08-09T18:54:50.432Z"
   },
   {
    "duration": 13,
    "start_time": "2022-08-09T18:56:13.383Z"
   },
   {
    "duration": 26,
    "start_time": "2022-08-09T18:59:12.993Z"
   },
   {
    "duration": 12,
    "start_time": "2022-08-09T19:20:35.594Z"
   },
   {
    "duration": 12,
    "start_time": "2022-08-09T19:21:30.121Z"
   },
   {
    "duration": 3,
    "start_time": "2022-08-09T19:21:38.844Z"
   },
   {
    "duration": 157,
    "start_time": "2022-08-09T19:21:38.849Z"
   },
   {
    "duration": 73,
    "start_time": "2022-08-09T19:21:39.008Z"
   },
   {
    "duration": 23,
    "start_time": "2022-08-09T19:21:39.091Z"
   },
   {
    "duration": 23,
    "start_time": "2022-08-09T19:21:39.116Z"
   },
   {
    "duration": 65,
    "start_time": "2022-08-09T19:21:39.141Z"
   },
   {
    "duration": 41,
    "start_time": "2022-08-09T19:21:39.209Z"
   },
   {
    "duration": 6,
    "start_time": "2022-08-09T19:21:39.252Z"
   },
   {
    "duration": 61,
    "start_time": "2022-08-09T19:21:39.261Z"
   },
   {
    "duration": 6,
    "start_time": "2022-08-09T19:21:39.325Z"
   },
   {
    "duration": 8,
    "start_time": "2022-08-09T19:21:39.333Z"
   },
   {
    "duration": 10,
    "start_time": "2022-08-09T19:21:39.343Z"
   },
   {
    "duration": 8,
    "start_time": "2022-08-09T19:21:39.355Z"
   },
   {
    "duration": 30,
    "start_time": "2022-08-09T19:21:39.393Z"
   },
   {
    "duration": 37,
    "start_time": "2022-08-09T19:21:39.425Z"
   },
   {
    "duration": 39,
    "start_time": "2022-08-09T19:21:39.464Z"
   },
   {
    "duration": 3,
    "start_time": "2022-08-09T19:21:39.506Z"
   },
   {
    "duration": 6,
    "start_time": "2022-08-09T19:21:39.510Z"
   },
   {
    "duration": 5,
    "start_time": "2022-08-09T19:21:39.517Z"
   },
   {
    "duration": 5,
    "start_time": "2022-08-09T19:21:39.523Z"
   },
   {
    "duration": 7,
    "start_time": "2022-08-09T19:21:39.530Z"
   },
   {
    "duration": 6,
    "start_time": "2022-08-09T19:21:39.539Z"
   },
   {
    "duration": 6,
    "start_time": "2022-08-09T19:21:39.547Z"
   },
   {
    "duration": 4,
    "start_time": "2022-08-09T19:21:39.555Z"
   },
   {
    "duration": 7,
    "start_time": "2022-08-09T19:21:39.561Z"
   },
   {
    "duration": 23,
    "start_time": "2022-08-09T19:21:39.570Z"
   },
   {
    "duration": 7,
    "start_time": "2022-08-09T19:21:39.595Z"
   },
   {
    "duration": 11,
    "start_time": "2022-08-09T19:21:39.605Z"
   },
   {
    "duration": 8,
    "start_time": "2022-08-09T19:21:39.617Z"
   },
   {
    "duration": 5,
    "start_time": "2022-08-09T19:21:39.627Z"
   },
   {
    "duration": 13,
    "start_time": "2022-08-09T19:23:18.776Z"
   },
   {
    "duration": 8,
    "start_time": "2022-08-09T19:24:28.355Z"
   },
   {
    "duration": 17,
    "start_time": "2022-08-09T19:31:07.648Z"
   },
   {
    "duration": 10,
    "start_time": "2022-08-09T19:31:35.747Z"
   },
   {
    "duration": 28,
    "start_time": "2022-08-09T19:31:52.174Z"
   },
   {
    "duration": 16,
    "start_time": "2022-08-09T19:32:08.253Z"
   },
   {
    "duration": 3,
    "start_time": "2022-08-09T19:33:33.649Z"
   },
   {
    "duration": 151,
    "start_time": "2022-08-09T19:33:33.654Z"
   },
   {
    "duration": 64,
    "start_time": "2022-08-09T19:33:33.807Z"
   },
   {
    "duration": 33,
    "start_time": "2022-08-09T19:33:33.873Z"
   },
   {
    "duration": 17,
    "start_time": "2022-08-09T19:33:33.909Z"
   },
   {
    "duration": 44,
    "start_time": "2022-08-09T19:33:33.928Z"
   },
   {
    "duration": 36,
    "start_time": "2022-08-09T19:33:33.991Z"
   },
   {
    "duration": 8,
    "start_time": "2022-08-09T19:33:34.029Z"
   },
   {
    "duration": 29,
    "start_time": "2022-08-09T19:33:34.039Z"
   },
   {
    "duration": 5,
    "start_time": "2022-08-09T19:33:34.091Z"
   },
   {
    "duration": 9,
    "start_time": "2022-08-09T19:33:34.099Z"
   },
   {
    "duration": 12,
    "start_time": "2022-08-09T19:33:34.110Z"
   },
   {
    "duration": 8,
    "start_time": "2022-08-09T19:33:34.123Z"
   },
   {
    "duration": 18,
    "start_time": "2022-08-09T19:33:34.133Z"
   },
   {
    "duration": 51,
    "start_time": "2022-08-09T19:33:34.153Z"
   },
   {
    "duration": 18,
    "start_time": "2022-08-09T19:33:34.205Z"
   },
   {
    "duration": 2,
    "start_time": "2022-08-09T19:33:34.224Z"
   },
   {
    "duration": 7,
    "start_time": "2022-08-09T19:33:34.228Z"
   },
   {
    "duration": 6,
    "start_time": "2022-08-09T19:33:34.236Z"
   },
   {
    "duration": 5,
    "start_time": "2022-08-09T19:33:34.244Z"
   },
   {
    "duration": 7,
    "start_time": "2022-08-09T19:33:34.250Z"
   },
   {
    "duration": 6,
    "start_time": "2022-08-09T19:33:34.259Z"
   },
   {
    "duration": 29,
    "start_time": "2022-08-09T19:33:34.267Z"
   },
   {
    "duration": 5,
    "start_time": "2022-08-09T19:33:34.298Z"
   },
   {
    "duration": 5,
    "start_time": "2022-08-09T19:33:34.304Z"
   },
   {
    "duration": 4,
    "start_time": "2022-08-09T19:33:34.311Z"
   },
   {
    "duration": 5,
    "start_time": "2022-08-09T19:33:34.317Z"
   },
   {
    "duration": 6,
    "start_time": "2022-08-09T19:33:34.324Z"
   },
   {
    "duration": 5,
    "start_time": "2022-08-09T19:33:34.333Z"
   },
   {
    "duration": 6,
    "start_time": "2022-08-09T19:33:34.340Z"
   },
   {
    "duration": 26,
    "start_time": "2022-08-09T19:36:26.764Z"
   },
   {
    "duration": 27,
    "start_time": "2022-08-09T19:36:37.488Z"
   },
   {
    "duration": 16,
    "start_time": "2022-08-09T19:38:03.249Z"
   },
   {
    "duration": 19,
    "start_time": "2022-08-09T19:39:15.837Z"
   },
   {
    "duration": 5,
    "start_time": "2022-08-09T19:40:07.023Z"
   },
   {
    "duration": 6,
    "start_time": "2022-08-09T19:40:15.317Z"
   },
   {
    "duration": 28,
    "start_time": "2022-08-09T19:40:43.916Z"
   },
   {
    "duration": 30,
    "start_time": "2022-08-09T19:41:03.465Z"
   },
   {
    "duration": 41,
    "start_time": "2022-08-09T19:45:59.962Z"
   },
   {
    "duration": 19,
    "start_time": "2022-08-09T19:46:20.481Z"
   },
   {
    "duration": 3,
    "start_time": "2022-08-09T19:46:29.519Z"
   },
   {
    "duration": 142,
    "start_time": "2022-08-09T19:46:29.524Z"
   },
   {
    "duration": 78,
    "start_time": "2022-08-09T19:46:29.668Z"
   },
   {
    "duration": 22,
    "start_time": "2022-08-09T19:46:29.747Z"
   },
   {
    "duration": 17,
    "start_time": "2022-08-09T19:46:29.791Z"
   },
   {
    "duration": 44,
    "start_time": "2022-08-09T19:46:29.810Z"
   },
   {
    "duration": 51,
    "start_time": "2022-08-09T19:46:29.856Z"
   },
   {
    "duration": 7,
    "start_time": "2022-08-09T19:46:29.908Z"
   },
   {
    "duration": 26,
    "start_time": "2022-08-09T19:46:29.916Z"
   },
   {
    "duration": 4,
    "start_time": "2022-08-09T19:46:29.944Z"
   },
   {
    "duration": 8,
    "start_time": "2022-08-09T19:46:29.951Z"
   },
   {
    "duration": 37,
    "start_time": "2022-08-09T19:46:29.961Z"
   },
   {
    "duration": 8,
    "start_time": "2022-08-09T19:46:30.000Z"
   },
   {
    "duration": 20,
    "start_time": "2022-08-09T19:46:30.010Z"
   },
   {
    "duration": 34,
    "start_time": "2022-08-09T19:46:30.031Z"
   },
   {
    "duration": 37,
    "start_time": "2022-08-09T19:46:30.067Z"
   },
   {
    "duration": 17,
    "start_time": "2022-08-09T19:46:30.107Z"
   },
   {
    "duration": 28,
    "start_time": "2022-08-09T19:46:30.126Z"
   },
   {
    "duration": 3,
    "start_time": "2022-08-09T19:46:30.156Z"
   },
   {
    "duration": 10,
    "start_time": "2022-08-09T19:46:30.161Z"
   },
   {
    "duration": 3,
    "start_time": "2022-08-09T19:46:30.192Z"
   },
   {
    "duration": 25,
    "start_time": "2022-08-09T19:46:30.197Z"
   },
   {
    "duration": 17,
    "start_time": "2022-08-09T19:46:30.224Z"
   },
   {
    "duration": 13,
    "start_time": "2022-08-09T19:46:30.243Z"
   },
   {
    "duration": 14,
    "start_time": "2022-08-09T19:46:30.259Z"
   },
   {
    "duration": 17,
    "start_time": "2022-08-09T19:46:30.275Z"
   },
   {
    "duration": 10,
    "start_time": "2022-08-09T19:46:30.293Z"
   },
   {
    "duration": 6,
    "start_time": "2022-08-09T19:46:30.305Z"
   },
   {
    "duration": 10,
    "start_time": "2022-08-09T19:46:30.314Z"
   },
   {
    "duration": 9,
    "start_time": "2022-08-09T19:46:30.326Z"
   },
   {
    "duration": 16,
    "start_time": "2022-08-09T19:46:30.337Z"
   },
   {
    "duration": 7,
    "start_time": "2022-08-09T19:46:30.355Z"
   },
   {
    "duration": 31,
    "start_time": "2022-08-09T19:49:03.684Z"
   },
   {
    "duration": 41,
    "start_time": "2022-08-10T11:49:58.156Z"
   },
   {
    "duration": 769,
    "start_time": "2022-08-10T11:50:03.432Z"
   },
   {
    "duration": 842,
    "start_time": "2022-08-10T11:50:04.203Z"
   },
   {
    "duration": 55,
    "start_time": "2022-08-10T11:50:05.047Z"
   },
   {
    "duration": 14,
    "start_time": "2022-08-10T11:50:05.103Z"
   },
   {
    "duration": 46,
    "start_time": "2022-08-10T11:50:05.119Z"
   },
   {
    "duration": 64,
    "start_time": "2022-08-10T11:50:05.167Z"
   },
   {
    "duration": 30,
    "start_time": "2022-08-10T11:50:05.232Z"
   },
   {
    "duration": 5,
    "start_time": "2022-08-10T11:50:05.264Z"
   },
   {
    "duration": 42,
    "start_time": "2022-08-10T11:50:05.270Z"
   },
   {
    "duration": 25,
    "start_time": "2022-08-10T11:50:05.313Z"
   },
   {
    "duration": 13,
    "start_time": "2022-08-10T11:50:05.340Z"
   },
   {
    "duration": 28,
    "start_time": "2022-08-10T11:50:05.354Z"
   },
   {
    "duration": 17,
    "start_time": "2022-08-10T11:50:05.383Z"
   },
   {
    "duration": 33,
    "start_time": "2022-08-10T11:50:05.403Z"
   },
   {
    "duration": 34,
    "start_time": "2022-08-10T11:50:05.438Z"
   },
   {
    "duration": 21,
    "start_time": "2022-08-10T11:50:05.473Z"
   },
   {
    "duration": 23,
    "start_time": "2022-08-10T11:50:05.496Z"
   },
   {
    "duration": 30,
    "start_time": "2022-08-10T11:50:05.520Z"
   },
   {
    "duration": 5,
    "start_time": "2022-08-10T11:50:05.552Z"
   },
   {
    "duration": 13,
    "start_time": "2022-08-10T11:50:05.559Z"
   },
   {
    "duration": 35,
    "start_time": "2022-08-10T11:50:05.574Z"
   },
   {
    "duration": 28,
    "start_time": "2022-08-10T11:50:05.610Z"
   },
   {
    "duration": 29,
    "start_time": "2022-08-10T11:50:05.639Z"
   },
   {
    "duration": 22,
    "start_time": "2022-08-10T11:50:05.670Z"
   },
   {
    "duration": 21,
    "start_time": "2022-08-10T11:50:05.693Z"
   },
   {
    "duration": 16,
    "start_time": "2022-08-10T11:50:05.716Z"
   },
   {
    "duration": 22,
    "start_time": "2022-08-10T11:50:05.733Z"
   },
   {
    "duration": 47,
    "start_time": "2022-08-10T11:50:05.757Z"
   },
   {
    "duration": 28,
    "start_time": "2022-08-10T11:50:05.805Z"
   },
   {
    "duration": 22,
    "start_time": "2022-08-10T11:50:05.834Z"
   },
   {
    "duration": 28,
    "start_time": "2022-08-10T11:50:05.857Z"
   },
   {
    "duration": 27,
    "start_time": "2022-08-10T11:50:05.886Z"
   },
   {
    "duration": 42,
    "start_time": "2022-08-10T11:50:05.915Z"
   },
   {
    "duration": 10,
    "start_time": "2022-08-10T11:50:35.966Z"
   },
   {
    "duration": 41,
    "start_time": "2022-08-12T17:11:51.564Z"
   },
   {
    "duration": 6,
    "start_time": "2022-08-12T17:11:54.176Z"
   },
   {
    "duration": 6,
    "start_time": "2022-08-12T17:11:56.877Z"
   },
   {
    "duration": 767,
    "start_time": "2022-08-12T17:12:02.827Z"
   },
   {
    "duration": 808,
    "start_time": "2022-08-12T17:12:03.596Z"
   },
   {
    "duration": 59,
    "start_time": "2022-08-12T17:12:04.406Z"
   },
   {
    "duration": 16,
    "start_time": "2022-08-12T17:12:04.466Z"
   },
   {
    "duration": 30,
    "start_time": "2022-08-12T17:12:04.484Z"
   },
   {
    "duration": 39,
    "start_time": "2022-08-12T17:12:04.515Z"
   },
   {
    "duration": 28,
    "start_time": "2022-08-12T17:12:04.556Z"
   },
   {
    "duration": 24,
    "start_time": "2022-08-12T17:12:04.585Z"
   },
   {
    "duration": 22,
    "start_time": "2022-08-12T17:12:04.611Z"
   },
   {
    "duration": 7,
    "start_time": "2022-08-12T17:12:04.634Z"
   },
   {
    "duration": 5,
    "start_time": "2022-08-12T17:12:04.643Z"
   },
   {
    "duration": 10,
    "start_time": "2022-08-12T17:12:04.649Z"
   },
   {
    "duration": 17,
    "start_time": "2022-08-12T17:12:04.661Z"
   },
   {
    "duration": 29,
    "start_time": "2022-08-12T17:12:04.681Z"
   },
   {
    "duration": 20,
    "start_time": "2022-08-12T17:12:04.711Z"
   },
   {
    "duration": 13,
    "start_time": "2022-08-12T17:12:04.732Z"
   },
   {
    "duration": 8,
    "start_time": "2022-08-12T17:12:04.747Z"
   },
   {
    "duration": 14,
    "start_time": "2022-08-12T17:12:04.756Z"
   },
   {
    "duration": 51,
    "start_time": "2022-08-12T17:12:04.771Z"
   },
   {
    "duration": 31,
    "start_time": "2022-08-12T17:12:04.823Z"
   },
   {
    "duration": 0,
    "start_time": "2022-08-12T17:12:04.855Z"
   },
   {
    "duration": 0,
    "start_time": "2022-08-12T17:12:04.856Z"
   },
   {
    "duration": 0,
    "start_time": "2022-08-12T17:12:04.857Z"
   },
   {
    "duration": 0,
    "start_time": "2022-08-12T17:12:04.858Z"
   },
   {
    "duration": 0,
    "start_time": "2022-08-12T17:12:04.859Z"
   },
   {
    "duration": 0,
    "start_time": "2022-08-12T17:12:04.860Z"
   },
   {
    "duration": 0,
    "start_time": "2022-08-12T17:12:04.861Z"
   },
   {
    "duration": 0,
    "start_time": "2022-08-12T17:12:04.862Z"
   },
   {
    "duration": 0,
    "start_time": "2022-08-12T17:12:04.862Z"
   },
   {
    "duration": 0,
    "start_time": "2022-08-12T17:12:04.863Z"
   },
   {
    "duration": 0,
    "start_time": "2022-08-12T17:12:04.864Z"
   },
   {
    "duration": 0,
    "start_time": "2022-08-12T17:12:04.865Z"
   },
   {
    "duration": 0,
    "start_time": "2022-08-12T17:12:04.866Z"
   },
   {
    "duration": 0,
    "start_time": "2022-08-12T17:12:04.867Z"
   },
   {
    "duration": 15,
    "start_time": "2022-08-12T17:32:33.916Z"
   },
   {
    "duration": 10,
    "start_time": "2022-08-12T17:38:30.680Z"
   },
   {
    "duration": 4,
    "start_time": "2022-08-12T17:38:45.805Z"
   },
   {
    "duration": 4,
    "start_time": "2022-08-12T17:39:04.234Z"
   },
   {
    "duration": 23,
    "start_time": "2022-08-12T17:43:04.444Z"
   },
   {
    "duration": 16,
    "start_time": "2022-08-12T17:43:50.806Z"
   },
   {
    "duration": 15,
    "start_time": "2022-08-12T17:55:09.024Z"
   },
   {
    "duration": 3,
    "start_time": "2022-08-12T17:55:18.828Z"
   },
   {
    "duration": 133,
    "start_time": "2022-08-12T17:55:18.832Z"
   },
   {
    "duration": 60,
    "start_time": "2022-08-12T17:55:18.967Z"
   },
   {
    "duration": 15,
    "start_time": "2022-08-12T17:55:19.029Z"
   },
   {
    "duration": 17,
    "start_time": "2022-08-12T17:55:19.045Z"
   },
   {
    "duration": 46,
    "start_time": "2022-08-12T17:55:19.063Z"
   },
   {
    "duration": 26,
    "start_time": "2022-08-12T17:55:19.111Z"
   },
   {
    "duration": 6,
    "start_time": "2022-08-12T17:55:19.138Z"
   },
   {
    "duration": 23,
    "start_time": "2022-08-12T17:55:19.146Z"
   },
   {
    "duration": 3,
    "start_time": "2022-08-12T17:55:19.171Z"
   },
   {
    "duration": 5,
    "start_time": "2022-08-12T17:55:19.176Z"
   },
   {
    "duration": 5,
    "start_time": "2022-08-12T17:55:19.206Z"
   },
   {
    "duration": 15,
    "start_time": "2022-08-12T17:55:19.213Z"
   },
   {
    "duration": 9,
    "start_time": "2022-08-12T17:55:19.229Z"
   },
   {
    "duration": 21,
    "start_time": "2022-08-12T17:55:19.239Z"
   },
   {
    "duration": 12,
    "start_time": "2022-08-12T17:55:19.261Z"
   },
   {
    "duration": 35,
    "start_time": "2022-08-12T17:55:19.274Z"
   },
   {
    "duration": 3,
    "start_time": "2022-08-12T17:55:19.311Z"
   },
   {
    "duration": 24,
    "start_time": "2022-08-12T17:55:19.315Z"
   },
   {
    "duration": 13,
    "start_time": "2022-08-12T17:55:19.341Z"
   },
   {
    "duration": 51,
    "start_time": "2022-08-12T17:55:19.356Z"
   },
   {
    "duration": 2,
    "start_time": "2022-08-12T17:55:19.408Z"
   },
   {
    "duration": 6,
    "start_time": "2022-08-12T17:55:19.411Z"
   },
   {
    "duration": 5,
    "start_time": "2022-08-12T17:55:19.420Z"
   },
   {
    "duration": 6,
    "start_time": "2022-08-12T17:55:19.426Z"
   },
   {
    "duration": 4,
    "start_time": "2022-08-12T17:55:19.433Z"
   },
   {
    "duration": 5,
    "start_time": "2022-08-12T17:55:19.438Z"
   },
   {
    "duration": 5,
    "start_time": "2022-08-12T17:55:19.444Z"
   },
   {
    "duration": 5,
    "start_time": "2022-08-12T17:55:19.450Z"
   },
   {
    "duration": 5,
    "start_time": "2022-08-12T17:55:19.456Z"
   },
   {
    "duration": 4,
    "start_time": "2022-08-12T17:55:19.462Z"
   },
   {
    "duration": 4,
    "start_time": "2022-08-12T17:55:19.468Z"
   },
   {
    "duration": 4,
    "start_time": "2022-08-12T17:55:19.473Z"
   },
   {
    "duration": 4,
    "start_time": "2022-08-12T17:55:19.479Z"
   },
   {
    "duration": 5,
    "start_time": "2022-08-12T17:55:19.485Z"
   },
   {
    "duration": 14,
    "start_time": "2022-08-12T17:55:19.492Z"
   },
   {
    "duration": 15,
    "start_time": "2022-08-12T17:55:37.683Z"
   },
   {
    "duration": 5,
    "start_time": "2022-08-12T18:05:29.630Z"
   },
   {
    "duration": 9,
    "start_time": "2022-08-12T18:05:57.528Z"
   },
   {
    "duration": 14,
    "start_time": "2022-08-12T18:06:27.278Z"
   },
   {
    "duration": 3,
    "start_time": "2022-08-12T18:06:38.037Z"
   },
   {
    "duration": 140,
    "start_time": "2022-08-12T18:06:38.043Z"
   },
   {
    "duration": 63,
    "start_time": "2022-08-12T18:06:38.185Z"
   },
   {
    "duration": 18,
    "start_time": "2022-08-12T18:06:38.250Z"
   },
   {
    "duration": 36,
    "start_time": "2022-08-12T18:06:38.271Z"
   },
   {
    "duration": 38,
    "start_time": "2022-08-12T18:06:38.308Z"
   },
   {
    "duration": 26,
    "start_time": "2022-08-12T18:06:38.348Z"
   },
   {
    "duration": 5,
    "start_time": "2022-08-12T18:06:38.376Z"
   },
   {
    "duration": 43,
    "start_time": "2022-08-12T18:06:38.383Z"
   },
   {
    "duration": 4,
    "start_time": "2022-08-12T18:06:38.428Z"
   },
   {
    "duration": 5,
    "start_time": "2022-08-12T18:06:38.434Z"
   },
   {
    "duration": 6,
    "start_time": "2022-08-12T18:06:38.440Z"
   },
   {
    "duration": 15,
    "start_time": "2022-08-12T18:06:38.447Z"
   },
   {
    "duration": 9,
    "start_time": "2022-08-12T18:06:38.464Z"
   },
   {
    "duration": 21,
    "start_time": "2022-08-12T18:06:38.505Z"
   },
   {
    "duration": 13,
    "start_time": "2022-08-12T18:06:38.528Z"
   },
   {
    "duration": 8,
    "start_time": "2022-08-12T18:06:38.543Z"
   },
   {
    "duration": 20,
    "start_time": "2022-08-12T18:06:38.553Z"
   },
   {
    "duration": 35,
    "start_time": "2022-08-12T18:06:38.575Z"
   },
   {
    "duration": 13,
    "start_time": "2022-08-12T18:06:38.612Z"
   },
   {
    "duration": 31,
    "start_time": "2022-08-12T18:06:38.627Z"
   },
   {
    "duration": 24,
    "start_time": "2022-08-12T18:06:38.659Z"
   },
   {
    "duration": 26,
    "start_time": "2022-08-12T18:06:38.684Z"
   },
   {
    "duration": 8,
    "start_time": "2022-08-12T18:06:38.712Z"
   },
   {
    "duration": 13,
    "start_time": "2022-08-12T18:06:38.722Z"
   },
   {
    "duration": 19,
    "start_time": "2022-08-12T18:06:38.736Z"
   },
   {
    "duration": 17,
    "start_time": "2022-08-12T18:06:38.757Z"
   },
   {
    "duration": 10,
    "start_time": "2022-08-12T18:06:38.776Z"
   },
   {
    "duration": 15,
    "start_time": "2022-08-12T18:06:38.789Z"
   },
   {
    "duration": 17,
    "start_time": "2022-08-12T18:06:38.806Z"
   },
   {
    "duration": 19,
    "start_time": "2022-08-12T18:06:38.824Z"
   },
   {
    "duration": 13,
    "start_time": "2022-08-12T18:06:38.844Z"
   },
   {
    "duration": 15,
    "start_time": "2022-08-12T18:06:38.859Z"
   },
   {
    "duration": 16,
    "start_time": "2022-08-12T18:06:38.876Z"
   },
   {
    "duration": 6,
    "start_time": "2022-08-12T18:06:38.894Z"
   },
   {
    "duration": 14,
    "start_time": "2022-08-12T18:06:38.902Z"
   },
   {
    "duration": 9,
    "start_time": "2022-08-12T18:06:38.918Z"
   },
   {
    "duration": 11,
    "start_time": "2022-08-12T18:06:38.928Z"
   },
   {
    "duration": 24,
    "start_time": "2022-08-12T18:07:43.230Z"
   },
   {
    "duration": 18,
    "start_time": "2022-08-12T18:51:20.552Z"
   },
   {
    "duration": 15,
    "start_time": "2022-08-12T18:52:27.008Z"
   },
   {
    "duration": 25,
    "start_time": "2022-08-12T19:43:53.461Z"
   },
   {
    "duration": 26,
    "start_time": "2022-08-12T19:44:56.988Z"
   },
   {
    "duration": 61,
    "start_time": "2022-08-12T20:46:35.029Z"
   },
   {
    "duration": 99,
    "start_time": "2022-08-12T20:46:50.440Z"
   },
   {
    "duration": 19,
    "start_time": "2022-08-12T20:47:43.296Z"
   },
   {
    "duration": 52,
    "start_time": "2022-08-12T20:49:00.432Z"
   },
   {
    "duration": 30,
    "start_time": "2022-08-12T20:50:23.883Z"
   },
   {
    "duration": 29,
    "start_time": "2022-08-12T20:50:38.292Z"
   },
   {
    "duration": 84,
    "start_time": "2022-08-12T20:52:07.658Z"
   },
   {
    "duration": 27,
    "start_time": "2022-08-12T20:52:33.466Z"
   },
   {
    "duration": 56,
    "start_time": "2022-08-12T20:57:35.522Z"
   },
   {
    "duration": 5,
    "start_time": "2022-08-12T20:59:38.668Z"
   },
   {
    "duration": 16,
    "start_time": "2022-08-12T21:00:09.132Z"
   },
   {
    "duration": 45,
    "start_time": "2022-08-12T21:09:56.099Z"
   },
   {
    "duration": 11,
    "start_time": "2022-08-12T21:10:17.731Z"
   },
   {
    "duration": 12,
    "start_time": "2022-08-12T21:10:29.667Z"
   },
   {
    "duration": 27,
    "start_time": "2022-08-12T21:10:57.131Z"
   },
   {
    "duration": 16,
    "start_time": "2022-08-12T21:12:36.704Z"
   },
   {
    "duration": 18,
    "start_time": "2022-08-12T21:12:44.241Z"
   },
   {
    "duration": 17,
    "start_time": "2022-08-12T21:12:51.389Z"
   },
   {
    "duration": 52,
    "start_time": "2022-08-12T21:13:58.788Z"
   },
   {
    "duration": 28,
    "start_time": "2022-08-12T21:18:29.002Z"
   },
   {
    "duration": 3,
    "start_time": "2022-08-12T21:19:04.192Z"
   },
   {
    "duration": 141,
    "start_time": "2022-08-12T21:19:04.197Z"
   },
   {
    "duration": 59,
    "start_time": "2022-08-12T21:19:04.340Z"
   },
   {
    "duration": 18,
    "start_time": "2022-08-12T21:19:04.407Z"
   },
   {
    "duration": 17,
    "start_time": "2022-08-12T21:19:04.426Z"
   },
   {
    "duration": 72,
    "start_time": "2022-08-12T21:19:04.445Z"
   },
   {
    "duration": 29,
    "start_time": "2022-08-12T21:19:04.518Z"
   },
   {
    "duration": 6,
    "start_time": "2022-08-12T21:19:04.549Z"
   },
   {
    "duration": 25,
    "start_time": "2022-08-12T21:19:04.557Z"
   },
   {
    "duration": 5,
    "start_time": "2022-08-12T21:19:04.606Z"
   },
   {
    "duration": 6,
    "start_time": "2022-08-12T21:19:04.613Z"
   },
   {
    "duration": 6,
    "start_time": "2022-08-12T21:19:04.621Z"
   },
   {
    "duration": 17,
    "start_time": "2022-08-12T21:19:04.628Z"
   },
   {
    "duration": 11,
    "start_time": "2022-08-12T21:19:04.647Z"
   },
   {
    "duration": 59,
    "start_time": "2022-08-12T21:19:04.660Z"
   },
   {
    "duration": 14,
    "start_time": "2022-08-12T21:19:04.721Z"
   },
   {
    "duration": 9,
    "start_time": "2022-08-12T21:19:04.737Z"
   },
   {
    "duration": 4,
    "start_time": "2022-08-12T21:19:04.748Z"
   },
   {
    "duration": 54,
    "start_time": "2022-08-12T21:19:04.753Z"
   },
   {
    "duration": 15,
    "start_time": "2022-08-12T21:19:04.808Z"
   },
   {
    "duration": 10,
    "start_time": "2022-08-12T21:19:04.825Z"
   },
   {
    "duration": 22,
    "start_time": "2022-08-12T21:19:04.836Z"
   },
   {
    "duration": 47,
    "start_time": "2022-08-12T21:19:04.860Z"
   },
   {
    "duration": 14,
    "start_time": "2022-08-12T21:19:04.910Z"
   },
   {
    "duration": 114,
    "start_time": "2022-08-12T21:19:04.925Z"
   },
   {
    "duration": 34,
    "start_time": "2022-08-12T21:19:05.040Z"
   },
   {
    "duration": 3,
    "start_time": "2022-08-12T21:19:05.075Z"
   },
   {
    "duration": 7,
    "start_time": "2022-08-12T21:19:05.079Z"
   },
   {
    "duration": 70,
    "start_time": "2022-08-12T21:19:05.088Z"
   },
   {
    "duration": 0,
    "start_time": "2022-08-12T21:19:05.160Z"
   },
   {
    "duration": 0,
    "start_time": "2022-08-12T21:19:05.161Z"
   },
   {
    "duration": 0,
    "start_time": "2022-08-12T21:19:05.162Z"
   },
   {
    "duration": 0,
    "start_time": "2022-08-12T21:19:05.164Z"
   },
   {
    "duration": 0,
    "start_time": "2022-08-12T21:19:05.165Z"
   },
   {
    "duration": 0,
    "start_time": "2022-08-12T21:19:05.166Z"
   },
   {
    "duration": 0,
    "start_time": "2022-08-12T21:19:05.167Z"
   },
   {
    "duration": 0,
    "start_time": "2022-08-12T21:19:05.169Z"
   },
   {
    "duration": 0,
    "start_time": "2022-08-12T21:19:05.170Z"
   },
   {
    "duration": 0,
    "start_time": "2022-08-12T21:19:05.171Z"
   },
   {
    "duration": 0,
    "start_time": "2022-08-12T21:19:05.172Z"
   },
   {
    "duration": 10,
    "start_time": "2022-08-12T21:23:57.140Z"
   },
   {
    "duration": 8,
    "start_time": "2022-08-12T21:24:21.455Z"
   },
   {
    "duration": 11,
    "start_time": "2022-08-12T21:24:27.361Z"
   },
   {
    "duration": 24,
    "start_time": "2022-08-12T21:25:08.526Z"
   },
   {
    "duration": 4,
    "start_time": "2022-08-12T21:27:04.336Z"
   },
   {
    "duration": 12,
    "start_time": "2022-08-12T21:27:19.323Z"
   },
   {
    "duration": 6,
    "start_time": "2022-08-12T21:28:02.161Z"
   },
   {
    "duration": 12,
    "start_time": "2022-08-12T21:28:54.801Z"
   },
   {
    "duration": 55,
    "start_time": "2022-08-12T21:36:50.866Z"
   },
   {
    "duration": 17,
    "start_time": "2022-08-12T21:37:30.822Z"
   },
   {
    "duration": 12,
    "start_time": "2022-08-12T21:41:43.030Z"
   },
   {
    "duration": 33,
    "start_time": "2022-08-12T21:45:33.026Z"
   },
   {
    "duration": 16,
    "start_time": "2022-08-12T21:46:50.779Z"
   },
   {
    "duration": 17,
    "start_time": "2022-08-12T21:48:03.966Z"
   },
   {
    "duration": 6,
    "start_time": "2022-08-12T22:01:12.819Z"
   },
   {
    "duration": 7,
    "start_time": "2022-08-12T22:01:49.239Z"
   },
   {
    "duration": 8,
    "start_time": "2022-08-12T22:05:45.833Z"
   },
   {
    "duration": 2,
    "start_time": "2022-08-12T22:05:51.536Z"
   },
   {
    "duration": 6,
    "start_time": "2022-08-12T22:05:53.193Z"
   },
   {
    "duration": 3,
    "start_time": "2022-08-12T22:06:04.371Z"
   },
   {
    "duration": 3,
    "start_time": "2022-08-12T22:06:47.394Z"
   },
   {
    "duration": 9,
    "start_time": "2022-08-12T22:09:15.886Z"
   },
   {
    "duration": 35,
    "start_time": "2022-08-12T22:09:30.672Z"
   },
   {
    "duration": 54,
    "start_time": "2022-08-12T22:15:11.955Z"
   },
   {
    "duration": 28,
    "start_time": "2022-08-12T22:15:36.121Z"
   },
   {
    "duration": 17,
    "start_time": "2022-08-12T22:16:11.822Z"
   },
   {
    "duration": 17,
    "start_time": "2022-08-12T22:16:18.047Z"
   },
   {
    "duration": 139,
    "start_time": "2022-08-12T22:17:19.457Z"
   },
   {
    "duration": 104,
    "start_time": "2022-08-12T22:19:47.923Z"
   },
   {
    "duration": 131,
    "start_time": "2022-08-12T22:21:52.325Z"
   },
   {
    "duration": 83,
    "start_time": "2022-08-12T22:22:07.505Z"
   },
   {
    "duration": 142,
    "start_time": "2022-08-12T22:22:15.125Z"
   },
   {
    "duration": 17,
    "start_time": "2022-08-12T22:23:48.730Z"
   },
   {
    "duration": 136,
    "start_time": "2022-08-12T22:25:26.570Z"
   },
   {
    "duration": 50,
    "start_time": "2022-08-12T22:25:48.883Z"
   },
   {
    "duration": 183,
    "start_time": "2022-08-12T22:26:19.866Z"
   },
   {
    "duration": 136,
    "start_time": "2022-08-12T22:26:28.474Z"
   },
   {
    "duration": 8,
    "start_time": "2022-08-12T22:28:49.252Z"
   },
   {
    "duration": 90,
    "start_time": "2022-08-12T22:29:50.167Z"
   },
   {
    "duration": 393,
    "start_time": "2022-08-12T22:29:59.931Z"
   },
   {
    "duration": 3,
    "start_time": "2022-08-12T22:30:03.123Z"
   },
   {
    "duration": 209,
    "start_time": "2022-08-12T22:30:03.128Z"
   },
   {
    "duration": 55,
    "start_time": "2022-08-12T22:30:03.339Z"
   },
   {
    "duration": 17,
    "start_time": "2022-08-12T22:30:03.407Z"
   },
   {
    "duration": 16,
    "start_time": "2022-08-12T22:30:03.426Z"
   },
   {
    "duration": 38,
    "start_time": "2022-08-12T22:30:03.444Z"
   },
   {
    "duration": 45,
    "start_time": "2022-08-12T22:30:03.484Z"
   },
   {
    "duration": 7,
    "start_time": "2022-08-12T22:30:03.530Z"
   },
   {
    "duration": 33,
    "start_time": "2022-08-12T22:30:03.539Z"
   },
   {
    "duration": 4,
    "start_time": "2022-08-12T22:30:03.574Z"
   },
   {
    "duration": 28,
    "start_time": "2022-08-12T22:30:03.580Z"
   },
   {
    "duration": 5,
    "start_time": "2022-08-12T22:30:03.610Z"
   },
   {
    "duration": 19,
    "start_time": "2022-08-12T22:30:03.617Z"
   },
   {
    "duration": 10,
    "start_time": "2022-08-12T22:30:03.639Z"
   },
   {
    "duration": 22,
    "start_time": "2022-08-12T22:30:03.650Z"
   },
   {
    "duration": 41,
    "start_time": "2022-08-12T22:30:03.673Z"
   },
   {
    "duration": 8,
    "start_time": "2022-08-12T22:30:03.716Z"
   },
   {
    "duration": 5,
    "start_time": "2022-08-12T22:30:03.726Z"
   },
   {
    "duration": 29,
    "start_time": "2022-08-12T22:30:03.732Z"
   },
   {
    "duration": 13,
    "start_time": "2022-08-12T22:30:03.763Z"
   },
   {
    "duration": 29,
    "start_time": "2022-08-12T22:30:03.778Z"
   },
   {
    "duration": 29,
    "start_time": "2022-08-12T22:30:03.808Z"
   },
   {
    "duration": 16,
    "start_time": "2022-08-12T22:30:03.839Z"
   },
   {
    "duration": 14,
    "start_time": "2022-08-12T22:30:03.856Z"
   },
   {
    "duration": 150,
    "start_time": "2022-08-12T22:30:03.872Z"
   },
   {
    "duration": 17,
    "start_time": "2022-08-12T22:30:04.024Z"
   },
   {
    "duration": 38,
    "start_time": "2022-08-12T22:30:04.043Z"
   },
   {
    "duration": 27,
    "start_time": "2022-08-12T22:30:04.083Z"
   },
   {
    "duration": 15,
    "start_time": "2022-08-12T22:30:04.112Z"
   },
   {
    "duration": 7,
    "start_time": "2022-08-12T22:30:04.129Z"
   },
   {
    "duration": 3,
    "start_time": "2022-08-12T22:30:04.138Z"
   },
   {
    "duration": 19,
    "start_time": "2022-08-12T22:30:04.143Z"
   },
   {
    "duration": 51,
    "start_time": "2022-08-12T22:30:04.164Z"
   },
   {
    "duration": 18,
    "start_time": "2022-08-12T22:30:04.217Z"
   },
   {
    "duration": 73,
    "start_time": "2022-08-12T22:30:04.236Z"
   },
   {
    "duration": 2,
    "start_time": "2022-08-12T22:30:04.311Z"
   },
   {
    "duration": 12,
    "start_time": "2022-08-12T22:30:04.315Z"
   },
   {
    "duration": 814,
    "start_time": "2022-08-12T22:30:04.329Z"
   },
   {
    "duration": 3,
    "start_time": "2022-08-12T22:30:05.144Z"
   },
   {
    "duration": 5,
    "start_time": "2022-08-12T22:30:05.148Z"
   },
   {
    "duration": 3,
    "start_time": "2022-08-12T22:30:05.156Z"
   },
   {
    "duration": 6,
    "start_time": "2022-08-12T22:30:05.160Z"
   },
   {
    "duration": 5,
    "start_time": "2022-08-12T22:30:05.167Z"
   },
   {
    "duration": 5,
    "start_time": "2022-08-12T22:30:05.173Z"
   },
   {
    "duration": 5,
    "start_time": "2022-08-12T22:30:05.179Z"
   },
   {
    "duration": 6,
    "start_time": "2022-08-12T22:30:05.185Z"
   },
   {
    "duration": 855,
    "start_time": "2022-08-12T22:31:53.863Z"
   },
   {
    "duration": 5,
    "start_time": "2022-08-12T22:33:16.327Z"
   },
   {
    "duration": 902,
    "start_time": "2022-08-12T22:37:21.845Z"
   },
   {
    "duration": 733,
    "start_time": "2022-08-12T22:37:32.432Z"
   },
   {
    "duration": 87,
    "start_time": "2022-08-12T22:38:55.123Z"
   },
   {
    "duration": 1148,
    "start_time": "2022-08-12T22:39:10.315Z"
   },
   {
    "duration": 966,
    "start_time": "2022-08-12T22:39:41.676Z"
   },
   {
    "duration": 1524,
    "start_time": "2022-08-12T22:39:53.236Z"
   },
   {
    "duration": 921,
    "start_time": "2022-08-12T22:40:59.892Z"
   },
   {
    "duration": 1085,
    "start_time": "2022-08-12T22:41:10.262Z"
   },
   {
    "duration": 929,
    "start_time": "2022-08-12T22:41:33.432Z"
   },
   {
    "duration": 1393,
    "start_time": "2022-08-12T22:41:46.024Z"
   },
   {
    "duration": 16,
    "start_time": "2022-08-12T22:50:15.224Z"
   },
   {
    "duration": 15,
    "start_time": "2022-08-12T22:51:42.193Z"
   },
   {
    "duration": 27,
    "start_time": "2022-08-12T22:54:05.919Z"
   },
   {
    "duration": 18,
    "start_time": "2022-08-12T22:54:56.560Z"
   },
   {
    "duration": 9,
    "start_time": "2022-08-12T22:59:03.393Z"
   },
   {
    "duration": 6,
    "start_time": "2022-08-12T22:59:20.321Z"
   },
   {
    "duration": 667,
    "start_time": "2022-08-12T22:59:23.522Z"
   },
   {
    "duration": 5,
    "start_time": "2022-08-12T23:00:41.907Z"
   },
   {
    "duration": 611,
    "start_time": "2022-08-12T23:00:44.804Z"
   },
   {
    "duration": 2853,
    "start_time": "2022-08-12T23:08:11.075Z"
   },
   {
    "duration": 111,
    "start_time": "2022-08-12T23:14:20.349Z"
   },
   {
    "duration": 2801,
    "start_time": "2022-08-12T23:14:29.210Z"
   },
   {
    "duration": 2631,
    "start_time": "2022-08-12T23:15:55.782Z"
   },
   {
    "duration": 2898,
    "start_time": "2022-08-12T23:16:18.730Z"
   },
   {
    "duration": 101,
    "start_time": "2022-08-12T23:18:41.466Z"
   },
   {
    "duration": 96,
    "start_time": "2022-08-12T23:20:34.281Z"
   },
   {
    "duration": 2865,
    "start_time": "2022-08-12T23:20:51.043Z"
   },
   {
    "duration": 2854,
    "start_time": "2022-08-12T23:21:07.947Z"
   },
   {
    "duration": 2626,
    "start_time": "2022-08-12T23:22:10.814Z"
   },
   {
    "duration": 2810,
    "start_time": "2022-08-12T23:22:29.455Z"
   },
   {
    "duration": 10,
    "start_time": "2022-08-12T23:23:30.307Z"
   },
   {
    "duration": 7,
    "start_time": "2022-08-12T23:23:42.956Z"
   },
   {
    "duration": 20,
    "start_time": "2022-08-12T23:24:23.986Z"
   },
   {
    "duration": 14,
    "start_time": "2022-08-12T23:27:06.327Z"
   },
   {
    "duration": 2,
    "start_time": "2022-08-12T23:27:11.022Z"
   },
   {
    "duration": 131,
    "start_time": "2022-08-12T23:27:11.026Z"
   },
   {
    "duration": 76,
    "start_time": "2022-08-12T23:27:11.158Z"
   },
   {
    "duration": 15,
    "start_time": "2022-08-12T23:27:11.236Z"
   },
   {
    "duration": 14,
    "start_time": "2022-08-12T23:27:11.254Z"
   },
   {
    "duration": 54,
    "start_time": "2022-08-12T23:27:11.270Z"
   },
   {
    "duration": 27,
    "start_time": "2022-08-12T23:27:11.326Z"
   },
   {
    "duration": 6,
    "start_time": "2022-08-12T23:27:11.355Z"
   },
   {
    "duration": 45,
    "start_time": "2022-08-12T23:27:11.362Z"
   },
   {
    "duration": 4,
    "start_time": "2022-08-12T23:27:11.408Z"
   },
   {
    "duration": 10,
    "start_time": "2022-08-12T23:27:11.413Z"
   },
   {
    "duration": 6,
    "start_time": "2022-08-12T23:27:11.424Z"
   },
   {
    "duration": 14,
    "start_time": "2022-08-12T23:27:11.433Z"
   },
   {
    "duration": 9,
    "start_time": "2022-08-12T23:27:11.449Z"
   },
   {
    "duration": 20,
    "start_time": "2022-08-12T23:27:11.459Z"
   },
   {
    "duration": 14,
    "start_time": "2022-08-12T23:27:11.505Z"
   },
   {
    "duration": 9,
    "start_time": "2022-08-12T23:27:11.520Z"
   },
   {
    "duration": 4,
    "start_time": "2022-08-12T23:27:11.530Z"
   },
   {
    "duration": 20,
    "start_time": "2022-08-12T23:27:11.536Z"
   },
   {
    "duration": 15,
    "start_time": "2022-08-12T23:27:11.558Z"
   },
   {
    "duration": 10,
    "start_time": "2022-08-12T23:27:11.605Z"
   },
   {
    "duration": 20,
    "start_time": "2022-08-12T23:27:11.616Z"
   },
   {
    "duration": 13,
    "start_time": "2022-08-12T23:27:11.637Z"
   },
   {
    "duration": 15,
    "start_time": "2022-08-12T23:27:11.651Z"
   },
   {
    "duration": 343,
    "start_time": "2022-08-12T23:27:11.667Z"
   },
   {
    "duration": 7,
    "start_time": "2022-08-12T23:27:12.012Z"
   },
   {
    "duration": 32,
    "start_time": "2022-08-12T23:27:12.020Z"
   },
   {
    "duration": 16,
    "start_time": "2022-08-12T23:27:12.054Z"
   },
   {
    "duration": 11,
    "start_time": "2022-08-12T23:27:12.071Z"
   },
   {
    "duration": 36,
    "start_time": "2022-08-12T23:27:12.084Z"
   },
   {
    "duration": 7,
    "start_time": "2022-08-12T23:27:12.121Z"
   },
   {
    "duration": 2,
    "start_time": "2022-08-12T23:27:12.130Z"
   },
   {
    "duration": 18,
    "start_time": "2022-08-12T23:27:12.134Z"
   },
   {
    "duration": 18,
    "start_time": "2022-08-12T23:27:12.154Z"
   },
   {
    "duration": 41,
    "start_time": "2022-08-12T23:27:12.173Z"
   },
   {
    "duration": 56,
    "start_time": "2022-08-12T23:27:12.216Z"
   },
   {
    "duration": 2,
    "start_time": "2022-08-12T23:27:12.276Z"
   },
   {
    "duration": 12,
    "start_time": "2022-08-12T23:27:12.279Z"
   },
   {
    "duration": 2534,
    "start_time": "2022-08-12T23:27:12.292Z"
   },
   {
    "duration": 5,
    "start_time": "2022-08-12T23:27:14.827Z"
   },
   {
    "duration": 611,
    "start_time": "2022-08-12T23:27:14.833Z"
   },
   {
    "duration": 3,
    "start_time": "2022-08-12T23:27:15.445Z"
   },
   {
    "duration": 6,
    "start_time": "2022-08-12T23:27:15.449Z"
   },
   {
    "duration": 7,
    "start_time": "2022-08-12T23:27:15.456Z"
   },
   {
    "duration": 5,
    "start_time": "2022-08-12T23:27:15.464Z"
   },
   {
    "duration": 11,
    "start_time": "2022-08-12T23:27:15.470Z"
   },
   {
    "duration": 5,
    "start_time": "2022-08-12T23:27:15.482Z"
   },
   {
    "duration": 5,
    "start_time": "2022-08-12T23:27:15.488Z"
   },
   {
    "duration": 17,
    "start_time": "2022-08-12T23:29:16.571Z"
   },
   {
    "duration": 3,
    "start_time": "2022-08-12T23:29:21.194Z"
   },
   {
    "duration": 129,
    "start_time": "2022-08-12T23:29:21.199Z"
   },
   {
    "duration": 49,
    "start_time": "2022-08-12T23:29:21.330Z"
   },
   {
    "duration": 26,
    "start_time": "2022-08-12T23:29:21.380Z"
   },
   {
    "duration": 15,
    "start_time": "2022-08-12T23:29:21.408Z"
   },
   {
    "duration": 33,
    "start_time": "2022-08-12T23:29:21.424Z"
   },
   {
    "duration": 24,
    "start_time": "2022-08-12T23:29:21.458Z"
   },
   {
    "duration": 25,
    "start_time": "2022-08-12T23:29:21.483Z"
   },
   {
    "duration": 21,
    "start_time": "2022-08-12T23:29:21.509Z"
   },
   {
    "duration": 5,
    "start_time": "2022-08-12T23:29:21.531Z"
   },
   {
    "duration": 5,
    "start_time": "2022-08-12T23:29:21.537Z"
   },
   {
    "duration": 6,
    "start_time": "2022-08-12T23:29:21.543Z"
   },
   {
    "duration": 15,
    "start_time": "2022-08-12T23:29:21.550Z"
   },
   {
    "duration": 45,
    "start_time": "2022-08-12T23:29:21.567Z"
   },
   {
    "duration": 20,
    "start_time": "2022-08-12T23:29:21.613Z"
   },
   {
    "duration": 12,
    "start_time": "2022-08-12T23:29:21.634Z"
   },
   {
    "duration": 9,
    "start_time": "2022-08-12T23:29:21.647Z"
   },
   {
    "duration": 4,
    "start_time": "2022-08-12T23:29:21.657Z"
   },
   {
    "duration": 51,
    "start_time": "2022-08-12T23:29:21.662Z"
   },
   {
    "duration": 13,
    "start_time": "2022-08-12T23:29:21.714Z"
   },
   {
    "duration": 8,
    "start_time": "2022-08-12T23:29:21.728Z"
   },
   {
    "duration": 20,
    "start_time": "2022-08-12T23:29:21.738Z"
   },
   {
    "duration": 14,
    "start_time": "2022-08-12T23:29:21.760Z"
   },
   {
    "duration": 41,
    "start_time": "2022-08-12T23:29:21.775Z"
   },
   {
    "duration": 47,
    "start_time": "2022-08-12T23:29:21.817Z"
   },
   {
    "duration": 6,
    "start_time": "2022-08-12T23:29:21.866Z"
   },
   {
    "duration": 44,
    "start_time": "2022-08-12T23:29:21.873Z"
   },
   {
    "duration": 9,
    "start_time": "2022-08-12T23:29:21.919Z"
   },
   {
    "duration": 12,
    "start_time": "2022-08-12T23:29:21.930Z"
   },
   {
    "duration": 15,
    "start_time": "2022-08-12T23:29:21.943Z"
   },
   {
    "duration": 6,
    "start_time": "2022-08-12T23:29:21.960Z"
   },
   {
    "duration": 4,
    "start_time": "2022-08-12T23:29:21.967Z"
   },
   {
    "duration": 46,
    "start_time": "2022-08-12T23:29:21.972Z"
   },
   {
    "duration": 19,
    "start_time": "2022-08-12T23:29:22.020Z"
   },
   {
    "duration": 17,
    "start_time": "2022-08-12T23:29:22.041Z"
   },
   {
    "duration": 78,
    "start_time": "2022-08-12T23:29:22.059Z"
   },
   {
    "duration": 2,
    "start_time": "2022-08-12T23:29:22.139Z"
   },
   {
    "duration": 10,
    "start_time": "2022-08-12T23:29:22.142Z"
   },
   {
    "duration": 3038,
    "start_time": "2022-08-12T23:29:22.153Z"
   },
   {
    "duration": 5,
    "start_time": "2022-08-12T23:29:25.193Z"
   },
   {
    "duration": 611,
    "start_time": "2022-08-12T23:29:25.205Z"
   },
   {
    "duration": 2,
    "start_time": "2022-08-12T23:29:25.817Z"
   },
   {
    "duration": 5,
    "start_time": "2022-08-12T23:29:25.820Z"
   },
   {
    "duration": 5,
    "start_time": "2022-08-12T23:29:25.826Z"
   },
   {
    "duration": 5,
    "start_time": "2022-08-12T23:29:25.832Z"
   },
   {
    "duration": 4,
    "start_time": "2022-08-12T23:29:25.839Z"
   },
   {
    "duration": 4,
    "start_time": "2022-08-12T23:29:25.844Z"
   },
   {
    "duration": 5,
    "start_time": "2022-08-12T23:29:25.849Z"
   },
   {
    "duration": 15,
    "start_time": "2022-08-12T23:30:19.251Z"
   },
   {
    "duration": 2,
    "start_time": "2022-08-12T23:31:49.638Z"
   },
   {
    "duration": 138,
    "start_time": "2022-08-12T23:31:49.642Z"
   },
   {
    "duration": 67,
    "start_time": "2022-08-12T23:31:49.782Z"
   },
   {
    "duration": 14,
    "start_time": "2022-08-12T23:31:49.851Z"
   },
   {
    "duration": 14,
    "start_time": "2022-08-12T23:31:49.867Z"
   },
   {
    "duration": 54,
    "start_time": "2022-08-12T23:31:49.882Z"
   },
   {
    "duration": 25,
    "start_time": "2022-08-12T23:31:49.937Z"
   },
   {
    "duration": 5,
    "start_time": "2022-08-12T23:31:49.963Z"
   },
   {
    "duration": 42,
    "start_time": "2022-08-12T23:31:49.970Z"
   },
   {
    "duration": 4,
    "start_time": "2022-08-12T23:31:50.014Z"
   },
   {
    "duration": 8,
    "start_time": "2022-08-12T23:31:50.020Z"
   },
   {
    "duration": 7,
    "start_time": "2022-08-12T23:31:50.029Z"
   },
   {
    "duration": 17,
    "start_time": "2022-08-12T23:31:50.038Z"
   },
   {
    "duration": 11,
    "start_time": "2022-08-12T23:31:50.057Z"
   },
   {
    "duration": 51,
    "start_time": "2022-08-12T23:31:50.070Z"
   },
   {
    "duration": 13,
    "start_time": "2022-08-12T23:31:50.123Z"
   },
   {
    "duration": 10,
    "start_time": "2022-08-12T23:31:50.138Z"
   },
   {
    "duration": 5,
    "start_time": "2022-08-12T23:31:50.149Z"
   },
   {
    "duration": 50,
    "start_time": "2022-08-12T23:31:50.156Z"
   },
   {
    "duration": 15,
    "start_time": "2022-08-12T23:31:50.208Z"
   },
   {
    "duration": 10,
    "start_time": "2022-08-12T23:31:50.225Z"
   },
   {
    "duration": 21,
    "start_time": "2022-08-12T23:31:50.236Z"
   },
   {
    "duration": 15,
    "start_time": "2022-08-12T23:31:50.259Z"
   },
   {
    "duration": 45,
    "start_time": "2022-08-12T23:31:50.275Z"
   },
   {
    "duration": 60,
    "start_time": "2022-08-12T23:31:50.322Z"
   },
   {
    "duration": 7,
    "start_time": "2022-08-12T23:31:50.384Z"
   },
   {
    "duration": 31,
    "start_time": "2022-08-12T23:31:50.405Z"
   },
   {
    "duration": 15,
    "start_time": "2022-08-12T23:31:50.438Z"
   },
   {
    "duration": 10,
    "start_time": "2022-08-12T23:31:50.456Z"
   },
   {
    "duration": 26,
    "start_time": "2022-08-12T23:31:50.467Z"
   },
   {
    "duration": 6,
    "start_time": "2022-08-12T23:31:50.505Z"
   },
   {
    "duration": 18,
    "start_time": "2022-08-12T23:31:50.513Z"
   },
   {
    "duration": 30,
    "start_time": "2022-08-12T23:31:50.533Z"
   },
   {
    "duration": 20,
    "start_time": "2022-08-12T23:31:50.564Z"
   },
   {
    "duration": 15,
    "start_time": "2022-08-12T23:31:50.586Z"
   },
   {
    "duration": 60,
    "start_time": "2022-08-12T23:31:50.603Z"
   },
   {
    "duration": 2,
    "start_time": "2022-08-12T23:31:50.665Z"
   },
   {
    "duration": 11,
    "start_time": "2022-08-12T23:31:50.669Z"
   },
   {
    "duration": 2508,
    "start_time": "2022-08-12T23:31:50.682Z"
   },
   {
    "duration": 6,
    "start_time": "2022-08-12T23:31:53.191Z"
   },
   {
    "duration": 620,
    "start_time": "2022-08-12T23:31:53.198Z"
   },
   {
    "duration": 3,
    "start_time": "2022-08-12T23:31:53.819Z"
   },
   {
    "duration": 5,
    "start_time": "2022-08-12T23:31:53.823Z"
   },
   {
    "duration": 5,
    "start_time": "2022-08-12T23:31:53.829Z"
   },
   {
    "duration": 5,
    "start_time": "2022-08-12T23:31:53.835Z"
   },
   {
    "duration": 4,
    "start_time": "2022-08-12T23:31:53.841Z"
   },
   {
    "duration": 5,
    "start_time": "2022-08-12T23:31:53.847Z"
   },
   {
    "duration": 6,
    "start_time": "2022-08-12T23:31:53.854Z"
   },
   {
    "duration": 12,
    "start_time": "2022-08-12T23:32:59.180Z"
   },
   {
    "duration": 2,
    "start_time": "2022-08-12T23:33:04.514Z"
   },
   {
    "duration": 149,
    "start_time": "2022-08-12T23:33:04.518Z"
   },
   {
    "duration": 77,
    "start_time": "2022-08-12T23:33:04.669Z"
   },
   {
    "duration": 22,
    "start_time": "2022-08-12T23:33:04.749Z"
   },
   {
    "duration": 35,
    "start_time": "2022-08-12T23:33:04.773Z"
   },
   {
    "duration": 41,
    "start_time": "2022-08-12T23:33:04.809Z"
   },
   {
    "duration": 27,
    "start_time": "2022-08-12T23:33:04.851Z"
   },
   {
    "duration": 6,
    "start_time": "2022-08-12T23:33:04.880Z"
   },
   {
    "duration": 23,
    "start_time": "2022-08-12T23:33:04.905Z"
   },
   {
    "duration": 9,
    "start_time": "2022-08-12T23:33:04.929Z"
   },
   {
    "duration": 18,
    "start_time": "2022-08-12T23:33:04.939Z"
   },
   {
    "duration": 18,
    "start_time": "2022-08-12T23:33:04.958Z"
   },
   {
    "duration": 23,
    "start_time": "2022-08-12T23:33:04.977Z"
   },
   {
    "duration": 10,
    "start_time": "2022-08-12T23:33:05.002Z"
   },
   {
    "duration": 22,
    "start_time": "2022-08-12T23:33:05.014Z"
   },
   {
    "duration": 14,
    "start_time": "2022-08-12T23:33:05.037Z"
   },
   {
    "duration": 10,
    "start_time": "2022-08-12T23:33:05.052Z"
   },
   {
    "duration": 4,
    "start_time": "2022-08-12T23:33:05.064Z"
   },
   {
    "duration": 52,
    "start_time": "2022-08-12T23:33:05.069Z"
   },
   {
    "duration": 14,
    "start_time": "2022-08-12T23:33:05.122Z"
   },
   {
    "duration": 9,
    "start_time": "2022-08-12T23:33:05.137Z"
   },
   {
    "duration": 22,
    "start_time": "2022-08-12T23:33:05.148Z"
   },
   {
    "duration": 37,
    "start_time": "2022-08-12T23:33:05.172Z"
   },
   {
    "duration": 15,
    "start_time": "2022-08-12T23:33:05.212Z"
   },
   {
    "duration": 14,
    "start_time": "2022-08-12T23:33:05.228Z"
   },
   {
    "duration": 321,
    "start_time": "2022-08-12T23:33:05.243Z"
   },
   {
    "duration": 6,
    "start_time": "2022-08-12T23:33:05.565Z"
   },
   {
    "duration": 34,
    "start_time": "2022-08-12T23:33:05.572Z"
   },
   {
    "duration": 13,
    "start_time": "2022-08-12T23:33:05.608Z"
   },
   {
    "duration": 12,
    "start_time": "2022-08-12T23:33:05.622Z"
   },
   {
    "duration": 14,
    "start_time": "2022-08-12T23:33:05.635Z"
   },
   {
    "duration": 8,
    "start_time": "2022-08-12T23:33:05.650Z"
   },
   {
    "duration": 4,
    "start_time": "2022-08-12T23:33:05.660Z"
   },
   {
    "duration": 41,
    "start_time": "2022-08-12T23:33:05.665Z"
   },
   {
    "duration": 17,
    "start_time": "2022-08-12T23:33:05.708Z"
   },
   {
    "duration": 14,
    "start_time": "2022-08-12T23:33:05.726Z"
   },
   {
    "duration": 70,
    "start_time": "2022-08-12T23:33:05.741Z"
   },
   {
    "duration": 2,
    "start_time": "2022-08-12T23:33:05.812Z"
   },
   {
    "duration": 10,
    "start_time": "2022-08-12T23:33:05.816Z"
   },
   {
    "duration": 2586,
    "start_time": "2022-08-12T23:33:05.828Z"
   },
   {
    "duration": 4,
    "start_time": "2022-08-12T23:33:08.416Z"
   },
   {
    "duration": 613,
    "start_time": "2022-08-12T23:33:08.421Z"
   },
   {
    "duration": 2,
    "start_time": "2022-08-12T23:33:09.035Z"
   },
   {
    "duration": 7,
    "start_time": "2022-08-12T23:33:09.038Z"
   },
   {
    "duration": 4,
    "start_time": "2022-08-12T23:33:09.047Z"
   },
   {
    "duration": 5,
    "start_time": "2022-08-12T23:33:09.053Z"
   },
   {
    "duration": 5,
    "start_time": "2022-08-12T23:33:09.059Z"
   },
   {
    "duration": 4,
    "start_time": "2022-08-12T23:33:09.065Z"
   },
   {
    "duration": 5,
    "start_time": "2022-08-12T23:33:09.070Z"
   },
   {
    "duration": 7,
    "start_time": "2022-08-12T23:33:52.982Z"
   },
   {
    "duration": 3,
    "start_time": "2022-08-12T23:34:10.282Z"
   },
   {
    "duration": 138,
    "start_time": "2022-08-12T23:34:10.287Z"
   },
   {
    "duration": 54,
    "start_time": "2022-08-12T23:34:10.427Z"
   },
   {
    "duration": 16,
    "start_time": "2022-08-12T23:34:10.505Z"
   },
   {
    "duration": 14,
    "start_time": "2022-08-12T23:34:10.523Z"
   },
   {
    "duration": 34,
    "start_time": "2022-08-12T23:34:10.538Z"
   },
   {
    "duration": 52,
    "start_time": "2022-08-12T23:34:10.574Z"
   },
   {
    "duration": 5,
    "start_time": "2022-08-12T23:34:10.628Z"
   },
   {
    "duration": 21,
    "start_time": "2022-08-12T23:34:10.634Z"
   },
   {
    "duration": 5,
    "start_time": "2022-08-12T23:34:10.656Z"
   },
   {
    "duration": 3,
    "start_time": "2022-08-12T23:34:10.664Z"
   },
   {
    "duration": 5,
    "start_time": "2022-08-12T23:34:10.669Z"
   },
   {
    "duration": 40,
    "start_time": "2022-08-12T23:34:10.675Z"
   },
   {
    "duration": 9,
    "start_time": "2022-08-12T23:34:10.716Z"
   },
   {
    "duration": 19,
    "start_time": "2022-08-12T23:34:10.727Z"
   },
   {
    "duration": 12,
    "start_time": "2022-08-12T23:34:10.747Z"
   },
   {
    "duration": 8,
    "start_time": "2022-08-12T23:34:10.760Z"
   },
   {
    "duration": 6,
    "start_time": "2022-08-12T23:34:10.769Z"
   },
   {
    "duration": 48,
    "start_time": "2022-08-12T23:34:10.776Z"
   },
   {
    "duration": 13,
    "start_time": "2022-08-12T23:34:10.825Z"
   },
   {
    "duration": 8,
    "start_time": "2022-08-12T23:34:10.839Z"
   },
   {
    "duration": 18,
    "start_time": "2022-08-12T23:34:10.848Z"
   },
   {
    "duration": 6,
    "start_time": "2022-08-12T23:34:10.867Z"
   },
   {
    "duration": 40,
    "start_time": "2022-08-12T23:34:10.874Z"
   },
   {
    "duration": 13,
    "start_time": "2022-08-12T23:34:10.916Z"
   },
   {
    "duration": 49,
    "start_time": "2022-08-12T23:34:10.931Z"
   },
   {
    "duration": 26,
    "start_time": "2022-08-12T23:34:10.981Z"
   },
   {
    "duration": 28,
    "start_time": "2022-08-12T23:34:11.009Z"
   },
   {
    "duration": 15,
    "start_time": "2022-08-12T23:34:11.040Z"
   },
   {
    "duration": 15,
    "start_time": "2022-08-12T23:34:11.057Z"
   },
   {
    "duration": 38,
    "start_time": "2022-08-12T23:34:11.073Z"
   },
   {
    "duration": 7,
    "start_time": "2022-08-12T23:34:11.113Z"
   },
   {
    "duration": 3,
    "start_time": "2022-08-12T23:34:11.121Z"
   },
   {
    "duration": 21,
    "start_time": "2022-08-12T23:34:11.125Z"
   },
   {
    "duration": 19,
    "start_time": "2022-08-12T23:34:11.147Z"
   },
   {
    "duration": 14,
    "start_time": "2022-08-12T23:34:11.167Z"
   },
   {
    "duration": 77,
    "start_time": "2022-08-12T23:34:11.183Z"
   },
   {
    "duration": 2,
    "start_time": "2022-08-12T23:34:11.262Z"
   },
   {
    "duration": 12,
    "start_time": "2022-08-12T23:34:11.265Z"
   },
   {
    "duration": 2668,
    "start_time": "2022-08-12T23:34:11.278Z"
   },
   {
    "duration": 4,
    "start_time": "2022-08-12T23:34:13.948Z"
   },
   {
    "duration": 918,
    "start_time": "2022-08-12T23:34:13.953Z"
   },
   {
    "duration": 2,
    "start_time": "2022-08-12T23:34:14.873Z"
   },
   {
    "duration": 6,
    "start_time": "2022-08-12T23:34:14.876Z"
   },
   {
    "duration": 5,
    "start_time": "2022-08-12T23:34:14.884Z"
   },
   {
    "duration": 3,
    "start_time": "2022-08-12T23:34:14.905Z"
   },
   {
    "duration": 4,
    "start_time": "2022-08-12T23:34:14.909Z"
   },
   {
    "duration": 11,
    "start_time": "2022-08-12T23:34:14.914Z"
   },
   {
    "duration": 6,
    "start_time": "2022-08-12T23:34:14.926Z"
   },
   {
    "duration": 376,
    "start_time": "2022-08-12T23:35:19.857Z"
   },
   {
    "duration": 2595,
    "start_time": "2022-08-12T23:37:50.591Z"
   },
   {
    "duration": 2542,
    "start_time": "2022-08-12T23:38:48.044Z"
   },
   {
    "duration": 2361,
    "start_time": "2022-08-12T23:39:14.084Z"
   },
   {
    "duration": 1764,
    "start_time": "2022-08-12T23:41:25.960Z"
   },
   {
    "duration": 1469,
    "start_time": "2022-08-12T23:42:41.452Z"
   },
   {
    "duration": 588,
    "start_time": "2022-08-12T23:43:16.843Z"
   },
   {
    "duration": 607,
    "start_time": "2022-08-12T23:43:29.660Z"
   },
   {
    "duration": 604,
    "start_time": "2022-08-12T23:44:17.328Z"
   },
   {
    "duration": 601,
    "start_time": "2022-08-12T23:45:59.210Z"
   },
   {
    "duration": 974,
    "start_time": "2022-08-12T23:47:36.886Z"
   },
   {
    "duration": 612,
    "start_time": "2022-08-12T23:47:56.272Z"
   },
   {
    "duration": 659,
    "start_time": "2022-08-12T23:48:04.625Z"
   },
   {
    "duration": 678,
    "start_time": "2022-08-12T23:48:34.670Z"
   },
   {
    "duration": 594,
    "start_time": "2022-08-12T23:49:20.019Z"
   },
   {
    "duration": 599,
    "start_time": "2022-08-12T23:53:18.434Z"
   },
   {
    "duration": 29,
    "start_time": "2022-08-12T23:55:42.695Z"
   },
   {
    "duration": 25,
    "start_time": "2022-08-12T23:56:09.628Z"
   },
   {
    "duration": 24,
    "start_time": "2022-08-12T23:57:16.269Z"
   },
   {
    "duration": 41,
    "start_time": "2022-08-12T23:58:00.494Z"
   },
   {
    "duration": 713,
    "start_time": "2022-08-13T00:00:09.123Z"
   },
   {
    "duration": 390,
    "start_time": "2022-08-13T00:00:25.919Z"
   },
   {
    "duration": 637,
    "start_time": "2022-08-13T00:01:56.055Z"
   },
   {
    "duration": 581,
    "start_time": "2022-08-13T00:02:09.819Z"
   },
   {
    "duration": 574,
    "start_time": "2022-08-13T00:03:07.600Z"
   },
   {
    "duration": 3,
    "start_time": "2022-08-13T00:04:49.688Z"
   },
   {
    "duration": 133,
    "start_time": "2022-08-13T00:04:49.695Z"
   },
   {
    "duration": 48,
    "start_time": "2022-08-13T00:04:49.830Z"
   },
   {
    "duration": 29,
    "start_time": "2022-08-13T00:04:49.879Z"
   },
   {
    "duration": 15,
    "start_time": "2022-08-13T00:04:49.909Z"
   },
   {
    "duration": 32,
    "start_time": "2022-08-13T00:04:49.925Z"
   },
   {
    "duration": 48,
    "start_time": "2022-08-13T00:04:49.958Z"
   },
   {
    "duration": 5,
    "start_time": "2022-08-13T00:04:50.007Z"
   },
   {
    "duration": 22,
    "start_time": "2022-08-13T00:04:50.013Z"
   },
   {
    "duration": 4,
    "start_time": "2022-08-13T00:04:50.036Z"
   },
   {
    "duration": 7,
    "start_time": "2022-08-13T00:04:50.043Z"
   },
   {
    "duration": 6,
    "start_time": "2022-08-13T00:04:50.052Z"
   },
   {
    "duration": 17,
    "start_time": "2022-08-13T00:04:50.059Z"
   },
   {
    "duration": 37,
    "start_time": "2022-08-13T00:04:50.077Z"
   },
   {
    "duration": 23,
    "start_time": "2022-08-13T00:04:50.115Z"
   },
   {
    "duration": 12,
    "start_time": "2022-08-13T00:04:50.139Z"
   },
   {
    "duration": 8,
    "start_time": "2022-08-13T00:04:50.153Z"
   },
   {
    "duration": 4,
    "start_time": "2022-08-13T00:04:50.162Z"
   },
   {
    "duration": 47,
    "start_time": "2022-08-13T00:04:50.167Z"
   },
   {
    "duration": 11,
    "start_time": "2022-08-13T00:04:50.216Z"
   },
   {
    "duration": 8,
    "start_time": "2022-08-13T00:04:50.228Z"
   },
   {
    "duration": 19,
    "start_time": "2022-08-13T00:04:50.237Z"
   },
   {
    "duration": 6,
    "start_time": "2022-08-13T00:04:50.257Z"
   },
   {
    "duration": 43,
    "start_time": "2022-08-13T00:04:50.264Z"
   },
   {
    "duration": 14,
    "start_time": "2022-08-13T00:04:50.308Z"
   },
   {
    "duration": 46,
    "start_time": "2022-08-13T00:04:50.323Z"
   },
   {
    "duration": 5,
    "start_time": "2022-08-13T00:04:50.370Z"
   },
   {
    "duration": 50,
    "start_time": "2022-08-13T00:04:50.376Z"
   },
   {
    "duration": 16,
    "start_time": "2022-08-13T00:04:50.429Z"
   },
   {
    "duration": 13,
    "start_time": "2022-08-13T00:04:50.447Z"
   },
   {
    "duration": 17,
    "start_time": "2022-08-13T00:04:50.461Z"
   },
   {
    "duration": 28,
    "start_time": "2022-08-13T00:04:50.479Z"
   },
   {
    "duration": 3,
    "start_time": "2022-08-13T00:04:50.509Z"
   },
   {
    "duration": 21,
    "start_time": "2022-08-13T00:04:50.513Z"
   },
   {
    "duration": 21,
    "start_time": "2022-08-13T00:04:50.535Z"
   },
   {
    "duration": 18,
    "start_time": "2022-08-13T00:04:50.557Z"
   },
   {
    "duration": 62,
    "start_time": "2022-08-13T00:04:50.606Z"
   },
   {
    "duration": 3,
    "start_time": "2022-08-13T00:04:50.669Z"
   },
   {
    "duration": 12,
    "start_time": "2022-08-13T00:04:50.673Z"
   },
   {
    "duration": 665,
    "start_time": "2022-08-13T00:04:50.686Z"
   },
   {
    "duration": 26,
    "start_time": "2022-08-13T00:04:51.352Z"
   },
   {
    "duration": 60,
    "start_time": "2022-08-13T00:04:51.379Z"
   },
   {
    "duration": 923,
    "start_time": "2022-08-13T00:04:51.441Z"
   },
   {
    "duration": 4,
    "start_time": "2022-08-13T00:04:52.366Z"
   },
   {
    "duration": 425,
    "start_time": "2022-08-13T00:04:52.372Z"
   },
   {
    "duration": 3,
    "start_time": "2022-08-13T00:04:52.806Z"
   },
   {
    "duration": 6,
    "start_time": "2022-08-13T00:04:52.810Z"
   },
   {
    "duration": 4,
    "start_time": "2022-08-13T00:04:52.817Z"
   },
   {
    "duration": 4,
    "start_time": "2022-08-13T00:04:52.823Z"
   },
   {
    "duration": 4,
    "start_time": "2022-08-13T00:04:52.829Z"
   },
   {
    "duration": 6,
    "start_time": "2022-08-13T00:04:52.835Z"
   },
   {
    "duration": 6,
    "start_time": "2022-08-13T00:04:52.843Z"
   },
   {
    "duration": 662,
    "start_time": "2022-08-13T00:05:37.796Z"
   },
   {
    "duration": 49,
    "start_time": "2022-08-13T07:28:44.030Z"
   },
   {
    "duration": 800,
    "start_time": "2022-08-13T07:28:53.687Z"
   },
   {
    "duration": 177,
    "start_time": "2022-08-13T07:28:54.489Z"
   },
   {
    "duration": 59,
    "start_time": "2022-08-13T07:28:54.668Z"
   },
   {
    "duration": 17,
    "start_time": "2022-08-13T07:28:54.729Z"
   },
   {
    "duration": 14,
    "start_time": "2022-08-13T07:28:54.748Z"
   },
   {
    "duration": 48,
    "start_time": "2022-08-13T07:28:54.763Z"
   },
   {
    "duration": 29,
    "start_time": "2022-08-13T07:28:54.813Z"
   },
   {
    "duration": 5,
    "start_time": "2022-08-13T07:28:54.844Z"
   },
   {
    "duration": 24,
    "start_time": "2022-08-13T07:28:54.851Z"
   },
   {
    "duration": 4,
    "start_time": "2022-08-13T07:28:54.876Z"
   },
   {
    "duration": 29,
    "start_time": "2022-08-13T07:28:54.882Z"
   },
   {
    "duration": 5,
    "start_time": "2022-08-13T07:28:54.913Z"
   },
   {
    "duration": 16,
    "start_time": "2022-08-13T07:28:54.920Z"
   },
   {
    "duration": 9,
    "start_time": "2022-08-13T07:28:54.939Z"
   },
   {
    "duration": 20,
    "start_time": "2022-08-13T07:28:54.949Z"
   },
   {
    "duration": 42,
    "start_time": "2022-08-13T07:28:54.970Z"
   },
   {
    "duration": 10,
    "start_time": "2022-08-13T07:28:55.013Z"
   },
   {
    "duration": 4,
    "start_time": "2022-08-13T07:28:55.024Z"
   },
   {
    "duration": 27,
    "start_time": "2022-08-13T07:28:55.030Z"
   },
   {
    "duration": 16,
    "start_time": "2022-08-13T07:28:55.058Z"
   },
   {
    "duration": 36,
    "start_time": "2022-08-13T07:28:55.075Z"
   },
   {
    "duration": 22,
    "start_time": "2022-08-13T07:28:55.112Z"
   },
   {
    "duration": 778,
    "start_time": "2022-08-13T07:28:55.136Z"
   },
   {
    "duration": 0,
    "start_time": "2022-08-13T07:28:55.916Z"
   },
   {
    "duration": 0,
    "start_time": "2022-08-13T07:28:55.916Z"
   },
   {
    "duration": 0,
    "start_time": "2022-08-13T07:28:55.917Z"
   },
   {
    "duration": 0,
    "start_time": "2022-08-13T07:28:55.918Z"
   },
   {
    "duration": 0,
    "start_time": "2022-08-13T07:28:55.919Z"
   },
   {
    "duration": 0,
    "start_time": "2022-08-13T07:28:55.920Z"
   },
   {
    "duration": 0,
    "start_time": "2022-08-13T07:28:55.921Z"
   },
   {
    "duration": 0,
    "start_time": "2022-08-13T07:28:55.922Z"
   },
   {
    "duration": 0,
    "start_time": "2022-08-13T07:28:55.923Z"
   },
   {
    "duration": 0,
    "start_time": "2022-08-13T07:28:55.923Z"
   },
   {
    "duration": 0,
    "start_time": "2022-08-13T07:28:55.924Z"
   },
   {
    "duration": 0,
    "start_time": "2022-08-13T07:28:55.925Z"
   },
   {
    "duration": 0,
    "start_time": "2022-08-13T07:28:55.926Z"
   },
   {
    "duration": 0,
    "start_time": "2022-08-13T07:28:55.927Z"
   },
   {
    "duration": 0,
    "start_time": "2022-08-13T07:28:55.928Z"
   },
   {
    "duration": 0,
    "start_time": "2022-08-13T07:28:55.929Z"
   },
   {
    "duration": 0,
    "start_time": "2022-08-13T07:28:55.930Z"
   },
   {
    "duration": 0,
    "start_time": "2022-08-13T07:28:55.931Z"
   },
   {
    "duration": 0,
    "start_time": "2022-08-13T07:28:55.931Z"
   },
   {
    "duration": 0,
    "start_time": "2022-08-13T07:28:55.933Z"
   },
   {
    "duration": 0,
    "start_time": "2022-08-13T07:28:55.933Z"
   },
   {
    "duration": 0,
    "start_time": "2022-08-13T07:28:55.934Z"
   },
   {
    "duration": 0,
    "start_time": "2022-08-13T07:28:55.935Z"
   },
   {
    "duration": 0,
    "start_time": "2022-08-13T07:28:55.936Z"
   },
   {
    "duration": 0,
    "start_time": "2022-08-13T07:28:55.937Z"
   },
   {
    "duration": 0,
    "start_time": "2022-08-13T07:28:55.938Z"
   },
   {
    "duration": 0,
    "start_time": "2022-08-13T07:28:55.941Z"
   },
   {
    "duration": 0,
    "start_time": "2022-08-13T07:28:55.942Z"
   },
   {
    "duration": 0,
    "start_time": "2022-08-13T07:28:55.943Z"
   },
   {
    "duration": 2,
    "start_time": "2022-08-13T07:29:17.173Z"
   },
   {
    "duration": 122,
    "start_time": "2022-08-13T07:29:17.197Z"
   },
   {
    "duration": 53,
    "start_time": "2022-08-13T07:29:17.321Z"
   },
   {
    "duration": 16,
    "start_time": "2022-08-13T07:29:17.375Z"
   },
   {
    "duration": 33,
    "start_time": "2022-08-13T07:29:17.393Z"
   },
   {
    "duration": 46,
    "start_time": "2022-08-13T07:29:17.427Z"
   },
   {
    "duration": 40,
    "start_time": "2022-08-13T07:29:17.474Z"
   },
   {
    "duration": 6,
    "start_time": "2022-08-13T07:29:17.516Z"
   },
   {
    "duration": 22,
    "start_time": "2022-08-13T07:29:17.523Z"
   },
   {
    "duration": 4,
    "start_time": "2022-08-13T07:29:17.546Z"
   },
   {
    "duration": 4,
    "start_time": "2022-08-13T07:29:17.552Z"
   },
   {
    "duration": 4,
    "start_time": "2022-08-13T07:29:17.558Z"
   },
   {
    "duration": 47,
    "start_time": "2022-08-13T07:29:17.564Z"
   },
   {
    "duration": 10,
    "start_time": "2022-08-13T07:29:17.612Z"
   },
   {
    "duration": 19,
    "start_time": "2022-08-13T07:29:17.623Z"
   },
   {
    "duration": 14,
    "start_time": "2022-08-13T07:29:17.643Z"
   },
   {
    "duration": 8,
    "start_time": "2022-08-13T07:29:17.658Z"
   },
   {
    "duration": 3,
    "start_time": "2022-08-13T07:29:17.668Z"
   },
   {
    "duration": 54,
    "start_time": "2022-08-13T07:29:17.672Z"
   },
   {
    "duration": 16,
    "start_time": "2022-08-13T07:29:17.727Z"
   },
   {
    "duration": 8,
    "start_time": "2022-08-13T07:29:17.744Z"
   },
   {
    "duration": 18,
    "start_time": "2022-08-13T07:29:17.754Z"
   },
   {
    "duration": 5,
    "start_time": "2022-08-13T07:29:17.773Z"
   },
   {
    "duration": 45,
    "start_time": "2022-08-13T07:29:17.779Z"
   },
   {
    "duration": 14,
    "start_time": "2022-08-13T07:29:17.825Z"
   },
   {
    "duration": 50,
    "start_time": "2022-08-13T07:29:17.840Z"
   },
   {
    "duration": 23,
    "start_time": "2022-08-13T07:29:17.892Z"
   },
   {
    "duration": 31,
    "start_time": "2022-08-13T07:29:17.916Z"
   },
   {
    "duration": 15,
    "start_time": "2022-08-13T07:29:17.951Z"
   },
   {
    "duration": 13,
    "start_time": "2022-08-13T07:29:17.967Z"
   },
   {
    "duration": 36,
    "start_time": "2022-08-13T07:29:17.981Z"
   },
   {
    "duration": 6,
    "start_time": "2022-08-13T07:29:18.019Z"
   },
   {
    "duration": 3,
    "start_time": "2022-08-13T07:29:18.026Z"
   },
   {
    "duration": 21,
    "start_time": "2022-08-13T07:29:18.030Z"
   },
   {
    "duration": 19,
    "start_time": "2022-08-13T07:29:18.052Z"
   },
   {
    "duration": 40,
    "start_time": "2022-08-13T07:29:18.072Z"
   },
   {
    "duration": 61,
    "start_time": "2022-08-13T07:29:18.113Z"
   },
   {
    "duration": 462,
    "start_time": "2022-08-13T07:29:18.176Z"
   },
   {
    "duration": 9,
    "start_time": "2022-08-13T07:29:18.639Z"
   },
   {
    "duration": 667,
    "start_time": "2022-08-13T07:29:18.649Z"
   },
   {
    "duration": 22,
    "start_time": "2022-08-13T07:29:19.317Z"
   },
   {
    "duration": 40,
    "start_time": "2022-08-13T07:29:19.340Z"
   },
   {
    "duration": 622,
    "start_time": "2022-08-13T07:29:19.381Z"
   },
   {
    "duration": 11,
    "start_time": "2022-08-13T07:29:20.004Z"
   },
   {
    "duration": 377,
    "start_time": "2022-08-13T07:29:20.016Z"
   },
   {
    "duration": 2,
    "start_time": "2022-08-13T07:29:20.394Z"
   },
   {
    "duration": 13,
    "start_time": "2022-08-13T07:29:20.398Z"
   },
   {
    "duration": 2,
    "start_time": "2022-08-13T07:29:20.412Z"
   },
   {
    "duration": 4,
    "start_time": "2022-08-13T07:29:20.415Z"
   },
   {
    "duration": 4,
    "start_time": "2022-08-13T07:29:20.420Z"
   },
   {
    "duration": 7,
    "start_time": "2022-08-13T07:29:20.425Z"
   },
   {
    "duration": 4,
    "start_time": "2022-08-13T07:29:20.433Z"
   },
   {
    "duration": 3,
    "start_time": "2022-08-13T07:30:41.338Z"
   },
   {
    "duration": 5,
    "start_time": "2022-08-13T07:30:45.983Z"
   },
   {
    "duration": 6,
    "start_time": "2022-08-13T07:31:16.237Z"
   },
   {
    "duration": 16,
    "start_time": "2022-08-13T07:31:47.535Z"
   },
   {
    "duration": 3,
    "start_time": "2022-08-13T07:33:39.549Z"
   },
   {
    "duration": 124,
    "start_time": "2022-08-13T07:33:39.555Z"
   },
   {
    "duration": 58,
    "start_time": "2022-08-13T07:33:39.681Z"
   },
   {
    "duration": 16,
    "start_time": "2022-08-13T07:33:39.740Z"
   },
   {
    "duration": 14,
    "start_time": "2022-08-13T07:33:39.758Z"
   },
   {
    "duration": 54,
    "start_time": "2022-08-13T07:33:39.773Z"
   },
   {
    "duration": 27,
    "start_time": "2022-08-13T07:33:39.828Z"
   },
   {
    "duration": 6,
    "start_time": "2022-08-13T07:33:39.856Z"
   },
   {
    "duration": 23,
    "start_time": "2022-08-13T07:33:39.863Z"
   },
   {
    "duration": 5,
    "start_time": "2022-08-13T07:33:39.968Z"
   },
   {
    "duration": 16,
    "start_time": "2022-08-13T07:33:39.975Z"
   },
   {
    "duration": 5,
    "start_time": "2022-08-13T07:33:40.060Z"
   },
   {
    "duration": 19,
    "start_time": "2022-08-13T07:33:40.067Z"
   },
   {
    "duration": 15,
    "start_time": "2022-08-13T07:33:40.088Z"
   },
   {
    "duration": 23,
    "start_time": "2022-08-13T07:33:40.105Z"
   },
   {
    "duration": 14,
    "start_time": "2022-08-13T07:33:40.130Z"
   },
   {
    "duration": 26,
    "start_time": "2022-08-13T07:33:40.146Z"
   },
   {
    "duration": 15,
    "start_time": "2022-08-13T07:33:40.174Z"
   },
   {
    "duration": 51,
    "start_time": "2022-08-13T07:33:40.190Z"
   },
   {
    "duration": 17,
    "start_time": "2022-08-13T07:33:40.243Z"
   },
   {
    "duration": 13,
    "start_time": "2022-08-13T07:33:40.262Z"
   },
   {
    "duration": 26,
    "start_time": "2022-08-13T07:33:40.277Z"
   },
   {
    "duration": 8,
    "start_time": "2022-08-13T07:33:40.304Z"
   },
   {
    "duration": 31,
    "start_time": "2022-08-13T07:33:40.315Z"
   },
   {
    "duration": 13,
    "start_time": "2022-08-13T07:33:40.348Z"
   },
   {
    "duration": 15,
    "start_time": "2022-08-13T07:33:40.363Z"
   },
   {
    "duration": 119,
    "start_time": "2022-08-13T07:33:40.379Z"
   },
   {
    "duration": 11,
    "start_time": "2022-08-13T07:33:40.500Z"
   },
   {
    "duration": 41,
    "start_time": "2022-08-13T07:33:40.512Z"
   },
   {
    "duration": 3,
    "start_time": "2022-08-13T07:33:40.554Z"
   },
   {
    "duration": 22,
    "start_time": "2022-08-13T07:33:40.558Z"
   },
   {
    "duration": 35,
    "start_time": "2022-08-13T07:33:40.582Z"
   },
   {
    "duration": 15,
    "start_time": "2022-08-13T07:33:40.619Z"
   },
   {
    "duration": 18,
    "start_time": "2022-08-13T07:33:40.636Z"
   },
   {
    "duration": 29,
    "start_time": "2022-08-13T07:33:40.656Z"
   },
   {
    "duration": 21,
    "start_time": "2022-08-13T07:33:40.687Z"
   },
   {
    "duration": 16,
    "start_time": "2022-08-13T07:33:40.710Z"
   },
   {
    "duration": 55,
    "start_time": "2022-08-13T07:33:40.727Z"
   },
   {
    "duration": 3,
    "start_time": "2022-08-13T07:33:40.783Z"
   },
   {
    "duration": 33,
    "start_time": "2022-08-13T07:33:40.787Z"
   },
   {
    "duration": 623,
    "start_time": "2022-08-13T07:33:40.821Z"
   },
   {
    "duration": 28,
    "start_time": "2022-08-13T07:33:41.446Z"
   },
   {
    "duration": 56,
    "start_time": "2022-08-13T07:33:41.476Z"
   },
   {
    "duration": 662,
    "start_time": "2022-08-13T07:33:41.534Z"
   },
   {
    "duration": 14,
    "start_time": "2022-08-13T07:33:42.197Z"
   },
   {
    "duration": 403,
    "start_time": "2022-08-13T07:33:42.212Z"
   },
   {
    "duration": 3,
    "start_time": "2022-08-13T07:33:42.618Z"
   },
   {
    "duration": 23,
    "start_time": "2022-08-13T07:33:42.623Z"
   },
   {
    "duration": 5,
    "start_time": "2022-08-13T07:33:42.648Z"
   },
   {
    "duration": 5,
    "start_time": "2022-08-13T07:33:42.655Z"
   },
   {
    "duration": 7,
    "start_time": "2022-08-13T07:33:42.662Z"
   },
   {
    "duration": 11,
    "start_time": "2022-08-13T07:33:42.671Z"
   },
   {
    "duration": 12,
    "start_time": "2022-08-13T07:33:42.684Z"
   },
   {
    "duration": 42,
    "start_time": "2022-08-13T17:56:58.116Z"
   },
   {
    "duration": 56,
    "start_time": "2022-08-13T17:57:18.467Z"
   },
   {
    "duration": 6,
    "start_time": "2022-08-13T17:57:25.230Z"
   },
   {
    "duration": 669,
    "start_time": "2022-08-13T17:57:31.351Z"
   },
   {
    "duration": 170,
    "start_time": "2022-08-13T17:57:32.022Z"
   },
   {
    "duration": 56,
    "start_time": "2022-08-13T17:57:32.193Z"
   },
   {
    "duration": 15,
    "start_time": "2022-08-13T17:57:32.250Z"
   },
   {
    "duration": 14,
    "start_time": "2022-08-13T17:57:32.267Z"
   },
   {
    "duration": 46,
    "start_time": "2022-08-13T17:57:32.283Z"
   },
   {
    "duration": 23,
    "start_time": "2022-08-13T17:57:32.331Z"
   },
   {
    "duration": 5,
    "start_time": "2022-08-13T17:57:32.355Z"
   },
   {
    "duration": 19,
    "start_time": "2022-08-13T17:57:32.361Z"
   },
   {
    "duration": 4,
    "start_time": "2022-08-13T17:57:32.398Z"
   },
   {
    "duration": 6,
    "start_time": "2022-08-13T17:57:32.403Z"
   },
   {
    "duration": 5,
    "start_time": "2022-08-13T17:57:32.411Z"
   },
   {
    "duration": 13,
    "start_time": "2022-08-13T17:57:32.417Z"
   },
   {
    "duration": 8,
    "start_time": "2022-08-13T17:57:32.433Z"
   },
   {
    "duration": 17,
    "start_time": "2022-08-13T17:57:32.442Z"
   },
   {
    "duration": 41,
    "start_time": "2022-08-13T17:57:32.460Z"
   },
   {
    "duration": 8,
    "start_time": "2022-08-13T17:57:32.502Z"
   },
   {
    "duration": 3,
    "start_time": "2022-08-13T17:57:32.511Z"
   },
   {
    "duration": 19,
    "start_time": "2022-08-13T17:57:32.516Z"
   },
   {
    "duration": 12,
    "start_time": "2022-08-13T17:57:32.536Z"
   },
   {
    "duration": 8,
    "start_time": "2022-08-13T17:57:32.549Z"
   },
   {
    "duration": 47,
    "start_time": "2022-08-13T17:57:32.558Z"
   },
   {
    "duration": 6,
    "start_time": "2022-08-13T17:57:32.606Z"
   },
   {
    "duration": 15,
    "start_time": "2022-08-13T17:57:32.613Z"
   },
   {
    "duration": 10,
    "start_time": "2022-08-13T17:57:32.630Z"
   },
   {
    "duration": 14,
    "start_time": "2022-08-13T17:57:32.641Z"
   },
   {
    "duration": 66,
    "start_time": "2022-08-13T17:57:32.657Z"
   },
   {
    "duration": 6,
    "start_time": "2022-08-13T17:57:32.724Z"
   },
   {
    "duration": 25,
    "start_time": "2022-08-13T17:57:32.731Z"
   },
   {
    "duration": 2,
    "start_time": "2022-08-13T17:57:32.757Z"
   },
   {
    "duration": 13,
    "start_time": "2022-08-13T17:57:32.760Z"
   },
   {
    "duration": 31,
    "start_time": "2022-08-13T17:57:32.774Z"
   },
   {
    "duration": 7,
    "start_time": "2022-08-13T17:57:32.806Z"
   },
   {
    "duration": 4,
    "start_time": "2022-08-13T17:57:32.814Z"
   },
   {
    "duration": 18,
    "start_time": "2022-08-13T17:57:32.819Z"
   },
   {
    "duration": 17,
    "start_time": "2022-08-13T17:57:32.838Z"
   },
   {
    "duration": 12,
    "start_time": "2022-08-13T17:57:32.856Z"
   },
   {
    "duration": 78,
    "start_time": "2022-08-13T17:57:32.870Z"
   },
   {
    "duration": 451,
    "start_time": "2022-08-13T17:57:32.949Z"
   },
   {
    "duration": 8,
    "start_time": "2022-08-13T17:57:33.401Z"
   },
   {
    "duration": 642,
    "start_time": "2022-08-13T17:57:33.413Z"
   },
   {
    "duration": 22,
    "start_time": "2022-08-13T17:57:34.057Z"
   },
   {
    "duration": 52,
    "start_time": "2022-08-13T17:57:34.081Z"
   },
   {
    "duration": 611,
    "start_time": "2022-08-13T17:57:34.134Z"
   },
   {
    "duration": 4,
    "start_time": "2022-08-13T17:57:34.746Z"
   },
   {
    "duration": 354,
    "start_time": "2022-08-13T17:57:34.752Z"
   },
   {
    "duration": 2,
    "start_time": "2022-08-13T17:57:35.107Z"
   },
   {
    "duration": 4,
    "start_time": "2022-08-13T17:57:35.111Z"
   },
   {
    "duration": 7,
    "start_time": "2022-08-13T17:57:35.116Z"
   },
   {
    "duration": 7,
    "start_time": "2022-08-13T17:57:35.125Z"
   },
   {
    "duration": 8,
    "start_time": "2022-08-13T17:57:35.134Z"
   },
   {
    "duration": 8,
    "start_time": "2022-08-13T17:57:35.143Z"
   },
   {
    "duration": 7,
    "start_time": "2022-08-13T17:57:35.152Z"
   },
   {
    "duration": 10,
    "start_time": "2022-08-13T18:01:41.568Z"
   },
   {
    "duration": 2,
    "start_time": "2022-08-13T18:02:59.707Z"
   },
   {
    "duration": 123,
    "start_time": "2022-08-13T18:02:59.714Z"
   },
   {
    "duration": 67,
    "start_time": "2022-08-13T18:02:59.839Z"
   },
   {
    "duration": 17,
    "start_time": "2022-08-13T18:02:59.907Z"
   },
   {
    "duration": 13,
    "start_time": "2022-08-13T18:02:59.926Z"
   },
   {
    "duration": 66,
    "start_time": "2022-08-13T18:02:59.941Z"
   },
   {
    "duration": 24,
    "start_time": "2022-08-13T18:03:00.009Z"
   },
   {
    "duration": 5,
    "start_time": "2022-08-13T18:03:00.034Z"
   },
   {
    "duration": 23,
    "start_time": "2022-08-13T18:03:00.041Z"
   },
   {
    "duration": 3,
    "start_time": "2022-08-13T18:03:00.066Z"
   },
   {
    "duration": 28,
    "start_time": "2022-08-13T18:03:00.072Z"
   },
   {
    "duration": 4,
    "start_time": "2022-08-13T18:03:00.102Z"
   },
   {
    "duration": 19,
    "start_time": "2022-08-13T18:03:00.107Z"
   },
   {
    "duration": 18,
    "start_time": "2022-08-13T18:03:00.127Z"
   },
   {
    "duration": 20,
    "start_time": "2022-08-13T18:03:00.146Z"
   },
   {
    "duration": 12,
    "start_time": "2022-08-13T18:03:00.168Z"
   },
   {
    "duration": 25,
    "start_time": "2022-08-13T18:03:00.181Z"
   },
   {
    "duration": 26,
    "start_time": "2022-08-13T18:03:00.207Z"
   },
   {
    "duration": 32,
    "start_time": "2022-08-13T18:03:00.235Z"
   },
   {
    "duration": 16,
    "start_time": "2022-08-13T18:03:00.268Z"
   },
   {
    "duration": 9,
    "start_time": "2022-08-13T18:03:00.286Z"
   },
   {
    "duration": 53,
    "start_time": "2022-08-13T18:03:00.297Z"
   },
   {
    "duration": 19,
    "start_time": "2022-08-13T18:03:00.351Z"
   },
   {
    "duration": 39,
    "start_time": "2022-08-13T18:03:00.371Z"
   },
   {
    "duration": 16,
    "start_time": "2022-08-13T18:03:00.411Z"
   },
   {
    "duration": 12,
    "start_time": "2022-08-13T18:03:00.429Z"
   },
   {
    "duration": 27,
    "start_time": "2022-08-13T18:03:00.443Z"
   },
   {
    "duration": 111,
    "start_time": "2022-08-13T18:03:00.472Z"
   },
   {
    "duration": 13,
    "start_time": "2022-08-13T18:03:00.586Z"
   },
   {
    "duration": 34,
    "start_time": "2022-08-13T18:03:00.600Z"
   },
   {
    "duration": 1,
    "start_time": "2022-08-13T18:03:00.636Z"
   },
   {
    "duration": 35,
    "start_time": "2022-08-13T18:03:00.639Z"
   },
   {
    "duration": 26,
    "start_time": "2022-08-13T18:03:00.675Z"
   },
   {
    "duration": 22,
    "start_time": "2022-08-13T18:03:00.703Z"
   },
   {
    "duration": 15,
    "start_time": "2022-08-13T18:03:00.726Z"
   },
   {
    "duration": 52,
    "start_time": "2022-08-13T18:03:00.742Z"
   },
   {
    "duration": 17,
    "start_time": "2022-08-13T18:03:00.796Z"
   },
   {
    "duration": 24,
    "start_time": "2022-08-13T18:03:00.814Z"
   },
   {
    "duration": 66,
    "start_time": "2022-08-13T18:03:00.839Z"
   },
   {
    "duration": 2,
    "start_time": "2022-08-13T18:03:00.907Z"
   },
   {
    "duration": 16,
    "start_time": "2022-08-13T18:03:00.910Z"
   },
   {
    "duration": 551,
    "start_time": "2022-08-13T18:03:00.927Z"
   },
   {
    "duration": 27,
    "start_time": "2022-08-13T18:03:01.480Z"
   },
   {
    "duration": 37,
    "start_time": "2022-08-13T18:03:01.508Z"
   },
   {
    "duration": 627,
    "start_time": "2022-08-13T18:03:01.546Z"
   },
   {
    "duration": 4,
    "start_time": "2022-08-13T18:03:02.175Z"
   },
   {
    "duration": 357,
    "start_time": "2022-08-13T18:03:02.180Z"
   },
   {
    "duration": 2,
    "start_time": "2022-08-13T18:03:02.538Z"
   },
   {
    "duration": 4,
    "start_time": "2022-08-13T18:03:02.541Z"
   },
   {
    "duration": 4,
    "start_time": "2022-08-13T18:03:02.546Z"
   },
   {
    "duration": 4,
    "start_time": "2022-08-13T18:03:02.551Z"
   },
   {
    "duration": 5,
    "start_time": "2022-08-13T18:03:02.556Z"
   },
   {
    "duration": 3,
    "start_time": "2022-08-13T18:03:02.562Z"
   },
   {
    "duration": 5,
    "start_time": "2022-08-13T18:03:02.567Z"
   },
   {
    "duration": 25,
    "start_time": "2022-08-13T18:09:39.722Z"
   },
   {
    "duration": 77,
    "start_time": "2022-08-13T18:11:06.712Z"
   },
   {
    "duration": 235,
    "start_time": "2022-08-13T18:11:31.252Z"
   },
   {
    "duration": 226,
    "start_time": "2022-08-13T18:11:39.102Z"
   },
   {
    "duration": 26,
    "start_time": "2022-08-13T18:12:05.055Z"
   },
   {
    "duration": 2,
    "start_time": "2022-08-13T18:12:29.548Z"
   },
   {
    "duration": 3,
    "start_time": "2022-08-13T18:28:21.250Z"
   },
   {
    "duration": 136,
    "start_time": "2022-08-13T18:28:21.255Z"
   },
   {
    "duration": 47,
    "start_time": "2022-08-13T18:28:21.393Z"
   },
   {
    "duration": 15,
    "start_time": "2022-08-13T18:28:21.441Z"
   },
   {
    "duration": 919,
    "start_time": "2022-08-13T18:28:21.458Z"
   },
   {
    "duration": 37,
    "start_time": "2022-08-13T18:28:22.378Z"
   },
   {
    "duration": 25,
    "start_time": "2022-08-13T18:28:22.417Z"
   },
   {
    "duration": 6,
    "start_time": "2022-08-13T18:28:22.443Z"
   },
   {
    "duration": 21,
    "start_time": "2022-08-13T18:28:22.451Z"
   },
   {
    "duration": 3,
    "start_time": "2022-08-13T18:28:22.474Z"
   },
   {
    "duration": 3,
    "start_time": "2022-08-13T18:28:22.499Z"
   },
   {
    "duration": 9,
    "start_time": "2022-08-13T18:28:22.504Z"
   },
   {
    "duration": 13,
    "start_time": "2022-08-13T18:28:22.515Z"
   },
   {
    "duration": 9,
    "start_time": "2022-08-13T18:28:22.530Z"
   },
   {
    "duration": 18,
    "start_time": "2022-08-13T18:28:22.541Z"
   },
   {
    "duration": 42,
    "start_time": "2022-08-13T18:28:22.560Z"
   },
   {
    "duration": 8,
    "start_time": "2022-08-13T18:28:22.603Z"
   },
   {
    "duration": 3,
    "start_time": "2022-08-13T18:28:22.612Z"
   },
   {
    "duration": 5,
    "start_time": "2022-08-13T18:28:22.616Z"
   },
   {
    "duration": 18,
    "start_time": "2022-08-13T18:28:22.622Z"
   },
   {
    "duration": 12,
    "start_time": "2022-08-13T18:28:22.641Z"
   },
   {
    "duration": 8,
    "start_time": "2022-08-13T18:28:22.654Z"
   },
   {
    "duration": 42,
    "start_time": "2022-08-13T18:28:22.663Z"
   },
   {
    "duration": 3,
    "start_time": "2022-08-13T18:28:22.707Z"
   },
   {
    "duration": 20,
    "start_time": "2022-08-13T18:28:22.712Z"
   },
   {
    "duration": 15,
    "start_time": "2022-08-13T18:28:22.734Z"
   },
   {
    "duration": 13,
    "start_time": "2022-08-13T18:28:22.750Z"
   },
   {
    "duration": 44,
    "start_time": "2022-08-13T18:28:22.764Z"
   },
   {
    "duration": 41,
    "start_time": "2022-08-13T18:28:22.812Z"
   },
   {
    "duration": 6,
    "start_time": "2022-08-13T18:28:22.855Z"
   },
   {
    "duration": 47,
    "start_time": "2022-08-13T18:28:22.863Z"
   },
   {
    "duration": 3,
    "start_time": "2022-08-13T18:28:22.911Z"
   },
   {
    "duration": 13,
    "start_time": "2022-08-13T18:28:22.915Z"
   },
   {
    "duration": 14,
    "start_time": "2022-08-13T18:28:22.930Z"
   },
   {
    "duration": 14,
    "start_time": "2022-08-13T18:28:22.945Z"
   },
   {
    "duration": 5,
    "start_time": "2022-08-13T18:28:22.961Z"
   },
   {
    "duration": 34,
    "start_time": "2022-08-13T18:28:22.967Z"
   },
   {
    "duration": 18,
    "start_time": "2022-08-13T18:28:23.003Z"
   },
   {
    "duration": 14,
    "start_time": "2022-08-13T18:28:23.022Z"
   },
   {
    "duration": 66,
    "start_time": "2022-08-13T18:28:23.038Z"
   },
   {
    "duration": 2,
    "start_time": "2022-08-13T18:28:23.106Z"
   },
   {
    "duration": 10,
    "start_time": "2022-08-13T18:28:23.109Z"
   },
   {
    "duration": 627,
    "start_time": "2022-08-13T18:28:23.120Z"
   },
   {
    "duration": 23,
    "start_time": "2022-08-13T18:28:23.749Z"
   },
   {
    "duration": 59,
    "start_time": "2022-08-13T18:28:23.773Z"
   },
   {
    "duration": 651,
    "start_time": "2022-08-13T18:28:23.833Z"
   },
   {
    "duration": 12,
    "start_time": "2022-08-13T18:28:24.486Z"
   },
   {
    "duration": 386,
    "start_time": "2022-08-13T18:28:24.500Z"
   },
   {
    "duration": 11,
    "start_time": "2022-08-13T18:28:24.887Z"
   },
   {
    "duration": 5,
    "start_time": "2022-08-13T18:28:24.900Z"
   },
   {
    "duration": 9,
    "start_time": "2022-08-13T18:28:24.906Z"
   },
   {
    "duration": 14,
    "start_time": "2022-08-13T18:28:24.917Z"
   },
   {
    "duration": 7,
    "start_time": "2022-08-13T18:28:24.933Z"
   },
   {
    "duration": 4,
    "start_time": "2022-08-13T18:28:24.941Z"
   },
   {
    "duration": 4,
    "start_time": "2022-08-13T18:28:24.946Z"
   },
   {
    "duration": 652,
    "start_time": "2022-08-13T18:49:57.638Z"
   },
   {
    "duration": 18,
    "start_time": "2022-08-13T19:12:06.936Z"
   },
   {
    "duration": 588,
    "start_time": "2022-08-13T19:16:34.840Z"
   },
   {
    "duration": 655,
    "start_time": "2022-08-13T19:16:47.110Z"
   },
   {
    "duration": 573,
    "start_time": "2022-08-13T19:20:02.512Z"
   },
   {
    "duration": 684,
    "start_time": "2022-08-13T19:21:23.887Z"
   },
   {
    "duration": 576,
    "start_time": "2022-08-13T19:21:36.810Z"
   },
   {
    "duration": 644,
    "start_time": "2022-08-13T19:21:46.370Z"
   },
   {
    "duration": 658,
    "start_time": "2022-08-13T19:22:45.798Z"
   },
   {
    "duration": 772,
    "start_time": "2022-08-13T19:25:43.685Z"
   },
   {
    "duration": 693,
    "start_time": "2022-08-13T19:26:47.897Z"
   },
   {
    "duration": 704,
    "start_time": "2022-08-13T19:26:55.294Z"
   },
   {
    "duration": 753,
    "start_time": "2022-08-13T19:28:08.580Z"
   },
   {
    "duration": 676,
    "start_time": "2022-08-13T19:28:27.145Z"
   },
   {
    "duration": 9,
    "start_time": "2022-08-13T20:23:49.775Z"
   },
   {
    "duration": 39,
    "start_time": "2022-08-13T20:25:45.258Z"
   },
   {
    "duration": 38,
    "start_time": "2022-08-13T20:26:00.391Z"
   },
   {
    "duration": 3,
    "start_time": "2022-08-13T20:26:09.821Z"
   },
   {
    "duration": 136,
    "start_time": "2022-08-13T20:26:09.828Z"
   },
   {
    "duration": 66,
    "start_time": "2022-08-13T20:26:09.967Z"
   },
   {
    "duration": 23,
    "start_time": "2022-08-13T20:26:10.035Z"
   },
   {
    "duration": 30,
    "start_time": "2022-08-13T20:26:10.061Z"
   },
   {
    "duration": 35,
    "start_time": "2022-08-13T20:26:10.093Z"
   },
   {
    "duration": 24,
    "start_time": "2022-08-13T20:26:10.130Z"
   },
   {
    "duration": 5,
    "start_time": "2022-08-13T20:26:10.156Z"
   },
   {
    "duration": 39,
    "start_time": "2022-08-13T20:26:10.162Z"
   },
   {
    "duration": 4,
    "start_time": "2022-08-13T20:26:10.203Z"
   },
   {
    "duration": 6,
    "start_time": "2022-08-13T20:26:10.210Z"
   },
   {
    "duration": 5,
    "start_time": "2022-08-13T20:26:10.217Z"
   },
   {
    "duration": 27,
    "start_time": "2022-08-13T20:26:10.224Z"
   },
   {
    "duration": 22,
    "start_time": "2022-08-13T20:26:10.252Z"
   },
   {
    "duration": 28,
    "start_time": "2022-08-13T20:26:10.276Z"
   },
   {
    "duration": 12,
    "start_time": "2022-08-13T20:26:10.305Z"
   },
   {
    "duration": 8,
    "start_time": "2022-08-13T20:26:10.319Z"
   },
   {
    "duration": 2,
    "start_time": "2022-08-13T20:26:10.328Z"
   },
   {
    "duration": 16,
    "start_time": "2022-08-13T20:26:10.332Z"
   },
   {
    "duration": 20,
    "start_time": "2022-08-13T20:26:10.349Z"
   },
   {
    "duration": 30,
    "start_time": "2022-08-13T20:26:10.371Z"
   },
   {
    "duration": 8,
    "start_time": "2022-08-13T20:26:10.403Z"
   },
   {
    "duration": 14,
    "start_time": "2022-08-13T20:26:10.412Z"
   },
   {
    "duration": 3,
    "start_time": "2022-08-13T20:26:10.427Z"
   },
   {
    "duration": 21,
    "start_time": "2022-08-13T20:26:10.431Z"
   },
   {
    "duration": 14,
    "start_time": "2022-08-13T20:26:10.453Z"
   },
   {
    "duration": 43,
    "start_time": "2022-08-13T20:26:10.468Z"
   },
   {
    "duration": 17,
    "start_time": "2022-08-13T20:26:10.512Z"
   },
   {
    "duration": 132,
    "start_time": "2022-08-13T20:26:10.532Z"
   },
   {
    "duration": 5,
    "start_time": "2022-08-13T20:26:10.665Z"
   },
   {
    "duration": 44,
    "start_time": "2022-08-13T20:26:10.671Z"
   },
   {
    "duration": 2,
    "start_time": "2022-08-13T20:26:10.717Z"
   },
   {
    "duration": 17,
    "start_time": "2022-08-13T20:26:10.720Z"
   },
   {
    "duration": 26,
    "start_time": "2022-08-13T20:26:10.738Z"
   },
   {
    "duration": 24,
    "start_time": "2022-08-13T20:26:10.765Z"
   },
   {
    "duration": 23,
    "start_time": "2022-08-13T20:26:10.790Z"
   },
   {
    "duration": 19,
    "start_time": "2022-08-13T20:26:10.815Z"
   },
   {
    "duration": 18,
    "start_time": "2022-08-13T20:26:10.835Z"
   },
   {
    "duration": 15,
    "start_time": "2022-08-13T20:26:10.854Z"
   },
   {
    "duration": 64,
    "start_time": "2022-08-13T20:26:10.870Z"
   },
   {
    "duration": 8,
    "start_time": "2022-08-13T20:26:10.936Z"
   },
   {
    "duration": 575,
    "start_time": "2022-08-13T20:26:10.946Z"
   },
   {
    "duration": 16,
    "start_time": "2022-08-13T20:26:11.522Z"
   },
   {
    "duration": 35,
    "start_time": "2022-08-13T20:26:11.540Z"
   },
   {
    "duration": 782,
    "start_time": "2022-08-13T20:26:11.577Z"
   },
   {
    "duration": 7,
    "start_time": "2022-08-13T20:26:12.362Z"
   },
   {
    "duration": 47,
    "start_time": "2022-08-13T20:26:12.370Z"
   },
   {
    "duration": 2,
    "start_time": "2022-08-13T20:26:12.418Z"
   },
   {
    "duration": 7,
    "start_time": "2022-08-13T20:26:12.422Z"
   },
   {
    "duration": 7,
    "start_time": "2022-08-13T20:26:12.430Z"
   },
   {
    "duration": 7,
    "start_time": "2022-08-13T20:26:12.438Z"
   },
   {
    "duration": 5,
    "start_time": "2022-08-13T20:26:12.446Z"
   },
   {
    "duration": 7,
    "start_time": "2022-08-13T20:26:12.452Z"
   },
   {
    "duration": 8,
    "start_time": "2022-08-13T20:26:33.182Z"
   },
   {
    "duration": 118,
    "start_time": "2022-08-13T20:31:58.858Z"
   },
   {
    "duration": 115,
    "start_time": "2022-08-13T20:32:11.819Z"
   },
   {
    "duration": 123,
    "start_time": "2022-08-13T20:32:48.298Z"
   },
   {
    "duration": 112,
    "start_time": "2022-08-13T20:33:32.414Z"
   },
   {
    "duration": 147,
    "start_time": "2022-08-13T20:41:44.798Z"
   },
   {
    "duration": 141,
    "start_time": "2022-08-13T20:44:13.352Z"
   },
   {
    "duration": 155,
    "start_time": "2022-08-13T20:45:25.862Z"
   },
   {
    "duration": 3,
    "start_time": "2022-08-13T20:45:39.508Z"
   },
   {
    "duration": 678,
    "start_time": "2022-08-13T20:45:44.901Z"
   },
   {
    "duration": 1601,
    "start_time": "2022-08-13T20:47:51.094Z"
   },
   {
    "duration": 1356,
    "start_time": "2022-08-13T20:49:02.271Z"
   },
   {
    "duration": 779,
    "start_time": "2022-08-13T20:49:28.932Z"
   },
   {
    "duration": 81,
    "start_time": "2022-08-13T21:06:04.618Z"
   },
   {
    "duration": 7,
    "start_time": "2022-08-13T21:07:33.833Z"
   },
   {
    "duration": 8,
    "start_time": "2022-08-13T21:07:38.529Z"
   },
   {
    "duration": 117,
    "start_time": "2022-08-13T21:07:53.790Z"
   },
   {
    "duration": 8,
    "start_time": "2022-08-13T21:09:15.727Z"
   },
   {
    "duration": 3,
    "start_time": "2022-08-13T21:09:17.330Z"
   },
   {
    "duration": 117,
    "start_time": "2022-08-13T21:10:12.568Z"
   },
   {
    "duration": 117,
    "start_time": "2022-08-13T21:10:31.219Z"
   },
   {
    "duration": 4,
    "start_time": "2022-08-13T21:17:38.686Z"
   },
   {
    "duration": 119,
    "start_time": "2022-08-13T21:17:41.631Z"
   },
   {
    "duration": 4,
    "start_time": "2022-08-13T21:18:22.804Z"
   },
   {
    "duration": 8,
    "start_time": "2022-08-13T21:23:59.611Z"
   },
   {
    "duration": 7,
    "start_time": "2022-08-13T21:24:05.605Z"
   },
   {
    "duration": 138,
    "start_time": "2022-08-13T21:24:32.406Z"
   },
   {
    "duration": 1057,
    "start_time": "2022-08-13T21:28:22.442Z"
   },
   {
    "duration": 1098,
    "start_time": "2022-08-13T21:28:39.204Z"
   },
   {
    "duration": 133,
    "start_time": "2022-08-13T21:29:02.213Z"
   },
   {
    "duration": 137,
    "start_time": "2022-08-13T21:30:07.340Z"
   },
   {
    "duration": 134,
    "start_time": "2022-08-13T21:30:25.390Z"
   },
   {
    "duration": 24,
    "start_time": "2022-08-13T21:33:18.126Z"
   },
   {
    "duration": 21,
    "start_time": "2022-08-13T21:33:42.040Z"
   },
   {
    "duration": 34,
    "start_time": "2022-08-13T21:34:04.926Z"
   },
   {
    "duration": 29,
    "start_time": "2022-08-13T21:34:50.196Z"
   },
   {
    "duration": 23,
    "start_time": "2022-08-13T21:35:02.201Z"
   },
   {
    "duration": 15,
    "start_time": "2022-08-13T21:35:09.509Z"
   },
   {
    "duration": 25,
    "start_time": "2022-08-13T21:35:17.570Z"
   },
   {
    "duration": 13,
    "start_time": "2022-08-13T21:35:37.803Z"
   },
   {
    "duration": 123,
    "start_time": "2022-08-13T21:36:49.654Z"
   },
   {
    "duration": 134,
    "start_time": "2022-08-13T21:37:14.295Z"
   },
   {
    "duration": 123,
    "start_time": "2022-08-13T21:37:21.374Z"
   },
   {
    "duration": 89,
    "start_time": "2022-08-13T21:43:38.202Z"
   },
   {
    "duration": 121,
    "start_time": "2022-08-13T21:43:57.787Z"
   },
   {
    "duration": 118,
    "start_time": "2022-08-13T21:44:11.200Z"
   },
   {
    "duration": 92,
    "start_time": "2022-08-13T21:47:00.652Z"
   },
   {
    "duration": 217,
    "start_time": "2022-08-13T21:47:06.831Z"
   },
   {
    "duration": 133,
    "start_time": "2022-08-13T21:47:30.327Z"
   },
   {
    "duration": 134,
    "start_time": "2022-08-13T21:47:39.825Z"
   },
   {
    "duration": 132,
    "start_time": "2022-08-13T21:49:08.745Z"
   },
   {
    "duration": 121,
    "start_time": "2022-08-13T21:49:46.788Z"
   },
   {
    "duration": 115,
    "start_time": "2022-08-13T21:49:52.560Z"
   },
   {
    "duration": 129,
    "start_time": "2022-08-13T21:49:58.280Z"
   },
   {
    "duration": 118,
    "start_time": "2022-08-13T21:50:06.370Z"
   },
   {
    "duration": 115,
    "start_time": "2022-08-13T21:50:14.925Z"
   },
   {
    "duration": 123,
    "start_time": "2022-08-13T21:51:18.124Z"
   },
   {
    "duration": 283,
    "start_time": "2022-08-13T21:52:27.038Z"
   },
   {
    "duration": 325,
    "start_time": "2022-08-13T21:53:32.927Z"
   },
   {
    "duration": 231,
    "start_time": "2022-08-13T21:54:01.925Z"
   },
   {
    "duration": 9,
    "start_time": "2022-08-13T21:55:58.686Z"
   },
   {
    "duration": 14,
    "start_time": "2022-08-13T21:56:18.586Z"
   },
   {
    "duration": 21,
    "start_time": "2022-08-13T21:58:14.907Z"
   },
   {
    "duration": 24,
    "start_time": "2022-08-13T21:58:29.107Z"
   },
   {
    "duration": 215,
    "start_time": "2022-08-13T22:00:01.981Z"
   },
   {
    "duration": 222,
    "start_time": "2022-08-13T22:00:09.699Z"
   },
   {
    "duration": 204,
    "start_time": "2022-08-13T22:00:25.390Z"
   },
   {
    "duration": 8,
    "start_time": "2022-08-13T22:03:46.977Z"
   },
   {
    "duration": 9,
    "start_time": "2022-08-13T22:04:20.581Z"
   },
   {
    "duration": 36,
    "start_time": "2022-08-13T22:04:30.191Z"
   },
   {
    "duration": 2,
    "start_time": "2022-08-13T22:06:05.744Z"
   },
   {
    "duration": 120,
    "start_time": "2022-08-13T22:09:38.330Z"
   },
   {
    "duration": 24,
    "start_time": "2022-08-13T22:12:40.242Z"
   },
   {
    "duration": 16,
    "start_time": "2022-08-13T22:13:20.491Z"
   },
   {
    "duration": 15,
    "start_time": "2022-08-13T22:14:10.342Z"
   },
   {
    "duration": 14,
    "start_time": "2022-08-13T22:15:06.124Z"
   },
   {
    "duration": 112,
    "start_time": "2022-08-13T22:15:11.876Z"
   },
   {
    "duration": 14,
    "start_time": "2022-08-13T22:20:02.368Z"
   },
   {
    "duration": 13,
    "start_time": "2022-08-13T22:22:33.676Z"
   },
   {
    "duration": 17,
    "start_time": "2022-08-13T22:22:49.837Z"
   },
   {
    "duration": 17,
    "start_time": "2022-08-13T22:23:08.096Z"
   },
   {
    "duration": 16,
    "start_time": "2022-08-13T22:24:35.179Z"
   },
   {
    "duration": 21,
    "start_time": "2022-08-13T22:26:27.374Z"
   },
   {
    "duration": 23,
    "start_time": "2022-08-13T22:26:50.743Z"
   },
   {
    "duration": 15,
    "start_time": "2022-08-13T22:27:33.855Z"
   },
   {
    "duration": 14,
    "start_time": "2022-08-13T22:27:41.398Z"
   },
   {
    "duration": 14,
    "start_time": "2022-08-13T22:28:50.860Z"
   },
   {
    "duration": 14,
    "start_time": "2022-08-13T22:30:51.199Z"
   },
   {
    "duration": 729,
    "start_time": "2022-08-15T09:24:44.335Z"
   },
   {
    "duration": 200,
    "start_time": "2022-08-15T09:24:45.066Z"
   },
   {
    "duration": 59,
    "start_time": "2022-08-15T09:24:45.268Z"
   },
   {
    "duration": 18,
    "start_time": "2022-08-15T09:24:45.328Z"
   },
   {
    "duration": 18,
    "start_time": "2022-08-15T09:24:45.349Z"
   },
   {
    "duration": 56,
    "start_time": "2022-08-15T09:24:45.369Z"
   },
   {
    "duration": 26,
    "start_time": "2022-08-15T09:24:45.427Z"
   },
   {
    "duration": 6,
    "start_time": "2022-08-15T09:24:45.455Z"
   },
   {
    "duration": 42,
    "start_time": "2022-08-15T09:24:45.463Z"
   },
   {
    "duration": 4,
    "start_time": "2022-08-15T09:24:45.507Z"
   },
   {
    "duration": 7,
    "start_time": "2022-08-15T09:24:45.513Z"
   },
   {
    "duration": 6,
    "start_time": "2022-08-15T09:24:45.522Z"
   },
   {
    "duration": 19,
    "start_time": "2022-08-15T09:24:45.535Z"
   },
   {
    "duration": 9,
    "start_time": "2022-08-15T09:24:45.557Z"
   },
   {
    "duration": 43,
    "start_time": "2022-08-15T09:24:45.568Z"
   },
   {
    "duration": 14,
    "start_time": "2022-08-15T09:24:45.612Z"
   },
   {
    "duration": 9,
    "start_time": "2022-08-15T09:24:45.627Z"
   },
   {
    "duration": 8,
    "start_time": "2022-08-15T09:24:45.637Z"
   },
   {
    "duration": 10,
    "start_time": "2022-08-15T09:24:45.647Z"
   },
   {
    "duration": 42,
    "start_time": "2022-08-15T09:24:45.658Z"
   },
   {
    "duration": 16,
    "start_time": "2022-08-15T09:24:45.701Z"
   },
   {
    "duration": 9,
    "start_time": "2022-08-15T09:24:45.718Z"
   },
   {
    "duration": 16,
    "start_time": "2022-08-15T09:24:45.729Z"
   },
   {
    "duration": 3,
    "start_time": "2022-08-15T09:24:45.746Z"
   },
   {
    "duration": 23,
    "start_time": "2022-08-15T09:24:45.751Z"
   },
   {
    "duration": 18,
    "start_time": "2022-08-15T09:24:45.801Z"
   },
   {
    "duration": 14,
    "start_time": "2022-08-15T09:24:45.821Z"
   },
   {
    "duration": 17,
    "start_time": "2022-08-15T09:24:45.837Z"
   },
   {
    "duration": 77,
    "start_time": "2022-08-15T09:24:45.856Z"
   },
   {
    "duration": 7,
    "start_time": "2022-08-15T09:24:45.934Z"
   },
   {
    "duration": 33,
    "start_time": "2022-08-15T09:24:45.943Z"
   },
   {
    "duration": 23,
    "start_time": "2022-08-15T09:24:45.978Z"
   },
   {
    "duration": 17,
    "start_time": "2022-08-15T09:24:46.003Z"
   },
   {
    "duration": 18,
    "start_time": "2022-08-15T09:24:46.022Z"
   },
   {
    "duration": 13,
    "start_time": "2022-08-15T09:24:46.042Z"
   },
   {
    "duration": 4,
    "start_time": "2022-08-15T09:24:46.057Z"
   },
   {
    "duration": 44,
    "start_time": "2022-08-15T09:24:46.063Z"
   },
   {
    "duration": 21,
    "start_time": "2022-08-15T09:24:46.109Z"
   },
   {
    "duration": 15,
    "start_time": "2022-08-15T09:24:46.132Z"
   },
   {
    "duration": 75,
    "start_time": "2022-08-15T09:24:46.149Z"
   },
   {
    "duration": 486,
    "start_time": "2022-08-15T09:24:46.227Z"
   },
   {
    "duration": 9,
    "start_time": "2022-08-15T09:24:46.715Z"
   },
   {
    "duration": 730,
    "start_time": "2022-08-15T09:24:46.726Z"
   },
   {
    "duration": 19,
    "start_time": "2022-08-15T09:24:47.458Z"
   },
   {
    "duration": 68,
    "start_time": "2022-08-15T09:24:47.479Z"
   },
   {
    "duration": 817,
    "start_time": "2022-08-15T09:24:47.548Z"
   },
   {
    "duration": 99,
    "start_time": "2022-08-15T09:24:48.366Z"
   },
   {
    "duration": 4,
    "start_time": "2022-08-15T09:24:48.466Z"
   },
   {
    "duration": 14,
    "start_time": "2022-08-15T09:24:48.471Z"
   },
   {
    "duration": 2,
    "start_time": "2022-08-15T09:24:48.499Z"
   },
   {
    "duration": 155,
    "start_time": "2022-08-15T09:24:48.503Z"
   },
   {
    "duration": 257,
    "start_time": "2022-08-15T09:24:48.659Z"
   },
   {
    "duration": 18,
    "start_time": "2022-08-15T09:24:48.918Z"
   },
   {
    "duration": 239,
    "start_time": "2022-08-15T09:24:48.937Z"
   },
   {
    "duration": 23,
    "start_time": "2022-08-15T09:24:49.178Z"
   },
   {
    "duration": 139,
    "start_time": "2022-08-15T09:24:49.203Z"
   },
   {
    "duration": 17,
    "start_time": "2022-08-15T09:24:49.343Z"
   },
   {
    "duration": 230,
    "start_time": "2022-08-15T09:24:49.361Z"
   },
   {
    "duration": 0,
    "start_time": "2022-08-15T09:24:49.592Z"
   },
   {
    "duration": 0,
    "start_time": "2022-08-15T09:24:49.594Z"
   },
   {
    "duration": 0,
    "start_time": "2022-08-15T09:24:49.594Z"
   },
   {
    "duration": 36,
    "start_time": "2022-08-15T09:25:09.552Z"
   },
   {
    "duration": 63,
    "start_time": "2022-08-15T10:04:38.188Z"
   },
   {
    "duration": 3,
    "start_time": "2022-08-15T10:04:56.047Z"
   },
   {
    "duration": 161,
    "start_time": "2022-08-15T10:04:56.052Z"
   },
   {
    "duration": 54,
    "start_time": "2022-08-15T10:04:56.214Z"
   },
   {
    "duration": 33,
    "start_time": "2022-08-15T10:04:56.270Z"
   },
   {
    "duration": 21,
    "start_time": "2022-08-15T10:04:56.306Z"
   },
   {
    "duration": 39,
    "start_time": "2022-08-15T10:04:56.329Z"
   },
   {
    "duration": 57,
    "start_time": "2022-08-15T10:04:56.369Z"
   },
   {
    "duration": 8,
    "start_time": "2022-08-15T10:04:56.428Z"
   },
   {
    "duration": 35,
    "start_time": "2022-08-15T10:04:56.438Z"
   },
   {
    "duration": 27,
    "start_time": "2022-08-15T10:04:56.474Z"
   },
   {
    "duration": 7,
    "start_time": "2022-08-15T10:04:56.503Z"
   },
   {
    "duration": 11,
    "start_time": "2022-08-15T10:04:56.512Z"
   },
   {
    "duration": 19,
    "start_time": "2022-08-15T10:04:56.525Z"
   },
   {
    "duration": 12,
    "start_time": "2022-08-15T10:04:56.548Z"
   },
   {
    "duration": 49,
    "start_time": "2022-08-15T10:04:56.561Z"
   },
   {
    "duration": 15,
    "start_time": "2022-08-15T10:04:56.611Z"
   },
   {
    "duration": 17,
    "start_time": "2022-08-15T10:04:56.628Z"
   },
   {
    "duration": 3,
    "start_time": "2022-08-15T10:04:56.647Z"
   },
   {
    "duration": 13,
    "start_time": "2022-08-15T10:04:56.651Z"
   },
   {
    "duration": 54,
    "start_time": "2022-08-15T10:04:56.666Z"
   },
   {
    "duration": 15,
    "start_time": "2022-08-15T10:04:56.722Z"
   },
   {
    "duration": 10,
    "start_time": "2022-08-15T10:04:56.739Z"
   },
   {
    "duration": 30,
    "start_time": "2022-08-15T10:04:56.751Z"
   },
   {
    "duration": 4,
    "start_time": "2022-08-15T10:04:56.782Z"
   },
   {
    "duration": 36,
    "start_time": "2022-08-15T10:04:56.788Z"
   },
   {
    "duration": 17,
    "start_time": "2022-08-15T10:04:56.826Z"
   },
   {
    "duration": 15,
    "start_time": "2022-08-15T10:04:56.844Z"
   },
   {
    "duration": 44,
    "start_time": "2022-08-15T10:04:56.861Z"
   },
   {
    "duration": 59,
    "start_time": "2022-08-15T10:04:56.907Z"
   },
   {
    "duration": 7,
    "start_time": "2022-08-15T10:04:56.967Z"
   },
   {
    "duration": 59,
    "start_time": "2022-08-15T10:04:56.975Z"
   },
   {
    "duration": 3,
    "start_time": "2022-08-15T10:04:57.037Z"
   },
   {
    "duration": 16,
    "start_time": "2022-08-15T10:04:57.041Z"
   },
   {
    "duration": 31,
    "start_time": "2022-08-15T10:04:57.059Z"
   },
   {
    "duration": 10,
    "start_time": "2022-08-15T10:04:57.099Z"
   },
   {
    "duration": 11,
    "start_time": "2022-08-15T10:04:57.111Z"
   },
   {
    "duration": 26,
    "start_time": "2022-08-15T10:04:57.123Z"
   },
   {
    "duration": 21,
    "start_time": "2022-08-15T10:04:57.151Z"
   },
   {
    "duration": 28,
    "start_time": "2022-08-15T10:04:57.174Z"
   },
   {
    "duration": 59,
    "start_time": "2022-08-15T10:04:57.204Z"
   },
   {
    "duration": 2,
    "start_time": "2022-08-15T10:04:57.267Z"
   },
   {
    "duration": 18,
    "start_time": "2022-08-15T10:04:57.271Z"
   },
   {
    "duration": 748,
    "start_time": "2022-08-15T10:04:57.300Z"
   },
   {
    "duration": 20,
    "start_time": "2022-08-15T10:04:58.049Z"
   },
   {
    "duration": 59,
    "start_time": "2022-08-15T10:04:58.070Z"
   },
   {
    "duration": 811,
    "start_time": "2022-08-15T10:04:58.130Z"
   },
   {
    "duration": 109,
    "start_time": "2022-08-15T10:04:58.942Z"
   },
   {
    "duration": 4,
    "start_time": "2022-08-15T10:04:59.053Z"
   },
   {
    "duration": 14,
    "start_time": "2022-08-15T10:04:59.059Z"
   },
   {
    "duration": 3,
    "start_time": "2022-08-15T10:04:59.074Z"
   },
   {
    "duration": 164,
    "start_time": "2022-08-15T10:04:59.078Z"
   },
   {
    "duration": 257,
    "start_time": "2022-08-15T10:04:59.243Z"
   },
   {
    "duration": 65,
    "start_time": "2022-08-15T10:04:59.501Z"
   },
   {
    "duration": 0,
    "start_time": "2022-08-15T10:04:59.568Z"
   },
   {
    "duration": 0,
    "start_time": "2022-08-15T10:04:59.569Z"
   },
   {
    "duration": 0,
    "start_time": "2022-08-15T10:04:59.570Z"
   },
   {
    "duration": 0,
    "start_time": "2022-08-15T10:04:59.571Z"
   },
   {
    "duration": 0,
    "start_time": "2022-08-15T10:04:59.571Z"
   },
   {
    "duration": 0,
    "start_time": "2022-08-15T10:04:59.572Z"
   },
   {
    "duration": 0,
    "start_time": "2022-08-15T10:04:59.573Z"
   },
   {
    "duration": 0,
    "start_time": "2022-08-15T10:04:59.574Z"
   },
   {
    "duration": 0,
    "start_time": "2022-08-15T10:04:59.575Z"
   },
   {
    "duration": 211,
    "start_time": "2022-08-15T10:06:35.697Z"
   },
   {
    "duration": 4,
    "start_time": "2022-08-15T10:06:51.507Z"
   },
   {
    "duration": 11,
    "start_time": "2022-08-15T10:06:53.922Z"
   },
   {
    "duration": 3,
    "start_time": "2022-08-15T10:07:03.759Z"
   },
   {
    "duration": 4,
    "start_time": "2022-08-15T10:07:31.477Z"
   },
   {
    "duration": 11,
    "start_time": "2022-08-15T10:07:33.842Z"
   },
   {
    "duration": 4,
    "start_time": "2022-08-15T10:07:50.007Z"
   },
   {
    "duration": 9,
    "start_time": "2022-08-15T10:07:51.906Z"
   },
   {
    "duration": 4,
    "start_time": "2022-08-15T10:08:24.727Z"
   },
   {
    "duration": 9,
    "start_time": "2022-08-15T10:08:26.245Z"
   },
   {
    "duration": 217,
    "start_time": "2022-08-15T10:09:28.386Z"
   },
   {
    "duration": 17,
    "start_time": "2022-08-15T10:09:36.387Z"
   },
   {
    "duration": 153,
    "start_time": "2022-08-15T10:09:40.197Z"
   },
   {
    "duration": 123,
    "start_time": "2022-08-15T10:16:12.466Z"
   },
   {
    "duration": 10,
    "start_time": "2022-08-15T10:16:22.897Z"
   },
   {
    "duration": 114,
    "start_time": "2022-08-15T10:16:27.066Z"
   },
   {
    "duration": 7,
    "start_time": "2022-08-15T10:16:36.624Z"
   },
   {
    "duration": 100,
    "start_time": "2022-08-15T10:16:39.924Z"
   },
   {
    "duration": 6,
    "start_time": "2022-08-15T10:16:53.789Z"
   },
   {
    "duration": 102,
    "start_time": "2022-08-15T10:16:55.814Z"
   },
   {
    "duration": 4,
    "start_time": "2022-08-15T10:17:01.336Z"
   },
   {
    "duration": 263,
    "start_time": "2022-08-15T10:17:01.342Z"
   },
   {
    "duration": 64,
    "start_time": "2022-08-15T10:17:01.608Z"
   },
   {
    "duration": 35,
    "start_time": "2022-08-15T10:17:01.673Z"
   },
   {
    "duration": 33,
    "start_time": "2022-08-15T10:17:01.710Z"
   },
   {
    "duration": 67,
    "start_time": "2022-08-15T10:17:01.744Z"
   },
   {
    "duration": 33,
    "start_time": "2022-08-15T10:17:01.813Z"
   },
   {
    "duration": 18,
    "start_time": "2022-08-15T10:17:01.847Z"
   },
   {
    "duration": 71,
    "start_time": "2022-08-15T10:17:01.867Z"
   },
   {
    "duration": 52,
    "start_time": "2022-08-15T10:17:01.939Z"
   },
   {
    "duration": 88,
    "start_time": "2022-08-15T10:17:01.994Z"
   },
   {
    "duration": 33,
    "start_time": "2022-08-15T10:17:02.084Z"
   },
   {
    "duration": 59,
    "start_time": "2022-08-15T10:17:02.118Z"
   },
   {
    "duration": 23,
    "start_time": "2022-08-15T10:17:02.179Z"
   },
   {
    "duration": 48,
    "start_time": "2022-08-15T10:17:02.204Z"
   },
   {
    "duration": 16,
    "start_time": "2022-08-15T10:17:02.254Z"
   },
   {
    "duration": 30,
    "start_time": "2022-08-15T10:17:02.272Z"
   },
   {
    "duration": 25,
    "start_time": "2022-08-15T10:17:02.304Z"
   },
   {
    "duration": 25,
    "start_time": "2022-08-15T10:17:02.331Z"
   },
   {
    "duration": 67,
    "start_time": "2022-08-15T10:17:02.358Z"
   },
   {
    "duration": 23,
    "start_time": "2022-08-15T10:17:02.428Z"
   },
   {
    "duration": 9,
    "start_time": "2022-08-15T10:17:02.453Z"
   },
   {
    "duration": 37,
    "start_time": "2022-08-15T10:17:02.464Z"
   },
   {
    "duration": 9,
    "start_time": "2022-08-15T10:17:02.503Z"
   },
   {
    "duration": 49,
    "start_time": "2022-08-15T10:17:02.514Z"
   },
   {
    "duration": 46,
    "start_time": "2022-08-15T10:17:02.565Z"
   },
   {
    "duration": 27,
    "start_time": "2022-08-15T10:17:02.612Z"
   },
   {
    "duration": 31,
    "start_time": "2022-08-15T10:17:02.641Z"
   },
   {
    "duration": 84,
    "start_time": "2022-08-15T10:17:02.675Z"
   },
   {
    "duration": 7,
    "start_time": "2022-08-15T10:17:02.760Z"
   },
   {
    "duration": 70,
    "start_time": "2022-08-15T10:17:02.769Z"
   },
   {
    "duration": 4,
    "start_time": "2022-08-15T10:17:02.841Z"
   },
   {
    "duration": 39,
    "start_time": "2022-08-15T10:17:02.846Z"
   },
   {
    "duration": 49,
    "start_time": "2022-08-15T10:17:02.887Z"
   },
   {
    "duration": 29,
    "start_time": "2022-08-15T10:17:02.938Z"
   },
   {
    "duration": 31,
    "start_time": "2022-08-15T10:17:02.969Z"
   },
   {
    "duration": 43,
    "start_time": "2022-08-15T10:17:03.002Z"
   },
   {
    "duration": 24,
    "start_time": "2022-08-15T10:17:03.046Z"
   },
   {
    "duration": 30,
    "start_time": "2022-08-15T10:17:03.072Z"
   },
   {
    "duration": 74,
    "start_time": "2022-08-15T10:17:03.104Z"
   },
   {
    "duration": 3,
    "start_time": "2022-08-15T10:17:03.180Z"
   },
   {
    "duration": 17,
    "start_time": "2022-08-15T10:17:03.184Z"
   },
   {
    "duration": 764,
    "start_time": "2022-08-15T10:17:03.203Z"
   },
   {
    "duration": 31,
    "start_time": "2022-08-15T10:17:03.970Z"
   },
   {
    "duration": 40,
    "start_time": "2022-08-15T10:17:04.003Z"
   },
   {
    "duration": 897,
    "start_time": "2022-08-15T10:17:04.045Z"
   },
   {
    "duration": 110,
    "start_time": "2022-08-15T10:17:04.944Z"
   },
   {
    "duration": 4,
    "start_time": "2022-08-15T10:17:05.056Z"
   },
   {
    "duration": 15,
    "start_time": "2022-08-15T10:17:05.062Z"
   },
   {
    "duration": 166,
    "start_time": "2022-08-15T10:17:05.079Z"
   },
   {
    "duration": 361,
    "start_time": "2022-08-15T10:17:05.246Z"
   },
   {
    "duration": 3,
    "start_time": "2022-08-15T10:17:05.609Z"
   },
   {
    "duration": 17,
    "start_time": "2022-08-15T10:17:05.614Z"
   },
   {
    "duration": 140,
    "start_time": "2022-08-15T10:17:05.633Z"
   },
   {
    "duration": 7,
    "start_time": "2022-08-15T10:17:05.774Z"
   },
   {
    "duration": 101,
    "start_time": "2022-08-15T10:17:05.783Z"
   },
   {
    "duration": 23,
    "start_time": "2022-08-15T10:17:05.886Z"
   },
   {
    "duration": 135,
    "start_time": "2022-08-15T10:17:05.911Z"
   },
   {
    "duration": 18,
    "start_time": "2022-08-15T10:17:06.047Z"
   },
   {
    "duration": 154,
    "start_time": "2022-08-15T10:17:06.067Z"
   },
   {
    "duration": 0,
    "start_time": "2022-08-15T10:17:06.223Z"
   },
   {
    "duration": 13,
    "start_time": "2022-08-15T10:18:02.627Z"
   },
   {
    "duration": 122,
    "start_time": "2022-08-15T10:18:14.951Z"
   },
   {
    "duration": 137,
    "start_time": "2022-08-15T10:19:47.935Z"
   },
   {
    "duration": 133,
    "start_time": "2022-08-15T10:19:55.597Z"
   },
   {
    "duration": 121,
    "start_time": "2022-08-15T10:20:08.067Z"
   },
   {
    "duration": 124,
    "start_time": "2022-08-15T10:20:22.608Z"
   },
   {
    "duration": 249,
    "start_time": "2022-08-15T10:24:12.378Z"
   },
   {
    "duration": 204,
    "start_time": "2022-08-15T10:24:32.815Z"
   },
   {
    "duration": 61,
    "start_time": "2022-08-15T10:26:39.930Z"
   },
   {
    "duration": 50,
    "start_time": "2022-08-15T10:26:42.845Z"
   },
   {
    "duration": 63,
    "start_time": "2022-08-15T10:26:45.151Z"
   },
   {
    "duration": 178,
    "start_time": "2022-08-15T10:27:21.706Z"
   },
   {
    "duration": 170,
    "start_time": "2022-08-15T10:27:55.926Z"
   },
   {
    "duration": 166,
    "start_time": "2022-08-15T10:28:26.826Z"
   },
   {
    "duration": 176,
    "start_time": "2022-08-15T10:35:20.667Z"
   },
   {
    "duration": 162,
    "start_time": "2022-08-15T10:35:35.445Z"
   },
   {
    "duration": 3,
    "start_time": "2022-08-15T13:41:31.773Z"
   },
   {
    "duration": 51,
    "start_time": "2022-08-15T13:44:35.906Z"
   },
   {
    "duration": 755,
    "start_time": "2022-08-15T13:44:57.488Z"
   },
   {
    "duration": 175,
    "start_time": "2022-08-15T13:44:58.245Z"
   },
   {
    "duration": 55,
    "start_time": "2022-08-15T13:44:58.421Z"
   },
   {
    "duration": 14,
    "start_time": "2022-08-15T13:44:58.478Z"
   },
   {
    "duration": 15,
    "start_time": "2022-08-15T13:44:58.494Z"
   },
   {
    "duration": 35,
    "start_time": "2022-08-15T13:44:58.510Z"
   },
   {
    "duration": 25,
    "start_time": "2022-08-15T13:44:58.547Z"
   },
   {
    "duration": 25,
    "start_time": "2022-08-15T13:44:58.574Z"
   },
   {
    "duration": 25,
    "start_time": "2022-08-15T13:44:58.600Z"
   },
   {
    "duration": 4,
    "start_time": "2022-08-15T13:44:58.627Z"
   },
   {
    "duration": 7,
    "start_time": "2022-08-15T13:44:58.632Z"
   },
   {
    "duration": 5,
    "start_time": "2022-08-15T13:44:58.640Z"
   },
   {
    "duration": 14,
    "start_time": "2022-08-15T13:44:58.646Z"
   },
   {
    "duration": 8,
    "start_time": "2022-08-15T13:44:58.661Z"
   },
   {
    "duration": 45,
    "start_time": "2022-08-15T13:44:58.670Z"
   },
   {
    "duration": 13,
    "start_time": "2022-08-15T13:44:58.717Z"
   },
   {
    "duration": 8,
    "start_time": "2022-08-15T13:44:58.732Z"
   },
   {
    "duration": 2,
    "start_time": "2022-08-15T13:44:58.741Z"
   },
   {
    "duration": 7,
    "start_time": "2022-08-15T13:44:58.744Z"
   },
   {
    "duration": 25,
    "start_time": "2022-08-15T13:44:58.752Z"
   },
   {
    "duration": 14,
    "start_time": "2022-08-15T13:44:58.798Z"
   },
   {
    "duration": 8,
    "start_time": "2022-08-15T13:44:58.813Z"
   },
   {
    "duration": 14,
    "start_time": "2022-08-15T13:44:58.822Z"
   },
   {
    "duration": 3,
    "start_time": "2022-08-15T13:44:58.838Z"
   },
   {
    "duration": 24,
    "start_time": "2022-08-15T13:44:58.842Z"
   },
   {
    "duration": 44,
    "start_time": "2022-08-15T13:44:58.868Z"
   },
   {
    "duration": 13,
    "start_time": "2022-08-15T13:44:58.914Z"
   },
   {
    "duration": 14,
    "start_time": "2022-08-15T13:44:58.930Z"
   },
   {
    "duration": 67,
    "start_time": "2022-08-15T13:44:58.946Z"
   },
   {
    "duration": 5,
    "start_time": "2022-08-15T13:44:59.015Z"
   },
   {
    "duration": 35,
    "start_time": "2022-08-15T13:44:59.021Z"
   },
   {
    "duration": 3,
    "start_time": "2022-08-15T13:44:59.058Z"
   },
   {
    "duration": 11,
    "start_time": "2022-08-15T13:44:59.062Z"
   },
   {
    "duration": 32,
    "start_time": "2022-08-15T13:44:59.075Z"
   },
   {
    "duration": 6,
    "start_time": "2022-08-15T13:44:59.108Z"
   },
   {
    "duration": 5,
    "start_time": "2022-08-15T13:44:59.116Z"
   },
   {
    "duration": 19,
    "start_time": "2022-08-15T13:44:59.123Z"
   },
   {
    "duration": 19,
    "start_time": "2022-08-15T13:44:59.144Z"
   },
   {
    "duration": 36,
    "start_time": "2022-08-15T13:44:59.165Z"
   },
   {
    "duration": 52,
    "start_time": "2022-08-15T13:44:59.203Z"
   },
   {
    "duration": 460,
    "start_time": "2022-08-15T13:44:59.257Z"
   },
   {
    "duration": 8,
    "start_time": "2022-08-15T13:44:59.718Z"
   },
   {
    "duration": 656,
    "start_time": "2022-08-15T13:44:59.728Z"
   },
   {
    "duration": 21,
    "start_time": "2022-08-15T13:45:00.386Z"
   },
   {
    "duration": 38,
    "start_time": "2022-08-15T13:45:00.408Z"
   },
   {
    "duration": 733,
    "start_time": "2022-08-15T13:45:00.448Z"
   },
   {
    "duration": 85,
    "start_time": "2022-08-15T13:45:01.182Z"
   },
   {
    "duration": 3,
    "start_time": "2022-08-15T13:45:01.269Z"
   },
   {
    "duration": 17,
    "start_time": "2022-08-15T13:45:01.274Z"
   },
   {
    "duration": 138,
    "start_time": "2022-08-15T13:45:01.298Z"
   },
   {
    "duration": 231,
    "start_time": "2022-08-15T13:45:01.437Z"
   },
   {
    "duration": 3,
    "start_time": "2022-08-15T13:45:01.669Z"
   },
   {
    "duration": 70,
    "start_time": "2022-08-15T13:45:01.673Z"
   },
   {
    "duration": 218,
    "start_time": "2022-08-15T13:45:01.744Z"
   },
   {
    "duration": 11,
    "start_time": "2022-08-15T13:45:01.964Z"
   },
   {
    "duration": 132,
    "start_time": "2022-08-15T13:45:01.976Z"
   },
   {
    "duration": 13,
    "start_time": "2022-08-15T13:45:02.109Z"
   },
   {
    "duration": 157,
    "start_time": "2022-08-15T13:45:02.124Z"
   },
   {
    "duration": 28,
    "start_time": "2022-08-15T13:45:02.282Z"
   },
   {
    "duration": 13,
    "start_time": "2022-08-15T13:50:13.352Z"
   },
   {
    "duration": 2572,
    "start_time": "2022-08-15T13:51:09.821Z"
   },
   {
    "duration": 9,
    "start_time": "2022-08-15T13:51:53.717Z"
   },
   {
    "duration": 28,
    "start_time": "2022-08-15T13:55:21.250Z"
   },
   {
    "duration": 14,
    "start_time": "2022-08-15T13:57:40.418Z"
   },
   {
    "duration": 2381,
    "start_time": "2022-08-15T13:57:57.921Z"
   },
   {
    "duration": 9,
    "start_time": "2022-08-15T13:58:12.119Z"
   },
   {
    "duration": 61,
    "start_time": "2022-08-15T14:03:59.218Z"
   },
   {
    "duration": 6,
    "start_time": "2022-08-15T14:04:07.820Z"
   },
   {
    "duration": 132,
    "start_time": "2022-08-15T14:05:03.162Z"
   },
   {
    "duration": 138,
    "start_time": "2022-08-15T14:05:52.945Z"
   },
   {
    "duration": 8,
    "start_time": "2022-08-15T14:07:34.415Z"
   },
   {
    "duration": 276,
    "start_time": "2022-08-15T14:07:44.387Z"
   },
   {
    "duration": 8,
    "start_time": "2022-08-15T14:15:54.829Z"
   },
   {
    "duration": 208,
    "start_time": "2022-08-15T14:16:02.429Z"
   },
   {
    "duration": 182,
    "start_time": "2022-08-15T14:17:01.473Z"
   },
   {
    "duration": 170,
    "start_time": "2022-08-15T14:17:17.623Z"
   },
   {
    "duration": 158,
    "start_time": "2022-08-15T14:17:24.012Z"
   },
   {
    "duration": 167,
    "start_time": "2022-08-15T14:17:37.190Z"
   },
   {
    "duration": 224,
    "start_time": "2022-08-15T14:18:04.510Z"
   },
   {
    "duration": 13,
    "start_time": "2022-08-15T14:18:13.277Z"
   },
   {
    "duration": 125,
    "start_time": "2022-08-15T14:18:17.920Z"
   },
   {
    "duration": 157,
    "start_time": "2022-08-15T14:18:31.649Z"
   },
   {
    "duration": 174,
    "start_time": "2022-08-15T14:18:41.236Z"
   },
   {
    "duration": 194,
    "start_time": "2022-08-15T14:19:11.229Z"
   },
   {
    "duration": 6,
    "start_time": "2022-08-15T14:21:20.629Z"
   },
   {
    "duration": 110,
    "start_time": "2022-08-15T14:21:30.470Z"
   },
   {
    "duration": 7,
    "start_time": "2022-08-15T14:21:56.264Z"
   },
   {
    "duration": 5,
    "start_time": "2022-08-15T14:22:01.678Z"
   },
   {
    "duration": 8,
    "start_time": "2022-08-15T14:22:29.983Z"
   },
   {
    "duration": 199,
    "start_time": "2022-08-15T14:22:40.089Z"
   },
   {
    "duration": 5,
    "start_time": "2022-08-15T14:24:15.259Z"
   },
   {
    "duration": 9,
    "start_time": "2022-08-15T14:24:50.486Z"
   },
   {
    "duration": 9,
    "start_time": "2022-08-15T14:24:55.014Z"
   },
   {
    "duration": 8,
    "start_time": "2022-08-15T14:29:24.370Z"
   },
   {
    "duration": 47,
    "start_time": "2022-08-16T14:48:52.388Z"
   },
   {
    "duration": 890,
    "start_time": "2022-08-16T14:49:01.176Z"
   },
   {
    "duration": 301,
    "start_time": "2022-08-16T14:49:02.069Z"
   },
   {
    "duration": 37,
    "start_time": "2022-08-16T14:49:02.372Z"
   },
   {
    "duration": 14,
    "start_time": "2022-08-16T14:49:02.411Z"
   },
   {
    "duration": 16,
    "start_time": "2022-08-16T14:49:02.427Z"
   },
   {
    "duration": 43,
    "start_time": "2022-08-16T14:49:02.444Z"
   },
   {
    "duration": 27,
    "start_time": "2022-08-16T14:49:02.500Z"
   },
   {
    "duration": 5,
    "start_time": "2022-08-16T14:49:02.528Z"
   },
   {
    "duration": 25,
    "start_time": "2022-08-16T14:49:02.535Z"
   },
   {
    "duration": 4,
    "start_time": "2022-08-16T14:49:02.562Z"
   },
   {
    "duration": 32,
    "start_time": "2022-08-16T14:49:02.568Z"
   },
   {
    "duration": 9,
    "start_time": "2022-08-16T14:49:02.601Z"
   },
   {
    "duration": 33,
    "start_time": "2022-08-16T14:49:02.611Z"
   },
   {
    "duration": 9,
    "start_time": "2022-08-16T14:49:02.647Z"
   },
   {
    "duration": 23,
    "start_time": "2022-08-16T14:49:02.657Z"
   },
   {
    "duration": 20,
    "start_time": "2022-08-16T14:49:02.681Z"
   },
   {
    "duration": 12,
    "start_time": "2022-08-16T14:49:02.703Z"
   },
   {
    "duration": 9,
    "start_time": "2022-08-16T14:49:02.716Z"
   },
   {
    "duration": 17,
    "start_time": "2022-08-16T14:49:02.727Z"
   },
   {
    "duration": 42,
    "start_time": "2022-08-16T14:49:02.746Z"
   },
   {
    "duration": 21,
    "start_time": "2022-08-16T14:49:02.789Z"
   },
   {
    "duration": 9,
    "start_time": "2022-08-16T14:49:02.812Z"
   },
   {
    "duration": 22,
    "start_time": "2022-08-16T14:49:02.822Z"
   },
   {
    "duration": 3,
    "start_time": "2022-08-16T14:49:02.845Z"
   },
   {
    "duration": 25,
    "start_time": "2022-08-16T14:49:02.849Z"
   },
   {
    "duration": 35,
    "start_time": "2022-08-16T14:49:02.876Z"
   },
   {
    "duration": 14,
    "start_time": "2022-08-16T14:49:02.912Z"
   },
   {
    "duration": 18,
    "start_time": "2022-08-16T14:49:02.928Z"
   },
   {
    "duration": 74,
    "start_time": "2022-08-16T14:49:02.948Z"
   },
   {
    "duration": 8,
    "start_time": "2022-08-16T14:49:03.024Z"
   },
   {
    "duration": 36,
    "start_time": "2022-08-16T14:49:03.033Z"
   },
   {
    "duration": 2,
    "start_time": "2022-08-16T14:49:03.070Z"
   },
   {
    "duration": 27,
    "start_time": "2022-08-16T14:49:03.074Z"
   },
   {
    "duration": 17,
    "start_time": "2022-08-16T14:49:03.103Z"
   },
   {
    "duration": 9,
    "start_time": "2022-08-16T14:49:03.121Z"
   },
   {
    "duration": 5,
    "start_time": "2022-08-16T14:49:03.132Z"
   },
   {
    "duration": 21,
    "start_time": "2022-08-16T14:49:03.138Z"
   },
   {
    "duration": 42,
    "start_time": "2022-08-16T14:49:03.160Z"
   },
   {
    "duration": 14,
    "start_time": "2022-08-16T14:49:03.204Z"
   },
   {
    "duration": 63,
    "start_time": "2022-08-16T14:49:03.219Z"
   },
   {
    "duration": 500,
    "start_time": "2022-08-16T14:49:03.286Z"
   },
   {
    "duration": 19,
    "start_time": "2022-08-16T14:49:03.788Z"
   },
   {
    "duration": 780,
    "start_time": "2022-08-16T14:49:03.808Z"
   },
   {
    "duration": 19,
    "start_time": "2022-08-16T14:49:04.590Z"
   },
   {
    "duration": 54,
    "start_time": "2022-08-16T14:49:04.611Z"
   },
   {
    "duration": 903,
    "start_time": "2022-08-16T14:49:04.667Z"
   },
   {
    "duration": 107,
    "start_time": "2022-08-16T14:49:05.572Z"
   },
   {
    "duration": 4,
    "start_time": "2022-08-16T14:49:05.681Z"
   },
   {
    "duration": 30,
    "start_time": "2022-08-16T14:49:05.700Z"
   },
   {
    "duration": 154,
    "start_time": "2022-08-16T14:49:05.731Z"
   },
   {
    "duration": 261,
    "start_time": "2022-08-16T14:49:05.887Z"
   },
   {
    "duration": 3,
    "start_time": "2022-08-16T14:49:06.150Z"
   },
   {
    "duration": 22,
    "start_time": "2022-08-16T14:49:06.154Z"
   },
   {
    "duration": 243,
    "start_time": "2022-08-16T14:49:06.177Z"
   },
   {
    "duration": 13,
    "start_time": "2022-08-16T14:49:06.422Z"
   },
   {
    "duration": 158,
    "start_time": "2022-08-16T14:49:06.437Z"
   },
   {
    "duration": 16,
    "start_time": "2022-08-16T14:49:06.596Z"
   },
   {
    "duration": 201,
    "start_time": "2022-08-16T14:49:06.613Z"
   },
   {
    "duration": 28,
    "start_time": "2022-08-16T14:49:06.816Z"
   },
   {
    "duration": 13,
    "start_time": "2022-08-16T14:49:06.846Z"
   },
   {
    "duration": 2901,
    "start_time": "2022-08-16T14:49:06.861Z"
   },
   {
    "duration": 10,
    "start_time": "2022-08-16T14:49:09.764Z"
   },
   {
    "duration": 32,
    "start_time": "2022-08-16T14:49:09.775Z"
   },
   {
    "duration": 135,
    "start_time": "2022-08-16T14:49:09.809Z"
   },
   {
    "duration": 10,
    "start_time": "2022-08-16T14:49:09.945Z"
   },
   {
    "duration": 247,
    "start_time": "2022-08-16T14:49:09.957Z"
   },
   {
    "duration": 33,
    "start_time": "2022-08-16T14:49:10.206Z"
   },
   {
    "duration": 36,
    "start_time": "2022-08-16T14:49:10.241Z"
   },
   {
    "duration": 2760,
    "start_time": "2022-08-16T14:49:10.279Z"
   },
   {
    "duration": 10,
    "start_time": "2022-08-16T14:49:13.040Z"
   },
   {
    "duration": 5,
    "start_time": "2022-08-16T14:49:13.051Z"
   },
   {
    "duration": 142,
    "start_time": "2022-08-16T14:49:13.057Z"
   },
   {
    "duration": 10,
    "start_time": "2022-08-16T14:49:13.201Z"
   },
   {
    "duration": 212,
    "start_time": "2022-08-16T14:49:13.212Z"
   },
   {
    "duration": 31,
    "start_time": "2022-08-16T15:05:31.157Z"
   },
   {
    "duration": 30,
    "start_time": "2022-08-16T15:07:39.248Z"
   },
   {
    "duration": 33,
    "start_time": "2022-08-16T15:08:25.557Z"
   },
   {
    "duration": 29,
    "start_time": "2022-08-16T15:11:47.355Z"
   },
   {
    "duration": 3,
    "start_time": "2022-08-16T15:20:40.747Z"
   },
   {
    "duration": 183,
    "start_time": "2022-08-16T15:20:40.752Z"
   },
   {
    "duration": 39,
    "start_time": "2022-08-16T15:20:40.937Z"
   },
   {
    "duration": 32,
    "start_time": "2022-08-16T15:20:40.978Z"
   },
   {
    "duration": 18,
    "start_time": "2022-08-16T15:20:41.012Z"
   },
   {
    "duration": 38,
    "start_time": "2022-08-16T15:20:41.032Z"
   },
   {
    "duration": 49,
    "start_time": "2022-08-16T15:20:41.071Z"
   },
   {
    "duration": 7,
    "start_time": "2022-08-16T15:20:41.121Z"
   },
   {
    "duration": 26,
    "start_time": "2022-08-16T15:20:41.129Z"
   },
   {
    "duration": 5,
    "start_time": "2022-08-16T15:20:41.156Z"
   },
   {
    "duration": 37,
    "start_time": "2022-08-16T15:20:41.163Z"
   },
   {
    "duration": 6,
    "start_time": "2022-08-16T15:20:41.202Z"
   },
   {
    "duration": 16,
    "start_time": "2022-08-16T15:20:41.209Z"
   },
   {
    "duration": 10,
    "start_time": "2022-08-16T15:20:41.227Z"
   },
   {
    "duration": 21,
    "start_time": "2022-08-16T15:20:41.238Z"
   },
   {
    "duration": 4,
    "start_time": "2022-08-16T15:20:41.260Z"
   },
   {
    "duration": 55,
    "start_time": "2022-08-16T15:20:41.265Z"
   },
   {
    "duration": 16,
    "start_time": "2022-08-16T15:20:41.322Z"
   },
   {
    "duration": 15,
    "start_time": "2022-08-16T15:20:41.339Z"
   },
   {
    "duration": 14,
    "start_time": "2022-08-16T15:20:41.355Z"
   },
   {
    "duration": 51,
    "start_time": "2022-08-16T15:20:41.370Z"
   },
   {
    "duration": 21,
    "start_time": "2022-08-16T15:20:41.424Z"
   },
   {
    "duration": 14,
    "start_time": "2022-08-16T15:20:41.447Z"
   },
   {
    "duration": 48,
    "start_time": "2022-08-16T15:20:41.463Z"
   },
   {
    "duration": 10,
    "start_time": "2022-08-16T15:20:41.513Z"
   },
   {
    "duration": 53,
    "start_time": "2022-08-16T15:20:41.524Z"
   },
   {
    "duration": 25,
    "start_time": "2022-08-16T15:20:41.579Z"
   },
   {
    "duration": 29,
    "start_time": "2022-08-16T15:20:41.606Z"
   },
   {
    "duration": 25,
    "start_time": "2022-08-16T15:20:41.637Z"
   },
   {
    "duration": 223,
    "start_time": "2022-08-16T15:20:41.664Z"
   },
   {
    "duration": 15,
    "start_time": "2022-08-16T15:20:41.889Z"
   },
   {
    "duration": 35,
    "start_time": "2022-08-16T15:20:41.905Z"
   },
   {
    "duration": 2,
    "start_time": "2022-08-16T15:20:41.943Z"
   },
   {
    "duration": 17,
    "start_time": "2022-08-16T15:20:41.946Z"
   },
   {
    "duration": 43,
    "start_time": "2022-08-16T15:20:41.965Z"
   },
   {
    "duration": 7,
    "start_time": "2022-08-16T15:20:42.009Z"
   },
   {
    "duration": 4,
    "start_time": "2022-08-16T15:20:42.018Z"
   },
   {
    "duration": 21,
    "start_time": "2022-08-16T15:20:42.023Z"
   },
   {
    "duration": 23,
    "start_time": "2022-08-16T15:20:42.046Z"
   },
   {
    "duration": 17,
    "start_time": "2022-08-16T15:20:42.101Z"
   },
   {
    "duration": 64,
    "start_time": "2022-08-16T15:20:42.120Z"
   },
   {
    "duration": 3,
    "start_time": "2022-08-16T15:20:42.200Z"
   },
   {
    "duration": 15,
    "start_time": "2022-08-16T15:20:42.204Z"
   },
   {
    "duration": 719,
    "start_time": "2022-08-16T15:20:42.221Z"
   },
   {
    "duration": 19,
    "start_time": "2022-08-16T15:20:42.942Z"
   },
   {
    "duration": 59,
    "start_time": "2022-08-16T15:20:42.963Z"
   },
   {
    "duration": 849,
    "start_time": "2022-08-16T15:20:43.024Z"
   },
   {
    "duration": 112,
    "start_time": "2022-08-16T15:20:43.874Z"
   },
   {
    "duration": 5,
    "start_time": "2022-08-16T15:20:43.999Z"
   },
   {
    "duration": 23,
    "start_time": "2022-08-16T15:20:44.005Z"
   },
   {
    "duration": 147,
    "start_time": "2022-08-16T15:20:44.030Z"
   },
   {
    "duration": 257,
    "start_time": "2022-08-16T15:20:44.179Z"
   },
   {
    "duration": 3,
    "start_time": "2022-08-16T15:20:44.437Z"
   },
   {
    "duration": 29,
    "start_time": "2022-08-16T15:20:44.442Z"
   },
   {
    "duration": 149,
    "start_time": "2022-08-16T15:20:44.472Z"
   },
   {
    "duration": 14,
    "start_time": "2022-08-16T15:20:44.623Z"
   },
   {
    "duration": 145,
    "start_time": "2022-08-16T15:20:44.639Z"
   },
   {
    "duration": 17,
    "start_time": "2022-08-16T15:20:44.786Z"
   },
   {
    "duration": 187,
    "start_time": "2022-08-16T15:20:44.804Z"
   },
   {
    "duration": 38,
    "start_time": "2022-08-16T15:20:44.993Z"
   },
   {
    "duration": 14,
    "start_time": "2022-08-16T15:20:45.032Z"
   },
   {
    "duration": 3839,
    "start_time": "2022-08-16T15:20:45.047Z"
   },
   {
    "duration": 16,
    "start_time": "2022-08-16T15:20:48.888Z"
   },
   {
    "duration": 11,
    "start_time": "2022-08-16T15:20:48.905Z"
   },
   {
    "duration": 334,
    "start_time": "2022-08-16T15:20:48.918Z"
   },
   {
    "duration": 11,
    "start_time": "2022-08-16T15:20:49.253Z"
   },
   {
    "duration": 267,
    "start_time": "2022-08-16T15:20:49.265Z"
   },
   {
    "duration": 32,
    "start_time": "2022-08-16T15:20:49.534Z"
   },
   {
    "duration": 15,
    "start_time": "2022-08-16T15:20:49.568Z"
   },
   {
    "duration": 2724,
    "start_time": "2022-08-16T15:20:49.600Z"
   },
   {
    "duration": 9,
    "start_time": "2022-08-16T15:20:52.325Z"
   },
   {
    "duration": 12,
    "start_time": "2022-08-16T15:20:52.336Z"
   },
   {
    "duration": 132,
    "start_time": "2022-08-16T15:20:52.350Z"
   },
   {
    "duration": 16,
    "start_time": "2022-08-16T15:20:52.484Z"
   },
   {
    "duration": 205,
    "start_time": "2022-08-16T15:20:52.501Z"
   },
   {
    "duration": 19,
    "start_time": "2022-08-16T15:29:29.804Z"
   },
   {
    "duration": 18,
    "start_time": "2022-08-16T15:33:15.083Z"
   },
   {
    "duration": 3,
    "start_time": "2022-08-16T15:33:34.925Z"
   },
   {
    "duration": 204,
    "start_time": "2022-08-16T15:33:34.931Z"
   },
   {
    "duration": 38,
    "start_time": "2022-08-16T15:33:35.137Z"
   },
   {
    "duration": 37,
    "start_time": "2022-08-16T15:33:35.177Z"
   },
   {
    "duration": 24,
    "start_time": "2022-08-16T15:33:35.217Z"
   },
   {
    "duration": 68,
    "start_time": "2022-08-16T15:33:35.243Z"
   },
   {
    "duration": 32,
    "start_time": "2022-08-16T15:33:35.313Z"
   },
   {
    "duration": 5,
    "start_time": "2022-08-16T15:33:35.347Z"
   },
   {
    "duration": 48,
    "start_time": "2022-08-16T15:33:35.353Z"
   },
   {
    "duration": 5,
    "start_time": "2022-08-16T15:33:35.402Z"
   },
   {
    "duration": 6,
    "start_time": "2022-08-16T15:33:35.410Z"
   },
   {
    "duration": 6,
    "start_time": "2022-08-16T15:33:35.418Z"
   },
   {
    "duration": 250,
    "start_time": "2022-08-16T15:33:35.426Z"
   },
   {
    "duration": 10,
    "start_time": "2022-08-16T15:33:35.678Z"
   },
   {
    "duration": 25,
    "start_time": "2022-08-16T15:33:35.689Z"
   },
   {
    "duration": 8,
    "start_time": "2022-08-16T15:33:35.716Z"
   },
   {
    "duration": 24,
    "start_time": "2022-08-16T15:33:35.726Z"
   },
   {
    "duration": 16,
    "start_time": "2022-08-16T15:33:35.752Z"
   },
   {
    "duration": 38,
    "start_time": "2022-08-16T15:33:35.770Z"
   },
   {
    "duration": 11,
    "start_time": "2022-08-16T15:33:35.810Z"
   },
   {
    "duration": 23,
    "start_time": "2022-08-16T15:33:35.822Z"
   },
   {
    "duration": 13,
    "start_time": "2022-08-16T15:33:35.846Z"
   },
   {
    "duration": 45,
    "start_time": "2022-08-16T15:33:35.860Z"
   },
   {
    "duration": 15,
    "start_time": "2022-08-16T15:33:35.907Z"
   },
   {
    "duration": 8,
    "start_time": "2022-08-16T15:33:35.924Z"
   },
   {
    "duration": 21,
    "start_time": "2022-08-16T15:33:35.934Z"
   },
   {
    "duration": 14,
    "start_time": "2022-08-16T15:33:35.957Z"
   },
   {
    "duration": 47,
    "start_time": "2022-08-16T15:33:35.973Z"
   },
   {
    "duration": 15,
    "start_time": "2022-08-16T15:33:36.025Z"
   },
   {
    "duration": 75,
    "start_time": "2022-08-16T15:33:36.041Z"
   },
   {
    "duration": 6,
    "start_time": "2022-08-16T15:33:36.118Z"
   },
   {
    "duration": 31,
    "start_time": "2022-08-16T15:33:36.126Z"
   },
   {
    "duration": 2,
    "start_time": "2022-08-16T15:33:36.158Z"
   },
   {
    "duration": 38,
    "start_time": "2022-08-16T15:33:36.162Z"
   },
   {
    "duration": 19,
    "start_time": "2022-08-16T15:33:36.201Z"
   },
   {
    "duration": 10,
    "start_time": "2022-08-16T15:33:36.221Z"
   },
   {
    "duration": 3,
    "start_time": "2022-08-16T15:33:36.233Z"
   },
   {
    "duration": 23,
    "start_time": "2022-08-16T15:33:36.238Z"
   },
   {
    "duration": 42,
    "start_time": "2022-08-16T15:33:36.262Z"
   },
   {
    "duration": 19,
    "start_time": "2022-08-16T15:33:36.306Z"
   },
   {
    "duration": 91,
    "start_time": "2022-08-16T15:33:36.327Z"
   },
   {
    "duration": 3,
    "start_time": "2022-08-16T15:33:36.420Z"
   },
   {
    "duration": 15,
    "start_time": "2022-08-16T15:33:36.424Z"
   },
   {
    "duration": 742,
    "start_time": "2022-08-16T15:33:36.441Z"
   },
   {
    "duration": 30,
    "start_time": "2022-08-16T15:33:37.185Z"
   },
   {
    "duration": 57,
    "start_time": "2022-08-16T15:33:37.217Z"
   },
   {
    "duration": 935,
    "start_time": "2022-08-16T15:33:37.276Z"
   },
   {
    "duration": 111,
    "start_time": "2022-08-16T15:33:38.214Z"
   },
   {
    "duration": 4,
    "start_time": "2022-08-16T15:33:38.327Z"
   },
   {
    "duration": 17,
    "start_time": "2022-08-16T15:33:38.333Z"
   },
   {
    "duration": 159,
    "start_time": "2022-08-16T15:33:38.352Z"
   },
   {
    "duration": 255,
    "start_time": "2022-08-16T15:33:38.513Z"
   },
   {
    "duration": 3,
    "start_time": "2022-08-16T15:33:38.770Z"
   },
   {
    "duration": 14,
    "start_time": "2022-08-16T15:33:38.774Z"
   },
   {
    "duration": 129,
    "start_time": "2022-08-16T15:33:38.800Z"
   },
   {
    "duration": 14,
    "start_time": "2022-08-16T15:33:38.931Z"
   },
   {
    "duration": 156,
    "start_time": "2022-08-16T15:33:38.947Z"
   },
   {
    "duration": 16,
    "start_time": "2022-08-16T15:33:39.104Z"
   },
   {
    "duration": 208,
    "start_time": "2022-08-16T15:33:39.122Z"
   },
   {
    "duration": 35,
    "start_time": "2022-08-16T15:33:39.332Z"
   },
   {
    "duration": 35,
    "start_time": "2022-08-16T15:33:39.369Z"
   },
   {
    "duration": 4238,
    "start_time": "2022-08-16T15:33:39.406Z"
   },
   {
    "duration": 54,
    "start_time": "2022-08-16T15:33:43.647Z"
   },
   {
    "duration": 6,
    "start_time": "2022-08-16T15:33:43.703Z"
   },
   {
    "duration": 153,
    "start_time": "2022-08-16T15:33:43.711Z"
   },
   {
    "duration": 12,
    "start_time": "2022-08-16T15:33:43.866Z"
   },
   {
    "duration": 246,
    "start_time": "2022-08-16T15:33:43.880Z"
   },
   {
    "duration": 31,
    "start_time": "2022-08-16T15:33:44.128Z"
   },
   {
    "duration": 14,
    "start_time": "2022-08-16T15:33:44.160Z"
   },
   {
    "duration": 3028,
    "start_time": "2022-08-16T15:33:44.175Z"
   },
   {
    "duration": 11,
    "start_time": "2022-08-16T15:33:47.205Z"
   },
   {
    "duration": 7,
    "start_time": "2022-08-16T15:33:47.217Z"
   },
   {
    "duration": 158,
    "start_time": "2022-08-16T15:33:47.226Z"
   },
   {
    "duration": 19,
    "start_time": "2022-08-16T15:33:47.385Z"
   },
   {
    "duration": 227,
    "start_time": "2022-08-16T15:33:47.406Z"
   },
   {
    "duration": 8,
    "start_time": "2022-08-16T15:35:21.640Z"
   },
   {
    "duration": 42,
    "start_time": "2022-08-16T15:35:37.367Z"
   },
   {
    "duration": 69,
    "start_time": "2022-08-16T15:35:46.529Z"
   },
   {
    "duration": 28,
    "start_time": "2022-08-16T15:35:50.422Z"
   },
   {
    "duration": 9,
    "start_time": "2022-08-16T15:36:19.827Z"
   },
   {
    "duration": 8,
    "start_time": "2022-08-16T15:36:31.232Z"
   },
   {
    "duration": 31,
    "start_time": "2022-08-16T15:37:05.783Z"
   },
   {
    "duration": 29,
    "start_time": "2022-08-16T15:37:40.125Z"
   },
   {
    "duration": 8,
    "start_time": "2022-08-16T15:37:51.616Z"
   },
   {
    "duration": 12,
    "start_time": "2022-08-16T15:38:02.046Z"
   },
   {
    "duration": 6,
    "start_time": "2022-08-16T15:38:09.113Z"
   },
   {
    "duration": 8,
    "start_time": "2022-08-16T15:38:35.202Z"
   },
   {
    "duration": 6,
    "start_time": "2022-08-16T15:38:56.356Z"
   },
   {
    "duration": 4,
    "start_time": "2022-08-16T15:39:11.216Z"
   },
   {
    "duration": 17,
    "start_time": "2022-08-16T15:39:28.213Z"
   },
   {
    "duration": 7,
    "start_time": "2022-08-16T15:40:15.960Z"
   },
   {
    "duration": 18,
    "start_time": "2022-08-16T15:40:50.637Z"
   },
   {
    "duration": 24,
    "start_time": "2022-08-16T15:41:24.575Z"
   },
   {
    "duration": 3,
    "start_time": "2022-08-16T15:50:22.926Z"
   },
   {
    "duration": 26,
    "start_time": "2022-08-16T16:26:03.336Z"
   },
   {
    "duration": 3,
    "start_time": "2022-08-16T16:26:07.908Z"
   },
   {
    "duration": 173,
    "start_time": "2022-08-16T16:26:07.927Z"
   },
   {
    "duration": 40,
    "start_time": "2022-08-16T16:26:08.102Z"
   },
   {
    "duration": 18,
    "start_time": "2022-08-16T16:26:08.143Z"
   },
   {
    "duration": 38,
    "start_time": "2022-08-16T16:26:08.163Z"
   },
   {
    "duration": 41,
    "start_time": "2022-08-16T16:26:08.203Z"
   },
   {
    "duration": 29,
    "start_time": "2022-08-16T16:26:08.246Z"
   },
   {
    "duration": 8,
    "start_time": "2022-08-16T16:26:08.300Z"
   },
   {
    "duration": 26,
    "start_time": "2022-08-16T16:26:08.310Z"
   },
   {
    "duration": 5,
    "start_time": "2022-08-16T16:26:08.338Z"
   },
   {
    "duration": 14,
    "start_time": "2022-08-16T16:26:08.344Z"
   },
   {
    "duration": 5,
    "start_time": "2022-08-16T16:26:08.360Z"
   },
   {
    "duration": 48,
    "start_time": "2022-08-16T16:26:08.367Z"
   },
   {
    "duration": 11,
    "start_time": "2022-08-16T16:26:08.417Z"
   },
   {
    "duration": 16,
    "start_time": "2022-08-16T16:26:08.430Z"
   },
   {
    "duration": 7,
    "start_time": "2022-08-16T16:26:08.447Z"
   },
   {
    "duration": 56,
    "start_time": "2022-08-16T16:26:08.455Z"
   },
   {
    "duration": 18,
    "start_time": "2022-08-16T16:26:08.512Z"
   },
   {
    "duration": 4,
    "start_time": "2022-08-16T16:26:08.531Z"
   },
   {
    "duration": 15,
    "start_time": "2022-08-16T16:26:08.537Z"
   },
   {
    "duration": 54,
    "start_time": "2022-08-16T16:26:08.553Z"
   },
   {
    "duration": 15,
    "start_time": "2022-08-16T16:26:08.609Z"
   },
   {
    "duration": 11,
    "start_time": "2022-08-16T16:26:08.625Z"
   },
   {
    "duration": 17,
    "start_time": "2022-08-16T16:26:08.638Z"
   },
   {
    "duration": 24,
    "start_time": "2022-08-16T16:26:08.657Z"
   },
   {
    "duration": 49,
    "start_time": "2022-08-16T16:26:08.683Z"
   },
   {
    "duration": 14,
    "start_time": "2022-08-16T16:26:08.734Z"
   },
   {
    "duration": 7,
    "start_time": "2022-08-16T16:26:08.750Z"
   },
   {
    "duration": 26,
    "start_time": "2022-08-16T16:26:08.758Z"
   },
   {
    "duration": 66,
    "start_time": "2022-08-16T16:26:08.786Z"
   },
   {
    "duration": 8,
    "start_time": "2022-08-16T16:26:08.853Z"
   },
   {
    "duration": 48,
    "start_time": "2022-08-16T16:26:08.862Z"
   },
   {
    "duration": 12,
    "start_time": "2022-08-16T16:26:08.912Z"
   },
   {
    "duration": 16,
    "start_time": "2022-08-16T16:26:08.926Z"
   },
   {
    "duration": 9,
    "start_time": "2022-08-16T16:26:08.943Z"
   },
   {
    "duration": 5,
    "start_time": "2022-08-16T16:26:08.954Z"
   },
   {
    "duration": 53,
    "start_time": "2022-08-16T16:26:08.960Z"
   },
   {
    "duration": 41,
    "start_time": "2022-08-16T16:26:09.015Z"
   },
   {
    "duration": 27,
    "start_time": "2022-08-16T16:26:09.062Z"
   },
   {
    "duration": 76,
    "start_time": "2022-08-16T16:26:09.090Z"
   },
   {
    "duration": 3,
    "start_time": "2022-08-16T16:26:09.169Z"
   },
   {
    "duration": 27,
    "start_time": "2022-08-16T16:26:09.174Z"
   },
   {
    "duration": 756,
    "start_time": "2022-08-16T16:26:09.203Z"
   },
   {
    "duration": 21,
    "start_time": "2022-08-16T16:26:09.961Z"
   },
   {
    "duration": 97,
    "start_time": "2022-08-16T16:26:09.985Z"
   },
   {
    "duration": 966,
    "start_time": "2022-08-16T16:26:10.084Z"
   },
   {
    "duration": 115,
    "start_time": "2022-08-16T16:26:11.052Z"
   },
   {
    "duration": 4,
    "start_time": "2022-08-16T16:26:11.169Z"
   },
   {
    "duration": 16,
    "start_time": "2022-08-16T16:26:11.174Z"
   },
   {
    "duration": 159,
    "start_time": "2022-08-16T16:26:11.200Z"
   },
   {
    "duration": 336,
    "start_time": "2022-08-16T16:26:11.361Z"
   },
   {
    "duration": 4,
    "start_time": "2022-08-16T16:26:11.700Z"
   },
   {
    "duration": 13,
    "start_time": "2022-08-16T16:26:11.706Z"
   },
   {
    "duration": 143,
    "start_time": "2022-08-16T16:26:11.721Z"
   },
   {
    "duration": 14,
    "start_time": "2022-08-16T16:26:11.866Z"
   },
   {
    "duration": 155,
    "start_time": "2022-08-16T16:26:11.881Z"
   },
   {
    "duration": 14,
    "start_time": "2022-08-16T16:26:12.038Z"
   },
   {
    "duration": 211,
    "start_time": "2022-08-16T16:26:12.054Z"
   },
   {
    "duration": 40,
    "start_time": "2022-08-16T16:26:12.267Z"
   },
   {
    "duration": 15,
    "start_time": "2022-08-16T16:26:12.309Z"
   },
   {
    "duration": 3223,
    "start_time": "2022-08-16T16:26:12.326Z"
   },
   {
    "duration": 10,
    "start_time": "2022-08-16T16:26:15.550Z"
   },
   {
    "duration": 5,
    "start_time": "2022-08-16T16:26:15.562Z"
   },
   {
    "duration": 160,
    "start_time": "2022-08-16T16:26:15.569Z"
   },
   {
    "duration": 10,
    "start_time": "2022-08-16T16:26:15.731Z"
   },
   {
    "duration": 276,
    "start_time": "2022-08-16T16:26:15.743Z"
   },
   {
    "duration": 29,
    "start_time": "2022-08-16T16:26:16.021Z"
   },
   {
    "duration": 14,
    "start_time": "2022-08-16T16:26:16.051Z"
   },
   {
    "duration": 3360,
    "start_time": "2022-08-16T16:26:16.067Z"
   },
   {
    "duration": 11,
    "start_time": "2022-08-16T16:26:19.429Z"
   },
   {
    "duration": 12,
    "start_time": "2022-08-16T16:26:19.442Z"
   },
   {
    "duration": 145,
    "start_time": "2022-08-16T16:26:19.455Z"
   },
   {
    "duration": 10,
    "start_time": "2022-08-16T16:26:19.602Z"
   },
   {
    "duration": 216,
    "start_time": "2022-08-16T16:26:19.614Z"
   },
   {
    "duration": 2,
    "start_time": "2022-08-16T16:32:41.627Z"
   },
   {
    "duration": 746,
    "start_time": "2022-08-16T16:37:02.256Z"
   },
   {
    "duration": 19,
    "start_time": "2022-08-16T16:44:31.121Z"
   },
   {
    "duration": 684,
    "start_time": "2022-08-16T16:53:15.523Z"
   },
   {
    "duration": 714,
    "start_time": "2022-08-16T16:53:36.946Z"
   },
   {
    "duration": 817,
    "start_time": "2022-08-16T16:54:02.226Z"
   },
   {
    "duration": 680,
    "start_time": "2022-08-16T17:00:18.921Z"
   },
   {
    "duration": 656,
    "start_time": "2022-08-16T17:00:35.135Z"
   },
   {
    "duration": 701,
    "start_time": "2022-08-16T17:00:58.150Z"
   },
   {
    "duration": 1244,
    "start_time": "2022-08-16T17:01:19.805Z"
   },
   {
    "duration": 718,
    "start_time": "2022-08-16T17:01:29.953Z"
   },
   {
    "duration": 668,
    "start_time": "2022-08-16T17:02:06.707Z"
   },
   {
    "duration": 696,
    "start_time": "2022-08-16T17:02:19.148Z"
   },
   {
    "duration": 735,
    "start_time": "2022-08-16T17:02:39.389Z"
   },
   {
    "duration": 98,
    "start_time": "2022-08-16T17:21:41.678Z"
   },
   {
    "duration": 92,
    "start_time": "2022-08-16T17:21:52.291Z"
   },
   {
    "duration": 92,
    "start_time": "2022-08-16T17:22:12.039Z"
   },
   {
    "duration": 123,
    "start_time": "2022-08-16T17:23:51.561Z"
   },
   {
    "duration": 19,
    "start_time": "2022-08-16T17:24:00.808Z"
   },
   {
    "duration": 155,
    "start_time": "2022-08-16T17:24:05.305Z"
   },
   {
    "duration": 21,
    "start_time": "2022-08-16T17:24:10.070Z"
   },
   {
    "duration": 96,
    "start_time": "2022-08-16T17:24:14.647Z"
   },
   {
    "duration": 111,
    "start_time": "2022-08-16T17:24:19.596Z"
   },
   {
    "duration": 102,
    "start_time": "2022-08-16T17:24:27.937Z"
   },
   {
    "duration": 5,
    "start_time": "2022-08-16T17:59:43.265Z"
   },
   {
    "duration": 12,
    "start_time": "2022-08-16T18:00:27.579Z"
   },
   {
    "duration": 138,
    "start_time": "2022-08-16T18:02:11.051Z"
   },
   {
    "duration": 2,
    "start_time": "2022-08-16T18:17:02.633Z"
   },
   {
    "duration": 162,
    "start_time": "2022-08-16T18:17:02.638Z"
   },
   {
    "duration": 42,
    "start_time": "2022-08-16T18:17:02.802Z"
   },
   {
    "duration": 17,
    "start_time": "2022-08-16T18:17:02.845Z"
   },
   {
    "duration": 36,
    "start_time": "2022-08-16T18:17:02.864Z"
   },
   {
    "duration": 38,
    "start_time": "2022-08-16T18:17:02.902Z"
   },
   {
    "duration": 30,
    "start_time": "2022-08-16T18:17:02.942Z"
   },
   {
    "duration": 30,
    "start_time": "2022-08-16T18:17:02.974Z"
   },
   {
    "duration": 35,
    "start_time": "2022-08-16T18:17:03.007Z"
   },
   {
    "duration": 5,
    "start_time": "2022-08-16T18:17:03.044Z"
   },
   {
    "duration": 12,
    "start_time": "2022-08-16T18:17:03.051Z"
   },
   {
    "duration": 17,
    "start_time": "2022-08-16T18:17:03.065Z"
   },
   {
    "duration": 23,
    "start_time": "2022-08-16T18:17:03.083Z"
   },
   {
    "duration": 10,
    "start_time": "2022-08-16T18:17:03.108Z"
   },
   {
    "duration": 16,
    "start_time": "2022-08-16T18:17:03.120Z"
   },
   {
    "duration": 3,
    "start_time": "2022-08-16T18:17:03.138Z"
   },
   {
    "duration": 29,
    "start_time": "2022-08-16T18:17:03.143Z"
   },
   {
    "duration": 18,
    "start_time": "2022-08-16T18:17:03.199Z"
   },
   {
    "duration": 4,
    "start_time": "2022-08-16T18:17:03.219Z"
   },
   {
    "duration": 14,
    "start_time": "2022-08-16T18:17:03.224Z"
   },
   {
    "duration": 22,
    "start_time": "2022-08-16T18:17:03.241Z"
   },
   {
    "duration": 41,
    "start_time": "2022-08-16T18:17:03.265Z"
   },
   {
    "duration": 11,
    "start_time": "2022-08-16T18:17:03.308Z"
   },
   {
    "duration": 5,
    "start_time": "2022-08-16T18:17:03.320Z"
   },
   {
    "duration": 13,
    "start_time": "2022-08-16T18:17:03.327Z"
   },
   {
    "duration": 26,
    "start_time": "2022-08-16T18:17:03.342Z"
   },
   {
    "duration": 37,
    "start_time": "2022-08-16T18:17:03.370Z"
   },
   {
    "duration": 5,
    "start_time": "2022-08-16T18:17:03.408Z"
   },
   {
    "duration": 23,
    "start_time": "2022-08-16T18:17:03.414Z"
   },
   {
    "duration": 72,
    "start_time": "2022-08-16T18:17:03.439Z"
   },
   {
    "duration": 7,
    "start_time": "2022-08-16T18:17:03.513Z"
   },
   {
    "duration": 45,
    "start_time": "2022-08-16T18:17:03.522Z"
   },
   {
    "duration": 12,
    "start_time": "2022-08-16T18:17:03.569Z"
   },
   {
    "duration": 28,
    "start_time": "2022-08-16T18:17:03.583Z"
   },
   {
    "duration": 6,
    "start_time": "2022-08-16T18:17:03.613Z"
   },
   {
    "duration": 10,
    "start_time": "2022-08-16T18:17:03.621Z"
   },
   {
    "duration": 20,
    "start_time": "2022-08-16T18:17:03.634Z"
   },
   {
    "duration": 50,
    "start_time": "2022-08-16T18:17:03.656Z"
   },
   {
    "duration": 16,
    "start_time": "2022-08-16T18:17:03.708Z"
   },
   {
    "duration": 75,
    "start_time": "2022-08-16T18:17:03.726Z"
   },
   {
    "duration": 2,
    "start_time": "2022-08-16T18:17:03.803Z"
   },
   {
    "duration": 16,
    "start_time": "2022-08-16T18:17:03.807Z"
   },
   {
    "duration": 722,
    "start_time": "2022-08-16T18:17:03.824Z"
   },
   {
    "duration": 20,
    "start_time": "2022-08-16T18:17:04.548Z"
   },
   {
    "duration": 69,
    "start_time": "2022-08-16T18:17:04.569Z"
   },
   {
    "duration": 959,
    "start_time": "2022-08-16T18:17:04.641Z"
   },
   {
    "duration": 126,
    "start_time": "2022-08-16T18:17:05.601Z"
   },
   {
    "duration": 4,
    "start_time": "2022-08-16T18:17:05.728Z"
   },
   {
    "duration": 16,
    "start_time": "2022-08-16T18:17:05.734Z"
   },
   {
    "duration": 170,
    "start_time": "2022-08-16T18:17:05.752Z"
   },
   {
    "duration": 721,
    "start_time": "2022-08-16T18:17:05.923Z"
   },
   {
    "duration": 3,
    "start_time": "2022-08-16T18:17:06.645Z"
   },
   {
    "duration": 20,
    "start_time": "2022-08-16T18:17:06.650Z"
   },
   {
    "duration": 133,
    "start_time": "2022-08-16T18:17:06.673Z"
   },
   {
    "duration": 13,
    "start_time": "2022-08-16T18:17:06.808Z"
   },
   {
    "duration": 147,
    "start_time": "2022-08-16T18:17:06.823Z"
   },
   {
    "duration": 17,
    "start_time": "2022-08-16T18:17:06.971Z"
   },
   {
    "duration": 201,
    "start_time": "2022-08-16T18:17:07.001Z"
   },
   {
    "duration": 30,
    "start_time": "2022-08-16T18:17:07.204Z"
   },
   {
    "duration": 14,
    "start_time": "2022-08-16T18:17:07.236Z"
   },
   {
    "duration": 2990,
    "start_time": "2022-08-16T18:17:07.252Z"
   },
   {
    "duration": 67,
    "start_time": "2022-08-16T18:17:10.244Z"
   },
   {
    "duration": 32,
    "start_time": "2022-08-16T18:17:10.314Z"
   },
   {
    "duration": 293,
    "start_time": "2022-08-16T18:17:10.347Z"
   },
   {
    "duration": 62,
    "start_time": "2022-08-16T18:17:10.642Z"
   },
   {
    "duration": 434,
    "start_time": "2022-08-16T18:17:10.706Z"
   },
   {
    "duration": 86,
    "start_time": "2022-08-16T18:17:11.142Z"
   },
   {
    "duration": 71,
    "start_time": "2022-08-16T18:17:11.230Z"
   },
   {
    "duration": 3329,
    "start_time": "2022-08-16T18:17:11.303Z"
   },
   {
    "duration": 12,
    "start_time": "2022-08-16T18:17:14.634Z"
   },
   {
    "duration": 8,
    "start_time": "2022-08-16T18:17:14.648Z"
   },
   {
    "duration": 595,
    "start_time": "2022-08-16T18:17:14.658Z"
   },
   {
    "duration": 14,
    "start_time": "2022-08-16T18:17:15.255Z"
   },
   {
    "duration": 255,
    "start_time": "2022-08-16T18:17:15.272Z"
   },
   {
    "duration": 19,
    "start_time": "2022-08-16T18:17:20.364Z"
   },
   {
    "duration": 18,
    "start_time": "2022-08-16T18:20:15.016Z"
   },
   {
    "duration": 206,
    "start_time": "2022-08-16T18:20:37.869Z"
   },
   {
    "duration": 38,
    "start_time": "2022-08-16T18:31:00.061Z"
   },
   {
    "duration": 20,
    "start_time": "2022-08-16T18:31:11.497Z"
   },
   {
    "duration": 2972,
    "start_time": "2022-08-16T18:31:17.520Z"
   },
   {
    "duration": 9,
    "start_time": "2022-08-16T18:31:29.455Z"
   },
   {
    "duration": 31,
    "start_time": "2022-08-16T18:32:16.038Z"
   },
   {
    "duration": 45,
    "start_time": "2022-08-16T18:32:31.425Z"
   },
   {
    "duration": 7,
    "start_time": "2022-08-16T18:34:44.028Z"
   },
   {
    "duration": 11,
    "start_time": "2022-08-16T18:35:15.040Z"
   },
   {
    "duration": 6,
    "start_time": "2022-08-16T18:45:06.100Z"
   },
   {
    "duration": 10,
    "start_time": "2022-08-16T18:48:27.834Z"
   },
   {
    "duration": 217,
    "start_time": "2022-08-16T18:49:21.913Z"
   },
   {
    "duration": 31,
    "start_time": "2022-08-16T18:50:22.758Z"
   },
   {
    "duration": 35,
    "start_time": "2022-08-16T18:51:12.562Z"
   },
   {
    "duration": 16,
    "start_time": "2022-08-16T18:51:32.796Z"
   },
   {
    "duration": 3196,
    "start_time": "2022-08-16T18:51:52.399Z"
   },
   {
    "duration": 10,
    "start_time": "2022-08-16T18:51:58.815Z"
   },
   {
    "duration": 7,
    "start_time": "2022-08-16T18:52:36.242Z"
   },
   {
    "duration": 133,
    "start_time": "2022-08-16T18:52:45.438Z"
   },
   {
    "duration": 12,
    "start_time": "2022-08-16T18:53:12.016Z"
   },
   {
    "duration": 11,
    "start_time": "2022-08-16T18:54:11.406Z"
   },
   {
    "duration": 11,
    "start_time": "2022-08-16T18:54:22.930Z"
   },
   {
    "duration": 213,
    "start_time": "2022-08-16T18:54:30.763Z"
   },
   {
    "duration": 9,
    "start_time": "2022-08-16T19:18:15.788Z"
   },
   {
    "duration": 6,
    "start_time": "2022-08-16T19:18:22.275Z"
   },
   {
    "duration": 12,
    "start_time": "2022-08-16T19:28:43.074Z"
   },
   {
    "duration": 11,
    "start_time": "2022-08-16T19:30:03.450Z"
   },
   {
    "duration": 16,
    "start_time": "2022-08-16T19:30:37.470Z"
   },
   {
    "duration": 22,
    "start_time": "2022-08-16T19:30:53.080Z"
   },
   {
    "duration": 21,
    "start_time": "2022-08-16T19:31:49.102Z"
   },
   {
    "duration": 21,
    "start_time": "2022-08-16T19:31:57.909Z"
   },
   {
    "duration": 21,
    "start_time": "2022-08-16T19:32:10.911Z"
   },
   {
    "duration": 20,
    "start_time": "2022-08-16T19:32:30.524Z"
   },
   {
    "duration": 27,
    "start_time": "2022-08-16T19:32:40.827Z"
   },
   {
    "duration": 20,
    "start_time": "2022-08-16T19:32:57.864Z"
   },
   {
    "duration": 21,
    "start_time": "2022-08-16T19:33:04.201Z"
   },
   {
    "duration": 25,
    "start_time": "2022-08-16T19:33:28.355Z"
   },
   {
    "duration": 15,
    "start_time": "2022-08-16T19:33:53.526Z"
   },
   {
    "duration": 17,
    "start_time": "2022-08-16T19:34:01.236Z"
   },
   {
    "duration": 18,
    "start_time": "2022-08-16T19:34:05.377Z"
   },
   {
    "duration": 13,
    "start_time": "2022-08-16T19:38:27.361Z"
   },
   {
    "duration": 17,
    "start_time": "2022-08-16T19:38:59.810Z"
   },
   {
    "duration": 22,
    "start_time": "2022-08-16T19:39:24.888Z"
   },
   {
    "duration": 22,
    "start_time": "2022-08-16T19:40:28.396Z"
   },
   {
    "duration": 20,
    "start_time": "2022-08-16T19:41:05.524Z"
   },
   {
    "duration": 19,
    "start_time": "2022-08-16T20:09:56.059Z"
   },
   {
    "duration": 22,
    "start_time": "2022-08-16T20:10:19.732Z"
   },
   {
    "duration": 26,
    "start_time": "2022-08-16T20:10:35.306Z"
   },
   {
    "duration": 57,
    "start_time": "2022-08-17T14:13:21.555Z"
   },
   {
    "duration": 835,
    "start_time": "2022-08-17T14:13:25.175Z"
   },
   {
    "duration": 228,
    "start_time": "2022-08-17T14:13:26.012Z"
   },
   {
    "duration": 42,
    "start_time": "2022-08-17T14:13:26.242Z"
   },
   {
    "duration": 18,
    "start_time": "2022-08-17T14:13:26.286Z"
   },
   {
    "duration": 17,
    "start_time": "2022-08-17T14:13:26.305Z"
   },
   {
    "duration": 58,
    "start_time": "2022-08-17T14:13:26.323Z"
   },
   {
    "duration": 27,
    "start_time": "2022-08-17T14:13:26.382Z"
   },
   {
    "duration": 6,
    "start_time": "2022-08-17T14:13:26.410Z"
   },
   {
    "duration": 25,
    "start_time": "2022-08-17T14:13:26.417Z"
   },
   {
    "duration": 8,
    "start_time": "2022-08-17T14:13:26.444Z"
   },
   {
    "duration": 20,
    "start_time": "2022-08-17T14:13:26.453Z"
   },
   {
    "duration": 13,
    "start_time": "2022-08-17T14:13:26.474Z"
   },
   {
    "duration": 34,
    "start_time": "2022-08-17T14:13:26.489Z"
   },
   {
    "duration": 11,
    "start_time": "2022-08-17T14:13:26.525Z"
   },
   {
    "duration": 25,
    "start_time": "2022-08-17T14:13:26.538Z"
   },
   {
    "duration": 3,
    "start_time": "2022-08-17T14:13:26.565Z"
   },
   {
    "duration": 33,
    "start_time": "2022-08-17T14:13:26.570Z"
   },
   {
    "duration": 16,
    "start_time": "2022-08-17T14:13:26.606Z"
   },
   {
    "duration": 15,
    "start_time": "2022-08-17T14:13:26.624Z"
   },
   {
    "duration": 32,
    "start_time": "2022-08-17T14:13:26.640Z"
   },
   {
    "duration": 35,
    "start_time": "2022-08-17T14:13:26.674Z"
   },
   {
    "duration": 13,
    "start_time": "2022-08-17T14:13:26.710Z"
   },
   {
    "duration": 14,
    "start_time": "2022-08-17T14:13:26.725Z"
   },
   {
    "duration": 11,
    "start_time": "2022-08-17T14:13:26.740Z"
   },
   {
    "duration": 9,
    "start_time": "2022-08-17T14:13:26.752Z"
   },
   {
    "duration": 34,
    "start_time": "2022-08-17T14:13:26.763Z"
   },
   {
    "duration": 13,
    "start_time": "2022-08-17T14:13:26.798Z"
   },
   {
    "duration": 4,
    "start_time": "2022-08-17T14:13:26.814Z"
   },
   {
    "duration": 27,
    "start_time": "2022-08-17T14:13:26.820Z"
   },
   {
    "duration": 69,
    "start_time": "2022-08-17T14:13:26.848Z"
   },
   {
    "duration": 7,
    "start_time": "2022-08-17T14:13:26.918Z"
   },
   {
    "duration": 38,
    "start_time": "2022-08-17T14:13:26.926Z"
   },
   {
    "duration": 13,
    "start_time": "2022-08-17T14:13:26.966Z"
   },
   {
    "duration": 18,
    "start_time": "2022-08-17T14:13:27.000Z"
   },
   {
    "duration": 16,
    "start_time": "2022-08-17T14:13:27.019Z"
   },
   {
    "duration": 3,
    "start_time": "2022-08-17T14:13:27.037Z"
   },
   {
    "duration": 22,
    "start_time": "2022-08-17T14:13:27.041Z"
   },
   {
    "duration": 36,
    "start_time": "2022-08-17T14:13:27.064Z"
   },
   {
    "duration": 15,
    "start_time": "2022-08-17T14:13:27.101Z"
   },
   {
    "duration": 67,
    "start_time": "2022-08-17T14:13:27.119Z"
   },
   {
    "duration": 526,
    "start_time": "2022-08-17T14:13:27.188Z"
   },
   {
    "duration": 10,
    "start_time": "2022-08-17T14:13:27.715Z"
   },
   {
    "duration": 766,
    "start_time": "2022-08-17T14:13:27.727Z"
   },
   {
    "duration": 18,
    "start_time": "2022-08-17T14:13:28.499Z"
   },
   {
    "duration": 43,
    "start_time": "2022-08-17T14:13:28.519Z"
   },
   {
    "duration": 852,
    "start_time": "2022-08-17T14:13:28.564Z"
   },
   {
    "duration": 105,
    "start_time": "2022-08-17T14:13:29.418Z"
   },
   {
    "duration": 4,
    "start_time": "2022-08-17T14:13:29.525Z"
   },
   {
    "duration": 26,
    "start_time": "2022-08-17T14:13:29.530Z"
   },
   {
    "duration": 147,
    "start_time": "2022-08-17T14:13:29.558Z"
   },
   {
    "duration": 248,
    "start_time": "2022-08-17T14:13:29.706Z"
   },
   {
    "duration": 144,
    "start_time": "2022-08-17T14:13:29.956Z"
   },
   {
    "duration": 3,
    "start_time": "2022-08-17T14:13:30.102Z"
   },
   {
    "duration": 31,
    "start_time": "2022-08-17T14:13:30.108Z"
   },
   {
    "duration": 134,
    "start_time": "2022-08-17T14:13:30.141Z"
   },
   {
    "duration": 12,
    "start_time": "2022-08-17T14:13:30.277Z"
   },
   {
    "duration": 132,
    "start_time": "2022-08-17T14:13:30.291Z"
   },
   {
    "duration": 18,
    "start_time": "2022-08-17T14:13:30.424Z"
   },
   {
    "duration": 216,
    "start_time": "2022-08-17T14:13:30.443Z"
   },
   {
    "duration": 43,
    "start_time": "2022-08-17T14:13:30.661Z"
   },
   {
    "duration": 16,
    "start_time": "2022-08-17T14:13:30.705Z"
   },
   {
    "duration": 3164,
    "start_time": "2022-08-17T14:13:30.723Z"
   },
   {
    "duration": 10,
    "start_time": "2022-08-17T14:13:33.890Z"
   },
   {
    "duration": 5,
    "start_time": "2022-08-17T14:13:33.902Z"
   },
   {
    "duration": 167,
    "start_time": "2022-08-17T14:13:33.909Z"
   },
   {
    "duration": 11,
    "start_time": "2022-08-17T14:13:34.078Z"
   },
   {
    "duration": 253,
    "start_time": "2022-08-17T14:13:34.090Z"
   },
   {
    "duration": 37,
    "start_time": "2022-08-17T14:13:34.345Z"
   },
   {
    "duration": 28,
    "start_time": "2022-08-17T14:13:34.384Z"
   },
   {
    "duration": 3224,
    "start_time": "2022-08-17T14:13:34.414Z"
   },
   {
    "duration": 12,
    "start_time": "2022-08-17T14:13:37.640Z"
   },
   {
    "duration": 6,
    "start_time": "2022-08-17T14:13:37.654Z"
   },
   {
    "duration": 164,
    "start_time": "2022-08-17T14:13:37.661Z"
   },
   {
    "duration": 12,
    "start_time": "2022-08-17T14:13:37.826Z"
   },
   {
    "duration": 236,
    "start_time": "2022-08-17T14:13:37.839Z"
   },
   {
    "duration": 55,
    "start_time": "2022-08-17T15:39:55.133Z"
   },
   {
    "duration": 3,
    "start_time": "2022-08-17T15:41:10.383Z"
   },
   {
    "duration": 153,
    "start_time": "2022-08-17T15:41:10.391Z"
   },
   {
    "duration": 40,
    "start_time": "2022-08-17T15:41:10.546Z"
   },
   {
    "duration": 39,
    "start_time": "2022-08-17T15:41:10.588Z"
   },
   {
    "duration": 23,
    "start_time": "2022-08-17T15:41:10.629Z"
   },
   {
    "duration": 73,
    "start_time": "2022-08-17T15:41:10.654Z"
   },
   {
    "duration": 42,
    "start_time": "2022-08-17T15:41:10.729Z"
   },
   {
    "duration": 30,
    "start_time": "2022-08-17T15:41:10.774Z"
   },
   {
    "duration": 34,
    "start_time": "2022-08-17T15:41:10.805Z"
   },
   {
    "duration": 5,
    "start_time": "2022-08-17T15:41:10.840Z"
   },
   {
    "duration": 5,
    "start_time": "2022-08-17T15:41:10.847Z"
   },
   {
    "duration": 7,
    "start_time": "2022-08-17T15:41:10.853Z"
   },
   {
    "duration": 50,
    "start_time": "2022-08-17T15:41:10.862Z"
   },
   {
    "duration": 10,
    "start_time": "2022-08-17T15:41:10.914Z"
   },
   {
    "duration": 17,
    "start_time": "2022-08-17T15:41:10.926Z"
   },
   {
    "duration": 7,
    "start_time": "2022-08-17T15:41:10.944Z"
   },
   {
    "duration": 54,
    "start_time": "2022-08-17T15:41:10.952Z"
   },
   {
    "duration": 15,
    "start_time": "2022-08-17T15:41:11.008Z"
   },
   {
    "duration": 7,
    "start_time": "2022-08-17T15:41:11.024Z"
   },
   {
    "duration": 15,
    "start_time": "2022-08-17T15:41:11.032Z"
   },
   {
    "duration": 24,
    "start_time": "2022-08-17T15:41:11.049Z"
   },
   {
    "duration": 14,
    "start_time": "2022-08-17T15:41:11.100Z"
   },
   {
    "duration": 16,
    "start_time": "2022-08-17T15:41:11.115Z"
   },
   {
    "duration": 5,
    "start_time": "2022-08-17T15:41:11.133Z"
   },
   {
    "duration": 6,
    "start_time": "2022-08-17T15:41:11.139Z"
   },
   {
    "duration": 23,
    "start_time": "2022-08-17T15:41:11.147Z"
   },
   {
    "duration": 40,
    "start_time": "2022-08-17T15:41:11.172Z"
   },
   {
    "duration": 5,
    "start_time": "2022-08-17T15:41:11.214Z"
   },
   {
    "duration": 16,
    "start_time": "2022-08-17T15:41:11.224Z"
   },
   {
    "duration": 234,
    "start_time": "2022-08-17T15:41:11.242Z"
   },
   {
    "duration": 23,
    "start_time": "2022-08-17T15:41:11.479Z"
   },
   {
    "duration": 78,
    "start_time": "2022-08-17T15:41:11.504Z"
   },
   {
    "duration": 60,
    "start_time": "2022-08-17T15:41:11.585Z"
   },
   {
    "duration": 16,
    "start_time": "2022-08-17T15:41:11.647Z"
   },
   {
    "duration": 42,
    "start_time": "2022-08-17T15:41:11.665Z"
   },
   {
    "duration": 15,
    "start_time": "2022-08-17T15:41:11.710Z"
   },
   {
    "duration": 6,
    "start_time": "2022-08-17T15:41:11.727Z"
   },
   {
    "duration": 40,
    "start_time": "2022-08-17T15:41:11.734Z"
   },
   {
    "duration": 33,
    "start_time": "2022-08-17T15:41:11.775Z"
   },
   {
    "duration": 17,
    "start_time": "2022-08-17T15:41:11.810Z"
   },
   {
    "duration": 72,
    "start_time": "2022-08-17T15:41:11.829Z"
   },
   {
    "duration": 3,
    "start_time": "2022-08-17T15:41:11.902Z"
   },
   {
    "duration": 12,
    "start_time": "2022-08-17T15:41:11.906Z"
   },
   {
    "duration": 662,
    "start_time": "2022-08-17T15:41:11.920Z"
   },
   {
    "duration": 27,
    "start_time": "2022-08-17T15:41:12.584Z"
   },
   {
    "duration": 42,
    "start_time": "2022-08-17T15:41:12.612Z"
   },
   {
    "duration": 878,
    "start_time": "2022-08-17T15:41:12.656Z"
   },
   {
    "duration": 102,
    "start_time": "2022-08-17T15:41:13.536Z"
   },
   {
    "duration": 5,
    "start_time": "2022-08-17T15:41:13.639Z"
   },
   {
    "duration": 22,
    "start_time": "2022-08-17T15:41:13.646Z"
   },
   {
    "duration": 156,
    "start_time": "2022-08-17T15:41:13.671Z"
   },
   {
    "duration": 272,
    "start_time": "2022-08-17T15:41:13.829Z"
   },
   {
    "duration": 21,
    "start_time": "2022-08-17T15:41:14.103Z"
   },
   {
    "duration": 5,
    "start_time": "2022-08-17T15:41:14.126Z"
   },
   {
    "duration": 23,
    "start_time": "2022-08-17T15:41:14.132Z"
   },
   {
    "duration": 152,
    "start_time": "2022-08-17T15:41:14.157Z"
   },
   {
    "duration": 14,
    "start_time": "2022-08-17T15:41:14.310Z"
   },
   {
    "duration": 318,
    "start_time": "2022-08-17T15:41:14.326Z"
   },
   {
    "duration": 16,
    "start_time": "2022-08-17T15:41:14.646Z"
   },
   {
    "duration": 203,
    "start_time": "2022-08-17T15:41:14.664Z"
   },
   {
    "duration": 39,
    "start_time": "2022-08-17T15:41:14.869Z"
   },
   {
    "duration": 15,
    "start_time": "2022-08-17T15:41:14.909Z"
   },
   {
    "duration": 3004,
    "start_time": "2022-08-17T15:41:14.925Z"
   },
   {
    "duration": 10,
    "start_time": "2022-08-17T15:41:17.931Z"
   },
   {
    "duration": 6,
    "start_time": "2022-08-17T15:41:17.943Z"
   },
   {
    "duration": 152,
    "start_time": "2022-08-17T15:41:17.950Z"
   },
   {
    "duration": 11,
    "start_time": "2022-08-17T15:41:18.104Z"
   },
   {
    "duration": 245,
    "start_time": "2022-08-17T15:41:18.117Z"
   },
   {
    "duration": 44,
    "start_time": "2022-08-17T15:41:18.364Z"
   },
   {
    "duration": 14,
    "start_time": "2022-08-17T15:41:18.410Z"
   },
   {
    "duration": 2958,
    "start_time": "2022-08-17T15:41:18.427Z"
   },
   {
    "duration": 16,
    "start_time": "2022-08-17T15:41:21.387Z"
   },
   {
    "duration": 6,
    "start_time": "2022-08-17T15:41:21.405Z"
   },
   {
    "duration": 208,
    "start_time": "2022-08-17T15:41:21.413Z"
   },
   {
    "duration": 16,
    "start_time": "2022-08-17T15:41:21.623Z"
   },
   {
    "duration": 218,
    "start_time": "2022-08-17T15:41:21.641Z"
   },
   {
    "duration": 57,
    "start_time": "2022-08-17T15:42:09.162Z"
   },
   {
    "duration": 72,
    "start_time": "2022-08-17T15:42:19.914Z"
   },
   {
    "duration": 16,
    "start_time": "2022-08-17T15:44:10.860Z"
   },
   {
    "duration": 17,
    "start_time": "2022-08-17T15:44:33.551Z"
   },
   {
    "duration": 3,
    "start_time": "2022-08-17T15:44:41.035Z"
   },
   {
    "duration": 166,
    "start_time": "2022-08-17T15:44:41.041Z"
   },
   {
    "duration": 40,
    "start_time": "2022-08-17T15:44:41.209Z"
   },
   {
    "duration": 18,
    "start_time": "2022-08-17T15:44:41.251Z"
   },
   {
    "duration": 27,
    "start_time": "2022-08-17T15:44:41.302Z"
   },
   {
    "duration": 73,
    "start_time": "2022-08-17T15:44:41.332Z"
   },
   {
    "duration": 38,
    "start_time": "2022-08-17T15:44:41.407Z"
   },
   {
    "duration": 8,
    "start_time": "2022-08-17T15:44:41.447Z"
   },
   {
    "duration": 64,
    "start_time": "2022-08-17T15:44:41.458Z"
   },
   {
    "duration": 6,
    "start_time": "2022-08-17T15:44:41.525Z"
   },
   {
    "duration": 15,
    "start_time": "2022-08-17T15:44:41.535Z"
   },
   {
    "duration": 17,
    "start_time": "2022-08-17T15:44:41.552Z"
   },
   {
    "duration": 40,
    "start_time": "2022-08-17T15:44:41.573Z"
   },
   {
    "duration": 19,
    "start_time": "2022-08-17T15:44:41.615Z"
   },
   {
    "duration": 52,
    "start_time": "2022-08-17T15:44:41.636Z"
   },
   {
    "duration": 5,
    "start_time": "2022-08-17T15:44:41.691Z"
   },
   {
    "duration": 36,
    "start_time": "2022-08-17T15:44:41.699Z"
   },
   {
    "duration": 20,
    "start_time": "2022-08-17T15:44:41.737Z"
   },
   {
    "duration": 4,
    "start_time": "2022-08-17T15:44:41.758Z"
   },
   {
    "duration": 37,
    "start_time": "2022-08-17T15:44:41.764Z"
   },
   {
    "duration": 24,
    "start_time": "2022-08-17T15:44:41.803Z"
   },
   {
    "duration": 16,
    "start_time": "2022-08-17T15:44:41.828Z"
   },
   {
    "duration": 11,
    "start_time": "2022-08-17T15:44:41.847Z"
   },
   {
    "duration": 4,
    "start_time": "2022-08-17T15:44:41.860Z"
   },
   {
    "duration": 43,
    "start_time": "2022-08-17T15:44:41.866Z"
   },
   {
    "duration": 26,
    "start_time": "2022-08-17T15:44:41.910Z"
   },
   {
    "duration": 12,
    "start_time": "2022-08-17T15:44:41.938Z"
   },
   {
    "duration": 4,
    "start_time": "2022-08-17T15:44:41.952Z"
   },
   {
    "duration": 42,
    "start_time": "2022-08-17T15:44:41.960Z"
   },
   {
    "duration": 57,
    "start_time": "2022-08-17T15:44:42.003Z"
   },
   {
    "duration": 9,
    "start_time": "2022-08-17T15:44:42.062Z"
   },
   {
    "duration": 105,
    "start_time": "2022-08-17T15:44:42.073Z"
   },
   {
    "duration": 36,
    "start_time": "2022-08-17T15:44:42.179Z"
   },
   {
    "duration": 13,
    "start_time": "2022-08-17T15:44:42.218Z"
   },
   {
    "duration": 18,
    "start_time": "2022-08-17T15:44:42.232Z"
   },
   {
    "duration": 7,
    "start_time": "2022-08-17T15:44:42.253Z"
   },
   {
    "duration": 38,
    "start_time": "2022-08-17T15:44:42.262Z"
   },
   {
    "duration": 24,
    "start_time": "2022-08-17T15:44:42.302Z"
   },
   {
    "duration": 19,
    "start_time": "2022-08-17T15:44:42.328Z"
   },
   {
    "duration": 17,
    "start_time": "2022-08-17T15:44:42.350Z"
   },
   {
    "duration": 86,
    "start_time": "2022-08-17T15:44:42.368Z"
   },
   {
    "duration": 3,
    "start_time": "2022-08-17T15:44:42.456Z"
   },
   {
    "duration": 13,
    "start_time": "2022-08-17T15:44:42.461Z"
   },
   {
    "duration": 726,
    "start_time": "2022-08-17T15:44:42.475Z"
   },
   {
    "duration": 17,
    "start_time": "2022-08-17T15:44:43.203Z"
   },
   {
    "duration": 54,
    "start_time": "2022-08-17T15:44:43.222Z"
   },
   {
    "duration": 888,
    "start_time": "2022-08-17T15:44:43.278Z"
   },
   {
    "duration": 102,
    "start_time": "2022-08-17T15:44:44.168Z"
   },
   {
    "duration": 4,
    "start_time": "2022-08-17T15:44:44.272Z"
   },
   {
    "duration": 36,
    "start_time": "2022-08-17T15:44:44.278Z"
   },
   {
    "duration": 180,
    "start_time": "2022-08-17T15:44:44.316Z"
   },
   {
    "duration": 276,
    "start_time": "2022-08-17T15:44:44.500Z"
   },
   {
    "duration": 32,
    "start_time": "2022-08-17T15:44:44.778Z"
   },
   {
    "duration": 7,
    "start_time": "2022-08-17T15:44:44.812Z"
   },
   {
    "duration": 37,
    "start_time": "2022-08-17T15:44:44.821Z"
   },
   {
    "duration": 137,
    "start_time": "2022-08-17T15:44:44.860Z"
   },
   {
    "duration": 21,
    "start_time": "2022-08-17T15:44:44.999Z"
   },
   {
    "duration": 164,
    "start_time": "2022-08-17T15:44:45.022Z"
   },
   {
    "duration": 27,
    "start_time": "2022-08-17T15:44:45.188Z"
   },
   {
    "duration": 452,
    "start_time": "2022-08-17T15:44:45.218Z"
   },
   {
    "duration": 40,
    "start_time": "2022-08-17T15:44:45.672Z"
   },
   {
    "duration": 16,
    "start_time": "2022-08-17T15:44:45.714Z"
   },
   {
    "duration": 2870,
    "start_time": "2022-08-17T15:44:45.731Z"
   },
   {
    "duration": 12,
    "start_time": "2022-08-17T15:44:48.604Z"
   },
   {
    "duration": 7,
    "start_time": "2022-08-17T15:44:48.618Z"
   },
   {
    "duration": 154,
    "start_time": "2022-08-17T15:44:48.627Z"
   },
   {
    "duration": 18,
    "start_time": "2022-08-17T15:44:48.783Z"
   },
   {
    "duration": 503,
    "start_time": "2022-08-17T15:44:48.802Z"
   },
   {
    "duration": 32,
    "start_time": "2022-08-17T15:44:49.307Z"
   },
   {
    "duration": 16,
    "start_time": "2022-08-17T15:44:49.341Z"
   },
   {
    "duration": 3027,
    "start_time": "2022-08-17T15:44:49.358Z"
   },
   {
    "duration": 21,
    "start_time": "2022-08-17T15:44:52.387Z"
   },
   {
    "duration": 11,
    "start_time": "2022-08-17T15:44:52.410Z"
   },
   {
    "duration": 157,
    "start_time": "2022-08-17T15:44:52.423Z"
   },
   {
    "duration": 17,
    "start_time": "2022-08-17T15:44:52.583Z"
   },
   {
    "duration": 230,
    "start_time": "2022-08-17T15:44:52.602Z"
   },
   {
    "duration": 5,
    "start_time": "2022-08-17T15:45:50.137Z"
   },
   {
    "duration": 223,
    "start_time": "2022-08-17T15:45:50.144Z"
   },
   {
    "duration": 55,
    "start_time": "2022-08-17T15:45:50.369Z"
   },
   {
    "duration": 29,
    "start_time": "2022-08-17T15:45:50.426Z"
   },
   {
    "duration": 34,
    "start_time": "2022-08-17T15:45:50.459Z"
   },
   {
    "duration": 49,
    "start_time": "2022-08-17T15:45:50.495Z"
   },
   {
    "duration": 61,
    "start_time": "2022-08-17T15:45:50.546Z"
   },
   {
    "duration": 8,
    "start_time": "2022-08-17T15:45:50.609Z"
   },
   {
    "duration": 27,
    "start_time": "2022-08-17T15:45:50.619Z"
   },
   {
    "duration": 6,
    "start_time": "2022-08-17T15:45:50.648Z"
   },
   {
    "duration": 7,
    "start_time": "2022-08-17T15:45:50.655Z"
   },
   {
    "duration": 44,
    "start_time": "2022-08-17T15:45:50.664Z"
   },
   {
    "duration": 28,
    "start_time": "2022-08-17T15:45:50.710Z"
   },
   {
    "duration": 13,
    "start_time": "2022-08-17T15:45:50.743Z"
   },
   {
    "duration": 50,
    "start_time": "2022-08-17T15:45:50.758Z"
   },
   {
    "duration": 5,
    "start_time": "2022-08-17T15:45:50.810Z"
   },
   {
    "duration": 40,
    "start_time": "2022-08-17T15:45:50.816Z"
   },
   {
    "duration": 42,
    "start_time": "2022-08-17T15:45:50.858Z"
   },
   {
    "duration": 7,
    "start_time": "2022-08-17T15:45:50.902Z"
   },
   {
    "duration": 19,
    "start_time": "2022-08-17T15:45:50.910Z"
   },
   {
    "duration": 24,
    "start_time": "2022-08-17T15:45:50.931Z"
   },
   {
    "duration": 18,
    "start_time": "2022-08-17T15:45:50.958Z"
   },
   {
    "duration": 18,
    "start_time": "2022-08-17T15:45:51.001Z"
   },
   {
    "duration": 6,
    "start_time": "2022-08-17T15:45:51.021Z"
   },
   {
    "duration": 13,
    "start_time": "2022-08-17T15:45:51.030Z"
   },
   {
    "duration": 35,
    "start_time": "2022-08-17T15:45:51.045Z"
   },
   {
    "duration": 16,
    "start_time": "2022-08-17T15:45:51.101Z"
   },
   {
    "duration": 5,
    "start_time": "2022-08-17T15:45:51.119Z"
   },
   {
    "duration": 23,
    "start_time": "2022-08-17T15:45:51.126Z"
   },
   {
    "duration": 94,
    "start_time": "2022-08-17T15:45:51.151Z"
   },
   {
    "duration": 8,
    "start_time": "2022-08-17T15:45:51.247Z"
   },
   {
    "duration": 68,
    "start_time": "2022-08-17T15:45:51.257Z"
   },
   {
    "duration": 32,
    "start_time": "2022-08-17T15:45:51.327Z"
   },
   {
    "duration": 14,
    "start_time": "2022-08-17T15:45:51.360Z"
   },
   {
    "duration": 46,
    "start_time": "2022-08-17T15:45:51.376Z"
   },
   {
    "duration": 11,
    "start_time": "2022-08-17T15:45:51.425Z"
   },
   {
    "duration": 18,
    "start_time": "2022-08-17T15:45:51.438Z"
   },
   {
    "duration": 50,
    "start_time": "2022-08-17T15:45:51.458Z"
   },
   {
    "duration": 35,
    "start_time": "2022-08-17T15:45:51.512Z"
   },
   {
    "duration": 22,
    "start_time": "2022-08-17T15:45:51.549Z"
   },
   {
    "duration": 83,
    "start_time": "2022-08-17T15:45:51.577Z"
   },
   {
    "duration": 2,
    "start_time": "2022-08-17T15:45:51.662Z"
   },
   {
    "duration": 16,
    "start_time": "2022-08-17T15:45:51.666Z"
   },
   {
    "duration": 712,
    "start_time": "2022-08-17T15:45:51.683Z"
   },
   {
    "duration": 20,
    "start_time": "2022-08-17T15:45:52.399Z"
   },
   {
    "duration": 61,
    "start_time": "2022-08-17T15:45:52.420Z"
   },
   {
    "duration": 1150,
    "start_time": "2022-08-17T15:45:52.500Z"
   },
   {
    "duration": 108,
    "start_time": "2022-08-17T15:45:53.653Z"
   },
   {
    "duration": 4,
    "start_time": "2022-08-17T15:45:53.763Z"
   },
   {
    "duration": 20,
    "start_time": "2022-08-17T15:45:53.769Z"
   },
   {
    "duration": 200,
    "start_time": "2022-08-17T15:45:53.792Z"
   },
   {
    "duration": 259,
    "start_time": "2022-08-17T15:45:54.000Z"
   },
   {
    "duration": 20,
    "start_time": "2022-08-17T15:45:54.261Z"
   },
   {
    "duration": 18,
    "start_time": "2022-08-17T15:45:54.283Z"
   },
   {
    "duration": 14,
    "start_time": "2022-08-17T15:45:54.303Z"
   },
   {
    "duration": 145,
    "start_time": "2022-08-17T15:45:54.319Z"
   },
   {
    "duration": 15,
    "start_time": "2022-08-17T15:45:54.466Z"
   },
   {
    "duration": 145,
    "start_time": "2022-08-17T15:45:54.483Z"
   },
   {
    "duration": 23,
    "start_time": "2022-08-17T15:45:54.630Z"
   },
   {
    "duration": 190,
    "start_time": "2022-08-17T15:45:54.656Z"
   },
   {
    "duration": 39,
    "start_time": "2022-08-17T15:45:54.848Z"
   },
   {
    "duration": 21,
    "start_time": "2022-08-17T15:45:54.901Z"
   },
   {
    "duration": 2903,
    "start_time": "2022-08-17T15:45:54.923Z"
   },
   {
    "duration": 12,
    "start_time": "2022-08-17T15:45:57.828Z"
   },
   {
    "duration": 7,
    "start_time": "2022-08-17T15:45:57.842Z"
   },
   {
    "duration": 154,
    "start_time": "2022-08-17T15:45:57.851Z"
   },
   {
    "duration": 11,
    "start_time": "2022-08-17T15:45:58.007Z"
   },
   {
    "duration": 579,
    "start_time": "2022-08-17T15:45:58.020Z"
   },
   {
    "duration": 30,
    "start_time": "2022-08-17T15:45:58.601Z"
   },
   {
    "duration": 14,
    "start_time": "2022-08-17T15:45:58.633Z"
   },
   {
    "duration": 3184,
    "start_time": "2022-08-17T15:45:58.650Z"
   },
   {
    "duration": 15,
    "start_time": "2022-08-17T15:46:01.836Z"
   },
   {
    "duration": 17,
    "start_time": "2022-08-17T15:46:01.853Z"
   },
   {
    "duration": 165,
    "start_time": "2022-08-17T15:46:01.872Z"
   },
   {
    "duration": 12,
    "start_time": "2022-08-17T15:46:02.039Z"
   },
   {
    "duration": 247,
    "start_time": "2022-08-17T15:46:02.053Z"
   },
   {
    "duration": 847,
    "start_time": "2022-08-18T08:16:21.160Z"
   },
   {
    "duration": 253,
    "start_time": "2022-08-18T08:16:22.009Z"
   },
   {
    "duration": 67,
    "start_time": "2022-08-18T08:16:22.264Z"
   },
   {
    "duration": 29,
    "start_time": "2022-08-18T08:16:22.335Z"
   },
   {
    "duration": 48,
    "start_time": "2022-08-18T08:16:22.366Z"
   },
   {
    "duration": 84,
    "start_time": "2022-08-18T08:16:22.417Z"
   },
   {
    "duration": 57,
    "start_time": "2022-08-18T08:16:22.505Z"
   },
   {
    "duration": 28,
    "start_time": "2022-08-18T08:16:22.565Z"
   },
   {
    "duration": 35,
    "start_time": "2022-08-18T08:16:22.595Z"
   },
   {
    "duration": 5,
    "start_time": "2022-08-18T08:16:22.633Z"
   },
   {
    "duration": 6,
    "start_time": "2022-08-18T08:16:22.640Z"
   },
   {
    "duration": 56,
    "start_time": "2022-08-18T08:16:22.648Z"
   },
   {
    "duration": 22,
    "start_time": "2022-08-18T08:16:22.706Z"
   },
   {
    "duration": 14,
    "start_time": "2022-08-18T08:16:22.730Z"
   },
   {
    "duration": 54,
    "start_time": "2022-08-18T08:16:22.746Z"
   },
   {
    "duration": 4,
    "start_time": "2022-08-18T08:16:22.802Z"
   },
   {
    "duration": 36,
    "start_time": "2022-08-18T08:16:22.808Z"
   },
   {
    "duration": 57,
    "start_time": "2022-08-18T08:16:22.847Z"
   },
   {
    "duration": 6,
    "start_time": "2022-08-18T08:16:22.907Z"
   },
   {
    "duration": 14,
    "start_time": "2022-08-18T08:16:22.915Z"
   },
   {
    "duration": 64,
    "start_time": "2022-08-18T08:16:22.931Z"
   },
   {
    "duration": 22,
    "start_time": "2022-08-18T08:16:22.997Z"
   },
   {
    "duration": 14,
    "start_time": "2022-08-18T08:16:23.021Z"
   },
   {
    "duration": 5,
    "start_time": "2022-08-18T08:16:23.037Z"
   },
   {
    "duration": 52,
    "start_time": "2022-08-18T08:16:23.044Z"
   },
   {
    "duration": 34,
    "start_time": "2022-08-18T08:16:23.098Z"
   },
   {
    "duration": 19,
    "start_time": "2022-08-18T08:16:23.134Z"
   },
   {
    "duration": 35,
    "start_time": "2022-08-18T08:16:23.159Z"
   },
   {
    "duration": 35,
    "start_time": "2022-08-18T08:16:23.196Z"
   },
   {
    "duration": 92,
    "start_time": "2022-08-18T08:16:23.234Z"
   },
   {
    "duration": 10,
    "start_time": "2022-08-18T08:16:23.328Z"
   },
   {
    "duration": 123,
    "start_time": "2022-08-18T08:16:23.339Z"
   },
   {
    "duration": 54,
    "start_time": "2022-08-18T08:16:23.464Z"
   },
   {
    "duration": 16,
    "start_time": "2022-08-18T08:16:23.520Z"
   },
   {
    "duration": 59,
    "start_time": "2022-08-18T08:16:23.538Z"
   },
   {
    "duration": 17,
    "start_time": "2022-08-18T08:16:23.601Z"
   },
   {
    "duration": 13,
    "start_time": "2022-08-18T08:16:23.619Z"
   },
   {
    "duration": 45,
    "start_time": "2022-08-18T08:16:23.634Z"
   },
   {
    "duration": 36,
    "start_time": "2022-08-18T08:16:23.681Z"
   },
   {
    "duration": 25,
    "start_time": "2022-08-18T08:16:23.720Z"
   },
   {
    "duration": 126,
    "start_time": "2022-08-18T08:16:23.747Z"
   },
   {
    "duration": 593,
    "start_time": "2022-08-18T08:16:23.875Z"
   },
   {
    "duration": 12,
    "start_time": "2022-08-18T08:16:24.470Z"
   },
   {
    "duration": 979,
    "start_time": "2022-08-18T08:16:24.492Z"
   },
   {
    "duration": 31,
    "start_time": "2022-08-18T08:16:25.473Z"
   },
   {
    "duration": 59,
    "start_time": "2022-08-18T08:16:25.506Z"
   },
   {
    "duration": 1047,
    "start_time": "2022-08-18T08:16:25.591Z"
   },
   {
    "duration": 170,
    "start_time": "2022-08-18T08:16:26.641Z"
   },
   {
    "duration": 6,
    "start_time": "2022-08-18T08:16:26.813Z"
   },
   {
    "duration": 31,
    "start_time": "2022-08-18T08:16:26.821Z"
   },
   {
    "duration": 242,
    "start_time": "2022-08-18T08:16:26.856Z"
   },
   {
    "duration": 420,
    "start_time": "2022-08-18T08:16:27.101Z"
   },
   {
    "duration": 141,
    "start_time": "2022-08-18T08:16:27.523Z"
   },
   {
    "duration": 5,
    "start_time": "2022-08-18T08:16:27.666Z"
   },
   {
    "duration": 34,
    "start_time": "2022-08-18T08:16:27.673Z"
   },
   {
    "duration": 265,
    "start_time": "2022-08-18T08:16:27.709Z"
   },
   {
    "duration": 25,
    "start_time": "2022-08-18T08:16:27.976Z"
   },
   {
    "duration": 236,
    "start_time": "2022-08-18T08:16:28.004Z"
   },
   {
    "duration": 20,
    "start_time": "2022-08-18T08:16:28.243Z"
   },
   {
    "duration": 253,
    "start_time": "2022-08-18T08:16:28.265Z"
   },
   {
    "duration": 40,
    "start_time": "2022-08-18T08:16:28.520Z"
   },
   {
    "duration": 37,
    "start_time": "2022-08-18T08:16:28.562Z"
   },
   {
    "duration": 3533,
    "start_time": "2022-08-18T08:16:28.602Z"
   },
   {
    "duration": 14,
    "start_time": "2022-08-18T08:16:32.138Z"
   },
   {
    "duration": 40,
    "start_time": "2022-08-18T08:16:32.154Z"
   },
   {
    "duration": 236,
    "start_time": "2022-08-18T08:16:32.196Z"
   },
   {
    "duration": 15,
    "start_time": "2022-08-18T08:16:32.434Z"
   },
   {
    "duration": 332,
    "start_time": "2022-08-18T08:16:32.451Z"
   },
   {
    "duration": 42,
    "start_time": "2022-08-18T08:16:32.786Z"
   },
   {
    "duration": 20,
    "start_time": "2022-08-18T08:16:32.831Z"
   },
   {
    "duration": 3385,
    "start_time": "2022-08-18T08:16:32.853Z"
   },
   {
    "duration": 12,
    "start_time": "2022-08-18T08:16:36.240Z"
   },
   {
    "duration": 39,
    "start_time": "2022-08-18T08:16:36.254Z"
   },
   {
    "duration": 197,
    "start_time": "2022-08-18T08:16:36.295Z"
   },
   {
    "duration": 13,
    "start_time": "2022-08-18T08:16:36.494Z"
   },
   {
    "duration": 281,
    "start_time": "2022-08-18T08:16:36.509Z"
   }
  ],
  "kernelspec": {
   "display_name": "Python 3 (ipykernel)",
   "language": "python",
   "name": "python3"
  },
  "language_info": {
   "codemirror_mode": {
    "name": "ipython",
    "version": 3
   },
   "file_extension": ".py",
   "mimetype": "text/x-python",
   "name": "python",
   "nbconvert_exporter": "python",
   "pygments_lexer": "ipython3",
   "version": "3.9.12"
  },
  "toc": {
   "base_numbering": 1,
   "nav_menu": {},
   "number_sections": false,
   "sideBar": true,
   "skip_h1_title": false,
   "title_cell": "Table of Contents",
   "title_sidebar": "Contents",
   "toc_cell": true,
   "toc_position": {
    "height": "calc(100% - 180px)",
    "left": "10px",
    "top": "150px",
    "width": "165px"
   },
   "toc_section_display": true,
   "toc_window_display": true
  }
 },
 "nbformat": 4,
 "nbformat_minor": 2
}
