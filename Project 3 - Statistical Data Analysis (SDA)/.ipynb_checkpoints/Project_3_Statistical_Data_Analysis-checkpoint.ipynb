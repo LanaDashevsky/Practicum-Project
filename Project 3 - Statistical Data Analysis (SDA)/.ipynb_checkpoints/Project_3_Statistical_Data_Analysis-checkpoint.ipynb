{
 "cells": [
  {
   "cell_type": "markdown",
   "metadata": {},
   "source": [
    "# Project description"
   ]
  },
  {
   "cell_type": "markdown",
   "metadata": {},
   "source": [
    "You work as an analyst for the telecom operator Megaline. The company offers its clients two prepaid plans, Surf and Ultimate. The commercial department wants to know which of the plans brings in more revenue in order to adjust the advertising budget.  \n",
    "\n",
    "You are going to carry out a preliminary analysis of the plans based on a relatively small client selection. You'll have the data on **500 Megaline clients**: who the clients are, where they're from, which plan they use, and the number of calls they made and text messages they sent in 2018. Your job is to analyze clients' behavior and determine which prepaid plan brings in more revenue.\n"
   ]
  },
  {
   "cell_type": "markdown",
   "metadata": {},
   "source": [
    "## Description of the plans"
   ]
  },
  {
   "cell_type": "markdown",
   "metadata": {},
   "source": [
    "**Surf**\n",
    "\n",
    "- monthly charge: 20\n",
    "- 500 monthly minutes, 50 texts, and 15 GB of data\n",
    "- After exceeding the package limits:\n",
    "    - 1minute: 3 cents\n",
    "    - 1 text message: 3 cents\n",
    "    - 1 GB of data: 10\n",
    "    \n",
    "**Ultimate**\n",
    "- Monthly charge: 70\n",
    "- 3000 monthly minutes, 1000 text messages, and 30 GB of data\n",
    "- After exceeding the package limits:\n",
    "    - 1 minute: 1 cent\n",
    "    - 1 text message: 1 cent\n",
    "    - 1 GB of data: 7"
   ]
  },
  {
   "cell_type": "markdown",
   "metadata": {},
   "source": [
    "**Note:** Megaline rounds seconds up to minutes, and megabytes to gigabytes. For calls, each individual call is rounded up: even if the call lasted just one second, it will be counted as one minute. For web traffic, individual web sessions are not rounded up. Instead, the total for the month is rounded up. If someone uses 1025 megabytes this month, they will be charged for 2 gigabytes."
   ]
  },
  {
   "cell_type": "markdown",
   "metadata": {},
   "source": [
    "We have to load the database, analyze the data for incorrect and missing values. After we prepare our database for work, we need to turn to the main tasks that we want to study...."
   ]
  },
  {
   "cell_type": "markdown",
   "metadata": {},
   "source": [
    "# Initialization"
   ]
  },
  {
   "cell_type": "markdown",
   "metadata": {},
   "source": [
    "Let's start by importing the needed libraries and modules."
   ]
  },
  {
   "cell_type": "code",
   "execution_count": 1,
   "metadata": {},
   "outputs": [],
   "source": [
    "# Loading all the libraries\n",
    "import pandas as pd\n",
    "import numpy as np \n",
    "import math as mt\n",
    "import matplotlib.pyplot as plt #imports the pyplot module from the matplotlib library to plot graphs\n",
    "from scipy import stats as st\n",
    "import seaborn as sns\n"
   ]
  },
  {
   "cell_type": "code",
   "execution_count": 2,
   "metadata": {},
   "outputs": [],
   "source": [
    "# function for printing info about data\n",
    "def data_info(data):\n",
    "    print('-'*60)\n",
    "    print('\\033[1m INFO: \\033[0m ')\n",
    "    print(' ')\n",
    "    display( data.info())\n",
    "    print('-'*60)\n",
    "    print('\\033[1m HEAD: \\033[0m ')\n",
    "    display( data.head(10))\n",
    "    print('-'*60)\n",
    "    print('\\033[1m DESCRIBE: \\033[0m ')\n",
    "    print(' ')\n",
    "    display( data.describe())\n",
    "    print('-'*60)\n",
    "    print('\\033[1m DUPLICATED: \\033[0m')\n",
    "    print('We have {} duplicated rows!'.format(data.duplicated().sum()))\n",
    "    "
   ]
  },
  {
   "cell_type": "markdown",
   "metadata": {},
   "source": [
    "## Load data"
   ]
  },
  {
   "cell_type": "markdown",
   "metadata": {},
   "source": [
    "Let's load our files, make it a data frame and look at the general information."
   ]
  },
  {
   "cell_type": "code",
   "execution_count": 3,
   "metadata": {},
   "outputs": [],
   "source": [
    "# Load the data file into a DataFrame\n",
    "\n",
    "try:\n",
    "    calls = pd.read_csv('megaline_calls.csv')\n",
    "    messages = pd.read_csv('megaline_messages.csv')\n",
    "    internet = pd.read_csv('megaline_internet.csv')\n",
    "    users = pd.read_csv('megaline_users.csv')\n",
    "    plans = pd.read_csv('megaline_plans.csv')\n",
    "except:\n",
    "    calls = pd.read_csv('/datasets/megaline_calls.csv')\n",
    "    messages = pd.read_csv('/datasets/megaline_messages.csv')\n",
    "    internet = pd.read_csv('/datasets/megaline_internet.csv')\n",
    "    users = pd.read_csv('/datasets/megaline_users.csv')\n",
    "    plans = pd.read_csv('/datasets/megaline_plans.csv')\n",
    "    "
   ]
  },
  {
   "cell_type": "markdown",
   "metadata": {},
   "source": [
    "# Study data"
   ]
  },
  {
   "cell_type": "markdown",
   "metadata": {},
   "source": [
    "### Studying the General Info: **`megaline users`**"
   ]
  },
  {
   "cell_type": "markdown",
   "metadata": {},
   "source": [
    "The **`users`** table (data on users):\n",
    "- `user_id` — unique user identifier\n",
    "- `first_name` — user's name\n",
    "- `last_name` — user's last name\n",
    "- `age` — user's age (years)\n",
    "- `reg_date` — subscription date (dd, mm, yy)\n",
    "- `churn_date` — the date the user stopped using the service (if the value is missing, the calling plan was being used when this database was extracted)\n",
    "- `city` — user's city of residence\n",
    "- `plan` — calling plan name\n"
   ]
  },
  {
   "cell_type": "code",
   "execution_count": 4,
   "metadata": {},
   "outputs": [
    {
     "name": "stdout",
     "output_type": "stream",
     "text": [
      "------------------------------------------------------------\n",
      "\u001b[1m INFO: \u001b[0m \n",
      " \n",
      "<class 'pandas.core.frame.DataFrame'>\n",
      "RangeIndex: 500 entries, 0 to 499\n",
      "Data columns (total 8 columns):\n",
      " #   Column      Non-Null Count  Dtype \n",
      "---  ------      --------------  ----- \n",
      " 0   user_id     500 non-null    int64 \n",
      " 1   first_name  500 non-null    object\n",
      " 2   last_name   500 non-null    object\n",
      " 3   age         500 non-null    int64 \n",
      " 4   city        500 non-null    object\n",
      " 5   reg_date    500 non-null    object\n",
      " 6   plan        500 non-null    object\n",
      " 7   churn_date  34 non-null     object\n",
      "dtypes: int64(2), object(6)\n",
      "memory usage: 31.4+ KB\n"
     ]
    },
    {
     "data": {
      "text/plain": [
       "None"
      ]
     },
     "metadata": {},
     "output_type": "display_data"
    },
    {
     "name": "stdout",
     "output_type": "stream",
     "text": [
      "------------------------------------------------------------\n",
      "\u001b[1m HEAD: \u001b[0m \n"
     ]
    },
    {
     "data": {
      "text/html": [
       "<div>\n",
       "<style scoped>\n",
       "    .dataframe tbody tr th:only-of-type {\n",
       "        vertical-align: middle;\n",
       "    }\n",
       "\n",
       "    .dataframe tbody tr th {\n",
       "        vertical-align: top;\n",
       "    }\n",
       "\n",
       "    .dataframe thead th {\n",
       "        text-align: right;\n",
       "    }\n",
       "</style>\n",
       "<table border=\"1\" class=\"dataframe\">\n",
       "  <thead>\n",
       "    <tr style=\"text-align: right;\">\n",
       "      <th></th>\n",
       "      <th>user_id</th>\n",
       "      <th>first_name</th>\n",
       "      <th>last_name</th>\n",
       "      <th>age</th>\n",
       "      <th>city</th>\n",
       "      <th>reg_date</th>\n",
       "      <th>plan</th>\n",
       "      <th>churn_date</th>\n",
       "    </tr>\n",
       "  </thead>\n",
       "  <tbody>\n",
       "    <tr>\n",
       "      <th>0</th>\n",
       "      <td>1000</td>\n",
       "      <td>Anamaria</td>\n",
       "      <td>Bauer</td>\n",
       "      <td>45</td>\n",
       "      <td>Atlanta-Sandy Springs-Roswell, GA MSA</td>\n",
       "      <td>2018-12-24</td>\n",
       "      <td>ultimate</td>\n",
       "      <td>NaN</td>\n",
       "    </tr>\n",
       "    <tr>\n",
       "      <th>1</th>\n",
       "      <td>1001</td>\n",
       "      <td>Mickey</td>\n",
       "      <td>Wilkerson</td>\n",
       "      <td>28</td>\n",
       "      <td>Seattle-Tacoma-Bellevue, WA MSA</td>\n",
       "      <td>2018-08-13</td>\n",
       "      <td>surf</td>\n",
       "      <td>NaN</td>\n",
       "    </tr>\n",
       "    <tr>\n",
       "      <th>2</th>\n",
       "      <td>1002</td>\n",
       "      <td>Carlee</td>\n",
       "      <td>Hoffman</td>\n",
       "      <td>36</td>\n",
       "      <td>Las Vegas-Henderson-Paradise, NV MSA</td>\n",
       "      <td>2018-10-21</td>\n",
       "      <td>surf</td>\n",
       "      <td>NaN</td>\n",
       "    </tr>\n",
       "    <tr>\n",
       "      <th>3</th>\n",
       "      <td>1003</td>\n",
       "      <td>Reynaldo</td>\n",
       "      <td>Jenkins</td>\n",
       "      <td>52</td>\n",
       "      <td>Tulsa, OK MSA</td>\n",
       "      <td>2018-01-28</td>\n",
       "      <td>surf</td>\n",
       "      <td>NaN</td>\n",
       "    </tr>\n",
       "    <tr>\n",
       "      <th>4</th>\n",
       "      <td>1004</td>\n",
       "      <td>Leonila</td>\n",
       "      <td>Thompson</td>\n",
       "      <td>40</td>\n",
       "      <td>Seattle-Tacoma-Bellevue, WA MSA</td>\n",
       "      <td>2018-05-23</td>\n",
       "      <td>surf</td>\n",
       "      <td>NaN</td>\n",
       "    </tr>\n",
       "    <tr>\n",
       "      <th>5</th>\n",
       "      <td>1005</td>\n",
       "      <td>Livia</td>\n",
       "      <td>Shields</td>\n",
       "      <td>31</td>\n",
       "      <td>Dallas-Fort Worth-Arlington, TX MSA</td>\n",
       "      <td>2018-11-29</td>\n",
       "      <td>surf</td>\n",
       "      <td>NaN</td>\n",
       "    </tr>\n",
       "    <tr>\n",
       "      <th>6</th>\n",
       "      <td>1006</td>\n",
       "      <td>Jesusa</td>\n",
       "      <td>Bradford</td>\n",
       "      <td>73</td>\n",
       "      <td>San Francisco-Oakland-Berkeley, CA MSA</td>\n",
       "      <td>2018-11-27</td>\n",
       "      <td>ultimate</td>\n",
       "      <td>2018-12-18</td>\n",
       "    </tr>\n",
       "    <tr>\n",
       "      <th>7</th>\n",
       "      <td>1007</td>\n",
       "      <td>Eusebio</td>\n",
       "      <td>Welch</td>\n",
       "      <td>42</td>\n",
       "      <td>Grand Rapids-Kentwood, MI MSA</td>\n",
       "      <td>2018-07-11</td>\n",
       "      <td>surf</td>\n",
       "      <td>NaN</td>\n",
       "    </tr>\n",
       "    <tr>\n",
       "      <th>8</th>\n",
       "      <td>1008</td>\n",
       "      <td>Emely</td>\n",
       "      <td>Hoffman</td>\n",
       "      <td>53</td>\n",
       "      <td>Orlando-Kissimmee-Sanford, FL MSA</td>\n",
       "      <td>2018-08-03</td>\n",
       "      <td>ultimate</td>\n",
       "      <td>NaN</td>\n",
       "    </tr>\n",
       "    <tr>\n",
       "      <th>9</th>\n",
       "      <td>1009</td>\n",
       "      <td>Gerry</td>\n",
       "      <td>Little</td>\n",
       "      <td>19</td>\n",
       "      <td>San Jose-Sunnyvale-Santa Clara, CA MSA</td>\n",
       "      <td>2018-04-22</td>\n",
       "      <td>surf</td>\n",
       "      <td>NaN</td>\n",
       "    </tr>\n",
       "  </tbody>\n",
       "</table>\n",
       "</div>"
      ],
      "text/plain": [
       "   user_id first_name  last_name  age                                    city  \\\n",
       "0     1000   Anamaria      Bauer   45   Atlanta-Sandy Springs-Roswell, GA MSA   \n",
       "1     1001     Mickey  Wilkerson   28         Seattle-Tacoma-Bellevue, WA MSA   \n",
       "2     1002     Carlee    Hoffman   36    Las Vegas-Henderson-Paradise, NV MSA   \n",
       "3     1003   Reynaldo    Jenkins   52                           Tulsa, OK MSA   \n",
       "4     1004    Leonila   Thompson   40         Seattle-Tacoma-Bellevue, WA MSA   \n",
       "5     1005      Livia    Shields   31     Dallas-Fort Worth-Arlington, TX MSA   \n",
       "6     1006     Jesusa   Bradford   73  San Francisco-Oakland-Berkeley, CA MSA   \n",
       "7     1007    Eusebio      Welch   42           Grand Rapids-Kentwood, MI MSA   \n",
       "8     1008      Emely    Hoffman   53       Orlando-Kissimmee-Sanford, FL MSA   \n",
       "9     1009      Gerry     Little   19  San Jose-Sunnyvale-Santa Clara, CA MSA   \n",
       "\n",
       "     reg_date      plan  churn_date  \n",
       "0  2018-12-24  ultimate         NaN  \n",
       "1  2018-08-13      surf         NaN  \n",
       "2  2018-10-21      surf         NaN  \n",
       "3  2018-01-28      surf         NaN  \n",
       "4  2018-05-23      surf         NaN  \n",
       "5  2018-11-29      surf         NaN  \n",
       "6  2018-11-27  ultimate  2018-12-18  \n",
       "7  2018-07-11      surf         NaN  \n",
       "8  2018-08-03  ultimate         NaN  \n",
       "9  2018-04-22      surf         NaN  "
      ]
     },
     "metadata": {},
     "output_type": "display_data"
    },
    {
     "name": "stdout",
     "output_type": "stream",
     "text": [
      "------------------------------------------------------------\n",
      "\u001b[1m DESCRIBE: \u001b[0m \n",
      " \n"
     ]
    },
    {
     "data": {
      "text/html": [
       "<div>\n",
       "<style scoped>\n",
       "    .dataframe tbody tr th:only-of-type {\n",
       "        vertical-align: middle;\n",
       "    }\n",
       "\n",
       "    .dataframe tbody tr th {\n",
       "        vertical-align: top;\n",
       "    }\n",
       "\n",
       "    .dataframe thead th {\n",
       "        text-align: right;\n",
       "    }\n",
       "</style>\n",
       "<table border=\"1\" class=\"dataframe\">\n",
       "  <thead>\n",
       "    <tr style=\"text-align: right;\">\n",
       "      <th></th>\n",
       "      <th>user_id</th>\n",
       "      <th>age</th>\n",
       "    </tr>\n",
       "  </thead>\n",
       "  <tbody>\n",
       "    <tr>\n",
       "      <th>count</th>\n",
       "      <td>500.000000</td>\n",
       "      <td>500.000000</td>\n",
       "    </tr>\n",
       "    <tr>\n",
       "      <th>mean</th>\n",
       "      <td>1249.500000</td>\n",
       "      <td>45.486000</td>\n",
       "    </tr>\n",
       "    <tr>\n",
       "      <th>std</th>\n",
       "      <td>144.481833</td>\n",
       "      <td>16.972269</td>\n",
       "    </tr>\n",
       "    <tr>\n",
       "      <th>min</th>\n",
       "      <td>1000.000000</td>\n",
       "      <td>18.000000</td>\n",
       "    </tr>\n",
       "    <tr>\n",
       "      <th>25%</th>\n",
       "      <td>1124.750000</td>\n",
       "      <td>30.000000</td>\n",
       "    </tr>\n",
       "    <tr>\n",
       "      <th>50%</th>\n",
       "      <td>1249.500000</td>\n",
       "      <td>46.000000</td>\n",
       "    </tr>\n",
       "    <tr>\n",
       "      <th>75%</th>\n",
       "      <td>1374.250000</td>\n",
       "      <td>61.000000</td>\n",
       "    </tr>\n",
       "    <tr>\n",
       "      <th>max</th>\n",
       "      <td>1499.000000</td>\n",
       "      <td>75.000000</td>\n",
       "    </tr>\n",
       "  </tbody>\n",
       "</table>\n",
       "</div>"
      ],
      "text/plain": [
       "           user_id         age\n",
       "count   500.000000  500.000000\n",
       "mean   1249.500000   45.486000\n",
       "std     144.481833   16.972269\n",
       "min    1000.000000   18.000000\n",
       "25%    1124.750000   30.000000\n",
       "50%    1249.500000   46.000000\n",
       "75%    1374.250000   61.000000\n",
       "max    1499.000000   75.000000"
      ]
     },
     "metadata": {},
     "output_type": "display_data"
    },
    {
     "name": "stdout",
     "output_type": "stream",
     "text": [
      "------------------------------------------------------------\n",
      "\u001b[1m DUPLICATED: \u001b[0m\n",
      "We have 0 duplicated rows!\n"
     ]
    }
   ],
   "source": [
    "data_info(users)"
   ]
  },
  {
   "cell_type": "code",
   "execution_count": 5,
   "metadata": {},
   "outputs": [
    {
     "data": {
      "text/plain": [
       "466"
      ]
     },
     "execution_count": 5,
     "metadata": {},
     "output_type": "execute_result"
    }
   ],
   "source": [
    "users['churn_date'].isna().sum()"
   ]
  },
  {
   "cell_type": "markdown",
   "metadata": {},
   "source": [
    "According to our data, we see that 466 people on our list continue to use the services of telecom operator Megaline. And only 34 people stopped using the services of the operator."
   ]
  },
  {
   "cell_type": "code",
   "execution_count": 6,
   "metadata": {},
   "outputs": [
    {
     "data": {
      "text/plain": [
       "array([nan, '2018-12-18', '2018-11-16', '2018-09-07', '2018-12-30',\n",
       "       '2018-10-07', '2018-12-31', '2018-11-24', '2018-11-11',\n",
       "       '2018-12-12', '2018-11-14', '2018-12-27', '2018-11-29',\n",
       "       '2018-12-22', '2018-11-30', '2018-10-13', '2018-07-31',\n",
       "       '2018-12-15', '2018-12-19', '2018-10-03', '2018-10-22',\n",
       "       '2018-08-16', '2018-12-26', '2018-09-01', '2018-11-21',\n",
       "       '2018-08-19', '2018-12-10', '2018-09-17', '2018-11-18',\n",
       "       '2018-09-18'], dtype=object)"
      ]
     },
     "execution_count": 6,
     "metadata": {},
     "output_type": "execute_result"
    }
   ],
   "source": [
    "users['churn_date'].unique()"
   ]
  },
  {
   "cell_type": "markdown",
   "metadata": {},
   "source": [
    "**We have some problems with data `users`:**\n",
    " - two columns `churn_date` and `reg_date` has an object type. We need to change to date/time type.\n",
    " - have a missing values in column `churn_date` but it says to us that the calling plan was being used when this database was extracted.\n"
   ]
  },
  {
   "cell_type": "markdown",
   "metadata": {},
   "source": [
    "### Studying the General Info: **`megaline calls`**"
   ]
  },
  {
   "cell_type": "markdown",
   "metadata": {},
   "source": [
    "The **`calls`** table (data on calls):\n",
    "- `id` — unique call identifier\n",
    "- `call_date` — call date\n",
    "- `duration` — call duration (in minutes)\n",
    "- `user_id` — the identifier of the user making the call"
   ]
  },
  {
   "cell_type": "code",
   "execution_count": 7,
   "metadata": {},
   "outputs": [
    {
     "name": "stdout",
     "output_type": "stream",
     "text": [
      "------------------------------------------------------------\n",
      "\u001b[1m INFO: \u001b[0m \n",
      " \n",
      "<class 'pandas.core.frame.DataFrame'>\n",
      "RangeIndex: 137735 entries, 0 to 137734\n",
      "Data columns (total 4 columns):\n",
      " #   Column     Non-Null Count   Dtype  \n",
      "---  ------     --------------   -----  \n",
      " 0   id         137735 non-null  object \n",
      " 1   user_id    137735 non-null  int64  \n",
      " 2   call_date  137735 non-null  object \n",
      " 3   duration   137735 non-null  float64\n",
      "dtypes: float64(1), int64(1), object(2)\n",
      "memory usage: 4.2+ MB\n"
     ]
    },
    {
     "data": {
      "text/plain": [
       "None"
      ]
     },
     "metadata": {},
     "output_type": "display_data"
    },
    {
     "name": "stdout",
     "output_type": "stream",
     "text": [
      "------------------------------------------------------------\n",
      "\u001b[1m HEAD: \u001b[0m \n"
     ]
    },
    {
     "data": {
      "text/html": [
       "<div>\n",
       "<style scoped>\n",
       "    .dataframe tbody tr th:only-of-type {\n",
       "        vertical-align: middle;\n",
       "    }\n",
       "\n",
       "    .dataframe tbody tr th {\n",
       "        vertical-align: top;\n",
       "    }\n",
       "\n",
       "    .dataframe thead th {\n",
       "        text-align: right;\n",
       "    }\n",
       "</style>\n",
       "<table border=\"1\" class=\"dataframe\">\n",
       "  <thead>\n",
       "    <tr style=\"text-align: right;\">\n",
       "      <th></th>\n",
       "      <th>id</th>\n",
       "      <th>user_id</th>\n",
       "      <th>call_date</th>\n",
       "      <th>duration</th>\n",
       "    </tr>\n",
       "  </thead>\n",
       "  <tbody>\n",
       "    <tr>\n",
       "      <th>0</th>\n",
       "      <td>1000_93</td>\n",
       "      <td>1000</td>\n",
       "      <td>2018-12-27</td>\n",
       "      <td>8.52</td>\n",
       "    </tr>\n",
       "    <tr>\n",
       "      <th>1</th>\n",
       "      <td>1000_145</td>\n",
       "      <td>1000</td>\n",
       "      <td>2018-12-27</td>\n",
       "      <td>13.66</td>\n",
       "    </tr>\n",
       "    <tr>\n",
       "      <th>2</th>\n",
       "      <td>1000_247</td>\n",
       "      <td>1000</td>\n",
       "      <td>2018-12-27</td>\n",
       "      <td>14.48</td>\n",
       "    </tr>\n",
       "    <tr>\n",
       "      <th>3</th>\n",
       "      <td>1000_309</td>\n",
       "      <td>1000</td>\n",
       "      <td>2018-12-28</td>\n",
       "      <td>5.76</td>\n",
       "    </tr>\n",
       "    <tr>\n",
       "      <th>4</th>\n",
       "      <td>1000_380</td>\n",
       "      <td>1000</td>\n",
       "      <td>2018-12-30</td>\n",
       "      <td>4.22</td>\n",
       "    </tr>\n",
       "    <tr>\n",
       "      <th>5</th>\n",
       "      <td>1000_388</td>\n",
       "      <td>1000</td>\n",
       "      <td>2018-12-31</td>\n",
       "      <td>2.20</td>\n",
       "    </tr>\n",
       "    <tr>\n",
       "      <th>6</th>\n",
       "      <td>1000_510</td>\n",
       "      <td>1000</td>\n",
       "      <td>2018-12-27</td>\n",
       "      <td>5.75</td>\n",
       "    </tr>\n",
       "    <tr>\n",
       "      <th>7</th>\n",
       "      <td>1000_521</td>\n",
       "      <td>1000</td>\n",
       "      <td>2018-12-28</td>\n",
       "      <td>14.18</td>\n",
       "    </tr>\n",
       "    <tr>\n",
       "      <th>8</th>\n",
       "      <td>1000_530</td>\n",
       "      <td>1000</td>\n",
       "      <td>2018-12-28</td>\n",
       "      <td>5.77</td>\n",
       "    </tr>\n",
       "    <tr>\n",
       "      <th>9</th>\n",
       "      <td>1000_544</td>\n",
       "      <td>1000</td>\n",
       "      <td>2018-12-26</td>\n",
       "      <td>4.40</td>\n",
       "    </tr>\n",
       "  </tbody>\n",
       "</table>\n",
       "</div>"
      ],
      "text/plain": [
       "         id  user_id   call_date  duration\n",
       "0   1000_93     1000  2018-12-27      8.52\n",
       "1  1000_145     1000  2018-12-27     13.66\n",
       "2  1000_247     1000  2018-12-27     14.48\n",
       "3  1000_309     1000  2018-12-28      5.76\n",
       "4  1000_380     1000  2018-12-30      4.22\n",
       "5  1000_388     1000  2018-12-31      2.20\n",
       "6  1000_510     1000  2018-12-27      5.75\n",
       "7  1000_521     1000  2018-12-28     14.18\n",
       "8  1000_530     1000  2018-12-28      5.77\n",
       "9  1000_544     1000  2018-12-26      4.40"
      ]
     },
     "metadata": {},
     "output_type": "display_data"
    },
    {
     "name": "stdout",
     "output_type": "stream",
     "text": [
      "------------------------------------------------------------\n",
      "\u001b[1m DESCRIBE: \u001b[0m \n",
      " \n"
     ]
    },
    {
     "data": {
      "text/html": [
       "<div>\n",
       "<style scoped>\n",
       "    .dataframe tbody tr th:only-of-type {\n",
       "        vertical-align: middle;\n",
       "    }\n",
       "\n",
       "    .dataframe tbody tr th {\n",
       "        vertical-align: top;\n",
       "    }\n",
       "\n",
       "    .dataframe thead th {\n",
       "        text-align: right;\n",
       "    }\n",
       "</style>\n",
       "<table border=\"1\" class=\"dataframe\">\n",
       "  <thead>\n",
       "    <tr style=\"text-align: right;\">\n",
       "      <th></th>\n",
       "      <th>user_id</th>\n",
       "      <th>duration</th>\n",
       "    </tr>\n",
       "  </thead>\n",
       "  <tbody>\n",
       "    <tr>\n",
       "      <th>count</th>\n",
       "      <td>137735.000000</td>\n",
       "      <td>137735.000000</td>\n",
       "    </tr>\n",
       "    <tr>\n",
       "      <th>mean</th>\n",
       "      <td>1247.658046</td>\n",
       "      <td>6.745927</td>\n",
       "    </tr>\n",
       "    <tr>\n",
       "      <th>std</th>\n",
       "      <td>139.416268</td>\n",
       "      <td>5.839241</td>\n",
       "    </tr>\n",
       "    <tr>\n",
       "      <th>min</th>\n",
       "      <td>1000.000000</td>\n",
       "      <td>0.000000</td>\n",
       "    </tr>\n",
       "    <tr>\n",
       "      <th>25%</th>\n",
       "      <td>1128.000000</td>\n",
       "      <td>1.290000</td>\n",
       "    </tr>\n",
       "    <tr>\n",
       "      <th>50%</th>\n",
       "      <td>1247.000000</td>\n",
       "      <td>5.980000</td>\n",
       "    </tr>\n",
       "    <tr>\n",
       "      <th>75%</th>\n",
       "      <td>1365.000000</td>\n",
       "      <td>10.690000</td>\n",
       "    </tr>\n",
       "    <tr>\n",
       "      <th>max</th>\n",
       "      <td>1499.000000</td>\n",
       "      <td>37.600000</td>\n",
       "    </tr>\n",
       "  </tbody>\n",
       "</table>\n",
       "</div>"
      ],
      "text/plain": [
       "             user_id       duration\n",
       "count  137735.000000  137735.000000\n",
       "mean     1247.658046       6.745927\n",
       "std       139.416268       5.839241\n",
       "min      1000.000000       0.000000\n",
       "25%      1128.000000       1.290000\n",
       "50%      1247.000000       5.980000\n",
       "75%      1365.000000      10.690000\n",
       "max      1499.000000      37.600000"
      ]
     },
     "metadata": {},
     "output_type": "display_data"
    },
    {
     "name": "stdout",
     "output_type": "stream",
     "text": [
      "------------------------------------------------------------\n",
      "\u001b[1m DUPLICATED: \u001b[0m\n",
      "We have 0 duplicated rows!\n"
     ]
    }
   ],
   "source": [
    "data_info(calls)"
   ]
  },
  {
   "cell_type": "markdown",
   "metadata": {},
   "source": [
    "**We have some problems with data `calls`:**\n",
    " - column `call_date` has an object type. We need to change to date/time type;\n",
    " - column `id` has an object type but can be int. "
   ]
  },
  {
   "cell_type": "code",
   "execution_count": 8,
   "metadata": {},
   "outputs": [
    {
     "data": {
      "text/plain": [
       "count    137735.000000\n",
       "mean          6.745927\n",
       "std           5.839241\n",
       "min           0.000000\n",
       "25%           1.290000\n",
       "50%           5.980000\n",
       "75%          10.690000\n",
       "max          37.600000\n",
       "Name: duration, dtype: float64"
      ]
     },
     "execution_count": 8,
     "metadata": {},
     "output_type": "execute_result"
    }
   ],
   "source": [
    "calls['duration'].describe()"
   ]
  },
  {
   "cell_type": "markdown",
   "metadata": {},
   "source": [
    "### Studying the General Info: **`megaline messages`**"
   ]
  },
  {
   "cell_type": "markdown",
   "metadata": {},
   "source": [
    "The **`messages`** table (data on texts):\n",
    "- `id` — unique text message identifier\n",
    "- `message_date` — text message date\n",
    "- `user_id` — the identifier of the user sending the text\n"
   ]
  },
  {
   "cell_type": "code",
   "execution_count": 9,
   "metadata": {},
   "outputs": [
    {
     "name": "stdout",
     "output_type": "stream",
     "text": [
      "------------------------------------------------------------\n",
      "\u001b[1m INFO: \u001b[0m \n",
      " \n",
      "<class 'pandas.core.frame.DataFrame'>\n",
      "RangeIndex: 76051 entries, 0 to 76050\n",
      "Data columns (total 3 columns):\n",
      " #   Column        Non-Null Count  Dtype \n",
      "---  ------        --------------  ----- \n",
      " 0   id            76051 non-null  object\n",
      " 1   user_id       76051 non-null  int64 \n",
      " 2   message_date  76051 non-null  object\n",
      "dtypes: int64(1), object(2)\n",
      "memory usage: 1.7+ MB\n"
     ]
    },
    {
     "data": {
      "text/plain": [
       "None"
      ]
     },
     "metadata": {},
     "output_type": "display_data"
    },
    {
     "name": "stdout",
     "output_type": "stream",
     "text": [
      "------------------------------------------------------------\n",
      "\u001b[1m HEAD: \u001b[0m \n"
     ]
    },
    {
     "data": {
      "text/html": [
       "<div>\n",
       "<style scoped>\n",
       "    .dataframe tbody tr th:only-of-type {\n",
       "        vertical-align: middle;\n",
       "    }\n",
       "\n",
       "    .dataframe tbody tr th {\n",
       "        vertical-align: top;\n",
       "    }\n",
       "\n",
       "    .dataframe thead th {\n",
       "        text-align: right;\n",
       "    }\n",
       "</style>\n",
       "<table border=\"1\" class=\"dataframe\">\n",
       "  <thead>\n",
       "    <tr style=\"text-align: right;\">\n",
       "      <th></th>\n",
       "      <th>id</th>\n",
       "      <th>user_id</th>\n",
       "      <th>message_date</th>\n",
       "    </tr>\n",
       "  </thead>\n",
       "  <tbody>\n",
       "    <tr>\n",
       "      <th>0</th>\n",
       "      <td>1000_125</td>\n",
       "      <td>1000</td>\n",
       "      <td>2018-12-27</td>\n",
       "    </tr>\n",
       "    <tr>\n",
       "      <th>1</th>\n",
       "      <td>1000_160</td>\n",
       "      <td>1000</td>\n",
       "      <td>2018-12-31</td>\n",
       "    </tr>\n",
       "    <tr>\n",
       "      <th>2</th>\n",
       "      <td>1000_223</td>\n",
       "      <td>1000</td>\n",
       "      <td>2018-12-31</td>\n",
       "    </tr>\n",
       "    <tr>\n",
       "      <th>3</th>\n",
       "      <td>1000_251</td>\n",
       "      <td>1000</td>\n",
       "      <td>2018-12-27</td>\n",
       "    </tr>\n",
       "    <tr>\n",
       "      <th>4</th>\n",
       "      <td>1000_255</td>\n",
       "      <td>1000</td>\n",
       "      <td>2018-12-26</td>\n",
       "    </tr>\n",
       "    <tr>\n",
       "      <th>5</th>\n",
       "      <td>1000_346</td>\n",
       "      <td>1000</td>\n",
       "      <td>2018-12-29</td>\n",
       "    </tr>\n",
       "    <tr>\n",
       "      <th>6</th>\n",
       "      <td>1000_386</td>\n",
       "      <td>1000</td>\n",
       "      <td>2018-12-30</td>\n",
       "    </tr>\n",
       "    <tr>\n",
       "      <th>7</th>\n",
       "      <td>1000_413</td>\n",
       "      <td>1000</td>\n",
       "      <td>2018-12-31</td>\n",
       "    </tr>\n",
       "    <tr>\n",
       "      <th>8</th>\n",
       "      <td>1000_502</td>\n",
       "      <td>1000</td>\n",
       "      <td>2018-12-27</td>\n",
       "    </tr>\n",
       "    <tr>\n",
       "      <th>9</th>\n",
       "      <td>1000_525</td>\n",
       "      <td>1000</td>\n",
       "      <td>2018-12-28</td>\n",
       "    </tr>\n",
       "  </tbody>\n",
       "</table>\n",
       "</div>"
      ],
      "text/plain": [
       "         id  user_id message_date\n",
       "0  1000_125     1000   2018-12-27\n",
       "1  1000_160     1000   2018-12-31\n",
       "2  1000_223     1000   2018-12-31\n",
       "3  1000_251     1000   2018-12-27\n",
       "4  1000_255     1000   2018-12-26\n",
       "5  1000_346     1000   2018-12-29\n",
       "6  1000_386     1000   2018-12-30\n",
       "7  1000_413     1000   2018-12-31\n",
       "8  1000_502     1000   2018-12-27\n",
       "9  1000_525     1000   2018-12-28"
      ]
     },
     "metadata": {},
     "output_type": "display_data"
    },
    {
     "name": "stdout",
     "output_type": "stream",
     "text": [
      "------------------------------------------------------------\n",
      "\u001b[1m DESCRIBE: \u001b[0m \n",
      " \n"
     ]
    },
    {
     "data": {
      "text/html": [
       "<div>\n",
       "<style scoped>\n",
       "    .dataframe tbody tr th:only-of-type {\n",
       "        vertical-align: middle;\n",
       "    }\n",
       "\n",
       "    .dataframe tbody tr th {\n",
       "        vertical-align: top;\n",
       "    }\n",
       "\n",
       "    .dataframe thead th {\n",
       "        text-align: right;\n",
       "    }\n",
       "</style>\n",
       "<table border=\"1\" class=\"dataframe\">\n",
       "  <thead>\n",
       "    <tr style=\"text-align: right;\">\n",
       "      <th></th>\n",
       "      <th>user_id</th>\n",
       "    </tr>\n",
       "  </thead>\n",
       "  <tbody>\n",
       "    <tr>\n",
       "      <th>count</th>\n",
       "      <td>76051.000000</td>\n",
       "    </tr>\n",
       "    <tr>\n",
       "      <th>mean</th>\n",
       "      <td>1245.972768</td>\n",
       "    </tr>\n",
       "    <tr>\n",
       "      <th>std</th>\n",
       "      <td>139.843635</td>\n",
       "    </tr>\n",
       "    <tr>\n",
       "      <th>min</th>\n",
       "      <td>1000.000000</td>\n",
       "    </tr>\n",
       "    <tr>\n",
       "      <th>25%</th>\n",
       "      <td>1123.000000</td>\n",
       "    </tr>\n",
       "    <tr>\n",
       "      <th>50%</th>\n",
       "      <td>1251.000000</td>\n",
       "    </tr>\n",
       "    <tr>\n",
       "      <th>75%</th>\n",
       "      <td>1362.000000</td>\n",
       "    </tr>\n",
       "    <tr>\n",
       "      <th>max</th>\n",
       "      <td>1497.000000</td>\n",
       "    </tr>\n",
       "  </tbody>\n",
       "</table>\n",
       "</div>"
      ],
      "text/plain": [
       "            user_id\n",
       "count  76051.000000\n",
       "mean    1245.972768\n",
       "std      139.843635\n",
       "min     1000.000000\n",
       "25%     1123.000000\n",
       "50%     1251.000000\n",
       "75%     1362.000000\n",
       "max     1497.000000"
      ]
     },
     "metadata": {},
     "output_type": "display_data"
    },
    {
     "name": "stdout",
     "output_type": "stream",
     "text": [
      "------------------------------------------------------------\n",
      "\u001b[1m DUPLICATED: \u001b[0m\n",
      "We have 0 duplicated rows!\n"
     ]
    }
   ],
   "source": [
    "data_info(messages)"
   ]
  },
  {
   "cell_type": "markdown",
   "metadata": {},
   "source": [
    "**We have some problems with data `messages`:**\n",
    " - column `message_date` has an object type. We need to change to date/time type;\n",
    " - column `id` has an object type but can be int;\n",
    " - column `user_id` - since the maximum value is 1497, we can say that two users have no information about messages - 1498 and 1499."
   ]
  },
  {
   "cell_type": "markdown",
   "metadata": {},
   "source": [
    "### Studying the General Info: **`megaline internet`**"
   ]
  },
  {
   "cell_type": "markdown",
   "metadata": {},
   "source": [
    "The **`internet table`** (data on web sessions):\n",
    "- `id` — unique session identifier\n",
    "- `mb_used` — the volume of data spent during the session (in megabytes)\n",
    "- `session_date` — web session date\n",
    "- `user_id` — user identifier"
   ]
  },
  {
   "cell_type": "code",
   "execution_count": 10,
   "metadata": {},
   "outputs": [
    {
     "name": "stdout",
     "output_type": "stream",
     "text": [
      "------------------------------------------------------------\n",
      "\u001b[1m INFO: \u001b[0m \n",
      " \n",
      "<class 'pandas.core.frame.DataFrame'>\n",
      "RangeIndex: 104825 entries, 0 to 104824\n",
      "Data columns (total 4 columns):\n",
      " #   Column        Non-Null Count   Dtype  \n",
      "---  ------        --------------   -----  \n",
      " 0   id            104825 non-null  object \n",
      " 1   user_id       104825 non-null  int64  \n",
      " 2   session_date  104825 non-null  object \n",
      " 3   mb_used       104825 non-null  float64\n",
      "dtypes: float64(1), int64(1), object(2)\n",
      "memory usage: 3.2+ MB\n"
     ]
    },
    {
     "data": {
      "text/plain": [
       "None"
      ]
     },
     "metadata": {},
     "output_type": "display_data"
    },
    {
     "name": "stdout",
     "output_type": "stream",
     "text": [
      "------------------------------------------------------------\n",
      "\u001b[1m HEAD: \u001b[0m \n"
     ]
    },
    {
     "data": {
      "text/html": [
       "<div>\n",
       "<style scoped>\n",
       "    .dataframe tbody tr th:only-of-type {\n",
       "        vertical-align: middle;\n",
       "    }\n",
       "\n",
       "    .dataframe tbody tr th {\n",
       "        vertical-align: top;\n",
       "    }\n",
       "\n",
       "    .dataframe thead th {\n",
       "        text-align: right;\n",
       "    }\n",
       "</style>\n",
       "<table border=\"1\" class=\"dataframe\">\n",
       "  <thead>\n",
       "    <tr style=\"text-align: right;\">\n",
       "      <th></th>\n",
       "      <th>id</th>\n",
       "      <th>user_id</th>\n",
       "      <th>session_date</th>\n",
       "      <th>mb_used</th>\n",
       "    </tr>\n",
       "  </thead>\n",
       "  <tbody>\n",
       "    <tr>\n",
       "      <th>0</th>\n",
       "      <td>1000_13</td>\n",
       "      <td>1000</td>\n",
       "      <td>2018-12-29</td>\n",
       "      <td>89.86</td>\n",
       "    </tr>\n",
       "    <tr>\n",
       "      <th>1</th>\n",
       "      <td>1000_204</td>\n",
       "      <td>1000</td>\n",
       "      <td>2018-12-31</td>\n",
       "      <td>0.00</td>\n",
       "    </tr>\n",
       "    <tr>\n",
       "      <th>2</th>\n",
       "      <td>1000_379</td>\n",
       "      <td>1000</td>\n",
       "      <td>2018-12-28</td>\n",
       "      <td>660.40</td>\n",
       "    </tr>\n",
       "    <tr>\n",
       "      <th>3</th>\n",
       "      <td>1000_413</td>\n",
       "      <td>1000</td>\n",
       "      <td>2018-12-26</td>\n",
       "      <td>270.99</td>\n",
       "    </tr>\n",
       "    <tr>\n",
       "      <th>4</th>\n",
       "      <td>1000_442</td>\n",
       "      <td>1000</td>\n",
       "      <td>2018-12-27</td>\n",
       "      <td>880.22</td>\n",
       "    </tr>\n",
       "    <tr>\n",
       "      <th>5</th>\n",
       "      <td>1001_0</td>\n",
       "      <td>1001</td>\n",
       "      <td>2018-08-24</td>\n",
       "      <td>284.68</td>\n",
       "    </tr>\n",
       "    <tr>\n",
       "      <th>6</th>\n",
       "      <td>1001_3</td>\n",
       "      <td>1001</td>\n",
       "      <td>2018-12-09</td>\n",
       "      <td>656.04</td>\n",
       "    </tr>\n",
       "    <tr>\n",
       "      <th>7</th>\n",
       "      <td>1001_4</td>\n",
       "      <td>1001</td>\n",
       "      <td>2018-11-04</td>\n",
       "      <td>16.97</td>\n",
       "    </tr>\n",
       "    <tr>\n",
       "      <th>8</th>\n",
       "      <td>1001_10</td>\n",
       "      <td>1001</td>\n",
       "      <td>2018-11-27</td>\n",
       "      <td>135.18</td>\n",
       "    </tr>\n",
       "    <tr>\n",
       "      <th>9</th>\n",
       "      <td>1001_15</td>\n",
       "      <td>1001</td>\n",
       "      <td>2018-12-13</td>\n",
       "      <td>761.92</td>\n",
       "    </tr>\n",
       "  </tbody>\n",
       "</table>\n",
       "</div>"
      ],
      "text/plain": [
       "         id  user_id session_date  mb_used\n",
       "0   1000_13     1000   2018-12-29    89.86\n",
       "1  1000_204     1000   2018-12-31     0.00\n",
       "2  1000_379     1000   2018-12-28   660.40\n",
       "3  1000_413     1000   2018-12-26   270.99\n",
       "4  1000_442     1000   2018-12-27   880.22\n",
       "5    1001_0     1001   2018-08-24   284.68\n",
       "6    1001_3     1001   2018-12-09   656.04\n",
       "7    1001_4     1001   2018-11-04    16.97\n",
       "8   1001_10     1001   2018-11-27   135.18\n",
       "9   1001_15     1001   2018-12-13   761.92"
      ]
     },
     "metadata": {},
     "output_type": "display_data"
    },
    {
     "name": "stdout",
     "output_type": "stream",
     "text": [
      "------------------------------------------------------------\n",
      "\u001b[1m DESCRIBE: \u001b[0m \n",
      " \n"
     ]
    },
    {
     "data": {
      "text/html": [
       "<div>\n",
       "<style scoped>\n",
       "    .dataframe tbody tr th:only-of-type {\n",
       "        vertical-align: middle;\n",
       "    }\n",
       "\n",
       "    .dataframe tbody tr th {\n",
       "        vertical-align: top;\n",
       "    }\n",
       "\n",
       "    .dataframe thead th {\n",
       "        text-align: right;\n",
       "    }\n",
       "</style>\n",
       "<table border=\"1\" class=\"dataframe\">\n",
       "  <thead>\n",
       "    <tr style=\"text-align: right;\">\n",
       "      <th></th>\n",
       "      <th>user_id</th>\n",
       "      <th>mb_used</th>\n",
       "    </tr>\n",
       "  </thead>\n",
       "  <tbody>\n",
       "    <tr>\n",
       "      <th>count</th>\n",
       "      <td>104825.000000</td>\n",
       "      <td>104825.000000</td>\n",
       "    </tr>\n",
       "    <tr>\n",
       "      <th>mean</th>\n",
       "      <td>1242.496361</td>\n",
       "      <td>366.713701</td>\n",
       "    </tr>\n",
       "    <tr>\n",
       "      <th>std</th>\n",
       "      <td>142.053913</td>\n",
       "      <td>277.170542</td>\n",
       "    </tr>\n",
       "    <tr>\n",
       "      <th>min</th>\n",
       "      <td>1000.000000</td>\n",
       "      <td>0.000000</td>\n",
       "    </tr>\n",
       "    <tr>\n",
       "      <th>25%</th>\n",
       "      <td>1122.000000</td>\n",
       "      <td>136.080000</td>\n",
       "    </tr>\n",
       "    <tr>\n",
       "      <th>50%</th>\n",
       "      <td>1236.000000</td>\n",
       "      <td>343.980000</td>\n",
       "    </tr>\n",
       "    <tr>\n",
       "      <th>75%</th>\n",
       "      <td>1367.000000</td>\n",
       "      <td>554.610000</td>\n",
       "    </tr>\n",
       "    <tr>\n",
       "      <th>max</th>\n",
       "      <td>1499.000000</td>\n",
       "      <td>1693.470000</td>\n",
       "    </tr>\n",
       "  </tbody>\n",
       "</table>\n",
       "</div>"
      ],
      "text/plain": [
       "             user_id        mb_used\n",
       "count  104825.000000  104825.000000\n",
       "mean     1242.496361     366.713701\n",
       "std       142.053913     277.170542\n",
       "min      1000.000000       0.000000\n",
       "25%      1122.000000     136.080000\n",
       "50%      1236.000000     343.980000\n",
       "75%      1367.000000     554.610000\n",
       "max      1499.000000    1693.470000"
      ]
     },
     "metadata": {},
     "output_type": "display_data"
    },
    {
     "name": "stdout",
     "output_type": "stream",
     "text": [
      "------------------------------------------------------------\n",
      "\u001b[1m DUPLICATED: \u001b[0m\n",
      "We have 0 duplicated rows!\n"
     ]
    }
   ],
   "source": [
    "data_info(internet)"
   ]
  },
  {
   "cell_type": "markdown",
   "metadata": {},
   "source": [
    "**We have some problems with data `messages`:**\n",
    " - column `session_date` has an object type. We need to change to date/time type;\n",
    " - column `id` has an object type but can be int;\n",
    " - users with 0 mb used is ok, could be on a trip or something and used WiFi instead of regular connection. "
   ]
  },
  {
   "cell_type": "markdown",
   "metadata": {},
   "source": [
    "### Studying the General Info: **`megaline plans`**"
   ]
  },
  {
   "cell_type": "markdown",
   "metadata": {},
   "source": [
    "The **`plans`** table (data on the plans):\n",
    "- `plan_name` — calling plan name\n",
    "- `usd_monthly_fee` — monthly charge in US dollars\n",
    "- `minutes_included` — monthly minute allowance\n",
    "- `messages_included` — monthly text allowance\n",
    "- `mb_per_month_included` — data volume allowance (in megabytes)\n",
    "- `usd_per_minute` — price per minute after exceeding the package limits (e.g., if the package includes 100 minutes, the 101st minute will be charged)\n",
    "- `usd_per_message` — price per text after exceeding the package limits\n",
    "- `usd_per_gb` — price per extra gigabyte of data after exceeding the package limits (1 GB = 1024 megabytes)\n",
    "\n"
   ]
  },
  {
   "cell_type": "code",
   "execution_count": 11,
   "metadata": {},
   "outputs": [
    {
     "name": "stdout",
     "output_type": "stream",
     "text": [
      "<class 'pandas.core.frame.DataFrame'>\n",
      "RangeIndex: 2 entries, 0 to 1\n",
      "Data columns (total 8 columns):\n",
      " #   Column                 Non-Null Count  Dtype  \n",
      "---  ------                 --------------  -----  \n",
      " 0   messages_included      2 non-null      int64  \n",
      " 1   mb_per_month_included  2 non-null      int64  \n",
      " 2   minutes_included       2 non-null      int64  \n",
      " 3   usd_monthly_pay        2 non-null      int64  \n",
      " 4   usd_per_gb             2 non-null      int64  \n",
      " 5   usd_per_message        2 non-null      float64\n",
      " 6   usd_per_minute         2 non-null      float64\n",
      " 7   plan_name              2 non-null      object \n",
      "dtypes: float64(2), int64(5), object(1)\n",
      "memory usage: 256.0+ bytes\n"
     ]
    }
   ],
   "source": [
    "plans.info()"
   ]
  },
  {
   "cell_type": "code",
   "execution_count": 12,
   "metadata": {},
   "outputs": [
    {
     "data": {
      "text/html": [
       "<div>\n",
       "<style scoped>\n",
       "    .dataframe tbody tr th:only-of-type {\n",
       "        vertical-align: middle;\n",
       "    }\n",
       "\n",
       "    .dataframe tbody tr th {\n",
       "        vertical-align: top;\n",
       "    }\n",
       "\n",
       "    .dataframe thead th {\n",
       "        text-align: right;\n",
       "    }\n",
       "</style>\n",
       "<table border=\"1\" class=\"dataframe\">\n",
       "  <thead>\n",
       "    <tr style=\"text-align: right;\">\n",
       "      <th></th>\n",
       "      <th>messages_included</th>\n",
       "      <th>mb_per_month_included</th>\n",
       "      <th>minutes_included</th>\n",
       "      <th>usd_monthly_pay</th>\n",
       "      <th>usd_per_gb</th>\n",
       "      <th>usd_per_message</th>\n",
       "      <th>usd_per_minute</th>\n",
       "      <th>plan_name</th>\n",
       "    </tr>\n",
       "  </thead>\n",
       "  <tbody>\n",
       "    <tr>\n",
       "      <th>0</th>\n",
       "      <td>50</td>\n",
       "      <td>15360</td>\n",
       "      <td>500</td>\n",
       "      <td>20</td>\n",
       "      <td>10</td>\n",
       "      <td>0.03</td>\n",
       "      <td>0.03</td>\n",
       "      <td>surf</td>\n",
       "    </tr>\n",
       "    <tr>\n",
       "      <th>1</th>\n",
       "      <td>1000</td>\n",
       "      <td>30720</td>\n",
       "      <td>3000</td>\n",
       "      <td>70</td>\n",
       "      <td>7</td>\n",
       "      <td>0.01</td>\n",
       "      <td>0.01</td>\n",
       "      <td>ultimate</td>\n",
       "    </tr>\n",
       "  </tbody>\n",
       "</table>\n",
       "</div>"
      ],
      "text/plain": [
       "   messages_included  mb_per_month_included  minutes_included  \\\n",
       "0                 50                  15360               500   \n",
       "1               1000                  30720              3000   \n",
       "\n",
       "   usd_monthly_pay  usd_per_gb  usd_per_message  usd_per_minute plan_name  \n",
       "0               20          10             0.03            0.03      surf  \n",
       "1               70           7             0.01            0.01  ultimate  "
      ]
     },
     "execution_count": 12,
     "metadata": {},
     "output_type": "execute_result"
    }
   ],
   "source": [
    "plans.head()"
   ]
  },
  {
   "cell_type": "markdown",
   "metadata": {},
   "source": [
    "This is the detailed information on the tariffs in each package. Everything looks fine."
   ]
  },
  {
   "cell_type": "markdown",
   "metadata": {},
   "source": [
    "## Data Preprocessing"
   ]
  },
  {
   "cell_type": "markdown",
   "metadata": {},
   "source": [
    "### preprocessing for  `users`"
   ]
  },
  {
   "cell_type": "markdown",
   "metadata": {},
   "source": [
    "When study the data, it was noticed that the dates are in the 'object' format, which means they need to be converted to the datetime format.  \n",
    "Let's create a column with a classification by cities - **`\"NY-NJ\"`** for cities that are part of one of the states and **`\"other\"`** for the rest. We will do this to further confirm the second hypothesis."
   ]
  },
  {
   "cell_type": "code",
   "execution_count": 13,
   "metadata": {},
   "outputs": [
    {
     "data": {
      "text/html": [
       "<div>\n",
       "<style scoped>\n",
       "    .dataframe tbody tr th:only-of-type {\n",
       "        vertical-align: middle;\n",
       "    }\n",
       "\n",
       "    .dataframe tbody tr th {\n",
       "        vertical-align: top;\n",
       "    }\n",
       "\n",
       "    .dataframe thead th {\n",
       "        text-align: right;\n",
       "    }\n",
       "</style>\n",
       "<table border=\"1\" class=\"dataframe\">\n",
       "  <thead>\n",
       "    <tr style=\"text-align: right;\">\n",
       "      <th></th>\n",
       "      <th>user_id</th>\n",
       "      <th>first_name</th>\n",
       "      <th>last_name</th>\n",
       "      <th>age</th>\n",
       "      <th>city</th>\n",
       "      <th>reg_date</th>\n",
       "      <th>plan</th>\n",
       "      <th>churn_date</th>\n",
       "      <th>time_termination</th>\n",
       "      <th>city_hyp</th>\n",
       "    </tr>\n",
       "  </thead>\n",
       "  <tbody>\n",
       "    <tr>\n",
       "      <th>0</th>\n",
       "      <td>1000</td>\n",
       "      <td>Anamaria</td>\n",
       "      <td>Bauer</td>\n",
       "      <td>45</td>\n",
       "      <td>Atlanta-Sandy Springs-Roswell, GA MSA</td>\n",
       "      <td>2018-12-24</td>\n",
       "      <td>ultimate</td>\n",
       "      <td>NaT</td>\n",
       "      <td>NaT</td>\n",
       "      <td>others</td>\n",
       "    </tr>\n",
       "    <tr>\n",
       "      <th>1</th>\n",
       "      <td>1001</td>\n",
       "      <td>Mickey</td>\n",
       "      <td>Wilkerson</td>\n",
       "      <td>28</td>\n",
       "      <td>Seattle-Tacoma-Bellevue, WA MSA</td>\n",
       "      <td>2018-08-13</td>\n",
       "      <td>surf</td>\n",
       "      <td>NaT</td>\n",
       "      <td>NaT</td>\n",
       "      <td>others</td>\n",
       "    </tr>\n",
       "    <tr>\n",
       "      <th>2</th>\n",
       "      <td>1002</td>\n",
       "      <td>Carlee</td>\n",
       "      <td>Hoffman</td>\n",
       "      <td>36</td>\n",
       "      <td>Las Vegas-Henderson-Paradise, NV MSA</td>\n",
       "      <td>2018-10-21</td>\n",
       "      <td>surf</td>\n",
       "      <td>NaT</td>\n",
       "      <td>NaT</td>\n",
       "      <td>others</td>\n",
       "    </tr>\n",
       "    <tr>\n",
       "      <th>3</th>\n",
       "      <td>1003</td>\n",
       "      <td>Reynaldo</td>\n",
       "      <td>Jenkins</td>\n",
       "      <td>52</td>\n",
       "      <td>Tulsa, OK MSA</td>\n",
       "      <td>2018-01-28</td>\n",
       "      <td>surf</td>\n",
       "      <td>NaT</td>\n",
       "      <td>NaT</td>\n",
       "      <td>others</td>\n",
       "    </tr>\n",
       "    <tr>\n",
       "      <th>4</th>\n",
       "      <td>1004</td>\n",
       "      <td>Leonila</td>\n",
       "      <td>Thompson</td>\n",
       "      <td>40</td>\n",
       "      <td>Seattle-Tacoma-Bellevue, WA MSA</td>\n",
       "      <td>2018-05-23</td>\n",
       "      <td>surf</td>\n",
       "      <td>NaT</td>\n",
       "      <td>NaT</td>\n",
       "      <td>others</td>\n",
       "    </tr>\n",
       "    <tr>\n",
       "      <th>5</th>\n",
       "      <td>1005</td>\n",
       "      <td>Livia</td>\n",
       "      <td>Shields</td>\n",
       "      <td>31</td>\n",
       "      <td>Dallas-Fort Worth-Arlington, TX MSA</td>\n",
       "      <td>2018-11-29</td>\n",
       "      <td>surf</td>\n",
       "      <td>NaT</td>\n",
       "      <td>NaT</td>\n",
       "      <td>others</td>\n",
       "    </tr>\n",
       "    <tr>\n",
       "      <th>6</th>\n",
       "      <td>1006</td>\n",
       "      <td>Jesusa</td>\n",
       "      <td>Bradford</td>\n",
       "      <td>73</td>\n",
       "      <td>San Francisco-Oakland-Berkeley, CA MSA</td>\n",
       "      <td>2018-11-27</td>\n",
       "      <td>ultimate</td>\n",
       "      <td>2018-12-18</td>\n",
       "      <td>21 days</td>\n",
       "      <td>others</td>\n",
       "    </tr>\n",
       "    <tr>\n",
       "      <th>7</th>\n",
       "      <td>1007</td>\n",
       "      <td>Eusebio</td>\n",
       "      <td>Welch</td>\n",
       "      <td>42</td>\n",
       "      <td>Grand Rapids-Kentwood, MI MSA</td>\n",
       "      <td>2018-07-11</td>\n",
       "      <td>surf</td>\n",
       "      <td>NaT</td>\n",
       "      <td>NaT</td>\n",
       "      <td>others</td>\n",
       "    </tr>\n",
       "    <tr>\n",
       "      <th>8</th>\n",
       "      <td>1008</td>\n",
       "      <td>Emely</td>\n",
       "      <td>Hoffman</td>\n",
       "      <td>53</td>\n",
       "      <td>Orlando-Kissimmee-Sanford, FL MSA</td>\n",
       "      <td>2018-08-03</td>\n",
       "      <td>ultimate</td>\n",
       "      <td>NaT</td>\n",
       "      <td>NaT</td>\n",
       "      <td>others</td>\n",
       "    </tr>\n",
       "    <tr>\n",
       "      <th>9</th>\n",
       "      <td>1009</td>\n",
       "      <td>Gerry</td>\n",
       "      <td>Little</td>\n",
       "      <td>19</td>\n",
       "      <td>San Jose-Sunnyvale-Santa Clara, CA MSA</td>\n",
       "      <td>2018-04-22</td>\n",
       "      <td>surf</td>\n",
       "      <td>NaT</td>\n",
       "      <td>NaT</td>\n",
       "      <td>others</td>\n",
       "    </tr>\n",
       "  </tbody>\n",
       "</table>\n",
       "</div>"
      ],
      "text/plain": [
       "   user_id first_name  last_name  age                                    city  \\\n",
       "0     1000   Anamaria      Bauer   45   Atlanta-Sandy Springs-Roswell, GA MSA   \n",
       "1     1001     Mickey  Wilkerson   28         Seattle-Tacoma-Bellevue, WA MSA   \n",
       "2     1002     Carlee    Hoffman   36    Las Vegas-Henderson-Paradise, NV MSA   \n",
       "3     1003   Reynaldo    Jenkins   52                           Tulsa, OK MSA   \n",
       "4     1004    Leonila   Thompson   40         Seattle-Tacoma-Bellevue, WA MSA   \n",
       "5     1005      Livia    Shields   31     Dallas-Fort Worth-Arlington, TX MSA   \n",
       "6     1006     Jesusa   Bradford   73  San Francisco-Oakland-Berkeley, CA MSA   \n",
       "7     1007    Eusebio      Welch   42           Grand Rapids-Kentwood, MI MSA   \n",
       "8     1008      Emely    Hoffman   53       Orlando-Kissimmee-Sanford, FL MSA   \n",
       "9     1009      Gerry     Little   19  San Jose-Sunnyvale-Santa Clara, CA MSA   \n",
       "\n",
       "    reg_date      plan churn_date time_termination city_hyp  \n",
       "0 2018-12-24  ultimate        NaT              NaT   others  \n",
       "1 2018-08-13      surf        NaT              NaT   others  \n",
       "2 2018-10-21      surf        NaT              NaT   others  \n",
       "3 2018-01-28      surf        NaT              NaT   others  \n",
       "4 2018-05-23      surf        NaT              NaT   others  \n",
       "5 2018-11-29      surf        NaT              NaT   others  \n",
       "6 2018-11-27  ultimate 2018-12-18          21 days   others  \n",
       "7 2018-07-11      surf        NaT              NaT   others  \n",
       "8 2018-08-03  ultimate        NaT              NaT   others  \n",
       "9 2018-04-22      surf        NaT              NaT   others  "
      ]
     },
     "execution_count": 13,
     "metadata": {},
     "output_type": "execute_result"
    }
   ],
   "source": [
    "users['reg_date'] = pd.to_datetime(users['reg_date'], format='%Y-%m-%d')\n",
    "users['churn_date'] = pd.to_datetime(users['churn_date'], format='%Y-%m-%d')\n",
    "users['time_termination'] = users['churn_date'] - users['reg_date']\n",
    "users['city_hyp'] = users['city'].apply(lambda x: 'NY-NJ' if ('NY' or 'NJ') in x else 'others')\n",
    "users.head(10)"
   ]
  },
  {
   "cell_type": "code",
   "execution_count": 14,
   "metadata": {},
   "outputs": [
    {
     "name": "stdout",
     "output_type": "stream",
     "text": [
      "<class 'pandas.core.frame.DataFrame'>\n",
      "RangeIndex: 500 entries, 0 to 499\n",
      "Data columns (total 10 columns):\n",
      " #   Column            Non-Null Count  Dtype          \n",
      "---  ------            --------------  -----          \n",
      " 0   user_id           500 non-null    int64          \n",
      " 1   first_name        500 non-null    object         \n",
      " 2   last_name         500 non-null    object         \n",
      " 3   age               500 non-null    int64          \n",
      " 4   city              500 non-null    object         \n",
      " 5   reg_date          500 non-null    datetime64[ns] \n",
      " 6   plan              500 non-null    object         \n",
      " 7   churn_date        34 non-null     datetime64[ns] \n",
      " 8   time_termination  34 non-null     timedelta64[ns]\n",
      " 9   city_hyp          500 non-null    object         \n",
      "dtypes: datetime64[ns](2), int64(2), object(5), timedelta64[ns](1)\n",
      "memory usage: 39.2+ KB\n"
     ]
    }
   ],
   "source": [
    "users.info()"
   ]
  },
  {
   "cell_type": "markdown",
   "metadata": {},
   "source": [
    "- data type in column `reg_date` successfully changed to datetime64.\n",
    "- added new columns for further work"
   ]
  },
  {
   "cell_type": "markdown",
   "metadata": {},
   "source": [
    "### preprocessing for `calls`"
   ]
  },
  {
   "cell_type": "markdown",
   "metadata": {},
   "source": [
    "It was noticed that the dates in the column `call_date` are in the 'object' format, which means they need to be converted to the datetime format.\n",
    "\n",
    "The billing in tariffs is by minutes and megabytes. In this case, the operator always rounds such values up to an integer.\n",
    "So we need to get rid of the decimals in the `call duration` columns of the calls table.\n",
    "\n",
    "We will bring to integer values and get rid of the fractional part using the **.ceil** method of the **math** library."
   ]
  },
  {
   "cell_type": "code",
   "execution_count": 15,
   "metadata": {},
   "outputs": [
    {
     "name": "stdout",
     "output_type": "stream",
     "text": [
      "<class 'pandas.core.frame.DataFrame'>\n",
      "RangeIndex: 137735 entries, 0 to 137734\n",
      "Data columns (total 5 columns):\n",
      " #   Column     Non-Null Count   Dtype         \n",
      "---  ------     --------------   -----         \n",
      " 0   id         137735 non-null  int64         \n",
      " 1   user_id    137735 non-null  int64         \n",
      " 2   call_date  137735 non-null  datetime64[ns]\n",
      " 3   duration   137735 non-null  float64       \n",
      " 4   month      137735 non-null  int64         \n",
      "dtypes: datetime64[ns](1), float64(1), int64(3)\n",
      "memory usage: 5.3 MB\n",
      "None\n",
      "0.00     26834\n",
      "4.02       102\n",
      "8.37       102\n",
      "3.91       101\n",
      "4.30       100\n",
      "         ...  \n",
      "31.55        1\n",
      "24.95        1\n",
      "26.23        1\n",
      "29.56        1\n",
      "25.18        1\n",
      "Name: duration, Length: 2802, dtype: int64\n"
     ]
    }
   ],
   "source": [
    "# Make column 'id' integer\n",
    "calls['id'] = calls['id'].astype(np.int64)\n",
    "\n",
    "# changes the data type in the date_posted column to datetime type\n",
    "calls['call_date'] = pd.to_datetime(calls['call_date'], format='%Y-%m-%d')\n",
    "calls['month'] = calls['call_date'].dt.month\n",
    "\n",
    "#check data after fix\n",
    "print(calls.info())\n",
    "\n",
    "#check 'duration' column \n",
    "print(calls['duration'].value_counts())\n",
    "\n",
    "calls['duration']=calls['duration'].apply(np.ceil).astype(int)\n"
   ]
  },
  {
   "cell_type": "code",
   "execution_count": 16,
   "metadata": {},
   "outputs": [
    {
     "data": {
      "text/html": [
       "<div>\n",
       "<style scoped>\n",
       "    .dataframe tbody tr th:only-of-type {\n",
       "        vertical-align: middle;\n",
       "    }\n",
       "\n",
       "    .dataframe tbody tr th {\n",
       "        vertical-align: top;\n",
       "    }\n",
       "\n",
       "    .dataframe thead th {\n",
       "        text-align: right;\n",
       "    }\n",
       "</style>\n",
       "<table border=\"1\" class=\"dataframe\">\n",
       "  <thead>\n",
       "    <tr style=\"text-align: right;\">\n",
       "      <th></th>\n",
       "      <th></th>\n",
       "      <th>calls_month_count</th>\n",
       "      <th>calls_month__duration</th>\n",
       "    </tr>\n",
       "    <tr>\n",
       "      <th>user_id</th>\n",
       "      <th>month</th>\n",
       "      <th></th>\n",
       "      <th></th>\n",
       "    </tr>\n",
       "  </thead>\n",
       "  <tbody>\n",
       "    <tr>\n",
       "      <th>1000</th>\n",
       "      <th>12</th>\n",
       "      <td>16</td>\n",
       "      <td>124</td>\n",
       "    </tr>\n",
       "    <tr>\n",
       "      <th rowspan=\"4\" valign=\"top\">1001</th>\n",
       "      <th>8</th>\n",
       "      <td>27</td>\n",
       "      <td>182</td>\n",
       "    </tr>\n",
       "    <tr>\n",
       "      <th>9</th>\n",
       "      <td>49</td>\n",
       "      <td>315</td>\n",
       "    </tr>\n",
       "    <tr>\n",
       "      <th>10</th>\n",
       "      <td>65</td>\n",
       "      <td>393</td>\n",
       "    </tr>\n",
       "    <tr>\n",
       "      <th>11</th>\n",
       "      <td>64</td>\n",
       "      <td>426</td>\n",
       "    </tr>\n",
       "  </tbody>\n",
       "</table>\n",
       "</div>"
      ],
      "text/plain": [
       "               calls_month_count  calls_month__duration\n",
       "user_id month                                          \n",
       "1000    12                    16                    124\n",
       "1001    8                     27                    182\n",
       "        9                     49                    315\n",
       "        10                    65                    393\n",
       "        11                    64                    426"
      ]
     },
     "execution_count": 16,
     "metadata": {},
     "output_type": "execute_result"
    }
   ],
   "source": [
    "# make a new date based on grouping by user id and month, calculate the calls duration counts and their sum\n",
    "calls_avr = calls.groupby(['user_id', 'month'])['duration'].agg(['count', 'sum'])\n",
    "# rename columns\n",
    "calls_avr.columns = ['calls_month_count', 'calls_month__duration']\n",
    "calls_avr.head()"
   ]
  },
  {
   "cell_type": "markdown",
   "metadata": {},
   "source": [
    "- We can see that 26834 calls had a duration of 0. This is about 20% of all calls. If we assume that these were outgoing missed calls, then a share of about 20% intuitively seems normal. It's seems that every fifth call of the user is not answered.\n",
    "For now, we will accept for ourselves that these are missed calls and we will not delete them.\n",
    "\n",
    "- we fixed incorrect data types in columns\n",
    "- in addition, we create a new date `calls_avr` based on grouping by user ID and month, calculate call duration counters and their sum for each user for each month.\n",
    "- renamed columns in new data"
   ]
  },
  {
   "cell_type": "markdown",
   "metadata": {},
   "source": [
    "### preprocessing for `messages`"
   ]
  },
  {
   "cell_type": "markdown",
   "metadata": {},
   "source": [
    "It was noticed that the dates in the column `message_date` are in the 'object' format, which means they need to be converted to the datetime format."
   ]
  },
  {
   "cell_type": "code",
   "execution_count": 17,
   "metadata": {
    "scrolled": false
   },
   "outputs": [
    {
     "name": "stdout",
     "output_type": "stream",
     "text": [
      "<class 'pandas.core.frame.DataFrame'>\n",
      "RangeIndex: 76051 entries, 0 to 76050\n",
      "Data columns (total 4 columns):\n",
      " #   Column        Non-Null Count  Dtype         \n",
      "---  ------        --------------  -----         \n",
      " 0   id            76051 non-null  int64         \n",
      " 1   user_id       76051 non-null  int64         \n",
      " 2   message_date  76051 non-null  datetime64[ns]\n",
      " 3   month         76051 non-null  int64         \n",
      "dtypes: datetime64[ns](1), int64(3)\n",
      "memory usage: 2.3 MB\n",
      "None\n"
     ]
    },
    {
     "data": {
      "text/html": [
       "<div>\n",
       "<style scoped>\n",
       "    .dataframe tbody tr th:only-of-type {\n",
       "        vertical-align: middle;\n",
       "    }\n",
       "\n",
       "    .dataframe tbody tr th {\n",
       "        vertical-align: top;\n",
       "    }\n",
       "\n",
       "    .dataframe thead th {\n",
       "        text-align: right;\n",
       "    }\n",
       "</style>\n",
       "<table border=\"1\" class=\"dataframe\">\n",
       "  <thead>\n",
       "    <tr style=\"text-align: right;\">\n",
       "      <th></th>\n",
       "      <th></th>\n",
       "      <th>msg_month_count</th>\n",
       "    </tr>\n",
       "    <tr>\n",
       "      <th>user_id</th>\n",
       "      <th>month</th>\n",
       "      <th></th>\n",
       "    </tr>\n",
       "  </thead>\n",
       "  <tbody>\n",
       "    <tr>\n",
       "      <th>1000</th>\n",
       "      <th>12</th>\n",
       "      <td>11</td>\n",
       "    </tr>\n",
       "    <tr>\n",
       "      <th rowspan=\"4\" valign=\"top\">1001</th>\n",
       "      <th>8</th>\n",
       "      <td>30</td>\n",
       "    </tr>\n",
       "    <tr>\n",
       "      <th>9</th>\n",
       "      <td>44</td>\n",
       "    </tr>\n",
       "    <tr>\n",
       "      <th>10</th>\n",
       "      <td>53</td>\n",
       "    </tr>\n",
       "    <tr>\n",
       "      <th>11</th>\n",
       "      <td>36</td>\n",
       "    </tr>\n",
       "    <tr>\n",
       "      <th>...</th>\n",
       "      <th>...</th>\n",
       "      <td>...</td>\n",
       "    </tr>\n",
       "    <tr>\n",
       "      <th rowspan=\"4\" valign=\"top\">1496</th>\n",
       "      <th>9</th>\n",
       "      <td>21</td>\n",
       "    </tr>\n",
       "    <tr>\n",
       "      <th>10</th>\n",
       "      <td>18</td>\n",
       "    </tr>\n",
       "    <tr>\n",
       "      <th>11</th>\n",
       "      <td>13</td>\n",
       "    </tr>\n",
       "    <tr>\n",
       "      <th>12</th>\n",
       "      <td>11</td>\n",
       "    </tr>\n",
       "    <tr>\n",
       "      <th>1497</th>\n",
       "      <th>12</th>\n",
       "      <td>50</td>\n",
       "    </tr>\n",
       "  </tbody>\n",
       "</table>\n",
       "<p>1806 rows × 1 columns</p>\n",
       "</div>"
      ],
      "text/plain": [
       "               msg_month_count\n",
       "user_id month                 \n",
       "1000    12                  11\n",
       "1001    8                   30\n",
       "        9                   44\n",
       "        10                  53\n",
       "        11                  36\n",
       "...                        ...\n",
       "1496    9                   21\n",
       "        10                  18\n",
       "        11                  13\n",
       "        12                  11\n",
       "1497    12                  50\n",
       "\n",
       "[1806 rows x 1 columns]"
      ]
     },
     "execution_count": 17,
     "metadata": {},
     "output_type": "execute_result"
    }
   ],
   "source": [
    "# Make column 'id' integer\n",
    "messages['id']= messages['id'].astype(np.int64)\n",
    "\n",
    "# changes the data type in the date_posted column to datetime type\n",
    "messages['message_date'] = pd.to_datetime(messages['message_date'], format='%Y-%m-%d')\n",
    "messages['month'] = messages['message_date'].dt.month\n",
    "\n",
    "#ckeck data after fix\n",
    "print(messages.info())\n",
    "\n",
    "# # make a new date based on grouping by user id and month, calculate the counn of the messages\n",
    "messages_avr = messages.groupby(['user_id', 'month'])['month'].agg(['count'])\n",
    "messages_avr.columns = ['msg_month_count']\n",
    "messages_avr"
   ]
  },
  {
   "cell_type": "markdown",
   "metadata": {},
   "source": [
    "\n",
    "- we fixed incorrect data types in columns\n",
    "- in addition, we create a new date `messages_avr` based on grouping by user ID and month, calculate count of sms for each user for each month.\n",
    "- renamed columns in new data"
   ]
  },
  {
   "cell_type": "markdown",
   "metadata": {},
   "source": [
    "### preprocessing for `internet`"
   ]
  },
  {
   "cell_type": "markdown",
   "metadata": {},
   "source": [
    "It was noticed that the dates in the column `session_date` are in the **object** format, which means they need to be converted to the **datetime** format.\n"
   ]
  },
  {
   "cell_type": "code",
   "execution_count": 18,
   "metadata": {},
   "outputs": [
    {
     "name": "stdout",
     "output_type": "stream",
     "text": [
      "<class 'pandas.core.frame.DataFrame'>\n",
      "RangeIndex: 104825 entries, 0 to 104824\n",
      "Data columns (total 5 columns):\n",
      " #   Column        Non-Null Count   Dtype         \n",
      "---  ------        --------------   -----         \n",
      " 0   id            104825 non-null  int64         \n",
      " 1   user_id       104825 non-null  int64         \n",
      " 2   session_date  104825 non-null  datetime64[ns]\n",
      " 3   mb_used       104825 non-null  float64       \n",
      " 4   month         104825 non-null  int64         \n",
      "dtypes: datetime64[ns](1), float64(1), int64(3)\n",
      "memory usage: 4.0 MB\n",
      "None\n"
     ]
    },
    {
     "data": {
      "text/html": [
       "<div>\n",
       "<style scoped>\n",
       "    .dataframe tbody tr th:only-of-type {\n",
       "        vertical-align: middle;\n",
       "    }\n",
       "\n",
       "    .dataframe tbody tr th {\n",
       "        vertical-align: top;\n",
       "    }\n",
       "\n",
       "    .dataframe thead th {\n",
       "        text-align: right;\n",
       "    }\n",
       "</style>\n",
       "<table border=\"1\" class=\"dataframe\">\n",
       "  <thead>\n",
       "    <tr style=\"text-align: right;\">\n",
       "      <th></th>\n",
       "      <th></th>\n",
       "      <th>inter_month_mb_used</th>\n",
       "    </tr>\n",
       "    <tr>\n",
       "      <th>user_id</th>\n",
       "      <th>month</th>\n",
       "      <th></th>\n",
       "    </tr>\n",
       "  </thead>\n",
       "  <tbody>\n",
       "    <tr>\n",
       "      <th>1000</th>\n",
       "      <th>12</th>\n",
       "      <td>1901.47</td>\n",
       "    </tr>\n",
       "    <tr>\n",
       "      <th rowspan=\"4\" valign=\"top\">1001</th>\n",
       "      <th>8</th>\n",
       "      <td>6919.15</td>\n",
       "    </tr>\n",
       "    <tr>\n",
       "      <th>9</th>\n",
       "      <td>13314.82</td>\n",
       "    </tr>\n",
       "    <tr>\n",
       "      <th>10</th>\n",
       "      <td>22330.49</td>\n",
       "    </tr>\n",
       "    <tr>\n",
       "      <th>11</th>\n",
       "      <td>18504.30</td>\n",
       "    </tr>\n",
       "    <tr>\n",
       "      <th>...</th>\n",
       "      <th>...</th>\n",
       "      <td>...</td>\n",
       "    </tr>\n",
       "    <tr>\n",
       "      <th>1498</th>\n",
       "      <th>12</th>\n",
       "      <td>23137.69</td>\n",
       "    </tr>\n",
       "    <tr>\n",
       "      <th rowspan=\"4\" valign=\"top\">1499</th>\n",
       "      <th>9</th>\n",
       "      <td>12984.76</td>\n",
       "    </tr>\n",
       "    <tr>\n",
       "      <th>10</th>\n",
       "      <td>19492.43</td>\n",
       "    </tr>\n",
       "    <tr>\n",
       "      <th>11</th>\n",
       "      <td>16813.83</td>\n",
       "    </tr>\n",
       "    <tr>\n",
       "      <th>12</th>\n",
       "      <td>22059.21</td>\n",
       "    </tr>\n",
       "  </tbody>\n",
       "</table>\n",
       "<p>2277 rows × 1 columns</p>\n",
       "</div>"
      ],
      "text/plain": [
       "               inter_month_mb_used\n",
       "user_id month                     \n",
       "1000    12                 1901.47\n",
       "1001    8                  6919.15\n",
       "        9                 13314.82\n",
       "        10                22330.49\n",
       "        11                18504.30\n",
       "...                            ...\n",
       "1498    12                23137.69\n",
       "1499    9                 12984.76\n",
       "        10                19492.43\n",
       "        11                16813.83\n",
       "        12                22059.21\n",
       "\n",
       "[2277 rows x 1 columns]"
      ]
     },
     "execution_count": 18,
     "metadata": {},
     "output_type": "execute_result"
    }
   ],
   "source": [
    "# Make column 'id' integer\n",
    "internet['id']= internet['id'].astype(np.int64)\n",
    "\n",
    "# changes the data type in the date_posted column to datetime type\n",
    "internet['session_date'] = pd.to_datetime(internet['session_date'], format='%Y-%m-%d')\n",
    "internet['month'] = internet['session_date'].dt.month\n",
    "\n",
    "#check data after fix\n",
    "print(internet.info())\n",
    "\n",
    "# make a new date based on grouping by user id and month, calculate the internet traffic\n",
    "internet_avr = internet.groupby(['user_id', 'month'])['mb_used'].agg(['sum'])\n",
    "internet_avr.columns = ['inter_month_mb_used']\n",
    "\n",
    "internet_avr"
   ]
  },
  {
   "cell_type": "code",
   "execution_count": 19,
   "metadata": {},
   "outputs": [
    {
     "data": {
      "text/html": [
       "<div>\n",
       "<style scoped>\n",
       "    .dataframe tbody tr th:only-of-type {\n",
       "        vertical-align: middle;\n",
       "    }\n",
       "\n",
       "    .dataframe tbody tr th {\n",
       "        vertical-align: top;\n",
       "    }\n",
       "\n",
       "    .dataframe thead th {\n",
       "        text-align: right;\n",
       "    }\n",
       "</style>\n",
       "<table border=\"1\" class=\"dataframe\">\n",
       "  <thead>\n",
       "    <tr style=\"text-align: right;\">\n",
       "      <th></th>\n",
       "      <th>user_id</th>\n",
       "      <th>month</th>\n",
       "      <th>calls_month_count</th>\n",
       "      <th>calls_month_duration</th>\n",
       "      <th>sms_per_month</th>\n",
       "      <th>mb_per_month</th>\n",
       "      <th>tariff</th>\n",
       "      <th>city</th>\n",
       "    </tr>\n",
       "  </thead>\n",
       "  <tbody>\n",
       "    <tr>\n",
       "      <th>0</th>\n",
       "      <td>1000</td>\n",
       "      <td>12</td>\n",
       "      <td>16.0</td>\n",
       "      <td>124.0</td>\n",
       "      <td>11.0</td>\n",
       "      <td>1901.47</td>\n",
       "      <td>ultimate</td>\n",
       "      <td>others</td>\n",
       "    </tr>\n",
       "    <tr>\n",
       "      <th>1</th>\n",
       "      <td>1001</td>\n",
       "      <td>8</td>\n",
       "      <td>27.0</td>\n",
       "      <td>182.0</td>\n",
       "      <td>30.0</td>\n",
       "      <td>6919.15</td>\n",
       "      <td>surf</td>\n",
       "      <td>others</td>\n",
       "    </tr>\n",
       "    <tr>\n",
       "      <th>2</th>\n",
       "      <td>1001</td>\n",
       "      <td>9</td>\n",
       "      <td>49.0</td>\n",
       "      <td>315.0</td>\n",
       "      <td>44.0</td>\n",
       "      <td>13314.82</td>\n",
       "      <td>surf</td>\n",
       "      <td>others</td>\n",
       "    </tr>\n",
       "    <tr>\n",
       "      <th>3</th>\n",
       "      <td>1001</td>\n",
       "      <td>10</td>\n",
       "      <td>65.0</td>\n",
       "      <td>393.0</td>\n",
       "      <td>53.0</td>\n",
       "      <td>22330.49</td>\n",
       "      <td>surf</td>\n",
       "      <td>others</td>\n",
       "    </tr>\n",
       "    <tr>\n",
       "      <th>4</th>\n",
       "      <td>1001</td>\n",
       "      <td>11</td>\n",
       "      <td>64.0</td>\n",
       "      <td>426.0</td>\n",
       "      <td>36.0</td>\n",
       "      <td>18504.30</td>\n",
       "      <td>surf</td>\n",
       "      <td>others</td>\n",
       "    </tr>\n",
       "    <tr>\n",
       "      <th>5</th>\n",
       "      <td>1001</td>\n",
       "      <td>12</td>\n",
       "      <td>56.0</td>\n",
       "      <td>412.0</td>\n",
       "      <td>44.0</td>\n",
       "      <td>19369.18</td>\n",
       "      <td>surf</td>\n",
       "      <td>others</td>\n",
       "    </tr>\n",
       "    <tr>\n",
       "      <th>6</th>\n",
       "      <td>1002</td>\n",
       "      <td>10</td>\n",
       "      <td>11.0</td>\n",
       "      <td>59.0</td>\n",
       "      <td>15.0</td>\n",
       "      <td>6552.01</td>\n",
       "      <td>surf</td>\n",
       "      <td>others</td>\n",
       "    </tr>\n",
       "    <tr>\n",
       "      <th>7</th>\n",
       "      <td>1002</td>\n",
       "      <td>11</td>\n",
       "      <td>55.0</td>\n",
       "      <td>386.0</td>\n",
       "      <td>32.0</td>\n",
       "      <td>19345.08</td>\n",
       "      <td>surf</td>\n",
       "      <td>others</td>\n",
       "    </tr>\n",
       "    <tr>\n",
       "      <th>8</th>\n",
       "      <td>1002</td>\n",
       "      <td>12</td>\n",
       "      <td>47.0</td>\n",
       "      <td>384.0</td>\n",
       "      <td>41.0</td>\n",
       "      <td>14396.24</td>\n",
       "      <td>surf</td>\n",
       "      <td>others</td>\n",
       "    </tr>\n",
       "    <tr>\n",
       "      <th>9</th>\n",
       "      <td>1003</td>\n",
       "      <td>12</td>\n",
       "      <td>149.0</td>\n",
       "      <td>1104.0</td>\n",
       "      <td>50.0</td>\n",
       "      <td>27044.14</td>\n",
       "      <td>surf</td>\n",
       "      <td>others</td>\n",
       "    </tr>\n",
       "  </tbody>\n",
       "</table>\n",
       "</div>"
      ],
      "text/plain": [
       "   user_id  month  calls_month_count  calls_month_duration  sms_per_month  \\\n",
       "0     1000     12               16.0                 124.0           11.0   \n",
       "1     1001      8               27.0                 182.0           30.0   \n",
       "2     1001      9               49.0                 315.0           44.0   \n",
       "3     1001     10               65.0                 393.0           53.0   \n",
       "4     1001     11               64.0                 426.0           36.0   \n",
       "5     1001     12               56.0                 412.0           44.0   \n",
       "6     1002     10               11.0                  59.0           15.0   \n",
       "7     1002     11               55.0                 386.0           32.0   \n",
       "8     1002     12               47.0                 384.0           41.0   \n",
       "9     1003     12              149.0                1104.0           50.0   \n",
       "\n",
       "   mb_per_month    tariff    city  \n",
       "0       1901.47  ultimate  others  \n",
       "1       6919.15      surf  others  \n",
       "2      13314.82      surf  others  \n",
       "3      22330.49      surf  others  \n",
       "4      18504.30      surf  others  \n",
       "5      19369.18      surf  others  \n",
       "6       6552.01      surf  others  \n",
       "7      19345.08      surf  others  \n",
       "8      14396.24      surf  others  \n",
       "9      27044.14      surf  others  "
      ]
     },
     "execution_count": 19,
     "metadata": {},
     "output_type": "execute_result"
    }
   ],
   "source": [
    "# new data with three columns `user_id`, 'city_hyp' and `plan`\n",
    "user_plan = users[['user_id','plan', 'city_hyp']]\n",
    "\n",
    "# joining datas - calls, sms, internet with user_plan by user_id column\n",
    "monthly_data = pd.concat([calls_avr, messages_avr, internet_avr], axis=1).reset_index().merge(user_plan,on='user_id')\n",
    "#rename columns\n",
    "monthly_data.columns = ['user_id', 'month', 'calls_month_count', 'calls_month_duration', 'sms_per_month', 'mb_per_month', 'tariff', 'city']\n",
    "\n",
    "# check our data\n",
    "monthly_data.head(10)"
   ]
  },
  {
   "cell_type": "code",
   "execution_count": 20,
   "metadata": {},
   "outputs": [
    {
     "name": "stdout",
     "output_type": "stream",
     "text": [
      "<class 'pandas.core.frame.DataFrame'>\n",
      "Int64Index: 2293 entries, 0 to 2292\n",
      "Data columns (total 8 columns):\n",
      " #   Column                Non-Null Count  Dtype  \n",
      "---  ------                --------------  -----  \n",
      " 0   user_id               2293 non-null   int64  \n",
      " 1   month                 2293 non-null   int64  \n",
      " 2   calls_month_count     2258 non-null   float64\n",
      " 3   calls_month_duration  2258 non-null   float64\n",
      " 4   sms_per_month         1806 non-null   float64\n",
      " 5   mb_per_month          2277 non-null   float64\n",
      " 6   tariff                2293 non-null   object \n",
      " 7   city                  2293 non-null   object \n",
      "dtypes: float64(4), int64(2), object(2)\n",
      "memory usage: 161.2+ KB\n"
     ]
    }
   ],
   "source": [
    "monthly_data.info()"
   ]
  },
  {
   "cell_type": "markdown",
   "metadata": {},
   "source": [
    "So, we got new data with the columns we need. Some of the columns have missing values.  \n",
    "Let's see what it is and draw conclusions on what to do next."
   ]
  },
  {
   "cell_type": "code",
   "execution_count": 21,
   "metadata": {
    "scrolled": true
   },
   "outputs": [
    {
     "name": "stdout",
     "output_type": "stream",
     "text": [
      "user_id                   0\n",
      "month                     0\n",
      "calls_month_count        35\n",
      "calls_month_duration     35\n",
      "sms_per_month           487\n",
      "mb_per_month             16\n",
      "tariff                    0\n",
      "city                      0\n",
      "dtype: int64\n"
     ]
    },
    {
     "data": {
      "text/html": [
       "<div>\n",
       "<style scoped>\n",
       "    .dataframe tbody tr th:only-of-type {\n",
       "        vertical-align: middle;\n",
       "    }\n",
       "\n",
       "    .dataframe tbody tr th {\n",
       "        vertical-align: top;\n",
       "    }\n",
       "\n",
       "    .dataframe thead th {\n",
       "        text-align: right;\n",
       "    }\n",
       "</style>\n",
       "<table border=\"1\" class=\"dataframe\">\n",
       "  <thead>\n",
       "    <tr style=\"text-align: right;\">\n",
       "      <th></th>\n",
       "      <th>user_id</th>\n",
       "      <th>month</th>\n",
       "      <th>calls_month_count</th>\n",
       "      <th>calls_month_duration</th>\n",
       "      <th>sms_per_month</th>\n",
       "      <th>mb_per_month</th>\n",
       "      <th>tariff</th>\n",
       "      <th>city</th>\n",
       "    </tr>\n",
       "  </thead>\n",
       "  <tbody>\n",
       "    <tr>\n",
       "      <th>104</th>\n",
       "      <td>1028</td>\n",
       "      <td>2</td>\n",
       "      <td>NaN</td>\n",
       "      <td>NaN</td>\n",
       "      <td>12.0</td>\n",
       "      <td>12591.91</td>\n",
       "      <td>ultimate</td>\n",
       "      <td>others</td>\n",
       "    </tr>\n",
       "    <tr>\n",
       "      <th>1045</th>\n",
       "      <td>1224</td>\n",
       "      <td>6</td>\n",
       "      <td>NaN</td>\n",
       "      <td>NaN</td>\n",
       "      <td>5.0</td>\n",
       "      <td>2966.21</td>\n",
       "      <td>ultimate</td>\n",
       "      <td>others</td>\n",
       "    </tr>\n",
       "    <tr>\n",
       "      <th>1398</th>\n",
       "      <td>1311</td>\n",
       "      <td>6</td>\n",
       "      <td>NaN</td>\n",
       "      <td>NaN</td>\n",
       "      <td>NaN</td>\n",
       "      <td>1498.83</td>\n",
       "      <td>ultimate</td>\n",
       "      <td>others</td>\n",
       "    </tr>\n",
       "    <tr>\n",
       "      <th>1645</th>\n",
       "      <td>1361</td>\n",
       "      <td>5</td>\n",
       "      <td>NaN</td>\n",
       "      <td>NaN</td>\n",
       "      <td>2.0</td>\n",
       "      <td>1519.69</td>\n",
       "      <td>surf</td>\n",
       "      <td>others</td>\n",
       "    </tr>\n",
       "    <tr>\n",
       "      <th>2182</th>\n",
       "      <td>1482</td>\n",
       "      <td>10</td>\n",
       "      <td>NaN</td>\n",
       "      <td>NaN</td>\n",
       "      <td>2.0</td>\n",
       "      <td>NaN</td>\n",
       "      <td>ultimate</td>\n",
       "      <td>NY-NJ</td>\n",
       "    </tr>\n",
       "    <tr>\n",
       "      <th>2263</th>\n",
       "      <td>1080</td>\n",
       "      <td>8</td>\n",
       "      <td>NaN</td>\n",
       "      <td>NaN</td>\n",
       "      <td>31.0</td>\n",
       "      <td>20519.74</td>\n",
       "      <td>surf</td>\n",
       "      <td>NY-NJ</td>\n",
       "    </tr>\n",
       "    <tr>\n",
       "      <th>2264</th>\n",
       "      <td>1080</td>\n",
       "      <td>9</td>\n",
       "      <td>NaN</td>\n",
       "      <td>NaN</td>\n",
       "      <td>64.0</td>\n",
       "      <td>25499.72</td>\n",
       "      <td>surf</td>\n",
       "      <td>NY-NJ</td>\n",
       "    </tr>\n",
       "    <tr>\n",
       "      <th>2265</th>\n",
       "      <td>1080</td>\n",
       "      <td>10</td>\n",
       "      <td>NaN</td>\n",
       "      <td>NaN</td>\n",
       "      <td>59.0</td>\n",
       "      <td>30161.57</td>\n",
       "      <td>surf</td>\n",
       "      <td>NY-NJ</td>\n",
       "    </tr>\n",
       "    <tr>\n",
       "      <th>2266</th>\n",
       "      <td>1080</td>\n",
       "      <td>11</td>\n",
       "      <td>NaN</td>\n",
       "      <td>NaN</td>\n",
       "      <td>50.0</td>\n",
       "      <td>33559.88</td>\n",
       "      <td>surf</td>\n",
       "      <td>NY-NJ</td>\n",
       "    </tr>\n",
       "    <tr>\n",
       "      <th>2267</th>\n",
       "      <td>1080</td>\n",
       "      <td>12</td>\n",
       "      <td>NaN</td>\n",
       "      <td>NaN</td>\n",
       "      <td>61.0</td>\n",
       "      <td>24543.42</td>\n",
       "      <td>surf</td>\n",
       "      <td>NY-NJ</td>\n",
       "    </tr>\n",
       "    <tr>\n",
       "      <th>2268</th>\n",
       "      <td>1089</td>\n",
       "      <td>12</td>\n",
       "      <td>NaN</td>\n",
       "      <td>NaN</td>\n",
       "      <td>27.0</td>\n",
       "      <td>16597.91</td>\n",
       "      <td>surf</td>\n",
       "      <td>others</td>\n",
       "    </tr>\n",
       "    <tr>\n",
       "      <th>2269</th>\n",
       "      <td>1121</td>\n",
       "      <td>11</td>\n",
       "      <td>NaN</td>\n",
       "      <td>NaN</td>\n",
       "      <td>1.0</td>\n",
       "      <td>1236.65</td>\n",
       "      <td>surf</td>\n",
       "      <td>others</td>\n",
       "    </tr>\n",
       "    <tr>\n",
       "      <th>2270</th>\n",
       "      <td>1121</td>\n",
       "      <td>12</td>\n",
       "      <td>NaN</td>\n",
       "      <td>NaN</td>\n",
       "      <td>97.0</td>\n",
       "      <td>66863.89</td>\n",
       "      <td>surf</td>\n",
       "      <td>others</td>\n",
       "    </tr>\n",
       "    <tr>\n",
       "      <th>2271</th>\n",
       "      <td>1131</td>\n",
       "      <td>5</td>\n",
       "      <td>NaN</td>\n",
       "      <td>NaN</td>\n",
       "      <td>18.0</td>\n",
       "      <td>6468.11</td>\n",
       "      <td>surf</td>\n",
       "      <td>others</td>\n",
       "    </tr>\n",
       "    <tr>\n",
       "      <th>2272</th>\n",
       "      <td>1131</td>\n",
       "      <td>6</td>\n",
       "      <td>NaN</td>\n",
       "      <td>NaN</td>\n",
       "      <td>27.0</td>\n",
       "      <td>14637.04</td>\n",
       "      <td>surf</td>\n",
       "      <td>others</td>\n",
       "    </tr>\n",
       "    <tr>\n",
       "      <th>2273</th>\n",
       "      <td>1131</td>\n",
       "      <td>7</td>\n",
       "      <td>NaN</td>\n",
       "      <td>NaN</td>\n",
       "      <td>28.0</td>\n",
       "      <td>16564.01</td>\n",
       "      <td>surf</td>\n",
       "      <td>others</td>\n",
       "    </tr>\n",
       "    <tr>\n",
       "      <th>2274</th>\n",
       "      <td>1131</td>\n",
       "      <td>8</td>\n",
       "      <td>NaN</td>\n",
       "      <td>NaN</td>\n",
       "      <td>33.0</td>\n",
       "      <td>12271.78</td>\n",
       "      <td>surf</td>\n",
       "      <td>others</td>\n",
       "    </tr>\n",
       "    <tr>\n",
       "      <th>2275</th>\n",
       "      <td>1131</td>\n",
       "      <td>9</td>\n",
       "      <td>NaN</td>\n",
       "      <td>NaN</td>\n",
       "      <td>26.0</td>\n",
       "      <td>15594.75</td>\n",
       "      <td>surf</td>\n",
       "      <td>others</td>\n",
       "    </tr>\n",
       "    <tr>\n",
       "      <th>2276</th>\n",
       "      <td>1131</td>\n",
       "      <td>10</td>\n",
       "      <td>NaN</td>\n",
       "      <td>NaN</td>\n",
       "      <td>31.0</td>\n",
       "      <td>21292.61</td>\n",
       "      <td>surf</td>\n",
       "      <td>others</td>\n",
       "    </tr>\n",
       "    <tr>\n",
       "      <th>2277</th>\n",
       "      <td>1131</td>\n",
       "      <td>11</td>\n",
       "      <td>NaN</td>\n",
       "      <td>NaN</td>\n",
       "      <td>20.0</td>\n",
       "      <td>13697.04</td>\n",
       "      <td>surf</td>\n",
       "      <td>others</td>\n",
       "    </tr>\n",
       "    <tr>\n",
       "      <th>2278</th>\n",
       "      <td>1131</td>\n",
       "      <td>12</td>\n",
       "      <td>NaN</td>\n",
       "      <td>NaN</td>\n",
       "      <td>33.0</td>\n",
       "      <td>15212.42</td>\n",
       "      <td>surf</td>\n",
       "      <td>others</td>\n",
       "    </tr>\n",
       "    <tr>\n",
       "      <th>2279</th>\n",
       "      <td>1137</td>\n",
       "      <td>10</td>\n",
       "      <td>NaN</td>\n",
       "      <td>NaN</td>\n",
       "      <td>48.0</td>\n",
       "      <td>7002.91</td>\n",
       "      <td>surf</td>\n",
       "      <td>others</td>\n",
       "    </tr>\n",
       "    <tr>\n",
       "      <th>2280</th>\n",
       "      <td>1137</td>\n",
       "      <td>11</td>\n",
       "      <td>NaN</td>\n",
       "      <td>NaN</td>\n",
       "      <td>64.0</td>\n",
       "      <td>3084.69</td>\n",
       "      <td>surf</td>\n",
       "      <td>others</td>\n",
       "    </tr>\n",
       "    <tr>\n",
       "      <th>2281</th>\n",
       "      <td>1137</td>\n",
       "      <td>12</td>\n",
       "      <td>NaN</td>\n",
       "      <td>NaN</td>\n",
       "      <td>56.0</td>\n",
       "      <td>6745.66</td>\n",
       "      <td>surf</td>\n",
       "      <td>others</td>\n",
       "    </tr>\n",
       "    <tr>\n",
       "      <th>2282</th>\n",
       "      <td>1194</td>\n",
       "      <td>8</td>\n",
       "      <td>NaN</td>\n",
       "      <td>NaN</td>\n",
       "      <td>10.0</td>\n",
       "      <td>5704.93</td>\n",
       "      <td>surf</td>\n",
       "      <td>others</td>\n",
       "    </tr>\n",
       "    <tr>\n",
       "      <th>2283</th>\n",
       "      <td>1194</td>\n",
       "      <td>9</td>\n",
       "      <td>NaN</td>\n",
       "      <td>NaN</td>\n",
       "      <td>76.0</td>\n",
       "      <td>37298.02</td>\n",
       "      <td>surf</td>\n",
       "      <td>others</td>\n",
       "    </tr>\n",
       "    <tr>\n",
       "      <th>2284</th>\n",
       "      <td>1194</td>\n",
       "      <td>10</td>\n",
       "      <td>NaN</td>\n",
       "      <td>NaN</td>\n",
       "      <td>88.0</td>\n",
       "      <td>31538.39</td>\n",
       "      <td>surf</td>\n",
       "      <td>others</td>\n",
       "    </tr>\n",
       "    <tr>\n",
       "      <th>2285</th>\n",
       "      <td>1194</td>\n",
       "      <td>11</td>\n",
       "      <td>NaN</td>\n",
       "      <td>NaN</td>\n",
       "      <td>62.0</td>\n",
       "      <td>42866.10</td>\n",
       "      <td>surf</td>\n",
       "      <td>others</td>\n",
       "    </tr>\n",
       "    <tr>\n",
       "      <th>2286</th>\n",
       "      <td>1194</td>\n",
       "      <td>12</td>\n",
       "      <td>NaN</td>\n",
       "      <td>NaN</td>\n",
       "      <td>56.0</td>\n",
       "      <td>31088.49</td>\n",
       "      <td>surf</td>\n",
       "      <td>others</td>\n",
       "    </tr>\n",
       "    <tr>\n",
       "      <th>2287</th>\n",
       "      <td>1204</td>\n",
       "      <td>11</td>\n",
       "      <td>NaN</td>\n",
       "      <td>NaN</td>\n",
       "      <td>42.0</td>\n",
       "      <td>21346.95</td>\n",
       "      <td>ultimate</td>\n",
       "      <td>others</td>\n",
       "    </tr>\n",
       "    <tr>\n",
       "      <th>2288</th>\n",
       "      <td>1204</td>\n",
       "      <td>12</td>\n",
       "      <td>NaN</td>\n",
       "      <td>NaN</td>\n",
       "      <td>78.0</td>\n",
       "      <td>36730.05</td>\n",
       "      <td>ultimate</td>\n",
       "      <td>others</td>\n",
       "    </tr>\n",
       "    <tr>\n",
       "      <th>2289</th>\n",
       "      <td>1349</td>\n",
       "      <td>10</td>\n",
       "      <td>NaN</td>\n",
       "      <td>NaN</td>\n",
       "      <td>76.0</td>\n",
       "      <td>13093.55</td>\n",
       "      <td>surf</td>\n",
       "      <td>others</td>\n",
       "    </tr>\n",
       "    <tr>\n",
       "      <th>2290</th>\n",
       "      <td>1349</td>\n",
       "      <td>11</td>\n",
       "      <td>NaN</td>\n",
       "      <td>NaN</td>\n",
       "      <td>72.0</td>\n",
       "      <td>17128.26</td>\n",
       "      <td>surf</td>\n",
       "      <td>others</td>\n",
       "    </tr>\n",
       "    <tr>\n",
       "      <th>2291</th>\n",
       "      <td>1349</td>\n",
       "      <td>12</td>\n",
       "      <td>NaN</td>\n",
       "      <td>NaN</td>\n",
       "      <td>61.0</td>\n",
       "      <td>13039.91</td>\n",
       "      <td>surf</td>\n",
       "      <td>others</td>\n",
       "    </tr>\n",
       "    <tr>\n",
       "      <th>2292</th>\n",
       "      <td>1108</td>\n",
       "      <td>12</td>\n",
       "      <td>NaN</td>\n",
       "      <td>NaN</td>\n",
       "      <td>NaN</td>\n",
       "      <td>233.17</td>\n",
       "      <td>ultimate</td>\n",
       "      <td>others</td>\n",
       "    </tr>\n",
       "  </tbody>\n",
       "</table>\n",
       "</div>"
      ],
      "text/plain": [
       "      user_id  month  calls_month_count  calls_month_duration  sms_per_month  \\\n",
       "104      1028      2                NaN                   NaN           12.0   \n",
       "1045     1224      6                NaN                   NaN            5.0   \n",
       "1398     1311      6                NaN                   NaN            NaN   \n",
       "1645     1361      5                NaN                   NaN            2.0   \n",
       "2182     1482     10                NaN                   NaN            2.0   \n",
       "2263     1080      8                NaN                   NaN           31.0   \n",
       "2264     1080      9                NaN                   NaN           64.0   \n",
       "2265     1080     10                NaN                   NaN           59.0   \n",
       "2266     1080     11                NaN                   NaN           50.0   \n",
       "2267     1080     12                NaN                   NaN           61.0   \n",
       "2268     1089     12                NaN                   NaN           27.0   \n",
       "2269     1121     11                NaN                   NaN            1.0   \n",
       "2270     1121     12                NaN                   NaN           97.0   \n",
       "2271     1131      5                NaN                   NaN           18.0   \n",
       "2272     1131      6                NaN                   NaN           27.0   \n",
       "2273     1131      7                NaN                   NaN           28.0   \n",
       "2274     1131      8                NaN                   NaN           33.0   \n",
       "2275     1131      9                NaN                   NaN           26.0   \n",
       "2276     1131     10                NaN                   NaN           31.0   \n",
       "2277     1131     11                NaN                   NaN           20.0   \n",
       "2278     1131     12                NaN                   NaN           33.0   \n",
       "2279     1137     10                NaN                   NaN           48.0   \n",
       "2280     1137     11                NaN                   NaN           64.0   \n",
       "2281     1137     12                NaN                   NaN           56.0   \n",
       "2282     1194      8                NaN                   NaN           10.0   \n",
       "2283     1194      9                NaN                   NaN           76.0   \n",
       "2284     1194     10                NaN                   NaN           88.0   \n",
       "2285     1194     11                NaN                   NaN           62.0   \n",
       "2286     1194     12                NaN                   NaN           56.0   \n",
       "2287     1204     11                NaN                   NaN           42.0   \n",
       "2288     1204     12                NaN                   NaN           78.0   \n",
       "2289     1349     10                NaN                   NaN           76.0   \n",
       "2290     1349     11                NaN                   NaN           72.0   \n",
       "2291     1349     12                NaN                   NaN           61.0   \n",
       "2292     1108     12                NaN                   NaN            NaN   \n",
       "\n",
       "      mb_per_month    tariff    city  \n",
       "104       12591.91  ultimate  others  \n",
       "1045       2966.21  ultimate  others  \n",
       "1398       1498.83  ultimate  others  \n",
       "1645       1519.69      surf  others  \n",
       "2182           NaN  ultimate   NY-NJ  \n",
       "2263      20519.74      surf   NY-NJ  \n",
       "2264      25499.72      surf   NY-NJ  \n",
       "2265      30161.57      surf   NY-NJ  \n",
       "2266      33559.88      surf   NY-NJ  \n",
       "2267      24543.42      surf   NY-NJ  \n",
       "2268      16597.91      surf  others  \n",
       "2269       1236.65      surf  others  \n",
       "2270      66863.89      surf  others  \n",
       "2271       6468.11      surf  others  \n",
       "2272      14637.04      surf  others  \n",
       "2273      16564.01      surf  others  \n",
       "2274      12271.78      surf  others  \n",
       "2275      15594.75      surf  others  \n",
       "2276      21292.61      surf  others  \n",
       "2277      13697.04      surf  others  \n",
       "2278      15212.42      surf  others  \n",
       "2279       7002.91      surf  others  \n",
       "2280       3084.69      surf  others  \n",
       "2281       6745.66      surf  others  \n",
       "2282       5704.93      surf  others  \n",
       "2283      37298.02      surf  others  \n",
       "2284      31538.39      surf  others  \n",
       "2285      42866.10      surf  others  \n",
       "2286      31088.49      surf  others  \n",
       "2287      21346.95  ultimate  others  \n",
       "2288      36730.05  ultimate  others  \n",
       "2289      13093.55      surf  others  \n",
       "2290      17128.26      surf  others  \n",
       "2291      13039.91      surf  others  \n",
       "2292        233.17  ultimate  others  "
      ]
     },
     "execution_count": 21,
     "metadata": {},
     "output_type": "execute_result"
    }
   ],
   "source": [
    "# look at the missing rows\n",
    "print(monthly_data.isna().sum())\n",
    "\n",
    "# look at the missing rows in column `calls_month_duration`\n",
    "monthly_data[monthly_data.calls_month_duration.isna()]"
   ]
  },
  {
   "cell_type": "markdown",
   "metadata": {},
   "source": [
    "The missing values look like this `user_id` only uses the internet and it would be logical to replace the missing values in columns with 0."
   ]
  },
  {
   "cell_type": "code",
   "execution_count": 22,
   "metadata": {},
   "outputs": [
    {
     "data": {
      "text/html": [
       "<div>\n",
       "<style scoped>\n",
       "    .dataframe tbody tr th:only-of-type {\n",
       "        vertical-align: middle;\n",
       "    }\n",
       "\n",
       "    .dataframe tbody tr th {\n",
       "        vertical-align: top;\n",
       "    }\n",
       "\n",
       "    .dataframe thead th {\n",
       "        text-align: right;\n",
       "    }\n",
       "</style>\n",
       "<table border=\"1\" class=\"dataframe\">\n",
       "  <thead>\n",
       "    <tr style=\"text-align: right;\">\n",
       "      <th></th>\n",
       "      <th>user_id</th>\n",
       "      <th>month</th>\n",
       "      <th>calls_month_count</th>\n",
       "      <th>calls_month_duration</th>\n",
       "      <th>sms_per_month</th>\n",
       "      <th>mb_per_month</th>\n",
       "      <th>tariff</th>\n",
       "      <th>city</th>\n",
       "    </tr>\n",
       "  </thead>\n",
       "  <tbody>\n",
       "    <tr>\n",
       "      <th>29</th>\n",
       "      <td>1009</td>\n",
       "      <td>5</td>\n",
       "      <td>71.0</td>\n",
       "      <td>534.0</td>\n",
       "      <td>NaN</td>\n",
       "      <td>20389.40</td>\n",
       "      <td>surf</td>\n",
       "      <td>others</td>\n",
       "    </tr>\n",
       "    <tr>\n",
       "      <th>30</th>\n",
       "      <td>1009</td>\n",
       "      <td>6</td>\n",
       "      <td>110.0</td>\n",
       "      <td>823.0</td>\n",
       "      <td>NaN</td>\n",
       "      <td>18845.90</td>\n",
       "      <td>surf</td>\n",
       "      <td>others</td>\n",
       "    </tr>\n",
       "    <tr>\n",
       "      <th>31</th>\n",
       "      <td>1009</td>\n",
       "      <td>7</td>\n",
       "      <td>124.0</td>\n",
       "      <td>880.0</td>\n",
       "      <td>NaN</td>\n",
       "      <td>30421.65</td>\n",
       "      <td>surf</td>\n",
       "      <td>others</td>\n",
       "    </tr>\n",
       "    <tr>\n",
       "      <th>32</th>\n",
       "      <td>1009</td>\n",
       "      <td>8</td>\n",
       "      <td>109.0</td>\n",
       "      <td>731.0</td>\n",
       "      <td>NaN</td>\n",
       "      <td>24557.52</td>\n",
       "      <td>surf</td>\n",
       "      <td>others</td>\n",
       "    </tr>\n",
       "    <tr>\n",
       "      <th>33</th>\n",
       "      <td>1009</td>\n",
       "      <td>9</td>\n",
       "      <td>116.0</td>\n",
       "      <td>776.0</td>\n",
       "      <td>NaN</td>\n",
       "      <td>20962.40</td>\n",
       "      <td>surf</td>\n",
       "      <td>others</td>\n",
       "    </tr>\n",
       "    <tr>\n",
       "      <th>...</th>\n",
       "      <td>...</td>\n",
       "      <td>...</td>\n",
       "      <td>...</td>\n",
       "      <td>...</td>\n",
       "      <td>...</td>\n",
       "      <td>...</td>\n",
       "      <td>...</td>\n",
       "      <td>...</td>\n",
       "    </tr>\n",
       "    <tr>\n",
       "      <th>2259</th>\n",
       "      <td>1499</td>\n",
       "      <td>9</td>\n",
       "      <td>41.0</td>\n",
       "      <td>346.0</td>\n",
       "      <td>NaN</td>\n",
       "      <td>12984.76</td>\n",
       "      <td>surf</td>\n",
       "      <td>others</td>\n",
       "    </tr>\n",
       "    <tr>\n",
       "      <th>2260</th>\n",
       "      <td>1499</td>\n",
       "      <td>10</td>\n",
       "      <td>53.0</td>\n",
       "      <td>385.0</td>\n",
       "      <td>NaN</td>\n",
       "      <td>19492.43</td>\n",
       "      <td>surf</td>\n",
       "      <td>others</td>\n",
       "    </tr>\n",
       "    <tr>\n",
       "      <th>2261</th>\n",
       "      <td>1499</td>\n",
       "      <td>11</td>\n",
       "      <td>45.0</td>\n",
       "      <td>308.0</td>\n",
       "      <td>NaN</td>\n",
       "      <td>16813.83</td>\n",
       "      <td>surf</td>\n",
       "      <td>others</td>\n",
       "    </tr>\n",
       "    <tr>\n",
       "      <th>2262</th>\n",
       "      <td>1499</td>\n",
       "      <td>12</td>\n",
       "      <td>65.0</td>\n",
       "      <td>496.0</td>\n",
       "      <td>NaN</td>\n",
       "      <td>22059.21</td>\n",
       "      <td>surf</td>\n",
       "      <td>others</td>\n",
       "    </tr>\n",
       "    <tr>\n",
       "      <th>2292</th>\n",
       "      <td>1108</td>\n",
       "      <td>12</td>\n",
       "      <td>NaN</td>\n",
       "      <td>NaN</td>\n",
       "      <td>NaN</td>\n",
       "      <td>233.17</td>\n",
       "      <td>ultimate</td>\n",
       "      <td>others</td>\n",
       "    </tr>\n",
       "  </tbody>\n",
       "</table>\n",
       "<p>487 rows × 8 columns</p>\n",
       "</div>"
      ],
      "text/plain": [
       "      user_id  month  calls_month_count  calls_month_duration  sms_per_month  \\\n",
       "29       1009      5               71.0                 534.0            NaN   \n",
       "30       1009      6              110.0                 823.0            NaN   \n",
       "31       1009      7              124.0                 880.0            NaN   \n",
       "32       1009      8              109.0                 731.0            NaN   \n",
       "33       1009      9              116.0                 776.0            NaN   \n",
       "...       ...    ...                ...                   ...            ...   \n",
       "2259     1499      9               41.0                 346.0            NaN   \n",
       "2260     1499     10               53.0                 385.0            NaN   \n",
       "2261     1499     11               45.0                 308.0            NaN   \n",
       "2262     1499     12               65.0                 496.0            NaN   \n",
       "2292     1108     12                NaN                   NaN            NaN   \n",
       "\n",
       "      mb_per_month    tariff    city  \n",
       "29        20389.40      surf  others  \n",
       "30        18845.90      surf  others  \n",
       "31        30421.65      surf  others  \n",
       "32        24557.52      surf  others  \n",
       "33        20962.40      surf  others  \n",
       "...            ...       ...     ...  \n",
       "2259      12984.76      surf  others  \n",
       "2260      19492.43      surf  others  \n",
       "2261      16813.83      surf  others  \n",
       "2262      22059.21      surf  others  \n",
       "2292        233.17  ultimate  others  \n",
       "\n",
       "[487 rows x 8 columns]"
      ]
     },
     "execution_count": 22,
     "metadata": {},
     "output_type": "execute_result"
    }
   ],
   "source": [
    "# look at the missing rows in column `calls_month_duration`\n",
    "monthly_data[monthly_data.sms_per_month.isna()]"
   ]
  },
  {
   "cell_type": "markdown",
   "metadata": {},
   "source": [
    "The missing values in column `sms_per_month` look like this `user_id` only uses the calls and internet and it would be logical to replace the missing values in this column with 0."
   ]
  },
  {
   "cell_type": "code",
   "execution_count": 23,
   "metadata": {},
   "outputs": [
    {
     "name": "stdout",
     "output_type": "stream",
     "text": [
      "user_id                 0\n",
      "month                   0\n",
      "calls_month_count       0\n",
      "calls_month_duration    0\n",
      "sms_per_month           0\n",
      "mb_per_month            0\n",
      "tariff                  0\n",
      "city                    0\n",
      "dtype: int64\n"
     ]
    },
    {
     "data": {
      "text/plain": [
       "user_id                     1108\n",
       "month                         12\n",
       "calls_month_count            0.0\n",
       "calls_month_duration         0.0\n",
       "sms_per_month                0.0\n",
       "mb_per_month              233.17\n",
       "tariff                  ultimate\n",
       "city                      others\n",
       "Name: 2292, dtype: object"
      ]
     },
     "execution_count": 23,
     "metadata": {},
     "output_type": "execute_result"
    }
   ],
   "source": [
    "# filling the missing values on null\n",
    "monthly_data = monthly_data.fillna(0)\n",
    "print(monthly_data.isna().sum())\n",
    "\n",
    "#check in slice\n",
    "monthly_data.iloc[2292]"
   ]
  },
  {
   "cell_type": "code",
   "execution_count": 24,
   "metadata": {
    "scrolled": true
   },
   "outputs": [
    {
     "data": {
      "text/plain": [
       "surf        1573\n",
       "ultimate     720\n",
       "Name: tariff, dtype: int64"
      ]
     },
     "execution_count": 24,
     "metadata": {},
     "output_type": "execute_result"
    }
   ],
   "source": [
    "# check the number of the users for each tariff\n",
    "monthly_data['tariff'].value_counts()"
   ]
  },
  {
   "cell_type": "code",
   "execution_count": 25,
   "metadata": {},
   "outputs": [],
   "source": [
    "# Let's change the data type from float to integer\n",
    "monthly_data[['calls_month_count','calls_month_duration',\n",
    "              'sms_per_month','mb_per_month']] = monthly_data[['calls_month_count','calls_month_duration',\n",
    "                                                               'sms_per_month','mb_per_month']].astype(np.int64)"
   ]
  },
  {
   "cell_type": "code",
   "execution_count": 26,
   "metadata": {},
   "outputs": [
    {
     "data": {
      "text/html": [
       "<div>\n",
       "<style scoped>\n",
       "    .dataframe tbody tr th:only-of-type {\n",
       "        vertical-align: middle;\n",
       "    }\n",
       "\n",
       "    .dataframe tbody tr th {\n",
       "        vertical-align: top;\n",
       "    }\n",
       "\n",
       "    .dataframe thead th {\n",
       "        text-align: right;\n",
       "    }\n",
       "</style>\n",
       "<table border=\"1\" class=\"dataframe\">\n",
       "  <thead>\n",
       "    <tr style=\"text-align: right;\">\n",
       "      <th></th>\n",
       "      <th>user_id</th>\n",
       "      <th>month</th>\n",
       "      <th>calls_month_count</th>\n",
       "      <th>calls_month_duration</th>\n",
       "      <th>sms_per_month</th>\n",
       "      <th>mb_per_month</th>\n",
       "      <th>tariff</th>\n",
       "      <th>city</th>\n",
       "    </tr>\n",
       "  </thead>\n",
       "  <tbody>\n",
       "    <tr>\n",
       "      <th>0</th>\n",
       "      <td>1000</td>\n",
       "      <td>12</td>\n",
       "      <td>16</td>\n",
       "      <td>124</td>\n",
       "      <td>11</td>\n",
       "      <td>1901</td>\n",
       "      <td>ultimate</td>\n",
       "      <td>others</td>\n",
       "    </tr>\n",
       "    <tr>\n",
       "      <th>1</th>\n",
       "      <td>1001</td>\n",
       "      <td>8</td>\n",
       "      <td>27</td>\n",
       "      <td>182</td>\n",
       "      <td>30</td>\n",
       "      <td>6919</td>\n",
       "      <td>surf</td>\n",
       "      <td>others</td>\n",
       "    </tr>\n",
       "    <tr>\n",
       "      <th>2</th>\n",
       "      <td>1001</td>\n",
       "      <td>9</td>\n",
       "      <td>49</td>\n",
       "      <td>315</td>\n",
       "      <td>44</td>\n",
       "      <td>13314</td>\n",
       "      <td>surf</td>\n",
       "      <td>others</td>\n",
       "    </tr>\n",
       "    <tr>\n",
       "      <th>3</th>\n",
       "      <td>1001</td>\n",
       "      <td>10</td>\n",
       "      <td>65</td>\n",
       "      <td>393</td>\n",
       "      <td>53</td>\n",
       "      <td>22330</td>\n",
       "      <td>surf</td>\n",
       "      <td>others</td>\n",
       "    </tr>\n",
       "    <tr>\n",
       "      <th>4</th>\n",
       "      <td>1001</td>\n",
       "      <td>11</td>\n",
       "      <td>64</td>\n",
       "      <td>426</td>\n",
       "      <td>36</td>\n",
       "      <td>18504</td>\n",
       "      <td>surf</td>\n",
       "      <td>others</td>\n",
       "    </tr>\n",
       "  </tbody>\n",
       "</table>\n",
       "</div>"
      ],
      "text/plain": [
       "   user_id  month  calls_month_count  calls_month_duration  sms_per_month  \\\n",
       "0     1000     12                 16                   124             11   \n",
       "1     1001      8                 27                   182             30   \n",
       "2     1001      9                 49                   315             44   \n",
       "3     1001     10                 65                   393             53   \n",
       "4     1001     11                 64                   426             36   \n",
       "\n",
       "   mb_per_month    tariff    city  \n",
       "0          1901  ultimate  others  \n",
       "1          6919      surf  others  \n",
       "2         13314      surf  others  \n",
       "3         22330      surf  others  \n",
       "4         18504      surf  others  "
      ]
     },
     "execution_count": 26,
     "metadata": {},
     "output_type": "execute_result"
    }
   ],
   "source": [
    "monthly_data.head()"
   ]
  },
  {
   "cell_type": "markdown",
   "metadata": {},
   "source": [
    "## Revenue counts"
   ]
  },
  {
   "cell_type": "markdown",
   "metadata": {},
   "source": [
    "Call the data with information about tariffs"
   ]
  },
  {
   "cell_type": "code",
   "execution_count": 27,
   "metadata": {},
   "outputs": [
    {
     "data": {
      "text/html": [
       "<div>\n",
       "<style scoped>\n",
       "    .dataframe tbody tr th:only-of-type {\n",
       "        vertical-align: middle;\n",
       "    }\n",
       "\n",
       "    .dataframe tbody tr th {\n",
       "        vertical-align: top;\n",
       "    }\n",
       "\n",
       "    .dataframe thead th {\n",
       "        text-align: right;\n",
       "    }\n",
       "</style>\n",
       "<table border=\"1\" class=\"dataframe\">\n",
       "  <thead>\n",
       "    <tr style=\"text-align: right;\">\n",
       "      <th></th>\n",
       "      <th>user_id</th>\n",
       "      <th>month</th>\n",
       "      <th>calls_month_count</th>\n",
       "      <th>calls_month_duration</th>\n",
       "      <th>sms_per_month</th>\n",
       "      <th>mb_per_month</th>\n",
       "      <th>tariff</th>\n",
       "      <th>city</th>\n",
       "    </tr>\n",
       "  </thead>\n",
       "  <tbody>\n",
       "    <tr>\n",
       "      <th>0</th>\n",
       "      <td>1000</td>\n",
       "      <td>12</td>\n",
       "      <td>16</td>\n",
       "      <td>124</td>\n",
       "      <td>11</td>\n",
       "      <td>1901</td>\n",
       "      <td>ultimate</td>\n",
       "      <td>others</td>\n",
       "    </tr>\n",
       "    <tr>\n",
       "      <th>1</th>\n",
       "      <td>1001</td>\n",
       "      <td>8</td>\n",
       "      <td>27</td>\n",
       "      <td>182</td>\n",
       "      <td>30</td>\n",
       "      <td>6919</td>\n",
       "      <td>surf</td>\n",
       "      <td>others</td>\n",
       "    </tr>\n",
       "    <tr>\n",
       "      <th>2</th>\n",
       "      <td>1001</td>\n",
       "      <td>9</td>\n",
       "      <td>49</td>\n",
       "      <td>315</td>\n",
       "      <td>44</td>\n",
       "      <td>13314</td>\n",
       "      <td>surf</td>\n",
       "      <td>others</td>\n",
       "    </tr>\n",
       "    <tr>\n",
       "      <th>3</th>\n",
       "      <td>1001</td>\n",
       "      <td>10</td>\n",
       "      <td>65</td>\n",
       "      <td>393</td>\n",
       "      <td>53</td>\n",
       "      <td>22330</td>\n",
       "      <td>surf</td>\n",
       "      <td>others</td>\n",
       "    </tr>\n",
       "    <tr>\n",
       "      <th>4</th>\n",
       "      <td>1001</td>\n",
       "      <td>11</td>\n",
       "      <td>64</td>\n",
       "      <td>426</td>\n",
       "      <td>36</td>\n",
       "      <td>18504</td>\n",
       "      <td>surf</td>\n",
       "      <td>others</td>\n",
       "    </tr>\n",
       "    <tr>\n",
       "      <th>...</th>\n",
       "      <td>...</td>\n",
       "      <td>...</td>\n",
       "      <td>...</td>\n",
       "      <td>...</td>\n",
       "      <td>...</td>\n",
       "      <td>...</td>\n",
       "      <td>...</td>\n",
       "      <td>...</td>\n",
       "    </tr>\n",
       "    <tr>\n",
       "      <th>2288</th>\n",
       "      <td>1204</td>\n",
       "      <td>12</td>\n",
       "      <td>0</td>\n",
       "      <td>0</td>\n",
       "      <td>78</td>\n",
       "      <td>36730</td>\n",
       "      <td>ultimate</td>\n",
       "      <td>others</td>\n",
       "    </tr>\n",
       "    <tr>\n",
       "      <th>2289</th>\n",
       "      <td>1349</td>\n",
       "      <td>10</td>\n",
       "      <td>0</td>\n",
       "      <td>0</td>\n",
       "      <td>76</td>\n",
       "      <td>13093</td>\n",
       "      <td>surf</td>\n",
       "      <td>others</td>\n",
       "    </tr>\n",
       "    <tr>\n",
       "      <th>2290</th>\n",
       "      <td>1349</td>\n",
       "      <td>11</td>\n",
       "      <td>0</td>\n",
       "      <td>0</td>\n",
       "      <td>72</td>\n",
       "      <td>17128</td>\n",
       "      <td>surf</td>\n",
       "      <td>others</td>\n",
       "    </tr>\n",
       "    <tr>\n",
       "      <th>2291</th>\n",
       "      <td>1349</td>\n",
       "      <td>12</td>\n",
       "      <td>0</td>\n",
       "      <td>0</td>\n",
       "      <td>61</td>\n",
       "      <td>13039</td>\n",
       "      <td>surf</td>\n",
       "      <td>others</td>\n",
       "    </tr>\n",
       "    <tr>\n",
       "      <th>2292</th>\n",
       "      <td>1108</td>\n",
       "      <td>12</td>\n",
       "      <td>0</td>\n",
       "      <td>0</td>\n",
       "      <td>0</td>\n",
       "      <td>233</td>\n",
       "      <td>ultimate</td>\n",
       "      <td>others</td>\n",
       "    </tr>\n",
       "  </tbody>\n",
       "</table>\n",
       "<p>2293 rows × 8 columns</p>\n",
       "</div>"
      ],
      "text/plain": [
       "      user_id  month  calls_month_count  calls_month_duration  sms_per_month  \\\n",
       "0        1000     12                 16                   124             11   \n",
       "1        1001      8                 27                   182             30   \n",
       "2        1001      9                 49                   315             44   \n",
       "3        1001     10                 65                   393             53   \n",
       "4        1001     11                 64                   426             36   \n",
       "...       ...    ...                ...                   ...            ...   \n",
       "2288     1204     12                  0                     0             78   \n",
       "2289     1349     10                  0                     0             76   \n",
       "2290     1349     11                  0                     0             72   \n",
       "2291     1349     12                  0                     0             61   \n",
       "2292     1108     12                  0                     0              0   \n",
       "\n",
       "      mb_per_month    tariff    city  \n",
       "0             1901  ultimate  others  \n",
       "1             6919      surf  others  \n",
       "2            13314      surf  others  \n",
       "3            22330      surf  others  \n",
       "4            18504      surf  others  \n",
       "...            ...       ...     ...  \n",
       "2288         36730  ultimate  others  \n",
       "2289         13093      surf  others  \n",
       "2290         17128      surf  others  \n",
       "2291         13039      surf  others  \n",
       "2292           233  ultimate  others  \n",
       "\n",
       "[2293 rows x 8 columns]"
      ]
     },
     "execution_count": 27,
     "metadata": {},
     "output_type": "execute_result"
    }
   ],
   "source": [
    "plans.head()\n",
    "monthly_data"
   ]
  },
  {
   "cell_type": "code",
   "execution_count": 28,
   "metadata": {},
   "outputs": [],
   "source": [
    "# we write a function for two data\n",
    "# it will take our data from the table with monthly tariffs for users \n",
    "# and the second data with full information about tariffs\n",
    "# depending on the tariff, the corresponding calculations will be made\n",
    "\n",
    "def revenue_month(month, data):\n",
    "    \n",
    "    revenue = []\n",
    "    revenue_month = 0\n",
    "    \n",
    "    #initialize surf variables\n",
    "    lim_m_surf = data.loc[0][2]\n",
    "    lim_sms_surf = data.loc[0][0]\n",
    "    lim_mb_surf = data.loc[0][1]\n",
    "    \n",
    "    over_m_surf = data.loc[0][6]\n",
    "    over_sms_surf = data.loc[0][5]\n",
    "    over_mb_surf = data.loc[0][4]\n",
    "    \n",
    "    #initialize ultimate variables\n",
    "    lim_m_ult = data.loc[1][2]\n",
    "    lim_sms_ult = data.loc[1][0]\n",
    "    lim_mb_ult = data.loc[1][1]\n",
    "    \n",
    "    over_m_ult = data.loc[1][6]\n",
    "    over_sms_ult = data.loc[1][5]\n",
    "    over_mb_ult = data.loc[1][4]\n",
    "    \n",
    "    #initialize Tariff's fee variables\n",
    "    surf_fee = data.loc[0][3]\n",
    "    ult_fee = data.loc[1][3]\n",
    "    \n",
    "    #iterate row by row our data from the table\n",
    "    for i, row in month.iterrows():\n",
    "        if row.tariff == 'surf':\n",
    "            \n",
    "            #determine if user exceeds calls allowance\n",
    "            extra_call = 0\n",
    "            if  lim_m_surf < row.calls_month_duration:\n",
    "                extra_call = row.calls_month_duration - lim_m_surf\n",
    "                \n",
    "            #determine if user exceeds text allowance    \n",
    "            extra_sms = 0\n",
    "            if lim_sms_surf < row.sms_per_month:\n",
    "                extra_sms = row.sms_per_month - lim_sms_surf\n",
    "                \n",
    "            #determine if user exceeds internet allowance    \n",
    "            extra_mb = 0    \n",
    "            if lim_mb_surf < row.mb_per_month:\n",
    "                extra_mb = row.mb_per_month - lim_mb_surf\n",
    "            #create monthly revenue\n",
    "            revenue_month = (extra_call*over_m_surf + extra_sms*over_sms_surf + mt.ceil(extra_mb/1024)*over_mb_surf) + surf_fee\n",
    "            # add our revenue to data\n",
    "            revenue.append(revenue_month)\n",
    "        # all the same for the ultimate plan    \n",
    "        else:\n",
    "            extra_call = 0\n",
    "            if  lim_m_ult < row.calls_month_duration:\n",
    "                extra_call = row.calls_month_duration - lim_m_ult\n",
    "                \n",
    "            extra_sms = 0\n",
    "            if lim_sms_ult < row.sms_per_month:\n",
    "                extra_sms = row.sms_per_month - lim_sms_ult\n",
    "            extra_mb = 0    \n",
    "            if lim_mb_ult < row.mb_per_month:\n",
    "                extra_mb = row.mb_per_month - lim_mb_ult\n",
    "            \n",
    "            revenue_month = (extra_call*over_m_ult + extra_sms*over_sms_ult + mt.ceil(extra_mb/1024)*over_mb_ult) + ult_fee\n",
    "            revenue.append(revenue_month)\n",
    "    return revenue\n",
    "         "
   ]
  },
  {
   "cell_type": "code",
   "execution_count": 29,
   "metadata": {},
   "outputs": [
    {
     "data": {
      "text/html": [
       "<div>\n",
       "<style scoped>\n",
       "    .dataframe tbody tr th:only-of-type {\n",
       "        vertical-align: middle;\n",
       "    }\n",
       "\n",
       "    .dataframe tbody tr th {\n",
       "        vertical-align: top;\n",
       "    }\n",
       "\n",
       "    .dataframe thead th {\n",
       "        text-align: right;\n",
       "    }\n",
       "</style>\n",
       "<table border=\"1\" class=\"dataframe\">\n",
       "  <thead>\n",
       "    <tr style=\"text-align: right;\">\n",
       "      <th></th>\n",
       "      <th>user_id</th>\n",
       "      <th>month</th>\n",
       "      <th>calls_month_count</th>\n",
       "      <th>calls_month_duration</th>\n",
       "      <th>sms_per_month</th>\n",
       "      <th>mb_per_month</th>\n",
       "      <th>tariff</th>\n",
       "      <th>city</th>\n",
       "      <th>revenue_month</th>\n",
       "    </tr>\n",
       "  </thead>\n",
       "  <tbody>\n",
       "    <tr>\n",
       "      <th>0</th>\n",
       "      <td>1000</td>\n",
       "      <td>12</td>\n",
       "      <td>16</td>\n",
       "      <td>124</td>\n",
       "      <td>11</td>\n",
       "      <td>1901</td>\n",
       "      <td>ultimate</td>\n",
       "      <td>others</td>\n",
       "      <td>70.00</td>\n",
       "    </tr>\n",
       "    <tr>\n",
       "      <th>1</th>\n",
       "      <td>1001</td>\n",
       "      <td>8</td>\n",
       "      <td>27</td>\n",
       "      <td>182</td>\n",
       "      <td>30</td>\n",
       "      <td>6919</td>\n",
       "      <td>surf</td>\n",
       "      <td>others</td>\n",
       "      <td>20.00</td>\n",
       "    </tr>\n",
       "    <tr>\n",
       "      <th>2</th>\n",
       "      <td>1001</td>\n",
       "      <td>9</td>\n",
       "      <td>49</td>\n",
       "      <td>315</td>\n",
       "      <td>44</td>\n",
       "      <td>13314</td>\n",
       "      <td>surf</td>\n",
       "      <td>others</td>\n",
       "      <td>20.00</td>\n",
       "    </tr>\n",
       "    <tr>\n",
       "      <th>3</th>\n",
       "      <td>1001</td>\n",
       "      <td>10</td>\n",
       "      <td>65</td>\n",
       "      <td>393</td>\n",
       "      <td>53</td>\n",
       "      <td>22330</td>\n",
       "      <td>surf</td>\n",
       "      <td>others</td>\n",
       "      <td>90.09</td>\n",
       "    </tr>\n",
       "    <tr>\n",
       "      <th>4</th>\n",
       "      <td>1001</td>\n",
       "      <td>11</td>\n",
       "      <td>64</td>\n",
       "      <td>426</td>\n",
       "      <td>36</td>\n",
       "      <td>18504</td>\n",
       "      <td>surf</td>\n",
       "      <td>others</td>\n",
       "      <td>60.00</td>\n",
       "    </tr>\n",
       "    <tr>\n",
       "      <th>5</th>\n",
       "      <td>1001</td>\n",
       "      <td>12</td>\n",
       "      <td>56</td>\n",
       "      <td>412</td>\n",
       "      <td>44</td>\n",
       "      <td>19369</td>\n",
       "      <td>surf</td>\n",
       "      <td>others</td>\n",
       "      <td>60.00</td>\n",
       "    </tr>\n",
       "    <tr>\n",
       "      <th>6</th>\n",
       "      <td>1002</td>\n",
       "      <td>10</td>\n",
       "      <td>11</td>\n",
       "      <td>59</td>\n",
       "      <td>15</td>\n",
       "      <td>6552</td>\n",
       "      <td>surf</td>\n",
       "      <td>others</td>\n",
       "      <td>20.00</td>\n",
       "    </tr>\n",
       "    <tr>\n",
       "      <th>7</th>\n",
       "      <td>1002</td>\n",
       "      <td>11</td>\n",
       "      <td>55</td>\n",
       "      <td>386</td>\n",
       "      <td>32</td>\n",
       "      <td>19345</td>\n",
       "      <td>surf</td>\n",
       "      <td>others</td>\n",
       "      <td>60.00</td>\n",
       "    </tr>\n",
       "    <tr>\n",
       "      <th>8</th>\n",
       "      <td>1002</td>\n",
       "      <td>12</td>\n",
       "      <td>47</td>\n",
       "      <td>384</td>\n",
       "      <td>41</td>\n",
       "      <td>14396</td>\n",
       "      <td>surf</td>\n",
       "      <td>others</td>\n",
       "      <td>20.00</td>\n",
       "    </tr>\n",
       "    <tr>\n",
       "      <th>9</th>\n",
       "      <td>1003</td>\n",
       "      <td>12</td>\n",
       "      <td>149</td>\n",
       "      <td>1104</td>\n",
       "      <td>50</td>\n",
       "      <td>27044</td>\n",
       "      <td>surf</td>\n",
       "      <td>others</td>\n",
       "      <td>158.12</td>\n",
       "    </tr>\n",
       "  </tbody>\n",
       "</table>\n",
       "</div>"
      ],
      "text/plain": [
       "   user_id  month  calls_month_count  calls_month_duration  sms_per_month  \\\n",
       "0     1000     12                 16                   124             11   \n",
       "1     1001      8                 27                   182             30   \n",
       "2     1001      9                 49                   315             44   \n",
       "3     1001     10                 65                   393             53   \n",
       "4     1001     11                 64                   426             36   \n",
       "5     1001     12                 56                   412             44   \n",
       "6     1002     10                 11                    59             15   \n",
       "7     1002     11                 55                   386             32   \n",
       "8     1002     12                 47                   384             41   \n",
       "9     1003     12                149                  1104             50   \n",
       "\n",
       "   mb_per_month    tariff    city  revenue_month  \n",
       "0          1901  ultimate  others          70.00  \n",
       "1          6919      surf  others          20.00  \n",
       "2         13314      surf  others          20.00  \n",
       "3         22330      surf  others          90.09  \n",
       "4         18504      surf  others          60.00  \n",
       "5         19369      surf  others          60.00  \n",
       "6          6552      surf  others          20.00  \n",
       "7         19345      surf  others          60.00  \n",
       "8         14396      surf  others          20.00  \n",
       "9         27044      surf  others         158.12  "
      ]
     },
     "execution_count": 29,
     "metadata": {},
     "output_type": "execute_result"
    }
   ],
   "source": [
    "# adding a new column by applying our function on monthly data and plans\n",
    "monthly_data['revenue_month'] = revenue_month(monthly_data, plans)\n",
    "monthly_data.head(10)"
   ]
  },
  {
   "cell_type": "markdown",
   "metadata": {},
   "source": [
    "**Conclusions**\n",
    "\n"
   ]
  },
  {
   "cell_type": "code",
   "execution_count": 30,
   "metadata": {},
   "outputs": [
    {
     "data": {
      "text/html": [
       "<div>\n",
       "<style scoped>\n",
       "    .dataframe tbody tr th:only-of-type {\n",
       "        vertical-align: middle;\n",
       "    }\n",
       "\n",
       "    .dataframe tbody tr th {\n",
       "        vertical-align: top;\n",
       "    }\n",
       "\n",
       "    .dataframe thead th {\n",
       "        text-align: right;\n",
       "    }\n",
       "</style>\n",
       "<table border=\"1\" class=\"dataframe\">\n",
       "  <thead>\n",
       "    <tr style=\"text-align: right;\">\n",
       "      <th></th>\n",
       "      <th>user_id</th>\n",
       "      <th>month</th>\n",
       "      <th>call_count</th>\n",
       "      <th>minutes</th>\n",
       "      <th>sms</th>\n",
       "      <th>internet</th>\n",
       "      <th>revenue</th>\n",
       "    </tr>\n",
       "  </thead>\n",
       "  <tbody>\n",
       "    <tr>\n",
       "      <th>count</th>\n",
       "      <td>2293.000000</td>\n",
       "      <td>2293.000000</td>\n",
       "      <td>2293.000000</td>\n",
       "      <td>2293.000000</td>\n",
       "      <td>2293.000000</td>\n",
       "      <td>2293.000000</td>\n",
       "      <td>2293.000000</td>\n",
       "    </tr>\n",
       "    <tr>\n",
       "      <th>mean</th>\n",
       "      <td>1246.075883</td>\n",
       "      <td>9.172700</td>\n",
       "      <td>60.067597</td>\n",
       "      <td>429.283471</td>\n",
       "      <td>33.166594</td>\n",
       "      <td>16763.906672</td>\n",
       "      <td>64.338064</td>\n",
       "    </tr>\n",
       "    <tr>\n",
       "      <th>std</th>\n",
       "      <td>143.051927</td>\n",
       "      <td>2.496386</td>\n",
       "      <td>32.402563</td>\n",
       "      <td>236.320077</td>\n",
       "      <td>34.070085</td>\n",
       "      <td>7967.220055</td>\n",
       "      <td>46.615179</td>\n",
       "    </tr>\n",
       "    <tr>\n",
       "      <th>min</th>\n",
       "      <td>1000.000000</td>\n",
       "      <td>1.000000</td>\n",
       "      <td>0.000000</td>\n",
       "      <td>0.000000</td>\n",
       "      <td>0.000000</td>\n",
       "      <td>0.000000</td>\n",
       "      <td>20.000000</td>\n",
       "    </tr>\n",
       "    <tr>\n",
       "      <th>25%</th>\n",
       "      <td>1122.000000</td>\n",
       "      <td>8.000000</td>\n",
       "      <td>38.000000</td>\n",
       "      <td>265.000000</td>\n",
       "      <td>3.000000</td>\n",
       "      <td>12235.000000</td>\n",
       "      <td>23.480000</td>\n",
       "    </tr>\n",
       "    <tr>\n",
       "      <th>50%</th>\n",
       "      <td>1245.000000</td>\n",
       "      <td>10.000000</td>\n",
       "      <td>60.000000</td>\n",
       "      <td>425.000000</td>\n",
       "      <td>26.000000</td>\n",
       "      <td>16830.000000</td>\n",
       "      <td>70.000000</td>\n",
       "    </tr>\n",
       "    <tr>\n",
       "      <th>75%</th>\n",
       "      <td>1368.000000</td>\n",
       "      <td>11.000000</td>\n",
       "      <td>79.000000</td>\n",
       "      <td>572.000000</td>\n",
       "      <td>51.000000</td>\n",
       "      <td>20999.000000</td>\n",
       "      <td>70.000000</td>\n",
       "    </tr>\n",
       "    <tr>\n",
       "      <th>max</th>\n",
       "      <td>1499.000000</td>\n",
       "      <td>12.000000</td>\n",
       "      <td>205.000000</td>\n",
       "      <td>1510.000000</td>\n",
       "      <td>266.000000</td>\n",
       "      <td>70931.000000</td>\n",
       "      <td>590.370000</td>\n",
       "    </tr>\n",
       "  </tbody>\n",
       "</table>\n",
       "</div>"
      ],
      "text/plain": [
       "           user_id        month   call_count      minutes          sms  \\\n",
       "count  2293.000000  2293.000000  2293.000000  2293.000000  2293.000000   \n",
       "mean   1246.075883     9.172700    60.067597   429.283471    33.166594   \n",
       "std     143.051927     2.496386    32.402563   236.320077    34.070085   \n",
       "min    1000.000000     1.000000     0.000000     0.000000     0.000000   \n",
       "25%    1122.000000     8.000000    38.000000   265.000000     3.000000   \n",
       "50%    1245.000000    10.000000    60.000000   425.000000    26.000000   \n",
       "75%    1368.000000    11.000000    79.000000   572.000000    51.000000   \n",
       "max    1499.000000    12.000000   205.000000  1510.000000   266.000000   \n",
       "\n",
       "           internet      revenue  \n",
       "count   2293.000000  2293.000000  \n",
       "mean   16763.906672    64.338064  \n",
       "std     7967.220055    46.615179  \n",
       "min        0.000000    20.000000  \n",
       "25%    12235.000000    23.480000  \n",
       "50%    16830.000000    70.000000  \n",
       "75%    20999.000000    70.000000  \n",
       "max    70931.000000   590.370000  "
      ]
     },
     "execution_count": 30,
     "metadata": {},
     "output_type": "execute_result"
    }
   ],
   "source": [
    "# rename columns\n",
    "monthly_data.columns = ['user_id', 'month', 'call_count', 'minutes', 'sms', 'internet', 'tariff', 'city', 'revenue']\n",
    "monthly_data.describe()"
   ]
  },
  {
   "cell_type": "markdown",
   "metadata": {},
   "source": [
    "We see from our data that there are null values, let's look at this data."
   ]
  },
  {
   "cell_type": "code",
   "execution_count": 31,
   "metadata": {},
   "outputs": [
    {
     "data": {
      "text/html": [
       "<div>\n",
       "<style scoped>\n",
       "    .dataframe tbody tr th:only-of-type {\n",
       "        vertical-align: middle;\n",
       "    }\n",
       "\n",
       "    .dataframe tbody tr th {\n",
       "        vertical-align: top;\n",
       "    }\n",
       "\n",
       "    .dataframe thead th {\n",
       "        text-align: right;\n",
       "    }\n",
       "</style>\n",
       "<table border=\"1\" class=\"dataframe\">\n",
       "  <thead>\n",
       "    <tr style=\"text-align: right;\">\n",
       "      <th></th>\n",
       "      <th>user_id</th>\n",
       "      <th>month</th>\n",
       "      <th>call_count</th>\n",
       "      <th>minutes</th>\n",
       "      <th>sms</th>\n",
       "      <th>internet</th>\n",
       "      <th>tariff</th>\n",
       "      <th>city</th>\n",
       "      <th>revenue</th>\n",
       "    </tr>\n",
       "  </thead>\n",
       "  <tbody>\n",
       "    <tr>\n",
       "      <th>104</th>\n",
       "      <td>1028</td>\n",
       "      <td>2</td>\n",
       "      <td>0</td>\n",
       "      <td>0</td>\n",
       "      <td>12</td>\n",
       "      <td>12591</td>\n",
       "      <td>ultimate</td>\n",
       "      <td>others</td>\n",
       "      <td>70.00</td>\n",
       "    </tr>\n",
       "    <tr>\n",
       "      <th>175</th>\n",
       "      <td>1044</td>\n",
       "      <td>8</td>\n",
       "      <td>1</td>\n",
       "      <td>13</td>\n",
       "      <td>0</td>\n",
       "      <td>0</td>\n",
       "      <td>surf</td>\n",
       "      <td>others</td>\n",
       "      <td>20.00</td>\n",
       "    </tr>\n",
       "    <tr>\n",
       "      <th>433</th>\n",
       "      <td>1094</td>\n",
       "      <td>10</td>\n",
       "      <td>1</td>\n",
       "      <td>0</td>\n",
       "      <td>0</td>\n",
       "      <td>1728</td>\n",
       "      <td>surf</td>\n",
       "      <td>others</td>\n",
       "      <td>20.00</td>\n",
       "    </tr>\n",
       "    <tr>\n",
       "      <th>1045</th>\n",
       "      <td>1224</td>\n",
       "      <td>6</td>\n",
       "      <td>0</td>\n",
       "      <td>0</td>\n",
       "      <td>5</td>\n",
       "      <td>2966</td>\n",
       "      <td>ultimate</td>\n",
       "      <td>others</td>\n",
       "      <td>70.00</td>\n",
       "    </tr>\n",
       "    <tr>\n",
       "      <th>1398</th>\n",
       "      <td>1311</td>\n",
       "      <td>6</td>\n",
       "      <td>0</td>\n",
       "      <td>0</td>\n",
       "      <td>0</td>\n",
       "      <td>1498</td>\n",
       "      <td>ultimate</td>\n",
       "      <td>others</td>\n",
       "      <td>70.00</td>\n",
       "    </tr>\n",
       "    <tr>\n",
       "      <th>1645</th>\n",
       "      <td>1361</td>\n",
       "      <td>5</td>\n",
       "      <td>0</td>\n",
       "      <td>0</td>\n",
       "      <td>2</td>\n",
       "      <td>1519</td>\n",
       "      <td>surf</td>\n",
       "      <td>others</td>\n",
       "      <td>20.00</td>\n",
       "    </tr>\n",
       "    <tr>\n",
       "      <th>1877</th>\n",
       "      <td>1407</td>\n",
       "      <td>11</td>\n",
       "      <td>2</td>\n",
       "      <td>0</td>\n",
       "      <td>1</td>\n",
       "      <td>290</td>\n",
       "      <td>ultimate</td>\n",
       "      <td>NY-NJ</td>\n",
       "      <td>70.00</td>\n",
       "    </tr>\n",
       "    <tr>\n",
       "      <th>2182</th>\n",
       "      <td>1482</td>\n",
       "      <td>10</td>\n",
       "      <td>0</td>\n",
       "      <td>0</td>\n",
       "      <td>2</td>\n",
       "      <td>0</td>\n",
       "      <td>ultimate</td>\n",
       "      <td>NY-NJ</td>\n",
       "      <td>70.00</td>\n",
       "    </tr>\n",
       "    <tr>\n",
       "      <th>2263</th>\n",
       "      <td>1080</td>\n",
       "      <td>8</td>\n",
       "      <td>0</td>\n",
       "      <td>0</td>\n",
       "      <td>31</td>\n",
       "      <td>20519</td>\n",
       "      <td>surf</td>\n",
       "      <td>NY-NJ</td>\n",
       "      <td>80.00</td>\n",
       "    </tr>\n",
       "    <tr>\n",
       "      <th>2264</th>\n",
       "      <td>1080</td>\n",
       "      <td>9</td>\n",
       "      <td>0</td>\n",
       "      <td>0</td>\n",
       "      <td>64</td>\n",
       "      <td>25499</td>\n",
       "      <td>surf</td>\n",
       "      <td>NY-NJ</td>\n",
       "      <td>120.42</td>\n",
       "    </tr>\n",
       "    <tr>\n",
       "      <th>2265</th>\n",
       "      <td>1080</td>\n",
       "      <td>10</td>\n",
       "      <td>0</td>\n",
       "      <td>0</td>\n",
       "      <td>59</td>\n",
       "      <td>30161</td>\n",
       "      <td>surf</td>\n",
       "      <td>NY-NJ</td>\n",
       "      <td>170.27</td>\n",
       "    </tr>\n",
       "    <tr>\n",
       "      <th>2266</th>\n",
       "      <td>1080</td>\n",
       "      <td>11</td>\n",
       "      <td>0</td>\n",
       "      <td>0</td>\n",
       "      <td>50</td>\n",
       "      <td>33559</td>\n",
       "      <td>surf</td>\n",
       "      <td>NY-NJ</td>\n",
       "      <td>200.00</td>\n",
       "    </tr>\n",
       "    <tr>\n",
       "      <th>2267</th>\n",
       "      <td>1080</td>\n",
       "      <td>12</td>\n",
       "      <td>0</td>\n",
       "      <td>0</td>\n",
       "      <td>61</td>\n",
       "      <td>24543</td>\n",
       "      <td>surf</td>\n",
       "      <td>NY-NJ</td>\n",
       "      <td>110.33</td>\n",
       "    </tr>\n",
       "    <tr>\n",
       "      <th>2268</th>\n",
       "      <td>1089</td>\n",
       "      <td>12</td>\n",
       "      <td>0</td>\n",
       "      <td>0</td>\n",
       "      <td>27</td>\n",
       "      <td>16597</td>\n",
       "      <td>surf</td>\n",
       "      <td>others</td>\n",
       "      <td>40.00</td>\n",
       "    </tr>\n",
       "    <tr>\n",
       "      <th>2269</th>\n",
       "      <td>1121</td>\n",
       "      <td>11</td>\n",
       "      <td>0</td>\n",
       "      <td>0</td>\n",
       "      <td>1</td>\n",
       "      <td>1236</td>\n",
       "      <td>surf</td>\n",
       "      <td>others</td>\n",
       "      <td>20.00</td>\n",
       "    </tr>\n",
       "    <tr>\n",
       "      <th>2270</th>\n",
       "      <td>1121</td>\n",
       "      <td>12</td>\n",
       "      <td>0</td>\n",
       "      <td>0</td>\n",
       "      <td>97</td>\n",
       "      <td>66863</td>\n",
       "      <td>surf</td>\n",
       "      <td>others</td>\n",
       "      <td>531.41</td>\n",
       "    </tr>\n",
       "    <tr>\n",
       "      <th>2271</th>\n",
       "      <td>1131</td>\n",
       "      <td>5</td>\n",
       "      <td>0</td>\n",
       "      <td>0</td>\n",
       "      <td>18</td>\n",
       "      <td>6468</td>\n",
       "      <td>surf</td>\n",
       "      <td>others</td>\n",
       "      <td>20.00</td>\n",
       "    </tr>\n",
       "    <tr>\n",
       "      <th>2272</th>\n",
       "      <td>1131</td>\n",
       "      <td>6</td>\n",
       "      <td>0</td>\n",
       "      <td>0</td>\n",
       "      <td>27</td>\n",
       "      <td>14637</td>\n",
       "      <td>surf</td>\n",
       "      <td>others</td>\n",
       "      <td>20.00</td>\n",
       "    </tr>\n",
       "    <tr>\n",
       "      <th>2273</th>\n",
       "      <td>1131</td>\n",
       "      <td>7</td>\n",
       "      <td>0</td>\n",
       "      <td>0</td>\n",
       "      <td>28</td>\n",
       "      <td>16564</td>\n",
       "      <td>surf</td>\n",
       "      <td>others</td>\n",
       "      <td>40.00</td>\n",
       "    </tr>\n",
       "    <tr>\n",
       "      <th>2274</th>\n",
       "      <td>1131</td>\n",
       "      <td>8</td>\n",
       "      <td>0</td>\n",
       "      <td>0</td>\n",
       "      <td>33</td>\n",
       "      <td>12271</td>\n",
       "      <td>surf</td>\n",
       "      <td>others</td>\n",
       "      <td>20.00</td>\n",
       "    </tr>\n",
       "    <tr>\n",
       "      <th>2275</th>\n",
       "      <td>1131</td>\n",
       "      <td>9</td>\n",
       "      <td>0</td>\n",
       "      <td>0</td>\n",
       "      <td>26</td>\n",
       "      <td>15594</td>\n",
       "      <td>surf</td>\n",
       "      <td>others</td>\n",
       "      <td>30.00</td>\n",
       "    </tr>\n",
       "    <tr>\n",
       "      <th>2276</th>\n",
       "      <td>1131</td>\n",
       "      <td>10</td>\n",
       "      <td>0</td>\n",
       "      <td>0</td>\n",
       "      <td>31</td>\n",
       "      <td>21292</td>\n",
       "      <td>surf</td>\n",
       "      <td>others</td>\n",
       "      <td>80.00</td>\n",
       "    </tr>\n",
       "    <tr>\n",
       "      <th>2277</th>\n",
       "      <td>1131</td>\n",
       "      <td>11</td>\n",
       "      <td>0</td>\n",
       "      <td>0</td>\n",
       "      <td>20</td>\n",
       "      <td>13697</td>\n",
       "      <td>surf</td>\n",
       "      <td>others</td>\n",
       "      <td>20.00</td>\n",
       "    </tr>\n",
       "    <tr>\n",
       "      <th>2278</th>\n",
       "      <td>1131</td>\n",
       "      <td>12</td>\n",
       "      <td>0</td>\n",
       "      <td>0</td>\n",
       "      <td>33</td>\n",
       "      <td>15212</td>\n",
       "      <td>surf</td>\n",
       "      <td>others</td>\n",
       "      <td>20.00</td>\n",
       "    </tr>\n",
       "    <tr>\n",
       "      <th>2279</th>\n",
       "      <td>1137</td>\n",
       "      <td>10</td>\n",
       "      <td>0</td>\n",
       "      <td>0</td>\n",
       "      <td>48</td>\n",
       "      <td>7002</td>\n",
       "      <td>surf</td>\n",
       "      <td>others</td>\n",
       "      <td>20.00</td>\n",
       "    </tr>\n",
       "    <tr>\n",
       "      <th>2280</th>\n",
       "      <td>1137</td>\n",
       "      <td>11</td>\n",
       "      <td>0</td>\n",
       "      <td>0</td>\n",
       "      <td>64</td>\n",
       "      <td>3084</td>\n",
       "      <td>surf</td>\n",
       "      <td>others</td>\n",
       "      <td>20.42</td>\n",
       "    </tr>\n",
       "    <tr>\n",
       "      <th>2281</th>\n",
       "      <td>1137</td>\n",
       "      <td>12</td>\n",
       "      <td>0</td>\n",
       "      <td>0</td>\n",
       "      <td>56</td>\n",
       "      <td>6745</td>\n",
       "      <td>surf</td>\n",
       "      <td>others</td>\n",
       "      <td>20.18</td>\n",
       "    </tr>\n",
       "    <tr>\n",
       "      <th>2282</th>\n",
       "      <td>1194</td>\n",
       "      <td>8</td>\n",
       "      <td>0</td>\n",
       "      <td>0</td>\n",
       "      <td>10</td>\n",
       "      <td>5704</td>\n",
       "      <td>surf</td>\n",
       "      <td>others</td>\n",
       "      <td>20.00</td>\n",
       "    </tr>\n",
       "    <tr>\n",
       "      <th>2283</th>\n",
       "      <td>1194</td>\n",
       "      <td>9</td>\n",
       "      <td>0</td>\n",
       "      <td>0</td>\n",
       "      <td>76</td>\n",
       "      <td>37298</td>\n",
       "      <td>surf</td>\n",
       "      <td>others</td>\n",
       "      <td>240.78</td>\n",
       "    </tr>\n",
       "    <tr>\n",
       "      <th>2284</th>\n",
       "      <td>1194</td>\n",
       "      <td>10</td>\n",
       "      <td>0</td>\n",
       "      <td>0</td>\n",
       "      <td>88</td>\n",
       "      <td>31538</td>\n",
       "      <td>surf</td>\n",
       "      <td>others</td>\n",
       "      <td>181.14</td>\n",
       "    </tr>\n",
       "    <tr>\n",
       "      <th>2285</th>\n",
       "      <td>1194</td>\n",
       "      <td>11</td>\n",
       "      <td>0</td>\n",
       "      <td>0</td>\n",
       "      <td>62</td>\n",
       "      <td>42866</td>\n",
       "      <td>surf</td>\n",
       "      <td>others</td>\n",
       "      <td>290.36</td>\n",
       "    </tr>\n",
       "    <tr>\n",
       "      <th>2286</th>\n",
       "      <td>1194</td>\n",
       "      <td>12</td>\n",
       "      <td>0</td>\n",
       "      <td>0</td>\n",
       "      <td>56</td>\n",
       "      <td>31088</td>\n",
       "      <td>surf</td>\n",
       "      <td>others</td>\n",
       "      <td>180.18</td>\n",
       "    </tr>\n",
       "    <tr>\n",
       "      <th>2287</th>\n",
       "      <td>1204</td>\n",
       "      <td>11</td>\n",
       "      <td>0</td>\n",
       "      <td>0</td>\n",
       "      <td>42</td>\n",
       "      <td>21346</td>\n",
       "      <td>ultimate</td>\n",
       "      <td>others</td>\n",
       "      <td>70.00</td>\n",
       "    </tr>\n",
       "    <tr>\n",
       "      <th>2288</th>\n",
       "      <td>1204</td>\n",
       "      <td>12</td>\n",
       "      <td>0</td>\n",
       "      <td>0</td>\n",
       "      <td>78</td>\n",
       "      <td>36730</td>\n",
       "      <td>ultimate</td>\n",
       "      <td>others</td>\n",
       "      <td>112.00</td>\n",
       "    </tr>\n",
       "    <tr>\n",
       "      <th>2289</th>\n",
       "      <td>1349</td>\n",
       "      <td>10</td>\n",
       "      <td>0</td>\n",
       "      <td>0</td>\n",
       "      <td>76</td>\n",
       "      <td>13093</td>\n",
       "      <td>surf</td>\n",
       "      <td>others</td>\n",
       "      <td>20.78</td>\n",
       "    </tr>\n",
       "    <tr>\n",
       "      <th>2290</th>\n",
       "      <td>1349</td>\n",
       "      <td>11</td>\n",
       "      <td>0</td>\n",
       "      <td>0</td>\n",
       "      <td>72</td>\n",
       "      <td>17128</td>\n",
       "      <td>surf</td>\n",
       "      <td>others</td>\n",
       "      <td>40.66</td>\n",
       "    </tr>\n",
       "    <tr>\n",
       "      <th>2291</th>\n",
       "      <td>1349</td>\n",
       "      <td>12</td>\n",
       "      <td>0</td>\n",
       "      <td>0</td>\n",
       "      <td>61</td>\n",
       "      <td>13039</td>\n",
       "      <td>surf</td>\n",
       "      <td>others</td>\n",
       "      <td>20.33</td>\n",
       "    </tr>\n",
       "    <tr>\n",
       "      <th>2292</th>\n",
       "      <td>1108</td>\n",
       "      <td>12</td>\n",
       "      <td>0</td>\n",
       "      <td>0</td>\n",
       "      <td>0</td>\n",
       "      <td>233</td>\n",
       "      <td>ultimate</td>\n",
       "      <td>others</td>\n",
       "      <td>70.00</td>\n",
       "    </tr>\n",
       "  </tbody>\n",
       "</table>\n",
       "</div>"
      ],
      "text/plain": [
       "      user_id  month  call_count  minutes  sms  internet    tariff    city  \\\n",
       "104      1028      2           0        0   12     12591  ultimate  others   \n",
       "175      1044      8           1       13    0         0      surf  others   \n",
       "433      1094     10           1        0    0      1728      surf  others   \n",
       "1045     1224      6           0        0    5      2966  ultimate  others   \n",
       "1398     1311      6           0        0    0      1498  ultimate  others   \n",
       "1645     1361      5           0        0    2      1519      surf  others   \n",
       "1877     1407     11           2        0    1       290  ultimate   NY-NJ   \n",
       "2182     1482     10           0        0    2         0  ultimate   NY-NJ   \n",
       "2263     1080      8           0        0   31     20519      surf   NY-NJ   \n",
       "2264     1080      9           0        0   64     25499      surf   NY-NJ   \n",
       "2265     1080     10           0        0   59     30161      surf   NY-NJ   \n",
       "2266     1080     11           0        0   50     33559      surf   NY-NJ   \n",
       "2267     1080     12           0        0   61     24543      surf   NY-NJ   \n",
       "2268     1089     12           0        0   27     16597      surf  others   \n",
       "2269     1121     11           0        0    1      1236      surf  others   \n",
       "2270     1121     12           0        0   97     66863      surf  others   \n",
       "2271     1131      5           0        0   18      6468      surf  others   \n",
       "2272     1131      6           0        0   27     14637      surf  others   \n",
       "2273     1131      7           0        0   28     16564      surf  others   \n",
       "2274     1131      8           0        0   33     12271      surf  others   \n",
       "2275     1131      9           0        0   26     15594      surf  others   \n",
       "2276     1131     10           0        0   31     21292      surf  others   \n",
       "2277     1131     11           0        0   20     13697      surf  others   \n",
       "2278     1131     12           0        0   33     15212      surf  others   \n",
       "2279     1137     10           0        0   48      7002      surf  others   \n",
       "2280     1137     11           0        0   64      3084      surf  others   \n",
       "2281     1137     12           0        0   56      6745      surf  others   \n",
       "2282     1194      8           0        0   10      5704      surf  others   \n",
       "2283     1194      9           0        0   76     37298      surf  others   \n",
       "2284     1194     10           0        0   88     31538      surf  others   \n",
       "2285     1194     11           0        0   62     42866      surf  others   \n",
       "2286     1194     12           0        0   56     31088      surf  others   \n",
       "2287     1204     11           0        0   42     21346  ultimate  others   \n",
       "2288     1204     12           0        0   78     36730  ultimate  others   \n",
       "2289     1349     10           0        0   76     13093      surf  others   \n",
       "2290     1349     11           0        0   72     17128      surf  others   \n",
       "2291     1349     12           0        0   61     13039      surf  others   \n",
       "2292     1108     12           0        0    0       233  ultimate  others   \n",
       "\n",
       "      revenue  \n",
       "104     70.00  \n",
       "175     20.00  \n",
       "433     20.00  \n",
       "1045    70.00  \n",
       "1398    70.00  \n",
       "1645    20.00  \n",
       "1877    70.00  \n",
       "2182    70.00  \n",
       "2263    80.00  \n",
       "2264   120.42  \n",
       "2265   170.27  \n",
       "2266   200.00  \n",
       "2267   110.33  \n",
       "2268    40.00  \n",
       "2269    20.00  \n",
       "2270   531.41  \n",
       "2271    20.00  \n",
       "2272    20.00  \n",
       "2273    40.00  \n",
       "2274    20.00  \n",
       "2275    30.00  \n",
       "2276    80.00  \n",
       "2277    20.00  \n",
       "2278    20.00  \n",
       "2279    20.00  \n",
       "2280    20.42  \n",
       "2281    20.18  \n",
       "2282    20.00  \n",
       "2283   240.78  \n",
       "2284   181.14  \n",
       "2285   290.36  \n",
       "2286   180.18  \n",
       "2287    70.00  \n",
       "2288   112.00  \n",
       "2289    20.78  \n",
       "2290    40.66  \n",
       "2291    20.33  \n",
       "2292    70.00  "
      ]
     },
     "execution_count": 31,
     "metadata": {},
     "output_type": "execute_result"
    }
   ],
   "source": [
    "monthly_data.query('minutes == 0 or sms == 0 and internet == 0')"
   ]
  },
  {
   "cell_type": "markdown",
   "metadata": {},
   "source": [
    "The data looks great, we don't have users where everything was null.  \n",
    "This means that each user used the plan based on their needs and interests, and we will consider all data without deletion."
   ]
  },
  {
   "cell_type": "code",
   "execution_count": 32,
   "metadata": {},
   "outputs": [
    {
     "data": {
      "text/plain": [
       "user_id         1379\n",
       "month             12\n",
       "call_count       144\n",
       "minutes         1103\n",
       "sms              126\n",
       "internet       70931\n",
       "tariff          surf\n",
       "city          others\n",
       "revenue       590.37\n",
       "Name: 1726, dtype: object"
      ]
     },
     "execution_count": 32,
     "metadata": {},
     "output_type": "execute_result"
    }
   ],
   "source": [
    "#Most profitable user:\n",
    "monthly_data.iloc[monthly_data['revenue'].idxmax(),:]"
   ]
  },
  {
   "cell_type": "code",
   "execution_count": 33,
   "metadata": {},
   "outputs": [
    {
     "name": "stdout",
     "output_type": "stream",
     "text": [
      "        revenue\n",
      "month          \n",
      "1        320.00\n",
      "2        799.57\n",
      "3       1952.65\n",
      "4       3568.53\n",
      "5       5718.37\n",
      "6       8146.80\n",
      "7      11825.56\n",
      "8      15529.85\n",
      "9      17489.67\n",
      "10     23149.83\n",
      "11     25522.21\n",
      "12     33504.14\n"
     ]
    },
    {
     "data": {
      "text/plain": [
       "147527.18"
      ]
     },
     "execution_count": 33,
     "metadata": {},
     "output_type": "execute_result"
    }
   ],
   "source": [
    "# revenue for all users by months\n",
    "print(monthly_data.groupby(['month']).agg({'revenue':'sum'}))\n",
    "monthly_data['revenue'].sum()"
   ]
  },
  {
   "cell_type": "code",
   "execution_count": 34,
   "metadata": {},
   "outputs": [
    {
     "name": "stdout",
     "output_type": "stream",
     "text": [
      "          revenue\n",
      "city             \n",
      "NY-NJ    24727.40\n",
      "others  122799.78\n"
     ]
    }
   ],
   "source": [
    "# revenue by our categoration by the city areas\n",
    "print(monthly_data.groupby(['city']).agg({'revenue':'sum'}))"
   ]
  },
  {
   "cell_type": "markdown",
   "metadata": {},
   "source": [
    "**Conclusions**\n",
    "\n",
    "So, at this stage, we grouped the data by users and months, counting the number of calls in minutes per month, messages per month, Internet megabytes spent per month.\n",
    "\n",
    "Then we combined the received data into a large dataframe - **`monthly_data`**.\n",
    "\n",
    "After that, we wrote a function for calculating revenue per month and applied it to the line, obtaining the necessary values.\n",
    "\n",
    "The next step is to analyze the obtained data."
   ]
  },
  {
   "cell_type": "markdown",
   "metadata": {},
   "source": [
    "## Analyze the data"
   ]
  },
  {
   "cell_type": "markdown",
   "metadata": {},
   "source": [
    "Let's start to analyze how users of two tariff groups use the services.\n",
    "\n",
    "To do this, we will create separate tables in which there will be subscribers of only one tariff."
   ]
  },
  {
   "cell_type": "code",
   "execution_count": 35,
   "metadata": {},
   "outputs": [
    {
     "data": {
      "text/html": [
       "<div>\n",
       "<style scoped>\n",
       "    .dataframe tbody tr th:only-of-type {\n",
       "        vertical-align: middle;\n",
       "    }\n",
       "\n",
       "    .dataframe tbody tr th {\n",
       "        vertical-align: top;\n",
       "    }\n",
       "\n",
       "    .dataframe thead th {\n",
       "        text-align: right;\n",
       "    }\n",
       "</style>\n",
       "<table border=\"1\" class=\"dataframe\">\n",
       "  <thead>\n",
       "    <tr style=\"text-align: right;\">\n",
       "      <th></th>\n",
       "      <th></th>\n",
       "      <th>minutes</th>\n",
       "      <th>sms</th>\n",
       "      <th>internet</th>\n",
       "      <th>revenue</th>\n",
       "    </tr>\n",
       "    <tr>\n",
       "      <th>tariff</th>\n",
       "      <th>month</th>\n",
       "      <th></th>\n",
       "      <th></th>\n",
       "      <th></th>\n",
       "      <th></th>\n",
       "    </tr>\n",
       "  </thead>\n",
       "  <tbody>\n",
       "    <tr>\n",
       "      <th rowspan=\"12\" valign=\"top\">surf</th>\n",
       "      <th>1</th>\n",
       "      <td>406</td>\n",
       "      <td>21</td>\n",
       "      <td>9748</td>\n",
       "      <td>40.00</td>\n",
       "    </tr>\n",
       "    <tr>\n",
       "      <th>2</th>\n",
       "      <td>2673</td>\n",
       "      <td>108</td>\n",
       "      <td>109606</td>\n",
       "      <td>309.57</td>\n",
       "    </tr>\n",
       "    <tr>\n",
       "      <th>3</th>\n",
       "      <td>7590</td>\n",
       "      <td>351</td>\n",
       "      <td>306934</td>\n",
       "      <td>1056.65</td>\n",
       "    </tr>\n",
       "    <tr>\n",
       "      <th>4</th>\n",
       "      <td>17577</td>\n",
       "      <td>870</td>\n",
       "      <td>599185</td>\n",
       "      <td>2035.53</td>\n",
       "    </tr>\n",
       "    <tr>\n",
       "      <th>5</th>\n",
       "      <td>30768</td>\n",
       "      <td>1849</td>\n",
       "      <td>1073062</td>\n",
       "      <td>3667.37</td>\n",
       "    </tr>\n",
       "    <tr>\n",
       "      <th>6</th>\n",
       "      <td>41836</td>\n",
       "      <td>2454</td>\n",
       "      <td>1484201</td>\n",
       "      <td>4779.80</td>\n",
       "    </tr>\n",
       "    <tr>\n",
       "      <th>7</th>\n",
       "      <td>54448</td>\n",
       "      <td>3271</td>\n",
       "      <td>2030755</td>\n",
       "      <td>7583.56</td>\n",
       "    </tr>\n",
       "    <tr>\n",
       "      <th>8</th>\n",
       "      <td>66438</td>\n",
       "      <td>4662</td>\n",
       "      <td>2720766</td>\n",
       "      <td>10356.85</td>\n",
       "    </tr>\n",
       "    <tr>\n",
       "      <th>9</th>\n",
       "      <td>80360</td>\n",
       "      <td>5968</td>\n",
       "      <td>3218639</td>\n",
       "      <td>11294.67</td>\n",
       "    </tr>\n",
       "    <tr>\n",
       "      <th>10</th>\n",
       "      <td>101846</td>\n",
       "      <td>8020</td>\n",
       "      <td>4102670</td>\n",
       "      <td>15484.83</td>\n",
       "    </tr>\n",
       "    <tr>\n",
       "      <th>11</th>\n",
       "      <td>119801</td>\n",
       "      <td>9165</td>\n",
       "      <td>4623871</td>\n",
       "      <td>16415.21</td>\n",
       "    </tr>\n",
       "    <tr>\n",
       "      <th>12</th>\n",
       "      <td>150680</td>\n",
       "      <td>12275</td>\n",
       "      <td>5765970</td>\n",
       "      <td>22437.14</td>\n",
       "    </tr>\n",
       "    <tr>\n",
       "      <th rowspan=\"12\" valign=\"top\">ultimate</th>\n",
       "      <th>1</th>\n",
       "      <td>774</td>\n",
       "      <td>62</td>\n",
       "      <td>27670</td>\n",
       "      <td>280.00</td>\n",
       "    </tr>\n",
       "    <tr>\n",
       "      <th>2</th>\n",
       "      <td>2822</td>\n",
       "      <td>151</td>\n",
       "      <td>119897</td>\n",
       "      <td>490.00</td>\n",
       "    </tr>\n",
       "    <tr>\n",
       "      <th>3</th>\n",
       "      <td>3651</td>\n",
       "      <td>243</td>\n",
       "      <td>219853</td>\n",
       "      <td>896.00</td>\n",
       "    </tr>\n",
       "    <tr>\n",
       "      <th>4</th>\n",
       "      <td>7074</td>\n",
       "      <td>463</td>\n",
       "      <td>338545</td>\n",
       "      <td>1533.00</td>\n",
       "    </tr>\n",
       "    <tr>\n",
       "      <th>5</th>\n",
       "      <td>11781</td>\n",
       "      <td>931</td>\n",
       "      <td>482095</td>\n",
       "      <td>2051.00</td>\n",
       "    </tr>\n",
       "    <tr>\n",
       "      <th>6</th>\n",
       "      <td>17435</td>\n",
       "      <td>1379</td>\n",
       "      <td>720860</td>\n",
       "      <td>3367.00</td>\n",
       "    </tr>\n",
       "    <tr>\n",
       "      <th>7</th>\n",
       "      <td>25197</td>\n",
       "      <td>1937</td>\n",
       "      <td>964313</td>\n",
       "      <td>4242.00</td>\n",
       "    </tr>\n",
       "    <tr>\n",
       "      <th>8</th>\n",
       "      <td>29922</td>\n",
       "      <td>2732</td>\n",
       "      <td>1264810</td>\n",
       "      <td>5173.00</td>\n",
       "    </tr>\n",
       "    <tr>\n",
       "      <th>9</th>\n",
       "      <td>37626</td>\n",
       "      <td>3259</td>\n",
       "      <td>1459365</td>\n",
       "      <td>6195.00</td>\n",
       "    </tr>\n",
       "    <tr>\n",
       "      <th>10</th>\n",
       "      <td>47778</td>\n",
       "      <td>4181</td>\n",
       "      <td>1866881</td>\n",
       "      <td>7665.00</td>\n",
       "    </tr>\n",
       "    <tr>\n",
       "      <th>11</th>\n",
       "      <td>56540</td>\n",
       "      <td>4903</td>\n",
       "      <td>2163217</td>\n",
       "      <td>9107.00</td>\n",
       "    </tr>\n",
       "    <tr>\n",
       "      <th>12</th>\n",
       "      <td>69324</td>\n",
       "      <td>6796</td>\n",
       "      <td>2766725</td>\n",
       "      <td>11067.00</td>\n",
       "    </tr>\n",
       "  </tbody>\n",
       "</table>\n",
       "</div>"
      ],
      "text/plain": [
       "                minutes    sms  internet   revenue\n",
       "tariff   month                                    \n",
       "surf     1          406     21      9748     40.00\n",
       "         2         2673    108    109606    309.57\n",
       "         3         7590    351    306934   1056.65\n",
       "         4        17577    870    599185   2035.53\n",
       "         5        30768   1849   1073062   3667.37\n",
       "         6        41836   2454   1484201   4779.80\n",
       "         7        54448   3271   2030755   7583.56\n",
       "         8        66438   4662   2720766  10356.85\n",
       "         9        80360   5968   3218639  11294.67\n",
       "         10      101846   8020   4102670  15484.83\n",
       "         11      119801   9165   4623871  16415.21\n",
       "         12      150680  12275   5765970  22437.14\n",
       "ultimate 1          774     62     27670    280.00\n",
       "         2         2822    151    119897    490.00\n",
       "         3         3651    243    219853    896.00\n",
       "         4         7074    463    338545   1533.00\n",
       "         5        11781    931    482095   2051.00\n",
       "         6        17435   1379    720860   3367.00\n",
       "         7        25197   1937    964313   4242.00\n",
       "         8        29922   2732   1264810   5173.00\n",
       "         9        37626   3259   1459365   6195.00\n",
       "         10       47778   4181   1866881   7665.00\n",
       "         11       56540   4903   2163217   9107.00\n",
       "         12       69324   6796   2766725  11067.00"
      ]
     },
     "execution_count": 35,
     "metadata": {},
     "output_type": "execute_result"
    }
   ],
   "source": [
    "# For the users of each of the plans, find the number of minutes and SMS and the volume of web traffic they require per month.\n",
    "group = monthly_data.groupby(['tariff','month']).agg({'minutes':'sum','sms':'sum','internet':'sum', 'revenue': 'sum'})\n",
    "group\n"
   ]
  },
  {
   "cell_type": "markdown",
   "metadata": {},
   "source": [
    "### `Surf` customers' behavior"
   ]
  },
  {
   "cell_type": "code",
   "execution_count": 36,
   "metadata": {
    "scrolled": true
   },
   "outputs": [
    {
     "data": {
      "text/html": [
       "<div>\n",
       "<style scoped>\n",
       "    .dataframe tbody tr th:only-of-type {\n",
       "        vertical-align: middle;\n",
       "    }\n",
       "\n",
       "    .dataframe tbody tr th {\n",
       "        vertical-align: top;\n",
       "    }\n",
       "\n",
       "    .dataframe thead th {\n",
       "        text-align: right;\n",
       "    }\n",
       "</style>\n",
       "<table border=\"1\" class=\"dataframe\">\n",
       "  <thead>\n",
       "    <tr style=\"text-align: right;\">\n",
       "      <th></th>\n",
       "      <th>user_id</th>\n",
       "      <th>month</th>\n",
       "      <th>call_count</th>\n",
       "      <th>minutes</th>\n",
       "      <th>sms</th>\n",
       "      <th>internet</th>\n",
       "      <th>revenue</th>\n",
       "    </tr>\n",
       "  </thead>\n",
       "  <tbody>\n",
       "    <tr>\n",
       "      <th>count</th>\n",
       "      <td>1573.000000</td>\n",
       "      <td>1573.000000</td>\n",
       "      <td>1573.000000</td>\n",
       "      <td>1573.000000</td>\n",
       "      <td>1573.000000</td>\n",
       "      <td>1573.000000</td>\n",
       "      <td>1573.000000</td>\n",
       "    </tr>\n",
       "    <tr>\n",
       "      <th>mean</th>\n",
       "      <td>1242.755245</td>\n",
       "      <td>9.182454</td>\n",
       "      <td>59.811825</td>\n",
       "      <td>428.749523</td>\n",
       "      <td>31.159568</td>\n",
       "      <td>16557.792117</td>\n",
       "      <td>60.687336</td>\n",
       "    </tr>\n",
       "    <tr>\n",
       "      <th>std</th>\n",
       "      <td>139.227939</td>\n",
       "      <td>2.468199</td>\n",
       "      <td>32.017989</td>\n",
       "      <td>234.453150</td>\n",
       "      <td>33.566717</td>\n",
       "      <td>8013.495292</td>\n",
       "      <td>55.374798</td>\n",
       "    </tr>\n",
       "    <tr>\n",
       "      <th>min</th>\n",
       "      <td>1001.000000</td>\n",
       "      <td>1.000000</td>\n",
       "      <td>0.000000</td>\n",
       "      <td>0.000000</td>\n",
       "      <td>0.000000</td>\n",
       "      <td>0.000000</td>\n",
       "      <td>20.000000</td>\n",
       "    </tr>\n",
       "    <tr>\n",
       "      <th>25%</th>\n",
       "      <td>1120.000000</td>\n",
       "      <td>8.000000</td>\n",
       "      <td>39.000000</td>\n",
       "      <td>272.000000</td>\n",
       "      <td>3.000000</td>\n",
       "      <td>11986.000000</td>\n",
       "      <td>20.000000</td>\n",
       "    </tr>\n",
       "    <tr>\n",
       "      <th>50%</th>\n",
       "      <td>1245.000000</td>\n",
       "      <td>10.000000</td>\n",
       "      <td>60.000000</td>\n",
       "      <td>425.000000</td>\n",
       "      <td>24.000000</td>\n",
       "      <td>16829.000000</td>\n",
       "      <td>40.360000</td>\n",
       "    </tr>\n",
       "    <tr>\n",
       "      <th>75%</th>\n",
       "      <td>1358.000000</td>\n",
       "      <td>11.000000</td>\n",
       "      <td>79.000000</td>\n",
       "      <td>576.000000</td>\n",
       "      <td>47.000000</td>\n",
       "      <td>20999.000000</td>\n",
       "      <td>80.360000</td>\n",
       "    </tr>\n",
       "    <tr>\n",
       "      <th>max</th>\n",
       "      <td>1499.000000</td>\n",
       "      <td>12.000000</td>\n",
       "      <td>205.000000</td>\n",
       "      <td>1510.000000</td>\n",
       "      <td>266.000000</td>\n",
       "      <td>70931.000000</td>\n",
       "      <td>590.370000</td>\n",
       "    </tr>\n",
       "  </tbody>\n",
       "</table>\n",
       "</div>"
      ],
      "text/plain": [
       "           user_id        month   call_count      minutes          sms  \\\n",
       "count  1573.000000  1573.000000  1573.000000  1573.000000  1573.000000   \n",
       "mean   1242.755245     9.182454    59.811825   428.749523    31.159568   \n",
       "std     139.227939     2.468199    32.017989   234.453150    33.566717   \n",
       "min    1001.000000     1.000000     0.000000     0.000000     0.000000   \n",
       "25%    1120.000000     8.000000    39.000000   272.000000     3.000000   \n",
       "50%    1245.000000    10.000000    60.000000   425.000000    24.000000   \n",
       "75%    1358.000000    11.000000    79.000000   576.000000    47.000000   \n",
       "max    1499.000000    12.000000   205.000000  1510.000000   266.000000   \n",
       "\n",
       "           internet      revenue  \n",
       "count   1573.000000  1573.000000  \n",
       "mean   16557.792117    60.687336  \n",
       "std     8013.495292    55.374798  \n",
       "min        0.000000    20.000000  \n",
       "25%    11986.000000    20.000000  \n",
       "50%    16829.000000    40.360000  \n",
       "75%    20999.000000    80.360000  \n",
       "max    70931.000000   590.370000  "
      ]
     },
     "execution_count": 36,
     "metadata": {},
     "output_type": "execute_result"
    }
   ],
   "source": [
    "# query data by plan type\n",
    "surf_monthly_data = monthly_data.query('tariff == \"surf\"')\n",
    "\n",
    "surf_monthly_data.describe()"
   ]
  },
  {
   "cell_type": "markdown",
   "metadata": {},
   "source": [
    "### `Ultimate` customers' behavior"
   ]
  },
  {
   "cell_type": "code",
   "execution_count": 37,
   "metadata": {},
   "outputs": [
    {
     "data": {
      "text/html": [
       "<div>\n",
       "<style scoped>\n",
       "    .dataframe tbody tr th:only-of-type {\n",
       "        vertical-align: middle;\n",
       "    }\n",
       "\n",
       "    .dataframe tbody tr th {\n",
       "        vertical-align: top;\n",
       "    }\n",
       "\n",
       "    .dataframe thead th {\n",
       "        text-align: right;\n",
       "    }\n",
       "</style>\n",
       "<table border=\"1\" class=\"dataframe\">\n",
       "  <thead>\n",
       "    <tr style=\"text-align: right;\">\n",
       "      <th></th>\n",
       "      <th>user_id</th>\n",
       "      <th>month</th>\n",
       "      <th>call_count</th>\n",
       "      <th>minutes</th>\n",
       "      <th>sms</th>\n",
       "      <th>internet</th>\n",
       "      <th>revenue</th>\n",
       "    </tr>\n",
       "  </thead>\n",
       "  <tbody>\n",
       "    <tr>\n",
       "      <th>count</th>\n",
       "      <td>720.000000</td>\n",
       "      <td>720.000000</td>\n",
       "      <td>720.000000</td>\n",
       "      <td>720.000000</td>\n",
       "      <td>720.000000</td>\n",
       "      <td>720.000000</td>\n",
       "      <td>720.000000</td>\n",
       "    </tr>\n",
       "    <tr>\n",
       "      <th>mean</th>\n",
       "      <td>1253.330556</td>\n",
       "      <td>9.151389</td>\n",
       "      <td>60.626389</td>\n",
       "      <td>430.450000</td>\n",
       "      <td>37.551389</td>\n",
       "      <td>17214.209722</td>\n",
       "      <td>72.313889</td>\n",
       "    </tr>\n",
       "    <tr>\n",
       "      <th>std</th>\n",
       "      <td>150.915644</td>\n",
       "      <td>2.558495</td>\n",
       "      <td>33.242994</td>\n",
       "      <td>240.508762</td>\n",
       "      <td>34.767179</td>\n",
       "      <td>7851.881084</td>\n",
       "      <td>11.395108</td>\n",
       "    </tr>\n",
       "    <tr>\n",
       "      <th>min</th>\n",
       "      <td>1000.000000</td>\n",
       "      <td>1.000000</td>\n",
       "      <td>0.000000</td>\n",
       "      <td>0.000000</td>\n",
       "      <td>0.000000</td>\n",
       "      <td>0.000000</td>\n",
       "      <td>70.000000</td>\n",
       "    </tr>\n",
       "    <tr>\n",
       "      <th>25%</th>\n",
       "      <td>1126.000000</td>\n",
       "      <td>8.000000</td>\n",
       "      <td>36.000000</td>\n",
       "      <td>260.000000</td>\n",
       "      <td>7.000000</td>\n",
       "      <td>12666.500000</td>\n",
       "      <td>70.000000</td>\n",
       "    </tr>\n",
       "    <tr>\n",
       "      <th>50%</th>\n",
       "      <td>1241.500000</td>\n",
       "      <td>10.000000</td>\n",
       "      <td>61.000000</td>\n",
       "      <td>424.000000</td>\n",
       "      <td>30.000000</td>\n",
       "      <td>16858.000000</td>\n",
       "      <td>70.000000</td>\n",
       "    </tr>\n",
       "    <tr>\n",
       "      <th>75%</th>\n",
       "      <td>1401.000000</td>\n",
       "      <td>11.000000</td>\n",
       "      <td>80.000000</td>\n",
       "      <td>565.250000</td>\n",
       "      <td>61.000000</td>\n",
       "      <td>21013.750000</td>\n",
       "      <td>70.000000</td>\n",
       "    </tr>\n",
       "    <tr>\n",
       "      <th>max</th>\n",
       "      <td>1497.000000</td>\n",
       "      <td>12.000000</td>\n",
       "      <td>191.000000</td>\n",
       "      <td>1369.000000</td>\n",
       "      <td>166.000000</td>\n",
       "      <td>46595.000000</td>\n",
       "      <td>182.000000</td>\n",
       "    </tr>\n",
       "  </tbody>\n",
       "</table>\n",
       "</div>"
      ],
      "text/plain": [
       "           user_id       month  call_count      minutes         sms  \\\n",
       "count   720.000000  720.000000  720.000000   720.000000  720.000000   \n",
       "mean   1253.330556    9.151389   60.626389   430.450000   37.551389   \n",
       "std     150.915644    2.558495   33.242994   240.508762   34.767179   \n",
       "min    1000.000000    1.000000    0.000000     0.000000    0.000000   \n",
       "25%    1126.000000    8.000000   36.000000   260.000000    7.000000   \n",
       "50%    1241.500000   10.000000   61.000000   424.000000   30.000000   \n",
       "75%    1401.000000   11.000000   80.000000   565.250000   61.000000   \n",
       "max    1497.000000   12.000000  191.000000  1369.000000  166.000000   \n",
       "\n",
       "           internet     revenue  \n",
       "count    720.000000  720.000000  \n",
       "mean   17214.209722   72.313889  \n",
       "std     7851.881084   11.395108  \n",
       "min        0.000000   70.000000  \n",
       "25%    12666.500000   70.000000  \n",
       "50%    16858.000000   70.000000  \n",
       "75%    21013.750000   70.000000  \n",
       "max    46595.000000  182.000000  "
      ]
     },
     "execution_count": 37,
     "metadata": {},
     "output_type": "execute_result"
    }
   ],
   "source": [
    "#query data by plan type\n",
    "ultimate_monthly_data = monthly_data.query('tariff == \"ultimate\"')\n",
    "\n",
    "ultimate_monthly_data.describe()"
   ]
  },
  {
   "cell_type": "code",
   "execution_count": 38,
   "metadata": {},
   "outputs": [],
   "source": [
    "# a function that takes data and a parameter as a column name.\n",
    "# calculates and print mean, median, variance, standard deviation\n",
    "\n",
    "def mean_var_dev(data, parameter):\n",
    "    \n",
    "    tariff= data.iloc[0][6]  \n",
    "    print(' ')\n",
    "    print(f'\\033[1mTariff: {tariff}\\033[0m')\n",
    "    print(f'Info for: {parameter}')\n",
    "    print('-'*30) \n",
    "    print(f'Mean: {int(data[parameter].mean())}') \n",
    "    print(f'Median: {int(data[parameter].median())}')\n",
    "    print(f'Variation: {int(np.var(data[parameter]))}')\n",
    "    print(f'Standard deviation: {int(np.std(data[parameter]))}')\n",
    "    print('-'*30)\n",
    "\n",
    "# a function that takes data and a parameter as a column name.\n",
    "# plots histograms for two plans by the column specified as a parameter\n",
    "    \n",
    "def plot_hists(data, parameter):    \n",
    "    surf = data.query('tariff == \"surf\"').loc[data[parameter] != 0]\n",
    "    ultima = data.query('tariff == \"ultimate\"').loc[data[parameter] != 0]\n",
    "    mean_var_dev(surf, parameter)\n",
    "    mean_var_dev(ultima, parameter)\n",
    "\n",
    "    print(' ')\n",
    "    print(f'\\033[1mHistogtam of {parameter}\\033[0m')\n",
    "    ax = surf.hist(column=parameter, bins=20)\n",
    "    ultima.hist(column=parameter, bins=20, alpha=0.7, ax =ax)\n",
    "    plt.xlabel(parameter)\n",
    "    plt.ylabel('Frequency')\n",
    "    plt.legend(['tariff SURF','tariff ULTIMATE'])\n",
    "    "
   ]
  },
  {
   "cell_type": "code",
   "execution_count": 39,
   "metadata": {},
   "outputs": [
    {
     "name": "stdout",
     "output_type": "stream",
     "text": [
      " \n",
      "\u001b[1mTariff: surf\u001b[0m\n",
      "Info for: minutes\n",
      "------------------------------\n",
      "Mean: 436\n",
      "Median: 430\n",
      "Variation: 52447\n",
      "Standard deviation: 229\n",
      "------------------------------\n",
      " \n",
      "\u001b[1mTariff: ultimate\u001b[0m\n",
      "Info for: minutes\n",
      "------------------------------\n",
      "Mean: 435\n",
      "Median: 425\n",
      "Variation: 56307\n",
      "Standard deviation: 237\n",
      "------------------------------\n",
      " \n",
      "\u001b[1mHistogtam of minutes\u001b[0m\n"
     ]
    },
    {
     "data": {
      "image/png": "[encoded data removed]",
      "text/plain": [
       "<Figure size 432x288 with 1 Axes>"
      ]
     },
     "metadata": {
      "needs_background": "light"
     },
     "output_type": "display_data"
    }
   ],
   "source": [
    "plot_hists(monthly_data,'minutes')"
   ]
  },
  {
   "cell_type": "markdown",
   "metadata": {},
   "source": [
    "### Conclusions #1"
   ]
  },
  {
   "cell_type": "markdown",
   "metadata": {},
   "source": [
    "It can be seen from the hidtogram that the distribution of call duration per month is generally similar to normal, but the peak of values is:  \n",
    "\n",
    "**for Surf - 380 - 500 mins per month ||  for Ultimate - 400 - 470 mins per month**\n",
    "\n",
    "The calculations show that, on average, \n",
    "surf tariff users make calls for 436 minutes per month, which is below the provided limit.\n",
    "ultimate tariff - 435.\n",
    "\n",
    "It is interesting to analyze the proportion of months in which subscribers resorted to additional services."
   ]
  },
  {
   "cell_type": "code",
   "execution_count": 40,
   "metadata": {},
   "outputs": [
    {
     "name": "stdout",
     "output_type": "stream",
     "text": [
      "Months with overtime minutes for Surf: 35.98%\n",
      "Months with overtime minutes for Ultimate: 0.00%\n",
      "--------------------------------------------------\n",
      "Average overage by users over 500 minutes: 171\n",
      "Average overage by users over 3000 minutes: nan\n"
     ]
    }
   ],
   "source": [
    "print(f\"Months with overtime minutes for Surf: {len(surf_monthly_data.query('minutes > 500')) / len(surf_monthly_data['minutes']):.2%}\")\n",
    "print(f\"Months with overtime minutes for Ultimate: {len(ultimate_monthly_data.query('minutes > 3000')) / len(ultimate_monthly_data['minutes']):.2%}\")\n",
    "print('-'*50) \n",
    "print(f\"Average overage by users over 500 minutes: {surf_monthly_data.query('minutes > 500')['minutes'].mean() - 500:.0f}\")\n",
    "print(f\"Average overage by users over 3000 minutes: {ultimate_monthly_data.query('minutes > 3000')['minutes'].mean() - 3000:.0f}\")\n"
   ]
  },
  {
   "cell_type": "markdown",
   "metadata": {},
   "source": [
    "We see that users in Surf tariff in a third of the months, users used additional minutes, while users of the Ultimate tariff did not exceed the maximum."
   ]
  },
  {
   "cell_type": "markdown",
   "metadata": {},
   "source": [
    "This means that Surf users whose call needs exceeded the limit of minutes needed about 2.5 more hours of calls.  \n",
    "Ultimate users did not go beyond the limit of calls offered by the plan."
   ]
  },
  {
   "cell_type": "markdown",
   "metadata": {},
   "source": [
    "\n",
    "\n",
    "**Next, take a look at the message histograms**"
   ]
  },
  {
   "cell_type": "code",
   "execution_count": 41,
   "metadata": {
    "scrolled": false
   },
   "outputs": [
    {
     "name": "stdout",
     "output_type": "stream",
     "text": [
      " \n",
      "\u001b[1mTariff: surf\u001b[0m\n",
      "Info for: sms\n",
      "------------------------------\n",
      "Mean: 40\n",
      "Median: 32\n",
      "Variation: 1090\n",
      "Standard deviation: 33\n",
      "------------------------------\n",
      " \n",
      "\u001b[1mTariff: ultimate\u001b[0m\n",
      "Info for: sms\n",
      "------------------------------\n",
      "Mean: 46\n",
      "Median: 41\n",
      "Variation: 1083\n",
      "Standard deviation: 32\n",
      "------------------------------\n",
      " \n",
      "\u001b[1mHistogtam of sms\u001b[0m\n"
     ]
    },
    {
     "data": {
      "image/png": "[encoded data removed]",
      "text/plain": [
       "<Figure size 432x288 with 1 Axes>"
      ]
     },
     "metadata": {
      "needs_background": "light"
     },
     "output_type": "display_data"
    }
   ],
   "source": [
    "plot_hists(monthly_data,'sms')"
   ]
  },
  {
   "cell_type": "markdown",
   "metadata": {},
   "source": [
    "### Conclusions #2"
   ]
  },
  {
   "cell_type": "markdown",
   "metadata": {},
   "source": [
    "It can be seen that there were a very large number of months when subscribers did not send any messages.\n",
    "\n",
    "But the average value of sent messages  \n",
    "\n",
    "**for Surf - 40 sms per month || for Ultimate - 46 sms per month**\n",
    "\n",
    "We will also look at how many people used to send messages over the limit and how many messages such people sent above the value included in the fee."
   ]
  },
  {
   "cell_type": "code",
   "execution_count": 42,
   "metadata": {},
   "outputs": [
    {
     "name": "stdout",
     "output_type": "stream",
     "text": [
      "Months with overlimits sms for Surf: 21.61%\n",
      "Months with overlimits sms for Ultimate: 0.00%\n",
      "--------------------------------------------------\n",
      "Average overage by users over 50 sms: 32\n",
      "Average overage by users over 1000 sms: nan\n"
     ]
    }
   ],
   "source": [
    "print(f\"Months with overlimits sms for Surf: {len(surf_monthly_data.query('sms > 50')) / len(surf_monthly_data['sms']):.2%}\")\n",
    "print(f\"Months with overlimits sms for Ultimate: {len(ultimate_monthly_data.query('sms > 1000')) / len(ultimate_monthly_data['sms']):.2%}\")\n",
    "print('-'*50) \n",
    "print(f\"Average overage by users over 50 sms: {surf_monthly_data.query('sms > 50')['sms'].mean() - 50:.0f}\")\n",
    "print(f\"Average overage by users over 1000 sms: {ultimate_monthly_data.query('sms > 1000')['sms'].mean() - 1000:.0f}\")\n"
   ]
  },
  {
   "cell_type": "markdown",
   "metadata": {},
   "source": [
    "Surf users were knocked out of the message limit in a 20% months, and on average they needed about 32 messages.  \n",
    "Ultimate users did not go beyond the limit of sms offered by the plan.\n",
    "\n",
    "Find out how many minutes on average you had to pay."
   ]
  },
  {
   "cell_type": "markdown",
   "metadata": {},
   "source": [
    "**Next, let's look at the histogram of the spent megabytes of the Internet.**"
   ]
  },
  {
   "cell_type": "code",
   "execution_count": 43,
   "metadata": {
    "scrolled": false
   },
   "outputs": [
    {
     "name": "stdout",
     "output_type": "stream",
     "text": [
      " \n",
      "\u001b[1mTariff: surf\u001b[0m\n",
      "Info for: internet\n",
      "------------------------------\n",
      "Mean: 16717\n",
      "Median: 16923\n",
      "Variation: 62128189\n",
      "Standard deviation: 7882\n",
      "------------------------------\n",
      " \n",
      "\u001b[1mTariff: ultimate\u001b[0m\n",
      "Info for: internet\n",
      "------------------------------\n",
      "Mean: 17238\n",
      "Median: 16863\n",
      "Variation: 61239322\n",
      "Standard deviation: 7825\n",
      "------------------------------\n",
      " \n",
      "\u001b[1mHistogtam of internet\u001b[0m\n"
     ]
    },
    {
     "data": {
      "image/png": "[encoded data removed]",
      "text/plain": [
       "<Figure size 432x288 with 1 Axes>"
      ]
     },
     "metadata": {
      "needs_background": "light"
     },
     "output_type": "display_data"
    }
   ],
   "source": [
    "plot_hists(monthly_data,'internet')"
   ]
  },
  {
   "cell_type": "markdown",
   "metadata": {},
   "source": [
    "### Correlation matrix"
   ]
  },
  {
   "cell_type": "markdown",
   "metadata": {},
   "source": [
    "Let's build a correlation matrix to see the dependence of revenue on the values."
   ]
  },
  {
   "cell_type": "code",
   "execution_count": 44,
   "metadata": {},
   "outputs": [
    {
     "data": {
      "text/plain": [
       "<AxesSubplot:>"
      ]
     },
     "execution_count": 44,
     "metadata": {},
     "output_type": "execute_result"
    },
    {
     "data": {
      "image/png": "[encoded data removed]",
      "text/plain": [
       "<Figure size 432x288 with 2 Axes>"
      ]
     },
     "metadata": {
      "needs_background": "light"
     },
     "output_type": "display_data"
    }
   ],
   "source": [
    "surf_data = surf_monthly_data[['minutes', 'sms', 'internet', 'revenue']]\n",
    "# Correlation matrix for SURF\n",
    "sns.heatmap(surf_data.corr(), cmap='cividis',annot=True)"
   ]
  },
  {
   "cell_type": "code",
   "execution_count": 45,
   "metadata": {},
   "outputs": [
    {
     "data": {
      "text/plain": [
       "<AxesSubplot:>"
      ]
     },
     "execution_count": 45,
     "metadata": {},
     "output_type": "execute_result"
    },
    {
     "data": {
      "image/png": "[encoded data removed]",
      "text/plain": [
       "<Figure size 432x288 with 2 Axes>"
      ]
     },
     "metadata": {
      "needs_background": "light"
     },
     "output_type": "display_data"
    }
   ],
   "source": [
    "ultima_data = ultimate_monthly_data[['minutes', 'sms', 'internet', 'revenue']]\n",
    "# Correlation matrix for Ultimate\n",
    "sns.heatmap(ultima_data.corr(), cmap='cividis',annot=True)"
   ]
  },
  {
   "cell_type": "markdown",
   "metadata": {},
   "source": [
    "We see that in the Surf tariff there is a significant influence of the amount of Internet traffic of users on the total amount of revenue for this tariff. In the Ultimate tariff, this influence is also noticeable, but to a lesser extent than in Surf.\n",
    "Let's draw conclusions based on the histogram and matrix."
   ]
  },
  {
   "cell_type": "markdown",
   "metadata": {},
   "source": [
    "### Conclusions #3"
   ]
  },
  {
   "cell_type": "markdown",
   "metadata": {},
   "source": [
    "It looks like the frequency distribution of this parameter is very similar to normal.\n",
    "\n",
    "The calculated average is  \n",
    "**for Surf - 16717 Mb per month || for Ultimate - 17238 Mb per month**\n",
    "\n",
    "Let's see how many months subscribers got beyond the limit of the provided traffic and how much traffic was taken additionally on average."
   ]
  },
  {
   "cell_type": "code",
   "execution_count": 46,
   "metadata": {},
   "outputs": [
    {
     "name": "stdout",
     "output_type": "stream",
     "text": [
      "Months with overlimits Gb for Surf: 57.91%\n",
      "Months with overlimits Gb for Ultimate: 5.69%\n",
      "--------------------------------------------------\n",
      "Average overage by users over 15 GB: 6297\n",
      "Average overage by users over 30 GB: 5436\n"
     ]
    }
   ],
   "source": [
    "print(f\"Months with overlimits Gb for Surf: {len(surf_monthly_data.query('internet > 15360')) / len(surf_monthly_data['internet']):.2%}\")\n",
    "print(f\"Months with overlimits Gb for Ultimate: {len(ultimate_monthly_data.query('internet > 30720')) / len(ultimate_monthly_data['internet']):.2%}\")\n",
    "print('-'*50) \n",
    "print(f\"Average overage by users over 15 GB: {surf_monthly_data.query('internet > 15360')['internet'].mean() - 15360:.0f}\")\n",
    "print(f\"Average overage by users over 30 GB: {ultimate_monthly_data.query('internet > 30720')['internet'].mean() - 30720:.0f}\")\n"
   ]
  },
  {
   "cell_type": "markdown",
   "metadata": {},
   "source": [
    "It turns out an interesting conclusion - in more than half of the cases, users of the Surf tariff were knocked out of the limit of the included traffic, and on average they needed almost 6 GB of Internet.\n",
    "While Ultimate users only exceeded 5% of the cases."
   ]
  },
  {
   "cell_type": "markdown",
   "metadata": {},
   "source": [
    "### Conclusions #4"
   ]
  },
  {
   "cell_type": "markdown",
   "metadata": {},
   "source": [
    "Next, let's look at the distribution of revenue by months."
   ]
  },
  {
   "cell_type": "code",
   "execution_count": 47,
   "metadata": {},
   "outputs": [
    {
     "name": "stdout",
     "output_type": "stream",
     "text": [
      "\u001b[1mTotal Surf Revenue: 95461\u001b[0m\n",
      "the amount of basic fee: 8620\n",
      "and the amount of revenue over the limits: 86841\n",
      "--------------------------------------------------\n",
      "\u001b[1mTotal ULTIMATE Revenue: 52066\u001b[0m\n",
      "the amount of basic fee: 47530\n",
      "and the amount of revenue over the limits: 4536\n"
     ]
    }
   ],
   "source": [
    "print(f\"\\033[1mTotal Surf Revenue: {int(surf_monthly_data['revenue'].sum())}\\033[0m\")\n",
    "print(f\"the amount of basic fee: {int(surf_monthly_data.query('revenue == 20')['revenue'].sum())}\")\n",
    "print(f\"and the amount of revenue over the limits: {int(surf_monthly_data.query('revenue > 20')['revenue'].sum())}\")\n",
    "print('-'*50) \n",
    "print(f\"\\033[1mTotal ULTIMATE Revenue: {int(ultimate_monthly_data['revenue'].sum())}\\033[0m\")\n",
    "print(f\"the amount of basic fee: {int(ultimate_monthly_data.query('revenue == 70')['revenue'].sum())}\")\n",
    "print(f\"and the amount of revenue over the limits: {int(ultimate_monthly_data.query('revenue > 70')['revenue'].sum())}\")\n"
   ]
  },
  {
   "cell_type": "markdown",
   "metadata": {},
   "source": [
    "We see that users of the Surf tariff only in 10% of cases paid monthly fees and invested in tariff limits. 90% of users went beyond the tariff and paid extra money.\n",
    "For the Ultimate tariff, we see the opposite picture - users in 90% of cases remain within the limits of the tariff and do not pay extra money."
   ]
  },
  {
   "cell_type": "markdown",
   "metadata": {},
   "source": [
    "##  Test the hypotheses"
   ]
  },
  {
   "cell_type": "markdown",
   "metadata": {},
   "source": [
    "### 1. null hypothesis H₀\n",
    "\n",
    "So, we need to compare the average revenue of users of Surf and Ultimate tariffs.\n",
    "In this case, we will formulate a hypothesis about the equality of the mean of two general populations.\n",
    "\n",
    "The first general population for us will be users of the Surf tariff, the second general population - users of the Ultimate tariff.\n",
    "\n",
    "We need to conduct a t-test in order to be able to conclude whether the differences in the means of the two samples are random.\n",
    "\n",
    "Thus, the null hypothesis H₀ for us is that the average revenues of surf and ultimate tariff users are equal.\n",
    "Alternative hypothesis H1 - the average revenues of users are not equal.\n",
    "\n",
    "To test this hypothesis, let's turn to the scipy.stats.ttest_ind test.\n",
    "We choose the critical statistical significance level at 5%.\n",
    "Since the sample variances are different, we will set the \"equal_var = False\" parameter.\n",
    "\n",
    "So, let's pass the method two arrays containing the selections.\n",
    "\n",
    "**H₀: The average revenue from the users of Ultimate tariff is equal the average revenue from theusers of Surf tariff.** \n",
    "\n",
    "**H₁: The average revenue from the users of Ultimate tariff NOT equal the average revenue from the users of Surf tariff.**"
   ]
  },
  {
   "cell_type": "code",
   "execution_count": 48,
   "metadata": {},
   "outputs": [
    {
     "name": "stdout",
     "output_type": "stream",
     "text": [
      "p-value:  2.8239035478922904e-15\n",
      "We reject the null hypothesis\n"
     ]
    }
   ],
   "source": [
    "alpha = 0.05  # critical statistical significance level\n",
    "\n",
    "surf_sample = monthly_data.query('tariff == \"surf\"')['revenue']\n",
    "ultima_sample = monthly_data.query('tariff == \"ultimate\"')['revenue']\n",
    "results = st.ttest_ind(surf_sample, ultima_sample, equal_var = False )\n",
    "\n",
    "# print(surf_sample.mean(), ultima_sample.mean())\n",
    "print('p-value: ', results.pvalue)\n",
    "\n",
    "# if the p-value is less than alpha, we reject the hypothesis\n",
    "if results.pvalue < alpha:\n",
    "    print(\"We reject the null hypothesis\")\n",
    "else:\n",
    "    print(\"We can't reject the null hypothesis\") "
   ]
  },
  {
   "cell_type": "markdown",
   "metadata": {},
   "source": [
    "**Conclusions**   \n",
    "\n",
    "Based on our research, we can conclude that there is statistically significant evidence that the average profit from users of the Ultimate and Surf calling plans differ."
   ]
  },
  {
   "cell_type": "markdown",
   "metadata": {},
   "source": [
    "### 2. null hypothesis H₀\n",
    "\n",
    "So, we need to compare the average revenue of users from NY-NJ area and users from other areas.\n",
    "\n",
    "The first general population for us will be users from NY-NJ area, the second general population - users from other areas.\n",
    "\n",
    "We need to conduct a t-test in order to be able to conclude whether the differences in the means of the two samples are random.\n",
    "\n",
    "Thus, the null hypothesis H₀ for us is that the average revenue of users from NY-NJ area and users from other areas are equal.\n",
    "Alternative hypothesis H1 - the average revenues of users are not equal.\n",
    "\n",
    "To test this hypothesis, let's turn to the scipy.stats.ttest_ind test.\n",
    "We choose the critical statistical significance level at 5%.\n",
    "Since the sample variances are different, we will set the \"equal_var = False\" parameter.\n",
    "\n",
    "So, let's pass the method two arrays containing the selections.\n",
    "\n",
    "**H₀: The average profit from the users from NY-NJ area is equal from that of the users from other areas.**"
   ]
  },
  {
   "cell_type": "code",
   "execution_count": 49,
   "metadata": {},
   "outputs": [
    {
     "name": "stdout",
     "output_type": "stream",
     "text": [
      "p-value:  0.09141646407996216\n",
      "We can't reject the null hypothesis\n"
     ]
    }
   ],
   "source": [
    "alpha = 0.05  # critical statistical significance level\n",
    "# if the p-value is less than alpha, we reject the hypothesis\n",
    "\n",
    "ny_nj_sample = monthly_data.query('city == \"NY-NJ\"')['revenue']\n",
    "others_sample2 = monthly_data.query('city == \"others\"')['revenue']\n",
    "results2 = st.ttest_ind(ny_nj_sample, others_sample2, equal_var = False )\n",
    "\n",
    "print('p-value: ', results2.pvalue)\n",
    "\n",
    "if results2.pvalue < alpha:\n",
    "    print(\"We reject the null hypothesis\")\n",
    "else:\n",
    "    print(\"We can't reject the null hypothesis\") \n"
   ]
  },
  {
   "cell_type": "markdown",
   "metadata": {},
   "source": [
    "**Conclusions**  \n",
    "\n",
    "Based on our research using our alpha, we can conclude that there is statistically significant evidence that the average profit from users in the NY-NJ area is not different from that of the users from other regions"
   ]
  },
  {
   "cell_type": "markdown",
   "metadata": {},
   "source": [
    "# General conclusion"
   ]
  },
  {
   "cell_type": "markdown",
   "metadata": {},
   "source": [
    "For analysis, we had a sample of 500 users of the Megaline operator.\n",
    "\n",
    "- The information was presented in five datasets, which we consolidated into one data - `monthly_data`.\n",
    "\n",
    "- Based on this data, we created a function that calculated the revenue for each user separately for each month, based on his plans and his exceeding the limit for calls, SMS and Internet traffic.\n",
    "\n",
    "- After combining our data into a single data frame, we divided users by tariffs and built histograms, find mean, variance, and standard deviation to see the distribution of customer behavior in terms of calls duration, SMS and Internet traffic.\n",
    "\n",
    "\n",
    "- We saw that 90% of **`Surf tariff`** users go beyond the tariff plan and use additional services above the tariff - in a third of cases by calls, in a quarter - by messages and in more than half of cases via the Internet traffic.\n",
    "- The average revenue under the Surf tariff significantly exceeds the subscription fee.\n",
    "\n",
    "\n",
    "- Users of the **`Ultimate tariff`** have high limits on messages and minutes of calls, and according to the sample, they rarely approach the thresholds. The Internet traffic limit is also high, it was exceeded only in 5.6% of cases.\n",
    "- Users of the Ultimate tariff only in 10% of cases exceeded the monthly fee.\n",
    "\n",
    "\n",
    "- From our data, it looks like the Surf tariff plan is not very convenient for most users, since people have much more needs for Internet traffic, calls and messages than the tariff offers. It is possible that the Megaline operator should revise this package - raise the limits and increase the cost of the monthly fee.\n",
    "\n",
    "\n",
    "- The hypothesis test showed that the average revenue from users of the Surf tariff is not equal to the Ultimate, so we had to reject the null hypothesis.\n",
    "\n",
    "\n",
    "- Testing the second hypothesis that the average revenue from users in the NY-NJ region is equal to the average revenue from other regions - we cannot reject it, despite a slight difference from the critical significance level of 5%. We must say that the average user revenue of the NY-NJ area is equal to other regions."
   ]
  }
 ],
 "metadata": {
  "ExecuteTimeLog": [
   {
    "duration": 53,
    "start_time": "2022-08-21T12:42:35.293Z"
   },
   {
    "duration": 1039,
    "start_time": "2022-08-21T12:42:40.083Z"
   },
   {
    "duration": 1166,
    "start_time": "2022-08-21T12:42:41.124Z"
   },
   {
    "duration": 62,
    "start_time": "2022-08-21T12:46:54.330Z"
   },
   {
    "duration": 32,
    "start_time": "2022-08-21T13:27:48.984Z"
   },
   {
    "duration": 28,
    "start_time": "2022-08-21T13:28:13.378Z"
   },
   {
    "duration": 28,
    "start_time": "2022-08-21T13:28:29.244Z"
   },
   {
    "duration": 27,
    "start_time": "2022-08-21T13:28:43.874Z"
   },
   {
    "duration": 60,
    "start_time": "2022-08-21T13:29:50.117Z"
   },
   {
    "duration": 29,
    "start_time": "2022-08-21T13:30:57.600Z"
   },
   {
    "duration": 29,
    "start_time": "2022-08-21T13:31:16.624Z"
   },
   {
    "duration": 30,
    "start_time": "2022-08-21T13:31:28.239Z"
   },
   {
    "duration": 29,
    "start_time": "2022-08-21T13:31:33.189Z"
   },
   {
    "duration": 30,
    "start_time": "2022-08-21T13:32:22.025Z"
   },
   {
    "duration": 46,
    "start_time": "2022-08-21T13:35:10.670Z"
   },
   {
    "duration": 52,
    "start_time": "2022-08-21T13:42:59.873Z"
   },
   {
    "duration": 121,
    "start_time": "2022-08-21T13:43:18.397Z"
   },
   {
    "duration": 4,
    "start_time": "2022-08-21T13:44:07.638Z"
   },
   {
    "duration": 76,
    "start_time": "2022-08-21T13:44:12.133Z"
   },
   {
    "duration": 304,
    "start_time": "2022-08-21T13:56:46.938Z"
   },
   {
    "duration": 36,
    "start_time": "2022-08-21T14:02:34.848Z"
   },
   {
    "duration": 3,
    "start_time": "2022-08-21T14:08:06.031Z"
   },
   {
    "duration": 9,
    "start_time": "2022-08-21T14:09:36.352Z"
   },
   {
    "duration": 6,
    "start_time": "2022-08-21T14:09:41.783Z"
   },
   {
    "duration": 5,
    "start_time": "2022-08-21T14:09:49.145Z"
   },
   {
    "duration": 76,
    "start_time": "2022-08-21T14:15:51.444Z"
   },
   {
    "duration": 4,
    "start_time": "2022-08-21T14:16:17.365Z"
   },
   {
    "duration": 5,
    "start_time": "2022-08-21T14:50:51.225Z"
   },
   {
    "duration": 7,
    "start_time": "2022-08-21T14:51:34.533Z"
   },
   {
    "duration": 8,
    "start_time": "2022-08-21T14:51:44.121Z"
   },
   {
    "duration": 8,
    "start_time": "2022-08-21T14:51:47.170Z"
   },
   {
    "duration": 4,
    "start_time": "2022-08-21T14:51:56.671Z"
   },
   {
    "duration": 6,
    "start_time": "2022-08-21T14:52:03.497Z"
   },
   {
    "duration": 11,
    "start_time": "2022-08-21T14:58:07.612Z"
   },
   {
    "duration": 59,
    "start_time": "2022-08-21T15:03:19.919Z"
   },
   {
    "duration": 72,
    "start_time": "2022-08-21T15:33:20.251Z"
   },
   {
    "duration": 55,
    "start_time": "2022-08-21T15:57:36.064Z"
   },
   {
    "duration": 63,
    "start_time": "2022-08-21T18:48:00.568Z"
   },
   {
    "duration": 1208,
    "start_time": "2022-08-21T18:48:07.711Z"
   },
   {
    "duration": 4,
    "start_time": "2022-08-21T18:48:08.921Z"
   },
   {
    "duration": 1185,
    "start_time": "2022-08-21T18:48:08.926Z"
   },
   {
    "duration": 37,
    "start_time": "2022-08-21T18:48:10.113Z"
   },
   {
    "duration": 5,
    "start_time": "2022-08-21T18:48:10.153Z"
   },
   {
    "duration": 10,
    "start_time": "2022-08-21T18:48:10.159Z"
   },
   {
    "duration": 148,
    "start_time": "2022-08-21T18:48:10.170Z"
   },
   {
    "duration": 13,
    "start_time": "2022-08-21T18:48:10.320Z"
   },
   {
    "duration": 27,
    "start_time": "2022-08-21T18:48:10.335Z"
   },
   {
    "duration": 78,
    "start_time": "2022-08-21T18:48:10.364Z"
   },
   {
    "duration": 125,
    "start_time": "2022-08-21T18:48:10.444Z"
   },
   {
    "duration": 30,
    "start_time": "2022-08-21T18:48:10.570Z"
   },
   {
    "duration": 23,
    "start_time": "2022-08-21T18:48:23.411Z"
   },
   {
    "duration": 10,
    "start_time": "2022-08-21T18:48:31.582Z"
   },
   {
    "duration": 77,
    "start_time": "2022-08-21T19:08:05.506Z"
   },
   {
    "duration": 6,
    "start_time": "2022-08-21T20:26:03.242Z"
   },
   {
    "duration": 72,
    "start_time": "2022-08-21T20:26:15.906Z"
   },
   {
    "duration": 13,
    "start_time": "2022-08-21T20:26:26.191Z"
   },
   {
    "duration": 13,
    "start_time": "2022-08-21T20:26:33.384Z"
   },
   {
    "duration": 5,
    "start_time": "2022-08-21T20:27:18.479Z"
   },
   {
    "duration": 4,
    "start_time": "2022-08-21T20:27:22.065Z"
   },
   {
    "duration": 3,
    "start_time": "2022-08-21T20:27:27.526Z"
   },
   {
    "duration": 5,
    "start_time": "2022-08-21T20:27:27.531Z"
   },
   {
    "duration": 315,
    "start_time": "2022-08-21T20:27:27.538Z"
   },
   {
    "duration": 30,
    "start_time": "2022-08-21T20:27:27.855Z"
   },
   {
    "duration": 3,
    "start_time": "2022-08-21T20:27:27.887Z"
   },
   {
    "duration": 6,
    "start_time": "2022-08-21T20:27:27.891Z"
   },
   {
    "duration": 101,
    "start_time": "2022-08-21T20:27:27.898Z"
   },
   {
    "duration": 12,
    "start_time": "2022-08-21T20:27:28.001Z"
   },
   {
    "duration": 17,
    "start_time": "2022-08-21T20:27:28.014Z"
   },
   {
    "duration": 76,
    "start_time": "2022-08-21T20:27:28.033Z"
   },
   {
    "duration": 95,
    "start_time": "2022-08-21T20:27:28.111Z"
   },
   {
    "duration": 11,
    "start_time": "2022-08-21T20:27:28.207Z"
   },
   {
    "duration": 8,
    "start_time": "2022-08-21T20:27:28.219Z"
   },
   {
    "duration": 12,
    "start_time": "2022-08-21T20:27:28.228Z"
   },
   {
    "duration": 22,
    "start_time": "2022-08-21T20:27:28.242Z"
   },
   {
    "duration": 45,
    "start_time": "2022-08-21T20:27:28.265Z"
   },
   {
    "duration": 16,
    "start_time": "2022-08-21T20:27:28.312Z"
   },
   {
    "duration": 8,
    "start_time": "2022-08-21T20:28:42.638Z"
   },
   {
    "duration": 5,
    "start_time": "2022-08-21T20:28:55.106Z"
   },
   {
    "duration": 2,
    "start_time": "2022-08-21T20:29:03.732Z"
   },
   {
    "duration": 13,
    "start_time": "2022-08-21T20:29:03.736Z"
   },
   {
    "duration": 310,
    "start_time": "2022-08-21T20:29:03.751Z"
   },
   {
    "duration": 31,
    "start_time": "2022-08-21T20:29:04.062Z"
   },
   {
    "duration": 4,
    "start_time": "2022-08-21T20:29:04.095Z"
   },
   {
    "duration": 6,
    "start_time": "2022-08-21T20:29:04.101Z"
   },
   {
    "duration": 96,
    "start_time": "2022-08-21T20:29:04.108Z"
   },
   {
    "duration": 13,
    "start_time": "2022-08-21T20:29:04.205Z"
   },
   {
    "duration": 18,
    "start_time": "2022-08-21T20:29:04.219Z"
   },
   {
    "duration": 74,
    "start_time": "2022-08-21T20:29:04.238Z"
   },
   {
    "duration": 110,
    "start_time": "2022-08-21T20:29:04.313Z"
   },
   {
    "duration": 12,
    "start_time": "2022-08-21T20:29:04.425Z"
   },
   {
    "duration": 19,
    "start_time": "2022-08-21T20:29:04.439Z"
   },
   {
    "duration": 22,
    "start_time": "2022-08-21T20:29:04.461Z"
   },
   {
    "duration": 42,
    "start_time": "2022-08-21T20:29:04.485Z"
   },
   {
    "duration": 22,
    "start_time": "2022-08-21T20:29:04.530Z"
   },
   {
    "duration": 19,
    "start_time": "2022-08-21T20:29:04.554Z"
   },
   {
    "duration": 4,
    "start_time": "2022-08-21T20:34:54.160Z"
   },
   {
    "duration": 5,
    "start_time": "2022-08-21T20:34:57.844Z"
   },
   {
    "duration": 14,
    "start_time": "2022-08-21T20:39:56.921Z"
   },
   {
    "duration": 13,
    "start_time": "2022-08-21T20:40:10.740Z"
   },
   {
    "duration": 23,
    "start_time": "2022-08-21T20:41:00.654Z"
   },
   {
    "duration": 26,
    "start_time": "2022-08-21T20:44:47.519Z"
   },
   {
    "duration": 42,
    "start_time": "2022-08-21T20:45:31.299Z"
   },
   {
    "duration": 789,
    "start_time": "2022-08-21T20:45:35.618Z"
   },
   {
    "duration": 790,
    "start_time": "2022-08-21T20:45:42.052Z"
   },
   {
    "duration": 39,
    "start_time": "2022-08-21T20:45:58.373Z"
   },
   {
    "duration": 36,
    "start_time": "2022-08-21T20:47:14.722Z"
   },
   {
    "duration": 15,
    "start_time": "2022-08-21T20:51:12.189Z"
   },
   {
    "duration": 67,
    "start_time": "2022-08-21T20:51:48.231Z"
   },
   {
    "duration": 10,
    "start_time": "2022-08-21T20:51:58.929Z"
   },
   {
    "duration": 15,
    "start_time": "2022-08-21T20:52:16.303Z"
   },
   {
    "duration": 591,
    "start_time": "2022-08-21T21:00:32.095Z"
   },
   {
    "duration": 74,
    "start_time": "2022-08-21T21:04:33.398Z"
   },
   {
    "duration": 39,
    "start_time": "2022-08-21T21:04:45.535Z"
   },
   {
    "duration": 369,
    "start_time": "2022-08-21T21:07:06.360Z"
   },
   {
    "duration": 275,
    "start_time": "2022-08-21T21:08:36.747Z"
   },
   {
    "duration": 37,
    "start_time": "2022-08-21T21:09:54.277Z"
   },
   {
    "duration": 40,
    "start_time": "2022-08-21T21:10:02.187Z"
   },
   {
    "duration": 422,
    "start_time": "2022-08-21T21:11:04.771Z"
   },
   {
    "duration": 38,
    "start_time": "2022-08-21T21:11:56.740Z"
   },
   {
    "duration": 42,
    "start_time": "2022-08-21T21:14:04.431Z"
   },
   {
    "duration": 91,
    "start_time": "2022-08-21T21:14:14.467Z"
   },
   {
    "duration": 50,
    "start_time": "2022-08-21T21:18:18.801Z"
   },
   {
    "duration": 40,
    "start_time": "2022-08-21T21:18:31.413Z"
   },
   {
    "duration": 47,
    "start_time": "2022-08-21T21:20:36.991Z"
   },
   {
    "duration": 51,
    "start_time": "2022-08-21T21:21:18.776Z"
   },
   {
    "duration": 43,
    "start_time": "2022-08-21T21:23:09.144Z"
   },
   {
    "duration": 34,
    "start_time": "2022-08-21T21:27:17.030Z"
   },
   {
    "duration": 23,
    "start_time": "2022-08-21T21:27:38.844Z"
   },
   {
    "duration": 25,
    "start_time": "2022-08-21T21:27:55.315Z"
   },
   {
    "duration": 34,
    "start_time": "2022-08-21T21:28:08.060Z"
   },
   {
    "duration": 54,
    "start_time": "2022-08-21T21:29:03.872Z"
   },
   {
    "duration": 24,
    "start_time": "2022-08-21T21:29:09.141Z"
   },
   {
    "duration": 29,
    "start_time": "2022-08-21T21:29:42.134Z"
   },
   {
    "duration": 28,
    "start_time": "2022-08-21T21:30:56.316Z"
   },
   {
    "duration": 32,
    "start_time": "2022-08-21T21:34:31.590Z"
   },
   {
    "duration": 31,
    "start_time": "2022-08-21T21:36:13.039Z"
   },
   {
    "duration": 37,
    "start_time": "2022-08-21T21:37:11.256Z"
   },
   {
    "duration": 40,
    "start_time": "2022-08-21T21:38:48.918Z"
   },
   {
    "duration": 7,
    "start_time": "2022-08-21T21:40:42.342Z"
   },
   {
    "duration": 7,
    "start_time": "2022-08-21T21:41:47.207Z"
   },
   {
    "duration": 12,
    "start_time": "2022-08-21T21:43:56.729Z"
   },
   {
    "duration": 11,
    "start_time": "2022-08-21T21:45:25.532Z"
   },
   {
    "duration": 12,
    "start_time": "2022-08-21T21:48:21.462Z"
   },
   {
    "duration": 11,
    "start_time": "2022-08-21T21:48:25.465Z"
   },
   {
    "duration": 56,
    "start_time": "2022-08-21T21:55:40.819Z"
   },
   {
    "duration": 22,
    "start_time": "2022-08-21T21:55:48.641Z"
   },
   {
    "duration": 19,
    "start_time": "2022-08-21T21:56:53.348Z"
   },
   {
    "duration": 22,
    "start_time": "2022-08-21T21:57:22.934Z"
   },
   {
    "duration": 10,
    "start_time": "2022-08-21T21:59:01.362Z"
   },
   {
    "duration": 10,
    "start_time": "2022-08-21T21:59:30.360Z"
   },
   {
    "duration": 29,
    "start_time": "2022-08-21T22:00:03.303Z"
   },
   {
    "duration": 28,
    "start_time": "2022-08-21T22:01:48.927Z"
   },
   {
    "duration": 30,
    "start_time": "2022-08-21T22:11:39.774Z"
   },
   {
    "duration": 10,
    "start_time": "2022-08-21T22:12:15.310Z"
   },
   {
    "duration": 7,
    "start_time": "2022-08-21T22:12:41.252Z"
   },
   {
    "duration": 29,
    "start_time": "2022-08-21T22:24:32.514Z"
   },
   {
    "duration": 7,
    "start_time": "2022-08-21T22:24:54.405Z"
   },
   {
    "duration": 3,
    "start_time": "2022-08-21T22:32:28.793Z"
   },
   {
    "duration": 6,
    "start_time": "2022-08-21T22:32:49.489Z"
   },
   {
    "duration": 10,
    "start_time": "2022-08-21T22:32:59.506Z"
   },
   {
    "duration": 22,
    "start_time": "2022-08-21T22:33:11.323Z"
   },
   {
    "duration": 12,
    "start_time": "2022-08-21T22:33:38.693Z"
   },
   {
    "duration": 15,
    "start_time": "2022-08-21T22:34:26.251Z"
   },
   {
    "duration": 11,
    "start_time": "2022-08-21T22:34:49.438Z"
   },
   {
    "duration": 9,
    "start_time": "2022-08-21T22:34:54.908Z"
   },
   {
    "duration": 3,
    "start_time": "2022-08-21T22:34:59.733Z"
   },
   {
    "duration": 4,
    "start_time": "2022-08-21T22:34:59.746Z"
   },
   {
    "duration": 317,
    "start_time": "2022-08-21T22:34:59.758Z"
   },
   {
    "duration": 30,
    "start_time": "2022-08-21T22:35:00.077Z"
   },
   {
    "duration": 4,
    "start_time": "2022-08-21T22:35:00.108Z"
   },
   {
    "duration": 8,
    "start_time": "2022-08-21T22:35:00.113Z"
   },
   {
    "duration": 105,
    "start_time": "2022-08-21T22:35:00.123Z"
   },
   {
    "duration": 10,
    "start_time": "2022-08-21T22:35:00.229Z"
   },
   {
    "duration": 22,
    "start_time": "2022-08-21T22:35:00.241Z"
   },
   {
    "duration": 63,
    "start_time": "2022-08-21T22:35:00.264Z"
   },
   {
    "duration": 109,
    "start_time": "2022-08-21T22:35:00.329Z"
   },
   {
    "duration": 9,
    "start_time": "2022-08-21T22:35:00.440Z"
   },
   {
    "duration": 29,
    "start_time": "2022-08-21T22:35:00.450Z"
   },
   {
    "duration": 33,
    "start_time": "2022-08-21T22:35:00.480Z"
   },
   {
    "duration": 94,
    "start_time": "2022-08-21T22:35:00.515Z"
   },
   {
    "duration": 38,
    "start_time": "2022-08-21T22:35:00.611Z"
   },
   {
    "duration": 67,
    "start_time": "2022-08-21T22:35:00.651Z"
   },
   {
    "duration": 33,
    "start_time": "2022-08-21T22:35:00.719Z"
   },
   {
    "duration": 11,
    "start_time": "2022-08-21T22:35:00.753Z"
   },
   {
    "duration": 34,
    "start_time": "2022-08-21T22:35:00.765Z"
   },
   {
    "duration": 63,
    "start_time": "2022-08-21T22:35:00.800Z"
   },
   {
    "duration": 10,
    "start_time": "2022-08-21T22:35:00.865Z"
   },
   {
    "duration": 6,
    "start_time": "2022-08-21T22:35:39.194Z"
   },
   {
    "duration": 9,
    "start_time": "2022-08-21T22:35:48.783Z"
   },
   {
    "duration": 2,
    "start_time": "2022-08-21T22:35:58.078Z"
   },
   {
    "duration": 4,
    "start_time": "2022-08-21T22:35:58.082Z"
   },
   {
    "duration": 307,
    "start_time": "2022-08-21T22:35:58.088Z"
   },
   {
    "duration": 29,
    "start_time": "2022-08-21T22:35:58.397Z"
   },
   {
    "duration": 4,
    "start_time": "2022-08-21T22:35:58.427Z"
   },
   {
    "duration": 6,
    "start_time": "2022-08-21T22:35:58.432Z"
   },
   {
    "duration": 105,
    "start_time": "2022-08-21T22:35:58.439Z"
   },
   {
    "duration": 11,
    "start_time": "2022-08-21T22:35:58.546Z"
   },
   {
    "duration": 15,
    "start_time": "2022-08-21T22:35:58.559Z"
   },
   {
    "duration": 61,
    "start_time": "2022-08-21T22:35:58.576Z"
   },
   {
    "duration": 97,
    "start_time": "2022-08-21T22:35:58.639Z"
   },
   {
    "duration": 9,
    "start_time": "2022-08-21T22:35:58.738Z"
   },
   {
    "duration": 10,
    "start_time": "2022-08-21T22:35:58.749Z"
   },
   {
    "duration": 18,
    "start_time": "2022-08-21T22:35:58.761Z"
   },
   {
    "duration": 66,
    "start_time": "2022-08-21T22:35:58.798Z"
   },
   {
    "duration": 49,
    "start_time": "2022-08-21T22:35:58.866Z"
   },
   {
    "duration": 53,
    "start_time": "2022-08-21T22:35:58.916Z"
   },
   {
    "duration": 48,
    "start_time": "2022-08-21T22:35:58.970Z"
   },
   {
    "duration": 10,
    "start_time": "2022-08-21T22:35:59.019Z"
   },
   {
    "duration": 8,
    "start_time": "2022-08-21T22:35:59.030Z"
   },
   {
    "duration": 14,
    "start_time": "2022-08-21T22:35:59.040Z"
   },
   {
    "duration": 6,
    "start_time": "2022-08-21T22:35:59.055Z"
   },
   {
    "duration": 9,
    "start_time": "2022-08-21T22:36:15.493Z"
   },
   {
    "duration": 17,
    "start_time": "2022-08-21T22:36:31.054Z"
   },
   {
    "duration": 16,
    "start_time": "2022-08-21T22:36:36.886Z"
   },
   {
    "duration": 11,
    "start_time": "2022-08-21T22:36:54.840Z"
   },
   {
    "duration": 6,
    "start_time": "2022-08-21T22:37:12.017Z"
   },
   {
    "duration": 10,
    "start_time": "2022-08-21T22:37:19.125Z"
   },
   {
    "duration": 29,
    "start_time": "2022-08-21T22:37:24.800Z"
   },
   {
    "duration": 10,
    "start_time": "2022-08-21T22:37:28.266Z"
   },
   {
    "duration": 7,
    "start_time": "2022-08-21T22:37:32.532Z"
   },
   {
    "duration": 45,
    "start_time": "2022-08-22T15:06:01.316Z"
   },
   {
    "duration": 7,
    "start_time": "2022-08-22T15:07:15.296Z"
   },
   {
    "duration": 1253,
    "start_time": "2022-08-22T15:07:34.781Z"
   },
   {
    "duration": 4,
    "start_time": "2022-08-22T15:07:36.036Z"
   },
   {
    "duration": 887,
    "start_time": "2022-08-22T15:07:36.042Z"
   },
   {
    "duration": 39,
    "start_time": "2022-08-22T15:07:36.931Z"
   },
   {
    "duration": 4,
    "start_time": "2022-08-22T15:07:36.972Z"
   },
   {
    "duration": 6,
    "start_time": "2022-08-22T15:07:36.978Z"
   },
   {
    "duration": 98,
    "start_time": "2022-08-22T15:07:36.986Z"
   },
   {
    "duration": 12,
    "start_time": "2022-08-22T15:07:37.100Z"
   },
   {
    "duration": 17,
    "start_time": "2022-08-22T15:07:37.113Z"
   },
   {
    "duration": 78,
    "start_time": "2022-08-22T15:07:37.132Z"
   },
   {
    "duration": 122,
    "start_time": "2022-08-22T15:07:37.211Z"
   },
   {
    "duration": 14,
    "start_time": "2022-08-22T15:07:37.335Z"
   },
   {
    "duration": 9,
    "start_time": "2022-08-22T15:07:37.350Z"
   },
   {
    "duration": 39,
    "start_time": "2022-08-22T15:07:37.363Z"
   },
   {
    "duration": 79,
    "start_time": "2022-08-22T15:07:37.403Z"
   },
   {
    "duration": 58,
    "start_time": "2022-08-22T15:07:37.484Z"
   },
   {
    "duration": 78,
    "start_time": "2022-08-22T15:07:37.544Z"
   },
   {
    "duration": 35,
    "start_time": "2022-08-22T15:07:37.624Z"
   },
   {
    "duration": 10,
    "start_time": "2022-08-22T15:07:37.661Z"
   },
   {
    "duration": 29,
    "start_time": "2022-08-22T15:07:37.672Z"
   },
   {
    "duration": 15,
    "start_time": "2022-08-22T15:07:37.702Z"
   },
   {
    "duration": 5,
    "start_time": "2022-08-22T15:07:37.719Z"
   },
   {
    "duration": 53,
    "start_time": "2022-08-22T15:16:44.871Z"
   },
   {
    "duration": 9,
    "start_time": "2022-08-22T15:27:34.254Z"
   },
   {
    "duration": 12,
    "start_time": "2022-08-22T15:27:37.922Z"
   },
   {
    "duration": 10,
    "start_time": "2022-08-22T15:28:22.092Z"
   },
   {
    "duration": 3,
    "start_time": "2022-08-22T15:29:10.613Z"
   },
   {
    "duration": 11,
    "start_time": "2022-08-22T15:29:10.618Z"
   },
   {
    "duration": 362,
    "start_time": "2022-08-22T15:29:10.631Z"
   },
   {
    "duration": 37,
    "start_time": "2022-08-22T15:29:10.995Z"
   },
   {
    "duration": 4,
    "start_time": "2022-08-22T15:29:11.034Z"
   },
   {
    "duration": 6,
    "start_time": "2022-08-22T15:29:11.040Z"
   },
   {
    "duration": 123,
    "start_time": "2022-08-22T15:29:11.048Z"
   },
   {
    "duration": 34,
    "start_time": "2022-08-22T15:29:11.173Z"
   },
   {
    "duration": 20,
    "start_time": "2022-08-22T15:29:11.209Z"
   },
   {
    "duration": 76,
    "start_time": "2022-08-22T15:29:11.231Z"
   },
   {
    "duration": 126,
    "start_time": "2022-08-22T15:29:11.309Z"
   },
   {
    "duration": 15,
    "start_time": "2022-08-22T15:29:11.440Z"
   },
   {
    "duration": 26,
    "start_time": "2022-08-22T15:29:11.456Z"
   },
   {
    "duration": 49,
    "start_time": "2022-08-22T15:29:11.484Z"
   },
   {
    "duration": 125,
    "start_time": "2022-08-22T15:29:11.535Z"
   },
   {
    "duration": 69,
    "start_time": "2022-08-22T15:29:11.664Z"
   },
   {
    "duration": 72,
    "start_time": "2022-08-22T15:29:11.735Z"
   },
   {
    "duration": 36,
    "start_time": "2022-08-22T15:29:11.809Z"
   },
   {
    "duration": 11,
    "start_time": "2022-08-22T15:29:11.847Z"
   },
   {
    "duration": 43,
    "start_time": "2022-08-22T15:29:11.860Z"
   },
   {
    "duration": 14,
    "start_time": "2022-08-22T15:29:11.905Z"
   },
   {
    "duration": 6,
    "start_time": "2022-08-22T15:29:11.920Z"
   },
   {
    "duration": 53,
    "start_time": "2022-08-22T15:29:11.927Z"
   },
   {
    "duration": 11,
    "start_time": "2022-08-22T15:30:41.795Z"
   },
   {
    "duration": 3,
    "start_time": "2022-08-22T15:30:46.579Z"
   },
   {
    "duration": 9,
    "start_time": "2022-08-22T15:30:46.584Z"
   },
   {
    "duration": 349,
    "start_time": "2022-08-22T15:30:46.595Z"
   },
   {
    "duration": 36,
    "start_time": "2022-08-22T15:30:46.946Z"
   },
   {
    "duration": 5,
    "start_time": "2022-08-22T15:30:46.983Z"
   },
   {
    "duration": 11,
    "start_time": "2022-08-22T15:30:46.989Z"
   },
   {
    "duration": 117,
    "start_time": "2022-08-22T15:30:47.002Z"
   },
   {
    "duration": 13,
    "start_time": "2022-08-22T15:30:47.120Z"
   },
   {
    "duration": 18,
    "start_time": "2022-08-22T15:30:47.136Z"
   },
   {
    "duration": 74,
    "start_time": "2022-08-22T15:30:47.156Z"
   },
   {
    "duration": 114,
    "start_time": "2022-08-22T15:30:47.232Z"
   },
   {
    "duration": 12,
    "start_time": "2022-08-22T15:30:47.347Z"
   },
   {
    "duration": 14,
    "start_time": "2022-08-22T15:30:47.360Z"
   },
   {
    "duration": 36,
    "start_time": "2022-08-22T15:30:47.376Z"
   },
   {
    "duration": 89,
    "start_time": "2022-08-22T15:30:47.414Z"
   },
   {
    "duration": 50,
    "start_time": "2022-08-22T15:30:47.505Z"
   },
   {
    "duration": 83,
    "start_time": "2022-08-22T15:30:47.557Z"
   },
   {
    "duration": 37,
    "start_time": "2022-08-22T15:30:47.642Z"
   },
   {
    "duration": 26,
    "start_time": "2022-08-22T15:30:47.682Z"
   },
   {
    "duration": 22,
    "start_time": "2022-08-22T15:30:47.709Z"
   },
   {
    "duration": 14,
    "start_time": "2022-08-22T15:30:47.733Z"
   },
   {
    "duration": 8,
    "start_time": "2022-08-22T15:30:47.749Z"
   },
   {
    "duration": 53,
    "start_time": "2022-08-22T15:30:47.759Z"
   },
   {
    "duration": 8,
    "start_time": "2022-08-22T15:32:05.847Z"
   },
   {
    "duration": 11,
    "start_time": "2022-08-22T15:32:31.127Z"
   },
   {
    "duration": 3,
    "start_time": "2022-08-22T15:32:36.753Z"
   },
   {
    "duration": 9,
    "start_time": "2022-08-22T15:32:36.758Z"
   },
   {
    "duration": 331,
    "start_time": "2022-08-22T15:32:36.769Z"
   },
   {
    "duration": 31,
    "start_time": "2022-08-22T15:32:37.102Z"
   },
   {
    "duration": 4,
    "start_time": "2022-08-22T15:32:37.135Z"
   },
   {
    "duration": 7,
    "start_time": "2022-08-22T15:32:37.140Z"
   },
   {
    "duration": 106,
    "start_time": "2022-08-22T15:32:37.148Z"
   },
   {
    "duration": 12,
    "start_time": "2022-08-22T15:32:37.255Z"
   },
   {
    "duration": 38,
    "start_time": "2022-08-22T15:32:37.269Z"
   },
   {
    "duration": 44,
    "start_time": "2022-08-22T15:32:37.310Z"
   },
   {
    "duration": 103,
    "start_time": "2022-08-22T15:32:37.355Z"
   },
   {
    "duration": 11,
    "start_time": "2022-08-22T15:32:37.459Z"
   },
   {
    "duration": 35,
    "start_time": "2022-08-22T15:32:37.471Z"
   },
   {
    "duration": 14,
    "start_time": "2022-08-22T15:32:37.508Z"
   },
   {
    "duration": 86,
    "start_time": "2022-08-22T15:32:37.524Z"
   },
   {
    "duration": 45,
    "start_time": "2022-08-22T15:32:37.611Z"
   },
   {
    "duration": 75,
    "start_time": "2022-08-22T15:32:37.657Z"
   },
   {
    "duration": 33,
    "start_time": "2022-08-22T15:32:37.733Z"
   },
   {
    "duration": 10,
    "start_time": "2022-08-22T15:32:37.768Z"
   },
   {
    "duration": 20,
    "start_time": "2022-08-22T15:32:37.800Z"
   },
   {
    "duration": 8,
    "start_time": "2022-08-22T15:32:37.822Z"
   },
   {
    "duration": 8,
    "start_time": "2022-08-22T15:32:37.832Z"
   },
   {
    "duration": 52,
    "start_time": "2022-08-22T15:32:37.842Z"
   },
   {
    "duration": 29,
    "start_time": "2022-08-22T15:41:16.933Z"
   },
   {
    "duration": 33,
    "start_time": "2022-08-22T15:41:45.719Z"
   },
   {
    "duration": 22,
    "start_time": "2022-08-22T15:55:16.421Z"
   },
   {
    "duration": 25,
    "start_time": "2022-08-22T15:55:34.132Z"
   },
   {
    "duration": 20,
    "start_time": "2022-08-22T15:56:27.702Z"
   },
   {
    "duration": 22,
    "start_time": "2022-08-22T16:07:41.431Z"
   },
   {
    "duration": 14,
    "start_time": "2022-08-22T16:08:11.894Z"
   },
   {
    "duration": 7,
    "start_time": "2022-08-22T16:10:37.303Z"
   },
   {
    "duration": 8,
    "start_time": "2022-08-22T16:11:27.824Z"
   },
   {
    "duration": 8,
    "start_time": "2022-08-22T18:15:27.687Z"
   },
   {
    "duration": 9,
    "start_time": "2022-08-22T18:15:51.757Z"
   },
   {
    "duration": 13,
    "start_time": "2022-08-22T18:31:22.788Z"
   },
   {
    "duration": 10,
    "start_time": "2022-08-22T18:32:17.920Z"
   },
   {
    "duration": 96,
    "start_time": "2022-08-22T18:42:36.356Z"
   },
   {
    "duration": 52,
    "start_time": "2022-08-22T18:42:47.415Z"
   },
   {
    "duration": 10,
    "start_time": "2022-08-22T18:43:07.734Z"
   },
   {
    "duration": 11,
    "start_time": "2022-08-22T18:43:29.012Z"
   },
   {
    "duration": 13,
    "start_time": "2022-08-22T18:45:57.498Z"
   },
   {
    "duration": 4,
    "start_time": "2022-08-22T18:48:23.879Z"
   },
   {
    "duration": 7,
    "start_time": "2022-08-22T18:48:52.388Z"
   },
   {
    "duration": 11,
    "start_time": "2022-08-22T18:48:56.516Z"
   },
   {
    "duration": 7,
    "start_time": "2022-08-22T18:53:19.541Z"
   },
   {
    "duration": 11,
    "start_time": "2022-08-22T18:53:22.256Z"
   },
   {
    "duration": 47,
    "start_time": "2022-08-22T18:53:38.071Z"
   },
   {
    "duration": 55,
    "start_time": "2022-08-22T18:55:47.285Z"
   },
   {
    "duration": 6,
    "start_time": "2022-08-22T18:55:55.067Z"
   },
   {
    "duration": 5,
    "start_time": "2022-08-22T18:55:58.522Z"
   },
   {
    "duration": 11,
    "start_time": "2022-08-22T18:56:00.693Z"
   },
   {
    "duration": 9,
    "start_time": "2022-08-22T18:57:08.823Z"
   },
   {
    "duration": 10,
    "start_time": "2022-08-22T18:58:14.416Z"
   },
   {
    "duration": 55,
    "start_time": "2022-08-22T18:58:53.287Z"
   },
   {
    "duration": 6,
    "start_time": "2022-08-22T19:01:26.465Z"
   },
   {
    "duration": 12,
    "start_time": "2022-08-22T19:01:29.599Z"
   },
   {
    "duration": 12,
    "start_time": "2022-08-22T19:09:26.393Z"
   },
   {
    "duration": 7,
    "start_time": "2022-08-22T19:14:51.790Z"
   },
   {
    "duration": 11,
    "start_time": "2022-08-22T19:14:54.197Z"
   },
   {
    "duration": 7,
    "start_time": "2022-08-22T19:16:28.027Z"
   },
   {
    "duration": 11,
    "start_time": "2022-08-22T19:16:30.291Z"
   },
   {
    "duration": 7,
    "start_time": "2022-08-22T19:16:49.489Z"
   },
   {
    "duration": 12,
    "start_time": "2022-08-22T19:16:52.558Z"
   },
   {
    "duration": 7,
    "start_time": "2022-08-22T19:18:03.366Z"
   },
   {
    "duration": 11,
    "start_time": "2022-08-22T19:18:05.442Z"
   },
   {
    "duration": 6,
    "start_time": "2022-08-22T19:24:46.812Z"
   },
   {
    "duration": 6,
    "start_time": "2022-08-22T19:25:14.952Z"
   },
   {
    "duration": 6,
    "start_time": "2022-08-22T19:25:31.347Z"
   },
   {
    "duration": 12,
    "start_time": "2022-08-22T19:25:34.814Z"
   },
   {
    "duration": 7,
    "start_time": "2022-08-22T19:26:01.807Z"
   },
   {
    "duration": 13,
    "start_time": "2022-08-22T19:26:06.394Z"
   },
   {
    "duration": 8,
    "start_time": "2022-08-22T19:29:12.261Z"
   },
   {
    "duration": 14,
    "start_time": "2022-08-22T19:29:14.613Z"
   },
   {
    "duration": 7,
    "start_time": "2022-08-22T19:32:47.984Z"
   },
   {
    "duration": 17,
    "start_time": "2022-08-22T19:32:51.370Z"
   },
   {
    "duration": 7,
    "start_time": "2022-08-22T19:45:53.253Z"
   },
   {
    "duration": 12,
    "start_time": "2022-08-22T19:46:13.216Z"
   },
   {
    "duration": 6,
    "start_time": "2022-08-22T19:47:04.553Z"
   },
   {
    "duration": 16,
    "start_time": "2022-08-22T19:47:12.492Z"
   },
   {
    "duration": 7,
    "start_time": "2022-08-22T19:48:03.163Z"
   },
   {
    "duration": 16,
    "start_time": "2022-08-22T19:48:09.097Z"
   },
   {
    "duration": 6,
    "start_time": "2022-08-22T19:49:06.438Z"
   },
   {
    "duration": 7,
    "start_time": "2022-08-22T19:50:17.184Z"
   },
   {
    "duration": 6,
    "start_time": "2022-08-22T19:50:25.039Z"
   },
   {
    "duration": 16,
    "start_time": "2022-08-22T19:50:28.590Z"
   },
   {
    "duration": 6,
    "start_time": "2022-08-22T19:56:45.680Z"
   },
   {
    "duration": 22,
    "start_time": "2022-08-22T19:56:48.714Z"
   },
   {
    "duration": 15,
    "start_time": "2022-08-22T20:02:57.520Z"
   },
   {
    "duration": 8,
    "start_time": "2022-08-22T20:02:59.978Z"
   },
   {
    "duration": 15,
    "start_time": "2022-08-22T20:03:02.440Z"
   },
   {
    "duration": 7,
    "start_time": "2022-08-22T20:12:09.127Z"
   },
   {
    "duration": 15,
    "start_time": "2022-08-22T20:12:12.769Z"
   },
   {
    "duration": 6,
    "start_time": "2022-08-22T20:13:39.541Z"
   },
   {
    "duration": 15,
    "start_time": "2022-08-22T20:13:43.248Z"
   },
   {
    "duration": 809,
    "start_time": "2022-08-22T20:21:34.914Z"
   },
   {
    "duration": 22,
    "start_time": "2022-08-22T20:21:51.844Z"
   },
   {
    "duration": 19,
    "start_time": "2022-08-22T20:22:52.441Z"
   },
   {
    "duration": 55,
    "start_time": "2022-08-22T20:30:51.387Z"
   },
   {
    "duration": 20,
    "start_time": "2022-08-22T20:31:08.276Z"
   },
   {
    "duration": 25,
    "start_time": "2022-08-22T20:32:12.960Z"
   },
   {
    "duration": 18,
    "start_time": "2022-08-22T20:32:33.154Z"
   },
   {
    "duration": 19,
    "start_time": "2022-08-22T20:34:46.834Z"
   },
   {
    "duration": 18,
    "start_time": "2022-08-22T20:34:55.528Z"
   },
   {
    "duration": 23,
    "start_time": "2022-08-22T20:43:28.010Z"
   },
   {
    "duration": 20,
    "start_time": "2022-08-22T20:54:10.581Z"
   },
   {
    "duration": 20,
    "start_time": "2022-08-22T20:55:36.464Z"
   },
   {
    "duration": 4,
    "start_time": "2022-08-22T20:55:44.090Z"
   },
   {
    "duration": 9,
    "start_time": "2022-08-22T20:55:44.096Z"
   },
   {
    "duration": 360,
    "start_time": "2022-08-22T20:55:44.107Z"
   },
   {
    "duration": 33,
    "start_time": "2022-08-22T20:55:44.469Z"
   },
   {
    "duration": 4,
    "start_time": "2022-08-22T20:55:44.504Z"
   },
   {
    "duration": 9,
    "start_time": "2022-08-22T20:55:44.509Z"
   },
   {
    "duration": 116,
    "start_time": "2022-08-22T20:55:44.519Z"
   },
   {
    "duration": 13,
    "start_time": "2022-08-22T20:55:44.637Z"
   },
   {
    "duration": 20,
    "start_time": "2022-08-22T20:55:44.652Z"
   },
   {
    "duration": 71,
    "start_time": "2022-08-22T20:55:44.674Z"
   },
   {
    "duration": 117,
    "start_time": "2022-08-22T20:55:44.747Z"
   },
   {
    "duration": 11,
    "start_time": "2022-08-22T20:55:44.865Z"
   },
   {
    "duration": 30,
    "start_time": "2022-08-22T20:55:44.877Z"
   },
   {
    "duration": 19,
    "start_time": "2022-08-22T20:55:44.910Z"
   },
   {
    "duration": 99,
    "start_time": "2022-08-22T20:55:44.931Z"
   },
   {
    "duration": 50,
    "start_time": "2022-08-22T20:55:45.032Z"
   },
   {
    "duration": 74,
    "start_time": "2022-08-22T20:55:45.083Z"
   },
   {
    "duration": 107,
    "start_time": "2022-08-22T20:55:45.158Z"
   },
   {
    "duration": 12,
    "start_time": "2022-08-22T20:55:45.267Z"
   },
   {
    "duration": 32,
    "start_time": "2022-08-22T20:55:45.280Z"
   },
   {
    "duration": 13,
    "start_time": "2022-08-22T20:55:45.314Z"
   },
   {
    "duration": 13,
    "start_time": "2022-08-22T20:55:45.329Z"
   },
   {
    "duration": 5,
    "start_time": "2022-08-22T20:55:45.344Z"
   },
   {
    "duration": 12,
    "start_time": "2022-08-22T20:55:45.350Z"
   },
   {
    "duration": 279,
    "start_time": "2022-08-22T20:55:45.363Z"
   },
   {
    "duration": 266,
    "start_time": "2022-08-22T20:55:45.644Z"
   },
   {
    "duration": 246,
    "start_time": "2022-08-22T20:56:04.326Z"
   },
   {
    "duration": 269,
    "start_time": "2022-08-22T20:56:16.857Z"
   },
   {
    "duration": 27,
    "start_time": "2022-08-22T21:00:28.767Z"
   },
   {
    "duration": 275,
    "start_time": "2022-08-22T21:04:13.558Z"
   },
   {
    "duration": 228,
    "start_time": "2022-08-22T21:07:23.422Z"
   },
   {
    "duration": 242,
    "start_time": "2022-08-22T21:08:08.186Z"
   },
   {
    "duration": 82,
    "start_time": "2022-08-22T21:09:10.165Z"
   },
   {
    "duration": 241,
    "start_time": "2022-08-22T21:09:37.319Z"
   },
   {
    "duration": 365,
    "start_time": "2022-08-22T21:10:07.897Z"
   },
   {
    "duration": 4,
    "start_time": "2022-08-22T21:16:33.588Z"
   },
   {
    "duration": 8,
    "start_time": "2022-08-22T21:17:01.473Z"
   },
   {
    "duration": 93,
    "start_time": "2022-08-22T21:17:25.533Z"
   },
   {
    "duration": 79,
    "start_time": "2022-08-22T21:18:38.748Z"
   },
   {
    "duration": 7,
    "start_time": "2022-08-22T21:19:18.386Z"
   },
   {
    "duration": 10,
    "start_time": "2022-08-22T21:20:05.629Z"
   },
   {
    "duration": 9,
    "start_time": "2022-08-22T21:20:40.676Z"
   },
   {
    "duration": 10,
    "start_time": "2022-08-22T21:35:25.347Z"
   },
   {
    "duration": 8,
    "start_time": "2022-08-22T21:39:47.713Z"
   },
   {
    "duration": 8,
    "start_time": "2022-08-22T21:40:29.480Z"
   },
   {
    "duration": 8,
    "start_time": "2022-08-22T21:41:35.890Z"
   },
   {
    "duration": 8,
    "start_time": "2022-08-22T22:48:34.755Z"
   },
   {
    "duration": 7,
    "start_time": "2022-08-22T22:49:12.430Z"
   },
   {
    "duration": 14,
    "start_time": "2022-08-22T22:50:19.445Z"
   },
   {
    "duration": 7,
    "start_time": "2022-08-22T22:50:58.278Z"
   },
   {
    "duration": 2,
    "start_time": "2022-08-22T22:52:23.626Z"
   },
   {
    "duration": 9,
    "start_time": "2022-08-22T22:52:31.525Z"
   },
   {
    "duration": 17,
    "start_time": "2022-08-22T22:59:30.340Z"
   },
   {
    "duration": 13,
    "start_time": "2022-08-22T23:00:14.440Z"
   },
   {
    "duration": 10,
    "start_time": "2022-08-22T23:06:44.299Z"
   },
   {
    "duration": 11,
    "start_time": "2022-08-22T23:07:17.803Z"
   },
   {
    "duration": 20,
    "start_time": "2022-08-22T23:11:32.862Z"
   },
   {
    "duration": 17,
    "start_time": "2022-08-22T23:13:49.438Z"
   },
   {
    "duration": 17,
    "start_time": "2022-08-22T23:14:22.445Z"
   },
   {
    "duration": 1088,
    "start_time": "2022-08-22T23:14:55.125Z"
   },
   {
    "duration": 1184,
    "start_time": "2022-08-22T23:16:06.848Z"
   },
   {
    "duration": 1619,
    "start_time": "2022-08-22T23:17:31.284Z"
   },
   {
    "duration": 1104,
    "start_time": "2022-08-22T23:19:44.360Z"
   },
   {
    "duration": 1467,
    "start_time": "2022-08-23T11:57:09.614Z"
   },
   {
    "duration": 2,
    "start_time": "2022-08-23T11:57:15.075Z"
   },
   {
    "duration": 6,
    "start_time": "2022-08-23T11:57:15.080Z"
   },
   {
    "duration": 386,
    "start_time": "2022-08-23T11:57:15.088Z"
   },
   {
    "duration": 37,
    "start_time": "2022-08-23T11:57:15.476Z"
   },
   {
    "duration": 4,
    "start_time": "2022-08-23T11:57:15.515Z"
   },
   {
    "duration": 23,
    "start_time": "2022-08-23T11:57:15.521Z"
   },
   {
    "duration": 105,
    "start_time": "2022-08-23T11:57:15.546Z"
   },
   {
    "duration": 12,
    "start_time": "2022-08-23T11:57:15.653Z"
   },
   {
    "duration": 44,
    "start_time": "2022-08-23T11:57:15.667Z"
   },
   {
    "duration": 85,
    "start_time": "2022-08-23T11:57:15.713Z"
   },
   {
    "duration": 103,
    "start_time": "2022-08-23T11:57:15.800Z"
   },
   {
    "duration": 12,
    "start_time": "2022-08-23T11:57:15.905Z"
   },
   {
    "duration": 24,
    "start_time": "2022-08-23T11:57:15.918Z"
   },
   {
    "duration": 30,
    "start_time": "2022-08-23T11:57:15.945Z"
   },
   {
    "duration": 96,
    "start_time": "2022-08-23T11:57:15.977Z"
   },
   {
    "duration": 57,
    "start_time": "2022-08-23T11:57:16.075Z"
   },
   {
    "duration": 83,
    "start_time": "2022-08-23T11:57:16.134Z"
   },
   {
    "duration": 38,
    "start_time": "2022-08-23T11:57:16.219Z"
   },
   {
    "duration": 33,
    "start_time": "2022-08-23T11:57:16.260Z"
   },
   {
    "duration": 30,
    "start_time": "2022-08-23T11:57:16.295Z"
   },
   {
    "duration": 35,
    "start_time": "2022-08-23T11:57:16.326Z"
   },
   {
    "duration": 12,
    "start_time": "2022-08-23T11:57:16.363Z"
   },
   {
    "duration": 21,
    "start_time": "2022-08-23T11:57:16.377Z"
   },
   {
    "duration": 25,
    "start_time": "2022-08-23T11:57:16.400Z"
   },
   {
    "duration": 15,
    "start_time": "2022-08-23T11:57:16.426Z"
   },
   {
    "duration": 278,
    "start_time": "2022-08-23T11:57:16.443Z"
   },
   {
    "duration": 1335,
    "start_time": "2022-08-23T11:57:16.722Z"
   },
   {
    "duration": 13,
    "start_time": "2022-08-23T12:01:43.147Z"
   },
   {
    "duration": 38,
    "start_time": "2022-08-23T12:01:58.651Z"
   },
   {
    "duration": 1938,
    "start_time": "2022-08-23T12:04:37.328Z"
   },
   {
    "duration": 32,
    "start_time": "2022-08-23T12:04:55.418Z"
   },
   {
    "duration": 3,
    "start_time": "2022-08-23T12:19:55.405Z"
   },
   {
    "duration": 9,
    "start_time": "2022-08-23T12:19:55.410Z"
   },
   {
    "duration": 390,
    "start_time": "2022-08-23T12:19:55.420Z"
   },
   {
    "duration": 36,
    "start_time": "2022-08-23T12:19:55.813Z"
   },
   {
    "duration": 4,
    "start_time": "2022-08-23T12:19:55.850Z"
   },
   {
    "duration": 5,
    "start_time": "2022-08-23T12:19:55.856Z"
   },
   {
    "duration": 112,
    "start_time": "2022-08-23T12:19:55.863Z"
   },
   {
    "duration": 17,
    "start_time": "2022-08-23T12:19:55.993Z"
   },
   {
    "duration": 30,
    "start_time": "2022-08-23T12:19:56.013Z"
   },
   {
    "duration": 78,
    "start_time": "2022-08-23T12:19:56.044Z"
   },
   {
    "duration": 123,
    "start_time": "2022-08-23T12:19:56.124Z"
   },
   {
    "duration": 11,
    "start_time": "2022-08-23T12:19:56.249Z"
   },
   {
    "duration": 32,
    "start_time": "2022-08-23T12:19:56.261Z"
   },
   {
    "duration": 16,
    "start_time": "2022-08-23T12:19:56.295Z"
   },
   {
    "duration": 92,
    "start_time": "2022-08-23T12:19:56.312Z"
   },
   {
    "duration": 50,
    "start_time": "2022-08-23T12:19:56.406Z"
   },
   {
    "duration": 83,
    "start_time": "2022-08-23T12:19:56.458Z"
   },
   {
    "duration": 34,
    "start_time": "2022-08-23T12:19:56.542Z"
   },
   {
    "duration": 25,
    "start_time": "2022-08-23T12:19:56.577Z"
   },
   {
    "duration": 22,
    "start_time": "2022-08-23T12:19:56.603Z"
   },
   {
    "duration": 16,
    "start_time": "2022-08-23T12:19:56.627Z"
   },
   {
    "duration": 18,
    "start_time": "2022-08-23T12:19:56.644Z"
   },
   {
    "duration": 31,
    "start_time": "2022-08-23T12:19:56.664Z"
   },
   {
    "duration": 12,
    "start_time": "2022-08-23T12:19:56.698Z"
   },
   {
    "duration": 8,
    "start_time": "2022-08-23T12:19:56.712Z"
   },
   {
    "duration": 280,
    "start_time": "2022-08-23T12:19:56.722Z"
   },
   {
    "duration": 28,
    "start_time": "2022-08-23T12:19:57.004Z"
   },
   {
    "duration": 30,
    "start_time": "2022-08-23T12:26:06.016Z"
   },
   {
    "duration": 30,
    "start_time": "2022-08-23T12:26:28.266Z"
   },
   {
    "duration": 30,
    "start_time": "2022-08-23T12:26:41.819Z"
   },
   {
    "duration": 30,
    "start_time": "2022-08-23T12:27:43.954Z"
   },
   {
    "duration": 39,
    "start_time": "2022-08-23T12:29:11.396Z"
   },
   {
    "duration": 40,
    "start_time": "2022-08-23T12:29:39.781Z"
   },
   {
    "duration": 269,
    "start_time": "2022-08-23T13:06:36.505Z"
   },
   {
    "duration": 82,
    "start_time": "2022-08-23T13:09:55.048Z"
   },
   {
    "duration": 77,
    "start_time": "2022-08-23T13:10:05.277Z"
   },
   {
    "duration": 67,
    "start_time": "2022-08-23T13:10:55.672Z"
   },
   {
    "duration": 150,
    "start_time": "2022-08-23T13:11:18.320Z"
   },
   {
    "duration": 67,
    "start_time": "2022-08-23T13:15:56.152Z"
   },
   {
    "duration": 4,
    "start_time": "2022-08-23T13:15:56.222Z"
   },
   {
    "duration": 408,
    "start_time": "2022-08-23T13:15:56.227Z"
   },
   {
    "duration": 39,
    "start_time": "2022-08-23T13:15:56.637Z"
   },
   {
    "duration": 4,
    "start_time": "2022-08-23T13:15:56.678Z"
   },
   {
    "duration": 8,
    "start_time": "2022-08-23T13:15:56.684Z"
   },
   {
    "duration": 122,
    "start_time": "2022-08-23T13:15:56.694Z"
   },
   {
    "duration": 18,
    "start_time": "2022-08-23T13:15:56.818Z"
   },
   {
    "duration": 24,
    "start_time": "2022-08-23T13:15:56.838Z"
   },
   {
    "duration": 78,
    "start_time": "2022-08-23T13:15:56.864Z"
   },
   {
    "duration": 122,
    "start_time": "2022-08-23T13:15:56.944Z"
   },
   {
    "duration": 40,
    "start_time": "2022-08-23T13:15:57.068Z"
   },
   {
    "duration": 12,
    "start_time": "2022-08-23T13:15:57.109Z"
   },
   {
    "duration": 19,
    "start_time": "2022-08-23T13:15:57.124Z"
   },
   {
    "duration": 96,
    "start_time": "2022-08-23T13:15:57.145Z"
   },
   {
    "duration": 74,
    "start_time": "2022-08-23T13:15:57.243Z"
   },
   {
    "duration": 65,
    "start_time": "2022-08-23T13:15:57.319Z"
   },
   {
    "duration": 41,
    "start_time": "2022-08-23T13:15:57.395Z"
   },
   {
    "duration": 13,
    "start_time": "2022-08-23T13:15:57.438Z"
   },
   {
    "duration": 54,
    "start_time": "2022-08-23T13:15:57.453Z"
   },
   {
    "duration": 17,
    "start_time": "2022-08-23T13:15:57.509Z"
   },
   {
    "duration": 9,
    "start_time": "2022-08-23T13:15:57.528Z"
   },
   {
    "duration": 5,
    "start_time": "2022-08-23T13:15:57.539Z"
   },
   {
    "duration": 13,
    "start_time": "2022-08-23T13:15:57.546Z"
   },
   {
    "duration": 39,
    "start_time": "2022-08-23T13:15:57.561Z"
   },
   {
    "duration": 271,
    "start_time": "2022-08-23T13:15:57.607Z"
   },
   {
    "duration": 38,
    "start_time": "2022-08-23T13:15:57.880Z"
   },
   {
    "duration": 41,
    "start_time": "2022-08-23T13:15:57.921Z"
   },
   {
    "duration": 60,
    "start_time": "2022-08-23T13:15:57.963Z"
   },
   {
    "duration": 36,
    "start_time": "2022-08-23T13:20:55.640Z"
   },
   {
    "duration": 14,
    "start_time": "2022-08-23T13:35:47.028Z"
   },
   {
    "duration": 17,
    "start_time": "2022-08-23T13:37:01.737Z"
   },
   {
    "duration": 11,
    "start_time": "2022-08-23T13:37:33.928Z"
   },
   {
    "duration": 15,
    "start_time": "2022-08-23T13:39:58.267Z"
   },
   {
    "duration": 415,
    "start_time": "2022-08-23T13:43:08.892Z"
   },
   {
    "duration": 29,
    "start_time": "2022-08-23T13:44:56.729Z"
   },
   {
    "duration": 3,
    "start_time": "2022-08-23T13:45:23.505Z"
   },
   {
    "duration": 7,
    "start_time": "2022-08-23T13:45:23.510Z"
   },
   {
    "duration": 403,
    "start_time": "2022-08-23T13:45:23.519Z"
   },
   {
    "duration": 34,
    "start_time": "2022-08-23T13:45:23.924Z"
   },
   {
    "duration": 6,
    "start_time": "2022-08-23T13:45:23.961Z"
   },
   {
    "duration": 7,
    "start_time": "2022-08-23T13:45:23.969Z"
   },
   {
    "duration": 103,
    "start_time": "2022-08-23T13:45:23.977Z"
   },
   {
    "duration": 27,
    "start_time": "2022-08-23T13:45:24.093Z"
   },
   {
    "duration": 21,
    "start_time": "2022-08-23T13:45:24.121Z"
   },
   {
    "duration": 75,
    "start_time": "2022-08-23T13:45:24.144Z"
   },
   {
    "duration": 115,
    "start_time": "2022-08-23T13:45:24.221Z"
   },
   {
    "duration": 11,
    "start_time": "2022-08-23T13:45:24.338Z"
   },
   {
    "duration": 9,
    "start_time": "2022-08-23T13:45:24.352Z"
   },
   {
    "duration": 43,
    "start_time": "2022-08-23T13:45:24.363Z"
   },
   {
    "duration": 100,
    "start_time": "2022-08-23T13:45:24.408Z"
   },
   {
    "duration": 52,
    "start_time": "2022-08-23T13:45:24.510Z"
   },
   {
    "duration": 85,
    "start_time": "2022-08-23T13:45:24.564Z"
   },
   {
    "duration": 54,
    "start_time": "2022-08-23T13:45:24.651Z"
   },
   {
    "duration": 13,
    "start_time": "2022-08-23T13:45:24.708Z"
   },
   {
    "duration": 25,
    "start_time": "2022-08-23T13:45:24.723Z"
   },
   {
    "duration": 15,
    "start_time": "2022-08-23T13:45:24.750Z"
   },
   {
    "duration": 40,
    "start_time": "2022-08-23T13:45:24.767Z"
   },
   {
    "duration": 5,
    "start_time": "2022-08-23T13:45:24.809Z"
   },
   {
    "duration": 14,
    "start_time": "2022-08-23T13:45:24.816Z"
   },
   {
    "duration": 8,
    "start_time": "2022-08-23T13:45:24.832Z"
   },
   {
    "duration": 293,
    "start_time": "2022-08-23T13:45:24.841Z"
   },
   {
    "duration": 28,
    "start_time": "2022-08-23T13:45:25.136Z"
   },
   {
    "duration": 55,
    "start_time": "2022-08-23T13:45:25.166Z"
   },
   {
    "duration": 14,
    "start_time": "2022-08-23T13:45:25.223Z"
   },
   {
    "duration": 0,
    "start_time": "2022-08-23T13:45:25.238Z"
   },
   {
    "duration": 16,
    "start_time": "2022-08-23T13:49:24.108Z"
   },
   {
    "duration": 14,
    "start_time": "2022-08-23T13:51:59.539Z"
   },
   {
    "duration": 12,
    "start_time": "2022-08-23T13:53:06.363Z"
   },
   {
    "duration": 42,
    "start_time": "2022-08-23T13:53:09.282Z"
   },
   {
    "duration": 13,
    "start_time": "2022-08-23T13:53:14.928Z"
   },
   {
    "duration": 261,
    "start_time": "2022-08-23T14:00:23.254Z"
   },
   {
    "duration": 198,
    "start_time": "2022-08-23T14:01:06.430Z"
   },
   {
    "duration": 327,
    "start_time": "2022-08-23T14:01:29.290Z"
   },
   {
    "duration": 269,
    "start_time": "2022-08-23T14:01:42.416Z"
   },
   {
    "duration": 240,
    "start_time": "2022-08-23T14:02:37.984Z"
   },
   {
    "duration": 235,
    "start_time": "2022-08-23T14:02:59.261Z"
   },
   {
    "duration": 1282,
    "start_time": "2022-08-24T09:09:45.875Z"
   },
   {
    "duration": 4,
    "start_time": "2022-08-24T09:09:47.159Z"
   },
   {
    "duration": 893,
    "start_time": "2022-08-24T09:09:47.164Z"
   },
   {
    "duration": 38,
    "start_time": "2022-08-24T09:09:48.059Z"
   },
   {
    "duration": 4,
    "start_time": "2022-08-24T09:09:48.099Z"
   },
   {
    "duration": 8,
    "start_time": "2022-08-24T09:09:48.104Z"
   },
   {
    "duration": 123,
    "start_time": "2022-08-24T09:09:48.114Z"
   },
   {
    "duration": 13,
    "start_time": "2022-08-24T09:09:48.239Z"
   },
   {
    "duration": 38,
    "start_time": "2022-08-24T09:09:48.253Z"
   },
   {
    "duration": 51,
    "start_time": "2022-08-24T09:09:48.293Z"
   },
   {
    "duration": 120,
    "start_time": "2022-08-24T09:09:48.345Z"
   },
   {
    "duration": 27,
    "start_time": "2022-08-24T09:09:48.467Z"
   },
   {
    "duration": 11,
    "start_time": "2022-08-24T09:09:48.496Z"
   },
   {
    "duration": 20,
    "start_time": "2022-08-24T09:09:48.510Z"
   },
   {
    "duration": 100,
    "start_time": "2022-08-24T09:09:48.532Z"
   },
   {
    "duration": 62,
    "start_time": "2022-08-24T09:09:48.634Z"
   },
   {
    "duration": 61,
    "start_time": "2022-08-24T09:09:48.697Z"
   },
   {
    "duration": 49,
    "start_time": "2022-08-24T09:09:48.760Z"
   },
   {
    "duration": 10,
    "start_time": "2022-08-24T09:09:48.810Z"
   },
   {
    "duration": 28,
    "start_time": "2022-08-24T09:09:48.822Z"
   },
   {
    "duration": 35,
    "start_time": "2022-08-24T09:09:48.851Z"
   },
   {
    "duration": 12,
    "start_time": "2022-08-24T09:09:48.888Z"
   },
   {
    "duration": 7,
    "start_time": "2022-08-24T09:09:48.901Z"
   },
   {
    "duration": 10,
    "start_time": "2022-08-24T09:09:48.910Z"
   },
   {
    "duration": 6,
    "start_time": "2022-08-24T09:09:48.922Z"
   },
   {
    "duration": 256,
    "start_time": "2022-08-24T09:09:48.930Z"
   },
   {
    "duration": 27,
    "start_time": "2022-08-24T09:09:49.187Z"
   },
   {
    "duration": 33,
    "start_time": "2022-08-24T09:09:49.216Z"
   },
   {
    "duration": 38,
    "start_time": "2022-08-24T09:09:49.251Z"
   },
   {
    "duration": 106,
    "start_time": "2022-08-24T09:09:49.290Z"
   },
   {
    "duration": 0,
    "start_time": "2022-08-24T09:09:49.397Z"
   },
   {
    "duration": 0,
    "start_time": "2022-08-24T09:09:49.398Z"
   },
   {
    "duration": 0,
    "start_time": "2022-08-24T09:09:49.399Z"
   },
   {
    "duration": 0,
    "start_time": "2022-08-24T09:09:49.401Z"
   },
   {
    "duration": 195,
    "start_time": "2022-08-24T09:13:21.067Z"
   },
   {
    "duration": 3,
    "start_time": "2022-08-24T09:13:56.578Z"
   },
   {
    "duration": 9,
    "start_time": "2022-08-24T09:13:56.583Z"
   },
   {
    "duration": 343,
    "start_time": "2022-08-24T09:13:56.593Z"
   },
   {
    "duration": 31,
    "start_time": "2022-08-24T09:13:56.937Z"
   },
   {
    "duration": 4,
    "start_time": "2022-08-24T09:13:56.970Z"
   },
   {
    "duration": 6,
    "start_time": "2022-08-24T09:13:56.975Z"
   },
   {
    "duration": 82,
    "start_time": "2022-08-24T09:13:56.983Z"
   },
   {
    "duration": 26,
    "start_time": "2022-08-24T09:13:57.066Z"
   },
   {
    "duration": 16,
    "start_time": "2022-08-24T09:13:57.094Z"
   },
   {
    "duration": 45,
    "start_time": "2022-08-24T09:13:57.111Z"
   },
   {
    "duration": 111,
    "start_time": "2022-08-24T09:13:57.187Z"
   },
   {
    "duration": 10,
    "start_time": "2022-08-24T09:13:57.300Z"
   },
   {
    "duration": 10,
    "start_time": "2022-08-24T09:13:57.312Z"
   },
   {
    "duration": 16,
    "start_time": "2022-08-24T09:13:57.323Z"
   },
   {
    "duration": 91,
    "start_time": "2022-08-24T09:13:57.341Z"
   },
   {
    "duration": 53,
    "start_time": "2022-08-24T09:13:57.434Z"
   },
   {
    "duration": 67,
    "start_time": "2022-08-24T09:13:57.489Z"
   },
   {
    "duration": 49,
    "start_time": "2022-08-24T09:13:57.558Z"
   },
   {
    "duration": 11,
    "start_time": "2022-08-24T09:13:57.609Z"
   },
   {
    "duration": 23,
    "start_time": "2022-08-24T09:13:57.622Z"
   },
   {
    "duration": 43,
    "start_time": "2022-08-24T09:13:57.647Z"
   },
   {
    "duration": 9,
    "start_time": "2022-08-24T09:13:57.692Z"
   },
   {
    "duration": 10,
    "start_time": "2022-08-24T09:13:57.703Z"
   },
   {
    "duration": 14,
    "start_time": "2022-08-24T09:13:57.715Z"
   },
   {
    "duration": 11,
    "start_time": "2022-08-24T09:13:57.730Z"
   },
   {
    "duration": 289,
    "start_time": "2022-08-24T09:13:57.743Z"
   },
   {
    "duration": 30,
    "start_time": "2022-08-24T09:13:58.035Z"
   },
   {
    "duration": 50,
    "start_time": "2022-08-24T09:13:58.086Z"
   },
   {
    "duration": 17,
    "start_time": "2022-08-24T09:13:58.139Z"
   },
   {
    "duration": 53,
    "start_time": "2022-08-24T09:13:58.158Z"
   },
   {
    "duration": 13,
    "start_time": "2022-08-24T09:13:58.212Z"
   },
   {
    "duration": 226,
    "start_time": "2022-08-24T09:13:58.227Z"
   },
   {
    "duration": 152,
    "start_time": "2022-08-24T09:14:37.813Z"
   },
   {
    "duration": 307,
    "start_time": "2022-08-24T09:14:44.690Z"
   },
   {
    "duration": 380,
    "start_time": "2022-08-24T09:15:12.910Z"
   },
   {
    "duration": 411,
    "start_time": "2022-08-24T09:17:55.726Z"
   },
   {
    "duration": 119,
    "start_time": "2022-08-24T09:18:26.683Z"
   },
   {
    "duration": 356,
    "start_time": "2022-08-24T09:20:05.125Z"
   },
   {
    "duration": 746,
    "start_time": "2022-08-24T09:20:14.152Z"
   },
   {
    "duration": 12,
    "start_time": "2022-08-24T11:25:17.799Z"
   },
   {
    "duration": 3,
    "start_time": "2022-08-24T11:25:20.508Z"
   },
   {
    "duration": 8,
    "start_time": "2022-08-24T11:25:23.515Z"
   },
   {
    "duration": 10,
    "start_time": "2022-08-24T11:29:58.784Z"
   },
   {
    "duration": 3,
    "start_time": "2022-08-24T11:30:12.278Z"
   },
   {
    "duration": 9,
    "start_time": "2022-08-24T11:30:14.701Z"
   },
   {
    "duration": 7,
    "start_time": "2022-08-24T11:31:56.510Z"
   },
   {
    "duration": 4,
    "start_time": "2022-08-24T11:39:21.963Z"
   },
   {
    "duration": 511,
    "start_time": "2022-08-24T11:39:24.075Z"
   },
   {
    "duration": 27,
    "start_time": "2022-08-24T12:24:56.777Z"
   },
   {
    "duration": 11,
    "start_time": "2022-08-24T12:25:12.019Z"
   },
   {
    "duration": 53,
    "start_time": "2022-08-24T12:26:07.437Z"
   },
   {
    "duration": 26,
    "start_time": "2022-08-24T12:26:10.792Z"
   },
   {
    "duration": 31,
    "start_time": "2022-08-24T12:26:26.314Z"
   },
   {
    "duration": 16,
    "start_time": "2022-08-24T12:48:04.531Z"
   },
   {
    "duration": 55,
    "start_time": "2022-08-24T12:49:50.236Z"
   },
   {
    "duration": 4,
    "start_time": "2022-08-24T14:20:27.833Z"
   },
   {
    "duration": 9,
    "start_time": "2022-08-24T14:20:31.401Z"
   },
   {
    "duration": 4,
    "start_time": "2022-08-24T14:20:48.552Z"
   },
   {
    "duration": 9,
    "start_time": "2022-08-24T14:20:51.474Z"
   },
   {
    "duration": 11,
    "start_time": "2022-08-24T14:21:06.013Z"
   },
   {
    "duration": 9,
    "start_time": "2022-08-24T14:21:12.581Z"
   },
   {
    "duration": 4,
    "start_time": "2022-08-24T14:22:06.344Z"
   },
   {
    "duration": 8,
    "start_time": "2022-08-24T14:22:11.636Z"
   },
   {
    "duration": 7,
    "start_time": "2022-08-24T14:24:27.016Z"
   },
   {
    "duration": 27,
    "start_time": "2022-08-24T14:27:13.416Z"
   },
   {
    "duration": 36,
    "start_time": "2022-08-24T14:58:28.167Z"
   },
   {
    "duration": 4,
    "start_time": "2022-08-24T14:58:50.786Z"
   },
   {
    "duration": 8,
    "start_time": "2022-08-24T14:58:53.304Z"
   },
   {
    "duration": 48,
    "start_time": "2022-08-25T20:51:40.615Z"
   },
   {
    "duration": 1353,
    "start_time": "2022-08-25T20:51:44.058Z"
   },
   {
    "duration": 4,
    "start_time": "2022-08-25T20:51:45.414Z"
   },
   {
    "duration": 920,
    "start_time": "2022-08-25T20:51:45.420Z"
   },
   {
    "duration": 34,
    "start_time": "2022-08-25T20:51:46.342Z"
   },
   {
    "duration": 4,
    "start_time": "2022-08-25T20:51:46.378Z"
   },
   {
    "duration": 5,
    "start_time": "2022-08-25T20:51:46.384Z"
   },
   {
    "duration": 127,
    "start_time": "2022-08-25T20:51:46.391Z"
   },
   {
    "duration": 12,
    "start_time": "2022-08-25T20:51:46.520Z"
   },
   {
    "duration": 17,
    "start_time": "2022-08-25T20:51:46.534Z"
   },
   {
    "duration": 77,
    "start_time": "2022-08-25T20:51:46.553Z"
   },
   {
    "duration": 112,
    "start_time": "2022-08-25T20:51:46.631Z"
   },
   {
    "duration": 11,
    "start_time": "2022-08-25T20:51:46.744Z"
   },
   {
    "duration": 33,
    "start_time": "2022-08-25T20:51:46.756Z"
   },
   {
    "duration": 15,
    "start_time": "2022-08-25T20:51:46.792Z"
   },
   {
    "duration": 113,
    "start_time": "2022-08-25T20:51:46.809Z"
   },
   {
    "duration": 0,
    "start_time": "2022-08-25T20:51:46.924Z"
   },
   {
    "duration": 0,
    "start_time": "2022-08-25T20:51:46.925Z"
   },
   {
    "duration": 0,
    "start_time": "2022-08-25T20:51:46.926Z"
   },
   {
    "duration": 0,
    "start_time": "2022-08-25T20:51:46.927Z"
   },
   {
    "duration": 0,
    "start_time": "2022-08-25T20:51:46.928Z"
   },
   {
    "duration": 0,
    "start_time": "2022-08-25T20:51:46.929Z"
   },
   {
    "duration": 0,
    "start_time": "2022-08-25T20:51:46.929Z"
   },
   {
    "duration": 0,
    "start_time": "2022-08-25T20:51:46.931Z"
   },
   {
    "duration": 0,
    "start_time": "2022-08-25T20:51:46.931Z"
   },
   {
    "duration": 0,
    "start_time": "2022-08-25T20:51:46.932Z"
   },
   {
    "duration": 0,
    "start_time": "2022-08-25T20:51:46.933Z"
   },
   {
    "duration": 0,
    "start_time": "2022-08-25T20:51:46.934Z"
   },
   {
    "duration": 0,
    "start_time": "2022-08-25T20:51:46.935Z"
   },
   {
    "duration": 0,
    "start_time": "2022-08-25T20:51:46.936Z"
   },
   {
    "duration": 0,
    "start_time": "2022-08-25T20:51:46.936Z"
   },
   {
    "duration": 0,
    "start_time": "2022-08-25T20:51:46.938Z"
   },
   {
    "duration": 0,
    "start_time": "2022-08-25T20:51:46.938Z"
   },
   {
    "duration": 0,
    "start_time": "2022-08-25T20:51:46.939Z"
   },
   {
    "duration": 0,
    "start_time": "2022-08-25T20:51:46.940Z"
   },
   {
    "duration": 0,
    "start_time": "2022-08-25T20:51:46.941Z"
   },
   {
    "duration": 0,
    "start_time": "2022-08-25T20:51:46.942Z"
   },
   {
    "duration": 56,
    "start_time": "2022-08-25T20:56:25.408Z"
   },
   {
    "duration": 7,
    "start_time": "2022-08-25T20:56:38.726Z"
   },
   {
    "duration": 3,
    "start_time": "2022-08-25T20:56:43.621Z"
   },
   {
    "duration": 8,
    "start_time": "2022-08-25T20:56:43.625Z"
   },
   {
    "duration": 320,
    "start_time": "2022-08-25T20:56:43.635Z"
   },
   {
    "duration": 30,
    "start_time": "2022-08-25T20:56:43.956Z"
   },
   {
    "duration": 4,
    "start_time": "2022-08-25T20:56:43.987Z"
   },
   {
    "duration": 7,
    "start_time": "2022-08-25T20:56:43.992Z"
   },
   {
    "duration": 91,
    "start_time": "2022-08-25T20:56:44.001Z"
   },
   {
    "duration": 12,
    "start_time": "2022-08-25T20:56:44.094Z"
   },
   {
    "duration": 23,
    "start_time": "2022-08-25T20:56:44.107Z"
   },
   {
    "duration": 64,
    "start_time": "2022-08-25T20:56:44.135Z"
   },
   {
    "duration": 97,
    "start_time": "2022-08-25T20:56:44.202Z"
   },
   {
    "duration": 10,
    "start_time": "2022-08-25T20:56:44.300Z"
   },
   {
    "duration": 10,
    "start_time": "2022-08-25T20:56:44.312Z"
   },
   {
    "duration": 17,
    "start_time": "2022-08-25T20:56:44.324Z"
   },
   {
    "duration": 106,
    "start_time": "2022-08-25T20:56:44.343Z"
   },
   {
    "duration": 72,
    "start_time": "2022-08-25T20:56:44.451Z"
   },
   {
    "duration": 87,
    "start_time": "2022-08-25T20:56:44.525Z"
   },
   {
    "duration": 33,
    "start_time": "2022-08-25T20:56:44.613Z"
   },
   {
    "duration": 12,
    "start_time": "2022-08-25T20:56:44.647Z"
   },
   {
    "duration": 45,
    "start_time": "2022-08-25T20:56:44.661Z"
   },
   {
    "duration": 16,
    "start_time": "2022-08-25T20:56:44.708Z"
   },
   {
    "duration": 11,
    "start_time": "2022-08-25T20:56:44.725Z"
   },
   {
    "duration": 5,
    "start_time": "2022-08-25T20:56:44.737Z"
   },
   {
    "duration": 44,
    "start_time": "2022-08-25T20:56:44.744Z"
   },
   {
    "duration": 7,
    "start_time": "2022-08-25T20:56:44.789Z"
   },
   {
    "duration": 246,
    "start_time": "2022-08-25T20:56:44.798Z"
   },
   {
    "duration": 25,
    "start_time": "2022-08-25T20:56:45.045Z"
   },
   {
    "duration": 40,
    "start_time": "2022-08-25T20:56:45.071Z"
   },
   {
    "duration": 3,
    "start_time": "2022-08-25T20:56:45.114Z"
   },
   {
    "duration": 11,
    "start_time": "2022-08-25T20:56:45.118Z"
   },
   {
    "duration": 13,
    "start_time": "2022-08-25T20:56:45.130Z"
   },
   {
    "duration": 56,
    "start_time": "2022-08-25T20:56:45.144Z"
   },
   {
    "duration": 9,
    "start_time": "2022-08-25T20:56:45.201Z"
   },
   {
    "duration": 33,
    "start_time": "2022-08-25T20:56:45.212Z"
   },
   {
    "duration": 12,
    "start_time": "2022-08-25T20:56:45.246Z"
   },
   {
    "duration": 668,
    "start_time": "2022-08-25T20:56:45.260Z"
   },
   {
    "duration": 686,
    "start_time": "2022-08-25T20:57:42.505Z"
   },
   {
    "duration": 725,
    "start_time": "2022-08-25T20:57:59.590Z"
   },
   {
    "duration": 11,
    "start_time": "2022-08-25T21:00:22.962Z"
   },
   {
    "duration": 6,
    "start_time": "2022-08-25T21:02:15.539Z"
   },
   {
    "duration": 12,
    "start_time": "2022-08-25T21:02:37.725Z"
   },
   {
    "duration": 515,
    "start_time": "2022-08-25T21:03:50.022Z"
   },
   {
    "duration": 3,
    "start_time": "2022-08-25T21:03:58.431Z"
   },
   {
    "duration": 13,
    "start_time": "2022-08-25T21:03:58.436Z"
   },
   {
    "duration": 356,
    "start_time": "2022-08-25T21:03:58.451Z"
   },
   {
    "duration": 31,
    "start_time": "2022-08-25T21:03:58.809Z"
   },
   {
    "duration": 4,
    "start_time": "2022-08-25T21:03:58.842Z"
   },
   {
    "duration": 5,
    "start_time": "2022-08-25T21:03:58.849Z"
   },
   {
    "duration": 85,
    "start_time": "2022-08-25T21:03:58.856Z"
   },
   {
    "duration": 11,
    "start_time": "2022-08-25T21:03:58.942Z"
   },
   {
    "duration": 30,
    "start_time": "2022-08-25T21:03:58.955Z"
   },
   {
    "duration": 42,
    "start_time": "2022-08-25T21:03:58.986Z"
   },
   {
    "duration": 104,
    "start_time": "2022-08-25T21:03:59.030Z"
   },
   {
    "duration": 11,
    "start_time": "2022-08-25T21:03:59.137Z"
   },
   {
    "duration": 10,
    "start_time": "2022-08-25T21:03:59.150Z"
   },
   {
    "duration": 38,
    "start_time": "2022-08-25T21:03:59.161Z"
   },
   {
    "duration": 481,
    "start_time": "2022-08-25T21:03:59.201Z"
   },
   {
    "duration": 45,
    "start_time": "2022-08-25T21:03:59.685Z"
   },
   {
    "duration": 70,
    "start_time": "2022-08-25T21:03:59.732Z"
   },
   {
    "duration": 28,
    "start_time": "2022-08-25T21:03:59.803Z"
   },
   {
    "duration": 0,
    "start_time": "2022-08-25T21:03:59.834Z"
   },
   {
    "duration": 0,
    "start_time": "2022-08-25T21:03:59.836Z"
   },
   {
    "duration": 0,
    "start_time": "2022-08-25T21:03:59.837Z"
   },
   {
    "duration": 0,
    "start_time": "2022-08-25T21:03:59.839Z"
   },
   {
    "duration": 0,
    "start_time": "2022-08-25T21:03:59.840Z"
   },
   {
    "duration": 0,
    "start_time": "2022-08-25T21:03:59.841Z"
   },
   {
    "duration": 0,
    "start_time": "2022-08-25T21:03:59.843Z"
   },
   {
    "duration": 0,
    "start_time": "2022-08-25T21:03:59.845Z"
   },
   {
    "duration": 0,
    "start_time": "2022-08-25T21:03:59.847Z"
   },
   {
    "duration": 0,
    "start_time": "2022-08-25T21:03:59.885Z"
   },
   {
    "duration": 0,
    "start_time": "2022-08-25T21:03:59.887Z"
   },
   {
    "duration": 0,
    "start_time": "2022-08-25T21:03:59.889Z"
   },
   {
    "duration": 0,
    "start_time": "2022-08-25T21:03:59.890Z"
   },
   {
    "duration": 1,
    "start_time": "2022-08-25T21:03:59.891Z"
   },
   {
    "duration": 0,
    "start_time": "2022-08-25T21:03:59.893Z"
   },
   {
    "duration": 0,
    "start_time": "2022-08-25T21:03:59.894Z"
   },
   {
    "duration": 0,
    "start_time": "2022-08-25T21:03:59.896Z"
   },
   {
    "duration": 0,
    "start_time": "2022-08-25T21:03:59.897Z"
   },
   {
    "duration": 0,
    "start_time": "2022-08-25T21:03:59.899Z"
   },
   {
    "duration": 4,
    "start_time": "2022-08-25T21:05:25.038Z"
   },
   {
    "duration": 10,
    "start_time": "2022-08-25T21:05:25.044Z"
   },
   {
    "duration": 317,
    "start_time": "2022-08-25T21:05:25.055Z"
   },
   {
    "duration": 31,
    "start_time": "2022-08-25T21:05:25.373Z"
   },
   {
    "duration": 4,
    "start_time": "2022-08-25T21:05:25.406Z"
   },
   {
    "duration": 6,
    "start_time": "2022-08-25T21:05:25.412Z"
   },
   {
    "duration": 109,
    "start_time": "2022-08-25T21:05:25.419Z"
   },
   {
    "duration": 13,
    "start_time": "2022-08-25T21:05:25.529Z"
   },
   {
    "duration": 20,
    "start_time": "2022-08-25T21:05:25.543Z"
   },
   {
    "duration": 65,
    "start_time": "2022-08-25T21:05:25.565Z"
   },
   {
    "duration": 113,
    "start_time": "2022-08-25T21:05:25.631Z"
   },
   {
    "duration": 11,
    "start_time": "2022-08-25T21:05:25.745Z"
   },
   {
    "duration": 29,
    "start_time": "2022-08-25T21:05:25.759Z"
   },
   {
    "duration": 28,
    "start_time": "2022-08-25T21:05:25.789Z"
   },
   {
    "duration": 411,
    "start_time": "2022-08-25T21:05:25.819Z"
   },
   {
    "duration": 55,
    "start_time": "2022-08-25T21:05:26.231Z"
   },
   {
    "duration": 67,
    "start_time": "2022-08-25T21:05:26.287Z"
   },
   {
    "duration": 41,
    "start_time": "2022-08-25T21:05:26.355Z"
   },
   {
    "duration": 0,
    "start_time": "2022-08-25T21:05:26.397Z"
   },
   {
    "duration": 0,
    "start_time": "2022-08-25T21:05:26.398Z"
   },
   {
    "duration": 0,
    "start_time": "2022-08-25T21:05:26.400Z"
   },
   {
    "duration": 0,
    "start_time": "2022-08-25T21:05:26.401Z"
   },
   {
    "duration": 0,
    "start_time": "2022-08-25T21:05:26.402Z"
   },
   {
    "duration": 0,
    "start_time": "2022-08-25T21:05:26.404Z"
   },
   {
    "duration": 0,
    "start_time": "2022-08-25T21:05:26.405Z"
   },
   {
    "duration": 0,
    "start_time": "2022-08-25T21:05:26.406Z"
   },
   {
    "duration": 0,
    "start_time": "2022-08-25T21:05:26.407Z"
   },
   {
    "duration": 0,
    "start_time": "2022-08-25T21:05:26.409Z"
   },
   {
    "duration": 0,
    "start_time": "2022-08-25T21:05:26.409Z"
   },
   {
    "duration": 0,
    "start_time": "2022-08-25T21:05:26.410Z"
   },
   {
    "duration": 0,
    "start_time": "2022-08-25T21:05:26.411Z"
   },
   {
    "duration": 0,
    "start_time": "2022-08-25T21:05:26.412Z"
   },
   {
    "duration": 0,
    "start_time": "2022-08-25T21:05:26.413Z"
   },
   {
    "duration": 0,
    "start_time": "2022-08-25T21:05:26.414Z"
   },
   {
    "duration": 0,
    "start_time": "2022-08-25T21:05:26.416Z"
   },
   {
    "duration": 0,
    "start_time": "2022-08-25T21:05:26.417Z"
   },
   {
    "duration": 0,
    "start_time": "2022-08-25T21:05:26.418Z"
   },
   {
    "duration": 22,
    "start_time": "2022-08-25T21:06:38.749Z"
   },
   {
    "duration": 460,
    "start_time": "2022-08-25T21:07:50.724Z"
   },
   {
    "duration": 418,
    "start_time": "2022-08-25T21:07:58.331Z"
   },
   {
    "duration": 107,
    "start_time": "2022-08-25T21:08:46.763Z"
   },
   {
    "duration": 3,
    "start_time": "2022-08-25T21:08:53.033Z"
   },
   {
    "duration": 9,
    "start_time": "2022-08-25T21:08:53.038Z"
   },
   {
    "duration": 326,
    "start_time": "2022-08-25T21:08:53.048Z"
   },
   {
    "duration": 31,
    "start_time": "2022-08-25T21:08:53.375Z"
   },
   {
    "duration": 4,
    "start_time": "2022-08-25T21:08:53.408Z"
   },
   {
    "duration": 13,
    "start_time": "2022-08-25T21:08:53.413Z"
   },
   {
    "duration": 117,
    "start_time": "2022-08-25T21:08:53.428Z"
   },
   {
    "duration": 13,
    "start_time": "2022-08-25T21:08:53.547Z"
   },
   {
    "duration": 39,
    "start_time": "2022-08-25T21:08:53.561Z"
   },
   {
    "duration": 48,
    "start_time": "2022-08-25T21:08:53.602Z"
   },
   {
    "duration": 107,
    "start_time": "2022-08-25T21:08:53.652Z"
   },
   {
    "duration": 32,
    "start_time": "2022-08-25T21:08:53.760Z"
   },
   {
    "duration": 9,
    "start_time": "2022-08-25T21:08:53.795Z"
   },
   {
    "duration": 18,
    "start_time": "2022-08-25T21:08:53.805Z"
   },
   {
    "duration": 104,
    "start_time": "2022-08-25T21:08:53.824Z"
   },
   {
    "duration": 62,
    "start_time": "2022-08-25T21:08:53.929Z"
   },
   {
    "duration": 62,
    "start_time": "2022-08-25T21:08:53.993Z"
   },
   {
    "duration": 55,
    "start_time": "2022-08-25T21:08:54.058Z"
   },
   {
    "duration": 13,
    "start_time": "2022-08-25T21:08:54.115Z"
   },
   {
    "duration": 35,
    "start_time": "2022-08-25T21:08:54.130Z"
   },
   {
    "duration": 15,
    "start_time": "2022-08-25T21:08:54.184Z"
   },
   {
    "duration": 11,
    "start_time": "2022-08-25T21:08:54.201Z"
   },
   {
    "duration": 5,
    "start_time": "2022-08-25T21:08:54.213Z"
   },
   {
    "duration": 13,
    "start_time": "2022-08-25T21:08:54.219Z"
   },
   {
    "duration": 8,
    "start_time": "2022-08-25T21:08:54.234Z"
   },
   {
    "duration": 322,
    "start_time": "2022-08-25T21:08:54.244Z"
   },
   {
    "duration": 38,
    "start_time": "2022-08-25T21:08:54.568Z"
   },
   {
    "duration": 12,
    "start_time": "2022-08-25T21:08:54.608Z"
   },
   {
    "duration": 37,
    "start_time": "2022-08-25T21:08:54.622Z"
   },
   {
    "duration": 24,
    "start_time": "2022-08-25T21:08:54.661Z"
   },
   {
    "duration": 10,
    "start_time": "2022-08-25T21:08:54.687Z"
   },
   {
    "duration": 17,
    "start_time": "2022-08-25T21:08:54.698Z"
   },
   {
    "duration": 31,
    "start_time": "2022-08-25T21:08:54.717Z"
   },
   {
    "duration": 36,
    "start_time": "2022-08-25T21:08:54.750Z"
   },
   {
    "duration": 28,
    "start_time": "2022-08-25T21:08:54.787Z"
   },
   {
    "duration": 14,
    "start_time": "2022-08-25T21:08:54.816Z"
   },
   {
    "duration": 691,
    "start_time": "2022-08-25T21:08:54.832Z"
   },
   {
    "duration": 18,
    "start_time": "2022-08-25T21:15:40.075Z"
   },
   {
    "duration": 210,
    "start_time": "2022-08-25T21:16:10.947Z"
   },
   {
    "duration": 223,
    "start_time": "2022-08-25T21:19:07.760Z"
   },
   {
    "duration": 297,
    "start_time": "2022-08-25T21:20:13.488Z"
   },
   {
    "duration": 568,
    "start_time": "2022-08-25T21:28:36.229Z"
   },
   {
    "duration": 12,
    "start_time": "2022-08-25T21:29:34.053Z"
   },
   {
    "duration": 45,
    "start_time": "2022-08-25T21:29:56.783Z"
   },
   {
    "duration": 292,
    "start_time": "2022-08-25T21:30:01.480Z"
   },
   {
    "duration": 544,
    "start_time": "2022-08-25T21:32:44.134Z"
   },
   {
    "duration": 530,
    "start_time": "2022-08-25T21:34:06.263Z"
   },
   {
    "duration": 512,
    "start_time": "2022-08-25T21:36:57.880Z"
   },
   {
    "duration": 518,
    "start_time": "2022-08-25T21:37:59.440Z"
   },
   {
    "duration": 8,
    "start_time": "2022-08-25T21:41:09.599Z"
   },
   {
    "duration": 6,
    "start_time": "2022-08-25T21:41:30.966Z"
   },
   {
    "duration": 167,
    "start_time": "2022-08-25T21:41:52.856Z"
   },
   {
    "duration": 17,
    "start_time": "2022-08-25T21:43:11.475Z"
   },
   {
    "duration": 1107,
    "start_time": "2022-08-25T21:45:17.137Z"
   },
   {
    "duration": 21,
    "start_time": "2022-08-25T21:45:53.994Z"
   },
   {
    "duration": 142,
    "start_time": "2022-08-25T21:46:05.108Z"
   },
   {
    "duration": 20,
    "start_time": "2022-08-25T21:48:20.951Z"
   },
   {
    "duration": 30,
    "start_time": "2022-08-25T21:48:35.150Z"
   },
   {
    "duration": 241,
    "start_time": "2022-08-25T21:50:17.777Z"
   },
   {
    "duration": 14,
    "start_time": "2022-08-25T21:50:32.874Z"
   },
   {
    "duration": 302,
    "start_time": "2022-08-25T21:50:49.735Z"
   },
   {
    "duration": 352,
    "start_time": "2022-08-25T21:51:33.609Z"
   },
   {
    "duration": 245,
    "start_time": "2022-08-25T21:51:50.106Z"
   },
   {
    "duration": 196,
    "start_time": "2022-08-25T21:52:14.873Z"
   },
   {
    "duration": 1156,
    "start_time": "2022-08-25T21:53:48.324Z"
   },
   {
    "duration": 236,
    "start_time": "2022-08-25T21:56:08.351Z"
   },
   {
    "duration": 272,
    "start_time": "2022-08-25T21:56:34.432Z"
   },
   {
    "duration": 257,
    "start_time": "2022-08-25T21:56:54.168Z"
   },
   {
    "duration": 321,
    "start_time": "2022-08-25T21:57:17.608Z"
   },
   {
    "duration": 58,
    "start_time": "2022-08-26T12:55:41.641Z"
   },
   {
    "duration": 1527,
    "start_time": "2022-08-26T12:55:48.091Z"
   },
   {
    "duration": 6,
    "start_time": "2022-08-26T12:55:49.620Z"
   },
   {
    "duration": 936,
    "start_time": "2022-08-26T12:55:49.627Z"
   },
   {
    "duration": 51,
    "start_time": "2022-08-26T12:55:50.565Z"
   },
   {
    "duration": 34,
    "start_time": "2022-08-26T12:55:50.617Z"
   },
   {
    "duration": 4,
    "start_time": "2022-08-26T12:55:50.653Z"
   },
   {
    "duration": 10,
    "start_time": "2022-08-26T12:55:50.659Z"
   },
   {
    "duration": 141,
    "start_time": "2022-08-26T12:55:50.692Z"
   },
   {
    "duration": 15,
    "start_time": "2022-08-26T12:55:50.835Z"
   },
   {
    "duration": 52,
    "start_time": "2022-08-26T12:55:50.854Z"
   },
   {
    "duration": 67,
    "start_time": "2022-08-26T12:55:50.909Z"
   },
   {
    "duration": 135,
    "start_time": "2022-08-26T12:55:50.994Z"
   },
   {
    "duration": 11,
    "start_time": "2022-08-26T12:55:51.131Z"
   },
   {
    "duration": 48,
    "start_time": "2022-08-26T12:55:51.143Z"
   },
   {
    "duration": 47,
    "start_time": "2022-08-26T12:55:51.192Z"
   },
   {
    "duration": 107,
    "start_time": "2022-08-26T12:55:51.242Z"
   },
   {
    "duration": 80,
    "start_time": "2022-08-26T12:55:51.351Z"
   },
   {
    "duration": 90,
    "start_time": "2022-08-26T12:55:51.433Z"
   },
   {
    "duration": 37,
    "start_time": "2022-08-26T12:55:51.525Z"
   },
   {
    "duration": 33,
    "start_time": "2022-08-26T12:55:51.563Z"
   },
   {
    "duration": 84,
    "start_time": "2022-08-26T12:55:51.598Z"
   },
   {
    "duration": 23,
    "start_time": "2022-08-26T12:55:51.685Z"
   },
   {
    "duration": 41,
    "start_time": "2022-08-26T12:55:51.710Z"
   },
   {
    "duration": 22,
    "start_time": "2022-08-26T12:55:51.753Z"
   },
   {
    "duration": 52,
    "start_time": "2022-08-26T12:55:51.777Z"
   },
   {
    "duration": 41,
    "start_time": "2022-08-26T12:55:51.831Z"
   },
   {
    "duration": 454,
    "start_time": "2022-08-26T12:55:51.875Z"
   },
   {
    "duration": 29,
    "start_time": "2022-08-26T12:55:52.332Z"
   },
   {
    "duration": 10,
    "start_time": "2022-08-26T12:55:52.363Z"
   },
   {
    "duration": 27,
    "start_time": "2022-08-26T12:55:52.394Z"
   },
   {
    "duration": 32,
    "start_time": "2022-08-26T12:55:52.423Z"
   },
   {
    "duration": 4,
    "start_time": "2022-08-26T12:55:52.457Z"
   },
   {
    "duration": 41,
    "start_time": "2022-08-26T12:55:52.463Z"
   },
   {
    "duration": 21,
    "start_time": "2022-08-26T12:55:52.506Z"
   },
   {
    "duration": 36,
    "start_time": "2022-08-26T12:55:52.529Z"
   },
   {
    "duration": 27,
    "start_time": "2022-08-26T12:55:52.567Z"
   },
   {
    "duration": 15,
    "start_time": "2022-08-26T12:55:52.605Z"
   },
   {
    "duration": 30,
    "start_time": "2022-08-26T12:55:52.621Z"
   },
   {
    "duration": 306,
    "start_time": "2022-08-26T12:55:52.653Z"
   },
   {
    "duration": 268,
    "start_time": "2022-08-26T12:55:52.960Z"
   },
   {
    "duration": 290,
    "start_time": "2022-08-26T12:55:53.229Z"
   },
   {
    "duration": 282,
    "start_time": "2022-08-26T12:55:53.521Z"
   },
   {
    "duration": 190,
    "start_time": "2022-08-26T12:55:53.804Z"
   },
   {
    "duration": 2558,
    "start_time": "2022-08-26T12:55:54.001Z"
   },
   {
    "duration": 5,
    "start_time": "2022-08-26T13:05:04.755Z"
   },
   {
    "duration": 3,
    "start_time": "2022-08-26T13:05:08.662Z"
   },
   {
    "duration": 7,
    "start_time": "2022-08-26T13:05:08.667Z"
   },
   {
    "duration": 408,
    "start_time": "2022-08-26T13:05:08.676Z"
   },
   {
    "duration": 49,
    "start_time": "2022-08-26T13:05:09.086Z"
   },
   {
    "duration": 5,
    "start_time": "2022-08-26T13:05:09.137Z"
   },
   {
    "duration": 6,
    "start_time": "2022-08-26T13:05:09.144Z"
   },
   {
    "duration": 141,
    "start_time": "2022-08-26T13:05:09.151Z"
   },
   {
    "duration": 21,
    "start_time": "2022-08-26T13:05:09.294Z"
   },
   {
    "duration": 41,
    "start_time": "2022-08-26T13:05:09.320Z"
   },
   {
    "duration": 95,
    "start_time": "2022-08-26T13:05:09.363Z"
   },
   {
    "duration": 150,
    "start_time": "2022-08-26T13:05:09.461Z"
   },
   {
    "duration": 11,
    "start_time": "2022-08-26T13:05:09.613Z"
   },
   {
    "duration": 13,
    "start_time": "2022-08-26T13:05:09.626Z"
   },
   {
    "duration": 20,
    "start_time": "2022-08-26T13:05:09.641Z"
   },
   {
    "duration": 114,
    "start_time": "2022-08-26T13:05:09.663Z"
   },
   {
    "duration": 62,
    "start_time": "2022-08-26T13:05:09.793Z"
   },
   {
    "duration": 87,
    "start_time": "2022-08-26T13:05:09.857Z"
   },
   {
    "duration": 161,
    "start_time": "2022-08-26T13:05:09.946Z"
   },
   {
    "duration": 13,
    "start_time": "2022-08-26T13:05:10.109Z"
   },
   {
    "duration": 26,
    "start_time": "2022-08-26T13:05:10.124Z"
   },
   {
    "duration": 17,
    "start_time": "2022-08-26T13:05:10.153Z"
   },
   {
    "duration": 23,
    "start_time": "2022-08-26T13:05:10.194Z"
   },
   {
    "duration": 6,
    "start_time": "2022-08-26T13:05:10.219Z"
   },
   {
    "duration": 21,
    "start_time": "2022-08-26T13:05:10.227Z"
   },
   {
    "duration": 13,
    "start_time": "2022-08-26T13:05:10.250Z"
   },
   {
    "duration": 358,
    "start_time": "2022-08-26T13:05:10.266Z"
   },
   {
    "duration": 30,
    "start_time": "2022-08-26T13:05:10.626Z"
   },
   {
    "duration": 11,
    "start_time": "2022-08-26T13:05:10.659Z"
   },
   {
    "duration": 26,
    "start_time": "2022-08-26T13:05:10.699Z"
   },
   {
    "duration": 31,
    "start_time": "2022-08-26T13:05:10.727Z"
   },
   {
    "duration": 4,
    "start_time": "2022-08-26T13:05:10.760Z"
   },
   {
    "duration": 37,
    "start_time": "2022-08-26T13:05:10.765Z"
   },
   {
    "duration": 15,
    "start_time": "2022-08-26T13:05:10.804Z"
   },
   {
    "duration": 35,
    "start_time": "2022-08-26T13:05:10.821Z"
   },
   {
    "duration": 10,
    "start_time": "2022-08-26T13:05:10.858Z"
   },
   {
    "duration": 30,
    "start_time": "2022-08-26T13:05:10.870Z"
   },
   {
    "duration": 28,
    "start_time": "2022-08-26T13:05:10.903Z"
   },
   {
    "duration": 287,
    "start_time": "2022-08-26T13:05:10.933Z"
   },
   {
    "duration": 298,
    "start_time": "2022-08-26T13:05:11.222Z"
   },
   {
    "duration": 295,
    "start_time": "2022-08-26T13:05:11.522Z"
   },
   {
    "duration": 254,
    "start_time": "2022-08-26T13:05:11.820Z"
   },
   {
    "duration": 218,
    "start_time": "2022-08-26T13:05:12.076Z"
   },
   {
    "duration": 1375,
    "start_time": "2022-08-26T13:05:12.296Z"
   },
   {
    "duration": 5,
    "start_time": "2022-08-26T13:12:01.670Z"
   },
   {
    "duration": 12,
    "start_time": "2022-08-26T13:12:04.351Z"
   },
   {
    "duration": 4,
    "start_time": "2022-08-26T13:12:12.611Z"
   },
   {
    "duration": 12,
    "start_time": "2022-08-26T13:12:14.672Z"
   },
   {
    "duration": 12,
    "start_time": "2022-08-26T13:12:28.603Z"
   },
   {
    "duration": 210,
    "start_time": "2022-08-26T13:26:02.783Z"
   },
   {
    "duration": 72,
    "start_time": "2022-08-26T13:28:09.421Z"
   },
   {
    "duration": 3,
    "start_time": "2022-08-26T13:28:18.665Z"
   },
   {
    "duration": 11,
    "start_time": "2022-08-26T13:28:18.670Z"
   },
   {
    "duration": 403,
    "start_time": "2022-08-26T13:28:18.683Z"
   },
   {
    "duration": 40,
    "start_time": "2022-08-26T13:28:19.088Z"
   },
   {
    "duration": 5,
    "start_time": "2022-08-26T13:28:19.130Z"
   },
   {
    "duration": 19,
    "start_time": "2022-08-26T13:28:19.137Z"
   },
   {
    "duration": 146,
    "start_time": "2022-08-26T13:28:19.158Z"
   },
   {
    "duration": 15,
    "start_time": "2022-08-26T13:28:19.308Z"
   },
   {
    "duration": 32,
    "start_time": "2022-08-26T13:28:19.325Z"
   },
   {
    "duration": 101,
    "start_time": "2022-08-26T13:28:19.359Z"
   },
   {
    "duration": 135,
    "start_time": "2022-08-26T13:28:19.462Z"
   },
   {
    "duration": 12,
    "start_time": "2022-08-26T13:28:19.599Z"
   },
   {
    "duration": 22,
    "start_time": "2022-08-26T13:28:19.613Z"
   },
   {
    "duration": 23,
    "start_time": "2022-08-26T13:28:19.637Z"
   },
   {
    "duration": 107,
    "start_time": "2022-08-26T13:28:19.662Z"
   },
   {
    "duration": 81,
    "start_time": "2022-08-26T13:28:19.771Z"
   },
   {
    "duration": 82,
    "start_time": "2022-08-26T13:28:19.854Z"
   },
   {
    "duration": 57,
    "start_time": "2022-08-26T13:28:19.938Z"
   },
   {
    "duration": 13,
    "start_time": "2022-08-26T13:28:19.997Z"
   },
   {
    "duration": 53,
    "start_time": "2022-08-26T13:28:20.015Z"
   },
   {
    "duration": 23,
    "start_time": "2022-08-26T13:28:20.070Z"
   },
   {
    "duration": 22,
    "start_time": "2022-08-26T13:28:20.096Z"
   },
   {
    "duration": 8,
    "start_time": "2022-08-26T13:28:20.120Z"
   },
   {
    "duration": 15,
    "start_time": "2022-08-26T13:28:20.130Z"
   },
   {
    "duration": 9,
    "start_time": "2022-08-26T13:28:20.147Z"
   },
   {
    "duration": 294,
    "start_time": "2022-08-26T13:28:20.158Z"
   },
   {
    "duration": 41,
    "start_time": "2022-08-26T13:28:20.454Z"
   },
   {
    "duration": 11,
    "start_time": "2022-08-26T13:28:20.497Z"
   },
   {
    "duration": 24,
    "start_time": "2022-08-26T13:28:20.511Z"
   },
   {
    "duration": 59,
    "start_time": "2022-08-26T13:28:20.537Z"
   },
   {
    "duration": 4,
    "start_time": "2022-08-26T13:28:20.599Z"
   },
   {
    "duration": 36,
    "start_time": "2022-08-26T13:28:20.605Z"
   },
   {
    "duration": 21,
    "start_time": "2022-08-26T13:28:20.643Z"
   },
   {
    "duration": 41,
    "start_time": "2022-08-26T13:28:20.666Z"
   },
   {
    "duration": 16,
    "start_time": "2022-08-26T13:28:20.710Z"
   },
   {
    "duration": 17,
    "start_time": "2022-08-26T13:28:20.728Z"
   },
   {
    "duration": 27,
    "start_time": "2022-08-26T13:28:20.747Z"
   },
   {
    "duration": 299,
    "start_time": "2022-08-26T13:28:20.775Z"
   },
   {
    "duration": 259,
    "start_time": "2022-08-26T13:28:21.076Z"
   },
   {
    "duration": 285,
    "start_time": "2022-08-26T13:28:21.337Z"
   },
   {
    "duration": 366,
    "start_time": "2022-08-26T13:28:21.624Z"
   },
   {
    "duration": 217,
    "start_time": "2022-08-26T13:28:21.993Z"
   },
   {
    "duration": 9,
    "start_time": "2022-08-26T13:28:22.212Z"
   },
   {
    "duration": 0,
    "start_time": "2022-08-26T13:28:22.223Z"
   },
   {
    "duration": 19430,
    "start_time": "2022-08-26T13:28:56.078Z"
   },
   {
    "duration": 499,
    "start_time": "2022-08-26T13:31:03.999Z"
   },
   {
    "duration": 25,
    "start_time": "2022-08-26T14:06:16.319Z"
   },
   {
    "duration": 718,
    "start_time": "2022-08-26T14:06:48.143Z"
   },
   {
    "duration": 18,
    "start_time": "2022-08-26T14:07:59.626Z"
   },
   {
    "duration": 688,
    "start_time": "2022-08-26T14:08:22.814Z"
   },
   {
    "duration": 4,
    "start_time": "2022-08-26T14:33:58.412Z"
   },
   {
    "duration": 7,
    "start_time": "2022-08-26T14:33:58.418Z"
   },
   {
    "duration": 426,
    "start_time": "2022-08-26T14:33:58.427Z"
   },
   {
    "duration": 42,
    "start_time": "2022-08-26T14:33:58.855Z"
   },
   {
    "duration": 6,
    "start_time": "2022-08-26T14:33:58.910Z"
   },
   {
    "duration": 9,
    "start_time": "2022-08-26T14:33:58.918Z"
   },
   {
    "duration": 166,
    "start_time": "2022-08-26T14:33:58.929Z"
   },
   {
    "duration": 17,
    "start_time": "2022-08-26T14:33:59.101Z"
   },
   {
    "duration": 27,
    "start_time": "2022-08-26T14:33:59.120Z"
   },
   {
    "duration": 97,
    "start_time": "2022-08-26T14:33:59.149Z"
   },
   {
    "duration": 154,
    "start_time": "2022-08-26T14:33:59.248Z"
   },
   {
    "duration": 17,
    "start_time": "2022-08-26T14:33:59.403Z"
   },
   {
    "duration": 27,
    "start_time": "2022-08-26T14:33:59.423Z"
   },
   {
    "duration": 47,
    "start_time": "2022-08-26T14:33:59.452Z"
   },
   {
    "duration": 120,
    "start_time": "2022-08-26T14:33:59.501Z"
   },
   {
    "duration": 74,
    "start_time": "2022-08-26T14:33:59.623Z"
   },
   {
    "duration": 102,
    "start_time": "2022-08-26T14:33:59.699Z"
   },
   {
    "duration": 43,
    "start_time": "2022-08-26T14:33:59.805Z"
   },
   {
    "duration": 13,
    "start_time": "2022-08-26T14:33:59.850Z"
   },
   {
    "duration": 55,
    "start_time": "2022-08-26T14:33:59.866Z"
   },
   {
    "duration": 23,
    "start_time": "2022-08-26T14:33:59.923Z"
   },
   {
    "duration": 18,
    "start_time": "2022-08-26T14:33:59.948Z"
   },
   {
    "duration": 30,
    "start_time": "2022-08-26T14:33:59.969Z"
   },
   {
    "duration": 30,
    "start_time": "2022-08-26T14:34:00.002Z"
   },
   {
    "duration": 18,
    "start_time": "2022-08-26T14:34:00.034Z"
   },
   {
    "duration": 316,
    "start_time": "2022-08-26T14:34:00.054Z"
   },
   {
    "duration": 50,
    "start_time": "2022-08-26T14:34:00.372Z"
   },
   {
    "duration": 56,
    "start_time": "2022-08-26T14:34:00.424Z"
   },
   {
    "duration": 42,
    "start_time": "2022-08-26T14:34:00.482Z"
   },
   {
    "duration": 53,
    "start_time": "2022-08-26T14:34:00.526Z"
   },
   {
    "duration": 26,
    "start_time": "2022-08-26T14:34:00.582Z"
   },
   {
    "duration": 32,
    "start_time": "2022-08-26T14:34:00.610Z"
   },
   {
    "duration": 16,
    "start_time": "2022-08-26T14:34:00.645Z"
   },
   {
    "duration": 38,
    "start_time": "2022-08-26T14:34:00.663Z"
   },
   {
    "duration": 0,
    "start_time": "2022-08-26T14:34:00.703Z"
   },
   {
    "duration": 0,
    "start_time": "2022-08-26T14:34:00.705Z"
   },
   {
    "duration": 0,
    "start_time": "2022-08-26T14:34:00.706Z"
   },
   {
    "duration": 0,
    "start_time": "2022-08-26T14:34:00.709Z"
   },
   {
    "duration": 0,
    "start_time": "2022-08-26T14:34:00.710Z"
   },
   {
    "duration": 0,
    "start_time": "2022-08-26T14:34:00.711Z"
   },
   {
    "duration": 0,
    "start_time": "2022-08-26T14:34:00.715Z"
   },
   {
    "duration": 0,
    "start_time": "2022-08-26T14:34:00.716Z"
   },
   {
    "duration": 0,
    "start_time": "2022-08-26T14:34:00.717Z"
   },
   {
    "duration": 0,
    "start_time": "2022-08-26T14:34:00.718Z"
   },
   {
    "duration": 0,
    "start_time": "2022-08-26T14:34:00.722Z"
   },
   {
    "duration": 373,
    "start_time": "2022-08-26T14:34:52.451Z"
   },
   {
    "duration": 25,
    "start_time": "2022-08-26T14:35:00.326Z"
   },
   {
    "duration": 386,
    "start_time": "2022-08-26T14:35:35.586Z"
   },
   {
    "duration": 394,
    "start_time": "2022-08-26T14:36:14.781Z"
   },
   {
    "duration": 370,
    "start_time": "2022-08-26T14:36:46.883Z"
   },
   {
    "duration": 405,
    "start_time": "2022-08-26T14:37:04.733Z"
   },
   {
    "duration": 372,
    "start_time": "2022-08-26T14:37:27.288Z"
   },
   {
    "duration": 430,
    "start_time": "2022-08-26T14:37:48.068Z"
   },
   {
    "duration": 336,
    "start_time": "2022-08-26T15:12:41.041Z"
   },
   {
    "duration": 27,
    "start_time": "2022-08-26T15:13:07.756Z"
   },
   {
    "duration": 353,
    "start_time": "2022-08-26T15:13:21.291Z"
   },
   {
    "duration": 22,
    "start_time": "2022-08-26T15:13:37.143Z"
   },
   {
    "duration": 331,
    "start_time": "2022-08-26T15:13:48.935Z"
   },
   {
    "duration": 326,
    "start_time": "2022-08-26T15:14:15.295Z"
   },
   {
    "duration": 353,
    "start_time": "2022-08-26T15:14:24.895Z"
   },
   {
    "duration": 312,
    "start_time": "2022-08-26T15:14:46.928Z"
   },
   {
    "duration": 340,
    "start_time": "2022-08-26T15:14:51.174Z"
   },
   {
    "duration": 350,
    "start_time": "2022-08-26T15:15:07.057Z"
   },
   {
    "duration": 335,
    "start_time": "2022-08-26T15:15:25.490Z"
   },
   {
    "duration": 343,
    "start_time": "2022-08-26T15:15:47.540Z"
   },
   {
    "duration": 348,
    "start_time": "2022-08-26T15:16:07.044Z"
   },
   {
    "duration": 339,
    "start_time": "2022-08-26T15:16:23.638Z"
   },
   {
    "duration": 347,
    "start_time": "2022-08-26T15:16:33.857Z"
   },
   {
    "duration": 356,
    "start_time": "2022-08-26T15:16:59.151Z"
   },
   {
    "duration": 336,
    "start_time": "2022-08-26T15:17:06.444Z"
   },
   {
    "duration": 376,
    "start_time": "2022-08-26T15:17:31.694Z"
   },
   {
    "duration": 370,
    "start_time": "2022-08-26T15:18:12.784Z"
   },
   {
    "duration": 335,
    "start_time": "2022-08-26T15:18:17.895Z"
   },
   {
    "duration": 353,
    "start_time": "2022-08-26T15:18:25.262Z"
   },
   {
    "duration": 336,
    "start_time": "2022-08-26T15:18:43.483Z"
   },
   {
    "duration": 368,
    "start_time": "2022-08-26T15:18:57.352Z"
   },
   {
    "duration": 350,
    "start_time": "2022-08-26T15:19:14.388Z"
   },
   {
    "duration": 316,
    "start_time": "2022-08-26T15:19:29.712Z"
   },
   {
    "duration": 365,
    "start_time": "2022-08-26T15:22:42.254Z"
   },
   {
    "duration": 320,
    "start_time": "2022-08-26T15:22:48.698Z"
   },
   {
    "duration": 326,
    "start_time": "2022-08-26T15:23:04.014Z"
   },
   {
    "duration": 358,
    "start_time": "2022-08-26T15:23:30.796Z"
   },
   {
    "duration": 378,
    "start_time": "2022-08-26T15:23:45.952Z"
   },
   {
    "duration": 339,
    "start_time": "2022-08-26T15:24:13.735Z"
   },
   {
    "duration": 332,
    "start_time": "2022-08-26T15:24:36.940Z"
   },
   {
    "duration": 388,
    "start_time": "2022-08-26T15:25:01.258Z"
   },
   {
    "duration": 384,
    "start_time": "2022-08-26T15:25:06.374Z"
   },
   {
    "duration": 340,
    "start_time": "2022-08-26T15:25:30.677Z"
   },
   {
    "duration": 312,
    "start_time": "2022-08-26T15:25:36.318Z"
   },
   {
    "duration": 358,
    "start_time": "2022-08-26T15:26:06.752Z"
   },
   {
    "duration": 370,
    "start_time": "2022-08-26T15:26:28.074Z"
   },
   {
    "duration": 340,
    "start_time": "2022-08-26T15:26:36.428Z"
   },
   {
    "duration": 300,
    "start_time": "2022-08-26T15:26:53.228Z"
   },
   {
    "duration": 329,
    "start_time": "2022-08-26T15:27:01.528Z"
   },
   {
    "duration": 330,
    "start_time": "2022-08-26T15:27:24.795Z"
   },
   {
    "duration": 329,
    "start_time": "2022-08-26T15:27:38.886Z"
   },
   {
    "duration": 367,
    "start_time": "2022-08-26T15:27:50.784Z"
   },
   {
    "duration": 348,
    "start_time": "2022-08-26T15:28:02.406Z"
   },
   {
    "duration": 344,
    "start_time": "2022-08-26T15:28:13.064Z"
   },
   {
    "duration": 3,
    "start_time": "2022-08-26T15:28:42.408Z"
   },
   {
    "duration": 4,
    "start_time": "2022-08-26T15:28:42.418Z"
   },
   {
    "duration": 385,
    "start_time": "2022-08-26T15:28:42.424Z"
   },
   {
    "duration": 37,
    "start_time": "2022-08-26T15:28:42.810Z"
   },
   {
    "duration": 4,
    "start_time": "2022-08-26T15:28:42.849Z"
   },
   {
    "duration": 24,
    "start_time": "2022-08-26T15:28:42.855Z"
   },
   {
    "duration": 102,
    "start_time": "2022-08-26T15:28:42.881Z"
   },
   {
    "duration": 13,
    "start_time": "2022-08-26T15:28:42.992Z"
   },
   {
    "duration": 24,
    "start_time": "2022-08-26T15:28:43.007Z"
   },
   {
    "duration": 88,
    "start_time": "2022-08-26T15:28:43.033Z"
   },
   {
    "duration": 122,
    "start_time": "2022-08-26T15:28:43.123Z"
   },
   {
    "duration": 12,
    "start_time": "2022-08-26T15:28:43.247Z"
   },
   {
    "duration": 33,
    "start_time": "2022-08-26T15:28:43.260Z"
   },
   {
    "duration": 20,
    "start_time": "2022-08-26T15:28:43.297Z"
   },
   {
    "duration": 98,
    "start_time": "2022-08-26T15:28:43.319Z"
   },
   {
    "duration": 54,
    "start_time": "2022-08-26T15:28:43.418Z"
   },
   {
    "duration": 79,
    "start_time": "2022-08-26T15:28:43.474Z"
   },
   {
    "duration": 54,
    "start_time": "2022-08-26T15:28:43.555Z"
   },
   {
    "duration": 12,
    "start_time": "2022-08-26T15:28:43.611Z"
   },
   {
    "duration": 24,
    "start_time": "2022-08-26T15:28:43.625Z"
   },
   {
    "duration": 16,
    "start_time": "2022-08-26T15:28:43.650Z"
   },
   {
    "duration": 30,
    "start_time": "2022-08-26T15:28:43.668Z"
   },
   {
    "duration": 6,
    "start_time": "2022-08-26T15:28:43.700Z"
   },
   {
    "duration": 15,
    "start_time": "2022-08-26T15:28:43.708Z"
   },
   {
    "duration": 9,
    "start_time": "2022-08-26T15:28:43.725Z"
   },
   {
    "duration": 297,
    "start_time": "2022-08-26T15:28:43.736Z"
   },
   {
    "duration": 31,
    "start_time": "2022-08-26T15:28:44.035Z"
   },
   {
    "duration": 24,
    "start_time": "2022-08-26T15:28:44.068Z"
   },
   {
    "duration": 24,
    "start_time": "2022-08-26T15:28:44.094Z"
   },
   {
    "duration": 44,
    "start_time": "2022-08-26T15:28:44.120Z"
   },
   {
    "duration": 4,
    "start_time": "2022-08-26T15:28:44.165Z"
   },
   {
    "duration": 27,
    "start_time": "2022-08-26T15:28:44.171Z"
   },
   {
    "duration": 16,
    "start_time": "2022-08-26T15:28:44.199Z"
   },
   {
    "duration": 333,
    "start_time": "2022-08-26T15:28:44.216Z"
   },
   {
    "duration": 30,
    "start_time": "2022-08-26T15:28:44.551Z"
   },
   {
    "duration": 12,
    "start_time": "2022-08-26T15:28:44.592Z"
   },
   {
    "duration": 18,
    "start_time": "2022-08-26T15:28:44.605Z"
   },
   {
    "duration": 18,
    "start_time": "2022-08-26T15:28:44.627Z"
   },
   {
    "duration": 287,
    "start_time": "2022-08-26T15:28:44.646Z"
   },
   {
    "duration": 240,
    "start_time": "2022-08-26T15:28:44.934Z"
   },
   {
    "duration": 273,
    "start_time": "2022-08-26T15:28:45.176Z"
   },
   {
    "duration": 180,
    "start_time": "2022-08-26T15:28:45.450Z"
   },
   {
    "duration": 204,
    "start_time": "2022-08-26T15:28:45.632Z"
   },
   {
    "duration": 491,
    "start_time": "2022-08-26T15:28:45.837Z"
   },
   {
    "duration": 1207,
    "start_time": "2022-08-26T15:28:46.329Z"
   },
   {
    "duration": 384,
    "start_time": "2022-08-26T15:33:21.799Z"
   },
   {
    "duration": 42,
    "start_time": "2022-08-26T16:32:08.322Z"
   },
   {
    "duration": 48,
    "start_time": "2022-08-26T16:32:53.492Z"
   },
   {
    "duration": 42,
    "start_time": "2022-08-26T16:33:13.357Z"
   },
   {
    "duration": 82,
    "start_time": "2022-08-26T16:43:20.201Z"
   },
   {
    "duration": 90,
    "start_time": "2022-08-26T16:43:48.663Z"
   },
   {
    "duration": 78,
    "start_time": "2022-08-26T16:44:30.396Z"
   },
   {
    "duration": 1358,
    "start_time": "2022-08-26T16:45:06.226Z"
   },
   {
    "duration": 0,
    "start_time": "2022-08-26T16:45:40.412Z"
   },
   {
    "duration": 1219,
    "start_time": "2022-08-26T16:46:20.945Z"
   },
   {
    "duration": 35,
    "start_time": "2022-08-26T16:47:35.932Z"
   },
   {
    "duration": 309,
    "start_time": "2022-08-26T16:48:03.398Z"
   },
   {
    "duration": 369,
    "start_time": "2022-08-26T16:48:41.588Z"
   },
   {
    "duration": 92,
    "start_time": "2022-08-26T16:49:57.355Z"
   },
   {
    "duration": 70,
    "start_time": "2022-08-26T16:50:45.707Z"
   },
   {
    "duration": 898,
    "start_time": "2022-08-26T16:50:55.685Z"
   },
   {
    "duration": 292,
    "start_time": "2022-08-26T16:51:26.999Z"
   },
   {
    "duration": 1279,
    "start_time": "2022-08-26T16:53:46.664Z"
   },
   {
    "duration": 31,
    "start_time": "2022-08-26T16:54:04.940Z"
   },
   {
    "duration": 288,
    "start_time": "2022-08-26T16:54:23.687Z"
   },
   {
    "duration": 275,
    "start_time": "2022-08-26T16:55:52.772Z"
   },
   {
    "duration": 285,
    "start_time": "2022-08-26T16:56:21.232Z"
   },
   {
    "duration": 274,
    "start_time": "2022-08-26T16:57:45.817Z"
   },
   {
    "duration": 393,
    "start_time": "2022-08-26T16:59:51.830Z"
   },
   {
    "duration": 282,
    "start_time": "2022-08-26T17:00:03.260Z"
   },
   {
    "duration": 411,
    "start_time": "2022-08-26T17:01:47.793Z"
   },
   {
    "duration": 290,
    "start_time": "2022-08-26T17:02:36.253Z"
   },
   {
    "duration": 286,
    "start_time": "2022-08-26T17:03:09.480Z"
   },
   {
    "duration": 276,
    "start_time": "2022-08-26T17:04:34.105Z"
   },
   {
    "duration": 285,
    "start_time": "2022-08-26T17:04:48.520Z"
   },
   {
    "duration": 281,
    "start_time": "2022-08-26T17:05:06.481Z"
   },
   {
    "duration": 945,
    "start_time": "2022-08-26T17:06:41.212Z"
   },
   {
    "duration": 291,
    "start_time": "2022-08-26T17:07:31.000Z"
   },
   {
    "duration": 7,
    "start_time": "2022-08-26T17:08:06.095Z"
   },
   {
    "duration": 7,
    "start_time": "2022-08-26T17:08:48.648Z"
   },
   {
    "duration": 281,
    "start_time": "2022-08-26T17:08:51.137Z"
   },
   {
    "duration": 296,
    "start_time": "2022-08-26T17:09:23.126Z"
   },
   {
    "duration": 7,
    "start_time": "2022-08-26T17:11:30.376Z"
   },
   {
    "duration": 261,
    "start_time": "2022-08-26T17:11:32.359Z"
   },
   {
    "duration": 258,
    "start_time": "2022-08-26T17:12:24.221Z"
   },
   {
    "duration": 250,
    "start_time": "2022-08-26T17:12:29.632Z"
   },
   {
    "duration": 6,
    "start_time": "2022-08-26T17:12:36.434Z"
   },
   {
    "duration": 242,
    "start_time": "2022-08-26T17:12:40.862Z"
   },
   {
    "duration": 261,
    "start_time": "2022-08-26T17:14:20.335Z"
   },
   {
    "duration": 2226,
    "start_time": "2022-08-26T17:18:02.176Z"
   },
   {
    "duration": 6,
    "start_time": "2022-08-26T17:19:42.112Z"
   },
   {
    "duration": 386,
    "start_time": "2022-08-26T17:19:44.189Z"
   },
   {
    "duration": 419,
    "start_time": "2022-08-26T17:22:25.012Z"
   },
   {
    "duration": 10,
    "start_time": "2022-08-26T17:22:30.713Z"
   },
   {
    "duration": 271,
    "start_time": "2022-08-26T17:22:38.246Z"
   },
   {
    "duration": 284,
    "start_time": "2022-08-26T17:22:44.993Z"
   },
   {
    "duration": 5,
    "start_time": "2022-08-26T17:22:51.954Z"
   },
   {
    "duration": 73,
    "start_time": "2022-08-26T17:22:51.962Z"
   },
   {
    "duration": 522,
    "start_time": "2022-08-26T17:22:52.038Z"
   },
   {
    "duration": 47,
    "start_time": "2022-08-26T17:22:52.562Z"
   },
   {
    "duration": 6,
    "start_time": "2022-08-26T17:22:52.613Z"
   },
   {
    "duration": 13,
    "start_time": "2022-08-26T17:22:52.620Z"
   },
   {
    "duration": 166,
    "start_time": "2022-08-26T17:22:52.635Z"
   },
   {
    "duration": 17,
    "start_time": "2022-08-26T17:22:52.804Z"
   },
   {
    "duration": 30,
    "start_time": "2022-08-26T17:22:52.823Z"
   },
   {
    "duration": 99,
    "start_time": "2022-08-26T17:22:52.855Z"
   },
   {
    "duration": 156,
    "start_time": "2022-08-26T17:22:52.956Z"
   },
   {
    "duration": 14,
    "start_time": "2022-08-26T17:22:53.114Z"
   },
   {
    "duration": 12,
    "start_time": "2022-08-26T17:22:53.132Z"
   },
   {
    "duration": 24,
    "start_time": "2022-08-26T17:22:53.146Z"
   },
   {
    "duration": 111,
    "start_time": "2022-08-26T17:22:53.172Z"
   },
   {
    "duration": 80,
    "start_time": "2022-08-26T17:22:53.293Z"
   },
   {
    "duration": 86,
    "start_time": "2022-08-26T17:22:53.391Z"
   },
   {
    "duration": 57,
    "start_time": "2022-08-26T17:22:53.480Z"
   },
   {
    "duration": 18,
    "start_time": "2022-08-26T17:22:53.539Z"
   },
   {
    "duration": 61,
    "start_time": "2022-08-26T17:22:53.560Z"
   },
   {
    "duration": 22,
    "start_time": "2022-08-26T17:22:53.624Z"
   },
   {
    "duration": 12,
    "start_time": "2022-08-26T17:22:53.648Z"
   },
   {
    "duration": 39,
    "start_time": "2022-08-26T17:22:53.662Z"
   },
   {
    "duration": 31,
    "start_time": "2022-08-26T17:22:53.703Z"
   },
   {
    "duration": 9,
    "start_time": "2022-08-26T17:22:53.737Z"
   },
   {
    "duration": 384,
    "start_time": "2022-08-26T17:22:53.749Z"
   },
   {
    "duration": 33,
    "start_time": "2022-08-26T17:22:54.135Z"
   },
   {
    "duration": 10,
    "start_time": "2022-08-26T17:22:54.170Z"
   },
   {
    "duration": 30,
    "start_time": "2022-08-26T17:22:54.193Z"
   },
   {
    "duration": 31,
    "start_time": "2022-08-26T17:22:54.224Z"
   },
   {
    "duration": 36,
    "start_time": "2022-08-26T17:22:54.257Z"
   },
   {
    "duration": 314,
    "start_time": "2022-08-26T17:22:54.296Z"
   },
   {
    "duration": 329,
    "start_time": "2022-08-26T17:22:54.614Z"
   },
   {
    "duration": 323,
    "start_time": "2022-08-26T17:22:54.945Z"
   },
   {
    "duration": 27,
    "start_time": "2022-08-26T17:22:55.272Z"
   },
   {
    "duration": 376,
    "start_time": "2022-08-26T17:22:55.302Z"
   },
   {
    "duration": 44,
    "start_time": "2022-08-26T17:22:55.683Z"
   },
   {
    "duration": 18,
    "start_time": "2022-08-26T17:22:55.729Z"
   },
   {
    "duration": 13,
    "start_time": "2022-08-26T17:22:55.749Z"
   },
   {
    "duration": 55,
    "start_time": "2022-08-26T17:22:55.764Z"
   },
   {
    "duration": 375,
    "start_time": "2022-08-26T17:22:55.821Z"
   },
   {
    "duration": 296,
    "start_time": "2022-08-26T17:22:56.198Z"
   },
   {
    "duration": 381,
    "start_time": "2022-08-26T17:22:56.497Z"
   },
   {
    "duration": 242,
    "start_time": "2022-08-26T17:22:56.881Z"
   },
   {
    "duration": 213,
    "start_time": "2022-08-26T17:22:57.126Z"
   },
   {
    "duration": 553,
    "start_time": "2022-08-26T17:22:57.341Z"
   },
   {
    "duration": 1446,
    "start_time": "2022-08-26T17:22:57.897Z"
   },
   {
    "duration": 4,
    "start_time": "2022-08-26T17:26:11.716Z"
   },
   {
    "duration": 11,
    "start_time": "2022-08-26T17:26:11.723Z"
   },
   {
    "duration": 419,
    "start_time": "2022-08-26T17:26:11.736Z"
   },
   {
    "duration": 58,
    "start_time": "2022-08-26T17:26:12.158Z"
   },
   {
    "duration": 5,
    "start_time": "2022-08-26T17:26:12.218Z"
   },
   {
    "duration": 12,
    "start_time": "2022-08-26T17:26:12.224Z"
   },
   {
    "duration": 119,
    "start_time": "2022-08-26T17:26:12.238Z"
   },
   {
    "duration": 15,
    "start_time": "2022-08-26T17:26:12.358Z"
   },
   {
    "duration": 50,
    "start_time": "2022-08-26T17:26:12.374Z"
   },
   {
    "duration": 97,
    "start_time": "2022-08-26T17:26:12.426Z"
   },
   {
    "duration": 126,
    "start_time": "2022-08-26T17:26:12.527Z"
   },
   {
    "duration": 12,
    "start_time": "2022-08-26T17:26:12.655Z"
   },
   {
    "duration": 41,
    "start_time": "2022-08-26T17:26:12.669Z"
   },
   {
    "duration": 26,
    "start_time": "2022-08-26T17:26:12.712Z"
   },
   {
    "duration": 107,
    "start_time": "2022-08-26T17:26:12.740Z"
   },
   {
    "duration": 72,
    "start_time": "2022-08-26T17:26:12.849Z"
   },
   {
    "duration": 91,
    "start_time": "2022-08-26T17:26:12.923Z"
   },
   {
    "duration": 38,
    "start_time": "2022-08-26T17:26:13.015Z"
   },
   {
    "duration": 13,
    "start_time": "2022-08-26T17:26:13.054Z"
   },
   {
    "duration": 31,
    "start_time": "2022-08-26T17:26:13.092Z"
   },
   {
    "duration": 18,
    "start_time": "2022-08-26T17:26:13.125Z"
   },
   {
    "duration": 10,
    "start_time": "2022-08-26T17:26:13.145Z"
   },
   {
    "duration": 42,
    "start_time": "2022-08-26T17:26:13.157Z"
   },
   {
    "duration": 27,
    "start_time": "2022-08-26T17:26:13.201Z"
   },
   {
    "duration": 20,
    "start_time": "2022-08-26T17:26:13.230Z"
   },
   {
    "duration": 299,
    "start_time": "2022-08-26T17:26:13.252Z"
   },
   {
    "duration": 32,
    "start_time": "2022-08-26T17:26:13.553Z"
   },
   {
    "duration": 14,
    "start_time": "2022-08-26T17:26:13.586Z"
   },
   {
    "duration": 29,
    "start_time": "2022-08-26T17:26:13.606Z"
   },
   {
    "duration": 56,
    "start_time": "2022-08-26T17:26:13.636Z"
   },
   {
    "duration": 14,
    "start_time": "2022-08-26T17:26:13.695Z"
   },
   {
    "duration": 295,
    "start_time": "2022-08-26T17:26:13.711Z"
   },
   {
    "duration": 295,
    "start_time": "2022-08-26T17:26:14.008Z"
   },
   {
    "duration": 290,
    "start_time": "2022-08-26T17:26:14.306Z"
   },
   {
    "duration": 20,
    "start_time": "2022-08-26T17:26:14.599Z"
   },
   {
    "duration": 347,
    "start_time": "2022-08-26T17:26:14.620Z"
   },
   {
    "duration": 48,
    "start_time": "2022-08-26T17:26:14.968Z"
   },
   {
    "duration": 15,
    "start_time": "2022-08-26T17:26:15.018Z"
   },
   {
    "duration": 11,
    "start_time": "2022-08-26T17:26:15.035Z"
   },
   {
    "duration": 41,
    "start_time": "2022-08-26T17:26:15.047Z"
   },
   {
    "duration": 324,
    "start_time": "2022-08-26T17:26:15.091Z"
   },
   {
    "duration": 272,
    "start_time": "2022-08-26T17:26:15.417Z"
   },
   {
    "duration": 322,
    "start_time": "2022-08-26T17:26:15.692Z"
   },
   {
    "duration": 212,
    "start_time": "2022-08-26T17:26:16.016Z"
   },
   {
    "duration": 202,
    "start_time": "2022-08-26T17:26:16.229Z"
   },
   {
    "duration": 523,
    "start_time": "2022-08-26T17:26:16.432Z"
   },
   {
    "duration": 1382,
    "start_time": "2022-08-26T17:26:16.957Z"
   },
   {
    "duration": 5,
    "start_time": "2022-08-26T17:27:02.379Z"
   },
   {
    "duration": 3,
    "start_time": "2022-08-26T17:27:06.533Z"
   },
   {
    "duration": 6,
    "start_time": "2022-08-26T17:27:06.538Z"
   },
   {
    "duration": 410,
    "start_time": "2022-08-26T17:27:06.546Z"
   },
   {
    "duration": 58,
    "start_time": "2022-08-26T17:27:06.960Z"
   },
   {
    "duration": 5,
    "start_time": "2022-08-26T17:27:07.020Z"
   },
   {
    "duration": 49,
    "start_time": "2022-08-26T17:27:07.027Z"
   },
   {
    "duration": 138,
    "start_time": "2022-08-26T17:27:07.078Z"
   },
   {
    "duration": 17,
    "start_time": "2022-08-26T17:27:07.218Z"
   },
   {
    "duration": 36,
    "start_time": "2022-08-26T17:27:07.239Z"
   },
   {
    "duration": 72,
    "start_time": "2022-08-26T17:27:07.277Z"
   },
   {
    "duration": 156,
    "start_time": "2022-08-26T17:27:07.351Z"
   },
   {
    "duration": 12,
    "start_time": "2022-08-26T17:27:07.509Z"
   },
   {
    "duration": 48,
    "start_time": "2022-08-26T17:27:07.523Z"
   },
   {
    "duration": 48,
    "start_time": "2022-08-26T17:27:07.573Z"
   },
   {
    "duration": 102,
    "start_time": "2022-08-26T17:27:07.622Z"
   },
   {
    "duration": 67,
    "start_time": "2022-08-26T17:27:07.726Z"
   },
   {
    "duration": 78,
    "start_time": "2022-08-26T17:27:07.795Z"
   },
   {
    "duration": 45,
    "start_time": "2022-08-26T17:27:07.894Z"
   },
   {
    "duration": 15,
    "start_time": "2022-08-26T17:27:07.940Z"
   },
   {
    "duration": 75,
    "start_time": "2022-08-26T17:27:07.957Z"
   },
   {
    "duration": 22,
    "start_time": "2022-08-26T17:27:08.034Z"
   },
   {
    "duration": 53,
    "start_time": "2022-08-26T17:27:08.058Z"
   },
   {
    "duration": 41,
    "start_time": "2022-08-26T17:27:08.112Z"
   },
   {
    "duration": 38,
    "start_time": "2022-08-26T17:27:08.157Z"
   },
   {
    "duration": 62,
    "start_time": "2022-08-26T17:27:08.198Z"
   },
   {
    "duration": 357,
    "start_time": "2022-08-26T17:27:08.262Z"
   },
   {
    "duration": 30,
    "start_time": "2022-08-26T17:27:08.622Z"
   },
   {
    "duration": 41,
    "start_time": "2022-08-26T17:27:08.654Z"
   },
   {
    "duration": 42,
    "start_time": "2022-08-26T17:27:08.698Z"
   },
   {
    "duration": 33,
    "start_time": "2022-08-26T17:27:08.742Z"
   },
   {
    "duration": 17,
    "start_time": "2022-08-26T17:27:08.778Z"
   },
   {
    "duration": 295,
    "start_time": "2022-08-26T17:27:08.798Z"
   },
   {
    "duration": 348,
    "start_time": "2022-08-26T17:27:09.095Z"
   },
   {
    "duration": 323,
    "start_time": "2022-08-26T17:27:09.445Z"
   },
   {
    "duration": 25,
    "start_time": "2022-08-26T17:27:09.771Z"
   },
   {
    "duration": 434,
    "start_time": "2022-08-26T17:27:09.798Z"
   },
   {
    "duration": 36,
    "start_time": "2022-08-26T17:27:10.234Z"
   },
   {
    "duration": 38,
    "start_time": "2022-08-26T17:27:10.272Z"
   },
   {
    "duration": 73,
    "start_time": "2022-08-26T17:27:10.312Z"
   },
   {
    "duration": 58,
    "start_time": "2022-08-26T17:27:10.387Z"
   },
   {
    "duration": 342,
    "start_time": "2022-08-26T17:27:10.447Z"
   },
   {
    "duration": 282,
    "start_time": "2022-08-26T17:27:10.791Z"
   },
   {
    "duration": 300,
    "start_time": "2022-08-26T17:27:11.076Z"
   },
   {
    "duration": 212,
    "start_time": "2022-08-26T17:27:11.378Z"
   },
   {
    "duration": 182,
    "start_time": "2022-08-26T17:27:11.593Z"
   },
   {
    "duration": 583,
    "start_time": "2022-08-26T17:27:11.777Z"
   },
   {
    "duration": 1365,
    "start_time": "2022-08-26T17:27:12.362Z"
   },
   {
    "duration": 9,
    "start_time": "2022-08-26T17:32:27.901Z"
   },
   {
    "duration": 248,
    "start_time": "2022-08-26T17:32:29.520Z"
   },
   {
    "duration": 7,
    "start_time": "2022-08-26T17:32:56.334Z"
   },
   {
    "duration": 257,
    "start_time": "2022-08-26T17:32:58.209Z"
   },
   {
    "duration": 6,
    "start_time": "2022-08-26T17:36:47.034Z"
   },
   {
    "duration": 202,
    "start_time": "2022-08-26T17:37:03.045Z"
   },
   {
    "duration": 6,
    "start_time": "2022-08-26T17:38:31.614Z"
   },
   {
    "duration": 207,
    "start_time": "2022-08-26T17:38:40.180Z"
   },
   {
    "duration": 6,
    "start_time": "2022-08-26T17:38:58.308Z"
   },
   {
    "duration": 606,
    "start_time": "2022-08-26T17:39:00.958Z"
   },
   {
    "duration": 7,
    "start_time": "2022-08-26T17:39:30.386Z"
   },
   {
    "duration": 301,
    "start_time": "2022-08-26T17:39:32.036Z"
   },
   {
    "duration": 274,
    "start_time": "2022-08-26T17:40:24.008Z"
   },
   {
    "duration": 275,
    "start_time": "2022-08-26T17:40:28.847Z"
   },
   {
    "duration": 16,
    "start_time": "2022-08-26T17:40:55.060Z"
   },
   {
    "duration": 32,
    "start_time": "2022-08-26T17:41:56.513Z"
   },
   {
    "duration": 34,
    "start_time": "2022-08-26T17:42:01.232Z"
   },
   {
    "duration": 44,
    "start_time": "2022-08-26T17:42:31.940Z"
   },
   {
    "duration": 38,
    "start_time": "2022-08-26T17:42:50.329Z"
   },
   {
    "duration": 33,
    "start_time": "2022-08-26T17:43:15.544Z"
   },
   {
    "duration": 21,
    "start_time": "2022-08-26T17:50:37.232Z"
   },
   {
    "duration": 21,
    "start_time": "2022-08-26T17:50:45.511Z"
   },
   {
    "duration": 22,
    "start_time": "2022-08-26T17:50:58.556Z"
   },
   {
    "duration": 26,
    "start_time": "2022-08-26T17:52:57.843Z"
   },
   {
    "duration": 41,
    "start_time": "2022-08-26T17:53:46.246Z"
   },
   {
    "duration": 23,
    "start_time": "2022-08-26T17:54:17.835Z"
   },
   {
    "duration": 5,
    "start_time": "2022-08-26T17:54:29.330Z"
   },
   {
    "duration": 12,
    "start_time": "2022-08-26T17:54:29.338Z"
   },
   {
    "duration": 400,
    "start_time": "2022-08-26T17:54:29.353Z"
   },
   {
    "duration": 43,
    "start_time": "2022-08-26T17:54:29.755Z"
   },
   {
    "duration": 9,
    "start_time": "2022-08-26T17:54:29.800Z"
   },
   {
    "duration": 17,
    "start_time": "2022-08-26T17:54:29.811Z"
   },
   {
    "duration": 112,
    "start_time": "2022-08-26T17:54:29.829Z"
   },
   {
    "duration": 14,
    "start_time": "2022-08-26T17:54:29.943Z"
   },
   {
    "duration": 49,
    "start_time": "2022-08-26T17:54:29.961Z"
   },
   {
    "duration": 99,
    "start_time": "2022-08-26T17:54:30.012Z"
   },
   {
    "duration": 119,
    "start_time": "2022-08-26T17:54:30.113Z"
   },
   {
    "duration": 13,
    "start_time": "2022-08-26T17:54:30.234Z"
   },
   {
    "duration": 24,
    "start_time": "2022-08-26T17:54:30.249Z"
   },
   {
    "duration": 62,
    "start_time": "2022-08-26T17:54:30.275Z"
   },
   {
    "duration": 100,
    "start_time": "2022-08-26T17:54:30.339Z"
   },
   {
    "duration": 75,
    "start_time": "2022-08-26T17:54:30.441Z"
   },
   {
    "duration": 87,
    "start_time": "2022-08-26T17:54:30.518Z"
   },
   {
    "duration": 40,
    "start_time": "2022-08-26T17:54:30.607Z"
   },
   {
    "duration": 12,
    "start_time": "2022-08-26T17:54:30.649Z"
   },
   {
    "duration": 52,
    "start_time": "2022-08-26T17:54:30.663Z"
   },
   {
    "duration": 18,
    "start_time": "2022-08-26T17:54:30.716Z"
   },
   {
    "duration": 16,
    "start_time": "2022-08-26T17:54:30.736Z"
   },
   {
    "duration": 17,
    "start_time": "2022-08-26T17:54:30.754Z"
   },
   {
    "duration": 16,
    "start_time": "2022-08-26T17:54:30.795Z"
   },
   {
    "duration": 25,
    "start_time": "2022-08-26T17:54:30.812Z"
   },
   {
    "duration": 332,
    "start_time": "2022-08-26T17:54:30.839Z"
   },
   {
    "duration": 47,
    "start_time": "2022-08-26T17:54:31.173Z"
   },
   {
    "duration": 15,
    "start_time": "2022-08-26T17:54:31.222Z"
   },
   {
    "duration": 32,
    "start_time": "2022-08-26T17:54:31.239Z"
   },
   {
    "duration": 52,
    "start_time": "2022-08-26T17:54:31.273Z"
   },
   {
    "duration": 32,
    "start_time": "2022-08-26T17:54:31.327Z"
   },
   {
    "duration": 7,
    "start_time": "2022-08-26T17:54:31.360Z"
   },
   {
    "duration": 284,
    "start_time": "2022-08-26T17:54:31.368Z"
   },
   {
    "duration": 306,
    "start_time": "2022-08-26T17:54:31.655Z"
   },
   {
    "duration": 337,
    "start_time": "2022-08-26T17:54:31.963Z"
   },
   {
    "duration": 18,
    "start_time": "2022-08-26T17:54:32.302Z"
   },
   {
    "duration": 488,
    "start_time": "2022-08-26T17:54:32.321Z"
   },
   {
    "duration": 17,
    "start_time": "2022-08-26T17:54:32.811Z"
   },
   {
    "duration": 70,
    "start_time": "2022-08-26T17:54:32.830Z"
   },
   {
    "duration": 35,
    "start_time": "2022-08-26T17:54:32.906Z"
   },
   {
    "duration": 596,
    "start_time": "2022-08-26T17:54:32.943Z"
   },
   {
    "duration": 593,
    "start_time": "2022-08-26T17:54:33.599Z"
   },
   {
    "duration": 614,
    "start_time": "2022-08-26T17:54:34.193Z"
   },
   {
    "duration": 232,
    "start_time": "2022-08-26T17:54:34.809Z"
   },
   {
    "duration": 190,
    "start_time": "2022-08-26T17:54:35.042Z"
   },
   {
    "duration": 492,
    "start_time": "2022-08-26T17:54:35.234Z"
   },
   {
    "duration": 1303,
    "start_time": "2022-08-26T17:54:35.728Z"
   },
   {
    "duration": 21,
    "start_time": "2022-08-26T17:56:06.314Z"
   },
   {
    "duration": 48,
    "start_time": "2022-08-26T17:56:35.285Z"
   },
   {
    "duration": 6,
    "start_time": "2022-08-26T17:56:39.492Z"
   },
   {
    "duration": 8,
    "start_time": "2022-08-26T17:56:39.508Z"
   },
   {
    "duration": 369,
    "start_time": "2022-08-26T17:56:39.518Z"
   },
   {
    "duration": 48,
    "start_time": "2022-08-26T17:56:39.889Z"
   },
   {
    "duration": 4,
    "start_time": "2022-08-26T17:56:39.939Z"
   },
   {
    "duration": 6,
    "start_time": "2022-08-26T17:56:39.945Z"
   },
   {
    "duration": 123,
    "start_time": "2022-08-26T17:56:39.953Z"
   },
   {
    "duration": 18,
    "start_time": "2022-08-26T17:56:40.093Z"
   },
   {
    "duration": 26,
    "start_time": "2022-08-26T17:56:40.115Z"
   },
   {
    "duration": 98,
    "start_time": "2022-08-26T17:56:40.143Z"
   },
   {
    "duration": 123,
    "start_time": "2022-08-26T17:56:40.243Z"
   },
   {
    "duration": 40,
    "start_time": "2022-08-26T17:56:40.368Z"
   },
   {
    "duration": 15,
    "start_time": "2022-08-26T17:56:40.411Z"
   },
   {
    "duration": 28,
    "start_time": "2022-08-26T17:56:40.428Z"
   },
   {
    "duration": 112,
    "start_time": "2022-08-26T17:56:40.459Z"
   },
   {
    "duration": 71,
    "start_time": "2022-08-26T17:56:40.572Z"
   },
   {
    "duration": 83,
    "start_time": "2022-08-26T17:56:40.645Z"
   },
   {
    "duration": 38,
    "start_time": "2022-08-26T17:56:40.729Z"
   },
   {
    "duration": 38,
    "start_time": "2022-08-26T17:56:40.768Z"
   },
   {
    "duration": 30,
    "start_time": "2022-08-26T17:56:40.807Z"
   },
   {
    "duration": 18,
    "start_time": "2022-08-26T17:56:40.839Z"
   },
   {
    "duration": 21,
    "start_time": "2022-08-26T17:56:40.859Z"
   },
   {
    "duration": 30,
    "start_time": "2022-08-26T17:56:40.882Z"
   },
   {
    "duration": 14,
    "start_time": "2022-08-26T17:56:40.915Z"
   },
   {
    "duration": 11,
    "start_time": "2022-08-26T17:56:40.931Z"
   },
   {
    "duration": 293,
    "start_time": "2022-08-26T17:56:40.943Z"
   },
   {
    "duration": 37,
    "start_time": "2022-08-26T17:56:41.238Z"
   },
   {
    "duration": 30,
    "start_time": "2022-08-26T17:56:41.293Z"
   },
   {
    "duration": 39,
    "start_time": "2022-08-26T17:56:41.325Z"
   },
   {
    "duration": 37,
    "start_time": "2022-08-26T17:56:41.366Z"
   },
   {
    "duration": 36,
    "start_time": "2022-08-26T17:56:41.406Z"
   },
   {
    "duration": 7,
    "start_time": "2022-08-26T17:56:41.443Z"
   },
   {
    "duration": 280,
    "start_time": "2022-08-26T17:56:41.452Z"
   },
   {
    "duration": 306,
    "start_time": "2022-08-26T17:56:41.735Z"
   },
   {
    "duration": 331,
    "start_time": "2022-08-26T17:56:42.043Z"
   },
   {
    "duration": 26,
    "start_time": "2022-08-26T17:56:42.376Z"
   },
   {
    "duration": 358,
    "start_time": "2022-08-26T17:56:42.404Z"
   },
   {
    "duration": 11,
    "start_time": "2022-08-26T17:56:42.764Z"
   },
   {
    "duration": 32,
    "start_time": "2022-08-26T17:56:42.777Z"
   },
   {
    "duration": 15,
    "start_time": "2022-08-26T17:56:42.810Z"
   },
   {
    "duration": 288,
    "start_time": "2022-08-26T17:56:42.827Z"
   },
   {
    "duration": 281,
    "start_time": "2022-08-26T17:56:43.117Z"
   },
   {
    "duration": 275,
    "start_time": "2022-08-26T17:56:43.402Z"
   },
   {
    "duration": 190,
    "start_time": "2022-08-26T17:56:43.679Z"
   },
   {
    "duration": 190,
    "start_time": "2022-08-26T17:56:43.871Z"
   },
   {
    "duration": 499,
    "start_time": "2022-08-26T17:56:44.063Z"
   },
   {
    "duration": 1271,
    "start_time": "2022-08-26T17:56:44.564Z"
   },
   {
    "duration": 4,
    "start_time": "2022-08-26T17:59:45.147Z"
   },
   {
    "duration": 4,
    "start_time": "2022-08-26T17:59:48.227Z"
   },
   {
    "duration": 26,
    "start_time": "2022-08-26T17:59:48.233Z"
   },
   {
    "duration": 404,
    "start_time": "2022-08-26T17:59:48.261Z"
   },
   {
    "duration": 44,
    "start_time": "2022-08-26T17:59:48.666Z"
   },
   {
    "duration": 5,
    "start_time": "2022-08-26T17:59:48.714Z"
   },
   {
    "duration": 13,
    "start_time": "2022-08-26T17:59:48.721Z"
   },
   {
    "duration": 120,
    "start_time": "2022-08-26T17:59:48.736Z"
   },
   {
    "duration": 43,
    "start_time": "2022-08-26T17:59:48.858Z"
   },
   {
    "duration": 24,
    "start_time": "2022-08-26T17:59:48.907Z"
   },
   {
    "duration": 81,
    "start_time": "2022-08-26T17:59:48.933Z"
   },
   {
    "duration": 128,
    "start_time": "2022-08-26T17:59:49.018Z"
   },
   {
    "duration": 13,
    "start_time": "2022-08-26T17:59:49.148Z"
   },
   {
    "duration": 45,
    "start_time": "2022-08-26T17:59:49.163Z"
   },
   {
    "duration": 26,
    "start_time": "2022-08-26T17:59:49.210Z"
   },
   {
    "duration": 130,
    "start_time": "2022-08-26T17:59:49.238Z"
   },
   {
    "duration": 72,
    "start_time": "2022-08-26T17:59:49.370Z"
   },
   {
    "duration": 97,
    "start_time": "2022-08-26T17:59:49.444Z"
   },
   {
    "duration": 64,
    "start_time": "2022-08-26T17:59:49.543Z"
   },
   {
    "duration": 15,
    "start_time": "2022-08-26T17:59:49.609Z"
   },
   {
    "duration": 26,
    "start_time": "2022-08-26T17:59:49.626Z"
   },
   {
    "duration": 44,
    "start_time": "2022-08-26T17:59:49.654Z"
   },
   {
    "duration": 12,
    "start_time": "2022-08-26T17:59:49.699Z"
   },
   {
    "duration": 7,
    "start_time": "2022-08-26T17:59:49.712Z"
   },
   {
    "duration": 12,
    "start_time": "2022-08-26T17:59:49.720Z"
   },
   {
    "duration": 8,
    "start_time": "2022-08-26T17:59:49.734Z"
   },
   {
    "duration": 322,
    "start_time": "2022-08-26T17:59:49.744Z"
   },
   {
    "duration": 60,
    "start_time": "2022-08-26T17:59:50.068Z"
   },
   {
    "duration": 10,
    "start_time": "2022-08-26T17:59:50.130Z"
   },
   {
    "duration": 23,
    "start_time": "2022-08-26T17:59:50.144Z"
   },
   {
    "duration": 53,
    "start_time": "2022-08-26T17:59:50.169Z"
   },
   {
    "duration": 45,
    "start_time": "2022-08-26T17:59:50.224Z"
   },
   {
    "duration": 31,
    "start_time": "2022-08-26T17:59:50.271Z"
   },
   {
    "duration": 257,
    "start_time": "2022-08-26T17:59:50.307Z"
   },
   {
    "duration": 254,
    "start_time": "2022-08-26T17:59:50.566Z"
   },
   {
    "duration": 284,
    "start_time": "2022-08-26T17:59:50.822Z"
   },
   {
    "duration": 15,
    "start_time": "2022-08-26T17:59:51.108Z"
   },
   {
    "duration": 381,
    "start_time": "2022-08-26T17:59:51.125Z"
   },
   {
    "duration": 13,
    "start_time": "2022-08-26T17:59:51.508Z"
   },
   {
    "duration": 8,
    "start_time": "2022-08-26T17:59:51.524Z"
   },
   {
    "duration": 22,
    "start_time": "2022-08-26T17:59:51.534Z"
   },
   {
    "duration": 2706,
    "start_time": "2022-08-26T17:59:51.560Z"
   },
   {
    "duration": 274,
    "start_time": "2022-08-26T17:59:54.268Z"
   },
   {
    "duration": 329,
    "start_time": "2022-08-26T17:59:54.544Z"
   },
   {
    "duration": 198,
    "start_time": "2022-08-26T17:59:54.875Z"
   },
   {
    "duration": 186,
    "start_time": "2022-08-26T17:59:55.075Z"
   },
   {
    "duration": 500,
    "start_time": "2022-08-26T17:59:55.263Z"
   },
   {
    "duration": 1390,
    "start_time": "2022-08-26T17:59:55.765Z"
   },
   {
    "duration": 4,
    "start_time": "2022-08-26T18:02:44.188Z"
   },
   {
    "duration": 24,
    "start_time": "2022-08-26T18:02:44.194Z"
   },
   {
    "duration": 390,
    "start_time": "2022-08-26T18:02:44.220Z"
   },
   {
    "duration": 37,
    "start_time": "2022-08-26T18:02:44.612Z"
   },
   {
    "duration": 4,
    "start_time": "2022-08-26T18:02:44.652Z"
   },
   {
    "duration": 11,
    "start_time": "2022-08-26T18:02:44.658Z"
   },
   {
    "duration": 148,
    "start_time": "2022-08-26T18:02:44.671Z"
   },
   {
    "duration": 13,
    "start_time": "2022-08-26T18:02:44.821Z"
   },
   {
    "duration": 26,
    "start_time": "2022-08-26T18:02:44.836Z"
   },
   {
    "duration": 82,
    "start_time": "2022-08-26T18:02:44.863Z"
   },
   {
    "duration": 158,
    "start_time": "2022-08-26T18:02:44.948Z"
   },
   {
    "duration": 13,
    "start_time": "2022-08-26T18:02:45.108Z"
   },
   {
    "duration": 11,
    "start_time": "2022-08-26T18:02:45.123Z"
   },
   {
    "duration": 24,
    "start_time": "2022-08-26T18:02:45.135Z"
   },
   {
    "duration": 115,
    "start_time": "2022-08-26T18:02:45.161Z"
   },
   {
    "duration": 63,
    "start_time": "2022-08-26T18:02:45.291Z"
   },
   {
    "duration": 97,
    "start_time": "2022-08-26T18:02:45.356Z"
   },
   {
    "duration": 54,
    "start_time": "2022-08-26T18:02:45.455Z"
   },
   {
    "duration": 14,
    "start_time": "2022-08-26T18:02:45.511Z"
   },
   {
    "duration": 35,
    "start_time": "2022-08-26T18:02:45.527Z"
   },
   {
    "duration": 53,
    "start_time": "2022-08-26T18:02:45.563Z"
   },
   {
    "duration": 18,
    "start_time": "2022-08-26T18:02:45.617Z"
   },
   {
    "duration": 22,
    "start_time": "2022-08-26T18:02:45.637Z"
   },
   {
    "duration": 20,
    "start_time": "2022-08-26T18:02:45.660Z"
   },
   {
    "duration": 29,
    "start_time": "2022-08-26T18:02:45.681Z"
   },
   {
    "duration": 310,
    "start_time": "2022-08-26T18:02:45.712Z"
   },
   {
    "duration": 32,
    "start_time": "2022-08-26T18:02:46.024Z"
   },
   {
    "duration": 10,
    "start_time": "2022-08-26T18:02:46.059Z"
   },
   {
    "duration": 42,
    "start_time": "2022-08-26T18:02:46.073Z"
   },
   {
    "duration": 52,
    "start_time": "2022-08-26T18:02:46.116Z"
   },
   {
    "duration": 49,
    "start_time": "2022-08-26T18:02:46.169Z"
   },
   {
    "duration": 7,
    "start_time": "2022-08-26T18:02:46.220Z"
   },
   {
    "duration": 293,
    "start_time": "2022-08-26T18:02:46.229Z"
   },
   {
    "duration": 264,
    "start_time": "2022-08-26T18:02:46.524Z"
   },
   {
    "duration": 313,
    "start_time": "2022-08-26T18:02:46.794Z"
   },
   {
    "duration": 16,
    "start_time": "2022-08-26T18:02:47.110Z"
   },
   {
    "duration": 393,
    "start_time": "2022-08-26T18:02:47.127Z"
   },
   {
    "duration": 13,
    "start_time": "2022-08-26T18:02:47.522Z"
   },
   {
    "duration": 10,
    "start_time": "2022-08-26T18:02:47.537Z"
   },
   {
    "duration": 17,
    "start_time": "2022-08-26T18:02:47.549Z"
   },
   {
    "duration": 292,
    "start_time": "2022-08-26T18:02:47.594Z"
   },
   {
    "duration": 273,
    "start_time": "2022-08-26T18:02:47.887Z"
   },
   {
    "duration": 294,
    "start_time": "2022-08-26T18:02:48.161Z"
   },
   {
    "duration": 207,
    "start_time": "2022-08-26T18:02:48.457Z"
   },
   {
    "duration": 185,
    "start_time": "2022-08-26T18:02:48.666Z"
   },
   {
    "duration": 485,
    "start_time": "2022-08-26T18:02:48.853Z"
   },
   {
    "duration": 1342,
    "start_time": "2022-08-26T18:02:49.341Z"
   },
   {
    "duration": 12,
    "start_time": "2022-08-26T18:06:33.667Z"
   },
   {
    "duration": 17,
    "start_time": "2022-08-26T18:06:41.047Z"
   },
   {
    "duration": 17,
    "start_time": "2022-08-26T18:06:52.720Z"
   },
   {
    "duration": 12,
    "start_time": "2022-08-26T18:07:37.337Z"
   },
   {
    "duration": 350,
    "start_time": "2022-08-26T18:08:12.529Z"
   },
   {
    "duration": 15,
    "start_time": "2022-08-26T18:08:28.993Z"
   },
   {
    "duration": 14,
    "start_time": "2022-08-26T18:10:23.121Z"
   },
   {
    "duration": 14,
    "start_time": "2022-08-26T18:16:20.904Z"
   },
   {
    "duration": 20,
    "start_time": "2022-08-26T18:17:43.710Z"
   },
   {
    "duration": 18,
    "start_time": "2022-08-26T18:18:31.264Z"
   },
   {
    "duration": 7,
    "start_time": "2022-08-26T18:19:11.319Z"
   },
   {
    "duration": 16,
    "start_time": "2022-08-26T18:20:36.944Z"
   },
   {
    "duration": 35,
    "start_time": "2022-08-26T18:21:26.090Z"
   },
   {
    "duration": 31,
    "start_time": "2022-08-26T18:21:43.111Z"
   },
   {
    "duration": 10,
    "start_time": "2022-08-26T18:25:55.338Z"
   },
   {
    "duration": 5,
    "start_time": "2022-08-26T18:25:59.907Z"
   },
   {
    "duration": 15,
    "start_time": "2022-08-26T18:25:59.915Z"
   },
   {
    "duration": 580,
    "start_time": "2022-08-26T18:25:59.933Z"
   },
   {
    "duration": 39,
    "start_time": "2022-08-26T18:26:00.516Z"
   },
   {
    "duration": 6,
    "start_time": "2022-08-26T18:26:00.557Z"
   },
   {
    "duration": 11,
    "start_time": "2022-08-26T18:26:00.564Z"
   },
   {
    "duration": 142,
    "start_time": "2022-08-26T18:26:00.577Z"
   },
   {
    "duration": 17,
    "start_time": "2022-08-26T18:26:00.721Z"
   },
   {
    "duration": 62,
    "start_time": "2022-08-26T18:26:00.740Z"
   },
   {
    "duration": 89,
    "start_time": "2022-08-26T18:26:00.805Z"
   },
   {
    "duration": 125,
    "start_time": "2022-08-26T18:26:00.897Z"
   },
   {
    "duration": 15,
    "start_time": "2022-08-26T18:26:01.024Z"
   },
   {
    "duration": 24,
    "start_time": "2022-08-26T18:26:01.041Z"
   },
   {
    "duration": 49,
    "start_time": "2022-08-26T18:26:01.067Z"
   },
   {
    "duration": 89,
    "start_time": "2022-08-26T18:26:01.119Z"
   },
   {
    "duration": 55,
    "start_time": "2022-08-26T18:26:01.210Z"
   },
   {
    "duration": 95,
    "start_time": "2022-08-26T18:26:01.268Z"
   },
   {
    "duration": 73,
    "start_time": "2022-08-26T18:26:01.365Z"
   },
   {
    "duration": 18,
    "start_time": "2022-08-26T18:26:01.439Z"
   },
   {
    "duration": 55,
    "start_time": "2022-08-26T18:26:01.459Z"
   },
   {
    "duration": 26,
    "start_time": "2022-08-26T18:26:01.516Z"
   },
   {
    "duration": 12,
    "start_time": "2022-08-26T18:26:01.544Z"
   },
   {
    "duration": 39,
    "start_time": "2022-08-26T18:26:01.558Z"
   },
   {
    "duration": 13,
    "start_time": "2022-08-26T18:26:01.599Z"
   },
   {
    "duration": 14,
    "start_time": "2022-08-26T18:26:01.614Z"
   },
   {
    "duration": 40,
    "start_time": "2022-08-26T18:26:01.630Z"
   },
   {
    "duration": 0,
    "start_time": "2022-08-26T18:26:01.673Z"
   },
   {
    "duration": 0,
    "start_time": "2022-08-26T18:26:01.675Z"
   },
   {
    "duration": 0,
    "start_time": "2022-08-26T18:26:01.676Z"
   },
   {
    "duration": 0,
    "start_time": "2022-08-26T18:26:01.679Z"
   },
   {
    "duration": 0,
    "start_time": "2022-08-26T18:26:01.680Z"
   },
   {
    "duration": 0,
    "start_time": "2022-08-26T18:26:01.693Z"
   },
   {
    "duration": 0,
    "start_time": "2022-08-26T18:26:01.694Z"
   },
   {
    "duration": 0,
    "start_time": "2022-08-26T18:26:01.695Z"
   },
   {
    "duration": 0,
    "start_time": "2022-08-26T18:26:01.696Z"
   },
   {
    "duration": 0,
    "start_time": "2022-08-26T18:26:01.696Z"
   },
   {
    "duration": 0,
    "start_time": "2022-08-26T18:26:01.697Z"
   },
   {
    "duration": 0,
    "start_time": "2022-08-26T18:26:01.698Z"
   },
   {
    "duration": 0,
    "start_time": "2022-08-26T18:26:01.698Z"
   },
   {
    "duration": 0,
    "start_time": "2022-08-26T18:26:01.699Z"
   },
   {
    "duration": 0,
    "start_time": "2022-08-26T18:26:01.700Z"
   },
   {
    "duration": 0,
    "start_time": "2022-08-26T18:26:01.701Z"
   },
   {
    "duration": 0,
    "start_time": "2022-08-26T18:26:01.701Z"
   },
   {
    "duration": 9,
    "start_time": "2022-08-26T18:28:25.412Z"
   },
   {
    "duration": 20,
    "start_time": "2022-08-26T18:28:27.460Z"
   },
   {
    "duration": 17,
    "start_time": "2022-08-26T18:29:42.338Z"
   },
   {
    "duration": 9,
    "start_time": "2022-08-26T18:29:45.347Z"
   },
   {
    "duration": 294,
    "start_time": "2022-08-26T18:29:47.373Z"
   },
   {
    "duration": 272,
    "start_time": "2022-08-26T18:30:51.315Z"
   },
   {
    "duration": 315,
    "start_time": "2022-08-26T18:33:36.123Z"
   },
   {
    "duration": 8,
    "start_time": "2022-08-26T18:33:39.182Z"
   },
   {
    "duration": 322,
    "start_time": "2022-08-26T18:33:40.946Z"
   },
   {
    "duration": 4,
    "start_time": "2022-08-26T18:45:49.722Z"
   },
   {
    "duration": 36,
    "start_time": "2022-08-26T18:45:49.728Z"
   },
   {
    "duration": 400,
    "start_time": "2022-08-26T18:45:49.767Z"
   },
   {
    "duration": 42,
    "start_time": "2022-08-26T18:45:50.170Z"
   },
   {
    "duration": 6,
    "start_time": "2022-08-26T18:45:50.214Z"
   },
   {
    "duration": 26,
    "start_time": "2022-08-26T18:45:50.222Z"
   },
   {
    "duration": 153,
    "start_time": "2022-08-26T18:45:50.250Z"
   },
   {
    "duration": 17,
    "start_time": "2022-08-26T18:45:50.406Z"
   },
   {
    "duration": 45,
    "start_time": "2022-08-26T18:45:50.425Z"
   },
   {
    "duration": 103,
    "start_time": "2022-08-26T18:45:50.472Z"
   },
   {
    "duration": 133,
    "start_time": "2022-08-26T18:45:50.594Z"
   },
   {
    "duration": 12,
    "start_time": "2022-08-26T18:45:50.729Z"
   },
   {
    "duration": 34,
    "start_time": "2022-08-26T18:45:50.743Z"
   },
   {
    "duration": 63,
    "start_time": "2022-08-26T18:45:50.779Z"
   },
   {
    "duration": 120,
    "start_time": "2022-08-26T18:45:50.844Z"
   },
   {
    "duration": 81,
    "start_time": "2022-08-26T18:45:50.967Z"
   },
   {
    "duration": 118,
    "start_time": "2022-08-26T18:45:51.051Z"
   },
   {
    "duration": 63,
    "start_time": "2022-08-26T18:45:51.172Z"
   },
   {
    "duration": 14,
    "start_time": "2022-08-26T18:45:51.237Z"
   },
   {
    "duration": 58,
    "start_time": "2022-08-26T18:45:51.253Z"
   },
   {
    "duration": 31,
    "start_time": "2022-08-26T18:45:51.312Z"
   },
   {
    "duration": 27,
    "start_time": "2022-08-26T18:45:51.346Z"
   },
   {
    "duration": 29,
    "start_time": "2022-08-26T18:45:51.375Z"
   },
   {
    "duration": 28,
    "start_time": "2022-08-26T18:45:51.408Z"
   },
   {
    "duration": 43,
    "start_time": "2022-08-26T18:45:51.439Z"
   },
   {
    "duration": 352,
    "start_time": "2022-08-26T18:45:51.484Z"
   },
   {
    "duration": 42,
    "start_time": "2022-08-26T18:45:51.838Z"
   },
   {
    "duration": 42,
    "start_time": "2022-08-26T18:45:51.894Z"
   },
   {
    "duration": 63,
    "start_time": "2022-08-26T18:45:51.938Z"
   },
   {
    "duration": 62,
    "start_time": "2022-08-26T18:45:52.007Z"
   },
   {
    "duration": 63,
    "start_time": "2022-08-26T18:45:52.072Z"
   },
   {
    "duration": 14,
    "start_time": "2022-08-26T18:45:52.138Z"
   },
   {
    "duration": 357,
    "start_time": "2022-08-26T18:45:52.155Z"
   },
   {
    "duration": 274,
    "start_time": "2022-08-26T18:45:52.514Z"
   },
   {
    "duration": 297,
    "start_time": "2022-08-26T18:45:52.794Z"
   },
   {
    "duration": 17,
    "start_time": "2022-08-26T18:45:53.094Z"
   },
   {
    "duration": 429,
    "start_time": "2022-08-26T18:45:53.112Z"
   },
   {
    "duration": 7,
    "start_time": "2022-08-26T18:45:53.543Z"
   },
   {
    "duration": 56,
    "start_time": "2022-08-26T18:45:53.552Z"
   },
   {
    "duration": 52,
    "start_time": "2022-08-26T18:45:53.610Z"
   },
   {
    "duration": 202,
    "start_time": "2022-08-26T18:45:53.665Z"
   },
   {
    "duration": 197,
    "start_time": "2022-08-26T18:45:53.868Z"
   },
   {
    "duration": 521,
    "start_time": "2022-08-26T18:45:54.067Z"
   },
   {
    "duration": 358,
    "start_time": "2022-08-26T18:47:03.778Z"
   },
   {
    "duration": 298,
    "start_time": "2022-08-26T18:48:56.806Z"
   },
   {
    "duration": 145,
    "start_time": "2022-08-26T19:09:17.890Z"
   },
   {
    "duration": 11,
    "start_time": "2022-08-26T19:30:24.169Z"
   },
   {
    "duration": 4,
    "start_time": "2022-08-26T19:30:57.131Z"
   },
   {
    "duration": 6,
    "start_time": "2022-08-26T19:31:20.197Z"
   },
   {
    "duration": 135,
    "start_time": "2022-08-26T19:33:02.200Z"
   },
   {
    "duration": 128,
    "start_time": "2022-08-26T19:33:26.600Z"
   },
   {
    "duration": 6,
    "start_time": "2022-08-26T19:39:55.978Z"
   },
   {
    "duration": 9,
    "start_time": "2022-08-26T19:41:40.098Z"
   },
   {
    "duration": 24,
    "start_time": "2022-08-26T19:46:11.137Z"
   },
   {
    "duration": 20,
    "start_time": "2022-08-26T19:52:09.086Z"
   },
   {
    "duration": 9,
    "start_time": "2022-08-26T20:00:04.822Z"
   },
   {
    "duration": 10,
    "start_time": "2022-08-26T20:00:26.109Z"
   },
   {
    "duration": 13,
    "start_time": "2022-08-26T20:00:38.033Z"
   },
   {
    "duration": 10,
    "start_time": "2022-08-26T20:00:40.982Z"
   },
   {
    "duration": 13,
    "start_time": "2022-08-26T20:00:52.096Z"
   },
   {
    "duration": 13,
    "start_time": "2022-08-26T20:03:48.740Z"
   },
   {
    "duration": 16,
    "start_time": "2022-08-26T20:04:07.917Z"
   },
   {
    "duration": 12,
    "start_time": "2022-08-26T20:04:34.954Z"
   },
   {
    "duration": 15,
    "start_time": "2022-08-26T20:05:12.524Z"
   },
   {
    "duration": 13,
    "start_time": "2022-08-26T20:05:17.452Z"
   },
   {
    "duration": 11,
    "start_time": "2022-08-26T20:06:08.371Z"
   },
   {
    "duration": 25,
    "start_time": "2022-08-26T20:07:27.107Z"
   },
   {
    "duration": 27,
    "start_time": "2022-08-26T20:07:36.863Z"
   },
   {
    "duration": 26,
    "start_time": "2022-08-26T20:07:59.973Z"
   },
   {
    "duration": 55,
    "start_time": "2022-08-26T20:08:49.329Z"
   },
   {
    "duration": 24,
    "start_time": "2022-08-26T20:09:02.087Z"
   },
   {
    "duration": 30,
    "start_time": "2022-08-26T20:10:06.246Z"
   },
   {
    "duration": 18,
    "start_time": "2022-08-26T20:10:45.485Z"
   },
   {
    "duration": 15,
    "start_time": "2022-08-26T20:11:37.170Z"
   },
   {
    "duration": 13,
    "start_time": "2022-08-26T20:12:01.513Z"
   },
   {
    "duration": 18,
    "start_time": "2022-08-26T20:12:18.091Z"
   },
   {
    "duration": 22,
    "start_time": "2022-08-26T20:12:24.189Z"
   },
   {
    "duration": 10,
    "start_time": "2022-08-26T20:12:41.029Z"
   },
   {
    "duration": 25,
    "start_time": "2022-08-26T20:12:46.792Z"
   },
   {
    "duration": 8,
    "start_time": "2022-08-26T21:06:31.712Z"
   },
   {
    "duration": 9,
    "start_time": "2022-08-26T21:09:22.086Z"
   },
   {
    "duration": 8,
    "start_time": "2022-08-26T21:10:02.899Z"
   },
   {
    "duration": 4,
    "start_time": "2022-08-26T21:10:07.501Z"
   },
   {
    "duration": 7,
    "start_time": "2022-08-26T21:10:07.507Z"
   },
   {
    "duration": 346,
    "start_time": "2022-08-26T21:10:07.516Z"
   },
   {
    "duration": 50,
    "start_time": "2022-08-26T21:10:07.864Z"
   },
   {
    "duration": 6,
    "start_time": "2022-08-26T21:10:07.917Z"
   },
   {
    "duration": 5,
    "start_time": "2022-08-26T21:10:07.926Z"
   },
   {
    "duration": 165,
    "start_time": "2022-08-26T21:10:07.934Z"
   },
   {
    "duration": 14,
    "start_time": "2022-08-26T21:10:08.101Z"
   },
   {
    "duration": 23,
    "start_time": "2022-08-26T21:10:08.118Z"
   },
   {
    "duration": 89,
    "start_time": "2022-08-26T21:10:08.143Z"
   },
   {
    "duration": 124,
    "start_time": "2022-08-26T21:10:08.234Z"
   },
   {
    "duration": 32,
    "start_time": "2022-08-26T21:10:08.360Z"
   },
   {
    "duration": 12,
    "start_time": "2022-08-26T21:10:08.394Z"
   },
   {
    "duration": 21,
    "start_time": "2022-08-26T21:10:08.411Z"
   },
   {
    "duration": 106,
    "start_time": "2022-08-26T21:10:08.434Z"
   },
   {
    "duration": 78,
    "start_time": "2022-08-26T21:10:08.543Z"
   },
   {
    "duration": 92,
    "start_time": "2022-08-26T21:10:08.624Z"
   },
   {
    "duration": 41,
    "start_time": "2022-08-26T21:10:08.719Z"
   },
   {
    "duration": 34,
    "start_time": "2022-08-26T21:10:08.762Z"
   },
   {
    "duration": 28,
    "start_time": "2022-08-26T21:10:08.798Z"
   },
   {
    "duration": 18,
    "start_time": "2022-08-26T21:10:08.827Z"
   },
   {
    "duration": 10,
    "start_time": "2022-08-26T21:10:08.847Z"
   },
   {
    "duration": 36,
    "start_time": "2022-08-26T21:10:08.860Z"
   },
   {
    "duration": 15,
    "start_time": "2022-08-26T21:10:08.898Z"
   },
   {
    "duration": 22,
    "start_time": "2022-08-26T21:10:08.915Z"
   },
   {
    "duration": 273,
    "start_time": "2022-08-26T21:10:08.939Z"
   },
   {
    "duration": 41,
    "start_time": "2022-08-26T21:10:09.214Z"
   },
   {
    "duration": 11,
    "start_time": "2022-08-26T21:10:09.257Z"
   },
   {
    "duration": 27,
    "start_time": "2022-08-26T21:10:09.270Z"
   },
   {
    "duration": 25,
    "start_time": "2022-08-26T21:10:09.299Z"
   },
   {
    "duration": 67,
    "start_time": "2022-08-26T21:10:09.326Z"
   },
   {
    "duration": 36,
    "start_time": "2022-08-26T21:10:09.394Z"
   },
   {
    "duration": 10,
    "start_time": "2022-08-26T21:10:09.432Z"
   },
   {
    "duration": 277,
    "start_time": "2022-08-26T21:10:09.444Z"
   },
   {
    "duration": 270,
    "start_time": "2022-08-26T21:10:09.723Z"
   },
   {
    "duration": 315,
    "start_time": "2022-08-26T21:10:09.996Z"
   },
   {
    "duration": 19,
    "start_time": "2022-08-26T21:10:10.314Z"
   },
   {
    "duration": 402,
    "start_time": "2022-08-26T21:10:10.335Z"
   },
   {
    "duration": 7,
    "start_time": "2022-08-26T21:10:10.738Z"
   },
   {
    "duration": 359,
    "start_time": "2022-08-26T21:10:10.746Z"
   },
   {
    "duration": 200,
    "start_time": "2022-08-26T21:10:11.109Z"
   },
   {
    "duration": 180,
    "start_time": "2022-08-26T21:10:11.311Z"
   },
   {
    "duration": 8,
    "start_time": "2022-08-26T21:10:11.494Z"
   },
   {
    "duration": 15,
    "start_time": "2022-08-26T21:10:11.504Z"
   },
   {
    "duration": 11,
    "start_time": "2022-08-26T21:17:47.164Z"
   },
   {
    "duration": 126,
    "start_time": "2022-08-26T21:20:14.349Z"
   },
   {
    "duration": 8,
    "start_time": "2022-08-26T21:20:20.457Z"
   },
   {
    "duration": 9,
    "start_time": "2022-08-26T21:20:35.669Z"
   },
   {
    "duration": 11,
    "start_time": "2022-08-26T21:22:44.710Z"
   },
   {
    "duration": 11,
    "start_time": "2022-08-26T21:22:59.468Z"
   },
   {
    "duration": 26,
    "start_time": "2022-08-26T21:36:51.875Z"
   },
   {
    "duration": 1453,
    "start_time": "2022-08-27T14:13:31.012Z"
   },
   {
    "duration": 17,
    "start_time": "2022-08-27T14:13:32.467Z"
   },
   {
    "duration": 841,
    "start_time": "2022-08-27T14:13:32.487Z"
   },
   {
    "duration": 46,
    "start_time": "2022-08-27T14:13:33.330Z"
   },
   {
    "duration": 5,
    "start_time": "2022-08-27T14:13:33.379Z"
   },
   {
    "duration": 7,
    "start_time": "2022-08-27T14:13:33.386Z"
   },
   {
    "duration": 123,
    "start_time": "2022-08-27T14:13:33.395Z"
   },
   {
    "duration": 13,
    "start_time": "2022-08-27T14:13:33.519Z"
   },
   {
    "duration": 41,
    "start_time": "2022-08-27T14:13:33.534Z"
   },
   {
    "duration": 53,
    "start_time": "2022-08-27T14:13:33.576Z"
   },
   {
    "duration": 117,
    "start_time": "2022-08-27T14:13:33.631Z"
   },
   {
    "duration": 29,
    "start_time": "2022-08-27T14:13:33.750Z"
   },
   {
    "duration": 18,
    "start_time": "2022-08-27T14:13:33.780Z"
   },
   {
    "duration": 23,
    "start_time": "2022-08-27T14:13:33.801Z"
   },
   {
    "duration": 102,
    "start_time": "2022-08-27T14:13:33.825Z"
   },
   {
    "duration": 71,
    "start_time": "2022-08-27T14:13:33.929Z"
   },
   {
    "duration": 88,
    "start_time": "2022-08-27T14:13:34.002Z"
   },
   {
    "duration": 39,
    "start_time": "2022-08-27T14:13:34.092Z"
   },
   {
    "duration": 12,
    "start_time": "2022-08-27T14:13:34.136Z"
   },
   {
    "duration": 42,
    "start_time": "2022-08-27T14:13:34.150Z"
   },
   {
    "duration": 18,
    "start_time": "2022-08-27T14:13:34.193Z"
   },
   {
    "duration": 11,
    "start_time": "2022-08-27T14:13:34.212Z"
   },
   {
    "duration": 6,
    "start_time": "2022-08-27T14:13:34.225Z"
   },
   {
    "duration": 46,
    "start_time": "2022-08-27T14:13:34.233Z"
   },
   {
    "duration": 8,
    "start_time": "2022-08-27T14:13:34.283Z"
   },
   {
    "duration": 293,
    "start_time": "2022-08-27T14:13:34.293Z"
   },
   {
    "duration": 31,
    "start_time": "2022-08-27T14:13:34.588Z"
   },
   {
    "duration": 10,
    "start_time": "2022-08-27T14:13:34.621Z"
   },
   {
    "duration": 8,
    "start_time": "2022-08-27T14:13:34.633Z"
   },
   {
    "duration": 27,
    "start_time": "2022-08-27T14:13:34.667Z"
   },
   {
    "duration": 32,
    "start_time": "2022-08-27T14:13:34.696Z"
   },
   {
    "duration": 56,
    "start_time": "2022-08-27T14:13:34.729Z"
   },
   {
    "duration": 5,
    "start_time": "2022-08-27T14:13:34.787Z"
   },
   {
    "duration": 292,
    "start_time": "2022-08-27T14:13:34.794Z"
   },
   {
    "duration": 248,
    "start_time": "2022-08-27T14:13:35.088Z"
   },
   {
    "duration": 284,
    "start_time": "2022-08-27T14:13:35.338Z"
   },
   {
    "duration": 15,
    "start_time": "2022-08-27T14:13:35.624Z"
   },
   {
    "duration": 394,
    "start_time": "2022-08-27T14:13:35.640Z"
   },
   {
    "duration": 6,
    "start_time": "2022-08-27T14:13:36.036Z"
   },
   {
    "duration": 359,
    "start_time": "2022-08-27T14:13:36.043Z"
   },
   {
    "duration": 329,
    "start_time": "2022-08-27T14:13:36.405Z"
   },
   {
    "duration": 212,
    "start_time": "2022-08-27T14:13:36.736Z"
   },
   {
    "duration": 31,
    "start_time": "2022-08-27T14:13:36.950Z"
   },
   {
    "duration": 118,
    "start_time": "2022-08-27T14:13:36.983Z"
   },
   {
    "duration": 0,
    "start_time": "2022-08-27T14:13:37.103Z"
   },
   {
    "duration": 16,
    "start_time": "2022-08-27T14:14:02.187Z"
   },
   {
    "duration": 58,
    "start_time": "2022-08-27T18:42:25.445Z"
   },
   {
    "duration": 1428,
    "start_time": "2022-08-27T18:42:29.187Z"
   },
   {
    "duration": 5,
    "start_time": "2022-08-27T18:42:30.617Z"
   },
   {
    "duration": 862,
    "start_time": "2022-08-27T18:42:30.624Z"
   },
   {
    "duration": 46,
    "start_time": "2022-08-27T18:42:31.488Z"
   },
   {
    "duration": 4,
    "start_time": "2022-08-27T18:42:31.538Z"
   },
   {
    "duration": 10,
    "start_time": "2022-08-27T18:42:31.544Z"
   },
   {
    "duration": 120,
    "start_time": "2022-08-27T18:42:31.555Z"
   },
   {
    "duration": 15,
    "start_time": "2022-08-27T18:42:31.677Z"
   },
   {
    "duration": 73,
    "start_time": "2022-08-27T18:42:31.694Z"
   },
   {
    "duration": 120,
    "start_time": "2022-08-27T18:42:31.769Z"
   },
   {
    "duration": 10,
    "start_time": "2022-08-27T18:42:31.891Z"
   },
   {
    "duration": 14,
    "start_time": "2022-08-27T18:42:31.903Z"
   },
   {
    "duration": 18,
    "start_time": "2022-08-27T18:42:31.919Z"
   },
   {
    "duration": 28,
    "start_time": "2022-08-27T18:42:31.940Z"
   },
   {
    "duration": 97,
    "start_time": "2022-08-27T18:42:31.970Z"
   },
   {
    "duration": 58,
    "start_time": "2022-08-27T18:42:32.069Z"
   },
   {
    "duration": 91,
    "start_time": "2022-08-27T18:42:32.128Z"
   },
   {
    "duration": 60,
    "start_time": "2022-08-27T18:42:32.220Z"
   },
   {
    "duration": 13,
    "start_time": "2022-08-27T18:42:32.282Z"
   },
   {
    "duration": 22,
    "start_time": "2022-08-27T18:42:32.297Z"
   },
   {
    "duration": 15,
    "start_time": "2022-08-27T18:42:32.321Z"
   },
   {
    "duration": 40,
    "start_time": "2022-08-27T18:42:32.337Z"
   },
   {
    "duration": 16,
    "start_time": "2022-08-27T18:42:32.379Z"
   },
   {
    "duration": 17,
    "start_time": "2022-08-27T18:42:32.397Z"
   },
   {
    "duration": 9,
    "start_time": "2022-08-27T18:42:32.416Z"
   },
   {
    "duration": 289,
    "start_time": "2022-08-27T18:42:32.427Z"
   },
   {
    "duration": 30,
    "start_time": "2022-08-27T18:42:32.717Z"
   },
   {
    "duration": 27,
    "start_time": "2022-08-27T18:42:32.749Z"
   },
   {
    "duration": 25,
    "start_time": "2022-08-27T18:42:32.777Z"
   },
   {
    "duration": 29,
    "start_time": "2022-08-27T18:42:32.803Z"
   },
   {
    "duration": 35,
    "start_time": "2022-08-27T18:42:32.834Z"
   },
   {
    "duration": 36,
    "start_time": "2022-08-27T18:42:32.871Z"
   },
   {
    "duration": 7,
    "start_time": "2022-08-27T18:42:32.908Z"
   },
   {
    "duration": 296,
    "start_time": "2022-08-27T18:42:32.916Z"
   },
   {
    "duration": 249,
    "start_time": "2022-08-27T18:42:33.214Z"
   },
   {
    "duration": 274,
    "start_time": "2022-08-27T18:42:33.468Z"
   },
   {
    "duration": 31,
    "start_time": "2022-08-27T18:42:33.744Z"
   },
   {
    "duration": 362,
    "start_time": "2022-08-27T18:42:33.781Z"
   },
   {
    "duration": 7,
    "start_time": "2022-08-27T18:42:34.145Z"
   },
   {
    "duration": 346,
    "start_time": "2022-08-27T18:42:34.154Z"
   },
   {
    "duration": 292,
    "start_time": "2022-08-27T18:42:34.505Z"
   },
   {
    "duration": 172,
    "start_time": "2022-08-27T18:42:34.799Z"
   },
   {
    "duration": 24,
    "start_time": "2022-08-27T18:42:34.973Z"
   },
   {
    "duration": 16,
    "start_time": "2022-08-27T18:42:35.000Z"
   },
   {
    "duration": 11,
    "start_time": "2022-08-27T18:42:35.018Z"
   },
   {
    "duration": 71,
    "start_time": "2022-08-27T18:46:56.262Z"
   },
   {
    "duration": 66,
    "start_time": "2022-08-27T18:51:59.891Z"
   },
   {
    "duration": 66,
    "start_time": "2022-08-27T19:07:22.992Z"
   },
   {
    "duration": 46,
    "start_time": "2022-08-27T19:14:10.397Z"
   },
   {
    "duration": 24,
    "start_time": "2022-08-27T19:14:20.013Z"
   },
   {
    "duration": 3,
    "start_time": "2022-08-27T19:17:32.816Z"
   },
   {
    "duration": 5,
    "start_time": "2022-08-27T19:17:32.822Z"
   },
   {
    "duration": 390,
    "start_time": "2022-08-27T19:17:32.829Z"
   },
   {
    "duration": 39,
    "start_time": "2022-08-27T19:17:33.221Z"
   },
   {
    "duration": 7,
    "start_time": "2022-08-27T19:17:33.262Z"
   },
   {
    "duration": 22,
    "start_time": "2022-08-27T19:17:33.271Z"
   },
   {
    "duration": 103,
    "start_time": "2022-08-27T19:17:33.295Z"
   },
   {
    "duration": 12,
    "start_time": "2022-08-27T19:17:33.401Z"
   },
   {
    "duration": 87,
    "start_time": "2022-08-27T19:17:33.415Z"
   },
   {
    "duration": 139,
    "start_time": "2022-08-27T19:17:33.504Z"
   },
   {
    "duration": 38,
    "start_time": "2022-08-27T19:17:33.645Z"
   },
   {
    "duration": 13,
    "start_time": "2022-08-27T19:17:33.685Z"
   },
   {
    "duration": 20,
    "start_time": "2022-08-27T19:17:33.699Z"
   },
   {
    "duration": 15,
    "start_time": "2022-08-27T19:17:33.721Z"
   },
   {
    "duration": 93,
    "start_time": "2022-08-27T19:17:33.737Z"
   },
   {
    "duration": 20,
    "start_time": "2022-08-27T19:17:33.831Z"
   },
   {
    "duration": 74,
    "start_time": "2022-08-27T19:17:33.853Z"
   },
   {
    "duration": 81,
    "start_time": "2022-08-27T19:17:33.928Z"
   },
   {
    "duration": 36,
    "start_time": "2022-08-27T19:17:34.010Z"
   },
   {
    "duration": 16,
    "start_time": "2022-08-27T19:17:34.071Z"
   },
   {
    "duration": 34,
    "start_time": "2022-08-27T19:17:34.090Z"
   },
   {
    "duration": 16,
    "start_time": "2022-08-27T19:17:34.127Z"
   },
   {
    "duration": 14,
    "start_time": "2022-08-27T19:17:34.170Z"
   },
   {
    "duration": 15,
    "start_time": "2022-08-27T19:17:34.187Z"
   },
   {
    "duration": 14,
    "start_time": "2022-08-27T19:17:34.204Z"
   },
   {
    "duration": 8,
    "start_time": "2022-08-27T19:17:34.221Z"
   },
   {
    "duration": 299,
    "start_time": "2022-08-27T19:17:34.231Z"
   },
   {
    "duration": 42,
    "start_time": "2022-08-27T19:17:34.531Z"
   },
   {
    "duration": 10,
    "start_time": "2022-08-27T19:17:34.575Z"
   },
   {
    "duration": 11,
    "start_time": "2022-08-27T19:17:34.587Z"
   },
   {
    "duration": 22,
    "start_time": "2022-08-27T19:17:34.600Z"
   },
   {
    "duration": 62,
    "start_time": "2022-08-27T19:17:34.624Z"
   },
   {
    "duration": 32,
    "start_time": "2022-08-27T19:17:34.687Z"
   },
   {
    "duration": 6,
    "start_time": "2022-08-27T19:17:34.721Z"
   },
   {
    "duration": 294,
    "start_time": "2022-08-27T19:17:34.729Z"
   },
   {
    "duration": 259,
    "start_time": "2022-08-27T19:17:35.025Z"
   },
   {
    "duration": 352,
    "start_time": "2022-08-27T19:17:35.286Z"
   },
   {
    "duration": 14,
    "start_time": "2022-08-27T19:17:35.640Z"
   },
   {
    "duration": 369,
    "start_time": "2022-08-27T19:17:35.656Z"
   },
   {
    "duration": 6,
    "start_time": "2022-08-27T19:17:36.027Z"
   },
   {
    "duration": 375,
    "start_time": "2022-08-27T19:17:36.035Z"
   },
   {
    "duration": 237,
    "start_time": "2022-08-27T19:17:36.412Z"
   },
   {
    "duration": 228,
    "start_time": "2022-08-27T19:17:36.651Z"
   },
   {
    "duration": 28,
    "start_time": "2022-08-27T19:17:36.881Z"
   },
   {
    "duration": 20,
    "start_time": "2022-08-27T19:17:36.911Z"
   },
   {
    "duration": 18,
    "start_time": "2022-08-27T19:17:36.933Z"
   },
   {
    "duration": 51,
    "start_time": "2022-08-27T19:17:46.064Z"
   },
   {
    "duration": 28,
    "start_time": "2022-08-27T19:20:42.482Z"
   },
   {
    "duration": 87,
    "start_time": "2022-08-27T19:20:57.693Z"
   },
   {
    "duration": 23,
    "start_time": "2022-08-27T19:21:06.555Z"
   },
   {
    "duration": 4,
    "start_time": "2022-08-27T19:28:29.413Z"
   },
   {
    "duration": 6,
    "start_time": "2022-08-27T19:28:29.419Z"
   },
   {
    "duration": 405,
    "start_time": "2022-08-27T19:28:29.427Z"
   },
   {
    "duration": 44,
    "start_time": "2022-08-27T19:28:29.835Z"
   },
   {
    "duration": 6,
    "start_time": "2022-08-27T19:28:29.882Z"
   },
   {
    "duration": 17,
    "start_time": "2022-08-27T19:28:29.890Z"
   },
   {
    "duration": 121,
    "start_time": "2022-08-27T19:28:29.909Z"
   },
   {
    "duration": 14,
    "start_time": "2022-08-27T19:28:30.033Z"
   },
   {
    "duration": 82,
    "start_time": "2022-08-27T19:28:30.049Z"
   },
   {
    "duration": 138,
    "start_time": "2022-08-27T19:28:30.133Z"
   },
   {
    "duration": 15,
    "start_time": "2022-08-27T19:28:30.283Z"
   },
   {
    "duration": 14,
    "start_time": "2022-08-27T19:28:30.300Z"
   },
   {
    "duration": 31,
    "start_time": "2022-08-27T19:28:30.316Z"
   },
   {
    "duration": 31,
    "start_time": "2022-08-27T19:28:30.349Z"
   },
   {
    "duration": 100,
    "start_time": "2022-08-27T19:28:30.381Z"
   },
   {
    "duration": 27,
    "start_time": "2022-08-27T19:28:30.483Z"
   },
   {
    "duration": 96,
    "start_time": "2022-08-27T19:28:30.512Z"
   },
   {
    "duration": 88,
    "start_time": "2022-08-27T19:28:30.610Z"
   },
   {
    "duration": 46,
    "start_time": "2022-08-27T19:28:30.701Z"
   },
   {
    "duration": 40,
    "start_time": "2022-08-27T19:28:30.751Z"
   },
   {
    "duration": 35,
    "start_time": "2022-08-27T19:28:30.793Z"
   },
   {
    "duration": 20,
    "start_time": "2022-08-27T19:28:30.830Z"
   },
   {
    "duration": 40,
    "start_time": "2022-08-27T19:28:30.852Z"
   },
   {
    "duration": 13,
    "start_time": "2022-08-27T19:28:30.894Z"
   },
   {
    "duration": 35,
    "start_time": "2022-08-27T19:28:30.908Z"
   },
   {
    "duration": 16,
    "start_time": "2022-08-27T19:28:30.945Z"
   },
   {
    "duration": 291,
    "start_time": "2022-08-27T19:28:30.963Z"
   },
   {
    "duration": 49,
    "start_time": "2022-08-27T19:28:31.256Z"
   },
   {
    "duration": 10,
    "start_time": "2022-08-27T19:28:31.306Z"
   },
   {
    "duration": 14,
    "start_time": "2022-08-27T19:28:31.318Z"
   },
   {
    "duration": 27,
    "start_time": "2022-08-27T19:28:31.334Z"
   },
   {
    "duration": 40,
    "start_time": "2022-08-27T19:28:31.363Z"
   },
   {
    "duration": 31,
    "start_time": "2022-08-27T19:28:31.405Z"
   },
   {
    "duration": 6,
    "start_time": "2022-08-27T19:28:31.437Z"
   },
   {
    "duration": 280,
    "start_time": "2022-08-27T19:28:31.469Z"
   },
   {
    "duration": 261,
    "start_time": "2022-08-27T19:28:31.750Z"
   },
   {
    "duration": 375,
    "start_time": "2022-08-27T19:28:32.012Z"
   },
   {
    "duration": 16,
    "start_time": "2022-08-27T19:28:32.389Z"
   },
   {
    "duration": 411,
    "start_time": "2022-08-27T19:28:32.406Z"
   },
   {
    "duration": 6,
    "start_time": "2022-08-27T19:28:32.819Z"
   },
   {
    "duration": 366,
    "start_time": "2022-08-27T19:28:32.827Z"
   },
   {
    "duration": 192,
    "start_time": "2022-08-27T19:28:33.194Z"
   },
   {
    "duration": 172,
    "start_time": "2022-08-27T19:28:33.388Z"
   },
   {
    "duration": 24,
    "start_time": "2022-08-27T19:28:33.567Z"
   },
   {
    "duration": 22,
    "start_time": "2022-08-27T19:28:33.593Z"
   },
   {
    "duration": 12,
    "start_time": "2022-08-27T19:28:33.617Z"
   },
   {
    "duration": 6,
    "start_time": "2022-08-27T20:28:48.502Z"
   },
   {
    "duration": 69,
    "start_time": "2022-08-27T20:30:15.224Z"
   },
   {
    "duration": 14,
    "start_time": "2022-08-27T20:30:52.847Z"
   },
   {
    "duration": 12,
    "start_time": "2022-08-27T20:31:31.921Z"
   },
   {
    "duration": 13,
    "start_time": "2022-08-27T20:32:04.501Z"
   },
   {
    "duration": 3,
    "start_time": "2022-08-27T20:32:08.875Z"
   },
   {
    "duration": 9,
    "start_time": "2022-08-27T20:32:08.880Z"
   },
   {
    "duration": 370,
    "start_time": "2022-08-27T20:32:08.890Z"
   },
   {
    "duration": 37,
    "start_time": "2022-08-27T20:32:09.262Z"
   },
   {
    "duration": 4,
    "start_time": "2022-08-27T20:32:09.300Z"
   },
   {
    "duration": 6,
    "start_time": "2022-08-27T20:32:09.306Z"
   },
   {
    "duration": 116,
    "start_time": "2022-08-27T20:32:09.314Z"
   },
   {
    "duration": 13,
    "start_time": "2022-08-27T20:32:09.432Z"
   },
   {
    "duration": 57,
    "start_time": "2022-08-27T20:32:09.469Z"
   },
   {
    "duration": 119,
    "start_time": "2022-08-27T20:32:09.527Z"
   },
   {
    "duration": 29,
    "start_time": "2022-08-27T20:32:09.648Z"
   },
   {
    "duration": 12,
    "start_time": "2022-08-27T20:32:09.678Z"
   },
   {
    "duration": 18,
    "start_time": "2022-08-27T20:32:09.692Z"
   },
   {
    "duration": 13,
    "start_time": "2022-08-27T20:32:09.712Z"
   },
   {
    "duration": 91,
    "start_time": "2022-08-27T20:32:09.726Z"
   },
   {
    "duration": 19,
    "start_time": "2022-08-27T20:32:09.818Z"
   },
   {
    "duration": 59,
    "start_time": "2022-08-27T20:32:09.838Z"
   },
   {
    "duration": 85,
    "start_time": "2022-08-27T20:32:09.899Z"
   },
   {
    "duration": 39,
    "start_time": "2022-08-27T20:32:09.986Z"
   },
   {
    "duration": 15,
    "start_time": "2022-08-27T20:32:10.027Z"
   },
   {
    "duration": 23,
    "start_time": "2022-08-27T20:32:10.067Z"
   },
   {
    "duration": 18,
    "start_time": "2022-08-27T20:32:10.092Z"
   },
   {
    "duration": 13,
    "start_time": "2022-08-27T20:32:10.112Z"
   },
   {
    "duration": 40,
    "start_time": "2022-08-27T20:32:10.129Z"
   },
   {
    "duration": 8,
    "start_time": "2022-08-27T20:32:10.171Z"
   },
   {
    "duration": 12,
    "start_time": "2022-08-27T20:32:10.181Z"
   },
   {
    "duration": 27,
    "start_time": "2022-08-27T20:32:10.195Z"
   },
   {
    "duration": 251,
    "start_time": "2022-08-27T20:32:10.224Z"
   },
   {
    "duration": 27,
    "start_time": "2022-08-27T20:32:10.477Z"
   },
   {
    "duration": 8,
    "start_time": "2022-08-27T20:32:10.506Z"
   },
   {
    "duration": 9,
    "start_time": "2022-08-27T20:32:10.516Z"
   },
   {
    "duration": 46,
    "start_time": "2022-08-27T20:32:10.527Z"
   },
   {
    "duration": 29,
    "start_time": "2022-08-27T20:32:10.574Z"
   },
   {
    "duration": 29,
    "start_time": "2022-08-27T20:32:10.605Z"
   },
   {
    "duration": 33,
    "start_time": "2022-08-27T20:32:10.636Z"
   },
   {
    "duration": 233,
    "start_time": "2022-08-27T20:32:10.672Z"
   },
   {
    "duration": 238,
    "start_time": "2022-08-27T20:32:10.907Z"
   },
   {
    "duration": 248,
    "start_time": "2022-08-27T20:32:11.146Z"
   },
   {
    "duration": 13,
    "start_time": "2022-08-27T20:32:11.395Z"
   },
   {
    "duration": 513,
    "start_time": "2022-08-27T20:32:11.409Z"
   },
   {
    "duration": 7,
    "start_time": "2022-08-27T20:32:11.924Z"
   },
   {
    "duration": 353,
    "start_time": "2022-08-27T20:32:11.932Z"
   },
   {
    "duration": 179,
    "start_time": "2022-08-27T20:32:12.288Z"
   },
   {
    "duration": 164,
    "start_time": "2022-08-27T20:32:12.469Z"
   },
   {
    "duration": 35,
    "start_time": "2022-08-27T20:32:12.634Z"
   },
   {
    "duration": 17,
    "start_time": "2022-08-27T20:32:12.671Z"
   },
   {
    "duration": 10,
    "start_time": "2022-08-27T20:32:12.689Z"
   },
   {
    "duration": 10,
    "start_time": "2022-08-27T20:32:38.736Z"
   },
   {
    "duration": 3,
    "start_time": "2022-08-27T20:33:10.382Z"
   },
   {
    "duration": 11,
    "start_time": "2022-08-27T20:33:12.319Z"
   },
   {
    "duration": 3,
    "start_time": "2022-08-27T20:33:17.643Z"
   },
   {
    "duration": 6,
    "start_time": "2022-08-27T20:33:17.648Z"
   },
   {
    "duration": 339,
    "start_time": "2022-08-27T20:33:17.655Z"
   },
   {
    "duration": 35,
    "start_time": "2022-08-27T20:33:17.996Z"
   },
   {
    "duration": 5,
    "start_time": "2022-08-27T20:33:18.032Z"
   },
   {
    "duration": 7,
    "start_time": "2022-08-27T20:33:18.038Z"
   },
   {
    "duration": 90,
    "start_time": "2022-08-27T20:33:18.047Z"
   },
   {
    "duration": 32,
    "start_time": "2022-08-27T20:33:18.138Z"
   },
   {
    "duration": 46,
    "start_time": "2022-08-27T20:33:18.172Z"
   },
   {
    "duration": 110,
    "start_time": "2022-08-27T20:33:18.221Z"
   },
   {
    "duration": 10,
    "start_time": "2022-08-27T20:33:18.333Z"
   },
   {
    "duration": 30,
    "start_time": "2022-08-27T20:33:18.345Z"
   },
   {
    "duration": 19,
    "start_time": "2022-08-27T20:33:18.377Z"
   },
   {
    "duration": 13,
    "start_time": "2022-08-27T20:33:18.398Z"
   },
   {
    "duration": 95,
    "start_time": "2022-08-27T20:33:18.413Z"
   },
   {
    "duration": 20,
    "start_time": "2022-08-27T20:33:18.509Z"
   },
   {
    "duration": 67,
    "start_time": "2022-08-27T20:33:18.530Z"
   },
   {
    "duration": 69,
    "start_time": "2022-08-27T20:33:18.599Z"
   },
   {
    "duration": 33,
    "start_time": "2022-08-27T20:33:18.670Z"
   },
   {
    "duration": 11,
    "start_time": "2022-08-27T20:33:18.704Z"
   },
   {
    "duration": 23,
    "start_time": "2022-08-27T20:33:18.717Z"
   },
   {
    "duration": 17,
    "start_time": "2022-08-27T20:33:18.768Z"
   },
   {
    "duration": 11,
    "start_time": "2022-08-27T20:33:18.787Z"
   },
   {
    "duration": 6,
    "start_time": "2022-08-27T20:33:18.799Z"
   },
   {
    "duration": 5,
    "start_time": "2022-08-27T20:33:18.807Z"
   },
   {
    "duration": 15,
    "start_time": "2022-08-27T20:33:18.813Z"
   },
   {
    "duration": 39,
    "start_time": "2022-08-27T20:33:18.830Z"
   },
   {
    "duration": 8,
    "start_time": "2022-08-27T20:33:18.872Z"
   },
   {
    "duration": 268,
    "start_time": "2022-08-27T20:33:18.882Z"
   },
   {
    "duration": 36,
    "start_time": "2022-08-27T20:33:19.152Z"
   },
   {
    "duration": 9,
    "start_time": "2022-08-27T20:33:19.190Z"
   },
   {
    "duration": 11,
    "start_time": "2022-08-27T20:33:19.200Z"
   },
   {
    "duration": 28,
    "start_time": "2022-08-27T20:33:19.213Z"
   },
   {
    "duration": 53,
    "start_time": "2022-08-27T20:33:19.244Z"
   },
   {
    "duration": 40,
    "start_time": "2022-08-27T20:33:19.299Z"
   },
   {
    "duration": 8,
    "start_time": "2022-08-27T20:33:19.341Z"
   },
   {
    "duration": 248,
    "start_time": "2022-08-27T20:33:19.368Z"
   },
   {
    "duration": 227,
    "start_time": "2022-08-27T20:33:19.618Z"
   },
   {
    "duration": 277,
    "start_time": "2022-08-27T20:33:19.847Z"
   },
   {
    "duration": 17,
    "start_time": "2022-08-27T20:33:20.126Z"
   },
   {
    "duration": 346,
    "start_time": "2022-08-27T20:33:20.145Z"
   },
   {
    "duration": 6,
    "start_time": "2022-08-27T20:33:20.493Z"
   },
   {
    "duration": 422,
    "start_time": "2022-08-27T20:33:20.500Z"
   },
   {
    "duration": 183,
    "start_time": "2022-08-27T20:33:20.924Z"
   },
   {
    "duration": 286,
    "start_time": "2022-08-27T20:33:21.109Z"
   },
   {
    "duration": 84,
    "start_time": "2022-08-27T20:33:21.396Z"
   },
   {
    "duration": 18,
    "start_time": "2022-08-27T20:33:21.482Z"
   },
   {
    "duration": 68,
    "start_time": "2022-08-27T20:33:21.503Z"
   },
   {
    "duration": 14,
    "start_time": "2022-08-27T20:33:55.399Z"
   },
   {
    "duration": 12,
    "start_time": "2022-08-27T20:33:59.017Z"
   },
   {
    "duration": 17,
    "start_time": "2022-08-27T20:34:29.502Z"
   },
   {
    "duration": 4,
    "start_time": "2022-08-27T20:34:45.773Z"
   },
   {
    "duration": 14,
    "start_time": "2022-08-27T20:34:45.779Z"
   },
   {
    "duration": 404,
    "start_time": "2022-08-27T20:34:45.796Z"
   },
   {
    "duration": 42,
    "start_time": "2022-08-27T20:34:46.201Z"
   },
   {
    "duration": 5,
    "start_time": "2022-08-27T20:34:46.245Z"
   },
   {
    "duration": 28,
    "start_time": "2022-08-27T20:34:46.253Z"
   },
   {
    "duration": 116,
    "start_time": "2022-08-27T20:34:46.283Z"
   },
   {
    "duration": 15,
    "start_time": "2022-08-27T20:34:46.401Z"
   },
   {
    "duration": 99,
    "start_time": "2022-08-27T20:34:46.418Z"
   },
   {
    "duration": 171,
    "start_time": "2022-08-27T20:34:46.519Z"
   },
   {
    "duration": 16,
    "start_time": "2022-08-27T20:34:46.693Z"
   },
   {
    "duration": 25,
    "start_time": "2022-08-27T20:34:46.712Z"
   },
   {
    "duration": 36,
    "start_time": "2022-08-27T20:34:46.740Z"
   },
   {
    "duration": 23,
    "start_time": "2022-08-27T20:34:46.779Z"
   },
   {
    "duration": 111,
    "start_time": "2022-08-27T20:34:46.804Z"
   },
   {
    "duration": 25,
    "start_time": "2022-08-27T20:34:46.917Z"
   },
   {
    "duration": 78,
    "start_time": "2022-08-27T20:34:46.944Z"
   },
   {
    "duration": 91,
    "start_time": "2022-08-27T20:34:47.023Z"
   },
   {
    "duration": 58,
    "start_time": "2022-08-27T20:34:47.116Z"
   },
   {
    "duration": 16,
    "start_time": "2022-08-27T20:34:47.176Z"
   },
   {
    "duration": 37,
    "start_time": "2022-08-27T20:34:47.194Z"
   },
   {
    "duration": 45,
    "start_time": "2022-08-27T20:34:47.233Z"
   },
   {
    "duration": 21,
    "start_time": "2022-08-27T20:34:47.280Z"
   },
   {
    "duration": 11,
    "start_time": "2022-08-27T20:34:47.303Z"
   },
   {
    "duration": 11,
    "start_time": "2022-08-27T20:34:47.316Z"
   },
   {
    "duration": 38,
    "start_time": "2022-08-27T20:34:47.330Z"
   },
   {
    "duration": 11,
    "start_time": "2022-08-27T20:34:47.370Z"
   },
   {
    "duration": 10,
    "start_time": "2022-08-27T20:34:47.383Z"
   },
   {
    "duration": 284,
    "start_time": "2022-08-27T20:34:47.397Z"
   },
   {
    "duration": 31,
    "start_time": "2022-08-27T20:34:47.683Z"
   },
   {
    "duration": 11,
    "start_time": "2022-08-27T20:34:47.716Z"
   },
   {
    "duration": 10,
    "start_time": "2022-08-27T20:34:47.730Z"
   },
   {
    "duration": 21,
    "start_time": "2022-08-27T20:34:47.768Z"
   },
   {
    "duration": 34,
    "start_time": "2022-08-27T20:34:47.791Z"
   },
   {
    "duration": 67,
    "start_time": "2022-08-27T20:34:47.827Z"
   },
   {
    "duration": 8,
    "start_time": "2022-08-27T20:34:47.896Z"
   },
   {
    "duration": 274,
    "start_time": "2022-08-27T20:34:47.906Z"
   },
   {
    "duration": 252,
    "start_time": "2022-08-27T20:34:48.181Z"
   },
   {
    "duration": 290,
    "start_time": "2022-08-27T20:34:48.435Z"
   },
   {
    "duration": 15,
    "start_time": "2022-08-27T20:34:48.727Z"
   },
   {
    "duration": 650,
    "start_time": "2022-08-27T20:34:48.743Z"
   },
   {
    "duration": 6,
    "start_time": "2022-08-27T20:34:49.395Z"
   },
   {
    "duration": 664,
    "start_time": "2022-08-27T20:34:49.404Z"
   },
   {
    "duration": 598,
    "start_time": "2022-08-27T20:34:50.070Z"
   },
   {
    "duration": 318,
    "start_time": "2022-08-27T20:34:50.670Z"
   },
   {
    "duration": 84,
    "start_time": "2022-08-27T20:34:50.991Z"
   },
   {
    "duration": 15,
    "start_time": "2022-08-27T20:34:51.077Z"
   },
   {
    "duration": 76,
    "start_time": "2022-08-27T20:34:51.094Z"
   },
   {
    "duration": 13,
    "start_time": "2022-08-27T20:36:10.616Z"
   },
   {
    "duration": 3,
    "start_time": "2022-08-27T20:36:28.436Z"
   },
   {
    "duration": 20,
    "start_time": "2022-08-27T20:36:28.441Z"
   },
   {
    "duration": 401,
    "start_time": "2022-08-27T20:36:28.463Z"
   },
   {
    "duration": 40,
    "start_time": "2022-08-27T20:36:28.866Z"
   },
   {
    "duration": 5,
    "start_time": "2022-08-27T20:36:28.909Z"
   },
   {
    "duration": 7,
    "start_time": "2022-08-27T20:36:28.916Z"
   },
   {
    "duration": 174,
    "start_time": "2022-08-27T20:36:28.925Z"
   },
   {
    "duration": 15,
    "start_time": "2022-08-27T20:36:29.102Z"
   },
   {
    "duration": 81,
    "start_time": "2022-08-27T20:36:29.119Z"
   },
   {
    "duration": 121,
    "start_time": "2022-08-27T20:36:29.201Z"
   },
   {
    "duration": 12,
    "start_time": "2022-08-27T20:36:29.324Z"
   },
   {
    "duration": 31,
    "start_time": "2022-08-27T20:36:29.338Z"
   },
   {
    "duration": 21,
    "start_time": "2022-08-27T20:36:29.370Z"
   },
   {
    "duration": 15,
    "start_time": "2022-08-27T20:36:29.395Z"
   },
   {
    "duration": 90,
    "start_time": "2022-08-27T20:36:29.412Z"
   },
   {
    "duration": 25,
    "start_time": "2022-08-27T20:36:29.504Z"
   },
   {
    "duration": 77,
    "start_time": "2022-08-27T20:36:29.531Z"
   },
   {
    "duration": 82,
    "start_time": "2022-08-27T20:36:29.609Z"
   },
   {
    "duration": 37,
    "start_time": "2022-08-27T20:36:29.693Z"
   },
   {
    "duration": 12,
    "start_time": "2022-08-27T20:36:29.732Z"
   },
   {
    "duration": 23,
    "start_time": "2022-08-27T20:36:29.768Z"
   },
   {
    "duration": 18,
    "start_time": "2022-08-27T20:36:29.793Z"
   },
   {
    "duration": 11,
    "start_time": "2022-08-27T20:36:29.813Z"
   },
   {
    "duration": 41,
    "start_time": "2022-08-27T20:36:29.826Z"
   },
   {
    "duration": 8,
    "start_time": "2022-08-27T20:36:29.869Z"
   },
   {
    "duration": 11,
    "start_time": "2022-08-27T20:36:29.879Z"
   },
   {
    "duration": 15,
    "start_time": "2022-08-27T20:36:29.892Z"
   },
   {
    "duration": 8,
    "start_time": "2022-08-27T20:36:29.910Z"
   },
   {
    "duration": 265,
    "start_time": "2022-08-27T20:36:29.920Z"
   },
   {
    "duration": 30,
    "start_time": "2022-08-27T20:36:30.187Z"
   },
   {
    "duration": 12,
    "start_time": "2022-08-27T20:36:30.219Z"
   },
   {
    "duration": 34,
    "start_time": "2022-08-27T20:36:30.233Z"
   },
   {
    "duration": 20,
    "start_time": "2022-08-27T20:36:30.270Z"
   },
   {
    "duration": 37,
    "start_time": "2022-08-27T20:36:30.292Z"
   },
   {
    "duration": 59,
    "start_time": "2022-08-27T20:36:30.332Z"
   },
   {
    "duration": 7,
    "start_time": "2022-08-27T20:36:30.393Z"
   },
   {
    "duration": 305,
    "start_time": "2022-08-27T20:36:30.402Z"
   },
   {
    "duration": 245,
    "start_time": "2022-08-27T20:36:30.709Z"
   },
   {
    "duration": 276,
    "start_time": "2022-08-27T20:36:30.956Z"
   },
   {
    "duration": 12,
    "start_time": "2022-08-27T20:36:31.234Z"
   },
   {
    "duration": 396,
    "start_time": "2022-08-27T20:36:31.250Z"
   },
   {
    "duration": 6,
    "start_time": "2022-08-27T20:36:31.648Z"
   },
   {
    "duration": 335,
    "start_time": "2022-08-27T20:36:31.656Z"
   },
   {
    "duration": 188,
    "start_time": "2022-08-27T20:36:31.993Z"
   },
   {
    "duration": 179,
    "start_time": "2022-08-27T20:36:32.183Z"
   },
   {
    "duration": 23,
    "start_time": "2022-08-27T20:36:32.364Z"
   },
   {
    "duration": 12,
    "start_time": "2022-08-27T20:36:32.389Z"
   },
   {
    "duration": 13,
    "start_time": "2022-08-27T20:36:32.403Z"
   },
   {
    "duration": 10,
    "start_time": "2022-08-27T20:37:15.571Z"
   },
   {
    "duration": 9,
    "start_time": "2022-08-27T20:52:42.705Z"
   },
   {
    "duration": 18,
    "start_time": "2022-08-27T20:55:45.120Z"
   },
   {
    "duration": 4,
    "start_time": "2022-08-27T20:57:02.015Z"
   },
   {
    "duration": 6,
    "start_time": "2022-08-27T20:57:02.021Z"
   },
   {
    "duration": 417,
    "start_time": "2022-08-27T20:57:02.029Z"
   },
   {
    "duration": 39,
    "start_time": "2022-08-27T20:57:02.448Z"
   },
   {
    "duration": 6,
    "start_time": "2022-08-27T20:57:02.491Z"
   },
   {
    "duration": 9,
    "start_time": "2022-08-27T20:57:02.499Z"
   },
   {
    "duration": 125,
    "start_time": "2022-08-27T20:57:02.511Z"
   },
   {
    "duration": 31,
    "start_time": "2022-08-27T20:57:02.638Z"
   },
   {
    "duration": 55,
    "start_time": "2022-08-27T20:57:02.670Z"
   },
   {
    "duration": 148,
    "start_time": "2022-08-27T20:57:02.727Z"
   },
   {
    "duration": 11,
    "start_time": "2022-08-27T20:57:02.879Z"
   },
   {
    "duration": 18,
    "start_time": "2022-08-27T20:57:02.893Z"
   },
   {
    "duration": 29,
    "start_time": "2022-08-27T20:57:02.913Z"
   },
   {
    "duration": 28,
    "start_time": "2022-08-27T20:57:02.945Z"
   },
   {
    "duration": 74,
    "start_time": "2022-08-27T20:57:02.975Z"
   },
   {
    "duration": 36,
    "start_time": "2022-08-27T20:57:03.050Z"
   },
   {
    "duration": 54,
    "start_time": "2022-08-27T20:57:03.087Z"
   },
   {
    "duration": 84,
    "start_time": "2022-08-27T20:57:03.143Z"
   },
   {
    "duration": 181,
    "start_time": "2022-08-27T20:57:03.229Z"
   },
   {
    "duration": 12,
    "start_time": "2022-08-27T20:57:03.411Z"
   },
   {
    "duration": 44,
    "start_time": "2022-08-27T20:57:03.425Z"
   },
   {
    "duration": 19,
    "start_time": "2022-08-27T20:57:03.470Z"
   },
   {
    "duration": 12,
    "start_time": "2022-08-27T20:57:03.491Z"
   },
   {
    "duration": 16,
    "start_time": "2022-08-27T20:57:03.505Z"
   },
   {
    "duration": 13,
    "start_time": "2022-08-27T20:57:03.523Z"
   },
   {
    "duration": 41,
    "start_time": "2022-08-27T20:57:03.538Z"
   },
   {
    "duration": 16,
    "start_time": "2022-08-27T20:57:03.582Z"
   },
   {
    "duration": 9,
    "start_time": "2022-08-27T20:57:03.600Z"
   },
   {
    "duration": 256,
    "start_time": "2022-08-27T20:57:03.613Z"
   },
   {
    "duration": 30,
    "start_time": "2022-08-27T20:57:03.871Z"
   },
   {
    "duration": 11,
    "start_time": "2022-08-27T20:57:03.902Z"
   },
   {
    "duration": 8,
    "start_time": "2022-08-27T20:57:03.915Z"
   },
   {
    "duration": 52,
    "start_time": "2022-08-27T20:57:03.925Z"
   },
   {
    "duration": 47,
    "start_time": "2022-08-27T20:57:03.979Z"
   },
   {
    "duration": 54,
    "start_time": "2022-08-27T20:57:04.029Z"
   },
   {
    "duration": 7,
    "start_time": "2022-08-27T20:57:04.084Z"
   },
   {
    "duration": 253,
    "start_time": "2022-08-27T20:57:04.092Z"
   },
   {
    "duration": 229,
    "start_time": "2022-08-27T20:57:04.347Z"
   },
   {
    "duration": 256,
    "start_time": "2022-08-27T20:57:04.577Z"
   },
   {
    "duration": 12,
    "start_time": "2022-08-27T20:57:04.834Z"
   },
   {
    "duration": 347,
    "start_time": "2022-08-27T20:57:04.848Z"
   },
   {
    "duration": 6,
    "start_time": "2022-08-27T20:57:05.196Z"
   },
   {
    "duration": 337,
    "start_time": "2022-08-27T20:57:05.204Z"
   },
   {
    "duration": 182,
    "start_time": "2022-08-27T20:57:05.542Z"
   },
   {
    "duration": 330,
    "start_time": "2022-08-27T20:57:05.768Z"
   },
   {
    "duration": 72,
    "start_time": "2022-08-27T20:57:06.100Z"
   },
   {
    "duration": 12,
    "start_time": "2022-08-27T20:57:06.173Z"
   },
   {
    "duration": 85,
    "start_time": "2022-08-27T20:57:06.187Z"
   },
   {
    "duration": 14,
    "start_time": "2022-08-27T20:57:15.382Z"
   },
   {
    "duration": 16,
    "start_time": "2022-08-27T20:57:42.503Z"
   },
   {
    "duration": 4,
    "start_time": "2022-08-27T20:58:08.861Z"
   },
   {
    "duration": 6,
    "start_time": "2022-08-27T20:58:08.867Z"
   },
   {
    "duration": 399,
    "start_time": "2022-08-27T20:58:08.874Z"
   },
   {
    "duration": 47,
    "start_time": "2022-08-27T20:58:09.275Z"
   },
   {
    "duration": 6,
    "start_time": "2022-08-27T20:58:09.323Z"
   },
   {
    "duration": 6,
    "start_time": "2022-08-27T20:58:09.331Z"
   },
   {
    "duration": 115,
    "start_time": "2022-08-27T20:58:09.367Z"
   },
   {
    "duration": 17,
    "start_time": "2022-08-27T20:58:09.484Z"
   },
   {
    "duration": 91,
    "start_time": "2022-08-27T20:58:09.505Z"
   },
   {
    "duration": 140,
    "start_time": "2022-08-27T20:58:09.599Z"
   },
   {
    "duration": 11,
    "start_time": "2022-08-27T20:58:09.741Z"
   },
   {
    "duration": 14,
    "start_time": "2022-08-27T20:58:09.769Z"
   },
   {
    "duration": 26,
    "start_time": "2022-08-27T20:58:09.785Z"
   },
   {
    "duration": 16,
    "start_time": "2022-08-27T20:58:09.813Z"
   },
   {
    "duration": 118,
    "start_time": "2022-08-27T20:58:09.831Z"
   },
   {
    "duration": 34,
    "start_time": "2022-08-27T20:58:09.950Z"
   },
   {
    "duration": 90,
    "start_time": "2022-08-27T20:58:09.986Z"
   },
   {
    "duration": 93,
    "start_time": "2022-08-27T20:58:10.078Z"
   },
   {
    "duration": 46,
    "start_time": "2022-08-27T20:58:10.173Z"
   },
   {
    "duration": 15,
    "start_time": "2022-08-27T20:58:10.222Z"
   },
   {
    "duration": 49,
    "start_time": "2022-08-27T20:58:10.240Z"
   },
   {
    "duration": 19,
    "start_time": "2022-08-27T20:58:10.291Z"
   },
   {
    "duration": 11,
    "start_time": "2022-08-27T20:58:10.312Z"
   },
   {
    "duration": 6,
    "start_time": "2022-08-27T20:58:10.327Z"
   },
   {
    "duration": 45,
    "start_time": "2022-08-27T20:58:10.335Z"
   },
   {
    "duration": 15,
    "start_time": "2022-08-27T20:58:10.381Z"
   },
   {
    "duration": 15,
    "start_time": "2022-08-27T20:58:10.399Z"
   },
   {
    "duration": 13,
    "start_time": "2022-08-27T20:58:10.417Z"
   },
   {
    "duration": 308,
    "start_time": "2022-08-27T20:58:10.432Z"
   },
   {
    "duration": 40,
    "start_time": "2022-08-27T20:58:10.742Z"
   },
   {
    "duration": 10,
    "start_time": "2022-08-27T20:58:10.784Z"
   },
   {
    "duration": 13,
    "start_time": "2022-08-27T20:58:10.795Z"
   },
   {
    "duration": 27,
    "start_time": "2022-08-27T20:58:10.810Z"
   },
   {
    "duration": 61,
    "start_time": "2022-08-27T20:58:10.839Z"
   },
   {
    "duration": 29,
    "start_time": "2022-08-27T20:58:10.902Z"
   },
   {
    "duration": 6,
    "start_time": "2022-08-27T20:58:10.933Z"
   },
   {
    "duration": 268,
    "start_time": "2022-08-27T20:58:10.941Z"
   },
   {
    "duration": 245,
    "start_time": "2022-08-27T20:58:11.211Z"
   },
   {
    "duration": 436,
    "start_time": "2022-08-27T20:58:11.458Z"
   },
   {
    "duration": 13,
    "start_time": "2022-08-27T20:58:11.895Z"
   },
   {
    "duration": 346,
    "start_time": "2022-08-27T20:58:11.910Z"
   },
   {
    "duration": 13,
    "start_time": "2022-08-27T20:58:12.258Z"
   },
   {
    "duration": 325,
    "start_time": "2022-08-27T20:58:12.272Z"
   },
   {
    "duration": 180,
    "start_time": "2022-08-27T20:58:12.598Z"
   },
   {
    "duration": 210,
    "start_time": "2022-08-27T20:58:12.780Z"
   },
   {
    "duration": 21,
    "start_time": "2022-08-27T20:58:12.992Z"
   },
   {
    "duration": 63,
    "start_time": "2022-08-27T20:58:13.015Z"
   },
   {
    "duration": 12,
    "start_time": "2022-08-27T20:58:13.081Z"
   },
   {
    "duration": 42,
    "start_time": "2022-08-27T21:00:29.840Z"
   },
   {
    "duration": 21,
    "start_time": "2022-08-27T21:00:45.526Z"
   },
   {
    "duration": 18,
    "start_time": "2022-08-27T21:01:33.833Z"
   },
   {
    "duration": 20,
    "start_time": "2022-08-27T21:01:59.842Z"
   },
   {
    "duration": 16,
    "start_time": "2022-08-27T21:04:04.108Z"
   },
   {
    "duration": 26,
    "start_time": "2022-08-27T21:04:09.965Z"
   },
   {
    "duration": 6,
    "start_time": "2022-08-27T21:13:22.218Z"
   },
   {
    "duration": 7,
    "start_time": "2022-08-27T21:14:30.642Z"
   },
   {
    "duration": 3,
    "start_time": "2022-08-27T21:19:03.033Z"
   },
   {
    "duration": 14,
    "start_time": "2022-08-27T21:19:03.039Z"
   },
   {
    "duration": 368,
    "start_time": "2022-08-27T21:19:03.055Z"
   },
   {
    "duration": 44,
    "start_time": "2022-08-27T21:19:03.425Z"
   },
   {
    "duration": 5,
    "start_time": "2022-08-27T21:19:03.470Z"
   },
   {
    "duration": 12,
    "start_time": "2022-08-27T21:19:03.477Z"
   },
   {
    "duration": 128,
    "start_time": "2022-08-27T21:19:03.491Z"
   },
   {
    "duration": 14,
    "start_time": "2022-08-27T21:19:03.621Z"
   },
   {
    "duration": 76,
    "start_time": "2022-08-27T21:19:03.638Z"
   },
   {
    "duration": 134,
    "start_time": "2022-08-27T21:19:03.716Z"
   },
   {
    "duration": 10,
    "start_time": "2022-08-27T21:19:03.869Z"
   },
   {
    "duration": 13,
    "start_time": "2022-08-27T21:19:03.881Z"
   },
   {
    "duration": 24,
    "start_time": "2022-08-27T21:19:03.896Z"
   },
   {
    "duration": 42,
    "start_time": "2022-08-27T21:19:03.922Z"
   },
   {
    "duration": 73,
    "start_time": "2022-08-27T21:19:03.967Z"
   },
   {
    "duration": 38,
    "start_time": "2022-08-27T21:19:04.042Z"
   },
   {
    "duration": 57,
    "start_time": "2022-08-27T21:19:04.082Z"
   },
   {
    "duration": 88,
    "start_time": "2022-08-27T21:19:04.141Z"
   },
   {
    "duration": 71,
    "start_time": "2022-08-27T21:19:04.232Z"
   },
   {
    "duration": 12,
    "start_time": "2022-08-27T21:19:04.305Z"
   },
   {
    "duration": 22,
    "start_time": "2022-08-27T21:19:04.319Z"
   },
   {
    "duration": 40,
    "start_time": "2022-08-27T21:19:04.343Z"
   },
   {
    "duration": 9,
    "start_time": "2022-08-27T21:19:04.385Z"
   },
   {
    "duration": 6,
    "start_time": "2022-08-27T21:19:04.398Z"
   },
   {
    "duration": 8,
    "start_time": "2022-08-27T21:19:04.405Z"
   },
   {
    "duration": 9,
    "start_time": "2022-08-27T21:19:04.415Z"
   },
   {
    "duration": 47,
    "start_time": "2022-08-27T21:19:04.426Z"
   },
   {
    "duration": 8,
    "start_time": "2022-08-27T21:19:04.475Z"
   },
   {
    "duration": 261,
    "start_time": "2022-08-27T21:19:04.485Z"
   },
   {
    "duration": 38,
    "start_time": "2022-08-27T21:19:04.748Z"
   },
   {
    "duration": 20,
    "start_time": "2022-08-27T21:19:04.788Z"
   },
   {
    "duration": 9,
    "start_time": "2022-08-27T21:19:04.809Z"
   },
   {
    "duration": 10,
    "start_time": "2022-08-27T21:19:04.820Z"
   },
   {
    "duration": 40,
    "start_time": "2022-08-27T21:19:04.831Z"
   },
   {
    "duration": 11,
    "start_time": "2022-08-27T21:19:04.874Z"
   },
   {
    "duration": 27,
    "start_time": "2022-08-27T21:19:04.888Z"
   },
   {
    "duration": 69,
    "start_time": "2022-08-27T21:19:04.918Z"
   },
   {
    "duration": 33,
    "start_time": "2022-08-27T21:19:04.988Z"
   },
   {
    "duration": 6,
    "start_time": "2022-08-27T21:19:05.022Z"
   },
   {
    "duration": 278,
    "start_time": "2022-08-27T21:19:05.030Z"
   },
   {
    "duration": 262,
    "start_time": "2022-08-27T21:19:05.310Z"
   },
   {
    "duration": 263,
    "start_time": "2022-08-27T21:19:05.574Z"
   },
   {
    "duration": 12,
    "start_time": "2022-08-27T21:19:05.839Z"
   },
   {
    "duration": 337,
    "start_time": "2022-08-27T21:19:05.867Z"
   },
   {
    "duration": 6,
    "start_time": "2022-08-27T21:19:06.206Z"
   },
   {
    "duration": 521,
    "start_time": "2022-08-27T21:19:06.213Z"
   },
   {
    "duration": 189,
    "start_time": "2022-08-27T21:19:06.736Z"
   },
   {
    "duration": 176,
    "start_time": "2022-08-27T21:19:06.927Z"
   },
   {
    "duration": 22,
    "start_time": "2022-08-27T21:19:07.105Z"
   },
   {
    "duration": 11,
    "start_time": "2022-08-27T21:19:07.129Z"
   },
   {
    "duration": 10,
    "start_time": "2022-08-27T21:19:07.168Z"
   },
   {
    "duration": 15,
    "start_time": "2022-08-27T21:28:37.562Z"
   },
   {
    "duration": 49,
    "start_time": "2022-08-27T21:29:12.917Z"
   },
   {
    "duration": 13,
    "start_time": "2022-08-27T21:29:37.034Z"
   },
   {
    "duration": 33,
    "start_time": "2022-08-27T21:29:44.214Z"
   },
   {
    "duration": 36,
    "start_time": "2022-08-27T21:29:53.025Z"
   },
   {
    "duration": 89,
    "start_time": "2022-08-27T21:31:58.051Z"
   },
   {
    "duration": 32,
    "start_time": "2022-08-27T21:32:41.317Z"
   },
   {
    "duration": 70,
    "start_time": "2022-08-27T21:32:58.772Z"
   },
   {
    "duration": 80,
    "start_time": "2022-08-27T21:36:07.647Z"
   },
   {
    "duration": 112,
    "start_time": "2022-08-27T21:36:34.663Z"
   },
   {
    "duration": 32,
    "start_time": "2022-08-27T21:36:42.613Z"
   },
   {
    "duration": 31,
    "start_time": "2022-08-27T21:36:51.958Z"
   },
   {
    "duration": 34,
    "start_time": "2022-08-27T21:37:21.023Z"
   },
   {
    "duration": 6,
    "start_time": "2022-08-27T21:42:18.810Z"
   },
   {
    "duration": 257,
    "start_time": "2022-08-27T21:42:21.433Z"
   },
   {
    "duration": 8,
    "start_time": "2022-08-27T21:58:49.537Z"
   },
   {
    "duration": 10,
    "start_time": "2022-08-27T22:00:30.816Z"
   },
   {
    "duration": 8,
    "start_time": "2022-08-27T22:04:12.869Z"
   },
   {
    "duration": 7,
    "start_time": "2022-08-27T22:07:10.025Z"
   },
   {
    "duration": 8,
    "start_time": "2022-08-27T22:07:59.760Z"
   },
   {
    "duration": 9,
    "start_time": "2022-08-27T22:08:08.272Z"
   },
   {
    "duration": 10,
    "start_time": "2022-08-27T22:08:18.246Z"
   },
   {
    "duration": 90,
    "start_time": "2022-08-27T22:09:36.252Z"
   },
   {
    "duration": 11,
    "start_time": "2022-08-27T22:10:02.341Z"
   },
   {
    "duration": 10,
    "start_time": "2022-08-27T22:21:46.528Z"
   },
   {
    "duration": 9,
    "start_time": "2022-08-27T22:22:14.116Z"
   },
   {
    "duration": 13,
    "start_time": "2022-08-27T22:24:32.769Z"
   },
   {
    "duration": 7,
    "start_time": "2022-08-27T22:25:10.442Z"
   },
   {
    "duration": 254,
    "start_time": "2022-08-27T22:25:14.436Z"
   },
   {
    "duration": 6,
    "start_time": "2022-08-27T22:25:30.645Z"
   },
   {
    "duration": 246,
    "start_time": "2022-08-27T22:25:33.568Z"
   },
   {
    "duration": 7,
    "start_time": "2022-08-27T22:25:51.350Z"
   },
   {
    "duration": 238,
    "start_time": "2022-08-27T22:25:55.315Z"
   },
   {
    "duration": 75,
    "start_time": "2022-08-27T22:26:10.341Z"
   },
   {
    "duration": 15,
    "start_time": "2022-08-27T22:26:16.523Z"
   },
   {
    "duration": 13,
    "start_time": "2022-08-27T22:26:20.994Z"
   },
   {
    "duration": 13,
    "start_time": "2022-08-27T22:26:37.053Z"
   },
   {
    "duration": 3,
    "start_time": "2022-08-27T22:30:22.403Z"
   },
   {
    "duration": 9,
    "start_time": "2022-08-27T22:30:22.408Z"
   },
   {
    "duration": 375,
    "start_time": "2022-08-27T22:30:22.419Z"
   },
   {
    "duration": 36,
    "start_time": "2022-08-27T22:30:22.797Z"
   },
   {
    "duration": 5,
    "start_time": "2022-08-27T22:30:22.835Z"
   },
   {
    "duration": 8,
    "start_time": "2022-08-27T22:30:22.841Z"
   },
   {
    "duration": 103,
    "start_time": "2022-08-27T22:30:22.850Z"
   },
   {
    "duration": 26,
    "start_time": "2022-08-27T22:30:22.954Z"
   },
   {
    "duration": 86,
    "start_time": "2022-08-27T22:30:22.982Z"
   },
   {
    "duration": 114,
    "start_time": "2022-08-27T22:30:23.070Z"
   },
   {
    "duration": 11,
    "start_time": "2022-08-27T22:30:23.185Z"
   },
   {
    "duration": 12,
    "start_time": "2022-08-27T22:30:23.198Z"
   },
   {
    "duration": 21,
    "start_time": "2022-08-27T22:30:23.212Z"
   },
   {
    "duration": 35,
    "start_time": "2022-08-27T22:30:23.234Z"
   },
   {
    "duration": 69,
    "start_time": "2022-08-27T22:30:23.271Z"
   },
   {
    "duration": 40,
    "start_time": "2022-08-27T22:30:23.341Z"
   },
   {
    "duration": 52,
    "start_time": "2022-08-27T22:30:23.382Z"
   },
   {
    "duration": 88,
    "start_time": "2022-08-27T22:30:23.436Z"
   },
   {
    "duration": 53,
    "start_time": "2022-08-27T22:30:23.526Z"
   },
   {
    "duration": 14,
    "start_time": "2022-08-27T22:30:23.581Z"
   },
   {
    "duration": 23,
    "start_time": "2022-08-27T22:30:23.596Z"
   },
   {
    "duration": 16,
    "start_time": "2022-08-27T22:30:23.620Z"
   },
   {
    "duration": 10,
    "start_time": "2022-08-27T22:30:23.668Z"
   },
   {
    "duration": 5,
    "start_time": "2022-08-27T22:30:23.681Z"
   },
   {
    "duration": 7,
    "start_time": "2022-08-27T22:30:23.688Z"
   },
   {
    "duration": 10,
    "start_time": "2022-08-27T22:30:23.697Z"
   },
   {
    "duration": 14,
    "start_time": "2022-08-27T22:30:23.708Z"
   },
   {
    "duration": 44,
    "start_time": "2022-08-27T22:30:23.724Z"
   },
   {
    "duration": 243,
    "start_time": "2022-08-27T22:30:23.770Z"
   },
   {
    "duration": 28,
    "start_time": "2022-08-27T22:30:24.015Z"
   },
   {
    "duration": 29,
    "start_time": "2022-08-27T22:30:24.044Z"
   },
   {
    "duration": 7,
    "start_time": "2022-08-27T22:30:24.075Z"
   },
   {
    "duration": 7,
    "start_time": "2022-08-27T22:30:24.083Z"
   },
   {
    "duration": 11,
    "start_time": "2022-08-27T22:30:24.091Z"
   },
   {
    "duration": 7,
    "start_time": "2022-08-27T22:30:24.104Z"
   },
   {
    "duration": 18,
    "start_time": "2022-08-27T22:30:24.112Z"
   },
   {
    "duration": 66,
    "start_time": "2022-08-27T22:30:24.132Z"
   },
   {
    "duration": 31,
    "start_time": "2022-08-27T22:30:24.199Z"
   },
   {
    "duration": 6,
    "start_time": "2022-08-27T22:30:24.232Z"
   },
   {
    "duration": 269,
    "start_time": "2022-08-27T22:30:24.240Z"
   },
   {
    "duration": 9,
    "start_time": "2022-08-27T22:30:24.510Z"
   },
   {
    "duration": 12,
    "start_time": "2022-08-27T22:30:24.520Z"
   },
   {
    "duration": 250,
    "start_time": "2022-08-27T22:30:24.534Z"
   },
   {
    "duration": 13,
    "start_time": "2022-08-27T22:30:24.786Z"
   },
   {
    "duration": 270,
    "start_time": "2022-08-27T22:30:24.801Z"
   },
   {
    "duration": 512,
    "start_time": "2022-08-27T22:30:25.074Z"
   },
   {
    "duration": 6,
    "start_time": "2022-08-27T22:30:25.588Z"
   },
   {
    "duration": 303,
    "start_time": "2022-08-27T22:30:25.596Z"
   },
   {
    "duration": 177,
    "start_time": "2022-08-27T22:30:25.901Z"
   },
   {
    "duration": 166,
    "start_time": "2022-08-27T22:30:26.080Z"
   },
   {
    "duration": 29,
    "start_time": "2022-08-27T22:30:26.248Z"
   },
   {
    "duration": 12,
    "start_time": "2022-08-27T22:30:26.278Z"
   },
   {
    "duration": 11,
    "start_time": "2022-08-27T22:30:26.292Z"
   },
   {
    "duration": 13,
    "start_time": "2022-08-27T22:31:12.409Z"
   },
   {
    "duration": 3,
    "start_time": "2022-08-27T22:33:21.960Z"
   },
   {
    "duration": 4,
    "start_time": "2022-08-27T22:33:38.748Z"
   },
   {
    "duration": 10,
    "start_time": "2022-08-27T22:33:38.755Z"
   },
   {
    "duration": 365,
    "start_time": "2022-08-27T22:33:38.767Z"
   },
   {
    "duration": 37,
    "start_time": "2022-08-27T22:33:39.133Z"
   },
   {
    "duration": 4,
    "start_time": "2022-08-27T22:33:39.172Z"
   },
   {
    "duration": 6,
    "start_time": "2022-08-27T22:33:39.178Z"
   },
   {
    "duration": 120,
    "start_time": "2022-08-27T22:33:39.186Z"
   },
   {
    "duration": 13,
    "start_time": "2022-08-27T22:33:39.308Z"
   },
   {
    "duration": 75,
    "start_time": "2022-08-27T22:33:39.322Z"
   },
   {
    "duration": 129,
    "start_time": "2022-08-27T22:33:39.398Z"
   },
   {
    "duration": 11,
    "start_time": "2022-08-27T22:33:39.530Z"
   },
   {
    "duration": 29,
    "start_time": "2022-08-27T22:33:39.543Z"
   },
   {
    "duration": 21,
    "start_time": "2022-08-27T22:33:39.574Z"
   },
   {
    "duration": 13,
    "start_time": "2022-08-27T22:33:39.597Z"
   },
   {
    "duration": 93,
    "start_time": "2022-08-27T22:33:39.613Z"
   },
   {
    "duration": 21,
    "start_time": "2022-08-27T22:33:39.709Z"
   },
   {
    "duration": 70,
    "start_time": "2022-08-27T22:33:39.731Z"
   },
   {
    "duration": 80,
    "start_time": "2022-08-27T22:33:39.803Z"
   },
   {
    "duration": 36,
    "start_time": "2022-08-27T22:33:39.884Z"
   },
   {
    "duration": 12,
    "start_time": "2022-08-27T22:33:39.922Z"
   },
   {
    "duration": 44,
    "start_time": "2022-08-27T22:33:39.935Z"
   },
   {
    "duration": 18,
    "start_time": "2022-08-27T22:33:39.981Z"
   },
   {
    "duration": 13,
    "start_time": "2022-08-27T22:33:40.001Z"
   },
   {
    "duration": 8,
    "start_time": "2022-08-27T22:33:40.016Z"
   },
   {
    "duration": 10,
    "start_time": "2022-08-27T22:33:40.025Z"
   },
   {
    "duration": 37,
    "start_time": "2022-08-27T22:33:40.037Z"
   },
   {
    "duration": 14,
    "start_time": "2022-08-27T22:33:40.076Z"
   },
   {
    "duration": 9,
    "start_time": "2022-08-27T22:33:40.093Z"
   },
   {
    "duration": 271,
    "start_time": "2022-08-27T22:33:40.106Z"
   },
   {
    "duration": 30,
    "start_time": "2022-08-27T22:33:40.379Z"
   },
   {
    "duration": 19,
    "start_time": "2022-08-27T22:33:40.410Z"
   },
   {
    "duration": 7,
    "start_time": "2022-08-27T22:33:40.431Z"
   },
   {
    "duration": 31,
    "start_time": "2022-08-27T22:33:40.439Z"
   },
   {
    "duration": 12,
    "start_time": "2022-08-27T22:33:40.471Z"
   },
   {
    "duration": 8,
    "start_time": "2022-08-27T22:33:40.485Z"
   },
   {
    "duration": 21,
    "start_time": "2022-08-27T22:33:40.495Z"
   },
   {
    "duration": 65,
    "start_time": "2022-08-27T22:33:40.517Z"
   },
   {
    "duration": 33,
    "start_time": "2022-08-27T22:33:40.584Z"
   },
   {
    "duration": 6,
    "start_time": "2022-08-27T22:33:40.618Z"
   },
   {
    "duration": 255,
    "start_time": "2022-08-27T22:33:40.626Z"
   },
   {
    "duration": 16,
    "start_time": "2022-08-27T22:33:40.882Z"
   },
   {
    "duration": 251,
    "start_time": "2022-08-27T22:33:40.899Z"
   },
   {
    "duration": 23,
    "start_time": "2022-08-27T22:33:41.152Z"
   },
   {
    "duration": 246,
    "start_time": "2022-08-27T22:33:41.177Z"
   },
   {
    "duration": 371,
    "start_time": "2022-08-27T22:33:41.425Z"
   },
   {
    "duration": 6,
    "start_time": "2022-08-27T22:33:41.798Z"
   },
   {
    "duration": 320,
    "start_time": "2022-08-27T22:33:41.805Z"
   },
   {
    "duration": 176,
    "start_time": "2022-08-27T22:33:42.127Z"
   },
   {
    "duration": 162,
    "start_time": "2022-08-27T22:33:42.305Z"
   },
   {
    "duration": 21,
    "start_time": "2022-08-27T22:33:42.469Z"
   },
   {
    "duration": 13,
    "start_time": "2022-08-27T22:33:42.491Z"
   },
   {
    "duration": 13,
    "start_time": "2022-08-27T22:33:42.507Z"
   },
   {
    "duration": 18,
    "start_time": "2022-08-27T22:37:26.576Z"
   },
   {
    "duration": 13,
    "start_time": "2022-08-27T22:37:52.915Z"
   },
   {
    "duration": 16,
    "start_time": "2022-08-27T22:45:22.941Z"
   },
   {
    "duration": 3,
    "start_time": "2022-08-27T22:49:52.681Z"
   },
   {
    "duration": 18,
    "start_time": "2022-08-27T22:51:30.853Z"
   },
   {
    "duration": 8,
    "start_time": "2022-08-27T22:51:37.661Z"
   },
   {
    "duration": 13,
    "start_time": "2022-08-27T22:52:50.428Z"
   },
   {
    "duration": 16,
    "start_time": "2022-08-27T22:53:13.903Z"
   },
   {
    "duration": 17,
    "start_time": "2022-08-27T22:56:46.849Z"
   },
   {
    "duration": 14,
    "start_time": "2022-08-27T22:59:14.203Z"
   },
   {
    "duration": 16,
    "start_time": "2022-08-27T22:59:47.186Z"
   },
   {
    "duration": 15,
    "start_time": "2022-08-27T23:00:06.032Z"
   },
   {
    "duration": 14,
    "start_time": "2022-08-27T23:00:21.730Z"
   },
   {
    "duration": 16,
    "start_time": "2022-08-27T23:00:48.958Z"
   },
   {
    "duration": 16,
    "start_time": "2022-08-27T23:01:02.534Z"
   },
   {
    "duration": 15,
    "start_time": "2022-08-27T23:02:39.421Z"
   },
   {
    "duration": 16,
    "start_time": "2022-08-27T23:03:48.201Z"
   },
   {
    "duration": 25,
    "start_time": "2022-08-27T23:08:31.482Z"
   },
   {
    "duration": 22,
    "start_time": "2022-08-27T23:09:57.073Z"
   },
   {
    "duration": 24,
    "start_time": "2022-08-27T23:10:22.796Z"
   },
   {
    "duration": 20,
    "start_time": "2022-08-27T23:11:26.771Z"
   },
   {
    "duration": 24,
    "start_time": "2022-08-27T23:11:55.756Z"
   },
   {
    "duration": 26,
    "start_time": "2022-08-27T23:13:20.359Z"
   },
   {
    "duration": 26,
    "start_time": "2022-08-27T23:24:23.988Z"
   },
   {
    "duration": 24,
    "start_time": "2022-08-27T23:24:32.737Z"
   },
   {
    "duration": 23,
    "start_time": "2022-08-27T23:25:05.770Z"
   },
   {
    "duration": 13,
    "start_time": "2022-08-27T23:28:47.659Z"
   },
   {
    "duration": 4,
    "start_time": "2022-08-27T23:32:22.151Z"
   },
   {
    "duration": 16,
    "start_time": "2022-08-27T23:32:22.157Z"
   },
   {
    "duration": 413,
    "start_time": "2022-08-27T23:32:22.175Z"
   },
   {
    "duration": 36,
    "start_time": "2022-08-27T23:32:22.590Z"
   },
   {
    "duration": 4,
    "start_time": "2022-08-27T23:32:22.627Z"
   },
   {
    "duration": 7,
    "start_time": "2022-08-27T23:32:22.633Z"
   },
   {
    "duration": 112,
    "start_time": "2022-08-27T23:32:22.641Z"
   },
   {
    "duration": 13,
    "start_time": "2022-08-27T23:32:22.768Z"
   },
   {
    "duration": 52,
    "start_time": "2022-08-27T23:32:22.784Z"
   },
   {
    "duration": 151,
    "start_time": "2022-08-27T23:32:22.838Z"
   },
   {
    "duration": 12,
    "start_time": "2022-08-27T23:32:22.990Z"
   },
   {
    "duration": 13,
    "start_time": "2022-08-27T23:32:23.004Z"
   },
   {
    "duration": 25,
    "start_time": "2022-08-27T23:32:23.019Z"
   },
   {
    "duration": 31,
    "start_time": "2022-08-27T23:32:23.046Z"
   },
   {
    "duration": 89,
    "start_time": "2022-08-27T23:32:23.079Z"
   },
   {
    "duration": 22,
    "start_time": "2022-08-27T23:32:23.170Z"
   },
   {
    "duration": 83,
    "start_time": "2022-08-27T23:32:23.195Z"
   },
   {
    "duration": 92,
    "start_time": "2022-08-27T23:32:23.280Z"
   },
   {
    "duration": 196,
    "start_time": "2022-08-27T23:32:23.374Z"
   },
   {
    "duration": 12,
    "start_time": "2022-08-27T23:32:23.571Z"
   },
   {
    "duration": 42,
    "start_time": "2022-08-27T23:32:23.585Z"
   },
   {
    "duration": 17,
    "start_time": "2022-08-27T23:32:23.628Z"
   },
   {
    "duration": 22,
    "start_time": "2022-08-27T23:32:23.647Z"
   },
   {
    "duration": 7,
    "start_time": "2022-08-27T23:32:23.672Z"
   },
   {
    "duration": 8,
    "start_time": "2022-08-27T23:32:23.680Z"
   },
   {
    "duration": 12,
    "start_time": "2022-08-27T23:32:23.690Z"
   },
   {
    "duration": 21,
    "start_time": "2022-08-27T23:32:23.704Z"
   },
   {
    "duration": 12,
    "start_time": "2022-08-27T23:32:23.727Z"
   },
   {
    "duration": 250,
    "start_time": "2022-08-27T23:32:23.741Z"
   },
   {
    "duration": 27,
    "start_time": "2022-08-27T23:32:23.993Z"
   },
   {
    "duration": 20,
    "start_time": "2022-08-27T23:32:24.022Z"
   },
   {
    "duration": 29,
    "start_time": "2022-08-27T23:32:24.044Z"
   },
   {
    "duration": 14,
    "start_time": "2022-08-27T23:32:24.075Z"
   },
   {
    "duration": 18,
    "start_time": "2022-08-27T23:32:24.091Z"
   },
   {
    "duration": 10,
    "start_time": "2022-08-27T23:32:24.110Z"
   },
   {
    "duration": 25,
    "start_time": "2022-08-27T23:32:24.122Z"
   },
   {
    "duration": 35,
    "start_time": "2022-08-27T23:32:24.168Z"
   },
   {
    "duration": 33,
    "start_time": "2022-08-27T23:32:24.205Z"
   },
   {
    "duration": 29,
    "start_time": "2022-08-27T23:32:24.240Z"
   },
   {
    "duration": 269,
    "start_time": "2022-08-27T23:32:24.271Z"
   },
   {
    "duration": 15,
    "start_time": "2022-08-27T23:32:24.542Z"
   },
   {
    "duration": 256,
    "start_time": "2022-08-27T23:32:24.558Z"
   },
   {
    "duration": 13,
    "start_time": "2022-08-27T23:32:24.816Z"
   },
   {
    "duration": 273,
    "start_time": "2022-08-27T23:32:24.830Z"
   },
   {
    "duration": 329,
    "start_time": "2022-08-27T23:32:25.105Z"
   },
   {
    "duration": 352,
    "start_time": "2022-08-27T23:32:25.436Z"
   },
   {
    "duration": 15,
    "start_time": "2022-08-27T23:32:25.790Z"
   },
   {
    "duration": 38,
    "start_time": "2022-08-27T23:32:25.807Z"
   },
   {
    "duration": 31,
    "start_time": "2022-08-27T23:32:25.847Z"
   },
   {
    "duration": 12,
    "start_time": "2022-08-27T23:32:25.880Z"
   },
   {
    "duration": 21,
    "start_time": "2022-08-27T23:33:35.699Z"
   },
   {
    "duration": 12,
    "start_time": "2022-08-27T23:35:09.593Z"
   },
   {
    "duration": 31,
    "start_time": "2022-08-27T23:35:17.621Z"
   },
   {
    "duration": 32,
    "start_time": "2022-08-27T23:35:24.576Z"
   },
   {
    "duration": 30,
    "start_time": "2022-08-27T23:35:30.574Z"
   },
   {
    "duration": 9,
    "start_time": "2022-08-27T23:36:22.453Z"
   },
   {
    "duration": 5,
    "start_time": "2022-08-27T23:36:26.846Z"
   },
   {
    "duration": 5,
    "start_time": "2022-08-27T23:36:32.146Z"
   },
   {
    "duration": 10,
    "start_time": "2022-08-27T23:37:06.605Z"
   },
   {
    "duration": 9,
    "start_time": "2022-08-27T23:37:14.053Z"
   },
   {
    "duration": 19,
    "start_time": "2022-08-27T23:37:26.486Z"
   },
   {
    "duration": 10,
    "start_time": "2022-08-27T23:38:45.440Z"
   },
   {
    "duration": 11,
    "start_time": "2022-08-27T23:39:00.037Z"
   },
   {
    "duration": 19,
    "start_time": "2022-08-27T23:57:58.941Z"
   },
   {
    "duration": 16,
    "start_time": "2022-08-27T23:58:36.906Z"
   },
   {
    "duration": 19,
    "start_time": "2022-08-27T23:58:54.301Z"
   },
   {
    "duration": 10,
    "start_time": "2022-08-28T00:00:41.809Z"
   },
   {
    "duration": 49,
    "start_time": "2022-08-28T08:08:16.265Z"
   },
   {
    "duration": 1203,
    "start_time": "2022-08-28T08:08:22.870Z"
   },
   {
    "duration": 4,
    "start_time": "2022-08-28T08:08:24.075Z"
   },
   {
    "duration": 864,
    "start_time": "2022-08-28T08:08:24.080Z"
   },
   {
    "duration": 34,
    "start_time": "2022-08-28T08:08:24.946Z"
   },
   {
    "duration": 4,
    "start_time": "2022-08-28T08:08:24.981Z"
   },
   {
    "duration": 4,
    "start_time": "2022-08-28T08:08:24.987Z"
   },
   {
    "duration": 80,
    "start_time": "2022-08-28T08:08:24.992Z"
   },
   {
    "duration": 26,
    "start_time": "2022-08-28T08:08:25.073Z"
   },
   {
    "duration": 42,
    "start_time": "2022-08-28T08:08:25.100Z"
   },
   {
    "duration": 115,
    "start_time": "2022-08-28T08:08:25.144Z"
   },
   {
    "duration": 10,
    "start_time": "2022-08-28T08:08:25.260Z"
   },
   {
    "duration": 28,
    "start_time": "2022-08-28T08:08:25.271Z"
   },
   {
    "duration": 16,
    "start_time": "2022-08-28T08:08:25.300Z"
   },
   {
    "duration": 11,
    "start_time": "2022-08-28T08:08:25.318Z"
   },
   {
    "duration": 69,
    "start_time": "2022-08-28T08:08:25.331Z"
   },
   {
    "duration": 24,
    "start_time": "2022-08-28T08:08:25.402Z"
   },
   {
    "duration": 51,
    "start_time": "2022-08-28T08:08:25.427Z"
   },
   {
    "duration": 70,
    "start_time": "2022-08-28T08:08:25.479Z"
   },
   {
    "duration": 27,
    "start_time": "2022-08-28T08:08:25.551Z"
   },
   {
    "duration": 26,
    "start_time": "2022-08-28T08:08:25.579Z"
   },
   {
    "duration": 18,
    "start_time": "2022-08-28T08:08:25.606Z"
   },
   {
    "duration": 12,
    "start_time": "2022-08-28T08:08:25.626Z"
   },
   {
    "duration": 7,
    "start_time": "2022-08-28T08:08:25.640Z"
   },
   {
    "duration": 4,
    "start_time": "2022-08-28T08:08:25.648Z"
   },
   {
    "duration": 5,
    "start_time": "2022-08-28T08:08:25.653Z"
   },
   {
    "duration": 42,
    "start_time": "2022-08-28T08:08:25.660Z"
   },
   {
    "duration": 13,
    "start_time": "2022-08-28T08:08:25.703Z"
   },
   {
    "duration": 7,
    "start_time": "2022-08-28T08:08:25.719Z"
   },
   {
    "duration": 232,
    "start_time": "2022-08-28T08:08:25.727Z"
   },
   {
    "duration": 22,
    "start_time": "2022-08-28T08:08:25.961Z"
   },
   {
    "duration": 27,
    "start_time": "2022-08-28T08:08:25.985Z"
   },
   {
    "duration": 6,
    "start_time": "2022-08-28T08:08:26.014Z"
   },
   {
    "duration": 6,
    "start_time": "2022-08-28T08:08:26.021Z"
   },
   {
    "duration": 9,
    "start_time": "2022-08-28T08:08:26.028Z"
   },
   {
    "duration": 6,
    "start_time": "2022-08-28T08:08:26.038Z"
   },
   {
    "duration": 14,
    "start_time": "2022-08-28T08:08:26.045Z"
   },
   {
    "duration": 59,
    "start_time": "2022-08-28T08:08:26.061Z"
   },
   {
    "duration": 23,
    "start_time": "2022-08-28T08:08:26.122Z"
   },
   {
    "duration": 5,
    "start_time": "2022-08-28T08:08:26.146Z"
   },
   {
    "duration": 219,
    "start_time": "2022-08-28T08:08:26.153Z"
   },
   {
    "duration": 14,
    "start_time": "2022-08-28T08:08:26.374Z"
   },
   {
    "duration": 187,
    "start_time": "2022-08-28T08:08:26.398Z"
   },
   {
    "duration": 16,
    "start_time": "2022-08-28T08:08:26.587Z"
   },
   {
    "duration": 203,
    "start_time": "2022-08-28T08:08:26.604Z"
   },
   {
    "duration": 329,
    "start_time": "2022-08-28T08:08:26.808Z"
   },
   {
    "duration": 259,
    "start_time": "2022-08-28T08:08:27.139Z"
   },
   {
    "duration": 11,
    "start_time": "2022-08-28T08:08:27.399Z"
   },
   {
    "duration": 13,
    "start_time": "2022-08-28T08:08:27.411Z"
   },
   {
    "duration": 9,
    "start_time": "2022-08-28T08:08:27.425Z"
   },
   {
    "duration": 8,
    "start_time": "2022-08-28T08:08:27.435Z"
   },
   {
    "duration": 299,
    "start_time": "2022-08-28T08:10:25.878Z"
   },
   {
    "duration": 271,
    "start_time": "2022-08-28T08:11:08.403Z"
   },
   {
    "duration": 10,
    "start_time": "2022-08-28T08:32:36.946Z"
   },
   {
    "duration": 11,
    "start_time": "2022-08-28T08:37:54.498Z"
   },
   {
    "duration": 9,
    "start_time": "2022-08-28T10:48:54.254Z"
   },
   {
    "duration": 2279,
    "start_time": "2022-08-29T07:53:27.321Z"
   },
   {
    "duration": 5,
    "start_time": "2022-08-29T07:53:29.602Z"
   },
   {
    "duration": 1051,
    "start_time": "2022-08-29T07:53:29.609Z"
   },
   {
    "duration": 46,
    "start_time": "2022-08-29T07:53:30.668Z"
   },
   {
    "duration": 5,
    "start_time": "2022-08-29T07:53:30.769Z"
   },
   {
    "duration": 18,
    "start_time": "2022-08-29T07:53:30.776Z"
   },
   {
    "duration": 274,
    "start_time": "2022-08-29T07:53:30.796Z"
   },
   {
    "duration": 13,
    "start_time": "2022-08-29T07:53:31.072Z"
   },
   {
    "duration": 181,
    "start_time": "2022-08-29T07:53:31.087Z"
   },
   {
    "duration": 235,
    "start_time": "2022-08-29T07:53:31.270Z"
   },
   {
    "duration": 15,
    "start_time": "2022-08-29T07:53:31.507Z"
   },
   {
    "duration": 50,
    "start_time": "2022-08-29T07:53:31.524Z"
   },
   {
    "duration": 54,
    "start_time": "2022-08-29T07:53:31.576Z"
   },
   {
    "duration": 25,
    "start_time": "2022-08-29T07:53:31.634Z"
   },
   {
    "duration": 100,
    "start_time": "2022-08-29T07:53:31.661Z"
   },
   {
    "duration": 22,
    "start_time": "2022-08-29T07:53:31.763Z"
   },
   {
    "duration": 101,
    "start_time": "2022-08-29T07:53:31.788Z"
   },
   {
    "duration": 103,
    "start_time": "2022-08-29T07:53:31.890Z"
   },
   {
    "duration": 92,
    "start_time": "2022-08-29T07:53:31.995Z"
   },
   {
    "duration": 13,
    "start_time": "2022-08-29T07:53:32.088Z"
   },
   {
    "duration": 87,
    "start_time": "2022-08-29T07:53:32.103Z"
   },
   {
    "duration": 16,
    "start_time": "2022-08-29T07:53:32.191Z"
   },
   {
    "duration": 73,
    "start_time": "2022-08-29T07:53:32.208Z"
   },
   {
    "duration": 6,
    "start_time": "2022-08-29T07:53:32.283Z"
   },
   {
    "duration": 7,
    "start_time": "2022-08-29T07:53:32.291Z"
   },
   {
    "duration": 9,
    "start_time": "2022-08-29T07:53:32.368Z"
   },
   {
    "duration": 89,
    "start_time": "2022-08-29T07:53:32.379Z"
   },
   {
    "duration": 12,
    "start_time": "2022-08-29T07:53:32.471Z"
   },
   {
    "duration": 684,
    "start_time": "2022-08-29T07:53:32.485Z"
   },
   {
    "duration": 29,
    "start_time": "2022-08-29T07:53:33.171Z"
   },
   {
    "duration": 18,
    "start_time": "2022-08-29T07:53:33.269Z"
   },
   {
    "duration": 5,
    "start_time": "2022-08-29T07:53:33.289Z"
   },
   {
    "duration": 14,
    "start_time": "2022-08-29T07:53:33.296Z"
   },
   {
    "duration": 22,
    "start_time": "2022-08-29T07:53:33.311Z"
   },
   {
    "duration": 45,
    "start_time": "2022-08-29T07:53:33.335Z"
   },
   {
    "duration": 109,
    "start_time": "2022-08-29T07:53:33.382Z"
   },
   {
    "duration": 184,
    "start_time": "2022-08-29T07:53:33.493Z"
   },
   {
    "duration": 9,
    "start_time": "2022-08-29T07:53:33.679Z"
   },
   {
    "duration": 519,
    "start_time": "2022-08-29T07:53:33.690Z"
   },
   {
    "duration": 12,
    "start_time": "2022-08-29T07:53:34.210Z"
   },
   {
    "duration": 241,
    "start_time": "2022-08-29T07:53:34.226Z"
   },
   {
    "duration": 11,
    "start_time": "2022-08-29T07:53:34.469Z"
   },
   {
    "duration": 354,
    "start_time": "2022-08-29T07:53:34.481Z"
   },
   {
    "duration": 373,
    "start_time": "2022-08-29T07:53:34.837Z"
   },
   {
    "duration": 329,
    "start_time": "2022-08-29T07:53:35.213Z"
   },
   {
    "duration": 12,
    "start_time": "2022-08-29T07:53:35.544Z"
   },
   {
    "duration": 27,
    "start_time": "2022-08-29T07:53:35.558Z"
   },
   {
    "duration": 15,
    "start_time": "2022-08-29T07:53:35.587Z"
   },
   {
    "duration": 12,
    "start_time": "2022-08-29T07:53:35.604Z"
   },
   {
    "duration": 12,
    "start_time": "2022-08-29T07:57:19.066Z"
   },
   {
    "duration": 12,
    "start_time": "2022-08-29T07:58:09.672Z"
   },
   {
    "duration": 1237,
    "start_time": "2022-08-29T10:12:01.499Z"
   },
   {
    "duration": 4,
    "start_time": "2022-08-29T10:12:02.738Z"
   },
   {
    "duration": 785,
    "start_time": "2022-08-29T10:12:02.743Z"
   },
   {
    "duration": 36,
    "start_time": "2022-08-29T10:12:03.531Z"
   },
   {
    "duration": 4,
    "start_time": "2022-08-29T10:12:03.568Z"
   },
   {
    "duration": 7,
    "start_time": "2022-08-29T10:12:03.573Z"
   },
   {
    "duration": 87,
    "start_time": "2022-08-29T10:12:03.581Z"
   },
   {
    "duration": 11,
    "start_time": "2022-08-29T10:12:03.670Z"
   },
   {
    "duration": 62,
    "start_time": "2022-08-29T10:12:03.682Z"
   },
   {
    "duration": 103,
    "start_time": "2022-08-29T10:12:03.747Z"
   },
   {
    "duration": 9,
    "start_time": "2022-08-29T10:12:03.852Z"
   },
   {
    "duration": 15,
    "start_time": "2022-08-29T10:12:03.863Z"
   },
   {
    "duration": 33,
    "start_time": "2022-08-29T10:12:03.879Z"
   },
   {
    "duration": 11,
    "start_time": "2022-08-29T10:12:03.913Z"
   },
   {
    "duration": 59,
    "start_time": "2022-08-29T10:12:03.926Z"
   },
   {
    "duration": 34,
    "start_time": "2022-08-29T10:12:03.987Z"
   },
   {
    "duration": 110,
    "start_time": "2022-08-29T10:12:04.023Z"
   },
   {
    "duration": 0,
    "start_time": "2022-08-29T10:12:04.135Z"
   },
   {
    "duration": 0,
    "start_time": "2022-08-29T10:12:04.136Z"
   },
   {
    "duration": 0,
    "start_time": "2022-08-29T10:12:04.136Z"
   },
   {
    "duration": 0,
    "start_time": "2022-08-29T10:12:04.137Z"
   },
   {
    "duration": 0,
    "start_time": "2022-08-29T10:12:04.138Z"
   },
   {
    "duration": 0,
    "start_time": "2022-08-29T10:12:04.139Z"
   },
   {
    "duration": 0,
    "start_time": "2022-08-29T10:12:04.140Z"
   },
   {
    "duration": 0,
    "start_time": "2022-08-29T10:12:04.141Z"
   },
   {
    "duration": 0,
    "start_time": "2022-08-29T10:12:04.142Z"
   },
   {
    "duration": 0,
    "start_time": "2022-08-29T10:12:04.143Z"
   },
   {
    "duration": 0,
    "start_time": "2022-08-29T10:12:04.144Z"
   },
   {
    "duration": 0,
    "start_time": "2022-08-29T10:12:04.145Z"
   },
   {
    "duration": 0,
    "start_time": "2022-08-29T10:12:04.146Z"
   },
   {
    "duration": 0,
    "start_time": "2022-08-29T10:12:04.146Z"
   },
   {
    "duration": 0,
    "start_time": "2022-08-29T10:12:04.148Z"
   },
   {
    "duration": 0,
    "start_time": "2022-08-29T10:12:04.149Z"
   },
   {
    "duration": 0,
    "start_time": "2022-08-29T10:12:04.150Z"
   },
   {
    "duration": 0,
    "start_time": "2022-08-29T10:12:04.150Z"
   },
   {
    "duration": 0,
    "start_time": "2022-08-29T10:12:04.151Z"
   },
   {
    "duration": 0,
    "start_time": "2022-08-29T10:12:04.152Z"
   },
   {
    "duration": 0,
    "start_time": "2022-08-29T10:12:04.153Z"
   },
   {
    "duration": 0,
    "start_time": "2022-08-29T10:12:04.154Z"
   },
   {
    "duration": 0,
    "start_time": "2022-08-29T10:12:04.154Z"
   },
   {
    "duration": 0,
    "start_time": "2022-08-29T10:12:04.155Z"
   },
   {
    "duration": 0,
    "start_time": "2022-08-29T10:12:04.156Z"
   },
   {
    "duration": 0,
    "start_time": "2022-08-29T10:12:04.157Z"
   },
   {
    "duration": 0,
    "start_time": "2022-08-29T10:12:04.158Z"
   },
   {
    "duration": 0,
    "start_time": "2022-08-29T10:12:04.159Z"
   },
   {
    "duration": 0,
    "start_time": "2022-08-29T10:12:04.160Z"
   },
   {
    "duration": 0,
    "start_time": "2022-08-29T10:12:04.161Z"
   },
   {
    "duration": 0,
    "start_time": "2022-08-29T10:12:04.162Z"
   },
   {
    "duration": 0,
    "start_time": "2022-08-29T10:12:04.206Z"
   },
   {
    "duration": 38,
    "start_time": "2022-08-29T10:15:43.966Z"
   },
   {
    "duration": 1247,
    "start_time": "2022-08-29T11:14:53.727Z"
   },
   {
    "duration": 4,
    "start_time": "2022-08-29T11:14:54.977Z"
   },
   {
    "duration": 410,
    "start_time": "2022-08-29T11:14:54.983Z"
   },
   {
    "duration": 42,
    "start_time": "2022-08-29T11:14:55.395Z"
   },
   {
    "duration": 5,
    "start_time": "2022-08-29T11:14:55.439Z"
   },
   {
    "duration": 16,
    "start_time": "2022-08-29T11:14:55.446Z"
   },
   {
    "duration": 127,
    "start_time": "2022-08-29T11:14:55.464Z"
   },
   {
    "duration": 12,
    "start_time": "2022-08-29T11:14:55.593Z"
   },
   {
    "duration": 78,
    "start_time": "2022-08-29T11:14:55.607Z"
   },
   {
    "duration": 119,
    "start_time": "2022-08-29T11:14:55.688Z"
   },
   {
    "duration": 11,
    "start_time": "2022-08-29T11:14:55.809Z"
   },
   {
    "duration": 19,
    "start_time": "2022-08-29T11:14:55.822Z"
   },
   {
    "duration": 36,
    "start_time": "2022-08-29T11:14:55.842Z"
   },
   {
    "duration": 16,
    "start_time": "2022-08-29T11:14:55.880Z"
   },
   {
    "duration": 85,
    "start_time": "2022-08-29T11:14:55.898Z"
   },
   {
    "duration": 21,
    "start_time": "2022-08-29T11:14:55.984Z"
   },
   {
    "duration": 70,
    "start_time": "2022-08-29T11:14:56.006Z"
   },
   {
    "duration": 67,
    "start_time": "2022-08-29T11:14:56.078Z"
   },
   {
    "duration": 52,
    "start_time": "2022-08-29T11:14:56.147Z"
   },
   {
    "duration": 12,
    "start_time": "2022-08-29T11:14:56.201Z"
   },
   {
    "duration": 54,
    "start_time": "2022-08-29T11:14:56.215Z"
   },
   {
    "duration": 16,
    "start_time": "2022-08-29T11:14:56.271Z"
   },
   {
    "duration": 9,
    "start_time": "2022-08-29T11:14:56.289Z"
   },
   {
    "duration": 5,
    "start_time": "2022-08-29T11:14:56.300Z"
   },
   {
    "duration": 7,
    "start_time": "2022-08-29T11:14:56.307Z"
   },
   {
    "duration": 9,
    "start_time": "2022-08-29T11:14:56.316Z"
   },
   {
    "duration": 49,
    "start_time": "2022-08-29T11:14:56.328Z"
   },
   {
    "duration": 10,
    "start_time": "2022-08-29T11:14:56.383Z"
   },
   {
    "duration": 320,
    "start_time": "2022-08-29T11:14:56.395Z"
   },
   {
    "duration": 33,
    "start_time": "2022-08-29T11:14:56.718Z"
   },
   {
    "duration": 37,
    "start_time": "2022-08-29T11:14:56.754Z"
   },
   {
    "duration": 13,
    "start_time": "2022-08-29T11:14:56.793Z"
   },
   {
    "duration": 66,
    "start_time": "2022-08-29T11:14:56.808Z"
   },
   {
    "duration": 20,
    "start_time": "2022-08-29T11:14:56.876Z"
   },
   {
    "duration": 70,
    "start_time": "2022-08-29T11:14:56.898Z"
   },
   {
    "duration": 112,
    "start_time": "2022-08-29T11:14:56.969Z"
   },
   {
    "duration": 66,
    "start_time": "2022-08-29T11:14:57.083Z"
   },
   {
    "duration": 40,
    "start_time": "2022-08-29T11:14:57.151Z"
   },
   {
    "duration": 276,
    "start_time": "2022-08-29T11:14:57.193Z"
   },
   {
    "duration": 13,
    "start_time": "2022-08-29T11:14:57.471Z"
   },
   {
    "duration": 260,
    "start_time": "2022-08-29T11:14:57.486Z"
   },
   {
    "duration": 25,
    "start_time": "2022-08-29T11:14:57.748Z"
   },
   {
    "duration": 267,
    "start_time": "2022-08-29T11:14:57.774Z"
   },
   {
    "duration": 363,
    "start_time": "2022-08-29T11:14:58.043Z"
   },
   {
    "duration": 316,
    "start_time": "2022-08-29T11:14:58.408Z"
   },
   {
    "duration": 14,
    "start_time": "2022-08-29T11:14:58.727Z"
   },
   {
    "duration": 38,
    "start_time": "2022-08-29T11:14:58.743Z"
   },
   {
    "duration": 11,
    "start_time": "2022-08-29T11:14:58.783Z"
   },
   {
    "duration": 12,
    "start_time": "2022-08-29T11:14:58.795Z"
   }
  ],
  "kernelspec": {
   "display_name": "Python 3 (ipykernel)",
   "language": "python",
   "name": "python3"
  },
  "language_info": {
   "codemirror_mode": {
    "name": "ipython",
    "version": 3
   },
   "file_extension": ".py",
   "mimetype": "text/x-python",
   "name": "python",
   "nbconvert_exporter": "python",
   "pygments_lexer": "ipython3",
   "version": "3.9.12"
  },
  "toc": {
   "base_numbering": 1,
   "nav_menu": {},
   "number_sections": false,
   "sideBar": true,
   "skip_h1_title": true,
   "title_cell": "Table of Contents",
   "title_sidebar": "Contents",
   "toc_cell": false,
   "toc_position": {
    "height": "calc(100% - 180px)",
    "left": "10px",
    "top": "150px",
    "width": "320px"
   },
   "toc_section_display": true,
   "toc_window_display": true
  }
 },
 "nbformat": 4,
 "nbformat_minor": 2
}
