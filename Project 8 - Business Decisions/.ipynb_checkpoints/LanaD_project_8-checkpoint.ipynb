{
 "cells": [
  {
   "cell_type": "markdown",
   "metadata": {},
   "source": [
    "# Project description"
   ]
  },
  {
   "cell_type": "markdown",
   "metadata": {},
   "source": [
    "You are an analyst at a big online store. Together with the marketing department, you've compiled a list of hypotheses that may help boost revenue.\n",
    "You need to prioritize these hypotheses, launch an A/B test, and analyze the results."
   ]
  },
  {
   "cell_type": "markdown",
   "metadata": {},
   "source": [
    "## Part 1. Prioritizing Hypotheses\n",
    "The file `hypotheses_us.csv` contains nine hypotheses on boosting an online store's revenue with Reach, Impact, Confidence, and Effort specified for each.\n",
    "\n",
    "The task is to:\n",
    "- Apply the ICE framework to prioritize hypotheses. Sort them in descending order of priority.\n",
    "- Apply the RICE framework to prioritize hypotheses. Sort them in descending order of priority.\n",
    "- Show how the prioritization of hypotheses changes when you use RICE instead of ICE. Provide an explanation for the changes.\n",
    "\n",
    "\n",
    "## Part 2. A/B Test Analysis\n",
    "You carried out an A/B test and got the results described in the files orders_us.csv and visits_us.csv.\n",
    "\n",
    "**Task**\n",
    "1. Analyze the A/B test:\n",
    "1. Graph cumulative revenue by group. Make conclusions and conjectures.\n",
    "1. Graph cumulative average order size by group. Make conclusions and conjectures.\n",
    "1. Graph the relative difference in cumulative average order size for group B compared with group A. Make conclusions and conjectures.\n",
    "1. Calculate each group's conversion rate as the ratio of orders to the number of visits for each day. Plot the daily conversion rates of the two groups and describe the difference. Draw conclusions and make conjectures.\n",
    "1. Plot a scatter chart of the number of orders per user. Make conclusions and conjectures.\n",
    "1. Calculate the 95th and 99th percentiles for the number of orders per user. Define the point at which a data point becomes an anomaly.\n",
    "1. Plot a scatter chart of order prices. Make conclusions and conjectures.\n",
    "1. Calculate the 95th and 99th percentiles of order prices. Define the point at which a data point becomes an anomaly.\n",
    "1. Find the statistical significance of the difference in conversion between the groups using the raw data. Make conclusions and conjectures.\n",
    "1. Find the statistical significance of the difference in average order size between the groups using the raw data. Make conclusions and conjectures.\n",
    "1. Find the statistical significance of the difference in conversion between the groups using the filtered data. Make conclusions and conjectures.\n",
    "1. Find the statistical significance of the difference in average order size between the groups using the filtered data. Make conclusions and conjectures.\n",
    "1. Make a decision based on the test results. \n",
    "\n",
    "**The possible decisions are:** \n",
    "1. Stop the test, consider one of the groups the leader. \n",
    "2. Stop the test, conclude that there is no difference between the groups. \n",
    "3. Continue the test.\n",
    "\n",
    "**Conclusions**  \n",
    "\n",
    "**Recommendations**"
   ]
  },
  {
   "cell_type": "code",
   "execution_count": 1,
   "metadata": {},
   "outputs": [],
   "source": [
    "import pandas as pd\n",
    "import numpy as np\n",
    "import datetime as dt\n",
    "import math\n",
    "import scipy.stats as stats\n",
    "from matplotlib import pyplot as plt\n",
    "import seaborn as sns"
   ]
  },
  {
   "cell_type": "code",
   "execution_count": 2,
   "metadata": {},
   "outputs": [],
   "source": [
    "def data_info(data):\n",
    "    print('-'*65)\n",
    "    print('\\033[1m INFO: \\033[0m ')\n",
    "    print(' ')\n",
    "    display( data.info(memory_usage='deep'))\n",
    "    print('-'*65)\n",
    "    print('\\033[1m HEAD: \\033[0m ')\n",
    "    display( data.head(10))\n",
    "    print('-'*65)\n",
    "    print('\\033[1m DESCRIBE: \\033[0m ')\n",
    "    print(' ')\n",
    "    display( data.describe())\n",
    "    print('-'*65)\n",
    "    print('\\033[1m MISSING VALUES: \\033[0m ')\n",
    "    print(' ')\n",
    "    display( data.isna().sum())\n",
    "    print('-'*65)\n",
    "    print('\\033[1m DUPLICATED: \\033[0m')\n",
    "    print('We have {} duplicated rows!'.format(data.duplicated().sum()))\n",
    "\n",
    "#for convenience, display a table of all columns and convert the data to the format of three decimal places\n",
    "#pd.set_option('display.max_columns', None)\n",
    "pd.set_option('max_colwidth', 1)\n",
    "pd.options.display.float_format = '{:,.3f}'.format"
   ]
  },
  {
   "cell_type": "markdown",
   "metadata": {},
   "source": [
    "## Description the data"
   ]
  },
  {
   "cell_type": "markdown",
   "metadata": {},
   "source": [
    "### Hypotheses"
   ]
  },
  {
   "cell_type": "code",
   "execution_count": 3,
   "metadata": {},
   "outputs": [],
   "source": [
    "try:\n",
    "    hypotheses = pd.read_csv('hypotheses_us.csv', sep=';')\n",
    "    \n",
    "except:\n",
    "    hypotheses = pd.read_csv('/datasets/hypotheses_us.csv', sep=';')"
   ]
  },
  {
   "cell_type": "code",
   "execution_count": 4,
   "metadata": {},
   "outputs": [
    {
     "name": "stdout",
     "output_type": "stream",
     "text": [
      "-----------------------------------------------------------------\n",
      "\u001b[1m INFO: \u001b[0m \n",
      " \n",
      "<class 'pandas.core.frame.DataFrame'>\n",
      "RangeIndex: 9 entries, 0 to 8\n",
      "Data columns (total 5 columns):\n",
      " #   Column      Non-Null Count  Dtype \n",
      "---  ------      --------------  ----- \n",
      " 0   Hypothesis  9 non-null      object\n",
      " 1   Reach       9 non-null      int64 \n",
      " 2   Impact      9 non-null      int64 \n",
      " 3   Confidence  9 non-null      int64 \n",
      " 4   Effort      9 non-null      int64 \n",
      "dtypes: int64(4), object(1)\n",
      "memory usage: 1.6 KB\n"
     ]
    },
    {
     "data": {
      "text/plain": [
       "None"
      ]
     },
     "metadata": {},
     "output_type": "display_data"
    },
    {
     "name": "stdout",
     "output_type": "stream",
     "text": [
      "-----------------------------------------------------------------\n",
      "\u001b[1m HEAD: \u001b[0m \n"
     ]
    },
    {
     "data": {
      "text/html": [
       "<div>\n",
       "<style scoped>\n",
       "    .dataframe tbody tr th:only-of-type {\n",
       "        vertical-align: middle;\n",
       "    }\n",
       "\n",
       "    .dataframe tbody tr th {\n",
       "        vertical-align: top;\n",
       "    }\n",
       "\n",
       "    .dataframe thead th {\n",
       "        text-align: right;\n",
       "    }\n",
       "</style>\n",
       "<table border=\"1\" class=\"dataframe\">\n",
       "  <thead>\n",
       "    <tr style=\"text-align: right;\">\n",
       "      <th></th>\n",
       "      <th>Hypothesis</th>\n",
       "      <th>Reach</th>\n",
       "      <th>Impact</th>\n",
       "      <th>Confidence</th>\n",
       "      <th>Effort</th>\n",
       "    </tr>\n",
       "  </thead>\n",
       "  <tbody>\n",
       "    <tr>\n",
       "      <th>0</th>\n",
       "      <td>Add two new channels for attracting traffic. This will bring 30% more users</td>\n",
       "      <td>3</td>\n",
       "      <td>10</td>\n",
       "      <td>8</td>\n",
       "      <td>6</td>\n",
       "    </tr>\n",
       "    <tr>\n",
       "      <th>1</th>\n",
       "      <td>Launch your own delivery service. This will shorten delivery time</td>\n",
       "      <td>2</td>\n",
       "      <td>5</td>\n",
       "      <td>4</td>\n",
       "      <td>10</td>\n",
       "    </tr>\n",
       "    <tr>\n",
       "      <th>2</th>\n",
       "      <td>Add product recommendation blocks to the store's site. This will increase conversion and average purchase size</td>\n",
       "      <td>8</td>\n",
       "      <td>3</td>\n",
       "      <td>7</td>\n",
       "      <td>3</td>\n",
       "    </tr>\n",
       "    <tr>\n",
       "      <th>3</th>\n",
       "      <td>Change the category structure. This will increase conversion since users will find the products they want more quickly</td>\n",
       "      <td>8</td>\n",
       "      <td>3</td>\n",
       "      <td>3</td>\n",
       "      <td>8</td>\n",
       "    </tr>\n",
       "    <tr>\n",
       "      <th>4</th>\n",
       "      <td>Change the background color on the main page. This will increase user engagement</td>\n",
       "      <td>3</td>\n",
       "      <td>1</td>\n",
       "      <td>1</td>\n",
       "      <td>1</td>\n",
       "    </tr>\n",
       "    <tr>\n",
       "      <th>5</th>\n",
       "      <td>Add a customer review page. This will increase the number of orders</td>\n",
       "      <td>3</td>\n",
       "      <td>2</td>\n",
       "      <td>2</td>\n",
       "      <td>3</td>\n",
       "    </tr>\n",
       "    <tr>\n",
       "      <th>6</th>\n",
       "      <td>Show banners with current offers and sales on the main page. This will boost conversion</td>\n",
       "      <td>5</td>\n",
       "      <td>3</td>\n",
       "      <td>8</td>\n",
       "      <td>3</td>\n",
       "    </tr>\n",
       "    <tr>\n",
       "      <th>7</th>\n",
       "      <td>Add a subscription form to all the main pages. This will help you compile a mailing list</td>\n",
       "      <td>10</td>\n",
       "      <td>7</td>\n",
       "      <td>8</td>\n",
       "      <td>5</td>\n",
       "    </tr>\n",
       "    <tr>\n",
       "      <th>8</th>\n",
       "      <td>Launch a promotion that gives users discounts on their birthdays</td>\n",
       "      <td>1</td>\n",
       "      <td>9</td>\n",
       "      <td>9</td>\n",
       "      <td>5</td>\n",
       "    </tr>\n",
       "  </tbody>\n",
       "</table>\n",
       "</div>"
      ],
      "text/plain": [
       "                                                                                                               Hypothesis  \\\n",
       "0  Add two new channels for attracting traffic. This will bring 30% more users                                              \n",
       "1  Launch your own delivery service. This will shorten delivery time                                                        \n",
       "2  Add product recommendation blocks to the store's site. This will increase conversion and average purchase size           \n",
       "3  Change the category structure. This will increase conversion since users will find the products they want more quickly   \n",
       "4  Change the background color on the main page. This will increase user engagement                                         \n",
       "5  Add a customer review page. This will increase the number of orders                                                      \n",
       "6  Show banners with current offers and sales on the main page. This will boost conversion                                  \n",
       "7  Add a subscription form to all the main pages. This will help you compile a mailing list                                 \n",
       "8  Launch a promotion that gives users discounts on their birthdays                                                         \n",
       "\n",
       "   Reach  Impact  Confidence  Effort  \n",
       "0  3      10      8           6       \n",
       "1  2      5       4           10      \n",
       "2  8      3       7           3       \n",
       "3  8      3       3           8       \n",
       "4  3      1       1           1       \n",
       "5  3      2       2           3       \n",
       "6  5      3       8           3       \n",
       "7  10     7       8           5       \n",
       "8  1      9       9           5       "
      ]
     },
     "metadata": {},
     "output_type": "display_data"
    },
    {
     "name": "stdout",
     "output_type": "stream",
     "text": [
      "-----------------------------------------------------------------\n",
      "\u001b[1m DESCRIBE: \u001b[0m \n",
      " \n"
     ]
    },
    {
     "data": {
      "text/html": [
       "<div>\n",
       "<style scoped>\n",
       "    .dataframe tbody tr th:only-of-type {\n",
       "        vertical-align: middle;\n",
       "    }\n",
       "\n",
       "    .dataframe tbody tr th {\n",
       "        vertical-align: top;\n",
       "    }\n",
       "\n",
       "    .dataframe thead th {\n",
       "        text-align: right;\n",
       "    }\n",
       "</style>\n",
       "<table border=\"1\" class=\"dataframe\">\n",
       "  <thead>\n",
       "    <tr style=\"text-align: right;\">\n",
       "      <th></th>\n",
       "      <th>Reach</th>\n",
       "      <th>Impact</th>\n",
       "      <th>Confidence</th>\n",
       "      <th>Effort</th>\n",
       "    </tr>\n",
       "  </thead>\n",
       "  <tbody>\n",
       "    <tr>\n",
       "      <th>count</th>\n",
       "      <td>9.000</td>\n",
       "      <td>9.000</td>\n",
       "      <td>9.000</td>\n",
       "      <td>9.000</td>\n",
       "    </tr>\n",
       "    <tr>\n",
       "      <th>mean</th>\n",
       "      <td>4.778</td>\n",
       "      <td>4.778</td>\n",
       "      <td>5.556</td>\n",
       "      <td>4.889</td>\n",
       "    </tr>\n",
       "    <tr>\n",
       "      <th>std</th>\n",
       "      <td>3.153</td>\n",
       "      <td>3.193</td>\n",
       "      <td>3.046</td>\n",
       "      <td>2.804</td>\n",
       "    </tr>\n",
       "    <tr>\n",
       "      <th>min</th>\n",
       "      <td>1.000</td>\n",
       "      <td>1.000</td>\n",
       "      <td>1.000</td>\n",
       "      <td>1.000</td>\n",
       "    </tr>\n",
       "    <tr>\n",
       "      <th>25%</th>\n",
       "      <td>3.000</td>\n",
       "      <td>3.000</td>\n",
       "      <td>3.000</td>\n",
       "      <td>3.000</td>\n",
       "    </tr>\n",
       "    <tr>\n",
       "      <th>50%</th>\n",
       "      <td>3.000</td>\n",
       "      <td>3.000</td>\n",
       "      <td>7.000</td>\n",
       "      <td>5.000</td>\n",
       "    </tr>\n",
       "    <tr>\n",
       "      <th>75%</th>\n",
       "      <td>8.000</td>\n",
       "      <td>7.000</td>\n",
       "      <td>8.000</td>\n",
       "      <td>6.000</td>\n",
       "    </tr>\n",
       "    <tr>\n",
       "      <th>max</th>\n",
       "      <td>10.000</td>\n",
       "      <td>10.000</td>\n",
       "      <td>9.000</td>\n",
       "      <td>10.000</td>\n",
       "    </tr>\n",
       "  </tbody>\n",
       "</table>\n",
       "</div>"
      ],
      "text/plain": [
       "       Reach  Impact  Confidence  Effort\n",
       "count 9.000  9.000   9.000       9.000  \n",
       "mean  4.778  4.778   5.556       4.889  \n",
       "std   3.153  3.193   3.046       2.804  \n",
       "min   1.000  1.000   1.000       1.000  \n",
       "25%   3.000  3.000   3.000       3.000  \n",
       "50%   3.000  3.000   7.000       5.000  \n",
       "75%   8.000  7.000   8.000       6.000  \n",
       "max   10.000 10.000  9.000       10.000 "
      ]
     },
     "metadata": {},
     "output_type": "display_data"
    },
    {
     "name": "stdout",
     "output_type": "stream",
     "text": [
      "-----------------------------------------------------------------\n",
      "\u001b[1m MISSING VALUES: \u001b[0m \n",
      " \n"
     ]
    },
    {
     "data": {
      "text/plain": [
       "Hypothesis    0\n",
       "Reach         0\n",
       "Impact        0\n",
       "Confidence    0\n",
       "Effort        0\n",
       "dtype: int64"
      ]
     },
     "metadata": {},
     "output_type": "display_data"
    },
    {
     "name": "stdout",
     "output_type": "stream",
     "text": [
      "-----------------------------------------------------------------\n",
      "\u001b[1m DUPLICATED: \u001b[0m\n",
      "We have 0 duplicated rows!\n"
     ]
    }
   ],
   "source": [
    "data_info(hypotheses)"
   ]
  },
  {
   "cell_type": "markdown",
   "metadata": {},
   "source": [
    "The `hypotheses_us` table:\n",
    "- `Hypotheses` — brief descriptions of the hypotheses\n",
    "- `Reach` — user reach, on a scale of one to ten\n",
    "- `Impact` — impact on users, on a scale of one to ten\n",
    "- `Confidence` — confidence in the hypothesis, on a scale of one to ten\n",
    "- `Effort` — the resources required to test a hypothesis, on a scale of one to ten. The higher the Effort value, the more resource-intensive the test."
   ]
  },
  {
   "cell_type": "markdown",
   "metadata": {},
   "source": [
    "### Orders"
   ]
  },
  {
   "cell_type": "code",
   "execution_count": 5,
   "metadata": {},
   "outputs": [],
   "source": [
    "try:\n",
    "    orders = pd.read_csv('orders_us.csv',  parse_dates = ['date'])\n",
    "    \n",
    "except:\n",
    "    orders = pd.read_csv('/datasets/orders_us.csv',  parse_dates = ['date'])"
   ]
  },
  {
   "cell_type": "markdown",
   "metadata": {},
   "source": [
    "The `orders_us` table:\n",
    "- `transactionId` — order identifier\n",
    "- `visitorId` — identifier of the user who placed the order\n",
    "- `date` — of the order\n",
    "- `revenue` — from the order\n",
    "- `group` — the A/B test group that the user belongs to\n"
   ]
  },
  {
   "cell_type": "code",
   "execution_count": 6,
   "metadata": {
    "scrolled": false
   },
   "outputs": [
    {
     "name": "stdout",
     "output_type": "stream",
     "text": [
      "-----------------------------------------------------------------\n",
      "\u001b[1m INFO: \u001b[0m \n",
      " \n",
      "<class 'pandas.core.frame.DataFrame'>\n",
      "RangeIndex: 1197 entries, 0 to 1196\n",
      "Data columns (total 5 columns):\n",
      " #   Column         Non-Null Count  Dtype         \n",
      "---  ------         --------------  -----         \n",
      " 0   transactionId  1197 non-null   int64         \n",
      " 1   visitorId      1197 non-null   int64         \n",
      " 2   date           1197 non-null   datetime64[ns]\n",
      " 3   revenue        1197 non-null   float64       \n",
      " 4   group          1197 non-null   object        \n",
      "dtypes: datetime64[ns](1), float64(1), int64(2), object(1)\n",
      "memory usage: 105.3 KB\n"
     ]
    },
    {
     "data": {
      "text/plain": [
       "None"
      ]
     },
     "metadata": {},
     "output_type": "display_data"
    },
    {
     "name": "stdout",
     "output_type": "stream",
     "text": [
      "-----------------------------------------------------------------\n",
      "\u001b[1m HEAD: \u001b[0m \n"
     ]
    },
    {
     "data": {
      "text/html": [
       "<div>\n",
       "<style scoped>\n",
       "    .dataframe tbody tr th:only-of-type {\n",
       "        vertical-align: middle;\n",
       "    }\n",
       "\n",
       "    .dataframe tbody tr th {\n",
       "        vertical-align: top;\n",
       "    }\n",
       "\n",
       "    .dataframe thead th {\n",
       "        text-align: right;\n",
       "    }\n",
       "</style>\n",
       "<table border=\"1\" class=\"dataframe\">\n",
       "  <thead>\n",
       "    <tr style=\"text-align: right;\">\n",
       "      <th></th>\n",
       "      <th>transactionId</th>\n",
       "      <th>visitorId</th>\n",
       "      <th>date</th>\n",
       "      <th>revenue</th>\n",
       "      <th>group</th>\n",
       "    </tr>\n",
       "  </thead>\n",
       "  <tbody>\n",
       "    <tr>\n",
       "      <th>0</th>\n",
       "      <td>3667963787</td>\n",
       "      <td>3312258926</td>\n",
       "      <td>2019-08-15</td>\n",
       "      <td>30.400</td>\n",
       "      <td>B</td>\n",
       "    </tr>\n",
       "    <tr>\n",
       "      <th>1</th>\n",
       "      <td>2804400009</td>\n",
       "      <td>3642806036</td>\n",
       "      <td>2019-08-15</td>\n",
       "      <td>15.200</td>\n",
       "      <td>B</td>\n",
       "    </tr>\n",
       "    <tr>\n",
       "      <th>2</th>\n",
       "      <td>2961555356</td>\n",
       "      <td>4069496402</td>\n",
       "      <td>2019-08-15</td>\n",
       "      <td>10.200</td>\n",
       "      <td>A</td>\n",
       "    </tr>\n",
       "    <tr>\n",
       "      <th>3</th>\n",
       "      <td>3797467345</td>\n",
       "      <td>1196621759</td>\n",
       "      <td>2019-08-15</td>\n",
       "      <td>155.100</td>\n",
       "      <td>B</td>\n",
       "    </tr>\n",
       "    <tr>\n",
       "      <th>4</th>\n",
       "      <td>2282983706</td>\n",
       "      <td>2322279887</td>\n",
       "      <td>2019-08-15</td>\n",
       "      <td>40.500</td>\n",
       "      <td>B</td>\n",
       "    </tr>\n",
       "    <tr>\n",
       "      <th>5</th>\n",
       "      <td>182168103</td>\n",
       "      <td>935554773</td>\n",
       "      <td>2019-08-15</td>\n",
       "      <td>35.000</td>\n",
       "      <td>B</td>\n",
       "    </tr>\n",
       "    <tr>\n",
       "      <th>6</th>\n",
       "      <td>398296753</td>\n",
       "      <td>2900797465</td>\n",
       "      <td>2019-08-15</td>\n",
       "      <td>30.600</td>\n",
       "      <td>B</td>\n",
       "    </tr>\n",
       "    <tr>\n",
       "      <th>7</th>\n",
       "      <td>2626614568</td>\n",
       "      <td>78758296</td>\n",
       "      <td>2019-08-15</td>\n",
       "      <td>20.100</td>\n",
       "      <td>A</td>\n",
       "    </tr>\n",
       "    <tr>\n",
       "      <th>8</th>\n",
       "      <td>1576988021</td>\n",
       "      <td>295230930</td>\n",
       "      <td>2019-08-15</td>\n",
       "      <td>215.900</td>\n",
       "      <td>A</td>\n",
       "    </tr>\n",
       "    <tr>\n",
       "      <th>9</th>\n",
       "      <td>1506739906</td>\n",
       "      <td>1882260405</td>\n",
       "      <td>2019-08-15</td>\n",
       "      <td>30.500</td>\n",
       "      <td>B</td>\n",
       "    </tr>\n",
       "  </tbody>\n",
       "</table>\n",
       "</div>"
      ],
      "text/plain": [
       "   transactionId   visitorId       date  revenue group\n",
       "0  3667963787     3312258926 2019-08-15 30.400    B   \n",
       "1  2804400009     3642806036 2019-08-15 15.200    B   \n",
       "2  2961555356     4069496402 2019-08-15 10.200    A   \n",
       "3  3797467345     1196621759 2019-08-15 155.100   B   \n",
       "4  2282983706     2322279887 2019-08-15 40.500    B   \n",
       "5  182168103      935554773  2019-08-15 35.000    B   \n",
       "6  398296753      2900797465 2019-08-15 30.600    B   \n",
       "7  2626614568     78758296   2019-08-15 20.100    A   \n",
       "8  1576988021     295230930  2019-08-15 215.900   A   \n",
       "9  1506739906     1882260405 2019-08-15 30.500    B   "
      ]
     },
     "metadata": {},
     "output_type": "display_data"
    },
    {
     "name": "stdout",
     "output_type": "stream",
     "text": [
      "-----------------------------------------------------------------\n",
      "\u001b[1m DESCRIBE: \u001b[0m \n",
      " \n"
     ]
    },
    {
     "data": {
      "text/html": [
       "<div>\n",
       "<style scoped>\n",
       "    .dataframe tbody tr th:only-of-type {\n",
       "        vertical-align: middle;\n",
       "    }\n",
       "\n",
       "    .dataframe tbody tr th {\n",
       "        vertical-align: top;\n",
       "    }\n",
       "\n",
       "    .dataframe thead th {\n",
       "        text-align: right;\n",
       "    }\n",
       "</style>\n",
       "<table border=\"1\" class=\"dataframe\">\n",
       "  <thead>\n",
       "    <tr style=\"text-align: right;\">\n",
       "      <th></th>\n",
       "      <th>transactionId</th>\n",
       "      <th>visitorId</th>\n",
       "      <th>revenue</th>\n",
       "    </tr>\n",
       "  </thead>\n",
       "  <tbody>\n",
       "    <tr>\n",
       "      <th>count</th>\n",
       "      <td>1,197.000</td>\n",
       "      <td>1,197.000</td>\n",
       "      <td>1,197.000</td>\n",
       "    </tr>\n",
       "    <tr>\n",
       "      <th>mean</th>\n",
       "      <td>2,155,621,385.530</td>\n",
       "      <td>2,165,960,143.099</td>\n",
       "      <td>131.492</td>\n",
       "    </tr>\n",
       "    <tr>\n",
       "      <th>std</th>\n",
       "      <td>1,229,084,904.760</td>\n",
       "      <td>1,236,014,192.147</td>\n",
       "      <td>603.005</td>\n",
       "    </tr>\n",
       "    <tr>\n",
       "      <th>min</th>\n",
       "      <td>1,062,393.000</td>\n",
       "      <td>5,114,589.000</td>\n",
       "      <td>5.000</td>\n",
       "    </tr>\n",
       "    <tr>\n",
       "      <th>25%</th>\n",
       "      <td>1,166,775,572.000</td>\n",
       "      <td>1,111,826,046.000</td>\n",
       "      <td>20.800</td>\n",
       "    </tr>\n",
       "    <tr>\n",
       "      <th>50%</th>\n",
       "      <td>2,145,193,898.000</td>\n",
       "      <td>2,217,984,702.000</td>\n",
       "      <td>50.200</td>\n",
       "    </tr>\n",
       "    <tr>\n",
       "      <th>75%</th>\n",
       "      <td>3,237,740,112.000</td>\n",
       "      <td>3,177,606,451.000</td>\n",
       "      <td>130.400</td>\n",
       "    </tr>\n",
       "    <tr>\n",
       "      <th>max</th>\n",
       "      <td>4,293,855,558.000</td>\n",
       "      <td>4,283,872,382.000</td>\n",
       "      <td>19,920.400</td>\n",
       "    </tr>\n",
       "  </tbody>\n",
       "</table>\n",
       "</div>"
      ],
      "text/plain": [
       "          transactionId         visitorId    revenue\n",
       "count 1,197.000         1,197.000         1,197.000 \n",
       "mean  2,155,621,385.530 2,165,960,143.099 131.492   \n",
       "std   1,229,084,904.760 1,236,014,192.147 603.005   \n",
       "min   1,062,393.000     5,114,589.000     5.000     \n",
       "25%   1,166,775,572.000 1,111,826,046.000 20.800    \n",
       "50%   2,145,193,898.000 2,217,984,702.000 50.200    \n",
       "75%   3,237,740,112.000 3,177,606,451.000 130.400   \n",
       "max   4,293,855,558.000 4,283,872,382.000 19,920.400"
      ]
     },
     "metadata": {},
     "output_type": "display_data"
    },
    {
     "name": "stdout",
     "output_type": "stream",
     "text": [
      "-----------------------------------------------------------------\n",
      "\u001b[1m MISSING VALUES: \u001b[0m \n",
      " \n"
     ]
    },
    {
     "data": {
      "text/plain": [
       "transactionId    0\n",
       "visitorId        0\n",
       "date             0\n",
       "revenue          0\n",
       "group            0\n",
       "dtype: int64"
      ]
     },
     "metadata": {},
     "output_type": "display_data"
    },
    {
     "name": "stdout",
     "output_type": "stream",
     "text": [
      "-----------------------------------------------------------------\n",
      "\u001b[1m DUPLICATED: \u001b[0m\n",
      "We have 0 duplicated rows!\n"
     ]
    }
   ],
   "source": [
    "data_info(orders)"
   ]
  },
  {
   "cell_type": "code",
   "execution_count": 7,
   "metadata": {},
   "outputs": [],
   "source": [
    "#lowercase column names \n",
    "orders.columns = ['transaction_id', 'visitor_id', 'date', 'revenue', 'group']"
   ]
  },
  {
   "cell_type": "code",
   "execution_count": 8,
   "metadata": {},
   "outputs": [
    {
     "name": "stdout",
     "output_type": "stream",
     "text": [
      "Users in group A: 503\n",
      "Users in group B: 586\n"
     ]
    }
   ],
   "source": [
    "A_group_users = orders.query('group == \"A\"')['visitor_id'].unique()\n",
    "B_group_users = orders.query('group == \"B\"')['visitor_id'].unique()\n",
    "print('Users in group A:', len(A_group_users))\n",
    "print('Users in group B:', len(B_group_users))"
   ]
  },
  {
   "cell_type": "code",
   "execution_count": 9,
   "metadata": {},
   "outputs": [
    {
     "name": "stdout",
     "output_type": "stream",
     "text": [
      "Number of users presented in both groups: 58\n",
      "Percentage of users presented in both groups to all users: 5.63%\n"
     ]
    }
   ],
   "source": [
    "#checking whether there are users presented in both A and B group\n",
    "\n",
    "both_list_id = np.intersect1d(orders.query('group == \"A\"')['visitor_id'].unique(),\n",
    "                              orders.query('group == \"B\"')['visitor_id'].unique())\n",
    "\n",
    "print('Number of users presented in both groups:', len(both_list_id))\n",
    "print(f'Percentage of users presented in both groups to all users: {len(both_list_id)/len(orders.visitor_id.unique()) :.2%}')\n"
   ]
  },
  {
   "cell_type": "code",
   "execution_count": 10,
   "metadata": {},
   "outputs": [
    {
     "data": {
      "text/plain": [
       "array([   8300375,  199603092,  232979603,  237748145,  276558944,\n",
       "        351125977,  393266494,  457167155,  471551937,  477780734,\n",
       "        818047933,  963407295, 1230306981, 1294878855, 1316129916,\n",
       "       1333886533, 1404934699, 1602967004, 1614305549, 1648269707,\n",
       "       1668030113, 1738359350, 1801183820, 1959144690, 2038680547,\n",
       "       2044997962, 2378935119, 2458001652, 2579882178, 2587333274,\n",
       "       2600415354, 2654030115, 2686716486, 2712142231, 2716752286,\n",
       "       2780786433, 2927087541, 2949041841, 2954449915, 3062433592,\n",
       "       3202540741, 3234906277, 3656415546, 3717692402, 3766097110,\n",
       "       3803269165, 3891541246, 3941795274, 3951559397, 3957174400,\n",
       "       3963646447, 3972127743, 3984495233, 4069496402, 4120364173,\n",
       "       4186807279, 4256040402, 4266935830])"
      ]
     },
     "execution_count": 10,
     "metadata": {},
     "output_type": "execute_result"
    }
   ],
   "source": [
    "both_list_id"
   ]
  },
  {
   "cell_type": "markdown",
   "metadata": {},
   "source": [
    "Let's create another database without users who are included in both groups."
   ]
  },
  {
   "cell_type": "code",
   "execution_count": 11,
   "metadata": {},
   "outputs": [
    {
     "data": {
      "text/plain": [
       "0"
      ]
     },
     "execution_count": 11,
     "metadata": {},
     "output_type": "execute_result"
    }
   ],
   "source": [
    "both_list_id = both_list_id.tolist()\n",
    "orders_new = orders[~orders.visitor_id.isin(both_list_id)]\n",
    "\n",
    "#check data after cleaning\n",
    "len(np.intersect1d(orders_new.query('group == \"A\"')['visitor_id'].unique(),\n",
    "                   orders_new.query('group == \"B\"')['visitor_id'].unique()))"
   ]
  },
  {
   "cell_type": "markdown",
   "metadata": {},
   "source": [
    "**Important**  \n",
    "\n",
    "We see that about 6% of users are in both groups.\n",
    "We don't know how it happened or what kind of users they are.\n",
    "If we remove these users from the `order` data, we will mess up the results because we cannot identify the users in the `visit` data. Which in turn affects our conversion rate in the future.\n",
    "\n",
    "We created this option, which allowed us to later check how deleting users affects the results. And we want to assure that the changes occur within the limits of statistical error and do not drastically affect the results of proving hypotheses."
   ]
  },
  {
   "cell_type": "markdown",
   "metadata": {},
   "source": [
    "### Visits"
   ]
  },
  {
   "cell_type": "code",
   "execution_count": 12,
   "metadata": {},
   "outputs": [],
   "source": [
    "try:\n",
    "    visits = pd.read_csv('visits_us.csv',  parse_dates = ['date'])\n",
    "    \n",
    "except:\n",
    "    visits = pd.read_csv('/datasets/visits_us.csv',  parse_dates = ['date'])"
   ]
  },
  {
   "cell_type": "markdown",
   "metadata": {},
   "source": [
    "The `visits_us` table:\n",
    "- `date` — date\n",
    "- `group` — A/B test group\n",
    "- `visits` — the number of visits on the date specified in the A/B test group specified"
   ]
  },
  {
   "cell_type": "code",
   "execution_count": 13,
   "metadata": {},
   "outputs": [
    {
     "name": "stdout",
     "output_type": "stream",
     "text": [
      "-----------------------------------------------------------------\n",
      "\u001b[1m INFO: \u001b[0m \n",
      " \n",
      "<class 'pandas.core.frame.DataFrame'>\n",
      "RangeIndex: 62 entries, 0 to 61\n",
      "Data columns (total 3 columns):\n",
      " #   Column  Non-Null Count  Dtype         \n",
      "---  ------  --------------  -----         \n",
      " 0   date    62 non-null     datetime64[ns]\n",
      " 1   group   62 non-null     object        \n",
      " 2   visits  62 non-null     int64         \n",
      "dtypes: datetime64[ns](1), int64(1), object(1)\n",
      "memory usage: 4.6 KB\n"
     ]
    },
    {
     "data": {
      "text/plain": [
       "None"
      ]
     },
     "metadata": {},
     "output_type": "display_data"
    },
    {
     "name": "stdout",
     "output_type": "stream",
     "text": [
      "-----------------------------------------------------------------\n",
      "\u001b[1m HEAD: \u001b[0m \n"
     ]
    },
    {
     "data": {
      "text/html": [
       "<div>\n",
       "<style scoped>\n",
       "    .dataframe tbody tr th:only-of-type {\n",
       "        vertical-align: middle;\n",
       "    }\n",
       "\n",
       "    .dataframe tbody tr th {\n",
       "        vertical-align: top;\n",
       "    }\n",
       "\n",
       "    .dataframe thead th {\n",
       "        text-align: right;\n",
       "    }\n",
       "</style>\n",
       "<table border=\"1\" class=\"dataframe\">\n",
       "  <thead>\n",
       "    <tr style=\"text-align: right;\">\n",
       "      <th></th>\n",
       "      <th>date</th>\n",
       "      <th>group</th>\n",
       "      <th>visits</th>\n",
       "    </tr>\n",
       "  </thead>\n",
       "  <tbody>\n",
       "    <tr>\n",
       "      <th>0</th>\n",
       "      <td>2019-08-01</td>\n",
       "      <td>A</td>\n",
       "      <td>719</td>\n",
       "    </tr>\n",
       "    <tr>\n",
       "      <th>1</th>\n",
       "      <td>2019-08-02</td>\n",
       "      <td>A</td>\n",
       "      <td>619</td>\n",
       "    </tr>\n",
       "    <tr>\n",
       "      <th>2</th>\n",
       "      <td>2019-08-03</td>\n",
       "      <td>A</td>\n",
       "      <td>507</td>\n",
       "    </tr>\n",
       "    <tr>\n",
       "      <th>3</th>\n",
       "      <td>2019-08-04</td>\n",
       "      <td>A</td>\n",
       "      <td>717</td>\n",
       "    </tr>\n",
       "    <tr>\n",
       "      <th>4</th>\n",
       "      <td>2019-08-05</td>\n",
       "      <td>A</td>\n",
       "      <td>756</td>\n",
       "    </tr>\n",
       "    <tr>\n",
       "      <th>5</th>\n",
       "      <td>2019-08-06</td>\n",
       "      <td>A</td>\n",
       "      <td>667</td>\n",
       "    </tr>\n",
       "    <tr>\n",
       "      <th>6</th>\n",
       "      <td>2019-08-07</td>\n",
       "      <td>A</td>\n",
       "      <td>644</td>\n",
       "    </tr>\n",
       "    <tr>\n",
       "      <th>7</th>\n",
       "      <td>2019-08-08</td>\n",
       "      <td>A</td>\n",
       "      <td>610</td>\n",
       "    </tr>\n",
       "    <tr>\n",
       "      <th>8</th>\n",
       "      <td>2019-08-09</td>\n",
       "      <td>A</td>\n",
       "      <td>617</td>\n",
       "    </tr>\n",
       "    <tr>\n",
       "      <th>9</th>\n",
       "      <td>2019-08-10</td>\n",
       "      <td>A</td>\n",
       "      <td>406</td>\n",
       "    </tr>\n",
       "  </tbody>\n",
       "</table>\n",
       "</div>"
      ],
      "text/plain": [
       "        date group  visits\n",
       "0 2019-08-01  A     719   \n",
       "1 2019-08-02  A     619   \n",
       "2 2019-08-03  A     507   \n",
       "3 2019-08-04  A     717   \n",
       "4 2019-08-05  A     756   \n",
       "5 2019-08-06  A     667   \n",
       "6 2019-08-07  A     644   \n",
       "7 2019-08-08  A     610   \n",
       "8 2019-08-09  A     617   \n",
       "9 2019-08-10  A     406   "
      ]
     },
     "metadata": {},
     "output_type": "display_data"
    },
    {
     "name": "stdout",
     "output_type": "stream",
     "text": [
      "-----------------------------------------------------------------\n",
      "\u001b[1m DESCRIBE: \u001b[0m \n",
      " \n"
     ]
    },
    {
     "data": {
      "text/html": [
       "<div>\n",
       "<style scoped>\n",
       "    .dataframe tbody tr th:only-of-type {\n",
       "        vertical-align: middle;\n",
       "    }\n",
       "\n",
       "    .dataframe tbody tr th {\n",
       "        vertical-align: top;\n",
       "    }\n",
       "\n",
       "    .dataframe thead th {\n",
       "        text-align: right;\n",
       "    }\n",
       "</style>\n",
       "<table border=\"1\" class=\"dataframe\">\n",
       "  <thead>\n",
       "    <tr style=\"text-align: right;\">\n",
       "      <th></th>\n",
       "      <th>visits</th>\n",
       "    </tr>\n",
       "  </thead>\n",
       "  <tbody>\n",
       "    <tr>\n",
       "      <th>count</th>\n",
       "      <td>62.000</td>\n",
       "    </tr>\n",
       "    <tr>\n",
       "      <th>mean</th>\n",
       "      <td>607.290</td>\n",
       "    </tr>\n",
       "    <tr>\n",
       "      <th>std</th>\n",
       "      <td>114.401</td>\n",
       "    </tr>\n",
       "    <tr>\n",
       "      <th>min</th>\n",
       "      <td>361.000</td>\n",
       "    </tr>\n",
       "    <tr>\n",
       "      <th>25%</th>\n",
       "      <td>534.000</td>\n",
       "    </tr>\n",
       "    <tr>\n",
       "      <th>50%</th>\n",
       "      <td>624.500</td>\n",
       "    </tr>\n",
       "    <tr>\n",
       "      <th>75%</th>\n",
       "      <td>710.500</td>\n",
       "    </tr>\n",
       "    <tr>\n",
       "      <th>max</th>\n",
       "      <td>770.000</td>\n",
       "    </tr>\n",
       "  </tbody>\n",
       "</table>\n",
       "</div>"
      ],
      "text/plain": [
       "       visits\n",
       "count 62.000 \n",
       "mean  607.290\n",
       "std   114.401\n",
       "min   361.000\n",
       "25%   534.000\n",
       "50%   624.500\n",
       "75%   710.500\n",
       "max   770.000"
      ]
     },
     "metadata": {},
     "output_type": "display_data"
    },
    {
     "name": "stdout",
     "output_type": "stream",
     "text": [
      "-----------------------------------------------------------------\n",
      "\u001b[1m MISSING VALUES: \u001b[0m \n",
      " \n"
     ]
    },
    {
     "data": {
      "text/plain": [
       "date      0\n",
       "group     0\n",
       "visits    0\n",
       "dtype: int64"
      ]
     },
     "metadata": {},
     "output_type": "display_data"
    },
    {
     "name": "stdout",
     "output_type": "stream",
     "text": [
      "-----------------------------------------------------------------\n",
      "\u001b[1m DUPLICATED: \u001b[0m\n",
      "We have 0 duplicated rows!\n"
     ]
    }
   ],
   "source": [
    "data_info(visits)"
   ]
  },
  {
   "cell_type": "markdown",
   "metadata": {},
   "source": [
    "<div class=\"alert alert-block alert-success\">\n",
    "<b>Reviewer's comment v1:</b>\n",
    "    \n",
    "Great that you have a very detailed data preprocessing part.\n",
    "\n",
    "In general, the situation with the same users in both groups is unpleasant and on a real project it is worth asking the one who collected the data what went wrong. In this case, there are not so many users, so they can also be left as is.\n"
   ]
  },
  {
   "cell_type": "markdown",
   "metadata": {},
   "source": [
    "## Part 1. Prioritizing Hypotheses"
   ]
  },
  {
   "cell_type": "markdown",
   "metadata": {},
   "source": [
    "The file `hypotheses_us.csv` contains nine hypotheses on boosting an online store's revenue with Reach, Impact, Confidence, and Effort specified for each.\n",
    "The task is to:\n",
    "- Apply the ICE framework to prioritize hypotheses. Sort them in descending order of priority.\n",
    "- Apply the RICE framework to prioritize hypotheses. Sort them in descending order of priority.\n",
    "- Show how the prioritization of hypotheses changes when you use RICE instead of ICE. Provide an explanation for the changes."
   ]
  },
  {
   "cell_type": "code",
   "execution_count": 14,
   "metadata": {
    "scrolled": true
   },
   "outputs": [
    {
     "data": {
      "text/html": [
       "<div>\n",
       "<style scoped>\n",
       "    .dataframe tbody tr th:only-of-type {\n",
       "        vertical-align: middle;\n",
       "    }\n",
       "\n",
       "    .dataframe tbody tr th {\n",
       "        vertical-align: top;\n",
       "    }\n",
       "\n",
       "    .dataframe thead th {\n",
       "        text-align: right;\n",
       "    }\n",
       "</style>\n",
       "<table border=\"1\" class=\"dataframe\">\n",
       "  <thead>\n",
       "    <tr style=\"text-align: right;\">\n",
       "      <th></th>\n",
       "      <th>hypothesis</th>\n",
       "      <th>reach</th>\n",
       "      <th>impact</th>\n",
       "      <th>confidence</th>\n",
       "      <th>effort</th>\n",
       "    </tr>\n",
       "  </thead>\n",
       "  <tbody>\n",
       "    <tr>\n",
       "      <th>0</th>\n",
       "      <td>Add two new channels for attracting traffic. This will bring 30% more users</td>\n",
       "      <td>3</td>\n",
       "      <td>10</td>\n",
       "      <td>8</td>\n",
       "      <td>6</td>\n",
       "    </tr>\n",
       "    <tr>\n",
       "      <th>1</th>\n",
       "      <td>Launch your own delivery service. This will shorten delivery time</td>\n",
       "      <td>2</td>\n",
       "      <td>5</td>\n",
       "      <td>4</td>\n",
       "      <td>10</td>\n",
       "    </tr>\n",
       "    <tr>\n",
       "      <th>2</th>\n",
       "      <td>Add product recommendation blocks to the store's site. This will increase conversion and average purchase size</td>\n",
       "      <td>8</td>\n",
       "      <td>3</td>\n",
       "      <td>7</td>\n",
       "      <td>3</td>\n",
       "    </tr>\n",
       "    <tr>\n",
       "      <th>3</th>\n",
       "      <td>Change the category structure. This will increase conversion since users will find the products they want more quickly</td>\n",
       "      <td>8</td>\n",
       "      <td>3</td>\n",
       "      <td>3</td>\n",
       "      <td>8</td>\n",
       "    </tr>\n",
       "    <tr>\n",
       "      <th>4</th>\n",
       "      <td>Change the background color on the main page. This will increase user engagement</td>\n",
       "      <td>3</td>\n",
       "      <td>1</td>\n",
       "      <td>1</td>\n",
       "      <td>1</td>\n",
       "    </tr>\n",
       "    <tr>\n",
       "      <th>5</th>\n",
       "      <td>Add a customer review page. This will increase the number of orders</td>\n",
       "      <td>3</td>\n",
       "      <td>2</td>\n",
       "      <td>2</td>\n",
       "      <td>3</td>\n",
       "    </tr>\n",
       "    <tr>\n",
       "      <th>6</th>\n",
       "      <td>Show banners with current offers and sales on the main page. This will boost conversion</td>\n",
       "      <td>5</td>\n",
       "      <td>3</td>\n",
       "      <td>8</td>\n",
       "      <td>3</td>\n",
       "    </tr>\n",
       "    <tr>\n",
       "      <th>7</th>\n",
       "      <td>Add a subscription form to all the main pages. This will help you compile a mailing list</td>\n",
       "      <td>10</td>\n",
       "      <td>7</td>\n",
       "      <td>8</td>\n",
       "      <td>5</td>\n",
       "    </tr>\n",
       "    <tr>\n",
       "      <th>8</th>\n",
       "      <td>Launch a promotion that gives users discounts on their birthdays</td>\n",
       "      <td>1</td>\n",
       "      <td>9</td>\n",
       "      <td>9</td>\n",
       "      <td>5</td>\n",
       "    </tr>\n",
       "  </tbody>\n",
       "</table>\n",
       "</div>"
      ],
      "text/plain": [
       "                                                                                                               hypothesis  \\\n",
       "0  Add two new channels for attracting traffic. This will bring 30% more users                                              \n",
       "1  Launch your own delivery service. This will shorten delivery time                                                        \n",
       "2  Add product recommendation blocks to the store's site. This will increase conversion and average purchase size           \n",
       "3  Change the category structure. This will increase conversion since users will find the products they want more quickly   \n",
       "4  Change the background color on the main page. This will increase user engagement                                         \n",
       "5  Add a customer review page. This will increase the number of orders                                                      \n",
       "6  Show banners with current offers and sales on the main page. This will boost conversion                                  \n",
       "7  Add a subscription form to all the main pages. This will help you compile a mailing list                                 \n",
       "8  Launch a promotion that gives users discounts on their birthdays                                                         \n",
       "\n",
       "   reach  impact  confidence  effort  \n",
       "0  3      10      8           6       \n",
       "1  2      5       4           10      \n",
       "2  8      3       7           3       \n",
       "3  8      3       3           8       \n",
       "4  3      1       1           1       \n",
       "5  3      2       2           3       \n",
       "6  5      3       8           3       \n",
       "7  10     7       8           5       \n",
       "8  1      9       9           5       "
      ]
     },
     "execution_count": 14,
     "metadata": {},
     "output_type": "execute_result"
    }
   ],
   "source": [
    "hypotheses.columns = map(str.lower, hypotheses.columns)\n",
    "hypotheses"
   ]
  },
  {
   "cell_type": "markdown",
   "metadata": {},
   "source": [
    "**`Hypothesis`**  \n",
    "\n",
    "0. Add two new channels for attracting traffic. This will bring 30% more users\n",
    "1. Launch your own delivery service. This will shorten delivery time\n",
    "2. Add product recommendation blocks to the store's site. This will increase conversion and average purchase size\n",
    "3. Change the category structure. This will increase conversion since users will find the products they want more quickly\n",
    "4. Change the background color on the main page. This will increase user engagement\n",
    "5. Add a customer review page. This will increase the number of orders\n",
    "6. Show banners with current offers and sales on the main page. This will boost conversion\n",
    "7. Add a subscription form to all the main pages. This will help you compile a mailing list\n",
    "8. Launch a promotion that gives users discounts on their birthdays"
   ]
  },
  {
   "cell_type": "code",
   "execution_count": 15,
   "metadata": {},
   "outputs": [
    {
     "data": {
      "image/png": "[encoded data removed]",
      "text/plain": [
       "<Figure size 1152x576 with 1 Axes>"
      ]
     },
     "metadata": {
      "needs_background": "light"
     },
     "output_type": "display_data"
    }
   ],
   "source": [
    "\n",
    "ax=hypotheses.plot(kind=\"bar\", figsize=(16,8), colormap = 'Dark2', grid=True)\n",
    "ax.set_ylabel('Priority')\n",
    "plt.title('Hypothesis parameters on a 10-point scale', fontsize = 14)\n",
    "plt.xlabel('Hypothesis Number')\n",
    "ax.legend(bbox_to_anchor=(1, 1))\n",
    "plt.show()"
   ]
  },
  {
   "cell_type": "code",
   "execution_count": 16,
   "metadata": {},
   "outputs": [
    {
     "data": {
      "text/html": [
       "<div>\n",
       "<style scoped>\n",
       "    .dataframe tbody tr th:only-of-type {\n",
       "        vertical-align: middle;\n",
       "    }\n",
       "\n",
       "    .dataframe tbody tr th {\n",
       "        vertical-align: top;\n",
       "    }\n",
       "\n",
       "    .dataframe thead th {\n",
       "        text-align: right;\n",
       "    }\n",
       "</style>\n",
       "<table border=\"1\" class=\"dataframe\">\n",
       "  <thead>\n",
       "    <tr style=\"text-align: right;\">\n",
       "      <th></th>\n",
       "      <th>hypothesis</th>\n",
       "      <th>ICE</th>\n",
       "    </tr>\n",
       "  </thead>\n",
       "  <tbody>\n",
       "    <tr>\n",
       "      <th>8</th>\n",
       "      <td>Launch a promotion that gives users discounts on their birthdays</td>\n",
       "      <td>16.200</td>\n",
       "    </tr>\n",
       "    <tr>\n",
       "      <th>0</th>\n",
       "      <td>Add two new channels for attracting traffic. This will bring 30% more users</td>\n",
       "      <td>13.333</td>\n",
       "    </tr>\n",
       "    <tr>\n",
       "      <th>7</th>\n",
       "      <td>Add a subscription form to all the main pages. This will help you compile a mailing list</td>\n",
       "      <td>11.200</td>\n",
       "    </tr>\n",
       "    <tr>\n",
       "      <th>6</th>\n",
       "      <td>Show banners with current offers and sales on the main page. This will boost conversion</td>\n",
       "      <td>8.000</td>\n",
       "    </tr>\n",
       "    <tr>\n",
       "      <th>2</th>\n",
       "      <td>Add product recommendation blocks to the store's site. This will increase conversion and average purchase size</td>\n",
       "      <td>7.000</td>\n",
       "    </tr>\n",
       "    <tr>\n",
       "      <th>1</th>\n",
       "      <td>Launch your own delivery service. This will shorten delivery time</td>\n",
       "      <td>2.000</td>\n",
       "    </tr>\n",
       "    <tr>\n",
       "      <th>5</th>\n",
       "      <td>Add a customer review page. This will increase the number of orders</td>\n",
       "      <td>1.333</td>\n",
       "    </tr>\n",
       "    <tr>\n",
       "      <th>3</th>\n",
       "      <td>Change the category structure. This will increase conversion since users will find the products they want more quickly</td>\n",
       "      <td>1.125</td>\n",
       "    </tr>\n",
       "    <tr>\n",
       "      <th>4</th>\n",
       "      <td>Change the background color on the main page. This will increase user engagement</td>\n",
       "      <td>1.000</td>\n",
       "    </tr>\n",
       "  </tbody>\n",
       "</table>\n",
       "</div>"
      ],
      "text/plain": [
       "                                                                                                               hypothesis  \\\n",
       "8  Launch a promotion that gives users discounts on their birthdays                                                         \n",
       "0  Add two new channels for attracting traffic. This will bring 30% more users                                              \n",
       "7  Add a subscription form to all the main pages. This will help you compile a mailing list                                 \n",
       "6  Show banners with current offers and sales on the main page. This will boost conversion                                  \n",
       "2  Add product recommendation blocks to the store's site. This will increase conversion and average purchase size           \n",
       "1  Launch your own delivery service. This will shorten delivery time                                                        \n",
       "5  Add a customer review page. This will increase the number of orders                                                      \n",
       "3  Change the category structure. This will increase conversion since users will find the products they want more quickly   \n",
       "4  Change the background color on the main page. This will increase user engagement                                         \n",
       "\n",
       "     ICE  \n",
       "8 16.200  \n",
       "0 13.333  \n",
       "7 11.200  \n",
       "6 8.000   \n",
       "2 7.000   \n",
       "1 2.000   \n",
       "5 1.333   \n",
       "3 1.125   \n",
       "4 1.000   "
      ]
     },
     "execution_count": 16,
     "metadata": {},
     "output_type": "execute_result"
    }
   ],
   "source": [
    "#adding new column with ICE score\n",
    "hypotheses['ICE'] = (hypotheses['impact']*hypotheses['confidence'])/hypotheses['effort']\n",
    "hypotheses[['hypothesis','ICE']].sort_values(by='ICE', ascending=False)"
   ]
  },
  {
   "cell_type": "code",
   "execution_count": 17,
   "metadata": {},
   "outputs": [
    {
     "data": {
      "text/plain": [
       "Text(0.5, 0, 'ICE Priority')"
      ]
     },
     "execution_count": 17,
     "metadata": {},
     "output_type": "execute_result"
    },
    {
     "data": {
      "text/plain": [
       "<Figure size 1440x720 with 0 Axes>"
      ]
     },
     "metadata": {},
     "output_type": "display_data"
    },
    {
     "data": {
      "image/png": "[encoded data removed]",
      "text/plain": [
       "<Figure size 432x288 with 1 Axes>"
      ]
     },
     "metadata": {},
     "output_type": "display_data"
    }
   ],
   "source": [
    "ax = hypotheses[['hypothesis', 'ICE']].set_index('hypothesis').sort_values('ICE', ascending=True)\n",
    "plt.figure(figsize = (20, 10))\n",
    "sns.set_style('darkgrid')\n",
    "ax.plot(kind='barh').set_title('Prioritizing hypotheses')\n",
    "plt.xlabel('ICE Priority')"
   ]
  },
  {
   "cell_type": "markdown",
   "metadata": {},
   "source": [
    "**The most promising hypotheses for ICE:**\n",
    " \n",
    "- 8. Launch a promotion that gives users discounts on their birthdays\n",
    "- 0. Add two new channels for attracting traffic. This will bring 30% more users\n",
    "- 7. Add a subscription form to all the main pages. This will help you compile a mailing list\n",
    " \n",
    "**The most low-priority ICE hypotheses are:** \n",
    " \n",
    "- 5. Add a customer review page. This will increase the number of orders\n",
    "- 3. Change the category structure. This will increase conversion since users will find the products they want more quickly\n",
    "- 4. Change the background color on the main page. This will increase user engagement\n",
    "\n"
   ]
  },
  {
   "cell_type": "code",
   "execution_count": 18,
   "metadata": {},
   "outputs": [
    {
     "data": {
      "text/html": [
       "<div>\n",
       "<style scoped>\n",
       "    .dataframe tbody tr th:only-of-type {\n",
       "        vertical-align: middle;\n",
       "    }\n",
       "\n",
       "    .dataframe tbody tr th {\n",
       "        vertical-align: top;\n",
       "    }\n",
       "\n",
       "    .dataframe thead th {\n",
       "        text-align: right;\n",
       "    }\n",
       "</style>\n",
       "<table border=\"1\" class=\"dataframe\">\n",
       "  <thead>\n",
       "    <tr style=\"text-align: right;\">\n",
       "      <th></th>\n",
       "      <th>hypothesis</th>\n",
       "      <th>RICE</th>\n",
       "    </tr>\n",
       "  </thead>\n",
       "  <tbody>\n",
       "    <tr>\n",
       "      <th>7</th>\n",
       "      <td>Add a subscription form to all the main pages. This will help you compile a mailing list</td>\n",
       "      <td>112.000</td>\n",
       "    </tr>\n",
       "    <tr>\n",
       "      <th>2</th>\n",
       "      <td>Add product recommendation blocks to the store's site. This will increase conversion and average purchase size</td>\n",
       "      <td>56.000</td>\n",
       "    </tr>\n",
       "    <tr>\n",
       "      <th>0</th>\n",
       "      <td>Add two new channels for attracting traffic. This will bring 30% more users</td>\n",
       "      <td>40.000</td>\n",
       "    </tr>\n",
       "    <tr>\n",
       "      <th>6</th>\n",
       "      <td>Show banners with current offers and sales on the main page. This will boost conversion</td>\n",
       "      <td>40.000</td>\n",
       "    </tr>\n",
       "    <tr>\n",
       "      <th>8</th>\n",
       "      <td>Launch a promotion that gives users discounts on their birthdays</td>\n",
       "      <td>16.200</td>\n",
       "    </tr>\n",
       "    <tr>\n",
       "      <th>3</th>\n",
       "      <td>Change the category structure. This will increase conversion since users will find the products they want more quickly</td>\n",
       "      <td>9.000</td>\n",
       "    </tr>\n",
       "    <tr>\n",
       "      <th>1</th>\n",
       "      <td>Launch your own delivery service. This will shorten delivery time</td>\n",
       "      <td>4.000</td>\n",
       "    </tr>\n",
       "    <tr>\n",
       "      <th>5</th>\n",
       "      <td>Add a customer review page. This will increase the number of orders</td>\n",
       "      <td>4.000</td>\n",
       "    </tr>\n",
       "    <tr>\n",
       "      <th>4</th>\n",
       "      <td>Change the background color on the main page. This will increase user engagement</td>\n",
       "      <td>3.000</td>\n",
       "    </tr>\n",
       "  </tbody>\n",
       "</table>\n",
       "</div>"
      ],
      "text/plain": [
       "                                                                                                               hypothesis  \\\n",
       "7  Add a subscription form to all the main pages. This will help you compile a mailing list                                 \n",
       "2  Add product recommendation blocks to the store's site. This will increase conversion and average purchase size           \n",
       "0  Add two new channels for attracting traffic. This will bring 30% more users                                              \n",
       "6  Show banners with current offers and sales on the main page. This will boost conversion                                  \n",
       "8  Launch a promotion that gives users discounts on their birthdays                                                         \n",
       "3  Change the category structure. This will increase conversion since users will find the products they want more quickly   \n",
       "1  Launch your own delivery service. This will shorten delivery time                                                        \n",
       "5  Add a customer review page. This will increase the number of orders                                                      \n",
       "4  Change the background color on the main page. This will increase user engagement                                         \n",
       "\n",
       "     RICE  \n",
       "7 112.000  \n",
       "2 56.000   \n",
       "0 40.000   \n",
       "6 40.000   \n",
       "8 16.200   \n",
       "3 9.000    \n",
       "1 4.000    \n",
       "5 4.000    \n",
       "4 3.000    "
      ]
     },
     "execution_count": 18,
     "metadata": {},
     "output_type": "execute_result"
    }
   ],
   "source": [
    "#adding new column with RICE score\n",
    "hypotheses['RICE'] = (hypotheses['reach']*hypotheses['impact']*hypotheses['confidence'])/hypotheses['effort']\n",
    "\n",
    "hypotheses[['hypothesis','RICE']].sort_values(by='RICE', ascending=False)"
   ]
  },
  {
   "cell_type": "code",
   "execution_count": 19,
   "metadata": {},
   "outputs": [
    {
     "data": {
      "text/plain": [
       "Text(0.5, 0, 'RICE Priority')"
      ]
     },
     "execution_count": 19,
     "metadata": {},
     "output_type": "execute_result"
    },
    {
     "data": {
      "text/plain": [
       "<Figure size 1440x720 with 0 Axes>"
      ]
     },
     "metadata": {},
     "output_type": "display_data"
    },
    {
     "data": {
      "image/png": "[encoded data removed]",
      "text/plain": [
       "<Figure size 432x288 with 1 Axes>"
      ]
     },
     "metadata": {},
     "output_type": "display_data"
    }
   ],
   "source": [
    "ax = hypotheses[['hypothesis', 'RICE']].set_index('hypothesis').sort_values('RICE', ascending=True)\n",
    "plt.figure(figsize = (20, 10))\n",
    "sns.set_style('darkgrid')\n",
    "ax.plot(kind='barh').set_title('Prioritizing hypotheses')\n",
    "plt.xlabel('RICE Priority')"
   ]
  },
  {
   "cell_type": "markdown",
   "metadata": {},
   "source": [
    "**The most promising hypotheses for RICE:**\n",
    " \n",
    "- 7. Add a subscription form to all the main pages. This will help you compile a mailing list\n",
    "- 2. Add product recommendation blocks to the store's site. This will increase conversion and average purchase size\n",
    "- 0. Add two new channels for attracting traffic. This will bring 30% more users\n",
    "- 6. Show banners with current offers and sales on the main page. This will boost conversion\t\n",
    "\n",
    "**The most low-priority RICE hypotheses are:** \n",
    " \n",
    "- 1. Launch your own delivery service. This will shorten delivery time\t\n",
    "- 5. Add a customer review page. This will increase the number of orders\n",
    "- 4. Change the background color on the main page. This will increase user engagement\n"
   ]
  },
  {
   "cell_type": "code",
   "execution_count": 20,
   "metadata": {},
   "outputs": [
    {
     "data": {
      "text/html": [
       "<div>\n",
       "<style scoped>\n",
       "    .dataframe tbody tr th:only-of-type {\n",
       "        vertical-align: middle;\n",
       "    }\n",
       "\n",
       "    .dataframe tbody tr th {\n",
       "        vertical-align: top;\n",
       "    }\n",
       "\n",
       "    .dataframe thead th {\n",
       "        text-align: right;\n",
       "    }\n",
       "</style>\n",
       "<table border=\"1\" class=\"dataframe\">\n",
       "  <thead>\n",
       "    <tr style=\"text-align: right;\">\n",
       "      <th></th>\n",
       "      <th>ICE</th>\n",
       "      <th>RICE</th>\n",
       "    </tr>\n",
       "  </thead>\n",
       "  <tbody>\n",
       "    <tr>\n",
       "      <th>0</th>\n",
       "      <td>133.333</td>\n",
       "      <td>40.000</td>\n",
       "    </tr>\n",
       "    <tr>\n",
       "      <th>1</th>\n",
       "      <td>20.000</td>\n",
       "      <td>4.000</td>\n",
       "    </tr>\n",
       "    <tr>\n",
       "      <th>2</th>\n",
       "      <td>70.000</td>\n",
       "      <td>56.000</td>\n",
       "    </tr>\n",
       "    <tr>\n",
       "      <th>3</th>\n",
       "      <td>11.250</td>\n",
       "      <td>9.000</td>\n",
       "    </tr>\n",
       "    <tr>\n",
       "      <th>4</th>\n",
       "      <td>10.000</td>\n",
       "      <td>3.000</td>\n",
       "    </tr>\n",
       "    <tr>\n",
       "      <th>5</th>\n",
       "      <td>13.333</td>\n",
       "      <td>4.000</td>\n",
       "    </tr>\n",
       "    <tr>\n",
       "      <th>6</th>\n",
       "      <td>80.000</td>\n",
       "      <td>40.000</td>\n",
       "    </tr>\n",
       "    <tr>\n",
       "      <th>7</th>\n",
       "      <td>112.000</td>\n",
       "      <td>112.000</td>\n",
       "    </tr>\n",
       "    <tr>\n",
       "      <th>8</th>\n",
       "      <td>162.000</td>\n",
       "      <td>16.200</td>\n",
       "    </tr>\n",
       "  </tbody>\n",
       "</table>\n",
       "</div>"
      ],
      "text/plain": [
       "      ICE    RICE\n",
       "0 133.333 40.000 \n",
       "1 20.000  4.000  \n",
       "2 70.000  56.000 \n",
       "3 11.250  9.000  \n",
       "4 10.000  3.000  \n",
       "5 13.333  4.000  \n",
       "6 80.000  40.000 \n",
       "7 112.000 112.000\n",
       "8 162.000 16.200 "
      ]
     },
     "execution_count": 20,
     "metadata": {},
     "output_type": "execute_result"
    }
   ],
   "source": [
    "# stabilizing hypothesis scores ICE & RICE for the visualizing\n",
    "\n",
    "hypotheses_ICE_RICE = hypotheses[['ICE','RICE']].copy()\n",
    "hypotheses_ICE_RICE['ICE'] = hypotheses_ICE_RICE['ICE']*10\n",
    "hypotheses_ICE_RICE"
   ]
  },
  {
   "cell_type": "code",
   "execution_count": 21,
   "metadata": {},
   "outputs": [
    {
     "data": {
      "image/png": "[encoded data removed]",
      "text/plain": [
       "<Figure size 1152x576 with 1 Axes>"
      ]
     },
     "metadata": {},
     "output_type": "display_data"
    }
   ],
   "source": [
    "#visualizing ICE and RICE scores for a list of hypotheses\n",
    "\n",
    "ax=hypotheses_ICE_RICE.plot(kind=\"bar\", figsize=(16,8), colormap = 'Dark2', grid=True)\n",
    "ax.set_ylabel('Priority')\n",
    "plt.title('Stabilized hypothesis priority table by ICE & RICE', fontsize = 14)\n",
    "plt.xticks([0, 1, 2, 3, 4, 5, 6, 7, 8], \n",
    "           ['new channels', 'delivery service', 'product recommends', 'category structure', 'background color',\n",
    "            'customer review', 'offers & sales', 'subscription form', 'birthday discounts'], \n",
    "           rotation=25)\n",
    "plt.xlabel('Hypothesis')\n",
    "ax.legend(bbox_to_anchor=(1, 1))\n",
    "plt.show()"
   ]
  },
  {
   "cell_type": "markdown",
   "metadata": {},
   "source": [
    "**Conclusions**\n",
    "\n",
    "The results of ICE and RICE prioritization differ from each other. This happens because the formulas are different - one takes into account reach, and the other does not.  \n",
    "\n",
    "- The largest audience reach indicator raised the hypothesis #7 of adding a subscription form to all main pages from the third place in priority (ICE score) to the first place (RICE score). According to the stabilized graph, this hypothesis is the `highest priority`;\n",
    "\n",
    "- The top-priority ICE (Influence, Confidence, and Efforts) was hypothesis #8 - the launch of a birthday discount promotion. But as we can see from the graph, it has the lowest user reach. In this regard, according to the RICE framework, this hypothesis dropped to fifth place in terms of priority;\n",
    "\n",
    "- The low reach and high impact with high efforts moved the hypothesis #0 of adding two new traffic acquisition channels from second (ICE score) to third place (RICE score) in the priority list;\n",
    "\n",
    "- High reach and confidence rates brought out hypotheses about adding product recommendation blocks to the online store website and displaying banners with current promotions and sales on the main page in the list of the most promising ones.\n",
    "\n",
    "**Thus, taking into score the reach of the audience and the factors previously taken - efforts and impact into score, the most promising hypotheses are:**\n",
    " \n",
    "- 7. Add a subscription form to all the main pages. This will help you compile a mailing list\n",
    "- 2. Add product recommendation blocks to the store's site. This will increase conversion and average purchase size\n",
    "- 6. Show banners with current offers and sales on the main page. This will boost conversion\t\n",
    "- 0. Add two new channels for attracting traffic. This will bring 30% more users\n",
    "\n"
   ]
  },
  {
   "cell_type": "markdown",
   "metadata": {},
   "source": [
    "## Part 2. A/B Test Analysis"
   ]
  },
  {
   "cell_type": "markdown",
   "metadata": {},
   "source": [
    "### Graph cumulative revenue by group. "
   ]
  },
  {
   "cell_type": "code",
   "execution_count": 22,
   "metadata": {},
   "outputs": [
    {
     "data": {
      "text/html": [
       "<div>\n",
       "<style scoped>\n",
       "    .dataframe tbody tr th:only-of-type {\n",
       "        vertical-align: middle;\n",
       "    }\n",
       "\n",
       "    .dataframe tbody tr th {\n",
       "        vertical-align: top;\n",
       "    }\n",
       "\n",
       "    .dataframe thead th {\n",
       "        text-align: right;\n",
       "    }\n",
       "</style>\n",
       "<table border=\"1\" class=\"dataframe\">\n",
       "  <thead>\n",
       "    <tr style=\"text-align: right;\">\n",
       "      <th></th>\n",
       "      <th>transaction_id</th>\n",
       "      <th>visitor_id</th>\n",
       "      <th>date</th>\n",
       "      <th>revenue</th>\n",
       "      <th>group</th>\n",
       "    </tr>\n",
       "  </thead>\n",
       "  <tbody>\n",
       "    <tr>\n",
       "      <th>0</th>\n",
       "      <td>3667963787</td>\n",
       "      <td>3312258926</td>\n",
       "      <td>2019-08-15</td>\n",
       "      <td>30.400</td>\n",
       "      <td>B</td>\n",
       "    </tr>\n",
       "    <tr>\n",
       "      <th>1</th>\n",
       "      <td>2804400009</td>\n",
       "      <td>3642806036</td>\n",
       "      <td>2019-08-15</td>\n",
       "      <td>15.200</td>\n",
       "      <td>B</td>\n",
       "    </tr>\n",
       "    <tr>\n",
       "      <th>2</th>\n",
       "      <td>2961555356</td>\n",
       "      <td>4069496402</td>\n",
       "      <td>2019-08-15</td>\n",
       "      <td>10.200</td>\n",
       "      <td>A</td>\n",
       "    </tr>\n",
       "    <tr>\n",
       "      <th>3</th>\n",
       "      <td>3797467345</td>\n",
       "      <td>1196621759</td>\n",
       "      <td>2019-08-15</td>\n",
       "      <td>155.100</td>\n",
       "      <td>B</td>\n",
       "    </tr>\n",
       "    <tr>\n",
       "      <th>4</th>\n",
       "      <td>2282983706</td>\n",
       "      <td>2322279887</td>\n",
       "      <td>2019-08-15</td>\n",
       "      <td>40.500</td>\n",
       "      <td>B</td>\n",
       "    </tr>\n",
       "  </tbody>\n",
       "</table>\n",
       "</div>"
      ],
      "text/plain": [
       "   transaction_id  visitor_id       date  revenue group\n",
       "0  3667963787      3312258926 2019-08-15 30.400    B   \n",
       "1  2804400009      3642806036 2019-08-15 15.200    B   \n",
       "2  2961555356      4069496402 2019-08-15 10.200    A   \n",
       "3  3797467345      1196621759 2019-08-15 155.100   B   \n",
       "4  2282983706      2322279887 2019-08-15 40.500    B   "
      ]
     },
     "execution_count": 22,
     "metadata": {},
     "output_type": "execute_result"
    }
   ],
   "source": [
    "orders.head()"
   ]
  },
  {
   "cell_type": "code",
   "execution_count": 23,
   "metadata": {},
   "outputs": [
    {
     "data": {
      "text/html": [
       "<div>\n",
       "<style scoped>\n",
       "    .dataframe tbody tr th:only-of-type {\n",
       "        vertical-align: middle;\n",
       "    }\n",
       "\n",
       "    .dataframe tbody tr th {\n",
       "        vertical-align: top;\n",
       "    }\n",
       "\n",
       "    .dataframe thead th {\n",
       "        text-align: right;\n",
       "    }\n",
       "</style>\n",
       "<table border=\"1\" class=\"dataframe\">\n",
       "  <thead>\n",
       "    <tr style=\"text-align: right;\">\n",
       "      <th></th>\n",
       "      <th>date</th>\n",
       "      <th>group</th>\n",
       "    </tr>\n",
       "  </thead>\n",
       "  <tbody>\n",
       "    <tr>\n",
       "      <th>0</th>\n",
       "      <td>2019-08-15</td>\n",
       "      <td>B</td>\n",
       "    </tr>\n",
       "    <tr>\n",
       "      <th>2</th>\n",
       "      <td>2019-08-15</td>\n",
       "      <td>A</td>\n",
       "    </tr>\n",
       "    <tr>\n",
       "      <th>45</th>\n",
       "      <td>2019-08-16</td>\n",
       "      <td>A</td>\n",
       "    </tr>\n",
       "    <tr>\n",
       "      <th>47</th>\n",
       "      <td>2019-08-16</td>\n",
       "      <td>B</td>\n",
       "    </tr>\n",
       "    <tr>\n",
       "      <th>55</th>\n",
       "      <td>2019-08-01</td>\n",
       "      <td>A</td>\n",
       "    </tr>\n",
       "  </tbody>\n",
       "</table>\n",
       "</div>"
      ],
      "text/plain": [
       "         date group\n",
       "0  2019-08-15  B   \n",
       "2  2019-08-15  A   \n",
       "45 2019-08-16  A   \n",
       "47 2019-08-16  B   \n",
       "55 2019-08-01  A   "
      ]
     },
     "execution_count": 23,
     "metadata": {},
     "output_type": "execute_result"
    }
   ],
   "source": [
    "# building an array with unique paired date-group values \n",
    "dates_groups = orders[['date','group']].drop_duplicates() \n",
    "dates_groups.head()"
   ]
  },
  {
   "cell_type": "code",
   "execution_count": 24,
   "metadata": {},
   "outputs": [
    {
     "data": {
      "text/html": [
       "<div>\n",
       "<style scoped>\n",
       "    .dataframe tbody tr th:only-of-type {\n",
       "        vertical-align: middle;\n",
       "    }\n",
       "\n",
       "    .dataframe tbody tr th {\n",
       "        vertical-align: top;\n",
       "    }\n",
       "\n",
       "    .dataframe thead th {\n",
       "        text-align: right;\n",
       "    }\n",
       "</style>\n",
       "<table border=\"1\" class=\"dataframe\">\n",
       "  <thead>\n",
       "    <tr style=\"text-align: right;\">\n",
       "      <th></th>\n",
       "      <th>date</th>\n",
       "      <th>group</th>\n",
       "      <th>transaction_id</th>\n",
       "      <th>visitor_id</th>\n",
       "      <th>revenue</th>\n",
       "    </tr>\n",
       "  </thead>\n",
       "  <tbody>\n",
       "    <tr>\n",
       "      <th>55</th>\n",
       "      <td>2019-08-01</td>\n",
       "      <td>A</td>\n",
       "      <td>24</td>\n",
       "      <td>20</td>\n",
       "      <td>2,356.800</td>\n",
       "    </tr>\n",
       "    <tr>\n",
       "      <th>66</th>\n",
       "      <td>2019-08-01</td>\n",
       "      <td>B</td>\n",
       "      <td>21</td>\n",
       "      <td>20</td>\n",
       "      <td>1,620.000</td>\n",
       "    </tr>\n",
       "    <tr>\n",
       "      <th>175</th>\n",
       "      <td>2019-08-02</td>\n",
       "      <td>A</td>\n",
       "      <td>44</td>\n",
       "      <td>38</td>\n",
       "      <td>3,860.300</td>\n",
       "    </tr>\n",
       "    <tr>\n",
       "      <th>173</th>\n",
       "      <td>2019-08-02</td>\n",
       "      <td>B</td>\n",
       "      <td>45</td>\n",
       "      <td>43</td>\n",
       "      <td>4,243.800</td>\n",
       "    </tr>\n",
       "    <tr>\n",
       "      <th>291</th>\n",
       "      <td>2019-08-03</td>\n",
       "      <td>A</td>\n",
       "      <td>68</td>\n",
       "      <td>62</td>\n",
       "      <td>5,675.500</td>\n",
       "    </tr>\n",
       "  </tbody>\n",
       "</table>\n",
       "</div>"
      ],
      "text/plain": [
       "          date group  transaction_id  visitor_id   revenue\n",
       "55  2019-08-01  A     24              20         2,356.800\n",
       "66  2019-08-01  B     21              20         1,620.000\n",
       "175 2019-08-02  A     44              38         3,860.300\n",
       "173 2019-08-02  B     45              43         4,243.800\n",
       "291 2019-08-03  A     68              62         5,675.500"
      ]
     },
     "execution_count": 24,
     "metadata": {},
     "output_type": "execute_result"
    }
   ],
   "source": [
    "#aggregate cumulative daily data on orders\n",
    "orders_agg = dates_groups.apply(lambda x: orders[np.logical_and(orders['date'] <= x['date'], \n",
    "                                                                orders['group'] == x['group'])]\n",
    "                                .agg({'date': 'max', 'group': 'max', 'transaction_id': pd.Series.nunique,\n",
    "                                      'visitor_id': pd.Series.nunique, 'revenue': 'sum'}), \n",
    "                                axis=1).sort_values(by=['date','group'])\n",
    "\n",
    "orders_agg.head()"
   ]
  },
  {
   "cell_type": "code",
   "execution_count": 25,
   "metadata": {},
   "outputs": [
    {
     "data": {
      "text/html": [
       "<div>\n",
       "<style scoped>\n",
       "    .dataframe tbody tr th:only-of-type {\n",
       "        vertical-align: middle;\n",
       "    }\n",
       "\n",
       "    .dataframe tbody tr th {\n",
       "        vertical-align: top;\n",
       "    }\n",
       "\n",
       "    .dataframe thead th {\n",
       "        text-align: right;\n",
       "    }\n",
       "</style>\n",
       "<table border=\"1\" class=\"dataframe\">\n",
       "  <thead>\n",
       "    <tr style=\"text-align: right;\">\n",
       "      <th></th>\n",
       "      <th>date</th>\n",
       "      <th>group</th>\n",
       "      <th>visits</th>\n",
       "    </tr>\n",
       "  </thead>\n",
       "  <tbody>\n",
       "    <tr>\n",
       "      <th>55</th>\n",
       "      <td>2019-08-01</td>\n",
       "      <td>A</td>\n",
       "      <td>719</td>\n",
       "    </tr>\n",
       "    <tr>\n",
       "      <th>66</th>\n",
       "      <td>2019-08-01</td>\n",
       "      <td>B</td>\n",
       "      <td>713</td>\n",
       "    </tr>\n",
       "    <tr>\n",
       "      <th>175</th>\n",
       "      <td>2019-08-02</td>\n",
       "      <td>A</td>\n",
       "      <td>1338</td>\n",
       "    </tr>\n",
       "    <tr>\n",
       "      <th>173</th>\n",
       "      <td>2019-08-02</td>\n",
       "      <td>B</td>\n",
       "      <td>1294</td>\n",
       "    </tr>\n",
       "    <tr>\n",
       "      <th>291</th>\n",
       "      <td>2019-08-03</td>\n",
       "      <td>A</td>\n",
       "      <td>1845</td>\n",
       "    </tr>\n",
       "  </tbody>\n",
       "</table>\n",
       "</div>"
      ],
      "text/plain": [
       "          date group  visits\n",
       "55  2019-08-01  A     719   \n",
       "66  2019-08-01  B     713   \n",
       "175 2019-08-02  A     1338  \n",
       "173 2019-08-02  B     1294  \n",
       "291 2019-08-03  A     1845  "
      ]
     },
     "execution_count": 25,
     "metadata": {},
     "output_type": "execute_result"
    }
   ],
   "source": [
    "#aggregate cumulative daily data on visits\n",
    "visits_agg = dates_groups.apply(lambda x: visits[np.logical_and(visits['date'] <= x['date'], \n",
    "                                                                    visits['group'] == x['group'])]\n",
    "                                  .agg({'date': 'max', 'group': 'max', 'visits': 'sum'}), \n",
    "                                  axis=1).sort_values(by=['date','group'])\n",
    "visits_agg.head()"
   ]
  },
  {
   "cell_type": "code",
   "execution_count": 26,
   "metadata": {},
   "outputs": [
    {
     "data": {
      "text/html": [
       "<div>\n",
       "<style scoped>\n",
       "    .dataframe tbody tr th:only-of-type {\n",
       "        vertical-align: middle;\n",
       "    }\n",
       "\n",
       "    .dataframe tbody tr th {\n",
       "        vertical-align: top;\n",
       "    }\n",
       "\n",
       "    .dataframe thead th {\n",
       "        text-align: right;\n",
       "    }\n",
       "</style>\n",
       "<table border=\"1\" class=\"dataframe\">\n",
       "  <thead>\n",
       "    <tr style=\"text-align: right;\">\n",
       "      <th></th>\n",
       "      <th>date</th>\n",
       "      <th>group</th>\n",
       "      <th>orders</th>\n",
       "      <th>buyers</th>\n",
       "      <th>revenue</th>\n",
       "      <th>visitors</th>\n",
       "    </tr>\n",
       "  </thead>\n",
       "  <tbody>\n",
       "    <tr>\n",
       "      <th>0</th>\n",
       "      <td>2019-08-01</td>\n",
       "      <td>A</td>\n",
       "      <td>24</td>\n",
       "      <td>20</td>\n",
       "      <td>2,356.800</td>\n",
       "      <td>719</td>\n",
       "    </tr>\n",
       "    <tr>\n",
       "      <th>1</th>\n",
       "      <td>2019-08-01</td>\n",
       "      <td>B</td>\n",
       "      <td>21</td>\n",
       "      <td>20</td>\n",
       "      <td>1,620.000</td>\n",
       "      <td>713</td>\n",
       "    </tr>\n",
       "    <tr>\n",
       "      <th>2</th>\n",
       "      <td>2019-08-02</td>\n",
       "      <td>A</td>\n",
       "      <td>44</td>\n",
       "      <td>38</td>\n",
       "      <td>3,860.300</td>\n",
       "      <td>1338</td>\n",
       "    </tr>\n",
       "    <tr>\n",
       "      <th>3</th>\n",
       "      <td>2019-08-02</td>\n",
       "      <td>B</td>\n",
       "      <td>45</td>\n",
       "      <td>43</td>\n",
       "      <td>4,243.800</td>\n",
       "      <td>1294</td>\n",
       "    </tr>\n",
       "    <tr>\n",
       "      <th>4</th>\n",
       "      <td>2019-08-03</td>\n",
       "      <td>A</td>\n",
       "      <td>68</td>\n",
       "      <td>62</td>\n",
       "      <td>5,675.500</td>\n",
       "      <td>1845</td>\n",
       "    </tr>\n",
       "  </tbody>\n",
       "</table>\n",
       "</div>"
      ],
      "text/plain": [
       "        date group  orders  buyers   revenue  visitors\n",
       "0 2019-08-01  A     24      20     2,356.800  719     \n",
       "1 2019-08-01  B     21      20     1,620.000  713     \n",
       "2 2019-08-02  A     44      38     3,860.300  1338    \n",
       "3 2019-08-02  B     45      43     4,243.800  1294    \n",
       "4 2019-08-03  A     68      62     5,675.500  1845    "
      ]
     },
     "execution_count": 26,
     "metadata": {},
     "output_type": "execute_result"
    }
   ],
   "source": [
    "# merging the two tables into one and giving its columns descriptive names\n",
    "cumulative_data = orders_agg.merge(visits_agg, left_on=['date', 'group'], right_on=['date', 'group'])\n",
    "cumulative_data.columns = ['date', 'group', 'orders', 'buyers', 'revenue', 'visitors']\n",
    "\n",
    "cumulative_data.head()"
   ]
  },
  {
   "cell_type": "code",
   "execution_count": 27,
   "metadata": {},
   "outputs": [
    {
     "data": {
      "text/html": [
       "<div>\n",
       "<style scoped>\n",
       "    .dataframe tbody tr th:only-of-type {\n",
       "        vertical-align: middle;\n",
       "    }\n",
       "\n",
       "    .dataframe tbody tr th {\n",
       "        vertical-align: top;\n",
       "    }\n",
       "\n",
       "    .dataframe thead th {\n",
       "        text-align: right;\n",
       "    }\n",
       "</style>\n",
       "<table border=\"1\" class=\"dataframe\">\n",
       "  <thead>\n",
       "    <tr style=\"text-align: right;\">\n",
       "      <th></th>\n",
       "      <th>date</th>\n",
       "      <th>revenue</th>\n",
       "      <th>orders</th>\n",
       "      <th>visitors</th>\n",
       "      <th>average_check</th>\n",
       "      <th>conversion</th>\n",
       "    </tr>\n",
       "  </thead>\n",
       "  <tbody>\n",
       "    <tr>\n",
       "      <th>0</th>\n",
       "      <td>2019-08-01</td>\n",
       "      <td>2,356.800</td>\n",
       "      <td>24</td>\n",
       "      <td>719</td>\n",
       "      <td>98.200</td>\n",
       "      <td>0.033</td>\n",
       "    </tr>\n",
       "    <tr>\n",
       "      <th>2</th>\n",
       "      <td>2019-08-02</td>\n",
       "      <td>3,860.300</td>\n",
       "      <td>44</td>\n",
       "      <td>1338</td>\n",
       "      <td>87.734</td>\n",
       "      <td>0.033</td>\n",
       "    </tr>\n",
       "    <tr>\n",
       "      <th>4</th>\n",
       "      <td>2019-08-03</td>\n",
       "      <td>5,675.500</td>\n",
       "      <td>68</td>\n",
       "      <td>1845</td>\n",
       "      <td>83.463</td>\n",
       "      <td>0.037</td>\n",
       "    </tr>\n",
       "    <tr>\n",
       "      <th>6</th>\n",
       "      <td>2019-08-04</td>\n",
       "      <td>6,822.100</td>\n",
       "      <td>84</td>\n",
       "      <td>2562</td>\n",
       "      <td>81.215</td>\n",
       "      <td>0.033</td>\n",
       "    </tr>\n",
       "    <tr>\n",
       "      <th>8</th>\n",
       "      <td>2019-08-05</td>\n",
       "      <td>8,810.200</td>\n",
       "      <td>109</td>\n",
       "      <td>3318</td>\n",
       "      <td>80.828</td>\n",
       "      <td>0.033</td>\n",
       "    </tr>\n",
       "  </tbody>\n",
       "</table>\n",
       "</div>"
      ],
      "text/plain": [
       "        date   revenue  orders  visitors  average_check  conversion\n",
       "0 2019-08-01 2,356.800  24      719      98.200         0.033      \n",
       "2 2019-08-02 3,860.300  44      1338     87.734         0.033      \n",
       "4 2019-08-03 5,675.500  68      1845     83.463         0.037      \n",
       "6 2019-08-04 6,822.100  84      2562     81.215         0.033      \n",
       "8 2019-08-05 8,810.200  109     3318     80.828         0.033      "
      ]
     },
     "execution_count": 27,
     "metadata": {},
     "output_type": "execute_result"
    }
   ],
   "source": [
    "#DataFrame with cumulative orders and cumulative revenue, visitors by day, group A\n",
    "\n",
    "cum_revenue_A = cumulative_data[cumulative_data['group'] == 'A'][['date', 'revenue', 'orders', 'visitors']]\n",
    "\n",
    "#calculating average check\n",
    "cum_revenue_A['average_check'] = cum_revenue_A['revenue'] / cum_revenue_A['orders']\n",
    "\n",
    "#calculating cumulative conversion\n",
    "cum_revenue_A['conversion'] = cum_revenue_A['orders'] / cum_revenue_A['visitors']\n",
    "\n",
    "cum_revenue_A.head()"
   ]
  },
  {
   "cell_type": "code",
   "execution_count": 28,
   "metadata": {},
   "outputs": [
    {
     "data": {
      "text/html": [
       "<div>\n",
       "<style scoped>\n",
       "    .dataframe tbody tr th:only-of-type {\n",
       "        vertical-align: middle;\n",
       "    }\n",
       "\n",
       "    .dataframe tbody tr th {\n",
       "        vertical-align: top;\n",
       "    }\n",
       "\n",
       "    .dataframe thead th {\n",
       "        text-align: right;\n",
       "    }\n",
       "</style>\n",
       "<table border=\"1\" class=\"dataframe\">\n",
       "  <thead>\n",
       "    <tr style=\"text-align: right;\">\n",
       "      <th></th>\n",
       "      <th>date</th>\n",
       "      <th>revenue</th>\n",
       "      <th>orders</th>\n",
       "      <th>visitors</th>\n",
       "      <th>average_check</th>\n",
       "      <th>conversion</th>\n",
       "    </tr>\n",
       "  </thead>\n",
       "  <tbody>\n",
       "    <tr>\n",
       "      <th>1</th>\n",
       "      <td>2019-08-01</td>\n",
       "      <td>1,620.000</td>\n",
       "      <td>21</td>\n",
       "      <td>713</td>\n",
       "      <td>77.143</td>\n",
       "      <td>0.029</td>\n",
       "    </tr>\n",
       "    <tr>\n",
       "      <th>3</th>\n",
       "      <td>2019-08-02</td>\n",
       "      <td>4,243.800</td>\n",
       "      <td>45</td>\n",
       "      <td>1294</td>\n",
       "      <td>94.307</td>\n",
       "      <td>0.035</td>\n",
       "    </tr>\n",
       "    <tr>\n",
       "      <th>5</th>\n",
       "      <td>2019-08-03</td>\n",
       "      <td>6,050.600</td>\n",
       "      <td>61</td>\n",
       "      <td>1803</td>\n",
       "      <td>99.190</td>\n",
       "      <td>0.034</td>\n",
       "    </tr>\n",
       "    <tr>\n",
       "      <th>7</th>\n",
       "      <td>2019-08-04</td>\n",
       "      <td>7,767.900</td>\n",
       "      <td>78</td>\n",
       "      <td>2573</td>\n",
       "      <td>99.588</td>\n",
       "      <td>0.030</td>\n",
       "    </tr>\n",
       "    <tr>\n",
       "      <th>9</th>\n",
       "      <td>2019-08-05</td>\n",
       "      <td>9,262.900</td>\n",
       "      <td>101</td>\n",
       "      <td>3280</td>\n",
       "      <td>91.712</td>\n",
       "      <td>0.031</td>\n",
       "    </tr>\n",
       "  </tbody>\n",
       "</table>\n",
       "</div>"
      ],
      "text/plain": [
       "        date   revenue  orders  visitors  average_check  conversion\n",
       "1 2019-08-01 1,620.000  21      713      77.143         0.029      \n",
       "3 2019-08-02 4,243.800  45      1294     94.307         0.035      \n",
       "5 2019-08-03 6,050.600  61      1803     99.190         0.034      \n",
       "7 2019-08-04 7,767.900  78      2573     99.588         0.030      \n",
       "9 2019-08-05 9,262.900  101     3280     91.712         0.031      "
      ]
     },
     "execution_count": 28,
     "metadata": {},
     "output_type": "execute_result"
    }
   ],
   "source": [
    "# DataFrame with cumulative orders and cumulative revenue, visitors by day, group B\n",
    "\n",
    "cum_revenue_B = cumulative_data[cumulative_data['group']=='B'][['date','revenue', 'orders', 'visitors']]\n",
    "\n",
    "#calculating average check\n",
    "cum_revenue_B['average_check'] = cum_revenue_B['revenue'] / cum_revenue_B['orders']\n",
    "\n",
    "#calculating cumulative conversion\n",
    "cum_revenue_B['conversion'] = cum_revenue_B['orders'] / cum_revenue_B['visitors']\n",
    "\n",
    "cum_revenue_B.head()"
   ]
  },
  {
   "cell_type": "code",
   "execution_count": 29,
   "metadata": {},
   "outputs": [
    {
     "data": {
      "text/plain": [
       "<matplotlib.legend.Legend at 0x7fcf11dd9790>"
      ]
     },
     "execution_count": 29,
     "metadata": {},
     "output_type": "execute_result"
    },
    {
     "data": {
      "image/png": "[encoded data removed]",
      "text/plain": [
       "<Figure size 1008x576 with 1 Axes>"
      ]
     },
     "metadata": {},
     "output_type": "display_data"
    }
   ],
   "source": [
    "#visualizing \n",
    "f, ax = plt.subplots(figsize = (14, 8))\n",
    "\n",
    "plt.title('Cumulative revenue by groups', fontdict={'size':15})\n",
    "sns.set_style('darkgrid')\n",
    "sns.lineplot(data = cum_revenue_A, x='date', y='revenue', marker='s', palette = 'Dark2', label='group A')\n",
    "sns.lineplot(data = cum_revenue_B, x='date', y='revenue', marker='s', palette = 'Dark2', label='group B')\n",
    "plt.ylabel('Revenue')\n",
    "plt.xlabel('Days')\n",
    "plt.legend(fontsize=12)"
   ]
  },
  {
   "cell_type": "markdown",
   "metadata": {},
   "source": [
    "Revenue increases almost evenly throughout the test. At the same time, the first 5 days in both groups had an approximately equal value of revenue. And then the graphs of total revenue in both groups began to rise sharply at several points (in group B, the jumps were more pronounced).\n",
    "\n",
    "We can't give the exact reason, it could be because of the increase in the number of orders or because users bought expensive products. It can also mean outliers."
   ]
  },
  {
   "cell_type": "markdown",
   "metadata": {},
   "source": [
    "### Graph cumulative average order size by group. Make conclusions and conjectures."
   ]
  },
  {
   "cell_type": "code",
   "execution_count": 30,
   "metadata": {},
   "outputs": [
    {
     "data": {
      "text/plain": [
       "Text(0.5, 0, 'Days')"
      ]
     },
     "execution_count": 30,
     "metadata": {},
     "output_type": "execute_result"
    },
    {
     "data": {
      "image/png": "[encoded data removed]",
      "text/plain": [
       "<Figure size 1008x576 with 1 Axes>"
      ]
     },
     "metadata": {},
     "output_type": "display_data"
    }
   ],
   "source": [
    "#visualizing \n",
    "f, ax = plt.subplots(figsize = (14, 8))\n",
    "\n",
    "plt.title('Cumulative average order size by groups', fontdict={'size':15})\n",
    "sns.set_style('darkgrid')\n",
    "sns.lineplot(data = cum_revenue_A, x='date', y='average_check', marker='s', palette = 'Dark2', label='A')\n",
    "sns.lineplot(data = cum_revenue_B, x='date', y='average_check', marker='s', palette = 'Dark2', label='B')\n",
    "plt.axhline(cum_revenue_A['average_check'].mean(), color='steelblue', linestyle='--', label='Group A average')\n",
    "plt.axhline(cum_revenue_B['average_check'].mean(), color='orange', linestyle='--', label='Group B average')\n",
    "plt.ylabel('Average revenue size')\n",
    "plt.legend(fontsize=12)\n",
    "plt.xlabel('Days')"
   ]
  },
  {
   "cell_type": "code",
   "execution_count": 31,
   "metadata": {},
   "outputs": [
    {
     "data": {
      "text/html": [
       "<div>\n",
       "<style scoped>\n",
       "    .dataframe tbody tr th:only-of-type {\n",
       "        vertical-align: middle;\n",
       "    }\n",
       "\n",
       "    .dataframe tbody tr th {\n",
       "        vertical-align: top;\n",
       "    }\n",
       "\n",
       "    .dataframe thead th {\n",
       "        text-align: right;\n",
       "    }\n",
       "</style>\n",
       "<table border=\"1\" class=\"dataframe\">\n",
       "  <thead>\n",
       "    <tr style=\"text-align: right;\">\n",
       "      <th></th>\n",
       "      <th>date</th>\n",
       "      <th>revenue</th>\n",
       "      <th>orders</th>\n",
       "      <th>visitors</th>\n",
       "      <th>average_check</th>\n",
       "      <th>conversion</th>\n",
       "    </tr>\n",
       "  </thead>\n",
       "  <tbody>\n",
       "    <tr>\n",
       "      <th>31</th>\n",
       "      <td>2019-08-16</td>\n",
       "      <td>40,155.300</td>\n",
       "      <td>359</td>\n",
       "      <td>10013</td>\n",
       "      <td>111.853</td>\n",
       "      <td>0.036</td>\n",
       "    </tr>\n",
       "  </tbody>\n",
       "</table>\n",
       "</div>"
      ],
      "text/plain": [
       "         date    revenue  orders  visitors  average_check  conversion\n",
       "31 2019-08-16 40,155.300  359     10013    111.853        0.036      "
      ]
     },
     "execution_count": 31,
     "metadata": {},
     "output_type": "execute_result"
    }
   ],
   "source": [
    "cum_revenue_B[cum_revenue_B['date']== \"2019-08-16\"]"
   ]
  },
  {
   "cell_type": "code",
   "execution_count": 32,
   "metadata": {},
   "outputs": [
    {
     "data": {
      "text/html": [
       "<div>\n",
       "<style scoped>\n",
       "    .dataframe tbody tr th:only-of-type {\n",
       "        vertical-align: middle;\n",
       "    }\n",
       "\n",
       "    .dataframe tbody tr th {\n",
       "        vertical-align: top;\n",
       "    }\n",
       "\n",
       "    .dataframe thead th {\n",
       "        text-align: right;\n",
       "    }\n",
       "</style>\n",
       "<table border=\"1\" class=\"dataframe\">\n",
       "  <thead>\n",
       "    <tr style=\"text-align: right;\">\n",
       "      <th></th>\n",
       "      <th>date</th>\n",
       "      <th>revenue</th>\n",
       "      <th>orders</th>\n",
       "      <th>visitors</th>\n",
       "      <th>average_check</th>\n",
       "      <th>conversion</th>\n",
       "    </tr>\n",
       "  </thead>\n",
       "  <tbody>\n",
       "    <tr>\n",
       "      <th>37</th>\n",
       "      <td>2019-08-19</td>\n",
       "      <td>64,546.600</td>\n",
       "      <td>403</td>\n",
       "      <td>11658</td>\n",
       "      <td>160.165</td>\n",
       "      <td>0.035</td>\n",
       "    </tr>\n",
       "  </tbody>\n",
       "</table>\n",
       "</div>"
      ],
      "text/plain": [
       "         date    revenue  orders  visitors  average_check  conversion\n",
       "37 2019-08-19 64,546.600  403     11658    160.165        0.035      "
      ]
     },
     "execution_count": 32,
     "metadata": {},
     "output_type": "execute_result"
    }
   ],
   "source": [
    "cum_revenue_B[cum_revenue_B['date']== \"2019-08-19\"]"
   ]
  },
  {
   "cell_type": "markdown",
   "metadata": {},
   "source": [
    "The average check in group A becomes uniform approximately from the middle to the end of the test, and in group B, after a significant jump, it begins to slowly decrease. Perhaps this is due to large or expensive purchases. Until mid-August, both groups had ups and downs (more in group B than in group A).\n",
    "It is worth paying attention to orders from August 19 in group B."
   ]
  },
  {
   "cell_type": "markdown",
   "metadata": {},
   "source": [
    "### Graph the relative difference in cumulative average order size for group B compared with group A."
   ]
  },
  {
   "cell_type": "code",
   "execution_count": 33,
   "metadata": {},
   "outputs": [
    {
     "data": {
      "text/html": [
       "<div>\n",
       "<style scoped>\n",
       "    .dataframe tbody tr th:only-of-type {\n",
       "        vertical-align: middle;\n",
       "    }\n",
       "\n",
       "    .dataframe tbody tr th {\n",
       "        vertical-align: top;\n",
       "    }\n",
       "\n",
       "    .dataframe thead th {\n",
       "        text-align: right;\n",
       "    }\n",
       "</style>\n",
       "<table border=\"1\" class=\"dataframe\">\n",
       "  <thead>\n",
       "    <tr style=\"text-align: right;\">\n",
       "      <th></th>\n",
       "      <th>date</th>\n",
       "      <th>revenueA</th>\n",
       "      <th>ordersA</th>\n",
       "      <th>visitorsA</th>\n",
       "      <th>average_checkA</th>\n",
       "      <th>conversionA</th>\n",
       "      <th>revenueB</th>\n",
       "      <th>ordersB</th>\n",
       "      <th>visitorsB</th>\n",
       "      <th>average_checkB</th>\n",
       "      <th>conversionB</th>\n",
       "      <th>cum_avg</th>\n",
       "    </tr>\n",
       "  </thead>\n",
       "  <tbody>\n",
       "    <tr>\n",
       "      <th>0</th>\n",
       "      <td>2019-08-01</td>\n",
       "      <td>2,356.800</td>\n",
       "      <td>24</td>\n",
       "      <td>719</td>\n",
       "      <td>98.200</td>\n",
       "      <td>0.033</td>\n",
       "      <td>1,620.000</td>\n",
       "      <td>21</td>\n",
       "      <td>713</td>\n",
       "      <td>77.143</td>\n",
       "      <td>0.029</td>\n",
       "      <td>-0.214</td>\n",
       "    </tr>\n",
       "    <tr>\n",
       "      <th>1</th>\n",
       "      <td>2019-08-02</td>\n",
       "      <td>3,860.300</td>\n",
       "      <td>44</td>\n",
       "      <td>1338</td>\n",
       "      <td>87.734</td>\n",
       "      <td>0.033</td>\n",
       "      <td>4,243.800</td>\n",
       "      <td>45</td>\n",
       "      <td>1294</td>\n",
       "      <td>94.307</td>\n",
       "      <td>0.035</td>\n",
       "      <td>0.075</td>\n",
       "    </tr>\n",
       "    <tr>\n",
       "      <th>2</th>\n",
       "      <td>2019-08-03</td>\n",
       "      <td>5,675.500</td>\n",
       "      <td>68</td>\n",
       "      <td>1845</td>\n",
       "      <td>83.463</td>\n",
       "      <td>0.037</td>\n",
       "      <td>6,050.600</td>\n",
       "      <td>61</td>\n",
       "      <td>1803</td>\n",
       "      <td>99.190</td>\n",
       "      <td>0.034</td>\n",
       "      <td>0.188</td>\n",
       "    </tr>\n",
       "    <tr>\n",
       "      <th>3</th>\n",
       "      <td>2019-08-04</td>\n",
       "      <td>6,822.100</td>\n",
       "      <td>84</td>\n",
       "      <td>2562</td>\n",
       "      <td>81.215</td>\n",
       "      <td>0.033</td>\n",
       "      <td>7,767.900</td>\n",
       "      <td>78</td>\n",
       "      <td>2573</td>\n",
       "      <td>99.588</td>\n",
       "      <td>0.030</td>\n",
       "      <td>0.226</td>\n",
       "    </tr>\n",
       "    <tr>\n",
       "      <th>4</th>\n",
       "      <td>2019-08-05</td>\n",
       "      <td>8,810.200</td>\n",
       "      <td>109</td>\n",
       "      <td>3318</td>\n",
       "      <td>80.828</td>\n",
       "      <td>0.033</td>\n",
       "      <td>9,262.900</td>\n",
       "      <td>101</td>\n",
       "      <td>3280</td>\n",
       "      <td>91.712</td>\n",
       "      <td>0.031</td>\n",
       "      <td>0.135</td>\n",
       "    </tr>\n",
       "  </tbody>\n",
       "</table>\n",
       "</div>"
      ],
      "text/plain": [
       "        date  revenueA  ordersA  visitorsA  average_checkA  conversionA  \\\n",
       "0 2019-08-01 2,356.800  24       719       98.200          0.033          \n",
       "1 2019-08-02 3,860.300  44       1338      87.734          0.033          \n",
       "2 2019-08-03 5,675.500  68       1845      83.463          0.037          \n",
       "3 2019-08-04 6,822.100  84       2562      81.215          0.033          \n",
       "4 2019-08-05 8,810.200  109      3318      80.828          0.033          \n",
       "\n",
       "   revenueB  ordersB  visitorsB  average_checkB  conversionB  cum_avg  \n",
       "0 1,620.000  21       713       77.143          0.029        -0.214    \n",
       "1 4,243.800  45       1294      94.307          0.035        0.075     \n",
       "2 6,050.600  61       1803      99.190          0.034        0.188     \n",
       "3 7,767.900  78       2573      99.588          0.030        0.226     \n",
       "4 9,262.900  101      3280      91.712          0.031        0.135     "
      ]
     },
     "execution_count": 33,
     "metadata": {},
     "output_type": "execute_result"
    }
   ],
   "source": [
    "# gathering the data into one DataFrame\n",
    "merged_cum_revenue = cum_revenue_A.merge(cum_revenue_B, left_on='date', right_on='date', how='left', suffixes=['A', 'B'])\n",
    "merged_cum_revenue['cum_avg'] = (merged_cum_revenue['revenueB']/merged_cum_revenue['ordersB'])/(merged_cum_revenue['revenueA']/merged_cum_revenue['ordersA'])-1\n",
    "merged_cum_revenue.head()\n"
   ]
  },
  {
   "cell_type": "code",
   "execution_count": 34,
   "metadata": {},
   "outputs": [
    {
     "data": {
      "text/plain": [
       "Text(0.5, 0, 'Days')"
      ]
     },
     "execution_count": 34,
     "metadata": {},
     "output_type": "execute_result"
    },
    {
     "data": {
      "image/png": "[encoded data removed]",
      "text/plain": [
       "<Figure size 1008x576 with 1 Axes>"
      ]
     },
     "metadata": {},
     "output_type": "display_data"
    }
   ],
   "source": [
    "# plotting a relative difference graph for the average purchase sizes\n",
    "#visualizing \n",
    "f, ax = plt.subplots(figsize = (14, 8))\n",
    "\n",
    "plt.title('Cumulative average order size for group B compared with group A', fontdict={'size':15})\n",
    "sns.set_style('darkgrid')\n",
    "sns.lineplot(data = merged_cum_revenue, x='date', y='cum_avg', marker='s', palette = 'Dark2', label='A')\n",
    "ax.axhline(y=0, color='red', linestyle='--')\n",
    "plt.ylabel('Relative change')\n",
    "plt.legend(fontsize=12)\n",
    "plt.xlabel('Days')"
   ]
  },
  {
   "cell_type": "markdown",
   "metadata": {},
   "source": [
    "At many points, the graph of the difference between the groups starts to jump sharply: a particularly strong spike occurs on August 19, 2019.  \n",
    "This indicates the presence of outliers in the sale of very expensive goods on this date."
   ]
  },
  {
   "cell_type": "markdown",
   "metadata": {},
   "source": [
    "### Calculate each group's conversion rate as the ratio of orders to the number of visits for each day. Plot the daily conversion rates of the two groups and describe the difference\n"
   ]
  },
  {
   "cell_type": "code",
   "execution_count": 35,
   "metadata": {},
   "outputs": [
    {
     "data": {
      "text/plain": [
       "Text(0.5, 0, 'Days')"
      ]
     },
     "execution_count": 35,
     "metadata": {},
     "output_type": "execute_result"
    },
    {
     "data": {
      "image/png": "[encoded data removed]",
      "text/plain": [
       "<Figure size 1008x576 with 1 Axes>"
      ]
     },
     "metadata": {},
     "output_type": "display_data"
    }
   ],
   "source": [
    "#visualizing \n",
    "f, ax = plt.subplots(figsize = (14, 8))\n",
    "\n",
    "plt.title('Daily conversion rates by groups', fontdict={'size':15})\n",
    "sns.set_style('darkgrid')\n",
    "sns.lineplot(data = cum_revenue_A, x='date', y='conversion', marker='s', palette = 'Dark2', label='A')\n",
    "sns.lineplot(data = cum_revenue_B, x='date', y='conversion', marker='s', palette = 'Dark2', label='B')\n",
    "plt.axhline(cum_revenue_A['conversion'].mean(), color='steelblue', linestyle='--', label='Group A conversion')\n",
    "plt.axhline(cum_revenue_B['conversion'].mean(), color='orange', linestyle='--', label='Group B conversion')\n",
    "# setting the axes' scale\n",
    "ax.axis([pd.to_datetime('2019-08-01'), pd.to_datetime('2019-08-31'), 0, 0.05]);\n",
    "plt.ylabel('Conversion rates')\n",
    "plt.legend(fontsize=12)\n",
    "plt.xlabel('Days')"
   ]
  },
  {
   "cell_type": "markdown",
   "metadata": {},
   "source": [
    "Since August 7 the graph of cumulative conversion by groups looks almost symmetrical. Until August 4 there was a strong surge in both groups. In subsequent periods, the conversions of both groups settled at a certain level (approximately after August 9-11) with a clear predominance of the cumulative conversion of group B over the cumulative conversion of group A."
   ]
  },
  {
   "cell_type": "markdown",
   "metadata": {},
   "source": [
    "### Cumulative convertion rates for group B compared with group A"
   ]
  },
  {
   "cell_type": "code",
   "execution_count": 36,
   "metadata": {},
   "outputs": [
    {
     "data": {
      "text/html": [
       "<div>\n",
       "<style scoped>\n",
       "    .dataframe tbody tr th:only-of-type {\n",
       "        vertical-align: middle;\n",
       "    }\n",
       "\n",
       "    .dataframe tbody tr th {\n",
       "        vertical-align: top;\n",
       "    }\n",
       "\n",
       "    .dataframe thead th {\n",
       "        text-align: right;\n",
       "    }\n",
       "</style>\n",
       "<table border=\"1\" class=\"dataframe\">\n",
       "  <thead>\n",
       "    <tr style=\"text-align: right;\">\n",
       "      <th></th>\n",
       "      <th>date</th>\n",
       "      <th>conversionA</th>\n",
       "      <th>conversionB</th>\n",
       "      <th>cum_conv</th>\n",
       "    </tr>\n",
       "  </thead>\n",
       "  <tbody>\n",
       "    <tr>\n",
       "      <th>0</th>\n",
       "      <td>2019-08-01</td>\n",
       "      <td>0.033</td>\n",
       "      <td>0.029</td>\n",
       "      <td>-0.118</td>\n",
       "    </tr>\n",
       "    <tr>\n",
       "      <th>1</th>\n",
       "      <td>2019-08-02</td>\n",
       "      <td>0.033</td>\n",
       "      <td>0.035</td>\n",
       "      <td>0.058</td>\n",
       "    </tr>\n",
       "    <tr>\n",
       "      <th>2</th>\n",
       "      <td>2019-08-03</td>\n",
       "      <td>0.037</td>\n",
       "      <td>0.034</td>\n",
       "      <td>-0.082</td>\n",
       "    </tr>\n",
       "    <tr>\n",
       "      <th>3</th>\n",
       "      <td>2019-08-04</td>\n",
       "      <td>0.033</td>\n",
       "      <td>0.030</td>\n",
       "      <td>-0.075</td>\n",
       "    </tr>\n",
       "    <tr>\n",
       "      <th>4</th>\n",
       "      <td>2019-08-05</td>\n",
       "      <td>0.033</td>\n",
       "      <td>0.031</td>\n",
       "      <td>-0.063</td>\n",
       "    </tr>\n",
       "  </tbody>\n",
       "</table>\n",
       "</div>"
      ],
      "text/plain": [
       "        date  conversionA  conversionB  cum_conv\n",
       "0 2019-08-01 0.033        0.029        -0.118   \n",
       "1 2019-08-02 0.033        0.035        0.058    \n",
       "2 2019-08-03 0.037        0.034        -0.082   \n",
       "3 2019-08-04 0.033        0.030        -0.075   \n",
       "4 2019-08-05 0.033        0.031        -0.063   "
      ]
     },
     "execution_count": 36,
     "metadata": {},
     "output_type": "execute_result"
    }
   ],
   "source": [
    "merged_cum_conversions = cum_revenue_A[['date','conversion']].merge(cum_revenue_B[['date','conversion']],\n",
    "                                                                    left_on='date', right_on='date', how='left', suffixes=['A', 'B'])\n",
    "merged_cum_conversions['cum_conv'] = merged_cum_conversions['conversionB']/merged_cum_conversions['conversionA']-1\n",
    "merged_cum_conversions.head()"
   ]
  },
  {
   "cell_type": "code",
   "execution_count": 37,
   "metadata": {},
   "outputs": [
    {
     "data": {
      "text/plain": [
       "Text(0.5, 0, 'Days')"
      ]
     },
     "execution_count": 37,
     "metadata": {},
     "output_type": "execute_result"
    },
    {
     "data": {
      "image/png": "[encoded data removed]",
      "text/plain": [
       "<Figure size 1008x576 with 1 Axes>"
      ]
     },
     "metadata": {},
     "output_type": "display_data"
    }
   ],
   "source": [
    "#visualizing \n",
    "f, ax = plt.subplots(figsize = (14, 8))\n",
    "\n",
    "plt.title('Cumulative convertion rates for group B compared with group A', fontdict={'size':15})\n",
    "sns.set_style('darkgrid')\n",
    "sns.lineplot(data = merged_cum_conversions, x='date', y='cum_conv', marker='s', palette = 'Dark2', label='A')\n",
    "ax.axhline(y=0, color='grey', linestyle='--')\n",
    "ax.axhline(y=0.15, color='red', linestyle='--')\n",
    "ax.axis([pd.to_datetime('2019-08-01'), pd.to_datetime('2019-08-31'), -0.2, 0.3]);\n",
    "plt.ylabel('Conversion rate')\n",
    "plt.legend(fontsize=12)\n",
    "plt.xlabel('Days')"
   ]
  },
  {
   "cell_type": "markdown",
   "metadata": {},
   "source": [
    "At the beginning of the test, group B was losing to group A (except on August, 2), but from August, 8 it took the lead and outperformed group A by about 15%. Perhaps this indicates the clear success of group B, in comparison with group A. But in order to assert this, it is necessary to analyze the outliers."
   ]
  },
  {
   "cell_type": "markdown",
   "metadata": {},
   "source": [
    "### Plot a scatter chart of the number of orders per user"
   ]
  },
  {
   "cell_type": "code",
   "execution_count": 38,
   "metadata": {},
   "outputs": [
    {
     "data": {
      "text/html": [
       "<div>\n",
       "<style scoped>\n",
       "    .dataframe tbody tr th:only-of-type {\n",
       "        vertical-align: middle;\n",
       "    }\n",
       "\n",
       "    .dataframe tbody tr th {\n",
       "        vertical-align: top;\n",
       "    }\n",
       "\n",
       "    .dataframe thead th {\n",
       "        text-align: right;\n",
       "    }\n",
       "</style>\n",
       "<table border=\"1\" class=\"dataframe\">\n",
       "  <thead>\n",
       "    <tr style=\"text-align: right;\">\n",
       "      <th></th>\n",
       "      <th>visitor_id</th>\n",
       "      <th>orders</th>\n",
       "    </tr>\n",
       "  </thead>\n",
       "  <tbody>\n",
       "    <tr>\n",
       "      <th>1023</th>\n",
       "      <td>4256040402</td>\n",
       "      <td>11</td>\n",
       "    </tr>\n",
       "    <tr>\n",
       "      <th>591</th>\n",
       "      <td>2458001652</td>\n",
       "      <td>11</td>\n",
       "    </tr>\n",
       "    <tr>\n",
       "      <th>569</th>\n",
       "      <td>2378935119</td>\n",
       "      <td>9</td>\n",
       "    </tr>\n",
       "    <tr>\n",
       "      <th>487</th>\n",
       "      <td>2038680547</td>\n",
       "      <td>8</td>\n",
       "    </tr>\n",
       "    <tr>\n",
       "      <th>44</th>\n",
       "      <td>199603092</td>\n",
       "      <td>5</td>\n",
       "    </tr>\n",
       "    <tr>\n",
       "      <th>744</th>\n",
       "      <td>3062433592</td>\n",
       "      <td>5</td>\n",
       "    </tr>\n",
       "    <tr>\n",
       "      <th>55</th>\n",
       "      <td>237748145</td>\n",
       "      <td>5</td>\n",
       "    </tr>\n",
       "    <tr>\n",
       "      <th>917</th>\n",
       "      <td>3803269165</td>\n",
       "      <td>5</td>\n",
       "    </tr>\n",
       "    <tr>\n",
       "      <th>299</th>\n",
       "      <td>1230306981</td>\n",
       "      <td>5</td>\n",
       "    </tr>\n",
       "    <tr>\n",
       "      <th>897</th>\n",
       "      <td>3717692402</td>\n",
       "      <td>5</td>\n",
       "    </tr>\n",
       "  </tbody>\n",
       "</table>\n",
       "</div>"
      ],
      "text/plain": [
       "      visitor_id  orders\n",
       "1023  4256040402  11    \n",
       "591   2458001652  11    \n",
       "569   2378935119  9     \n",
       "487   2038680547  8     \n",
       "44    199603092   5     \n",
       "744   3062433592  5     \n",
       "55    237748145   5     \n",
       "917   3803269165  5     \n",
       "299   1230306981  5     \n",
       "897   3717692402  5     "
      ]
     },
     "execution_count": 38,
     "metadata": {},
     "output_type": "execute_result"
    }
   ],
   "source": [
    "orders_per_user = (orders.groupby('visitor_id', as_index=False)\n",
    "                   .agg({'transaction_id':'nunique'})\n",
    "                   .rename(columns={'transaction_id':'orders'}))\n",
    "orders_per_user.sort_values(by='orders', ascending=False).head(10)"
   ]
  },
  {
   "cell_type": "code",
   "execution_count": 39,
   "metadata": {},
   "outputs": [
    {
     "data": {
      "text/plain": [
       "Text(0, 0.5, 'Number of orders')"
      ]
     },
     "execution_count": 39,
     "metadata": {},
     "output_type": "execute_result"
    },
    {
     "data": {
      "image/png": "[encoded data removed]",
      "text/plain": [
       "<Figure size 1008x576 with 1 Axes>"
      ]
     },
     "metadata": {},
     "output_type": "display_data"
    }
   ],
   "source": [
    "x_values = pd.Series(range(0,len(orders_per_user)))\n",
    "\n",
    "f, ax = plt.subplots(figsize = (14, 8))\n",
    "\n",
    "plt.title('scatter chart of the number of orders per user', fontdict={'size':15})\n",
    "sns.set_style('darkgrid')\n",
    "plt.scatter(x_values, orders_per_user['orders'])\n",
    "plt.ylabel('Number of orders')\n"
   ]
  },
  {
   "cell_type": "markdown",
   "metadata": {},
   "source": [
    "Most users made one purchase. However, the share of users with 2-5 orders is also significant. There are also users who made 8, 9 and 11 orders.\n",
    "\n",
    "Since the exact proportion of users with 2-5 orders is unknown, we cannot yet say that they are anomaly."
   ]
  },
  {
   "cell_type": "markdown",
   "metadata": {},
   "source": [
    "### Calculate the 95th and 99th percentiles for the number of orders per user. Define the point at which a data point becomes an anomaly."
   ]
  },
  {
   "cell_type": "code",
   "execution_count": 40,
   "metadata": {},
   "outputs": [
    {
     "name": "stdout",
     "output_type": "stream",
     "text": [
      "The 95th and 99th percentiles are equal, respectively: [2. 4.]\n"
     ]
    }
   ],
   "source": [
    "print('The 95th and 99th percentiles are equal, respectively:', np.percentile(orders_per_user['orders'], [95, 99])) "
   ]
  },
  {
   "cell_type": "markdown",
   "metadata": {},
   "source": [
    "Thus, over 2 orders is the lower limit of the abnormal number of orders. It is on it that in the future we will \"clear\" the data."
   ]
  },
  {
   "cell_type": "markdown",
   "metadata": {},
   "source": [
    "### Plot a scatter chart of order prices. "
   ]
  },
  {
   "cell_type": "code",
   "execution_count": 41,
   "metadata": {},
   "outputs": [
    {
     "data": {
      "text/plain": [
       "Text(0, 0.5, 'Orders price')"
      ]
     },
     "execution_count": 41,
     "metadata": {},
     "output_type": "execute_result"
    },
    {
     "data": {
      "image/png": "[encoded data removed]",
      "text/plain": [
       "<Figure size 1008x576 with 1 Axes>"
      ]
     },
     "metadata": {},
     "output_type": "display_data"
    }
   ],
   "source": [
    "x_values = pd.Series(range(0,len(orders)))\n",
    "\n",
    "f, ax = plt.subplots(figsize = (14, 8))\n",
    "\n",
    "plt.title('scatter chart of orders prices', fontdict={'size':15})\n",
    "sns.set_style('darkgrid')\n",
    "plt.scatter(x_values, orders['revenue'])\n",
    "plt.ylabel('Orders price')"
   ]
  },
  {
   "cell_type": "code",
   "execution_count": 42,
   "metadata": {},
   "outputs": [
    {
     "data": {
      "text/plain": [
       "Text(0, 0.5, 'Orders price')"
      ]
     },
     "execution_count": 42,
     "metadata": {},
     "output_type": "execute_result"
    },
    {
     "data": {
      "image/png": "[encoded data removed]",
      "text/plain": [
       "<Figure size 1008x576 with 1 Axes>"
      ]
     },
     "metadata": {},
     "output_type": "display_data"
    }
   ],
   "source": [
    "x_values = pd.Series(range(0,len(orders[orders['revenue'] <=2500])))\n",
    "\n",
    "f, ax = plt.subplots(figsize = (14, 8))\n",
    "\n",
    "plt.title('scatter chart orders prices', fontdict={'size':15})\n",
    "sns.set_style('darkgrid')\n",
    "plt.scatter(x_values, orders[orders['revenue'] <=2500]['revenue'])\n",
    "plt.ylabel('Orders price')"
   ]
  },
  {
   "cell_type": "markdown",
   "metadata": {},
   "source": [
    "### Calculate the 95th and 99th percentiles of order prices."
   ]
  },
  {
   "cell_type": "code",
   "execution_count": 43,
   "metadata": {},
   "outputs": [
    {
     "name": "stdout",
     "output_type": "stream",
     "text": [
      "The 95th and 99th percentiles of order prices are equal, respectively: [435.54  900.904]\n"
     ]
    }
   ],
   "source": [
    "print('The 95th and 99th percentiles of order prices are equal, respectively:', np.percentile(orders['revenue'], [95, 99])) "
   ]
  },
  {
   "cell_type": "markdown",
   "metadata": {},
   "source": [
    "By calculating percentiles, we see that no more than 5% of orders cost more than 435, and no more than 1% cost more than 900. Given this range, we can consider all orders above 800 as outliers."
   ]
  },
  {
   "cell_type": "markdown",
   "metadata": {},
   "source": [
    "## Raw Data :: Conversion\n",
    "Find the statistical significance of the difference in conversion between the groups using the raw data. "
   ]
  },
  {
   "cell_type": "markdown",
   "metadata": {},
   "source": [
    "**H₀: There's no statistically significant difference in conversion rates between group A and group B, they're the same.**  \n",
    "\n",
    "**H₁: The difference in conversion rates between groups is statistically significant.**"
   ]
  },
  {
   "cell_type": "code",
   "execution_count": 44,
   "metadata": {},
   "outputs": [],
   "source": [
    "orders_per_user_A = (orders[orders['group']=='A']\n",
    "                     .groupby('visitor_id', as_index=False)\n",
    "                     .agg({'transaction_id' : pd.Series.nunique})\n",
    "                     .rename(columns={'transaction_id':'orders'}))\n",
    "\n",
    "\n",
    "orders_per_user_B = (orders[orders['group']=='B']\n",
    "                     .groupby('visitor_id', as_index=False)\n",
    "                     .agg({'transaction_id' : pd.Series.nunique})\n",
    "                     .rename(columns={'transaction_id':'orders'}))\n",
    "\n",
    "sampleA = pd.concat([orders_per_user_A['orders'],\n",
    "                     pd.Series(0, index=np.arange(visits[visits['group']=='A']['visits'].sum() - \n",
    "                                                  len(orders_per_user_A['orders'])), name='orders')],axis=0)\n",
    "\n",
    "sampleB = pd.concat([orders_per_user_B['orders'],\n",
    "                     pd.Series(0, index=np.arange(visits[visits['group']=='B']['visits'].sum() -\n",
    "                                                  len(orders_per_user_B['orders'])), name='orders')],axis=0)\n"
   ]
  },
  {
   "cell_type": "code",
   "execution_count": 45,
   "metadata": {},
   "outputs": [
    {
     "name": "stdout",
     "output_type": "stream",
     "text": [
      "Size of sample A: 18736\n",
      "Size of sample B: 18916\n"
     ]
    }
   ],
   "source": [
    "#checking the size of the samples\n",
    "\n",
    "print('Size of sample A:', len(sampleA))\n",
    "print('Size of sample B:', len(sampleB))"
   ]
  },
  {
   "cell_type": "code",
   "execution_count": 46,
   "metadata": {},
   "outputs": [],
   "source": [
    "#reducing the size of sample B so statistical test would have higher power\n",
    "\n",
    "sample_B_4Test = sampleB.sample(18736)"
   ]
  },
  {
   "cell_type": "code",
   "execution_count": 47,
   "metadata": {},
   "outputs": [
    {
     "name": "stdout",
     "output_type": "stream",
     "text": [
      "p-value: 0.016\n",
      "Relative conversion gain: 14.00%\n"
     ]
    }
   ],
   "source": [
    "# conversion between the groups using the raw data\n",
    "\n",
    "print('p-value: '\"{0:.3f}\" .format(stats.mannwhitneyu(sampleA, sample_B_4Test)[1]))\n",
    "\n",
    "print('Relative conversion gain: '\"{0:.2%}\".format(sample_B_4Test.mean()/sampleA.mean()-1)) "
   ]
  },
  {
   "cell_type": "markdown",
   "metadata": {},
   "source": [
    "The first line of the output gives us the p-value, 0.015, which is less than 0.05. Therefore, we need to reject the null hypothesis that there is no statistically significant difference in conversion between groups.  \n",
    "\n",
    "The relative increase in the conversion rate of group B to the conversion of group A is ~13%."
   ]
  },
  {
   "cell_type": "markdown",
   "metadata": {},
   "source": [
    "## Raw Data :: Average order size\n",
    "\n",
    "Find the statistical significance of the difference in average order size between the groups using the raw data. "
   ]
  },
  {
   "cell_type": "markdown",
   "metadata": {},
   "source": [
    "**H₀: There's no statistically significant difference in average order size between group A and group B, they're the same.**  \n",
    "\n",
    "**H₁: The difference in average order size between groups is statistically significant.**"
   ]
  },
  {
   "cell_type": "markdown",
   "metadata": {},
   "source": [
    "To calculate the statistical significance of the difference in the segments' average order size, we'll pass the data on revenue to the mannwhitneyu() criterion.\n",
    "We'll also find the relative difference in average order size between the groups:"
   ]
  },
  {
   "cell_type": "code",
   "execution_count": 48,
   "metadata": {},
   "outputs": [
    {
     "name": "stdout",
     "output_type": "stream",
     "text": [
      "p-value: 0.692\n",
      "Statistical significance of the difference in average order size: 25.17%\n"
     ]
    }
   ],
   "source": [
    "print('p-value: '\"{0:.3f}\" .format(stats.mannwhitneyu(orders[orders['group']=='A']['revenue'],\n",
    "                                                      orders[orders['group']=='B']['revenue'])[1]))\n",
    "print('Statistical significance of the difference in average order size: '\"{0:.2%}\" .format(orders[orders['group']=='B']['revenue']\n",
    "                                                                                            .mean()/orders[orders['group']=='A']['revenue'].mean()-1)) \n"
   ]
  },
  {
   "cell_type": "code",
   "execution_count": 49,
   "metadata": {},
   "outputs": [
    {
     "name": "stdout",
     "output_type": "stream",
     "text": [
      "Average order size in group A: 115.897\n",
      "Average order size in group B: 145.063\n"
     ]
    }
   ],
   "source": [
    "print(f'Average order size in group A: '\"{0:.3f}\" .format(orders[orders['group']=='A']['revenue'].mean()))\n",
    "print(f'Average order size in group B: '\"{0:.3f}\" .format(orders[orders['group']=='B']['revenue'].mean()))"
   ]
  },
  {
   "cell_type": "markdown",
   "metadata": {},
   "source": [
    "P-value is significantly greater than 0.05. This means that there is no reason to reject the null hypothesis and believe that there are differences in the average check. \n",
    "\n",
    "Thus, we can conclude that the relative increase in the average check of group B to the average check of group A is 25% and i is statistically significant.\n",
    "This may be due to anomalies. Let's analyze the statistical significance of differences in indicators on the \"cleaned\" data."
   ]
  },
  {
   "cell_type": "markdown",
   "metadata": {},
   "source": [
    "## Clean Data :: Conversion\n",
    "Find the statistical significance of the difference in conversion between the\n",
    "groups using the filtered data. Make conclusions and conjectures."
   ]
  },
  {
   "cell_type": "code",
   "execution_count": 50,
   "metadata": {},
   "outputs": [
    {
     "name": "stdout",
     "output_type": "stream",
     "text": [
      "1099    148427295\n",
      "18      199603092\n",
      "23      237748145\n",
      "37      249864742\n",
      "68      457167155\n",
      "Name: visitor_id, dtype: int64\n",
      "(37,)\n"
     ]
    }
   ],
   "source": [
    "users_orders_more2 = pd.concat([orders_per_user_A[orders_per_user_A['orders'] > 2]['visitor_id'],\n",
    "                                orders_per_user_B[orders_per_user_B['orders'] > 2]['visitor_id']], axis = 0)\n",
    "users_expensive_orders = orders[orders['revenue'] > 800]['visitor_id']\n",
    "abnormalUsers = pd.concat([users_orders_more2, users_expensive_orders], axis = 0).drop_duplicates().sort_values()\n",
    "print(abnormalUsers.head(5))\n",
    "print(abnormalUsers.shape) "
   ]
  },
  {
   "cell_type": "code",
   "execution_count": 51,
   "metadata": {},
   "outputs": [],
   "source": [
    "sample_A_filter = pd.concat([orders_per_user_A[np.logical_not(orders_per_user_A['visitor_id'].isin(abnormalUsers))]\n",
    "                             ['orders'],pd.Series(0, index=np.arange(visits[visits['group']=='A']['visits'].sum() -\n",
    "                                                                     len(orders_per_user_A['orders'])),name='orders')],axis=0)\n",
    "\n",
    "sample_B_filter = pd.concat([orders_per_user_B[np.logical_not(orders_per_user_B['visitor_id'].isin(abnormalUsers))]\n",
    "                             ['orders'],pd.Series(0, index=np.arange(visits[visits['group']=='B']['visits'].sum() -\n",
    "                                                                     len(orders_per_user_B['orders'])),name='orders')],axis=0) \n"
   ]
  },
  {
   "cell_type": "code",
   "execution_count": 52,
   "metadata": {},
   "outputs": [
    {
     "name": "stdout",
     "output_type": "stream",
     "text": [
      "Size of sample A(filtered): 18707\n",
      "Size of sample B(filtered): 18893\n"
     ]
    }
   ],
   "source": [
    "#checking the size of the samples\n",
    "\n",
    "print('Size of sample A(filtered):', len(sample_A_filter))\n",
    "print('Size of sample B(filtered):', len(sample_B_filter))"
   ]
  },
  {
   "cell_type": "code",
   "execution_count": 53,
   "metadata": {},
   "outputs": [],
   "source": [
    "#reducing the size of sample B so statistical test would have higher power\n",
    "\n",
    "sample_B_4Test_filter = sample_B_filter.sample(18707)"
   ]
  },
  {
   "cell_type": "code",
   "execution_count": 54,
   "metadata": {},
   "outputs": [
    {
     "name": "stdout",
     "output_type": "stream",
     "text": [
      "p-value: 0.010\n",
      "Relative conversion gain in filtered data: 17.35%\n"
     ]
    }
   ],
   "source": [
    "# conversion between the groups using the raw data\n",
    "\n",
    "print('p-value: '\"{0:.3f}\" .format(stats.mannwhitneyu(sample_A_filter, sample_B_4Test_filter)[1]))\n",
    "\n",
    "print('Relative conversion gain in filtered data: '\"{0:.2%}\".format(sample_B_4Test_filter.mean()/sample_A_filter.mean()-1)) "
   ]
  },
  {
   "cell_type": "markdown",
   "metadata": {},
   "source": [
    "As with the raw data, the differences in conversion between groups were statistically significant. Group B is significantly better than Group A (average ~18% higher conversion rate)."
   ]
  },
  {
   "cell_type": "markdown",
   "metadata": {},
   "source": [
    "## Clean Data :: Average order size\n",
    "\n",
    "Find the statistical significance of the difference in average order size between the groups using the filtered data. Make conclusions and conjectures.\n"
   ]
  },
  {
   "cell_type": "code",
   "execution_count": 55,
   "metadata": {},
   "outputs": [
    {
     "name": "stdout",
     "output_type": "stream",
     "text": [
      "p-value in filtered data: 0.989\n",
      "Statistical significance of the difference in average order size in filtered data: 1.82%\n"
     ]
    }
   ],
   "source": [
    "print('p-value in filtered data: '\"{0:.3f}\".format(stats.mannwhitneyu(\n",
    "    orders[np.logical_and(\n",
    "        orders['group']=='A',\n",
    "        np.logical_not(orders['visitor_id'].isin(abnormalUsers)))]['revenue'],\n",
    "    orders[np.logical_and(\n",
    "        orders['group']=='B',\n",
    "        np.logical_not(orders['visitor_id'].isin(abnormalUsers)))]['revenue'])[1]))\n",
    "\n",
    "print('Statistical significance of the difference in average order size in filtered data: '\"{0:.2%}\" .format(\n",
    "    orders[np.logical_and(orders['group']=='B',\n",
    "                          np.logical_not(orders['visitor_id'].isin(abnormalUsers)))]['revenue'].mean()/\n",
    "    orders[np.logical_and(orders['group']=='A',\n",
    "                          np.logical_not(orders['visitor_id'].isin(abnormalUsers)))]['revenue'].mean() - 1)) \n"
   ]
  },
  {
   "cell_type": "markdown",
   "metadata": {},
   "source": [
    "So, even in the data cleared of anomalies, we see that the P-value remained significantly greater than 0.05. This means that we cannot reject the null hypothesis that the average checks do not have a statistically significant difference.\n",
    "  However, we should note that the relative increase in the average check of group B to the average check of group A has changed significantly. We observe that without abnormal users, the average check in group B is only 1% higher than the average check in group A. And we can consider this a statistically insignificant difference."
   ]
  },
  {
   "cell_type": "markdown",
   "metadata": {},
   "source": [
    "## Make a decision based on the test results. \n",
    "\n",
    "The possible decisions are:\n",
    "1. Stop the test, consider one of the groups the leader.\n",
    "2. Stop the test, conclude that there is no difference between the groups.\n",
    "3. Continue the test."
   ]
  },
  {
   "cell_type": "markdown",
   "metadata": {},
   "source": [
    "So, the study of differences in the main indicators in groups for statistical significance showed the following:\n",
    "\n",
    "1. There is a statistically significant difference in conversion between groups for both raw and filtered data;\n",
    "2. There is no statistically significant difference in mean score between groups either at baseline or in the data after anomaly filtering;\n",
    "3. A graph of the difference in conversions between groups shows that group B consistently performs better than group A;\n",
    "4. The average check difference plot shows that group B tends to perform slightly better than group A.\n",
    "\n",
    "According to the established facts, the test should be stopped and the victory of group B should be recorded. There is no point in continuing the test, since the main indicators are fixed at certain levels, and no changes are predicted, other things being equal."
   ]
  },
  {
   "cell_type": "markdown",
   "metadata": {},
   "source": [
    "## General conclusions"
   ]
  },
  {
   "cell_type": "markdown",
   "metadata": {},
   "source": [
    "This study, aimed at preparing recommendations for increasing the revenue of an online store based on the results of an A / B test conducted from August 1 to August 31, 2019, has the following conclusion.\n",
    "\n",
    "We have 9 hypotheses for increasing revenue. The most promising of them in terms of factors of influence, confidence and resource costs:\n",
    "- 7. Add a subscription form to all the main pages. This will help you compile a mailing list\n",
    "- 2. Add product recommendation blocks to the store's site. This will increase conversion and average purchase size\n",
    "- 6. Show banners with current offers and sales on the main page. This will boost conversion\t\n",
    "- 0. Add two new channels for attracting traffic. This will bring 30% more users\n",
    "\n",
    "A preliminary analysis of the results of the A / B test showed that it included only 2 groups: A and B. But users who fell into both tested groups also took part in the A / B testing: they were about 5% of all users. \n",
    "We don't know how this happened, who are these users and why are they represented in both of these groups?\n",
    "If we remove these users from the \"order\" data, we will mess up the results because we cannot identify the users in the \"visit\" data. Which in turn affects our conversion rate in the future. Therefore, these users were left and it was further verified that the exclusion of these users does not critically affect the study.\n",
    "\n",
    "Revenue increases almost uniformly throughout the test. Moreover, the first 5 days in both groups there was an approximately equal value of revenue. And then the graphs of cumulative revenue in both groups at several points began to rise sharply (in group B, the jumps were more pronounced). Further, in the process of analysis, it was revealed that such jumps are due to both anomalous users who made a lot of orders (3 or more - up to 11 orders), and users who bought very expensive goods.\n",
    "\n",
    "The average check in group A becomes uniform approximately from the middle to the end of the test, and in group B, after a significant jump, it begins to slowly decrease. Perhaps this is due to large or expensive purchases. Until mid-August, both groups had ups and downs (more in group B than in group A).\n",
    "\n",
    "Since August 7 the graph of cumulative conversion by groups looks almost symmetrical. Until August 4 there was a strong surge in both groups. In subsequent periods, the conversions of both groups settled at a certain level (approximately after August 9-11) with a clear predominance of the cumulative conversion of group B over the cumulative conversion of group A.\n",
    "\n",
    "It is recommended to stop the test and record the victory of group B. There is no point in continuing the test, because the main indicators have reached and fluctuate near certain levels, and no changes are predicted, other things being equal."
   ]
  }
 ],
 "metadata": {
  "kernelspec": {
   "display_name": "Python 3 (ipykernel)",
   "language": "python",
   "name": "python3"
  },
  "language_info": {
   "codemirror_mode": {
    "name": "ipython",
    "version": 3
   },
   "file_extension": ".py",
   "mimetype": "text/x-python",
   "name": "python",
   "nbconvert_exporter": "python",
   "pygments_lexer": "ipython3",
   "version": "3.9.12"
  },
  "toc": {
   "base_numbering": 1,
   "nav_menu": {},
   "number_sections": false,
   "sideBar": true,
   "skip_h1_title": true,
   "title_cell": "Table of Contents",
   "title_sidebar": "Contents",
   "toc_cell": false,
   "toc_position": {
    "height": "calc(100% - 180px)",
    "left": "10px",
    "top": "150px",
    "width": "297.778px"
   },
   "toc_section_display": true,
   "toc_window_display": true
  }
 },
 "nbformat": 4,
 "nbformat_minor": 2
}
