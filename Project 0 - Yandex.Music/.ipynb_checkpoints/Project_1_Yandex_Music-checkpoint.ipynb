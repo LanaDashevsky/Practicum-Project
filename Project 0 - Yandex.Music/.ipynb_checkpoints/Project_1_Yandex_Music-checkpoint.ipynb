{
 "cells": [
  {
   "cell_type": "markdown",
   "metadata": {
    "id": "E0vqbgi9ay0H"
   },
   "source": [
    "# Yandex.Music"
   ]
  },
  {
   "cell_type": "markdown",
   "metadata": {
    "id": "fhq_eyov_Zcs"
   },
   "source": [
    "# Contents <a id='back'></a>\n",
    "\n",
    "* [Introduction](#intro)\n",
    "* [Stage 1. Data overview](#data_review)\n",
    "    * [Conclusions](#data_review_conclusions)\n",
    "* [Stage 2. Data preprocessing](#data_preprocessing)\n",
    "    * [2.1 Header style](#header_style)\n",
    "    * [2.2 Missing values](#missing_values)\n",
    "    * [2.3 Duplicates](#duplicates)\n",
    "    * [2.4 Conclusions](#data_preprocessing_conclusions)\n",
    "* [Stage 3. Testing the hypotheses](#hypotheses)\n",
    "    * [3.1 Hypothesis 1: user activity in the two cities](#activity)\n",
    "    * [3.2 Hypothesis 2: music preferences on Monday and Friday](#week)\n",
    "    * [3.3 Hypothesis 3: genre preferences in Springfield and Shelbyville](#genre)\n",
    "* [Findings](#end)"
   ]
  },
  {
   "cell_type": "markdown",
   "metadata": {
    "id": "VUC88oWjTJw2"
   },
   "source": [
    "## Introduction <a id='intro'></a>\n",
    "Whenever we're doing research, we need to formulate hypotheses that we can then test. Sometimes we accept these hypotheses; other times, we reject them. To make the right decisions, a business must be able to understand whether or not it's making the right assumptions.\n",
    "\n",
    "In this project, we'll compare the music preferences of the cities of Springfield and Shelbyville. We'll study real Yandex.Music data to test the hypotheses below and compare user behavior for these two cities.\n",
    "\n",
    "### Goal: \n",
    "Test three hypotheses:\n",
    "1. User activity differs depending on the day of the week and from city to city. \n",
    "2. On Monday mornings, Springfield and Shelbyville residents listen to different genres. This is also true for Friday evenings. \n",
    "3. Springfield and Shelbyville listeners have different preferences. In Springfield, they prefer pop, while Shelbyville has more rap fans.\n",
    "\n",
    "### Stages \n",
    "\n",
    "First, we'll evaluate the quality of the data and see whether it's issues are significant. Then, during data preprocessing, we will try to account for the most critical problems.\n",
    " \n",
    "Project will consist of three stages:\n",
    " 1. Data overview\n",
    " 2. Data preprocessing\n",
    " 3. Testing the hypotheses\n",
    "\n",
    " \n",
    "[Back to Contents](#back)"
   ]
  },
  {
   "cell_type": "markdown",
   "metadata": {
    "id": "Ml1hmfXC_Zcs"
   },
   "source": [
    "## Stage 1. Data overview <a id='data_review'></a>\n",
    "\n",
    "Open the data on Yandex.Music and explore it."
   ]
  },
  {
   "cell_type": "code",
   "execution_count": 1,
   "metadata": {
    "id": "AXN7PHPN_Zcs"
   },
   "outputs": [],
   "source": [
    "# importing pandas\n",
    "import pandas as pd\n"
   ]
  },
  {
   "cell_type": "markdown",
   "metadata": {
    "id": "SG23P8tt_Zcs"
   },
   "source": [
    "Read the file `music_project_en.csv` from the `/datasets/` folder and save it in the `df` variable:"
   ]
  },
  {
   "cell_type": "code",
   "execution_count": 2,
   "metadata": {},
   "outputs": [],
   "source": [
    "#creating variable for dataset path\n",
    "data_path = '/Users/lanadashevsky/Practicum DA projects/datasets/'"
   ]
  },
  {
   "cell_type": "code",
   "execution_count": 3,
   "metadata": {},
   "outputs": [],
   "source": [
    "# reading the file and storing it to df\n",
    "try:\n",
    "    df = pd.read_csv('music_project_en.csv')\n",
    "    \n",
    "except:\n",
    "    df = pd.read_csv(data_path+'music_project_en.csv')"
   ]
  },
  {
   "cell_type": "code",
   "execution_count": 4,
   "metadata": {
    "id": "fFVu7vqh_Zct"
   },
   "outputs": [
    {
     "data": {
      "text/html": [
       "<div>\n",
       "<style scoped>\n",
       "    .dataframe tbody tr th:only-of-type {\n",
       "        vertical-align: middle;\n",
       "    }\n",
       "\n",
       "    .dataframe tbody tr th {\n",
       "        vertical-align: top;\n",
       "    }\n",
       "\n",
       "    .dataframe thead th {\n",
       "        text-align: right;\n",
       "    }\n",
       "</style>\n",
       "<table border=\"1\" class=\"dataframe\">\n",
       "  <thead>\n",
       "    <tr style=\"text-align: right;\">\n",
       "      <th></th>\n",
       "      <th>userID</th>\n",
       "      <th>Track</th>\n",
       "      <th>artist</th>\n",
       "      <th>genre</th>\n",
       "      <th>City</th>\n",
       "      <th>time</th>\n",
       "      <th>Day</th>\n",
       "    </tr>\n",
       "  </thead>\n",
       "  <tbody>\n",
       "    <tr>\n",
       "      <th>count</th>\n",
       "      <td>65079</td>\n",
       "      <td>63736</td>\n",
       "      <td>57512</td>\n",
       "      <td>63881</td>\n",
       "      <td>65079</td>\n",
       "      <td>65079</td>\n",
       "      <td>65079</td>\n",
       "    </tr>\n",
       "    <tr>\n",
       "      <th>unique</th>\n",
       "      <td>41748</td>\n",
       "      <td>39666</td>\n",
       "      <td>37806</td>\n",
       "      <td>268</td>\n",
       "      <td>2</td>\n",
       "      <td>20392</td>\n",
       "      <td>3</td>\n",
       "    </tr>\n",
       "    <tr>\n",
       "      <th>top</th>\n",
       "      <td>A8AE9169</td>\n",
       "      <td>Brand</td>\n",
       "      <td>Kartvelli</td>\n",
       "      <td>pop</td>\n",
       "      <td>Springfield</td>\n",
       "      <td>08:14:07</td>\n",
       "      <td>Friday</td>\n",
       "    </tr>\n",
       "    <tr>\n",
       "      <th>freq</th>\n",
       "      <td>76</td>\n",
       "      <td>136</td>\n",
       "      <td>136</td>\n",
       "      <td>8850</td>\n",
       "      <td>45360</td>\n",
       "      <td>14</td>\n",
       "      <td>23149</td>\n",
       "    </tr>\n",
       "  </tbody>\n",
       "</table>\n",
       "</div>"
      ],
      "text/plain": [
       "          userID  Track     artist  genre       City        time     Day\n",
       "count      65079  63736      57512  63881        65079     65079   65079\n",
       "unique     41748  39666      37806    268            2     20392       3\n",
       "top     A8AE9169  Brand  Kartvelli    pop  Springfield  08:14:07  Friday\n",
       "freq          76    136        136   8850        45360        14   23149"
      ]
     },
     "execution_count": 4,
     "metadata": {},
     "output_type": "execute_result"
    }
   ],
   "source": [
    "df.describe()"
   ]
  },
  {
   "cell_type": "markdown",
   "metadata": {
    "id": "rDoOMd3uTqnZ"
   },
   "source": [
    "Print the first 10 table rows:"
   ]
  },
  {
   "cell_type": "code",
   "execution_count": 5,
   "metadata": {
    "id": "oWTVX3gW_Zct"
   },
   "outputs": [
    {
     "data": {
      "text/html": [
       "<div>\n",
       "<style scoped>\n",
       "    .dataframe tbody tr th:only-of-type {\n",
       "        vertical-align: middle;\n",
       "    }\n",
       "\n",
       "    .dataframe tbody tr th {\n",
       "        vertical-align: top;\n",
       "    }\n",
       "\n",
       "    .dataframe thead th {\n",
       "        text-align: right;\n",
       "    }\n",
       "</style>\n",
       "<table border=\"1\" class=\"dataframe\">\n",
       "  <thead>\n",
       "    <tr style=\"text-align: right;\">\n",
       "      <th></th>\n",
       "      <th>userID</th>\n",
       "      <th>Track</th>\n",
       "      <th>artist</th>\n",
       "      <th>genre</th>\n",
       "      <th>City</th>\n",
       "      <th>time</th>\n",
       "      <th>Day</th>\n",
       "    </tr>\n",
       "  </thead>\n",
       "  <tbody>\n",
       "    <tr>\n",
       "      <th>0</th>\n",
       "      <td>FFB692EC</td>\n",
       "      <td>Kamigata To Boots</td>\n",
       "      <td>The Mass Missile</td>\n",
       "      <td>rock</td>\n",
       "      <td>Shelbyville</td>\n",
       "      <td>20:28:33</td>\n",
       "      <td>Wednesday</td>\n",
       "    </tr>\n",
       "    <tr>\n",
       "      <th>1</th>\n",
       "      <td>55204538</td>\n",
       "      <td>Delayed Because of Accident</td>\n",
       "      <td>Andreas Rönnberg</td>\n",
       "      <td>rock</td>\n",
       "      <td>Springfield</td>\n",
       "      <td>14:07:09</td>\n",
       "      <td>Friday</td>\n",
       "    </tr>\n",
       "    <tr>\n",
       "      <th>2</th>\n",
       "      <td>20EC38</td>\n",
       "      <td>Funiculì funiculà</td>\n",
       "      <td>Mario Lanza</td>\n",
       "      <td>pop</td>\n",
       "      <td>Shelbyville</td>\n",
       "      <td>20:58:07</td>\n",
       "      <td>Wednesday</td>\n",
       "    </tr>\n",
       "    <tr>\n",
       "      <th>3</th>\n",
       "      <td>A3DD03C9</td>\n",
       "      <td>Dragons in the Sunset</td>\n",
       "      <td>Fire + Ice</td>\n",
       "      <td>folk</td>\n",
       "      <td>Shelbyville</td>\n",
       "      <td>08:37:09</td>\n",
       "      <td>Monday</td>\n",
       "    </tr>\n",
       "    <tr>\n",
       "      <th>4</th>\n",
       "      <td>E2DC1FAE</td>\n",
       "      <td>Soul People</td>\n",
       "      <td>Space Echo</td>\n",
       "      <td>dance</td>\n",
       "      <td>Springfield</td>\n",
       "      <td>08:34:34</td>\n",
       "      <td>Monday</td>\n",
       "    </tr>\n",
       "    <tr>\n",
       "      <th>5</th>\n",
       "      <td>842029A1</td>\n",
       "      <td>Chains</td>\n",
       "      <td>Obladaet</td>\n",
       "      <td>rusrap</td>\n",
       "      <td>Shelbyville</td>\n",
       "      <td>13:09:41</td>\n",
       "      <td>Friday</td>\n",
       "    </tr>\n",
       "    <tr>\n",
       "      <th>6</th>\n",
       "      <td>4CB90AA5</td>\n",
       "      <td>True</td>\n",
       "      <td>Roman Messer</td>\n",
       "      <td>dance</td>\n",
       "      <td>Springfield</td>\n",
       "      <td>13:00:07</td>\n",
       "      <td>Wednesday</td>\n",
       "    </tr>\n",
       "    <tr>\n",
       "      <th>7</th>\n",
       "      <td>F03E1C1F</td>\n",
       "      <td>Feeling This Way</td>\n",
       "      <td>Polina Griffith</td>\n",
       "      <td>dance</td>\n",
       "      <td>Springfield</td>\n",
       "      <td>20:47:49</td>\n",
       "      <td>Wednesday</td>\n",
       "    </tr>\n",
       "    <tr>\n",
       "      <th>8</th>\n",
       "      <td>8FA1D3BE</td>\n",
       "      <td>L’estate</td>\n",
       "      <td>Julia Dalia</td>\n",
       "      <td>ruspop</td>\n",
       "      <td>Springfield</td>\n",
       "      <td>09:17:40</td>\n",
       "      <td>Friday</td>\n",
       "    </tr>\n",
       "    <tr>\n",
       "      <th>9</th>\n",
       "      <td>E772D5C0</td>\n",
       "      <td>Pessimist</td>\n",
       "      <td>NaN</td>\n",
       "      <td>dance</td>\n",
       "      <td>Shelbyville</td>\n",
       "      <td>21:20:49</td>\n",
       "      <td>Wednesday</td>\n",
       "    </tr>\n",
       "  </tbody>\n",
       "</table>\n",
       "</div>"
      ],
      "text/plain": [
       "     userID                        Track            artist   genre  \\\n",
       "0  FFB692EC            Kamigata To Boots  The Mass Missile    rock   \n",
       "1  55204538  Delayed Because of Accident  Andreas Rönnberg    rock   \n",
       "2    20EC38            Funiculì funiculà       Mario Lanza     pop   \n",
       "3  A3DD03C9        Dragons in the Sunset        Fire + Ice    folk   \n",
       "4  E2DC1FAE                  Soul People        Space Echo   dance   \n",
       "5  842029A1                       Chains          Obladaet  rusrap   \n",
       "6  4CB90AA5                         True      Roman Messer   dance   \n",
       "7  F03E1C1F             Feeling This Way   Polina Griffith   dance   \n",
       "8  8FA1D3BE                     L’estate       Julia Dalia  ruspop   \n",
       "9  E772D5C0                    Pessimist               NaN   dance   \n",
       "\n",
       "        City        time        Day  \n",
       "0  Shelbyville  20:28:33  Wednesday  \n",
       "1  Springfield  14:07:09     Friday  \n",
       "2  Shelbyville  20:58:07  Wednesday  \n",
       "3  Shelbyville  08:37:09     Monday  \n",
       "4  Springfield  08:34:34     Monday  \n",
       "5  Shelbyville  13:09:41     Friday  \n",
       "6  Springfield  13:00:07  Wednesday  \n",
       "7  Springfield  20:47:49  Wednesday  \n",
       "8  Springfield  09:17:40     Friday  \n",
       "9  Shelbyville  21:20:49  Wednesday  "
      ]
     },
     "execution_count": 5,
     "metadata": {},
     "output_type": "execute_result"
    }
   ],
   "source": [
    "# obtaining the first 10 rows from the df table\n",
    "df.head(10)"
   ]
  },
  {
   "cell_type": "markdown",
   "metadata": {
    "id": "EO73Kwic_Zct"
   },
   "source": [
    "Obtaining the general information about the table with one command:"
   ]
  },
  {
   "cell_type": "code",
   "execution_count": 6,
   "metadata": {
    "id": "DSf2kIb-_Zct"
   },
   "outputs": [
    {
     "data": {
      "text/plain": [
       "  userID    object\n",
       "Track       object\n",
       "artist      object\n",
       "genre       object\n",
       "  City      object\n",
       "time        object\n",
       "Day         object\n",
       "dtype: object"
      ]
     },
     "execution_count": 6,
     "metadata": {},
     "output_type": "execute_result"
    }
   ],
   "source": [
    "# obtaining general information about the data in df\n",
    "df.dtypes "
   ]
  },
  {
   "cell_type": "markdown",
   "metadata": {
    "id": "TaQ2Iwbr_Zct"
   },
   "source": [
    "The table contains seven columns. They all store the same data type: `object`.\n",
    "\n",
    "According to the documentation:\n",
    "- `'userID'` — user identifier\n",
    "- `'Track'` — track title\n",
    "- `'artist'` — artist's name\n",
    "- `'genre'`\n",
    "- `'City'` — user's city\n",
    "- `'time'` — the exact time the track was played\n",
    "- `'Day'` — day of the week\n",
    "\n",
    "We can see three issues with style in the column names:\n",
    "1. Some names are uppercase, some are lowercase.\n",
    "2. There are spaces in some names.\n",
    "3. The inability to determine what is stored in a column based on its name.\n",
    "\n",
    "The number of column values is different. This means the data contains missing values.\n"
   ]
  },
  {
   "cell_type": "markdown",
   "metadata": {
    "id": "MCB6-dXG_Zct"
   },
   "source": [
    "### Conclusions <a id='data_review_conclusions'></a> \n",
    "\n",
    "Each row in the table stores data on a track that was played. Some columns describe the track itself: its title, artist and genre. The rest convey information about the user: the city they come from, the time they played the track. \n",
    "\n",
    "It's clear that the data is sufficient to test the hypotheses. However, there are missing values.\n",
    "\n",
    "To move forward, we need to preprocess the data."
   ]
  },
  {
   "cell_type": "markdown",
   "metadata": {
    "id": "3eL__vcwViOi"
   },
   "source": [
    "[Back to Contents](#back)"
   ]
  },
  {
   "cell_type": "markdown",
   "metadata": {
    "id": "SjYF6Ub9_Zct"
   },
   "source": [
    "## Stage 2. Data preprocessing <a id='data_preprocessing'></a>\n",
    "Correct the formatting in the column headers and deal with the missing values. Then, check whether there are duplicates in the data."
   ]
  },
  {
   "cell_type": "markdown",
   "metadata": {
    "id": "dIaKXr29_Zct"
   },
   "source": [
    "### Header style <a id='header_style'></a>\n",
    "Print the column header:"
   ]
  },
  {
   "cell_type": "code",
   "execution_count": 7,
   "metadata": {
    "id": "oKOTdF_Q_Zct"
   },
   "outputs": [
    {
     "data": {
      "text/plain": [
       "Index(['  userID', 'Track', 'artist', 'genre', '  City  ', 'time', 'Day'], dtype='object')"
      ]
     },
     "execution_count": 7,
     "metadata": {},
     "output_type": "execute_result"
    }
   ],
   "source": [
    "# the list of column names in the df table\n",
    "df.columns"
   ]
  },
  {
   "cell_type": "markdown",
   "metadata": {
    "id": "zj5534cv_Zct"
   },
   "source": [
    "Change column names according to the rules of good style:\n",
    "* If the name has several words, use snake_case\n",
    "* All characters must be lowercase\n",
    "* Delete spaces"
   ]
  },
  {
   "cell_type": "code",
   "execution_count": 8,
   "metadata": {
    "id": "ISlFqs5y_Zct"
   },
   "outputs": [],
   "source": [
    "# renaming columns\n",
    "df = df.rename(\n",
    "    columns={\n",
    "        '  userID': 'user_id',\n",
    "        'Track': 'track',\n",
    "        'artist': 'artist',\n",
    "        'genre': 'genre',\n",
    "        '  City  ': 'city',\n",
    "        'time': 'played_time',\n",
    "        'Day': 'day',\n",
    "    }\n",
    ")"
   ]
  },
  {
   "cell_type": "markdown",
   "metadata": {
    "id": "1dqbh00J_Zct"
   },
   "source": [
    "Check the result. Print the names of the columns once more:"
   ]
  },
  {
   "cell_type": "code",
   "execution_count": 9,
   "metadata": {
    "id": "d4NOAmTW_Zct"
   },
   "outputs": [
    {
     "data": {
      "text/plain": [
       "Index(['user_id', 'track', 'artist', 'genre', 'city', 'played_time', 'day'], dtype='object')"
      ]
     },
     "execution_count": 9,
     "metadata": {},
     "output_type": "execute_result"
    }
   ],
   "source": [
    "df.columns"
   ]
  },
  {
   "cell_type": "markdown",
   "metadata": {
    "id": "xYJk6ksJVpOl"
   },
   "source": [
    "[Back to Contents](#back)"
   ]
  },
  {
   "cell_type": "markdown",
   "metadata": {
    "id": "5ISfbcfY_Zct"
   },
   "source": [
    "### Missing values <a id='missing_values'></a>\n",
    "First, find the number of missing values in the table. To do so, use two `pandas` methods:"
   ]
  },
  {
   "cell_type": "code",
   "execution_count": 10,
   "metadata": {
    "id": "RskX29qr_Zct"
   },
   "outputs": [
    {
     "data": {
      "text/plain": [
       "user_id           0\n",
       "track          1343\n",
       "artist         7567\n",
       "genre          1198\n",
       "city              0\n",
       "played_time       0\n",
       "day               0\n",
       "dtype: int64"
      ]
     },
     "execution_count": 10,
     "metadata": {},
     "output_type": "execute_result"
    }
   ],
   "source": [
    "# calculating missing values\n",
    "df.isna().sum()"
   ]
  },
  {
   "cell_type": "markdown",
   "metadata": {
    "id": "qubhgnlO_Zct"
   },
   "source": [
    "Not all missing values affect the research. For instance, the missing values in `track` and `artist` are not critical. You can simply replace them with clear markers.\n",
    "\n",
    "But missing values in `'genre'` can affect the comparison of music preferences in Springfield and Shelbyville. In real life, it would be useful to learn the reasons why the data is missing and try to make up for them. But we do not have that opportunity in this project. So you will have to:\n",
    "* Fill in these missing values with markers\n",
    "* Evaluate how much the missing values may affect your computations"
   ]
  },
  {
   "cell_type": "markdown",
   "metadata": {
    "id": "fSv2laPA_Zct"
   },
   "source": [
    "Replace the missing values in `'track'`, `'artist'`, and `'genre'` with the string `'unknown'`. To do this, create the `columns_to_replace` list, loop over it with `for`, and replace the missing values in each of the columns:"
   ]
  },
  {
   "cell_type": "code",
   "execution_count": 11,
   "metadata": {
    "id": "KplB5qWs_Zct"
   },
   "outputs": [],
   "source": [
    "# looping over column names and replacing missing values with 'unknown'\n",
    "columns_to_replace = ['track', 'artist', 'genre']\n",
    "\n",
    "for col in columns_to_replace:\n",
    "    df[col] = df[col].fillna('unknown')\n"
   ]
  },
  {
   "cell_type": "markdown",
   "metadata": {
    "id": "Ilsm-MZo_Zct"
   },
   "source": [
    "Make sure the table contains no more missing values. Count the missing values again."
   ]
  },
  {
   "cell_type": "code",
   "execution_count": 12,
   "metadata": {
    "id": "Tq4nYRX4_Zct"
   },
   "outputs": [
    {
     "data": {
      "text/plain": [
       "user_id        0\n",
       "track          0\n",
       "artist         0\n",
       "genre          0\n",
       "city           0\n",
       "played_time    0\n",
       "day            0\n",
       "dtype: int64"
      ]
     },
     "execution_count": 12,
     "metadata": {},
     "output_type": "execute_result"
    }
   ],
   "source": [
    "# counting missing values\n",
    "df.isna().sum()"
   ]
  },
  {
   "cell_type": "markdown",
   "metadata": {
    "id": "74ZIBmq9VrsK"
   },
   "source": [
    "[Back to Contents](#back)"
   ]
  },
  {
   "cell_type": "markdown",
   "metadata": {
    "id": "BWKRtBJ3_Zct"
   },
   "source": [
    "### Duplicates <a id='duplicates'></a>\n",
    "Find the number of obvious duplicates in the table using one command:"
   ]
  },
  {
   "cell_type": "code",
   "execution_count": 13,
   "metadata": {
    "id": "36eES_S0_Zct"
   },
   "outputs": [
    {
     "name": "stdout",
     "output_type": "stream",
     "text": [
      "3826\n"
     ]
    }
   ],
   "source": [
    "# counting clear duplicates\n",
    "print(df.duplicated().sum()) "
   ]
  },
  {
   "cell_type": "markdown",
   "metadata": {
    "id": "Ot25h6XR_Zct"
   },
   "source": [
    "Call the `pandas` method for getting rid of obvious duplicates:"
   ]
  },
  {
   "cell_type": "code",
   "execution_count": 14,
   "metadata": {
    "id": "exFHq6tt_Zct"
   },
   "outputs": [],
   "source": [
    "# removing obvious duplicates\n",
    "df = df.drop_duplicates().reset_index(drop=True) "
   ]
  },
  {
   "cell_type": "markdown",
   "metadata": {
    "id": "Im2YwBEG_Zct"
   },
   "source": [
    "Count obvious duplicates once more to make sure you have removed all of them:"
   ]
  },
  {
   "cell_type": "code",
   "execution_count": 15,
   "metadata": {
    "id": "-8PuNWQ0_Zct"
   },
   "outputs": [
    {
     "name": "stdout",
     "output_type": "stream",
     "text": [
      "0\n"
     ]
    }
   ],
   "source": [
    "# checking for duplicates\n",
    "print(df.duplicated().sum())"
   ]
  },
  {
   "cell_type": "markdown",
   "metadata": {
    "id": "QlFBsxAr_Zct"
   },
   "source": [
    "Now get rid of implicit duplicates in the `genre` column. For example, the name of a genre can be written in different ways. Such errors will also affect the result."
   ]
  },
  {
   "cell_type": "markdown",
   "metadata": {
    "id": "eSjWwsOh_Zct"
   },
   "source": [
    "Print a list of unique genre names, sorted in alphabetical order. To do so:\n",
    "* Retrieve the intended DataFrame column \n",
    "* Apply a sorting method to it\n",
    "* For the sorted column, call the method that will return all unique column values"
   ]
  },
  {
   "cell_type": "code",
   "execution_count": 16,
   "metadata": {
    "id": "JIUcqzZN_Zct"
   },
   "outputs": [
    {
     "name": "stdout",
     "output_type": "stream",
     "text": [
      "['acid' 'acoustic' 'action' 'adult' 'africa' 'afrikaans' 'alternative'\n",
      " 'ambient' 'americana' 'animated' 'anime' 'arabesk' 'arabic' 'arena'\n",
      " 'argentinetango' 'art' 'audiobook' 'avantgarde' 'axé' 'baile' 'balkan'\n",
      " 'beats' 'bigroom' 'black' 'bluegrass' 'blues' 'bollywood' 'bossa'\n",
      " 'brazilian' 'breakbeat' 'breaks' 'broadway' 'cantautori' 'cantopop'\n",
      " 'canzone' 'caribbean' 'caucasian' 'celtic' 'chamber' 'children' 'chill'\n",
      " 'chinese' 'choral' 'christian' 'christmas' 'classical' 'classicmetal'\n",
      " 'club' 'colombian' 'comedy' 'conjazz' 'contemporary' 'country' 'cuban'\n",
      " 'dance' 'dancehall' 'dancepop' 'dark' 'death' 'deep' 'deutschrock'\n",
      " 'deutschspr' 'dirty' 'disco' 'dnb' 'documentary' 'downbeat' 'downtempo'\n",
      " 'drum' 'dub' 'dubstep' 'eastern' 'easy' 'electronic' 'electropop' 'emo'\n",
      " 'entehno' 'epicmetal' 'estrada' 'ethnic' 'eurofolk' 'european'\n",
      " 'experimental' 'extrememetal' 'fado' 'film' 'fitness' 'flamenco' 'folk'\n",
      " 'folklore' 'folkmetal' 'folkrock' 'folktronica' 'forró' 'frankreich'\n",
      " 'französisch' 'french' 'funk' 'future' 'gangsta' 'garage' 'german'\n",
      " 'ghazal' 'gitarre' 'glitch' 'gospel' 'gothic' 'grime' 'grunge' 'gypsy'\n",
      " 'handsup' \"hard'n'heavy\" 'hardcore' 'hardstyle' 'hardtechno' 'hip'\n",
      " 'hip-hop' 'hiphop' 'historisch' 'holiday' 'hop' 'horror' 'house' 'idm'\n",
      " 'independent' 'indian' 'indie' 'indipop' 'industrial' 'inspirational'\n",
      " 'instrumental' 'international' 'irish' 'jam' 'japanese' 'jazz' 'jewish'\n",
      " 'jpop' 'jungle' 'k-pop' 'karadeniz' 'karaoke' 'kayokyoku' 'korean'\n",
      " 'laiko' 'latin' 'latino' 'leftfield' 'local' 'lounge' 'loungeelectronic'\n",
      " 'lovers' 'malaysian' 'mandopop' 'marschmusik' 'meditative'\n",
      " 'mediterranean' 'melodic' 'metal' 'metalcore' 'mexican' 'middle'\n",
      " 'minimal' 'miscellaneous' 'modern' 'mood' 'mpb' 'muslim' 'native'\n",
      " 'neoklassik' 'neue' 'new' 'newage' 'newwave' 'nu' 'nujazz' 'numetal'\n",
      " 'oceania' 'old' 'opera' 'orchestral' 'other' 'piano' 'pop'\n",
      " 'popelectronic' 'popeurodance' 'post' 'posthardcore' 'postrock' 'power'\n",
      " 'progmetal' 'progressive' 'psychedelic' 'punjabi' 'punk' 'quebecois'\n",
      " 'ragga' 'ram' 'rancheras' 'rap' 'rave' 'reggae' 'reggaeton' 'regional'\n",
      " 'relax' 'religious' 'retro' 'rhythm' 'rnb' 'rnr' 'rock' 'rockabilly'\n",
      " 'romance' 'roots' 'ruspop' 'rusrap' 'rusrock' 'salsa' 'samba' 'schlager'\n",
      " 'self' 'sertanejo' 'shoegazing' 'showtunes' 'singer' 'ska' 'slow'\n",
      " 'smooth' 'soul' 'soulful' 'sound' 'soundtrack' 'southern' 'specialty'\n",
      " 'speech' 'spiritual' 'sport' 'stonerrock' 'surf' 'swing' 'synthpop'\n",
      " 'sängerportrait' 'tango' 'tanzorchester' 'taraftar' 'tech' 'techno'\n",
      " 'thrash' 'top' 'traditional' 'tradjazz' 'trance' 'tribal' 'trip'\n",
      " 'triphop' 'tropical' 'türk' 'türkçe' 'unknown' 'urban' 'uzbek' 'variété'\n",
      " 'vi' 'videogame' 'vocal' 'western' 'world' 'worldbeat' 'ïîï']\n"
     ]
    }
   ],
   "source": [
    "# viewing unique genre names\n",
    "\n",
    "print(df['genre'].sort_values().unique())"
   ]
  },
  {
   "cell_type": "markdown",
   "metadata": {
    "id": "qej-Qmuo_Zct"
   },
   "source": [
    "Look through the list to find implicit duplicates of the genre `hiphop`. These could be names written incorrectly or alternative names of the same genre.\n",
    "\n",
    "You will see the following implicit duplicates:\n",
    "* `hip`\n",
    "* `hop`\n",
    "* `hip-hop`\n",
    "\n",
    "To get rid of them, declare the function `replace_wrong_genres()` with two parameters: \n",
    "* `wrong_genres=` — the list of duplicates\n",
    "* `correct_genre=` — the string with the correct value\n",
    "\n",
    "The function should correct the names in the `'genre'` column from the `df` table, i.e. replace each value from the `wrong_genres` list with the value in `correct_genre`."
   ]
  },
  {
   "cell_type": "code",
   "execution_count": 17,
   "metadata": {
    "id": "ErNDkmns_Zct"
   },
   "outputs": [],
   "source": [
    "# function for replacing implicit duplicates\n",
    "def replace_wrong_genres(wrong_genres, correct_genre): # passing a list of wrong values and a string with the correct value on the function's input\n",
    "    for wrong_genres in wrong_genres: # looping over misspelled genres\n",
    "        df['genre'] = df['genre'].replace(wrong_genres, correct_genre) # calling replace() for each wrong genres\n"
   ]
  },
  {
   "cell_type": "markdown",
   "metadata": {
    "id": "aDoBJxbA_Zct"
   },
   "source": [
    "Call `replace_wrong_genres()` and pass it arguments so that it clears implicit duplcates (`hip`, `hop`, and `hip-hop`) and replaces them with `hiphop`:"
   ]
  },
  {
   "cell_type": "code",
   "execution_count": 18,
   "metadata": {
    "id": "YN5i2hpmSo09"
   },
   "outputs": [],
   "source": [
    "# removing implicit duplicates\n",
    "\n",
    "duplicates = ['hip', 'hop', 'hip-hop'] # a list of misspelled genres\n",
    "name = 'hiphop' # correct genres for hiphop\n",
    "replace_wrong_genres(duplicates, name) # function call\n"
   ]
  },
  {
   "cell_type": "markdown",
   "metadata": {
    "id": "zQKF16_RG15m"
   },
   "source": [
    "Make sure the duplicate names were removed. Print the list of unique values from the `'genre'` column:"
   ]
  },
  {
   "cell_type": "code",
   "execution_count": 19,
   "metadata": {
    "id": "wvixALnFG15m"
   },
   "outputs": [
    {
     "data": {
      "text/plain": [
       "array(['rock', 'pop', 'folk', 'dance', 'rusrap', 'ruspop', 'world',\n",
       "       'electronic', 'unknown', 'alternative', 'children', 'rnb',\n",
       "       'hiphop', 'jazz', 'postrock', 'latin', 'classical', 'metal',\n",
       "       'reggae', 'triphop', 'blues', 'instrumental', 'rusrock', 'dnb',\n",
       "       'türk', 'post', 'country', 'psychedelic', 'conjazz', 'indie',\n",
       "       'posthardcore', 'local', 'avantgarde', 'punk', 'videogame',\n",
       "       'techno', 'house', 'christmas', 'melodic', 'caucasian',\n",
       "       'reggaeton', 'soundtrack', 'singer', 'ska', 'salsa', 'ambient',\n",
       "       'film', 'western', 'rap', 'beats', \"hard'n'heavy\", 'progmetal',\n",
       "       'minimal', 'tropical', 'contemporary', 'new', 'soul', 'holiday',\n",
       "       'german', 'jpop', 'spiritual', 'urban', 'gospel', 'nujazz',\n",
       "       'folkmetal', 'trance', 'miscellaneous', 'anime', 'hardcore',\n",
       "       'progressive', 'korean', 'numetal', 'vocal', 'estrada', 'tango',\n",
       "       'loungeelectronic', 'classicmetal', 'dubstep', 'club', 'deep',\n",
       "       'southern', 'black', 'folkrock', 'fitness', 'french', 'disco',\n",
       "       'religious', 'drum', 'extrememetal', 'türkçe', 'experimental',\n",
       "       'easy', 'metalcore', 'modern', 'argentinetango', 'old', 'swing',\n",
       "       'breaks', 'eurofolk', 'stonerrock', 'industrial', 'funk', 'middle',\n",
       "       'variété', 'other', 'adult', 'christian', 'thrash', 'gothic',\n",
       "       'international', 'muslim', 'relax', 'schlager', 'caribbean', 'nu',\n",
       "       'breakbeat', 'comedy', 'chill', 'newage', 'specialty', 'uzbek',\n",
       "       'k-pop', 'balkan', 'chinese', 'meditative', 'dub', 'power',\n",
       "       'death', 'grime', 'arabesk', 'romance', 'flamenco', 'leftfield',\n",
       "       'european', 'tech', 'newwave', 'dancehall', 'mpb', 'piano', 'top',\n",
       "       'bigroom', 'opera', 'celtic', 'tradjazz', 'acoustic', 'epicmetal',\n",
       "       'historisch', 'downbeat', 'downtempo', 'africa', 'audiobook',\n",
       "       'jewish', 'sängerportrait', 'deutschrock', 'eastern', 'action',\n",
       "       'future', 'electropop', 'folklore', 'bollywood', 'marschmusik',\n",
       "       'rnr', 'karaoke', 'indian', 'rancheras', 'afrikaans', 'rhythm',\n",
       "       'sound', 'deutschspr', 'trip', 'lovers', 'choral', 'dancepop',\n",
       "       'retro', 'smooth', 'mexican', 'brazilian', 'ïîï', 'mood', 'surf',\n",
       "       'gangsta', 'inspirational', 'idm', 'ethnic', 'bluegrass',\n",
       "       'broadway', 'animated', 'americana', 'karadeniz', 'rockabilly',\n",
       "       'colombian', 'self', 'sertanejo', 'japanese', 'canzone', 'lounge',\n",
       "       'sport', 'ragga', 'traditional', 'gitarre', 'frankreich', 'emo',\n",
       "       'laiko', 'cantopop', 'glitch', 'documentary', 'oceania',\n",
       "       'popeurodance', 'dark', 'vi', 'grunge', 'hardstyle', 'samba',\n",
       "       'garage', 'art', 'folktronica', 'entehno', 'mediterranean',\n",
       "       'chamber', 'cuban', 'taraftar', 'gypsy', 'hardtechno',\n",
       "       'shoegazing', 'bossa', 'latino', 'worldbeat', 'malaysian', 'baile',\n",
       "       'ghazal', 'arabic', 'popelectronic', 'acid', 'kayokyoku',\n",
       "       'neoklassik', 'tribal', 'tanzorchester', 'native', 'independent',\n",
       "       'cantautori', 'handsup', 'punjabi', 'synthpop', 'rave',\n",
       "       'französisch', 'quebecois', 'speech', 'soulful', 'jam', 'ram',\n",
       "       'horror', 'orchestral', 'neue', 'roots', 'slow', 'jungle',\n",
       "       'indipop', 'axé', 'fado', 'showtunes', 'arena', 'irish',\n",
       "       'mandopop', 'forró', 'dirty', 'regional'], dtype=object)"
      ]
     },
     "execution_count": 19,
     "metadata": {},
     "output_type": "execute_result"
    }
   ],
   "source": [
    "df['genre'].unique()"
   ]
  },
  {
   "cell_type": "markdown",
   "metadata": {
    "id": "ALgNbvF3VtPA"
   },
   "source": [
    "[Back to Contents](#back)"
   ]
  },
  {
   "cell_type": "markdown",
   "metadata": {
    "id": "jz6a9-7HQUDd"
   },
   "source": [
    "### Conclusions <a id='data_preprocessing_conclusions'></a>\n",
    "We detected three issues with the data:\n",
    "\n",
    "- Incorrect header styles\n",
    "- Missing values\n",
    "- Obvious and implicit duplicates\n",
    "\n",
    "The headers have been cleaned up to make processing the table simpler.\n",
    "\n",
    "All missing values have been replaced with `'unknown'`. But we still have to see whether the missing values in `'genre'` will affect our calculations.\n",
    "\n",
    "The absence of duplicates will make the results more precise and easier to understand.\n",
    "\n",
    "Now we can move on to testing hypotheses. "
   ]
  },
  {
   "cell_type": "markdown",
   "metadata": {
    "id": "eK1es74rVujj"
   },
   "source": [
    "[Back to Contents](#back)"
   ]
  },
  {
   "cell_type": "markdown",
   "metadata": {
    "id": "WttZHXH0SqKk"
   },
   "source": [
    "## Stage 3. Testing hypotheses <a id='hypotheses'></a>"
   ]
  },
  {
   "cell_type": "markdown",
   "metadata": {
    "id": "Im936VVi_Zcu"
   },
   "source": [
    "### Hypothesis 1: comparing user behavior in two cities <a id='activity'></a>"
   ]
  },
  {
   "cell_type": "markdown",
   "metadata": {
    "id": "nwt_MuaL_Zcu"
   },
   "source": [
    "According to the first hypothesis, users from Springfield and Shelbyville listen to music differently. Test this using the data on three days of the week: Monday, Wednesday, and Friday.\n",
    "\n",
    "* Divide the users into groups by city.\n",
    "* Compare how many tracks each group played on Monday, Wednesday, and Friday.\n"
   ]
  },
  {
   "cell_type": "markdown",
   "metadata": {
    "id": "8Dw_YMmT_Zcu"
   },
   "source": [
    "For the sake of practice, perform each computation separately. \n",
    "\n",
    "Evaluate user activity in each city. Group the data by city and find the number of songs played in each group.\n",
    "\n"
   ]
  },
  {
   "cell_type": "code",
   "execution_count": 20,
   "metadata": {
    "id": "0_Qs96oh_Zcu"
   },
   "outputs": [
    {
     "data": {
      "text/plain": [
       "city\n",
       "Shelbyville    18512\n",
       "Springfield    42741\n",
       "Name: track, dtype: int64"
      ]
     },
     "execution_count": 20,
     "metadata": {},
     "output_type": "execute_result"
    }
   ],
   "source": [
    "# Counting up the tracks played in each city\n",
    "df.groupby('city')['track'].count()"
   ]
  },
  {
   "cell_type": "markdown",
   "metadata": {
    "id": "dzli3w8o_Zcu"
   },
   "source": [
    "Springfield has more tracks played than Shelbyville. But that does not imply that citizens of Springfield listen to music more often. This city is simply bigger, and there are more users.\n",
    "\n",
    "Now group the data by day of the week and find the number of tracks played on Monday, Wednesday, and Friday.\n"
   ]
  },
  {
   "cell_type": "code",
   "execution_count": 21,
   "metadata": {
    "id": "uZMKjiJz_Zcu"
   },
   "outputs": [
    {
     "data": {
      "text/plain": [
       "day\n",
       "Friday       21840\n",
       "Monday       21354\n",
       "Wednesday    18059\n",
       "Name: track, dtype: int64"
      ]
     },
     "execution_count": 21,
     "metadata": {},
     "output_type": "execute_result"
    }
   ],
   "source": [
    "# Calculating tracks played on each of the three days\n",
    "df.groupby('day')['track'].count()"
   ]
  },
  {
   "cell_type": "markdown",
   "metadata": {
    "id": "cC2tNrlL_Zcu"
   },
   "source": [
    "Wednesday is the quietest day overall. But if we consider the two cities separately, we might come to a different conclusion."
   ]
  },
  {
   "cell_type": "markdown",
   "metadata": {
    "id": "POzs8bGa_Zcu"
   },
   "source": [
    "You have seen how grouping by city or day works. Now write a function that will group by both.\n",
    "\n",
    "Create the `number_tracks()` function to calculate the number of songs played for a given day and city. It will require two parameters:\n",
    "* day of the week\n",
    "* name of the city\n",
    "\n",
    "In the function, use a variable to store the rows from the original table, where:\n",
    "  * `'day'` column value is equal to the `day` parameter\n",
    "  * `'city'` column value is equal to the `city` parameter\n",
    "\n",
    "Apply consecutive filtering with logical indexing.\n",
    "\n",
    "Then calculate the `'user_id'` column values in the resulting table. Store the result to a new variable. Return this variable from the function."
   ]
  },
  {
   "cell_type": "code",
   "execution_count": 22,
   "metadata": {
    "id": "Nz3GdQB1_Zcu"
   },
   "outputs": [
    {
     "name": "stdout",
     "output_type": "stream",
     "text": [
      "15740\n"
     ]
    }
   ],
   "source": [
    "# <creating the function number_tracks()>\n",
    "# We'll declare a function with two parameters: day=, city=.\n",
    "def number_tracks(day, city):\n",
    "    \n",
    "# Let the track_list variable store the df rows where\n",
    "# the value in the 'day' column is equal to the day= parameter and, at the same time, \n",
    "    track_list = df[df['day'] == day]\n",
    "    \n",
    "# the value in the 'city' column is equal to the city= parameter (apply consecutive filtering \n",
    "# with logical indexing).\n",
    "    track_list = track_list[track_list['city'] == city]\n",
    "\n",
    "# Let the track_list_count variable store the number of 'user_id' column values in track_list\n",
    "# (found with the count() method).\n",
    "    track_list_count = track_list.count()['user_id']\n",
    "\n",
    "# Let the function return a number: the value of track_list_count.\n",
    "    return track_list_count\n",
    "\n",
    "# To see what it returns, wrap the function call in print().\n",
    "print(number_tracks('Monday', 'Springfield'))"
   ]
  },
  {
   "cell_type": "markdown",
   "metadata": {
    "id": "ytf7xFrFJQ2r"
   },
   "source": [
    "Call `number_tracks()` six times, changing the parameter values, so that you retrieve the data on both cities for each of the three days."
   ]
  },
  {
   "cell_type": "code",
   "execution_count": 23,
   "metadata": {
    "id": "rJcRATNQ_Zcu"
   },
   "outputs": [
    {
     "name": "stdout",
     "output_type": "stream",
     "text": [
      "15740\n"
     ]
    }
   ],
   "source": [
    "# the number of songs played in Springfield on Monday\n",
    "print(number_tracks('Monday', 'Springfield'))"
   ]
  },
  {
   "cell_type": "code",
   "execution_count": 24,
   "metadata": {
    "id": "hq_ncZ5T_Zcu"
   },
   "outputs": [
    {
     "name": "stdout",
     "output_type": "stream",
     "text": [
      "5614\n"
     ]
    }
   ],
   "source": [
    "# the number of songs played in Shelbyville on Monday\n",
    "print(number_tracks('Monday', 'Shelbyville'))"
   ]
  },
  {
   "cell_type": "code",
   "execution_count": 25,
   "metadata": {
    "id": "_NTy2VPU_Zcu"
   },
   "outputs": [
    {
     "name": "stdout",
     "output_type": "stream",
     "text": [
      "11056\n"
     ]
    }
   ],
   "source": [
    "# the number of songs played in Springfield on Wednesday\n",
    "print(number_tracks('Wednesday', 'Springfield'))"
   ]
  },
  {
   "cell_type": "code",
   "execution_count": 26,
   "metadata": {
    "id": "j2y3TAwo_Zcu"
   },
   "outputs": [
    {
     "name": "stdout",
     "output_type": "stream",
     "text": [
      "7003\n"
     ]
    }
   ],
   "source": [
    "# the number of songs played in Shelbyville on Wednesday\n",
    "print(number_tracks('Wednesday', 'Shelbyville'))"
   ]
  },
  {
   "cell_type": "code",
   "execution_count": 27,
   "metadata": {
    "id": "vYDw5u_K_Zcu"
   },
   "outputs": [
    {
     "name": "stdout",
     "output_type": "stream",
     "text": [
      "15945\n"
     ]
    }
   ],
   "source": [
    "# the number of songs played in Springfield on Friday\n",
    "print(number_tracks('Friday', 'Springfield'))"
   ]
  },
  {
   "cell_type": "code",
   "execution_count": 28,
   "metadata": {
    "id": "8_yzFtW3_Zcu"
   },
   "outputs": [
    {
     "name": "stdout",
     "output_type": "stream",
     "text": [
      "5895\n"
     ]
    }
   ],
   "source": [
    "# the number of songs played in Shelbyville on Friday\n",
    "print(number_tracks('Friday', 'Shelbyville'))"
   ]
  },
  {
   "cell_type": "markdown",
   "metadata": {
    "id": "7QXffbO-_Zcu"
   },
   "source": [
    "Use `pd.DataFrame` to create a table, where\n",
    "* Column names are: `['city', 'monday', 'wednesday', 'friday']`\n",
    "* The data is the results you got from `number_tracks()`"
   ]
  },
  {
   "cell_type": "code",
   "execution_count": 29,
   "metadata": {
    "id": "APAcLpOr_Zcu"
   },
   "outputs": [
    {
     "data": {
      "text/html": [
       "<div>\n",
       "<style scoped>\n",
       "    .dataframe tbody tr th:only-of-type {\n",
       "        vertical-align: middle;\n",
       "    }\n",
       "\n",
       "    .dataframe tbody tr th {\n",
       "        vertical-align: top;\n",
       "    }\n",
       "\n",
       "    .dataframe thead th {\n",
       "        text-align: right;\n",
       "    }\n",
       "</style>\n",
       "<table border=\"1\" class=\"dataframe\">\n",
       "  <thead>\n",
       "    <tr style=\"text-align: right;\">\n",
       "      <th></th>\n",
       "      <th>city</th>\n",
       "      <th>monday</th>\n",
       "      <th>wednesday</th>\n",
       "      <th>friday</th>\n",
       "    </tr>\n",
       "  </thead>\n",
       "  <tbody>\n",
       "    <tr>\n",
       "      <th>0</th>\n",
       "      <td>Shelbyville</td>\n",
       "      <td>5614</td>\n",
       "      <td>7003</td>\n",
       "      <td>5895</td>\n",
       "    </tr>\n",
       "    <tr>\n",
       "      <th>1</th>\n",
       "      <td>Springfield</td>\n",
       "      <td>15740</td>\n",
       "      <td>11056</td>\n",
       "      <td>15945</td>\n",
       "    </tr>\n",
       "  </tbody>\n",
       "</table>\n",
       "</div>"
      ],
      "text/plain": [
       "          city  monday  wednesday  friday\n",
       "0  Shelbyville    5614       7003    5895\n",
       "1  Springfield   15740      11056   15945"
      ]
     },
     "execution_count": 29,
     "metadata": {},
     "output_type": "execute_result"
    }
   ],
   "source": [
    "# table with results\n",
    "new_col = ['city', 'monday', 'wednesday', 'friday']\n",
    "\n",
    "city_day = [    \n",
    "    ['Shelbyville', number_tracks('Monday', 'Shelbyville'), number_tracks('Wednesday', 'Shelbyville'), number_tracks('Friday', 'Shelbyville')],\n",
    "    ['Springfield', number_tracks('Monday', 'Springfield'), number_tracks('Wednesday', 'Springfield'), number_tracks('Friday', 'Springfield')],\n",
    "]\n",
    "\n",
    "city_track = pd.DataFrame(data=city_day, columns=new_col)\n",
    "city_track\n"
   ]
  },
  {
   "cell_type": "markdown",
   "metadata": {
    "id": "-EgPIHYu_Zcu"
   },
   "source": [
    "**Conclusions**\n",
    "\n",
    "The data reveals differences in user behavior:\n",
    "\n",
    "- In Springfield, the number of songs played peaks on Mondays and Fridays, while on Wednesday there is a decrease in activity.\n",
    "- In Shelbyville, on the contrary, users listen to music more on Wednesday. User activity on Monday and Friday is smaller.\n",
    "\n",
    "So the first hypothesis seems to be correct."
   ]
  },
  {
   "cell_type": "markdown",
   "metadata": {
    "id": "p7nFQajCVw5B"
   },
   "source": [
    "[Back to Contents](#back)"
   ]
  },
  {
   "cell_type": "markdown",
   "metadata": {
    "id": "atZAxtq4_Zcu"
   },
   "source": [
    "### Hypothesis 2: music at the beginning and end of the week <a id='week'></a>"
   ]
  },
  {
   "cell_type": "markdown",
   "metadata": {
    "id": "eXrQqXFH_Zcu"
   },
   "source": [
    "According to the second hypothesis, on Monday morning and Friday night, citizens of Springfield listen to genres that differ from ones users from Shelbyville enjoy."
   ]
  },
  {
   "cell_type": "markdown",
   "metadata": {
    "id": "S8UcW6Hw_Zcu"
   },
   "source": [
    "Get tables (make sure that the name of your combined table matches the DataFrame given in the two code blocks below):\n",
    "* For Springfield — `spr_general`\n",
    "* For Shelbyville — `shel_general`"
   ]
  },
  {
   "cell_type": "code",
   "execution_count": 30,
   "metadata": {
    "id": "qeaFfM_P_Zcu",
    "pycharm": {
     "is_executing": true
    }
   },
   "outputs": [],
   "source": [
    "# create the spr_general table from the df rows, \n",
    "# where the value in the 'city' column is 'Springfield'\n",
    "\n",
    "spr_general = df[df['city'] == 'Springfield']"
   ]
  },
  {
   "cell_type": "code",
   "execution_count": 31,
   "metadata": {
    "id": "ORaVRKto_Zcu"
   },
   "outputs": [],
   "source": [
    "# create the shel_general from the df rows,\n",
    "# where the value in the 'city' column is 'Shelbyville'\n",
    "\n",
    "shel_general = df[df['city'] == 'Shelbyville']"
   ]
  },
  {
   "cell_type": "markdown",
   "metadata": {
    "id": "MEJV-CX2_Zcu"
   },
   "source": [
    "Write the `genre_weekday()` function with four parameters:\n",
    "* A table for data (`df`)\n",
    "* The day of the week (`day`)\n",
    "* The first timestamp, in 'hh:mm' format (`time1`)\n",
    "* The last timestamp, in 'hh:mm' format (`time2`)\n",
    "\n",
    "The function should return info on the 15 most popular genres on a given day within the period between the two timestamps."
   ]
  },
  {
   "cell_type": "code",
   "execution_count": 32,
   "metadata": {
    "id": "laJT9BYl_Zcu"
   },
   "outputs": [],
   "source": [
    "        \n",
    "# 1) Let the genre_df variable store the rows that meet several conditions:\n",
    "#    - the value in the 'day' column is equal to the value of the day= argument\n",
    "#    - the value in the 'time' column is greater than the value of the time1= argument\n",
    "#    - the value in the 'time' column is smaller than the value of the time2= argument\n",
    "#    Use consecutive filtering with logical indexing.\n",
    "# 2) Group genre_df by the 'genre' column, take one of its columns, \n",
    "#    and use the count() method to find the number of entries for each of \n",
    "#    the represented genres; store the resulting Series to the\n",
    "#    genre_df_count variable\n",
    "\n",
    "# 3) Sort genre_df_count in descending order of frequency and store the result\n",
    "#    to the genre_df_sorted variable\n",
    "\n",
    "# 4) Return a Series object with the first 15 genre_df_sorted value - the 15 most\n",
    "#    popular genres (on a given day, within a certain timeframe)\n",
    "\n",
    "# Write your function here\n",
    "def genre_weekday(df, day, time1, time2):  \n",
    "    genre_df = df[df['day'] == day]\n",
    "    genre_df = genre_df[genre_df['played_time'] < time2]\n",
    "    genre_df = genre_df[genre_df['played_time'] > time1]\n",
    "    genre_df_count = genre_df.groupby('genre')['day'].count()\n",
    "    genre_df_sorted = genre_df_count.sort_values(ascending=False)\n",
    "    return genre_df_sorted[:15]\n"
   ]
  },
  {
   "cell_type": "markdown",
   "metadata": {
    "id": "la2s2_PF_Zcu"
   },
   "source": [
    "Compare the results of the `genre_weekday()` function for Springfield and Shelbyville on Monday morning (from 7AM to 11AM) and on Friday evening (from 17:00 to 23:00):"
   ]
  },
  {
   "cell_type": "code",
   "execution_count": 33,
   "metadata": {
    "id": "yz7itPUQ_Zcu"
   },
   "outputs": [
    {
     "name": "stdout",
     "output_type": "stream",
     "text": [
      "genre\n",
      "pop            781\n",
      "dance          549\n",
      "electronic     480\n",
      "rock           474\n",
      "hiphop         286\n",
      "ruspop         186\n",
      "world          181\n",
      "rusrap         175\n",
      "alternative    164\n",
      "unknown        161\n",
      "classical      157\n",
      "metal          120\n",
      "jazz           100\n",
      "folk            97\n",
      "soundtrack      95\n",
      "Name: day, dtype: int64\n"
     ]
    }
   ],
   "source": [
    "# calling the function for Monday morning in Springfield (use spr_general instead of the df table)\n",
    "print(genre_weekday(spr_general, 'Monday', '07:00:00', '11:00:00'))"
   ]
  },
  {
   "cell_type": "code",
   "execution_count": 34,
   "metadata": {},
   "outputs": [
    {
     "name": "stdout",
     "output_type": "stream",
     "text": [
      "genre\n",
      "pop            218\n",
      "dance          182\n",
      "rock           162\n",
      "electronic     147\n",
      "hiphop          80\n",
      "ruspop          64\n",
      "alternative     58\n",
      "rusrap          55\n",
      "jazz            44\n",
      "classical       40\n",
      "world           36\n",
      "rap             32\n",
      "soundtrack      31\n",
      "rnb             27\n",
      "metal           27\n",
      "Name: day, dtype: int64\n"
     ]
    }
   ],
   "source": [
    "# calling the function for Monday morning in Shelbyville (use shel_general instead of the df table)\n",
    "print(genre_weekday(shel_general, 'Monday', '07:00:00', '11:00:00'))"
   ]
  },
  {
   "cell_type": "code",
   "execution_count": 35,
   "metadata": {},
   "outputs": [
    {
     "name": "stdout",
     "output_type": "stream",
     "text": [
      "genre\n",
      "pop            713\n",
      "rock           517\n",
      "dance          495\n",
      "electronic     482\n",
      "hiphop         273\n",
      "world          208\n",
      "ruspop         170\n",
      "classical      163\n",
      "alternative    163\n",
      "rusrap         142\n",
      "jazz           111\n",
      "unknown        110\n",
      "soundtrack     105\n",
      "rnb             90\n",
      "metal           88\n",
      "Name: day, dtype: int64\n"
     ]
    }
   ],
   "source": [
    "# calling the function for Friday evening in Springfield\n",
    "print(genre_weekday(spr_general, 'Friday', '17:00:00', '23:00:00'))"
   ]
  },
  {
   "cell_type": "code",
   "execution_count": 36,
   "metadata": {
    "id": "JZaEKu5v_Zcu"
   },
   "outputs": [
    {
     "data": {
      "text/plain": [
       "genre\n",
       "pop            256\n",
       "rock           216\n",
       "electronic     216\n",
       "dance          210\n",
       "hiphop          97\n",
       "alternative     63\n",
       "jazz            61\n",
       "classical       60\n",
       "rusrap          59\n",
       "world           54\n",
       "unknown         47\n",
       "ruspop          47\n",
       "soundtrack      40\n",
       "metal           39\n",
       "rap             36\n",
       "Name: day, dtype: int64"
      ]
     },
     "execution_count": 36,
     "metadata": {},
     "output_type": "execute_result"
    }
   ],
   "source": [
    "# calling the function for Friday evening in Shelbyville\n",
    "genre_weekday(shel_general, 'Friday', '17:00:00', '23:00:00')"
   ]
  },
  {
   "cell_type": "markdown",
   "metadata": {
    "id": "wrCe4MNX_Zcu"
   },
   "source": [
    "**Conclusion**\n",
    "\n",
    "Having compared the top 15 genres on Monday morning, we can draw the following conclusions:\n",
    "\n",
    "1. Users from Springfield and Shelbyville listen to similar music. The top five genres are the same, only rock and electronic have switched places.\n",
    "\n",
    "2. In Springfield, the number of missing values turned out to be so big that the value `'unknown'` came in 10th. This means that missing values make up a considerable portion of the data, which may be a basis for questioning the reliability of our conclusions.\n",
    "\n",
    "For Friday evening, the situation is similar. Individual genres vary somewhat, but on the whole, the top 15 is similar for the two cities.\n",
    "\n",
    "Thus, the second hypothesis has been partially proven true:\n",
    "* Users listen to similar music at the beginning and end of the week.\n",
    "* There is no major difference between Springfield and Shelbyville. In both cities, pop is the most popular genre.\n",
    "\n",
    "However, the number of missing values makes this result questionable. In Springfield, there are so many that they affect our top 15. Were we not missing these values, things might look different."
   ]
  },
  {
   "cell_type": "markdown",
   "metadata": {
    "id": "jLmXgdanVyhP"
   },
   "source": [
    "[Back to Contents](#back)"
   ]
  },
  {
   "cell_type": "markdown",
   "metadata": {
    "id": "JolODAqr_Zcu"
   },
   "source": [
    "### Hypothesis 3: genre preferences in Springfield and Shelbyville <a id='genre'></a>\n",
    "\n",
    "Hypothesis: Shelbyville loves rap music. Springfield's citizens are more into pop."
   ]
  },
  {
   "cell_type": "markdown",
   "metadata": {
    "id": "DlegSvaT_Zcu"
   },
   "source": [
    "Group the `spr_general` table by genre and find the number of songs played for each genre with the `count()` method. Then sort the result in descending order and store it to `spr_genres`."
   ]
  },
  {
   "cell_type": "code",
   "execution_count": 37,
   "metadata": {
    "id": "r19lIPke_Zcu"
   },
   "outputs": [],
   "source": [
    "# on one line: group the spr_general table by the 'genre' column, \n",
    "# count the 'genre' values with count() in the grouping, \n",
    "# sort the resulting Series in descending order, and store it to spr_genres\n",
    "spr_general = spr_general.groupby('genre')['track'].count()\n",
    "spr_genres = spr_general.sort_values(ascending=False)"
   ]
  },
  {
   "cell_type": "markdown",
   "metadata": {
    "id": "6kMuomxTiIr8"
   },
   "source": [
    "Print the first 10 rows from `spr_genres`:"
   ]
  },
  {
   "cell_type": "code",
   "execution_count": 38,
   "metadata": {
    "id": "WhCSooF8_Zcv"
   },
   "outputs": [
    {
     "data": {
      "text/plain": [
       "genre\n",
       "pop            5892\n",
       "dance          4435\n",
       "rock           3965\n",
       "electronic     3786\n",
       "hiphop         2096\n",
       "classical      1616\n",
       "world          1432\n",
       "alternative    1379\n",
       "ruspop         1372\n",
       "rusrap         1161\n",
       "Name: track, dtype: int64"
      ]
     },
     "execution_count": 38,
     "metadata": {},
     "output_type": "execute_result"
    }
   ],
   "source": [
    "# printing the first 10 rows of spr_genres\n",
    "spr_genres.head(10)"
   ]
  },
  {
   "cell_type": "markdown",
   "metadata": {
    "id": "cnPG2vnN_Zcv"
   },
   "source": [
    "Now do the same with the data on Shelbyville.\n",
    "\n",
    "Group the `shel_general` table by genre and find the number of songs played for each genre. Then sort the result in descending order and store it to the `shel_genres` table:\n"
   ]
  },
  {
   "cell_type": "code",
   "execution_count": 39,
   "metadata": {
    "id": "gluLIpE7_Zcv"
   },
   "outputs": [],
   "source": [
    "# on one line: group the shel_general table by the 'genre' column, \n",
    "# count the 'genre' values in the grouping with count(), \n",
    "# sort the resulting Series in descending order and store it to shel_genres\n",
    "shel_general = shel_general.groupby('genre')['track'].count()\n",
    "shel_genres = shel_general.sort_values(ascending=False)"
   ]
  },
  {
   "cell_type": "markdown",
   "metadata": {
    "id": "5Doha_ODgyQ8"
   },
   "source": [
    "Print the first 10 rows of `shel_genres`:"
   ]
  },
  {
   "cell_type": "code",
   "execution_count": 40,
   "metadata": {
    "id": "uaGJHjVU_Zcv"
   },
   "outputs": [
    {
     "data": {
      "text/plain": [
       "genre\n",
       "pop            2431\n",
       "dance          1932\n",
       "rock           1879\n",
       "electronic     1736\n",
       "hiphop          960\n",
       "alternative     649\n",
       "classical       646\n",
       "rusrap          564\n",
       "ruspop          538\n",
       "world           515\n",
       "Name: track, dtype: int64"
      ]
     },
     "execution_count": 40,
     "metadata": {},
     "output_type": "execute_result"
    }
   ],
   "source": [
    "# printing the first 10 rows from shel_genres\n",
    "shel_genres.head(10)"
   ]
  },
  {
   "cell_type": "markdown",
   "metadata": {
    "id": "RY51YJYu_Zcv"
   },
   "source": [
    "**Conclusion**"
   ]
  },
  {
   "cell_type": "markdown",
   "metadata": {
    "id": "nVhnJEm__Zcv"
   },
   "source": [
    "The hypothesis has been partially proven true:\n",
    "* Pop music is the most popular genre in Springfield, as expected.\n",
    "* However, pop music turned out to be equally popular in Springfield and Shelbyville, and rap wasn't in the top 5 for either city.\n"
   ]
  },
  {
   "cell_type": "markdown",
   "metadata": {
    "id": "Byr0RfpPVz14"
   },
   "source": [
    "[Back to Contents](#back)"
   ]
  },
  {
   "cell_type": "markdown",
   "metadata": {
    "id": "ykKQ0N65_Zcv"
   },
   "source": [
    "# Findings <a id='end'></a>"
   ]
  },
  {
   "cell_type": "markdown",
   "metadata": {
    "id": "tjUwbHb3_Zcv"
   },
   "source": [
    "We have tested the following three hypotheses:\n",
    "\n",
    "1. User activity differs depending on the day of the week and from city to city. \n",
    "2. On Monday mornings, Springfield and Shelbyville residents listen to different genres. This is also true for Friday evenings. \n",
    "3. Springfield and Shelbyville listeners have different preferences. In both Springfield and Shelbyville, they prefer pop.\n",
    "\n",
    "After analyzing the data, we concluded:\n",
    "\n",
    "1. User activity in Springfield and Shelbyville depends on the day of the week, though the cities vary in different ways. \n",
    "\n",
    "The first hypothesis is fully accepted.\n",
    "\n",
    "2. Musical preferences do not vary significantly over the course of the week in both Springfield and Shelbyville. We can see small differences in order on Mondays, but:\n",
    "* In Springfield and Shelbyville, people listen to pop music most.\n",
    "\n",
    "So we can't accept this hypothesis. We must also keep in mind that the result could have been different if not for the missing values.\n",
    "\n",
    "3. It turns out that the musical preferences of users from Springfield and Shelbyville are quite similar.\n",
    "\n",
    "The third hypothesis is rejected. If there is any difference in preferences, it cannot be seen from this data."
   ]
  },
  {
   "cell_type": "markdown",
   "metadata": {
    "id": "Ju4AHDSgV1FE"
   },
   "source": [
    "[Back to Contents](#back)"
   ]
  }
 ],
 "metadata": {
  "ExecuteTimeLog": [
   {
    "duration": 728,
    "start_time": "2022-07-17T09:15:54.253Z"
   },
   {
    "duration": 142,
    "start_time": "2022-07-17T09:16:16.979Z"
   },
   {
    "duration": 84,
    "start_time": "2022-07-17T09:17:22.756Z"
   },
   {
    "duration": 7,
    "start_time": "2022-07-17T09:17:40.472Z"
   },
   {
    "duration": 6,
    "start_time": "2022-07-17T09:18:39.041Z"
   },
   {
    "duration": 9,
    "start_time": "2022-07-17T09:40:57.776Z"
   },
   {
    "duration": 8,
    "start_time": "2022-07-17T09:41:09.507Z"
   },
   {
    "duration": 10,
    "start_time": "2022-07-17T09:44:04.201Z"
   },
   {
    "duration": 6,
    "start_time": "2022-07-17T09:47:03.552Z"
   },
   {
    "duration": 9,
    "start_time": "2022-07-17T10:01:13.742Z"
   },
   {
    "duration": 12,
    "start_time": "2022-07-17T10:01:37.468Z"
   },
   {
    "duration": 5,
    "start_time": "2022-07-17T10:01:54.086Z"
   },
   {
    "duration": 4,
    "start_time": "2022-07-17T10:07:53.015Z"
   },
   {
    "duration": 14,
    "start_time": "2022-07-17T10:08:00.998Z"
   },
   {
    "duration": 5,
    "start_time": "2022-07-17T10:08:04.366Z"
   },
   {
    "duration": 12,
    "start_time": "2022-07-17T10:08:09.600Z"
   },
   {
    "duration": 4,
    "start_time": "2022-07-17T10:08:12.962Z"
   },
   {
    "duration": 5,
    "start_time": "2022-07-17T10:08:19.666Z"
   },
   {
    "duration": 21,
    "start_time": "2022-07-17T10:08:30.714Z"
   },
   {
    "duration": 17,
    "start_time": "2022-07-17T10:08:48.617Z"
   },
   {
    "duration": 5,
    "start_time": "2022-07-17T10:08:53.665Z"
   },
   {
    "duration": 4,
    "start_time": "2022-07-17T10:09:47.198Z"
   },
   {
    "duration": 8,
    "start_time": "2022-07-17T10:09:55.706Z"
   },
   {
    "duration": 5,
    "start_time": "2022-07-17T10:10:01.374Z"
   },
   {
    "duration": 13,
    "start_time": "2022-07-17T10:10:31.154Z"
   },
   {
    "duration": 5,
    "start_time": "2022-07-17T10:10:34.489Z"
   },
   {
    "duration": 4,
    "start_time": "2022-07-17T10:12:09.745Z"
   },
   {
    "duration": 10,
    "start_time": "2022-07-17T10:12:31.111Z"
   },
   {
    "duration": 5,
    "start_time": "2022-07-17T10:12:35.560Z"
   },
   {
    "duration": 4,
    "start_time": "2022-07-17T10:13:17.886Z"
   },
   {
    "duration": 8,
    "start_time": "2022-07-17T10:13:47.700Z"
   },
   {
    "duration": 9,
    "start_time": "2022-07-17T10:13:51.453Z"
   },
   {
    "duration": 3,
    "start_time": "2022-07-17T10:13:58.052Z"
   },
   {
    "duration": 5,
    "start_time": "2022-07-17T10:14:07.853Z"
   },
   {
    "duration": 8,
    "start_time": "2022-07-17T10:14:38.793Z"
   },
   {
    "duration": 5,
    "start_time": "2022-07-17T10:14:43.538Z"
   },
   {
    "duration": 5,
    "start_time": "2022-07-17T10:15:06.516Z"
   },
   {
    "duration": 4,
    "start_time": "2022-07-17T10:15:28.149Z"
   },
   {
    "duration": 4,
    "start_time": "2022-07-17T10:16:07.911Z"
   },
   {
    "duration": 9,
    "start_time": "2022-07-17T10:18:28.882Z"
   },
   {
    "duration": 4,
    "start_time": "2022-07-17T10:18:32.077Z"
   },
   {
    "duration": 10,
    "start_time": "2022-07-17T10:19:43.480Z"
   },
   {
    "duration": 188,
    "start_time": "2022-07-17T10:19:54.372Z"
   },
   {
    "duration": 168,
    "start_time": "2022-07-17T10:19:54.562Z"
   },
   {
    "duration": 10,
    "start_time": "2022-07-17T10:19:54.732Z"
   },
   {
    "duration": 32,
    "start_time": "2022-07-17T10:19:54.744Z"
   },
   {
    "duration": 8,
    "start_time": "2022-07-17T10:19:54.778Z"
   },
   {
    "duration": 16,
    "start_time": "2022-07-17T10:19:54.788Z"
   },
   {
    "duration": 164,
    "start_time": "2022-07-17T10:20:03.549Z"
   },
   {
    "duration": 158,
    "start_time": "2022-07-17T10:20:03.724Z"
   },
   {
    "duration": 6,
    "start_time": "2022-07-17T10:20:03.884Z"
   },
   {
    "duration": 11,
    "start_time": "2022-07-17T10:20:03.892Z"
   },
   {
    "duration": 22,
    "start_time": "2022-07-17T10:20:03.905Z"
   },
   {
    "duration": 18,
    "start_time": "2022-07-17T10:20:03.930Z"
   },
   {
    "duration": 26,
    "start_time": "2022-07-17T10:20:03.950Z"
   },
   {
    "duration": 5,
    "start_time": "2022-07-17T10:20:03.978Z"
   },
   {
    "duration": 6,
    "start_time": "2022-07-17T10:20:03.985Z"
   },
   {
    "duration": 6,
    "start_time": "2022-07-17T10:20:03.993Z"
   },
   {
    "duration": 11,
    "start_time": "2022-07-17T10:20:04.001Z"
   },
   {
    "duration": 11,
    "start_time": "2022-07-17T10:20:04.013Z"
   },
   {
    "duration": 34,
    "start_time": "2022-07-17T10:20:04.029Z"
   },
   {
    "duration": 8,
    "start_time": "2022-07-17T10:20:04.064Z"
   },
   {
    "duration": 8,
    "start_time": "2022-07-17T10:20:04.073Z"
   },
   {
    "duration": 5,
    "start_time": "2022-07-17T10:20:04.082Z"
   },
   {
    "duration": 6,
    "start_time": "2022-07-17T10:20:04.088Z"
   },
   {
    "duration": 8,
    "start_time": "2022-07-17T10:20:04.095Z"
   },
   {
    "duration": 12,
    "start_time": "2022-07-17T10:20:04.104Z"
   },
   {
    "duration": 38,
    "start_time": "2022-07-17T10:20:04.118Z"
   },
   {
    "duration": 31,
    "start_time": "2022-07-17T10:20:04.158Z"
   },
   {
    "duration": 5,
    "start_time": "2022-07-17T10:20:04.191Z"
   },
   {
    "duration": 8,
    "start_time": "2022-07-17T10:20:04.198Z"
   },
   {
    "duration": 8,
    "start_time": "2022-07-17T10:20:04.208Z"
   },
   {
    "duration": 10,
    "start_time": "2022-07-17T10:20:04.217Z"
   },
   {
    "duration": 30,
    "start_time": "2022-07-17T10:20:04.228Z"
   },
   {
    "duration": 5,
    "start_time": "2022-07-17T10:20:04.260Z"
   },
   {
    "duration": 7,
    "start_time": "2022-07-17T10:20:04.268Z"
   },
   {
    "duration": 10,
    "start_time": "2022-07-17T10:20:04.276Z"
   },
   {
    "duration": 68,
    "start_time": "2022-07-17T10:20:04.288Z"
   },
   {
    "duration": 0,
    "start_time": "2022-07-17T10:20:04.361Z"
   },
   {
    "duration": 0,
    "start_time": "2022-07-17T10:20:04.364Z"
   },
   {
    "duration": 0,
    "start_time": "2022-07-17T10:20:04.365Z"
   },
   {
    "duration": 0,
    "start_time": "2022-07-17T10:20:04.366Z"
   },
   {
    "duration": 0,
    "start_time": "2022-07-17T10:20:04.368Z"
   },
   {
    "duration": 0,
    "start_time": "2022-07-17T10:20:04.369Z"
   },
   {
    "duration": 0,
    "start_time": "2022-07-17T10:20:04.371Z"
   },
   {
    "duration": 0,
    "start_time": "2022-07-17T10:20:04.373Z"
   },
   {
    "duration": 24,
    "start_time": "2022-07-17T10:22:05.798Z"
   },
   {
    "duration": 1104,
    "start_time": "2022-07-17T10:33:14.594Z"
   },
   {
    "duration": 1100,
    "start_time": "2022-07-17T10:38:21.314Z"
   },
   {
    "duration": 1152,
    "start_time": "2022-07-17T10:49:22.663Z"
   },
   {
    "duration": 81,
    "start_time": "2022-07-17T10:51:16.335Z"
   },
   {
    "duration": 1288,
    "start_time": "2022-07-17T10:56:09.704Z"
   },
   {
    "duration": 14,
    "start_time": "2022-07-17T11:10:10.563Z"
   },
   {
    "duration": 21,
    "start_time": "2022-07-17T11:10:14.799Z"
   },
   {
    "duration": 1238,
    "start_time": "2022-07-17T11:13:05.197Z"
   },
   {
    "duration": 1091,
    "start_time": "2022-07-17T11:15:29.616Z"
   },
   {
    "duration": 1244,
    "start_time": "2022-07-17T11:15:35.259Z"
   },
   {
    "duration": 19,
    "start_time": "2022-07-17T11:16:18.997Z"
   },
   {
    "duration": 76,
    "start_time": "2022-07-17T11:16:52.007Z"
   },
   {
    "duration": 73,
    "start_time": "2022-07-17T11:16:55.977Z"
   },
   {
    "duration": 25,
    "start_time": "2022-07-17T11:18:19.655Z"
   },
   {
    "duration": 69,
    "start_time": "2022-07-17T11:18:38.889Z"
   },
   {
    "duration": 23,
    "start_time": "2022-07-17T11:18:43.483Z"
   },
   {
    "duration": 42,
    "start_time": "2022-07-17T11:19:59.740Z"
   },
   {
    "duration": 42,
    "start_time": "2022-07-17T11:20:02.754Z"
   },
   {
    "duration": 16,
    "start_time": "2022-07-17T11:20:05.672Z"
   },
   {
    "duration": 13,
    "start_time": "2022-07-17T11:23:49.459Z"
   },
   {
    "duration": 14,
    "start_time": "2022-07-17T11:23:50.792Z"
   },
   {
    "duration": 23,
    "start_time": "2022-07-17T11:25:38.123Z"
   },
   {
    "duration": 38,
    "start_time": "2022-07-17T11:32:50.480Z"
   },
   {
    "duration": 49,
    "start_time": "2022-07-17T11:33:26.900Z"
   },
   {
    "duration": 64,
    "start_time": "2022-07-17T11:33:56.940Z"
   },
   {
    "duration": 55,
    "start_time": "2022-07-17T11:34:30.677Z"
   },
   {
    "duration": 65,
    "start_time": "2022-07-17T11:34:59.006Z"
   },
   {
    "duration": 51,
    "start_time": "2022-07-17T11:35:03.661Z"
   },
   {
    "duration": 73,
    "start_time": "2022-07-17T11:35:19.688Z"
   },
   {
    "duration": 40,
    "start_time": "2022-07-17T11:37:32.633Z"
   },
   {
    "duration": 27,
    "start_time": "2022-07-17T11:38:38.617Z"
   },
   {
    "duration": 18,
    "start_time": "2022-07-17T11:39:00.053Z"
   },
   {
    "duration": 26,
    "start_time": "2022-07-17T11:39:44.845Z"
   },
   {
    "duration": 30,
    "start_time": "2022-07-17T11:40:22.164Z"
   },
   {
    "duration": 189,
    "start_time": "2022-07-17T11:40:26.819Z"
   },
   {
    "duration": 210,
    "start_time": "2022-07-17T11:40:27.011Z"
   },
   {
    "duration": 9,
    "start_time": "2022-07-17T11:40:27.224Z"
   },
   {
    "duration": 54,
    "start_time": "2022-07-17T11:40:27.235Z"
   },
   {
    "duration": 33,
    "start_time": "2022-07-17T11:40:27.292Z"
   },
   {
    "duration": 44,
    "start_time": "2022-07-17T11:40:27.327Z"
   },
   {
    "duration": 28,
    "start_time": "2022-07-17T11:40:27.373Z"
   },
   {
    "duration": 52,
    "start_time": "2022-07-17T11:40:27.402Z"
   },
   {
    "duration": 46,
    "start_time": "2022-07-17T11:40:27.456Z"
   },
   {
    "duration": 49,
    "start_time": "2022-07-17T11:40:27.504Z"
   },
   {
    "duration": 20,
    "start_time": "2022-07-17T11:40:27.555Z"
   },
   {
    "duration": 6,
    "start_time": "2022-07-17T11:40:27.577Z"
   },
   {
    "duration": 4,
    "start_time": "2022-07-17T11:40:27.585Z"
   },
   {
    "duration": 5,
    "start_time": "2022-07-17T11:40:27.593Z"
   },
   {
    "duration": 6,
    "start_time": "2022-07-17T11:40:27.599Z"
   },
   {
    "duration": 6,
    "start_time": "2022-07-17T11:40:27.607Z"
   },
   {
    "duration": 45,
    "start_time": "2022-07-17T11:40:27.615Z"
   },
   {
    "duration": 6,
    "start_time": "2022-07-17T11:40:27.662Z"
   },
   {
    "duration": 7,
    "start_time": "2022-07-17T11:40:27.670Z"
   },
   {
    "duration": 12,
    "start_time": "2022-07-17T11:40:27.678Z"
   },
   {
    "duration": 14,
    "start_time": "2022-07-17T11:40:27.691Z"
   },
   {
    "duration": 6,
    "start_time": "2022-07-17T11:40:27.707Z"
   },
   {
    "duration": 6,
    "start_time": "2022-07-17T11:40:27.715Z"
   },
   {
    "duration": 41,
    "start_time": "2022-07-17T11:40:27.723Z"
   },
   {
    "duration": 6,
    "start_time": "2022-07-17T11:40:27.766Z"
   },
   {
    "duration": 4,
    "start_time": "2022-07-17T11:40:27.774Z"
   },
   {
    "duration": 6,
    "start_time": "2022-07-17T11:40:27.780Z"
   },
   {
    "duration": 6,
    "start_time": "2022-07-17T11:40:27.787Z"
   },
   {
    "duration": 5,
    "start_time": "2022-07-17T11:40:27.796Z"
   },
   {
    "duration": 75,
    "start_time": "2022-07-17T11:40:27.803Z"
   },
   {
    "duration": 0,
    "start_time": "2022-07-17T11:40:27.880Z"
   },
   {
    "duration": 0,
    "start_time": "2022-07-17T11:40:27.882Z"
   },
   {
    "duration": 0,
    "start_time": "2022-07-17T11:40:27.883Z"
   },
   {
    "duration": 0,
    "start_time": "2022-07-17T11:40:27.884Z"
   },
   {
    "duration": 0,
    "start_time": "2022-07-17T11:40:27.886Z"
   },
   {
    "duration": 0,
    "start_time": "2022-07-17T11:40:27.888Z"
   },
   {
    "duration": 0,
    "start_time": "2022-07-17T11:40:27.889Z"
   },
   {
    "duration": 0,
    "start_time": "2022-07-17T11:40:27.891Z"
   },
   {
    "duration": 19,
    "start_time": "2022-07-17T11:42:43.347Z"
   },
   {
    "duration": 14,
    "start_time": "2022-07-17T11:43:47.270Z"
   },
   {
    "duration": 23,
    "start_time": "2022-07-17T11:44:11.717Z"
   },
   {
    "duration": 11,
    "start_time": "2022-07-17T11:45:11.065Z"
   },
   {
    "duration": 26,
    "start_time": "2022-07-17T11:46:00.942Z"
   },
   {
    "duration": 226,
    "start_time": "2022-07-17T11:46:17.353Z"
   },
   {
    "duration": 193,
    "start_time": "2022-07-17T11:46:17.582Z"
   },
   {
    "duration": 10,
    "start_time": "2022-07-17T11:46:17.777Z"
   },
   {
    "duration": 11,
    "start_time": "2022-07-17T11:46:17.789Z"
   },
   {
    "duration": 28,
    "start_time": "2022-07-17T11:46:17.803Z"
   },
   {
    "duration": 29,
    "start_time": "2022-07-17T11:46:17.836Z"
   },
   {
    "duration": 6,
    "start_time": "2022-07-17T11:46:17.867Z"
   },
   {
    "duration": 29,
    "start_time": "2022-07-17T11:46:17.874Z"
   },
   {
    "duration": 127,
    "start_time": "2022-07-17T11:46:17.905Z"
   },
   {
    "duration": 29,
    "start_time": "2022-07-17T11:47:57.881Z"
   },
   {
    "duration": 76,
    "start_time": "2022-07-17T11:51:10.637Z"
   },
   {
    "duration": 62,
    "start_time": "2022-07-17T11:52:02.388Z"
   },
   {
    "duration": 71,
    "start_time": "2022-07-17T11:53:16.498Z"
   },
   {
    "duration": 27,
    "start_time": "2022-07-17T11:55:51.610Z"
   },
   {
    "duration": 16,
    "start_time": "2022-07-17T11:56:41.295Z"
   },
   {
    "duration": 23,
    "start_time": "2022-07-17T11:57:04.100Z"
   },
   {
    "duration": 24,
    "start_time": "2022-07-17T11:57:27.795Z"
   },
   {
    "duration": 66,
    "start_time": "2022-07-17T11:58:51.246Z"
   },
   {
    "duration": 80,
    "start_time": "2022-07-17T12:01:51.587Z"
   },
   {
    "duration": 65,
    "start_time": "2022-07-17T12:04:34.658Z"
   },
   {
    "duration": 84,
    "start_time": "2022-07-17T12:04:50.631Z"
   },
   {
    "duration": 8,
    "start_time": "2022-07-17T12:06:19.757Z"
   },
   {
    "duration": 9,
    "start_time": "2022-07-17T12:11:54.179Z"
   },
   {
    "duration": 10,
    "start_time": "2022-07-17T12:14:30.341Z"
   },
   {
    "duration": 10,
    "start_time": "2022-07-17T12:15:11.322Z"
   },
   {
    "duration": 9,
    "start_time": "2022-07-17T12:23:09.936Z"
   },
   {
    "duration": 7,
    "start_time": "2022-07-17T12:26:21.966Z"
   },
   {
    "duration": 7,
    "start_time": "2022-07-17T12:26:47.809Z"
   },
   {
    "duration": 7,
    "start_time": "2022-07-17T12:27:30.819Z"
   },
   {
    "duration": 15,
    "start_time": "2022-07-17T12:32:39.852Z"
   },
   {
    "duration": 19,
    "start_time": "2022-07-17T12:34:26.354Z"
   },
   {
    "duration": 12,
    "start_time": "2022-07-17T12:38:47.194Z"
   },
   {
    "duration": 12,
    "start_time": "2022-07-17T12:38:58.126Z"
   },
   {
    "duration": 11,
    "start_time": "2022-07-17T12:39:17.088Z"
   },
   {
    "duration": 9,
    "start_time": "2022-07-17T13:24:16.139Z"
   },
   {
    "duration": 10,
    "start_time": "2022-07-17T13:25:56.157Z"
   },
   {
    "duration": 8,
    "start_time": "2022-07-17T13:26:53.045Z"
   },
   {
    "duration": 11,
    "start_time": "2022-07-17T13:27:26.552Z"
   },
   {
    "duration": 10,
    "start_time": "2022-07-17T13:29:18.068Z"
   },
   {
    "duration": 568,
    "start_time": "2022-07-17T13:29:38.340Z"
   },
   {
    "duration": 20,
    "start_time": "2022-07-17T13:30:49.075Z"
   },
   {
    "duration": 19,
    "start_time": "2022-07-17T13:35:18.957Z"
   },
   {
    "duration": 21,
    "start_time": "2022-07-17T13:35:32.853Z"
   },
   {
    "duration": 33,
    "start_time": "2022-07-17T13:36:16.353Z"
   },
   {
    "duration": 196,
    "start_time": "2022-07-17T13:37:31.252Z"
   },
   {
    "duration": 149,
    "start_time": "2022-07-17T13:37:31.455Z"
   },
   {
    "duration": 6,
    "start_time": "2022-07-17T13:37:31.606Z"
   },
   {
    "duration": 55,
    "start_time": "2022-07-17T13:37:31.614Z"
   },
   {
    "duration": 20,
    "start_time": "2022-07-17T13:37:31.671Z"
   },
   {
    "duration": 32,
    "start_time": "2022-07-17T13:37:31.693Z"
   },
   {
    "duration": 52,
    "start_time": "2022-07-17T13:37:31.740Z"
   },
   {
    "duration": 49,
    "start_time": "2022-07-17T13:37:31.793Z"
   },
   {
    "duration": 49,
    "start_time": "2022-07-17T13:37:31.846Z"
   },
   {
    "duration": 28,
    "start_time": "2022-07-17T13:37:31.897Z"
   },
   {
    "duration": 106,
    "start_time": "2022-07-17T13:37:31.929Z"
   },
   {
    "duration": 74,
    "start_time": "2022-07-17T13:37:32.037Z"
   },
   {
    "duration": 85,
    "start_time": "2022-07-17T13:37:32.113Z"
   },
   {
    "duration": 33,
    "start_time": "2022-07-17T13:37:32.201Z"
   },
   {
    "duration": 3,
    "start_time": "2022-07-17T14:28:05.418Z"
   },
   {
    "duration": 13,
    "start_time": "2022-07-17T14:31:05.889Z"
   },
   {
    "duration": 7,
    "start_time": "2022-07-17T14:33:33.549Z"
   },
   {
    "duration": 170,
    "start_time": "2022-07-17T14:33:57.536Z"
   },
   {
    "duration": 161,
    "start_time": "2022-07-17T14:33:57.708Z"
   },
   {
    "duration": 6,
    "start_time": "2022-07-17T14:33:57.870Z"
   },
   {
    "duration": 9,
    "start_time": "2022-07-17T14:33:57.879Z"
   },
   {
    "duration": 6,
    "start_time": "2022-07-17T14:33:57.889Z"
   },
   {
    "duration": 14,
    "start_time": "2022-07-17T14:33:57.897Z"
   },
   {
    "duration": 25,
    "start_time": "2022-07-17T14:33:57.912Z"
   },
   {
    "duration": 47,
    "start_time": "2022-07-17T14:33:57.938Z"
   },
   {
    "duration": 18,
    "start_time": "2022-07-17T14:33:57.986Z"
   },
   {
    "duration": 41,
    "start_time": "2022-07-17T14:33:58.006Z"
   },
   {
    "duration": 61,
    "start_time": "2022-07-17T14:33:58.053Z"
   },
   {
    "duration": 69,
    "start_time": "2022-07-17T14:33:58.116Z"
   },
   {
    "duration": 73,
    "start_time": "2022-07-17T14:33:58.187Z"
   },
   {
    "duration": 37,
    "start_time": "2022-07-17T14:33:58.262Z"
   },
   {
    "duration": 3,
    "start_time": "2022-07-17T14:33:58.301Z"
   },
   {
    "duration": 41,
    "start_time": "2022-07-17T14:33:58.305Z"
   },
   {
    "duration": 13,
    "start_time": "2022-07-17T14:33:58.356Z"
   },
   {
    "duration": 7,
    "start_time": "2022-07-17T14:33:58.371Z"
   },
   {
    "duration": 5,
    "start_time": "2022-07-17T14:33:58.380Z"
   },
   {
    "duration": 8,
    "start_time": "2022-07-17T14:33:58.387Z"
   },
   {
    "duration": 7,
    "start_time": "2022-07-17T14:33:58.397Z"
   },
   {
    "duration": 7,
    "start_time": "2022-07-17T14:33:58.406Z"
   },
   {
    "duration": 6,
    "start_time": "2022-07-17T14:33:58.414Z"
   },
   {
    "duration": 24,
    "start_time": "2022-07-17T14:33:58.422Z"
   },
   {
    "duration": 19,
    "start_time": "2022-07-17T14:33:58.447Z"
   },
   {
    "duration": 5,
    "start_time": "2022-07-17T14:33:58.468Z"
   },
   {
    "duration": 10,
    "start_time": "2022-07-17T14:33:58.475Z"
   },
   {
    "duration": 13,
    "start_time": "2022-07-17T14:33:58.489Z"
   },
   {
    "duration": 7,
    "start_time": "2022-07-17T14:33:58.504Z"
   },
   {
    "duration": 72,
    "start_time": "2022-07-17T14:33:58.512Z"
   },
   {
    "duration": 0,
    "start_time": "2022-07-17T14:33:58.586Z"
   },
   {
    "duration": 0,
    "start_time": "2022-07-17T14:33:58.587Z"
   },
   {
    "duration": 0,
    "start_time": "2022-07-17T14:33:58.588Z"
   },
   {
    "duration": 0,
    "start_time": "2022-07-17T14:33:58.589Z"
   },
   {
    "duration": 0,
    "start_time": "2022-07-17T14:33:58.591Z"
   },
   {
    "duration": 0,
    "start_time": "2022-07-17T14:33:58.592Z"
   },
   {
    "duration": 0,
    "start_time": "2022-07-17T14:33:58.593Z"
   },
   {
    "duration": 0,
    "start_time": "2022-07-17T14:33:58.594Z"
   },
   {
    "duration": 34,
    "start_time": "2022-07-17T15:29:30.873Z"
   },
   {
    "duration": 12,
    "start_time": "2022-07-17T15:30:46.669Z"
   },
   {
    "duration": 65,
    "start_time": "2022-07-17T15:31:19.120Z"
   },
   {
    "duration": 1298,
    "start_time": "2022-07-17T15:55:13.213Z"
   },
   {
    "duration": 1226,
    "start_time": "2022-07-17T15:56:51.276Z"
   },
   {
    "duration": 1176,
    "start_time": "2022-07-17T15:57:54.923Z"
   },
   {
    "duration": 1139,
    "start_time": "2022-07-17T15:59:48.852Z"
   },
   {
    "duration": 1519,
    "start_time": "2022-07-17T15:59:58.154Z"
   },
   {
    "duration": 1902,
    "start_time": "2022-07-17T16:47:17.084Z"
   },
   {
    "duration": 1235,
    "start_time": "2022-07-17T16:47:49.948Z"
   },
   {
    "duration": 25,
    "start_time": "2022-07-17T16:48:26.582Z"
   },
   {
    "duration": 54,
    "start_time": "2022-07-17T16:48:33.122Z"
   },
   {
    "duration": 23,
    "start_time": "2022-07-17T17:59:26.470Z"
   },
   {
    "duration": 3,
    "start_time": "2022-07-17T17:59:29.676Z"
   },
   {
    "duration": 27,
    "start_time": "2022-07-17T17:59:41.423Z"
   },
   {
    "duration": 22,
    "start_time": "2022-07-17T18:00:25.293Z"
   },
   {
    "duration": 28,
    "start_time": "2022-07-17T18:00:27.249Z"
   },
   {
    "duration": 36,
    "start_time": "2022-07-17T18:00:41.772Z"
   },
   {
    "duration": 29,
    "start_time": "2022-07-17T18:00:44.048Z"
   },
   {
    "duration": 43,
    "start_time": "2022-07-18T09:55:39.177Z"
   },
   {
    "duration": 6,
    "start_time": "2022-07-18T09:56:28.192Z"
   },
   {
    "duration": 6,
    "start_time": "2022-07-18T10:02:29.068Z"
   },
   {
    "duration": 8,
    "start_time": "2022-07-18T10:06:24.617Z"
   },
   {
    "duration": 9,
    "start_time": "2022-07-18T10:09:57.793Z"
   },
   {
    "duration": 7,
    "start_time": "2022-07-18T10:32:38.447Z"
   },
   {
    "duration": 8,
    "start_time": "2022-07-18T10:34:04.181Z"
   },
   {
    "duration": 9,
    "start_time": "2022-07-18T10:35:12.155Z"
   },
   {
    "duration": 675,
    "start_time": "2022-07-18T10:35:23.012Z"
   },
   {
    "duration": 123,
    "start_time": "2022-07-18T10:35:23.689Z"
   },
   {
    "duration": 12,
    "start_time": "2022-07-18T10:35:23.814Z"
   },
   {
    "duration": 6,
    "start_time": "2022-07-18T10:35:23.828Z"
   },
   {
    "duration": 8,
    "start_time": "2022-07-18T10:35:23.836Z"
   },
   {
    "duration": 15,
    "start_time": "2022-07-18T10:35:23.845Z"
   },
   {
    "duration": 8,
    "start_time": "2022-07-18T10:35:23.861Z"
   },
   {
    "duration": 53,
    "start_time": "2022-07-18T10:35:23.871Z"
   },
   {
    "duration": 17,
    "start_time": "2022-07-18T10:35:23.925Z"
   },
   {
    "duration": 28,
    "start_time": "2022-07-18T10:35:23.943Z"
   },
   {
    "duration": 79,
    "start_time": "2022-07-18T10:35:23.973Z"
   },
   {
    "duration": 70,
    "start_time": "2022-07-18T10:35:24.054Z"
   },
   {
    "duration": 52,
    "start_time": "2022-07-18T10:35:24.126Z"
   },
   {
    "duration": 22,
    "start_time": "2022-07-18T10:35:24.180Z"
   },
   {
    "duration": 21,
    "start_time": "2022-07-18T10:35:24.203Z"
   },
   {
    "duration": 11,
    "start_time": "2022-07-18T10:35:24.226Z"
   },
   {
    "duration": 7,
    "start_time": "2022-07-18T10:35:24.239Z"
   },
   {
    "duration": 34,
    "start_time": "2022-07-18T10:35:24.248Z"
   },
   {
    "duration": 57,
    "start_time": "2022-07-18T10:35:24.284Z"
   },
   {
    "duration": 22,
    "start_time": "2022-07-18T10:35:24.343Z"
   },
   {
    "duration": 18,
    "start_time": "2022-07-18T10:35:24.366Z"
   },
   {
    "duration": 44,
    "start_time": "2022-07-18T10:35:24.386Z"
   },
   {
    "duration": 16,
    "start_time": "2022-07-18T10:35:24.431Z"
   },
   {
    "duration": 24,
    "start_time": "2022-07-18T10:35:24.448Z"
   },
   {
    "duration": 21,
    "start_time": "2022-07-18T10:35:24.474Z"
   },
   {
    "duration": 42,
    "start_time": "2022-07-18T10:35:24.496Z"
   },
   {
    "duration": 46,
    "start_time": "2022-07-18T10:35:24.539Z"
   },
   {
    "duration": 0,
    "start_time": "2022-07-18T10:35:24.586Z"
   },
   {
    "duration": 0,
    "start_time": "2022-07-18T10:35:24.588Z"
   },
   {
    "duration": 0,
    "start_time": "2022-07-18T10:35:24.589Z"
   },
   {
    "duration": 0,
    "start_time": "2022-07-18T10:35:24.590Z"
   },
   {
    "duration": 0,
    "start_time": "2022-07-18T10:35:24.591Z"
   },
   {
    "duration": 0,
    "start_time": "2022-07-18T10:35:24.592Z"
   },
   {
    "duration": 0,
    "start_time": "2022-07-18T10:35:24.593Z"
   },
   {
    "duration": 0,
    "start_time": "2022-07-18T10:35:24.594Z"
   },
   {
    "duration": 0,
    "start_time": "2022-07-18T10:35:24.625Z"
   },
   {
    "duration": 0,
    "start_time": "2022-07-18T10:35:24.626Z"
   },
   {
    "duration": 0,
    "start_time": "2022-07-18T10:35:24.628Z"
   },
   {
    "duration": 20,
    "start_time": "2022-07-18T10:56:52.619Z"
   },
   {
    "duration": 19,
    "start_time": "2022-07-18T10:58:40.880Z"
   },
   {
    "duration": 19,
    "start_time": "2022-07-18T10:59:44.069Z"
   },
   {
    "duration": 176,
    "start_time": "2022-07-18T11:00:02.148Z"
   },
   {
    "duration": 130,
    "start_time": "2022-07-18T11:00:02.326Z"
   },
   {
    "duration": 6,
    "start_time": "2022-07-18T11:00:02.457Z"
   },
   {
    "duration": 90,
    "start_time": "2022-07-18T11:00:02.464Z"
   },
   {
    "duration": 38,
    "start_time": "2022-07-18T11:00:02.555Z"
   },
   {
    "duration": 52,
    "start_time": "2022-07-18T11:00:02.594Z"
   },
   {
    "duration": 33,
    "start_time": "2022-07-18T11:00:02.648Z"
   },
   {
    "duration": 90,
    "start_time": "2022-07-18T11:00:02.683Z"
   },
   {
    "duration": 41,
    "start_time": "2022-07-18T11:00:02.775Z"
   },
   {
    "duration": 95,
    "start_time": "2022-07-18T11:00:02.820Z"
   },
   {
    "duration": 139,
    "start_time": "2022-07-18T11:00:02.916Z"
   },
   {
    "duration": 60,
    "start_time": "2022-07-18T11:00:03.057Z"
   },
   {
    "duration": 111,
    "start_time": "2022-07-18T11:00:03.124Z"
   },
   {
    "duration": 22,
    "start_time": "2022-07-18T11:00:03.236Z"
   },
   {
    "duration": 126,
    "start_time": "2022-07-18T11:00:03.260Z"
   },
   {
    "duration": 87,
    "start_time": "2022-07-18T11:00:03.388Z"
   },
   {
    "duration": 40,
    "start_time": "2022-07-18T11:00:03.477Z"
   },
   {
    "duration": 178,
    "start_time": "2022-07-18T11:00:03.519Z"
   },
   {
    "duration": 103,
    "start_time": "2022-07-18T11:00:03.699Z"
   },
   {
    "duration": 40,
    "start_time": "2022-07-18T11:00:03.804Z"
   },
   {
    "duration": 43,
    "start_time": "2022-07-18T11:00:03.845Z"
   },
   {
    "duration": 36,
    "start_time": "2022-07-18T11:00:03.890Z"
   },
   {
    "duration": 42,
    "start_time": "2022-07-18T11:00:03.927Z"
   },
   {
    "duration": 18,
    "start_time": "2022-07-18T11:00:03.971Z"
   },
   {
    "duration": 25,
    "start_time": "2022-07-18T11:00:03.991Z"
   },
   {
    "duration": 16,
    "start_time": "2022-07-18T11:00:04.018Z"
   },
   {
    "duration": 20,
    "start_time": "2022-07-18T11:00:04.036Z"
   },
   {
    "duration": 0,
    "start_time": "2022-07-18T11:00:04.058Z"
   },
   {
    "duration": 0,
    "start_time": "2022-07-18T11:00:04.059Z"
   },
   {
    "duration": 0,
    "start_time": "2022-07-18T11:00:04.061Z"
   },
   {
    "duration": 0,
    "start_time": "2022-07-18T11:00:04.062Z"
   },
   {
    "duration": 0,
    "start_time": "2022-07-18T11:00:04.063Z"
   },
   {
    "duration": 0,
    "start_time": "2022-07-18T11:00:04.065Z"
   },
   {
    "duration": 0,
    "start_time": "2022-07-18T11:00:04.066Z"
   },
   {
    "duration": 0,
    "start_time": "2022-07-18T11:00:04.067Z"
   },
   {
    "duration": 0,
    "start_time": "2022-07-18T11:00:04.068Z"
   },
   {
    "duration": 0,
    "start_time": "2022-07-18T11:00:04.069Z"
   },
   {
    "duration": 0,
    "start_time": "2022-07-18T11:00:04.070Z"
   },
   {
    "duration": 17,
    "start_time": "2022-07-18T11:01:13.632Z"
   },
   {
    "duration": 48,
    "start_time": "2022-07-18T11:01:55.948Z"
   },
   {
    "duration": 16,
    "start_time": "2022-07-18T11:06:38.571Z"
   },
   {
    "duration": 16,
    "start_time": "2022-07-18T11:09:03.035Z"
   },
   {
    "duration": 15,
    "start_time": "2022-07-18T11:28:23.816Z"
   },
   {
    "duration": 112,
    "start_time": "2022-07-18T11:36:53.205Z"
   },
   {
    "duration": 106,
    "start_time": "2022-07-18T11:37:50.399Z"
   },
   {
    "duration": 79,
    "start_time": "2022-07-18T11:38:03.294Z"
   },
   {
    "duration": 157,
    "start_time": "2022-07-18T11:38:09.584Z"
   },
   {
    "duration": 146,
    "start_time": "2022-07-18T11:38:09.742Z"
   },
   {
    "duration": 6,
    "start_time": "2022-07-18T11:38:09.890Z"
   },
   {
    "duration": 8,
    "start_time": "2022-07-18T11:38:09.899Z"
   },
   {
    "duration": 5,
    "start_time": "2022-07-18T11:38:09.924Z"
   },
   {
    "duration": 12,
    "start_time": "2022-07-18T11:38:09.930Z"
   },
   {
    "duration": 6,
    "start_time": "2022-07-18T11:38:09.943Z"
   },
   {
    "duration": 30,
    "start_time": "2022-07-18T11:38:09.951Z"
   },
   {
    "duration": 18,
    "start_time": "2022-07-18T11:38:09.983Z"
   },
   {
    "duration": 24,
    "start_time": "2022-07-18T11:38:10.025Z"
   },
   {
    "duration": 78,
    "start_time": "2022-07-18T11:38:10.050Z"
   },
   {
    "duration": 60,
    "start_time": "2022-07-18T11:38:10.130Z"
   },
   {
    "duration": 69,
    "start_time": "2022-07-18T11:38:10.192Z"
   },
   {
    "duration": 21,
    "start_time": "2022-07-18T11:38:10.262Z"
   },
   {
    "duration": 6,
    "start_time": "2022-07-18T11:38:10.286Z"
   },
   {
    "duration": 17,
    "start_time": "2022-07-18T11:38:10.294Z"
   },
   {
    "duration": 27,
    "start_time": "2022-07-18T11:38:10.312Z"
   },
   {
    "duration": 46,
    "start_time": "2022-07-18T11:38:10.341Z"
   },
   {
    "duration": 38,
    "start_time": "2022-07-18T11:38:10.389Z"
   },
   {
    "duration": 27,
    "start_time": "2022-07-18T11:38:10.429Z"
   },
   {
    "duration": 22,
    "start_time": "2022-07-18T11:38:10.457Z"
   },
   {
    "duration": 15,
    "start_time": "2022-07-18T11:38:10.481Z"
   },
   {
    "duration": 38,
    "start_time": "2022-07-18T11:38:10.498Z"
   },
   {
    "duration": 17,
    "start_time": "2022-07-18T11:38:10.538Z"
   },
   {
    "duration": 22,
    "start_time": "2022-07-18T11:38:10.557Z"
   },
   {
    "duration": 44,
    "start_time": "2022-07-18T11:38:10.580Z"
   },
   {
    "duration": 66,
    "start_time": "2022-07-18T11:38:10.626Z"
   },
   {
    "duration": 0,
    "start_time": "2022-07-18T11:38:10.694Z"
   },
   {
    "duration": 0,
    "start_time": "2022-07-18T11:38:10.695Z"
   },
   {
    "duration": 0,
    "start_time": "2022-07-18T11:38:10.696Z"
   },
   {
    "duration": 0,
    "start_time": "2022-07-18T11:38:10.697Z"
   },
   {
    "duration": 0,
    "start_time": "2022-07-18T11:38:10.698Z"
   },
   {
    "duration": 0,
    "start_time": "2022-07-18T11:38:10.699Z"
   },
   {
    "duration": 0,
    "start_time": "2022-07-18T11:38:10.701Z"
   },
   {
    "duration": 0,
    "start_time": "2022-07-18T11:38:10.702Z"
   },
   {
    "duration": 0,
    "start_time": "2022-07-18T11:38:10.703Z"
   },
   {
    "duration": 0,
    "start_time": "2022-07-18T11:38:10.705Z"
   },
   {
    "duration": 0,
    "start_time": "2022-07-18T11:38:10.706Z"
   },
   {
    "duration": 48,
    "start_time": "2022-07-18T11:38:54.058Z"
   },
   {
    "duration": 53,
    "start_time": "2022-07-18T11:42:39.990Z"
   },
   {
    "duration": 56,
    "start_time": "2022-07-18T11:42:53.955Z"
   },
   {
    "duration": 49,
    "start_time": "2022-07-18T11:43:11.196Z"
   },
   {
    "duration": 55,
    "start_time": "2022-07-18T11:43:27.994Z"
   },
   {
    "duration": 166,
    "start_time": "2022-07-18T11:43:48.976Z"
   },
   {
    "duration": 143,
    "start_time": "2022-07-18T11:43:49.144Z"
   },
   {
    "duration": 6,
    "start_time": "2022-07-18T11:43:49.290Z"
   },
   {
    "duration": 12,
    "start_time": "2022-07-18T11:43:49.297Z"
   },
   {
    "duration": 4,
    "start_time": "2022-07-18T11:43:49.323Z"
   },
   {
    "duration": 15,
    "start_time": "2022-07-18T11:43:49.329Z"
   },
   {
    "duration": 14,
    "start_time": "2022-07-18T11:43:49.346Z"
   },
   {
    "duration": 31,
    "start_time": "2022-07-18T11:43:49.362Z"
   },
   {
    "duration": 32,
    "start_time": "2022-07-18T11:43:49.394Z"
   },
   {
    "duration": 24,
    "start_time": "2022-07-18T11:43:49.428Z"
   },
   {
    "duration": 72,
    "start_time": "2022-07-18T11:43:49.454Z"
   },
   {
    "duration": 59,
    "start_time": "2022-07-18T11:43:49.528Z"
   },
   {
    "duration": 63,
    "start_time": "2022-07-18T11:43:49.588Z"
   },
   {
    "duration": 26,
    "start_time": "2022-07-18T11:43:49.654Z"
   },
   {
    "duration": 7,
    "start_time": "2022-07-18T11:43:49.682Z"
   },
   {
    "duration": 12,
    "start_time": "2022-07-18T11:43:49.690Z"
   },
   {
    "duration": 21,
    "start_time": "2022-07-18T11:43:49.704Z"
   },
   {
    "duration": 34,
    "start_time": "2022-07-18T11:43:49.727Z"
   },
   {
    "duration": 33,
    "start_time": "2022-07-18T11:43:49.763Z"
   },
   {
    "duration": 37,
    "start_time": "2022-07-18T11:43:49.798Z"
   },
   {
    "duration": 19,
    "start_time": "2022-07-18T11:43:49.836Z"
   },
   {
    "duration": 15,
    "start_time": "2022-07-18T11:43:49.857Z"
   },
   {
    "duration": 17,
    "start_time": "2022-07-18T11:43:49.874Z"
   },
   {
    "duration": 16,
    "start_time": "2022-07-18T11:43:49.924Z"
   },
   {
    "duration": 23,
    "start_time": "2022-07-18T11:43:49.942Z"
   },
   {
    "duration": 16,
    "start_time": "2022-07-18T11:43:49.966Z"
   },
   {
    "duration": 50,
    "start_time": "2022-07-18T11:43:49.983Z"
   },
   {
    "duration": 0,
    "start_time": "2022-07-18T11:43:50.035Z"
   },
   {
    "duration": 0,
    "start_time": "2022-07-18T11:43:50.036Z"
   },
   {
    "duration": 0,
    "start_time": "2022-07-18T11:43:50.038Z"
   },
   {
    "duration": 0,
    "start_time": "2022-07-18T11:43:50.039Z"
   },
   {
    "duration": 0,
    "start_time": "2022-07-18T11:43:50.040Z"
   },
   {
    "duration": 0,
    "start_time": "2022-07-18T11:43:50.041Z"
   },
   {
    "duration": 0,
    "start_time": "2022-07-18T11:43:50.042Z"
   },
   {
    "duration": 0,
    "start_time": "2022-07-18T11:43:50.044Z"
   },
   {
    "duration": 0,
    "start_time": "2022-07-18T11:43:50.045Z"
   },
   {
    "duration": 0,
    "start_time": "2022-07-18T11:43:50.046Z"
   },
   {
    "duration": 0,
    "start_time": "2022-07-18T11:43:50.048Z"
   },
   {
    "duration": 92,
    "start_time": "2022-07-18T11:45:34.431Z"
   },
   {
    "duration": 48,
    "start_time": "2022-07-18T11:45:41.047Z"
   },
   {
    "duration": 53,
    "start_time": "2022-07-18T11:46:33.942Z"
   },
   {
    "duration": 48,
    "start_time": "2022-07-18T11:46:53.098Z"
   },
   {
    "duration": 97,
    "start_time": "2022-07-18T11:52:08.550Z"
   },
   {
    "duration": 84,
    "start_time": "2022-07-18T11:59:03.835Z"
   },
   {
    "duration": 84,
    "start_time": "2022-07-18T11:59:13.900Z"
   },
   {
    "duration": 11,
    "start_time": "2022-07-18T12:06:23.278Z"
   },
   {
    "duration": 18,
    "start_time": "2022-07-18T12:06:39.694Z"
   },
   {
    "duration": 11,
    "start_time": "2022-07-18T12:07:12.833Z"
   },
   {
    "duration": 11,
    "start_time": "2022-07-18T12:40:40.103Z"
   },
   {
    "duration": 8,
    "start_time": "2022-07-18T13:08:49.665Z"
   },
   {
    "duration": 172,
    "start_time": "2022-07-18T13:08:54.764Z"
   },
   {
    "duration": 133,
    "start_time": "2022-07-18T13:08:54.938Z"
   },
   {
    "duration": 6,
    "start_time": "2022-07-18T13:08:55.073Z"
   },
   {
    "duration": 18,
    "start_time": "2022-07-18T13:08:55.080Z"
   },
   {
    "duration": 22,
    "start_time": "2022-07-18T13:08:55.100Z"
   },
   {
    "duration": 23,
    "start_time": "2022-07-18T13:08:55.124Z"
   },
   {
    "duration": 4,
    "start_time": "2022-07-18T13:08:55.149Z"
   },
   {
    "duration": 34,
    "start_time": "2022-07-18T13:08:55.155Z"
   },
   {
    "duration": 30,
    "start_time": "2022-07-18T13:08:55.190Z"
   },
   {
    "duration": 25,
    "start_time": "2022-07-18T13:08:55.223Z"
   },
   {
    "duration": 62,
    "start_time": "2022-07-18T13:08:55.249Z"
   },
   {
    "duration": 62,
    "start_time": "2022-07-18T13:08:55.324Z"
   },
   {
    "duration": 62,
    "start_time": "2022-07-18T13:08:55.388Z"
   },
   {
    "duration": 22,
    "start_time": "2022-07-18T13:08:55.452Z"
   },
   {
    "duration": 13,
    "start_time": "2022-07-18T13:08:55.476Z"
   },
   {
    "duration": 24,
    "start_time": "2022-07-18T13:08:55.490Z"
   },
   {
    "duration": 28,
    "start_time": "2022-07-18T13:08:55.516Z"
   },
   {
    "duration": 39,
    "start_time": "2022-07-18T13:08:55.546Z"
   },
   {
    "duration": 11,
    "start_time": "2022-07-18T13:08:55.586Z"
   },
   {
    "duration": 0,
    "start_time": "2022-07-18T13:08:55.599Z"
   },
   {
    "duration": 0,
    "start_time": "2022-07-18T13:08:55.600Z"
   },
   {
    "duration": 0,
    "start_time": "2022-07-18T13:08:55.601Z"
   },
   {
    "duration": 0,
    "start_time": "2022-07-18T13:08:55.602Z"
   },
   {
    "duration": 0,
    "start_time": "2022-07-18T13:08:55.603Z"
   },
   {
    "duration": 0,
    "start_time": "2022-07-18T13:08:55.604Z"
   },
   {
    "duration": 0,
    "start_time": "2022-07-18T13:08:55.605Z"
   },
   {
    "duration": 0,
    "start_time": "2022-07-18T13:08:55.606Z"
   },
   {
    "duration": 0,
    "start_time": "2022-07-18T13:08:55.607Z"
   },
   {
    "duration": 0,
    "start_time": "2022-07-18T13:08:55.608Z"
   },
   {
    "duration": 0,
    "start_time": "2022-07-18T13:08:55.609Z"
   },
   {
    "duration": 0,
    "start_time": "2022-07-18T13:08:55.610Z"
   },
   {
    "duration": 0,
    "start_time": "2022-07-18T13:08:55.612Z"
   },
   {
    "duration": 1,
    "start_time": "2022-07-18T13:08:55.612Z"
   },
   {
    "duration": 0,
    "start_time": "2022-07-18T13:08:55.614Z"
   },
   {
    "duration": 0,
    "start_time": "2022-07-18T13:08:55.614Z"
   },
   {
    "duration": 0,
    "start_time": "2022-07-18T13:08:55.615Z"
   },
   {
    "duration": 0,
    "start_time": "2022-07-18T13:08:55.624Z"
   },
   {
    "duration": 0,
    "start_time": "2022-07-18T13:08:55.625Z"
   },
   {
    "duration": 192,
    "start_time": "2022-07-18T13:09:59.968Z"
   },
   {
    "duration": 144,
    "start_time": "2022-07-18T13:10:00.162Z"
   },
   {
    "duration": 8,
    "start_time": "2022-07-18T13:10:00.307Z"
   },
   {
    "duration": 20,
    "start_time": "2022-07-18T13:10:00.323Z"
   },
   {
    "duration": 22,
    "start_time": "2022-07-18T13:10:00.344Z"
   },
   {
    "duration": 22,
    "start_time": "2022-07-18T13:10:00.368Z"
   },
   {
    "duration": 13,
    "start_time": "2022-07-18T13:10:00.392Z"
   },
   {
    "duration": 34,
    "start_time": "2022-07-18T13:10:00.407Z"
   },
   {
    "duration": 32,
    "start_time": "2022-07-18T13:10:00.442Z"
   },
   {
    "duration": 29,
    "start_time": "2022-07-18T13:10:00.476Z"
   },
   {
    "duration": 71,
    "start_time": "2022-07-18T13:10:00.507Z"
   },
   {
    "duration": 76,
    "start_time": "2022-07-18T13:10:00.580Z"
   },
   {
    "duration": 57,
    "start_time": "2022-07-18T13:10:00.657Z"
   },
   {
    "duration": 22,
    "start_time": "2022-07-18T13:10:00.724Z"
   },
   {
    "duration": 53,
    "start_time": "2022-07-18T13:10:00.748Z"
   },
   {
    "duration": 41,
    "start_time": "2022-07-18T13:10:00.803Z"
   },
   {
    "duration": 11,
    "start_time": "2022-07-18T13:10:00.845Z"
   },
   {
    "duration": 52,
    "start_time": "2022-07-18T13:10:00.858Z"
   },
   {
    "duration": 34,
    "start_time": "2022-07-18T13:10:00.912Z"
   },
   {
    "duration": 2244,
    "start_time": "2022-07-18T13:10:00.947Z"
   },
   {
    "duration": 0,
    "start_time": "2022-07-18T13:10:03.192Z"
   },
   {
    "duration": 0,
    "start_time": "2022-07-18T13:10:03.194Z"
   },
   {
    "duration": 0,
    "start_time": "2022-07-18T13:10:03.195Z"
   },
   {
    "duration": 1,
    "start_time": "2022-07-18T13:10:03.196Z"
   },
   {
    "duration": 0,
    "start_time": "2022-07-18T13:10:03.197Z"
   },
   {
    "duration": 0,
    "start_time": "2022-07-18T13:10:03.199Z"
   },
   {
    "duration": 0,
    "start_time": "2022-07-18T13:10:03.200Z"
   },
   {
    "duration": 0,
    "start_time": "2022-07-18T13:10:03.202Z"
   },
   {
    "duration": 0,
    "start_time": "2022-07-18T13:10:03.203Z"
   },
   {
    "duration": 0,
    "start_time": "2022-07-18T13:10:03.223Z"
   },
   {
    "duration": 0,
    "start_time": "2022-07-18T13:10:03.225Z"
   },
   {
    "duration": 0,
    "start_time": "2022-07-18T13:10:03.227Z"
   },
   {
    "duration": 0,
    "start_time": "2022-07-18T13:10:03.229Z"
   },
   {
    "duration": 0,
    "start_time": "2022-07-18T13:10:03.231Z"
   },
   {
    "duration": 0,
    "start_time": "2022-07-18T13:10:03.232Z"
   },
   {
    "duration": 0,
    "start_time": "2022-07-18T13:10:03.233Z"
   },
   {
    "duration": 0,
    "start_time": "2022-07-18T13:10:03.235Z"
   },
   {
    "duration": 0,
    "start_time": "2022-07-18T13:10:03.236Z"
   },
   {
    "duration": 164,
    "start_time": "2022-07-18T13:10:36.211Z"
   },
   {
    "duration": 131,
    "start_time": "2022-07-18T13:10:36.377Z"
   },
   {
    "duration": 6,
    "start_time": "2022-07-18T13:10:36.510Z"
   },
   {
    "duration": 5,
    "start_time": "2022-07-18T13:10:36.524Z"
   },
   {
    "duration": 6,
    "start_time": "2022-07-18T13:10:36.531Z"
   },
   {
    "duration": 17,
    "start_time": "2022-07-18T13:10:36.538Z"
   },
   {
    "duration": 9,
    "start_time": "2022-07-18T13:10:36.557Z"
   },
   {
    "duration": 30,
    "start_time": "2022-07-18T13:10:36.568Z"
   },
   {
    "duration": 33,
    "start_time": "2022-07-18T13:10:36.600Z"
   },
   {
    "duration": 28,
    "start_time": "2022-07-18T13:10:36.634Z"
   },
   {
    "duration": 69,
    "start_time": "2022-07-18T13:10:36.664Z"
   },
   {
    "duration": 103,
    "start_time": "2022-07-18T13:10:36.735Z"
   },
   {
    "duration": 54,
    "start_time": "2022-07-18T13:10:36.840Z"
   },
   {
    "duration": 28,
    "start_time": "2022-07-18T13:10:36.898Z"
   },
   {
    "duration": 12,
    "start_time": "2022-07-18T13:10:36.928Z"
   },
   {
    "duration": 15,
    "start_time": "2022-07-18T13:10:36.942Z"
   },
   {
    "duration": 8,
    "start_time": "2022-07-18T13:10:36.959Z"
   },
   {
    "duration": 37,
    "start_time": "2022-07-18T13:10:36.969Z"
   },
   {
    "duration": 48,
    "start_time": "2022-07-18T13:10:37.008Z"
   },
   {
    "duration": 22,
    "start_time": "2022-07-18T13:10:37.058Z"
   },
   {
    "duration": 20,
    "start_time": "2022-07-18T13:10:37.081Z"
   },
   {
    "duration": 17,
    "start_time": "2022-07-18T13:10:37.123Z"
   },
   {
    "duration": 17,
    "start_time": "2022-07-18T13:10:37.142Z"
   },
   {
    "duration": 16,
    "start_time": "2022-07-18T13:10:37.160Z"
   },
   {
    "duration": 50,
    "start_time": "2022-07-18T13:10:37.177Z"
   },
   {
    "duration": 20,
    "start_time": "2022-07-18T13:10:37.229Z"
   },
   {
    "duration": 117,
    "start_time": "2022-07-18T13:10:37.251Z"
   },
   {
    "duration": 17,
    "start_time": "2022-07-18T13:10:37.370Z"
   },
   {
    "duration": 12,
    "start_time": "2022-07-18T13:10:37.389Z"
   },
   {
    "duration": 147,
    "start_time": "2022-07-18T13:10:37.403Z"
   },
   {
    "duration": 1,
    "start_time": "2022-07-18T13:10:37.551Z"
   },
   {
    "duration": 0,
    "start_time": "2022-07-18T13:10:37.553Z"
   },
   {
    "duration": 0,
    "start_time": "2022-07-18T13:10:37.554Z"
   },
   {
    "duration": 0,
    "start_time": "2022-07-18T13:10:37.556Z"
   },
   {
    "duration": 0,
    "start_time": "2022-07-18T13:10:37.557Z"
   },
   {
    "duration": 0,
    "start_time": "2022-07-18T13:10:37.558Z"
   },
   {
    "duration": 0,
    "start_time": "2022-07-18T13:10:37.560Z"
   },
   {
    "duration": 0,
    "start_time": "2022-07-18T13:10:37.561Z"
   },
   {
    "duration": 48,
    "start_time": "2022-07-18T13:24:03.704Z"
   },
   {
    "duration": 5,
    "start_time": "2022-07-18T13:33:17.194Z"
   },
   {
    "duration": 170,
    "start_time": "2022-07-18T13:33:33.427Z"
   },
   {
    "duration": 128,
    "start_time": "2022-07-18T13:33:33.599Z"
   },
   {
    "duration": 6,
    "start_time": "2022-07-18T13:33:33.728Z"
   },
   {
    "duration": 9,
    "start_time": "2022-07-18T13:33:33.737Z"
   },
   {
    "duration": 8,
    "start_time": "2022-07-18T13:33:33.748Z"
   },
   {
    "duration": 17,
    "start_time": "2022-07-18T13:33:33.758Z"
   },
   {
    "duration": 9,
    "start_time": "2022-07-18T13:33:33.777Z"
   },
   {
    "duration": 40,
    "start_time": "2022-07-18T13:33:33.787Z"
   },
   {
    "duration": 21,
    "start_time": "2022-07-18T13:33:33.829Z"
   },
   {
    "duration": 28,
    "start_time": "2022-07-18T13:33:33.853Z"
   },
   {
    "duration": 90,
    "start_time": "2022-07-18T13:33:33.882Z"
   },
   {
    "duration": 77,
    "start_time": "2022-07-18T13:33:33.974Z"
   },
   {
    "duration": 61,
    "start_time": "2022-07-18T13:33:34.053Z"
   },
   {
    "duration": 25,
    "start_time": "2022-07-18T13:33:34.124Z"
   },
   {
    "duration": 6,
    "start_time": "2022-07-18T13:33:34.151Z"
   },
   {
    "duration": 17,
    "start_time": "2022-07-18T13:33:34.158Z"
   },
   {
    "duration": 8,
    "start_time": "2022-07-18T13:33:34.176Z"
   },
   {
    "duration": 57,
    "start_time": "2022-07-18T13:33:34.186Z"
   },
   {
    "duration": 36,
    "start_time": "2022-07-18T13:33:34.245Z"
   },
   {
    "duration": 41,
    "start_time": "2022-07-18T13:33:34.282Z"
   },
   {
    "duration": 25,
    "start_time": "2022-07-18T13:33:34.325Z"
   },
   {
    "duration": 17,
    "start_time": "2022-07-18T13:33:34.352Z"
   },
   {
    "duration": 16,
    "start_time": "2022-07-18T13:33:34.371Z"
   },
   {
    "duration": 45,
    "start_time": "2022-07-18T13:33:34.389Z"
   },
   {
    "duration": 24,
    "start_time": "2022-07-18T13:33:34.436Z"
   },
   {
    "duration": 16,
    "start_time": "2022-07-18T13:33:34.462Z"
   },
   {
    "duration": 123,
    "start_time": "2022-07-18T13:33:34.479Z"
   },
   {
    "duration": 22,
    "start_time": "2022-07-18T13:33:34.606Z"
   },
   {
    "duration": 11,
    "start_time": "2022-07-18T13:33:34.630Z"
   },
   {
    "duration": 12,
    "start_time": "2022-07-18T13:33:34.643Z"
   },
   {
    "duration": 13,
    "start_time": "2022-07-18T13:33:34.657Z"
   },
   {
    "duration": 11,
    "start_time": "2022-07-18T13:33:34.671Z"
   },
   {
    "duration": 11,
    "start_time": "2022-07-18T13:33:34.683Z"
   },
   {
    "duration": 8,
    "start_time": "2022-07-18T13:33:34.696Z"
   },
   {
    "duration": 6,
    "start_time": "2022-07-18T13:33:34.705Z"
   },
   {
    "duration": 9,
    "start_time": "2022-07-18T13:33:34.712Z"
   },
   {
    "duration": 6,
    "start_time": "2022-07-18T13:33:34.723Z"
   },
   {
    "duration": 7,
    "start_time": "2022-07-18T13:33:34.731Z"
   },
   {
    "duration": 26,
    "start_time": "2022-07-18T13:35:48.538Z"
   },
   {
    "duration": 55,
    "start_time": "2022-07-18T13:36:41.230Z"
   },
   {
    "duration": 21,
    "start_time": "2022-07-18T13:37:01.424Z"
   },
   {
    "duration": 18,
    "start_time": "2022-07-18T13:37:21.684Z"
   },
   {
    "duration": 57,
    "start_time": "2022-07-18T13:37:54.429Z"
   },
   {
    "duration": 23,
    "start_time": "2022-07-18T13:38:01.256Z"
   },
   {
    "duration": 23,
    "start_time": "2022-07-18T13:38:23.013Z"
   },
   {
    "duration": 17,
    "start_time": "2022-07-18T13:40:43.473Z"
   },
   {
    "duration": 18,
    "start_time": "2022-07-18T13:45:44.608Z"
   },
   {
    "duration": 4,
    "start_time": "2022-07-18T13:53:10.551Z"
   },
   {
    "duration": 1015,
    "start_time": "2022-07-18T13:54:32.908Z"
   },
   {
    "duration": 818,
    "start_time": "2022-07-18T13:56:09.403Z"
   },
   {
    "duration": 160,
    "start_time": "2022-07-18T13:56:52.307Z"
   },
   {
    "duration": 129,
    "start_time": "2022-07-18T13:56:52.469Z"
   },
   {
    "duration": 5,
    "start_time": "2022-07-18T13:56:52.600Z"
   },
   {
    "duration": 19,
    "start_time": "2022-07-18T13:56:52.607Z"
   },
   {
    "duration": 6,
    "start_time": "2022-07-18T13:56:52.629Z"
   },
   {
    "duration": 14,
    "start_time": "2022-07-18T13:56:52.637Z"
   },
   {
    "duration": 5,
    "start_time": "2022-07-18T13:56:52.653Z"
   },
   {
    "duration": 35,
    "start_time": "2022-07-18T13:56:52.659Z"
   },
   {
    "duration": 40,
    "start_time": "2022-07-18T13:56:52.696Z"
   },
   {
    "duration": 26,
    "start_time": "2022-07-18T13:56:52.738Z"
   },
   {
    "duration": 75,
    "start_time": "2022-07-18T13:56:52.765Z"
   },
   {
    "duration": 66,
    "start_time": "2022-07-18T13:56:52.842Z"
   },
   {
    "duration": 67,
    "start_time": "2022-07-18T13:56:52.911Z"
   },
   {
    "duration": 26,
    "start_time": "2022-07-18T13:56:52.981Z"
   },
   {
    "duration": 4,
    "start_time": "2022-07-18T13:56:53.024Z"
   },
   {
    "duration": 24,
    "start_time": "2022-07-18T13:56:53.029Z"
   },
   {
    "duration": 12,
    "start_time": "2022-07-18T13:56:53.054Z"
   },
   {
    "duration": 40,
    "start_time": "2022-07-18T13:56:53.068Z"
   },
   {
    "duration": 44,
    "start_time": "2022-07-18T13:56:53.110Z"
   },
   {
    "duration": 23,
    "start_time": "2022-07-18T13:56:53.156Z"
   },
   {
    "duration": 21,
    "start_time": "2022-07-18T13:56:53.181Z"
   },
   {
    "duration": 35,
    "start_time": "2022-07-18T13:56:53.204Z"
   },
   {
    "duration": 27,
    "start_time": "2022-07-18T13:56:53.241Z"
   },
   {
    "duration": 19,
    "start_time": "2022-07-18T13:56:53.270Z"
   },
   {
    "duration": 59,
    "start_time": "2022-07-18T13:56:53.291Z"
   },
   {
    "duration": 20,
    "start_time": "2022-07-18T13:56:53.352Z"
   },
   {
    "duration": 106,
    "start_time": "2022-07-18T13:56:53.374Z"
   },
   {
    "duration": 11,
    "start_time": "2022-07-18T13:56:53.481Z"
   },
   {
    "duration": 10,
    "start_time": "2022-07-18T13:56:53.494Z"
   },
   {
    "duration": 21,
    "start_time": "2022-07-18T13:56:53.506Z"
   },
   {
    "duration": 33,
    "start_time": "2022-07-18T13:56:53.529Z"
   },
   {
    "duration": 0,
    "start_time": "2022-07-18T13:56:53.563Z"
   },
   {
    "duration": 0,
    "start_time": "2022-07-18T13:56:53.565Z"
   },
   {
    "duration": 0,
    "start_time": "2022-07-18T13:56:53.566Z"
   },
   {
    "duration": 0,
    "start_time": "2022-07-18T13:56:53.567Z"
   },
   {
    "duration": 0,
    "start_time": "2022-07-18T13:56:53.568Z"
   },
   {
    "duration": 0,
    "start_time": "2022-07-18T13:56:53.570Z"
   },
   {
    "duration": 0,
    "start_time": "2022-07-18T13:56:53.571Z"
   },
   {
    "duration": 155,
    "start_time": "2022-07-18T14:00:15.059Z"
   },
   {
    "duration": 144,
    "start_time": "2022-07-18T14:00:15.216Z"
   },
   {
    "duration": 6,
    "start_time": "2022-07-18T14:00:15.361Z"
   },
   {
    "duration": 30,
    "start_time": "2022-07-18T14:00:15.369Z"
   },
   {
    "duration": 11,
    "start_time": "2022-07-18T14:00:15.400Z"
   },
   {
    "duration": 14,
    "start_time": "2022-07-18T14:00:15.413Z"
   },
   {
    "duration": 9,
    "start_time": "2022-07-18T14:00:15.429Z"
   },
   {
    "duration": 38,
    "start_time": "2022-07-18T14:00:15.440Z"
   },
   {
    "duration": 24,
    "start_time": "2022-07-18T14:00:15.480Z"
   },
   {
    "duration": 48,
    "start_time": "2022-07-18T14:00:15.508Z"
   },
   {
    "duration": 68,
    "start_time": "2022-07-18T14:00:15.558Z"
   },
   {
    "duration": 69,
    "start_time": "2022-07-18T14:00:15.627Z"
   },
   {
    "duration": 76,
    "start_time": "2022-07-18T14:00:15.698Z"
   },
   {
    "duration": 24,
    "start_time": "2022-07-18T14:00:15.776Z"
   },
   {
    "duration": 7,
    "start_time": "2022-07-18T14:00:15.801Z"
   },
   {
    "duration": 19,
    "start_time": "2022-07-18T14:00:15.809Z"
   },
   {
    "duration": 7,
    "start_time": "2022-07-18T14:00:15.830Z"
   },
   {
    "duration": 49,
    "start_time": "2022-07-18T14:00:15.838Z"
   },
   {
    "duration": 42,
    "start_time": "2022-07-18T14:00:15.889Z"
   },
   {
    "duration": 29,
    "start_time": "2022-07-18T14:00:15.934Z"
   },
   {
    "duration": 21,
    "start_time": "2022-07-18T14:00:15.965Z"
   },
   {
    "duration": 38,
    "start_time": "2022-07-18T14:00:15.988Z"
   },
   {
    "duration": 17,
    "start_time": "2022-07-18T14:00:16.027Z"
   },
   {
    "duration": 21,
    "start_time": "2022-07-18T14:00:16.046Z"
   },
   {
    "duration": 19,
    "start_time": "2022-07-18T14:00:16.069Z"
   },
   {
    "duration": 35,
    "start_time": "2022-07-18T14:00:16.089Z"
   },
   {
    "duration": 85,
    "start_time": "2022-07-18T14:00:16.126Z"
   },
   {
    "duration": 11,
    "start_time": "2022-07-18T14:00:16.223Z"
   },
   {
    "duration": 26,
    "start_time": "2022-07-18T14:00:16.235Z"
   },
   {
    "duration": 20,
    "start_time": "2022-07-18T14:00:16.262Z"
   },
   {
    "duration": 16,
    "start_time": "2022-07-18T14:00:20.488Z"
   },
   {
    "duration": 18,
    "start_time": "2022-07-18T14:04:10.984Z"
   },
   {
    "duration": 18,
    "start_time": "2022-07-18T14:05:05.592Z"
   },
   {
    "duration": 16,
    "start_time": "2022-07-18T14:05:32.746Z"
   },
   {
    "duration": 157,
    "start_time": "2022-07-18T14:05:46.124Z"
   },
   {
    "duration": 141,
    "start_time": "2022-07-18T14:05:46.283Z"
   },
   {
    "duration": 7,
    "start_time": "2022-07-18T14:05:46.426Z"
   },
   {
    "duration": 7,
    "start_time": "2022-07-18T14:05:46.435Z"
   },
   {
    "duration": 6,
    "start_time": "2022-07-18T14:05:46.443Z"
   },
   {
    "duration": 11,
    "start_time": "2022-07-18T14:05:46.451Z"
   },
   {
    "duration": 3,
    "start_time": "2022-07-18T14:05:46.464Z"
   },
   {
    "duration": 28,
    "start_time": "2022-07-18T14:05:46.469Z"
   },
   {
    "duration": 19,
    "start_time": "2022-07-18T14:05:46.524Z"
   },
   {
    "duration": 34,
    "start_time": "2022-07-18T14:05:46.545Z"
   },
   {
    "duration": 81,
    "start_time": "2022-07-18T14:05:46.581Z"
   },
   {
    "duration": 77,
    "start_time": "2022-07-18T14:05:46.663Z"
   },
   {
    "duration": 57,
    "start_time": "2022-07-18T14:05:46.741Z"
   },
   {
    "duration": 41,
    "start_time": "2022-07-18T14:05:46.799Z"
   },
   {
    "duration": 8,
    "start_time": "2022-07-18T14:05:46.842Z"
   },
   {
    "duration": 15,
    "start_time": "2022-07-18T14:05:46.852Z"
   },
   {
    "duration": 7,
    "start_time": "2022-07-18T14:05:46.869Z"
   },
   {
    "duration": 50,
    "start_time": "2022-07-18T14:05:46.878Z"
   },
   {
    "duration": 44,
    "start_time": "2022-07-18T14:05:46.930Z"
   },
   {
    "duration": 22,
    "start_time": "2022-07-18T14:05:46.975Z"
   },
   {
    "duration": 37,
    "start_time": "2022-07-18T14:05:46.998Z"
   },
   {
    "duration": 17,
    "start_time": "2022-07-18T14:05:47.037Z"
   },
   {
    "duration": 18,
    "start_time": "2022-07-18T14:05:47.055Z"
   },
   {
    "duration": 16,
    "start_time": "2022-07-18T14:05:47.074Z"
   },
   {
    "duration": 46,
    "start_time": "2022-07-18T14:05:47.091Z"
   },
   {
    "duration": 17,
    "start_time": "2022-07-18T14:05:47.139Z"
   },
   {
    "duration": 125,
    "start_time": "2022-07-18T14:05:47.158Z"
   },
   {
    "duration": 14,
    "start_time": "2022-07-18T14:05:47.287Z"
   },
   {
    "duration": 30,
    "start_time": "2022-07-18T14:05:47.304Z"
   },
   {
    "duration": 21,
    "start_time": "2022-07-18T14:05:47.336Z"
   },
   {
    "duration": 0,
    "start_time": "2022-07-18T14:05:47.359Z"
   },
   {
    "duration": 0,
    "start_time": "2022-07-18T14:05:47.360Z"
   },
   {
    "duration": 0,
    "start_time": "2022-07-18T14:05:47.362Z"
   },
   {
    "duration": 0,
    "start_time": "2022-07-18T14:05:47.363Z"
   },
   {
    "duration": 0,
    "start_time": "2022-07-18T14:05:47.364Z"
   },
   {
    "duration": 0,
    "start_time": "2022-07-18T14:05:47.365Z"
   },
   {
    "duration": 0,
    "start_time": "2022-07-18T14:05:47.366Z"
   },
   {
    "duration": 0,
    "start_time": "2022-07-18T14:05:47.368Z"
   },
   {
    "duration": 20,
    "start_time": "2022-07-18T14:06:14.985Z"
   },
   {
    "duration": 14,
    "start_time": "2022-07-18T14:08:36.769Z"
   },
   {
    "duration": 14,
    "start_time": "2022-07-18T14:11:54.239Z"
   },
   {
    "duration": 175,
    "start_time": "2022-07-18T14:12:18.905Z"
   },
   {
    "duration": 142,
    "start_time": "2022-07-18T14:12:19.082Z"
   },
   {
    "duration": 6,
    "start_time": "2022-07-18T14:12:19.225Z"
   },
   {
    "duration": 15,
    "start_time": "2022-07-18T14:12:19.233Z"
   },
   {
    "duration": 9,
    "start_time": "2022-07-18T14:12:19.249Z"
   },
   {
    "duration": 12,
    "start_time": "2022-07-18T14:12:19.259Z"
   },
   {
    "duration": 4,
    "start_time": "2022-07-18T14:12:19.273Z"
   },
   {
    "duration": 34,
    "start_time": "2022-07-18T14:12:19.278Z"
   },
   {
    "duration": 23,
    "start_time": "2022-07-18T14:12:19.324Z"
   },
   {
    "duration": 31,
    "start_time": "2022-07-18T14:12:19.350Z"
   },
   {
    "duration": 85,
    "start_time": "2022-07-18T14:12:19.383Z"
   },
   {
    "duration": 85,
    "start_time": "2022-07-18T14:12:19.470Z"
   },
   {
    "duration": 67,
    "start_time": "2022-07-18T14:12:19.557Z"
   },
   {
    "duration": 25,
    "start_time": "2022-07-18T14:12:19.626Z"
   },
   {
    "duration": 3,
    "start_time": "2022-07-18T14:12:19.653Z"
   },
   {
    "duration": 12,
    "start_time": "2022-07-18T14:12:19.658Z"
   },
   {
    "duration": 11,
    "start_time": "2022-07-18T14:12:19.672Z"
   },
   {
    "duration": 62,
    "start_time": "2022-07-18T14:12:19.684Z"
   },
   {
    "duration": 37,
    "start_time": "2022-07-18T14:12:19.748Z"
   },
   {
    "duration": 38,
    "start_time": "2022-07-18T14:12:19.787Z"
   },
   {
    "duration": 28,
    "start_time": "2022-07-18T14:12:19.828Z"
   },
   {
    "duration": 20,
    "start_time": "2022-07-18T14:12:19.857Z"
   },
   {
    "duration": 45,
    "start_time": "2022-07-18T14:12:19.879Z"
   },
   {
    "duration": 17,
    "start_time": "2022-07-18T14:12:19.926Z"
   },
   {
    "duration": 21,
    "start_time": "2022-07-18T14:12:19.945Z"
   },
   {
    "duration": 17,
    "start_time": "2022-07-18T14:12:19.967Z"
   },
   {
    "duration": 148,
    "start_time": "2022-07-18T14:12:19.986Z"
   },
   {
    "duration": 11,
    "start_time": "2022-07-18T14:12:20.137Z"
   },
   {
    "duration": 11,
    "start_time": "2022-07-18T14:12:20.150Z"
   },
   {
    "duration": 13,
    "start_time": "2022-07-18T14:12:20.162Z"
   },
   {
    "duration": 21,
    "start_time": "2022-07-18T14:12:20.176Z"
   },
   {
    "duration": 6,
    "start_time": "2022-07-18T14:12:20.199Z"
   },
   {
    "duration": 2,
    "start_time": "2022-07-18T14:12:20.224Z"
   },
   {
    "duration": 9,
    "start_time": "2022-07-18T14:12:20.228Z"
   },
   {
    "duration": 7,
    "start_time": "2022-07-18T14:12:20.239Z"
   },
   {
    "duration": 7,
    "start_time": "2022-07-18T14:12:20.247Z"
   },
   {
    "duration": 9,
    "start_time": "2022-07-18T14:12:20.256Z"
   },
   {
    "duration": 15,
    "start_time": "2022-07-18T14:12:20.266Z"
   },
   {
    "duration": 18,
    "start_time": "2022-07-18T14:13:13.494Z"
   },
   {
    "duration": 19,
    "start_time": "2022-07-18T14:13:35.886Z"
   },
   {
    "duration": 25,
    "start_time": "2022-07-18T14:15:14.262Z"
   },
   {
    "duration": 20,
    "start_time": "2022-07-18T14:16:56.909Z"
   },
   {
    "duration": 16,
    "start_time": "2022-07-18T14:21:00.780Z"
   },
   {
    "duration": 17,
    "start_time": "2022-07-18T14:23:59.057Z"
   },
   {
    "duration": 20,
    "start_time": "2022-07-18T14:24:59.616Z"
   },
   {
    "duration": 17,
    "start_time": "2022-07-18T14:26:46.133Z"
   },
   {
    "duration": 19,
    "start_time": "2022-07-18T14:27:01.385Z"
   },
   {
    "duration": 20,
    "start_time": "2022-07-18T14:27:28.195Z"
   },
   {
    "duration": 19,
    "start_time": "2022-07-18T14:28:12.648Z"
   },
   {
    "duration": 21,
    "start_time": "2022-07-18T14:31:24.333Z"
   },
   {
    "duration": 20,
    "start_time": "2022-07-18T14:32:29.209Z"
   },
   {
    "duration": 13,
    "start_time": "2022-07-18T14:37:23.359Z"
   },
   {
    "duration": 20,
    "start_time": "2022-07-18T14:38:28.057Z"
   },
   {
    "duration": 19,
    "start_time": "2022-07-18T14:39:11.268Z"
   },
   {
    "duration": 20,
    "start_time": "2022-07-18T14:42:06.194Z"
   },
   {
    "duration": 24,
    "start_time": "2022-07-18T14:42:45.066Z"
   },
   {
    "duration": 25,
    "start_time": "2022-07-18T14:46:13.135Z"
   },
   {
    "duration": 25,
    "start_time": "2022-07-18T14:46:31.982Z"
   },
   {
    "duration": 23,
    "start_time": "2022-07-18T14:47:16.890Z"
   },
   {
    "duration": 23,
    "start_time": "2022-07-18T14:47:49.839Z"
   },
   {
    "duration": 26,
    "start_time": "2022-07-18T15:18:02.031Z"
   },
   {
    "duration": 24,
    "start_time": "2022-07-18T15:19:50.741Z"
   },
   {
    "duration": 11,
    "start_time": "2022-07-18T15:20:24.626Z"
   },
   {
    "duration": 8,
    "start_time": "2022-07-18T15:20:35.316Z"
   },
   {
    "duration": 9,
    "start_time": "2022-07-18T15:21:08.604Z"
   },
   {
    "duration": 9,
    "start_time": "2022-07-18T15:21:29.394Z"
   },
   {
    "duration": 9,
    "start_time": "2022-07-18T15:21:42.642Z"
   },
   {
    "duration": 165,
    "start_time": "2022-07-18T15:21:56.828Z"
   },
   {
    "duration": 177,
    "start_time": "2022-07-18T15:21:56.995Z"
   },
   {
    "duration": 8,
    "start_time": "2022-07-18T15:21:57.174Z"
   },
   {
    "duration": 9,
    "start_time": "2022-07-18T15:21:57.184Z"
   },
   {
    "duration": 11,
    "start_time": "2022-07-18T15:21:57.195Z"
   },
   {
    "duration": 31,
    "start_time": "2022-07-18T15:21:57.208Z"
   },
   {
    "duration": 29,
    "start_time": "2022-07-18T15:21:57.241Z"
   },
   {
    "duration": 44,
    "start_time": "2022-07-18T15:21:57.272Z"
   },
   {
    "duration": 34,
    "start_time": "2022-07-18T15:21:57.318Z"
   },
   {
    "duration": 41,
    "start_time": "2022-07-18T15:21:57.356Z"
   },
   {
    "duration": 79,
    "start_time": "2022-07-18T15:21:57.399Z"
   },
   {
    "duration": 86,
    "start_time": "2022-07-18T15:21:57.480Z"
   },
   {
    "duration": 71,
    "start_time": "2022-07-18T15:21:57.567Z"
   },
   {
    "duration": 26,
    "start_time": "2022-07-18T15:21:57.640Z"
   },
   {
    "duration": 4,
    "start_time": "2022-07-18T15:21:57.668Z"
   },
   {
    "duration": 14,
    "start_time": "2022-07-18T15:21:57.674Z"
   },
   {
    "duration": 6,
    "start_time": "2022-07-18T15:21:57.689Z"
   },
   {
    "duration": 42,
    "start_time": "2022-07-18T15:21:57.724Z"
   },
   {
    "duration": 58,
    "start_time": "2022-07-18T15:21:57.768Z"
   },
   {
    "duration": 25,
    "start_time": "2022-07-18T15:21:57.828Z"
   },
   {
    "duration": 21,
    "start_time": "2022-07-18T15:21:57.855Z"
   },
   {
    "duration": 17,
    "start_time": "2022-07-18T15:21:57.877Z"
   },
   {
    "duration": 42,
    "start_time": "2022-07-18T15:21:57.895Z"
   },
   {
    "duration": 16,
    "start_time": "2022-07-18T15:21:57.939Z"
   },
   {
    "duration": 21,
    "start_time": "2022-07-18T15:21:57.957Z"
   },
   {
    "duration": 50,
    "start_time": "2022-07-18T15:21:57.979Z"
   },
   {
    "duration": 99,
    "start_time": "2022-07-18T15:21:58.030Z"
   },
   {
    "duration": 13,
    "start_time": "2022-07-18T15:21:58.132Z"
   },
   {
    "duration": 13,
    "start_time": "2022-07-18T15:21:58.147Z"
   },
   {
    "duration": 23,
    "start_time": "2022-07-18T15:21:58.162Z"
   },
   {
    "duration": 50,
    "start_time": "2022-07-18T15:21:58.187Z"
   },
   {
    "duration": 2,
    "start_time": "2022-07-18T15:21:58.239Z"
   },
   {
    "duration": 6,
    "start_time": "2022-07-18T15:21:58.243Z"
   },
   {
    "duration": 5,
    "start_time": "2022-07-18T15:21:58.250Z"
   },
   {
    "duration": 6,
    "start_time": "2022-07-18T15:21:58.257Z"
   },
   {
    "duration": 18,
    "start_time": "2022-07-18T15:21:58.265Z"
   },
   {
    "duration": 6,
    "start_time": "2022-07-18T15:21:58.284Z"
   },
   {
    "duration": 11,
    "start_time": "2022-07-18T15:21:58.291Z"
   },
   {
    "duration": 21,
    "start_time": "2022-07-18T15:22:32.844Z"
   },
   {
    "duration": 28,
    "start_time": "2022-07-18T15:24:20.144Z"
   },
   {
    "duration": 32,
    "start_time": "2022-07-18T15:25:09.953Z"
   },
   {
    "duration": 13,
    "start_time": "2022-07-18T15:25:42.712Z"
   },
   {
    "duration": 18,
    "start_time": "2022-07-18T15:27:03.690Z"
   },
   {
    "duration": 20,
    "start_time": "2022-07-18T15:27:27.033Z"
   },
   {
    "duration": 14,
    "start_time": "2022-07-18T15:29:29.214Z"
   },
   {
    "duration": 16,
    "start_time": "2022-07-18T15:32:04.072Z"
   },
   {
    "duration": 16,
    "start_time": "2022-07-18T15:34:29.992Z"
   },
   {
    "duration": 14,
    "start_time": "2022-07-18T15:34:33.190Z"
   },
   {
    "duration": 19,
    "start_time": "2022-07-18T15:34:37.527Z"
   },
   {
    "duration": 14,
    "start_time": "2022-07-18T15:34:41.824Z"
   },
   {
    "duration": 24,
    "start_time": "2022-07-18T15:34:51.381Z"
   },
   {
    "duration": 16,
    "start_time": "2022-07-18T15:35:12.647Z"
   },
   {
    "duration": 13,
    "start_time": "2022-07-18T15:37:39.874Z"
   },
   {
    "duration": 194,
    "start_time": "2022-07-18T15:38:00.668Z"
   },
   {
    "duration": 160,
    "start_time": "2022-07-18T15:38:00.864Z"
   },
   {
    "duration": 6,
    "start_time": "2022-07-18T15:38:01.025Z"
   },
   {
    "duration": 28,
    "start_time": "2022-07-18T15:38:01.033Z"
   },
   {
    "duration": 22,
    "start_time": "2022-07-18T15:38:01.062Z"
   },
   {
    "duration": 41,
    "start_time": "2022-07-18T15:38:01.086Z"
   },
   {
    "duration": 60,
    "start_time": "2022-07-18T15:38:01.129Z"
   },
   {
    "duration": 58,
    "start_time": "2022-07-18T15:38:01.191Z"
   },
   {
    "duration": 52,
    "start_time": "2022-07-18T15:38:01.251Z"
   },
   {
    "duration": 46,
    "start_time": "2022-07-18T15:38:01.306Z"
   },
   {
    "duration": 120,
    "start_time": "2022-07-18T15:38:01.354Z"
   },
   {
    "duration": 89,
    "start_time": "2022-07-18T15:38:01.476Z"
   },
   {
    "duration": 79,
    "start_time": "2022-07-18T15:38:01.566Z"
   },
   {
    "duration": 24,
    "start_time": "2022-07-18T15:38:01.646Z"
   },
   {
    "duration": 60,
    "start_time": "2022-07-18T15:38:01.672Z"
   },
   {
    "duration": 46,
    "start_time": "2022-07-18T15:38:01.733Z"
   },
   {
    "duration": 21,
    "start_time": "2022-07-18T15:38:01.781Z"
   },
   {
    "duration": 52,
    "start_time": "2022-07-18T15:38:01.804Z"
   },
   {
    "duration": 43,
    "start_time": "2022-07-18T15:38:01.857Z"
   },
   {
    "duration": 37,
    "start_time": "2022-07-18T15:38:01.902Z"
   },
   {
    "duration": 67,
    "start_time": "2022-07-18T15:38:01.941Z"
   },
   {
    "duration": 125,
    "start_time": "2022-07-18T15:38:02.010Z"
   },
   {
    "duration": 44,
    "start_time": "2022-07-18T15:38:02.137Z"
   },
   {
    "duration": 17,
    "start_time": "2022-07-18T15:38:02.182Z"
   },
   {
    "duration": 39,
    "start_time": "2022-07-18T15:38:02.200Z"
   },
   {
    "duration": 16,
    "start_time": "2022-07-18T15:38:02.240Z"
   },
   {
    "duration": 121,
    "start_time": "2022-07-18T15:38:02.258Z"
   },
   {
    "duration": 16,
    "start_time": "2022-07-18T15:38:02.382Z"
   },
   {
    "duration": 12,
    "start_time": "2022-07-18T15:38:02.400Z"
   },
   {
    "duration": 14,
    "start_time": "2022-07-18T15:38:02.423Z"
   },
   {
    "duration": 24,
    "start_time": "2022-07-18T15:38:02.438Z"
   },
   {
    "duration": 11,
    "start_time": "2022-07-18T15:38:02.464Z"
   },
   {
    "duration": 23,
    "start_time": "2022-07-18T15:38:02.477Z"
   },
   {
    "duration": 6,
    "start_time": "2022-07-18T15:42:52.441Z"
   },
   {
    "duration": 22,
    "start_time": "2022-07-18T15:43:58.419Z"
   },
   {
    "duration": 27,
    "start_time": "2022-07-18T15:44:02.737Z"
   },
   {
    "duration": 4,
    "start_time": "2022-07-18T15:44:20.421Z"
   },
   {
    "duration": 168,
    "start_time": "2022-07-18T15:44:23.840Z"
   },
   {
    "duration": 171,
    "start_time": "2022-07-18T15:44:24.011Z"
   },
   {
    "duration": 8,
    "start_time": "2022-07-18T15:44:24.184Z"
   },
   {
    "duration": 12,
    "start_time": "2022-07-18T15:44:24.195Z"
   },
   {
    "duration": 17,
    "start_time": "2022-07-18T15:44:24.208Z"
   },
   {
    "duration": 13,
    "start_time": "2022-07-18T15:44:24.227Z"
   },
   {
    "duration": 11,
    "start_time": "2022-07-18T15:44:24.241Z"
   },
   {
    "duration": 53,
    "start_time": "2022-07-18T15:44:24.254Z"
   },
   {
    "duration": 40,
    "start_time": "2022-07-18T15:44:24.323Z"
   },
   {
    "duration": 32,
    "start_time": "2022-07-18T15:44:24.366Z"
   },
   {
    "duration": 86,
    "start_time": "2022-07-18T15:44:24.400Z"
   },
   {
    "duration": 103,
    "start_time": "2022-07-18T15:44:24.488Z"
   },
   {
    "duration": 89,
    "start_time": "2022-07-18T15:44:24.594Z"
   },
   {
    "duration": 39,
    "start_time": "2022-07-18T15:44:24.685Z"
   },
   {
    "duration": 4,
    "start_time": "2022-07-18T15:44:24.727Z"
   },
   {
    "duration": 22,
    "start_time": "2022-07-18T15:44:24.733Z"
   },
   {
    "duration": 9,
    "start_time": "2022-07-18T15:44:24.757Z"
   },
   {
    "duration": 71,
    "start_time": "2022-07-18T15:44:24.768Z"
   },
   {
    "duration": 41,
    "start_time": "2022-07-18T15:44:24.841Z"
   },
   {
    "duration": 40,
    "start_time": "2022-07-18T15:44:24.884Z"
   },
   {
    "duration": 26,
    "start_time": "2022-07-18T15:44:24.926Z"
   },
   {
    "duration": 20,
    "start_time": "2022-07-18T15:44:24.953Z"
   },
   {
    "duration": 55,
    "start_time": "2022-07-18T15:44:24.975Z"
   },
   {
    "duration": 18,
    "start_time": "2022-07-18T15:44:25.031Z"
   },
   {
    "duration": 35,
    "start_time": "2022-07-18T15:44:25.051Z"
   },
   {
    "duration": 53,
    "start_time": "2022-07-18T15:44:25.088Z"
   },
   {
    "duration": 114,
    "start_time": "2022-07-18T15:44:25.143Z"
   },
   {
    "duration": 20,
    "start_time": "2022-07-18T15:44:25.260Z"
   },
   {
    "duration": 13,
    "start_time": "2022-07-18T15:44:25.282Z"
   },
   {
    "duration": 4,
    "start_time": "2022-07-18T15:44:25.296Z"
   },
   {
    "duration": 43,
    "start_time": "2022-07-18T15:44:25.302Z"
   },
   {
    "duration": 14,
    "start_time": "2022-07-18T15:44:25.347Z"
   },
   {
    "duration": 28,
    "start_time": "2022-07-18T15:44:25.363Z"
   },
   {
    "duration": 36,
    "start_time": "2022-07-18T15:44:25.393Z"
   },
   {
    "duration": 3,
    "start_time": "2022-07-18T15:44:25.430Z"
   },
   {
    "duration": 12,
    "start_time": "2022-07-18T15:44:25.434Z"
   },
   {
    "duration": 7,
    "start_time": "2022-07-18T15:44:25.447Z"
   },
   {
    "duration": 8,
    "start_time": "2022-07-18T15:44:25.457Z"
   },
   {
    "duration": 3,
    "start_time": "2022-07-18T15:48:51.085Z"
   },
   {
    "duration": 33,
    "start_time": "2022-07-18T15:49:25.759Z"
   },
   {
    "duration": 63,
    "start_time": "2022-07-18T15:50:15.500Z"
   },
   {
    "duration": 61,
    "start_time": "2022-07-18T15:50:44.039Z"
   },
   {
    "duration": 67,
    "start_time": "2022-07-18T15:51:02.565Z"
   },
   {
    "duration": 6,
    "start_time": "2022-07-18T15:51:38.944Z"
   },
   {
    "duration": 45,
    "start_time": "2022-07-18T15:51:57.635Z"
   },
   {
    "duration": 56,
    "start_time": "2022-07-18T15:52:07.540Z"
   },
   {
    "duration": 60,
    "start_time": "2022-07-18T15:52:36.381Z"
   },
   {
    "duration": 58,
    "start_time": "2022-07-18T15:52:54.062Z"
   },
   {
    "duration": 34,
    "start_time": "2022-07-18T15:54:20.410Z"
   },
   {
    "duration": 7,
    "start_time": "2022-07-18T15:54:42.005Z"
   },
   {
    "duration": 76,
    "start_time": "2022-07-18T16:01:30.597Z"
   },
   {
    "duration": 4,
    "start_time": "2022-07-18T16:02:24.939Z"
   },
   {
    "duration": 2928,
    "start_time": "2022-07-18T16:02:33.935Z"
   },
   {
    "duration": 2501,
    "start_time": "2022-07-18T16:02:38.745Z"
   },
   {
    "duration": 9,
    "start_time": "2022-07-18T16:02:52.995Z"
   },
   {
    "duration": 10,
    "start_time": "2022-07-18T16:03:19.865Z"
   },
   {
    "duration": 11,
    "start_time": "2022-07-18T16:03:55.388Z"
   },
   {
    "duration": 10,
    "start_time": "2022-07-18T16:06:43.636Z"
   },
   {
    "duration": 243,
    "start_time": "2022-07-18T16:07:14.809Z"
   },
   {
    "duration": 164,
    "start_time": "2022-07-18T16:07:15.055Z"
   },
   {
    "duration": 6,
    "start_time": "2022-07-18T16:07:15.221Z"
   },
   {
    "duration": 26,
    "start_time": "2022-07-18T16:07:15.229Z"
   },
   {
    "duration": 5,
    "start_time": "2022-07-18T16:07:15.258Z"
   },
   {
    "duration": 30,
    "start_time": "2022-07-18T16:07:15.265Z"
   },
   {
    "duration": 5,
    "start_time": "2022-07-18T16:07:15.297Z"
   },
   {
    "duration": 69,
    "start_time": "2022-07-18T16:07:15.303Z"
   },
   {
    "duration": 38,
    "start_time": "2022-07-18T16:07:15.374Z"
   },
   {
    "duration": 51,
    "start_time": "2022-07-18T16:07:15.414Z"
   },
   {
    "duration": 89,
    "start_time": "2022-07-18T16:07:15.468Z"
   },
   {
    "duration": 96,
    "start_time": "2022-07-18T16:07:15.558Z"
   },
   {
    "duration": 79,
    "start_time": "2022-07-18T16:07:15.656Z"
   },
   {
    "duration": 27,
    "start_time": "2022-07-18T16:07:15.738Z"
   },
   {
    "duration": 8,
    "start_time": "2022-07-18T16:07:15.767Z"
   },
   {
    "duration": 31,
    "start_time": "2022-07-18T16:07:15.776Z"
   },
   {
    "duration": 12,
    "start_time": "2022-07-18T16:07:15.809Z"
   },
   {
    "duration": 56,
    "start_time": "2022-07-18T16:07:15.822Z"
   },
   {
    "duration": 46,
    "start_time": "2022-07-18T16:07:15.880Z"
   },
   {
    "duration": 26,
    "start_time": "2022-07-18T16:07:15.928Z"
   },
   {
    "duration": 23,
    "start_time": "2022-07-18T16:07:15.956Z"
   },
   {
    "duration": 43,
    "start_time": "2022-07-18T16:07:15.981Z"
   },
   {
    "duration": 20,
    "start_time": "2022-07-18T16:07:16.026Z"
   },
   {
    "duration": 18,
    "start_time": "2022-07-18T16:07:16.047Z"
   },
   {
    "duration": 31,
    "start_time": "2022-07-18T16:07:16.067Z"
   },
   {
    "duration": 46,
    "start_time": "2022-07-18T16:07:16.100Z"
   },
   {
    "duration": 116,
    "start_time": "2022-07-18T16:07:16.148Z"
   },
   {
    "duration": 17,
    "start_time": "2022-07-18T16:07:16.266Z"
   },
   {
    "duration": 29,
    "start_time": "2022-07-18T16:07:16.285Z"
   },
   {
    "duration": 9,
    "start_time": "2022-07-18T16:07:16.316Z"
   },
   {
    "duration": 30,
    "start_time": "2022-07-18T16:07:16.327Z"
   },
   {
    "duration": 16,
    "start_time": "2022-07-18T16:07:16.360Z"
   },
   {
    "duration": 58,
    "start_time": "2022-07-18T16:07:16.378Z"
   },
   {
    "duration": 20,
    "start_time": "2022-07-18T16:07:16.438Z"
   },
   {
    "duration": 44,
    "start_time": "2022-07-18T16:07:16.461Z"
   },
   {
    "duration": 19,
    "start_time": "2022-07-18T16:07:16.507Z"
   },
   {
    "duration": 14,
    "start_time": "2022-07-18T16:07:16.528Z"
   },
   {
    "duration": 11,
    "start_time": "2022-07-18T16:07:16.543Z"
   },
   {
    "duration": 9,
    "start_time": "2022-07-18T16:08:28.141Z"
   },
   {
    "duration": 193,
    "start_time": "2022-07-18T16:09:09.900Z"
   },
   {
    "duration": 190,
    "start_time": "2022-07-18T16:09:10.095Z"
   },
   {
    "duration": 7,
    "start_time": "2022-07-18T16:09:10.286Z"
   },
   {
    "duration": 28,
    "start_time": "2022-07-18T16:09:10.295Z"
   },
   {
    "duration": 13,
    "start_time": "2022-07-18T16:09:10.326Z"
   },
   {
    "duration": 19,
    "start_time": "2022-07-18T16:09:10.341Z"
   },
   {
    "duration": 7,
    "start_time": "2022-07-18T16:09:10.362Z"
   },
   {
    "duration": 35,
    "start_time": "2022-07-18T16:09:10.371Z"
   },
   {
    "duration": 33,
    "start_time": "2022-07-18T16:09:10.407Z"
   },
   {
    "duration": 31,
    "start_time": "2022-07-18T16:09:10.441Z"
   },
   {
    "duration": 88,
    "start_time": "2022-07-18T16:09:10.474Z"
   },
   {
    "duration": 85,
    "start_time": "2022-07-18T16:09:10.564Z"
   },
   {
    "duration": 74,
    "start_time": "2022-07-18T16:09:10.650Z"
   },
   {
    "duration": 27,
    "start_time": "2022-07-18T16:09:10.727Z"
   },
   {
    "duration": 9,
    "start_time": "2022-07-18T16:09:10.756Z"
   },
   {
    "duration": 17,
    "start_time": "2022-07-18T16:09:10.767Z"
   },
   {
    "duration": 9,
    "start_time": "2022-07-18T16:09:10.785Z"
   },
   {
    "duration": 78,
    "start_time": "2022-07-18T16:09:10.796Z"
   },
   {
    "duration": 57,
    "start_time": "2022-07-18T16:09:10.876Z"
   },
   {
    "duration": 24,
    "start_time": "2022-07-18T16:09:10.935Z"
   },
   {
    "duration": 24,
    "start_time": "2022-07-18T16:09:10.961Z"
   },
   {
    "duration": 44,
    "start_time": "2022-07-18T16:09:10.987Z"
   },
   {
    "duration": 25,
    "start_time": "2022-07-18T16:09:11.033Z"
   },
   {
    "duration": 17,
    "start_time": "2022-07-18T16:09:11.060Z"
   },
   {
    "duration": 51,
    "start_time": "2022-07-18T16:09:11.079Z"
   },
   {
    "duration": 19,
    "start_time": "2022-07-18T16:09:11.131Z"
   },
   {
    "duration": 130,
    "start_time": "2022-07-18T16:09:11.152Z"
   },
   {
    "duration": 11,
    "start_time": "2022-07-18T16:09:11.284Z"
   },
   {
    "duration": 27,
    "start_time": "2022-07-18T16:09:11.297Z"
   },
   {
    "duration": 4,
    "start_time": "2022-07-18T16:09:11.325Z"
   },
   {
    "duration": 25,
    "start_time": "2022-07-18T16:09:11.331Z"
   },
   {
    "duration": 14,
    "start_time": "2022-07-18T16:09:11.358Z"
   },
   {
    "duration": 25,
    "start_time": "2022-07-18T16:09:11.373Z"
   },
   {
    "duration": 16,
    "start_time": "2022-07-18T16:09:11.424Z"
   },
   {
    "duration": 38,
    "start_time": "2022-07-18T16:09:11.442Z"
   },
   {
    "duration": 5,
    "start_time": "2022-07-18T16:09:11.482Z"
   },
   {
    "duration": 9,
    "start_time": "2022-07-18T16:09:11.489Z"
   },
   {
    "duration": 8,
    "start_time": "2022-07-18T16:09:11.524Z"
   },
   {
    "duration": 3,
    "start_time": "2022-07-18T16:09:59.791Z"
   },
   {
    "duration": 19,
    "start_time": "2022-07-18T16:10:57.837Z"
   },
   {
    "duration": 4,
    "start_time": "2022-07-18T16:11:00.271Z"
   },
   {
    "duration": 7,
    "start_time": "2022-07-18T16:11:32.061Z"
   },
   {
    "duration": 7,
    "start_time": "2022-07-18T16:11:35.814Z"
   },
   {
    "duration": 180,
    "start_time": "2022-07-18T16:11:51.144Z"
   },
   {
    "duration": 185,
    "start_time": "2022-07-18T16:11:51.326Z"
   },
   {
    "duration": 12,
    "start_time": "2022-07-18T16:11:51.513Z"
   },
   {
    "duration": 9,
    "start_time": "2022-07-18T16:11:51.527Z"
   },
   {
    "duration": 9,
    "start_time": "2022-07-18T16:11:51.538Z"
   },
   {
    "duration": 17,
    "start_time": "2022-07-18T16:11:51.549Z"
   },
   {
    "duration": 4,
    "start_time": "2022-07-18T16:11:51.567Z"
   },
   {
    "duration": 54,
    "start_time": "2022-07-18T16:11:51.573Z"
   },
   {
    "duration": 24,
    "start_time": "2022-07-18T16:11:51.629Z"
   },
   {
    "duration": 35,
    "start_time": "2022-07-18T16:11:51.656Z"
   },
   {
    "duration": 104,
    "start_time": "2022-07-18T16:11:51.693Z"
   },
   {
    "duration": 98,
    "start_time": "2022-07-18T16:11:51.799Z"
   },
   {
    "duration": 79,
    "start_time": "2022-07-18T16:11:51.898Z"
   },
   {
    "duration": 30,
    "start_time": "2022-07-18T16:11:51.978Z"
   },
   {
    "duration": 14,
    "start_time": "2022-07-18T16:11:52.010Z"
   },
   {
    "duration": 16,
    "start_time": "2022-07-18T16:11:52.027Z"
   },
   {
    "duration": 9,
    "start_time": "2022-07-18T16:11:52.045Z"
   },
   {
    "duration": 91,
    "start_time": "2022-07-18T16:11:52.056Z"
   },
   {
    "duration": 51,
    "start_time": "2022-07-18T16:11:52.149Z"
   },
   {
    "duration": 38,
    "start_time": "2022-07-18T16:11:52.202Z"
   },
   {
    "duration": 25,
    "start_time": "2022-07-18T16:11:52.242Z"
   },
   {
    "duration": 19,
    "start_time": "2022-07-18T16:11:52.268Z"
   },
   {
    "duration": 59,
    "start_time": "2022-07-18T16:11:52.289Z"
   },
   {
    "duration": 28,
    "start_time": "2022-07-18T16:11:52.350Z"
   },
   {
    "duration": 61,
    "start_time": "2022-07-18T16:11:52.380Z"
   },
   {
    "duration": 26,
    "start_time": "2022-07-18T16:11:52.443Z"
   },
   {
    "duration": 120,
    "start_time": "2022-07-18T16:11:52.470Z"
   },
   {
    "duration": 13,
    "start_time": "2022-07-18T16:11:52.594Z"
   },
   {
    "duration": 22,
    "start_time": "2022-07-18T16:11:52.609Z"
   },
   {
    "duration": 5,
    "start_time": "2022-07-18T16:11:52.632Z"
   },
   {
    "duration": 28,
    "start_time": "2022-07-18T16:11:52.638Z"
   },
   {
    "duration": 16,
    "start_time": "2022-07-18T16:11:52.668Z"
   },
   {
    "duration": 53,
    "start_time": "2022-07-18T16:11:52.686Z"
   },
   {
    "duration": 21,
    "start_time": "2022-07-18T16:11:52.740Z"
   },
   {
    "duration": 38,
    "start_time": "2022-07-18T16:11:52.764Z"
   },
   {
    "duration": 21,
    "start_time": "2022-07-18T16:11:52.804Z"
   },
   {
    "duration": 23,
    "start_time": "2022-07-18T16:11:52.827Z"
   },
   {
    "duration": 5,
    "start_time": "2022-07-18T16:11:52.852Z"
   },
   {
    "duration": 148,
    "start_time": "2022-07-18T16:39:10.895Z"
   },
   {
    "duration": 268,
    "start_time": "2022-07-18T16:41:19.607Z"
   },
   {
    "duration": 2,
    "start_time": "2022-07-18T16:43:14.588Z"
   },
   {
    "duration": 320,
    "start_time": "2022-07-18T16:43:14.593Z"
   },
   {
    "duration": 11,
    "start_time": "2022-07-18T16:43:14.914Z"
   },
   {
    "duration": 9,
    "start_time": "2022-07-18T16:43:14.926Z"
   },
   {
    "duration": 11,
    "start_time": "2022-07-18T16:43:14.937Z"
   },
   {
    "duration": 15,
    "start_time": "2022-07-18T16:43:14.949Z"
   },
   {
    "duration": 4,
    "start_time": "2022-07-18T16:43:14.966Z"
   },
   {
    "duration": 34,
    "start_time": "2022-07-18T16:43:14.971Z"
   },
   {
    "duration": 47,
    "start_time": "2022-07-18T16:43:15.006Z"
   },
   {
    "duration": 34,
    "start_time": "2022-07-18T16:43:15.055Z"
   },
   {
    "duration": 80,
    "start_time": "2022-07-18T16:43:15.091Z"
   },
   {
    "duration": 79,
    "start_time": "2022-07-18T16:43:15.172Z"
   },
   {
    "duration": 62,
    "start_time": "2022-07-18T16:43:15.252Z"
   },
   {
    "duration": 30,
    "start_time": "2022-07-18T16:43:15.315Z"
   },
   {
    "duration": 19,
    "start_time": "2022-07-18T16:43:15.347Z"
   },
   {
    "duration": 22,
    "start_time": "2022-07-18T16:43:15.367Z"
   },
   {
    "duration": 26,
    "start_time": "2022-07-18T16:43:15.391Z"
   },
   {
    "duration": 49,
    "start_time": "2022-07-18T16:43:15.418Z"
   },
   {
    "duration": 41,
    "start_time": "2022-07-18T16:43:15.469Z"
   },
   {
    "duration": 28,
    "start_time": "2022-07-18T16:43:15.511Z"
   },
   {
    "duration": 23,
    "start_time": "2022-07-18T16:43:15.540Z"
   },
   {
    "duration": 21,
    "start_time": "2022-07-18T16:43:15.565Z"
   },
   {
    "duration": 16,
    "start_time": "2022-07-18T16:43:15.588Z"
   },
   {
    "duration": 28,
    "start_time": "2022-07-18T16:43:15.606Z"
   },
   {
    "duration": 21,
    "start_time": "2022-07-18T16:43:15.635Z"
   },
   {
    "duration": 17,
    "start_time": "2022-07-18T16:43:15.657Z"
   },
   {
    "duration": 115,
    "start_time": "2022-07-18T16:43:15.676Z"
   },
   {
    "duration": 10,
    "start_time": "2022-07-18T16:43:15.793Z"
   },
   {
    "duration": 27,
    "start_time": "2022-07-18T16:43:15.805Z"
   },
   {
    "duration": 16,
    "start_time": "2022-07-18T16:43:15.834Z"
   },
   {
    "duration": 35,
    "start_time": "2022-07-18T16:43:15.852Z"
   },
   {
    "duration": 18,
    "start_time": "2022-07-18T16:43:15.888Z"
   },
   {
    "duration": 36,
    "start_time": "2022-07-18T16:43:15.908Z"
   },
   {
    "duration": 15,
    "start_time": "2022-07-18T16:43:15.946Z"
   },
   {
    "duration": 29,
    "start_time": "2022-07-18T16:43:15.962Z"
   },
   {
    "duration": 5,
    "start_time": "2022-07-18T16:43:15.993Z"
   },
   {
    "duration": 17,
    "start_time": "2022-07-18T16:43:16.023Z"
   },
   {
    "duration": 5,
    "start_time": "2022-07-18T16:43:16.042Z"
   },
   {
    "duration": 110,
    "start_time": "2022-07-18T16:48:04.361Z"
   },
   {
    "duration": 14,
    "start_time": "2022-07-18T16:48:37.649Z"
   },
   {
    "duration": 14,
    "start_time": "2022-07-18T16:48:45.620Z"
   },
   {
    "duration": 13,
    "start_time": "2022-07-18T16:48:49.273Z"
   },
   {
    "duration": 3,
    "start_time": "2022-07-18T16:48:56.601Z"
   },
   {
    "duration": 319,
    "start_time": "2022-07-18T16:48:56.606Z"
   },
   {
    "duration": 6,
    "start_time": "2022-07-18T16:48:56.927Z"
   },
   {
    "duration": 10,
    "start_time": "2022-07-18T16:48:56.934Z"
   },
   {
    "duration": 9,
    "start_time": "2022-07-18T16:48:56.946Z"
   },
   {
    "duration": 14,
    "start_time": "2022-07-18T16:48:56.956Z"
   },
   {
    "duration": 4,
    "start_time": "2022-07-18T16:48:56.971Z"
   },
   {
    "duration": 52,
    "start_time": "2022-07-18T16:48:56.976Z"
   },
   {
    "duration": 23,
    "start_time": "2022-07-18T16:48:57.030Z"
   },
   {
    "duration": 31,
    "start_time": "2022-07-18T16:48:57.055Z"
   },
   {
    "duration": 90,
    "start_time": "2022-07-18T16:48:57.088Z"
   },
   {
    "duration": 90,
    "start_time": "2022-07-18T16:48:57.180Z"
   },
   {
    "duration": 77,
    "start_time": "2022-07-18T16:48:57.272Z"
   },
   {
    "duration": 37,
    "start_time": "2022-07-18T16:48:57.351Z"
   },
   {
    "duration": 24,
    "start_time": "2022-07-18T16:48:57.390Z"
   },
   {
    "duration": 14,
    "start_time": "2022-07-18T16:48:57.416Z"
   },
   {
    "duration": 8,
    "start_time": "2022-07-18T16:48:57.433Z"
   },
   {
    "duration": 68,
    "start_time": "2022-07-18T16:48:57.443Z"
   },
   {
    "duration": 61,
    "start_time": "2022-07-18T16:48:57.513Z"
   },
   {
    "duration": 23,
    "start_time": "2022-07-18T16:48:57.576Z"
   },
   {
    "duration": 40,
    "start_time": "2022-07-18T16:48:57.601Z"
   },
   {
    "duration": 17,
    "start_time": "2022-07-18T16:48:57.642Z"
   },
   {
    "duration": 17,
    "start_time": "2022-07-18T16:48:57.661Z"
   },
   {
    "duration": 15,
    "start_time": "2022-07-18T16:48:57.680Z"
   },
   {
    "duration": 23,
    "start_time": "2022-07-18T16:48:57.723Z"
   },
   {
    "duration": 16,
    "start_time": "2022-07-18T16:48:57.747Z"
   },
   {
    "duration": 111,
    "start_time": "2022-07-18T16:48:57.765Z"
   },
   {
    "duration": 11,
    "start_time": "2022-07-18T16:48:57.877Z"
   },
   {
    "duration": 9,
    "start_time": "2022-07-18T16:48:57.891Z"
   },
   {
    "duration": 6,
    "start_time": "2022-07-18T16:48:57.902Z"
   },
   {
    "duration": 33,
    "start_time": "2022-07-18T16:48:57.909Z"
   },
   {
    "duration": 12,
    "start_time": "2022-07-18T16:48:57.944Z"
   },
   {
    "duration": 24,
    "start_time": "2022-07-18T16:48:57.958Z"
   },
   {
    "duration": 43,
    "start_time": "2022-07-18T16:48:57.984Z"
   },
   {
    "duration": 31,
    "start_time": "2022-07-18T16:48:58.029Z"
   },
   {
    "duration": 5,
    "start_time": "2022-07-18T16:48:58.061Z"
   },
   {
    "duration": 23,
    "start_time": "2022-07-18T16:48:58.068Z"
   },
   {
    "duration": 4,
    "start_time": "2022-07-18T16:48:58.093Z"
   },
   {
    "duration": 4,
    "start_time": "2022-07-18T16:49:49.753Z"
   },
   {
    "duration": 13,
    "start_time": "2022-07-18T16:49:52.649Z"
   },
   {
    "duration": 14,
    "start_time": "2022-07-18T16:49:56.515Z"
   },
   {
    "duration": 3,
    "start_time": "2022-07-18T16:50:41.009Z"
   },
   {
    "duration": 295,
    "start_time": "2022-07-18T16:50:41.014Z"
   },
   {
    "duration": 5,
    "start_time": "2022-07-18T16:50:41.311Z"
   },
   {
    "duration": 10,
    "start_time": "2022-07-18T16:50:41.318Z"
   },
   {
    "duration": 5,
    "start_time": "2022-07-18T16:50:41.330Z"
   },
   {
    "duration": 20,
    "start_time": "2022-07-18T16:50:41.336Z"
   },
   {
    "duration": 6,
    "start_time": "2022-07-18T16:50:41.358Z"
   },
   {
    "duration": 37,
    "start_time": "2022-07-18T16:50:41.366Z"
   },
   {
    "duration": 33,
    "start_time": "2022-07-18T16:50:41.405Z"
   },
   {
    "duration": 29,
    "start_time": "2022-07-18T16:50:41.440Z"
   },
   {
    "duration": 86,
    "start_time": "2022-07-18T16:50:41.471Z"
   },
   {
    "duration": 81,
    "start_time": "2022-07-18T16:50:41.559Z"
   },
   {
    "duration": 63,
    "start_time": "2022-07-18T16:50:41.642Z"
   },
   {
    "duration": 39,
    "start_time": "2022-07-18T16:50:41.707Z"
   },
   {
    "duration": 5,
    "start_time": "2022-07-18T16:50:41.748Z"
   },
   {
    "duration": 11,
    "start_time": "2022-07-18T16:50:41.755Z"
   },
   {
    "duration": 10,
    "start_time": "2022-07-18T16:50:41.768Z"
   },
   {
    "duration": 59,
    "start_time": "2022-07-18T16:50:41.779Z"
   },
   {
    "duration": 43,
    "start_time": "2022-07-18T16:50:41.840Z"
   },
   {
    "duration": 41,
    "start_time": "2022-07-18T16:50:41.884Z"
   },
   {
    "duration": 24,
    "start_time": "2022-07-18T16:50:41.926Z"
   },
   {
    "duration": 18,
    "start_time": "2022-07-18T16:50:41.952Z"
   },
   {
    "duration": 20,
    "start_time": "2022-07-18T16:50:41.971Z"
   },
   {
    "duration": 47,
    "start_time": "2022-07-18T16:50:41.992Z"
   },
   {
    "duration": 29,
    "start_time": "2022-07-18T16:50:42.041Z"
   },
   {
    "duration": 21,
    "start_time": "2022-07-18T16:50:42.072Z"
   },
   {
    "duration": 129,
    "start_time": "2022-07-18T16:50:42.095Z"
   },
   {
    "duration": 12,
    "start_time": "2022-07-18T16:50:42.226Z"
   },
   {
    "duration": 12,
    "start_time": "2022-07-18T16:50:42.240Z"
   },
   {
    "duration": 4,
    "start_time": "2022-07-18T16:50:42.254Z"
   },
   {
    "duration": 24,
    "start_time": "2022-07-18T16:50:42.260Z"
   },
   {
    "duration": 12,
    "start_time": "2022-07-18T16:50:42.286Z"
   },
   {
    "duration": 45,
    "start_time": "2022-07-18T16:50:42.300Z"
   },
   {
    "duration": 15,
    "start_time": "2022-07-18T16:50:42.346Z"
   },
   {
    "duration": 45,
    "start_time": "2022-07-18T16:50:42.362Z"
   },
   {
    "duration": 4,
    "start_time": "2022-07-18T16:50:42.409Z"
   },
   {
    "duration": 26,
    "start_time": "2022-07-18T16:50:42.426Z"
   },
   {
    "duration": 18,
    "start_time": "2022-07-18T16:50:42.454Z"
   },
   {
    "duration": 5,
    "start_time": "2022-07-18T16:51:07.058Z"
   },
   {
    "duration": 13,
    "start_time": "2022-07-18T16:51:11.206Z"
   },
   {
    "duration": 2,
    "start_time": "2022-07-18T16:51:41.790Z"
   },
   {
    "duration": 323,
    "start_time": "2022-07-18T16:51:41.794Z"
   },
   {
    "duration": 11,
    "start_time": "2022-07-18T16:51:42.118Z"
   },
   {
    "duration": 8,
    "start_time": "2022-07-18T16:51:42.131Z"
   },
   {
    "duration": 8,
    "start_time": "2022-07-18T16:51:42.141Z"
   },
   {
    "duration": 15,
    "start_time": "2022-07-18T16:51:42.150Z"
   },
   {
    "duration": 3,
    "start_time": "2022-07-18T16:51:42.167Z"
   },
   {
    "duration": 53,
    "start_time": "2022-07-18T16:51:42.172Z"
   },
   {
    "duration": 21,
    "start_time": "2022-07-18T16:51:42.226Z"
   },
   {
    "duration": 31,
    "start_time": "2022-07-18T16:51:42.249Z"
   },
   {
    "duration": 100,
    "start_time": "2022-07-18T16:51:42.282Z"
   },
   {
    "duration": 77,
    "start_time": "2022-07-18T16:51:42.384Z"
   },
   {
    "duration": 73,
    "start_time": "2022-07-18T16:51:42.464Z"
   },
   {
    "duration": 27,
    "start_time": "2022-07-18T16:51:42.539Z"
   },
   {
    "duration": 5,
    "start_time": "2022-07-18T16:51:42.568Z"
   },
   {
    "duration": 12,
    "start_time": "2022-07-18T16:51:42.574Z"
   },
   {
    "duration": 6,
    "start_time": "2022-07-18T16:51:42.587Z"
   },
   {
    "duration": 61,
    "start_time": "2022-07-18T16:51:42.595Z"
   },
   {
    "duration": 40,
    "start_time": "2022-07-18T16:51:42.658Z"
   },
   {
    "duration": 40,
    "start_time": "2022-07-18T16:51:42.700Z"
   },
   {
    "duration": 22,
    "start_time": "2022-07-18T16:51:42.742Z"
   },
   {
    "duration": 16,
    "start_time": "2022-07-18T16:51:42.766Z"
   },
   {
    "duration": 44,
    "start_time": "2022-07-18T16:51:42.784Z"
   },
   {
    "duration": 17,
    "start_time": "2022-07-18T16:51:42.830Z"
   },
   {
    "duration": 23,
    "start_time": "2022-07-18T16:51:42.848Z"
   },
   {
    "duration": 17,
    "start_time": "2022-07-18T16:51:42.872Z"
   },
   {
    "duration": 127,
    "start_time": "2022-07-18T16:51:42.891Z"
   },
   {
    "duration": 12,
    "start_time": "2022-07-18T16:51:43.024Z"
   },
   {
    "duration": 36,
    "start_time": "2022-07-18T16:51:43.037Z"
   },
   {
    "duration": 13,
    "start_time": "2022-07-18T16:51:43.075Z"
   },
   {
    "duration": 37,
    "start_time": "2022-07-18T16:51:43.090Z"
   },
   {
    "duration": 23,
    "start_time": "2022-07-18T16:51:43.129Z"
   },
   {
    "duration": 31,
    "start_time": "2022-07-18T16:51:43.154Z"
   },
   {
    "duration": 15,
    "start_time": "2022-07-18T16:51:43.187Z"
   },
   {
    "duration": 38,
    "start_time": "2022-07-18T16:51:43.204Z"
   },
   {
    "duration": 5,
    "start_time": "2022-07-18T16:51:43.244Z"
   },
   {
    "duration": 19,
    "start_time": "2022-07-18T16:51:43.252Z"
   },
   {
    "duration": 5,
    "start_time": "2022-07-18T16:51:43.272Z"
   },
   {
    "duration": 12,
    "start_time": "2022-07-18T16:52:38.406Z"
   },
   {
    "duration": 14,
    "start_time": "2022-07-18T16:53:07.120Z"
   },
   {
    "duration": 13,
    "start_time": "2022-07-18T16:53:10.850Z"
   },
   {
    "duration": 18,
    "start_time": "2022-07-18T16:53:24.228Z"
   },
   {
    "duration": 2,
    "start_time": "2022-07-18T16:53:28.510Z"
   },
   {
    "duration": 310,
    "start_time": "2022-07-18T16:53:28.514Z"
   },
   {
    "duration": 7,
    "start_time": "2022-07-18T16:53:28.826Z"
   },
   {
    "duration": 10,
    "start_time": "2022-07-18T16:53:28.835Z"
   },
   {
    "duration": 11,
    "start_time": "2022-07-18T16:53:28.846Z"
   },
   {
    "duration": 17,
    "start_time": "2022-07-18T16:53:28.858Z"
   },
   {
    "duration": 11,
    "start_time": "2022-07-18T16:53:28.877Z"
   },
   {
    "duration": 43,
    "start_time": "2022-07-18T16:53:28.890Z"
   },
   {
    "duration": 23,
    "start_time": "2022-07-18T16:53:28.935Z"
   },
   {
    "duration": 30,
    "start_time": "2022-07-18T16:53:28.959Z"
   },
   {
    "duration": 85,
    "start_time": "2022-07-18T16:53:28.991Z"
   },
   {
    "duration": 85,
    "start_time": "2022-07-18T16:53:29.077Z"
   },
   {
    "duration": 65,
    "start_time": "2022-07-18T16:53:29.164Z"
   },
   {
    "duration": 28,
    "start_time": "2022-07-18T16:53:29.231Z"
   },
   {
    "duration": 5,
    "start_time": "2022-07-18T16:53:29.261Z"
   },
   {
    "duration": 12,
    "start_time": "2022-07-18T16:53:29.268Z"
   },
   {
    "duration": 6,
    "start_time": "2022-07-18T16:53:29.281Z"
   },
   {
    "duration": 68,
    "start_time": "2022-07-18T16:53:29.288Z"
   },
   {
    "duration": 38,
    "start_time": "2022-07-18T16:53:29.358Z"
   },
   {
    "duration": 34,
    "start_time": "2022-07-18T16:53:29.398Z"
   },
   {
    "duration": 19,
    "start_time": "2022-07-18T16:53:29.433Z"
   },
   {
    "duration": 15,
    "start_time": "2022-07-18T16:53:29.454Z"
   },
   {
    "duration": 17,
    "start_time": "2022-07-18T16:53:29.471Z"
   },
   {
    "duration": 44,
    "start_time": "2022-07-18T16:53:29.491Z"
   },
   {
    "duration": 21,
    "start_time": "2022-07-18T16:53:29.536Z"
   },
   {
    "duration": 15,
    "start_time": "2022-07-18T16:53:29.558Z"
   },
   {
    "duration": 109,
    "start_time": "2022-07-18T16:53:29.574Z"
   },
   {
    "duration": 10,
    "start_time": "2022-07-18T16:53:29.685Z"
   },
   {
    "duration": 9,
    "start_time": "2022-07-18T16:53:29.697Z"
   },
   {
    "duration": 18,
    "start_time": "2022-07-18T16:53:29.707Z"
   },
   {
    "duration": 22,
    "start_time": "2022-07-18T16:53:29.727Z"
   },
   {
    "duration": 11,
    "start_time": "2022-07-18T16:53:29.751Z"
   },
   {
    "duration": 21,
    "start_time": "2022-07-18T16:53:29.763Z"
   },
   {
    "duration": 39,
    "start_time": "2022-07-18T16:53:29.786Z"
   },
   {
    "duration": 30,
    "start_time": "2022-07-18T16:53:29.826Z"
   },
   {
    "duration": 5,
    "start_time": "2022-07-18T16:53:29.858Z"
   },
   {
    "duration": 19,
    "start_time": "2022-07-18T16:53:29.864Z"
   },
   {
    "duration": 5,
    "start_time": "2022-07-18T16:53:29.884Z"
   },
   {
    "duration": 3,
    "start_time": "2022-07-18T16:55:10.735Z"
   },
   {
    "duration": 301,
    "start_time": "2022-07-18T16:55:10.740Z"
   },
   {
    "duration": 6,
    "start_time": "2022-07-18T16:55:11.043Z"
   },
   {
    "duration": 21,
    "start_time": "2022-07-18T16:55:11.050Z"
   },
   {
    "duration": 13,
    "start_time": "2022-07-18T16:55:11.073Z"
   },
   {
    "duration": 23,
    "start_time": "2022-07-18T16:55:11.087Z"
   },
   {
    "duration": 9,
    "start_time": "2022-07-18T16:55:11.112Z"
   },
   {
    "duration": 35,
    "start_time": "2022-07-18T16:55:11.123Z"
   },
   {
    "duration": 23,
    "start_time": "2022-07-18T16:55:11.160Z"
   },
   {
    "duration": 41,
    "start_time": "2022-07-18T16:55:11.184Z"
   },
   {
    "duration": 65,
    "start_time": "2022-07-18T16:55:11.228Z"
   },
   {
    "duration": 93,
    "start_time": "2022-07-18T16:55:11.294Z"
   },
   {
    "duration": 75,
    "start_time": "2022-07-18T16:55:11.389Z"
   },
   {
    "duration": 28,
    "start_time": "2022-07-18T16:55:11.466Z"
   },
   {
    "duration": 16,
    "start_time": "2022-07-18T16:55:11.496Z"
   },
   {
    "duration": 45,
    "start_time": "2022-07-18T16:55:11.513Z"
   },
   {
    "duration": 20,
    "start_time": "2022-07-18T16:55:11.560Z"
   },
   {
    "duration": 57,
    "start_time": "2022-07-18T16:55:11.581Z"
   },
   {
    "duration": 44,
    "start_time": "2022-07-18T16:55:11.640Z"
   },
   {
    "duration": 41,
    "start_time": "2022-07-18T16:55:11.686Z"
   },
   {
    "duration": 21,
    "start_time": "2022-07-18T16:55:11.729Z"
   },
   {
    "duration": 32,
    "start_time": "2022-07-18T16:55:11.751Z"
   },
   {
    "duration": 20,
    "start_time": "2022-07-18T16:55:11.785Z"
   },
   {
    "duration": 24,
    "start_time": "2022-07-18T16:55:11.807Z"
   },
   {
    "duration": 22,
    "start_time": "2022-07-18T16:55:11.833Z"
   },
   {
    "duration": 17,
    "start_time": "2022-07-18T16:55:11.857Z"
   },
   {
    "duration": 119,
    "start_time": "2022-07-18T16:55:11.876Z"
   },
   {
    "duration": 12,
    "start_time": "2022-07-18T16:55:11.997Z"
   },
   {
    "duration": 10,
    "start_time": "2022-07-18T16:55:12.023Z"
   },
   {
    "duration": 7,
    "start_time": "2022-07-18T16:55:12.035Z"
   },
   {
    "duration": 28,
    "start_time": "2022-07-18T16:55:12.043Z"
   },
   {
    "duration": 13,
    "start_time": "2022-07-18T16:55:12.073Z"
   },
   {
    "duration": 48,
    "start_time": "2022-07-18T16:55:12.088Z"
   },
   {
    "duration": 16,
    "start_time": "2022-07-18T16:55:12.138Z"
   },
   {
    "duration": 32,
    "start_time": "2022-07-18T16:55:12.156Z"
   },
   {
    "duration": 7,
    "start_time": "2022-07-18T16:55:12.190Z"
   },
   {
    "duration": 39,
    "start_time": "2022-07-18T16:55:12.198Z"
   },
   {
    "duration": 4,
    "start_time": "2022-07-18T16:55:12.239Z"
   },
   {
    "duration": 14,
    "start_time": "2022-07-18T16:56:14.059Z"
   },
   {
    "duration": 13,
    "start_time": "2022-07-18T16:56:45.513Z"
   },
   {
    "duration": 3,
    "start_time": "2022-07-18T16:58:02.968Z"
   },
   {
    "duration": 302,
    "start_time": "2022-07-18T16:58:02.973Z"
   },
   {
    "duration": 6,
    "start_time": "2022-07-18T16:58:03.277Z"
   },
   {
    "duration": 15,
    "start_time": "2022-07-18T16:58:03.285Z"
   },
   {
    "duration": 6,
    "start_time": "2022-07-18T16:58:03.302Z"
   },
   {
    "duration": 25,
    "start_time": "2022-07-18T16:58:03.310Z"
   },
   {
    "duration": 12,
    "start_time": "2022-07-18T16:58:03.337Z"
   },
   {
    "duration": 36,
    "start_time": "2022-07-18T16:58:03.350Z"
   },
   {
    "duration": 26,
    "start_time": "2022-07-18T16:58:03.387Z"
   },
   {
    "duration": 34,
    "start_time": "2022-07-18T16:58:03.415Z"
   },
   {
    "duration": 79,
    "start_time": "2022-07-18T16:58:03.452Z"
   },
   {
    "duration": 73,
    "start_time": "2022-07-18T16:58:03.533Z"
   },
   {
    "duration": 75,
    "start_time": "2022-07-18T16:58:03.608Z"
   },
   {
    "duration": 40,
    "start_time": "2022-07-18T16:58:03.685Z"
   },
   {
    "duration": 3,
    "start_time": "2022-07-18T16:58:03.727Z"
   },
   {
    "duration": 12,
    "start_time": "2022-07-18T16:58:03.732Z"
   },
   {
    "duration": 6,
    "start_time": "2022-07-18T16:58:03.746Z"
   },
   {
    "duration": 54,
    "start_time": "2022-07-18T16:58:03.754Z"
   },
   {
    "duration": 48,
    "start_time": "2022-07-18T16:58:03.810Z"
   },
   {
    "duration": 22,
    "start_time": "2022-07-18T16:58:03.860Z"
   },
   {
    "duration": 40,
    "start_time": "2022-07-18T16:58:03.884Z"
   },
   {
    "duration": 17,
    "start_time": "2022-07-18T16:58:03.925Z"
   },
   {
    "duration": 19,
    "start_time": "2022-07-18T16:58:03.944Z"
   },
   {
    "duration": 16,
    "start_time": "2022-07-18T16:58:03.965Z"
   },
   {
    "duration": 46,
    "start_time": "2022-07-18T16:58:03.982Z"
   },
   {
    "duration": 18,
    "start_time": "2022-07-18T16:58:04.029Z"
   },
   {
    "duration": 116,
    "start_time": "2022-07-18T16:58:04.049Z"
   },
   {
    "duration": 12,
    "start_time": "2022-07-18T16:58:04.166Z"
   },
   {
    "duration": 9,
    "start_time": "2022-07-18T16:58:04.182Z"
   },
   {
    "duration": 7,
    "start_time": "2022-07-18T16:58:04.193Z"
   },
   {
    "duration": 43,
    "start_time": "2022-07-18T16:58:04.201Z"
   },
   {
    "duration": 13,
    "start_time": "2022-07-18T16:58:04.246Z"
   },
   {
    "duration": 28,
    "start_time": "2022-07-18T16:58:04.260Z"
   },
   {
    "duration": 13,
    "start_time": "2022-07-18T16:58:04.290Z"
   },
   {
    "duration": 44,
    "start_time": "2022-07-18T16:58:04.304Z"
   },
   {
    "duration": 16,
    "start_time": "2022-07-18T16:58:04.350Z"
   },
   {
    "duration": 29,
    "start_time": "2022-07-18T16:58:04.368Z"
   },
   {
    "duration": 31,
    "start_time": "2022-07-18T16:58:04.398Z"
   },
   {
    "duration": 20,
    "start_time": "2022-07-18T16:58:04.431Z"
   },
   {
    "duration": 5,
    "start_time": "2022-07-18T16:58:04.453Z"
   },
   {
    "duration": 9,
    "start_time": "2022-07-18T16:59:14.495Z"
   },
   {
    "duration": 8,
    "start_time": "2022-07-18T16:59:26.973Z"
   },
   {
    "duration": 19,
    "start_time": "2022-07-18T17:01:19.036Z"
   },
   {
    "duration": 3,
    "start_time": "2022-07-18T17:12:41.296Z"
   },
   {
    "duration": 5,
    "start_time": "2022-07-18T17:12:47.199Z"
   },
   {
    "duration": 14,
    "start_time": "2022-07-18T17:12:53.682Z"
   },
   {
    "duration": 64,
    "start_time": "2022-07-18T17:13:32.406Z"
   },
   {
    "duration": 13,
    "start_time": "2022-07-18T17:17:27.602Z"
   },
   {
    "duration": 3,
    "start_time": "2022-07-18T17:17:34.079Z"
   },
   {
    "duration": 336,
    "start_time": "2022-07-18T17:17:34.088Z"
   },
   {
    "duration": 6,
    "start_time": "2022-07-18T17:17:34.427Z"
   },
   {
    "duration": 17,
    "start_time": "2022-07-18T17:17:34.435Z"
   },
   {
    "duration": 9,
    "start_time": "2022-07-18T17:17:34.453Z"
   },
   {
    "duration": 14,
    "start_time": "2022-07-18T17:17:34.464Z"
   },
   {
    "duration": 4,
    "start_time": "2022-07-18T17:17:34.479Z"
   },
   {
    "duration": 60,
    "start_time": "2022-07-18T17:17:34.484Z"
   },
   {
    "duration": 32,
    "start_time": "2022-07-18T17:17:34.546Z"
   },
   {
    "duration": 54,
    "start_time": "2022-07-18T17:17:34.580Z"
   },
   {
    "duration": 74,
    "start_time": "2022-07-18T17:17:34.635Z"
   },
   {
    "duration": 75,
    "start_time": "2022-07-18T17:17:34.723Z"
   },
   {
    "duration": 77,
    "start_time": "2022-07-18T17:17:34.800Z"
   },
   {
    "duration": 27,
    "start_time": "2022-07-18T17:17:34.878Z"
   },
   {
    "duration": 3,
    "start_time": "2022-07-18T17:17:34.923Z"
   },
   {
    "duration": 13,
    "start_time": "2022-07-18T17:17:34.928Z"
   },
   {
    "duration": 15,
    "start_time": "2022-07-18T17:17:34.943Z"
   },
   {
    "duration": 47,
    "start_time": "2022-07-18T17:17:34.959Z"
   },
   {
    "duration": 54,
    "start_time": "2022-07-18T17:17:35.008Z"
   },
   {
    "duration": 23,
    "start_time": "2022-07-18T17:17:35.064Z"
   },
   {
    "duration": 49,
    "start_time": "2022-07-18T17:17:35.089Z"
   },
   {
    "duration": 16,
    "start_time": "2022-07-18T17:17:35.140Z"
   },
   {
    "duration": 17,
    "start_time": "2022-07-18T17:17:35.158Z"
   },
   {
    "duration": 15,
    "start_time": "2022-07-18T17:17:35.177Z"
   },
   {
    "duration": 21,
    "start_time": "2022-07-18T17:17:35.223Z"
   },
   {
    "duration": 16,
    "start_time": "2022-07-18T17:17:35.246Z"
   },
   {
    "duration": 118,
    "start_time": "2022-07-18T17:17:35.263Z"
   },
   {
    "duration": 11,
    "start_time": "2022-07-18T17:17:35.383Z"
   },
   {
    "duration": 29,
    "start_time": "2022-07-18T17:17:35.395Z"
   },
   {
    "duration": 4,
    "start_time": "2022-07-18T17:17:35.425Z"
   },
   {
    "duration": 31,
    "start_time": "2022-07-18T17:17:35.431Z"
   },
   {
    "duration": 15,
    "start_time": "2022-07-18T17:17:35.464Z"
   },
   {
    "duration": 55,
    "start_time": "2022-07-18T17:17:35.481Z"
   },
   {
    "duration": 23,
    "start_time": "2022-07-18T17:17:35.538Z"
   },
   {
    "duration": 32,
    "start_time": "2022-07-18T17:17:35.562Z"
   },
   {
    "duration": 29,
    "start_time": "2022-07-18T17:17:35.596Z"
   },
   {
    "duration": 20,
    "start_time": "2022-07-18T17:17:35.627Z"
   },
   {
    "duration": 9,
    "start_time": "2022-07-18T17:17:35.649Z"
   },
   {
    "duration": 14,
    "start_time": "2022-07-18T17:24:11.089Z"
   },
   {
    "duration": 3,
    "start_time": "2022-07-18T17:24:17.665Z"
   },
   {
    "duration": 291,
    "start_time": "2022-07-18T17:24:17.672Z"
   },
   {
    "duration": 6,
    "start_time": "2022-07-18T17:24:17.966Z"
   },
   {
    "duration": 8,
    "start_time": "2022-07-18T17:24:17.974Z"
   },
   {
    "duration": 7,
    "start_time": "2022-07-18T17:24:17.983Z"
   },
   {
    "duration": 41,
    "start_time": "2022-07-18T17:24:17.991Z"
   },
   {
    "duration": 9,
    "start_time": "2022-07-18T17:24:18.034Z"
   },
   {
    "duration": 36,
    "start_time": "2022-07-18T17:24:18.045Z"
   },
   {
    "duration": 23,
    "start_time": "2022-07-18T17:24:18.083Z"
   },
   {
    "duration": 48,
    "start_time": "2022-07-18T17:24:18.107Z"
   },
   {
    "duration": 81,
    "start_time": "2022-07-18T17:24:18.158Z"
   },
   {
    "duration": 91,
    "start_time": "2022-07-18T17:24:18.240Z"
   },
   {
    "duration": 68,
    "start_time": "2022-07-18T17:24:18.333Z"
   },
   {
    "duration": 41,
    "start_time": "2022-07-18T17:24:18.403Z"
   },
   {
    "duration": 5,
    "start_time": "2022-07-18T17:24:18.446Z"
   },
   {
    "duration": 14,
    "start_time": "2022-07-18T17:24:18.452Z"
   },
   {
    "duration": 7,
    "start_time": "2022-07-18T17:24:18.468Z"
   },
   {
    "duration": 77,
    "start_time": "2022-07-18T17:24:18.477Z"
   },
   {
    "duration": 38,
    "start_time": "2022-07-18T17:24:18.556Z"
   },
   {
    "duration": 42,
    "start_time": "2022-07-18T17:24:18.596Z"
   },
   {
    "duration": 20,
    "start_time": "2022-07-18T17:24:18.639Z"
   },
   {
    "duration": 15,
    "start_time": "2022-07-18T17:24:18.661Z"
   },
   {
    "duration": 17,
    "start_time": "2022-07-18T17:24:18.678Z"
   },
   {
    "duration": 43,
    "start_time": "2022-07-18T17:24:18.696Z"
   },
   {
    "duration": 21,
    "start_time": "2022-07-18T17:24:18.741Z"
   },
   {
    "duration": 18,
    "start_time": "2022-07-18T17:24:18.764Z"
   },
   {
    "duration": 124,
    "start_time": "2022-07-18T17:24:18.784Z"
   },
   {
    "duration": 24,
    "start_time": "2022-07-18T17:24:18.910Z"
   },
   {
    "duration": 13,
    "start_time": "2022-07-18T17:24:18.937Z"
   },
   {
    "duration": 4,
    "start_time": "2022-07-18T17:24:18.952Z"
   },
   {
    "duration": 27,
    "start_time": "2022-07-18T17:24:18.958Z"
   },
   {
    "duration": 10,
    "start_time": "2022-07-18T17:24:18.987Z"
   },
   {
    "duration": 41,
    "start_time": "2022-07-18T17:24:18.999Z"
   },
   {
    "duration": 16,
    "start_time": "2022-07-18T17:24:19.042Z"
   },
   {
    "duration": 29,
    "start_time": "2022-07-18T17:24:19.060Z"
   },
   {
    "duration": 37,
    "start_time": "2022-07-18T17:24:19.091Z"
   },
   {
    "duration": 23,
    "start_time": "2022-07-18T17:24:19.129Z"
   },
   {
    "duration": 7,
    "start_time": "2022-07-18T17:24:19.154Z"
   },
   {
    "duration": 13,
    "start_time": "2022-07-18T17:24:29.335Z"
   },
   {
    "duration": 13,
    "start_time": "2022-07-18T17:24:51.747Z"
   },
   {
    "duration": 13,
    "start_time": "2022-07-18T17:25:13.460Z"
   },
   {
    "duration": 3,
    "start_time": "2022-07-18T17:25:18.152Z"
   },
   {
    "duration": 296,
    "start_time": "2022-07-18T17:25:18.190Z"
   },
   {
    "duration": 7,
    "start_time": "2022-07-18T17:25:18.488Z"
   },
   {
    "duration": 8,
    "start_time": "2022-07-18T17:25:18.496Z"
   },
   {
    "duration": 20,
    "start_time": "2022-07-18T17:25:18.505Z"
   },
   {
    "duration": 11,
    "start_time": "2022-07-18T17:25:18.527Z"
   },
   {
    "duration": 3,
    "start_time": "2022-07-18T17:25:18.540Z"
   },
   {
    "duration": 35,
    "start_time": "2022-07-18T17:25:18.545Z"
   },
   {
    "duration": 55,
    "start_time": "2022-07-18T17:25:18.581Z"
   },
   {
    "duration": 30,
    "start_time": "2022-07-18T17:25:18.638Z"
   },
   {
    "duration": 85,
    "start_time": "2022-07-18T17:25:18.669Z"
   },
   {
    "duration": 84,
    "start_time": "2022-07-18T17:25:18.756Z"
   },
   {
    "duration": 64,
    "start_time": "2022-07-18T17:25:18.842Z"
   },
   {
    "duration": 35,
    "start_time": "2022-07-18T17:25:18.908Z"
   },
   {
    "duration": 8,
    "start_time": "2022-07-18T17:25:18.945Z"
   },
   {
    "duration": 20,
    "start_time": "2022-07-18T17:25:18.954Z"
   },
   {
    "duration": 18,
    "start_time": "2022-07-18T17:25:18.976Z"
   },
   {
    "duration": 50,
    "start_time": "2022-07-18T17:25:18.995Z"
   },
   {
    "duration": 40,
    "start_time": "2022-07-18T17:25:19.047Z"
   },
   {
    "duration": 46,
    "start_time": "2022-07-18T17:25:19.089Z"
   },
   {
    "duration": 22,
    "start_time": "2022-07-18T17:25:19.137Z"
   },
   {
    "duration": 16,
    "start_time": "2022-07-18T17:25:19.161Z"
   },
   {
    "duration": 20,
    "start_time": "2022-07-18T17:25:19.178Z"
   },
   {
    "duration": 16,
    "start_time": "2022-07-18T17:25:19.224Z"
   },
   {
    "duration": 23,
    "start_time": "2022-07-18T17:25:19.242Z"
   },
   {
    "duration": 17,
    "start_time": "2022-07-18T17:25:19.266Z"
   },
   {
    "duration": 121,
    "start_time": "2022-07-18T17:25:19.284Z"
   },
   {
    "duration": 25,
    "start_time": "2022-07-18T17:25:19.407Z"
   },
   {
    "duration": 10,
    "start_time": "2022-07-18T17:25:19.433Z"
   },
   {
    "duration": 9,
    "start_time": "2022-07-18T17:25:19.445Z"
   },
   {
    "duration": 35,
    "start_time": "2022-07-18T17:25:19.456Z"
   },
   {
    "duration": 12,
    "start_time": "2022-07-18T17:25:19.493Z"
   },
   {
    "duration": 36,
    "start_time": "2022-07-18T17:25:19.506Z"
   },
   {
    "duration": 17,
    "start_time": "2022-07-18T17:25:19.544Z"
   },
   {
    "duration": 29,
    "start_time": "2022-07-18T17:25:19.562Z"
   },
   {
    "duration": 32,
    "start_time": "2022-07-18T17:25:19.593Z"
   },
   {
    "duration": 30,
    "start_time": "2022-07-18T17:25:19.626Z"
   },
   {
    "duration": 8,
    "start_time": "2022-07-18T17:25:19.657Z"
   },
   {
    "duration": 14,
    "start_time": "2022-07-18T17:26:02.139Z"
   },
   {
    "duration": 2,
    "start_time": "2022-07-18T17:26:51.942Z"
   },
   {
    "duration": 284,
    "start_time": "2022-07-18T17:26:51.946Z"
   },
   {
    "duration": 6,
    "start_time": "2022-07-18T17:26:52.232Z"
   },
   {
    "duration": 8,
    "start_time": "2022-07-18T17:26:52.239Z"
   },
   {
    "duration": 6,
    "start_time": "2022-07-18T17:26:52.249Z"
   },
   {
    "duration": 15,
    "start_time": "2022-07-18T17:26:52.257Z"
   },
   {
    "duration": 9,
    "start_time": "2022-07-18T17:26:52.275Z"
   },
   {
    "duration": 66,
    "start_time": "2022-07-18T17:26:52.285Z"
   },
   {
    "duration": 21,
    "start_time": "2022-07-18T17:26:52.353Z"
   },
   {
    "duration": 29,
    "start_time": "2022-07-18T17:26:52.376Z"
   },
   {
    "duration": 66,
    "start_time": "2022-07-18T17:26:52.424Z"
   },
   {
    "duration": 92,
    "start_time": "2022-07-18T17:26:52.492Z"
   },
   {
    "duration": 69,
    "start_time": "2022-07-18T17:26:52.586Z"
   },
   {
    "duration": 28,
    "start_time": "2022-07-18T17:26:52.657Z"
   },
   {
    "duration": 6,
    "start_time": "2022-07-18T17:26:52.687Z"
   },
   {
    "duration": 35,
    "start_time": "2022-07-18T17:26:52.694Z"
   },
   {
    "duration": 6,
    "start_time": "2022-07-18T17:26:52.731Z"
   },
   {
    "duration": 41,
    "start_time": "2022-07-18T17:26:52.739Z"
   },
   {
    "duration": 63,
    "start_time": "2022-07-18T17:26:52.781Z"
   },
   {
    "duration": 24,
    "start_time": "2022-07-18T17:26:52.846Z"
   },
   {
    "duration": 19,
    "start_time": "2022-07-18T17:26:52.871Z"
   },
   {
    "duration": 41,
    "start_time": "2022-07-18T17:26:52.891Z"
   },
   {
    "duration": 18,
    "start_time": "2022-07-18T17:26:52.934Z"
   },
   {
    "duration": 16,
    "start_time": "2022-07-18T17:26:52.954Z"
   },
   {
    "duration": 20,
    "start_time": "2022-07-18T17:26:52.971Z"
   },
   {
    "duration": 18,
    "start_time": "2022-07-18T17:26:53.024Z"
   },
   {
    "duration": 106,
    "start_time": "2022-07-18T17:26:53.043Z"
   },
   {
    "duration": 11,
    "start_time": "2022-07-18T17:26:53.151Z"
   },
   {
    "duration": 9,
    "start_time": "2022-07-18T17:26:53.163Z"
   },
   {
    "duration": 3,
    "start_time": "2022-07-18T17:26:53.174Z"
   },
   {
    "duration": 19,
    "start_time": "2022-07-18T17:26:59.056Z"
   },
   {
    "duration": 20,
    "start_time": "2022-07-18T17:27:03.619Z"
   },
   {
    "duration": 13,
    "start_time": "2022-07-18T17:27:08.063Z"
   },
   {
    "duration": 19,
    "start_time": "2022-07-18T17:27:36.586Z"
   },
   {
    "duration": 14,
    "start_time": "2022-07-18T17:27:40.688Z"
   },
   {
    "duration": 3,
    "start_time": "2022-07-18T17:27:50.023Z"
   },
   {
    "duration": 319,
    "start_time": "2022-07-18T17:27:50.028Z"
   },
   {
    "duration": 6,
    "start_time": "2022-07-18T17:27:50.349Z"
   },
   {
    "duration": 9,
    "start_time": "2022-07-18T17:27:50.356Z"
   },
   {
    "duration": 8,
    "start_time": "2022-07-18T17:27:50.367Z"
   },
   {
    "duration": 15,
    "start_time": "2022-07-18T17:27:50.377Z"
   },
   {
    "duration": 3,
    "start_time": "2022-07-18T17:27:50.394Z"
   },
   {
    "duration": 32,
    "start_time": "2022-07-18T17:27:50.423Z"
   },
   {
    "duration": 45,
    "start_time": "2022-07-18T17:27:50.457Z"
   },
   {
    "duration": 32,
    "start_time": "2022-07-18T17:27:50.504Z"
   },
   {
    "duration": 84,
    "start_time": "2022-07-18T17:27:50.540Z"
   },
   {
    "duration": 100,
    "start_time": "2022-07-18T17:27:50.626Z"
   },
   {
    "duration": 64,
    "start_time": "2022-07-18T17:27:50.728Z"
   },
   {
    "duration": 38,
    "start_time": "2022-07-18T17:27:50.793Z"
   },
   {
    "duration": 3,
    "start_time": "2022-07-18T17:27:50.832Z"
   },
   {
    "duration": 16,
    "start_time": "2022-07-18T17:27:50.837Z"
   },
   {
    "duration": 13,
    "start_time": "2022-07-18T17:27:50.854Z"
   },
   {
    "duration": 62,
    "start_time": "2022-07-18T17:27:50.869Z"
   },
   {
    "duration": 40,
    "start_time": "2022-07-18T17:27:50.933Z"
   },
   {
    "duration": 24,
    "start_time": "2022-07-18T17:27:50.974Z"
   },
   {
    "duration": 44,
    "start_time": "2022-07-18T17:27:51.000Z"
   },
   {
    "duration": 17,
    "start_time": "2022-07-18T17:27:51.046Z"
   },
   {
    "duration": 20,
    "start_time": "2022-07-18T17:27:51.065Z"
   },
   {
    "duration": 42,
    "start_time": "2022-07-18T17:27:51.087Z"
   },
   {
    "duration": 23,
    "start_time": "2022-07-18T17:27:51.131Z"
   },
   {
    "duration": 19,
    "start_time": "2022-07-18T17:27:51.155Z"
   },
   {
    "duration": 131,
    "start_time": "2022-07-18T17:27:51.175Z"
   },
   {
    "duration": 27,
    "start_time": "2022-07-18T17:27:51.308Z"
   },
   {
    "duration": 14,
    "start_time": "2022-07-18T17:27:51.339Z"
   },
   {
    "duration": 4,
    "start_time": "2022-07-18T17:27:51.355Z"
   },
   {
    "duration": 39,
    "start_time": "2022-07-18T17:27:51.360Z"
   },
   {
    "duration": 30,
    "start_time": "2022-07-18T17:27:51.401Z"
   },
   {
    "duration": 22,
    "start_time": "2022-07-18T17:27:51.433Z"
   },
   {
    "duration": 17,
    "start_time": "2022-07-18T17:27:51.456Z"
   },
   {
    "duration": 63,
    "start_time": "2022-07-18T17:27:51.475Z"
   },
   {
    "duration": 8,
    "start_time": "2022-07-18T17:27:51.540Z"
   },
   {
    "duration": 30,
    "start_time": "2022-07-18T17:27:51.550Z"
   },
   {
    "duration": 9,
    "start_time": "2022-07-18T17:27:51.582Z"
   },
   {
    "duration": 3,
    "start_time": "2022-07-18T17:27:59.053Z"
   },
   {
    "duration": 293,
    "start_time": "2022-07-18T17:27:59.058Z"
   },
   {
    "duration": 7,
    "start_time": "2022-07-18T17:27:59.353Z"
   },
   {
    "duration": 15,
    "start_time": "2022-07-18T17:27:59.362Z"
   },
   {
    "duration": 13,
    "start_time": "2022-07-18T17:27:59.380Z"
   },
   {
    "duration": 30,
    "start_time": "2022-07-18T17:27:59.394Z"
   },
   {
    "duration": 11,
    "start_time": "2022-07-18T17:27:59.425Z"
   },
   {
    "duration": 45,
    "start_time": "2022-07-18T17:27:59.438Z"
   },
   {
    "duration": 26,
    "start_time": "2022-07-18T17:27:59.485Z"
   },
   {
    "duration": 39,
    "start_time": "2022-07-18T17:27:59.513Z"
   },
   {
    "duration": 77,
    "start_time": "2022-07-18T17:27:59.554Z"
   },
   {
    "duration": 92,
    "start_time": "2022-07-18T17:27:59.633Z"
   },
   {
    "duration": 65,
    "start_time": "2022-07-18T17:27:59.727Z"
   },
   {
    "duration": 39,
    "start_time": "2022-07-18T17:27:59.797Z"
   },
   {
    "duration": 12,
    "start_time": "2022-07-18T17:27:59.838Z"
   },
   {
    "duration": 22,
    "start_time": "2022-07-18T17:27:59.851Z"
   },
   {
    "duration": 15,
    "start_time": "2022-07-18T17:27:59.874Z"
   },
   {
    "duration": 49,
    "start_time": "2022-07-18T17:27:59.890Z"
   },
   {
    "duration": 51,
    "start_time": "2022-07-18T17:27:59.940Z"
   },
   {
    "duration": 44,
    "start_time": "2022-07-18T17:27:59.993Z"
   },
   {
    "duration": 22,
    "start_time": "2022-07-18T17:28:00.038Z"
   },
   {
    "duration": 34,
    "start_time": "2022-07-18T17:28:00.062Z"
   },
   {
    "duration": 29,
    "start_time": "2022-07-18T17:28:00.098Z"
   },
   {
    "duration": 16,
    "start_time": "2022-07-18T17:28:00.129Z"
   },
   {
    "duration": 34,
    "start_time": "2022-07-18T17:28:00.146Z"
   },
   {
    "duration": 16,
    "start_time": "2022-07-18T17:28:00.182Z"
   },
   {
    "duration": 142,
    "start_time": "2022-07-18T17:28:00.200Z"
   },
   {
    "duration": 13,
    "start_time": "2022-07-18T17:28:00.344Z"
   },
   {
    "duration": 13,
    "start_time": "2022-07-18T17:28:00.359Z"
   },
   {
    "duration": 17,
    "start_time": "2022-07-18T17:28:00.374Z"
   },
   {
    "duration": 35,
    "start_time": "2022-07-18T17:28:00.394Z"
   },
   {
    "duration": 30,
    "start_time": "2022-07-18T17:28:00.431Z"
   },
   {
    "duration": 23,
    "start_time": "2022-07-18T17:28:00.463Z"
   },
   {
    "duration": 41,
    "start_time": "2022-07-18T17:28:00.488Z"
   },
   {
    "duration": 37,
    "start_time": "2022-07-18T17:28:00.531Z"
   },
   {
    "duration": 8,
    "start_time": "2022-07-18T17:28:00.570Z"
   },
   {
    "duration": 44,
    "start_time": "2022-07-18T17:28:00.580Z"
   },
   {
    "duration": 11,
    "start_time": "2022-07-18T17:28:00.626Z"
   },
   {
    "duration": 716,
    "start_time": "2022-07-19T20:03:30.807Z"
   },
   {
    "duration": 542,
    "start_time": "2022-07-19T20:03:31.597Z"
   },
   {
    "duration": 7,
    "start_time": "2022-07-19T20:03:32.140Z"
   },
   {
    "duration": 8,
    "start_time": "2022-07-19T20:03:32.149Z"
   },
   {
    "duration": 5,
    "start_time": "2022-07-19T20:03:32.159Z"
   },
   {
    "duration": 39,
    "start_time": "2022-07-19T20:03:32.166Z"
   },
   {
    "duration": 12,
    "start_time": "2022-07-19T20:03:32.207Z"
   },
   {
    "duration": 25,
    "start_time": "2022-07-19T20:03:32.221Z"
   },
   {
    "duration": 19,
    "start_time": "2022-07-19T20:03:32.248Z"
   },
   {
    "duration": 44,
    "start_time": "2022-07-19T20:03:32.270Z"
   },
   {
    "duration": 65,
    "start_time": "2022-07-19T20:03:32.317Z"
   },
   {
    "duration": 211,
    "start_time": "2022-07-19T20:03:32.398Z"
   },
   {
    "duration": 287,
    "start_time": "2022-07-19T20:03:32.611Z"
   },
   {
    "duration": 99,
    "start_time": "2022-07-19T20:03:32.900Z"
   },
   {
    "duration": 3,
    "start_time": "2022-07-19T20:03:33.001Z"
   },
   {
    "duration": 17,
    "start_time": "2022-07-19T20:03:33.006Z"
   },
   {
    "duration": 7,
    "start_time": "2022-07-19T20:03:33.099Z"
   },
   {
    "duration": 104,
    "start_time": "2022-07-19T20:03:33.108Z"
   },
   {
    "duration": 108,
    "start_time": "2022-07-19T20:03:33.214Z"
   },
   {
    "duration": 105,
    "start_time": "2022-07-19T20:03:33.398Z"
   },
   {
    "duration": 109,
    "start_time": "2022-07-19T20:03:33.505Z"
   },
   {
    "duration": 85,
    "start_time": "2022-07-19T20:03:33.616Z"
   },
   {
    "duration": 20,
    "start_time": "2022-07-19T20:03:33.703Z"
   },
   {
    "duration": 87,
    "start_time": "2022-07-19T20:03:33.725Z"
   },
   {
    "duration": 90,
    "start_time": "2022-07-19T20:03:33.813Z"
   },
   {
    "duration": 18,
    "start_time": "2022-07-19T20:03:33.905Z"
   },
   {
    "duration": 230,
    "start_time": "2022-07-19T20:03:33.998Z"
   },
   {
    "duration": 68,
    "start_time": "2022-07-19T20:03:34.231Z"
   },
   {
    "duration": 8,
    "start_time": "2022-07-19T20:03:34.301Z"
   },
   {
    "duration": 4,
    "start_time": "2022-07-19T20:03:34.311Z"
   },
   {
    "duration": 23,
    "start_time": "2022-07-19T20:03:34.316Z"
   },
   {
    "duration": 21,
    "start_time": "2022-07-19T20:03:34.341Z"
   },
   {
    "duration": 48,
    "start_time": "2022-07-19T20:03:34.364Z"
   },
   {
    "duration": 17,
    "start_time": "2022-07-19T20:03:34.414Z"
   },
   {
    "duration": 23,
    "start_time": "2022-07-19T20:03:34.432Z"
   },
   {
    "duration": 9,
    "start_time": "2022-07-19T20:03:34.457Z"
   },
   {
    "duration": 41,
    "start_time": "2022-07-19T20:03:34.468Z"
   },
   {
    "duration": 9,
    "start_time": "2022-07-19T20:03:34.511Z"
   },
   {
    "duration": 427,
    "start_time": "2022-07-19T20:04:23.794Z"
   },
   {
    "duration": 281,
    "start_time": "2022-07-19T20:04:24.223Z"
   },
   {
    "duration": 6,
    "start_time": "2022-07-19T20:04:24.506Z"
   },
   {
    "duration": 6,
    "start_time": "2022-07-19T20:04:24.514Z"
   },
   {
    "duration": 5,
    "start_time": "2022-07-19T20:04:24.522Z"
   },
   {
    "duration": 15,
    "start_time": "2022-07-19T20:04:24.529Z"
   },
   {
    "duration": 8,
    "start_time": "2022-07-19T20:04:24.546Z"
   },
   {
    "duration": 43,
    "start_time": "2022-07-19T20:04:24.556Z"
   },
   {
    "duration": 16,
    "start_time": "2022-07-19T20:04:24.600Z"
   },
   {
    "duration": 25,
    "start_time": "2022-07-19T20:04:24.619Z"
   },
   {
    "duration": 81,
    "start_time": "2022-07-19T20:04:24.646Z"
   },
   {
    "duration": 73,
    "start_time": "2022-07-19T20:04:24.729Z"
   },
   {
    "duration": 55,
    "start_time": "2022-07-19T20:04:24.804Z"
   },
   {
    "duration": 21,
    "start_time": "2022-07-19T20:04:24.861Z"
   },
   {
    "duration": 17,
    "start_time": "2022-07-19T20:04:24.883Z"
   },
   {
    "duration": 14,
    "start_time": "2022-07-19T20:04:24.902Z"
   },
   {
    "duration": 7,
    "start_time": "2022-07-19T20:04:24.918Z"
   },
   {
    "duration": 33,
    "start_time": "2022-07-19T20:04:24.927Z"
   },
   {
    "duration": 52,
    "start_time": "2022-07-19T20:04:24.962Z"
   },
   {
    "duration": 22,
    "start_time": "2022-07-19T20:04:25.016Z"
   },
   {
    "duration": 22,
    "start_time": "2022-07-19T20:04:25.039Z"
   },
   {
    "duration": 41,
    "start_time": "2022-07-19T20:04:25.063Z"
   },
   {
    "duration": 19,
    "start_time": "2022-07-19T20:04:25.106Z"
   },
   {
    "duration": 16,
    "start_time": "2022-07-19T20:04:25.126Z"
   },
   {
    "duration": 20,
    "start_time": "2022-07-19T20:04:25.143Z"
   },
   {
    "duration": 46,
    "start_time": "2022-07-19T20:04:25.165Z"
   },
   {
    "duration": 97,
    "start_time": "2022-07-19T20:04:25.213Z"
   },
   {
    "duration": 10,
    "start_time": "2022-07-19T20:04:25.313Z"
   },
   {
    "duration": 8,
    "start_time": "2022-07-19T20:04:25.325Z"
   },
   {
    "duration": 4,
    "start_time": "2022-07-19T20:04:25.335Z"
   },
   {
    "duration": 25,
    "start_time": "2022-07-19T20:04:25.340Z"
   },
   {
    "duration": 34,
    "start_time": "2022-07-19T20:04:25.367Z"
   },
   {
    "duration": 22,
    "start_time": "2022-07-19T20:04:25.402Z"
   },
   {
    "duration": 17,
    "start_time": "2022-07-19T20:04:25.426Z"
   },
   {
    "duration": 22,
    "start_time": "2022-07-19T20:04:25.444Z"
   },
   {
    "duration": 33,
    "start_time": "2022-07-19T20:04:25.468Z"
   },
   {
    "duration": 16,
    "start_time": "2022-07-19T20:04:25.503Z"
   },
   {
    "duration": 8,
    "start_time": "2022-07-19T20:04:25.521Z"
   },
   {
    "duration": 58,
    "start_time": "2022-07-20T07:37:49.092Z"
   },
   {
    "duration": 408,
    "start_time": "2022-07-20T07:37:59.102Z"
   },
   {
    "duration": 586,
    "start_time": "2022-07-20T07:37:59.512Z"
   },
   {
    "duration": 8,
    "start_time": "2022-07-20T07:38:00.100Z"
   },
   {
    "duration": 23,
    "start_time": "2022-07-20T07:38:00.110Z"
   },
   {
    "duration": 39,
    "start_time": "2022-07-20T07:38:00.135Z"
   },
   {
    "duration": 22,
    "start_time": "2022-07-20T07:38:00.176Z"
   },
   {
    "duration": 25,
    "start_time": "2022-07-20T07:38:00.200Z"
   },
   {
    "duration": 49,
    "start_time": "2022-07-20T07:38:00.227Z"
   },
   {
    "duration": 23,
    "start_time": "2022-07-20T07:38:00.278Z"
   },
   {
    "duration": 28,
    "start_time": "2022-07-20T07:38:00.304Z"
   },
   {
    "duration": 83,
    "start_time": "2022-07-20T07:38:00.334Z"
   },
   {
    "duration": 66,
    "start_time": "2022-07-20T07:38:00.419Z"
   },
   {
    "duration": 67,
    "start_time": "2022-07-20T07:38:00.487Z"
   },
   {
    "duration": 20,
    "start_time": "2022-07-20T07:38:00.556Z"
   },
   {
    "duration": 21,
    "start_time": "2022-07-20T07:38:00.578Z"
   },
   {
    "duration": 27,
    "start_time": "2022-07-20T07:38:00.600Z"
   },
   {
    "duration": 13,
    "start_time": "2022-07-20T07:38:00.629Z"
   },
   {
    "duration": 33,
    "start_time": "2022-07-20T07:38:00.643Z"
   },
   {
    "duration": 31,
    "start_time": "2022-07-20T07:38:00.678Z"
   },
   {
    "duration": 21,
    "start_time": "2022-07-20T07:38:00.710Z"
   },
   {
    "duration": 20,
    "start_time": "2022-07-20T07:38:00.733Z"
   },
   {
    "duration": 16,
    "start_time": "2022-07-20T07:38:00.755Z"
   },
   {
    "duration": 45,
    "start_time": "2022-07-20T07:38:00.773Z"
   },
   {
    "duration": 17,
    "start_time": "2022-07-20T07:38:00.819Z"
   },
   {
    "duration": 21,
    "start_time": "2022-07-20T07:38:00.838Z"
   },
   {
    "duration": 16,
    "start_time": "2022-07-20T07:38:00.861Z"
   },
   {
    "duration": 101,
    "start_time": "2022-07-20T07:38:00.904Z"
   },
   {
    "duration": 11,
    "start_time": "2022-07-20T07:38:01.008Z"
   },
   {
    "duration": 14,
    "start_time": "2022-07-20T07:38:01.021Z"
   },
   {
    "duration": 4,
    "start_time": "2022-07-20T07:38:01.038Z"
   },
   {
    "duration": 31,
    "start_time": "2022-07-20T07:38:01.044Z"
   },
   {
    "duration": 28,
    "start_time": "2022-07-20T07:38:01.077Z"
   },
   {
    "duration": 21,
    "start_time": "2022-07-20T07:38:01.107Z"
   },
   {
    "duration": 18,
    "start_time": "2022-07-20T07:38:01.130Z"
   },
   {
    "duration": 23,
    "start_time": "2022-07-20T07:38:01.150Z"
   },
   {
    "duration": 32,
    "start_time": "2022-07-20T07:38:01.174Z"
   },
   {
    "duration": 31,
    "start_time": "2022-07-20T07:38:01.208Z"
   },
   {
    "duration": 10,
    "start_time": "2022-07-20T07:38:01.241Z"
   },
   {
    "duration": 4,
    "start_time": "2022-07-20T07:39:52.308Z"
   },
   {
    "duration": 308,
    "start_time": "2022-07-20T07:39:52.314Z"
   },
   {
    "duration": 7,
    "start_time": "2022-07-20T07:39:52.624Z"
   },
   {
    "duration": 20,
    "start_time": "2022-07-20T07:39:52.633Z"
   },
   {
    "duration": 11,
    "start_time": "2022-07-20T07:39:52.654Z"
   },
   {
    "duration": 16,
    "start_time": "2022-07-20T07:39:52.667Z"
   },
   {
    "duration": 4,
    "start_time": "2022-07-20T07:39:52.685Z"
   },
   {
    "duration": 28,
    "start_time": "2022-07-20T07:39:52.691Z"
   },
   {
    "duration": 15,
    "start_time": "2022-07-20T07:39:52.722Z"
   },
   {
    "duration": 27,
    "start_time": "2022-07-20T07:39:52.739Z"
   },
   {
    "duration": 73,
    "start_time": "2022-07-20T07:39:52.767Z"
   },
   {
    "duration": 69,
    "start_time": "2022-07-20T07:39:52.842Z"
   },
   {
    "duration": 9984,
    "start_time": "2022-07-20T07:39:52.913Z"
   },
   {
    "duration": 33,
    "start_time": "2022-07-20T07:40:02.899Z"
   },
   {
    "duration": 9,
    "start_time": "2022-07-20T07:40:02.934Z"
   },
   {
    "duration": 30,
    "start_time": "2022-07-20T07:40:02.945Z"
   },
   {
    "duration": 26,
    "start_time": "2022-07-20T07:40:02.977Z"
   },
   {
    "duration": 46,
    "start_time": "2022-07-20T07:40:03.005Z"
   },
   {
    "duration": 29,
    "start_time": "2022-07-20T07:40:03.053Z"
   },
   {
    "duration": 26,
    "start_time": "2022-07-20T07:40:03.084Z"
   },
   {
    "duration": 18,
    "start_time": "2022-07-20T07:40:03.112Z"
   },
   {
    "duration": 14,
    "start_time": "2022-07-20T07:40:03.132Z"
   },
   {
    "duration": 15,
    "start_time": "2022-07-20T07:40:03.147Z"
   },
   {
    "duration": 47,
    "start_time": "2022-07-20T07:40:03.165Z"
   },
   {
    "duration": 20,
    "start_time": "2022-07-20T07:40:03.213Z"
   },
   {
    "duration": 15,
    "start_time": "2022-07-20T07:40:03.234Z"
   },
   {
    "duration": 106,
    "start_time": "2022-07-20T07:40:03.250Z"
   },
   {
    "duration": 10,
    "start_time": "2022-07-20T07:40:03.358Z"
   },
   {
    "duration": 9,
    "start_time": "2022-07-20T07:40:03.370Z"
   },
   {
    "duration": 4,
    "start_time": "2022-07-20T07:40:03.380Z"
   },
   {
    "duration": 18,
    "start_time": "2022-07-20T07:40:03.405Z"
   },
   {
    "duration": 13,
    "start_time": "2022-07-20T07:40:03.425Z"
   },
   {
    "duration": 19,
    "start_time": "2022-07-20T07:40:03.440Z"
   },
   {
    "duration": 46,
    "start_time": "2022-07-20T07:40:03.461Z"
   },
   {
    "duration": 24,
    "start_time": "2022-07-20T07:40:03.509Z"
   },
   {
    "duration": 8,
    "start_time": "2022-07-20T07:40:03.535Z"
   },
   {
    "duration": 17,
    "start_time": "2022-07-20T07:40:03.544Z"
   },
   {
    "duration": 7,
    "start_time": "2022-07-20T07:40:03.563Z"
   },
   {
    "duration": 9791,
    "start_time": "2022-07-20T07:40:53.950Z"
   },
   {
    "duration": 9279,
    "start_time": "2022-07-20T07:41:54.274Z"
   },
   {
    "duration": 48,
    "start_time": "2022-07-20T07:43:59.114Z"
   },
   {
    "duration": 42,
    "start_time": "2022-07-20T07:45:15.028Z"
   },
   {
    "duration": 29,
    "start_time": "2022-07-20T07:46:00.644Z"
   },
   {
    "duration": 28,
    "start_time": "2022-07-20T07:46:05.097Z"
   },
   {
    "duration": 9,
    "start_time": "2022-07-20T07:47:52.724Z"
   },
   {
    "duration": 12,
    "start_time": "2022-07-20T07:50:04.601Z"
   },
   {
    "duration": 10,
    "start_time": "2022-07-20T07:50:31.824Z"
   },
   {
    "duration": 11,
    "start_time": "2022-07-20T07:50:42.244Z"
   },
   {
    "duration": 11,
    "start_time": "2022-07-20T07:51:39.489Z"
   },
   {
    "duration": 12,
    "start_time": "2022-07-20T07:51:46.955Z"
   },
   {
    "duration": 30,
    "start_time": "2022-07-20T07:52:05.991Z"
   },
   {
    "duration": 11,
    "start_time": "2022-07-20T07:52:21.324Z"
   },
   {
    "duration": 14,
    "start_time": "2022-07-20T07:52:57.480Z"
   },
   {
    "duration": 22,
    "start_time": "2022-07-20T07:57:02.992Z"
   },
   {
    "duration": 4,
    "start_time": "2022-07-20T07:59:48.612Z"
   },
   {
    "duration": 39,
    "start_time": "2022-07-20T07:59:54.449Z"
   },
   {
    "duration": 14,
    "start_time": "2022-07-20T08:01:51.443Z"
   },
   {
    "duration": 2,
    "start_time": "2022-07-20T08:01:56.840Z"
   },
   {
    "duration": 256,
    "start_time": "2022-07-20T08:01:56.844Z"
   },
   {
    "duration": 6,
    "start_time": "2022-07-20T08:01:57.103Z"
   },
   {
    "duration": 8,
    "start_time": "2022-07-20T08:01:57.110Z"
   },
   {
    "duration": 7,
    "start_time": "2022-07-20T08:01:57.120Z"
   },
   {
    "duration": 9,
    "start_time": "2022-07-20T08:01:57.128Z"
   },
   {
    "duration": 3,
    "start_time": "2022-07-20T08:01:57.139Z"
   },
   {
    "duration": 28,
    "start_time": "2022-07-20T08:01:57.144Z"
   },
   {
    "duration": 42,
    "start_time": "2022-07-20T08:01:57.174Z"
   },
   {
    "duration": 24,
    "start_time": "2022-07-20T08:01:57.218Z"
   },
   {
    "duration": 73,
    "start_time": "2022-07-20T08:01:57.244Z"
   },
   {
    "duration": 64,
    "start_time": "2022-07-20T08:01:57.318Z"
   },
   {
    "duration": 66,
    "start_time": "2022-07-20T08:01:57.384Z"
   },
   {
    "duration": 34,
    "start_time": "2022-07-20T08:01:57.452Z"
   },
   {
    "duration": 19,
    "start_time": "2022-07-20T08:01:57.487Z"
   },
   {
    "duration": 12,
    "start_time": "2022-07-20T08:01:57.507Z"
   },
   {
    "duration": 7,
    "start_time": "2022-07-20T08:01:57.520Z"
   },
   {
    "duration": 15,
    "start_time": "2022-07-20T08:01:57.528Z"
   },
   {
    "duration": 12,
    "start_time": "2022-07-20T08:01:57.545Z"
   },
   {
    "duration": 49,
    "start_time": "2022-07-20T08:01:57.558Z"
   },
   {
    "duration": 18,
    "start_time": "2022-07-20T08:01:57.609Z"
   },
   {
    "duration": 13,
    "start_time": "2022-07-20T08:01:57.628Z"
   },
   {
    "duration": 15,
    "start_time": "2022-07-20T08:01:57.643Z"
   },
   {
    "duration": 13,
    "start_time": "2022-07-20T08:01:57.659Z"
   },
   {
    "duration": 45,
    "start_time": "2022-07-20T08:01:57.674Z"
   },
   {
    "duration": 18,
    "start_time": "2022-07-20T08:01:57.721Z"
   },
   {
    "duration": 104,
    "start_time": "2022-07-20T08:01:57.741Z"
   },
   {
    "duration": 10,
    "start_time": "2022-07-20T08:01:57.847Z"
   },
   {
    "duration": 9,
    "start_time": "2022-07-20T08:01:57.861Z"
   },
   {
    "duration": 4,
    "start_time": "2022-07-20T08:01:57.872Z"
   },
   {
    "duration": 41,
    "start_time": "2022-07-20T08:01:57.877Z"
   },
   {
    "duration": 0,
    "start_time": "2022-07-20T08:01:57.920Z"
   },
   {
    "duration": 0,
    "start_time": "2022-07-20T08:01:57.921Z"
   },
   {
    "duration": 0,
    "start_time": "2022-07-20T08:01:57.922Z"
   },
   {
    "duration": 0,
    "start_time": "2022-07-20T08:01:57.923Z"
   },
   {
    "duration": 0,
    "start_time": "2022-07-20T08:01:57.924Z"
   },
   {
    "duration": 0,
    "start_time": "2022-07-20T08:01:57.925Z"
   },
   {
    "duration": 0,
    "start_time": "2022-07-20T08:01:57.926Z"
   },
   {
    "duration": 22,
    "start_time": "2022-07-20T08:02:31.634Z"
   },
   {
    "duration": 5,
    "start_time": "2022-07-20T08:02:43.465Z"
   },
   {
    "duration": 3,
    "start_time": "2022-07-20T08:02:54.073Z"
   },
   {
    "duration": 359,
    "start_time": "2022-07-20T08:02:54.078Z"
   },
   {
    "duration": 7,
    "start_time": "2022-07-20T08:02:54.438Z"
   },
   {
    "duration": 16,
    "start_time": "2022-07-20T08:02:54.448Z"
   },
   {
    "duration": 26,
    "start_time": "2022-07-20T08:02:54.466Z"
   },
   {
    "duration": 27,
    "start_time": "2022-07-20T08:02:54.494Z"
   },
   {
    "duration": 6,
    "start_time": "2022-07-20T08:02:54.523Z"
   },
   {
    "duration": 27,
    "start_time": "2022-07-20T08:02:54.530Z"
   },
   {
    "duration": 18,
    "start_time": "2022-07-20T08:02:54.560Z"
   },
   {
    "duration": 28,
    "start_time": "2022-07-20T08:02:54.580Z"
   },
   {
    "duration": 67,
    "start_time": "2022-07-20T08:02:54.610Z"
   },
   {
    "duration": 80,
    "start_time": "2022-07-20T08:02:54.679Z"
   },
   {
    "duration": 75,
    "start_time": "2022-07-20T08:02:54.761Z"
   },
   {
    "duration": 36,
    "start_time": "2022-07-20T08:02:54.838Z"
   },
   {
    "duration": 3,
    "start_time": "2022-07-20T08:02:54.876Z"
   },
   {
    "duration": 25,
    "start_time": "2022-07-20T08:02:54.880Z"
   },
   {
    "duration": 7,
    "start_time": "2022-07-20T08:02:54.907Z"
   },
   {
    "duration": 13,
    "start_time": "2022-07-20T08:02:54.915Z"
   },
   {
    "duration": 12,
    "start_time": "2022-07-20T08:02:54.929Z"
   },
   {
    "duration": 27,
    "start_time": "2022-07-20T08:02:54.943Z"
   },
   {
    "duration": 55,
    "start_time": "2022-07-20T08:02:54.971Z"
   },
   {
    "duration": 17,
    "start_time": "2022-07-20T08:02:55.028Z"
   },
   {
    "duration": 19,
    "start_time": "2022-07-20T08:02:55.046Z"
   },
   {
    "duration": 47,
    "start_time": "2022-07-20T08:02:55.068Z"
   },
   {
    "duration": 23,
    "start_time": "2022-07-20T08:02:55.116Z"
   },
   {
    "duration": 17,
    "start_time": "2022-07-20T08:02:55.141Z"
   },
   {
    "duration": 124,
    "start_time": "2022-07-20T08:02:55.160Z"
   },
   {
    "duration": 10,
    "start_time": "2022-07-20T08:02:55.286Z"
   },
   {
    "duration": 12,
    "start_time": "2022-07-20T08:02:55.304Z"
   },
   {
    "duration": 6,
    "start_time": "2022-07-20T08:02:55.319Z"
   },
   {
    "duration": 3,
    "start_time": "2022-07-20T08:03:01.647Z"
   },
   {
    "duration": 350,
    "start_time": "2022-07-20T08:03:01.655Z"
   },
   {
    "duration": 7,
    "start_time": "2022-07-20T08:03:02.007Z"
   },
   {
    "duration": 10,
    "start_time": "2022-07-20T08:03:02.016Z"
   },
   {
    "duration": 10,
    "start_time": "2022-07-20T08:03:02.028Z"
   },
   {
    "duration": 21,
    "start_time": "2022-07-20T08:03:02.040Z"
   },
   {
    "duration": 10,
    "start_time": "2022-07-20T08:03:02.064Z"
   },
   {
    "duration": 32,
    "start_time": "2022-07-20T08:03:02.076Z"
   },
   {
    "duration": 20,
    "start_time": "2022-07-20T08:03:02.111Z"
   },
   {
    "duration": 29,
    "start_time": "2022-07-20T08:03:02.133Z"
   },
   {
    "duration": 87,
    "start_time": "2022-07-20T08:03:02.164Z"
   },
   {
    "duration": 90,
    "start_time": "2022-07-20T08:03:02.252Z"
   },
   {
    "duration": 72,
    "start_time": "2022-07-20T08:03:02.344Z"
   },
   {
    "duration": 37,
    "start_time": "2022-07-20T08:03:02.417Z"
   },
   {
    "duration": 4,
    "start_time": "2022-07-20T08:03:02.456Z"
   },
   {
    "duration": 15,
    "start_time": "2022-07-20T08:03:02.461Z"
   },
   {
    "duration": 28,
    "start_time": "2022-07-20T08:03:02.478Z"
   },
   {
    "duration": 14,
    "start_time": "2022-07-20T08:03:02.508Z"
   },
   {
    "duration": 14,
    "start_time": "2022-07-20T08:03:02.523Z"
   },
   {
    "duration": 26,
    "start_time": "2022-07-20T08:03:02.539Z"
   },
   {
    "duration": 55,
    "start_time": "2022-07-20T08:03:02.568Z"
   },
   {
    "duration": 22,
    "start_time": "2022-07-20T08:03:02.625Z"
   },
   {
    "duration": 21,
    "start_time": "2022-07-20T08:03:02.648Z"
   },
   {
    "duration": 47,
    "start_time": "2022-07-20T08:03:02.672Z"
   },
   {
    "duration": 23,
    "start_time": "2022-07-20T08:03:02.720Z"
   },
   {
    "duration": 23,
    "start_time": "2022-07-20T08:03:02.745Z"
   },
   {
    "duration": 127,
    "start_time": "2022-07-20T08:03:02.770Z"
   },
   {
    "duration": 14,
    "start_time": "2022-07-20T08:03:02.903Z"
   },
   {
    "duration": 12,
    "start_time": "2022-07-20T08:03:02.920Z"
   },
   {
    "duration": 8,
    "start_time": "2022-07-20T08:03:02.934Z"
   },
   {
    "duration": 16,
    "start_time": "2022-07-20T08:03:12.366Z"
   },
   {
    "duration": 3,
    "start_time": "2022-07-20T08:03:21.550Z"
   },
   {
    "duration": 319,
    "start_time": "2022-07-20T08:03:21.556Z"
   },
   {
    "duration": 7,
    "start_time": "2022-07-20T08:03:21.877Z"
   },
   {
    "duration": 20,
    "start_time": "2022-07-20T08:03:21.886Z"
   },
   {
    "duration": 11,
    "start_time": "2022-07-20T08:03:21.908Z"
   },
   {
    "duration": 10,
    "start_time": "2022-07-20T08:03:21.920Z"
   },
   {
    "duration": 5,
    "start_time": "2022-07-20T08:03:21.932Z"
   },
   {
    "duration": 33,
    "start_time": "2022-07-20T08:03:21.939Z"
   },
   {
    "duration": 36,
    "start_time": "2022-07-20T08:03:21.976Z"
   },
   {
    "duration": 32,
    "start_time": "2022-07-20T08:03:22.013Z"
   },
   {
    "duration": 79,
    "start_time": "2022-07-20T08:03:22.048Z"
   },
   {
    "duration": 77,
    "start_time": "2022-07-20T08:03:22.129Z"
   },
   {
    "duration": 65,
    "start_time": "2022-07-20T08:03:22.208Z"
   },
   {
    "duration": 53,
    "start_time": "2022-07-20T08:03:22.276Z"
   },
   {
    "duration": 3,
    "start_time": "2022-07-20T08:03:22.331Z"
   },
   {
    "duration": 14,
    "start_time": "2022-07-20T08:03:22.335Z"
   },
   {
    "duration": 11,
    "start_time": "2022-07-20T08:03:22.351Z"
   },
   {
    "duration": 14,
    "start_time": "2022-07-20T08:03:22.364Z"
   },
   {
    "duration": 17,
    "start_time": "2022-07-20T08:03:22.405Z"
   },
   {
    "duration": 25,
    "start_time": "2022-07-20T08:03:22.424Z"
   },
   {
    "duration": 23,
    "start_time": "2022-07-20T08:03:22.451Z"
   },
   {
    "duration": 41,
    "start_time": "2022-07-20T08:03:22.475Z"
   },
   {
    "duration": 19,
    "start_time": "2022-07-20T08:03:22.518Z"
   },
   {
    "duration": 22,
    "start_time": "2022-07-20T08:03:22.540Z"
   },
   {
    "duration": 60,
    "start_time": "2022-07-20T08:03:22.564Z"
   },
   {
    "duration": 17,
    "start_time": "2022-07-20T08:03:22.626Z"
   },
   {
    "duration": 122,
    "start_time": "2022-07-20T08:03:22.645Z"
   },
   {
    "duration": 16,
    "start_time": "2022-07-20T08:03:22.768Z"
   },
   {
    "duration": 27,
    "start_time": "2022-07-20T08:03:22.785Z"
   },
   {
    "duration": 5,
    "start_time": "2022-07-20T08:03:22.814Z"
   },
   {
    "duration": 28,
    "start_time": "2022-07-20T08:03:22.822Z"
   },
   {
    "duration": 14,
    "start_time": "2022-07-20T08:03:22.852Z"
   },
   {
    "duration": 44,
    "start_time": "2022-07-20T08:03:22.868Z"
   },
   {
    "duration": 13,
    "start_time": "2022-07-20T08:03:22.914Z"
   },
   {
    "duration": 26,
    "start_time": "2022-07-20T08:03:22.928Z"
   },
   {
    "duration": 8,
    "start_time": "2022-07-20T08:03:22.956Z"
   },
   {
    "duration": 57,
    "start_time": "2022-07-20T08:03:22.966Z"
   },
   {
    "duration": 10,
    "start_time": "2022-07-20T08:03:23.026Z"
   },
   {
    "duration": 8,
    "start_time": "2022-07-20T08:04:42.042Z"
   },
   {
    "duration": 3,
    "start_time": "2022-07-20T08:05:44.327Z"
   },
   {
    "duration": 314,
    "start_time": "2022-07-20T08:05:44.332Z"
   },
   {
    "duration": 6,
    "start_time": "2022-07-20T08:05:44.647Z"
   },
   {
    "duration": 9,
    "start_time": "2022-07-20T08:05:44.655Z"
   },
   {
    "duration": 8,
    "start_time": "2022-07-20T08:05:44.665Z"
   },
   {
    "duration": 29,
    "start_time": "2022-07-20T08:05:44.675Z"
   },
   {
    "duration": 4,
    "start_time": "2022-07-20T08:05:44.706Z"
   },
   {
    "duration": 29,
    "start_time": "2022-07-20T08:05:44.712Z"
   },
   {
    "duration": 18,
    "start_time": "2022-07-20T08:05:44.743Z"
   },
   {
    "duration": 45,
    "start_time": "2022-07-20T08:05:44.763Z"
   },
   {
    "duration": 65,
    "start_time": "2022-07-20T08:05:44.810Z"
   },
   {
    "duration": 97,
    "start_time": "2022-07-20T08:05:44.877Z"
   },
   {
    "duration": 78,
    "start_time": "2022-07-20T08:05:44.976Z"
   },
   {
    "duration": 37,
    "start_time": "2022-07-20T08:05:45.056Z"
   },
   {
    "duration": 7,
    "start_time": "2022-07-20T08:05:45.104Z"
   },
   {
    "duration": 13,
    "start_time": "2022-07-20T08:05:45.113Z"
   },
   {
    "duration": 9,
    "start_time": "2022-07-20T08:05:45.127Z"
   },
   {
    "duration": 17,
    "start_time": "2022-07-20T08:05:45.137Z"
   },
   {
    "duration": 14,
    "start_time": "2022-07-20T08:05:45.156Z"
   },
   {
    "duration": 47,
    "start_time": "2022-07-20T08:05:45.172Z"
   },
   {
    "duration": 21,
    "start_time": "2022-07-20T08:05:45.221Z"
   },
   {
    "duration": 17,
    "start_time": "2022-07-20T08:05:45.244Z"
   },
   {
    "duration": 48,
    "start_time": "2022-07-20T08:05:45.263Z"
   },
   {
    "duration": 19,
    "start_time": "2022-07-20T08:05:45.314Z"
   },
   {
    "duration": 26,
    "start_time": "2022-07-20T08:05:45.335Z"
   },
   {
    "duration": 42,
    "start_time": "2022-07-20T08:05:45.363Z"
   },
   {
    "duration": 110,
    "start_time": "2022-07-20T08:05:45.407Z"
   },
   {
    "duration": 11,
    "start_time": "2022-07-20T08:05:45.519Z"
   },
   {
    "duration": 9,
    "start_time": "2022-07-20T08:05:45.532Z"
   },
   {
    "duration": 4,
    "start_time": "2022-07-20T08:05:45.543Z"
   },
   {
    "duration": 24,
    "start_time": "2022-07-20T08:05:45.549Z"
   },
   {
    "duration": 35,
    "start_time": "2022-07-20T08:05:45.575Z"
   },
   {
    "duration": 19,
    "start_time": "2022-07-20T08:05:45.612Z"
   },
   {
    "duration": 54,
    "start_time": "2022-07-20T08:05:45.633Z"
   },
   {
    "duration": 13,
    "start_time": "2022-07-20T08:05:45.703Z"
   },
   {
    "duration": 4,
    "start_time": "2022-07-20T08:05:45.718Z"
   },
   {
    "duration": 11,
    "start_time": "2022-07-20T08:05:45.724Z"
   },
   {
    "duration": 4,
    "start_time": "2022-07-20T08:05:45.737Z"
   },
   {
    "duration": 401,
    "start_time": "2022-07-20T16:12:04.769Z"
   },
   {
    "duration": 290,
    "start_time": "2022-07-20T16:12:05.172Z"
   },
   {
    "duration": 7,
    "start_time": "2022-07-20T16:12:05.463Z"
   },
   {
    "duration": 7,
    "start_time": "2022-07-20T16:12:05.472Z"
   },
   {
    "duration": 7,
    "start_time": "2022-07-20T16:12:05.480Z"
   },
   {
    "duration": 15,
    "start_time": "2022-07-20T16:12:05.489Z"
   },
   {
    "duration": 11,
    "start_time": "2022-07-20T16:12:05.506Z"
   },
   {
    "duration": 40,
    "start_time": "2022-07-20T16:12:05.519Z"
   },
   {
    "duration": 20,
    "start_time": "2022-07-20T16:12:05.560Z"
   },
   {
    "duration": 25,
    "start_time": "2022-07-20T16:12:05.583Z"
   },
   {
    "duration": 91,
    "start_time": "2022-07-20T16:12:05.610Z"
   },
   {
    "duration": 84,
    "start_time": "2022-07-20T16:12:05.702Z"
   },
   {
    "duration": 69,
    "start_time": "2022-07-20T16:12:05.788Z"
   },
   {
    "duration": 37,
    "start_time": "2022-07-20T16:12:05.859Z"
   },
   {
    "duration": 3,
    "start_time": "2022-07-20T16:12:05.898Z"
   },
   {
    "duration": 11,
    "start_time": "2022-07-20T16:12:05.904Z"
   },
   {
    "duration": 28,
    "start_time": "2022-07-20T16:12:05.917Z"
   },
   {
    "duration": 13,
    "start_time": "2022-07-20T16:12:05.947Z"
   },
   {
    "duration": 14,
    "start_time": "2022-07-20T16:12:05.962Z"
   },
   {
    "duration": 24,
    "start_time": "2022-07-20T16:12:05.978Z"
   },
   {
    "duration": 21,
    "start_time": "2022-07-20T16:12:06.039Z"
   },
   {
    "duration": 26,
    "start_time": "2022-07-20T16:12:06.062Z"
   },
   {
    "duration": 20,
    "start_time": "2022-07-20T16:12:06.090Z"
   },
   {
    "duration": 37,
    "start_time": "2022-07-20T16:12:06.112Z"
   },
   {
    "duration": 23,
    "start_time": "2022-07-20T16:12:06.151Z"
   },
   {
    "duration": 18,
    "start_time": "2022-07-20T16:12:06.176Z"
   },
   {
    "duration": 134,
    "start_time": "2022-07-20T16:12:06.196Z"
   },
   {
    "duration": 12,
    "start_time": "2022-07-20T16:12:06.340Z"
   },
   {
    "duration": 9,
    "start_time": "2022-07-20T16:12:06.354Z"
   },
   {
    "duration": 9,
    "start_time": "2022-07-20T16:12:06.365Z"
   },
   {
    "duration": 24,
    "start_time": "2022-07-20T16:12:06.376Z"
   },
   {
    "duration": 12,
    "start_time": "2022-07-20T16:12:06.402Z"
   },
   {
    "duration": 41,
    "start_time": "2022-07-20T16:12:06.416Z"
   },
   {
    "duration": 12,
    "start_time": "2022-07-20T16:12:06.459Z"
   },
   {
    "duration": 11,
    "start_time": "2022-07-20T16:12:06.473Z"
   },
   {
    "duration": 5,
    "start_time": "2022-07-20T16:12:06.486Z"
   },
   {
    "duration": 10,
    "start_time": "2022-07-20T16:12:06.492Z"
   },
   {
    "duration": 4,
    "start_time": "2022-07-20T16:12:06.504Z"
   },
   {
    "duration": 112,
    "start_time": "2022-07-20T16:13:33.220Z"
   }
  ],
  "colab": {
   "collapsed_sections": [
    "E0vqbgi9ay0H",
    "VUC88oWjTJw2",
    "atZAxtq4_Zcu"
   ],
   "name": "EmptyFinalProject.ipynb\"",
   "provenance": []
  },
  "kernelspec": {
   "display_name": "Python 3 (ipykernel)",
   "language": "python",
   "name": "python3"
  },
  "language_info": {
   "codemirror_mode": {
    "name": "ipython",
    "version": 3
   },
   "file_extension": ".py",
   "mimetype": "text/x-python",
   "name": "python",
   "nbconvert_exporter": "python",
   "pygments_lexer": "ipython3",
   "version": "3.9.12"
  },
  "toc": {
   "base_numbering": 1,
   "nav_menu": {},
   "number_sections": true,
   "sideBar": true,
   "skip_h1_title": true,
   "title_cell": "Table of Contents",
   "title_sidebar": "Contents",
   "toc_cell": false,
   "toc_position": {},
   "toc_section_display": true,
   "toc_window_display": false
  }
 },
 "nbformat": 4,
 "nbformat_minor": 4
}
