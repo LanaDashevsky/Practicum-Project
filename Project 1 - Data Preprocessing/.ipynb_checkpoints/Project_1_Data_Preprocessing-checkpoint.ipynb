{
 "cells": [
  {
   "cell_type": "markdown",
   "metadata": {},
   "source": [
    "# Contents <a id='back'></a>\n",
    "\n",
    "* [Introduction](#intro)\n",
    "* [Stage 1. Data exploration](#data_exploration)\n",
    "    * [Conclusions](#data_review_conclusions)\n",
    "* [Stage 2. Data preprocessing](#data_preprocessing)\n",
    "    * [2.1 Header style](#header_style)\n",
    "    * [2.2 Working with missing values](#missing_values)\n",
    "        * [2.2.1.Restoring missing values in total_income](#total_income)\n",
    "        * [2.2.1.Restoring missing values in days_employed](#days_employed)\n",
    "* [Stage 3. Categorization of data](#categorization)\n",
    "* [Stage 4. Testing the hypotheses](#hypotheses)\n",
    "    * [3.1 Hypothesis 1: People who have children are more likely to repay loans than those who do not have children](#children)\n",
    "    * [3.2 Hypothesis 2: People who are married are more disciplined in paying off loans than those who are single. Is there a relation between marital status and repaying a loan on time?](#status)\n",
    "    * [3.3 Hypothesis 3: People with high incomes repay loans more often than people with low incomes. Is there a relation between income level and repaying a loan on time?](#income)\n",
    "    * [3.3 Hypothesis 4: How does credit purpose affect the default rate?](#rate)\n",
    "* [General Conclusion](#end)"
   ]
  },
  {
   "cell_type": "markdown",
   "metadata": {},
   "source": [
    "# Analyzing borrowers’ risk of defaulting <a id='intro'></a>\n",
    "\n",
    "The project is to prepare a report for a bank’s loan division. We’ll need to find out if a customer’s marital status and number of children has an impact on whether they will default on a loan. The bank already has some data on customers’ credit worthiness.\n",
    "\n",
    "# Purposes:\n",
    "It is believed that people with similar habits treat finances in approximately the same way. Therefore, banks compare potential borrowers with other people who have already taken similar loans. On the basis of this comparison, scoring models are built, which assess the solvency of a person and his ability to repay a loan.\n",
    "\n",
    "# Goal: \n",
    "Test four hypotheses:\n",
    "1. People who have children are more likely to repay loans than those who do not have children. Is there a connection between having kids and repaying a loan on time? \n",
    "2. People who are married are more disciplined in paying off loans than those who are single. Is there a connection between marital status and repaying a loan on time?\n",
    "3. People with high incomes repay loans more often than people with low or unstable incomes. Is there a connection between income level and repaying a loan on time?\n",
    "4. How do different loan purposes affect on-time loan repayment?\n",
    "\n",
    "[Back to Contents](#back)"
   ]
  },
  {
   "cell_type": "markdown",
   "metadata": {},
   "source": [
    "## Open the data file and have a look at the general information. \n"
   ]
  },
  {
   "cell_type": "code",
   "execution_count": 1,
   "metadata": {},
   "outputs": [],
   "source": [
    "# Loading all the libraries\n",
    "import pandas as pd\n",
    "import numpy as np"
   ]
  },
  {
   "cell_type": "code",
   "execution_count": 2,
   "metadata": {},
   "outputs": [],
   "source": [
    "def data_info(data):\n",
    "    print('-'*65)\n",
    "    print('\\033[1m INFO: \\033[0m ')\n",
    "    print(' ')\n",
    "    display( data.info(memory_usage='deep'))\n",
    "    print('-'*65)\n",
    "    print('\\033[1m HEAD: \\033[0m ')\n",
    "    display( data.head(5))\n",
    "    print('-'*65)\n",
    "    print('\\033[1m DESCRIBE: \\033[0m ')\n",
    "    display( data.describe())\n",
    "    print('-'*65)\n",
    "    print('\\033[1m MISSING VALUES: \\033[0m ')\n",
    "    print(' ')\n",
    "    display( data.isna().sum())\n",
    "    print('-'*65)\n",
    "    print('\\033[1m DUPLICATED: \\033[0m')\n",
    "    print('We have {} duplicated rows!'.format(data.duplicated().sum()))"
   ]
  },
  {
   "cell_type": "code",
   "execution_count": 3,
   "metadata": {},
   "outputs": [],
   "source": [
    "#creating variable for dataset path\n",
    "date_path = '/datasets/credit_scoring_eng.csv'"
   ]
  },
  {
   "cell_type": "code",
   "execution_count": 4,
   "metadata": {},
   "outputs": [],
   "source": [
    "# Load the data\n",
    "try:\n",
    "    scoring_data = pd.read_csv('credit_scoring_eng.csv')\n",
    "except:\n",
    "    scoring_data = pd.read_csv(date_path)\n"
   ]
  },
  {
   "cell_type": "markdown",
   "metadata": {},
   "source": [
    "## Stage 1. Data exploration <a id='data_exploration'></a>\n",
    "\n",
    "**Description of the data**\n",
    "- `children` - the number of children in the family\n",
    "- `days_employed` - work experience in days\n",
    "- `dob_years` - client's age in years\n",
    "- `education` - client's education\n",
    "- `education_id` - education identifier\n",
    "- `family_status` - marital status\n",
    "- `family_status_id` - marital status identifier\n",
    "- `gender` - gender of the client\n",
    "- `income_type` - type of employment\n",
    "- `debt` - was there any debt on loan repayment\n",
    "- `total_income` - monthly income\n",
    "- `purpose` - the purpose of obtaining a loan\n",
    "\n",
    "We'll want to see how many columns and rows our data has, look at a few rows to check for potential issues with the data."
   ]
  },
  {
   "cell_type": "code",
   "execution_count": 5,
   "metadata": {},
   "outputs": [
    {
     "name": "stdout",
     "output_type": "stream",
     "text": [
      "-----------------------------------------------------------------\n",
      "\u001b[1m INFO: \u001b[0m \n",
      " \n",
      "<class 'pandas.core.frame.DataFrame'>\n",
      "RangeIndex: 21525 entries, 0 to 21524\n",
      "Data columns (total 12 columns):\n",
      " #   Column            Non-Null Count  Dtype  \n",
      "---  ------            --------------  -----  \n",
      " 0   children          21525 non-null  int64  \n",
      " 1   days_employed     19351 non-null  float64\n",
      " 2   dob_years         21525 non-null  int64  \n",
      " 3   education         21525 non-null  object \n",
      " 4   education_id      21525 non-null  int64  \n",
      " 5   family_status     21525 non-null  object \n",
      " 6   family_status_id  21525 non-null  int64  \n",
      " 7   gender            21525 non-null  object \n",
      " 8   income_type       21525 non-null  object \n",
      " 9   debt              21525 non-null  int64  \n",
      " 10  total_income      19351 non-null  float64\n",
      " 11  purpose           21525 non-null  object \n",
      "dtypes: float64(2), int64(5), object(5)\n",
      "memory usage: 8.2 MB\n"
     ]
    },
    {
     "data": {
      "text/plain": [
       "None"
      ]
     },
     "metadata": {},
     "output_type": "display_data"
    },
    {
     "name": "stdout",
     "output_type": "stream",
     "text": [
      "-----------------------------------------------------------------\n",
      "\u001b[1m HEAD: \u001b[0m \n"
     ]
    },
    {
     "data": {
      "text/html": [
       "<div>\n",
       "<style scoped>\n",
       "    .dataframe tbody tr th:only-of-type {\n",
       "        vertical-align: middle;\n",
       "    }\n",
       "\n",
       "    .dataframe tbody tr th {\n",
       "        vertical-align: top;\n",
       "    }\n",
       "\n",
       "    .dataframe thead th {\n",
       "        text-align: right;\n",
       "    }\n",
       "</style>\n",
       "<table border=\"1\" class=\"dataframe\">\n",
       "  <thead>\n",
       "    <tr style=\"text-align: right;\">\n",
       "      <th></th>\n",
       "      <th>children</th>\n",
       "      <th>days_employed</th>\n",
       "      <th>dob_years</th>\n",
       "      <th>education</th>\n",
       "      <th>education_id</th>\n",
       "      <th>family_status</th>\n",
       "      <th>family_status_id</th>\n",
       "      <th>gender</th>\n",
       "      <th>income_type</th>\n",
       "      <th>debt</th>\n",
       "      <th>total_income</th>\n",
       "      <th>purpose</th>\n",
       "    </tr>\n",
       "  </thead>\n",
       "  <tbody>\n",
       "    <tr>\n",
       "      <th>0</th>\n",
       "      <td>1</td>\n",
       "      <td>-8437.673028</td>\n",
       "      <td>42</td>\n",
       "      <td>bachelor's degree</td>\n",
       "      <td>0</td>\n",
       "      <td>married</td>\n",
       "      <td>0</td>\n",
       "      <td>F</td>\n",
       "      <td>employee</td>\n",
       "      <td>0</td>\n",
       "      <td>40620.102</td>\n",
       "      <td>purchase of the house</td>\n",
       "    </tr>\n",
       "    <tr>\n",
       "      <th>1</th>\n",
       "      <td>1</td>\n",
       "      <td>-4024.803754</td>\n",
       "      <td>36</td>\n",
       "      <td>secondary education</td>\n",
       "      <td>1</td>\n",
       "      <td>married</td>\n",
       "      <td>0</td>\n",
       "      <td>F</td>\n",
       "      <td>employee</td>\n",
       "      <td>0</td>\n",
       "      <td>17932.802</td>\n",
       "      <td>car purchase</td>\n",
       "    </tr>\n",
       "    <tr>\n",
       "      <th>2</th>\n",
       "      <td>0</td>\n",
       "      <td>-5623.422610</td>\n",
       "      <td>33</td>\n",
       "      <td>Secondary Education</td>\n",
       "      <td>1</td>\n",
       "      <td>married</td>\n",
       "      <td>0</td>\n",
       "      <td>M</td>\n",
       "      <td>employee</td>\n",
       "      <td>0</td>\n",
       "      <td>23341.752</td>\n",
       "      <td>purchase of the house</td>\n",
       "    </tr>\n",
       "    <tr>\n",
       "      <th>3</th>\n",
       "      <td>3</td>\n",
       "      <td>-4124.747207</td>\n",
       "      <td>32</td>\n",
       "      <td>secondary education</td>\n",
       "      <td>1</td>\n",
       "      <td>married</td>\n",
       "      <td>0</td>\n",
       "      <td>M</td>\n",
       "      <td>employee</td>\n",
       "      <td>0</td>\n",
       "      <td>42820.568</td>\n",
       "      <td>supplementary education</td>\n",
       "    </tr>\n",
       "    <tr>\n",
       "      <th>4</th>\n",
       "      <td>0</td>\n",
       "      <td>340266.072047</td>\n",
       "      <td>53</td>\n",
       "      <td>secondary education</td>\n",
       "      <td>1</td>\n",
       "      <td>civil partnership</td>\n",
       "      <td>1</td>\n",
       "      <td>F</td>\n",
       "      <td>retiree</td>\n",
       "      <td>0</td>\n",
       "      <td>25378.572</td>\n",
       "      <td>to have a wedding</td>\n",
       "    </tr>\n",
       "  </tbody>\n",
       "</table>\n",
       "</div>"
      ],
      "text/plain": [
       "   children  days_employed  dob_years            education  education_id  \\\n",
       "0         1   -8437.673028         42    bachelor's degree             0   \n",
       "1         1   -4024.803754         36  secondary education             1   \n",
       "2         0   -5623.422610         33  Secondary Education             1   \n",
       "3         3   -4124.747207         32  secondary education             1   \n",
       "4         0  340266.072047         53  secondary education             1   \n",
       "\n",
       "       family_status  family_status_id gender income_type  debt  total_income  \\\n",
       "0            married                 0      F    employee     0     40620.102   \n",
       "1            married                 0      F    employee     0     17932.802   \n",
       "2            married                 0      M    employee     0     23341.752   \n",
       "3            married                 0      M    employee     0     42820.568   \n",
       "4  civil partnership                 1      F     retiree     0     25378.572   \n",
       "\n",
       "                   purpose  \n",
       "0    purchase of the house  \n",
       "1             car purchase  \n",
       "2    purchase of the house  \n",
       "3  supplementary education  \n",
       "4        to have a wedding  "
      ]
     },
     "metadata": {},
     "output_type": "display_data"
    },
    {
     "name": "stdout",
     "output_type": "stream",
     "text": [
      "-----------------------------------------------------------------\n",
      "\u001b[1m DESCRIBE: \u001b[0m \n"
     ]
    },
    {
     "data": {
      "text/html": [
       "<div>\n",
       "<style scoped>\n",
       "    .dataframe tbody tr th:only-of-type {\n",
       "        vertical-align: middle;\n",
       "    }\n",
       "\n",
       "    .dataframe tbody tr th {\n",
       "        vertical-align: top;\n",
       "    }\n",
       "\n",
       "    .dataframe thead th {\n",
       "        text-align: right;\n",
       "    }\n",
       "</style>\n",
       "<table border=\"1\" class=\"dataframe\">\n",
       "  <thead>\n",
       "    <tr style=\"text-align: right;\">\n",
       "      <th></th>\n",
       "      <th>children</th>\n",
       "      <th>days_employed</th>\n",
       "      <th>dob_years</th>\n",
       "      <th>education_id</th>\n",
       "      <th>family_status_id</th>\n",
       "      <th>debt</th>\n",
       "      <th>total_income</th>\n",
       "    </tr>\n",
       "  </thead>\n",
       "  <tbody>\n",
       "    <tr>\n",
       "      <th>count</th>\n",
       "      <td>21525.000000</td>\n",
       "      <td>19351.000000</td>\n",
       "      <td>21525.000000</td>\n",
       "      <td>21525.000000</td>\n",
       "      <td>21525.000000</td>\n",
       "      <td>21525.000000</td>\n",
       "      <td>19351.000000</td>\n",
       "    </tr>\n",
       "    <tr>\n",
       "      <th>mean</th>\n",
       "      <td>0.538908</td>\n",
       "      <td>63046.497661</td>\n",
       "      <td>43.293380</td>\n",
       "      <td>0.817236</td>\n",
       "      <td>0.972544</td>\n",
       "      <td>0.080883</td>\n",
       "      <td>26787.568355</td>\n",
       "    </tr>\n",
       "    <tr>\n",
       "      <th>std</th>\n",
       "      <td>1.381587</td>\n",
       "      <td>140827.311974</td>\n",
       "      <td>12.574584</td>\n",
       "      <td>0.548138</td>\n",
       "      <td>1.420324</td>\n",
       "      <td>0.272661</td>\n",
       "      <td>16475.450632</td>\n",
       "    </tr>\n",
       "    <tr>\n",
       "      <th>min</th>\n",
       "      <td>-1.000000</td>\n",
       "      <td>-18388.949901</td>\n",
       "      <td>0.000000</td>\n",
       "      <td>0.000000</td>\n",
       "      <td>0.000000</td>\n",
       "      <td>0.000000</td>\n",
       "      <td>3306.762000</td>\n",
       "    </tr>\n",
       "    <tr>\n",
       "      <th>25%</th>\n",
       "      <td>0.000000</td>\n",
       "      <td>-2747.423625</td>\n",
       "      <td>33.000000</td>\n",
       "      <td>1.000000</td>\n",
       "      <td>0.000000</td>\n",
       "      <td>0.000000</td>\n",
       "      <td>16488.504500</td>\n",
       "    </tr>\n",
       "    <tr>\n",
       "      <th>50%</th>\n",
       "      <td>0.000000</td>\n",
       "      <td>-1203.369529</td>\n",
       "      <td>42.000000</td>\n",
       "      <td>1.000000</td>\n",
       "      <td>0.000000</td>\n",
       "      <td>0.000000</td>\n",
       "      <td>23202.870000</td>\n",
       "    </tr>\n",
       "    <tr>\n",
       "      <th>75%</th>\n",
       "      <td>1.000000</td>\n",
       "      <td>-291.095954</td>\n",
       "      <td>53.000000</td>\n",
       "      <td>1.000000</td>\n",
       "      <td>1.000000</td>\n",
       "      <td>0.000000</td>\n",
       "      <td>32549.611000</td>\n",
       "    </tr>\n",
       "    <tr>\n",
       "      <th>max</th>\n",
       "      <td>20.000000</td>\n",
       "      <td>401755.400475</td>\n",
       "      <td>75.000000</td>\n",
       "      <td>4.000000</td>\n",
       "      <td>4.000000</td>\n",
       "      <td>1.000000</td>\n",
       "      <td>362496.645000</td>\n",
       "    </tr>\n",
       "  </tbody>\n",
       "</table>\n",
       "</div>"
      ],
      "text/plain": [
       "           children  days_employed     dob_years  education_id  \\\n",
       "count  21525.000000   19351.000000  21525.000000  21525.000000   \n",
       "mean       0.538908   63046.497661     43.293380      0.817236   \n",
       "std        1.381587  140827.311974     12.574584      0.548138   \n",
       "min       -1.000000  -18388.949901      0.000000      0.000000   \n",
       "25%        0.000000   -2747.423625     33.000000      1.000000   \n",
       "50%        0.000000   -1203.369529     42.000000      1.000000   \n",
       "75%        1.000000    -291.095954     53.000000      1.000000   \n",
       "max       20.000000  401755.400475     75.000000      4.000000   \n",
       "\n",
       "       family_status_id          debt   total_income  \n",
       "count      21525.000000  21525.000000   19351.000000  \n",
       "mean           0.972544      0.080883   26787.568355  \n",
       "std            1.420324      0.272661   16475.450632  \n",
       "min            0.000000      0.000000    3306.762000  \n",
       "25%            0.000000      0.000000   16488.504500  \n",
       "50%            0.000000      0.000000   23202.870000  \n",
       "75%            1.000000      0.000000   32549.611000  \n",
       "max            4.000000      1.000000  362496.645000  "
      ]
     },
     "metadata": {},
     "output_type": "display_data"
    },
    {
     "name": "stdout",
     "output_type": "stream",
     "text": [
      "-----------------------------------------------------------------\n",
      "\u001b[1m MISSING VALUES: \u001b[0m \n",
      " \n"
     ]
    },
    {
     "data": {
      "text/plain": [
       "children               0\n",
       "days_employed       2174\n",
       "dob_years              0\n",
       "education              0\n",
       "education_id           0\n",
       "family_status          0\n",
       "family_status_id       0\n",
       "gender                 0\n",
       "income_type            0\n",
       "debt                   0\n",
       "total_income        2174\n",
       "purpose                0\n",
       "dtype: int64"
      ]
     },
     "metadata": {},
     "output_type": "display_data"
    },
    {
     "name": "stdout",
     "output_type": "stream",
     "text": [
      "-----------------------------------------------------------------\n",
      "\u001b[1m DUPLICATED: \u001b[0m\n",
      "We have 54 duplicated rows!\n"
     ]
    }
   ],
   "source": [
    "data_info(scoring_data)"
   ]
  },
  {
   "cell_type": "markdown",
   "metadata": {},
   "source": [
    "**Conclusion.** <a id='data_review_conclusions'></a>\n",
    "\n",
    "- Our data has 21525 rows and 12 columns total. \n",
    "- Presented data in columns - 5 numeric and 7 objects type. \n",
    "- We less non-null values in the columns - `days_employed` and `total_income`, with values 19351. \n",
    "- 2174 missing values. \n",
    "- There are 54 duplicate values in all data.\n",
    "\n",
    "**Next step.** \n",
    "We need to print out a few rows of our data to see how the data is presented and what problems there might be."
   ]
  },
  {
   "cell_type": "code",
   "execution_count": 6,
   "metadata": {
    "scrolled": false
   },
   "outputs": [
    {
     "data": {
      "text/html": [
       "<div>\n",
       "<style scoped>\n",
       "    .dataframe tbody tr th:only-of-type {\n",
       "        vertical-align: middle;\n",
       "    }\n",
       "\n",
       "    .dataframe tbody tr th {\n",
       "        vertical-align: top;\n",
       "    }\n",
       "\n",
       "    .dataframe thead th {\n",
       "        text-align: right;\n",
       "    }\n",
       "</style>\n",
       "<table border=\"1\" class=\"dataframe\">\n",
       "  <thead>\n",
       "    <tr style=\"text-align: right;\">\n",
       "      <th></th>\n",
       "      <th>children</th>\n",
       "      <th>days_employed</th>\n",
       "      <th>dob_years</th>\n",
       "      <th>education</th>\n",
       "      <th>education_id</th>\n",
       "      <th>family_status</th>\n",
       "      <th>family_status_id</th>\n",
       "      <th>gender</th>\n",
       "      <th>income_type</th>\n",
       "      <th>debt</th>\n",
       "      <th>total_income</th>\n",
       "      <th>purpose</th>\n",
       "    </tr>\n",
       "  </thead>\n",
       "  <tbody>\n",
       "    <tr>\n",
       "      <th>0</th>\n",
       "      <td>1</td>\n",
       "      <td>-8437.673028</td>\n",
       "      <td>42</td>\n",
       "      <td>bachelor's degree</td>\n",
       "      <td>0</td>\n",
       "      <td>married</td>\n",
       "      <td>0</td>\n",
       "      <td>F</td>\n",
       "      <td>employee</td>\n",
       "      <td>0</td>\n",
       "      <td>40620.102</td>\n",
       "      <td>purchase of the house</td>\n",
       "    </tr>\n",
       "    <tr>\n",
       "      <th>1</th>\n",
       "      <td>1</td>\n",
       "      <td>-4024.803754</td>\n",
       "      <td>36</td>\n",
       "      <td>secondary education</td>\n",
       "      <td>1</td>\n",
       "      <td>married</td>\n",
       "      <td>0</td>\n",
       "      <td>F</td>\n",
       "      <td>employee</td>\n",
       "      <td>0</td>\n",
       "      <td>17932.802</td>\n",
       "      <td>car purchase</td>\n",
       "    </tr>\n",
       "    <tr>\n",
       "      <th>2</th>\n",
       "      <td>0</td>\n",
       "      <td>-5623.422610</td>\n",
       "      <td>33</td>\n",
       "      <td>Secondary Education</td>\n",
       "      <td>1</td>\n",
       "      <td>married</td>\n",
       "      <td>0</td>\n",
       "      <td>M</td>\n",
       "      <td>employee</td>\n",
       "      <td>0</td>\n",
       "      <td>23341.752</td>\n",
       "      <td>purchase of the house</td>\n",
       "    </tr>\n",
       "    <tr>\n",
       "      <th>3</th>\n",
       "      <td>3</td>\n",
       "      <td>-4124.747207</td>\n",
       "      <td>32</td>\n",
       "      <td>secondary education</td>\n",
       "      <td>1</td>\n",
       "      <td>married</td>\n",
       "      <td>0</td>\n",
       "      <td>M</td>\n",
       "      <td>employee</td>\n",
       "      <td>0</td>\n",
       "      <td>42820.568</td>\n",
       "      <td>supplementary education</td>\n",
       "    </tr>\n",
       "    <tr>\n",
       "      <th>4</th>\n",
       "      <td>0</td>\n",
       "      <td>340266.072047</td>\n",
       "      <td>53</td>\n",
       "      <td>secondary education</td>\n",
       "      <td>1</td>\n",
       "      <td>civil partnership</td>\n",
       "      <td>1</td>\n",
       "      <td>F</td>\n",
       "      <td>retiree</td>\n",
       "      <td>0</td>\n",
       "      <td>25378.572</td>\n",
       "      <td>to have a wedding</td>\n",
       "    </tr>\n",
       "  </tbody>\n",
       "</table>\n",
       "</div>"
      ],
      "text/plain": [
       "   children  days_employed  dob_years            education  education_id  \\\n",
       "0         1   -8437.673028         42    bachelor's degree             0   \n",
       "1         1   -4024.803754         36  secondary education             1   \n",
       "2         0   -5623.422610         33  Secondary Education             1   \n",
       "3         3   -4124.747207         32  secondary education             1   \n",
       "4         0  340266.072047         53  secondary education             1   \n",
       "\n",
       "       family_status  family_status_id gender income_type  debt  total_income  \\\n",
       "0            married                 0      F    employee     0     40620.102   \n",
       "1            married                 0      F    employee     0     17932.802   \n",
       "2            married                 0      M    employee     0     23341.752   \n",
       "3            married                 0      M    employee     0     42820.568   \n",
       "4  civil partnership                 1      F     retiree     0     25378.572   \n",
       "\n",
       "                   purpose  \n",
       "0    purchase of the house  \n",
       "1             car purchase  \n",
       "2    purchase of the house  \n",
       "3  supplementary education  \n",
       "4        to have a wedding  "
      ]
     },
     "execution_count": 6,
     "metadata": {},
     "output_type": "execute_result"
    }
   ],
   "source": [
    "# let's print the first N rows\n",
    "\n",
    "scoring_data.head(5)"
   ]
  },
  {
   "cell_type": "markdown",
   "metadata": {},
   "source": [
    "\n",
    "**We have some problems with data:**\n",
    "1. Negative values in a column `days_employed`\n",
    "2. Some names are uppercase, some are lowercase in column `education`.\n",
    "3. Some  columns have a  missing values.\n",
    "4. Random string inputted by user in `purpose`. This needs to be categorized.\n"
   ]
  },
  {
   "cell_type": "code",
   "execution_count": 7,
   "metadata": {
    "scrolled": false
   },
   "outputs": [
    {
     "data": {
      "text/html": [
       "<div>\n",
       "<style scoped>\n",
       "    .dataframe tbody tr th:only-of-type {\n",
       "        vertical-align: middle;\n",
       "    }\n",
       "\n",
       "    .dataframe tbody tr th {\n",
       "        vertical-align: top;\n",
       "    }\n",
       "\n",
       "    .dataframe thead th {\n",
       "        text-align: right;\n",
       "    }\n",
       "</style>\n",
       "<table border=\"1\" class=\"dataframe\">\n",
       "  <thead>\n",
       "    <tr style=\"text-align: right;\">\n",
       "      <th></th>\n",
       "      <th>children</th>\n",
       "      <th>days_employed</th>\n",
       "      <th>dob_years</th>\n",
       "      <th>education_id</th>\n",
       "      <th>family_status_id</th>\n",
       "      <th>debt</th>\n",
       "      <th>total_income</th>\n",
       "    </tr>\n",
       "  </thead>\n",
       "  <tbody>\n",
       "    <tr>\n",
       "      <th>count</th>\n",
       "      <td>21525.000000</td>\n",
       "      <td>19351.000000</td>\n",
       "      <td>21525.000000</td>\n",
       "      <td>21525.000000</td>\n",
       "      <td>21525.000000</td>\n",
       "      <td>21525.000000</td>\n",
       "      <td>19351.000000</td>\n",
       "    </tr>\n",
       "    <tr>\n",
       "      <th>mean</th>\n",
       "      <td>0.538908</td>\n",
       "      <td>63046.497661</td>\n",
       "      <td>43.293380</td>\n",
       "      <td>0.817236</td>\n",
       "      <td>0.972544</td>\n",
       "      <td>0.080883</td>\n",
       "      <td>26787.568355</td>\n",
       "    </tr>\n",
       "    <tr>\n",
       "      <th>std</th>\n",
       "      <td>1.381587</td>\n",
       "      <td>140827.311974</td>\n",
       "      <td>12.574584</td>\n",
       "      <td>0.548138</td>\n",
       "      <td>1.420324</td>\n",
       "      <td>0.272661</td>\n",
       "      <td>16475.450632</td>\n",
       "    </tr>\n",
       "    <tr>\n",
       "      <th>min</th>\n",
       "      <td>-1.000000</td>\n",
       "      <td>-18388.949901</td>\n",
       "      <td>0.000000</td>\n",
       "      <td>0.000000</td>\n",
       "      <td>0.000000</td>\n",
       "      <td>0.000000</td>\n",
       "      <td>3306.762000</td>\n",
       "    </tr>\n",
       "    <tr>\n",
       "      <th>25%</th>\n",
       "      <td>0.000000</td>\n",
       "      <td>-2747.423625</td>\n",
       "      <td>33.000000</td>\n",
       "      <td>1.000000</td>\n",
       "      <td>0.000000</td>\n",
       "      <td>0.000000</td>\n",
       "      <td>16488.504500</td>\n",
       "    </tr>\n",
       "    <tr>\n",
       "      <th>50%</th>\n",
       "      <td>0.000000</td>\n",
       "      <td>-1203.369529</td>\n",
       "      <td>42.000000</td>\n",
       "      <td>1.000000</td>\n",
       "      <td>0.000000</td>\n",
       "      <td>0.000000</td>\n",
       "      <td>23202.870000</td>\n",
       "    </tr>\n",
       "    <tr>\n",
       "      <th>75%</th>\n",
       "      <td>1.000000</td>\n",
       "      <td>-291.095954</td>\n",
       "      <td>53.000000</td>\n",
       "      <td>1.000000</td>\n",
       "      <td>1.000000</td>\n",
       "      <td>0.000000</td>\n",
       "      <td>32549.611000</td>\n",
       "    </tr>\n",
       "    <tr>\n",
       "      <th>max</th>\n",
       "      <td>20.000000</td>\n",
       "      <td>401755.400475</td>\n",
       "      <td>75.000000</td>\n",
       "      <td>4.000000</td>\n",
       "      <td>4.000000</td>\n",
       "      <td>1.000000</td>\n",
       "      <td>362496.645000</td>\n",
       "    </tr>\n",
       "  </tbody>\n",
       "</table>\n",
       "</div>"
      ],
      "text/plain": [
       "           children  days_employed     dob_years  education_id  \\\n",
       "count  21525.000000   19351.000000  21525.000000  21525.000000   \n",
       "mean       0.538908   63046.497661     43.293380      0.817236   \n",
       "std        1.381587  140827.311974     12.574584      0.548138   \n",
       "min       -1.000000  -18388.949901      0.000000      0.000000   \n",
       "25%        0.000000   -2747.423625     33.000000      1.000000   \n",
       "50%        0.000000   -1203.369529     42.000000      1.000000   \n",
       "75%        1.000000    -291.095954     53.000000      1.000000   \n",
       "max       20.000000  401755.400475     75.000000      4.000000   \n",
       "\n",
       "       family_status_id          debt   total_income  \n",
       "count      21525.000000  21525.000000   19351.000000  \n",
       "mean           0.972544      0.080883   26787.568355  \n",
       "std            1.420324      0.272661   16475.450632  \n",
       "min            0.000000      0.000000    3306.762000  \n",
       "25%            0.000000      0.000000   16488.504500  \n",
       "50%            0.000000      0.000000   23202.870000  \n",
       "75%            1.000000      0.000000   32549.611000  \n",
       "max            4.000000      1.000000  362496.645000  "
      ]
     },
     "execution_count": 7,
     "metadata": {},
     "output_type": "execute_result"
    }
   ],
   "source": [
    "# Get info on data\n",
    "scoring_data.describe()"
   ]
  },
  {
   "cell_type": "markdown",
   "metadata": {},
   "source": [
    "According to the table, we see several problems:\n",
    "\n",
    "- in the `children` column we have the value -1 and 20 children. We need to check how much data with these values ​​and understand whether they affect our result and whether they can be replaced or removed from the analysis.\n",
    "- in the `dob_years` age column - there is data with a value of 0 years and we need to check how much data with these values\n",
    "- `days_employed` has negative values.\n",
    "- also we have missing data in two columns `days_employed` and `total_income`\n",
    "\n",
    "We see in `info()` that two columns - `days_employed` and `total_income`, have the same value and are less than the total number of rows in the table.\n",
    "It can be assumed that those who do not have a `total_income` not complete the column with `days_employed`, or vice versa."
   ]
  },
  {
   "cell_type": "code",
   "execution_count": 8,
   "metadata": {
    "scrolled": true
   },
   "outputs": [
    {
     "data": {
      "text/plain": [
       "children               0\n",
       "days_employed       2174\n",
       "dob_years              0\n",
       "education              0\n",
       "education_id           0\n",
       "family_status          0\n",
       "family_status_id       0\n",
       "gender                 0\n",
       "income_type            0\n",
       "debt                   0\n",
       "total_income        2174\n",
       "purpose                0\n",
       "dtype: int64"
      ]
     },
     "execution_count": 8,
     "metadata": {},
     "output_type": "execute_result"
    }
   ],
   "source": [
    "# Let's look in the filtered table at the the first column with missing data\n",
    "\n",
    "scoring_data.isna().sum()"
   ]
  },
  {
   "cell_type": "markdown",
   "metadata": {},
   "source": [
    "The same number of missing values ​​in two columns gives us the possibility to assume that the data is missing symmetrically. In order to test the guess, we must collect a sample with the condition that both columns do not have a value at the same time and compare this number with a sample of lost values ​​across all data."
   ]
  },
  {
   "cell_type": "code",
   "execution_count": 9,
   "metadata": {},
   "outputs": [
    {
     "name": "stdout",
     "output_type": "stream",
     "text": [
      "2174\n"
     ]
    }
   ],
   "source": [
    "# Let's apply multiple conditions for filtering data and look at the number of rows in the filtered table.\n",
    "\n",
    "missing_values = scoring_data[(scoring_data['days_employed'].isnull()) & (scoring_data['total_income'].isnull())]\n",
    "print(len(missing_values))"
   ]
  },
  {
   "cell_type": "markdown",
   "metadata": {},
   "source": [
    "**Intermediate conclusion**\n",
    "\n",
    "We checked that the number of rows with missing data in two columns at the same time is equal to the total number of missing data. From which we conclude that these are the same rows and we can consider them together to understand the reason why the data is missing.\n",
    "\n",
    "Let's calculate the percentage of missing data relative to the whole data to decide whether the removal of this data will affect the results."
   ]
  },
  {
   "cell_type": "code",
   "execution_count": 10,
   "metadata": {},
   "outputs": [
    {
     "name": "stdout",
     "output_type": "stream",
     "text": [
      "The percentage of the missing values compared to the whole dataset: 10.1%\n"
     ]
    }
   ],
   "source": [
    "# Let's calculate the percentage of missing data \n",
    "\n",
    "missing_values_per = len(missing_values) / len(scoring_data)\n",
    "print(f'The percentage of the missing values compared to the whole dataset: {missing_values_per:.01%}')\n"
   ]
  },
  {
   "cell_type": "markdown",
   "metadata": {},
   "source": [
    "**Intermediate conclusion**\n",
    "\n",
    "Since missing values make up about 10% of all data, we cannot delete them. Removing data will affect our analysis. Therefore, we will need to consider these columns separately and fix them at the preprocessing stage."
   ]
  },
  {
   "cell_type": "markdown",
   "metadata": {},
   "source": [
    "## Stage 2. Data preprocessing <a id='data_preprocessing'></a>\n",
    "\n",
    "Let's go through each column to see what problems we might have with them.\n",
    "\n",
    "We start with the `education` column, that we know this column has values in differents case. Check how many values it has, and then correct the case and see how many education options there are in the data."
   ]
  },
  {
   "cell_type": "markdown",
   "metadata": {},
   "source": [
    "### Header style <a id='header_style'></a>"
   ]
  },
  {
   "cell_type": "code",
   "execution_count": 11,
   "metadata": {},
   "outputs": [
    {
     "data": {
      "text/plain": [
       "array([\"bachelor's degree\", 'secondary education', 'Secondary Education',\n",
       "       'SECONDARY EDUCATION', \"BACHELOR'S DEGREE\", 'some college',\n",
       "       'primary education', \"Bachelor's Degree\", 'SOME COLLEGE',\n",
       "       'Some College', 'PRIMARY EDUCATION', 'Primary Education',\n",
       "       'Graduate Degree', 'GRADUATE DEGREE', 'graduate degree'],\n",
       "      dtype=object)"
      ]
     },
     "execution_count": 11,
     "metadata": {},
     "output_type": "execute_result"
    }
   ],
   "source": [
    "# Let's see all values in education column to check if and what spellings will need to be fixed\n",
    "\n",
    "scoring_data['education'].unique()"
   ]
  },
  {
   "cell_type": "code",
   "execution_count": 12,
   "metadata": {
    "scrolled": true
   },
   "outputs": [
    {
     "data": {
      "text/plain": [
       "secondary education    15233\n",
       "bachelor's degree       5260\n",
       "some college             744\n",
       "primary education        282\n",
       "graduate degree            6\n",
       "Name: education, dtype: int64"
      ]
     },
     "execution_count": 12,
     "metadata": {},
     "output_type": "execute_result"
    }
   ],
   "source": [
    "# Fix the registers\n",
    "scoring_data['education'] = scoring_data['education'].str.lower()\n",
    "\n",
    "# Checking all the values in the column to make sure we fixed them\n",
    "scoring_data['education'].value_counts()"
   ]
  },
  {
   "cell_type": "markdown",
   "metadata": {},
   "source": [
    "We can see that the case change solved our problem and now the education column looks good. The column has 6 types of values.\n",
    "\n",
    "Now we need to see what we have in the `children` column."
   ]
  },
  {
   "cell_type": "code",
   "execution_count": 13,
   "metadata": {},
   "outputs": [
    {
     "data": {
      "text/plain": [
       "children\n",
       "-1        47\n",
       " 0     14149\n",
       " 1      4818\n",
       " 2      2055\n",
       " 3       330\n",
       " 4        41\n",
       " 5         9\n",
       " 20       76\n",
       "dtype: int64"
      ]
     },
     "execution_count": 13,
     "metadata": {},
     "output_type": "execute_result"
    }
   ],
   "source": [
    "# Let's see the distribution of values in the `children` column\n",
    "scoring_data.groupby('children').size()"
   ]
  },
  {
   "cell_type": "markdown",
   "metadata": {},
   "source": [
    "We have in the `children` column the value **-1** and **20** children. This data seems problematic in future.\n",
    "We can assume that this is a human error when filling in the data and suggest replacing **1** for **-1** and **2** for **20**. Since the percentage of data is 0.57% or 123 rows in the total data so it won't affect our analysis and we can replace them for further convenience."
   ]
  },
  {
   "cell_type": "code",
   "execution_count": 14,
   "metadata": {},
   "outputs": [
    {
     "data": {
      "text/plain": [
       "0    14149\n",
       "1     4865\n",
       "2     2131\n",
       "3      330\n",
       "4       41\n",
       "5        9\n",
       "Name: children, dtype: int64"
      ]
     },
     "execution_count": 14,
     "metadata": {},
     "output_type": "execute_result"
    }
   ],
   "source": [
    "# [fix the data based on your decision]\n",
    "scoring_data['children'] = scoring_data['children'].replace(-1,1)\n",
    "scoring_data['children'] = scoring_data['children'].replace(20,2)\n",
    "\n",
    "# Checking the `children` column again to make sure it's all fixed\n",
    "scoring_data['children'].value_counts()"
   ]
  },
  {
   "cell_type": "markdown",
   "metadata": {},
   "source": [
    "Now we see that the data in `children` column is corrected and looks ready for further work.\n",
    "\n",
    "\n",
    "Move on to the column `days_employed`.\n",
    "Let's try to figure out how much data is negative, equal to null or normal.\n",
    "Let's convert the data from the float type to integer and fill in the missing values with 0."
   ]
  },
  {
   "cell_type": "code",
   "execution_count": 15,
   "metadata": {},
   "outputs": [
    {
     "name": "stdout",
     "output_type": "stream",
     "text": [
      "The percentage of the problematic data in \"days_employed\" compared to the whole dataset: \n",
      " negative values = 73.9% \n",
      " null values = 10.1% \n",
      " normal values = 16.0%\n"
     ]
    }
   ],
   "source": [
    "# Find problematic data in `days_employed`, if they exist, and calculate the percentage\n",
    "\n",
    "scoring_data['days_employed_upd'] = scoring_data['days_employed'].fillna(0)\n",
    "\n",
    "null_emp  = scoring_data[scoring_data['days_employed_upd'] == 0]['days_employed_upd'].count()\n",
    "normal_emp = scoring_data[scoring_data['days_employed_upd'] > 0]['days_employed_upd'].count()\n",
    "negative_emp = scoring_data[scoring_data['days_employed_upd'] < 0]['days_employed_upd'].count()\n",
    "\n",
    "print(f'The percentage of the problematic data in \"days_employed\" compared to the whole dataset: \\n negative values = {negative_emp/len(scoring_data):.1%} \\n null values = {null_emp/len(scoring_data):.1%} \\n normal values = {normal_emp/len(scoring_data):.01%}')\n"
   ]
  },
  {
   "cell_type": "markdown",
   "metadata": {},
   "source": [
    "The data looks like a padding error or some kind of data problem. In real life, we should contact the person who filled the data to get more detailed information about this column.\n",
    "Now, in the absence of such a possibility, we will assume that this is an input error, and the data in this column cannot be negative float values. We'll just make all values absolute integers for further work."
   ]
  },
  {
   "cell_type": "code",
   "execution_count": 16,
   "metadata": {},
   "outputs": [
    {
     "data": {
      "text/plain": [
       "count     21525.000000\n",
       "mean      60155.970128\n",
       "std      133355.906156\n",
       "min           0.000000\n",
       "25%         610.000000\n",
       "50%        1808.000000\n",
       "75%        4779.000000\n",
       "max      401755.000000\n",
       "Name: days_employed_upd, dtype: float64"
      ]
     },
     "execution_count": 16,
     "metadata": {},
     "output_type": "execute_result"
    }
   ],
   "source": [
    "# Make data integer and absolute values\n",
    "scoring_data['days_employed_upd'] = scoring_data['days_employed_upd'].astype(np.int64).abs()\n",
    "\n",
    "# Check the result - make sure it's fixed\n",
    "scoring_data['days_employed_upd'].describe()"
   ]
  },
  {
   "cell_type": "markdown",
   "metadata": {},
   "source": [
    "After reviewing the data in the `dob_years` age column. The problem with the data in which the age is equal to 0 is immediately visible.\n",
    "Let's check the percentage of this data relative to all data."
   ]
  },
  {
   "cell_type": "code",
   "execution_count": 17,
   "metadata": {
    "scrolled": true
   },
   "outputs": [
    {
     "name": "stdout",
     "output_type": "stream",
     "text": [
      "The percentage of the values in column \"dob_year\" equal null compared to the whole dataset: 0.5%\n"
     ]
    }
   ],
   "source": [
    "# Check the `dob_years` for suspicious values and count the percentage\n",
    "# print(scoring_data['dob_years'].value_counts())\n",
    "\n",
    "null_years_old = scoring_data[scoring_data['dob_years'] == 0]['dob_years'].count()\n",
    "print(f'The percentage of the values in column \"dob_year\" equal null compared to the whole dataset: {null_years_old/len(scoring_data):.1%}')\n"
   ]
  },
  {
   "cell_type": "markdown",
   "metadata": {},
   "source": [
    "Since the number of rows in which age zero is indicated is insignificant (0.5%) and does not affect the overall analysis, for more convenient work we can replace all zero values with the median value of the column. The median value is 42 years."
   ]
  },
  {
   "cell_type": "code",
   "execution_count": 18,
   "metadata": {},
   "outputs": [
    {
     "data": {
      "text/plain": [
       "count    21525.000000\n",
       "mean        43.490453\n",
       "std         12.218595\n",
       "min         19.000000\n",
       "25%         34.000000\n",
       "50%         42.000000\n",
       "75%         53.000000\n",
       "max         75.000000\n",
       "Name: dob_years, dtype: float64"
      ]
     },
     "execution_count": 18,
     "metadata": {},
     "output_type": "execute_result"
    }
   ],
   "source": [
    "# Replace all zero values with the median value\n",
    "age_avg = int(scoring_data['dob_years'].median())\n",
    "scoring_data['dob_years'] = scoring_data['dob_years'].replace(0,age_avg)\n",
    "\n",
    "# Check the result - make sure it's fixed\n",
    "scoring_data['dob_years'].describe()"
   ]
  },
  {
   "cell_type": "markdown",
   "metadata": {},
   "source": [
    "Now let's check the `family_status` column. See what kind of values there are and what problems you may need to address."
   ]
  },
  {
   "cell_type": "code",
   "execution_count": 19,
   "metadata": {},
   "outputs": [
    {
     "name": "stdout",
     "output_type": "stream",
     "text": [
      "count       21525\n",
      "unique          5\n",
      "top       married\n",
      "freq        12380\n",
      "Name: family_status, dtype: object\n",
      "----------------\n",
      "married              12380\n",
      "civil partnership     4177\n",
      "unmarried             2813\n",
      "divorced              1195\n",
      "widow / widower        960\n",
      "Name: family_status, dtype: int64\n"
     ]
    }
   ],
   "source": [
    "# Let's see the values for the column\n",
    "\n",
    "print(scoring_data['family_status'].describe())\n",
    "print('----------------')\n",
    "print(scoring_data['family_status'].value_counts())"
   ]
  },
  {
   "cell_type": "markdown",
   "metadata": {},
   "source": [
    "According to the data check from the \"family_status\" column - everything is in order there and does not require any changes.\n",
    "\n",
    "Now let's check the gender column. See what kind of values there are and what problems you may need to address."
   ]
  },
  {
   "cell_type": "code",
   "execution_count": 20,
   "metadata": {},
   "outputs": [
    {
     "name": "stdout",
     "output_type": "stream",
     "text": [
      "['F' 'M' 'XNA']\n",
      "----------------\n",
      "F      14236\n",
      "M       7288\n",
      "XNA        1\n",
      "Name: gender, dtype: int64\n"
     ]
    }
   ],
   "source": [
    "# Let's see the values in the column\n",
    "print(scoring_data['gender'].unique())\n",
    "print('----------------')\n",
    "print(scoring_data['gender'].value_counts())"
   ]
  },
  {
   "cell_type": "markdown",
   "metadata": {},
   "source": [
    "We see only one line with the wrong **\"XNA\"** value. Since we see from the data that the number of female data prevails almost twice, it is logical to replace the data in this line to **\"F\"**"
   ]
  },
  {
   "cell_type": "code",
   "execution_count": 21,
   "metadata": {},
   "outputs": [
    {
     "data": {
      "text/plain": [
       "F    14237\n",
       "M     7288\n",
       "Name: gender, dtype: int64"
      ]
     },
     "execution_count": 21,
     "metadata": {},
     "output_type": "execute_result"
    }
   ],
   "source": [
    "# Replace value in one row\n",
    "scoring_data['gender'] = scoring_data['gender'].replace('XNA','F')\n",
    "\n",
    "# Check the result - make sure it's fixed\n",
    "scoring_data['gender'].value_counts()"
   ]
  },
  {
   "cell_type": "markdown",
   "metadata": {},
   "source": [
    "Now let's check the `income_type` column. See what kind of values there are and what problems you may need to address."
   ]
  },
  {
   "cell_type": "code",
   "execution_count": 22,
   "metadata": {},
   "outputs": [
    {
     "name": "stdout",
     "output_type": "stream",
     "text": [
      "['employee' 'retiree' 'business' 'civil servant' 'unemployed'\n",
      " 'entrepreneur' 'student' 'paternity / maternity leave']\n",
      "----------------\n",
      "employee                       11119\n",
      "business                        5085\n",
      "retiree                         3856\n",
      "civil servant                   1459\n",
      "unemployed                         2\n",
      "entrepreneur                       2\n",
      "student                            1\n",
      "paternity / maternity leave        1\n",
      "Name: income_type, dtype: int64\n"
     ]
    }
   ],
   "source": [
    "# Let's see the values in the column\n",
    "print(scoring_data['income_type'].unique())\n",
    "print('----------------')\n",
    "print(scoring_data['income_type'].value_counts())"
   ]
  },
  {
   "cell_type": "markdown",
   "metadata": {},
   "source": [
    "In general, everything is fine with the data and only 4 rows we can simplify and add them to the existing ones, we will transfer \"entrepreneur\" to \"business\" and \"student & paternity / maternity leave \" to \"unemployed\"."
   ]
  },
  {
   "cell_type": "code",
   "execution_count": 23,
   "metadata": {},
   "outputs": [
    {
     "name": "stdout",
     "output_type": "stream",
     "text": [
      "employee         11119\n",
      "business          5087\n",
      "retiree           3856\n",
      "civil servant     1459\n",
      "unemployed           4\n",
      "Name: income_type, dtype: int64\n"
     ]
    }
   ],
   "source": [
    "# Address the problematic values, if they exist\n",
    "scoring_data['income_type'] = scoring_data['income_type'].replace('entrepreneur','business')\n",
    "scoring_data['income_type'] = scoring_data['income_type'].replace({'student', 'paternity / maternity leave' },'unemployed')\n",
    "print(scoring_data['income_type'].value_counts())"
   ]
  },
  {
   "cell_type": "code",
   "execution_count": 24,
   "metadata": {},
   "outputs": [
    {
     "data": {
      "text/html": [
       "<div>\n",
       "<style scoped>\n",
       "    .dataframe tbody tr th:only-of-type {\n",
       "        vertical-align: middle;\n",
       "    }\n",
       "\n",
       "    .dataframe tbody tr th {\n",
       "        vertical-align: top;\n",
       "    }\n",
       "\n",
       "    .dataframe thead th {\n",
       "        text-align: right;\n",
       "    }\n",
       "</style>\n",
       "<table border=\"1\" class=\"dataframe\">\n",
       "  <thead>\n",
       "    <tr style=\"text-align: right;\">\n",
       "      <th></th>\n",
       "      <th>children</th>\n",
       "      <th>days_employed</th>\n",
       "      <th>dob_years</th>\n",
       "      <th>education_id</th>\n",
       "      <th>family_status_id</th>\n",
       "      <th>debt</th>\n",
       "      <th>total_income</th>\n",
       "      <th>days_employed_upd</th>\n",
       "    </tr>\n",
       "  </thead>\n",
       "  <tbody>\n",
       "    <tr>\n",
       "      <th>count</th>\n",
       "      <td>21525.000000</td>\n",
       "      <td>19351.000000</td>\n",
       "      <td>21525.000000</td>\n",
       "      <td>21525.000000</td>\n",
       "      <td>21525.000000</td>\n",
       "      <td>21525.000000</td>\n",
       "      <td>19351.000000</td>\n",
       "      <td>21525.000000</td>\n",
       "    </tr>\n",
       "    <tr>\n",
       "      <th>mean</th>\n",
       "      <td>0.479721</td>\n",
       "      <td>63046.497661</td>\n",
       "      <td>43.490453</td>\n",
       "      <td>0.817236</td>\n",
       "      <td>0.972544</td>\n",
       "      <td>0.080883</td>\n",
       "      <td>26787.568355</td>\n",
       "      <td>60155.970128</td>\n",
       "    </tr>\n",
       "    <tr>\n",
       "      <th>std</th>\n",
       "      <td>0.755528</td>\n",
       "      <td>140827.311974</td>\n",
       "      <td>12.218595</td>\n",
       "      <td>0.548138</td>\n",
       "      <td>1.420324</td>\n",
       "      <td>0.272661</td>\n",
       "      <td>16475.450632</td>\n",
       "      <td>133355.906156</td>\n",
       "    </tr>\n",
       "    <tr>\n",
       "      <th>min</th>\n",
       "      <td>0.000000</td>\n",
       "      <td>-18388.949901</td>\n",
       "      <td>19.000000</td>\n",
       "      <td>0.000000</td>\n",
       "      <td>0.000000</td>\n",
       "      <td>0.000000</td>\n",
       "      <td>3306.762000</td>\n",
       "      <td>0.000000</td>\n",
       "    </tr>\n",
       "    <tr>\n",
       "      <th>25%</th>\n",
       "      <td>0.000000</td>\n",
       "      <td>-2747.423625</td>\n",
       "      <td>34.000000</td>\n",
       "      <td>1.000000</td>\n",
       "      <td>0.000000</td>\n",
       "      <td>0.000000</td>\n",
       "      <td>16488.504500</td>\n",
       "      <td>610.000000</td>\n",
       "    </tr>\n",
       "    <tr>\n",
       "      <th>50%</th>\n",
       "      <td>0.000000</td>\n",
       "      <td>-1203.369529</td>\n",
       "      <td>42.000000</td>\n",
       "      <td>1.000000</td>\n",
       "      <td>0.000000</td>\n",
       "      <td>0.000000</td>\n",
       "      <td>23202.870000</td>\n",
       "      <td>1808.000000</td>\n",
       "    </tr>\n",
       "    <tr>\n",
       "      <th>75%</th>\n",
       "      <td>1.000000</td>\n",
       "      <td>-291.095954</td>\n",
       "      <td>53.000000</td>\n",
       "      <td>1.000000</td>\n",
       "      <td>1.000000</td>\n",
       "      <td>0.000000</td>\n",
       "      <td>32549.611000</td>\n",
       "      <td>4779.000000</td>\n",
       "    </tr>\n",
       "    <tr>\n",
       "      <th>max</th>\n",
       "      <td>5.000000</td>\n",
       "      <td>401755.400475</td>\n",
       "      <td>75.000000</td>\n",
       "      <td>4.000000</td>\n",
       "      <td>4.000000</td>\n",
       "      <td>1.000000</td>\n",
       "      <td>362496.645000</td>\n",
       "      <td>401755.000000</td>\n",
       "    </tr>\n",
       "  </tbody>\n",
       "</table>\n",
       "</div>"
      ],
      "text/plain": [
       "           children  days_employed     dob_years  education_id  \\\n",
       "count  21525.000000   19351.000000  21525.000000  21525.000000   \n",
       "mean       0.479721   63046.497661     43.490453      0.817236   \n",
       "std        0.755528  140827.311974     12.218595      0.548138   \n",
       "min        0.000000  -18388.949901     19.000000      0.000000   \n",
       "25%        0.000000   -2747.423625     34.000000      1.000000   \n",
       "50%        0.000000   -1203.369529     42.000000      1.000000   \n",
       "75%        1.000000    -291.095954     53.000000      1.000000   \n",
       "max        5.000000  401755.400475     75.000000      4.000000   \n",
       "\n",
       "       family_status_id          debt   total_income  days_employed_upd  \n",
       "count      21525.000000  21525.000000   19351.000000       21525.000000  \n",
       "mean           0.972544      0.080883   26787.568355       60155.970128  \n",
       "std            1.420324      0.272661   16475.450632      133355.906156  \n",
       "min            0.000000      0.000000    3306.762000           0.000000  \n",
       "25%            0.000000      0.000000   16488.504500         610.000000  \n",
       "50%            0.000000      0.000000   23202.870000        1808.000000  \n",
       "75%            1.000000      0.000000   32549.611000        4779.000000  \n",
       "max            4.000000      1.000000  362496.645000      401755.000000  "
      ]
     },
     "execution_count": 24,
     "metadata": {},
     "output_type": "execute_result"
    }
   ],
   "source": [
    "# Check the result - make sure it's fixed\n",
    "scoring_data.describe()"
   ]
  },
  {
   "cell_type": "markdown",
   "metadata": {},
   "source": [
    "Now let's see if we have any duplicates in our data."
   ]
  },
  {
   "cell_type": "code",
   "execution_count": 25,
   "metadata": {},
   "outputs": [
    {
     "data": {
      "text/plain": [
       "72"
      ]
     },
     "execution_count": 25,
     "metadata": {},
     "output_type": "execute_result"
    }
   ],
   "source": [
    "# Checking duplicates\n",
    "scoring_data.duplicated().sum()"
   ]
  },
  {
   "cell_type": "markdown",
   "metadata": {},
   "source": [
    "Since the duplicated values are only **0.33%** of whole data and this number is within the static error, we can safely remove them from the data."
   ]
  },
  {
   "cell_type": "code",
   "execution_count": 26,
   "metadata": {},
   "outputs": [
    {
     "data": {
      "text/plain": [
       "0"
      ]
     },
     "execution_count": 26,
     "metadata": {},
     "output_type": "execute_result"
    }
   ],
   "source": [
    "# Remove duplicated rows\n",
    "scoring_data = scoring_data.drop_duplicates().reset_index(drop=True)\n",
    "\n",
    "# Last check whether we have any duplicates\n",
    "scoring_data.duplicated().sum()"
   ]
  },
  {
   "cell_type": "code",
   "execution_count": 27,
   "metadata": {},
   "outputs": [
    {
     "name": "stdout",
     "output_type": "stream",
     "text": [
      "<class 'pandas.core.frame.DataFrame'>\n",
      "RangeIndex: 21453 entries, 0 to 21452\n",
      "Data columns (total 13 columns):\n",
      " #   Column             Non-Null Count  Dtype  \n",
      "---  ------             --------------  -----  \n",
      " 0   children           21453 non-null  int64  \n",
      " 1   days_employed      19351 non-null  float64\n",
      " 2   dob_years          21453 non-null  int64  \n",
      " 3   education          21453 non-null  object \n",
      " 4   education_id       21453 non-null  int64  \n",
      " 5   family_status      21453 non-null  object \n",
      " 6   family_status_id   21453 non-null  int64  \n",
      " 7   gender             21453 non-null  object \n",
      " 8   income_type        21453 non-null  object \n",
      " 9   debt               21453 non-null  int64  \n",
      " 10  total_income       19351 non-null  float64\n",
      " 11  purpose            21453 non-null  object \n",
      " 12  days_employed_upd  21453 non-null  int64  \n",
      "dtypes: float64(2), int64(6), object(5)\n",
      "memory usage: 2.1+ MB\n"
     ]
    }
   ],
   "source": [
    "# Check the size of the dataset that you now have after your first manipulations with it\n",
    "scoring_data.info()"
   ]
  },
  {
   "cell_type": "markdown",
   "metadata": {},
   "source": [
    "[Back to Contents](#back)"
   ]
  },
  {
   "cell_type": "markdown",
   "metadata": {},
   "source": [
    "## Working with missing values <a id='missing_values'></a>"
   ]
  },
  {
   "cell_type": "markdown",
   "metadata": {},
   "source": [
    "### Restoring missing values in `total_income` <a id='total_income'></a>"
   ]
  },
  {
   "cell_type": "markdown",
   "metadata": {},
   "source": [
    "According to the analysis of our data, only two columns are missing data - `days_employed` and `total_income`.\n",
    "We can add missing values ​​in the `total_income` column by calculating the average or median of the total income by group. We will decide on which group to do this later.\n",
    "\n",
    "In the meantime, let's create age categories for all customers in our data.\n",
    "We decided to divide all customers into 6 categories - **`19-29, 30-39, 40-49, 50-59, 60-75, 70+`**.\n",
    "Let's write a function for this that will return a category."
   ]
  },
  {
   "cell_type": "code",
   "execution_count": 28,
   "metadata": {},
   "outputs": [],
   "source": [
    "# Let's write a function that calculates the age category\n",
    "\n",
    "def age_group(age):\n",
    "    if age < 30:\n",
    "        return '19-29'\n",
    "    elif age < 40:\n",
    "        return '30-39'\n",
    "    elif age < 50:\n",
    "        return '40-49'\n",
    "    elif age < 60:\n",
    "        return '50-59'\n",
    "    elif age < 70:\n",
    "        return '60-69'\n",
    "    return '70+'\n",
    "\n",
    "scoring_data['age_group'] = scoring_data['dob_years'].apply(age_group)"
   ]
  },
  {
   "cell_type": "code",
   "execution_count": 29,
   "metadata": {},
   "outputs": [
    {
     "name": "stdout",
     "output_type": "stream",
     "text": [
      "30-39    5662\n",
      "40-49    5454\n",
      "50-59    4657\n",
      "19-29    3180\n",
      "60-69    2331\n",
      "70+       169\n",
      "Name: age_group, dtype: int64\n"
     ]
    }
   ],
   "source": [
    "# Creating new column based on function\n",
    "scoring_data['age_group'] = scoring_data['dob_years'].apply(age_group)\n",
    "\n",
    "# Checking how data is categorized\n",
    "print(scoring_data['age_group'].value_counts())\n"
   ]
  },
  {
   "cell_type": "markdown",
   "metadata": {},
   "source": [
    "The factors that affect the total income are primarily the **`type of income, education, age category`**. Let's look at the median and mean values ​​for this group by this parameters to decide what type of replacement to apply to the missing data."
   ]
  },
  {
   "cell_type": "code",
   "execution_count": 30,
   "metadata": {},
   "outputs": [
    {
     "name": "stdout",
     "output_type": "stream",
     "text": [
      "Mean by income_type\n",
      "business         32397.165026\n",
      "civil servant    27343.729582\n",
      "employee         25820.841683\n",
      "retiree          21940.394503\n",
      "unemployed       16588.410500\n",
      "Name: total_income, dtype: float64\n",
      "----------------\n",
      "Median by income_type\n",
      "business         27583.3600\n",
      "civil servant    24071.6695\n",
      "employee         22815.1035\n",
      "retiree          18962.3180\n",
      "unemployed       12652.6895\n",
      "Name: total_income, dtype: float64\n"
     ]
    }
   ],
   "source": [
    "# Look at the mean and median values for income based on income_type\n",
    "group_mean_typeinc=scoring_data.groupby(['income_type'])['total_income'].mean()\n",
    "print('Mean by', group_mean_typeinc)\n",
    "print('----------------')\n",
    "group_median_typeinc=scoring_data.groupby(['income_type'])['total_income'].median()\n",
    "print('Median by', group_median_typeinc)"
   ]
  },
  {
   "cell_type": "code",
   "execution_count": 31,
   "metadata": {
    "scrolled": true
   },
   "outputs": [
    {
     "name": "stdout",
     "output_type": "stream",
     "text": [
      "Mean by age_group\n",
      "19-29    25533.960641\n",
      "30-39    28312.479963\n",
      "40-49    28491.929026\n",
      "50-59    25811.700327\n",
      "60-69    23242.812818\n",
      "70+      20125.658331\n",
      "Name: total_income, dtype: float64\n",
      "----------------\n",
      "Median by age_group\n",
      "19-29    22742.6535\n",
      "30-39    24667.5280\n",
      "40-49    24755.6960\n",
      "50-59    22203.0745\n",
      "60-69    19817.4400\n",
      "70+      18751.3240\n",
      "Name: total_income, dtype: float64\n"
     ]
    }
   ],
   "source": [
    "# Look at the median & mean values for income based on age_group\n",
    "group_mean_age=scoring_data.groupby(['age_group'])['total_income'].mean()\n",
    "print('Mean by', group_mean_age)\n",
    "print('----------------')\n",
    "group_median_age=scoring_data.groupby(['age_group'])['total_income'].median()\n",
    "print('Median by', group_median_age)"
   ]
  },
  {
   "cell_type": "code",
   "execution_count": 32,
   "metadata": {
    "scrolled": true
   },
   "outputs": [
    {
     "name": "stdout",
     "output_type": "stream",
     "text": [
      "Mean by education\n",
      "bachelor's degree      33142.802434\n",
      "graduate degree        27960.024667\n",
      "primary education      21144.882211\n",
      "secondary education    24594.503037\n",
      "some college           29045.443644\n",
      "Name: total_income, dtype: float64\n",
      "----------------\n",
      "Median by education\n",
      "bachelor's degree      28054.5310\n",
      "graduate degree        25161.5835\n",
      "primary education      18741.9760\n",
      "secondary education    21836.5830\n",
      "some college           25618.4640\n",
      "Name: total_income, dtype: float64\n"
     ]
    }
   ],
   "source": [
    "# Look at the median values for income based on education\n",
    "group_mean_edu=scoring_data.groupby(['education'])['total_income'].mean()\n",
    "print('Mean by', group_mean_edu)\n",
    "print('----------------')\n",
    "group_median_edu=scoring_data.groupby(['education'])['total_income'].median()\n",
    "print('Median by', group_median_edu)"
   ]
  },
  {
   "cell_type": "markdown",
   "metadata": {},
   "source": [
    "Since the mean value shows adequate values ​​only when we have a normal distribution(gaussian) of the attribute, but it is sensitive in the case of \"outliers\" - too large or too small values. We observe these \"outliers\" in our data - 3306 and 362496, respectively, in the total income. Therefore, it is more logical to turn our attention to the median values.\n",
    "\n",
    "Initially, we were going to make a distribution based on the type of income, but after examining the rest of the categories, the best distribution would be to use **`age categories`**. Why?\n",
    "- the `income type` and `education` categories have only five unique types, and the age category has six.\n",
    "- distribution `type income` has a clear leader - **employees**, which outperform **business** by two times and **retiree** by three times\n",
    "- the situation is the same in `education`, where **secondary education** is three times more than the next **bachelor's degree.**\n",
    "- in addition, we make the assumption that age and education have a direct correlation\n",
    "- uniform distribution by age categories\n",
    "\n",
    "As a result, as a replacement value, we choose the **median distribution by age category**, as it more accurately describes changes in total income and covers a large range."
   ]
  },
  {
   "cell_type": "code",
   "execution_count": 33,
   "metadata": {},
   "outputs": [],
   "source": [
    "#  Write a function that we will use for filling in missing values\n",
    "# data['Basepay_2'] = data['Basepay_2'].fillna(data.groupby('JobTitle')['BasePay'].transform('mean'))\n",
    "scoring_data['total_income_upd'] = scoring_data['total_income']\n",
    "scoring_data['total_income_upd'] = scoring_data['total_income_upd'].fillna(scoring_data.groupby(['age_group'])['total_income'].transform('median'))\n"
   ]
  },
  {
   "cell_type": "code",
   "execution_count": 34,
   "metadata": {},
   "outputs": [
    {
     "data": {
      "text/plain": [
       "children                               0\n",
       "days_employed                        NaN\n",
       "dob_years                             65\n",
       "education            secondary education\n",
       "education_id                           1\n",
       "family_status          civil partnership\n",
       "family_status_id                       1\n",
       "gender                                 M\n",
       "income_type                      retiree\n",
       "debt                                   0\n",
       "total_income                         NaN\n",
       "purpose                to have a wedding\n",
       "days_employed_upd                      0\n",
       "age_group                          60-69\n",
       "total_income_upd                19817.44\n",
       "Name: 12, dtype: object"
      ]
     },
     "execution_count": 34,
     "metadata": {},
     "output_type": "execute_result"
    }
   ],
   "source": [
    "# Check if it works\n",
    "scoring_data.loc[12]"
   ]
  },
  {
   "cell_type": "code",
   "execution_count": 35,
   "metadata": {},
   "outputs": [
    {
     "data": {
      "text/plain": [
       "count     19351.000000\n",
       "mean      26787.568355\n",
       "std       16475.450632\n",
       "min        3306.762000\n",
       "25%       16488.504500\n",
       "50%       23202.870000\n",
       "75%       32549.611000\n",
       "max      362496.645000\n",
       "Name: total_income, dtype: float64"
      ]
     },
     "execution_count": 35,
     "metadata": {},
     "output_type": "execute_result"
    }
   ],
   "source": [
    "# Column total_income without changes\n",
    "scoring_data['total_income'].describe()"
   ]
  },
  {
   "cell_type": "code",
   "execution_count": 36,
   "metadata": {},
   "outputs": [
    {
     "data": {
      "text/plain": [
       "count     21453.000000\n",
       "mean      26444.595967\n",
       "std       15690.752472\n",
       "min        3306.762000\n",
       "25%       17219.352000\n",
       "50%       23239.541000\n",
       "75%       31331.009000\n",
       "max      362496.645000\n",
       "Name: total_income_upd, dtype: float64"
      ]
     },
     "execution_count": 36,
     "metadata": {},
     "output_type": "execute_result"
    }
   ],
   "source": [
    "# New column with replace missing values\n",
    "scoring_data['total_income_upd'].describe()"
   ]
  },
  {
   "cell_type": "markdown",
   "metadata": {},
   "source": [
    "We checked that the total number of values in the new column matches the number of values in the others and we don't have any missing values."
   ]
  },
  {
   "cell_type": "code",
   "execution_count": 37,
   "metadata": {},
   "outputs": [
    {
     "name": "stdout",
     "output_type": "stream",
     "text": [
      "<class 'pandas.core.frame.DataFrame'>\n",
      "RangeIndex: 21453 entries, 0 to 21452\n",
      "Data columns (total 15 columns):\n",
      " #   Column             Non-Null Count  Dtype  \n",
      "---  ------             --------------  -----  \n",
      " 0   children           21453 non-null  int64  \n",
      " 1   days_employed      19351 non-null  float64\n",
      " 2   dob_years          21453 non-null  int64  \n",
      " 3   education          21453 non-null  object \n",
      " 4   education_id       21453 non-null  int64  \n",
      " 5   family_status      21453 non-null  object \n",
      " 6   family_status_id   21453 non-null  int64  \n",
      " 7   gender             21453 non-null  object \n",
      " 8   income_type        21453 non-null  object \n",
      " 9   debt               21453 non-null  int64  \n",
      " 10  total_income       19351 non-null  float64\n",
      " 11  purpose            21453 non-null  object \n",
      " 12  days_employed_upd  21453 non-null  int64  \n",
      " 13  age_group          21453 non-null  object \n",
      " 14  total_income_upd   21453 non-null  float64\n",
      "dtypes: float64(3), int64(6), object(6)\n",
      "memory usage: 2.5+ MB\n"
     ]
    }
   ],
   "source": [
    "# Checking the number of entries in the columns\n",
    "scoring_data.info()"
   ]
  },
  {
   "cell_type": "markdown",
   "metadata": {},
   "source": [
    "[Back to Contents](#back)"
   ]
  },
  {
   "cell_type": "markdown",
   "metadata": {},
   "source": [
    "###  Restoring values in `days_employed` <a id='days_employed'></a>"
   ]
  },
  {
   "cell_type": "markdown",
   "metadata": {},
   "source": [
    "Above, we calculated the percentage of different data types in `days_employed`, all missing values we have made equal to zero for ease of calculation. Let's look at it again.\n",
    "\n",
    "The percentage of the problematic data in \"days_employed\" compared to the whole dataset: \n",
    " - negative values = 73.9% \n",
    " - null values = 10.1% \n",
    " - normal values = 16.0%\n",
    "\n",
    "We see that the negative values ​​are about 74%, we know that the lost values ​​are about 10%. All this tells us about some kind of software failure in filling in the data. Ok, let's try to look at this data. First, let's convert all values ​​to absolute positive values.\n",
    "Let's assume that this value is years of work recorded in days - divide byy 365. Let's see what happens to our data.\n",
    " "
   ]
  },
  {
   "cell_type": "code",
   "execution_count": 38,
   "metadata": {
    "pycharm": {
     "name": "#%%\n"
    }
   },
   "outputs": [
    {
     "name": "stdout",
     "output_type": "stream",
     "text": [
      "count    21453.000000\n",
      "mean       165.364011\n",
      "std        365.846272\n",
      "min          0.000000\n",
      "25%          1.704110\n",
      "50%          4.991781\n",
      "75%         13.142466\n",
      "max       1100.698630\n",
      "Name: days_employed_years, dtype: float64\n"
     ]
    }
   ],
   "source": [
    "# Distribution of `days_employed` medians based on your identified parameters\n",
    "\n",
    "# scoring_data['days_employed_upd2'] = scoring_data['days_employed'].abs()\n",
    "scoring_data['days_employed_years'] = scoring_data['days_employed_upd'] / 365\n",
    "\n",
    "#scoring_data['days_employed_upd2'] = scoring_data['days_employed_upd2'].fillna(scoring_data.groupby(['income_type'])['days_employed_upd2'].transform('median'))\n",
    "print(scoring_data['days_employed_years'].describe())\n"
   ]
  },
  {
   "cell_type": "markdown",
   "metadata": {},
   "source": [
    "As we seen we still get inexplicable results. Since this column does not affect the others and we do not use it for hypotheses, we simply filled in the missing values with zero, since the mean and median in this case are not exponential values."
   ]
  },
  {
   "cell_type": "markdown",
   "metadata": {},
   "source": [
    "[Back to Contents](#back)"
   ]
  },
  {
   "cell_type": "markdown",
   "metadata": {},
   "source": [
    "## Categorization of data <a id='categorization'></a>\n",
    "\n",
    "To answer questions and test hypotheses, we need to classify some columns from our data.\n",
    "We have already classified the age and created a new column with age categories - **`age_group`**.\n",
    "Now we need to classify the data in the string column **`purpose`** and in the numeric column **`total_income_upd`**.\n",
    "\n",
    "Why do we need to classify **`purpose`**?\n",
    "\n",
    "This is a column that is filled in randomly by the loan officer and it has different variations and for further work we should look at the unique values ​​and decide what are the main categories of loans. Let's check unique values"
   ]
  },
  {
   "cell_type": "code",
   "execution_count": 39,
   "metadata": {
    "scrolled": true
   },
   "outputs": [
    {
     "data": {
      "text/plain": [
       "array(['purchase of the house', 'car purchase', 'supplementary education',\n",
       "       'to have a wedding', 'housing transactions', 'education',\n",
       "       'having a wedding', 'purchase of the house for my family',\n",
       "       'buy real estate', 'buy commercial real estate',\n",
       "       'buy residential real estate', 'construction of own property',\n",
       "       'property', 'building a property', 'buying a second-hand car',\n",
       "       'buying my own car', 'transactions with commercial real estate',\n",
       "       'building a real estate', 'housing',\n",
       "       'transactions with my real estate', 'cars', 'to become educated',\n",
       "       'second-hand car purchase', 'getting an education', 'car',\n",
       "       'wedding ceremony', 'to get a supplementary education',\n",
       "       'purchase of my own house', 'real estate transactions',\n",
       "       'getting higher education', 'to own a car', 'purchase of a car',\n",
       "       'profile education', 'university education',\n",
       "       'buying property for renting out', 'to buy a car',\n",
       "       'housing renovation', 'going to university'], dtype=object)"
      ]
     },
     "execution_count": 39,
     "metadata": {},
     "output_type": "execute_result"
    }
   ],
   "source": [
    "# Check the unique values for the column purpose for categorization\n",
    "\n",
    "scoring_data['purpose'].unique()"
   ]
  },
  {
   "cell_type": "markdown",
   "metadata": {},
   "source": [
    "Based on the unique values, 4 main categories of loans can be distinguished - real estate, car purchase, education and wedding.\n",
    "\n",
    "Now, based on these categories, we want to write a function that will classify our data - **`purpose_categ`**.\n"
   ]
  },
  {
   "cell_type": "code",
   "execution_count": 40,
   "metadata": {},
   "outputs": [],
   "source": [
    "# Let's write a function to categorize the data from colunm \"purpose\"\n",
    "def purpose_categ(purpose):\n",
    "    if ('house' in purpose) or ('housing' in purpose) or ('real estate' in purpose) or ('property' in purpose):\n",
    "        return 'real estate'\n",
    "    elif ('education' in purpose) or ('educated' in purpose) or ('university' in purpose):\n",
    "        return 'education'\n",
    "    elif 'wedding' in purpose:\n",
    "        return 'wedding'\n",
    "    elif 'car' in purpose:\n",
    "        return 'car'\n",
    "    else:\n",
    "        return 'unknown'"
   ]
  },
  {
   "cell_type": "code",
   "execution_count": 41,
   "metadata": {},
   "outputs": [
    {
     "name": "stdout",
     "output_type": "stream",
     "text": [
      "count           21453\n",
      "unique              4\n",
      "top       real estate\n",
      "freq            10811\n",
      "Name: purpose_category, dtype: object\n",
      "----------------\n",
      "real estate    10811\n",
      "car             4306\n",
      "education       4013\n",
      "wedding         2323\n",
      "Name: purpose_category, dtype: int64\n"
     ]
    }
   ],
   "source": [
    "# Create a column with the categories and count the values for them\n",
    "scoring_data['purpose_category'] = scoring_data['purpose'].apply(purpose_categ)\n",
    "print(scoring_data['purpose_category'].describe())\n",
    "print('----------------')\n",
    "print(scoring_data['purpose_category'].value_counts())"
   ]
  },
  {
   "cell_type": "markdown",
   "metadata": {},
   "source": [
    "Why do we need to classify **`total_income_upd`**?\n",
    "\n",
    "The **`total_income_upd`** column has many unique values, it will be difficult to work with it separately and we will not be able to prove one of our hypotheses. Therefore, for it, we need to create a function and classify the data into 4 categories, which we see perfectly in  `describe()`."
   ]
  },
  {
   "cell_type": "code",
   "execution_count": 42,
   "metadata": {},
   "outputs": [
    {
     "name": "stdout",
     "output_type": "stream",
     "text": [
      "count     21453.000000\n",
      "mean      26444.595967\n",
      "std       15690.752472\n",
      "min        3306.762000\n",
      "25%       17219.352000\n",
      "50%       23239.541000\n",
      "75%       31331.009000\n",
      "max      362496.645000\n",
      "Name: total_income_upd, dtype: float64\n"
     ]
    }
   ],
   "source": [
    "# Looking through column total_income for categorization\n",
    "print(scoring_data['total_income_upd'].describe())"
   ]
  },
  {
   "cell_type": "markdown",
   "metadata": {},
   "source": [
    "Based on the distribution of values, 4 main categories of updated **`total_income`** can be distinguished − **`less 17k, low medium 17-24k, medium high 24-32k, high 32k+`**.      \n",
    "\n",
    "Now, based on these categories, we want to write a function that will classify our data - **`total_income_categ`**.\n"
   ]
  },
  {
   "cell_type": "code",
   "execution_count": 43,
   "metadata": {},
   "outputs": [],
   "source": [
    "# Creating function for categorizing into column total_income_upd based on ranges\n",
    "def total_income_categ(income):\n",
    "    if 0 < income < 17220:\n",
    "        return 'less 17k'\n",
    "    elif 17221 < income < 23240:\n",
    "        return 'low medium 17-24k'\n",
    "    elif 23241 < income < 31340:\n",
    "        return 'medium high 24-32k'\n",
    "    else:\n",
    "        return 'high 32k+'\n",
    "    "
   ]
  },
  {
   "cell_type": "code",
   "execution_count": 44,
   "metadata": {},
   "outputs": [
    {
     "name": "stdout",
     "output_type": "stream",
     "text": [
      "count                  21453\n",
      "unique                     4\n",
      "top       medium high 24-32k\n",
      "freq                    5366\n",
      "Name: income_category, dtype: object\n",
      "----------------\n",
      "medium high 24-32k    5366\n",
      "low medium 17-24k     5364\n",
      "less 17k              5364\n",
      "high 32k+             5359\n",
      "Name: income_category, dtype: int64\n"
     ]
    }
   ],
   "source": [
    "# Creating column with categories\n",
    "scoring_data['income_category'] = scoring_data['total_income_upd'].apply(total_income_categ)\n",
    "print(scoring_data['income_category'].describe())\n",
    "print('----------------')\n",
    "print(scoring_data['income_category'].value_counts())"
   ]
  },
  {
   "cell_type": "code",
   "execution_count": 45,
   "metadata": {
    "scrolled": true
   },
   "outputs": [
    {
     "data": {
      "text/html": [
       "<div>\n",
       "<style scoped>\n",
       "    .dataframe tbody tr th:only-of-type {\n",
       "        vertical-align: middle;\n",
       "    }\n",
       "\n",
       "    .dataframe tbody tr th {\n",
       "        vertical-align: top;\n",
       "    }\n",
       "\n",
       "    .dataframe thead th {\n",
       "        text-align: right;\n",
       "    }\n",
       "</style>\n",
       "<table border=\"1\" class=\"dataframe\">\n",
       "  <thead>\n",
       "    <tr style=\"text-align: right;\">\n",
       "      <th></th>\n",
       "      <th>children</th>\n",
       "      <th>days_employed</th>\n",
       "      <th>dob_years</th>\n",
       "      <th>education</th>\n",
       "      <th>education_id</th>\n",
       "      <th>family_status</th>\n",
       "      <th>family_status_id</th>\n",
       "      <th>gender</th>\n",
       "      <th>income_type</th>\n",
       "      <th>debt</th>\n",
       "      <th>total_income</th>\n",
       "      <th>purpose</th>\n",
       "      <th>days_employed_upd</th>\n",
       "      <th>age_group</th>\n",
       "      <th>total_income_upd</th>\n",
       "      <th>days_employed_years</th>\n",
       "      <th>purpose_category</th>\n",
       "      <th>income_category</th>\n",
       "    </tr>\n",
       "  </thead>\n",
       "  <tbody>\n",
       "    <tr>\n",
       "      <th>0</th>\n",
       "      <td>1</td>\n",
       "      <td>-8437.673028</td>\n",
       "      <td>42</td>\n",
       "      <td>bachelor's degree</td>\n",
       "      <td>0</td>\n",
       "      <td>married</td>\n",
       "      <td>0</td>\n",
       "      <td>F</td>\n",
       "      <td>employee</td>\n",
       "      <td>0</td>\n",
       "      <td>40620.102</td>\n",
       "      <td>purchase of the house</td>\n",
       "      <td>8437</td>\n",
       "      <td>40-49</td>\n",
       "      <td>40620.102</td>\n",
       "      <td>23.115068</td>\n",
       "      <td>real estate</td>\n",
       "      <td>high 32k+</td>\n",
       "    </tr>\n",
       "    <tr>\n",
       "      <th>1</th>\n",
       "      <td>1</td>\n",
       "      <td>-4024.803754</td>\n",
       "      <td>36</td>\n",
       "      <td>secondary education</td>\n",
       "      <td>1</td>\n",
       "      <td>married</td>\n",
       "      <td>0</td>\n",
       "      <td>F</td>\n",
       "      <td>employee</td>\n",
       "      <td>0</td>\n",
       "      <td>17932.802</td>\n",
       "      <td>car purchase</td>\n",
       "      <td>4024</td>\n",
       "      <td>30-39</td>\n",
       "      <td>17932.802</td>\n",
       "      <td>11.024658</td>\n",
       "      <td>car</td>\n",
       "      <td>low medium 17-24k</td>\n",
       "    </tr>\n",
       "    <tr>\n",
       "      <th>2</th>\n",
       "      <td>0</td>\n",
       "      <td>-5623.422610</td>\n",
       "      <td>33</td>\n",
       "      <td>secondary education</td>\n",
       "      <td>1</td>\n",
       "      <td>married</td>\n",
       "      <td>0</td>\n",
       "      <td>M</td>\n",
       "      <td>employee</td>\n",
       "      <td>0</td>\n",
       "      <td>23341.752</td>\n",
       "      <td>purchase of the house</td>\n",
       "      <td>5623</td>\n",
       "      <td>30-39</td>\n",
       "      <td>23341.752</td>\n",
       "      <td>15.405479</td>\n",
       "      <td>real estate</td>\n",
       "      <td>medium high 24-32k</td>\n",
       "    </tr>\n",
       "    <tr>\n",
       "      <th>3</th>\n",
       "      <td>3</td>\n",
       "      <td>-4124.747207</td>\n",
       "      <td>32</td>\n",
       "      <td>secondary education</td>\n",
       "      <td>1</td>\n",
       "      <td>married</td>\n",
       "      <td>0</td>\n",
       "      <td>M</td>\n",
       "      <td>employee</td>\n",
       "      <td>0</td>\n",
       "      <td>42820.568</td>\n",
       "      <td>supplementary education</td>\n",
       "      <td>4124</td>\n",
       "      <td>30-39</td>\n",
       "      <td>42820.568</td>\n",
       "      <td>11.298630</td>\n",
       "      <td>education</td>\n",
       "      <td>high 32k+</td>\n",
       "    </tr>\n",
       "    <tr>\n",
       "      <th>4</th>\n",
       "      <td>0</td>\n",
       "      <td>340266.072047</td>\n",
       "      <td>53</td>\n",
       "      <td>secondary education</td>\n",
       "      <td>1</td>\n",
       "      <td>civil partnership</td>\n",
       "      <td>1</td>\n",
       "      <td>F</td>\n",
       "      <td>retiree</td>\n",
       "      <td>0</td>\n",
       "      <td>25378.572</td>\n",
       "      <td>to have a wedding</td>\n",
       "      <td>340266</td>\n",
       "      <td>50-59</td>\n",
       "      <td>25378.572</td>\n",
       "      <td>932.235616</td>\n",
       "      <td>wedding</td>\n",
       "      <td>medium high 24-32k</td>\n",
       "    </tr>\n",
       "  </tbody>\n",
       "</table>\n",
       "</div>"
      ],
      "text/plain": [
       "   children  days_employed  dob_years            education  education_id  \\\n",
       "0         1   -8437.673028         42    bachelor's degree             0   \n",
       "1         1   -4024.803754         36  secondary education             1   \n",
       "2         0   -5623.422610         33  secondary education             1   \n",
       "3         3   -4124.747207         32  secondary education             1   \n",
       "4         0  340266.072047         53  secondary education             1   \n",
       "\n",
       "       family_status  family_status_id gender income_type  debt  total_income  \\\n",
       "0            married                 0      F    employee     0     40620.102   \n",
       "1            married                 0      F    employee     0     17932.802   \n",
       "2            married                 0      M    employee     0     23341.752   \n",
       "3            married                 0      M    employee     0     42820.568   \n",
       "4  civil partnership                 1      F     retiree     0     25378.572   \n",
       "\n",
       "                   purpose  days_employed_upd age_group  total_income_upd  \\\n",
       "0    purchase of the house               8437     40-49         40620.102   \n",
       "1             car purchase               4024     30-39         17932.802   \n",
       "2    purchase of the house               5623     30-39         23341.752   \n",
       "3  supplementary education               4124     30-39         42820.568   \n",
       "4        to have a wedding             340266     50-59         25378.572   \n",
       "\n",
       "   days_employed_years purpose_category     income_category  \n",
       "0            23.115068      real estate           high 32k+  \n",
       "1            11.024658              car   low medium 17-24k  \n",
       "2            15.405479      real estate  medium high 24-32k  \n",
       "3            11.298630        education           high 32k+  \n",
       "4           932.235616          wedding  medium high 24-32k  "
      ]
     },
     "execution_count": 45,
     "metadata": {},
     "output_type": "execute_result"
    }
   ],
   "source": [
    "# Check our new data columns\n",
    "scoring_data.head(5)"
   ]
  },
  {
   "cell_type": "markdown",
   "metadata": {},
   "source": [
    "[Back to Contents](#back)"
   ]
  },
  {
   "cell_type": "markdown",
   "metadata": {},
   "source": [
    "## Checking the Hypotheses <a id='hypotheses'></a>\n"
   ]
  },
  {
   "cell_type": "markdown",
   "metadata": {},
   "source": [
    "A default rate is the percentage of loans issued by a financial institution that has been unpaid for an excessive amount of time.\n",
    "\n",
    "\n",
    "### Hypothesis 1. People who have children are more likely to repay loans than those who do not have children. <a id='children'></a>\n",
    "Is there a connection between having kids and repaying a loan on time?\n",
    " "
   ]
  },
  {
   "cell_type": "code",
   "execution_count": 46,
   "metadata": {},
   "outputs": [
    {
     "data": {
      "text/html": [
       "<div>\n",
       "<style scoped>\n",
       "    .dataframe tbody tr th:only-of-type {\n",
       "        vertical-align: middle;\n",
       "    }\n",
       "\n",
       "    .dataframe tbody tr th {\n",
       "        vertical-align: top;\n",
       "    }\n",
       "\n",
       "    .dataframe thead th {\n",
       "        text-align: right;\n",
       "    }\n",
       "</style>\n",
       "<table border=\"1\" class=\"dataframe\">\n",
       "  <thead>\n",
       "    <tr style=\"text-align: right;\">\n",
       "      <th>debt</th>\n",
       "      <th>0</th>\n",
       "      <th>1</th>\n",
       "      <th>All</th>\n",
       "      <th>default_rate</th>\n",
       "    </tr>\n",
       "    <tr>\n",
       "      <th>children</th>\n",
       "      <th></th>\n",
       "      <th></th>\n",
       "      <th></th>\n",
       "      <th></th>\n",
       "    </tr>\n",
       "  </thead>\n",
       "  <tbody>\n",
       "    <tr>\n",
       "      <th>0</th>\n",
       "      <td>13027.0</td>\n",
       "      <td>1063.0</td>\n",
       "      <td>14090</td>\n",
       "      <td>7.544358</td>\n",
       "    </tr>\n",
       "    <tr>\n",
       "      <th>1</th>\n",
       "      <td>4410.0</td>\n",
       "      <td>445.0</td>\n",
       "      <td>4855</td>\n",
       "      <td>9.165808</td>\n",
       "    </tr>\n",
       "    <tr>\n",
       "      <th>2</th>\n",
       "      <td>1926.0</td>\n",
       "      <td>202.0</td>\n",
       "      <td>2128</td>\n",
       "      <td>9.492481</td>\n",
       "    </tr>\n",
       "    <tr>\n",
       "      <th>3</th>\n",
       "      <td>303.0</td>\n",
       "      <td>27.0</td>\n",
       "      <td>330</td>\n",
       "      <td>8.181818</td>\n",
       "    </tr>\n",
       "    <tr>\n",
       "      <th>4</th>\n",
       "      <td>37.0</td>\n",
       "      <td>4.0</td>\n",
       "      <td>41</td>\n",
       "      <td>9.756098</td>\n",
       "    </tr>\n",
       "    <tr>\n",
       "      <th>5</th>\n",
       "      <td>9.0</td>\n",
       "      <td>NaN</td>\n",
       "      <td>9</td>\n",
       "      <td>NaN</td>\n",
       "    </tr>\n",
       "    <tr>\n",
       "      <th>All</th>\n",
       "      <td>19712.0</td>\n",
       "      <td>1741.0</td>\n",
       "      <td>21453</td>\n",
       "      <td>8.115415</td>\n",
       "    </tr>\n",
       "  </tbody>\n",
       "</table>\n",
       "</div>"
      ],
      "text/plain": [
       "debt            0       1    All  default_rate\n",
       "children                                      \n",
       "0         13027.0  1063.0  14090      7.544358\n",
       "1          4410.0   445.0   4855      9.165808\n",
       "2          1926.0   202.0   2128      9.492481\n",
       "3           303.0    27.0    330      8.181818\n",
       "4            37.0     4.0     41      9.756098\n",
       "5             9.0     NaN      9           NaN\n",
       "All       19712.0  1741.0  21453      8.115415"
      ]
     },
     "execution_count": 46,
     "metadata": {},
     "output_type": "execute_result"
    }
   ],
   "source": [
    "# Calculating default-rate based on the number of children\n",
    "children_pivot = pd.pivot_table(\n",
    "    scoring_data,\n",
    "    index='children',\n",
    "    columns='debt',\n",
    "    values='total_income_upd',\n",
    "    aggfunc='count', margins=True)\n",
    "\n",
    "children_pivot['default_rate'] = (children_pivot[1] / children_pivot['All'])*100\n",
    "children_pivot\n"
   ]
  },
  {
   "cell_type": "markdown",
   "metadata": {},
   "source": [
    "**Conclusion**\n",
    "\n",
    "The default-rate depending on the number of children is as follows:\n",
    "\n",
    "**0 children: 7.54% |  1 child 9.17% |  2 children: 9.49% |  3 children: 8.18% |  4 children: 9.76% | 5 children: 0%**\n",
    "\n",
    "Our hypothesis that people who have children pay better than those who are childless was not confirmed. The default rate for non-able children is **`7.54%`** and it is lower than for those who have 1, 2, 3 or 4 children - about **`9%`**. The exception is those who have 5 children, who have a default percentage of 0, but there is not enough data for these families to indicate a trend.\n",
    "\n",
    "Based on our data, we can say that people who do not have children have a lower default rate than people with children.\n"
   ]
  },
  {
   "cell_type": "markdown",
   "metadata": {},
   "source": [
    "[Back to Contents](#back)"
   ]
  },
  {
   "cell_type": "markdown",
   "metadata": {},
   "source": [
    "### Hypothesis 2. People who are married are more disciplined in paying off loans than those who are single. Is there a relation between marital status and repaying a loan on time? <a id='status'></a>"
   ]
  },
  {
   "cell_type": "code",
   "execution_count": 47,
   "metadata": {},
   "outputs": [
    {
     "data": {
      "text/html": [
       "<div>\n",
       "<style scoped>\n",
       "    .dataframe tbody tr th:only-of-type {\n",
       "        vertical-align: middle;\n",
       "    }\n",
       "\n",
       "    .dataframe tbody tr th {\n",
       "        vertical-align: top;\n",
       "    }\n",
       "\n",
       "    .dataframe thead th {\n",
       "        text-align: right;\n",
       "    }\n",
       "</style>\n",
       "<table border=\"1\" class=\"dataframe\">\n",
       "  <thead>\n",
       "    <tr style=\"text-align: right;\">\n",
       "      <th>debt</th>\n",
       "      <th>0</th>\n",
       "      <th>1</th>\n",
       "      <th>All</th>\n",
       "      <th>default_rate</th>\n",
       "    </tr>\n",
       "    <tr>\n",
       "      <th>family_status</th>\n",
       "      <th></th>\n",
       "      <th></th>\n",
       "      <th></th>\n",
       "      <th></th>\n",
       "    </tr>\n",
       "  </thead>\n",
       "  <tbody>\n",
       "    <tr>\n",
       "      <th>civil partnership</th>\n",
       "      <td>3762</td>\n",
       "      <td>388</td>\n",
       "      <td>4150</td>\n",
       "      <td>9.349398</td>\n",
       "    </tr>\n",
       "    <tr>\n",
       "      <th>divorced</th>\n",
       "      <td>1110</td>\n",
       "      <td>85</td>\n",
       "      <td>1195</td>\n",
       "      <td>7.112971</td>\n",
       "    </tr>\n",
       "    <tr>\n",
       "      <th>married</th>\n",
       "      <td>11408</td>\n",
       "      <td>931</td>\n",
       "      <td>12339</td>\n",
       "      <td>7.545182</td>\n",
       "    </tr>\n",
       "    <tr>\n",
       "      <th>unmarried</th>\n",
       "      <td>2536</td>\n",
       "      <td>274</td>\n",
       "      <td>2810</td>\n",
       "      <td>9.750890</td>\n",
       "    </tr>\n",
       "    <tr>\n",
       "      <th>widow / widower</th>\n",
       "      <td>896</td>\n",
       "      <td>63</td>\n",
       "      <td>959</td>\n",
       "      <td>6.569343</td>\n",
       "    </tr>\n",
       "    <tr>\n",
       "      <th>All</th>\n",
       "      <td>19712</td>\n",
       "      <td>1741</td>\n",
       "      <td>21453</td>\n",
       "      <td>8.115415</td>\n",
       "    </tr>\n",
       "  </tbody>\n",
       "</table>\n",
       "</div>"
      ],
      "text/plain": [
       "debt                   0     1    All  default_rate\n",
       "family_status                                      \n",
       "civil partnership   3762   388   4150      9.349398\n",
       "divorced            1110    85   1195      7.112971\n",
       "married            11408   931  12339      7.545182\n",
       "unmarried           2536   274   2810      9.750890\n",
       "widow / widower      896    63    959      6.569343\n",
       "All                19712  1741  21453      8.115415"
      ]
     },
     "execution_count": 47,
     "metadata": {},
     "output_type": "execute_result"
    }
   ],
   "source": [
    "# Check the family status data and paying back on time\n",
    "family_status_pivot = pd.pivot_table(\n",
    "    scoring_data,\n",
    "    index='family_status',\n",
    "    columns='debt',\n",
    "    values='total_income_upd',\n",
    "    aggfunc='count', margins=True)\n",
    "\n",
    "# Calculating default-rate based on family status\n",
    "\n",
    "family_status_pivot['default_rate'] = (family_status_pivot[1] / family_status_pivot['All'])*100\n",
    "family_status_pivot"
   ]
  },
  {
   "cell_type": "markdown",
   "metadata": {},
   "source": [
    "**Conclusion**\n",
    "\n",
    "The default rate depending on marital status:\n",
    "\n",
    "**civil partnership: 9.35% | divorced: 7.11% | married: 7.55% | unmarried: 9.75% | widow/widower: 6.57%**\n",
    "\n",
    "Our hypothesis that married people are more disciplined in loan repayments than single people was confirmed.\n",
    "The default rate for married people is 7.55%, while for singles the default rate is 9.75%.\n",
    "\n",
    "Looking at all the data, the lowest default rating for widows/widowers is 6.57%, and the highest for singles is 9.75%. The sample of the married is the most representative."
   ]
  },
  {
   "cell_type": "markdown",
   "metadata": {},
   "source": [
    "[Back to Contents](#back)"
   ]
  },
  {
   "cell_type": "markdown",
   "metadata": {},
   "source": [
    "### Hypothesis 3. People with high incomes repay loans more often than people with low incomes. Is there a relation between income level and repaying a loan on time? <a id='income'></a>"
   ]
  },
  {
   "cell_type": "code",
   "execution_count": 48,
   "metadata": {},
   "outputs": [
    {
     "data": {
      "text/html": [
       "<div>\n",
       "<style scoped>\n",
       "    .dataframe tbody tr th:only-of-type {\n",
       "        vertical-align: middle;\n",
       "    }\n",
       "\n",
       "    .dataframe tbody tr th {\n",
       "        vertical-align: top;\n",
       "    }\n",
       "\n",
       "    .dataframe thead th {\n",
       "        text-align: right;\n",
       "    }\n",
       "</style>\n",
       "<table border=\"1\" class=\"dataframe\">\n",
       "  <thead>\n",
       "    <tr style=\"text-align: right;\">\n",
       "      <th>debt</th>\n",
       "      <th>0</th>\n",
       "      <th>1</th>\n",
       "      <th>All</th>\n",
       "      <th>default_rate</th>\n",
       "    </tr>\n",
       "    <tr>\n",
       "      <th>income_category</th>\n",
       "      <th></th>\n",
       "      <th></th>\n",
       "      <th></th>\n",
       "      <th></th>\n",
       "    </tr>\n",
       "  </thead>\n",
       "  <tbody>\n",
       "    <tr>\n",
       "      <th>high 32k+</th>\n",
       "      <td>4976</td>\n",
       "      <td>383</td>\n",
       "      <td>5359</td>\n",
       "      <td>7.146856</td>\n",
       "    </tr>\n",
       "    <tr>\n",
       "      <th>less 17k</th>\n",
       "      <td>4937</td>\n",
       "      <td>427</td>\n",
       "      <td>5364</td>\n",
       "      <td>7.960477</td>\n",
       "    </tr>\n",
       "    <tr>\n",
       "      <th>low medium 17-24k</th>\n",
       "      <td>4906</td>\n",
       "      <td>458</td>\n",
       "      <td>5364</td>\n",
       "      <td>8.538404</td>\n",
       "    </tr>\n",
       "    <tr>\n",
       "      <th>medium high 24-32k</th>\n",
       "      <td>4893</td>\n",
       "      <td>473</td>\n",
       "      <td>5366</td>\n",
       "      <td>8.814760</td>\n",
       "    </tr>\n",
       "    <tr>\n",
       "      <th>All</th>\n",
       "      <td>19712</td>\n",
       "      <td>1741</td>\n",
       "      <td>21453</td>\n",
       "      <td>8.115415</td>\n",
       "    </tr>\n",
       "  </tbody>\n",
       "</table>\n",
       "</div>"
      ],
      "text/plain": [
       "debt                    0     1    All  default_rate\n",
       "income_category                                     \n",
       "high 32k+            4976   383   5359      7.146856\n",
       "less 17k             4937   427   5364      7.960477\n",
       "low medium 17-24k    4906   458   5364      8.538404\n",
       "medium high 24-32k   4893   473   5366      8.814760\n",
       "All                 19712  1741  21453      8.115415"
      ]
     },
     "execution_count": 48,
     "metadata": {},
     "output_type": "execute_result"
    }
   ],
   "source": [
    "# Check the income level data and paying back on time\n",
    "income_pivot = pd.pivot_table(\n",
    "    scoring_data,\n",
    "    index='income_category',\n",
    "    columns='debt',\n",
    "    values='dob_years',\n",
    "    aggfunc='count', margins=True)\n",
    "\n",
    "# Calculating default-rate based on income level\n",
    "income_pivot['default_rate'] = (income_pivot[1] / income_pivot['All'])*100\n",
    "income_pivot\n"
   ]
  },
  {
   "cell_type": "markdown",
   "metadata": {},
   "source": [
    "**Conclusion**\n",
    "\n",
    "The default rate depending on income level:\n",
    "\n",
    "**high 32k+: 7.14% | medium high 24-32k: 8.81% | low medium 17-24k: 8.54% | less 17k: 7.96%**\n",
    "\n",
    "Our hypothesis that people with high incomes repay loans more often than people with low incomes was not confirmed. The percentages are almost equal - 7.14 and 7.96% respectively.\n",
    "Also, the percentages in the middle segment of the income level are almost equal, but slightly higher - about 8.5%."
   ]
  },
  {
   "cell_type": "markdown",
   "metadata": {},
   "source": [
    "[Back to Contents](#back)"
   ]
  },
  {
   "cell_type": "markdown",
   "metadata": {},
   "source": [
    "### Hypothesis 4. How does credit purpose affect the default rate? <a id='rate'></a>"
   ]
  },
  {
   "cell_type": "code",
   "execution_count": 49,
   "metadata": {},
   "outputs": [
    {
     "data": {
      "text/html": [
       "<div>\n",
       "<style scoped>\n",
       "    .dataframe tbody tr th:only-of-type {\n",
       "        vertical-align: middle;\n",
       "    }\n",
       "\n",
       "    .dataframe tbody tr th {\n",
       "        vertical-align: top;\n",
       "    }\n",
       "\n",
       "    .dataframe thead th {\n",
       "        text-align: right;\n",
       "    }\n",
       "</style>\n",
       "<table border=\"1\" class=\"dataframe\">\n",
       "  <thead>\n",
       "    <tr style=\"text-align: right;\">\n",
       "      <th>debt</th>\n",
       "      <th>0</th>\n",
       "      <th>1</th>\n",
       "      <th>All</th>\n",
       "      <th>default_rate</th>\n",
       "    </tr>\n",
       "    <tr>\n",
       "      <th>purpose_category</th>\n",
       "      <th></th>\n",
       "      <th></th>\n",
       "      <th></th>\n",
       "      <th></th>\n",
       "    </tr>\n",
       "  </thead>\n",
       "  <tbody>\n",
       "    <tr>\n",
       "      <th>car</th>\n",
       "      <td>3903</td>\n",
       "      <td>403</td>\n",
       "      <td>4306</td>\n",
       "      <td>9.359034</td>\n",
       "    </tr>\n",
       "    <tr>\n",
       "      <th>education</th>\n",
       "      <td>3643</td>\n",
       "      <td>370</td>\n",
       "      <td>4013</td>\n",
       "      <td>9.220035</td>\n",
       "    </tr>\n",
       "    <tr>\n",
       "      <th>real estate</th>\n",
       "      <td>10029</td>\n",
       "      <td>782</td>\n",
       "      <td>10811</td>\n",
       "      <td>7.233373</td>\n",
       "    </tr>\n",
       "    <tr>\n",
       "      <th>wedding</th>\n",
       "      <td>2137</td>\n",
       "      <td>186</td>\n",
       "      <td>2323</td>\n",
       "      <td>8.006888</td>\n",
       "    </tr>\n",
       "    <tr>\n",
       "      <th>All</th>\n",
       "      <td>19712</td>\n",
       "      <td>1741</td>\n",
       "      <td>21453</td>\n",
       "      <td>8.115415</td>\n",
       "    </tr>\n",
       "  </tbody>\n",
       "</table>\n",
       "</div>"
      ],
      "text/plain": [
       "debt                  0     1    All  default_rate\n",
       "purpose_category                                  \n",
       "car                3903   403   4306      9.359034\n",
       "education          3643   370   4013      9.220035\n",
       "real estate       10029   782  10811      7.233373\n",
       "wedding            2137   186   2323      8.006888\n",
       "All               19712  1741  21453      8.115415"
      ]
     },
     "execution_count": 49,
     "metadata": {},
     "output_type": "execute_result"
    }
   ],
   "source": [
    "# Check the percentages for default rate for each credit purpose and analyze them\n",
    "purpose_pivot = pd.pivot_table(\n",
    "    scoring_data,\n",
    "    index='purpose_category',\n",
    "    columns='debt',\n",
    "    values='dob_years',\n",
    "    aggfunc='count', margins=True)\n",
    "\n",
    "# Calculating default-rate based on credit purpose\n",
    "purpose_pivot['default_rate'] = (purpose_pivot[1] / purpose_pivot['All'])*100\n",
    "purpose_pivot\n"
   ]
  },
  {
   "cell_type": "markdown",
   "metadata": {},
   "source": [
    "**Conclusion**\n",
    "\n",
    "The default rate depending on credit purpose:\n",
    "\n",
    "**car: 9.36% | education: 9.22% | real estate: 7.23% | wedding: 8.00%**\n",
    "\n",
    "If we look at the percentages, we can say that education and car purchases have almost the same default rates of just over 9%, wedding loans - 8% and the lowest default rate is real estate loans - 7.23%. The sample of mortgage loans is the most representative."
   ]
  },
  {
   "cell_type": "markdown",
   "metadata": {},
   "source": [
    "[Back to Contents](#back)"
   ]
  },
  {
   "cell_type": "markdown",
   "metadata": {},
   "source": [
    "# General Conclusion <a id='end'></a>\n",
    "\n",
    "We worked with data on bank clients' `total income, loan purpose, age, marital status, and number of children` to prove our hypotheses.\n",
    "We filled in the missing values in the total income column with the median by age category, we separated the purpose of the loan into car purchase, marriage, education, and real estate. We prepared the data for work and changed about 10% of all missing values in data.\n",
    "We grouped the main data table by purpose, marital status, numbers of children and income category. We found default rates for each category in each of these columns.\n",
    "\n",
    "\n",
    "# **Our recommendations to the bank:**\n",
    "- The lowest default rate for loans for the purchase of real estate - 7.23%, the next default rate goes for wedding loans - 8%. Car and education loans are the most problematic, with a default rate of just over 9%.\n",
    "- People with high (32k+) and low (less 17k) total incomes return the best loans - about 7.5%, people with the medium total income ranging from 17k to 32k have a default rate of about 8.5%.\n",
    "- The highest default rate for people who are unmarried or in \"civil partnership\" - about 9% for both groups, the lowest default rating for widows/widowers is 6.6%, and the lowest rate is for married and divorced groups (7.5% and 7.1%)\n",
    "- People who do not have children have a lower default rate (7.5%) than those who have children (range 9-9.5% depending on the number of children)\n",
    "\n",
    "Based on our data, the bank should pay attention to the categories - married, divorced or widows / widowers, without children, with a high(32k+)  or less 17k total income, the purpose of which is to buy real estate.\n",
    "The problematic group is - unmarried or civil partnership, with children, with an average income (18-32k), as well as for the purpose of a loan - education or buying a car."
   ]
  },
  {
   "cell_type": "markdown",
   "metadata": {},
   "source": [
    "[Back to Contents](#back)"
   ]
  }
 ],
 "metadata": {
  "ExecuteTimeLog": [
   {
    "duration": 2741,
    "start_time": "2021-10-21T01:08:49.480Z"
   },
   {
    "duration": 52,
    "start_time": "2021-10-21T01:08:53.315Z"
   },
   {
    "duration": 49,
    "start_time": "2021-10-21T01:08:57.432Z"
   },
   {
    "duration": 70,
    "start_time": "2021-10-21T01:09:07.706Z"
   },
   {
    "duration": 680,
    "start_time": "2022-07-26T12:29:17.099Z"
   },
   {
    "duration": 63,
    "start_time": "2022-07-26T12:33:23.834Z"
   },
   {
    "duration": 114,
    "start_time": "2022-07-26T12:36:19.372Z"
   },
   {
    "duration": 2,
    "start_time": "2022-07-26T12:40:36.796Z"
   },
   {
    "duration": 111,
    "start_time": "2022-07-26T12:42:04.087Z"
   },
   {
    "duration": 13,
    "start_time": "2022-07-26T12:42:09.188Z"
   },
   {
    "duration": 20,
    "start_time": "2022-07-26T12:42:42.346Z"
   },
   {
    "duration": 15,
    "start_time": "2022-07-26T12:49:46.949Z"
   },
   {
    "duration": 60,
    "start_time": "2022-07-26T12:57:51.670Z"
   },
   {
    "duration": 7,
    "start_time": "2022-07-26T13:08:24.736Z"
   },
   {
    "duration": 5,
    "start_time": "2022-07-26T13:08:53.489Z"
   },
   {
    "duration": 13,
    "start_time": "2022-07-26T13:09:37.044Z"
   },
   {
    "duration": 7,
    "start_time": "2022-07-26T13:12:40.974Z"
   },
   {
    "duration": 31,
    "start_time": "2022-07-26T13:12:52.941Z"
   },
   {
    "duration": 24,
    "start_time": "2022-07-26T13:14:52.666Z"
   },
   {
    "duration": 22,
    "start_time": "2022-07-26T13:14:58.746Z"
   },
   {
    "duration": 7,
    "start_time": "2022-07-26T13:15:15.979Z"
   },
   {
    "duration": 23,
    "start_time": "2022-07-26T13:15:23.502Z"
   },
   {
    "duration": 28,
    "start_time": "2022-07-26T13:15:33.589Z"
   },
   {
    "duration": 13,
    "start_time": "2022-07-26T13:16:51.238Z"
   },
   {
    "duration": 7,
    "start_time": "2022-07-26T13:56:48.095Z"
   },
   {
    "duration": 7,
    "start_time": "2022-07-26T13:56:51.268Z"
   },
   {
    "duration": 8,
    "start_time": "2022-07-26T13:57:09.333Z"
   },
   {
    "duration": 6,
    "start_time": "2022-07-26T13:59:14.915Z"
   },
   {
    "duration": 33,
    "start_time": "2022-07-26T13:59:24.220Z"
   },
   {
    "duration": 8,
    "start_time": "2022-07-26T13:59:42.283Z"
   },
   {
    "duration": 11,
    "start_time": "2022-07-26T14:16:01.613Z"
   },
   {
    "duration": 10,
    "start_time": "2022-07-26T14:21:18.219Z"
   },
   {
    "duration": 10,
    "start_time": "2022-07-26T14:21:29.128Z"
   },
   {
    "duration": 4,
    "start_time": "2022-07-26T15:10:22.200Z"
   },
   {
    "duration": 11,
    "start_time": "2022-07-26T15:10:41.255Z"
   },
   {
    "duration": 22,
    "start_time": "2022-07-26T15:11:59.454Z"
   },
   {
    "duration": 16,
    "start_time": "2022-07-26T15:12:07.539Z"
   },
   {
    "duration": 14,
    "start_time": "2022-07-26T15:13:07.926Z"
   },
   {
    "duration": 23,
    "start_time": "2022-07-26T15:13:17.841Z"
   },
   {
    "duration": 954,
    "start_time": "2022-07-26T15:17:21.928Z"
   },
   {
    "duration": 918,
    "start_time": "2022-07-26T15:20:48.919Z"
   },
   {
    "duration": 882,
    "start_time": "2022-07-26T15:22:54.709Z"
   },
   {
    "duration": 22,
    "start_time": "2022-07-26T15:23:47.263Z"
   },
   {
    "duration": 872,
    "start_time": "2022-07-26T15:24:20.101Z"
   },
   {
    "duration": 18,
    "start_time": "2022-07-26T15:24:29.042Z"
   },
   {
    "duration": 16,
    "start_time": "2022-07-26T15:26:36.430Z"
   },
   {
    "duration": 15,
    "start_time": "2022-07-26T15:26:40.742Z"
   },
   {
    "duration": 91,
    "start_time": "2022-07-26T15:26:50.751Z"
   },
   {
    "duration": 31,
    "start_time": "2022-07-26T15:26:50.844Z"
   },
   {
    "duration": 13,
    "start_time": "2022-07-26T15:26:50.876Z"
   },
   {
    "duration": 13,
    "start_time": "2022-07-26T15:26:50.902Z"
   },
   {
    "duration": 10,
    "start_time": "2022-07-26T15:26:50.917Z"
   },
   {
    "duration": 22,
    "start_time": "2022-07-26T15:26:50.929Z"
   },
   {
    "duration": 3,
    "start_time": "2022-07-26T15:26:50.953Z"
   },
   {
    "duration": 4,
    "start_time": "2022-07-26T15:26:50.957Z"
   },
   {
    "duration": 40,
    "start_time": "2022-07-26T15:26:50.962Z"
   },
   {
    "duration": 5,
    "start_time": "2022-07-26T15:26:51.004Z"
   },
   {
    "duration": 4,
    "start_time": "2022-07-26T15:26:51.010Z"
   },
   {
    "duration": 5,
    "start_time": "2022-07-26T15:26:51.016Z"
   },
   {
    "duration": 6,
    "start_time": "2022-07-26T15:26:51.022Z"
   },
   {
    "duration": 3,
    "start_time": "2022-07-26T15:26:51.031Z"
   },
   {
    "duration": 5,
    "start_time": "2022-07-26T15:26:51.035Z"
   },
   {
    "duration": 4,
    "start_time": "2022-07-26T15:26:51.041Z"
   },
   {
    "duration": 5,
    "start_time": "2022-07-26T15:26:51.047Z"
   },
   {
    "duration": 7,
    "start_time": "2022-07-26T15:26:51.053Z"
   },
   {
    "duration": 7,
    "start_time": "2022-07-26T15:26:51.061Z"
   },
   {
    "duration": 5,
    "start_time": "2022-07-26T15:26:51.070Z"
   },
   {
    "duration": 4,
    "start_time": "2022-07-26T15:26:51.076Z"
   },
   {
    "duration": 2,
    "start_time": "2022-07-26T15:26:51.102Z"
   },
   {
    "duration": 5,
    "start_time": "2022-07-26T15:26:51.105Z"
   },
   {
    "duration": 5,
    "start_time": "2022-07-26T15:26:51.112Z"
   },
   {
    "duration": 4,
    "start_time": "2022-07-26T15:26:51.119Z"
   },
   {
    "duration": 4,
    "start_time": "2022-07-26T15:26:51.124Z"
   },
   {
    "duration": 4,
    "start_time": "2022-07-26T15:26:51.130Z"
   },
   {
    "duration": 5,
    "start_time": "2022-07-26T15:26:51.135Z"
   },
   {
    "duration": 4,
    "start_time": "2022-07-26T15:26:51.141Z"
   },
   {
    "duration": 4,
    "start_time": "2022-07-26T15:26:51.147Z"
   },
   {
    "duration": 4,
    "start_time": "2022-07-26T15:26:51.152Z"
   },
   {
    "duration": 6,
    "start_time": "2022-07-26T15:26:51.157Z"
   },
   {
    "duration": 5,
    "start_time": "2022-07-26T15:26:51.164Z"
   },
   {
    "duration": 6,
    "start_time": "2022-07-26T15:26:51.171Z"
   },
   {
    "duration": 24,
    "start_time": "2022-07-26T15:26:51.178Z"
   },
   {
    "duration": 2,
    "start_time": "2022-07-26T15:26:51.204Z"
   },
   {
    "duration": 6,
    "start_time": "2022-07-26T15:26:51.207Z"
   },
   {
    "duration": 4,
    "start_time": "2022-07-26T15:26:51.214Z"
   },
   {
    "duration": 6,
    "start_time": "2022-07-26T15:26:51.220Z"
   },
   {
    "duration": 6,
    "start_time": "2022-07-26T15:26:51.228Z"
   },
   {
    "duration": 3,
    "start_time": "2022-07-26T15:26:51.238Z"
   },
   {
    "duration": 9,
    "start_time": "2022-07-26T15:26:51.242Z"
   },
   {
    "duration": 10,
    "start_time": "2022-07-26T15:26:51.252Z"
   },
   {
    "duration": 5,
    "start_time": "2022-07-26T15:26:51.263Z"
   },
   {
    "duration": 5,
    "start_time": "2022-07-26T15:26:51.269Z"
   },
   {
    "duration": 8,
    "start_time": "2022-07-26T15:26:51.276Z"
   },
   {
    "duration": 11,
    "start_time": "2022-07-26T15:26:51.285Z"
   },
   {
    "duration": 6,
    "start_time": "2022-07-26T15:26:51.297Z"
   },
   {
    "duration": 6,
    "start_time": "2022-07-26T15:26:51.304Z"
   },
   {
    "duration": 5,
    "start_time": "2022-07-26T15:26:51.311Z"
   },
   {
    "duration": 4,
    "start_time": "2022-07-26T15:26:51.317Z"
   },
   {
    "duration": 4,
    "start_time": "2022-07-26T15:26:51.322Z"
   },
   {
    "duration": 7,
    "start_time": "2022-07-26T15:26:51.328Z"
   },
   {
    "duration": 8,
    "start_time": "2022-07-26T15:26:51.336Z"
   },
   {
    "duration": 5,
    "start_time": "2022-07-26T15:26:51.346Z"
   },
   {
    "duration": 4,
    "start_time": "2022-07-26T15:26:51.353Z"
   },
   {
    "duration": 4,
    "start_time": "2022-07-26T15:26:51.358Z"
   },
   {
    "duration": 4,
    "start_time": "2022-07-26T15:26:51.364Z"
   },
   {
    "duration": 5,
    "start_time": "2022-07-26T15:26:51.370Z"
   },
   {
    "duration": 4,
    "start_time": "2022-07-26T15:26:51.376Z"
   },
   {
    "duration": 8,
    "start_time": "2022-07-26T15:26:51.382Z"
   },
   {
    "duration": 5,
    "start_time": "2022-07-26T15:26:51.391Z"
   },
   {
    "duration": 6,
    "start_time": "2022-07-26T15:26:51.397Z"
   },
   {
    "duration": 4,
    "start_time": "2022-07-26T15:26:51.404Z"
   },
   {
    "duration": 4,
    "start_time": "2022-07-26T15:26:51.409Z"
   },
   {
    "duration": 5,
    "start_time": "2022-07-26T15:26:51.414Z"
   },
   {
    "duration": 4,
    "start_time": "2022-07-26T15:26:51.421Z"
   },
   {
    "duration": 4,
    "start_time": "2022-07-26T15:26:51.426Z"
   },
   {
    "duration": 5,
    "start_time": "2022-07-26T15:26:51.432Z"
   },
   {
    "duration": 5,
    "start_time": "2022-07-26T15:26:51.439Z"
   },
   {
    "duration": 4,
    "start_time": "2022-07-26T15:26:51.445Z"
   },
   {
    "duration": 15,
    "start_time": "2022-07-26T15:27:18.984Z"
   },
   {
    "duration": 24,
    "start_time": "2022-07-26T15:30:33.698Z"
   },
   {
    "duration": 20,
    "start_time": "2022-07-26T15:32:12.425Z"
   },
   {
    "duration": 20,
    "start_time": "2022-07-26T15:37:15.659Z"
   },
   {
    "duration": 84,
    "start_time": "2022-07-26T15:38:11.597Z"
   },
   {
    "duration": 28,
    "start_time": "2022-07-26T15:38:11.683Z"
   },
   {
    "duration": 12,
    "start_time": "2022-07-26T15:38:11.712Z"
   },
   {
    "duration": 18,
    "start_time": "2022-07-26T15:38:11.725Z"
   },
   {
    "duration": 8,
    "start_time": "2022-07-26T15:38:11.744Z"
   },
   {
    "duration": 22,
    "start_time": "2022-07-26T15:38:11.754Z"
   },
   {
    "duration": 2,
    "start_time": "2022-07-26T15:38:11.786Z"
   },
   {
    "duration": 12,
    "start_time": "2022-07-26T15:38:11.790Z"
   },
   {
    "duration": 2,
    "start_time": "2022-07-26T15:38:11.825Z"
   },
   {
    "duration": 8,
    "start_time": "2022-07-26T15:38:11.829Z"
   },
   {
    "duration": 2,
    "start_time": "2022-07-26T15:38:12.001Z"
   },
   {
    "duration": 9,
    "start_time": "2022-07-26T15:38:12.005Z"
   },
   {
    "duration": 6,
    "start_time": "2022-07-26T15:38:12.016Z"
   },
   {
    "duration": 8,
    "start_time": "2022-07-26T15:38:12.023Z"
   },
   {
    "duration": 6,
    "start_time": "2022-07-26T15:38:12.032Z"
   },
   {
    "duration": 7,
    "start_time": "2022-07-26T15:38:12.039Z"
   },
   {
    "duration": 2,
    "start_time": "2022-07-26T15:38:12.151Z"
   },
   {
    "duration": 5,
    "start_time": "2022-07-26T15:38:12.155Z"
   },
   {
    "duration": 7,
    "start_time": "2022-07-26T15:38:12.161Z"
   },
   {
    "duration": 7,
    "start_time": "2022-07-26T15:38:12.169Z"
   },
   {
    "duration": 5,
    "start_time": "2022-07-26T15:38:12.178Z"
   },
   {
    "duration": 6,
    "start_time": "2022-07-26T15:38:12.185Z"
   },
   {
    "duration": 2,
    "start_time": "2022-07-26T15:38:12.273Z"
   },
   {
    "duration": 5,
    "start_time": "2022-07-26T15:38:12.277Z"
   },
   {
    "duration": 4,
    "start_time": "2022-07-26T15:38:12.284Z"
   },
   {
    "duration": 4,
    "start_time": "2022-07-26T15:38:12.290Z"
   },
   {
    "duration": 4,
    "start_time": "2022-07-26T15:38:12.295Z"
   },
   {
    "duration": 4,
    "start_time": "2022-07-26T15:38:12.300Z"
   },
   {
    "duration": 9,
    "start_time": "2022-07-26T15:38:12.305Z"
   },
   {
    "duration": 2,
    "start_time": "2022-07-26T15:38:12.404Z"
   },
   {
    "duration": 5,
    "start_time": "2022-07-26T15:38:12.408Z"
   },
   {
    "duration": 5,
    "start_time": "2022-07-26T15:38:12.414Z"
   },
   {
    "duration": 5,
    "start_time": "2022-07-26T15:38:12.421Z"
   },
   {
    "duration": 4,
    "start_time": "2022-07-26T15:38:12.428Z"
   },
   {
    "duration": 5,
    "start_time": "2022-07-26T15:38:12.434Z"
   },
   {
    "duration": 3,
    "start_time": "2022-07-26T15:38:12.530Z"
   },
   {
    "duration": 6,
    "start_time": "2022-07-26T15:38:12.535Z"
   },
   {
    "duration": 7,
    "start_time": "2022-07-26T15:38:12.542Z"
   },
   {
    "duration": 5,
    "start_time": "2022-07-26T15:38:12.550Z"
   },
   {
    "duration": 6,
    "start_time": "2022-07-26T15:38:12.557Z"
   },
   {
    "duration": 7,
    "start_time": "2022-07-26T15:38:12.564Z"
   },
   {
    "duration": 12,
    "start_time": "2022-07-26T15:38:12.573Z"
   },
   {
    "duration": 2,
    "start_time": "2022-07-26T15:38:12.671Z"
   },
   {
    "duration": 5,
    "start_time": "2022-07-26T15:38:12.675Z"
   },
   {
    "duration": 6,
    "start_time": "2022-07-26T15:38:12.681Z"
   },
   {
    "duration": 5,
    "start_time": "2022-07-26T15:38:12.689Z"
   },
   {
    "duration": 8,
    "start_time": "2022-07-26T15:38:12.696Z"
   },
   {
    "duration": 20,
    "start_time": "2022-07-26T15:38:12.705Z"
   },
   {
    "duration": 3,
    "start_time": "2022-07-26T15:38:12.794Z"
   },
   {
    "duration": 14,
    "start_time": "2022-07-26T15:38:12.798Z"
   },
   {
    "duration": 24,
    "start_time": "2022-07-26T15:38:12.813Z"
   },
   {
    "duration": 21,
    "start_time": "2022-07-26T15:38:12.838Z"
   },
   {
    "duration": 31,
    "start_time": "2022-07-26T15:38:12.861Z"
   },
   {
    "duration": 19,
    "start_time": "2022-07-26T15:38:12.893Z"
   },
   {
    "duration": 11,
    "start_time": "2022-07-26T15:38:12.921Z"
   },
   {
    "duration": 22,
    "start_time": "2022-07-26T15:38:12.933Z"
   },
   {
    "duration": 23,
    "start_time": "2022-07-26T15:38:12.956Z"
   },
   {
    "duration": 27,
    "start_time": "2022-07-26T15:38:12.981Z"
   },
   {
    "duration": 18,
    "start_time": "2022-07-26T15:38:13.010Z"
   },
   {
    "duration": 18,
    "start_time": "2022-07-26T15:38:13.030Z"
   },
   {
    "duration": 14,
    "start_time": "2022-07-26T15:38:13.049Z"
   },
   {
    "duration": 21,
    "start_time": "2022-07-26T15:38:13.065Z"
   },
   {
    "duration": 20,
    "start_time": "2022-07-26T15:38:13.087Z"
   },
   {
    "duration": 26,
    "start_time": "2022-07-26T15:38:13.108Z"
   },
   {
    "duration": 11,
    "start_time": "2022-07-26T15:38:13.136Z"
   },
   {
    "duration": 22,
    "start_time": "2022-07-26T15:38:13.149Z"
   },
   {
    "duration": 17,
    "start_time": "2022-07-26T15:38:13.173Z"
   },
   {
    "duration": 17,
    "start_time": "2022-07-26T15:38:13.193Z"
   },
   {
    "duration": 18,
    "start_time": "2022-07-26T15:38:13.212Z"
   },
   {
    "duration": 13,
    "start_time": "2022-07-26T15:38:13.231Z"
   },
   {
    "duration": 30,
    "start_time": "2022-07-26T15:38:13.245Z"
   },
   {
    "duration": 91,
    "start_time": "2022-07-26T15:38:37.933Z"
   },
   {
    "duration": 32,
    "start_time": "2022-07-26T15:38:38.025Z"
   },
   {
    "duration": 14,
    "start_time": "2022-07-26T15:38:38.059Z"
   },
   {
    "duration": 37,
    "start_time": "2022-07-26T15:38:38.075Z"
   },
   {
    "duration": 9,
    "start_time": "2022-07-26T15:38:38.115Z"
   },
   {
    "duration": 5,
    "start_time": "2022-07-26T15:38:38.126Z"
   },
   {
    "duration": 4,
    "start_time": "2022-07-26T15:38:38.132Z"
   },
   {
    "duration": 5,
    "start_time": "2022-07-26T15:38:38.138Z"
   },
   {
    "duration": 6,
    "start_time": "2022-07-26T15:38:38.144Z"
   },
   {
    "duration": 13,
    "start_time": "2022-07-26T15:38:38.152Z"
   },
   {
    "duration": 3,
    "start_time": "2022-07-26T15:38:38.183Z"
   },
   {
    "duration": 4,
    "start_time": "2022-07-26T15:38:38.188Z"
   },
   {
    "duration": 11,
    "start_time": "2022-07-26T15:38:38.193Z"
   },
   {
    "duration": 4,
    "start_time": "2022-07-26T15:38:38.206Z"
   },
   {
    "duration": 5,
    "start_time": "2022-07-26T15:38:38.212Z"
   },
   {
    "duration": 4,
    "start_time": "2022-07-26T15:38:38.218Z"
   },
   {
    "duration": 2,
    "start_time": "2022-07-26T15:38:38.308Z"
   },
   {
    "duration": 5,
    "start_time": "2022-07-26T15:38:38.311Z"
   },
   {
    "duration": 5,
    "start_time": "2022-07-26T15:38:38.318Z"
   },
   {
    "duration": 2,
    "start_time": "2022-07-26T15:38:38.327Z"
   },
   {
    "duration": 3,
    "start_time": "2022-07-26T15:38:38.331Z"
   },
   {
    "duration": 4,
    "start_time": "2022-07-26T15:38:38.336Z"
   },
   {
    "duration": 2,
    "start_time": "2022-07-26T15:38:38.454Z"
   },
   {
    "duration": 5,
    "start_time": "2022-07-26T15:38:38.458Z"
   },
   {
    "duration": 9,
    "start_time": "2022-07-26T15:38:38.464Z"
   },
   {
    "duration": 8,
    "start_time": "2022-07-26T15:38:38.475Z"
   },
   {
    "duration": 4,
    "start_time": "2022-07-26T15:38:38.485Z"
   },
   {
    "duration": 4,
    "start_time": "2022-07-26T15:38:38.491Z"
   },
   {
    "duration": 7,
    "start_time": "2022-07-26T15:38:38.496Z"
   },
   {
    "duration": 2,
    "start_time": "2022-07-26T15:38:38.580Z"
   },
   {
    "duration": 7,
    "start_time": "2022-07-26T15:38:38.584Z"
   },
   {
    "duration": 4,
    "start_time": "2022-07-26T15:38:38.593Z"
   },
   {
    "duration": 7,
    "start_time": "2022-07-26T15:38:38.599Z"
   },
   {
    "duration": 6,
    "start_time": "2022-07-26T15:38:38.608Z"
   },
   {
    "duration": 5,
    "start_time": "2022-07-26T15:38:38.615Z"
   },
   {
    "duration": 2,
    "start_time": "2022-07-26T15:38:38.705Z"
   },
   {
    "duration": 4,
    "start_time": "2022-07-26T15:38:38.709Z"
   },
   {
    "duration": 7,
    "start_time": "2022-07-26T15:38:38.715Z"
   },
   {
    "duration": 5,
    "start_time": "2022-07-26T15:38:38.724Z"
   },
   {
    "duration": 5,
    "start_time": "2022-07-26T15:38:38.731Z"
   },
   {
    "duration": 4,
    "start_time": "2022-07-26T15:38:38.737Z"
   },
   {
    "duration": 2,
    "start_time": "2022-07-26T15:38:38.841Z"
   },
   {
    "duration": 9,
    "start_time": "2022-07-26T15:38:38.846Z"
   },
   {
    "duration": 7,
    "start_time": "2022-07-26T15:38:38.857Z"
   },
   {
    "duration": 10,
    "start_time": "2022-07-26T15:38:38.865Z"
   },
   {
    "duration": 5,
    "start_time": "2022-07-26T15:38:38.877Z"
   },
   {
    "duration": 6,
    "start_time": "2022-07-26T15:38:38.884Z"
   },
   {
    "duration": 5,
    "start_time": "2022-07-26T15:38:38.892Z"
   },
   {
    "duration": 2,
    "start_time": "2022-07-26T15:38:38.964Z"
   },
   {
    "duration": 7,
    "start_time": "2022-07-26T15:38:38.968Z"
   },
   {
    "duration": 6,
    "start_time": "2022-07-26T15:38:38.976Z"
   },
   {
    "duration": 6,
    "start_time": "2022-07-26T15:38:38.983Z"
   },
   {
    "duration": 4,
    "start_time": "2022-07-26T15:38:38.992Z"
   },
   {
    "duration": 8,
    "start_time": "2022-07-26T15:38:38.998Z"
   },
   {
    "duration": 2,
    "start_time": "2022-07-26T15:38:39.090Z"
   },
   {
    "duration": 4,
    "start_time": "2022-07-26T15:38:39.095Z"
   },
   {
    "duration": 4,
    "start_time": "2022-07-26T15:38:39.101Z"
   },
   {
    "duration": 3,
    "start_time": "2022-07-26T15:38:39.107Z"
   },
   {
    "duration": 5,
    "start_time": "2022-07-26T15:38:39.113Z"
   },
   {
    "duration": 4,
    "start_time": "2022-07-26T15:38:39.119Z"
   },
   {
    "duration": 7,
    "start_time": "2022-07-26T15:38:39.125Z"
   },
   {
    "duration": 3,
    "start_time": "2022-07-26T15:38:39.214Z"
   },
   {
    "duration": 5,
    "start_time": "2022-07-26T15:38:39.219Z"
   },
   {
    "duration": 5,
    "start_time": "2022-07-26T15:38:39.225Z"
   },
   {
    "duration": 4,
    "start_time": "2022-07-26T15:38:39.231Z"
   },
   {
    "duration": 4,
    "start_time": "2022-07-26T15:38:39.237Z"
   },
   {
    "duration": 4,
    "start_time": "2022-07-26T15:38:39.242Z"
   },
   {
    "duration": 2,
    "start_time": "2022-07-26T15:38:39.343Z"
   },
   {
    "duration": 4,
    "start_time": "2022-07-26T15:38:39.348Z"
   },
   {
    "duration": 5,
    "start_time": "2022-07-26T15:38:39.354Z"
   },
   {
    "duration": 8,
    "start_time": "2022-07-26T15:38:39.361Z"
   },
   {
    "duration": 8,
    "start_time": "2022-07-26T15:38:53.988Z"
   },
   {
    "duration": 21,
    "start_time": "2022-07-26T15:39:32.244Z"
   },
   {
    "duration": 21,
    "start_time": "2022-07-26T15:41:38.165Z"
   },
   {
    "duration": 632,
    "start_time": "2022-07-26T15:42:34.064Z"
   },
   {
    "duration": 71,
    "start_time": "2022-07-26T15:42:52.746Z"
   },
   {
    "duration": 20,
    "start_time": "2022-07-26T15:47:11.137Z"
   },
   {
    "duration": 27,
    "start_time": "2022-07-26T15:47:58.672Z"
   },
   {
    "duration": 28,
    "start_time": "2022-07-26T15:48:42.383Z"
   },
   {
    "duration": 17,
    "start_time": "2022-07-26T15:49:16.236Z"
   },
   {
    "duration": 31,
    "start_time": "2022-07-26T15:49:52.168Z"
   },
   {
    "duration": 21,
    "start_time": "2022-07-26T15:50:21.603Z"
   },
   {
    "duration": 23,
    "start_time": "2022-07-26T15:55:24.722Z"
   },
   {
    "duration": 22,
    "start_time": "2022-07-26T15:56:00.251Z"
   },
   {
    "duration": 12,
    "start_time": "2022-07-26T15:57:45.474Z"
   },
   {
    "duration": 86,
    "start_time": "2022-07-26T15:57:52.413Z"
   },
   {
    "duration": 29,
    "start_time": "2022-07-26T15:57:52.500Z"
   },
   {
    "duration": 13,
    "start_time": "2022-07-26T15:57:52.530Z"
   },
   {
    "duration": 13,
    "start_time": "2022-07-26T15:57:52.545Z"
   },
   {
    "duration": 8,
    "start_time": "2022-07-26T15:57:52.559Z"
   },
   {
    "duration": 40,
    "start_time": "2022-07-26T15:57:52.569Z"
   },
   {
    "duration": 5,
    "start_time": "2022-07-26T15:57:52.611Z"
   },
   {
    "duration": 5,
    "start_time": "2022-07-26T15:57:52.618Z"
   },
   {
    "duration": 4,
    "start_time": "2022-07-26T15:57:52.624Z"
   },
   {
    "duration": 4,
    "start_time": "2022-07-26T15:57:52.630Z"
   },
   {
    "duration": 5,
    "start_time": "2022-07-26T15:57:52.635Z"
   },
   {
    "duration": 6,
    "start_time": "2022-07-26T15:57:52.641Z"
   },
   {
    "duration": 5,
    "start_time": "2022-07-26T15:57:52.648Z"
   },
   {
    "duration": 4,
    "start_time": "2022-07-26T15:57:52.655Z"
   },
   {
    "duration": 8,
    "start_time": "2022-07-26T15:57:52.660Z"
   },
   {
    "duration": 6,
    "start_time": "2022-07-26T15:57:52.670Z"
   },
   {
    "duration": 24,
    "start_time": "2022-07-26T15:57:52.678Z"
   },
   {
    "duration": 4,
    "start_time": "2022-07-26T15:57:52.705Z"
   },
   {
    "duration": 5,
    "start_time": "2022-07-26T15:57:52.710Z"
   },
   {
    "duration": 5,
    "start_time": "2022-07-26T15:57:52.716Z"
   },
   {
    "duration": 5,
    "start_time": "2022-07-26T15:57:52.723Z"
   },
   {
    "duration": 5,
    "start_time": "2022-07-26T15:57:52.730Z"
   },
   {
    "duration": 6,
    "start_time": "2022-07-26T15:57:52.737Z"
   },
   {
    "duration": 5,
    "start_time": "2022-07-26T15:57:52.744Z"
   },
   {
    "duration": 5,
    "start_time": "2022-07-26T15:57:52.750Z"
   },
   {
    "duration": 14,
    "start_time": "2022-07-26T15:57:52.758Z"
   },
   {
    "duration": 4,
    "start_time": "2022-07-26T15:57:52.774Z"
   },
   {
    "duration": 9,
    "start_time": "2022-07-26T15:57:52.780Z"
   },
   {
    "duration": 7,
    "start_time": "2022-07-26T15:57:52.791Z"
   },
   {
    "duration": 8,
    "start_time": "2022-07-26T15:57:52.802Z"
   },
   {
    "duration": 6,
    "start_time": "2022-07-26T15:57:52.812Z"
   },
   {
    "duration": 5,
    "start_time": "2022-07-26T15:57:52.821Z"
   },
   {
    "duration": 5,
    "start_time": "2022-07-26T15:57:52.827Z"
   },
   {
    "duration": 5,
    "start_time": "2022-07-26T15:57:52.834Z"
   },
   {
    "duration": 5,
    "start_time": "2022-07-26T15:57:52.840Z"
   },
   {
    "duration": 6,
    "start_time": "2022-07-26T15:57:52.846Z"
   },
   {
    "duration": 4,
    "start_time": "2022-07-26T15:57:52.854Z"
   },
   {
    "duration": 2,
    "start_time": "2022-07-26T15:57:52.875Z"
   },
   {
    "duration": 10,
    "start_time": "2022-07-26T15:57:52.879Z"
   },
   {
    "duration": 7,
    "start_time": "2022-07-26T15:57:52.890Z"
   },
   {
    "duration": 5,
    "start_time": "2022-07-26T15:57:52.898Z"
   },
   {
    "duration": 6,
    "start_time": "2022-07-26T15:57:52.904Z"
   },
   {
    "duration": 2,
    "start_time": "2022-07-26T15:57:52.932Z"
   },
   {
    "duration": 7,
    "start_time": "2022-07-26T15:57:52.936Z"
   },
   {
    "duration": 5,
    "start_time": "2022-07-26T15:57:52.945Z"
   },
   {
    "duration": 5,
    "start_time": "2022-07-26T15:57:52.951Z"
   },
   {
    "duration": 5,
    "start_time": "2022-07-26T15:57:52.958Z"
   },
   {
    "duration": 5,
    "start_time": "2022-07-26T15:57:52.964Z"
   },
   {
    "duration": 2,
    "start_time": "2022-07-26T15:57:53.010Z"
   },
   {
    "duration": 7,
    "start_time": "2022-07-26T15:57:53.014Z"
   },
   {
    "duration": 4,
    "start_time": "2022-07-26T15:57:53.023Z"
   },
   {
    "duration": 5,
    "start_time": "2022-07-26T15:57:53.028Z"
   },
   {
    "duration": 8,
    "start_time": "2022-07-26T15:57:53.035Z"
   },
   {
    "duration": 2,
    "start_time": "2022-07-26T15:57:53.057Z"
   },
   {
    "duration": 7,
    "start_time": "2022-07-26T15:57:53.061Z"
   },
   {
    "duration": 4,
    "start_time": "2022-07-26T15:57:53.069Z"
   },
   {
    "duration": 4,
    "start_time": "2022-07-26T15:57:53.075Z"
   },
   {
    "duration": 5,
    "start_time": "2022-07-26T15:57:53.081Z"
   },
   {
    "duration": 4,
    "start_time": "2022-07-26T15:57:53.087Z"
   },
   {
    "duration": 2,
    "start_time": "2022-07-26T15:57:53.133Z"
   },
   {
    "duration": 5,
    "start_time": "2022-07-26T15:57:53.136Z"
   },
   {
    "duration": 6,
    "start_time": "2022-07-26T15:57:53.142Z"
   },
   {
    "duration": 11,
    "start_time": "2022-07-26T15:57:53.149Z"
   },
   {
    "duration": 5,
    "start_time": "2022-07-26T15:57:53.161Z"
   },
   {
    "duration": 1,
    "start_time": "2022-07-26T15:57:53.184Z"
   },
   {
    "duration": 8,
    "start_time": "2022-07-26T15:57:53.187Z"
   },
   {
    "duration": 5,
    "start_time": "2022-07-26T15:57:53.196Z"
   },
   {
    "duration": 5,
    "start_time": "2022-07-26T15:57:53.202Z"
   },
   {
    "duration": 6,
    "start_time": "2022-07-26T15:57:53.208Z"
   },
   {
    "duration": 4,
    "start_time": "2022-07-26T15:57:53.215Z"
   },
   {
    "duration": 2,
    "start_time": "2022-07-26T15:57:53.266Z"
   },
   {
    "duration": 871,
    "start_time": "2022-07-26T15:58:21.954Z"
   },
   {
    "duration": 20,
    "start_time": "2022-07-26T15:58:43.628Z"
   },
   {
    "duration": 21,
    "start_time": "2022-07-26T15:59:49.744Z"
   },
   {
    "duration": 23,
    "start_time": "2022-07-26T16:00:31.479Z"
   },
   {
    "duration": 17,
    "start_time": "2022-07-26T16:00:51.180Z"
   },
   {
    "duration": 88,
    "start_time": "2022-07-26T16:01:07.858Z"
   },
   {
    "duration": 29,
    "start_time": "2022-07-26T16:01:07.948Z"
   },
   {
    "duration": 13,
    "start_time": "2022-07-26T16:01:07.978Z"
   },
   {
    "duration": 16,
    "start_time": "2022-07-26T16:01:07.992Z"
   },
   {
    "duration": 8,
    "start_time": "2022-07-26T16:01:08.009Z"
   },
   {
    "duration": 18,
    "start_time": "2022-07-26T16:01:08.018Z"
   },
   {
    "duration": 2,
    "start_time": "2022-07-26T16:01:08.037Z"
   },
   {
    "duration": 6,
    "start_time": "2022-07-26T16:01:08.040Z"
   },
   {
    "duration": 7,
    "start_time": "2022-07-26T16:01:08.047Z"
   },
   {
    "duration": 5,
    "start_time": "2022-07-26T16:01:08.056Z"
   },
   {
    "duration": 4,
    "start_time": "2022-07-26T16:01:08.062Z"
   },
   {
    "duration": 4,
    "start_time": "2022-07-26T16:01:08.068Z"
   },
   {
    "duration": 6,
    "start_time": "2022-07-26T16:01:08.074Z"
   },
   {
    "duration": 21,
    "start_time": "2022-07-26T16:01:08.081Z"
   },
   {
    "duration": 7,
    "start_time": "2022-07-26T16:01:08.104Z"
   },
   {
    "duration": 8,
    "start_time": "2022-07-26T16:01:08.112Z"
   },
   {
    "duration": 7,
    "start_time": "2022-07-26T16:01:08.121Z"
   },
   {
    "duration": 5,
    "start_time": "2022-07-26T16:01:08.130Z"
   },
   {
    "duration": 6,
    "start_time": "2022-07-26T16:01:08.137Z"
   },
   {
    "duration": 5,
    "start_time": "2022-07-26T16:01:08.144Z"
   },
   {
    "duration": 5,
    "start_time": "2022-07-26T16:01:08.150Z"
   },
   {
    "duration": 5,
    "start_time": "2022-07-26T16:01:08.156Z"
   },
   {
    "duration": 7,
    "start_time": "2022-07-26T16:01:08.162Z"
   },
   {
    "duration": 8,
    "start_time": "2022-07-26T16:01:08.170Z"
   },
   {
    "duration": 7,
    "start_time": "2022-07-26T16:01:08.180Z"
   },
   {
    "duration": 4,
    "start_time": "2022-07-26T16:01:08.189Z"
   },
   {
    "duration": 2,
    "start_time": "2022-07-26T16:01:08.202Z"
   },
   {
    "duration": 3,
    "start_time": "2022-07-26T16:01:08.206Z"
   },
   {
    "duration": 6,
    "start_time": "2022-07-26T16:01:08.211Z"
   },
   {
    "duration": 4,
    "start_time": "2022-07-26T16:01:08.218Z"
   },
   {
    "duration": 3,
    "start_time": "2022-07-26T16:01:08.224Z"
   },
   {
    "duration": 2,
    "start_time": "2022-07-26T16:01:08.234Z"
   },
   {
    "duration": 8,
    "start_time": "2022-07-26T16:01:08.237Z"
   },
   {
    "duration": 4,
    "start_time": "2022-07-26T16:01:08.246Z"
   },
   {
    "duration": 12,
    "start_time": "2022-07-26T16:01:08.251Z"
   },
   {
    "duration": 5,
    "start_time": "2022-07-26T16:01:08.265Z"
   },
   {
    "duration": 7,
    "start_time": "2022-07-26T16:01:08.271Z"
   },
   {
    "duration": 4,
    "start_time": "2022-07-26T16:01:08.280Z"
   },
   {
    "duration": 5,
    "start_time": "2022-07-26T16:01:08.285Z"
   },
   {
    "duration": 4,
    "start_time": "2022-07-26T16:01:08.301Z"
   },
   {
    "duration": 5,
    "start_time": "2022-07-26T16:01:08.306Z"
   },
   {
    "duration": 2,
    "start_time": "2022-07-26T16:01:08.329Z"
   },
   {
    "duration": 2,
    "start_time": "2022-07-26T16:01:08.357Z"
   },
   {
    "duration": 4,
    "start_time": "2022-07-26T16:01:08.362Z"
   },
   {
    "duration": 7,
    "start_time": "2022-07-26T16:01:08.368Z"
   },
   {
    "duration": 4,
    "start_time": "2022-07-26T16:01:08.377Z"
   },
   {
    "duration": 6,
    "start_time": "2022-07-26T16:01:08.383Z"
   },
   {
    "duration": 5,
    "start_time": "2022-07-26T16:01:08.391Z"
   },
   {
    "duration": 6,
    "start_time": "2022-07-26T16:01:08.398Z"
   },
   {
    "duration": 4,
    "start_time": "2022-07-26T16:01:08.406Z"
   },
   {
    "duration": 8,
    "start_time": "2022-07-26T16:01:08.412Z"
   },
   {
    "duration": 6,
    "start_time": "2022-07-26T16:01:08.422Z"
   },
   {
    "duration": 2,
    "start_time": "2022-07-26T16:01:08.450Z"
   },
   {
    "duration": 2,
    "start_time": "2022-07-26T16:01:08.480Z"
   },
   {
    "duration": 5,
    "start_time": "2022-07-26T16:01:08.484Z"
   },
   {
    "duration": 7,
    "start_time": "2022-07-26T16:01:08.491Z"
   },
   {
    "duration": 4,
    "start_time": "2022-07-26T16:01:08.500Z"
   },
   {
    "duration": 3,
    "start_time": "2022-07-26T16:01:08.508Z"
   },
   {
    "duration": 5,
    "start_time": "2022-07-26T16:01:08.513Z"
   },
   {
    "duration": 6,
    "start_time": "2022-07-26T16:01:08.520Z"
   },
   {
    "duration": 2,
    "start_time": "2022-07-26T16:01:08.552Z"
   },
   {
    "duration": 3,
    "start_time": "2022-07-26T16:01:08.557Z"
   },
   {
    "duration": 6,
    "start_time": "2022-07-26T16:01:08.562Z"
   },
   {
    "duration": 5,
    "start_time": "2022-07-26T16:01:08.572Z"
   },
   {
    "duration": 2,
    "start_time": "2022-07-26T16:01:08.624Z"
   },
   {
    "duration": 13,
    "start_time": "2022-07-26T16:01:08.627Z"
   },
   {
    "duration": 5,
    "start_time": "2022-07-26T16:01:08.641Z"
   },
   {
    "duration": 5,
    "start_time": "2022-07-26T16:01:08.647Z"
   },
   {
    "duration": 4,
    "start_time": "2022-07-26T16:01:08.654Z"
   },
   {
    "duration": 4,
    "start_time": "2022-07-26T16:01:08.660Z"
   },
   {
    "duration": 5,
    "start_time": "2022-07-26T16:01:08.666Z"
   },
   {
    "duration": 12,
    "start_time": "2022-07-26T16:03:08.584Z"
   },
   {
    "duration": 8,
    "start_time": "2022-07-26T16:11:15.960Z"
   },
   {
    "duration": 11,
    "start_time": "2022-07-26T16:11:33.250Z"
   },
   {
    "duration": 8,
    "start_time": "2022-07-26T16:12:13.341Z"
   },
   {
    "duration": 11,
    "start_time": "2022-07-26T16:12:41.610Z"
   },
   {
    "duration": 9,
    "start_time": "2022-07-26T16:14:01.802Z"
   },
   {
    "duration": 6,
    "start_time": "2022-07-26T16:16:06.359Z"
   },
   {
    "duration": 8,
    "start_time": "2022-07-26T16:17:52.610Z"
   },
   {
    "duration": 79,
    "start_time": "2022-07-26T16:18:12.978Z"
   },
   {
    "duration": 6,
    "start_time": "2022-07-26T16:18:20.070Z"
   },
   {
    "duration": 12,
    "start_time": "2022-07-26T16:19:08.220Z"
   },
   {
    "duration": 8,
    "start_time": "2022-07-26T16:20:32.405Z"
   },
   {
    "duration": 6,
    "start_time": "2022-07-26T16:22:59.393Z"
   },
   {
    "duration": 13,
    "start_time": "2022-07-26T17:20:51.104Z"
   },
   {
    "duration": 14,
    "start_time": "2022-07-26T17:21:04.080Z"
   },
   {
    "duration": 13,
    "start_time": "2022-07-26T17:21:13.651Z"
   },
   {
    "duration": 14,
    "start_time": "2022-07-26T17:21:36.820Z"
   },
   {
    "duration": 11,
    "start_time": "2022-07-26T17:21:44.253Z"
   },
   {
    "duration": 11,
    "start_time": "2022-07-26T17:21:48.076Z"
   },
   {
    "duration": 15,
    "start_time": "2022-07-26T17:31:10.997Z"
   },
   {
    "duration": 27,
    "start_time": "2022-07-26T17:36:46.148Z"
   },
   {
    "duration": 39,
    "start_time": "2022-07-26T17:42:04.601Z"
   },
   {
    "duration": 35,
    "start_time": "2022-07-26T17:42:42.699Z"
   },
   {
    "duration": 41,
    "start_time": "2022-07-26T17:43:29.071Z"
   },
   {
    "duration": 24,
    "start_time": "2022-07-26T17:44:24.958Z"
   },
   {
    "duration": 7,
    "start_time": "2022-07-26T17:47:50.931Z"
   },
   {
    "duration": 55,
    "start_time": "2022-07-26T17:48:57.484Z"
   },
   {
    "duration": 31,
    "start_time": "2022-07-26T17:49:29.352Z"
   },
   {
    "duration": 32,
    "start_time": "2022-07-26T17:50:02.861Z"
   },
   {
    "duration": 31,
    "start_time": "2022-07-26T17:52:19.549Z"
   },
   {
    "duration": 23,
    "start_time": "2022-07-26T17:52:44.856Z"
   },
   {
    "duration": 90,
    "start_time": "2022-07-26T17:52:54.920Z"
   },
   {
    "duration": 32,
    "start_time": "2022-07-26T17:52:55.012Z"
   },
   {
    "duration": 12,
    "start_time": "2022-07-26T17:52:55.046Z"
   },
   {
    "duration": 18,
    "start_time": "2022-07-26T17:52:55.060Z"
   },
   {
    "duration": 29,
    "start_time": "2022-07-26T17:52:55.079Z"
   },
   {
    "duration": 37,
    "start_time": "2022-07-26T17:52:55.110Z"
   },
   {
    "duration": 28,
    "start_time": "2022-07-26T17:52:55.149Z"
   },
   {
    "duration": 22,
    "start_time": "2022-07-26T17:52:55.179Z"
   },
   {
    "duration": 29,
    "start_time": "2022-07-26T17:52:55.213Z"
   },
   {
    "duration": 3,
    "start_time": "2022-07-26T17:52:55.245Z"
   },
   {
    "duration": 4,
    "start_time": "2022-07-26T17:52:55.250Z"
   },
   {
    "duration": 4,
    "start_time": "2022-07-26T17:52:55.255Z"
   },
   {
    "duration": 4,
    "start_time": "2022-07-26T17:52:55.260Z"
   },
   {
    "duration": 6,
    "start_time": "2022-07-26T17:52:55.266Z"
   },
   {
    "duration": 13,
    "start_time": "2022-07-26T17:52:55.273Z"
   },
   {
    "duration": 6,
    "start_time": "2022-07-26T17:52:55.288Z"
   },
   {
    "duration": 33,
    "start_time": "2022-07-26T17:52:55.296Z"
   },
   {
    "duration": 9,
    "start_time": "2022-07-26T17:52:55.331Z"
   },
   {
    "duration": 5,
    "start_time": "2022-07-26T17:52:55.342Z"
   },
   {
    "duration": 5,
    "start_time": "2022-07-26T17:52:55.349Z"
   },
   {
    "duration": 4,
    "start_time": "2022-07-26T17:52:55.357Z"
   },
   {
    "duration": 4,
    "start_time": "2022-07-26T17:52:55.363Z"
   },
   {
    "duration": 7,
    "start_time": "2022-07-26T17:52:55.369Z"
   },
   {
    "duration": 4,
    "start_time": "2022-07-26T17:52:55.378Z"
   },
   {
    "duration": 6,
    "start_time": "2022-07-26T17:52:55.384Z"
   },
   {
    "duration": 6,
    "start_time": "2022-07-26T17:52:55.391Z"
   },
   {
    "duration": 7,
    "start_time": "2022-07-26T17:52:55.398Z"
   },
   {
    "duration": 15,
    "start_time": "2022-07-26T17:52:55.407Z"
   },
   {
    "duration": 11,
    "start_time": "2022-07-26T17:52:55.424Z"
   },
   {
    "duration": 4,
    "start_time": "2022-07-26T17:52:55.437Z"
   },
   {
    "duration": 5,
    "start_time": "2022-07-26T17:52:55.443Z"
   },
   {
    "duration": 9,
    "start_time": "2022-07-26T17:52:55.450Z"
   },
   {
    "duration": 4,
    "start_time": "2022-07-26T17:52:55.460Z"
   },
   {
    "duration": 4,
    "start_time": "2022-07-26T17:52:55.465Z"
   },
   {
    "duration": 6,
    "start_time": "2022-07-26T17:52:55.471Z"
   },
   {
    "duration": 16,
    "start_time": "2022-07-26T17:52:55.480Z"
   },
   {
    "duration": 5,
    "start_time": "2022-07-26T17:52:55.498Z"
   },
   {
    "duration": 18,
    "start_time": "2022-07-26T17:52:55.504Z"
   },
   {
    "duration": 6,
    "start_time": "2022-07-26T17:52:55.524Z"
   },
   {
    "duration": 5,
    "start_time": "2022-07-26T17:52:55.531Z"
   },
   {
    "duration": 2,
    "start_time": "2022-07-26T17:52:55.548Z"
   },
   {
    "duration": 4,
    "start_time": "2022-07-26T17:52:55.552Z"
   },
   {
    "duration": 11,
    "start_time": "2022-07-26T17:52:55.557Z"
   },
   {
    "duration": 7,
    "start_time": "2022-07-26T17:52:55.569Z"
   },
   {
    "duration": 8,
    "start_time": "2022-07-26T17:52:55.578Z"
   },
   {
    "duration": 6,
    "start_time": "2022-07-26T17:52:55.588Z"
   },
   {
    "duration": 7,
    "start_time": "2022-07-26T17:52:55.595Z"
   },
   {
    "duration": 18,
    "start_time": "2022-07-26T17:52:55.603Z"
   },
   {
    "duration": 10,
    "start_time": "2022-07-26T17:52:55.623Z"
   },
   {
    "duration": 2,
    "start_time": "2022-07-26T17:52:55.685Z"
   },
   {
    "duration": 4,
    "start_time": "2022-07-26T17:52:55.689Z"
   },
   {
    "duration": 5,
    "start_time": "2022-07-26T17:52:55.694Z"
   },
   {
    "duration": 18,
    "start_time": "2022-07-26T17:52:55.700Z"
   },
   {
    "duration": 7,
    "start_time": "2022-07-26T17:52:55.721Z"
   },
   {
    "duration": 5,
    "start_time": "2022-07-26T17:52:55.729Z"
   },
   {
    "duration": 5,
    "start_time": "2022-07-26T17:52:55.735Z"
   },
   {
    "duration": 5,
    "start_time": "2022-07-26T17:52:55.741Z"
   },
   {
    "duration": 4,
    "start_time": "2022-07-26T17:52:55.747Z"
   },
   {
    "duration": 4,
    "start_time": "2022-07-26T17:52:55.753Z"
   },
   {
    "duration": 3,
    "start_time": "2022-07-26T17:52:55.813Z"
   },
   {
    "duration": 12,
    "start_time": "2022-07-26T17:52:55.818Z"
   },
   {
    "duration": 4,
    "start_time": "2022-07-26T17:52:55.832Z"
   },
   {
    "duration": 6,
    "start_time": "2022-07-26T17:52:55.837Z"
   },
   {
    "duration": 4,
    "start_time": "2022-07-26T17:52:55.845Z"
   },
   {
    "duration": 5,
    "start_time": "2022-07-26T17:52:55.850Z"
   },
   {
    "duration": 4,
    "start_time": "2022-07-26T17:52:55.856Z"
   },
   {
    "duration": 4,
    "start_time": "2022-07-26T17:52:55.862Z"
   },
   {
    "duration": 5,
    "start_time": "2022-07-26T17:52:55.868Z"
   },
   {
    "duration": 2,
    "start_time": "2022-07-26T17:52:55.948Z"
   },
   {
    "duration": 6,
    "start_time": "2022-07-26T17:52:55.952Z"
   },
   {
    "duration": 5,
    "start_time": "2022-07-26T17:52:55.959Z"
   },
   {
    "duration": 21,
    "start_time": "2022-07-26T17:53:23.947Z"
   },
   {
    "duration": 1157,
    "start_time": "2022-07-26T17:54:15.328Z"
   },
   {
    "duration": 20,
    "start_time": "2022-07-26T17:55:41.873Z"
   },
   {
    "duration": 21,
    "start_time": "2022-07-26T17:56:14.260Z"
   },
   {
    "duration": 28,
    "start_time": "2022-07-26T17:56:41.323Z"
   },
   {
    "duration": 26,
    "start_time": "2022-07-26T17:56:56.629Z"
   },
   {
    "duration": 19,
    "start_time": "2022-07-26T17:57:10.736Z"
   },
   {
    "duration": 28,
    "start_time": "2022-07-26T17:58:56.758Z"
   },
   {
    "duration": 30,
    "start_time": "2022-07-26T17:59:00.139Z"
   },
   {
    "duration": 25,
    "start_time": "2022-07-26T17:59:04.145Z"
   },
   {
    "duration": 21,
    "start_time": "2022-07-26T17:59:32.329Z"
   },
   {
    "duration": 19,
    "start_time": "2022-07-26T17:59:54.064Z"
   },
   {
    "duration": 21,
    "start_time": "2022-07-26T18:00:41.050Z"
   },
   {
    "duration": 32,
    "start_time": "2022-07-26T18:01:12.909Z"
   },
   {
    "duration": 19,
    "start_time": "2022-07-26T18:03:32.819Z"
   },
   {
    "duration": 18,
    "start_time": "2022-07-26T18:04:11.589Z"
   },
   {
    "duration": 26,
    "start_time": "2022-07-26T18:13:31.716Z"
   },
   {
    "duration": 25,
    "start_time": "2022-07-26T18:14:51.074Z"
   },
   {
    "duration": 24,
    "start_time": "2022-07-26T18:16:02.708Z"
   },
   {
    "duration": 22,
    "start_time": "2022-07-26T18:18:30.735Z"
   },
   {
    "duration": 64,
    "start_time": "2022-07-26T18:22:45.256Z"
   },
   {
    "duration": 20,
    "start_time": "2022-07-26T18:23:56.189Z"
   },
   {
    "duration": 22,
    "start_time": "2022-07-26T18:24:28.216Z"
   },
   {
    "duration": 22,
    "start_time": "2022-07-26T18:26:05.297Z"
   },
   {
    "duration": 19,
    "start_time": "2022-07-26T18:30:15.137Z"
   },
   {
    "duration": 24,
    "start_time": "2022-07-26T18:30:42.774Z"
   },
   {
    "duration": 18,
    "start_time": "2022-07-26T18:32:18.915Z"
   },
   {
    "duration": 18,
    "start_time": "2022-07-26T18:32:33.238Z"
   },
   {
    "duration": 19,
    "start_time": "2022-07-26T18:34:02.177Z"
   },
   {
    "duration": 18,
    "start_time": "2022-07-26T18:34:08.054Z"
   },
   {
    "duration": 27,
    "start_time": "2022-07-26T18:34:24.298Z"
   },
   {
    "duration": 35,
    "start_time": "2022-07-26T18:34:35.547Z"
   },
   {
    "duration": 33,
    "start_time": "2022-07-26T18:53:35.127Z"
   },
   {
    "duration": 23,
    "start_time": "2022-07-26T18:53:44.862Z"
   },
   {
    "duration": 22,
    "start_time": "2022-07-26T18:54:02.748Z"
   },
   {
    "duration": 19,
    "start_time": "2022-07-26T20:00:15.372Z"
   },
   {
    "duration": 27,
    "start_time": "2022-07-26T20:06:31.382Z"
   },
   {
    "duration": 20,
    "start_time": "2022-07-26T20:07:59.183Z"
   },
   {
    "duration": 18,
    "start_time": "2022-07-26T20:08:20.362Z"
   },
   {
    "duration": 19,
    "start_time": "2022-07-26T20:08:32.555Z"
   },
   {
    "duration": 27,
    "start_time": "2022-07-26T20:09:52.968Z"
   },
   {
    "duration": 14,
    "start_time": "2022-07-26T20:12:39.996Z"
   },
   {
    "duration": 16,
    "start_time": "2022-07-26T20:12:56.857Z"
   },
   {
    "duration": 20,
    "start_time": "2022-07-26T20:37:20.520Z"
   },
   {
    "duration": 18,
    "start_time": "2022-07-26T20:38:36.171Z"
   },
   {
    "duration": 19,
    "start_time": "2022-07-26T20:40:32.051Z"
   },
   {
    "duration": 47,
    "start_time": "2022-07-27T15:41:20.087Z"
   },
   {
    "duration": 6,
    "start_time": "2022-07-27T15:41:55.549Z"
   },
   {
    "duration": 620,
    "start_time": "2022-07-27T15:42:02.878Z"
   },
   {
    "duration": 38,
    "start_time": "2022-07-27T15:42:03.500Z"
   },
   {
    "duration": 13,
    "start_time": "2022-07-27T15:42:03.540Z"
   },
   {
    "duration": 18,
    "start_time": "2022-07-27T15:42:03.554Z"
   },
   {
    "duration": 12,
    "start_time": "2022-07-27T15:42:03.574Z"
   },
   {
    "duration": 6,
    "start_time": "2022-07-27T15:42:03.588Z"
   },
   {
    "duration": 4,
    "start_time": "2022-07-27T15:42:03.596Z"
   },
   {
    "duration": 44,
    "start_time": "2022-07-27T15:42:03.602Z"
   },
   {
    "duration": 2,
    "start_time": "2022-07-27T15:42:03.661Z"
   },
   {
    "duration": 6,
    "start_time": "2022-07-27T15:42:03.665Z"
   },
   {
    "duration": 6,
    "start_time": "2022-07-27T15:42:03.672Z"
   },
   {
    "duration": 6,
    "start_time": "2022-07-27T15:42:03.679Z"
   },
   {
    "duration": 10,
    "start_time": "2022-07-27T15:42:03.686Z"
   },
   {
    "duration": 5,
    "start_time": "2022-07-27T15:42:03.700Z"
   },
   {
    "duration": 10,
    "start_time": "2022-07-27T15:42:03.706Z"
   },
   {
    "duration": 6,
    "start_time": "2022-07-27T15:42:03.718Z"
   },
   {
    "duration": 11,
    "start_time": "2022-07-27T15:42:03.726Z"
   },
   {
    "duration": 12,
    "start_time": "2022-07-27T15:42:03.738Z"
   },
   {
    "duration": 9,
    "start_time": "2022-07-27T15:42:03.752Z"
   },
   {
    "duration": 6,
    "start_time": "2022-07-27T15:42:03.763Z"
   },
   {
    "duration": 11,
    "start_time": "2022-07-27T15:42:03.770Z"
   },
   {
    "duration": 9,
    "start_time": "2022-07-27T15:42:03.783Z"
   },
   {
    "duration": 11,
    "start_time": "2022-07-27T15:42:03.793Z"
   },
   {
    "duration": 15,
    "start_time": "2022-07-27T15:42:03.805Z"
   },
   {
    "duration": 5,
    "start_time": "2022-07-27T15:42:03.822Z"
   },
   {
    "duration": 8,
    "start_time": "2022-07-27T15:42:03.828Z"
   },
   {
    "duration": 11,
    "start_time": "2022-07-27T15:42:03.837Z"
   },
   {
    "duration": 10,
    "start_time": "2022-07-27T15:42:03.850Z"
   },
   {
    "duration": 11,
    "start_time": "2022-07-27T15:42:03.861Z"
   },
   {
    "duration": 8,
    "start_time": "2022-07-27T15:42:03.874Z"
   },
   {
    "duration": 13,
    "start_time": "2022-07-27T15:42:03.884Z"
   },
   {
    "duration": 7,
    "start_time": "2022-07-27T15:42:03.898Z"
   },
   {
    "duration": 6,
    "start_time": "2022-07-27T15:42:03.907Z"
   },
   {
    "duration": 8,
    "start_time": "2022-07-27T15:42:03.914Z"
   },
   {
    "duration": 9,
    "start_time": "2022-07-27T15:42:03.924Z"
   },
   {
    "duration": 9,
    "start_time": "2022-07-27T15:42:03.935Z"
   },
   {
    "duration": 7,
    "start_time": "2022-07-27T15:42:03.945Z"
   },
   {
    "duration": 8,
    "start_time": "2022-07-27T15:42:03.954Z"
   },
   {
    "duration": 11,
    "start_time": "2022-07-27T15:42:03.963Z"
   },
   {
    "duration": 10,
    "start_time": "2022-07-27T15:42:03.976Z"
   },
   {
    "duration": 8,
    "start_time": "2022-07-27T15:42:03.990Z"
   },
   {
    "duration": 8,
    "start_time": "2022-07-27T15:42:04.000Z"
   },
   {
    "duration": 5,
    "start_time": "2022-07-27T15:42:04.010Z"
   },
   {
    "duration": 7,
    "start_time": "2022-07-27T15:42:04.017Z"
   },
   {
    "duration": 6,
    "start_time": "2022-07-27T15:42:04.026Z"
   },
   {
    "duration": 5,
    "start_time": "2022-07-27T15:42:04.033Z"
   },
   {
    "duration": 13,
    "start_time": "2022-07-27T15:42:04.039Z"
   },
   {
    "duration": 15,
    "start_time": "2022-07-27T15:42:04.053Z"
   },
   {
    "duration": 6,
    "start_time": "2022-07-27T15:42:04.071Z"
   },
   {
    "duration": 12,
    "start_time": "2022-07-27T15:42:04.079Z"
   },
   {
    "duration": 8,
    "start_time": "2022-07-27T15:42:04.093Z"
   },
   {
    "duration": 9,
    "start_time": "2022-07-27T15:42:04.102Z"
   },
   {
    "duration": 8,
    "start_time": "2022-07-27T15:42:04.112Z"
   },
   {
    "duration": 6,
    "start_time": "2022-07-27T15:42:04.121Z"
   },
   {
    "duration": 5,
    "start_time": "2022-07-27T15:42:04.129Z"
   },
   {
    "duration": 5,
    "start_time": "2022-07-27T15:42:04.136Z"
   },
   {
    "duration": 5,
    "start_time": "2022-07-27T15:42:04.143Z"
   },
   {
    "duration": 6,
    "start_time": "2022-07-27T15:42:04.150Z"
   },
   {
    "duration": 5,
    "start_time": "2022-07-27T15:42:04.157Z"
   },
   {
    "duration": 12,
    "start_time": "2022-07-27T15:42:04.164Z"
   },
   {
    "duration": 7,
    "start_time": "2022-07-27T15:42:04.177Z"
   },
   {
    "duration": 10,
    "start_time": "2022-07-27T15:42:04.185Z"
   },
   {
    "duration": 7,
    "start_time": "2022-07-27T15:42:04.197Z"
   },
   {
    "duration": 5,
    "start_time": "2022-07-27T15:42:04.206Z"
   },
   {
    "duration": 7,
    "start_time": "2022-07-27T15:42:04.212Z"
   },
   {
    "duration": 7,
    "start_time": "2022-07-27T15:42:04.220Z"
   },
   {
    "duration": 8,
    "start_time": "2022-07-27T15:42:04.228Z"
   },
   {
    "duration": 11,
    "start_time": "2022-07-27T15:42:04.238Z"
   },
   {
    "duration": 8,
    "start_time": "2022-07-27T15:42:04.250Z"
   },
   {
    "duration": 6,
    "start_time": "2022-07-27T15:42:04.259Z"
   },
   {
    "duration": 8,
    "start_time": "2022-07-27T15:42:04.266Z"
   },
   {
    "duration": 6,
    "start_time": "2022-07-27T15:53:25.991Z"
   },
   {
    "duration": 8,
    "start_time": "2022-07-27T15:55:17.796Z"
   },
   {
    "duration": 15,
    "start_time": "2022-07-27T15:58:34.864Z"
   },
   {
    "duration": 13,
    "start_time": "2022-07-27T17:17:38.997Z"
   },
   {
    "duration": 14,
    "start_time": "2022-07-27T17:17:55.534Z"
   },
   {
    "duration": 12,
    "start_time": "2022-07-27T17:18:28.422Z"
   },
   {
    "duration": 29,
    "start_time": "2022-07-27T17:23:13.740Z"
   },
   {
    "duration": 27,
    "start_time": "2022-07-27T17:23:32.691Z"
   },
   {
    "duration": 16,
    "start_time": "2022-07-27T17:27:11.489Z"
   },
   {
    "duration": 23,
    "start_time": "2022-07-27T17:27:57.378Z"
   },
   {
    "duration": 23,
    "start_time": "2022-07-27T17:29:00.896Z"
   },
   {
    "duration": 23,
    "start_time": "2022-07-27T17:29:04.790Z"
   },
   {
    "duration": 77,
    "start_time": "2022-07-27T18:01:03.421Z"
   },
   {
    "duration": 13,
    "start_time": "2022-07-27T18:01:03.500Z"
   },
   {
    "duration": 15,
    "start_time": "2022-07-27T18:01:03.515Z"
   },
   {
    "duration": 12,
    "start_time": "2022-07-27T18:01:03.532Z"
   },
   {
    "duration": 45,
    "start_time": "2022-07-27T18:01:03.546Z"
   },
   {
    "duration": 11,
    "start_time": "2022-07-27T18:01:03.592Z"
   },
   {
    "duration": 8,
    "start_time": "2022-07-27T18:01:03.604Z"
   },
   {
    "duration": 4,
    "start_time": "2022-07-27T18:01:03.613Z"
   },
   {
    "duration": 61,
    "start_time": "2022-07-27T18:01:03.619Z"
   },
   {
    "duration": 2,
    "start_time": "2022-07-27T18:01:03.682Z"
   },
   {
    "duration": 6,
    "start_time": "2022-07-27T18:01:03.685Z"
   },
   {
    "duration": 5,
    "start_time": "2022-07-27T18:01:03.692Z"
   },
   {
    "duration": 16,
    "start_time": "2022-07-27T18:01:03.699Z"
   },
   {
    "duration": 2,
    "start_time": "2022-07-27T18:01:03.717Z"
   },
   {
    "duration": 5,
    "start_time": "2022-07-27T18:01:03.721Z"
   },
   {
    "duration": 14,
    "start_time": "2022-07-27T18:01:03.728Z"
   },
   {
    "duration": 24,
    "start_time": "2022-07-27T18:01:03.760Z"
   },
   {
    "duration": 13,
    "start_time": "2022-07-27T18:01:03.785Z"
   },
   {
    "duration": 5,
    "start_time": "2022-07-27T18:01:03.800Z"
   },
   {
    "duration": 6,
    "start_time": "2022-07-27T18:01:03.807Z"
   },
   {
    "duration": 6,
    "start_time": "2022-07-27T18:01:03.814Z"
   },
   {
    "duration": 6,
    "start_time": "2022-07-27T18:01:03.821Z"
   },
   {
    "duration": 6,
    "start_time": "2022-07-27T18:01:03.828Z"
   },
   {
    "duration": 6,
    "start_time": "2022-07-27T18:01:03.836Z"
   },
   {
    "duration": 8,
    "start_time": "2022-07-27T18:01:03.844Z"
   },
   {
    "duration": 3,
    "start_time": "2022-07-27T18:01:03.856Z"
   },
   {
    "duration": 9,
    "start_time": "2022-07-27T18:01:03.861Z"
   },
   {
    "duration": 5,
    "start_time": "2022-07-27T18:01:03.872Z"
   },
   {
    "duration": 7,
    "start_time": "2022-07-27T18:01:03.878Z"
   },
   {
    "duration": 6,
    "start_time": "2022-07-27T18:01:03.886Z"
   },
   {
    "duration": 7,
    "start_time": "2022-07-27T18:01:03.893Z"
   },
   {
    "duration": 5,
    "start_time": "2022-07-27T18:01:03.901Z"
   },
   {
    "duration": 6,
    "start_time": "2022-07-27T18:01:03.907Z"
   },
   {
    "duration": 6,
    "start_time": "2022-07-27T18:01:03.915Z"
   },
   {
    "duration": 7,
    "start_time": "2022-07-27T18:01:03.923Z"
   },
   {
    "duration": 6,
    "start_time": "2022-07-27T18:01:03.931Z"
   },
   {
    "duration": 8,
    "start_time": "2022-07-27T18:01:03.938Z"
   },
   {
    "duration": 9,
    "start_time": "2022-07-27T18:01:03.948Z"
   },
   {
    "duration": 6,
    "start_time": "2022-07-27T18:01:03.959Z"
   },
   {
    "duration": 6,
    "start_time": "2022-07-27T18:01:03.966Z"
   },
   {
    "duration": 6,
    "start_time": "2022-07-27T18:01:03.973Z"
   },
   {
    "duration": 7,
    "start_time": "2022-07-27T18:01:03.980Z"
   },
   {
    "duration": 7,
    "start_time": "2022-07-27T18:01:03.988Z"
   },
   {
    "duration": 12,
    "start_time": "2022-07-27T18:01:03.996Z"
   },
   {
    "duration": 7,
    "start_time": "2022-07-27T18:01:04.009Z"
   },
   {
    "duration": 6,
    "start_time": "2022-07-27T18:01:04.018Z"
   },
   {
    "duration": 82,
    "start_time": "2022-07-27T18:01:04.025Z"
   },
   {
    "duration": 48,
    "start_time": "2022-07-27T18:01:04.109Z"
   },
   {
    "duration": 17,
    "start_time": "2022-07-27T18:01:04.158Z"
   },
   {
    "duration": 9,
    "start_time": "2022-07-27T18:01:04.176Z"
   },
   {
    "duration": 6,
    "start_time": "2022-07-27T18:01:04.187Z"
   },
   {
    "duration": 6,
    "start_time": "2022-07-27T18:01:04.194Z"
   },
   {
    "duration": 5,
    "start_time": "2022-07-27T18:01:04.202Z"
   },
   {
    "duration": 9,
    "start_time": "2022-07-27T18:01:04.208Z"
   },
   {
    "duration": 10,
    "start_time": "2022-07-27T18:01:04.218Z"
   },
   {
    "duration": 6,
    "start_time": "2022-07-27T18:01:04.230Z"
   },
   {
    "duration": 8,
    "start_time": "2022-07-27T18:01:04.237Z"
   },
   {
    "duration": 7,
    "start_time": "2022-07-27T18:01:04.246Z"
   },
   {
    "duration": 4,
    "start_time": "2022-07-27T18:01:04.255Z"
   },
   {
    "duration": 2,
    "start_time": "2022-07-27T18:01:04.263Z"
   },
   {
    "duration": 10,
    "start_time": "2022-07-27T18:01:04.266Z"
   },
   {
    "duration": 20,
    "start_time": "2022-07-27T18:01:04.277Z"
   },
   {
    "duration": 8,
    "start_time": "2022-07-27T18:01:04.298Z"
   },
   {
    "duration": 8,
    "start_time": "2022-07-27T18:01:04.307Z"
   },
   {
    "duration": 6,
    "start_time": "2022-07-27T18:01:04.317Z"
   },
   {
    "duration": 9,
    "start_time": "2022-07-27T18:01:04.325Z"
   },
   {
    "duration": 7,
    "start_time": "2022-07-27T18:01:04.335Z"
   },
   {
    "duration": 5,
    "start_time": "2022-07-27T18:01:04.344Z"
   },
   {
    "duration": 6,
    "start_time": "2022-07-27T18:01:04.351Z"
   },
   {
    "duration": 14,
    "start_time": "2022-07-27T18:01:04.358Z"
   },
   {
    "duration": 7,
    "start_time": "2022-07-27T18:01:04.373Z"
   },
   {
    "duration": 7,
    "start_time": "2022-07-27T18:01:04.381Z"
   },
   {
    "duration": 5,
    "start_time": "2022-07-27T18:04:50.070Z"
   },
   {
    "duration": 91,
    "start_time": "2022-07-27T18:05:00.265Z"
   },
   {
    "duration": 15,
    "start_time": "2022-07-27T18:05:00.358Z"
   },
   {
    "duration": 17,
    "start_time": "2022-07-27T18:05:00.375Z"
   },
   {
    "duration": 12,
    "start_time": "2022-07-27T18:05:00.394Z"
   },
   {
    "duration": 57,
    "start_time": "2022-07-27T18:05:00.407Z"
   },
   {
    "duration": 9,
    "start_time": "2022-07-27T18:05:00.465Z"
   },
   {
    "duration": 13,
    "start_time": "2022-07-27T18:05:00.476Z"
   },
   {
    "duration": 10,
    "start_time": "2022-07-27T18:05:00.491Z"
   },
   {
    "duration": 56,
    "start_time": "2022-07-27T18:05:00.502Z"
   },
   {
    "duration": 2,
    "start_time": "2022-07-27T18:05:00.561Z"
   },
   {
    "duration": 21,
    "start_time": "2022-07-27T18:05:00.565Z"
   },
   {
    "duration": 15,
    "start_time": "2022-07-27T18:05:00.587Z"
   },
   {
    "duration": 32,
    "start_time": "2022-07-27T18:05:00.603Z"
   },
   {
    "duration": 21,
    "start_time": "2022-07-27T18:05:00.637Z"
   },
   {
    "duration": 9,
    "start_time": "2022-07-27T18:05:00.660Z"
   },
   {
    "duration": 3,
    "start_time": "2022-07-27T18:05:00.670Z"
   },
   {
    "duration": 26,
    "start_time": "2022-07-27T18:05:00.674Z"
   },
   {
    "duration": 13,
    "start_time": "2022-07-27T18:05:00.701Z"
   },
   {
    "duration": 8,
    "start_time": "2022-07-27T18:05:00.716Z"
   },
   {
    "duration": 19,
    "start_time": "2022-07-27T18:05:00.725Z"
   },
   {
    "duration": 17,
    "start_time": "2022-07-27T18:05:00.746Z"
   },
   {
    "duration": 21,
    "start_time": "2022-07-27T18:05:00.765Z"
   },
   {
    "duration": 19,
    "start_time": "2022-07-27T18:05:00.787Z"
   },
   {
    "duration": 19,
    "start_time": "2022-07-27T18:05:00.808Z"
   },
   {
    "duration": 13,
    "start_time": "2022-07-27T18:05:00.828Z"
   },
   {
    "duration": 10,
    "start_time": "2022-07-27T18:05:00.843Z"
   },
   {
    "duration": 15,
    "start_time": "2022-07-27T18:05:00.855Z"
   },
   {
    "duration": 8,
    "start_time": "2022-07-27T18:05:00.874Z"
   },
   {
    "duration": 17,
    "start_time": "2022-07-27T18:05:00.884Z"
   },
   {
    "duration": 8,
    "start_time": "2022-07-27T18:05:00.903Z"
   },
   {
    "duration": 17,
    "start_time": "2022-07-27T18:05:00.913Z"
   },
   {
    "duration": 14,
    "start_time": "2022-07-27T18:05:00.932Z"
   },
   {
    "duration": 12,
    "start_time": "2022-07-27T18:05:00.947Z"
   },
   {
    "duration": 6,
    "start_time": "2022-07-27T18:05:00.960Z"
   },
   {
    "duration": 7,
    "start_time": "2022-07-27T18:05:00.968Z"
   },
   {
    "duration": 23,
    "start_time": "2022-07-27T18:05:00.977Z"
   },
   {
    "duration": 16,
    "start_time": "2022-07-27T18:05:01.002Z"
   },
   {
    "duration": 8,
    "start_time": "2022-07-27T18:05:01.020Z"
   },
   {
    "duration": 18,
    "start_time": "2022-07-27T18:05:01.029Z"
   },
   {
    "duration": 17,
    "start_time": "2022-07-27T18:05:01.049Z"
   },
   {
    "duration": 39,
    "start_time": "2022-07-27T18:05:01.067Z"
   },
   {
    "duration": 34,
    "start_time": "2022-07-27T18:05:01.108Z"
   },
   {
    "duration": 13,
    "start_time": "2022-07-27T18:05:01.143Z"
   },
   {
    "duration": 24,
    "start_time": "2022-07-27T18:05:01.158Z"
   },
   {
    "duration": 18,
    "start_time": "2022-07-27T18:05:01.184Z"
   },
   {
    "duration": 58,
    "start_time": "2022-07-27T18:05:01.204Z"
   },
   {
    "duration": 20,
    "start_time": "2022-07-27T18:05:01.263Z"
   },
   {
    "duration": 13,
    "start_time": "2022-07-27T18:05:01.285Z"
   },
   {
    "duration": 12,
    "start_time": "2022-07-27T18:05:01.300Z"
   },
   {
    "duration": 29,
    "start_time": "2022-07-27T18:05:01.314Z"
   },
   {
    "duration": 10,
    "start_time": "2022-07-27T18:05:01.344Z"
   },
   {
    "duration": 19,
    "start_time": "2022-07-27T18:05:01.355Z"
   },
   {
    "duration": 15,
    "start_time": "2022-07-27T18:05:01.376Z"
   },
   {
    "duration": 18,
    "start_time": "2022-07-27T18:05:01.393Z"
   },
   {
    "duration": 24,
    "start_time": "2022-07-27T18:05:01.412Z"
   },
   {
    "duration": 32,
    "start_time": "2022-07-27T18:05:01.438Z"
   },
   {
    "duration": 18,
    "start_time": "2022-07-27T18:05:01.472Z"
   },
   {
    "duration": 40,
    "start_time": "2022-07-27T18:05:01.492Z"
   },
   {
    "duration": 25,
    "start_time": "2022-07-27T18:05:01.534Z"
   },
   {
    "duration": 5,
    "start_time": "2022-07-27T18:05:01.561Z"
   },
   {
    "duration": 6,
    "start_time": "2022-07-27T18:05:01.568Z"
   },
   {
    "duration": 9,
    "start_time": "2022-07-27T18:05:01.575Z"
   },
   {
    "duration": 31,
    "start_time": "2022-07-27T18:05:01.586Z"
   },
   {
    "duration": 15,
    "start_time": "2022-07-27T18:05:01.619Z"
   },
   {
    "duration": 25,
    "start_time": "2022-07-27T18:05:01.635Z"
   },
   {
    "duration": 28,
    "start_time": "2022-07-27T18:05:01.661Z"
   },
   {
    "duration": 20,
    "start_time": "2022-07-27T18:05:01.691Z"
   },
   {
    "duration": 7,
    "start_time": "2022-07-27T18:05:01.713Z"
   },
   {
    "duration": 7,
    "start_time": "2022-07-27T18:05:01.722Z"
   },
   {
    "duration": 11,
    "start_time": "2022-07-27T18:05:01.731Z"
   },
   {
    "duration": 29,
    "start_time": "2022-07-27T18:05:01.744Z"
   },
   {
    "duration": 28,
    "start_time": "2022-07-27T18:05:01.775Z"
   },
   {
    "duration": 5,
    "start_time": "2022-07-27T18:05:56.851Z"
   },
   {
    "duration": 46,
    "start_time": "2022-07-28T08:30:43.072Z"
   },
   {
    "duration": 6,
    "start_time": "2022-07-28T08:30:48.230Z"
   },
   {
    "duration": 590,
    "start_time": "2022-07-28T08:30:55.937Z"
   },
   {
    "duration": 15,
    "start_time": "2022-07-28T08:30:56.528Z"
   },
   {
    "duration": 47,
    "start_time": "2022-07-28T08:30:56.545Z"
   },
   {
    "duration": 14,
    "start_time": "2022-07-28T08:30:56.593Z"
   },
   {
    "duration": 67,
    "start_time": "2022-07-28T08:30:56.609Z"
   },
   {
    "duration": 32,
    "start_time": "2022-07-28T08:30:56.678Z"
   },
   {
    "duration": 18,
    "start_time": "2022-07-28T08:30:56.712Z"
   },
   {
    "duration": 45,
    "start_time": "2022-07-28T08:30:56.732Z"
   },
   {
    "duration": 51,
    "start_time": "2022-07-28T08:30:56.779Z"
   },
   {
    "duration": 6,
    "start_time": "2022-07-28T08:30:56.832Z"
   },
   {
    "duration": 29,
    "start_time": "2022-07-28T08:30:56.839Z"
   },
   {
    "duration": 40,
    "start_time": "2022-07-28T08:30:56.870Z"
   },
   {
    "duration": 39,
    "start_time": "2022-07-28T08:30:56.911Z"
   },
   {
    "duration": 18,
    "start_time": "2022-07-28T08:30:56.954Z"
   },
   {
    "duration": 31,
    "start_time": "2022-07-28T08:30:56.973Z"
   },
   {
    "duration": 12,
    "start_time": "2022-07-28T08:30:57.005Z"
   },
   {
    "duration": 30,
    "start_time": "2022-07-28T08:30:57.018Z"
   },
   {
    "duration": 42,
    "start_time": "2022-07-28T08:30:57.050Z"
   },
   {
    "duration": 26,
    "start_time": "2022-07-28T08:30:57.093Z"
   },
   {
    "duration": 32,
    "start_time": "2022-07-28T08:30:57.121Z"
   },
   {
    "duration": 35,
    "start_time": "2022-07-28T08:30:57.154Z"
   },
   {
    "duration": 22,
    "start_time": "2022-07-28T08:30:57.191Z"
   },
   {
    "duration": 41,
    "start_time": "2022-07-28T08:30:57.215Z"
   },
   {
    "duration": 31,
    "start_time": "2022-07-28T08:30:57.258Z"
   },
   {
    "duration": 36,
    "start_time": "2022-07-28T08:30:57.290Z"
   },
   {
    "duration": 33,
    "start_time": "2022-07-28T08:30:57.328Z"
   },
   {
    "duration": 21,
    "start_time": "2022-07-28T08:30:57.363Z"
   },
   {
    "duration": 38,
    "start_time": "2022-07-28T08:30:57.385Z"
   },
   {
    "duration": 20,
    "start_time": "2022-07-28T08:30:57.425Z"
   },
   {
    "duration": 44,
    "start_time": "2022-07-28T08:30:57.447Z"
   },
   {
    "duration": 25,
    "start_time": "2022-07-28T08:30:57.492Z"
   },
   {
    "duration": 46,
    "start_time": "2022-07-28T08:30:57.519Z"
   },
   {
    "duration": 29,
    "start_time": "2022-07-28T08:30:57.567Z"
   },
   {
    "duration": 24,
    "start_time": "2022-07-28T08:30:57.597Z"
   },
   {
    "duration": 5,
    "start_time": "2022-07-28T08:30:57.623Z"
   },
   {
    "duration": 6,
    "start_time": "2022-07-28T08:30:57.630Z"
   },
   {
    "duration": 5,
    "start_time": "2022-07-28T08:30:57.637Z"
   },
   {
    "duration": 7,
    "start_time": "2022-07-28T08:30:57.643Z"
   },
   {
    "duration": 5,
    "start_time": "2022-07-28T08:30:57.652Z"
   },
   {
    "duration": 7,
    "start_time": "2022-07-28T08:30:57.659Z"
   },
   {
    "duration": 3,
    "start_time": "2022-07-28T08:30:57.669Z"
   },
   {
    "duration": 6,
    "start_time": "2022-07-28T08:30:57.673Z"
   },
   {
    "duration": 6,
    "start_time": "2022-07-28T08:30:57.680Z"
   },
   {
    "duration": 14,
    "start_time": "2022-07-28T08:30:57.687Z"
   },
   {
    "duration": 5,
    "start_time": "2022-07-28T08:30:57.702Z"
   },
   {
    "duration": 12,
    "start_time": "2022-07-28T08:30:57.708Z"
   },
   {
    "duration": 18,
    "start_time": "2022-07-28T08:30:57.721Z"
   },
   {
    "duration": 7,
    "start_time": "2022-07-28T08:30:57.741Z"
   },
   {
    "duration": 6,
    "start_time": "2022-07-28T08:30:57.749Z"
   },
   {
    "duration": 5,
    "start_time": "2022-07-28T08:30:57.756Z"
   },
   {
    "duration": 5,
    "start_time": "2022-07-28T08:30:57.763Z"
   },
   {
    "duration": 5,
    "start_time": "2022-07-28T08:30:57.769Z"
   },
   {
    "duration": 5,
    "start_time": "2022-07-28T08:30:57.776Z"
   },
   {
    "duration": 9,
    "start_time": "2022-07-28T08:30:57.782Z"
   },
   {
    "duration": 7,
    "start_time": "2022-07-28T08:30:57.793Z"
   },
   {
    "duration": 5,
    "start_time": "2022-07-28T08:30:57.802Z"
   },
   {
    "duration": 8,
    "start_time": "2022-07-28T08:30:57.808Z"
   },
   {
    "duration": 7,
    "start_time": "2022-07-28T08:30:57.817Z"
   },
   {
    "duration": 5,
    "start_time": "2022-07-28T08:30:57.825Z"
   },
   {
    "duration": 12,
    "start_time": "2022-07-28T08:30:57.832Z"
   },
   {
    "duration": 4,
    "start_time": "2022-07-28T08:30:57.846Z"
   },
   {
    "duration": 5,
    "start_time": "2022-07-28T08:30:57.852Z"
   },
   {
    "duration": 8,
    "start_time": "2022-07-28T08:30:57.858Z"
   },
   {
    "duration": 5,
    "start_time": "2022-07-28T08:30:57.867Z"
   },
   {
    "duration": 6,
    "start_time": "2022-07-28T08:30:57.873Z"
   },
   {
    "duration": 4,
    "start_time": "2022-07-28T08:30:57.881Z"
   },
   {
    "duration": 5,
    "start_time": "2022-07-28T08:30:57.887Z"
   },
   {
    "duration": 5,
    "start_time": "2022-07-28T08:30:57.893Z"
   },
   {
    "duration": 5,
    "start_time": "2022-07-28T08:30:57.900Z"
   },
   {
    "duration": 7,
    "start_time": "2022-07-28T08:30:57.906Z"
   },
   {
    "duration": 19,
    "start_time": "2022-07-28T08:30:57.914Z"
   },
   {
    "duration": 5,
    "start_time": "2022-07-28T08:30:57.934Z"
   },
   {
    "duration": 26,
    "start_time": "2022-07-28T08:55:39.045Z"
   },
   {
    "duration": 6,
    "start_time": "2022-07-28T08:56:25.036Z"
   },
   {
    "duration": 6,
    "start_time": "2022-07-28T08:56:41.889Z"
   },
   {
    "duration": 11,
    "start_time": "2022-07-28T08:57:43.804Z"
   },
   {
    "duration": 16,
    "start_time": "2022-07-28T08:58:34.703Z"
   },
   {
    "duration": 13,
    "start_time": "2022-07-28T08:59:06.319Z"
   },
   {
    "duration": 13,
    "start_time": "2022-07-28T09:05:12.240Z"
   },
   {
    "duration": 81,
    "start_time": "2022-07-28T09:05:26.060Z"
   },
   {
    "duration": 14,
    "start_time": "2022-07-28T09:05:26.142Z"
   },
   {
    "duration": 20,
    "start_time": "2022-07-28T09:05:26.158Z"
   },
   {
    "duration": 12,
    "start_time": "2022-07-28T09:05:26.180Z"
   },
   {
    "duration": 47,
    "start_time": "2022-07-28T09:05:26.195Z"
   },
   {
    "duration": 10,
    "start_time": "2022-07-28T09:05:26.243Z"
   },
   {
    "duration": 13,
    "start_time": "2022-07-28T09:05:26.255Z"
   },
   {
    "duration": 7,
    "start_time": "2022-07-28T09:05:26.271Z"
   },
   {
    "duration": 66,
    "start_time": "2022-07-28T09:05:26.280Z"
   },
   {
    "duration": 3,
    "start_time": "2022-07-28T09:05:26.347Z"
   },
   {
    "duration": 16,
    "start_time": "2022-07-28T09:05:26.351Z"
   },
   {
    "duration": 5,
    "start_time": "2022-07-28T09:05:26.369Z"
   },
   {
    "duration": 9,
    "start_time": "2022-07-28T09:05:26.376Z"
   },
   {
    "duration": 16,
    "start_time": "2022-07-28T09:05:26.388Z"
   },
   {
    "duration": 10,
    "start_time": "2022-07-28T09:05:26.405Z"
   },
   {
    "duration": 6,
    "start_time": "2022-07-28T09:07:54.627Z"
   },
   {
    "duration": 15,
    "start_time": "2022-07-28T09:10:59.012Z"
   },
   {
    "duration": 6,
    "start_time": "2022-07-28T09:11:18.049Z"
   },
   {
    "duration": 7,
    "start_time": "2022-07-28T09:15:29.825Z"
   },
   {
    "duration": 79,
    "start_time": "2022-07-28T09:15:46.490Z"
   },
   {
    "duration": 14,
    "start_time": "2022-07-28T09:15:46.571Z"
   },
   {
    "duration": 15,
    "start_time": "2022-07-28T09:15:46.586Z"
   },
   {
    "duration": 36,
    "start_time": "2022-07-28T09:15:46.602Z"
   },
   {
    "duration": 34,
    "start_time": "2022-07-28T09:15:46.640Z"
   },
   {
    "duration": 9,
    "start_time": "2022-07-28T09:15:46.675Z"
   },
   {
    "duration": 5,
    "start_time": "2022-07-28T09:15:46.685Z"
   },
   {
    "duration": 5,
    "start_time": "2022-07-28T09:15:46.692Z"
   },
   {
    "duration": 73,
    "start_time": "2022-07-28T09:15:46.698Z"
   },
   {
    "duration": 2,
    "start_time": "2022-07-28T09:15:46.772Z"
   },
   {
    "duration": 7,
    "start_time": "2022-07-28T09:15:46.776Z"
   },
   {
    "duration": 9,
    "start_time": "2022-07-28T09:15:46.784Z"
   },
   {
    "duration": 8,
    "start_time": "2022-07-28T09:15:46.794Z"
   },
   {
    "duration": 38,
    "start_time": "2022-07-28T09:15:46.805Z"
   },
   {
    "duration": 6,
    "start_time": "2022-07-28T09:15:46.844Z"
   },
   {
    "duration": 7,
    "start_time": "2022-07-28T09:15:46.851Z"
   },
   {
    "duration": 5,
    "start_time": "2022-07-28T09:15:46.859Z"
   },
   {
    "duration": 5,
    "start_time": "2022-07-28T09:15:46.865Z"
   },
   {
    "duration": 5,
    "start_time": "2022-07-28T09:15:46.872Z"
   },
   {
    "duration": 5,
    "start_time": "2022-07-28T09:15:46.879Z"
   },
   {
    "duration": 8,
    "start_time": "2022-07-28T09:15:46.885Z"
   },
   {
    "duration": 7,
    "start_time": "2022-07-28T09:15:46.894Z"
   },
   {
    "duration": 7,
    "start_time": "2022-07-28T09:15:46.903Z"
   },
   {
    "duration": 5,
    "start_time": "2022-07-28T09:15:46.911Z"
   },
   {
    "duration": 2,
    "start_time": "2022-07-28T09:15:46.937Z"
   },
   {
    "duration": 6,
    "start_time": "2022-07-28T09:15:46.941Z"
   },
   {
    "duration": 6,
    "start_time": "2022-07-28T09:15:46.949Z"
   },
   {
    "duration": 4,
    "start_time": "2022-07-28T09:15:46.957Z"
   },
   {
    "duration": 5,
    "start_time": "2022-07-28T09:15:46.963Z"
   },
   {
    "duration": 9,
    "start_time": "2022-07-28T09:15:46.972Z"
   },
   {
    "duration": 9,
    "start_time": "2022-07-28T09:15:46.982Z"
   },
   {
    "duration": 7,
    "start_time": "2022-07-28T09:15:46.993Z"
   },
   {
    "duration": 7,
    "start_time": "2022-07-28T09:15:47.001Z"
   },
   {
    "duration": 7,
    "start_time": "2022-07-28T09:15:47.010Z"
   },
   {
    "duration": 7,
    "start_time": "2022-07-28T09:15:47.018Z"
   },
   {
    "duration": 5,
    "start_time": "2022-07-28T09:15:47.026Z"
   },
   {
    "duration": 5,
    "start_time": "2022-07-28T09:15:47.032Z"
   },
   {
    "duration": 7,
    "start_time": "2022-07-28T09:15:47.038Z"
   },
   {
    "duration": 6,
    "start_time": "2022-07-28T09:15:47.046Z"
   },
   {
    "duration": 4,
    "start_time": "2022-07-28T09:15:47.053Z"
   },
   {
    "duration": 5,
    "start_time": "2022-07-28T09:15:47.061Z"
   },
   {
    "duration": 5,
    "start_time": "2022-07-28T09:15:47.068Z"
   },
   {
    "duration": 7,
    "start_time": "2022-07-28T09:15:47.074Z"
   },
   {
    "duration": 6,
    "start_time": "2022-07-28T09:15:47.082Z"
   },
   {
    "duration": 7,
    "start_time": "2022-07-28T09:15:47.089Z"
   },
   {
    "duration": 4,
    "start_time": "2022-07-28T09:15:47.099Z"
   },
   {
    "duration": 6,
    "start_time": "2022-07-28T09:15:47.105Z"
   },
   {
    "duration": 5,
    "start_time": "2022-07-28T09:15:47.113Z"
   },
   {
    "duration": 8,
    "start_time": "2022-07-28T09:15:47.120Z"
   },
   {
    "duration": 4,
    "start_time": "2022-07-28T09:15:47.137Z"
   },
   {
    "duration": 5,
    "start_time": "2022-07-28T09:15:47.143Z"
   },
   {
    "duration": 6,
    "start_time": "2022-07-28T09:15:47.150Z"
   },
   {
    "duration": 7,
    "start_time": "2022-07-28T09:15:47.158Z"
   },
   {
    "duration": 8,
    "start_time": "2022-07-28T09:15:47.167Z"
   },
   {
    "duration": 7,
    "start_time": "2022-07-28T09:15:47.176Z"
   },
   {
    "duration": 13,
    "start_time": "2022-07-28T09:15:47.185Z"
   },
   {
    "duration": 5,
    "start_time": "2022-07-28T09:15:47.199Z"
   },
   {
    "duration": 6,
    "start_time": "2022-07-28T09:15:47.206Z"
   },
   {
    "duration": 5,
    "start_time": "2022-07-28T09:15:47.214Z"
   },
   {
    "duration": 6,
    "start_time": "2022-07-28T09:15:47.221Z"
   },
   {
    "duration": 5,
    "start_time": "2022-07-28T09:15:47.228Z"
   },
   {
    "duration": 10,
    "start_time": "2022-07-28T09:15:47.235Z"
   },
   {
    "duration": 18,
    "start_time": "2022-07-28T09:15:47.247Z"
   },
   {
    "duration": 6,
    "start_time": "2022-07-28T09:15:47.267Z"
   },
   {
    "duration": 7,
    "start_time": "2022-07-28T09:15:47.275Z"
   },
   {
    "duration": 10,
    "start_time": "2022-07-28T09:15:47.284Z"
   },
   {
    "duration": 7,
    "start_time": "2022-07-28T09:15:47.295Z"
   },
   {
    "duration": 6,
    "start_time": "2022-07-28T09:15:47.304Z"
   },
   {
    "duration": 5,
    "start_time": "2022-07-28T09:15:47.311Z"
   },
   {
    "duration": 4,
    "start_time": "2022-07-28T09:15:47.318Z"
   },
   {
    "duration": 4,
    "start_time": "2022-07-28T09:15:47.324Z"
   },
   {
    "duration": 5,
    "start_time": "2022-07-28T09:15:47.330Z"
   },
   {
    "duration": 7,
    "start_time": "2022-07-28T09:18:15.034Z"
   },
   {
    "duration": 8,
    "start_time": "2022-07-28T09:18:24.122Z"
   },
   {
    "duration": 6,
    "start_time": "2022-07-28T09:18:45.846Z"
   },
   {
    "duration": 5,
    "start_time": "2022-07-28T09:19:01.479Z"
   },
   {
    "duration": 18,
    "start_time": "2022-07-28T09:19:30.906Z"
   },
   {
    "duration": 6,
    "start_time": "2022-07-28T09:19:53.062Z"
   },
   {
    "duration": 4,
    "start_time": "2022-07-28T09:38:28.798Z"
   },
   {
    "duration": 6,
    "start_time": "2022-07-28T09:38:38.675Z"
   },
   {
    "duration": 7,
    "start_time": "2022-07-28T09:38:59.608Z"
   },
   {
    "duration": 5,
    "start_time": "2022-07-28T09:39:06.696Z"
   },
   {
    "duration": 4,
    "start_time": "2022-07-28T09:39:12.315Z"
   },
   {
    "duration": 6,
    "start_time": "2022-07-28T09:39:14.483Z"
   },
   {
    "duration": 76,
    "start_time": "2022-07-28T09:39:18.227Z"
   },
   {
    "duration": 14,
    "start_time": "2022-07-28T09:39:18.305Z"
   },
   {
    "duration": 14,
    "start_time": "2022-07-28T09:39:18.321Z"
   },
   {
    "duration": 12,
    "start_time": "2022-07-28T09:39:18.337Z"
   },
   {
    "duration": 31,
    "start_time": "2022-07-28T09:39:18.351Z"
   },
   {
    "duration": 9,
    "start_time": "2022-07-28T09:39:18.384Z"
   },
   {
    "duration": 6,
    "start_time": "2022-07-28T09:39:18.394Z"
   },
   {
    "duration": 6,
    "start_time": "2022-07-28T09:39:18.401Z"
   },
   {
    "duration": 61,
    "start_time": "2022-07-28T09:39:18.409Z"
   },
   {
    "duration": 2,
    "start_time": "2022-07-28T09:39:18.471Z"
   },
   {
    "duration": 8,
    "start_time": "2022-07-28T09:39:18.475Z"
   },
   {
    "duration": 6,
    "start_time": "2022-07-28T09:39:18.485Z"
   },
   {
    "duration": 7,
    "start_time": "2022-07-28T09:39:18.492Z"
   },
   {
    "duration": 9,
    "start_time": "2022-07-28T09:39:18.501Z"
   },
   {
    "duration": 29,
    "start_time": "2022-07-28T09:39:18.512Z"
   },
   {
    "duration": 9,
    "start_time": "2022-07-28T09:39:18.542Z"
   },
   {
    "duration": 5,
    "start_time": "2022-07-28T09:39:18.552Z"
   },
   {
    "duration": 8,
    "start_time": "2022-07-28T09:39:18.558Z"
   },
   {
    "duration": 5,
    "start_time": "2022-07-28T09:39:18.567Z"
   },
   {
    "duration": 6,
    "start_time": "2022-07-28T09:39:18.574Z"
   },
   {
    "duration": 6,
    "start_time": "2022-07-28T09:39:18.581Z"
   },
   {
    "duration": 15,
    "start_time": "2022-07-28T09:39:18.589Z"
   },
   {
    "duration": 8,
    "start_time": "2022-07-28T09:39:18.605Z"
   },
   {
    "duration": 5,
    "start_time": "2022-07-28T09:39:18.615Z"
   },
   {
    "duration": 16,
    "start_time": "2022-07-28T09:39:18.621Z"
   },
   {
    "duration": 8,
    "start_time": "2022-07-28T09:39:18.638Z"
   },
   {
    "duration": 4,
    "start_time": "2022-07-28T09:39:18.649Z"
   },
   {
    "duration": 5,
    "start_time": "2022-07-28T09:39:18.654Z"
   },
   {
    "duration": 5,
    "start_time": "2022-07-28T09:39:18.660Z"
   },
   {
    "duration": 6,
    "start_time": "2022-07-28T09:39:18.666Z"
   },
   {
    "duration": 5,
    "start_time": "2022-07-28T09:39:18.673Z"
   },
   {
    "duration": 4,
    "start_time": "2022-07-28T09:39:18.680Z"
   },
   {
    "duration": 5,
    "start_time": "2022-07-28T09:39:18.685Z"
   },
   {
    "duration": 5,
    "start_time": "2022-07-28T09:39:18.691Z"
   },
   {
    "duration": 4,
    "start_time": "2022-07-28T09:39:18.697Z"
   },
   {
    "duration": 5,
    "start_time": "2022-07-28T09:39:18.703Z"
   },
   {
    "duration": 6,
    "start_time": "2022-07-28T09:39:18.709Z"
   },
   {
    "duration": 21,
    "start_time": "2022-07-28T09:39:18.716Z"
   },
   {
    "duration": 5,
    "start_time": "2022-07-28T09:39:18.738Z"
   },
   {
    "duration": 11,
    "start_time": "2022-07-28T09:39:18.745Z"
   },
   {
    "duration": 5,
    "start_time": "2022-07-28T09:39:18.758Z"
   },
   {
    "duration": 5,
    "start_time": "2022-07-28T09:39:18.765Z"
   },
   {
    "duration": 4,
    "start_time": "2022-07-28T09:39:18.772Z"
   },
   {
    "duration": 7,
    "start_time": "2022-07-28T09:39:18.777Z"
   },
   {
    "duration": 6,
    "start_time": "2022-07-28T09:39:18.785Z"
   },
   {
    "duration": 4,
    "start_time": "2022-07-28T09:39:18.795Z"
   },
   {
    "duration": 5,
    "start_time": "2022-07-28T09:39:18.800Z"
   },
   {
    "duration": 6,
    "start_time": "2022-07-28T09:39:18.807Z"
   },
   {
    "duration": 7,
    "start_time": "2022-07-28T09:39:18.814Z"
   },
   {
    "duration": 13,
    "start_time": "2022-07-28T09:39:18.823Z"
   },
   {
    "duration": 2,
    "start_time": "2022-07-28T09:39:18.838Z"
   },
   {
    "duration": 11,
    "start_time": "2022-07-28T09:39:18.841Z"
   },
   {
    "duration": 20,
    "start_time": "2022-07-28T09:39:18.853Z"
   },
   {
    "duration": 16,
    "start_time": "2022-07-28T09:39:18.875Z"
   },
   {
    "duration": 12,
    "start_time": "2022-07-28T09:39:18.893Z"
   },
   {
    "duration": 9,
    "start_time": "2022-07-28T09:39:18.907Z"
   },
   {
    "duration": 14,
    "start_time": "2022-07-28T09:39:18.918Z"
   },
   {
    "duration": 22,
    "start_time": "2022-07-28T09:39:18.933Z"
   },
   {
    "duration": 11,
    "start_time": "2022-07-28T09:39:18.959Z"
   },
   {
    "duration": 28,
    "start_time": "2022-07-28T09:39:18.972Z"
   },
   {
    "duration": 11,
    "start_time": "2022-07-28T09:39:19.002Z"
   },
   {
    "duration": 20,
    "start_time": "2022-07-28T09:39:19.016Z"
   },
   {
    "duration": 14,
    "start_time": "2022-07-28T09:39:19.038Z"
   },
   {
    "duration": 30,
    "start_time": "2022-07-28T09:39:19.054Z"
   },
   {
    "duration": 9,
    "start_time": "2022-07-28T09:39:19.086Z"
   },
   {
    "duration": 5,
    "start_time": "2022-07-28T09:39:19.097Z"
   },
   {
    "duration": 9,
    "start_time": "2022-07-28T09:39:19.104Z"
   },
   {
    "duration": 8,
    "start_time": "2022-07-28T09:39:19.115Z"
   },
   {
    "duration": 9,
    "start_time": "2022-07-28T09:39:19.125Z"
   },
   {
    "duration": 8,
    "start_time": "2022-07-28T09:39:19.136Z"
   },
   {
    "duration": 6,
    "start_time": "2022-07-28T09:39:19.145Z"
   },
   {
    "duration": 10,
    "start_time": "2022-07-28T09:39:19.152Z"
   },
   {
    "duration": 94,
    "start_time": "2022-07-28T09:39:42.737Z"
   },
   {
    "duration": 14,
    "start_time": "2022-07-28T09:39:42.833Z"
   },
   {
    "duration": 16,
    "start_time": "2022-07-28T09:39:42.849Z"
   },
   {
    "duration": 13,
    "start_time": "2022-07-28T09:39:42.867Z"
   },
   {
    "duration": 57,
    "start_time": "2022-07-28T09:39:42.881Z"
   },
   {
    "duration": 12,
    "start_time": "2022-07-28T09:39:42.940Z"
   },
   {
    "duration": 9,
    "start_time": "2022-07-28T09:39:42.954Z"
   },
   {
    "duration": 4,
    "start_time": "2022-07-28T09:39:42.965Z"
   },
   {
    "duration": 67,
    "start_time": "2022-07-28T09:39:42.971Z"
   },
   {
    "duration": 3,
    "start_time": "2022-07-28T09:39:43.040Z"
   },
   {
    "duration": 6,
    "start_time": "2022-07-28T09:39:43.045Z"
   },
   {
    "duration": 5,
    "start_time": "2022-07-28T09:39:43.052Z"
   },
   {
    "duration": 10,
    "start_time": "2022-07-28T09:39:43.058Z"
   },
   {
    "duration": 10,
    "start_time": "2022-07-28T09:39:43.069Z"
   },
   {
    "duration": 9,
    "start_time": "2022-07-28T09:39:43.081Z"
   },
   {
    "duration": 11,
    "start_time": "2022-07-28T09:39:43.091Z"
   },
   {
    "duration": 4,
    "start_time": "2022-07-28T09:39:43.104Z"
   },
   {
    "duration": 5,
    "start_time": "2022-07-28T09:39:43.136Z"
   },
   {
    "duration": 3,
    "start_time": "2022-07-28T09:39:43.143Z"
   },
   {
    "duration": 6,
    "start_time": "2022-07-28T09:39:43.147Z"
   },
   {
    "duration": 5,
    "start_time": "2022-07-28T09:39:43.154Z"
   },
   {
    "duration": 4,
    "start_time": "2022-07-28T09:39:43.161Z"
   },
   {
    "duration": 8,
    "start_time": "2022-07-28T09:39:43.166Z"
   },
   {
    "duration": 5,
    "start_time": "2022-07-28T09:39:43.175Z"
   },
   {
    "duration": 5,
    "start_time": "2022-07-28T09:39:43.181Z"
   },
   {
    "duration": 4,
    "start_time": "2022-07-28T09:39:43.188Z"
   },
   {
    "duration": 5,
    "start_time": "2022-07-28T09:39:43.193Z"
   },
   {
    "duration": 5,
    "start_time": "2022-07-28T09:39:43.201Z"
   },
   {
    "duration": 5,
    "start_time": "2022-07-28T09:39:43.208Z"
   },
   {
    "duration": 23,
    "start_time": "2022-07-28T09:39:43.214Z"
   },
   {
    "duration": 2,
    "start_time": "2022-07-28T09:39:43.238Z"
   },
   {
    "duration": 5,
    "start_time": "2022-07-28T09:39:43.242Z"
   },
   {
    "duration": 5,
    "start_time": "2022-07-28T09:39:43.248Z"
   },
   {
    "duration": 5,
    "start_time": "2022-07-28T09:39:43.255Z"
   },
   {
    "duration": 5,
    "start_time": "2022-07-28T09:39:43.261Z"
   },
   {
    "duration": 6,
    "start_time": "2022-07-28T09:39:43.267Z"
   },
   {
    "duration": 5,
    "start_time": "2022-07-28T09:39:43.274Z"
   },
   {
    "duration": 6,
    "start_time": "2022-07-28T09:39:43.281Z"
   },
   {
    "duration": 7,
    "start_time": "2022-07-28T09:39:43.288Z"
   },
   {
    "duration": 5,
    "start_time": "2022-07-28T09:39:43.296Z"
   },
   {
    "duration": 5,
    "start_time": "2022-07-28T09:39:43.302Z"
   },
   {
    "duration": 5,
    "start_time": "2022-07-28T09:39:43.308Z"
   },
   {
    "duration": 23,
    "start_time": "2022-07-28T09:39:43.314Z"
   },
   {
    "duration": 3,
    "start_time": "2022-07-28T09:39:43.338Z"
   },
   {
    "duration": 3,
    "start_time": "2022-07-28T09:39:43.345Z"
   },
   {
    "duration": 6,
    "start_time": "2022-07-28T09:39:43.349Z"
   },
   {
    "duration": 6,
    "start_time": "2022-07-28T09:39:43.356Z"
   },
   {
    "duration": 6,
    "start_time": "2022-07-28T09:39:43.363Z"
   },
   {
    "duration": 8,
    "start_time": "2022-07-28T09:39:43.370Z"
   },
   {
    "duration": 6,
    "start_time": "2022-07-28T09:39:43.380Z"
   },
   {
    "duration": 6,
    "start_time": "2022-07-28T09:39:43.387Z"
   },
   {
    "duration": 9,
    "start_time": "2022-07-28T09:39:43.394Z"
   },
   {
    "duration": 13,
    "start_time": "2022-07-28T09:39:43.404Z"
   },
   {
    "duration": 8,
    "start_time": "2022-07-28T09:39:43.418Z"
   },
   {
    "duration": 13,
    "start_time": "2022-07-28T09:39:43.427Z"
   },
   {
    "duration": 5,
    "start_time": "2022-07-28T09:39:43.441Z"
   },
   {
    "duration": 7,
    "start_time": "2022-07-28T09:39:43.447Z"
   },
   {
    "duration": 11,
    "start_time": "2022-07-28T09:39:43.456Z"
   },
   {
    "duration": 5,
    "start_time": "2022-07-28T09:39:43.468Z"
   },
   {
    "duration": 11,
    "start_time": "2022-07-28T09:39:43.474Z"
   },
   {
    "duration": 5,
    "start_time": "2022-07-28T09:39:43.488Z"
   },
   {
    "duration": 5,
    "start_time": "2022-07-28T09:39:43.494Z"
   },
   {
    "duration": 5,
    "start_time": "2022-07-28T09:39:43.501Z"
   },
   {
    "duration": 5,
    "start_time": "2022-07-28T09:39:43.508Z"
   },
   {
    "duration": 4,
    "start_time": "2022-07-28T09:39:43.515Z"
   },
   {
    "duration": 5,
    "start_time": "2022-07-28T09:39:43.520Z"
   },
   {
    "duration": 5,
    "start_time": "2022-07-28T09:39:43.526Z"
   },
   {
    "duration": 5,
    "start_time": "2022-07-28T09:39:43.533Z"
   },
   {
    "duration": 5,
    "start_time": "2022-07-28T09:39:43.539Z"
   },
   {
    "duration": 5,
    "start_time": "2022-07-28T09:39:43.545Z"
   },
   {
    "duration": 5,
    "start_time": "2022-07-28T09:39:43.551Z"
   },
   {
    "duration": 6,
    "start_time": "2022-07-28T09:39:43.557Z"
   },
   {
    "duration": 4,
    "start_time": "2022-07-28T09:40:19.605Z"
   },
   {
    "duration": 6,
    "start_time": "2022-07-28T09:40:21.813Z"
   },
   {
    "duration": 6,
    "start_time": "2022-07-28T09:41:42.568Z"
   },
   {
    "duration": 5,
    "start_time": "2022-07-28T09:41:51.894Z"
   },
   {
    "duration": 5,
    "start_time": "2022-07-28T09:41:55.100Z"
   },
   {
    "duration": 43,
    "start_time": "2022-07-28T09:46:19.761Z"
   },
   {
    "duration": 32,
    "start_time": "2022-07-28T09:47:17.647Z"
   },
   {
    "duration": 30,
    "start_time": "2022-07-28T09:48:12.697Z"
   },
   {
    "duration": 55,
    "start_time": "2022-07-28T09:49:24.615Z"
   },
   {
    "duration": 32,
    "start_time": "2022-07-28T09:49:58.103Z"
   },
   {
    "duration": 4,
    "start_time": "2022-07-28T09:55:37.047Z"
   },
   {
    "duration": 22,
    "start_time": "2022-07-28T09:55:41.540Z"
   },
   {
    "duration": 36,
    "start_time": "2022-07-28T09:56:34.824Z"
   },
   {
    "duration": 94,
    "start_time": "2022-07-28T09:56:45.251Z"
   },
   {
    "duration": 15,
    "start_time": "2022-07-28T09:56:45.347Z"
   },
   {
    "duration": 15,
    "start_time": "2022-07-28T09:56:45.364Z"
   },
   {
    "duration": 14,
    "start_time": "2022-07-28T09:56:45.381Z"
   },
   {
    "duration": 62,
    "start_time": "2022-07-28T09:56:45.396Z"
   },
   {
    "duration": 13,
    "start_time": "2022-07-28T09:56:45.460Z"
   },
   {
    "duration": 8,
    "start_time": "2022-07-28T09:56:45.474Z"
   },
   {
    "duration": 6,
    "start_time": "2022-07-28T09:56:45.483Z"
   },
   {
    "duration": 68,
    "start_time": "2022-07-28T09:56:45.490Z"
   },
   {
    "duration": 2,
    "start_time": "2022-07-28T09:56:45.560Z"
   },
   {
    "duration": 7,
    "start_time": "2022-07-28T09:56:45.564Z"
   },
   {
    "duration": 5,
    "start_time": "2022-07-28T09:56:45.572Z"
   },
   {
    "duration": 9,
    "start_time": "2022-07-28T09:56:45.579Z"
   },
   {
    "duration": 10,
    "start_time": "2022-07-28T09:56:45.589Z"
   },
   {
    "duration": 38,
    "start_time": "2022-07-28T09:56:45.600Z"
   },
   {
    "duration": 6,
    "start_time": "2022-07-28T09:56:45.639Z"
   },
   {
    "duration": 17,
    "start_time": "2022-07-28T09:56:45.647Z"
   },
   {
    "duration": 6,
    "start_time": "2022-07-28T09:56:45.666Z"
   },
   {
    "duration": 78,
    "start_time": "2022-07-28T09:56:45.674Z"
   },
   {
    "duration": 0,
    "start_time": "2022-07-28T09:56:45.754Z"
   },
   {
    "duration": 0,
    "start_time": "2022-07-28T09:56:45.755Z"
   },
   {
    "duration": 0,
    "start_time": "2022-07-28T09:56:45.756Z"
   },
   {
    "duration": 0,
    "start_time": "2022-07-28T09:56:45.757Z"
   },
   {
    "duration": 0,
    "start_time": "2022-07-28T09:56:45.759Z"
   },
   {
    "duration": 0,
    "start_time": "2022-07-28T09:56:45.759Z"
   },
   {
    "duration": 0,
    "start_time": "2022-07-28T09:56:45.760Z"
   },
   {
    "duration": 0,
    "start_time": "2022-07-28T09:56:45.762Z"
   },
   {
    "duration": 0,
    "start_time": "2022-07-28T09:56:45.763Z"
   },
   {
    "duration": 0,
    "start_time": "2022-07-28T09:56:45.764Z"
   },
   {
    "duration": 0,
    "start_time": "2022-07-28T09:56:45.765Z"
   },
   {
    "duration": 0,
    "start_time": "2022-07-28T09:56:45.766Z"
   },
   {
    "duration": 0,
    "start_time": "2022-07-28T09:56:45.767Z"
   },
   {
    "duration": 0,
    "start_time": "2022-07-28T09:56:45.768Z"
   },
   {
    "duration": 0,
    "start_time": "2022-07-28T09:56:45.769Z"
   },
   {
    "duration": 0,
    "start_time": "2022-07-28T09:56:45.770Z"
   },
   {
    "duration": 0,
    "start_time": "2022-07-28T09:56:45.771Z"
   },
   {
    "duration": 0,
    "start_time": "2022-07-28T09:56:45.772Z"
   },
   {
    "duration": 0,
    "start_time": "2022-07-28T09:56:45.773Z"
   },
   {
    "duration": 0,
    "start_time": "2022-07-28T09:56:45.774Z"
   },
   {
    "duration": 0,
    "start_time": "2022-07-28T09:56:45.775Z"
   },
   {
    "duration": 0,
    "start_time": "2022-07-28T09:56:45.776Z"
   },
   {
    "duration": 0,
    "start_time": "2022-07-28T09:56:45.776Z"
   },
   {
    "duration": 0,
    "start_time": "2022-07-28T09:56:45.777Z"
   },
   {
    "duration": 0,
    "start_time": "2022-07-28T09:56:45.778Z"
   },
   {
    "duration": 0,
    "start_time": "2022-07-28T09:56:45.779Z"
   },
   {
    "duration": 0,
    "start_time": "2022-07-28T09:56:45.780Z"
   },
   {
    "duration": 0,
    "start_time": "2022-07-28T09:56:45.781Z"
   },
   {
    "duration": 0,
    "start_time": "2022-07-28T09:56:45.782Z"
   },
   {
    "duration": 0,
    "start_time": "2022-07-28T09:56:45.837Z"
   },
   {
    "duration": 0,
    "start_time": "2022-07-28T09:56:45.837Z"
   },
   {
    "duration": 0,
    "start_time": "2022-07-28T09:56:45.838Z"
   },
   {
    "duration": 0,
    "start_time": "2022-07-28T09:56:45.839Z"
   },
   {
    "duration": 0,
    "start_time": "2022-07-28T09:56:45.840Z"
   },
   {
    "duration": 0,
    "start_time": "2022-07-28T09:56:45.841Z"
   },
   {
    "duration": 0,
    "start_time": "2022-07-28T09:56:45.842Z"
   },
   {
    "duration": 0,
    "start_time": "2022-07-28T09:56:45.843Z"
   },
   {
    "duration": 0,
    "start_time": "2022-07-28T09:56:45.843Z"
   },
   {
    "duration": 0,
    "start_time": "2022-07-28T09:56:45.844Z"
   },
   {
    "duration": 0,
    "start_time": "2022-07-28T09:56:45.844Z"
   },
   {
    "duration": 0,
    "start_time": "2022-07-28T09:56:45.845Z"
   },
   {
    "duration": 0,
    "start_time": "2022-07-28T09:56:45.847Z"
   },
   {
    "duration": 0,
    "start_time": "2022-07-28T09:56:45.848Z"
   },
   {
    "duration": 0,
    "start_time": "2022-07-28T09:56:45.848Z"
   },
   {
    "duration": 0,
    "start_time": "2022-07-28T09:56:45.849Z"
   },
   {
    "duration": 0,
    "start_time": "2022-07-28T09:56:45.850Z"
   },
   {
    "duration": 0,
    "start_time": "2022-07-28T09:56:45.851Z"
   },
   {
    "duration": 0,
    "start_time": "2022-07-28T09:56:45.852Z"
   },
   {
    "duration": 0,
    "start_time": "2022-07-28T09:56:45.853Z"
   },
   {
    "duration": 0,
    "start_time": "2022-07-28T09:56:45.854Z"
   },
   {
    "duration": 0,
    "start_time": "2022-07-28T09:56:45.855Z"
   },
   {
    "duration": 0,
    "start_time": "2022-07-28T09:56:45.855Z"
   },
   {
    "duration": 0,
    "start_time": "2022-07-28T09:56:45.856Z"
   },
   {
    "duration": 7,
    "start_time": "2022-07-28T10:08:58.065Z"
   },
   {
    "duration": 5,
    "start_time": "2022-07-28T10:09:44.379Z"
   },
   {
    "duration": 4,
    "start_time": "2022-07-28T10:21:52.454Z"
   },
   {
    "duration": 8,
    "start_time": "2022-07-28T10:22:16.239Z"
   },
   {
    "duration": 5,
    "start_time": "2022-07-28T10:22:36.050Z"
   },
   {
    "duration": 5,
    "start_time": "2022-07-28T10:29:18.751Z"
   },
   {
    "duration": 6,
    "start_time": "2022-07-28T10:29:21.547Z"
   },
   {
    "duration": 127,
    "start_time": "2022-07-28T10:29:31.258Z"
   },
   {
    "duration": 14,
    "start_time": "2022-07-28T10:29:31.387Z"
   },
   {
    "duration": 27,
    "start_time": "2022-07-28T10:29:31.403Z"
   },
   {
    "duration": 12,
    "start_time": "2022-07-28T10:29:31.432Z"
   },
   {
    "duration": 44,
    "start_time": "2022-07-28T10:29:31.446Z"
   },
   {
    "duration": 10,
    "start_time": "2022-07-28T10:29:31.540Z"
   },
   {
    "duration": 19,
    "start_time": "2022-07-28T10:29:31.552Z"
   },
   {
    "duration": 7,
    "start_time": "2022-07-28T10:29:31.572Z"
   },
   {
    "duration": 43,
    "start_time": "2022-07-28T10:29:31.581Z"
   },
   {
    "duration": 2,
    "start_time": "2022-07-28T10:29:31.872Z"
   },
   {
    "duration": 5,
    "start_time": "2022-07-28T10:29:31.876Z"
   },
   {
    "duration": 7,
    "start_time": "2022-07-28T10:29:31.883Z"
   },
   {
    "duration": 13,
    "start_time": "2022-07-28T10:29:31.891Z"
   },
   {
    "duration": 11,
    "start_time": "2022-07-28T10:29:31.906Z"
   },
   {
    "duration": 19,
    "start_time": "2022-07-28T10:29:31.918Z"
   },
   {
    "duration": 7,
    "start_time": "2022-07-28T10:29:32.181Z"
   },
   {
    "duration": 7,
    "start_time": "2022-07-28T10:29:32.191Z"
   },
   {
    "duration": 8,
    "start_time": "2022-07-28T10:29:32.200Z"
   },
   {
    "duration": 39,
    "start_time": "2022-07-28T10:29:32.210Z"
   },
   {
    "duration": 0,
    "start_time": "2022-07-28T10:29:32.251Z"
   },
   {
    "duration": 2,
    "start_time": "2022-07-28T10:29:32.592Z"
   },
   {
    "duration": 7,
    "start_time": "2022-07-28T10:29:32.596Z"
   },
   {
    "duration": 6,
    "start_time": "2022-07-28T10:29:32.604Z"
   },
   {
    "duration": 5,
    "start_time": "2022-07-28T10:29:32.611Z"
   },
   {
    "duration": 5,
    "start_time": "2022-07-28T10:29:32.618Z"
   },
   {
    "duration": 5,
    "start_time": "2022-07-28T10:29:32.625Z"
   },
   {
    "duration": 2,
    "start_time": "2022-07-28T10:29:32.998Z"
   },
   {
    "duration": 7,
    "start_time": "2022-07-28T10:29:33.002Z"
   },
   {
    "duration": 12,
    "start_time": "2022-07-28T10:29:33.010Z"
   },
   {
    "duration": 10,
    "start_time": "2022-07-28T10:29:33.024Z"
   },
   {
    "duration": 8,
    "start_time": "2022-07-28T10:29:33.036Z"
   },
   {
    "duration": 9,
    "start_time": "2022-07-28T10:29:33.045Z"
   },
   {
    "duration": 5,
    "start_time": "2022-07-28T10:29:33.056Z"
   },
   {
    "duration": 2,
    "start_time": "2022-07-28T10:29:33.353Z"
   },
   {
    "duration": 5,
    "start_time": "2022-07-28T10:29:33.357Z"
   },
   {
    "duration": 5,
    "start_time": "2022-07-28T10:29:33.363Z"
   },
   {
    "duration": 4,
    "start_time": "2022-07-28T10:29:33.370Z"
   },
   {
    "duration": 4,
    "start_time": "2022-07-28T10:29:33.376Z"
   },
   {
    "duration": 5,
    "start_time": "2022-07-28T10:29:33.382Z"
   },
   {
    "duration": 2,
    "start_time": "2022-07-28T10:29:33.716Z"
   },
   {
    "duration": 6,
    "start_time": "2022-07-28T10:29:33.720Z"
   },
   {
    "duration": 7,
    "start_time": "2022-07-28T10:29:33.727Z"
   },
   {
    "duration": 4,
    "start_time": "2022-07-28T10:29:33.736Z"
   },
   {
    "duration": 4,
    "start_time": "2022-07-28T10:29:33.743Z"
   },
   {
    "duration": 5,
    "start_time": "2022-07-28T10:29:33.749Z"
   },
   {
    "duration": 2,
    "start_time": "2022-07-28T10:29:34.125Z"
   },
   {
    "duration": 5,
    "start_time": "2022-07-28T10:29:34.130Z"
   },
   {
    "duration": 7,
    "start_time": "2022-07-28T10:29:34.137Z"
   },
   {
    "duration": 4,
    "start_time": "2022-07-28T10:29:34.146Z"
   },
   {
    "duration": 5,
    "start_time": "2022-07-28T10:29:34.153Z"
   },
   {
    "duration": 15,
    "start_time": "2022-07-28T10:29:34.160Z"
   },
   {
    "duration": 9,
    "start_time": "2022-07-28T10:29:34.177Z"
   },
   {
    "duration": 2,
    "start_time": "2022-07-28T10:29:34.244Z"
   },
   {
    "duration": 13,
    "start_time": "2022-07-28T10:29:34.248Z"
   },
   {
    "duration": 5,
    "start_time": "2022-07-28T10:29:34.262Z"
   },
   {
    "duration": 5,
    "start_time": "2022-07-28T10:29:34.268Z"
   },
   {
    "duration": 5,
    "start_time": "2022-07-28T10:29:34.275Z"
   },
   {
    "duration": 14,
    "start_time": "2022-07-28T10:29:34.281Z"
   },
   {
    "duration": 3,
    "start_time": "2022-07-28T10:29:34.360Z"
   },
   {
    "duration": 4,
    "start_time": "2022-07-28T10:29:34.365Z"
   },
   {
    "duration": 5,
    "start_time": "2022-07-28T10:29:34.371Z"
   },
   {
    "duration": 6,
    "start_time": "2022-07-28T10:29:34.377Z"
   },
   {
    "duration": 5,
    "start_time": "2022-07-28T10:29:34.384Z"
   },
   {
    "duration": 7,
    "start_time": "2022-07-28T10:29:34.391Z"
   },
   {
    "duration": 5,
    "start_time": "2022-07-28T10:29:34.399Z"
   },
   {
    "duration": 2,
    "start_time": "2022-07-28T10:29:34.486Z"
   },
   {
    "duration": 6,
    "start_time": "2022-07-28T10:29:34.491Z"
   },
   {
    "duration": 6,
    "start_time": "2022-07-28T10:29:34.498Z"
   },
   {
    "duration": 6,
    "start_time": "2022-07-28T10:29:34.506Z"
   },
   {
    "duration": 5,
    "start_time": "2022-07-28T10:29:34.513Z"
   },
   {
    "duration": 2,
    "start_time": "2022-07-28T10:29:34.603Z"
   },
   {
    "duration": 6,
    "start_time": "2022-07-28T10:29:34.607Z"
   },
   {
    "duration": 33,
    "start_time": "2022-07-28T11:18:34.888Z"
   },
   {
    "duration": 42,
    "start_time": "2022-07-28T11:25:38.827Z"
   },
   {
    "duration": 74,
    "start_time": "2022-07-28T11:26:00.951Z"
   },
   {
    "duration": 14,
    "start_time": "2022-07-28T11:26:01.027Z"
   },
   {
    "duration": 32,
    "start_time": "2022-07-28T11:26:01.042Z"
   },
   {
    "duration": 24,
    "start_time": "2022-07-28T11:26:01.076Z"
   },
   {
    "duration": 59,
    "start_time": "2022-07-28T11:26:01.102Z"
   },
   {
    "duration": 10,
    "start_time": "2022-07-28T11:26:01.162Z"
   },
   {
    "duration": 30,
    "start_time": "2022-07-28T11:26:01.173Z"
   },
   {
    "duration": 14,
    "start_time": "2022-07-28T11:26:01.205Z"
   },
   {
    "duration": 51,
    "start_time": "2022-07-28T11:26:01.221Z"
   },
   {
    "duration": 3,
    "start_time": "2022-07-28T11:26:01.276Z"
   },
   {
    "duration": 23,
    "start_time": "2022-07-28T11:26:01.280Z"
   },
   {
    "duration": 23,
    "start_time": "2022-07-28T11:26:01.305Z"
   },
   {
    "duration": 24,
    "start_time": "2022-07-28T11:26:01.330Z"
   },
   {
    "duration": 23,
    "start_time": "2022-07-28T11:26:01.356Z"
   },
   {
    "duration": 34,
    "start_time": "2022-07-28T11:26:01.380Z"
   },
   {
    "duration": 29,
    "start_time": "2022-07-28T11:26:01.416Z"
   },
   {
    "duration": 16,
    "start_time": "2022-07-28T11:26:01.447Z"
   },
   {
    "duration": 26,
    "start_time": "2022-07-28T11:26:01.464Z"
   },
   {
    "duration": 47,
    "start_time": "2022-07-28T11:26:01.492Z"
   },
   {
    "duration": 0,
    "start_time": "2022-07-28T11:26:01.542Z"
   },
   {
    "duration": 0,
    "start_time": "2022-07-28T11:26:01.543Z"
   },
   {
    "duration": 0,
    "start_time": "2022-07-28T11:26:01.544Z"
   },
   {
    "duration": 0,
    "start_time": "2022-07-28T11:26:01.546Z"
   },
   {
    "duration": 1,
    "start_time": "2022-07-28T11:26:01.546Z"
   },
   {
    "duration": 0,
    "start_time": "2022-07-28T11:26:01.548Z"
   },
   {
    "duration": 0,
    "start_time": "2022-07-28T11:26:01.549Z"
   },
   {
    "duration": 0,
    "start_time": "2022-07-28T11:26:01.550Z"
   },
   {
    "duration": 0,
    "start_time": "2022-07-28T11:26:01.551Z"
   },
   {
    "duration": 0,
    "start_time": "2022-07-28T11:26:01.553Z"
   },
   {
    "duration": 0,
    "start_time": "2022-07-28T11:26:01.554Z"
   },
   {
    "duration": 0,
    "start_time": "2022-07-28T11:26:01.555Z"
   },
   {
    "duration": 0,
    "start_time": "2022-07-28T11:26:01.556Z"
   },
   {
    "duration": 0,
    "start_time": "2022-07-28T11:26:01.557Z"
   },
   {
    "duration": 0,
    "start_time": "2022-07-28T11:26:01.558Z"
   },
   {
    "duration": 0,
    "start_time": "2022-07-28T11:26:01.559Z"
   },
   {
    "duration": 0,
    "start_time": "2022-07-28T11:26:01.560Z"
   },
   {
    "duration": 0,
    "start_time": "2022-07-28T11:26:01.561Z"
   },
   {
    "duration": 0,
    "start_time": "2022-07-28T11:26:01.562Z"
   },
   {
    "duration": 0,
    "start_time": "2022-07-28T11:26:01.563Z"
   },
   {
    "duration": 0,
    "start_time": "2022-07-28T11:26:01.564Z"
   },
   {
    "duration": 0,
    "start_time": "2022-07-28T11:26:01.565Z"
   },
   {
    "duration": 0,
    "start_time": "2022-07-28T11:26:01.565Z"
   },
   {
    "duration": 0,
    "start_time": "2022-07-28T11:26:01.566Z"
   },
   {
    "duration": 0,
    "start_time": "2022-07-28T11:26:01.567Z"
   },
   {
    "duration": 0,
    "start_time": "2022-07-28T11:26:01.569Z"
   },
   {
    "duration": 0,
    "start_time": "2022-07-28T11:26:01.569Z"
   },
   {
    "duration": 0,
    "start_time": "2022-07-28T11:26:01.571Z"
   },
   {
    "duration": 0,
    "start_time": "2022-07-28T11:26:01.571Z"
   },
   {
    "duration": 0,
    "start_time": "2022-07-28T11:26:01.572Z"
   },
   {
    "duration": 0,
    "start_time": "2022-07-28T11:26:01.573Z"
   },
   {
    "duration": 0,
    "start_time": "2022-07-28T11:26:01.574Z"
   },
   {
    "duration": 0,
    "start_time": "2022-07-28T11:26:01.575Z"
   },
   {
    "duration": 0,
    "start_time": "2022-07-28T11:26:01.575Z"
   },
   {
    "duration": 0,
    "start_time": "2022-07-28T11:26:01.576Z"
   },
   {
    "duration": 0,
    "start_time": "2022-07-28T11:26:01.577Z"
   },
   {
    "duration": 0,
    "start_time": "2022-07-28T11:26:01.579Z"
   },
   {
    "duration": 0,
    "start_time": "2022-07-28T11:26:01.637Z"
   },
   {
    "duration": 0,
    "start_time": "2022-07-28T11:26:01.638Z"
   },
   {
    "duration": 0,
    "start_time": "2022-07-28T11:26:01.639Z"
   },
   {
    "duration": 0,
    "start_time": "2022-07-28T11:26:01.640Z"
   },
   {
    "duration": 0,
    "start_time": "2022-07-28T11:26:01.641Z"
   },
   {
    "duration": 0,
    "start_time": "2022-07-28T11:26:01.642Z"
   },
   {
    "duration": 0,
    "start_time": "2022-07-28T11:26:01.643Z"
   },
   {
    "duration": 0,
    "start_time": "2022-07-28T11:26:01.644Z"
   },
   {
    "duration": 0,
    "start_time": "2022-07-28T11:26:01.645Z"
   },
   {
    "duration": 0,
    "start_time": "2022-07-28T11:26:01.646Z"
   },
   {
    "duration": 0,
    "start_time": "2022-07-28T11:26:01.647Z"
   },
   {
    "duration": 0,
    "start_time": "2022-07-28T11:26:01.648Z"
   },
   {
    "duration": 0,
    "start_time": "2022-07-28T11:26:01.649Z"
   },
   {
    "duration": 0,
    "start_time": "2022-07-28T11:26:01.649Z"
   },
   {
    "duration": 0,
    "start_time": "2022-07-28T11:26:01.651Z"
   },
   {
    "duration": 0,
    "start_time": "2022-07-28T11:26:01.651Z"
   },
   {
    "duration": 34,
    "start_time": "2022-07-28T11:27:51.878Z"
   },
   {
    "duration": 31,
    "start_time": "2022-07-28T11:28:07.850Z"
   },
   {
    "duration": 32,
    "start_time": "2022-07-28T11:28:14.885Z"
   },
   {
    "duration": 40,
    "start_time": "2022-07-28T11:33:49.988Z"
   },
   {
    "duration": 39,
    "start_time": "2022-07-28T11:34:06.423Z"
   },
   {
    "duration": 97,
    "start_time": "2022-07-28T11:34:11.920Z"
   },
   {
    "duration": 14,
    "start_time": "2022-07-28T11:34:12.019Z"
   },
   {
    "duration": 15,
    "start_time": "2022-07-28T11:34:12.035Z"
   },
   {
    "duration": 14,
    "start_time": "2022-07-28T11:34:12.052Z"
   },
   {
    "duration": 32,
    "start_time": "2022-07-28T11:34:12.068Z"
   },
   {
    "duration": 36,
    "start_time": "2022-07-28T11:34:12.102Z"
   },
   {
    "duration": 5,
    "start_time": "2022-07-28T11:34:12.139Z"
   },
   {
    "duration": 5,
    "start_time": "2022-07-28T11:34:12.146Z"
   },
   {
    "duration": 42,
    "start_time": "2022-07-28T11:34:12.152Z"
   },
   {
    "duration": 3,
    "start_time": "2022-07-28T11:34:12.195Z"
   },
   {
    "duration": 16,
    "start_time": "2022-07-28T11:34:12.199Z"
   },
   {
    "duration": 9,
    "start_time": "2022-07-28T11:34:12.216Z"
   },
   {
    "duration": 13,
    "start_time": "2022-07-28T11:34:12.226Z"
   },
   {
    "duration": 11,
    "start_time": "2022-07-28T11:34:12.242Z"
   },
   {
    "duration": 24,
    "start_time": "2022-07-28T11:34:12.254Z"
   },
   {
    "duration": 8,
    "start_time": "2022-07-28T11:34:12.280Z"
   },
   {
    "duration": 16,
    "start_time": "2022-07-28T11:34:12.289Z"
   },
   {
    "duration": 18,
    "start_time": "2022-07-28T11:34:12.307Z"
   },
   {
    "duration": 47,
    "start_time": "2022-07-28T11:34:12.327Z"
   },
   {
    "duration": 0,
    "start_time": "2022-07-28T11:34:12.376Z"
   },
   {
    "duration": 0,
    "start_time": "2022-07-28T11:34:12.377Z"
   },
   {
    "duration": 0,
    "start_time": "2022-07-28T11:34:12.378Z"
   },
   {
    "duration": 0,
    "start_time": "2022-07-28T11:34:12.379Z"
   },
   {
    "duration": 0,
    "start_time": "2022-07-28T11:34:12.380Z"
   },
   {
    "duration": 0,
    "start_time": "2022-07-28T11:34:12.381Z"
   },
   {
    "duration": 0,
    "start_time": "2022-07-28T11:34:12.381Z"
   },
   {
    "duration": 0,
    "start_time": "2022-07-28T11:34:12.382Z"
   },
   {
    "duration": 1,
    "start_time": "2022-07-28T11:34:12.383Z"
   },
   {
    "duration": 0,
    "start_time": "2022-07-28T11:34:12.384Z"
   },
   {
    "duration": 0,
    "start_time": "2022-07-28T11:34:12.385Z"
   },
   {
    "duration": 0,
    "start_time": "2022-07-28T11:34:12.386Z"
   },
   {
    "duration": 0,
    "start_time": "2022-07-28T11:34:12.387Z"
   },
   {
    "duration": 0,
    "start_time": "2022-07-28T11:34:12.388Z"
   },
   {
    "duration": 0,
    "start_time": "2022-07-28T11:34:12.389Z"
   },
   {
    "duration": 0,
    "start_time": "2022-07-28T11:34:12.390Z"
   },
   {
    "duration": 0,
    "start_time": "2022-07-28T11:34:12.391Z"
   },
   {
    "duration": 0,
    "start_time": "2022-07-28T11:34:12.392Z"
   },
   {
    "duration": 0,
    "start_time": "2022-07-28T11:34:12.393Z"
   },
   {
    "duration": 0,
    "start_time": "2022-07-28T11:34:12.394Z"
   },
   {
    "duration": 0,
    "start_time": "2022-07-28T11:34:12.395Z"
   },
   {
    "duration": 0,
    "start_time": "2022-07-28T11:34:12.396Z"
   },
   {
    "duration": 0,
    "start_time": "2022-07-28T11:34:12.397Z"
   },
   {
    "duration": 0,
    "start_time": "2022-07-28T11:34:12.398Z"
   },
   {
    "duration": 0,
    "start_time": "2022-07-28T11:34:12.399Z"
   },
   {
    "duration": 0,
    "start_time": "2022-07-28T11:34:12.437Z"
   },
   {
    "duration": 0,
    "start_time": "2022-07-28T11:34:12.438Z"
   },
   {
    "duration": 0,
    "start_time": "2022-07-28T11:34:12.439Z"
   },
   {
    "duration": 0,
    "start_time": "2022-07-28T11:34:12.440Z"
   },
   {
    "duration": 0,
    "start_time": "2022-07-28T11:34:12.441Z"
   },
   {
    "duration": 0,
    "start_time": "2022-07-28T11:34:12.442Z"
   },
   {
    "duration": 0,
    "start_time": "2022-07-28T11:34:12.443Z"
   },
   {
    "duration": 0,
    "start_time": "2022-07-28T11:34:12.444Z"
   },
   {
    "duration": 0,
    "start_time": "2022-07-28T11:34:12.445Z"
   },
   {
    "duration": 0,
    "start_time": "2022-07-28T11:34:12.446Z"
   },
   {
    "duration": 0,
    "start_time": "2022-07-28T11:34:12.447Z"
   },
   {
    "duration": 0,
    "start_time": "2022-07-28T11:34:12.448Z"
   },
   {
    "duration": 0,
    "start_time": "2022-07-28T11:34:12.449Z"
   },
   {
    "duration": 0,
    "start_time": "2022-07-28T11:34:12.450Z"
   },
   {
    "duration": 0,
    "start_time": "2022-07-28T11:34:12.450Z"
   },
   {
    "duration": 0,
    "start_time": "2022-07-28T11:34:12.451Z"
   },
   {
    "duration": 0,
    "start_time": "2022-07-28T11:34:12.453Z"
   },
   {
    "duration": 0,
    "start_time": "2022-07-28T11:34:12.453Z"
   },
   {
    "duration": 0,
    "start_time": "2022-07-28T11:34:12.458Z"
   },
   {
    "duration": 0,
    "start_time": "2022-07-28T11:34:12.459Z"
   },
   {
    "duration": 0,
    "start_time": "2022-07-28T11:34:12.461Z"
   },
   {
    "duration": 0,
    "start_time": "2022-07-28T11:34:12.462Z"
   },
   {
    "duration": 0,
    "start_time": "2022-07-28T11:34:12.463Z"
   },
   {
    "duration": 0,
    "start_time": "2022-07-28T11:34:12.463Z"
   },
   {
    "duration": 0,
    "start_time": "2022-07-28T11:34:12.464Z"
   },
   {
    "duration": 0,
    "start_time": "2022-07-28T11:34:12.465Z"
   },
   {
    "duration": 0,
    "start_time": "2022-07-28T11:34:12.467Z"
   },
   {
    "duration": 0,
    "start_time": "2022-07-28T11:34:12.468Z"
   },
   {
    "duration": 39,
    "start_time": "2022-07-28T11:34:25.296Z"
   },
   {
    "duration": 338,
    "start_time": "2022-07-28T11:35:18.482Z"
   },
   {
    "duration": 303,
    "start_time": "2022-07-28T11:36:15.147Z"
   },
   {
    "duration": 273,
    "start_time": "2022-07-28T11:37:06.543Z"
   },
   {
    "duration": 402,
    "start_time": "2022-07-28T11:42:25.230Z"
   },
   {
    "duration": 73,
    "start_time": "2022-07-28T11:43:41.986Z"
   },
   {
    "duration": 14,
    "start_time": "2022-07-28T11:43:42.061Z"
   },
   {
    "duration": 15,
    "start_time": "2022-07-28T11:43:42.076Z"
   },
   {
    "duration": 12,
    "start_time": "2022-07-28T11:43:42.092Z"
   },
   {
    "duration": 59,
    "start_time": "2022-07-28T11:43:42.106Z"
   },
   {
    "duration": 10,
    "start_time": "2022-07-28T11:43:42.166Z"
   },
   {
    "duration": 5,
    "start_time": "2022-07-28T11:43:42.177Z"
   },
   {
    "duration": 9,
    "start_time": "2022-07-28T11:43:42.183Z"
   },
   {
    "duration": 61,
    "start_time": "2022-07-28T11:43:42.193Z"
   },
   {
    "duration": 2,
    "start_time": "2022-07-28T11:43:42.256Z"
   },
   {
    "duration": 5,
    "start_time": "2022-07-28T11:43:42.259Z"
   },
   {
    "duration": 4,
    "start_time": "2022-07-28T11:43:42.266Z"
   },
   {
    "duration": 9,
    "start_time": "2022-07-28T11:43:42.272Z"
   },
   {
    "duration": 9,
    "start_time": "2022-07-28T11:43:42.283Z"
   },
   {
    "duration": 8,
    "start_time": "2022-07-28T11:43:42.293Z"
   },
   {
    "duration": 34,
    "start_time": "2022-07-28T11:43:42.303Z"
   },
   {
    "duration": 4,
    "start_time": "2022-07-28T11:43:42.339Z"
   },
   {
    "duration": 8,
    "start_time": "2022-07-28T11:43:42.344Z"
   },
   {
    "duration": 311,
    "start_time": "2022-07-28T11:43:42.354Z"
   },
   {
    "duration": 0,
    "start_time": "2022-07-28T11:43:42.667Z"
   },
   {
    "duration": 0,
    "start_time": "2022-07-28T11:43:42.669Z"
   },
   {
    "duration": 0,
    "start_time": "2022-07-28T11:43:42.670Z"
   },
   {
    "duration": 0,
    "start_time": "2022-07-28T11:43:42.671Z"
   },
   {
    "duration": 0,
    "start_time": "2022-07-28T11:43:42.672Z"
   },
   {
    "duration": 0,
    "start_time": "2022-07-28T11:43:42.672Z"
   },
   {
    "duration": 0,
    "start_time": "2022-07-28T11:43:42.674Z"
   },
   {
    "duration": 0,
    "start_time": "2022-07-28T11:43:42.675Z"
   },
   {
    "duration": 0,
    "start_time": "2022-07-28T11:43:42.676Z"
   },
   {
    "duration": 0,
    "start_time": "2022-07-28T11:43:42.677Z"
   },
   {
    "duration": 0,
    "start_time": "2022-07-28T11:43:42.678Z"
   },
   {
    "duration": 0,
    "start_time": "2022-07-28T11:43:42.678Z"
   },
   {
    "duration": 0,
    "start_time": "2022-07-28T11:43:42.679Z"
   },
   {
    "duration": 0,
    "start_time": "2022-07-28T11:43:42.680Z"
   },
   {
    "duration": 0,
    "start_time": "2022-07-28T11:43:42.681Z"
   },
   {
    "duration": 0,
    "start_time": "2022-07-28T11:43:42.682Z"
   },
   {
    "duration": 0,
    "start_time": "2022-07-28T11:43:42.683Z"
   },
   {
    "duration": 0,
    "start_time": "2022-07-28T11:43:42.684Z"
   },
   {
    "duration": 0,
    "start_time": "2022-07-28T11:43:42.685Z"
   },
   {
    "duration": 0,
    "start_time": "2022-07-28T11:43:42.685Z"
   },
   {
    "duration": 0,
    "start_time": "2022-07-28T11:43:42.687Z"
   },
   {
    "duration": 0,
    "start_time": "2022-07-28T11:43:42.687Z"
   },
   {
    "duration": 0,
    "start_time": "2022-07-28T11:43:42.689Z"
   },
   {
    "duration": 0,
    "start_time": "2022-07-28T11:43:42.689Z"
   },
   {
    "duration": 0,
    "start_time": "2022-07-28T11:43:42.691Z"
   },
   {
    "duration": 0,
    "start_time": "2022-07-28T11:43:42.692Z"
   },
   {
    "duration": 0,
    "start_time": "2022-07-28T11:43:42.693Z"
   },
   {
    "duration": 0,
    "start_time": "2022-07-28T11:43:42.693Z"
   },
   {
    "duration": 0,
    "start_time": "2022-07-28T11:43:42.694Z"
   },
   {
    "duration": 0,
    "start_time": "2022-07-28T11:43:42.695Z"
   },
   {
    "duration": 0,
    "start_time": "2022-07-28T11:43:42.696Z"
   },
   {
    "duration": 0,
    "start_time": "2022-07-28T11:43:42.697Z"
   },
   {
    "duration": 0,
    "start_time": "2022-07-28T11:43:42.698Z"
   },
   {
    "duration": 0,
    "start_time": "2022-07-28T11:43:42.699Z"
   },
   {
    "duration": 0,
    "start_time": "2022-07-28T11:43:42.700Z"
   },
   {
    "duration": 0,
    "start_time": "2022-07-28T11:43:42.701Z"
   },
   {
    "duration": 0,
    "start_time": "2022-07-28T11:43:42.702Z"
   },
   {
    "duration": 0,
    "start_time": "2022-07-28T11:43:42.703Z"
   },
   {
    "duration": 0,
    "start_time": "2022-07-28T11:43:42.704Z"
   },
   {
    "duration": 0,
    "start_time": "2022-07-28T11:43:42.737Z"
   },
   {
    "duration": 0,
    "start_time": "2022-07-28T11:43:42.738Z"
   },
   {
    "duration": 0,
    "start_time": "2022-07-28T11:43:42.739Z"
   },
   {
    "duration": 0,
    "start_time": "2022-07-28T11:43:42.740Z"
   },
   {
    "duration": 0,
    "start_time": "2022-07-28T11:43:42.741Z"
   },
   {
    "duration": 0,
    "start_time": "2022-07-28T11:43:42.742Z"
   },
   {
    "duration": 0,
    "start_time": "2022-07-28T11:43:42.743Z"
   },
   {
    "duration": 0,
    "start_time": "2022-07-28T11:43:42.744Z"
   },
   {
    "duration": 0,
    "start_time": "2022-07-28T11:43:42.745Z"
   },
   {
    "duration": 0,
    "start_time": "2022-07-28T11:43:42.746Z"
   },
   {
    "duration": 0,
    "start_time": "2022-07-28T11:43:42.747Z"
   },
   {
    "duration": 0,
    "start_time": "2022-07-28T11:43:42.748Z"
   },
   {
    "duration": 0,
    "start_time": "2022-07-28T11:43:42.749Z"
   },
   {
    "duration": 0,
    "start_time": "2022-07-28T11:43:42.750Z"
   },
   {
    "duration": 274,
    "start_time": "2022-07-28T11:43:49.448Z"
   },
   {
    "duration": 122,
    "start_time": "2022-07-28T11:44:05.495Z"
   },
   {
    "duration": 14,
    "start_time": "2022-07-28T11:44:05.619Z"
   },
   {
    "duration": 16,
    "start_time": "2022-07-28T11:44:05.634Z"
   },
   {
    "duration": 13,
    "start_time": "2022-07-28T11:44:05.651Z"
   },
   {
    "duration": 31,
    "start_time": "2022-07-28T11:44:05.666Z"
   },
   {
    "duration": 40,
    "start_time": "2022-07-28T11:44:05.699Z"
   },
   {
    "duration": 6,
    "start_time": "2022-07-28T11:44:05.741Z"
   },
   {
    "duration": 7,
    "start_time": "2022-07-28T11:44:05.749Z"
   },
   {
    "duration": 35,
    "start_time": "2022-07-28T11:44:05.758Z"
   },
   {
    "duration": 2,
    "start_time": "2022-07-28T11:44:05.795Z"
   },
   {
    "duration": 8,
    "start_time": "2022-07-28T11:44:05.799Z"
   },
   {
    "duration": 17,
    "start_time": "2022-07-28T11:44:05.809Z"
   },
   {
    "duration": 25,
    "start_time": "2022-07-28T11:44:05.837Z"
   },
   {
    "duration": 13,
    "start_time": "2022-07-28T11:44:05.866Z"
   },
   {
    "duration": 12,
    "start_time": "2022-07-28T11:44:05.881Z"
   },
   {
    "duration": 8,
    "start_time": "2022-07-28T11:44:05.895Z"
   },
   {
    "duration": 11,
    "start_time": "2022-07-28T11:44:05.904Z"
   },
   {
    "duration": 8,
    "start_time": "2022-07-28T11:44:05.916Z"
   },
   {
    "duration": 265,
    "start_time": "2022-07-28T11:44:05.925Z"
   },
   {
    "duration": 0,
    "start_time": "2022-07-28T11:44:06.192Z"
   },
   {
    "duration": 0,
    "start_time": "2022-07-28T11:44:06.193Z"
   },
   {
    "duration": 0,
    "start_time": "2022-07-28T11:44:06.194Z"
   },
   {
    "duration": 0,
    "start_time": "2022-07-28T11:44:06.196Z"
   },
   {
    "duration": 0,
    "start_time": "2022-07-28T11:44:06.197Z"
   },
   {
    "duration": 0,
    "start_time": "2022-07-28T11:44:06.198Z"
   },
   {
    "duration": 0,
    "start_time": "2022-07-28T11:44:06.199Z"
   },
   {
    "duration": 0,
    "start_time": "2022-07-28T11:44:06.200Z"
   },
   {
    "duration": 0,
    "start_time": "2022-07-28T11:44:06.201Z"
   },
   {
    "duration": 0,
    "start_time": "2022-07-28T11:44:06.202Z"
   },
   {
    "duration": 0,
    "start_time": "2022-07-28T11:44:06.203Z"
   },
   {
    "duration": 0,
    "start_time": "2022-07-28T11:44:06.203Z"
   },
   {
    "duration": 0,
    "start_time": "2022-07-28T11:44:06.204Z"
   },
   {
    "duration": 0,
    "start_time": "2022-07-28T11:44:06.205Z"
   },
   {
    "duration": 0,
    "start_time": "2022-07-28T11:44:06.206Z"
   },
   {
    "duration": 0,
    "start_time": "2022-07-28T11:44:06.207Z"
   },
   {
    "duration": 0,
    "start_time": "2022-07-28T11:44:06.208Z"
   },
   {
    "duration": 0,
    "start_time": "2022-07-28T11:44:06.209Z"
   },
   {
    "duration": 0,
    "start_time": "2022-07-28T11:44:06.210Z"
   },
   {
    "duration": 0,
    "start_time": "2022-07-28T11:44:06.212Z"
   },
   {
    "duration": 0,
    "start_time": "2022-07-28T11:44:06.213Z"
   },
   {
    "duration": 0,
    "start_time": "2022-07-28T11:44:06.215Z"
   },
   {
    "duration": 0,
    "start_time": "2022-07-28T11:44:06.216Z"
   },
   {
    "duration": 0,
    "start_time": "2022-07-28T11:44:06.218Z"
   },
   {
    "duration": 0,
    "start_time": "2022-07-28T11:44:06.219Z"
   },
   {
    "duration": 0,
    "start_time": "2022-07-28T11:44:06.219Z"
   },
   {
    "duration": 0,
    "start_time": "2022-07-28T11:44:06.220Z"
   },
   {
    "duration": 0,
    "start_time": "2022-07-28T11:44:06.221Z"
   },
   {
    "duration": 0,
    "start_time": "2022-07-28T11:44:06.221Z"
   },
   {
    "duration": 0,
    "start_time": "2022-07-28T11:44:06.223Z"
   },
   {
    "duration": 0,
    "start_time": "2022-07-28T11:44:06.224Z"
   },
   {
    "duration": 0,
    "start_time": "2022-07-28T11:44:06.225Z"
   },
   {
    "duration": 0,
    "start_time": "2022-07-28T11:44:06.226Z"
   },
   {
    "duration": 0,
    "start_time": "2022-07-28T11:44:06.227Z"
   },
   {
    "duration": 0,
    "start_time": "2022-07-28T11:44:06.228Z"
   },
   {
    "duration": 0,
    "start_time": "2022-07-28T11:44:06.239Z"
   },
   {
    "duration": 0,
    "start_time": "2022-07-28T11:44:06.240Z"
   },
   {
    "duration": 0,
    "start_time": "2022-07-28T11:44:06.241Z"
   },
   {
    "duration": 0,
    "start_time": "2022-07-28T11:44:06.242Z"
   },
   {
    "duration": 0,
    "start_time": "2022-07-28T11:44:06.243Z"
   },
   {
    "duration": 0,
    "start_time": "2022-07-28T11:44:06.244Z"
   },
   {
    "duration": 0,
    "start_time": "2022-07-28T11:44:06.245Z"
   },
   {
    "duration": 0,
    "start_time": "2022-07-28T11:44:06.245Z"
   },
   {
    "duration": 0,
    "start_time": "2022-07-28T11:44:06.246Z"
   },
   {
    "duration": 0,
    "start_time": "2022-07-28T11:44:06.247Z"
   },
   {
    "duration": 0,
    "start_time": "2022-07-28T11:44:06.250Z"
   },
   {
    "duration": 0,
    "start_time": "2022-07-28T11:44:06.251Z"
   },
   {
    "duration": 0,
    "start_time": "2022-07-28T11:44:06.252Z"
   },
   {
    "duration": 0,
    "start_time": "2022-07-28T11:44:06.253Z"
   },
   {
    "duration": 0,
    "start_time": "2022-07-28T11:44:06.255Z"
   },
   {
    "duration": 0,
    "start_time": "2022-07-28T11:44:06.256Z"
   },
   {
    "duration": 0,
    "start_time": "2022-07-28T11:44:06.257Z"
   },
   {
    "duration": 0,
    "start_time": "2022-07-28T11:44:06.258Z"
   },
   {
    "duration": 77,
    "start_time": "2022-07-28T11:44:48.649Z"
   },
   {
    "duration": 14,
    "start_time": "2022-07-28T11:44:48.728Z"
   },
   {
    "duration": 14,
    "start_time": "2022-07-28T11:44:48.744Z"
   },
   {
    "duration": 12,
    "start_time": "2022-07-28T11:44:48.759Z"
   },
   {
    "duration": 31,
    "start_time": "2022-07-28T11:44:48.773Z"
   },
   {
    "duration": 41,
    "start_time": "2022-07-28T11:44:48.805Z"
   },
   {
    "duration": 9,
    "start_time": "2022-07-28T11:44:48.848Z"
   },
   {
    "duration": 13,
    "start_time": "2022-07-28T11:44:48.859Z"
   },
   {
    "duration": 37,
    "start_time": "2022-07-28T11:44:48.875Z"
   },
   {
    "duration": 23,
    "start_time": "2022-07-28T11:44:48.914Z"
   },
   {
    "duration": 3,
    "start_time": "2022-07-28T11:44:48.939Z"
   },
   {
    "duration": 10,
    "start_time": "2022-07-28T11:44:48.944Z"
   },
   {
    "duration": 16,
    "start_time": "2022-07-28T11:44:48.956Z"
   },
   {
    "duration": 20,
    "start_time": "2022-07-28T11:44:48.975Z"
   },
   {
    "duration": 30,
    "start_time": "2022-07-28T11:44:48.997Z"
   },
   {
    "duration": 20,
    "start_time": "2022-07-28T11:44:49.028Z"
   },
   {
    "duration": 6,
    "start_time": "2022-07-28T11:44:49.050Z"
   },
   {
    "duration": 12,
    "start_time": "2022-07-28T11:44:49.058Z"
   },
   {
    "duration": 31,
    "start_time": "2022-07-28T11:44:49.072Z"
   },
   {
    "duration": 3,
    "start_time": "2022-07-28T11:44:49.105Z"
   },
   {
    "duration": 10,
    "start_time": "2022-07-28T11:44:49.111Z"
   },
   {
    "duration": 5,
    "start_time": "2022-07-28T11:44:49.123Z"
   },
   {
    "duration": 5,
    "start_time": "2022-07-28T11:44:49.129Z"
   },
   {
    "duration": 6,
    "start_time": "2022-07-28T11:44:49.137Z"
   },
   {
    "duration": 4,
    "start_time": "2022-07-28T11:44:49.145Z"
   },
   {
    "duration": 5,
    "start_time": "2022-07-28T11:44:49.150Z"
   },
   {
    "duration": 5,
    "start_time": "2022-07-28T11:44:49.157Z"
   },
   {
    "duration": 7,
    "start_time": "2022-07-28T11:44:49.163Z"
   },
   {
    "duration": 4,
    "start_time": "2022-07-28T11:44:49.172Z"
   },
   {
    "duration": 5,
    "start_time": "2022-07-28T11:44:49.177Z"
   },
   {
    "duration": 5,
    "start_time": "2022-07-28T11:44:49.184Z"
   },
   {
    "duration": 5,
    "start_time": "2022-07-28T11:44:49.190Z"
   },
   {
    "duration": 6,
    "start_time": "2022-07-28T11:44:49.196Z"
   },
   {
    "duration": 5,
    "start_time": "2022-07-28T11:44:49.203Z"
   },
   {
    "duration": 4,
    "start_time": "2022-07-28T11:44:49.210Z"
   },
   {
    "duration": 6,
    "start_time": "2022-07-28T11:44:49.216Z"
   },
   {
    "duration": 23,
    "start_time": "2022-07-28T11:44:49.224Z"
   },
   {
    "duration": 5,
    "start_time": "2022-07-28T11:44:49.249Z"
   },
   {
    "duration": 7,
    "start_time": "2022-07-28T11:44:49.255Z"
   },
   {
    "duration": 7,
    "start_time": "2022-07-28T11:44:49.263Z"
   },
   {
    "duration": 2,
    "start_time": "2022-07-28T11:44:49.274Z"
   },
   {
    "duration": 9,
    "start_time": "2022-07-28T11:44:49.278Z"
   },
   {
    "duration": 14,
    "start_time": "2022-07-28T11:44:49.288Z"
   },
   {
    "duration": 6,
    "start_time": "2022-07-28T11:44:49.304Z"
   },
   {
    "duration": 17,
    "start_time": "2022-07-28T11:44:49.312Z"
   },
   {
    "duration": 12,
    "start_time": "2022-07-28T11:44:49.331Z"
   },
   {
    "duration": 6,
    "start_time": "2022-07-28T11:44:49.344Z"
   },
   {
    "duration": 5,
    "start_time": "2022-07-28T11:44:49.351Z"
   },
   {
    "duration": 4,
    "start_time": "2022-07-28T11:44:49.358Z"
   },
   {
    "duration": 6,
    "start_time": "2022-07-28T11:44:49.364Z"
   },
   {
    "duration": 5,
    "start_time": "2022-07-28T11:44:49.371Z"
   },
   {
    "duration": 4,
    "start_time": "2022-07-28T11:44:49.378Z"
   },
   {
    "duration": 4,
    "start_time": "2022-07-28T11:44:49.384Z"
   },
   {
    "duration": 4,
    "start_time": "2022-07-28T11:44:49.390Z"
   },
   {
    "duration": 5,
    "start_time": "2022-07-28T11:44:49.396Z"
   },
   {
    "duration": 5,
    "start_time": "2022-07-28T11:44:49.403Z"
   },
   {
    "duration": 5,
    "start_time": "2022-07-28T11:44:49.409Z"
   },
   {
    "duration": 4,
    "start_time": "2022-07-28T11:44:49.415Z"
   },
   {
    "duration": 4,
    "start_time": "2022-07-28T11:44:49.421Z"
   },
   {
    "duration": 12,
    "start_time": "2022-07-28T11:44:49.426Z"
   },
   {
    "duration": 5,
    "start_time": "2022-07-28T11:44:49.439Z"
   },
   {
    "duration": 4,
    "start_time": "2022-07-28T11:44:49.446Z"
   },
   {
    "duration": 8,
    "start_time": "2022-07-28T11:44:49.452Z"
   },
   {
    "duration": 10,
    "start_time": "2022-07-28T11:44:49.461Z"
   },
   {
    "duration": 6,
    "start_time": "2022-07-28T11:44:49.473Z"
   },
   {
    "duration": 5,
    "start_time": "2022-07-28T11:44:49.481Z"
   },
   {
    "duration": 5,
    "start_time": "2022-07-28T11:44:49.487Z"
   },
   {
    "duration": 10,
    "start_time": "2022-07-28T11:44:49.494Z"
   },
   {
    "duration": 7,
    "start_time": "2022-07-28T11:44:49.506Z"
   },
   {
    "duration": 22,
    "start_time": "2022-07-28T11:44:49.515Z"
   },
   {
    "duration": 7,
    "start_time": "2022-07-28T11:44:49.539Z"
   },
   {
    "duration": 8,
    "start_time": "2022-07-28T11:44:49.547Z"
   },
   {
    "duration": 14,
    "start_time": "2022-07-28T11:45:07.253Z"
   },
   {
    "duration": 8,
    "start_time": "2022-07-28T11:45:52.655Z"
   },
   {
    "duration": 98,
    "start_time": "2022-07-28T11:46:03.773Z"
   },
   {
    "duration": 16,
    "start_time": "2022-07-28T11:46:03.874Z"
   },
   {
    "duration": 16,
    "start_time": "2022-07-28T11:46:03.891Z"
   },
   {
    "duration": 26,
    "start_time": "2022-07-28T11:46:03.909Z"
   },
   {
    "duration": 53,
    "start_time": "2022-07-28T11:46:03.937Z"
   },
   {
    "duration": 9,
    "start_time": "2022-07-28T11:46:03.992Z"
   },
   {
    "duration": 22,
    "start_time": "2022-07-28T11:46:04.003Z"
   },
   {
    "duration": 16,
    "start_time": "2022-07-28T11:46:04.027Z"
   },
   {
    "duration": 31,
    "start_time": "2022-07-28T11:46:04.044Z"
   },
   {
    "duration": 3,
    "start_time": "2022-07-28T11:46:04.077Z"
   },
   {
    "duration": 10,
    "start_time": "2022-07-28T11:46:04.081Z"
   },
   {
    "duration": 11,
    "start_time": "2022-07-28T11:46:04.092Z"
   },
   {
    "duration": 12,
    "start_time": "2022-07-28T11:46:04.105Z"
   },
   {
    "duration": 14,
    "start_time": "2022-07-28T11:46:04.118Z"
   },
   {
    "duration": 23,
    "start_time": "2022-07-28T11:46:04.134Z"
   },
   {
    "duration": 11,
    "start_time": "2022-07-28T11:46:04.159Z"
   },
   {
    "duration": 11,
    "start_time": "2022-07-28T11:46:04.172Z"
   },
   {
    "duration": 12,
    "start_time": "2022-07-28T11:46:04.184Z"
   },
   {
    "duration": 87,
    "start_time": "2022-07-28T11:46:16.237Z"
   },
   {
    "duration": 16,
    "start_time": "2022-07-28T11:46:16.325Z"
   },
   {
    "duration": 17,
    "start_time": "2022-07-28T11:46:16.342Z"
   },
   {
    "duration": 14,
    "start_time": "2022-07-28T11:46:16.360Z"
   },
   {
    "duration": 32,
    "start_time": "2022-07-28T11:46:16.376Z"
   },
   {
    "duration": 13,
    "start_time": "2022-07-28T11:46:16.437Z"
   },
   {
    "duration": 10,
    "start_time": "2022-07-28T11:46:16.451Z"
   },
   {
    "duration": 6,
    "start_time": "2022-07-28T11:46:16.462Z"
   },
   {
    "duration": 24,
    "start_time": "2022-07-28T11:46:16.470Z"
   },
   {
    "duration": 2,
    "start_time": "2022-07-28T11:46:16.497Z"
   },
   {
    "duration": 6,
    "start_time": "2022-07-28T11:46:16.501Z"
   },
   {
    "duration": 5,
    "start_time": "2022-07-28T11:46:16.509Z"
   },
   {
    "duration": 7,
    "start_time": "2022-07-28T11:46:16.537Z"
   },
   {
    "duration": 12,
    "start_time": "2022-07-28T11:46:16.546Z"
   },
   {
    "duration": 8,
    "start_time": "2022-07-28T11:46:16.559Z"
   },
   {
    "duration": 8,
    "start_time": "2022-07-28T11:46:16.568Z"
   },
   {
    "duration": 4,
    "start_time": "2022-07-28T11:46:16.577Z"
   },
   {
    "duration": 9,
    "start_time": "2022-07-28T11:46:16.583Z"
   },
   {
    "duration": 9,
    "start_time": "2022-07-28T11:46:16.594Z"
   },
   {
    "duration": 10,
    "start_time": "2022-07-28T11:46:16.605Z"
   },
   {
    "duration": 2,
    "start_time": "2022-07-28T11:46:16.636Z"
   },
   {
    "duration": 11,
    "start_time": "2022-07-28T11:46:16.640Z"
   },
   {
    "duration": 6,
    "start_time": "2022-07-28T11:46:16.652Z"
   },
   {
    "duration": 5,
    "start_time": "2022-07-28T11:46:16.659Z"
   },
   {
    "duration": 5,
    "start_time": "2022-07-28T11:46:16.665Z"
   },
   {
    "duration": 6,
    "start_time": "2022-07-28T11:46:16.672Z"
   },
   {
    "duration": 5,
    "start_time": "2022-07-28T11:46:16.679Z"
   },
   {
    "duration": 4,
    "start_time": "2022-07-28T11:46:16.688Z"
   },
   {
    "duration": 4,
    "start_time": "2022-07-28T11:46:16.694Z"
   },
   {
    "duration": 13,
    "start_time": "2022-07-28T11:46:16.700Z"
   },
   {
    "duration": 5,
    "start_time": "2022-07-28T11:46:16.714Z"
   },
   {
    "duration": 6,
    "start_time": "2022-07-28T11:46:16.720Z"
   },
   {
    "duration": 10,
    "start_time": "2022-07-28T11:46:16.727Z"
   },
   {
    "duration": 5,
    "start_time": "2022-07-28T11:46:16.738Z"
   },
   {
    "duration": 6,
    "start_time": "2022-07-28T11:46:16.744Z"
   },
   {
    "duration": 6,
    "start_time": "2022-07-28T11:46:16.752Z"
   },
   {
    "duration": 4,
    "start_time": "2022-07-28T11:46:16.760Z"
   },
   {
    "duration": 6,
    "start_time": "2022-07-28T11:46:16.766Z"
   },
   {
    "duration": 7,
    "start_time": "2022-07-28T11:46:16.773Z"
   },
   {
    "duration": 6,
    "start_time": "2022-07-28T11:46:16.781Z"
   },
   {
    "duration": 9,
    "start_time": "2022-07-28T11:46:16.788Z"
   },
   {
    "duration": 9,
    "start_time": "2022-07-28T11:46:16.798Z"
   },
   {
    "duration": 12,
    "start_time": "2022-07-28T11:46:16.808Z"
   },
   {
    "duration": 8,
    "start_time": "2022-07-28T11:46:16.822Z"
   },
   {
    "duration": 5,
    "start_time": "2022-07-28T11:46:16.832Z"
   },
   {
    "duration": 7,
    "start_time": "2022-07-28T11:46:16.838Z"
   },
   {
    "duration": 11,
    "start_time": "2022-07-28T11:46:16.847Z"
   },
   {
    "duration": 6,
    "start_time": "2022-07-28T11:46:16.859Z"
   },
   {
    "duration": 8,
    "start_time": "2022-07-28T11:46:16.866Z"
   },
   {
    "duration": 6,
    "start_time": "2022-07-28T11:46:16.875Z"
   },
   {
    "duration": 5,
    "start_time": "2022-07-28T11:46:16.883Z"
   },
   {
    "duration": 5,
    "start_time": "2022-07-28T11:46:16.889Z"
   },
   {
    "duration": 5,
    "start_time": "2022-07-28T11:46:16.896Z"
   },
   {
    "duration": 6,
    "start_time": "2022-07-28T11:46:16.903Z"
   },
   {
    "duration": 5,
    "start_time": "2022-07-28T11:46:16.910Z"
   },
   {
    "duration": 5,
    "start_time": "2022-07-28T11:46:16.917Z"
   },
   {
    "duration": 6,
    "start_time": "2022-07-28T11:46:16.924Z"
   },
   {
    "duration": 6,
    "start_time": "2022-07-28T11:46:16.931Z"
   },
   {
    "duration": 4,
    "start_time": "2022-07-28T11:46:16.939Z"
   },
   {
    "duration": 7,
    "start_time": "2022-07-28T11:46:16.945Z"
   },
   {
    "duration": 5,
    "start_time": "2022-07-28T11:46:16.953Z"
   },
   {
    "duration": 8,
    "start_time": "2022-07-28T11:46:16.960Z"
   },
   {
    "duration": 5,
    "start_time": "2022-07-28T11:46:16.970Z"
   },
   {
    "duration": 5,
    "start_time": "2022-07-28T11:46:16.977Z"
   },
   {
    "duration": 5,
    "start_time": "2022-07-28T11:46:16.983Z"
   },
   {
    "duration": 6,
    "start_time": "2022-07-28T11:46:16.990Z"
   },
   {
    "duration": 5,
    "start_time": "2022-07-28T11:46:16.997Z"
   },
   {
    "duration": 5,
    "start_time": "2022-07-28T11:46:17.004Z"
   },
   {
    "duration": 4,
    "start_time": "2022-07-28T11:46:17.011Z"
   },
   {
    "duration": 5,
    "start_time": "2022-07-28T11:46:17.016Z"
   },
   {
    "duration": 15,
    "start_time": "2022-07-28T11:46:17.022Z"
   },
   {
    "duration": 6,
    "start_time": "2022-07-28T11:46:17.038Z"
   },
   {
    "duration": 53,
    "start_time": "2022-07-28T11:51:05.597Z"
   },
   {
    "duration": 15,
    "start_time": "2022-07-28T11:51:14.755Z"
   },
   {
    "duration": 13,
    "start_time": "2022-07-28T11:51:16.249Z"
   },
   {
    "duration": 19,
    "start_time": "2022-07-28T11:51:58.849Z"
   },
   {
    "duration": 76,
    "start_time": "2022-07-28T11:52:57.538Z"
   },
   {
    "duration": 15,
    "start_time": "2022-07-28T11:52:57.615Z"
   },
   {
    "duration": 19,
    "start_time": "2022-07-28T11:52:57.631Z"
   },
   {
    "duration": 11,
    "start_time": "2022-07-28T11:52:57.652Z"
   },
   {
    "duration": 33,
    "start_time": "2022-07-28T11:52:57.665Z"
   },
   {
    "duration": 9,
    "start_time": "2022-07-28T11:52:57.699Z"
   },
   {
    "duration": 7,
    "start_time": "2022-07-28T11:52:57.709Z"
   },
   {
    "duration": 19,
    "start_time": "2022-07-28T11:52:57.718Z"
   },
   {
    "duration": 22,
    "start_time": "2022-07-28T11:52:57.738Z"
   },
   {
    "duration": 2,
    "start_time": "2022-07-28T11:52:57.762Z"
   },
   {
    "duration": 5,
    "start_time": "2022-07-28T11:52:57.765Z"
   },
   {
    "duration": 6,
    "start_time": "2022-07-28T11:52:57.772Z"
   },
   {
    "duration": 8,
    "start_time": "2022-07-28T11:52:57.780Z"
   },
   {
    "duration": 9,
    "start_time": "2022-07-28T11:52:57.790Z"
   },
   {
    "duration": 7,
    "start_time": "2022-07-28T11:52:57.801Z"
   },
   {
    "duration": 33,
    "start_time": "2022-07-28T11:52:57.809Z"
   },
   {
    "duration": 5,
    "start_time": "2022-07-28T11:52:57.843Z"
   },
   {
    "duration": 7,
    "start_time": "2022-07-28T11:52:57.850Z"
   },
   {
    "duration": 16,
    "start_time": "2022-07-28T11:52:57.859Z"
   },
   {
    "duration": 0,
    "start_time": "2022-07-28T11:52:57.877Z"
   },
   {
    "duration": 0,
    "start_time": "2022-07-28T11:52:57.879Z"
   },
   {
    "duration": 0,
    "start_time": "2022-07-28T11:52:57.880Z"
   },
   {
    "duration": 0,
    "start_time": "2022-07-28T11:52:57.881Z"
   },
   {
    "duration": 0,
    "start_time": "2022-07-28T11:52:57.882Z"
   },
   {
    "duration": 0,
    "start_time": "2022-07-28T11:52:57.883Z"
   },
   {
    "duration": 0,
    "start_time": "2022-07-28T11:52:57.884Z"
   },
   {
    "duration": 0,
    "start_time": "2022-07-28T11:52:57.886Z"
   },
   {
    "duration": 0,
    "start_time": "2022-07-28T11:52:57.887Z"
   },
   {
    "duration": 0,
    "start_time": "2022-07-28T11:52:57.888Z"
   },
   {
    "duration": 0,
    "start_time": "2022-07-28T11:52:57.889Z"
   },
   {
    "duration": 0,
    "start_time": "2022-07-28T11:52:57.890Z"
   },
   {
    "duration": 0,
    "start_time": "2022-07-28T11:52:57.891Z"
   },
   {
    "duration": 0,
    "start_time": "2022-07-28T11:52:57.892Z"
   },
   {
    "duration": 0,
    "start_time": "2022-07-28T11:52:57.893Z"
   },
   {
    "duration": 0,
    "start_time": "2022-07-28T11:52:57.894Z"
   },
   {
    "duration": 1,
    "start_time": "2022-07-28T11:52:57.936Z"
   },
   {
    "duration": 0,
    "start_time": "2022-07-28T11:52:57.938Z"
   },
   {
    "duration": 0,
    "start_time": "2022-07-28T11:52:57.939Z"
   },
   {
    "duration": 0,
    "start_time": "2022-07-28T11:52:57.940Z"
   },
   {
    "duration": 0,
    "start_time": "2022-07-28T11:52:57.941Z"
   },
   {
    "duration": 0,
    "start_time": "2022-07-28T11:52:57.942Z"
   },
   {
    "duration": 0,
    "start_time": "2022-07-28T11:52:57.943Z"
   },
   {
    "duration": 0,
    "start_time": "2022-07-28T11:52:57.944Z"
   },
   {
    "duration": 0,
    "start_time": "2022-07-28T11:52:57.944Z"
   },
   {
    "duration": 0,
    "start_time": "2022-07-28T11:52:57.945Z"
   },
   {
    "duration": 0,
    "start_time": "2022-07-28T11:52:57.947Z"
   },
   {
    "duration": 0,
    "start_time": "2022-07-28T11:52:57.947Z"
   },
   {
    "duration": 0,
    "start_time": "2022-07-28T11:52:57.949Z"
   },
   {
    "duration": 0,
    "start_time": "2022-07-28T11:52:57.950Z"
   },
   {
    "duration": 0,
    "start_time": "2022-07-28T11:52:57.951Z"
   },
   {
    "duration": 0,
    "start_time": "2022-07-28T11:52:57.952Z"
   },
   {
    "duration": 0,
    "start_time": "2022-07-28T11:52:57.953Z"
   },
   {
    "duration": 0,
    "start_time": "2022-07-28T11:52:57.954Z"
   },
   {
    "duration": 0,
    "start_time": "2022-07-28T11:52:57.955Z"
   },
   {
    "duration": 0,
    "start_time": "2022-07-28T11:52:57.956Z"
   },
   {
    "duration": 0,
    "start_time": "2022-07-28T11:52:57.957Z"
   },
   {
    "duration": 0,
    "start_time": "2022-07-28T11:52:57.959Z"
   },
   {
    "duration": 0,
    "start_time": "2022-07-28T11:52:57.959Z"
   },
   {
    "duration": 0,
    "start_time": "2022-07-28T11:52:57.961Z"
   },
   {
    "duration": 0,
    "start_time": "2022-07-28T11:52:57.961Z"
   },
   {
    "duration": 0,
    "start_time": "2022-07-28T11:52:57.963Z"
   },
   {
    "duration": 0,
    "start_time": "2022-07-28T11:52:57.964Z"
   },
   {
    "duration": 0,
    "start_time": "2022-07-28T11:52:57.965Z"
   },
   {
    "duration": 0,
    "start_time": "2022-07-28T11:52:57.966Z"
   },
   {
    "duration": 0,
    "start_time": "2022-07-28T11:52:57.967Z"
   },
   {
    "duration": 0,
    "start_time": "2022-07-28T11:52:57.968Z"
   },
   {
    "duration": 0,
    "start_time": "2022-07-28T11:52:57.969Z"
   },
   {
    "duration": 0,
    "start_time": "2022-07-28T11:52:57.969Z"
   },
   {
    "duration": 0,
    "start_time": "2022-07-28T11:52:57.971Z"
   },
   {
    "duration": 0,
    "start_time": "2022-07-28T11:52:57.972Z"
   },
   {
    "duration": 0,
    "start_time": "2022-07-28T11:52:57.972Z"
   },
   {
    "duration": 0,
    "start_time": "2022-07-28T11:52:57.973Z"
   },
   {
    "duration": 12,
    "start_time": "2022-07-28T11:53:54.731Z"
   },
   {
    "duration": 12,
    "start_time": "2022-07-28T11:54:52.584Z"
   },
   {
    "duration": 10,
    "start_time": "2022-07-28T11:55:01.819Z"
   },
   {
    "duration": 11,
    "start_time": "2022-07-28T11:55:15.659Z"
   },
   {
    "duration": 12,
    "start_time": "2022-07-28T11:55:17.779Z"
   },
   {
    "duration": 12,
    "start_time": "2022-07-28T11:56:51.937Z"
   },
   {
    "duration": 13,
    "start_time": "2022-07-28T11:57:06.761Z"
   },
   {
    "duration": 9,
    "start_time": "2022-07-28T11:57:56.369Z"
   },
   {
    "duration": 13,
    "start_time": "2022-07-28T11:59:48.173Z"
   },
   {
    "duration": 14,
    "start_time": "2022-07-28T12:00:31.486Z"
   },
   {
    "duration": 12,
    "start_time": "2022-07-28T12:00:57.942Z"
   },
   {
    "duration": 12,
    "start_time": "2022-07-28T12:01:14.423Z"
   },
   {
    "duration": 10,
    "start_time": "2022-07-28T12:07:58.225Z"
   },
   {
    "duration": 14,
    "start_time": "2022-07-28T12:08:34.337Z"
   },
   {
    "duration": 59,
    "start_time": "2022-07-28T12:09:28.842Z"
   },
   {
    "duration": 9,
    "start_time": "2022-07-28T12:09:38.283Z"
   },
   {
    "duration": 8,
    "start_time": "2022-07-28T12:11:32.671Z"
   },
   {
    "duration": 7,
    "start_time": "2022-07-28T12:11:44.638Z"
   },
   {
    "duration": 7,
    "start_time": "2022-07-28T12:11:55.023Z"
   },
   {
    "duration": 10,
    "start_time": "2022-07-28T12:14:02.566Z"
   },
   {
    "duration": 11,
    "start_time": "2022-07-28T12:14:13.877Z"
   },
   {
    "duration": 29,
    "start_time": "2022-07-28T12:22:57.272Z"
   },
   {
    "duration": 24,
    "start_time": "2022-07-28T12:23:34.911Z"
   },
   {
    "duration": 28,
    "start_time": "2022-07-28T12:24:04.318Z"
   },
   {
    "duration": 37,
    "start_time": "2022-07-28T12:25:05.434Z"
   },
   {
    "duration": 34,
    "start_time": "2022-07-28T12:25:40.656Z"
   },
   {
    "duration": 34,
    "start_time": "2022-07-28T12:26:22.186Z"
   },
   {
    "duration": 30,
    "start_time": "2022-07-28T12:26:30.026Z"
   },
   {
    "duration": 29,
    "start_time": "2022-07-28T12:26:31.087Z"
   },
   {
    "duration": 28,
    "start_time": "2022-07-28T12:26:45.468Z"
   },
   {
    "duration": 30,
    "start_time": "2022-07-28T12:26:59.937Z"
   },
   {
    "duration": 29,
    "start_time": "2022-07-28T12:28:16.870Z"
   },
   {
    "duration": 30,
    "start_time": "2022-07-28T12:29:45.479Z"
   },
   {
    "duration": 54,
    "start_time": "2022-07-28T12:29:59.189Z"
   },
   {
    "duration": 30,
    "start_time": "2022-07-28T12:30:37.494Z"
   },
   {
    "duration": 28,
    "start_time": "2022-07-28T12:32:10.678Z"
   },
   {
    "duration": 18,
    "start_time": "2022-07-28T12:33:30.313Z"
   },
   {
    "duration": 13,
    "start_time": "2022-07-28T12:34:38.270Z"
   },
   {
    "duration": 10,
    "start_time": "2022-07-28T12:35:01.885Z"
   },
   {
    "duration": 11,
    "start_time": "2022-07-28T12:35:25.633Z"
   },
   {
    "duration": 12,
    "start_time": "2022-07-28T12:45:41.318Z"
   },
   {
    "duration": 8,
    "start_time": "2022-07-28T12:47:21.793Z"
   },
   {
    "duration": 5,
    "start_time": "2022-07-28T12:47:35.432Z"
   },
   {
    "duration": 9,
    "start_time": "2022-07-28T12:54:59.812Z"
   },
   {
    "duration": 9,
    "start_time": "2022-07-28T12:55:39.235Z"
   },
   {
    "duration": 9,
    "start_time": "2022-07-28T12:56:08.079Z"
   },
   {
    "duration": 7,
    "start_time": "2022-07-28T12:56:46.776Z"
   },
   {
    "duration": 10,
    "start_time": "2022-07-28T12:57:33.688Z"
   },
   {
    "duration": 83,
    "start_time": "2022-07-28T12:57:58.824Z"
   },
   {
    "duration": 17,
    "start_time": "2022-07-28T12:57:58.910Z"
   },
   {
    "duration": 24,
    "start_time": "2022-07-28T12:57:58.929Z"
   },
   {
    "duration": 18,
    "start_time": "2022-07-28T12:57:58.956Z"
   },
   {
    "duration": 61,
    "start_time": "2022-07-28T12:57:58.977Z"
   },
   {
    "duration": 13,
    "start_time": "2022-07-28T12:57:59.040Z"
   },
   {
    "duration": 11,
    "start_time": "2022-07-28T12:57:59.055Z"
   },
   {
    "duration": 9,
    "start_time": "2022-07-28T12:57:59.068Z"
   },
   {
    "duration": 26,
    "start_time": "2022-07-28T12:57:59.079Z"
   },
   {
    "duration": 3,
    "start_time": "2022-07-28T12:57:59.136Z"
   },
   {
    "duration": 7,
    "start_time": "2022-07-28T12:57:59.141Z"
   },
   {
    "duration": 5,
    "start_time": "2022-07-28T12:57:59.150Z"
   },
   {
    "duration": 11,
    "start_time": "2022-07-28T12:57:59.156Z"
   },
   {
    "duration": 10,
    "start_time": "2022-07-28T12:57:59.171Z"
   },
   {
    "duration": 7,
    "start_time": "2022-07-28T12:57:59.183Z"
   },
   {
    "duration": 7,
    "start_time": "2022-07-28T12:57:59.192Z"
   },
   {
    "duration": 5,
    "start_time": "2022-07-28T12:57:59.201Z"
   },
   {
    "duration": 6,
    "start_time": "2022-07-28T12:57:59.236Z"
   },
   {
    "duration": 13,
    "start_time": "2022-07-28T12:57:59.244Z"
   },
   {
    "duration": 13,
    "start_time": "2022-07-28T12:57:59.259Z"
   },
   {
    "duration": 7,
    "start_time": "2022-07-28T12:57:59.274Z"
   },
   {
    "duration": 3,
    "start_time": "2022-07-28T12:57:59.282Z"
   },
   {
    "duration": 5,
    "start_time": "2022-07-28T12:57:59.286Z"
   },
   {
    "duration": 7,
    "start_time": "2022-07-28T12:57:59.292Z"
   },
   {
    "duration": 38,
    "start_time": "2022-07-28T12:57:59.300Z"
   },
   {
    "duration": 4,
    "start_time": "2022-07-28T12:57:59.340Z"
   },
   {
    "duration": 6,
    "start_time": "2022-07-28T12:57:59.345Z"
   },
   {
    "duration": 5,
    "start_time": "2022-07-28T12:57:59.353Z"
   },
   {
    "duration": 5,
    "start_time": "2022-07-28T12:57:59.359Z"
   },
   {
    "duration": 18,
    "start_time": "2022-07-28T12:57:59.365Z"
   },
   {
    "duration": 6,
    "start_time": "2022-07-28T12:57:59.385Z"
   },
   {
    "duration": 13,
    "start_time": "2022-07-28T12:57:59.393Z"
   },
   {
    "duration": 14,
    "start_time": "2022-07-28T12:57:59.407Z"
   },
   {
    "duration": 6,
    "start_time": "2022-07-28T12:57:59.423Z"
   },
   {
    "duration": 5,
    "start_time": "2022-07-28T12:57:59.430Z"
   },
   {
    "duration": 5,
    "start_time": "2022-07-28T12:57:59.437Z"
   },
   {
    "duration": 9,
    "start_time": "2022-07-28T12:57:59.443Z"
   },
   {
    "duration": 6,
    "start_time": "2022-07-28T12:57:59.453Z"
   },
   {
    "duration": 9,
    "start_time": "2022-07-28T12:57:59.460Z"
   },
   {
    "duration": 8,
    "start_time": "2022-07-28T12:57:59.470Z"
   },
   {
    "duration": 4,
    "start_time": "2022-07-28T12:57:59.482Z"
   },
   {
    "duration": 7,
    "start_time": "2022-07-28T12:57:59.488Z"
   },
   {
    "duration": 4,
    "start_time": "2022-07-28T12:57:59.496Z"
   },
   {
    "duration": 5,
    "start_time": "2022-07-28T12:57:59.502Z"
   },
   {
    "duration": 5,
    "start_time": "2022-07-28T12:57:59.509Z"
   },
   {
    "duration": 5,
    "start_time": "2022-07-28T12:57:59.515Z"
   },
   {
    "duration": 5,
    "start_time": "2022-07-28T12:57:59.521Z"
   },
   {
    "duration": 5,
    "start_time": "2022-07-28T12:57:59.528Z"
   },
   {
    "duration": 6,
    "start_time": "2022-07-28T12:57:59.535Z"
   },
   {
    "duration": 6,
    "start_time": "2022-07-28T12:57:59.542Z"
   },
   {
    "duration": 8,
    "start_time": "2022-07-28T12:57:59.549Z"
   },
   {
    "duration": 4,
    "start_time": "2022-07-28T12:57:59.559Z"
   },
   {
    "duration": 10,
    "start_time": "2022-07-28T12:57:59.564Z"
   },
   {
    "duration": 7,
    "start_time": "2022-07-28T12:57:59.575Z"
   },
   {
    "duration": 7,
    "start_time": "2022-07-28T12:57:59.583Z"
   },
   {
    "duration": 5,
    "start_time": "2022-07-28T12:57:59.591Z"
   },
   {
    "duration": 5,
    "start_time": "2022-07-28T12:57:59.597Z"
   },
   {
    "duration": 5,
    "start_time": "2022-07-28T12:57:59.603Z"
   },
   {
    "duration": 7,
    "start_time": "2022-07-28T12:57:59.609Z"
   },
   {
    "duration": 4,
    "start_time": "2022-07-28T12:57:59.617Z"
   },
   {
    "duration": 5,
    "start_time": "2022-07-28T12:57:59.623Z"
   },
   {
    "duration": 5,
    "start_time": "2022-07-28T12:57:59.629Z"
   },
   {
    "duration": 5,
    "start_time": "2022-07-28T12:57:59.635Z"
   },
   {
    "duration": 6,
    "start_time": "2022-07-28T12:57:59.641Z"
   },
   {
    "duration": 4,
    "start_time": "2022-07-28T12:57:59.649Z"
   },
   {
    "duration": 6,
    "start_time": "2022-07-28T12:57:59.655Z"
   },
   {
    "duration": 9,
    "start_time": "2022-07-28T12:57:59.663Z"
   },
   {
    "duration": 6,
    "start_time": "2022-07-28T12:57:59.673Z"
   },
   {
    "duration": 5,
    "start_time": "2022-07-28T12:57:59.681Z"
   },
   {
    "duration": 6,
    "start_time": "2022-07-28T12:57:59.688Z"
   },
   {
    "duration": 5,
    "start_time": "2022-07-28T12:57:59.695Z"
   },
   {
    "duration": 12,
    "start_time": "2022-07-28T12:57:59.702Z"
   },
   {
    "duration": 13,
    "start_time": "2022-07-28T12:58:34.738Z"
   },
   {
    "duration": 10,
    "start_time": "2022-07-28T12:58:56.577Z"
   },
   {
    "duration": 115,
    "start_time": "2022-07-28T12:59:25.693Z"
   },
   {
    "duration": 15,
    "start_time": "2022-07-28T12:59:25.810Z"
   },
   {
    "duration": 19,
    "start_time": "2022-07-28T12:59:25.827Z"
   },
   {
    "duration": 23,
    "start_time": "2022-07-28T12:59:25.848Z"
   },
   {
    "duration": 54,
    "start_time": "2022-07-28T12:59:25.873Z"
   },
   {
    "duration": 10,
    "start_time": "2022-07-28T12:59:25.929Z"
   },
   {
    "duration": 21,
    "start_time": "2022-07-28T12:59:25.941Z"
   },
   {
    "duration": 39,
    "start_time": "2022-07-28T12:59:25.964Z"
   },
   {
    "duration": 27,
    "start_time": "2022-07-28T12:59:26.004Z"
   },
   {
    "duration": 17,
    "start_time": "2022-07-28T12:59:26.033Z"
   },
   {
    "duration": 29,
    "start_time": "2022-07-28T12:59:26.051Z"
   },
   {
    "duration": 25,
    "start_time": "2022-07-28T12:59:26.082Z"
   },
   {
    "duration": 31,
    "start_time": "2022-07-28T12:59:26.108Z"
   },
   {
    "duration": 29,
    "start_time": "2022-07-28T12:59:26.142Z"
   },
   {
    "duration": 15,
    "start_time": "2022-07-28T12:59:26.173Z"
   },
   {
    "duration": 31,
    "start_time": "2022-07-28T12:59:26.189Z"
   },
   {
    "duration": 33,
    "start_time": "2022-07-28T12:59:26.222Z"
   },
   {
    "duration": 14,
    "start_time": "2022-07-28T12:59:26.257Z"
   },
   {
    "duration": 18,
    "start_time": "2022-07-28T12:59:26.273Z"
   },
   {
    "duration": 17,
    "start_time": "2022-07-28T12:59:26.293Z"
   },
   {
    "duration": 19,
    "start_time": "2022-07-28T12:59:26.311Z"
   },
   {
    "duration": 31,
    "start_time": "2022-07-28T12:59:26.332Z"
   },
   {
    "duration": 11,
    "start_time": "2022-07-28T12:59:26.364Z"
   },
   {
    "duration": 19,
    "start_time": "2022-07-28T12:59:26.377Z"
   },
   {
    "duration": 18,
    "start_time": "2022-07-28T12:59:26.397Z"
   },
   {
    "duration": 32,
    "start_time": "2022-07-28T12:59:26.417Z"
   },
   {
    "duration": 8,
    "start_time": "2022-07-28T12:59:26.451Z"
   },
   {
    "duration": 15,
    "start_time": "2022-07-28T12:59:26.461Z"
   },
   {
    "duration": 23,
    "start_time": "2022-07-28T12:59:26.478Z"
   },
   {
    "duration": 20,
    "start_time": "2022-07-28T12:59:26.503Z"
   },
   {
    "duration": 19,
    "start_time": "2022-07-28T12:59:26.525Z"
   },
   {
    "duration": 19,
    "start_time": "2022-07-28T12:59:26.546Z"
   },
   {
    "duration": 20,
    "start_time": "2022-07-28T12:59:26.567Z"
   },
   {
    "duration": 28,
    "start_time": "2022-07-28T12:59:26.589Z"
   },
   {
    "duration": 16,
    "start_time": "2022-07-28T12:59:26.619Z"
   },
   {
    "duration": 16,
    "start_time": "2022-07-28T12:59:26.637Z"
   },
   {
    "duration": 15,
    "start_time": "2022-07-28T12:59:26.655Z"
   },
   {
    "duration": 7,
    "start_time": "2022-07-28T12:59:26.672Z"
   },
   {
    "duration": 19,
    "start_time": "2022-07-28T12:59:26.681Z"
   },
   {
    "duration": 5,
    "start_time": "2022-07-28T12:59:26.702Z"
   },
   {
    "duration": 12,
    "start_time": "2022-07-28T12:59:26.711Z"
   },
   {
    "duration": 17,
    "start_time": "2022-07-28T12:59:26.725Z"
   },
   {
    "duration": 16,
    "start_time": "2022-07-28T12:59:26.743Z"
   },
   {
    "duration": 18,
    "start_time": "2022-07-28T12:59:26.761Z"
   },
   {
    "duration": 16,
    "start_time": "2022-07-28T12:59:26.780Z"
   },
   {
    "duration": 29,
    "start_time": "2022-07-28T12:59:26.797Z"
   },
   {
    "duration": 10,
    "start_time": "2022-07-28T12:59:26.828Z"
   },
   {
    "duration": 14,
    "start_time": "2022-07-28T12:59:26.840Z"
   },
   {
    "duration": 23,
    "start_time": "2022-07-28T12:59:26.855Z"
   },
   {
    "duration": 7,
    "start_time": "2022-07-28T12:59:26.880Z"
   },
   {
    "duration": 19,
    "start_time": "2022-07-28T12:59:26.889Z"
   },
   {
    "duration": 14,
    "start_time": "2022-07-28T12:59:26.910Z"
   },
   {
    "duration": 32,
    "start_time": "2022-07-28T12:59:26.925Z"
   },
   {
    "duration": 13,
    "start_time": "2022-07-28T12:59:26.959Z"
   },
   {
    "duration": 25,
    "start_time": "2022-07-28T12:59:26.973Z"
   },
   {
    "duration": 20,
    "start_time": "2022-07-28T12:59:27.000Z"
   },
   {
    "duration": 13,
    "start_time": "2022-07-28T12:59:27.021Z"
   },
   {
    "duration": 30,
    "start_time": "2022-07-28T12:59:27.035Z"
   },
   {
    "duration": 15,
    "start_time": "2022-07-28T12:59:27.066Z"
   },
   {
    "duration": 21,
    "start_time": "2022-07-28T12:59:27.082Z"
   },
   {
    "duration": 23,
    "start_time": "2022-07-28T12:59:27.105Z"
   },
   {
    "duration": 9,
    "start_time": "2022-07-28T12:59:27.129Z"
   },
   {
    "duration": 5,
    "start_time": "2022-07-28T12:59:27.140Z"
   },
   {
    "duration": 5,
    "start_time": "2022-07-28T12:59:27.147Z"
   },
   {
    "duration": 8,
    "start_time": "2022-07-28T12:59:27.153Z"
   },
   {
    "duration": 8,
    "start_time": "2022-07-28T12:59:27.162Z"
   },
   {
    "duration": 8,
    "start_time": "2022-07-28T12:59:27.171Z"
   },
   {
    "duration": 6,
    "start_time": "2022-07-28T12:59:27.180Z"
   },
   {
    "duration": 7,
    "start_time": "2022-07-28T12:59:27.187Z"
   },
   {
    "duration": 7,
    "start_time": "2022-07-28T12:59:27.195Z"
   },
   {
    "duration": 5,
    "start_time": "2022-07-28T12:59:27.203Z"
   },
   {
    "duration": 5,
    "start_time": "2022-07-28T12:59:27.210Z"
   },
   {
    "duration": 19,
    "start_time": "2022-07-28T13:29:02.244Z"
   },
   {
    "duration": 11,
    "start_time": "2022-07-28T13:29:12.883Z"
   },
   {
    "duration": 9,
    "start_time": "2022-07-28T13:29:24.282Z"
   },
   {
    "duration": 77,
    "start_time": "2022-07-28T13:29:29.758Z"
   },
   {
    "duration": 14,
    "start_time": "2022-07-28T13:29:29.837Z"
   },
   {
    "duration": 15,
    "start_time": "2022-07-28T13:29:29.852Z"
   },
   {
    "duration": 12,
    "start_time": "2022-07-28T13:29:29.868Z"
   },
   {
    "duration": 59,
    "start_time": "2022-07-28T13:29:29.882Z"
   },
   {
    "duration": 10,
    "start_time": "2022-07-28T13:29:29.942Z"
   },
   {
    "duration": 6,
    "start_time": "2022-07-28T13:29:29.953Z"
   },
   {
    "duration": 4,
    "start_time": "2022-07-28T13:29:29.960Z"
   },
   {
    "duration": 28,
    "start_time": "2022-07-28T13:29:29.966Z"
   },
   {
    "duration": 2,
    "start_time": "2022-07-28T13:29:29.996Z"
   },
   {
    "duration": 10,
    "start_time": "2022-07-28T13:29:29.999Z"
   },
   {
    "duration": 27,
    "start_time": "2022-07-28T13:29:30.010Z"
   },
   {
    "duration": 10,
    "start_time": "2022-07-28T13:29:30.039Z"
   },
   {
    "duration": 19,
    "start_time": "2022-07-28T13:29:30.052Z"
   },
   {
    "duration": 15,
    "start_time": "2022-07-28T13:29:30.072Z"
   },
   {
    "duration": 23,
    "start_time": "2022-07-28T13:29:30.089Z"
   },
   {
    "duration": 22,
    "start_time": "2022-07-28T13:29:30.114Z"
   },
   {
    "duration": 14,
    "start_time": "2022-07-28T13:29:30.137Z"
   },
   {
    "duration": 12,
    "start_time": "2022-07-28T13:29:30.153Z"
   },
   {
    "duration": 14,
    "start_time": "2022-07-28T13:29:30.166Z"
   },
   {
    "duration": 6,
    "start_time": "2022-07-28T13:29:30.182Z"
   },
   {
    "duration": 4,
    "start_time": "2022-07-28T13:29:30.189Z"
   },
   {
    "duration": 17,
    "start_time": "2022-07-28T13:29:30.195Z"
   },
   {
    "duration": 10,
    "start_time": "2022-07-28T13:29:30.214Z"
   },
   {
    "duration": 13,
    "start_time": "2022-07-28T13:29:30.226Z"
   },
   {
    "duration": 15,
    "start_time": "2022-07-28T13:29:30.241Z"
   },
   {
    "duration": 21,
    "start_time": "2022-07-28T13:29:30.258Z"
   },
   {
    "duration": 18,
    "start_time": "2022-07-28T13:29:30.281Z"
   },
   {
    "duration": 15,
    "start_time": "2022-07-28T13:29:30.301Z"
   },
   {
    "duration": 9,
    "start_time": "2022-07-28T13:29:30.318Z"
   },
   {
    "duration": 6,
    "start_time": "2022-07-28T13:29:30.328Z"
   },
   {
    "duration": 13,
    "start_time": "2022-07-28T13:29:30.335Z"
   },
   {
    "duration": 16,
    "start_time": "2022-07-28T13:29:30.350Z"
   },
   {
    "duration": 41,
    "start_time": "2022-07-28T13:29:30.367Z"
   },
   {
    "duration": 15,
    "start_time": "2022-07-28T13:29:30.410Z"
   },
   {
    "duration": 23,
    "start_time": "2022-07-28T13:29:30.426Z"
   },
   {
    "duration": 12,
    "start_time": "2022-07-28T13:29:30.450Z"
   },
   {
    "duration": 7,
    "start_time": "2022-07-28T13:29:30.463Z"
   },
   {
    "duration": 12,
    "start_time": "2022-07-28T13:29:30.471Z"
   },
   {
    "duration": 9,
    "start_time": "2022-07-28T13:29:30.485Z"
   },
   {
    "duration": 20,
    "start_time": "2022-07-28T13:29:30.498Z"
   },
   {
    "duration": 13,
    "start_time": "2022-07-28T13:29:30.520Z"
   },
   {
    "duration": 28,
    "start_time": "2022-07-28T13:29:30.535Z"
   },
   {
    "duration": 10,
    "start_time": "2022-07-28T13:29:30.564Z"
   },
   {
    "duration": 6,
    "start_time": "2022-07-28T13:29:30.575Z"
   },
   {
    "duration": 12,
    "start_time": "2022-07-28T13:29:30.582Z"
   },
   {
    "duration": 10,
    "start_time": "2022-07-28T13:29:30.595Z"
   },
   {
    "duration": 8,
    "start_time": "2022-07-28T13:29:30.607Z"
   },
   {
    "duration": 8,
    "start_time": "2022-07-28T13:29:30.617Z"
   },
   {
    "duration": 8,
    "start_time": "2022-07-28T13:29:30.626Z"
   },
   {
    "duration": 9,
    "start_time": "2022-07-28T13:29:30.635Z"
   },
   {
    "duration": 10,
    "start_time": "2022-07-28T13:29:30.645Z"
   },
   {
    "duration": 5,
    "start_time": "2022-07-28T13:29:30.657Z"
   },
   {
    "duration": 4,
    "start_time": "2022-07-28T13:29:30.664Z"
   },
   {
    "duration": 9,
    "start_time": "2022-07-28T13:29:30.670Z"
   },
   {
    "duration": 6,
    "start_time": "2022-07-28T13:29:30.681Z"
   },
   {
    "duration": 6,
    "start_time": "2022-07-28T13:29:30.688Z"
   },
   {
    "duration": 7,
    "start_time": "2022-07-28T13:29:30.695Z"
   },
   {
    "duration": 6,
    "start_time": "2022-07-28T13:29:30.704Z"
   },
   {
    "duration": 8,
    "start_time": "2022-07-28T13:29:30.711Z"
   },
   {
    "duration": 11,
    "start_time": "2022-07-28T13:29:30.720Z"
   },
   {
    "duration": 7,
    "start_time": "2022-07-28T13:29:30.732Z"
   },
   {
    "duration": 17,
    "start_time": "2022-07-28T13:29:30.740Z"
   },
   {
    "duration": 9,
    "start_time": "2022-07-28T13:29:30.758Z"
   },
   {
    "duration": 12,
    "start_time": "2022-07-28T13:29:30.768Z"
   },
   {
    "duration": 6,
    "start_time": "2022-07-28T13:29:30.781Z"
   },
   {
    "duration": 23,
    "start_time": "2022-07-28T13:29:30.788Z"
   },
   {
    "duration": 8,
    "start_time": "2022-07-28T13:29:30.813Z"
   },
   {
    "duration": 31,
    "start_time": "2022-07-28T13:29:30.822Z"
   },
   {
    "duration": 18,
    "start_time": "2022-07-28T13:29:30.855Z"
   },
   {
    "duration": 25,
    "start_time": "2022-07-28T13:29:30.874Z"
   },
   {
    "duration": 30,
    "start_time": "2022-07-28T13:29:30.901Z"
   },
   {
    "duration": 10,
    "start_time": "2022-07-28T13:34:17.818Z"
   },
   {
    "duration": 10,
    "start_time": "2022-07-28T13:34:47.044Z"
   },
   {
    "duration": 85,
    "start_time": "2022-07-28T13:34:55.141Z"
   },
   {
    "duration": 14,
    "start_time": "2022-07-28T13:34:55.228Z"
   },
   {
    "duration": 15,
    "start_time": "2022-07-28T13:34:55.244Z"
   },
   {
    "duration": 12,
    "start_time": "2022-07-28T13:34:55.260Z"
   },
   {
    "duration": 31,
    "start_time": "2022-07-28T13:34:55.274Z"
   },
   {
    "duration": 30,
    "start_time": "2022-07-28T13:34:55.307Z"
   },
   {
    "duration": 4,
    "start_time": "2022-07-28T13:34:55.339Z"
   },
   {
    "duration": 5,
    "start_time": "2022-07-28T13:34:55.345Z"
   },
   {
    "duration": 22,
    "start_time": "2022-07-28T13:34:55.352Z"
   },
   {
    "duration": 2,
    "start_time": "2022-07-28T13:34:55.376Z"
   },
   {
    "duration": 3,
    "start_time": "2022-07-28T13:34:55.380Z"
   },
   {
    "duration": 4,
    "start_time": "2022-07-28T13:34:55.385Z"
   },
   {
    "duration": 7,
    "start_time": "2022-07-28T13:34:55.391Z"
   },
   {
    "duration": 47,
    "start_time": "2022-07-28T13:34:55.400Z"
   },
   {
    "duration": 14,
    "start_time": "2022-07-28T13:34:55.448Z"
   },
   {
    "duration": 9,
    "start_time": "2022-07-28T13:34:55.464Z"
   },
   {
    "duration": 5,
    "start_time": "2022-07-28T13:34:55.475Z"
   },
   {
    "duration": 9,
    "start_time": "2022-07-28T13:34:55.481Z"
   },
   {
    "duration": 9,
    "start_time": "2022-07-28T13:35:01.426Z"
   },
   {
    "duration": 11,
    "start_time": "2022-07-28T13:35:03.634Z"
   },
   {
    "duration": 13,
    "start_time": "2022-07-28T13:36:36.973Z"
   },
   {
    "duration": 12,
    "start_time": "2022-07-28T13:36:41.867Z"
   },
   {
    "duration": 4,
    "start_time": "2022-07-28T13:36:47.617Z"
   },
   {
    "duration": 15,
    "start_time": "2022-07-28T13:36:48.848Z"
   },
   {
    "duration": 10,
    "start_time": "2022-07-28T13:37:37.541Z"
   },
   {
    "duration": 9,
    "start_time": "2022-07-28T13:37:47.296Z"
   },
   {
    "duration": 11,
    "start_time": "2022-07-28T13:37:59.820Z"
   },
   {
    "duration": 7,
    "start_time": "2022-07-28T13:40:14.320Z"
   },
   {
    "duration": 6,
    "start_time": "2022-07-28T13:40:33.334Z"
   },
   {
    "duration": 7,
    "start_time": "2022-07-28T13:42:02.369Z"
   },
   {
    "duration": 7,
    "start_time": "2022-07-28T13:42:14.652Z"
   },
   {
    "duration": 6,
    "start_time": "2022-07-28T13:45:32.455Z"
   },
   {
    "duration": 7,
    "start_time": "2022-07-28T13:49:03.292Z"
   },
   {
    "duration": 7,
    "start_time": "2022-07-28T13:49:29.689Z"
   },
   {
    "duration": 5,
    "start_time": "2022-07-28T13:50:15.106Z"
   },
   {
    "duration": 9,
    "start_time": "2022-07-28T13:52:46.638Z"
   },
   {
    "duration": 6,
    "start_time": "2022-07-28T13:53:24.555Z"
   },
   {
    "duration": 5,
    "start_time": "2022-07-28T13:53:47.223Z"
   },
   {
    "duration": 80,
    "start_time": "2022-07-28T14:19:22.525Z"
   },
   {
    "duration": 14,
    "start_time": "2022-07-28T14:19:22.607Z"
   },
   {
    "duration": 14,
    "start_time": "2022-07-28T14:19:22.622Z"
   },
   {
    "duration": 12,
    "start_time": "2022-07-28T14:19:22.637Z"
   },
   {
    "duration": 33,
    "start_time": "2022-07-28T14:19:22.651Z"
   },
   {
    "duration": 10,
    "start_time": "2022-07-28T14:19:22.686Z"
   },
   {
    "duration": 5,
    "start_time": "2022-07-28T14:19:22.738Z"
   },
   {
    "duration": 10,
    "start_time": "2022-07-28T14:19:22.745Z"
   },
   {
    "duration": 26,
    "start_time": "2022-07-28T14:19:22.757Z"
   },
   {
    "duration": 2,
    "start_time": "2022-07-28T14:19:22.784Z"
   },
   {
    "duration": 8,
    "start_time": "2022-07-28T14:19:22.788Z"
   },
   {
    "duration": 6,
    "start_time": "2022-07-28T14:19:22.797Z"
   },
   {
    "duration": 7,
    "start_time": "2022-07-28T14:19:22.805Z"
   },
   {
    "duration": 23,
    "start_time": "2022-07-28T14:19:22.815Z"
   },
   {
    "duration": 9,
    "start_time": "2022-07-28T14:19:22.840Z"
   },
   {
    "duration": 7,
    "start_time": "2022-07-28T14:19:22.850Z"
   },
   {
    "duration": 6,
    "start_time": "2022-07-28T14:19:22.859Z"
   },
   {
    "duration": 10,
    "start_time": "2022-07-28T14:19:22.867Z"
   },
   {
    "duration": 9,
    "start_time": "2022-07-28T14:19:22.879Z"
   },
   {
    "duration": 4,
    "start_time": "2022-07-28T14:19:22.890Z"
   },
   {
    "duration": 42,
    "start_time": "2022-07-28T14:19:22.895Z"
   },
   {
    "duration": 20,
    "start_time": "2022-07-28T14:19:22.939Z"
   },
   {
    "duration": 8,
    "start_time": "2022-07-28T14:19:22.961Z"
   },
   {
    "duration": 5,
    "start_time": "2022-07-28T14:19:22.971Z"
   },
   {
    "duration": 8,
    "start_time": "2022-07-28T14:19:22.978Z"
   },
   {
    "duration": 9,
    "start_time": "2022-07-28T14:19:22.987Z"
   },
   {
    "duration": 5,
    "start_time": "2022-07-28T14:19:22.998Z"
   },
   {
    "duration": 5,
    "start_time": "2022-07-28T14:19:23.004Z"
   },
   {
    "duration": 5,
    "start_time": "2022-07-28T14:19:23.010Z"
   },
   {
    "duration": 6,
    "start_time": "2022-07-28T14:19:23.017Z"
   },
   {
    "duration": 5,
    "start_time": "2022-07-28T14:19:23.025Z"
   },
   {
    "duration": 7,
    "start_time": "2022-07-28T14:19:23.031Z"
   },
   {
    "duration": 4,
    "start_time": "2022-07-28T14:19:23.041Z"
   },
   {
    "duration": 6,
    "start_time": "2022-07-28T14:19:23.046Z"
   },
   {
    "duration": 4,
    "start_time": "2022-07-28T14:19:23.053Z"
   },
   {
    "duration": 4,
    "start_time": "2022-07-28T14:19:23.059Z"
   },
   {
    "duration": 5,
    "start_time": "2022-07-28T14:19:23.064Z"
   },
   {
    "duration": 5,
    "start_time": "2022-07-28T14:19:23.071Z"
   },
   {
    "duration": 5,
    "start_time": "2022-07-28T14:19:23.077Z"
   },
   {
    "duration": 4,
    "start_time": "2022-07-28T14:19:23.084Z"
   },
   {
    "duration": 3,
    "start_time": "2022-07-28T14:19:23.092Z"
   },
   {
    "duration": 6,
    "start_time": "2022-07-28T14:19:23.096Z"
   },
   {
    "duration": 4,
    "start_time": "2022-07-28T14:19:23.104Z"
   },
   {
    "duration": 4,
    "start_time": "2022-07-28T14:19:23.109Z"
   },
   {
    "duration": 21,
    "start_time": "2022-07-28T14:19:23.115Z"
   },
   {
    "duration": 2,
    "start_time": "2022-07-28T14:19:23.138Z"
   },
   {
    "duration": 5,
    "start_time": "2022-07-28T14:19:23.141Z"
   },
   {
    "duration": 5,
    "start_time": "2022-07-28T14:19:23.147Z"
   },
   {
    "duration": 5,
    "start_time": "2022-07-28T14:19:23.153Z"
   },
   {
    "duration": 5,
    "start_time": "2022-07-28T14:19:23.160Z"
   },
   {
    "duration": 5,
    "start_time": "2022-07-28T14:19:23.166Z"
   },
   {
    "duration": 5,
    "start_time": "2022-07-28T14:19:23.172Z"
   },
   {
    "duration": 7,
    "start_time": "2022-07-28T14:19:23.178Z"
   },
   {
    "duration": 6,
    "start_time": "2022-07-28T14:19:23.187Z"
   },
   {
    "duration": 4,
    "start_time": "2022-07-28T14:19:23.195Z"
   },
   {
    "duration": 8,
    "start_time": "2022-07-28T14:19:23.201Z"
   },
   {
    "duration": 4,
    "start_time": "2022-07-28T14:19:23.210Z"
   },
   {
    "duration": 2,
    "start_time": "2022-07-28T14:19:23.237Z"
   },
   {
    "duration": 6,
    "start_time": "2022-07-28T14:19:23.241Z"
   },
   {
    "duration": 5,
    "start_time": "2022-07-28T14:19:23.249Z"
   },
   {
    "duration": 10,
    "start_time": "2022-07-28T14:19:23.255Z"
   },
   {
    "duration": 11,
    "start_time": "2022-07-28T14:19:23.266Z"
   },
   {
    "duration": 8,
    "start_time": "2022-07-28T14:19:23.279Z"
   },
   {
    "duration": 6,
    "start_time": "2022-07-28T14:19:23.288Z"
   },
   {
    "duration": 7,
    "start_time": "2022-07-28T14:19:23.295Z"
   },
   {
    "duration": 8,
    "start_time": "2022-07-28T14:19:23.303Z"
   },
   {
    "duration": 5,
    "start_time": "2022-07-28T14:19:23.313Z"
   },
   {
    "duration": 6,
    "start_time": "2022-07-28T14:19:23.319Z"
   },
   {
    "duration": 5,
    "start_time": "2022-07-28T14:19:23.327Z"
   },
   {
    "duration": 6,
    "start_time": "2022-07-28T14:19:23.333Z"
   },
   {
    "duration": 5,
    "start_time": "2022-07-28T14:19:23.340Z"
   },
   {
    "duration": 6,
    "start_time": "2022-07-28T14:19:23.347Z"
   },
   {
    "duration": 14,
    "start_time": "2022-07-28T14:19:37.037Z"
   },
   {
    "duration": 10,
    "start_time": "2022-07-28T14:19:56.294Z"
   },
   {
    "duration": 10,
    "start_time": "2022-07-28T14:20:17.327Z"
   },
   {
    "duration": 10,
    "start_time": "2022-07-28T14:20:39.894Z"
   },
   {
    "duration": 8,
    "start_time": "2022-07-28T14:20:44.759Z"
   },
   {
    "duration": 9,
    "start_time": "2022-07-28T14:20:45.705Z"
   },
   {
    "duration": 76,
    "start_time": "2022-07-28T14:21:08.474Z"
   },
   {
    "duration": 17,
    "start_time": "2022-07-28T14:21:08.552Z"
   },
   {
    "duration": 20,
    "start_time": "2022-07-28T14:21:08.570Z"
   },
   {
    "duration": 13,
    "start_time": "2022-07-28T14:21:08.592Z"
   },
   {
    "duration": 51,
    "start_time": "2022-07-28T14:21:08.607Z"
   },
   {
    "duration": 10,
    "start_time": "2022-07-28T14:21:08.660Z"
   },
   {
    "duration": 4,
    "start_time": "2022-07-28T14:21:08.672Z"
   },
   {
    "duration": 5,
    "start_time": "2022-07-28T14:21:08.678Z"
   },
   {
    "duration": 30,
    "start_time": "2022-07-28T14:21:08.685Z"
   },
   {
    "duration": 20,
    "start_time": "2022-07-28T14:21:08.717Z"
   },
   {
    "duration": 8,
    "start_time": "2022-07-28T14:21:08.739Z"
   },
   {
    "duration": 5,
    "start_time": "2022-07-28T14:21:08.748Z"
   },
   {
    "duration": 10,
    "start_time": "2022-07-28T14:21:08.755Z"
   },
   {
    "duration": 11,
    "start_time": "2022-07-28T14:21:08.767Z"
   },
   {
    "duration": 10,
    "start_time": "2022-07-28T14:21:08.781Z"
   },
   {
    "duration": 12,
    "start_time": "2022-07-28T14:21:08.793Z"
   },
   {
    "duration": 30,
    "start_time": "2022-07-28T14:21:08.807Z"
   },
   {
    "duration": 7,
    "start_time": "2022-07-28T14:21:08.839Z"
   },
   {
    "duration": 9,
    "start_time": "2022-07-28T14:21:33.565Z"
   },
   {
    "duration": 10,
    "start_time": "2022-07-28T14:21:42.039Z"
   },
   {
    "duration": 10,
    "start_time": "2022-07-28T14:22:01.047Z"
   },
   {
    "duration": 99,
    "start_time": "2022-07-28T14:25:02.774Z"
   },
   {
    "duration": 18,
    "start_time": "2022-07-28T14:25:02.875Z"
   },
   {
    "duration": 18,
    "start_time": "2022-07-28T14:25:02.895Z"
   },
   {
    "duration": 29,
    "start_time": "2022-07-28T14:25:02.915Z"
   },
   {
    "duration": 42,
    "start_time": "2022-07-28T14:25:02.946Z"
   },
   {
    "duration": 11,
    "start_time": "2022-07-28T14:25:02.990Z"
   },
   {
    "duration": 8,
    "start_time": "2022-07-28T14:25:03.003Z"
   },
   {
    "duration": 4,
    "start_time": "2022-07-28T14:25:03.036Z"
   },
   {
    "duration": 23,
    "start_time": "2022-07-28T14:25:03.042Z"
   },
   {
    "duration": 3,
    "start_time": "2022-07-28T14:25:03.067Z"
   },
   {
    "duration": 5,
    "start_time": "2022-07-28T14:25:03.071Z"
   },
   {
    "duration": 4,
    "start_time": "2022-07-28T14:25:03.078Z"
   },
   {
    "duration": 9,
    "start_time": "2022-07-28T14:25:03.084Z"
   },
   {
    "duration": 42,
    "start_time": "2022-07-28T14:25:03.097Z"
   },
   {
    "duration": 11,
    "start_time": "2022-07-28T14:25:03.141Z"
   },
   {
    "duration": 12,
    "start_time": "2022-07-28T14:25:03.154Z"
   },
   {
    "duration": 10,
    "start_time": "2022-07-28T14:25:03.168Z"
   },
   {
    "duration": 7,
    "start_time": "2022-07-28T14:25:03.179Z"
   },
   {
    "duration": 10,
    "start_time": "2022-07-28T14:25:03.187Z"
   },
   {
    "duration": 13,
    "start_time": "2022-07-28T14:25:03.199Z"
   },
   {
    "duration": 7,
    "start_time": "2022-07-28T14:25:03.214Z"
   },
   {
    "duration": 7,
    "start_time": "2022-07-28T14:25:03.237Z"
   },
   {
    "duration": 4,
    "start_time": "2022-07-28T14:25:03.245Z"
   },
   {
    "duration": 7,
    "start_time": "2022-07-28T14:25:03.250Z"
   },
   {
    "duration": 4,
    "start_time": "2022-07-28T14:25:03.259Z"
   },
   {
    "duration": 5,
    "start_time": "2022-07-28T14:25:03.265Z"
   },
   {
    "duration": 5,
    "start_time": "2022-07-28T14:25:03.271Z"
   },
   {
    "duration": 6,
    "start_time": "2022-07-28T14:25:03.277Z"
   },
   {
    "duration": 5,
    "start_time": "2022-07-28T14:25:03.285Z"
   },
   {
    "duration": 7,
    "start_time": "2022-07-28T14:25:03.291Z"
   },
   {
    "duration": 8,
    "start_time": "2022-07-28T14:25:03.300Z"
   },
   {
    "duration": 6,
    "start_time": "2022-07-28T14:25:03.311Z"
   },
   {
    "duration": 18,
    "start_time": "2022-07-28T14:25:03.319Z"
   },
   {
    "duration": 2,
    "start_time": "2022-07-28T14:25:03.425Z"
   },
   {
    "duration": 8,
    "start_time": "2022-07-28T14:25:03.429Z"
   },
   {
    "duration": 6,
    "start_time": "2022-07-28T14:25:03.439Z"
   },
   {
    "duration": 6,
    "start_time": "2022-07-28T14:25:03.447Z"
   },
   {
    "duration": 12,
    "start_time": "2022-07-28T14:25:03.454Z"
   },
   {
    "duration": 8,
    "start_time": "2022-07-28T14:25:03.467Z"
   },
   {
    "duration": 10,
    "start_time": "2022-07-28T14:25:03.477Z"
   },
   {
    "duration": 10,
    "start_time": "2022-07-28T14:25:03.488Z"
   },
   {
    "duration": 5,
    "start_time": "2022-07-28T14:25:03.501Z"
   },
   {
    "duration": 7,
    "start_time": "2022-07-28T14:25:03.508Z"
   },
   {
    "duration": 5,
    "start_time": "2022-07-28T14:25:03.517Z"
   },
   {
    "duration": 6,
    "start_time": "2022-07-28T14:25:03.523Z"
   },
   {
    "duration": 7,
    "start_time": "2022-07-28T14:25:03.530Z"
   },
   {
    "duration": 13,
    "start_time": "2022-07-28T14:25:03.538Z"
   },
   {
    "duration": 5,
    "start_time": "2022-07-28T14:25:03.553Z"
   },
   {
    "duration": 7,
    "start_time": "2022-07-28T14:25:03.560Z"
   },
   {
    "duration": 6,
    "start_time": "2022-07-28T14:25:03.568Z"
   },
   {
    "duration": 4,
    "start_time": "2022-07-28T14:25:03.576Z"
   },
   {
    "duration": 4,
    "start_time": "2022-07-28T14:25:03.582Z"
   },
   {
    "duration": 6,
    "start_time": "2022-07-28T14:25:03.588Z"
   },
   {
    "duration": 5,
    "start_time": "2022-07-28T14:25:03.595Z"
   },
   {
    "duration": 5,
    "start_time": "2022-07-28T14:25:03.601Z"
   },
   {
    "duration": 7,
    "start_time": "2022-07-28T14:25:03.607Z"
   },
   {
    "duration": 7,
    "start_time": "2022-07-28T14:25:03.617Z"
   },
   {
    "duration": 12,
    "start_time": "2022-07-28T14:25:03.625Z"
   },
   {
    "duration": 5,
    "start_time": "2022-07-28T14:25:03.639Z"
   },
   {
    "duration": 5,
    "start_time": "2022-07-28T14:25:03.646Z"
   },
   {
    "duration": 5,
    "start_time": "2022-07-28T14:25:03.652Z"
   },
   {
    "duration": 10,
    "start_time": "2022-07-28T14:25:03.659Z"
   },
   {
    "duration": 9,
    "start_time": "2022-07-28T14:25:03.671Z"
   },
   {
    "duration": 9,
    "start_time": "2022-07-28T14:25:03.682Z"
   },
   {
    "duration": 12,
    "start_time": "2022-07-28T14:25:03.692Z"
   },
   {
    "duration": 17,
    "start_time": "2022-07-28T14:25:03.705Z"
   },
   {
    "duration": 9,
    "start_time": "2022-07-28T14:25:03.723Z"
   },
   {
    "duration": 7,
    "start_time": "2022-07-28T14:25:03.733Z"
   },
   {
    "duration": 13,
    "start_time": "2022-07-28T14:25:03.742Z"
   },
   {
    "duration": 7,
    "start_time": "2022-07-28T14:25:03.757Z"
   },
   {
    "duration": 5,
    "start_time": "2022-07-28T14:25:03.766Z"
   },
   {
    "duration": 4,
    "start_time": "2022-07-28T14:25:03.773Z"
   },
   {
    "duration": 15,
    "start_time": "2022-07-28T14:25:30.621Z"
   },
   {
    "duration": 9,
    "start_time": "2022-07-28T14:25:32.623Z"
   },
   {
    "duration": 10,
    "start_time": "2022-07-28T14:25:35.304Z"
   },
   {
    "duration": 9,
    "start_time": "2022-07-28T14:25:54.627Z"
   },
   {
    "duration": 9,
    "start_time": "2022-07-28T14:26:06.983Z"
   },
   {
    "duration": 10,
    "start_time": "2022-07-28T14:26:17.474Z"
   },
   {
    "duration": 10,
    "start_time": "2022-07-28T14:26:18.574Z"
   },
   {
    "duration": 4,
    "start_time": "2022-07-28T14:27:17.208Z"
   },
   {
    "duration": 8,
    "start_time": "2022-07-28T14:27:44.033Z"
   },
   {
    "duration": 8,
    "start_time": "2022-07-28T14:27:51.839Z"
   },
   {
    "duration": 5,
    "start_time": "2022-07-28T14:27:59.360Z"
   },
   {
    "duration": 75,
    "start_time": "2022-07-28T14:29:48.051Z"
   },
   {
    "duration": 50,
    "start_time": "2022-07-28T14:30:15.247Z"
   },
   {
    "duration": 5,
    "start_time": "2022-07-28T14:30:58.758Z"
   },
   {
    "duration": 10,
    "start_time": "2022-07-28T14:31:13.823Z"
   },
   {
    "duration": 93,
    "start_time": "2022-07-28T14:33:27.421Z"
   },
   {
    "duration": 14,
    "start_time": "2022-07-28T14:33:27.515Z"
   },
   {
    "duration": 21,
    "start_time": "2022-07-28T14:33:27.531Z"
   },
   {
    "duration": 13,
    "start_time": "2022-07-28T14:33:27.553Z"
   },
   {
    "duration": 31,
    "start_time": "2022-07-28T14:33:27.568Z"
   },
   {
    "duration": 46,
    "start_time": "2022-07-28T14:33:27.600Z"
   },
   {
    "duration": 6,
    "start_time": "2022-07-28T14:33:27.648Z"
   },
   {
    "duration": 7,
    "start_time": "2022-07-28T14:33:27.655Z"
   },
   {
    "duration": 24,
    "start_time": "2022-07-28T14:33:27.663Z"
   },
   {
    "duration": 2,
    "start_time": "2022-07-28T14:33:27.688Z"
   },
   {
    "duration": 8,
    "start_time": "2022-07-28T14:33:27.692Z"
   },
   {
    "duration": 4,
    "start_time": "2022-07-28T14:33:27.702Z"
   },
   {
    "duration": 7,
    "start_time": "2022-07-28T14:33:27.708Z"
   },
   {
    "duration": 13,
    "start_time": "2022-07-28T14:33:27.737Z"
   },
   {
    "duration": 14,
    "start_time": "2022-07-28T14:33:27.751Z"
   },
   {
    "duration": 7,
    "start_time": "2022-07-28T14:33:27.767Z"
   },
   {
    "duration": 5,
    "start_time": "2022-07-28T14:33:27.775Z"
   },
   {
    "duration": 5,
    "start_time": "2022-07-28T14:33:27.782Z"
   },
   {
    "duration": 10,
    "start_time": "2022-07-28T14:33:27.788Z"
   },
   {
    "duration": 4,
    "start_time": "2022-07-28T14:33:27.800Z"
   },
   {
    "duration": 6,
    "start_time": "2022-07-28T14:33:27.805Z"
   },
   {
    "duration": 40,
    "start_time": "2022-07-28T14:33:27.813Z"
   },
   {
    "duration": 4,
    "start_time": "2022-07-28T14:33:27.855Z"
   },
   {
    "duration": 7,
    "start_time": "2022-07-28T14:33:27.860Z"
   },
   {
    "duration": 5,
    "start_time": "2022-07-28T14:33:27.868Z"
   },
   {
    "duration": 5,
    "start_time": "2022-07-28T14:33:27.875Z"
   },
   {
    "duration": 4,
    "start_time": "2022-07-28T14:33:27.882Z"
   },
   {
    "duration": 5,
    "start_time": "2022-07-28T14:33:27.888Z"
   },
   {
    "duration": 6,
    "start_time": "2022-07-28T14:33:27.894Z"
   },
   {
    "duration": 5,
    "start_time": "2022-07-28T14:33:27.901Z"
   },
   {
    "duration": 8,
    "start_time": "2022-07-28T14:33:27.907Z"
   },
   {
    "duration": 4,
    "start_time": "2022-07-28T14:33:27.917Z"
   },
   {
    "duration": 5,
    "start_time": "2022-07-28T14:33:27.922Z"
   },
   {
    "duration": 5,
    "start_time": "2022-07-28T14:33:27.928Z"
   },
   {
    "duration": 18,
    "start_time": "2022-07-28T14:33:27.936Z"
   },
   {
    "duration": 7,
    "start_time": "2022-07-28T14:33:27.955Z"
   },
   {
    "duration": 11,
    "start_time": "2022-07-28T14:33:27.964Z"
   },
   {
    "duration": 9,
    "start_time": "2022-07-28T14:33:27.976Z"
   },
   {
    "duration": 6,
    "start_time": "2022-07-28T14:33:27.987Z"
   },
   {
    "duration": 6,
    "start_time": "2022-07-28T14:33:27.995Z"
   },
   {
    "duration": 4,
    "start_time": "2022-07-28T14:33:28.005Z"
   },
   {
    "duration": 6,
    "start_time": "2022-07-28T14:33:28.010Z"
   },
   {
    "duration": 6,
    "start_time": "2022-07-28T14:33:28.018Z"
   },
   {
    "duration": 7,
    "start_time": "2022-07-28T14:33:28.025Z"
   },
   {
    "duration": 16,
    "start_time": "2022-07-28T14:33:28.033Z"
   },
   {
    "duration": 7,
    "start_time": "2022-07-28T14:33:28.050Z"
   },
   {
    "duration": 7,
    "start_time": "2022-07-28T14:33:28.059Z"
   },
   {
    "duration": 4,
    "start_time": "2022-07-28T14:33:28.068Z"
   },
   {
    "duration": 5,
    "start_time": "2022-07-28T14:33:28.074Z"
   },
   {
    "duration": 14,
    "start_time": "2022-07-28T14:33:28.080Z"
   },
   {
    "duration": 5,
    "start_time": "2022-07-28T14:33:28.095Z"
   },
   {
    "duration": 5,
    "start_time": "2022-07-28T14:33:28.101Z"
   },
   {
    "duration": 5,
    "start_time": "2022-07-28T14:33:28.107Z"
   },
   {
    "duration": 4,
    "start_time": "2022-07-28T14:33:28.114Z"
   },
   {
    "duration": 4,
    "start_time": "2022-07-28T14:33:28.120Z"
   },
   {
    "duration": 6,
    "start_time": "2022-07-28T14:33:28.125Z"
   },
   {
    "duration": 16,
    "start_time": "2022-07-28T14:33:28.132Z"
   },
   {
    "duration": 6,
    "start_time": "2022-07-28T14:33:28.149Z"
   },
   {
    "duration": 9,
    "start_time": "2022-07-28T14:33:28.156Z"
   },
   {
    "duration": 6,
    "start_time": "2022-07-28T14:33:28.166Z"
   },
   {
    "duration": 6,
    "start_time": "2022-07-28T14:33:28.173Z"
   },
   {
    "duration": 4,
    "start_time": "2022-07-28T14:33:28.181Z"
   },
   {
    "duration": 15,
    "start_time": "2022-07-28T14:33:28.186Z"
   },
   {
    "duration": 5,
    "start_time": "2022-07-28T14:33:28.202Z"
   },
   {
    "duration": 5,
    "start_time": "2022-07-28T14:33:28.209Z"
   },
   {
    "duration": 4,
    "start_time": "2022-07-28T14:33:28.215Z"
   },
   {
    "duration": 5,
    "start_time": "2022-07-28T14:33:28.220Z"
   },
   {
    "duration": 6,
    "start_time": "2022-07-28T14:33:28.227Z"
   },
   {
    "duration": 15,
    "start_time": "2022-07-28T14:33:28.235Z"
   },
   {
    "duration": 7,
    "start_time": "2022-07-28T14:33:28.252Z"
   },
   {
    "duration": 8,
    "start_time": "2022-07-28T14:33:28.261Z"
   },
   {
    "duration": 7,
    "start_time": "2022-07-28T14:33:28.270Z"
   },
   {
    "duration": 5,
    "start_time": "2022-07-28T14:35:10.487Z"
   },
   {
    "duration": 7,
    "start_time": "2022-07-28T14:35:25.085Z"
   },
   {
    "duration": 6,
    "start_time": "2022-07-28T14:36:07.477Z"
   },
   {
    "duration": 5,
    "start_time": "2022-07-28T14:36:40.877Z"
   },
   {
    "duration": 5,
    "start_time": "2022-07-28T14:39:07.432Z"
   },
   {
    "duration": 5,
    "start_time": "2022-07-28T14:40:18.856Z"
   },
   {
    "duration": 7,
    "start_time": "2022-07-28T14:46:08.747Z"
   },
   {
    "duration": 84,
    "start_time": "2022-07-28T14:46:40.685Z"
   },
   {
    "duration": 16,
    "start_time": "2022-07-28T14:46:40.771Z"
   },
   {
    "duration": 14,
    "start_time": "2022-07-28T14:46:40.788Z"
   },
   {
    "duration": 34,
    "start_time": "2022-07-28T14:46:40.804Z"
   },
   {
    "duration": 36,
    "start_time": "2022-07-28T14:46:40.841Z"
   },
   {
    "duration": 11,
    "start_time": "2022-07-28T14:46:40.879Z"
   },
   {
    "duration": 47,
    "start_time": "2022-07-28T14:46:40.892Z"
   },
   {
    "duration": 3,
    "start_time": "2022-07-28T14:46:40.941Z"
   },
   {
    "duration": 25,
    "start_time": "2022-07-28T14:46:40.946Z"
   },
   {
    "duration": 2,
    "start_time": "2022-07-28T14:46:40.974Z"
   },
   {
    "duration": 5,
    "start_time": "2022-07-28T14:46:40.978Z"
   },
   {
    "duration": 8,
    "start_time": "2022-07-28T14:46:40.985Z"
   },
   {
    "duration": 16,
    "start_time": "2022-07-28T14:46:40.995Z"
   },
   {
    "duration": 31,
    "start_time": "2022-07-28T14:46:41.013Z"
   },
   {
    "duration": 14,
    "start_time": "2022-07-28T14:46:41.045Z"
   },
   {
    "duration": 7,
    "start_time": "2022-07-28T14:46:41.060Z"
   },
   {
    "duration": 4,
    "start_time": "2022-07-28T14:46:41.068Z"
   },
   {
    "duration": 6,
    "start_time": "2022-07-28T14:46:41.074Z"
   },
   {
    "duration": 9,
    "start_time": "2022-07-28T14:46:41.083Z"
   },
   {
    "duration": 3,
    "start_time": "2022-07-28T14:46:41.094Z"
   },
   {
    "duration": 12,
    "start_time": "2022-07-28T14:46:41.099Z"
   },
   {
    "duration": 7,
    "start_time": "2022-07-28T14:46:41.113Z"
   },
   {
    "duration": 7,
    "start_time": "2022-07-28T14:46:41.137Z"
   },
   {
    "duration": 4,
    "start_time": "2022-07-28T14:46:41.145Z"
   },
   {
    "duration": 5,
    "start_time": "2022-07-28T14:46:41.150Z"
   },
   {
    "duration": 6,
    "start_time": "2022-07-28T14:46:41.156Z"
   },
   {
    "duration": 6,
    "start_time": "2022-07-28T14:46:41.164Z"
   },
   {
    "duration": 4,
    "start_time": "2022-07-28T14:46:41.173Z"
   },
   {
    "duration": 8,
    "start_time": "2022-07-28T14:46:41.178Z"
   },
   {
    "duration": 8,
    "start_time": "2022-07-28T14:46:41.188Z"
   },
   {
    "duration": 7,
    "start_time": "2022-07-28T14:46:41.197Z"
   },
   {
    "duration": 7,
    "start_time": "2022-07-28T14:46:41.205Z"
   },
   {
    "duration": 6,
    "start_time": "2022-07-28T14:46:41.213Z"
   },
   {
    "duration": 17,
    "start_time": "2022-07-28T14:46:41.221Z"
   },
   {
    "duration": 5,
    "start_time": "2022-07-28T14:46:41.240Z"
   },
   {
    "duration": 5,
    "start_time": "2022-07-28T14:46:41.246Z"
   },
   {
    "duration": 5,
    "start_time": "2022-07-28T14:46:41.252Z"
   },
   {
    "duration": 5,
    "start_time": "2022-07-28T14:46:41.258Z"
   },
   {
    "duration": 5,
    "start_time": "2022-07-28T14:46:41.264Z"
   },
   {
    "duration": 6,
    "start_time": "2022-07-28T14:46:41.270Z"
   },
   {
    "duration": 4,
    "start_time": "2022-07-28T14:46:41.278Z"
   },
   {
    "duration": 4,
    "start_time": "2022-07-28T14:46:41.284Z"
   },
   {
    "duration": 4,
    "start_time": "2022-07-28T14:46:41.290Z"
   },
   {
    "duration": 6,
    "start_time": "2022-07-28T14:46:41.296Z"
   },
   {
    "duration": 9,
    "start_time": "2022-07-28T14:46:41.303Z"
   },
   {
    "duration": 9,
    "start_time": "2022-07-28T14:46:41.313Z"
   },
   {
    "duration": 10,
    "start_time": "2022-07-28T14:46:41.324Z"
   },
   {
    "duration": 4,
    "start_time": "2022-07-28T14:46:41.336Z"
   },
   {
    "duration": 6,
    "start_time": "2022-07-28T14:46:41.341Z"
   },
   {
    "duration": 10,
    "start_time": "2022-07-28T14:46:41.348Z"
   },
   {
    "duration": 7,
    "start_time": "2022-07-28T14:46:41.359Z"
   },
   {
    "duration": 6,
    "start_time": "2022-07-28T14:46:41.367Z"
   },
   {
    "duration": 5,
    "start_time": "2022-07-28T14:46:41.374Z"
   },
   {
    "duration": 11,
    "start_time": "2022-07-28T14:46:41.381Z"
   },
   {
    "duration": 4,
    "start_time": "2022-07-28T14:46:41.394Z"
   },
   {
    "duration": 6,
    "start_time": "2022-07-28T14:46:41.399Z"
   },
   {
    "duration": 5,
    "start_time": "2022-07-28T14:46:41.406Z"
   },
   {
    "duration": 4,
    "start_time": "2022-07-28T14:46:41.412Z"
   },
   {
    "duration": 5,
    "start_time": "2022-07-28T14:46:41.417Z"
   },
   {
    "duration": 7,
    "start_time": "2022-07-28T14:46:41.423Z"
   },
   {
    "duration": 4,
    "start_time": "2022-07-28T14:46:41.432Z"
   },
   {
    "duration": 5,
    "start_time": "2022-07-28T14:46:41.437Z"
   },
   {
    "duration": 5,
    "start_time": "2022-07-28T14:46:41.444Z"
   },
   {
    "duration": 4,
    "start_time": "2022-07-28T14:46:41.450Z"
   },
   {
    "duration": 5,
    "start_time": "2022-07-28T14:46:41.456Z"
   },
   {
    "duration": 6,
    "start_time": "2022-07-28T14:46:41.462Z"
   },
   {
    "duration": 5,
    "start_time": "2022-07-28T14:46:41.469Z"
   },
   {
    "duration": 5,
    "start_time": "2022-07-28T14:46:41.476Z"
   },
   {
    "duration": 8,
    "start_time": "2022-07-28T14:46:41.483Z"
   },
   {
    "duration": 7,
    "start_time": "2022-07-28T14:46:41.492Z"
   },
   {
    "duration": 6,
    "start_time": "2022-07-28T14:46:41.500Z"
   },
   {
    "duration": 5,
    "start_time": "2022-07-28T14:46:41.507Z"
   },
   {
    "duration": 860,
    "start_time": "2022-07-28T14:49:14.903Z"
   },
   {
    "duration": 21,
    "start_time": "2022-07-28T14:50:07.750Z"
   },
   {
    "duration": 16,
    "start_time": "2022-07-28T14:50:26.353Z"
   },
   {
    "duration": 8,
    "start_time": "2022-07-28T14:52:53.703Z"
   },
   {
    "duration": 8,
    "start_time": "2022-07-28T14:53:56.979Z"
   },
   {
    "duration": 9,
    "start_time": "2022-07-28T14:54:45.910Z"
   },
   {
    "duration": 9,
    "start_time": "2022-07-28T14:55:02.577Z"
   },
   {
    "duration": 6,
    "start_time": "2022-07-28T14:55:39.172Z"
   },
   {
    "duration": 6,
    "start_time": "2022-07-28T14:56:32.363Z"
   },
   {
    "duration": 614,
    "start_time": "2022-07-28T18:05:52.775Z"
   },
   {
    "duration": 25,
    "start_time": "2022-07-28T18:05:53.391Z"
   },
   {
    "duration": 26,
    "start_time": "2022-07-28T18:05:53.418Z"
   },
   {
    "duration": 18,
    "start_time": "2022-07-28T18:05:53.445Z"
   },
   {
    "duration": 35,
    "start_time": "2022-07-28T18:05:53.465Z"
   },
   {
    "duration": 11,
    "start_time": "2022-07-28T18:05:53.523Z"
   },
   {
    "duration": 8,
    "start_time": "2022-07-28T18:05:53.536Z"
   },
   {
    "duration": 7,
    "start_time": "2022-07-28T18:05:53.546Z"
   },
   {
    "duration": 96,
    "start_time": "2022-07-28T18:05:53.555Z"
   },
   {
    "duration": 1,
    "start_time": "2022-07-28T18:05:53.654Z"
   },
   {
    "duration": 0,
    "start_time": "2022-07-28T18:05:53.656Z"
   },
   {
    "duration": 0,
    "start_time": "2022-07-28T18:05:53.657Z"
   },
   {
    "duration": 0,
    "start_time": "2022-07-28T18:05:53.658Z"
   },
   {
    "duration": 0,
    "start_time": "2022-07-28T18:05:53.659Z"
   },
   {
    "duration": 0,
    "start_time": "2022-07-28T18:05:53.661Z"
   },
   {
    "duration": 0,
    "start_time": "2022-07-28T18:05:53.662Z"
   },
   {
    "duration": 0,
    "start_time": "2022-07-28T18:05:53.663Z"
   },
   {
    "duration": 0,
    "start_time": "2022-07-28T18:05:53.664Z"
   },
   {
    "duration": 0,
    "start_time": "2022-07-28T18:05:53.669Z"
   },
   {
    "duration": 0,
    "start_time": "2022-07-28T18:05:53.670Z"
   },
   {
    "duration": 0,
    "start_time": "2022-07-28T18:05:53.672Z"
   },
   {
    "duration": 0,
    "start_time": "2022-07-28T18:05:53.673Z"
   },
   {
    "duration": 0,
    "start_time": "2022-07-28T18:05:53.674Z"
   },
   {
    "duration": 0,
    "start_time": "2022-07-28T18:05:53.675Z"
   },
   {
    "duration": 0,
    "start_time": "2022-07-28T18:05:53.676Z"
   },
   {
    "duration": 0,
    "start_time": "2022-07-28T18:05:53.677Z"
   },
   {
    "duration": 0,
    "start_time": "2022-07-28T18:05:53.678Z"
   },
   {
    "duration": 0,
    "start_time": "2022-07-28T18:05:53.679Z"
   },
   {
    "duration": 0,
    "start_time": "2022-07-28T18:05:53.681Z"
   },
   {
    "duration": 0,
    "start_time": "2022-07-28T18:05:53.724Z"
   },
   {
    "duration": 0,
    "start_time": "2022-07-28T18:05:53.725Z"
   },
   {
    "duration": 0,
    "start_time": "2022-07-28T18:05:53.726Z"
   },
   {
    "duration": 0,
    "start_time": "2022-07-28T18:05:53.728Z"
   },
   {
    "duration": 0,
    "start_time": "2022-07-28T18:05:53.729Z"
   },
   {
    "duration": 0,
    "start_time": "2022-07-28T18:05:53.730Z"
   },
   {
    "duration": 0,
    "start_time": "2022-07-28T18:05:53.732Z"
   },
   {
    "duration": 0,
    "start_time": "2022-07-28T18:05:53.734Z"
   },
   {
    "duration": 0,
    "start_time": "2022-07-28T18:05:53.735Z"
   },
   {
    "duration": 0,
    "start_time": "2022-07-28T18:05:53.736Z"
   },
   {
    "duration": 0,
    "start_time": "2022-07-28T18:05:53.737Z"
   },
   {
    "duration": 0,
    "start_time": "2022-07-28T18:05:53.738Z"
   },
   {
    "duration": 0,
    "start_time": "2022-07-28T18:05:53.739Z"
   },
   {
    "duration": 0,
    "start_time": "2022-07-28T18:05:53.740Z"
   },
   {
    "duration": 0,
    "start_time": "2022-07-28T18:05:53.742Z"
   },
   {
    "duration": 0,
    "start_time": "2022-07-28T18:05:53.743Z"
   },
   {
    "duration": 0,
    "start_time": "2022-07-28T18:05:53.745Z"
   },
   {
    "duration": 0,
    "start_time": "2022-07-28T18:05:53.746Z"
   },
   {
    "duration": 0,
    "start_time": "2022-07-28T18:05:53.747Z"
   },
   {
    "duration": 0,
    "start_time": "2022-07-28T18:05:53.748Z"
   },
   {
    "duration": 0,
    "start_time": "2022-07-28T18:05:53.749Z"
   },
   {
    "duration": 0,
    "start_time": "2022-07-28T18:05:53.751Z"
   },
   {
    "duration": 0,
    "start_time": "2022-07-28T18:05:53.751Z"
   },
   {
    "duration": 0,
    "start_time": "2022-07-28T18:05:53.753Z"
   },
   {
    "duration": 0,
    "start_time": "2022-07-28T18:05:53.754Z"
   },
   {
    "duration": 0,
    "start_time": "2022-07-28T18:05:53.756Z"
   },
   {
    "duration": 0,
    "start_time": "2022-07-28T18:05:53.758Z"
   },
   {
    "duration": 0,
    "start_time": "2022-07-28T18:05:53.760Z"
   },
   {
    "duration": 0,
    "start_time": "2022-07-28T18:05:53.761Z"
   },
   {
    "duration": 0,
    "start_time": "2022-07-28T18:05:53.823Z"
   },
   {
    "duration": 0,
    "start_time": "2022-07-28T18:05:53.825Z"
   },
   {
    "duration": 0,
    "start_time": "2022-07-28T18:05:53.826Z"
   },
   {
    "duration": 0,
    "start_time": "2022-07-28T18:05:53.827Z"
   },
   {
    "duration": 0,
    "start_time": "2022-07-28T18:05:53.829Z"
   },
   {
    "duration": 0,
    "start_time": "2022-07-28T18:05:53.830Z"
   },
   {
    "duration": 0,
    "start_time": "2022-07-28T18:05:53.831Z"
   },
   {
    "duration": 0,
    "start_time": "2022-07-28T18:05:53.832Z"
   },
   {
    "duration": 0,
    "start_time": "2022-07-28T18:05:53.833Z"
   },
   {
    "duration": 0,
    "start_time": "2022-07-28T18:05:53.834Z"
   },
   {
    "duration": 0,
    "start_time": "2022-07-28T18:05:53.835Z"
   },
   {
    "duration": 0,
    "start_time": "2022-07-28T18:05:53.836Z"
   },
   {
    "duration": 0,
    "start_time": "2022-07-28T18:05:53.837Z"
   },
   {
    "duration": 0,
    "start_time": "2022-07-28T18:05:53.838Z"
   },
   {
    "duration": 2,
    "start_time": "2022-07-28T18:07:33.477Z"
   },
   {
    "duration": 111,
    "start_time": "2022-07-28T18:07:38.825Z"
   },
   {
    "duration": 25,
    "start_time": "2022-07-28T18:07:38.939Z"
   },
   {
    "duration": 36,
    "start_time": "2022-07-28T18:07:38.966Z"
   },
   {
    "duration": 83,
    "start_time": "2022-07-28T18:07:39.006Z"
   },
   {
    "duration": 65,
    "start_time": "2022-07-28T18:07:39.091Z"
   },
   {
    "duration": 14,
    "start_time": "2022-07-28T18:07:39.158Z"
   },
   {
    "duration": 32,
    "start_time": "2022-07-28T18:07:39.174Z"
   },
   {
    "duration": 16,
    "start_time": "2022-07-28T18:07:39.208Z"
   },
   {
    "duration": 31,
    "start_time": "2022-07-28T18:07:39.226Z"
   },
   {
    "duration": 20,
    "start_time": "2022-07-28T18:07:39.261Z"
   },
   {
    "duration": 23,
    "start_time": "2022-07-28T18:07:39.283Z"
   },
   {
    "duration": 45,
    "start_time": "2022-07-28T18:07:39.309Z"
   },
   {
    "duration": 13,
    "start_time": "2022-07-28T18:07:39.358Z"
   },
   {
    "duration": 28,
    "start_time": "2022-07-28T18:07:39.374Z"
   },
   {
    "duration": 11,
    "start_time": "2022-07-28T18:07:39.405Z"
   },
   {
    "duration": 44,
    "start_time": "2022-07-28T18:07:39.418Z"
   },
   {
    "duration": 6,
    "start_time": "2022-07-28T18:07:39.465Z"
   },
   {
    "duration": 12,
    "start_time": "2022-07-28T18:07:39.473Z"
   },
   {
    "duration": 16,
    "start_time": "2022-07-28T18:07:39.487Z"
   },
   {
    "duration": 6,
    "start_time": "2022-07-28T18:07:39.505Z"
   },
   {
    "duration": 7,
    "start_time": "2022-07-28T18:07:39.513Z"
   },
   {
    "duration": 27,
    "start_time": "2022-07-28T18:07:39.524Z"
   },
   {
    "duration": 10,
    "start_time": "2022-07-28T18:07:39.553Z"
   },
   {
    "duration": 5,
    "start_time": "2022-07-28T18:07:39.565Z"
   },
   {
    "duration": 4,
    "start_time": "2022-07-28T18:07:39.572Z"
   },
   {
    "duration": 6,
    "start_time": "2022-07-28T18:07:39.578Z"
   },
   {
    "duration": 5,
    "start_time": "2022-07-28T18:07:39.586Z"
   },
   {
    "duration": 4,
    "start_time": "2022-07-28T18:07:39.595Z"
   },
   {
    "duration": 22,
    "start_time": "2022-07-28T18:07:39.601Z"
   },
   {
    "duration": 21,
    "start_time": "2022-07-28T18:07:39.625Z"
   },
   {
    "duration": 5,
    "start_time": "2022-07-28T18:07:39.649Z"
   },
   {
    "duration": 4,
    "start_time": "2022-07-28T18:07:39.656Z"
   },
   {
    "duration": 5,
    "start_time": "2022-07-28T18:07:39.662Z"
   },
   {
    "duration": 5,
    "start_time": "2022-07-28T18:07:39.669Z"
   },
   {
    "duration": 5,
    "start_time": "2022-07-28T18:07:39.676Z"
   },
   {
    "duration": 6,
    "start_time": "2022-07-28T18:07:39.683Z"
   },
   {
    "duration": 6,
    "start_time": "2022-07-28T18:07:39.690Z"
   },
   {
    "duration": 6,
    "start_time": "2022-07-28T18:07:39.697Z"
   },
   {
    "duration": 18,
    "start_time": "2022-07-28T18:07:39.705Z"
   },
   {
    "duration": 23,
    "start_time": "2022-07-28T18:07:39.725Z"
   },
   {
    "duration": 7,
    "start_time": "2022-07-28T18:07:39.750Z"
   },
   {
    "duration": 10,
    "start_time": "2022-07-28T18:07:39.759Z"
   },
   {
    "duration": 12,
    "start_time": "2022-07-28T18:07:39.771Z"
   },
   {
    "duration": 5,
    "start_time": "2022-07-28T18:07:39.785Z"
   },
   {
    "duration": 5,
    "start_time": "2022-07-28T18:07:39.792Z"
   },
   {
    "duration": 5,
    "start_time": "2022-07-28T18:07:39.798Z"
   },
   {
    "duration": 5,
    "start_time": "2022-07-28T18:07:39.805Z"
   },
   {
    "duration": 5,
    "start_time": "2022-07-28T18:07:39.812Z"
   },
   {
    "duration": 5,
    "start_time": "2022-07-28T18:07:39.819Z"
   },
   {
    "duration": 28,
    "start_time": "2022-07-28T18:07:39.826Z"
   },
   {
    "duration": 5,
    "start_time": "2022-07-28T18:07:39.857Z"
   },
   {
    "duration": 10,
    "start_time": "2022-07-28T18:07:39.863Z"
   },
   {
    "duration": 15,
    "start_time": "2022-07-28T18:07:39.875Z"
   },
   {
    "duration": 6,
    "start_time": "2022-07-28T18:07:39.892Z"
   },
   {
    "duration": 4,
    "start_time": "2022-07-28T18:07:39.900Z"
   },
   {
    "duration": 6,
    "start_time": "2022-07-28T18:07:39.905Z"
   },
   {
    "duration": 5,
    "start_time": "2022-07-28T18:07:39.913Z"
   },
   {
    "duration": 15,
    "start_time": "2022-07-28T18:07:39.919Z"
   },
   {
    "duration": 10,
    "start_time": "2022-07-28T18:07:39.936Z"
   },
   {
    "duration": 6,
    "start_time": "2022-07-28T18:07:39.947Z"
   },
   {
    "duration": 5,
    "start_time": "2022-07-28T18:07:39.955Z"
   },
   {
    "duration": 5,
    "start_time": "2022-07-28T18:07:39.961Z"
   },
   {
    "duration": 7,
    "start_time": "2022-07-28T18:07:39.968Z"
   },
   {
    "duration": 5,
    "start_time": "2022-07-28T18:07:39.977Z"
   },
   {
    "duration": 5,
    "start_time": "2022-07-28T18:07:39.983Z"
   },
   {
    "duration": 5,
    "start_time": "2022-07-28T18:07:39.989Z"
   },
   {
    "duration": 7,
    "start_time": "2022-07-28T18:07:39.996Z"
   },
   {
    "duration": 5,
    "start_time": "2022-07-28T18:07:40.005Z"
   },
   {
    "duration": 5,
    "start_time": "2022-07-28T18:07:40.025Z"
   },
   {
    "duration": 7,
    "start_time": "2022-07-28T18:07:40.032Z"
   },
   {
    "duration": 7,
    "start_time": "2022-07-28T18:07:40.042Z"
   },
   {
    "duration": 11,
    "start_time": "2022-07-28T18:07:40.051Z"
   },
   {
    "duration": 10,
    "start_time": "2022-07-28T18:08:07.375Z"
   },
   {
    "duration": 4,
    "start_time": "2022-07-28T18:09:34.920Z"
   },
   {
    "duration": 11,
    "start_time": "2022-07-28T18:09:39.679Z"
   },
   {
    "duration": 88,
    "start_time": "2022-07-28T18:10:11.785Z"
   },
   {
    "duration": 15,
    "start_time": "2022-07-28T18:10:11.876Z"
   },
   {
    "duration": 18,
    "start_time": "2022-07-28T18:10:11.893Z"
   },
   {
    "duration": 21,
    "start_time": "2022-07-28T18:10:11.913Z"
   },
   {
    "duration": 48,
    "start_time": "2022-07-28T18:10:11.937Z"
   },
   {
    "duration": 12,
    "start_time": "2022-07-28T18:10:11.988Z"
   },
   {
    "duration": 25,
    "start_time": "2022-07-28T18:10:12.003Z"
   },
   {
    "duration": 12,
    "start_time": "2022-07-28T18:10:12.030Z"
   },
   {
    "duration": 17,
    "start_time": "2022-07-28T18:10:12.043Z"
   },
   {
    "duration": 6,
    "start_time": "2022-07-28T18:10:12.062Z"
   },
   {
    "duration": 7,
    "start_time": "2022-07-28T18:10:12.070Z"
   },
   {
    "duration": 7,
    "start_time": "2022-07-28T18:10:12.078Z"
   },
   {
    "duration": 10,
    "start_time": "2022-07-28T18:10:12.086Z"
   },
   {
    "duration": 28,
    "start_time": "2022-07-28T18:10:12.098Z"
   },
   {
    "duration": 12,
    "start_time": "2022-07-28T18:10:12.128Z"
   },
   {
    "duration": 9,
    "start_time": "2022-07-28T18:10:12.142Z"
   },
   {
    "duration": 6,
    "start_time": "2022-07-28T18:10:12.153Z"
   },
   {
    "duration": 15,
    "start_time": "2022-07-28T18:10:12.161Z"
   },
   {
    "duration": 15,
    "start_time": "2022-07-28T18:10:12.177Z"
   },
   {
    "duration": 32,
    "start_time": "2022-07-28T18:10:12.194Z"
   },
   {
    "duration": 11,
    "start_time": "2022-07-28T18:10:51.498Z"
   },
   {
    "duration": 13,
    "start_time": "2022-07-28T18:11:36.177Z"
   },
   {
    "duration": 11,
    "start_time": "2022-07-28T18:11:43.881Z"
   },
   {
    "duration": 10,
    "start_time": "2022-07-28T18:12:34.490Z"
   },
   {
    "duration": 12,
    "start_time": "2022-07-28T18:24:34.930Z"
   },
   {
    "duration": 8,
    "start_time": "2022-07-28T18:24:52.085Z"
   },
   {
    "duration": 78,
    "start_time": "2022-07-28T18:25:22.238Z"
   },
   {
    "duration": 15,
    "start_time": "2022-07-28T18:25:22.318Z"
   },
   {
    "duration": 20,
    "start_time": "2022-07-28T18:25:22.334Z"
   },
   {
    "duration": 15,
    "start_time": "2022-07-28T18:25:22.356Z"
   },
   {
    "duration": 63,
    "start_time": "2022-07-28T18:25:22.373Z"
   },
   {
    "duration": 11,
    "start_time": "2022-07-28T18:25:22.438Z"
   },
   {
    "duration": 8,
    "start_time": "2022-07-28T18:25:22.450Z"
   },
   {
    "duration": 9,
    "start_time": "2022-07-28T18:25:22.459Z"
   },
   {
    "duration": 15,
    "start_time": "2022-07-28T18:25:22.470Z"
   },
   {
    "duration": 8,
    "start_time": "2022-07-28T18:25:22.488Z"
   },
   {
    "duration": 8,
    "start_time": "2022-07-28T18:25:22.498Z"
   },
   {
    "duration": 9,
    "start_time": "2022-07-28T18:25:22.524Z"
   },
   {
    "duration": 10,
    "start_time": "2022-07-28T18:25:22.535Z"
   },
   {
    "duration": 13,
    "start_time": "2022-07-28T18:25:22.547Z"
   },
   {
    "duration": 14,
    "start_time": "2022-07-28T18:25:22.561Z"
   },
   {
    "duration": 24,
    "start_time": "2022-07-28T18:25:22.577Z"
   },
   {
    "duration": 11,
    "start_time": "2022-07-28T18:25:22.603Z"
   },
   {
    "duration": 9,
    "start_time": "2022-07-28T18:25:22.616Z"
   },
   {
    "duration": 12,
    "start_time": "2022-07-28T18:25:22.627Z"
   },
   {
    "duration": 4,
    "start_time": "2022-07-28T18:25:22.641Z"
   },
   {
    "duration": 11,
    "start_time": "2022-07-28T18:25:22.646Z"
   },
   {
    "duration": 8,
    "start_time": "2022-07-28T18:25:22.658Z"
   },
   {
    "duration": 13,
    "start_time": "2022-07-28T18:25:22.667Z"
   },
   {
    "duration": 42,
    "start_time": "2022-07-28T18:25:22.682Z"
   },
   {
    "duration": 8,
    "start_time": "2022-07-28T18:25:22.726Z"
   },
   {
    "duration": 7,
    "start_time": "2022-07-28T18:25:22.735Z"
   },
   {
    "duration": 6,
    "start_time": "2022-07-28T18:25:22.744Z"
   },
   {
    "duration": 3,
    "start_time": "2022-07-28T18:25:22.757Z"
   },
   {
    "duration": 3,
    "start_time": "2022-07-28T18:25:22.762Z"
   },
   {
    "duration": 5,
    "start_time": "2022-07-28T18:25:22.767Z"
   },
   {
    "duration": 12,
    "start_time": "2022-07-28T18:25:22.774Z"
   },
   {
    "duration": 13,
    "start_time": "2022-07-28T18:25:22.788Z"
   },
   {
    "duration": 22,
    "start_time": "2022-07-28T18:25:22.803Z"
   },
   {
    "duration": 8,
    "start_time": "2022-07-28T18:25:22.827Z"
   },
   {
    "duration": 13,
    "start_time": "2022-07-28T18:25:22.837Z"
   },
   {
    "duration": 12,
    "start_time": "2022-07-28T18:25:22.852Z"
   },
   {
    "duration": 13,
    "start_time": "2022-07-28T18:25:22.866Z"
   },
   {
    "duration": 10,
    "start_time": "2022-07-28T18:25:22.881Z"
   },
   {
    "duration": 6,
    "start_time": "2022-07-28T18:25:22.893Z"
   },
   {
    "duration": 7,
    "start_time": "2022-07-28T18:25:22.901Z"
   },
   {
    "duration": 14,
    "start_time": "2022-07-28T18:25:22.910Z"
   },
   {
    "duration": 10,
    "start_time": "2022-07-28T18:25:22.926Z"
   },
   {
    "duration": 17,
    "start_time": "2022-07-28T18:25:22.938Z"
   },
   {
    "duration": 8,
    "start_time": "2022-07-28T18:25:22.958Z"
   },
   {
    "duration": 10,
    "start_time": "2022-07-28T18:25:22.968Z"
   },
   {
    "duration": 7,
    "start_time": "2022-07-28T18:25:22.980Z"
   },
   {
    "duration": 11,
    "start_time": "2022-07-28T18:25:22.989Z"
   },
   {
    "duration": 16,
    "start_time": "2022-07-28T18:25:23.001Z"
   },
   {
    "duration": 14,
    "start_time": "2022-07-28T18:25:23.019Z"
   },
   {
    "duration": 15,
    "start_time": "2022-07-28T18:25:23.035Z"
   },
   {
    "duration": 7,
    "start_time": "2022-07-28T18:25:23.053Z"
   },
   {
    "duration": 7,
    "start_time": "2022-07-28T18:25:23.061Z"
   },
   {
    "duration": 8,
    "start_time": "2022-07-28T18:25:23.069Z"
   },
   {
    "duration": 5,
    "start_time": "2022-07-28T18:25:23.079Z"
   },
   {
    "duration": 8,
    "start_time": "2022-07-28T18:25:23.086Z"
   },
   {
    "duration": 7,
    "start_time": "2022-07-28T18:25:23.096Z"
   },
   {
    "duration": 7,
    "start_time": "2022-07-28T18:25:23.106Z"
   },
   {
    "duration": 7,
    "start_time": "2022-07-28T18:25:23.114Z"
   },
   {
    "duration": 16,
    "start_time": "2022-07-28T18:25:23.123Z"
   },
   {
    "duration": 6,
    "start_time": "2022-07-28T18:25:23.141Z"
   },
   {
    "duration": 6,
    "start_time": "2022-07-28T18:25:23.149Z"
   },
   {
    "duration": 4,
    "start_time": "2022-07-28T18:25:23.157Z"
   },
   {
    "duration": 7,
    "start_time": "2022-07-28T18:25:23.163Z"
   },
   {
    "duration": 8,
    "start_time": "2022-07-28T18:25:23.172Z"
   },
   {
    "duration": 4,
    "start_time": "2022-07-28T18:25:23.182Z"
   },
   {
    "duration": 5,
    "start_time": "2022-07-28T18:25:23.188Z"
   },
   {
    "duration": 7,
    "start_time": "2022-07-28T18:25:23.195Z"
   },
   {
    "duration": 7,
    "start_time": "2022-07-28T18:25:23.203Z"
   },
   {
    "duration": 10,
    "start_time": "2022-07-28T18:25:23.211Z"
   },
   {
    "duration": 5,
    "start_time": "2022-07-28T18:25:23.223Z"
   },
   {
    "duration": 27,
    "start_time": "2022-07-28T18:25:23.229Z"
   },
   {
    "duration": 10,
    "start_time": "2022-07-28T18:25:23.258Z"
   },
   {
    "duration": 77,
    "start_time": "2022-07-28T18:25:44.980Z"
   },
   {
    "duration": 7,
    "start_time": "2022-07-28T18:25:57.504Z"
   },
   {
    "duration": 10,
    "start_time": "2022-07-28T18:26:15.386Z"
   },
   {
    "duration": 11,
    "start_time": "2022-07-28T18:26:44.267Z"
   },
   {
    "duration": 6,
    "start_time": "2022-07-28T18:27:12.563Z"
   },
   {
    "duration": 9,
    "start_time": "2022-07-28T18:27:56.399Z"
   },
   {
    "duration": 5,
    "start_time": "2022-07-28T18:28:18.827Z"
   },
   {
    "duration": 13,
    "start_time": "2022-07-28T18:28:32.106Z"
   },
   {
    "duration": 9,
    "start_time": "2022-07-28T18:33:37.531Z"
   },
   {
    "duration": 10,
    "start_time": "2022-07-28T18:35:42.088Z"
   },
   {
    "duration": 14,
    "start_time": "2022-07-28T18:35:46.517Z"
   },
   {
    "duration": 9,
    "start_time": "2022-07-28T18:44:32.690Z"
   },
   {
    "duration": 5,
    "start_time": "2022-07-28T18:44:46.072Z"
   },
   {
    "duration": 10,
    "start_time": "2022-07-28T18:45:48.271Z"
   },
   {
    "duration": 6,
    "start_time": "2022-07-28T18:46:02.998Z"
   },
   {
    "duration": 5,
    "start_time": "2022-07-28T18:47:10.071Z"
   },
   {
    "duration": 90,
    "start_time": "2022-07-28T19:19:59.958Z"
   },
   {
    "duration": 14,
    "start_time": "2022-07-28T19:20:00.050Z"
   },
   {
    "duration": 22,
    "start_time": "2022-07-28T19:20:00.066Z"
   },
   {
    "duration": 14,
    "start_time": "2022-07-28T19:20:00.089Z"
   },
   {
    "duration": 105,
    "start_time": "2022-07-28T19:20:00.125Z"
   },
   {
    "duration": 10,
    "start_time": "2022-07-28T19:20:00.232Z"
   },
   {
    "duration": 16,
    "start_time": "2022-07-28T19:20:00.243Z"
   },
   {
    "duration": 11,
    "start_time": "2022-07-28T19:20:00.260Z"
   },
   {
    "duration": 15,
    "start_time": "2022-07-28T19:20:00.273Z"
   },
   {
    "duration": 23,
    "start_time": "2022-07-28T19:20:00.289Z"
   },
   {
    "duration": 17,
    "start_time": "2022-07-28T19:20:00.315Z"
   },
   {
    "duration": 16,
    "start_time": "2022-07-28T19:20:00.334Z"
   },
   {
    "duration": 9,
    "start_time": "2022-07-28T19:20:00.352Z"
   },
   {
    "duration": 27,
    "start_time": "2022-07-28T19:20:00.364Z"
   },
   {
    "duration": 31,
    "start_time": "2022-07-28T19:20:00.392Z"
   },
   {
    "duration": 24,
    "start_time": "2022-07-28T19:20:00.424Z"
   },
   {
    "duration": 18,
    "start_time": "2022-07-28T19:20:00.449Z"
   },
   {
    "duration": 17,
    "start_time": "2022-07-28T19:20:00.468Z"
   },
   {
    "duration": 20,
    "start_time": "2022-07-28T19:20:00.487Z"
   },
   {
    "duration": 5,
    "start_time": "2022-07-28T19:20:00.509Z"
   },
   {
    "duration": 24,
    "start_time": "2022-07-28T19:20:00.515Z"
   },
   {
    "duration": 16,
    "start_time": "2022-07-28T19:20:00.541Z"
   },
   {
    "duration": 20,
    "start_time": "2022-07-28T19:20:00.559Z"
   },
   {
    "duration": 37,
    "start_time": "2022-07-28T19:20:00.581Z"
   },
   {
    "duration": 16,
    "start_time": "2022-07-28T19:20:00.620Z"
   },
   {
    "duration": 21,
    "start_time": "2022-07-28T19:20:00.639Z"
   },
   {
    "duration": 39,
    "start_time": "2022-07-28T19:20:00.662Z"
   },
   {
    "duration": 21,
    "start_time": "2022-07-28T19:20:00.702Z"
   },
   {
    "duration": 30,
    "start_time": "2022-07-28T19:20:00.725Z"
   },
   {
    "duration": 32,
    "start_time": "2022-07-28T19:20:00.757Z"
   },
   {
    "duration": 33,
    "start_time": "2022-07-28T19:20:00.791Z"
   },
   {
    "duration": 21,
    "start_time": "2022-07-28T19:20:00.825Z"
   },
   {
    "duration": 27,
    "start_time": "2022-07-28T19:20:00.848Z"
   },
   {
    "duration": 19,
    "start_time": "2022-07-28T19:20:00.877Z"
   },
   {
    "duration": 19,
    "start_time": "2022-07-28T19:20:00.898Z"
   },
   {
    "duration": 40,
    "start_time": "2022-07-28T19:20:00.919Z"
   },
   {
    "duration": 50,
    "start_time": "2022-07-28T19:20:00.962Z"
   },
   {
    "duration": 32,
    "start_time": "2022-07-28T19:20:01.013Z"
   },
   {
    "duration": 36,
    "start_time": "2022-07-28T19:20:01.047Z"
   },
   {
    "duration": 16,
    "start_time": "2022-07-28T19:20:01.084Z"
   },
   {
    "duration": 20,
    "start_time": "2022-07-28T19:20:01.105Z"
   },
   {
    "duration": 31,
    "start_time": "2022-07-28T19:20:01.126Z"
   },
   {
    "duration": 19,
    "start_time": "2022-07-28T19:20:01.159Z"
   },
   {
    "duration": 15,
    "start_time": "2022-07-28T19:20:01.180Z"
   },
   {
    "duration": 23,
    "start_time": "2022-07-28T19:20:01.196Z"
   },
   {
    "duration": 11,
    "start_time": "2022-07-28T19:20:01.221Z"
   },
   {
    "duration": 20,
    "start_time": "2022-07-28T19:20:01.234Z"
   },
   {
    "duration": 41,
    "start_time": "2022-07-28T19:20:01.256Z"
   },
   {
    "duration": 37,
    "start_time": "2022-07-28T19:20:01.299Z"
   },
   {
    "duration": 21,
    "start_time": "2022-07-28T19:20:01.338Z"
   },
   {
    "duration": 25,
    "start_time": "2022-07-28T19:20:01.362Z"
   },
   {
    "duration": 16,
    "start_time": "2022-07-28T19:20:01.389Z"
   },
   {
    "duration": 12,
    "start_time": "2022-07-28T19:20:01.406Z"
   },
   {
    "duration": 14,
    "start_time": "2022-07-28T19:20:01.419Z"
   },
   {
    "duration": 14,
    "start_time": "2022-07-28T19:20:01.435Z"
   },
   {
    "duration": 15,
    "start_time": "2022-07-28T19:20:01.450Z"
   },
   {
    "duration": 12,
    "start_time": "2022-07-28T19:20:01.466Z"
   },
   {
    "duration": 8,
    "start_time": "2022-07-28T19:20:01.480Z"
   },
   {
    "duration": 24,
    "start_time": "2022-07-28T19:20:01.489Z"
   },
   {
    "duration": 10,
    "start_time": "2022-07-28T19:20:01.515Z"
   },
   {
    "duration": 7,
    "start_time": "2022-07-28T19:20:01.526Z"
   },
   {
    "duration": 15,
    "start_time": "2022-07-28T19:20:01.534Z"
   },
   {
    "duration": 39,
    "start_time": "2022-07-28T19:20:01.550Z"
   },
   {
    "duration": 53,
    "start_time": "2022-07-28T19:20:01.590Z"
   },
   {
    "duration": 17,
    "start_time": "2022-07-28T19:20:01.644Z"
   },
   {
    "duration": 11,
    "start_time": "2022-07-28T19:20:01.663Z"
   },
   {
    "duration": 15,
    "start_time": "2022-07-28T19:20:01.675Z"
   },
   {
    "duration": 23,
    "start_time": "2022-07-28T19:20:01.692Z"
   },
   {
    "duration": 10,
    "start_time": "2022-07-28T19:20:01.717Z"
   },
   {
    "duration": 21,
    "start_time": "2022-07-28T19:20:01.729Z"
   },
   {
    "duration": 7,
    "start_time": "2022-07-28T19:20:01.751Z"
   },
   {
    "duration": 8,
    "start_time": "2022-07-28T19:20:01.759Z"
   },
   {
    "duration": 12,
    "start_time": "2022-07-28T19:35:58.477Z"
   },
   {
    "duration": 19,
    "start_time": "2022-07-28T19:36:10.921Z"
   },
   {
    "duration": 10,
    "start_time": "2022-07-28T19:37:04.948Z"
   },
   {
    "duration": 4,
    "start_time": "2022-07-28T19:37:19.675Z"
   },
   {
    "duration": 4,
    "start_time": "2022-07-28T19:37:36.121Z"
   },
   {
    "duration": 6,
    "start_time": "2022-07-28T19:37:49.658Z"
   },
   {
    "duration": 14,
    "start_time": "2022-07-28T19:37:56.025Z"
   },
   {
    "duration": 8,
    "start_time": "2022-07-28T19:38:32.078Z"
   },
   {
    "duration": 5,
    "start_time": "2022-07-28T19:48:46.173Z"
   },
   {
    "duration": 5,
    "start_time": "2022-07-28T19:49:04.733Z"
   },
   {
    "duration": 6,
    "start_time": "2022-07-28T19:49:07.784Z"
   },
   {
    "duration": 7,
    "start_time": "2022-07-28T19:49:15.360Z"
   },
   {
    "duration": 84,
    "start_time": "2022-07-28T19:49:25.593Z"
   },
   {
    "duration": 15,
    "start_time": "2022-07-28T19:49:25.678Z"
   },
   {
    "duration": 21,
    "start_time": "2022-07-28T19:49:25.694Z"
   },
   {
    "duration": 19,
    "start_time": "2022-07-28T19:49:25.717Z"
   },
   {
    "duration": 42,
    "start_time": "2022-07-28T19:49:25.738Z"
   },
   {
    "duration": 9,
    "start_time": "2022-07-28T19:49:25.782Z"
   },
   {
    "duration": 14,
    "start_time": "2022-07-28T19:49:25.793Z"
   },
   {
    "duration": 30,
    "start_time": "2022-07-28T19:49:25.808Z"
   },
   {
    "duration": 13,
    "start_time": "2022-07-28T19:49:25.840Z"
   },
   {
    "duration": 20,
    "start_time": "2022-07-28T19:49:25.855Z"
   },
   {
    "duration": 17,
    "start_time": "2022-07-28T19:49:25.876Z"
   },
   {
    "duration": 17,
    "start_time": "2022-07-28T19:49:25.895Z"
   },
   {
    "duration": 19,
    "start_time": "2022-07-28T19:49:25.914Z"
   },
   {
    "duration": 26,
    "start_time": "2022-07-28T19:49:25.936Z"
   },
   {
    "duration": 23,
    "start_time": "2022-07-28T19:49:25.964Z"
   },
   {
    "duration": 13,
    "start_time": "2022-07-28T19:49:25.990Z"
   },
   {
    "duration": 11,
    "start_time": "2022-07-28T19:49:26.004Z"
   },
   {
    "duration": 27,
    "start_time": "2022-07-28T19:49:26.017Z"
   },
   {
    "duration": 34,
    "start_time": "2022-07-28T19:49:26.046Z"
   },
   {
    "duration": 5,
    "start_time": "2022-07-28T19:49:26.082Z"
   },
   {
    "duration": 13,
    "start_time": "2022-07-28T19:49:26.089Z"
   },
   {
    "duration": 10,
    "start_time": "2022-07-28T19:49:26.103Z"
   },
   {
    "duration": 27,
    "start_time": "2022-07-28T19:49:26.115Z"
   },
   {
    "duration": 24,
    "start_time": "2022-07-28T19:49:26.143Z"
   },
   {
    "duration": 18,
    "start_time": "2022-07-28T19:49:26.169Z"
   },
   {
    "duration": 11,
    "start_time": "2022-07-28T19:49:26.188Z"
   },
   {
    "duration": 11,
    "start_time": "2022-07-28T19:49:26.201Z"
   },
   {
    "duration": 5,
    "start_time": "2022-07-28T19:49:26.216Z"
   },
   {
    "duration": 32,
    "start_time": "2022-07-28T19:49:26.222Z"
   },
   {
    "duration": 13,
    "start_time": "2022-07-28T19:49:26.255Z"
   },
   {
    "duration": 9,
    "start_time": "2022-07-28T19:49:26.270Z"
   },
   {
    "duration": 17,
    "start_time": "2022-07-28T19:49:26.280Z"
   },
   {
    "duration": 7,
    "start_time": "2022-07-28T19:49:26.298Z"
   },
   {
    "duration": 7,
    "start_time": "2022-07-28T19:49:26.307Z"
   },
   {
    "duration": 18,
    "start_time": "2022-07-28T19:49:26.316Z"
   },
   {
    "duration": 9,
    "start_time": "2022-07-28T19:49:26.336Z"
   },
   {
    "duration": 17,
    "start_time": "2022-07-28T19:49:26.347Z"
   },
   {
    "duration": 10,
    "start_time": "2022-07-28T19:49:26.366Z"
   },
   {
    "duration": 9,
    "start_time": "2022-07-28T19:49:26.377Z"
   },
   {
    "duration": 19,
    "start_time": "2022-07-28T19:49:26.388Z"
   },
   {
    "duration": 27,
    "start_time": "2022-07-28T19:49:26.408Z"
   },
   {
    "duration": 10,
    "start_time": "2022-07-28T19:49:26.437Z"
   },
   {
    "duration": 9,
    "start_time": "2022-07-28T19:49:26.448Z"
   },
   {
    "duration": 12,
    "start_time": "2022-07-28T19:49:26.459Z"
   },
   {
    "duration": 10,
    "start_time": "2022-07-28T19:49:26.472Z"
   },
   {
    "duration": 6,
    "start_time": "2022-07-28T19:49:26.484Z"
   },
   {
    "duration": 14,
    "start_time": "2022-07-28T19:49:26.491Z"
   },
   {
    "duration": 5,
    "start_time": "2022-07-28T19:49:26.507Z"
   },
   {
    "duration": 5,
    "start_time": "2022-07-28T19:49:26.514Z"
   },
   {
    "duration": 20,
    "start_time": "2022-07-28T19:49:26.521Z"
   },
   {
    "duration": 6,
    "start_time": "2022-07-28T19:49:26.542Z"
   },
   {
    "duration": 9,
    "start_time": "2022-07-28T19:49:26.549Z"
   },
   {
    "duration": 5,
    "start_time": "2022-07-28T19:49:26.560Z"
   },
   {
    "duration": 7,
    "start_time": "2022-07-28T19:49:26.567Z"
   },
   {
    "duration": 6,
    "start_time": "2022-07-28T19:49:26.575Z"
   },
   {
    "duration": 12,
    "start_time": "2022-07-28T19:49:26.583Z"
   },
   {
    "duration": 13,
    "start_time": "2022-07-28T19:49:26.597Z"
   },
   {
    "duration": 25,
    "start_time": "2022-07-28T19:49:26.612Z"
   },
   {
    "duration": 9,
    "start_time": "2022-07-28T19:49:26.638Z"
   },
   {
    "duration": 14,
    "start_time": "2022-07-28T19:49:26.649Z"
   },
   {
    "duration": 9,
    "start_time": "2022-07-28T19:49:26.665Z"
   },
   {
    "duration": 13,
    "start_time": "2022-07-28T19:49:26.676Z"
   },
   {
    "duration": 13,
    "start_time": "2022-07-28T19:49:26.690Z"
   },
   {
    "duration": 11,
    "start_time": "2022-07-28T19:49:26.705Z"
   },
   {
    "duration": 19,
    "start_time": "2022-07-28T19:49:26.718Z"
   },
   {
    "duration": 10,
    "start_time": "2022-07-28T19:49:26.739Z"
   },
   {
    "duration": 8,
    "start_time": "2022-07-28T19:49:26.751Z"
   },
   {
    "duration": 7,
    "start_time": "2022-07-28T19:49:26.761Z"
   },
   {
    "duration": 5,
    "start_time": "2022-07-28T19:49:26.769Z"
   },
   {
    "duration": 5,
    "start_time": "2022-07-28T19:49:26.776Z"
   },
   {
    "duration": 7,
    "start_time": "2022-07-28T19:49:26.783Z"
   },
   {
    "duration": 18,
    "start_time": "2022-07-28T19:54:09.137Z"
   },
   {
    "duration": 19,
    "start_time": "2022-07-28T19:54:18.943Z"
   },
   {
    "duration": 16,
    "start_time": "2022-07-28T19:54:24.061Z"
   },
   {
    "duration": 103,
    "start_time": "2022-07-28T19:54:29.087Z"
   },
   {
    "duration": 18,
    "start_time": "2022-07-28T19:54:29.192Z"
   },
   {
    "duration": 30,
    "start_time": "2022-07-28T19:54:29.211Z"
   },
   {
    "duration": 16,
    "start_time": "2022-07-28T19:54:29.243Z"
   },
   {
    "duration": 69,
    "start_time": "2022-07-28T19:54:29.261Z"
   },
   {
    "duration": 9,
    "start_time": "2022-07-28T19:54:29.332Z"
   },
   {
    "duration": 6,
    "start_time": "2022-07-28T19:54:29.342Z"
   },
   {
    "duration": 4,
    "start_time": "2022-07-28T19:54:29.349Z"
   },
   {
    "duration": 8,
    "start_time": "2022-07-28T19:54:29.354Z"
   },
   {
    "duration": 5,
    "start_time": "2022-07-28T19:54:29.363Z"
   },
   {
    "duration": 4,
    "start_time": "2022-07-28T19:54:29.370Z"
   },
   {
    "duration": 8,
    "start_time": "2022-07-28T19:54:29.375Z"
   },
   {
    "duration": 41,
    "start_time": "2022-07-28T19:54:29.384Z"
   },
   {
    "duration": 10,
    "start_time": "2022-07-28T19:54:29.428Z"
   },
   {
    "duration": 14,
    "start_time": "2022-07-28T19:54:29.440Z"
   },
   {
    "duration": 7,
    "start_time": "2022-07-28T19:54:29.456Z"
   },
   {
    "duration": 4,
    "start_time": "2022-07-28T19:54:29.465Z"
   },
   {
    "duration": 6,
    "start_time": "2022-07-28T19:54:29.470Z"
   },
   {
    "duration": 51,
    "start_time": "2022-07-28T19:54:29.478Z"
   },
   {
    "duration": 9,
    "start_time": "2022-07-28T19:54:29.530Z"
   },
   {
    "duration": 12,
    "start_time": "2022-07-28T19:54:29.540Z"
   },
   {
    "duration": 5,
    "start_time": "2022-07-28T19:54:29.553Z"
   },
   {
    "duration": 9,
    "start_time": "2022-07-28T19:54:29.560Z"
   },
   {
    "duration": 9,
    "start_time": "2022-07-28T19:54:29.570Z"
   },
   {
    "duration": 53,
    "start_time": "2022-07-28T19:54:29.580Z"
   },
   {
    "duration": 4,
    "start_time": "2022-07-28T19:54:29.634Z"
   },
   {
    "duration": 11,
    "start_time": "2022-07-28T19:54:29.639Z"
   },
   {
    "duration": 5,
    "start_time": "2022-07-28T19:54:29.651Z"
   },
   {
    "duration": 11,
    "start_time": "2022-07-28T19:54:29.658Z"
   },
   {
    "duration": 9,
    "start_time": "2022-07-28T19:54:29.671Z"
   },
   {
    "duration": 5,
    "start_time": "2022-07-28T19:54:29.682Z"
   },
   {
    "duration": 35,
    "start_time": "2022-07-28T19:54:29.689Z"
   },
   {
    "duration": 19,
    "start_time": "2022-07-28T19:54:29.726Z"
   },
   {
    "duration": 3,
    "start_time": "2022-07-28T19:54:29.748Z"
   },
   {
    "duration": 7,
    "start_time": "2022-07-28T19:54:29.753Z"
   },
   {
    "duration": 11,
    "start_time": "2022-07-28T19:54:29.761Z"
   },
   {
    "duration": 18,
    "start_time": "2022-07-28T19:54:29.774Z"
   },
   {
    "duration": 9,
    "start_time": "2022-07-28T19:54:29.794Z"
   },
   {
    "duration": 7,
    "start_time": "2022-07-28T19:54:29.807Z"
   },
   {
    "duration": 2,
    "start_time": "2022-07-28T19:54:29.822Z"
   },
   {
    "duration": 8,
    "start_time": "2022-07-28T19:54:29.830Z"
   },
   {
    "duration": 6,
    "start_time": "2022-07-28T19:54:29.841Z"
   },
   {
    "duration": 7,
    "start_time": "2022-07-28T19:54:29.849Z"
   },
   {
    "duration": 7,
    "start_time": "2022-07-28T19:54:29.858Z"
   },
   {
    "duration": 6,
    "start_time": "2022-07-28T19:54:29.867Z"
   },
   {
    "duration": 6,
    "start_time": "2022-07-28T19:54:29.875Z"
   },
   {
    "duration": 7,
    "start_time": "2022-07-28T19:54:29.883Z"
   },
   {
    "duration": 4,
    "start_time": "2022-07-28T19:54:29.892Z"
   },
   {
    "duration": 5,
    "start_time": "2022-07-28T19:54:29.898Z"
   },
   {
    "duration": 3,
    "start_time": "2022-07-28T19:54:29.923Z"
   },
   {
    "duration": 5,
    "start_time": "2022-07-28T19:54:29.928Z"
   },
   {
    "duration": 7,
    "start_time": "2022-07-28T19:54:29.934Z"
   },
   {
    "duration": 5,
    "start_time": "2022-07-28T19:54:29.942Z"
   },
   {
    "duration": 6,
    "start_time": "2022-07-28T19:54:29.949Z"
   },
   {
    "duration": 7,
    "start_time": "2022-07-28T19:54:29.957Z"
   },
   {
    "duration": 8,
    "start_time": "2022-07-28T19:54:29.965Z"
   },
   {
    "duration": 5,
    "start_time": "2022-07-28T19:54:29.975Z"
   },
   {
    "duration": 7,
    "start_time": "2022-07-28T19:54:29.982Z"
   },
   {
    "duration": 33,
    "start_time": "2022-07-28T19:54:29.991Z"
   },
   {
    "duration": 5,
    "start_time": "2022-07-28T19:54:30.026Z"
   },
   {
    "duration": 5,
    "start_time": "2022-07-28T19:54:30.033Z"
   },
   {
    "duration": 12,
    "start_time": "2022-07-28T19:54:30.039Z"
   },
   {
    "duration": 6,
    "start_time": "2022-07-28T19:54:30.052Z"
   },
   {
    "duration": 12,
    "start_time": "2022-07-28T19:54:30.059Z"
   },
   {
    "duration": 16,
    "start_time": "2022-07-28T19:54:30.072Z"
   },
   {
    "duration": 9,
    "start_time": "2022-07-28T19:54:30.090Z"
   },
   {
    "duration": 5,
    "start_time": "2022-07-28T19:54:30.101Z"
   },
   {
    "duration": 5,
    "start_time": "2022-07-28T19:54:30.108Z"
   },
   {
    "duration": 7,
    "start_time": "2022-07-28T19:54:30.114Z"
   },
   {
    "duration": 9,
    "start_time": "2022-07-28T19:54:30.122Z"
   },
   {
    "duration": 12,
    "start_time": "2022-07-28T19:54:30.133Z"
   },
   {
    "duration": 23,
    "start_time": "2022-07-28T19:54:48.364Z"
   },
   {
    "duration": 26,
    "start_time": "2022-07-28T19:54:53.176Z"
   },
   {
    "duration": 88,
    "start_time": "2022-07-28T19:54:59.913Z"
   },
   {
    "duration": 18,
    "start_time": "2022-07-28T19:55:00.004Z"
   },
   {
    "duration": 33,
    "start_time": "2022-07-28T19:55:00.024Z"
   },
   {
    "duration": 25,
    "start_time": "2022-07-28T19:55:00.059Z"
   },
   {
    "duration": 67,
    "start_time": "2022-07-28T19:55:00.088Z"
   },
   {
    "duration": 10,
    "start_time": "2022-07-28T19:55:00.158Z"
   },
   {
    "duration": 18,
    "start_time": "2022-07-28T19:55:00.170Z"
   },
   {
    "duration": 35,
    "start_time": "2022-07-28T19:55:00.190Z"
   },
   {
    "duration": 12,
    "start_time": "2022-07-28T19:55:00.226Z"
   },
   {
    "duration": 6,
    "start_time": "2022-07-28T19:55:00.240Z"
   },
   {
    "duration": 11,
    "start_time": "2022-07-28T19:55:00.248Z"
   },
   {
    "duration": 10,
    "start_time": "2022-07-28T19:55:00.261Z"
   },
   {
    "duration": 8,
    "start_time": "2022-07-28T19:55:00.273Z"
   },
   {
    "duration": 21,
    "start_time": "2022-07-28T19:55:00.284Z"
   },
   {
    "duration": 8,
    "start_time": "2022-07-28T19:55:00.307Z"
   },
   {
    "duration": 10,
    "start_time": "2022-07-28T19:55:00.317Z"
   },
   {
    "duration": 13,
    "start_time": "2022-07-28T19:55:00.329Z"
   },
   {
    "duration": 12,
    "start_time": "2022-07-28T19:55:00.344Z"
   },
   {
    "duration": 15,
    "start_time": "2022-07-28T19:55:00.358Z"
   },
   {
    "duration": 4,
    "start_time": "2022-07-28T19:55:00.375Z"
   },
   {
    "duration": 16,
    "start_time": "2022-07-28T19:55:00.381Z"
   },
   {
    "duration": 9,
    "start_time": "2022-07-28T19:55:00.398Z"
   },
   {
    "duration": 6,
    "start_time": "2022-07-28T19:55:00.423Z"
   },
   {
    "duration": 11,
    "start_time": "2022-07-28T19:55:00.430Z"
   },
   {
    "duration": 21,
    "start_time": "2022-07-28T19:55:00.443Z"
   },
   {
    "duration": 2,
    "start_time": "2022-07-28T19:55:00.466Z"
   },
   {
    "duration": 16,
    "start_time": "2022-07-28T19:55:00.470Z"
   },
   {
    "duration": 10,
    "start_time": "2022-07-28T19:55:00.487Z"
   },
   {
    "duration": 32,
    "start_time": "2022-07-28T19:55:00.499Z"
   },
   {
    "duration": 18,
    "start_time": "2022-07-28T19:55:00.533Z"
   },
   {
    "duration": 18,
    "start_time": "2022-07-28T19:55:00.553Z"
   },
   {
    "duration": 18,
    "start_time": "2022-07-28T19:55:00.573Z"
   },
   {
    "duration": 37,
    "start_time": "2022-07-28T19:55:00.593Z"
   },
   {
    "duration": 3,
    "start_time": "2022-07-28T19:55:00.631Z"
   },
   {
    "duration": 14,
    "start_time": "2022-07-28T19:55:00.636Z"
   },
   {
    "duration": 20,
    "start_time": "2022-07-28T19:55:00.652Z"
   },
   {
    "duration": 26,
    "start_time": "2022-07-28T19:55:00.674Z"
   },
   {
    "duration": 28,
    "start_time": "2022-07-28T19:55:00.701Z"
   },
   {
    "duration": 29,
    "start_time": "2022-07-28T19:55:00.731Z"
   },
   {
    "duration": 13,
    "start_time": "2022-07-28T19:55:00.761Z"
   },
   {
    "duration": 21,
    "start_time": "2022-07-28T19:55:00.779Z"
   },
   {
    "duration": 18,
    "start_time": "2022-07-28T19:55:00.802Z"
   },
   {
    "duration": 34,
    "start_time": "2022-07-28T19:55:00.822Z"
   },
   {
    "duration": 9,
    "start_time": "2022-07-28T19:55:00.858Z"
   },
   {
    "duration": 17,
    "start_time": "2022-07-28T19:55:00.868Z"
   },
   {
    "duration": 7,
    "start_time": "2022-07-28T19:55:00.887Z"
   },
   {
    "duration": 18,
    "start_time": "2022-07-28T19:55:00.895Z"
   },
   {
    "duration": 16,
    "start_time": "2022-07-28T19:55:00.915Z"
   },
   {
    "duration": 26,
    "start_time": "2022-07-28T19:55:00.933Z"
   },
   {
    "duration": 17,
    "start_time": "2022-07-28T19:55:00.961Z"
   },
   {
    "duration": 19,
    "start_time": "2022-07-28T19:55:00.980Z"
   },
   {
    "duration": 33,
    "start_time": "2022-07-28T19:55:01.000Z"
   },
   {
    "duration": 17,
    "start_time": "2022-07-28T19:55:01.035Z"
   },
   {
    "duration": 12,
    "start_time": "2022-07-28T19:55:01.054Z"
   },
   {
    "duration": 9,
    "start_time": "2022-07-28T19:55:01.068Z"
   },
   {
    "duration": 37,
    "start_time": "2022-07-28T19:55:01.079Z"
   },
   {
    "duration": 13,
    "start_time": "2022-07-28T19:55:01.117Z"
   },
   {
    "duration": 26,
    "start_time": "2022-07-28T19:55:01.132Z"
   },
   {
    "duration": 15,
    "start_time": "2022-07-28T19:55:01.160Z"
   },
   {
    "duration": 29,
    "start_time": "2022-07-28T19:55:01.177Z"
   },
   {
    "duration": 27,
    "start_time": "2022-07-28T19:55:01.207Z"
   },
   {
    "duration": 38,
    "start_time": "2022-07-28T19:55:01.236Z"
   },
   {
    "duration": 34,
    "start_time": "2022-07-28T19:55:01.276Z"
   },
   {
    "duration": 33,
    "start_time": "2022-07-28T19:55:01.312Z"
   },
   {
    "duration": 27,
    "start_time": "2022-07-28T19:55:01.347Z"
   },
   {
    "duration": 11,
    "start_time": "2022-07-28T19:55:01.376Z"
   },
   {
    "duration": 6,
    "start_time": "2022-07-28T19:55:01.388Z"
   },
   {
    "duration": 27,
    "start_time": "2022-07-28T19:55:01.395Z"
   },
   {
    "duration": 17,
    "start_time": "2022-07-28T19:55:01.425Z"
   },
   {
    "duration": 32,
    "start_time": "2022-07-28T19:55:01.444Z"
   },
   {
    "duration": 9,
    "start_time": "2022-07-28T19:55:01.479Z"
   },
   {
    "duration": 16,
    "start_time": "2022-07-28T20:05:06.278Z"
   },
   {
    "duration": 79,
    "start_time": "2022-07-28T20:05:53.271Z"
   },
   {
    "duration": 17,
    "start_time": "2022-07-28T20:05:53.352Z"
   },
   {
    "duration": 19,
    "start_time": "2022-07-28T20:05:53.370Z"
   },
   {
    "duration": 39,
    "start_time": "2022-07-28T20:05:53.391Z"
   },
   {
    "duration": 53,
    "start_time": "2022-07-28T20:05:53.434Z"
   },
   {
    "duration": 16,
    "start_time": "2022-07-28T20:05:53.523Z"
   },
   {
    "duration": 7,
    "start_time": "2022-07-28T20:05:53.542Z"
   },
   {
    "duration": 5,
    "start_time": "2022-07-28T20:05:53.551Z"
   },
   {
    "duration": 4,
    "start_time": "2022-07-28T20:05:53.558Z"
   },
   {
    "duration": 4,
    "start_time": "2022-07-28T20:05:53.564Z"
   },
   {
    "duration": 5,
    "start_time": "2022-07-28T20:05:53.569Z"
   },
   {
    "duration": 5,
    "start_time": "2022-07-28T20:05:53.576Z"
   },
   {
    "duration": 42,
    "start_time": "2022-07-28T20:05:53.583Z"
   },
   {
    "duration": 10,
    "start_time": "2022-07-28T20:05:53.630Z"
   },
   {
    "duration": 11,
    "start_time": "2022-07-28T20:05:53.642Z"
   },
   {
    "duration": 10,
    "start_time": "2022-07-28T20:05:53.655Z"
   },
   {
    "duration": 4,
    "start_time": "2022-07-28T20:05:53.667Z"
   },
   {
    "duration": 7,
    "start_time": "2022-07-28T20:05:53.673Z"
   },
   {
    "duration": 48,
    "start_time": "2022-07-28T20:05:53.682Z"
   },
   {
    "duration": 3,
    "start_time": "2022-07-28T20:05:53.732Z"
   },
   {
    "duration": 11,
    "start_time": "2022-07-28T20:05:53.737Z"
   },
   {
    "duration": 7,
    "start_time": "2022-07-28T20:05:53.750Z"
   },
   {
    "duration": 7,
    "start_time": "2022-07-28T20:05:53.759Z"
   },
   {
    "duration": 9,
    "start_time": "2022-07-28T20:05:53.767Z"
   },
   {
    "duration": 46,
    "start_time": "2022-07-28T20:05:53.778Z"
   },
   {
    "duration": 3,
    "start_time": "2022-07-28T20:05:53.826Z"
   },
   {
    "duration": 10,
    "start_time": "2022-07-28T20:05:53.830Z"
   },
   {
    "duration": 4,
    "start_time": "2022-07-28T20:05:53.842Z"
   },
   {
    "duration": 8,
    "start_time": "2022-07-28T20:05:53.848Z"
   },
   {
    "duration": 10,
    "start_time": "2022-07-28T20:05:53.858Z"
   },
   {
    "duration": 5,
    "start_time": "2022-07-28T20:05:53.870Z"
   },
   {
    "duration": 48,
    "start_time": "2022-07-28T20:05:53.877Z"
   },
   {
    "duration": 24,
    "start_time": "2022-07-28T20:05:53.927Z"
   },
   {
    "duration": 3,
    "start_time": "2022-07-28T20:05:53.953Z"
   },
   {
    "duration": 5,
    "start_time": "2022-07-28T20:05:53.958Z"
   },
   {
    "duration": 14,
    "start_time": "2022-07-28T20:05:53.965Z"
   },
   {
    "duration": 5,
    "start_time": "2022-07-28T20:05:53.981Z"
   },
   {
    "duration": 5,
    "start_time": "2022-07-28T20:05:53.987Z"
   },
   {
    "duration": 9,
    "start_time": "2022-07-28T20:05:53.994Z"
   },
   {
    "duration": 19,
    "start_time": "2022-07-28T20:05:54.004Z"
   },
   {
    "duration": 3,
    "start_time": "2022-07-28T20:05:54.027Z"
   },
   {
    "duration": 4,
    "start_time": "2022-07-28T20:05:54.032Z"
   },
   {
    "duration": 5,
    "start_time": "2022-07-28T20:05:54.038Z"
   },
   {
    "duration": 5,
    "start_time": "2022-07-28T20:05:54.044Z"
   },
   {
    "duration": 5,
    "start_time": "2022-07-28T20:05:54.050Z"
   },
   {
    "duration": 12,
    "start_time": "2022-07-28T20:05:54.057Z"
   },
   {
    "duration": 6,
    "start_time": "2022-07-28T20:05:54.070Z"
   },
   {
    "duration": 5,
    "start_time": "2022-07-28T20:05:54.077Z"
   },
   {
    "duration": 5,
    "start_time": "2022-07-28T20:05:54.083Z"
   },
   {
    "duration": 5,
    "start_time": "2022-07-28T20:05:54.089Z"
   },
   {
    "duration": 28,
    "start_time": "2022-07-28T20:05:54.096Z"
   },
   {
    "duration": 6,
    "start_time": "2022-07-28T20:05:54.126Z"
   },
   {
    "duration": 5,
    "start_time": "2022-07-28T20:05:54.135Z"
   },
   {
    "duration": 3,
    "start_time": "2022-07-28T20:05:54.142Z"
   },
   {
    "duration": 5,
    "start_time": "2022-07-28T20:05:54.147Z"
   },
   {
    "duration": 5,
    "start_time": "2022-07-28T20:05:54.154Z"
   },
   {
    "duration": 5,
    "start_time": "2022-07-28T20:05:54.161Z"
   },
   {
    "duration": 5,
    "start_time": "2022-07-28T20:05:54.167Z"
   },
   {
    "duration": 7,
    "start_time": "2022-07-28T20:05:54.173Z"
   },
   {
    "duration": 5,
    "start_time": "2022-07-28T20:05:54.181Z"
   },
   {
    "duration": 6,
    "start_time": "2022-07-28T20:05:54.188Z"
   },
   {
    "duration": 28,
    "start_time": "2022-07-28T20:05:54.195Z"
   },
   {
    "duration": 6,
    "start_time": "2022-07-28T20:05:54.225Z"
   },
   {
    "duration": 4,
    "start_time": "2022-07-28T20:05:54.233Z"
   },
   {
    "duration": 6,
    "start_time": "2022-07-28T20:05:54.239Z"
   },
   {
    "duration": 5,
    "start_time": "2022-07-28T20:05:54.247Z"
   },
   {
    "duration": 5,
    "start_time": "2022-07-28T20:05:54.253Z"
   },
   {
    "duration": 5,
    "start_time": "2022-07-28T20:05:54.259Z"
   },
   {
    "duration": 4,
    "start_time": "2022-07-28T20:05:54.266Z"
   },
   {
    "duration": 8,
    "start_time": "2022-07-28T20:05:54.271Z"
   },
   {
    "duration": 7,
    "start_time": "2022-07-28T20:05:54.280Z"
   },
   {
    "duration": 17,
    "start_time": "2022-07-28T20:06:05.540Z"
   },
   {
    "duration": 16,
    "start_time": "2022-07-28T20:11:01.868Z"
   },
   {
    "duration": 24,
    "start_time": "2022-07-28T20:11:06.408Z"
   },
   {
    "duration": 21,
    "start_time": "2022-07-28T20:11:08.722Z"
   },
   {
    "duration": 14,
    "start_time": "2022-07-28T20:11:35.277Z"
   },
   {
    "duration": 5,
    "start_time": "2022-07-28T20:12:54.847Z"
   },
   {
    "duration": 77,
    "start_time": "2022-07-28T20:13:05.539Z"
   },
   {
    "duration": 18,
    "start_time": "2022-07-28T20:13:05.618Z"
   },
   {
    "duration": 32,
    "start_time": "2022-07-28T20:13:05.638Z"
   },
   {
    "duration": 29,
    "start_time": "2022-07-28T20:13:05.672Z"
   },
   {
    "duration": 63,
    "start_time": "2022-07-28T20:13:05.703Z"
   },
   {
    "duration": 16,
    "start_time": "2022-07-28T20:13:05.767Z"
   },
   {
    "duration": 21,
    "start_time": "2022-07-28T20:13:05.785Z"
   },
   {
    "duration": 10,
    "start_time": "2022-07-28T20:13:05.808Z"
   },
   {
    "duration": 43,
    "start_time": "2022-07-28T20:13:05.819Z"
   },
   {
    "duration": 43,
    "start_time": "2022-07-28T20:13:05.863Z"
   },
   {
    "duration": 34,
    "start_time": "2022-07-28T20:13:05.909Z"
   },
   {
    "duration": 34,
    "start_time": "2022-07-28T20:13:05.945Z"
   },
   {
    "duration": 32,
    "start_time": "2022-07-28T20:13:05.981Z"
   },
   {
    "duration": 20,
    "start_time": "2022-07-28T20:13:06.016Z"
   },
   {
    "duration": 35,
    "start_time": "2022-07-28T20:13:06.043Z"
   },
   {
    "duration": 37,
    "start_time": "2022-07-28T20:13:06.079Z"
   },
   {
    "duration": 35,
    "start_time": "2022-07-28T20:13:06.117Z"
   },
   {
    "duration": 32,
    "start_time": "2022-07-28T20:13:06.154Z"
   },
   {
    "duration": 48,
    "start_time": "2022-07-28T20:13:06.187Z"
   },
   {
    "duration": 34,
    "start_time": "2022-07-28T20:13:06.237Z"
   },
   {
    "duration": 35,
    "start_time": "2022-07-28T20:13:06.272Z"
   },
   {
    "duration": 44,
    "start_time": "2022-07-28T20:13:06.309Z"
   },
   {
    "duration": 25,
    "start_time": "2022-07-28T20:13:06.354Z"
   },
   {
    "duration": 29,
    "start_time": "2022-07-28T20:13:06.380Z"
   },
   {
    "duration": 32,
    "start_time": "2022-07-28T20:13:06.411Z"
   },
   {
    "duration": 13,
    "start_time": "2022-07-28T20:13:06.444Z"
   },
   {
    "duration": 28,
    "start_time": "2022-07-28T20:13:06.459Z"
   },
   {
    "duration": 22,
    "start_time": "2022-07-28T20:13:06.491Z"
   },
   {
    "duration": 32,
    "start_time": "2022-07-28T20:13:06.514Z"
   },
   {
    "duration": 37,
    "start_time": "2022-07-28T20:13:06.547Z"
   },
   {
    "duration": 18,
    "start_time": "2022-07-28T20:13:06.586Z"
   },
   {
    "duration": 19,
    "start_time": "2022-07-28T20:13:06.606Z"
   },
   {
    "duration": 44,
    "start_time": "2022-07-28T20:13:06.629Z"
   },
   {
    "duration": 44,
    "start_time": "2022-07-28T20:13:06.674Z"
   },
   {
    "duration": 20,
    "start_time": "2022-07-28T20:13:06.720Z"
   },
   {
    "duration": 23,
    "start_time": "2022-07-28T20:13:06.742Z"
   },
   {
    "duration": 15,
    "start_time": "2022-07-28T20:13:06.767Z"
   },
   {
    "duration": 18,
    "start_time": "2022-07-28T20:13:06.783Z"
   },
   {
    "duration": 32,
    "start_time": "2022-07-28T20:13:06.803Z"
   },
   {
    "duration": 19,
    "start_time": "2022-07-28T20:13:06.837Z"
   },
   {
    "duration": 26,
    "start_time": "2022-07-28T20:13:06.858Z"
   },
   {
    "duration": 57,
    "start_time": "2022-07-28T20:13:06.886Z"
   },
   {
    "duration": 20,
    "start_time": "2022-07-28T20:13:06.945Z"
   },
   {
    "duration": 29,
    "start_time": "2022-07-28T20:13:06.967Z"
   },
   {
    "duration": 34,
    "start_time": "2022-07-28T20:13:06.998Z"
   },
   {
    "duration": 19,
    "start_time": "2022-07-28T20:13:07.035Z"
   },
   {
    "duration": 27,
    "start_time": "2022-07-28T20:13:07.056Z"
   },
   {
    "duration": 12,
    "start_time": "2022-07-28T20:13:07.085Z"
   },
   {
    "duration": 32,
    "start_time": "2022-07-28T20:13:07.099Z"
   },
   {
    "duration": 28,
    "start_time": "2022-07-28T20:13:07.134Z"
   },
   {
    "duration": 17,
    "start_time": "2022-07-28T20:13:07.164Z"
   },
   {
    "duration": 29,
    "start_time": "2022-07-28T20:13:07.183Z"
   },
   {
    "duration": 25,
    "start_time": "2022-07-28T20:13:07.214Z"
   },
   {
    "duration": 15,
    "start_time": "2022-07-28T20:13:07.241Z"
   },
   {
    "duration": 26,
    "start_time": "2022-07-28T20:13:07.257Z"
   },
   {
    "duration": 37,
    "start_time": "2022-07-28T20:13:07.284Z"
   },
   {
    "duration": 49,
    "start_time": "2022-07-28T20:13:07.323Z"
   },
   {
    "duration": 20,
    "start_time": "2022-07-28T20:13:07.374Z"
   },
   {
    "duration": 36,
    "start_time": "2022-07-28T20:13:07.396Z"
   },
   {
    "duration": 14,
    "start_time": "2022-07-28T20:13:07.435Z"
   },
   {
    "duration": 22,
    "start_time": "2022-07-28T20:13:07.451Z"
   },
   {
    "duration": 25,
    "start_time": "2022-07-28T20:13:07.475Z"
   },
   {
    "duration": 35,
    "start_time": "2022-07-28T20:13:07.502Z"
   },
   {
    "duration": 26,
    "start_time": "2022-07-28T20:13:07.538Z"
   },
   {
    "duration": 18,
    "start_time": "2022-07-28T20:13:07.566Z"
   },
   {
    "duration": 22,
    "start_time": "2022-07-28T20:13:07.586Z"
   },
   {
    "duration": 29,
    "start_time": "2022-07-28T20:13:07.609Z"
   },
   {
    "duration": 21,
    "start_time": "2022-07-28T20:13:07.639Z"
   },
   {
    "duration": 26,
    "start_time": "2022-07-28T20:13:07.661Z"
   },
   {
    "duration": 17,
    "start_time": "2022-07-28T20:13:07.688Z"
   },
   {
    "duration": 38,
    "start_time": "2022-07-28T20:13:07.707Z"
   },
   {
    "duration": 6,
    "start_time": "2022-07-28T20:13:38.283Z"
   },
   {
    "duration": 12,
    "start_time": "2022-07-28T20:13:48.943Z"
   },
   {
    "duration": 9,
    "start_time": "2022-07-28T20:14:06.445Z"
   },
   {
    "duration": 10,
    "start_time": "2022-07-28T20:14:08.811Z"
   },
   {
    "duration": 116,
    "start_time": "2022-07-28T20:14:35.921Z"
   },
   {
    "duration": 19,
    "start_time": "2022-07-28T20:14:36.039Z"
   },
   {
    "duration": 25,
    "start_time": "2022-07-28T20:14:36.059Z"
   },
   {
    "duration": 14,
    "start_time": "2022-07-28T20:14:36.086Z"
   },
   {
    "duration": 36,
    "start_time": "2022-07-28T20:14:36.125Z"
   },
   {
    "duration": 10,
    "start_time": "2022-07-28T20:14:36.163Z"
   },
   {
    "duration": 9,
    "start_time": "2022-07-28T20:14:36.174Z"
   },
   {
    "duration": 6,
    "start_time": "2022-07-28T20:14:36.184Z"
   },
   {
    "duration": 40,
    "start_time": "2022-07-28T20:14:36.192Z"
   },
   {
    "duration": 3,
    "start_time": "2022-07-28T20:14:36.233Z"
   },
   {
    "duration": 5,
    "start_time": "2022-07-28T20:14:36.238Z"
   },
   {
    "duration": 8,
    "start_time": "2022-07-28T20:14:36.244Z"
   },
   {
    "duration": 9,
    "start_time": "2022-07-28T20:14:36.253Z"
   },
   {
    "duration": 9,
    "start_time": "2022-07-28T20:14:36.265Z"
   },
   {
    "duration": 10,
    "start_time": "2022-07-28T20:14:36.276Z"
   },
   {
    "duration": 14,
    "start_time": "2022-07-28T20:14:36.287Z"
   },
   {
    "duration": 10,
    "start_time": "2022-07-28T20:14:36.303Z"
   },
   {
    "duration": 6,
    "start_time": "2022-07-28T20:14:36.332Z"
   },
   {
    "duration": 12,
    "start_time": "2022-07-28T20:14:36.340Z"
   },
   {
    "duration": 5,
    "start_time": "2022-07-28T20:14:36.353Z"
   },
   {
    "duration": 12,
    "start_time": "2022-07-28T20:14:36.359Z"
   },
   {
    "duration": 6,
    "start_time": "2022-07-28T20:14:36.373Z"
   },
   {
    "duration": 5,
    "start_time": "2022-07-28T20:14:36.380Z"
   },
   {
    "duration": 41,
    "start_time": "2022-07-28T20:14:36.387Z"
   },
   {
    "duration": 16,
    "start_time": "2022-07-28T20:14:36.429Z"
   },
   {
    "duration": 4,
    "start_time": "2022-07-28T20:14:36.446Z"
   },
   {
    "duration": 9,
    "start_time": "2022-07-28T20:14:36.452Z"
   },
   {
    "duration": 11,
    "start_time": "2022-07-28T20:14:36.463Z"
   },
   {
    "duration": 11,
    "start_time": "2022-07-28T20:14:36.476Z"
   },
   {
    "duration": 11,
    "start_time": "2022-07-28T20:14:36.488Z"
   },
   {
    "duration": 35,
    "start_time": "2022-07-28T20:14:36.501Z"
   },
   {
    "duration": 11,
    "start_time": "2022-07-28T20:14:36.538Z"
   },
   {
    "duration": 18,
    "start_time": "2022-07-28T20:14:36.551Z"
   },
   {
    "duration": 20,
    "start_time": "2022-07-28T20:14:36.570Z"
   },
   {
    "duration": 46,
    "start_time": "2022-07-28T20:14:36.591Z"
   },
   {
    "duration": 14,
    "start_time": "2022-07-28T20:14:36.639Z"
   },
   {
    "duration": 2,
    "start_time": "2022-07-28T20:14:36.655Z"
   },
   {
    "duration": 4,
    "start_time": "2022-07-28T20:14:36.659Z"
   },
   {
    "duration": 5,
    "start_time": "2022-07-28T20:14:36.664Z"
   },
   {
    "duration": 4,
    "start_time": "2022-07-28T20:14:36.671Z"
   },
   {
    "duration": 6,
    "start_time": "2022-07-28T20:14:36.678Z"
   },
   {
    "duration": 9,
    "start_time": "2022-07-28T20:14:36.685Z"
   },
   {
    "duration": 9,
    "start_time": "2022-07-28T20:14:36.695Z"
   },
   {
    "duration": 28,
    "start_time": "2022-07-28T20:14:36.705Z"
   },
   {
    "duration": 5,
    "start_time": "2022-07-28T20:14:36.736Z"
   },
   {
    "duration": 4,
    "start_time": "2022-07-28T20:14:36.743Z"
   },
   {
    "duration": 6,
    "start_time": "2022-07-28T20:14:36.749Z"
   },
   {
    "duration": 6,
    "start_time": "2022-07-28T20:14:36.757Z"
   },
   {
    "duration": 7,
    "start_time": "2022-07-28T20:14:36.764Z"
   },
   {
    "duration": 6,
    "start_time": "2022-07-28T20:14:36.772Z"
   },
   {
    "duration": 10,
    "start_time": "2022-07-28T20:14:36.779Z"
   },
   {
    "duration": 23,
    "start_time": "2022-07-28T20:14:36.791Z"
   },
   {
    "duration": 28,
    "start_time": "2022-07-28T20:14:36.816Z"
   },
   {
    "duration": 36,
    "start_time": "2022-07-28T20:14:36.846Z"
   },
   {
    "duration": 14,
    "start_time": "2022-07-28T20:14:36.883Z"
   },
   {
    "duration": 16,
    "start_time": "2022-07-28T20:14:36.899Z"
   },
   {
    "duration": 25,
    "start_time": "2022-07-28T20:14:36.917Z"
   },
   {
    "duration": 14,
    "start_time": "2022-07-28T20:14:36.944Z"
   },
   {
    "duration": 20,
    "start_time": "2022-07-28T20:14:36.960Z"
   },
   {
    "duration": 13,
    "start_time": "2022-07-28T20:14:36.981Z"
   },
   {
    "duration": 17,
    "start_time": "2022-07-28T20:14:36.996Z"
   },
   {
    "duration": 31,
    "start_time": "2022-07-28T20:14:37.015Z"
   },
   {
    "duration": 29,
    "start_time": "2022-07-28T20:14:37.047Z"
   },
   {
    "duration": 16,
    "start_time": "2022-07-28T20:14:37.078Z"
   },
   {
    "duration": 26,
    "start_time": "2022-07-28T20:14:37.095Z"
   },
   {
    "duration": 36,
    "start_time": "2022-07-28T20:14:37.123Z"
   },
   {
    "duration": 15,
    "start_time": "2022-07-28T20:14:37.161Z"
   },
   {
    "duration": 20,
    "start_time": "2022-07-28T20:14:37.178Z"
   },
   {
    "duration": 14,
    "start_time": "2022-07-28T20:14:37.200Z"
   },
   {
    "duration": 31,
    "start_time": "2022-07-28T20:14:37.216Z"
   },
   {
    "duration": 12,
    "start_time": "2022-07-28T20:14:37.249Z"
   },
   {
    "duration": 25,
    "start_time": "2022-07-28T20:15:10.235Z"
   },
   {
    "duration": 30,
    "start_time": "2022-07-28T20:15:22.362Z"
   },
   {
    "duration": 221,
    "start_time": "2022-07-28T20:17:07.098Z"
   },
   {
    "duration": 223,
    "start_time": "2022-07-28T20:17:28.172Z"
   },
   {
    "duration": 88,
    "start_time": "2022-07-28T20:19:59.914Z"
   },
   {
    "duration": 14,
    "start_time": "2022-07-28T20:20:00.004Z"
   },
   {
    "duration": 22,
    "start_time": "2022-07-28T20:20:00.020Z"
   },
   {
    "duration": 20,
    "start_time": "2022-07-28T20:20:00.044Z"
   },
   {
    "duration": 65,
    "start_time": "2022-07-28T20:20:00.066Z"
   },
   {
    "duration": 12,
    "start_time": "2022-07-28T20:20:00.133Z"
   },
   {
    "duration": 15,
    "start_time": "2022-07-28T20:20:00.146Z"
   },
   {
    "duration": 7,
    "start_time": "2022-07-28T20:20:00.163Z"
   },
   {
    "duration": 24,
    "start_time": "2022-07-28T20:20:00.171Z"
   },
   {
    "duration": 12,
    "start_time": "2022-07-28T20:20:00.199Z"
   },
   {
    "duration": 46,
    "start_time": "2022-07-28T20:20:00.213Z"
   },
   {
    "duration": 36,
    "start_time": "2022-07-28T20:20:00.261Z"
   },
   {
    "duration": 35,
    "start_time": "2022-07-28T20:20:00.298Z"
   },
   {
    "duration": 68,
    "start_time": "2022-07-28T20:20:00.335Z"
   },
   {
    "duration": 31,
    "start_time": "2022-07-28T20:20:00.405Z"
   },
   {
    "duration": 29,
    "start_time": "2022-07-28T20:20:00.440Z"
   },
   {
    "duration": 20,
    "start_time": "2022-07-28T20:20:00.471Z"
   },
   {
    "duration": 25,
    "start_time": "2022-07-28T20:20:00.493Z"
   },
   {
    "duration": 55,
    "start_time": "2022-07-28T20:20:00.519Z"
   },
   {
    "duration": 27,
    "start_time": "2022-07-28T20:20:00.576Z"
   },
   {
    "duration": 31,
    "start_time": "2022-07-28T20:20:00.605Z"
   },
   {
    "duration": 19,
    "start_time": "2022-07-28T20:20:00.638Z"
   },
   {
    "duration": 45,
    "start_time": "2022-07-28T20:20:00.659Z"
   },
   {
    "duration": 41,
    "start_time": "2022-07-28T20:20:00.706Z"
   },
   {
    "duration": 32,
    "start_time": "2022-07-28T20:20:00.749Z"
   },
   {
    "duration": 27,
    "start_time": "2022-07-28T20:20:00.783Z"
   },
   {
    "duration": 45,
    "start_time": "2022-07-28T20:20:00.812Z"
   },
   {
    "duration": 52,
    "start_time": "2022-07-28T20:20:00.861Z"
   },
   {
    "duration": 81,
    "start_time": "2022-07-28T20:20:00.915Z"
   },
   {
    "duration": 50,
    "start_time": "2022-07-28T20:20:00.998Z"
   },
   {
    "duration": 41,
    "start_time": "2022-07-28T20:20:01.050Z"
   },
   {
    "duration": 63,
    "start_time": "2022-07-28T20:20:01.093Z"
   },
   {
    "duration": 35,
    "start_time": "2022-07-28T20:20:01.158Z"
   },
   {
    "duration": 44,
    "start_time": "2022-07-28T20:20:01.195Z"
   },
   {
    "duration": 49,
    "start_time": "2022-07-28T20:20:01.241Z"
   },
   {
    "duration": 27,
    "start_time": "2022-07-28T20:20:01.292Z"
   },
   {
    "duration": 32,
    "start_time": "2022-07-28T20:20:01.320Z"
   },
   {
    "duration": 57,
    "start_time": "2022-07-28T20:20:01.354Z"
   },
   {
    "duration": 34,
    "start_time": "2022-07-28T20:20:01.413Z"
   },
   {
    "duration": 38,
    "start_time": "2022-07-28T20:20:01.449Z"
   },
   {
    "duration": 30,
    "start_time": "2022-07-28T20:20:01.489Z"
   },
   {
    "duration": 28,
    "start_time": "2022-07-28T20:20:01.521Z"
   },
   {
    "duration": 21,
    "start_time": "2022-07-28T20:20:01.551Z"
   },
   {
    "duration": 13,
    "start_time": "2022-07-28T20:20:01.574Z"
   },
   {
    "duration": 33,
    "start_time": "2022-07-28T20:20:01.588Z"
   },
   {
    "duration": 38,
    "start_time": "2022-07-28T20:20:01.623Z"
   },
   {
    "duration": 22,
    "start_time": "2022-07-28T20:20:01.662Z"
   },
   {
    "duration": 58,
    "start_time": "2022-07-28T20:20:01.686Z"
   },
   {
    "duration": 11,
    "start_time": "2022-07-28T20:20:01.746Z"
   },
   {
    "duration": 16,
    "start_time": "2022-07-28T20:20:01.759Z"
   },
   {
    "duration": 36,
    "start_time": "2022-07-28T20:20:01.777Z"
   },
   {
    "duration": 45,
    "start_time": "2022-07-28T20:20:01.814Z"
   },
   {
    "duration": 45,
    "start_time": "2022-07-28T20:20:01.861Z"
   },
   {
    "duration": 29,
    "start_time": "2022-07-28T20:20:01.907Z"
   },
   {
    "duration": 23,
    "start_time": "2022-07-28T20:20:01.938Z"
   },
   {
    "duration": 27,
    "start_time": "2022-07-28T20:20:01.963Z"
   },
   {
    "duration": 44,
    "start_time": "2022-07-28T20:20:01.991Z"
   },
   {
    "duration": 21,
    "start_time": "2022-07-28T20:20:02.037Z"
   },
   {
    "duration": 21,
    "start_time": "2022-07-28T20:20:02.060Z"
   },
   {
    "duration": 13,
    "start_time": "2022-07-28T20:20:02.083Z"
   },
   {
    "duration": 39,
    "start_time": "2022-07-28T20:20:02.098Z"
   },
   {
    "duration": 50,
    "start_time": "2022-07-28T20:20:02.139Z"
   },
   {
    "duration": 35,
    "start_time": "2022-07-28T20:20:02.190Z"
   },
   {
    "duration": 44,
    "start_time": "2022-07-28T20:20:02.227Z"
   },
   {
    "duration": 95,
    "start_time": "2022-07-28T20:20:02.273Z"
   },
   {
    "duration": 52,
    "start_time": "2022-07-28T20:20:02.370Z"
   },
   {
    "duration": 59,
    "start_time": "2022-07-28T20:20:02.424Z"
   },
   {
    "duration": 54,
    "start_time": "2022-07-28T20:20:02.484Z"
   },
   {
    "duration": 29,
    "start_time": "2022-07-28T20:20:02.540Z"
   },
   {
    "duration": 53,
    "start_time": "2022-07-28T20:20:02.570Z"
   },
   {
    "duration": 44,
    "start_time": "2022-07-28T20:20:02.625Z"
   },
   {
    "duration": 5,
    "start_time": "2022-07-28T20:21:40.776Z"
   },
   {
    "duration": 14,
    "start_time": "2022-07-28T20:21:47.324Z"
   },
   {
    "duration": 90,
    "start_time": "2022-07-28T20:21:50.247Z"
   },
   {
    "duration": 15,
    "start_time": "2022-07-28T20:21:50.339Z"
   },
   {
    "duration": 15,
    "start_time": "2022-07-28T20:21:50.356Z"
   },
   {
    "duration": 13,
    "start_time": "2022-07-28T20:21:50.373Z"
   },
   {
    "duration": 46,
    "start_time": "2022-07-28T20:21:50.424Z"
   },
   {
    "duration": 12,
    "start_time": "2022-07-28T20:21:50.472Z"
   },
   {
    "duration": 8,
    "start_time": "2022-07-28T20:21:50.485Z"
   },
   {
    "duration": 4,
    "start_time": "2022-07-28T20:21:50.495Z"
   },
   {
    "duration": 9,
    "start_time": "2022-07-28T20:21:50.501Z"
   },
   {
    "duration": 28,
    "start_time": "2022-07-28T20:21:50.511Z"
   },
   {
    "duration": 6,
    "start_time": "2022-07-28T20:21:50.540Z"
   },
   {
    "duration": 5,
    "start_time": "2022-07-28T20:21:50.547Z"
   },
   {
    "duration": 12,
    "start_time": "2022-07-28T20:21:50.554Z"
   },
   {
    "duration": 9,
    "start_time": "2022-07-28T20:21:50.570Z"
   },
   {
    "duration": 9,
    "start_time": "2022-07-28T20:21:50.581Z"
   },
   {
    "duration": 6,
    "start_time": "2022-07-28T20:21:50.592Z"
   },
   {
    "duration": 4,
    "start_time": "2022-07-28T20:21:50.600Z"
   },
   {
    "duration": 20,
    "start_time": "2022-07-28T20:21:50.605Z"
   },
   {
    "duration": 30,
    "start_time": "2022-07-28T20:21:50.626Z"
   },
   {
    "duration": 4,
    "start_time": "2022-07-28T20:21:50.658Z"
   },
   {
    "duration": 10,
    "start_time": "2022-07-28T20:21:50.664Z"
   },
   {
    "duration": 6,
    "start_time": "2022-07-28T20:21:50.675Z"
   },
   {
    "duration": 5,
    "start_time": "2022-07-28T20:21:50.683Z"
   },
   {
    "duration": 15,
    "start_time": "2022-07-28T20:21:50.690Z"
   },
   {
    "duration": 13,
    "start_time": "2022-07-28T20:21:50.733Z"
   },
   {
    "duration": 3,
    "start_time": "2022-07-28T20:21:50.748Z"
   },
   {
    "duration": 12,
    "start_time": "2022-07-28T20:21:50.753Z"
   },
   {
    "duration": 4,
    "start_time": "2022-07-28T20:21:50.766Z"
   },
   {
    "duration": 8,
    "start_time": "2022-07-28T20:21:50.772Z"
   },
   {
    "duration": 8,
    "start_time": "2022-07-28T20:21:50.781Z"
   },
   {
    "duration": 4,
    "start_time": "2022-07-28T20:21:50.791Z"
   },
   {
    "duration": 60,
    "start_time": "2022-07-28T20:21:50.796Z"
   },
   {
    "duration": 16,
    "start_time": "2022-07-28T20:21:50.857Z"
   },
   {
    "duration": 22,
    "start_time": "2022-07-28T20:21:50.874Z"
   },
   {
    "duration": 38,
    "start_time": "2022-07-28T20:21:50.897Z"
   },
   {
    "duration": 19,
    "start_time": "2022-07-28T20:21:50.936Z"
   },
   {
    "duration": 3,
    "start_time": "2022-07-28T20:21:50.957Z"
   },
   {
    "duration": 8,
    "start_time": "2022-07-28T20:21:50.962Z"
   },
   {
    "duration": 10,
    "start_time": "2022-07-28T20:21:50.971Z"
   },
   {
    "duration": 9,
    "start_time": "2022-07-28T20:21:50.982Z"
   },
   {
    "duration": 3,
    "start_time": "2022-07-28T20:21:50.996Z"
   },
   {
    "duration": 10,
    "start_time": "2022-07-28T20:21:51.001Z"
   },
   {
    "duration": 26,
    "start_time": "2022-07-28T20:21:51.013Z"
   },
   {
    "duration": 6,
    "start_time": "2022-07-28T20:21:51.041Z"
   },
   {
    "duration": 5,
    "start_time": "2022-07-28T20:21:51.048Z"
   },
   {
    "duration": 5,
    "start_time": "2022-07-28T20:21:51.054Z"
   },
   {
    "duration": 6,
    "start_time": "2022-07-28T20:21:51.061Z"
   },
   {
    "duration": 5,
    "start_time": "2022-07-28T20:21:51.069Z"
   },
   {
    "duration": 5,
    "start_time": "2022-07-28T20:21:51.075Z"
   },
   {
    "duration": 5,
    "start_time": "2022-07-28T20:21:51.081Z"
   },
   {
    "duration": 6,
    "start_time": "2022-07-28T20:21:51.087Z"
   },
   {
    "duration": 6,
    "start_time": "2022-07-28T20:21:51.094Z"
   },
   {
    "duration": 7,
    "start_time": "2022-07-28T20:21:51.102Z"
   },
   {
    "duration": 5,
    "start_time": "2022-07-28T20:21:51.110Z"
   },
   {
    "duration": 16,
    "start_time": "2022-07-28T20:21:51.123Z"
   },
   {
    "duration": 6,
    "start_time": "2022-07-28T20:21:51.141Z"
   },
   {
    "duration": 5,
    "start_time": "2022-07-28T20:21:51.149Z"
   },
   {
    "duration": 5,
    "start_time": "2022-07-28T20:21:51.155Z"
   },
   {
    "duration": 5,
    "start_time": "2022-07-28T20:21:51.161Z"
   },
   {
    "duration": 4,
    "start_time": "2022-07-28T20:21:51.168Z"
   },
   {
    "duration": 4,
    "start_time": "2022-07-28T20:21:51.174Z"
   },
   {
    "duration": 5,
    "start_time": "2022-07-28T20:21:51.180Z"
   },
   {
    "duration": 6,
    "start_time": "2022-07-28T20:21:51.186Z"
   },
   {
    "duration": 6,
    "start_time": "2022-07-28T20:21:51.194Z"
   },
   {
    "duration": 5,
    "start_time": "2022-07-28T20:21:51.202Z"
   },
   {
    "duration": 14,
    "start_time": "2022-07-28T20:21:51.209Z"
   },
   {
    "duration": 3,
    "start_time": "2022-07-28T20:21:51.225Z"
   },
   {
    "duration": 15,
    "start_time": "2022-07-28T20:21:51.230Z"
   },
   {
    "duration": 9,
    "start_time": "2022-07-28T20:21:51.247Z"
   },
   {
    "duration": 6,
    "start_time": "2022-07-28T20:21:51.258Z"
   },
   {
    "duration": 4,
    "start_time": "2022-07-28T20:21:51.266Z"
   },
   {
    "duration": 16,
    "start_time": "2022-07-28T20:24:24.021Z"
   },
   {
    "duration": 8,
    "start_time": "2022-07-28T20:27:47.804Z"
   },
   {
    "duration": 13,
    "start_time": "2022-07-28T20:28:08.367Z"
   },
   {
    "duration": 34,
    "start_time": "2022-07-28T20:31:35.511Z"
   },
   {
    "duration": 54,
    "start_time": "2022-07-29T11:32:28.540Z"
   },
   {
    "duration": 6,
    "start_time": "2022-07-29T11:32:35.907Z"
   },
   {
    "duration": 8,
    "start_time": "2022-07-29T11:33:05.362Z"
   },
   {
    "duration": 663,
    "start_time": "2022-07-29T11:33:14.902Z"
   },
   {
    "duration": 25,
    "start_time": "2022-07-29T11:33:15.568Z"
   },
   {
    "duration": 45,
    "start_time": "2022-07-29T11:33:15.595Z"
   },
   {
    "duration": 25,
    "start_time": "2022-07-29T11:33:15.649Z"
   },
   {
    "duration": 42,
    "start_time": "2022-07-29T11:33:15.676Z"
   },
   {
    "duration": 17,
    "start_time": "2022-07-29T11:33:15.720Z"
   },
   {
    "duration": 27,
    "start_time": "2022-07-29T11:33:15.740Z"
   },
   {
    "duration": 11,
    "start_time": "2022-07-29T11:33:15.769Z"
   },
   {
    "duration": 19,
    "start_time": "2022-07-29T11:33:15.781Z"
   },
   {
    "duration": 11,
    "start_time": "2022-07-29T11:33:15.803Z"
   },
   {
    "duration": 19,
    "start_time": "2022-07-29T11:33:15.816Z"
   },
   {
    "duration": 27,
    "start_time": "2022-07-29T11:33:15.839Z"
   },
   {
    "duration": 20,
    "start_time": "2022-07-29T11:33:15.869Z"
   },
   {
    "duration": 11,
    "start_time": "2022-07-29T11:33:15.892Z"
   },
   {
    "duration": 26,
    "start_time": "2022-07-29T11:33:15.905Z"
   },
   {
    "duration": 30,
    "start_time": "2022-07-29T11:33:15.933Z"
   },
   {
    "duration": 8,
    "start_time": "2022-07-29T11:33:15.965Z"
   },
   {
    "duration": 20,
    "start_time": "2022-07-29T11:33:15.974Z"
   },
   {
    "duration": 23,
    "start_time": "2022-07-29T11:33:15.996Z"
   },
   {
    "duration": 12,
    "start_time": "2022-07-29T11:33:16.020Z"
   },
   {
    "duration": 20,
    "start_time": "2022-07-29T11:33:16.035Z"
   },
   {
    "duration": 14,
    "start_time": "2022-07-29T11:33:16.057Z"
   },
   {
    "duration": 12,
    "start_time": "2022-07-29T11:33:16.072Z"
   },
   {
    "duration": 17,
    "start_time": "2022-07-29T11:33:16.086Z"
   },
   {
    "duration": 22,
    "start_time": "2022-07-29T11:33:16.105Z"
   },
   {
    "duration": 20,
    "start_time": "2022-07-29T11:33:16.128Z"
   },
   {
    "duration": 21,
    "start_time": "2022-07-29T11:33:16.150Z"
   },
   {
    "duration": 14,
    "start_time": "2022-07-29T11:33:16.173Z"
   },
   {
    "duration": 33,
    "start_time": "2022-07-29T11:33:16.189Z"
   },
   {
    "duration": 32,
    "start_time": "2022-07-29T11:33:16.223Z"
   },
   {
    "duration": 40,
    "start_time": "2022-07-29T11:33:16.257Z"
   },
   {
    "duration": 25,
    "start_time": "2022-07-29T11:33:16.299Z"
   },
   {
    "duration": 29,
    "start_time": "2022-07-29T11:33:16.327Z"
   },
   {
    "duration": 24,
    "start_time": "2022-07-29T11:33:16.358Z"
   },
   {
    "duration": 14,
    "start_time": "2022-07-29T11:33:16.384Z"
   },
   {
    "duration": 24,
    "start_time": "2022-07-29T11:33:16.400Z"
   },
   {
    "duration": 23,
    "start_time": "2022-07-29T11:33:16.426Z"
   },
   {
    "duration": 19,
    "start_time": "2022-07-29T11:33:16.451Z"
   },
   {
    "duration": 12,
    "start_time": "2022-07-29T11:33:16.473Z"
   },
   {
    "duration": 16,
    "start_time": "2022-07-29T11:33:16.487Z"
   },
   {
    "duration": 7,
    "start_time": "2022-07-29T11:33:16.507Z"
   },
   {
    "duration": 12,
    "start_time": "2022-07-29T11:33:16.515Z"
   },
   {
    "duration": 21,
    "start_time": "2022-07-29T11:33:16.528Z"
   },
   {
    "duration": 10,
    "start_time": "2022-07-29T11:33:16.551Z"
   },
   {
    "duration": 11,
    "start_time": "2022-07-29T11:33:16.563Z"
   },
   {
    "duration": 14,
    "start_time": "2022-07-29T11:33:16.576Z"
   },
   {
    "duration": 19,
    "start_time": "2022-07-29T11:33:16.592Z"
   },
   {
    "duration": 10,
    "start_time": "2022-07-29T11:33:16.612Z"
   },
   {
    "duration": 17,
    "start_time": "2022-07-29T11:33:16.624Z"
   },
   {
    "duration": 19,
    "start_time": "2022-07-29T11:33:16.643Z"
   },
   {
    "duration": 20,
    "start_time": "2022-07-29T11:33:16.665Z"
   },
   {
    "duration": 21,
    "start_time": "2022-07-29T11:33:16.687Z"
   },
   {
    "duration": 49,
    "start_time": "2022-07-29T11:33:16.711Z"
   },
   {
    "duration": 12,
    "start_time": "2022-07-29T11:33:16.762Z"
   },
   {
    "duration": 8,
    "start_time": "2022-07-29T11:33:16.776Z"
   },
   {
    "duration": 13,
    "start_time": "2022-07-29T11:33:16.786Z"
   },
   {
    "duration": 14,
    "start_time": "2022-07-29T11:33:16.801Z"
   },
   {
    "duration": 22,
    "start_time": "2022-07-29T11:33:16.817Z"
   },
   {
    "duration": 25,
    "start_time": "2022-07-29T11:33:16.841Z"
   },
   {
    "duration": 27,
    "start_time": "2022-07-29T11:33:16.867Z"
   },
   {
    "duration": 21,
    "start_time": "2022-07-29T11:33:16.896Z"
   },
   {
    "duration": 12,
    "start_time": "2022-07-29T11:33:16.918Z"
   },
   {
    "duration": 13,
    "start_time": "2022-07-29T11:33:16.932Z"
   },
   {
    "duration": 17,
    "start_time": "2022-07-29T11:33:16.947Z"
   },
   {
    "duration": 15,
    "start_time": "2022-07-29T11:33:16.966Z"
   },
   {
    "duration": 20,
    "start_time": "2022-07-29T11:33:16.983Z"
   },
   {
    "duration": 8,
    "start_time": "2022-07-29T11:33:17.004Z"
   },
   {
    "duration": 13,
    "start_time": "2022-07-29T11:33:17.014Z"
   },
   {
    "duration": 32,
    "start_time": "2022-07-29T11:33:17.029Z"
   },
   {
    "duration": 19,
    "start_time": "2022-07-29T11:33:17.063Z"
   },
   {
    "duration": 9,
    "start_time": "2022-07-29T11:33:44.777Z"
   },
   {
    "duration": 5,
    "start_time": "2022-07-29T11:50:09.051Z"
   },
   {
    "duration": 5,
    "start_time": "2022-07-29T11:50:12.361Z"
   },
   {
    "duration": 6,
    "start_time": "2022-07-29T11:50:28.100Z"
   },
   {
    "duration": 16,
    "start_time": "2022-07-29T12:01:27.945Z"
   },
   {
    "duration": 18,
    "start_time": "2022-07-29T12:01:42.981Z"
   },
   {
    "duration": 103,
    "start_time": "2022-07-29T12:27:17.962Z"
   },
   {
    "duration": 53,
    "start_time": "2022-07-29T12:27:42.395Z"
   },
   {
    "duration": 85,
    "start_time": "2022-07-29T12:27:51.286Z"
   },
   {
    "duration": 16,
    "start_time": "2022-07-29T12:27:51.373Z"
   },
   {
    "duration": 15,
    "start_time": "2022-07-29T12:27:51.391Z"
   },
   {
    "duration": 13,
    "start_time": "2022-07-29T12:27:51.425Z"
   },
   {
    "duration": 38,
    "start_time": "2022-07-29T12:27:51.440Z"
   },
   {
    "duration": 46,
    "start_time": "2022-07-29T12:27:51.480Z"
   },
   {
    "duration": 5,
    "start_time": "2022-07-29T12:27:51.528Z"
   },
   {
    "duration": 10,
    "start_time": "2022-07-29T12:27:51.535Z"
   },
   {
    "duration": 10,
    "start_time": "2022-07-29T12:27:51.547Z"
   },
   {
    "duration": 6,
    "start_time": "2022-07-29T12:27:51.559Z"
   },
   {
    "duration": 6,
    "start_time": "2022-07-29T12:27:51.567Z"
   },
   {
    "duration": 7,
    "start_time": "2022-07-29T12:27:51.575Z"
   },
   {
    "duration": 12,
    "start_time": "2022-07-29T12:27:51.583Z"
   },
   {
    "duration": 32,
    "start_time": "2022-07-29T12:27:51.597Z"
   },
   {
    "duration": 14,
    "start_time": "2022-07-29T12:27:51.631Z"
   },
   {
    "duration": 10,
    "start_time": "2022-07-29T12:27:51.647Z"
   },
   {
    "duration": 6,
    "start_time": "2022-07-29T12:27:51.659Z"
   },
   {
    "duration": 16,
    "start_time": "2022-07-29T12:27:51.667Z"
   },
   {
    "duration": 15,
    "start_time": "2022-07-29T12:27:51.685Z"
   },
   {
    "duration": 4,
    "start_time": "2022-07-29T12:27:51.702Z"
   },
   {
    "duration": 15,
    "start_time": "2022-07-29T12:27:51.725Z"
   },
   {
    "duration": 6,
    "start_time": "2022-07-29T12:27:51.743Z"
   },
   {
    "duration": 6,
    "start_time": "2022-07-29T12:27:51.751Z"
   },
   {
    "duration": 11,
    "start_time": "2022-07-29T12:27:51.758Z"
   },
   {
    "duration": 13,
    "start_time": "2022-07-29T12:27:51.770Z"
   },
   {
    "duration": 42,
    "start_time": "2022-07-29T12:27:51.785Z"
   },
   {
    "duration": 5,
    "start_time": "2022-07-29T12:27:51.829Z"
   },
   {
    "duration": 13,
    "start_time": "2022-07-29T12:27:51.839Z"
   },
   {
    "duration": 9,
    "start_time": "2022-07-29T12:27:51.854Z"
   },
   {
    "duration": 10,
    "start_time": "2022-07-29T12:27:51.865Z"
   },
   {
    "duration": 72,
    "start_time": "2022-07-29T12:27:51.877Z"
   },
   {
    "duration": 25,
    "start_time": "2022-07-29T12:27:51.952Z"
   },
   {
    "duration": 45,
    "start_time": "2022-07-29T12:27:51.979Z"
   },
   {
    "duration": 24,
    "start_time": "2022-07-29T12:27:52.026Z"
   },
   {
    "duration": 22,
    "start_time": "2022-07-29T12:27:52.053Z"
   },
   {
    "duration": 3,
    "start_time": "2022-07-29T12:27:52.077Z"
   },
   {
    "duration": 54,
    "start_time": "2022-07-29T12:27:52.081Z"
   },
   {
    "duration": 0,
    "start_time": "2022-07-29T12:27:52.137Z"
   },
   {
    "duration": 0,
    "start_time": "2022-07-29T12:27:52.138Z"
   },
   {
    "duration": 0,
    "start_time": "2022-07-29T12:27:52.139Z"
   },
   {
    "duration": 0,
    "start_time": "2022-07-29T12:27:52.141Z"
   },
   {
    "duration": 0,
    "start_time": "2022-07-29T12:27:52.142Z"
   },
   {
    "duration": 0,
    "start_time": "2022-07-29T12:27:52.143Z"
   },
   {
    "duration": 0,
    "start_time": "2022-07-29T12:27:52.144Z"
   },
   {
    "duration": 0,
    "start_time": "2022-07-29T12:27:52.145Z"
   },
   {
    "duration": 0,
    "start_time": "2022-07-29T12:27:52.147Z"
   },
   {
    "duration": 0,
    "start_time": "2022-07-29T12:27:52.148Z"
   },
   {
    "duration": 0,
    "start_time": "2022-07-29T12:27:52.149Z"
   },
   {
    "duration": 0,
    "start_time": "2022-07-29T12:27:52.149Z"
   },
   {
    "duration": 0,
    "start_time": "2022-07-29T12:27:52.150Z"
   },
   {
    "duration": 0,
    "start_time": "2022-07-29T12:27:52.151Z"
   },
   {
    "duration": 0,
    "start_time": "2022-07-29T12:27:52.153Z"
   },
   {
    "duration": 0,
    "start_time": "2022-07-29T12:27:52.153Z"
   },
   {
    "duration": 0,
    "start_time": "2022-07-29T12:27:52.154Z"
   },
   {
    "duration": 0,
    "start_time": "2022-07-29T12:27:52.156Z"
   },
   {
    "duration": 0,
    "start_time": "2022-07-29T12:27:52.157Z"
   },
   {
    "duration": 0,
    "start_time": "2022-07-29T12:27:52.158Z"
   },
   {
    "duration": 0,
    "start_time": "2022-07-29T12:27:52.160Z"
   },
   {
    "duration": 0,
    "start_time": "2022-07-29T12:27:52.162Z"
   },
   {
    "duration": 0,
    "start_time": "2022-07-29T12:27:52.163Z"
   },
   {
    "duration": 0,
    "start_time": "2022-07-29T12:27:52.164Z"
   },
   {
    "duration": 0,
    "start_time": "2022-07-29T12:27:52.166Z"
   },
   {
    "duration": 0,
    "start_time": "2022-07-29T12:27:52.167Z"
   },
   {
    "duration": 0,
    "start_time": "2022-07-29T12:27:52.169Z"
   },
   {
    "duration": 0,
    "start_time": "2022-07-29T12:27:52.170Z"
   },
   {
    "duration": 0,
    "start_time": "2022-07-29T12:27:52.171Z"
   },
   {
    "duration": 0,
    "start_time": "2022-07-29T12:27:52.173Z"
   },
   {
    "duration": 0,
    "start_time": "2022-07-29T12:27:52.224Z"
   },
   {
    "duration": 0,
    "start_time": "2022-07-29T12:27:52.225Z"
   },
   {
    "duration": 0,
    "start_time": "2022-07-29T12:27:52.227Z"
   },
   {
    "duration": 57,
    "start_time": "2022-07-29T12:28:19.409Z"
   },
   {
    "duration": 57,
    "start_time": "2022-07-29T12:28:44.886Z"
   },
   {
    "duration": 1002,
    "start_time": "2022-07-29T12:29:15.346Z"
   },
   {
    "duration": 22,
    "start_time": "2022-07-29T12:29:30.346Z"
   },
   {
    "duration": 17,
    "start_time": "2022-07-29T12:30:28.343Z"
   },
   {
    "duration": 28,
    "start_time": "2022-07-29T12:35:11.842Z"
   },
   {
    "duration": 16,
    "start_time": "2022-07-29T12:36:23.254Z"
   },
   {
    "duration": 26,
    "start_time": "2022-07-29T12:36:52.820Z"
   },
   {
    "duration": 10,
    "start_time": "2022-07-29T12:43:24.980Z"
   },
   {
    "duration": 9,
    "start_time": "2022-07-29T12:43:29.409Z"
   },
   {
    "duration": 23,
    "start_time": "2022-07-29T12:45:31.881Z"
   },
   {
    "duration": 23,
    "start_time": "2022-07-29T12:45:38.850Z"
   },
   {
    "duration": 102,
    "start_time": "2022-07-29T12:45:50.304Z"
   },
   {
    "duration": 14,
    "start_time": "2022-07-29T12:45:50.408Z"
   },
   {
    "duration": 23,
    "start_time": "2022-07-29T12:45:50.424Z"
   },
   {
    "duration": 18,
    "start_time": "2022-07-29T12:45:50.449Z"
   },
   {
    "duration": 55,
    "start_time": "2022-07-29T12:45:50.470Z"
   },
   {
    "duration": 12,
    "start_time": "2022-07-29T12:45:50.527Z"
   },
   {
    "duration": 24,
    "start_time": "2022-07-29T12:45:50.540Z"
   },
   {
    "duration": 20,
    "start_time": "2022-07-29T12:45:50.566Z"
   },
   {
    "duration": 22,
    "start_time": "2022-07-29T12:45:50.587Z"
   },
   {
    "duration": 22,
    "start_time": "2022-07-29T12:45:50.611Z"
   },
   {
    "duration": 14,
    "start_time": "2022-07-29T12:45:50.634Z"
   },
   {
    "duration": 21,
    "start_time": "2022-07-29T12:45:50.650Z"
   },
   {
    "duration": 17,
    "start_time": "2022-07-29T12:45:50.674Z"
   },
   {
    "duration": 19,
    "start_time": "2022-07-29T12:45:50.694Z"
   },
   {
    "duration": 16,
    "start_time": "2022-07-29T12:45:50.714Z"
   },
   {
    "duration": 29,
    "start_time": "2022-07-29T12:45:50.731Z"
   },
   {
    "duration": 21,
    "start_time": "2022-07-29T12:45:50.762Z"
   },
   {
    "duration": 17,
    "start_time": "2022-07-29T12:45:50.785Z"
   },
   {
    "duration": 23,
    "start_time": "2022-07-29T12:45:50.803Z"
   },
   {
    "duration": 4,
    "start_time": "2022-07-29T12:45:50.828Z"
   },
   {
    "duration": 21,
    "start_time": "2022-07-29T12:45:50.833Z"
   },
   {
    "duration": 31,
    "start_time": "2022-07-29T12:45:50.856Z"
   },
   {
    "duration": 13,
    "start_time": "2022-07-29T12:45:50.889Z"
   },
   {
    "duration": 28,
    "start_time": "2022-07-29T12:45:50.903Z"
   },
   {
    "duration": 30,
    "start_time": "2022-07-29T12:45:50.933Z"
   },
   {
    "duration": 15,
    "start_time": "2022-07-29T12:45:50.965Z"
   },
   {
    "duration": 22,
    "start_time": "2022-07-29T12:45:50.982Z"
   },
   {
    "duration": 25,
    "start_time": "2022-07-29T12:45:51.006Z"
   },
   {
    "duration": 25,
    "start_time": "2022-07-29T12:45:51.033Z"
   },
   {
    "duration": 14,
    "start_time": "2022-07-29T12:45:51.060Z"
   },
   {
    "duration": 36,
    "start_time": "2022-07-29T12:45:51.076Z"
   },
   {
    "duration": 20,
    "start_time": "2022-07-29T12:45:51.113Z"
   },
   {
    "duration": 22,
    "start_time": "2022-07-29T12:45:51.135Z"
   },
   {
    "duration": 25,
    "start_time": "2022-07-29T12:45:51.159Z"
   },
   {
    "duration": 15,
    "start_time": "2022-07-29T12:45:51.186Z"
   },
   {
    "duration": 425,
    "start_time": "2022-07-29T12:45:51.203Z"
   },
   {
    "duration": 10,
    "start_time": "2022-07-29T12:45:51.630Z"
   },
   {
    "duration": 57,
    "start_time": "2022-07-29T12:45:51.642Z"
   },
   {
    "duration": 2,
    "start_time": "2022-07-29T12:45:51.702Z"
   },
   {
    "duration": 26,
    "start_time": "2022-07-29T12:45:51.706Z"
   },
   {
    "duration": 3,
    "start_time": "2022-07-29T12:45:51.738Z"
   },
   {
    "duration": 16,
    "start_time": "2022-07-29T12:45:51.743Z"
   },
   {
    "duration": 8,
    "start_time": "2022-07-29T12:45:51.761Z"
   },
   {
    "duration": 21,
    "start_time": "2022-07-29T12:45:51.771Z"
   },
   {
    "duration": 18,
    "start_time": "2022-07-29T12:45:51.794Z"
   },
   {
    "duration": 22,
    "start_time": "2022-07-29T12:45:51.814Z"
   },
   {
    "duration": 20,
    "start_time": "2022-07-29T12:45:51.838Z"
   },
   {
    "duration": 17,
    "start_time": "2022-07-29T12:45:51.860Z"
   },
   {
    "duration": 33,
    "start_time": "2022-07-29T12:45:51.879Z"
   },
   {
    "duration": 14,
    "start_time": "2022-07-29T12:45:51.914Z"
   },
   {
    "duration": 19,
    "start_time": "2022-07-29T12:45:51.929Z"
   },
   {
    "duration": 9,
    "start_time": "2022-07-29T12:45:51.950Z"
   },
   {
    "duration": 19,
    "start_time": "2022-07-29T12:45:51.961Z"
   },
   {
    "duration": 19,
    "start_time": "2022-07-29T12:45:51.982Z"
   },
   {
    "duration": 9,
    "start_time": "2022-07-29T12:45:52.004Z"
   },
   {
    "duration": 16,
    "start_time": "2022-07-29T12:45:52.015Z"
   },
   {
    "duration": 13,
    "start_time": "2022-07-29T12:45:52.033Z"
   },
   {
    "duration": 18,
    "start_time": "2022-07-29T12:45:52.047Z"
   },
   {
    "duration": 29,
    "start_time": "2022-07-29T12:45:52.066Z"
   },
   {
    "duration": 20,
    "start_time": "2022-07-29T12:45:52.097Z"
   },
   {
    "duration": 10,
    "start_time": "2022-07-29T12:45:52.119Z"
   },
   {
    "duration": 11,
    "start_time": "2022-07-29T12:45:52.131Z"
   },
   {
    "duration": 28,
    "start_time": "2022-07-29T12:45:52.144Z"
   },
   {
    "duration": 16,
    "start_time": "2022-07-29T12:45:52.174Z"
   },
   {
    "duration": 23,
    "start_time": "2022-07-29T12:45:52.192Z"
   },
   {
    "duration": 20,
    "start_time": "2022-07-29T12:45:52.217Z"
   },
   {
    "duration": 20,
    "start_time": "2022-07-29T12:45:52.239Z"
   },
   {
    "duration": 10,
    "start_time": "2022-07-29T12:45:52.261Z"
   },
   {
    "duration": 30,
    "start_time": "2022-07-29T12:45:52.272Z"
   },
   {
    "duration": 16,
    "start_time": "2022-07-29T12:45:52.304Z"
   },
   {
    "duration": 12,
    "start_time": "2022-07-29T12:53:05.984Z"
   },
   {
    "duration": 21,
    "start_time": "2022-07-29T12:53:41.733Z"
   },
   {
    "duration": 20,
    "start_time": "2022-07-29T12:53:46.845Z"
   },
   {
    "duration": 7,
    "start_time": "2022-07-29T12:54:11.066Z"
   },
   {
    "duration": 26,
    "start_time": "2022-07-29T12:57:43.003Z"
   },
   {
    "duration": 6,
    "start_time": "2022-07-29T12:59:28.997Z"
   },
   {
    "duration": 6,
    "start_time": "2022-07-29T13:00:36.447Z"
   },
   {
    "duration": 27,
    "start_time": "2022-07-29T13:01:09.515Z"
   },
   {
    "duration": 8,
    "start_time": "2022-07-29T13:01:20.740Z"
   },
   {
    "duration": 9,
    "start_time": "2022-07-29T13:02:05.997Z"
   },
   {
    "duration": 14,
    "start_time": "2022-07-29T13:02:14.743Z"
   },
   {
    "duration": 10,
    "start_time": "2022-07-29T13:02:19.046Z"
   },
   {
    "duration": 98,
    "start_time": "2022-07-29T13:02:24.187Z"
   },
   {
    "duration": 18,
    "start_time": "2022-07-29T13:02:24.287Z"
   },
   {
    "duration": 32,
    "start_time": "2022-07-29T13:02:24.306Z"
   },
   {
    "duration": 18,
    "start_time": "2022-07-29T13:02:24.341Z"
   },
   {
    "duration": 38,
    "start_time": "2022-07-29T13:02:24.361Z"
   },
   {
    "duration": 36,
    "start_time": "2022-07-29T13:02:24.400Z"
   },
   {
    "duration": 6,
    "start_time": "2022-07-29T13:02:24.441Z"
   },
   {
    "duration": 21,
    "start_time": "2022-07-29T13:02:24.449Z"
   },
   {
    "duration": 30,
    "start_time": "2022-07-29T13:02:24.472Z"
   },
   {
    "duration": 31,
    "start_time": "2022-07-29T13:02:24.506Z"
   },
   {
    "duration": 35,
    "start_time": "2022-07-29T13:02:24.539Z"
   },
   {
    "duration": 9,
    "start_time": "2022-07-29T13:02:24.576Z"
   },
   {
    "duration": 57,
    "start_time": "2022-07-29T13:02:24.587Z"
   },
   {
    "duration": 31,
    "start_time": "2022-07-29T13:02:24.646Z"
   },
   {
    "duration": 13,
    "start_time": "2022-07-29T13:02:24.679Z"
   },
   {
    "duration": 17,
    "start_time": "2022-07-29T13:02:24.694Z"
   },
   {
    "duration": 8,
    "start_time": "2022-07-29T13:02:24.713Z"
   },
   {
    "duration": 38,
    "start_time": "2022-07-29T13:02:24.723Z"
   },
   {
    "duration": 17,
    "start_time": "2022-07-29T13:02:24.763Z"
   },
   {
    "duration": 5,
    "start_time": "2022-07-29T13:02:24.782Z"
   },
   {
    "duration": 15,
    "start_time": "2022-07-29T13:02:24.789Z"
   },
   {
    "duration": 6,
    "start_time": "2022-07-29T13:02:24.806Z"
   },
   {
    "duration": 42,
    "start_time": "2022-07-29T13:02:24.814Z"
   },
   {
    "duration": 18,
    "start_time": "2022-07-29T13:02:24.857Z"
   },
   {
    "duration": 20,
    "start_time": "2022-07-29T13:02:24.878Z"
   },
   {
    "duration": 9,
    "start_time": "2022-07-29T13:02:24.900Z"
   },
   {
    "duration": 34,
    "start_time": "2022-07-29T13:02:24.910Z"
   },
   {
    "duration": 14,
    "start_time": "2022-07-29T13:02:24.948Z"
   },
   {
    "duration": 20,
    "start_time": "2022-07-29T13:02:24.964Z"
   },
   {
    "duration": 22,
    "start_time": "2022-07-29T13:02:24.986Z"
   },
   {
    "duration": 43,
    "start_time": "2022-07-29T13:02:25.010Z"
   },
   {
    "duration": 18,
    "start_time": "2022-07-29T13:02:25.055Z"
   },
   {
    "duration": 26,
    "start_time": "2022-07-29T13:02:25.075Z"
   },
   {
    "duration": 42,
    "start_time": "2022-07-29T13:02:25.103Z"
   },
   {
    "duration": 31,
    "start_time": "2022-07-29T13:02:25.148Z"
   },
   {
    "duration": 6,
    "start_time": "2022-07-29T13:02:25.181Z"
   },
   {
    "duration": 16,
    "start_time": "2022-07-29T13:02:25.189Z"
   },
   {
    "duration": 38,
    "start_time": "2022-07-29T13:02:25.206Z"
   },
   {
    "duration": 19,
    "start_time": "2022-07-29T13:02:25.246Z"
   },
   {
    "duration": 3,
    "start_time": "2022-07-29T13:02:25.268Z"
   },
   {
    "duration": 4,
    "start_time": "2022-07-29T13:02:25.273Z"
   },
   {
    "duration": 8,
    "start_time": "2022-07-29T13:02:25.279Z"
   },
   {
    "duration": 6,
    "start_time": "2022-07-29T13:02:25.289Z"
   },
   {
    "duration": 16,
    "start_time": "2022-07-29T13:02:25.297Z"
   },
   {
    "duration": 7,
    "start_time": "2022-07-29T13:02:25.315Z"
   },
   {
    "duration": 27,
    "start_time": "2022-07-29T13:02:25.324Z"
   },
   {
    "duration": 6,
    "start_time": "2022-07-29T13:02:25.354Z"
   },
   {
    "duration": 6,
    "start_time": "2022-07-29T13:02:25.362Z"
   },
   {
    "duration": 6,
    "start_time": "2022-07-29T13:02:25.370Z"
   },
   {
    "duration": 6,
    "start_time": "2022-07-29T13:02:25.377Z"
   },
   {
    "duration": 11,
    "start_time": "2022-07-29T13:02:25.384Z"
   },
   {
    "duration": 5,
    "start_time": "2022-07-29T13:02:25.397Z"
   },
   {
    "duration": 8,
    "start_time": "2022-07-29T13:02:25.404Z"
   },
   {
    "duration": 7,
    "start_time": "2022-07-29T13:02:25.414Z"
   },
   {
    "duration": 29,
    "start_time": "2022-07-29T13:02:25.423Z"
   },
   {
    "duration": 12,
    "start_time": "2022-07-29T13:02:25.454Z"
   },
   {
    "duration": 7,
    "start_time": "2022-07-29T13:02:25.467Z"
   },
   {
    "duration": 7,
    "start_time": "2022-07-29T13:02:25.476Z"
   },
   {
    "duration": 5,
    "start_time": "2022-07-29T13:02:25.485Z"
   },
   {
    "duration": 5,
    "start_time": "2022-07-29T13:02:25.493Z"
   },
   {
    "duration": 9,
    "start_time": "2022-07-29T13:02:25.500Z"
   },
   {
    "duration": 11,
    "start_time": "2022-07-29T13:02:25.510Z"
   },
   {
    "duration": 22,
    "start_time": "2022-07-29T13:02:25.523Z"
   },
   {
    "duration": 5,
    "start_time": "2022-07-29T13:02:25.548Z"
   },
   {
    "duration": 7,
    "start_time": "2022-07-29T13:02:25.555Z"
   },
   {
    "duration": 11,
    "start_time": "2022-07-29T13:02:25.563Z"
   },
   {
    "duration": 10,
    "start_time": "2022-07-29T13:02:25.576Z"
   },
   {
    "duration": 5,
    "start_time": "2022-07-29T13:02:25.588Z"
   },
   {
    "duration": 71,
    "start_time": "2022-07-29T13:03:24.691Z"
   },
   {
    "duration": 10,
    "start_time": "2022-07-29T13:03:28.345Z"
   },
   {
    "duration": 106,
    "start_time": "2022-07-29T13:03:38.598Z"
   },
   {
    "duration": 16,
    "start_time": "2022-07-29T13:03:38.706Z"
   },
   {
    "duration": 42,
    "start_time": "2022-07-29T13:03:38.725Z"
   },
   {
    "duration": 14,
    "start_time": "2022-07-29T13:03:38.770Z"
   },
   {
    "duration": 56,
    "start_time": "2022-07-29T13:03:38.787Z"
   },
   {
    "duration": 16,
    "start_time": "2022-07-29T13:03:38.845Z"
   },
   {
    "duration": 10,
    "start_time": "2022-07-29T13:03:38.863Z"
   },
   {
    "duration": 7,
    "start_time": "2022-07-29T13:03:38.875Z"
   },
   {
    "duration": 10,
    "start_time": "2022-07-29T13:03:38.884Z"
   },
   {
    "duration": 11,
    "start_time": "2022-07-29T13:03:38.897Z"
   },
   {
    "duration": 7,
    "start_time": "2022-07-29T13:03:38.910Z"
   },
   {
    "duration": 27,
    "start_time": "2022-07-29T13:03:38.919Z"
   },
   {
    "duration": 11,
    "start_time": "2022-07-29T13:03:38.948Z"
   },
   {
    "duration": 10,
    "start_time": "2022-07-29T13:03:38.962Z"
   },
   {
    "duration": 12,
    "start_time": "2022-07-29T13:03:38.974Z"
   },
   {
    "duration": 9,
    "start_time": "2022-07-29T13:03:38.988Z"
   },
   {
    "duration": 6,
    "start_time": "2022-07-29T13:03:38.999Z"
   },
   {
    "duration": 7,
    "start_time": "2022-07-29T13:03:39.007Z"
   },
   {
    "duration": 12,
    "start_time": "2022-07-29T13:03:39.032Z"
   },
   {
    "duration": 16,
    "start_time": "2022-07-29T13:03:39.049Z"
   },
   {
    "duration": 9,
    "start_time": "2022-07-29T13:03:39.068Z"
   },
   {
    "duration": 6,
    "start_time": "2022-07-29T13:03:39.079Z"
   },
   {
    "duration": 5,
    "start_time": "2022-07-29T13:03:39.086Z"
   },
   {
    "duration": 11,
    "start_time": "2022-07-29T13:03:39.092Z"
   },
   {
    "duration": 34,
    "start_time": "2022-07-29T13:03:39.105Z"
   },
   {
    "duration": 29,
    "start_time": "2022-07-29T13:03:39.140Z"
   },
   {
    "duration": 6,
    "start_time": "2022-07-29T13:03:39.171Z"
   },
   {
    "duration": 11,
    "start_time": "2022-07-29T13:03:39.179Z"
   },
   {
    "duration": 11,
    "start_time": "2022-07-29T13:03:39.191Z"
   },
   {
    "duration": 26,
    "start_time": "2022-07-29T13:03:39.204Z"
   },
   {
    "duration": 45,
    "start_time": "2022-07-29T13:03:39.232Z"
   },
   {
    "duration": 19,
    "start_time": "2022-07-29T13:03:39.279Z"
   },
   {
    "duration": 41,
    "start_time": "2022-07-29T13:03:39.299Z"
   },
   {
    "duration": 23,
    "start_time": "2022-07-29T13:03:39.341Z"
   },
   {
    "duration": 21,
    "start_time": "2022-07-29T13:03:39.366Z"
   },
   {
    "duration": 3,
    "start_time": "2022-07-29T13:03:39.389Z"
   },
   {
    "duration": 46,
    "start_time": "2022-07-29T13:03:39.394Z"
   },
   {
    "duration": 25,
    "start_time": "2022-07-29T13:03:39.442Z"
   },
   {
    "duration": 18,
    "start_time": "2022-07-29T13:03:39.469Z"
   },
   {
    "duration": 3,
    "start_time": "2022-07-29T13:03:39.488Z"
   },
   {
    "duration": 3,
    "start_time": "2022-07-29T13:03:39.496Z"
   },
   {
    "duration": 26,
    "start_time": "2022-07-29T13:03:39.501Z"
   },
   {
    "duration": 10,
    "start_time": "2022-07-29T13:03:39.538Z"
   },
   {
    "duration": 5,
    "start_time": "2022-07-29T13:03:39.550Z"
   },
   {
    "duration": 5,
    "start_time": "2022-07-29T13:03:39.557Z"
   },
   {
    "duration": 6,
    "start_time": "2022-07-29T13:03:39.563Z"
   },
   {
    "duration": 5,
    "start_time": "2022-07-29T13:03:39.570Z"
   },
   {
    "duration": 6,
    "start_time": "2022-07-29T13:03:39.577Z"
   },
   {
    "duration": 5,
    "start_time": "2022-07-29T13:03:39.585Z"
   },
   {
    "duration": 9,
    "start_time": "2022-07-29T13:03:39.592Z"
   },
   {
    "duration": 5,
    "start_time": "2022-07-29T13:03:39.603Z"
   },
   {
    "duration": 8,
    "start_time": "2022-07-29T13:03:39.609Z"
   },
   {
    "duration": 17,
    "start_time": "2022-07-29T13:03:39.624Z"
   },
   {
    "duration": 8,
    "start_time": "2022-07-29T13:03:39.644Z"
   },
   {
    "duration": 9,
    "start_time": "2022-07-29T13:03:39.653Z"
   },
   {
    "duration": 4,
    "start_time": "2022-07-29T13:03:39.664Z"
   },
   {
    "duration": 4,
    "start_time": "2022-07-29T13:03:39.670Z"
   },
   {
    "duration": 5,
    "start_time": "2022-07-29T13:03:39.676Z"
   },
   {
    "duration": 5,
    "start_time": "2022-07-29T13:03:39.683Z"
   },
   {
    "duration": 7,
    "start_time": "2022-07-29T13:03:39.690Z"
   },
   {
    "duration": 5,
    "start_time": "2022-07-29T13:03:39.698Z"
   },
   {
    "duration": 5,
    "start_time": "2022-07-29T13:03:39.705Z"
   },
   {
    "duration": 5,
    "start_time": "2022-07-29T13:03:39.712Z"
   },
   {
    "duration": 24,
    "start_time": "2022-07-29T13:03:39.719Z"
   },
   {
    "duration": 7,
    "start_time": "2022-07-29T13:03:39.744Z"
   },
   {
    "duration": 5,
    "start_time": "2022-07-29T13:03:39.752Z"
   },
   {
    "duration": 9,
    "start_time": "2022-07-29T13:03:39.759Z"
   },
   {
    "duration": 7,
    "start_time": "2022-07-29T13:03:39.770Z"
   },
   {
    "duration": 11,
    "start_time": "2022-07-29T13:03:49.960Z"
   },
   {
    "duration": 17,
    "start_time": "2022-07-29T13:04:08.622Z"
   },
   {
    "duration": 9,
    "start_time": "2022-07-29T13:07:36.117Z"
   },
   {
    "duration": 5,
    "start_time": "2022-07-29T13:07:38.444Z"
   },
   {
    "duration": 10,
    "start_time": "2022-07-29T13:07:48.344Z"
   },
   {
    "duration": 115,
    "start_time": "2022-07-29T13:08:18.778Z"
   },
   {
    "duration": 20,
    "start_time": "2022-07-29T13:08:18.895Z"
   },
   {
    "duration": 26,
    "start_time": "2022-07-29T13:08:18.917Z"
   },
   {
    "duration": 16,
    "start_time": "2022-07-29T13:08:18.946Z"
   },
   {
    "duration": 73,
    "start_time": "2022-07-29T13:08:18.963Z"
   },
   {
    "duration": 11,
    "start_time": "2022-07-29T13:08:19.042Z"
   },
   {
    "duration": 7,
    "start_time": "2022-07-29T13:08:19.055Z"
   },
   {
    "duration": 9,
    "start_time": "2022-07-29T13:08:19.064Z"
   },
   {
    "duration": 9,
    "start_time": "2022-07-29T13:08:19.074Z"
   },
   {
    "duration": 5,
    "start_time": "2022-07-29T13:08:19.086Z"
   },
   {
    "duration": 6,
    "start_time": "2022-07-29T13:08:19.093Z"
   },
   {
    "duration": 14,
    "start_time": "2022-07-29T13:08:19.100Z"
   },
   {
    "duration": 21,
    "start_time": "2022-07-29T13:08:19.128Z"
   },
   {
    "duration": 20,
    "start_time": "2022-07-29T13:08:19.151Z"
   },
   {
    "duration": 10,
    "start_time": "2022-07-29T13:08:19.173Z"
   },
   {
    "duration": 8,
    "start_time": "2022-07-29T13:08:19.185Z"
   },
   {
    "duration": 8,
    "start_time": "2022-07-29T13:08:19.195Z"
   },
   {
    "duration": 11,
    "start_time": "2022-07-29T13:08:19.205Z"
   },
   {
    "duration": 18,
    "start_time": "2022-07-29T13:08:19.217Z"
   },
   {
    "duration": 12,
    "start_time": "2022-07-29T13:08:19.241Z"
   },
   {
    "duration": 9,
    "start_time": "2022-07-29T13:08:19.255Z"
   },
   {
    "duration": 5,
    "start_time": "2022-07-29T13:08:19.266Z"
   },
   {
    "duration": 5,
    "start_time": "2022-07-29T13:08:19.273Z"
   },
   {
    "duration": 15,
    "start_time": "2022-07-29T13:08:19.280Z"
   },
   {
    "duration": 41,
    "start_time": "2022-07-29T13:08:19.297Z"
   },
   {
    "duration": 13,
    "start_time": "2022-07-29T13:08:19.342Z"
   },
   {
    "duration": 12,
    "start_time": "2022-07-29T13:08:19.357Z"
   },
   {
    "duration": 9,
    "start_time": "2022-07-29T13:08:19.374Z"
   },
   {
    "duration": 14,
    "start_time": "2022-07-29T13:08:19.386Z"
   },
   {
    "duration": 30,
    "start_time": "2022-07-29T13:08:19.402Z"
   },
   {
    "duration": 43,
    "start_time": "2022-07-29T13:08:19.438Z"
   },
   {
    "duration": 24,
    "start_time": "2022-07-29T13:08:19.483Z"
   },
   {
    "duration": 40,
    "start_time": "2022-07-29T13:08:19.509Z"
   },
   {
    "duration": 26,
    "start_time": "2022-07-29T13:08:19.552Z"
   },
   {
    "duration": 21,
    "start_time": "2022-07-29T13:08:19.581Z"
   },
   {
    "duration": 33,
    "start_time": "2022-07-29T13:08:19.604Z"
   },
   {
    "duration": 14,
    "start_time": "2022-07-29T13:08:19.642Z"
   },
   {
    "duration": 24,
    "start_time": "2022-07-29T13:08:19.658Z"
   },
   {
    "duration": 3,
    "start_time": "2022-07-29T13:08:19.684Z"
   },
   {
    "duration": 13,
    "start_time": "2022-07-29T13:08:19.689Z"
   },
   {
    "duration": 5,
    "start_time": "2022-07-29T13:08:19.704Z"
   },
   {
    "duration": 14,
    "start_time": "2022-07-29T13:08:19.711Z"
   },
   {
    "duration": 18,
    "start_time": "2022-07-29T13:08:19.726Z"
   },
   {
    "duration": 5,
    "start_time": "2022-07-29T13:08:19.747Z"
   },
   {
    "duration": 5,
    "start_time": "2022-07-29T13:08:19.754Z"
   },
   {
    "duration": 7,
    "start_time": "2022-07-29T13:08:19.761Z"
   },
   {
    "duration": 7,
    "start_time": "2022-07-29T13:08:19.770Z"
   },
   {
    "duration": 6,
    "start_time": "2022-07-29T13:08:19.779Z"
   },
   {
    "duration": 7,
    "start_time": "2022-07-29T13:08:19.786Z"
   },
   {
    "duration": 11,
    "start_time": "2022-07-29T13:08:19.795Z"
   },
   {
    "duration": 30,
    "start_time": "2022-07-29T13:08:19.807Z"
   },
   {
    "duration": 16,
    "start_time": "2022-07-29T13:08:19.838Z"
   },
   {
    "duration": 7,
    "start_time": "2022-07-29T13:08:19.855Z"
   },
   {
    "duration": 5,
    "start_time": "2022-07-29T13:08:19.864Z"
   },
   {
    "duration": 6,
    "start_time": "2022-07-29T13:08:19.870Z"
   },
   {
    "duration": 6,
    "start_time": "2022-07-29T13:08:19.878Z"
   },
   {
    "duration": 6,
    "start_time": "2022-07-29T13:08:19.885Z"
   },
   {
    "duration": 6,
    "start_time": "2022-07-29T13:08:19.893Z"
   },
   {
    "duration": 5,
    "start_time": "2022-07-29T13:08:19.901Z"
   },
   {
    "duration": 5,
    "start_time": "2022-07-29T13:08:19.908Z"
   },
   {
    "duration": 5,
    "start_time": "2022-07-29T13:08:19.915Z"
   },
   {
    "duration": 26,
    "start_time": "2022-07-29T13:08:19.921Z"
   },
   {
    "duration": 6,
    "start_time": "2022-07-29T13:08:19.949Z"
   },
   {
    "duration": 7,
    "start_time": "2022-07-29T13:08:19.957Z"
   },
   {
    "duration": 10,
    "start_time": "2022-07-29T13:08:19.966Z"
   },
   {
    "duration": 8,
    "start_time": "2022-07-29T13:08:19.977Z"
   },
   {
    "duration": 14,
    "start_time": "2022-07-29T13:08:19.987Z"
   },
   {
    "duration": 32,
    "start_time": "2022-07-29T13:08:20.002Z"
   },
   {
    "duration": 8,
    "start_time": "2022-07-29T13:09:34.968Z"
   },
   {
    "duration": 8,
    "start_time": "2022-07-29T13:09:40.076Z"
   },
   {
    "duration": 9,
    "start_time": "2022-07-29T13:09:50.242Z"
   },
   {
    "duration": 11,
    "start_time": "2022-07-29T13:13:24.679Z"
   },
   {
    "duration": 9,
    "start_time": "2022-07-29T13:13:43.004Z"
   },
   {
    "duration": 3,
    "start_time": "2022-07-29T13:16:49.459Z"
   },
   {
    "duration": 3,
    "start_time": "2022-07-29T13:16:50.816Z"
   },
   {
    "duration": 3,
    "start_time": "2022-07-29T13:16:55.358Z"
   },
   {
    "duration": 1351,
    "start_time": "2022-07-29T13:20:14.339Z"
   },
   {
    "duration": 12,
    "start_time": "2022-07-29T13:21:57.272Z"
   },
   {
    "duration": 8,
    "start_time": "2022-07-29T13:22:14.869Z"
   },
   {
    "duration": 10,
    "start_time": "2022-07-29T13:22:17.773Z"
   },
   {
    "duration": 8,
    "start_time": "2022-07-29T13:22:46.901Z"
   },
   {
    "duration": 11,
    "start_time": "2022-07-29T13:24:01.848Z"
   },
   {
    "duration": 13,
    "start_time": "2022-07-29T13:24:54.949Z"
   },
   {
    "duration": 44,
    "start_time": "2022-07-30T16:00:10.472Z"
   },
   {
    "duration": 611,
    "start_time": "2022-07-30T16:00:15.617Z"
   },
   {
    "duration": 15,
    "start_time": "2022-07-30T16:00:16.230Z"
   },
   {
    "duration": 43,
    "start_time": "2022-07-30T16:00:16.247Z"
   },
   {
    "duration": 30,
    "start_time": "2022-07-30T16:00:16.292Z"
   },
   {
    "duration": 63,
    "start_time": "2022-07-30T16:00:16.324Z"
   },
   {
    "duration": 10,
    "start_time": "2022-07-30T16:00:16.388Z"
   },
   {
    "duration": 23,
    "start_time": "2022-07-30T16:00:16.399Z"
   },
   {
    "duration": 17,
    "start_time": "2022-07-30T16:00:16.424Z"
   },
   {
    "duration": 21,
    "start_time": "2022-07-30T16:00:16.443Z"
   },
   {
    "duration": 25,
    "start_time": "2022-07-30T16:00:16.465Z"
   },
   {
    "duration": 32,
    "start_time": "2022-07-30T16:00:16.492Z"
   },
   {
    "duration": 20,
    "start_time": "2022-07-30T16:00:16.526Z"
   },
   {
    "duration": 36,
    "start_time": "2022-07-30T16:00:16.547Z"
   },
   {
    "duration": 26,
    "start_time": "2022-07-30T16:00:16.586Z"
   },
   {
    "duration": 36,
    "start_time": "2022-07-30T16:00:16.613Z"
   },
   {
    "duration": 44,
    "start_time": "2022-07-30T16:00:16.651Z"
   },
   {
    "duration": 38,
    "start_time": "2022-07-30T16:00:16.697Z"
   },
   {
    "duration": 33,
    "start_time": "2022-07-30T16:00:16.737Z"
   },
   {
    "duration": 39,
    "start_time": "2022-07-30T16:00:16.772Z"
   },
   {
    "duration": 24,
    "start_time": "2022-07-30T16:00:16.813Z"
   },
   {
    "duration": 26,
    "start_time": "2022-07-30T16:00:16.838Z"
   },
   {
    "duration": 27,
    "start_time": "2022-07-30T16:00:16.865Z"
   },
   {
    "duration": 27,
    "start_time": "2022-07-30T16:00:16.894Z"
   },
   {
    "duration": 49,
    "start_time": "2022-07-30T16:00:16.923Z"
   },
   {
    "duration": 32,
    "start_time": "2022-07-30T16:00:16.974Z"
   },
   {
    "duration": 41,
    "start_time": "2022-07-30T16:00:17.008Z"
   },
   {
    "duration": 24,
    "start_time": "2022-07-30T16:00:17.051Z"
   },
   {
    "duration": 27,
    "start_time": "2022-07-30T16:00:17.076Z"
   },
   {
    "duration": 29,
    "start_time": "2022-07-30T16:00:17.105Z"
   },
   {
    "duration": 39,
    "start_time": "2022-07-30T16:00:17.136Z"
   },
   {
    "duration": 45,
    "start_time": "2022-07-30T16:00:17.177Z"
   },
   {
    "duration": 15,
    "start_time": "2022-07-30T16:00:17.224Z"
   },
   {
    "duration": 23,
    "start_time": "2022-07-30T16:00:17.240Z"
   },
   {
    "duration": 16,
    "start_time": "2022-07-30T16:00:17.265Z"
   },
   {
    "duration": 19,
    "start_time": "2022-07-30T16:00:17.282Z"
   },
   {
    "duration": 395,
    "start_time": "2022-07-30T16:00:17.303Z"
   },
   {
    "duration": 8,
    "start_time": "2022-07-30T16:00:17.700Z"
   },
   {
    "duration": 57,
    "start_time": "2022-07-30T16:00:17.709Z"
   },
   {
    "duration": 15,
    "start_time": "2022-07-30T16:00:17.767Z"
   },
   {
    "duration": 46,
    "start_time": "2022-07-30T16:00:17.783Z"
   },
   {
    "duration": 35,
    "start_time": "2022-07-30T16:00:17.832Z"
   },
   {
    "duration": 38,
    "start_time": "2022-07-30T16:00:17.869Z"
   },
   {
    "duration": 35,
    "start_time": "2022-07-30T16:00:17.909Z"
   },
   {
    "duration": 30,
    "start_time": "2022-07-30T16:00:17.945Z"
   },
   {
    "duration": 22,
    "start_time": "2022-07-30T16:00:17.976Z"
   },
   {
    "duration": 33,
    "start_time": "2022-07-30T16:00:17.999Z"
   },
   {
    "duration": 31,
    "start_time": "2022-07-30T16:00:18.034Z"
   },
   {
    "duration": 27,
    "start_time": "2022-07-30T16:00:18.066Z"
   },
   {
    "duration": 42,
    "start_time": "2022-07-30T16:00:18.094Z"
   },
   {
    "duration": 45,
    "start_time": "2022-07-30T16:00:18.138Z"
   },
   {
    "duration": 29,
    "start_time": "2022-07-30T16:00:18.185Z"
   },
   {
    "duration": 47,
    "start_time": "2022-07-30T16:00:18.215Z"
   },
   {
    "duration": 30,
    "start_time": "2022-07-30T16:00:18.264Z"
   },
   {
    "duration": 44,
    "start_time": "2022-07-30T16:00:18.296Z"
   },
   {
    "duration": 28,
    "start_time": "2022-07-30T16:00:18.342Z"
   },
   {
    "duration": 35,
    "start_time": "2022-07-30T16:00:18.371Z"
   },
   {
    "duration": 27,
    "start_time": "2022-07-30T16:00:18.408Z"
   },
   {
    "duration": 23,
    "start_time": "2022-07-30T16:00:18.436Z"
   },
   {
    "duration": 27,
    "start_time": "2022-07-30T16:00:18.460Z"
   },
   {
    "duration": 31,
    "start_time": "2022-07-30T16:00:18.489Z"
   },
   {
    "duration": 30,
    "start_time": "2022-07-30T16:00:18.522Z"
   },
   {
    "duration": 20,
    "start_time": "2022-07-30T16:00:18.554Z"
   },
   {
    "duration": 30,
    "start_time": "2022-07-30T16:00:18.576Z"
   },
   {
    "duration": 23,
    "start_time": "2022-07-30T16:00:18.607Z"
   },
   {
    "duration": 21,
    "start_time": "2022-07-30T16:00:18.631Z"
   },
   {
    "duration": 17,
    "start_time": "2022-07-30T16:00:18.653Z"
   },
   {
    "duration": 30,
    "start_time": "2022-07-30T16:00:18.671Z"
   },
   {
    "duration": 26,
    "start_time": "2022-07-30T16:00:18.703Z"
   },
   {
    "duration": 12,
    "start_time": "2022-07-30T16:01:20.552Z"
   },
   {
    "duration": 79,
    "start_time": "2022-07-30T16:01:24.966Z"
   },
   {
    "duration": 15,
    "start_time": "2022-07-30T16:01:25.047Z"
   },
   {
    "duration": 16,
    "start_time": "2022-07-30T16:01:25.064Z"
   },
   {
    "duration": 12,
    "start_time": "2022-07-30T16:01:25.082Z"
   },
   {
    "duration": 57,
    "start_time": "2022-07-30T16:01:25.096Z"
   },
   {
    "duration": 9,
    "start_time": "2022-07-30T16:01:25.155Z"
   },
   {
    "duration": 5,
    "start_time": "2022-07-30T16:01:25.165Z"
   },
   {
    "duration": 4,
    "start_time": "2022-07-30T16:01:25.171Z"
   },
   {
    "duration": 4,
    "start_time": "2022-07-30T16:01:25.177Z"
   },
   {
    "duration": 9,
    "start_time": "2022-07-30T16:01:25.183Z"
   },
   {
    "duration": 5,
    "start_time": "2022-07-30T16:01:25.193Z"
   },
   {
    "duration": 4,
    "start_time": "2022-07-30T16:01:25.199Z"
   },
   {
    "duration": 34,
    "start_time": "2022-07-30T16:01:25.204Z"
   },
   {
    "duration": 11,
    "start_time": "2022-07-30T16:01:25.240Z"
   },
   {
    "duration": 10,
    "start_time": "2022-07-30T16:01:25.252Z"
   },
   {
    "duration": 8,
    "start_time": "2022-07-30T16:01:25.263Z"
   },
   {
    "duration": 9,
    "start_time": "2022-07-30T16:01:25.273Z"
   },
   {
    "duration": 7,
    "start_time": "2022-07-30T16:01:25.283Z"
   },
   {
    "duration": 11,
    "start_time": "2022-07-30T16:01:25.292Z"
   },
   {
    "duration": 63,
    "start_time": "2022-07-30T16:01:25.304Z"
   },
   {
    "duration": 0,
    "start_time": "2022-07-30T16:01:25.371Z"
   },
   {
    "duration": 0,
    "start_time": "2022-07-30T16:01:25.372Z"
   },
   {
    "duration": 0,
    "start_time": "2022-07-30T16:01:25.373Z"
   },
   {
    "duration": 0,
    "start_time": "2022-07-30T16:01:25.374Z"
   },
   {
    "duration": 0,
    "start_time": "2022-07-30T16:01:25.375Z"
   },
   {
    "duration": 0,
    "start_time": "2022-07-30T16:01:25.376Z"
   },
   {
    "duration": 0,
    "start_time": "2022-07-30T16:01:25.377Z"
   },
   {
    "duration": 0,
    "start_time": "2022-07-30T16:01:25.378Z"
   },
   {
    "duration": 0,
    "start_time": "2022-07-30T16:01:25.379Z"
   },
   {
    "duration": 0,
    "start_time": "2022-07-30T16:01:25.380Z"
   },
   {
    "duration": 0,
    "start_time": "2022-07-30T16:01:25.381Z"
   },
   {
    "duration": 0,
    "start_time": "2022-07-30T16:01:25.382Z"
   },
   {
    "duration": 0,
    "start_time": "2022-07-30T16:01:25.383Z"
   },
   {
    "duration": 0,
    "start_time": "2022-07-30T16:01:25.384Z"
   },
   {
    "duration": 0,
    "start_time": "2022-07-30T16:01:25.385Z"
   },
   {
    "duration": 0,
    "start_time": "2022-07-30T16:01:25.385Z"
   },
   {
    "duration": 0,
    "start_time": "2022-07-30T16:01:25.387Z"
   },
   {
    "duration": 0,
    "start_time": "2022-07-30T16:01:25.387Z"
   },
   {
    "duration": 0,
    "start_time": "2022-07-30T16:01:25.388Z"
   },
   {
    "duration": 0,
    "start_time": "2022-07-30T16:01:25.390Z"
   },
   {
    "duration": 0,
    "start_time": "2022-07-30T16:01:25.391Z"
   },
   {
    "duration": 0,
    "start_time": "2022-07-30T16:01:25.392Z"
   },
   {
    "duration": 0,
    "start_time": "2022-07-30T16:01:25.393Z"
   },
   {
    "duration": 0,
    "start_time": "2022-07-30T16:01:25.394Z"
   },
   {
    "duration": 0,
    "start_time": "2022-07-30T16:01:25.395Z"
   },
   {
    "duration": 0,
    "start_time": "2022-07-30T16:01:25.396Z"
   },
   {
    "duration": 0,
    "start_time": "2022-07-30T16:01:25.436Z"
   },
   {
    "duration": 0,
    "start_time": "2022-07-30T16:01:25.438Z"
   },
   {
    "duration": 0,
    "start_time": "2022-07-30T16:01:25.439Z"
   },
   {
    "duration": 0,
    "start_time": "2022-07-30T16:01:25.440Z"
   },
   {
    "duration": 0,
    "start_time": "2022-07-30T16:01:25.441Z"
   },
   {
    "duration": 0,
    "start_time": "2022-07-30T16:01:25.441Z"
   },
   {
    "duration": 0,
    "start_time": "2022-07-30T16:01:25.443Z"
   },
   {
    "duration": 0,
    "start_time": "2022-07-30T16:01:25.443Z"
   },
   {
    "duration": 0,
    "start_time": "2022-07-30T16:01:25.444Z"
   },
   {
    "duration": 0,
    "start_time": "2022-07-30T16:01:25.445Z"
   },
   {
    "duration": 0,
    "start_time": "2022-07-30T16:01:25.446Z"
   },
   {
    "duration": 0,
    "start_time": "2022-07-30T16:01:25.447Z"
   },
   {
    "duration": 0,
    "start_time": "2022-07-30T16:01:25.448Z"
   },
   {
    "duration": 0,
    "start_time": "2022-07-30T16:01:25.449Z"
   },
   {
    "duration": 0,
    "start_time": "2022-07-30T16:01:25.450Z"
   },
   {
    "duration": 0,
    "start_time": "2022-07-30T16:01:25.451Z"
   },
   {
    "duration": 0,
    "start_time": "2022-07-30T16:01:25.452Z"
   },
   {
    "duration": 0,
    "start_time": "2022-07-30T16:01:25.453Z"
   },
   {
    "duration": 0,
    "start_time": "2022-07-30T16:01:25.456Z"
   },
   {
    "duration": 0,
    "start_time": "2022-07-30T16:01:25.457Z"
   },
   {
    "duration": 0,
    "start_time": "2022-07-30T16:01:25.458Z"
   },
   {
    "duration": 0,
    "start_time": "2022-07-30T16:01:25.460Z"
   },
   {
    "duration": 4,
    "start_time": "2022-07-30T16:02:05.346Z"
   },
   {
    "duration": 9,
    "start_time": "2022-07-30T16:02:12.365Z"
   },
   {
    "duration": 10,
    "start_time": "2022-07-30T16:02:40.062Z"
   },
   {
    "duration": 9,
    "start_time": "2022-07-30T16:02:44.652Z"
   },
   {
    "duration": 83,
    "start_time": "2022-07-30T16:03:26.894Z"
   },
   {
    "duration": 13,
    "start_time": "2022-07-30T16:03:34.948Z"
   },
   {
    "duration": 14,
    "start_time": "2022-07-30T16:04:15.019Z"
   },
   {
    "duration": 13,
    "start_time": "2022-07-30T16:04:40.999Z"
   },
   {
    "duration": 179,
    "start_time": "2022-07-30T16:04:47.525Z"
   },
   {
    "duration": 16,
    "start_time": "2022-07-30T16:04:47.706Z"
   },
   {
    "duration": 16,
    "start_time": "2022-07-30T16:04:47.724Z"
   },
   {
    "duration": 13,
    "start_time": "2022-07-30T16:04:47.742Z"
   },
   {
    "duration": 31,
    "start_time": "2022-07-30T16:04:47.757Z"
   },
   {
    "duration": 9,
    "start_time": "2022-07-30T16:04:47.789Z"
   },
   {
    "duration": 4,
    "start_time": "2022-07-30T16:04:47.800Z"
   },
   {
    "duration": 3,
    "start_time": "2022-07-30T16:04:47.806Z"
   },
   {
    "duration": 29,
    "start_time": "2022-07-30T16:04:47.810Z"
   },
   {
    "duration": 9,
    "start_time": "2022-07-30T16:04:47.842Z"
   },
   {
    "duration": 4,
    "start_time": "2022-07-30T16:04:47.852Z"
   },
   {
    "duration": 5,
    "start_time": "2022-07-30T16:04:47.858Z"
   },
   {
    "duration": 7,
    "start_time": "2022-07-30T16:04:47.864Z"
   },
   {
    "duration": 10,
    "start_time": "2022-07-30T16:04:47.872Z"
   },
   {
    "duration": 7,
    "start_time": "2022-07-30T16:04:47.883Z"
   },
   {
    "duration": 7,
    "start_time": "2022-07-30T16:04:47.891Z"
   },
   {
    "duration": 4,
    "start_time": "2022-07-30T16:04:47.900Z"
   },
   {
    "duration": 37,
    "start_time": "2022-07-30T16:04:47.905Z"
   },
   {
    "duration": 12,
    "start_time": "2022-07-30T16:04:47.944Z"
   },
   {
    "duration": 4,
    "start_time": "2022-07-30T16:04:47.957Z"
   },
   {
    "duration": 24,
    "start_time": "2022-07-30T16:04:47.963Z"
   },
   {
    "duration": 5,
    "start_time": "2022-07-30T16:04:47.989Z"
   },
   {
    "duration": 4,
    "start_time": "2022-07-30T16:04:47.996Z"
   },
   {
    "duration": 8,
    "start_time": "2022-07-30T16:04:48.001Z"
   },
   {
    "duration": 31,
    "start_time": "2022-07-30T16:04:48.010Z"
   },
   {
    "duration": 7,
    "start_time": "2022-07-30T16:04:48.043Z"
   },
   {
    "duration": 7,
    "start_time": "2022-07-30T16:04:48.052Z"
   },
   {
    "duration": 7,
    "start_time": "2022-07-30T16:04:48.062Z"
   },
   {
    "duration": 9,
    "start_time": "2022-07-30T16:04:48.070Z"
   },
   {
    "duration": 9,
    "start_time": "2022-07-30T16:04:48.081Z"
   },
   {
    "duration": 63,
    "start_time": "2022-07-30T16:04:48.091Z"
   },
   {
    "duration": 17,
    "start_time": "2022-07-30T16:04:48.155Z"
   },
   {
    "duration": 17,
    "start_time": "2022-07-30T16:04:48.174Z"
   },
   {
    "duration": 16,
    "start_time": "2022-07-30T16:04:48.193Z"
   },
   {
    "duration": 36,
    "start_time": "2022-07-30T16:04:48.211Z"
   },
   {
    "duration": 3,
    "start_time": "2022-07-30T16:04:48.249Z"
   },
   {
    "duration": 9,
    "start_time": "2022-07-30T16:04:48.253Z"
   },
   {
    "duration": 20,
    "start_time": "2022-07-30T16:04:48.264Z"
   },
   {
    "duration": 3,
    "start_time": "2022-07-30T16:04:48.285Z"
   },
   {
    "duration": 15,
    "start_time": "2022-07-30T16:04:48.289Z"
   },
   {
    "duration": 32,
    "start_time": "2022-07-30T16:04:48.305Z"
   },
   {
    "duration": 6,
    "start_time": "2022-07-30T16:04:48.339Z"
   },
   {
    "duration": 31,
    "start_time": "2022-07-30T16:04:48.346Z"
   },
   {
    "duration": 8,
    "start_time": "2022-07-30T16:04:48.379Z"
   },
   {
    "duration": 7,
    "start_time": "2022-07-30T16:04:48.389Z"
   },
   {
    "duration": 3,
    "start_time": "2022-07-30T16:04:48.397Z"
   },
   {
    "duration": 7,
    "start_time": "2022-07-30T16:04:48.401Z"
   },
   {
    "duration": 14,
    "start_time": "2022-07-30T16:04:48.409Z"
   },
   {
    "duration": 0,
    "start_time": "2022-07-30T16:04:48.425Z"
   },
   {
    "duration": 0,
    "start_time": "2022-07-30T16:04:48.436Z"
   },
   {
    "duration": 0,
    "start_time": "2022-07-30T16:04:48.437Z"
   },
   {
    "duration": 0,
    "start_time": "2022-07-30T16:04:48.439Z"
   },
   {
    "duration": 0,
    "start_time": "2022-07-30T16:04:48.440Z"
   },
   {
    "duration": 0,
    "start_time": "2022-07-30T16:04:48.442Z"
   },
   {
    "duration": 0,
    "start_time": "2022-07-30T16:04:48.443Z"
   },
   {
    "duration": 0,
    "start_time": "2022-07-30T16:04:48.445Z"
   },
   {
    "duration": 0,
    "start_time": "2022-07-30T16:04:48.446Z"
   },
   {
    "duration": 0,
    "start_time": "2022-07-30T16:04:48.447Z"
   },
   {
    "duration": 0,
    "start_time": "2022-07-30T16:04:48.447Z"
   },
   {
    "duration": 0,
    "start_time": "2022-07-30T16:04:48.448Z"
   },
   {
    "duration": 0,
    "start_time": "2022-07-30T16:04:48.449Z"
   },
   {
    "duration": 0,
    "start_time": "2022-07-30T16:04:48.450Z"
   },
   {
    "duration": 0,
    "start_time": "2022-07-30T16:04:48.451Z"
   },
   {
    "duration": 0,
    "start_time": "2022-07-30T16:04:48.452Z"
   },
   {
    "duration": 0,
    "start_time": "2022-07-30T16:04:48.453Z"
   },
   {
    "duration": 0,
    "start_time": "2022-07-30T16:04:48.454Z"
   },
   {
    "duration": 0,
    "start_time": "2022-07-30T16:04:48.455Z"
   },
   {
    "duration": 0,
    "start_time": "2022-07-30T16:04:48.456Z"
   },
   {
    "duration": 11,
    "start_time": "2022-07-30T16:05:15.364Z"
   },
   {
    "duration": 10,
    "start_time": "2022-07-30T16:06:12.379Z"
   },
   {
    "duration": 10,
    "start_time": "2022-07-30T16:06:15.662Z"
   },
   {
    "duration": 10,
    "start_time": "2022-07-30T16:12:38.523Z"
   },
   {
    "duration": 9,
    "start_time": "2022-07-30T16:13:04.916Z"
   },
   {
    "duration": 9,
    "start_time": "2022-07-30T16:19:47.575Z"
   },
   {
    "duration": 9,
    "start_time": "2022-07-30T16:20:02.965Z"
   },
   {
    "duration": 10,
    "start_time": "2022-07-30T16:25:29.709Z"
   },
   {
    "duration": 6,
    "start_time": "2022-07-30T16:25:41.426Z"
   },
   {
    "duration": 9,
    "start_time": "2022-07-30T16:26:18.969Z"
   },
   {
    "duration": 11,
    "start_time": "2022-07-30T16:27:03.317Z"
   },
   {
    "duration": 10,
    "start_time": "2022-07-30T16:27:06.991Z"
   },
   {
    "duration": 12,
    "start_time": "2022-07-30T16:28:13.774Z"
   },
   {
    "duration": 11,
    "start_time": "2022-07-30T16:28:17.189Z"
   },
   {
    "duration": 86,
    "start_time": "2022-07-30T16:28:21.161Z"
   },
   {
    "duration": 17,
    "start_time": "2022-07-30T16:28:21.249Z"
   },
   {
    "duration": 16,
    "start_time": "2022-07-30T16:28:21.267Z"
   },
   {
    "duration": 12,
    "start_time": "2022-07-30T16:28:21.285Z"
   },
   {
    "duration": 65,
    "start_time": "2022-07-30T16:28:21.300Z"
   },
   {
    "duration": 10,
    "start_time": "2022-07-30T16:28:21.367Z"
   },
   {
    "duration": 5,
    "start_time": "2022-07-30T16:28:21.379Z"
   },
   {
    "duration": 8,
    "start_time": "2022-07-30T16:28:21.386Z"
   },
   {
    "duration": 11,
    "start_time": "2022-07-30T16:28:21.395Z"
   },
   {
    "duration": 3,
    "start_time": "2022-07-30T16:28:21.436Z"
   },
   {
    "duration": 5,
    "start_time": "2022-07-30T16:28:21.440Z"
   },
   {
    "duration": 5,
    "start_time": "2022-07-30T16:28:21.447Z"
   },
   {
    "duration": 8,
    "start_time": "2022-07-30T16:28:21.454Z"
   },
   {
    "duration": 10,
    "start_time": "2022-07-30T16:28:21.466Z"
   },
   {
    "duration": 10,
    "start_time": "2022-07-30T16:28:21.477Z"
   },
   {
    "duration": 8,
    "start_time": "2022-07-30T16:28:21.489Z"
   },
   {
    "duration": 4,
    "start_time": "2022-07-30T16:28:21.499Z"
   },
   {
    "duration": 34,
    "start_time": "2022-07-30T16:28:21.504Z"
   },
   {
    "duration": 11,
    "start_time": "2022-07-30T16:28:21.539Z"
   },
   {
    "duration": 4,
    "start_time": "2022-07-30T16:28:21.551Z"
   },
   {
    "duration": 10,
    "start_time": "2022-07-30T16:28:21.556Z"
   },
   {
    "duration": 5,
    "start_time": "2022-07-30T16:28:21.567Z"
   },
   {
    "duration": 4,
    "start_time": "2022-07-30T16:28:21.574Z"
   },
   {
    "duration": 9,
    "start_time": "2022-07-30T16:28:21.579Z"
   },
   {
    "duration": 12,
    "start_time": "2022-07-30T16:28:21.589Z"
   },
   {
    "duration": 41,
    "start_time": "2022-07-30T16:28:21.602Z"
   },
   {
    "duration": 10,
    "start_time": "2022-07-30T16:28:21.645Z"
   },
   {
    "duration": 8,
    "start_time": "2022-07-30T16:28:21.657Z"
   },
   {
    "duration": 8,
    "start_time": "2022-07-30T16:28:21.666Z"
   },
   {
    "duration": 9,
    "start_time": "2022-07-30T16:28:21.675Z"
   },
   {
    "duration": 55,
    "start_time": "2022-07-30T16:28:21.685Z"
   },
   {
    "duration": 18,
    "start_time": "2022-07-30T16:28:21.741Z"
   },
   {
    "duration": 17,
    "start_time": "2022-07-30T16:28:21.760Z"
   },
   {
    "duration": 16,
    "start_time": "2022-07-30T16:28:21.779Z"
   },
   {
    "duration": 40,
    "start_time": "2022-07-30T16:28:21.797Z"
   },
   {
    "duration": 3,
    "start_time": "2022-07-30T16:28:21.839Z"
   },
   {
    "duration": 11,
    "start_time": "2022-07-30T16:28:21.843Z"
   },
   {
    "duration": 20,
    "start_time": "2022-07-30T16:28:21.855Z"
   },
   {
    "duration": 6,
    "start_time": "2022-07-30T16:28:21.876Z"
   },
   {
    "duration": 13,
    "start_time": "2022-07-30T16:28:21.883Z"
   },
   {
    "duration": 6,
    "start_time": "2022-07-30T16:28:21.900Z"
   },
   {
    "duration": 30,
    "start_time": "2022-07-30T16:28:21.908Z"
   },
   {
    "duration": 7,
    "start_time": "2022-07-30T16:28:21.940Z"
   },
   {
    "duration": 8,
    "start_time": "2022-07-30T16:28:21.948Z"
   },
   {
    "duration": 8,
    "start_time": "2022-07-30T16:28:21.957Z"
   },
   {
    "duration": 6,
    "start_time": "2022-07-30T16:28:21.966Z"
   },
   {
    "duration": 4,
    "start_time": "2022-07-30T16:28:21.974Z"
   },
   {
    "duration": 12,
    "start_time": "2022-07-30T16:28:21.979Z"
   },
   {
    "duration": 7,
    "start_time": "2022-07-30T16:28:21.993Z"
   },
   {
    "duration": 36,
    "start_time": "2022-07-30T16:28:22.002Z"
   },
   {
    "duration": 4,
    "start_time": "2022-07-30T16:28:22.039Z"
   },
   {
    "duration": 6,
    "start_time": "2022-07-30T16:28:22.045Z"
   },
   {
    "duration": 5,
    "start_time": "2022-07-30T16:28:22.052Z"
   },
   {
    "duration": 5,
    "start_time": "2022-07-30T16:28:22.058Z"
   },
   {
    "duration": 3,
    "start_time": "2022-07-30T16:28:22.065Z"
   },
   {
    "duration": 8,
    "start_time": "2022-07-30T16:28:22.070Z"
   },
   {
    "duration": 6,
    "start_time": "2022-07-30T16:28:22.079Z"
   },
   {
    "duration": 6,
    "start_time": "2022-07-30T16:28:22.086Z"
   },
   {
    "duration": 5,
    "start_time": "2022-07-30T16:28:22.093Z"
   },
   {
    "duration": 4,
    "start_time": "2022-07-30T16:28:22.100Z"
   },
   {
    "duration": 5,
    "start_time": "2022-07-30T16:28:22.106Z"
   },
   {
    "duration": 5,
    "start_time": "2022-07-30T16:28:22.112Z"
   },
   {
    "duration": 5,
    "start_time": "2022-07-30T16:28:22.119Z"
   },
   {
    "duration": 6,
    "start_time": "2022-07-30T16:28:22.137Z"
   },
   {
    "duration": 5,
    "start_time": "2022-07-30T16:28:22.144Z"
   },
   {
    "duration": 4,
    "start_time": "2022-07-30T16:28:22.151Z"
   },
   {
    "duration": 6,
    "start_time": "2022-07-30T16:28:22.157Z"
   },
   {
    "duration": 5,
    "start_time": "2022-07-30T16:28:22.164Z"
   },
   {
    "duration": 9,
    "start_time": "2022-07-30T16:29:05.059Z"
   },
   {
    "duration": 10,
    "start_time": "2022-07-30T16:29:25.517Z"
   },
   {
    "duration": 10,
    "start_time": "2022-07-30T16:29:39.815Z"
   },
   {
    "duration": 9,
    "start_time": "2022-07-30T16:29:52.190Z"
   },
   {
    "duration": 10,
    "start_time": "2022-07-30T16:31:07.701Z"
   },
   {
    "duration": 18,
    "start_time": "2022-07-30T17:37:02.626Z"
   },
   {
    "duration": 8,
    "start_time": "2022-07-30T17:37:14.447Z"
   },
   {
    "duration": 8,
    "start_time": "2022-07-30T17:37:36.058Z"
   },
   {
    "duration": 11,
    "start_time": "2022-07-30T17:37:38.872Z"
   },
   {
    "duration": 8,
    "start_time": "2022-07-30T17:37:40.390Z"
   },
   {
    "duration": 18,
    "start_time": "2022-07-30T17:37:45.716Z"
   },
   {
    "duration": 5,
    "start_time": "2022-07-30T17:55:07.835Z"
   },
   {
    "duration": 43,
    "start_time": "2022-07-30T17:55:28.261Z"
   },
   {
    "duration": 87,
    "start_time": "2022-07-30T17:55:38.866Z"
   },
   {
    "duration": 19,
    "start_time": "2022-07-30T17:55:38.955Z"
   },
   {
    "duration": 33,
    "start_time": "2022-07-30T17:55:38.976Z"
   },
   {
    "duration": 30,
    "start_time": "2022-07-30T17:55:39.012Z"
   },
   {
    "duration": 43,
    "start_time": "2022-07-30T17:55:39.044Z"
   },
   {
    "duration": 12,
    "start_time": "2022-07-30T17:55:39.089Z"
   },
   {
    "duration": 13,
    "start_time": "2022-07-30T17:55:39.102Z"
   },
   {
    "duration": 3,
    "start_time": "2022-07-30T17:55:39.137Z"
   },
   {
    "duration": 5,
    "start_time": "2022-07-30T17:55:39.142Z"
   },
   {
    "duration": 4,
    "start_time": "2022-07-30T17:55:39.149Z"
   },
   {
    "duration": 4,
    "start_time": "2022-07-30T17:55:39.154Z"
   },
   {
    "duration": 6,
    "start_time": "2022-07-30T17:55:39.160Z"
   },
   {
    "duration": 7,
    "start_time": "2022-07-30T17:55:39.168Z"
   },
   {
    "duration": 10,
    "start_time": "2022-07-30T17:55:39.177Z"
   },
   {
    "duration": 9,
    "start_time": "2022-07-30T17:55:39.189Z"
   },
   {
    "duration": 7,
    "start_time": "2022-07-30T17:55:39.199Z"
   },
   {
    "duration": 30,
    "start_time": "2022-07-30T17:55:39.207Z"
   },
   {
    "duration": 5,
    "start_time": "2022-07-30T17:55:39.238Z"
   },
   {
    "duration": 14,
    "start_time": "2022-07-30T17:55:39.244Z"
   },
   {
    "duration": 4,
    "start_time": "2022-07-30T17:55:39.259Z"
   },
   {
    "duration": 10,
    "start_time": "2022-07-30T17:55:39.264Z"
   },
   {
    "duration": 5,
    "start_time": "2022-07-30T17:55:39.276Z"
   },
   {
    "duration": 6,
    "start_time": "2022-07-30T17:55:39.282Z"
   },
   {
    "duration": 8,
    "start_time": "2022-07-30T17:55:39.290Z"
   },
   {
    "duration": 46,
    "start_time": "2022-07-30T17:55:39.299Z"
   },
   {
    "duration": 6,
    "start_time": "2022-07-30T17:55:39.347Z"
   },
   {
    "duration": 6,
    "start_time": "2022-07-30T17:55:39.355Z"
   },
   {
    "duration": 6,
    "start_time": "2022-07-30T17:55:39.365Z"
   },
   {
    "duration": 10,
    "start_time": "2022-07-30T17:55:39.373Z"
   },
   {
    "duration": 10,
    "start_time": "2022-07-30T17:55:39.384Z"
   },
   {
    "duration": 66,
    "start_time": "2022-07-30T17:55:39.395Z"
   },
   {
    "duration": 18,
    "start_time": "2022-07-30T17:55:39.462Z"
   },
   {
    "duration": 18,
    "start_time": "2022-07-30T17:55:39.481Z"
   },
   {
    "duration": 37,
    "start_time": "2022-07-30T17:55:39.501Z"
   },
   {
    "duration": 14,
    "start_time": "2022-07-30T17:55:39.539Z"
   },
   {
    "duration": 2,
    "start_time": "2022-07-30T17:55:39.555Z"
   },
   {
    "duration": 11,
    "start_time": "2022-07-30T17:55:39.558Z"
   },
   {
    "duration": 23,
    "start_time": "2022-07-30T17:55:39.571Z"
   },
   {
    "duration": 2,
    "start_time": "2022-07-30T17:55:39.596Z"
   },
   {
    "duration": 10,
    "start_time": "2022-07-30T17:55:39.599Z"
   },
   {
    "duration": 31,
    "start_time": "2022-07-30T17:55:39.611Z"
   },
   {
    "duration": 5,
    "start_time": "2022-07-30T17:55:39.644Z"
   },
   {
    "duration": 7,
    "start_time": "2022-07-30T17:55:39.651Z"
   },
   {
    "duration": 13,
    "start_time": "2022-07-30T17:55:39.659Z"
   },
   {
    "duration": 7,
    "start_time": "2022-07-30T17:55:39.673Z"
   },
   {
    "duration": 2,
    "start_time": "2022-07-30T17:55:39.681Z"
   },
   {
    "duration": 4,
    "start_time": "2022-07-30T17:55:39.685Z"
   },
   {
    "duration": 10,
    "start_time": "2022-07-30T17:55:39.690Z"
   },
   {
    "duration": 37,
    "start_time": "2022-07-30T17:55:39.701Z"
   },
   {
    "duration": 2,
    "start_time": "2022-07-30T17:55:39.740Z"
   },
   {
    "duration": 7,
    "start_time": "2022-07-30T17:55:39.743Z"
   },
   {
    "duration": 4,
    "start_time": "2022-07-30T17:55:39.752Z"
   },
   {
    "duration": 4,
    "start_time": "2022-07-30T17:55:39.758Z"
   },
   {
    "duration": 5,
    "start_time": "2022-07-30T17:55:39.763Z"
   },
   {
    "duration": 4,
    "start_time": "2022-07-30T17:55:39.769Z"
   },
   {
    "duration": 4,
    "start_time": "2022-07-30T17:55:39.775Z"
   },
   {
    "duration": 4,
    "start_time": "2022-07-30T17:55:39.781Z"
   },
   {
    "duration": 5,
    "start_time": "2022-07-30T17:55:39.786Z"
   },
   {
    "duration": 5,
    "start_time": "2022-07-30T17:55:39.792Z"
   },
   {
    "duration": 4,
    "start_time": "2022-07-30T17:55:39.798Z"
   },
   {
    "duration": 4,
    "start_time": "2022-07-30T17:55:39.804Z"
   },
   {
    "duration": 28,
    "start_time": "2022-07-30T17:55:39.809Z"
   },
   {
    "duration": 2,
    "start_time": "2022-07-30T17:55:39.838Z"
   },
   {
    "duration": 3,
    "start_time": "2022-07-30T17:55:39.842Z"
   },
   {
    "duration": 4,
    "start_time": "2022-07-30T17:55:39.847Z"
   },
   {
    "duration": 3,
    "start_time": "2022-07-30T17:55:39.853Z"
   },
   {
    "duration": 4,
    "start_time": "2022-07-30T17:55:39.858Z"
   },
   {
    "duration": 5,
    "start_time": "2022-07-30T17:55:39.864Z"
   },
   {
    "duration": 25,
    "start_time": "2022-07-30T17:56:41.287Z"
   },
   {
    "duration": 36,
    "start_time": "2022-07-30T17:57:11.634Z"
   },
   {
    "duration": 19,
    "start_time": "2022-07-30T17:57:22.464Z"
   },
   {
    "duration": 20,
    "start_time": "2022-07-30T17:57:26.454Z"
   },
   {
    "duration": 74,
    "start_time": "2022-07-30T17:57:31.266Z"
   },
   {
    "duration": 14,
    "start_time": "2022-07-30T17:57:31.342Z"
   },
   {
    "duration": 14,
    "start_time": "2022-07-30T17:57:31.357Z"
   },
   {
    "duration": 11,
    "start_time": "2022-07-30T17:57:31.373Z"
   },
   {
    "duration": 56,
    "start_time": "2022-07-30T17:57:31.386Z"
   },
   {
    "duration": 10,
    "start_time": "2022-07-30T17:57:31.443Z"
   },
   {
    "duration": 7,
    "start_time": "2022-07-30T17:57:31.454Z"
   },
   {
    "duration": 7,
    "start_time": "2022-07-30T17:57:31.462Z"
   },
   {
    "duration": 11,
    "start_time": "2022-07-30T17:57:31.471Z"
   },
   {
    "duration": 7,
    "start_time": "2022-07-30T17:57:31.483Z"
   },
   {
    "duration": 10,
    "start_time": "2022-07-30T17:57:31.491Z"
   },
   {
    "duration": 11,
    "start_time": "2022-07-30T17:57:31.503Z"
   },
   {
    "duration": 8,
    "start_time": "2022-07-30T17:57:31.515Z"
   },
   {
    "duration": 17,
    "start_time": "2022-07-30T17:57:31.526Z"
   },
   {
    "duration": 10,
    "start_time": "2022-07-30T17:57:31.544Z"
   },
   {
    "duration": 10,
    "start_time": "2022-07-30T17:57:31.555Z"
   },
   {
    "duration": 8,
    "start_time": "2022-07-30T17:57:31.567Z"
   },
   {
    "duration": 11,
    "start_time": "2022-07-30T17:57:31.576Z"
   },
   {
    "duration": 15,
    "start_time": "2022-07-30T17:57:31.589Z"
   },
   {
    "duration": 4,
    "start_time": "2022-07-30T17:57:31.605Z"
   },
   {
    "duration": 11,
    "start_time": "2022-07-30T17:57:31.610Z"
   },
   {
    "duration": 17,
    "start_time": "2022-07-30T17:57:31.623Z"
   },
   {
    "duration": 5,
    "start_time": "2022-07-30T17:57:31.642Z"
   },
   {
    "duration": 14,
    "start_time": "2022-07-30T17:57:31.648Z"
   },
   {
    "duration": 12,
    "start_time": "2022-07-30T17:57:31.664Z"
   },
   {
    "duration": 7,
    "start_time": "2022-07-30T17:57:31.677Z"
   },
   {
    "duration": 5,
    "start_time": "2022-07-30T17:57:31.685Z"
   },
   {
    "duration": 18,
    "start_time": "2022-07-30T17:57:31.691Z"
   },
   {
    "duration": 27,
    "start_time": "2022-07-30T17:57:31.711Z"
   },
   {
    "duration": 10,
    "start_time": "2022-07-30T17:57:31.739Z"
   },
   {
    "duration": 33,
    "start_time": "2022-07-30T17:57:31.750Z"
   },
   {
    "duration": 17,
    "start_time": "2022-07-30T17:57:31.784Z"
   },
   {
    "duration": 38,
    "start_time": "2022-07-30T17:57:31.803Z"
   },
   {
    "duration": 16,
    "start_time": "2022-07-30T17:57:31.843Z"
   },
   {
    "duration": 21,
    "start_time": "2022-07-30T17:57:31.860Z"
   },
   {
    "duration": 8,
    "start_time": "2022-07-30T17:57:31.882Z"
   },
   {
    "duration": 23,
    "start_time": "2022-07-30T17:57:31.891Z"
   },
   {
    "duration": 27,
    "start_time": "2022-07-30T17:57:31.915Z"
   },
   {
    "duration": 4,
    "start_time": "2022-07-30T17:57:31.943Z"
   },
   {
    "duration": 12,
    "start_time": "2022-07-30T17:57:31.948Z"
   },
   {
    "duration": 7,
    "start_time": "2022-07-30T17:57:31.963Z"
   },
   {
    "duration": 6,
    "start_time": "2022-07-30T17:57:31.972Z"
   },
   {
    "duration": 9,
    "start_time": "2022-07-30T17:57:31.979Z"
   },
   {
    "duration": 10,
    "start_time": "2022-07-30T17:57:31.989Z"
   },
   {
    "duration": 7,
    "start_time": "2022-07-30T17:57:32.000Z"
   },
   {
    "duration": 28,
    "start_time": "2022-07-30T17:57:32.009Z"
   },
   {
    "duration": 5,
    "start_time": "2022-07-30T17:57:32.039Z"
   },
   {
    "duration": 11,
    "start_time": "2022-07-30T17:57:32.045Z"
   },
   {
    "duration": 7,
    "start_time": "2022-07-30T17:57:32.057Z"
   },
   {
    "duration": 2,
    "start_time": "2022-07-30T17:57:32.066Z"
   },
   {
    "duration": 6,
    "start_time": "2022-07-30T17:57:32.069Z"
   },
   {
    "duration": 6,
    "start_time": "2022-07-30T17:57:32.076Z"
   },
   {
    "duration": 4,
    "start_time": "2022-07-30T17:57:32.083Z"
   },
   {
    "duration": 7,
    "start_time": "2022-07-30T17:57:32.089Z"
   },
   {
    "duration": 4,
    "start_time": "2022-07-30T17:57:32.097Z"
   },
   {
    "duration": 8,
    "start_time": "2022-07-30T17:57:32.103Z"
   },
   {
    "duration": 24,
    "start_time": "2022-07-30T17:57:32.113Z"
   },
   {
    "duration": 2,
    "start_time": "2022-07-30T17:57:32.139Z"
   },
   {
    "duration": 5,
    "start_time": "2022-07-30T17:57:32.142Z"
   },
   {
    "duration": 6,
    "start_time": "2022-07-30T17:57:32.149Z"
   },
   {
    "duration": 7,
    "start_time": "2022-07-30T17:57:32.156Z"
   },
   {
    "duration": 4,
    "start_time": "2022-07-30T17:57:32.165Z"
   },
   {
    "duration": 8,
    "start_time": "2022-07-30T17:57:32.171Z"
   },
   {
    "duration": 6,
    "start_time": "2022-07-30T17:57:32.181Z"
   },
   {
    "duration": 7,
    "start_time": "2022-07-30T17:57:32.188Z"
   },
   {
    "duration": 5,
    "start_time": "2022-07-30T17:57:32.197Z"
   },
   {
    "duration": 6,
    "start_time": "2022-07-30T17:57:32.204Z"
   },
   {
    "duration": 8,
    "start_time": "2022-07-30T17:57:32.212Z"
   },
   {
    "duration": 96,
    "start_time": "2022-07-30T18:14:00.145Z"
   },
   {
    "duration": 15,
    "start_time": "2022-07-30T18:14:00.243Z"
   },
   {
    "duration": 36,
    "start_time": "2022-07-30T18:14:00.260Z"
   },
   {
    "duration": 15,
    "start_time": "2022-07-30T18:14:00.297Z"
   },
   {
    "duration": 32,
    "start_time": "2022-07-30T18:14:00.336Z"
   },
   {
    "duration": 9,
    "start_time": "2022-07-30T18:14:00.369Z"
   },
   {
    "duration": 6,
    "start_time": "2022-07-30T18:14:00.380Z"
   },
   {
    "duration": 4,
    "start_time": "2022-07-30T18:14:00.388Z"
   },
   {
    "duration": 9,
    "start_time": "2022-07-30T18:14:00.393Z"
   },
   {
    "duration": 16,
    "start_time": "2022-07-30T18:14:00.404Z"
   },
   {
    "duration": 10,
    "start_time": "2022-07-30T18:14:00.437Z"
   },
   {
    "duration": 6,
    "start_time": "2022-07-30T18:14:00.449Z"
   },
   {
    "duration": 23,
    "start_time": "2022-07-30T18:14:00.456Z"
   },
   {
    "duration": 15,
    "start_time": "2022-07-30T18:14:00.482Z"
   },
   {
    "duration": 18,
    "start_time": "2022-07-30T18:14:00.499Z"
   },
   {
    "duration": 16,
    "start_time": "2022-07-30T18:14:00.518Z"
   },
   {
    "duration": 10,
    "start_time": "2022-07-30T18:14:00.536Z"
   },
   {
    "duration": 30,
    "start_time": "2022-07-30T18:14:00.548Z"
   },
   {
    "duration": 18,
    "start_time": "2022-07-30T18:14:00.579Z"
   },
   {
    "duration": 7,
    "start_time": "2022-07-30T18:14:00.599Z"
   },
   {
    "duration": 17,
    "start_time": "2022-07-30T18:14:00.607Z"
   },
   {
    "duration": 16,
    "start_time": "2022-07-30T18:14:00.626Z"
   },
   {
    "duration": 23,
    "start_time": "2022-07-30T18:14:00.643Z"
   },
   {
    "duration": 22,
    "start_time": "2022-07-30T18:14:00.668Z"
   },
   {
    "duration": 16,
    "start_time": "2022-07-30T18:14:00.692Z"
   },
   {
    "duration": 6,
    "start_time": "2022-07-30T18:14:00.710Z"
   },
   {
    "duration": 12,
    "start_time": "2022-07-30T18:14:00.718Z"
   },
   {
    "duration": 12,
    "start_time": "2022-07-30T18:14:00.732Z"
   },
   {
    "duration": 12,
    "start_time": "2022-07-30T18:14:00.745Z"
   },
   {
    "duration": 11,
    "start_time": "2022-07-30T18:14:00.758Z"
   },
   {
    "duration": 42,
    "start_time": "2022-07-30T18:14:00.770Z"
   },
   {
    "duration": 21,
    "start_time": "2022-07-30T18:14:00.813Z"
   },
   {
    "duration": 19,
    "start_time": "2022-07-30T18:14:00.836Z"
   },
   {
    "duration": 20,
    "start_time": "2022-07-30T18:14:00.857Z"
   },
   {
    "duration": 14,
    "start_time": "2022-07-30T18:14:00.879Z"
   },
   {
    "duration": 5,
    "start_time": "2022-07-30T18:14:00.895Z"
   },
   {
    "duration": 38,
    "start_time": "2022-07-30T18:14:00.902Z"
   },
   {
    "duration": 24,
    "start_time": "2022-07-30T18:14:00.942Z"
   },
   {
    "duration": 2,
    "start_time": "2022-07-30T18:14:00.968Z"
   },
   {
    "duration": 17,
    "start_time": "2022-07-30T18:14:00.972Z"
   },
   {
    "duration": 31,
    "start_time": "2022-07-30T18:14:00.994Z"
   },
   {
    "duration": 9,
    "start_time": "2022-07-30T18:14:01.027Z"
   },
   {
    "duration": 20,
    "start_time": "2022-07-30T18:14:01.038Z"
   },
   {
    "duration": 19,
    "start_time": "2022-07-30T18:14:01.059Z"
   },
   {
    "duration": 17,
    "start_time": "2022-07-30T18:14:01.080Z"
   },
   {
    "duration": 10,
    "start_time": "2022-07-30T18:14:01.099Z"
   },
   {
    "duration": 25,
    "start_time": "2022-07-30T18:14:01.111Z"
   },
   {
    "duration": 23,
    "start_time": "2022-07-30T18:14:01.138Z"
   },
   {
    "duration": 20,
    "start_time": "2022-07-30T18:14:01.163Z"
   },
   {
    "duration": 22,
    "start_time": "2022-07-30T18:14:01.185Z"
   },
   {
    "duration": 16,
    "start_time": "2022-07-30T18:14:01.208Z"
   },
   {
    "duration": 7,
    "start_time": "2022-07-30T18:14:01.225Z"
   },
   {
    "duration": 16,
    "start_time": "2022-07-30T18:14:01.233Z"
   },
   {
    "duration": 23,
    "start_time": "2022-07-30T18:14:01.250Z"
   },
   {
    "duration": 31,
    "start_time": "2022-07-30T18:14:01.275Z"
   },
   {
    "duration": 16,
    "start_time": "2022-07-30T18:14:01.308Z"
   },
   {
    "duration": 26,
    "start_time": "2022-07-30T18:14:01.326Z"
   },
   {
    "duration": 16,
    "start_time": "2022-07-30T18:14:01.354Z"
   },
   {
    "duration": 9,
    "start_time": "2022-07-30T18:14:01.372Z"
   },
   {
    "duration": 16,
    "start_time": "2022-07-30T18:14:01.382Z"
   },
   {
    "duration": 8,
    "start_time": "2022-07-30T18:14:01.399Z"
   },
   {
    "duration": 9,
    "start_time": "2022-07-30T18:14:01.408Z"
   },
   {
    "duration": 8,
    "start_time": "2022-07-30T18:14:01.418Z"
   },
   {
    "duration": 11,
    "start_time": "2022-07-30T18:14:01.428Z"
   },
   {
    "duration": 10,
    "start_time": "2022-07-30T18:14:01.440Z"
   },
   {
    "duration": 5,
    "start_time": "2022-07-30T18:14:01.452Z"
   },
   {
    "duration": 10,
    "start_time": "2022-07-30T18:14:01.459Z"
   },
   {
    "duration": 10,
    "start_time": "2022-07-30T18:14:01.470Z"
   },
   {
    "duration": 50,
    "start_time": "2022-07-30T18:18:18.141Z"
   },
   {
    "duration": 26,
    "start_time": "2022-07-30T18:20:25.332Z"
   },
   {
    "duration": 11,
    "start_time": "2022-07-30T19:07:33.265Z"
   },
   {
    "duration": 5,
    "start_time": "2022-07-30T19:43:44.980Z"
   },
   {
    "duration": 6,
    "start_time": "2022-07-30T19:44:01.219Z"
   },
   {
    "duration": 40,
    "start_time": "2022-07-30T19:45:50.015Z"
   },
   {
    "duration": 33,
    "start_time": "2022-07-30T19:46:38.171Z"
   },
   {
    "duration": 31,
    "start_time": "2022-07-30T19:47:01.714Z"
   },
   {
    "duration": 15,
    "start_time": "2022-07-30T19:47:35.248Z"
   },
   {
    "duration": 64,
    "start_time": "2022-07-30T19:47:40.886Z"
   },
   {
    "duration": 6,
    "start_time": "2022-07-30T19:53:12.073Z"
   },
   {
    "duration": 9,
    "start_time": "2022-07-30T20:19:52.793Z"
   },
   {
    "duration": 10,
    "start_time": "2022-07-30T20:21:33.091Z"
   },
   {
    "duration": 10,
    "start_time": "2022-07-30T20:23:40.808Z"
   },
   {
    "duration": 11,
    "start_time": "2022-07-30T20:24:31.122Z"
   },
   {
    "duration": 9,
    "start_time": "2022-07-30T20:24:49.283Z"
   },
   {
    "duration": 13,
    "start_time": "2022-07-30T20:25:48.885Z"
   },
   {
    "duration": 11,
    "start_time": "2022-07-30T20:33:24.689Z"
   },
   {
    "duration": 3,
    "start_time": "2022-07-30T20:33:53.727Z"
   },
   {
    "duration": 10,
    "start_time": "2022-07-30T20:34:38.585Z"
   },
   {
    "duration": 11,
    "start_time": "2022-07-30T20:35:10.726Z"
   },
   {
    "duration": 46,
    "start_time": "2022-07-30T20:37:49.961Z"
   },
   {
    "duration": 10,
    "start_time": "2022-07-30T20:38:10.195Z"
   },
   {
    "duration": 9,
    "start_time": "2022-07-30T20:38:34.486Z"
   },
   {
    "duration": 14,
    "start_time": "2022-07-30T20:38:45.839Z"
   },
   {
    "duration": 10,
    "start_time": "2022-07-30T20:39:04.789Z"
   },
   {
    "duration": 12,
    "start_time": "2022-07-30T20:40:37.664Z"
   },
   {
    "duration": 11,
    "start_time": "2022-07-30T20:41:06.960Z"
   },
   {
    "duration": 9,
    "start_time": "2022-07-30T20:42:38.710Z"
   },
   {
    "duration": 9,
    "start_time": "2022-07-30T20:42:45.413Z"
   },
   {
    "duration": 10,
    "start_time": "2022-07-30T20:45:07.335Z"
   },
   {
    "duration": 11,
    "start_time": "2022-07-30T20:45:10.830Z"
   },
   {
    "duration": 11,
    "start_time": "2022-07-30T20:46:03.737Z"
   },
   {
    "duration": 10,
    "start_time": "2022-07-30T20:46:07.275Z"
   },
   {
    "duration": 97,
    "start_time": "2022-07-30T21:02:30.724Z"
   },
   {
    "duration": 14,
    "start_time": "2022-07-30T21:02:30.823Z"
   },
   {
    "duration": 18,
    "start_time": "2022-07-30T21:02:30.839Z"
   },
   {
    "duration": 12,
    "start_time": "2022-07-30T21:02:30.859Z"
   },
   {
    "duration": 33,
    "start_time": "2022-07-30T21:02:30.873Z"
   },
   {
    "duration": 32,
    "start_time": "2022-07-30T21:02:30.908Z"
   },
   {
    "duration": 5,
    "start_time": "2022-07-30T21:02:30.942Z"
   },
   {
    "duration": 5,
    "start_time": "2022-07-30T21:02:30.949Z"
   },
   {
    "duration": 11,
    "start_time": "2022-07-30T21:02:30.956Z"
   },
   {
    "duration": 7,
    "start_time": "2022-07-30T21:02:30.969Z"
   },
   {
    "duration": 9,
    "start_time": "2022-07-30T21:02:30.978Z"
   },
   {
    "duration": 13,
    "start_time": "2022-07-30T21:02:30.989Z"
   },
   {
    "duration": 23,
    "start_time": "2022-07-30T21:02:31.003Z"
   },
   {
    "duration": 21,
    "start_time": "2022-07-30T21:02:31.029Z"
   },
   {
    "duration": 15,
    "start_time": "2022-07-30T21:02:31.051Z"
   },
   {
    "duration": 22,
    "start_time": "2022-07-30T21:02:31.068Z"
   },
   {
    "duration": 20,
    "start_time": "2022-07-30T21:02:31.092Z"
   },
   {
    "duration": 16,
    "start_time": "2022-07-30T21:02:31.113Z"
   },
   {
    "duration": 15,
    "start_time": "2022-07-30T21:02:31.131Z"
   },
   {
    "duration": 9,
    "start_time": "2022-07-30T21:02:31.148Z"
   },
   {
    "duration": 12,
    "start_time": "2022-07-30T21:02:31.158Z"
   },
   {
    "duration": 14,
    "start_time": "2022-07-30T21:02:31.171Z"
   },
   {
    "duration": 14,
    "start_time": "2022-07-30T21:02:31.187Z"
   },
   {
    "duration": 12,
    "start_time": "2022-07-30T21:02:31.202Z"
   },
   {
    "duration": 13,
    "start_time": "2022-07-30T21:02:31.216Z"
   },
   {
    "duration": 23,
    "start_time": "2022-07-30T21:02:31.230Z"
   },
   {
    "duration": 6,
    "start_time": "2022-07-30T21:02:31.254Z"
   },
   {
    "duration": 13,
    "start_time": "2022-07-30T21:02:31.261Z"
   },
   {
    "duration": 14,
    "start_time": "2022-07-30T21:02:31.276Z"
   },
   {
    "duration": 32,
    "start_time": "2022-07-30T21:02:31.292Z"
   },
   {
    "duration": 45,
    "start_time": "2022-07-30T21:02:31.326Z"
   },
   {
    "duration": 18,
    "start_time": "2022-07-30T21:02:31.372Z"
   },
   {
    "duration": 18,
    "start_time": "2022-07-30T21:02:31.391Z"
   },
   {
    "duration": 31,
    "start_time": "2022-07-30T21:02:31.411Z"
   },
   {
    "duration": 14,
    "start_time": "2022-07-30T21:02:31.443Z"
   },
   {
    "duration": 13,
    "start_time": "2022-07-30T21:02:31.458Z"
   },
   {
    "duration": 10,
    "start_time": "2022-07-30T21:02:31.473Z"
   },
   {
    "duration": 17,
    "start_time": "2022-07-30T21:02:31.485Z"
   },
   {
    "duration": 9,
    "start_time": "2022-07-30T21:02:31.503Z"
   },
   {
    "duration": 4,
    "start_time": "2022-07-30T21:02:31.513Z"
   },
   {
    "duration": 20,
    "start_time": "2022-07-30T21:02:31.521Z"
   },
   {
    "duration": 9,
    "start_time": "2022-07-30T21:02:31.543Z"
   },
   {
    "duration": 13,
    "start_time": "2022-07-30T21:02:31.553Z"
   },
   {
    "duration": 21,
    "start_time": "2022-07-30T21:02:31.567Z"
   },
   {
    "duration": 13,
    "start_time": "2022-07-30T21:02:31.589Z"
   },
   {
    "duration": 11,
    "start_time": "2022-07-30T21:02:31.604Z"
   },
   {
    "duration": 11,
    "start_time": "2022-07-30T21:02:31.617Z"
   },
   {
    "duration": 10,
    "start_time": "2022-07-30T21:02:31.630Z"
   },
   {
    "duration": 18,
    "start_time": "2022-07-30T21:02:31.642Z"
   },
   {
    "duration": 8,
    "start_time": "2022-07-30T21:02:31.662Z"
   },
   {
    "duration": 2,
    "start_time": "2022-07-30T21:02:31.672Z"
   },
   {
    "duration": 7,
    "start_time": "2022-07-30T21:02:31.676Z"
   },
   {
    "duration": 10,
    "start_time": "2022-07-30T21:02:31.684Z"
   },
   {
    "duration": 5,
    "start_time": "2022-07-30T21:02:31.695Z"
   },
   {
    "duration": 6,
    "start_time": "2022-07-30T21:02:31.701Z"
   },
   {
    "duration": 5,
    "start_time": "2022-07-30T21:02:31.708Z"
   },
   {
    "duration": 5,
    "start_time": "2022-07-30T21:02:31.714Z"
   },
   {
    "duration": 45,
    "start_time": "2022-07-30T21:02:31.720Z"
   },
   {
    "duration": 4,
    "start_time": "2022-07-30T21:02:31.767Z"
   },
   {
    "duration": 5,
    "start_time": "2022-07-30T21:02:31.772Z"
   },
   {
    "duration": 6,
    "start_time": "2022-07-30T21:02:31.778Z"
   },
   {
    "duration": 7,
    "start_time": "2022-07-30T21:02:31.785Z"
   },
   {
    "duration": 9,
    "start_time": "2022-07-30T21:02:31.793Z"
   },
   {
    "duration": 8,
    "start_time": "2022-07-30T21:02:31.804Z"
   },
   {
    "duration": 7,
    "start_time": "2022-07-30T21:02:31.813Z"
   },
   {
    "duration": 4,
    "start_time": "2022-07-30T21:02:31.822Z"
   },
   {
    "duration": 9,
    "start_time": "2022-07-30T21:02:31.828Z"
   },
   {
    "duration": 2,
    "start_time": "2022-07-30T21:02:31.838Z"
   },
   {
    "duration": 9,
    "start_time": "2022-07-30T21:02:31.841Z"
   },
   {
    "duration": 11,
    "start_time": "2022-07-30T21:17:10.829Z"
   },
   {
    "duration": 9,
    "start_time": "2022-07-30T21:17:16.835Z"
   },
   {
    "duration": 11,
    "start_time": "2022-07-30T21:21:56.079Z"
   },
   {
    "duration": 6,
    "start_time": "2022-07-30T21:27:46.261Z"
   },
   {
    "duration": 5,
    "start_time": "2022-07-30T21:27:52.184Z"
   },
   {
    "duration": 7,
    "start_time": "2022-07-30T21:28:11.962Z"
   },
   {
    "duration": 9,
    "start_time": "2022-07-30T21:28:15.588Z"
   },
   {
    "duration": 7,
    "start_time": "2022-07-30T21:28:23.917Z"
   },
   {
    "duration": 7,
    "start_time": "2022-07-30T21:28:38.046Z"
   },
   {
    "duration": 9,
    "start_time": "2022-07-30T21:28:48.372Z"
   },
   {
    "duration": 6,
    "start_time": "2022-07-30T21:28:50.527Z"
   },
   {
    "duration": 101,
    "start_time": "2022-07-30T21:30:15.962Z"
   },
   {
    "duration": 14,
    "start_time": "2022-07-30T21:30:16.065Z"
   },
   {
    "duration": 16,
    "start_time": "2022-07-30T21:30:16.080Z"
   },
   {
    "duration": 38,
    "start_time": "2022-07-30T21:30:16.098Z"
   },
   {
    "duration": 33,
    "start_time": "2022-07-30T21:30:16.138Z"
   },
   {
    "duration": 10,
    "start_time": "2022-07-30T21:30:16.173Z"
   },
   {
    "duration": 7,
    "start_time": "2022-07-30T21:30:16.185Z"
   },
   {
    "duration": 8,
    "start_time": "2022-07-30T21:30:16.194Z"
   },
   {
    "duration": 6,
    "start_time": "2022-07-30T21:30:16.203Z"
   },
   {
    "duration": 4,
    "start_time": "2022-07-30T21:30:16.238Z"
   },
   {
    "duration": 9,
    "start_time": "2022-07-30T21:30:16.244Z"
   },
   {
    "duration": 6,
    "start_time": "2022-07-30T21:30:16.254Z"
   },
   {
    "duration": 10,
    "start_time": "2022-07-30T21:30:16.261Z"
   },
   {
    "duration": 13,
    "start_time": "2022-07-30T21:30:16.272Z"
   },
   {
    "duration": 13,
    "start_time": "2022-07-30T21:30:16.287Z"
   },
   {
    "duration": 11,
    "start_time": "2022-07-30T21:30:16.301Z"
   },
   {
    "duration": 28,
    "start_time": "2022-07-30T21:30:16.313Z"
   },
   {
    "duration": 8,
    "start_time": "2022-07-30T21:30:16.343Z"
   },
   {
    "duration": 17,
    "start_time": "2022-07-30T21:30:16.353Z"
   },
   {
    "duration": 4,
    "start_time": "2022-07-30T21:30:16.372Z"
   },
   {
    "duration": 9,
    "start_time": "2022-07-30T21:30:16.377Z"
   },
   {
    "duration": 8,
    "start_time": "2022-07-30T21:30:16.388Z"
   },
   {
    "duration": 10,
    "start_time": "2022-07-30T21:30:16.397Z"
   },
   {
    "duration": 9,
    "start_time": "2022-07-30T21:30:16.409Z"
   },
   {
    "duration": 25,
    "start_time": "2022-07-30T21:30:16.419Z"
   },
   {
    "duration": 6,
    "start_time": "2022-07-30T21:30:16.446Z"
   },
   {
    "duration": 13,
    "start_time": "2022-07-30T21:30:16.454Z"
   },
   {
    "duration": 18,
    "start_time": "2022-07-30T21:30:16.472Z"
   },
   {
    "duration": 13,
    "start_time": "2022-07-30T21:30:16.492Z"
   },
   {
    "duration": 9,
    "start_time": "2022-07-30T21:30:16.506Z"
   },
   {
    "duration": 43,
    "start_time": "2022-07-30T21:30:16.517Z"
   },
   {
    "duration": 18,
    "start_time": "2022-07-30T21:30:16.561Z"
   },
   {
    "duration": 19,
    "start_time": "2022-07-30T21:30:16.580Z"
   },
   {
    "duration": 42,
    "start_time": "2022-07-30T21:30:16.600Z"
   },
   {
    "duration": 15,
    "start_time": "2022-07-30T21:30:16.643Z"
   },
   {
    "duration": 3,
    "start_time": "2022-07-30T21:30:16.659Z"
   },
   {
    "duration": 13,
    "start_time": "2022-07-30T21:30:16.663Z"
   },
   {
    "duration": 16,
    "start_time": "2022-07-30T21:30:16.677Z"
   },
   {
    "duration": 10,
    "start_time": "2022-07-30T21:30:16.695Z"
   },
   {
    "duration": 3,
    "start_time": "2022-07-30T21:30:16.706Z"
   },
   {
    "duration": 35,
    "start_time": "2022-07-30T21:30:16.710Z"
   },
   {
    "duration": 12,
    "start_time": "2022-07-30T21:30:16.747Z"
   },
   {
    "duration": 10,
    "start_time": "2022-07-30T21:30:16.761Z"
   },
   {
    "duration": 31,
    "start_time": "2022-07-30T21:30:16.774Z"
   },
   {
    "duration": 10,
    "start_time": "2022-07-30T21:30:16.807Z"
   },
   {
    "duration": 9,
    "start_time": "2022-07-30T21:30:16.836Z"
   },
   {
    "duration": 4,
    "start_time": "2022-07-30T21:30:16.847Z"
   },
   {
    "duration": 7,
    "start_time": "2022-07-30T21:30:16.854Z"
   },
   {
    "duration": 19,
    "start_time": "2022-07-30T21:30:16.863Z"
   },
   {
    "duration": 9,
    "start_time": "2022-07-30T21:30:16.884Z"
   },
   {
    "duration": 3,
    "start_time": "2022-07-30T21:30:16.894Z"
   },
   {
    "duration": 9,
    "start_time": "2022-07-30T21:30:16.899Z"
   },
   {
    "duration": 35,
    "start_time": "2022-07-30T21:30:16.910Z"
   },
   {
    "duration": 23,
    "start_time": "2022-07-30T21:30:16.947Z"
   },
   {
    "duration": 7,
    "start_time": "2022-07-30T21:30:16.972Z"
   },
   {
    "duration": 7,
    "start_time": "2022-07-30T21:30:16.980Z"
   },
   {
    "duration": 7,
    "start_time": "2022-07-30T21:30:16.989Z"
   },
   {
    "duration": 51,
    "start_time": "2022-07-30T21:30:16.997Z"
   },
   {
    "duration": 4,
    "start_time": "2022-07-30T21:30:17.050Z"
   },
   {
    "duration": 5,
    "start_time": "2022-07-30T21:30:17.056Z"
   },
   {
    "duration": 8,
    "start_time": "2022-07-30T21:30:17.062Z"
   },
   {
    "duration": 7,
    "start_time": "2022-07-30T21:30:17.071Z"
   },
   {
    "duration": 7,
    "start_time": "2022-07-30T21:30:17.079Z"
   },
   {
    "duration": 5,
    "start_time": "2022-07-30T21:30:17.087Z"
   },
   {
    "duration": 6,
    "start_time": "2022-07-30T21:30:17.093Z"
   },
   {
    "duration": 6,
    "start_time": "2022-07-30T21:30:17.100Z"
   },
   {
    "duration": 5,
    "start_time": "2022-07-30T21:30:17.107Z"
   },
   {
    "duration": 5,
    "start_time": "2022-07-30T21:30:17.113Z"
   },
   {
    "duration": 17,
    "start_time": "2022-07-30T21:30:17.120Z"
   },
   {
    "duration": 7,
    "start_time": "2022-07-30T21:31:09.557Z"
   },
   {
    "duration": 5,
    "start_time": "2022-07-30T21:31:11.441Z"
   },
   {
    "duration": 9,
    "start_time": "2022-07-30T21:31:42.706Z"
   },
   {
    "duration": 8,
    "start_time": "2022-07-30T21:31:48.728Z"
   },
   {
    "duration": 51,
    "start_time": "2022-07-30T21:33:48.136Z"
   },
   {
    "duration": 15,
    "start_time": "2022-07-30T21:33:58.417Z"
   },
   {
    "duration": 50,
    "start_time": "2022-07-30T21:34:09.906Z"
   },
   {
    "duration": 15,
    "start_time": "2022-07-30T21:34:24.060Z"
   },
   {
    "duration": 45,
    "start_time": "2022-07-31T09:17:54.263Z"
   },
   {
    "duration": 597,
    "start_time": "2022-07-31T09:18:04.571Z"
   },
   {
    "duration": 15,
    "start_time": "2022-07-31T09:18:05.170Z"
   },
   {
    "duration": 20,
    "start_time": "2022-07-31T09:18:05.186Z"
   },
   {
    "duration": 19,
    "start_time": "2022-07-31T09:18:05.208Z"
   },
   {
    "duration": 41,
    "start_time": "2022-07-31T09:18:05.229Z"
   },
   {
    "duration": 10,
    "start_time": "2022-07-31T09:18:05.273Z"
   },
   {
    "duration": 23,
    "start_time": "2022-07-31T09:18:05.284Z"
   },
   {
    "duration": 23,
    "start_time": "2022-07-31T09:18:05.308Z"
   },
   {
    "duration": 14,
    "start_time": "2022-07-31T09:18:05.333Z"
   },
   {
    "duration": 22,
    "start_time": "2022-07-31T09:18:05.349Z"
   },
   {
    "duration": 14,
    "start_time": "2022-07-31T09:18:05.373Z"
   },
   {
    "duration": 28,
    "start_time": "2022-07-31T09:18:05.388Z"
   },
   {
    "duration": 15,
    "start_time": "2022-07-31T09:18:05.417Z"
   },
   {
    "duration": 27,
    "start_time": "2022-07-31T09:18:05.434Z"
   },
   {
    "duration": 25,
    "start_time": "2022-07-31T09:18:05.462Z"
   },
   {
    "duration": 24,
    "start_time": "2022-07-31T09:18:05.488Z"
   },
   {
    "duration": 21,
    "start_time": "2022-07-31T09:18:05.513Z"
   },
   {
    "duration": 25,
    "start_time": "2022-07-31T09:18:05.535Z"
   },
   {
    "duration": 27,
    "start_time": "2022-07-31T09:18:05.562Z"
   },
   {
    "duration": 10,
    "start_time": "2022-07-31T09:18:05.591Z"
   },
   {
    "duration": 21,
    "start_time": "2022-07-31T09:18:05.603Z"
   },
   {
    "duration": 23,
    "start_time": "2022-07-31T09:18:05.626Z"
   },
   {
    "duration": 42,
    "start_time": "2022-07-31T09:18:05.651Z"
   },
   {
    "duration": 23,
    "start_time": "2022-07-31T09:18:05.695Z"
   },
   {
    "duration": 20,
    "start_time": "2022-07-31T09:18:05.719Z"
   },
   {
    "duration": 15,
    "start_time": "2022-07-31T09:18:05.741Z"
   },
   {
    "duration": 16,
    "start_time": "2022-07-31T09:18:05.758Z"
   },
   {
    "duration": 21,
    "start_time": "2022-07-31T09:18:05.776Z"
   },
   {
    "duration": 24,
    "start_time": "2022-07-31T09:18:05.799Z"
   },
   {
    "duration": 21,
    "start_time": "2022-07-31T09:18:05.824Z"
   },
   {
    "duration": 39,
    "start_time": "2022-07-31T09:18:05.847Z"
   },
   {
    "duration": 18,
    "start_time": "2022-07-31T09:18:05.888Z"
   },
   {
    "duration": 29,
    "start_time": "2022-07-31T09:18:05.908Z"
   },
   {
    "duration": 22,
    "start_time": "2022-07-31T09:18:05.939Z"
   },
   {
    "duration": 17,
    "start_time": "2022-07-31T09:18:05.963Z"
   },
   {
    "duration": 423,
    "start_time": "2022-07-31T09:18:05.982Z"
   },
   {
    "duration": 11,
    "start_time": "2022-07-31T09:18:06.407Z"
   },
   {
    "duration": 29,
    "start_time": "2022-07-31T09:18:06.421Z"
   },
   {
    "duration": 30,
    "start_time": "2022-07-31T09:18:06.452Z"
   },
   {
    "duration": 10,
    "start_time": "2022-07-31T09:18:06.484Z"
   },
   {
    "duration": 26,
    "start_time": "2022-07-31T09:18:06.499Z"
   },
   {
    "duration": 21,
    "start_time": "2022-07-31T09:18:06.527Z"
   },
   {
    "duration": 15,
    "start_time": "2022-07-31T09:18:06.549Z"
   },
   {
    "duration": 32,
    "start_time": "2022-07-31T09:18:06.566Z"
   },
   {
    "duration": 33,
    "start_time": "2022-07-31T09:18:06.599Z"
   },
   {
    "duration": 13,
    "start_time": "2022-07-31T09:18:06.634Z"
   },
   {
    "duration": 34,
    "start_time": "2022-07-31T09:18:06.649Z"
   },
   {
    "duration": 21,
    "start_time": "2022-07-31T09:18:06.685Z"
   },
   {
    "duration": 18,
    "start_time": "2022-07-31T09:18:06.707Z"
   },
   {
    "duration": 19,
    "start_time": "2022-07-31T09:18:06.727Z"
   },
   {
    "duration": 16,
    "start_time": "2022-07-31T09:18:06.747Z"
   },
   {
    "duration": 27,
    "start_time": "2022-07-31T09:18:06.765Z"
   },
   {
    "duration": 27,
    "start_time": "2022-07-31T09:18:06.794Z"
   },
   {
    "duration": 14,
    "start_time": "2022-07-31T09:18:06.822Z"
   },
   {
    "duration": 14,
    "start_time": "2022-07-31T09:18:06.837Z"
   },
   {
    "duration": 14,
    "start_time": "2022-07-31T09:18:06.853Z"
   },
   {
    "duration": 66,
    "start_time": "2022-07-31T09:18:06.868Z"
   },
   {
    "duration": 5,
    "start_time": "2022-07-31T09:18:06.936Z"
   },
   {
    "duration": 19,
    "start_time": "2022-07-31T09:18:06.943Z"
   },
   {
    "duration": 23,
    "start_time": "2022-07-31T09:18:06.963Z"
   },
   {
    "duration": 17,
    "start_time": "2022-07-31T09:18:06.987Z"
   },
   {
    "duration": 32,
    "start_time": "2022-07-31T09:18:07.006Z"
   },
   {
    "duration": 28,
    "start_time": "2022-07-31T09:18:07.040Z"
   },
   {
    "duration": 19,
    "start_time": "2022-07-31T09:18:07.070Z"
   },
   {
    "duration": 22,
    "start_time": "2022-07-31T09:18:07.091Z"
   },
   {
    "duration": 23,
    "start_time": "2022-07-31T09:18:07.115Z"
   },
   {
    "duration": 26,
    "start_time": "2022-07-31T09:18:07.140Z"
   },
   {
    "duration": 13,
    "start_time": "2022-07-31T09:18:07.168Z"
   },
   {
    "duration": 12,
    "start_time": "2022-07-31T09:18:44.994Z"
   },
   {
    "duration": 13,
    "start_time": "2022-07-31T12:49:20.558Z"
   },
   {
    "duration": 78,
    "start_time": "2022-07-31T12:49:35.037Z"
   },
   {
    "duration": 12,
    "start_time": "2022-07-31T12:49:35.117Z"
   },
   {
    "duration": 13,
    "start_time": "2022-07-31T12:49:35.131Z"
   },
   {
    "duration": 12,
    "start_time": "2022-07-31T12:49:35.146Z"
   },
   {
    "duration": 43,
    "start_time": "2022-07-31T12:49:35.161Z"
   },
   {
    "duration": 10,
    "start_time": "2022-07-31T12:49:35.206Z"
   },
   {
    "duration": 6,
    "start_time": "2022-07-31T12:49:35.217Z"
   },
   {
    "duration": 6,
    "start_time": "2022-07-31T12:49:35.224Z"
   },
   {
    "duration": 62,
    "start_time": "2022-07-31T12:49:35.232Z"
   },
   {
    "duration": 24,
    "start_time": "2022-07-31T12:49:35.296Z"
   },
   {
    "duration": 13,
    "start_time": "2022-07-31T12:49:35.322Z"
   },
   {
    "duration": 15,
    "start_time": "2022-07-31T12:49:35.337Z"
   },
   {
    "duration": 22,
    "start_time": "2022-07-31T12:49:35.353Z"
   },
   {
    "duration": 9,
    "start_time": "2022-07-31T12:49:35.379Z"
   },
   {
    "duration": 10,
    "start_time": "2022-07-31T12:49:35.390Z"
   },
   {
    "duration": 6,
    "start_time": "2022-07-31T12:49:35.402Z"
   },
   {
    "duration": 5,
    "start_time": "2022-07-31T12:49:35.410Z"
   },
   {
    "duration": 8,
    "start_time": "2022-07-31T12:49:35.417Z"
   },
   {
    "duration": 10,
    "start_time": "2022-07-31T12:49:35.426Z"
   },
   {
    "duration": 40,
    "start_time": "2022-07-31T12:49:35.438Z"
   },
   {
    "duration": 20,
    "start_time": "2022-07-31T12:49:35.479Z"
   },
   {
    "duration": 14,
    "start_time": "2022-07-31T12:49:35.501Z"
   },
   {
    "duration": 20,
    "start_time": "2022-07-31T12:49:35.516Z"
   },
   {
    "duration": 42,
    "start_time": "2022-07-31T12:49:35.537Z"
   },
   {
    "duration": 26,
    "start_time": "2022-07-31T12:49:35.581Z"
   },
   {
    "duration": 25,
    "start_time": "2022-07-31T12:49:35.609Z"
   },
   {
    "duration": 12,
    "start_time": "2022-07-31T12:49:35.636Z"
   },
   {
    "duration": 32,
    "start_time": "2022-07-31T12:49:35.649Z"
   },
   {
    "duration": 37,
    "start_time": "2022-07-31T12:49:35.683Z"
   },
   {
    "duration": 19,
    "start_time": "2022-07-31T12:49:35.721Z"
   },
   {
    "duration": 46,
    "start_time": "2022-07-31T12:49:35.741Z"
   },
   {
    "duration": 18,
    "start_time": "2022-07-31T12:49:35.789Z"
   },
   {
    "duration": 35,
    "start_time": "2022-07-31T12:49:35.808Z"
   },
   {
    "duration": 28,
    "start_time": "2022-07-31T12:49:35.845Z"
   },
   {
    "duration": 13,
    "start_time": "2022-07-31T12:49:35.874Z"
   },
   {
    "duration": 18,
    "start_time": "2022-07-31T12:49:35.889Z"
   },
   {
    "duration": 30,
    "start_time": "2022-07-31T12:49:35.908Z"
   },
   {
    "duration": 16,
    "start_time": "2022-07-31T12:49:35.940Z"
   },
   {
    "duration": 37,
    "start_time": "2022-07-31T12:49:35.958Z"
   },
   {
    "duration": 18,
    "start_time": "2022-07-31T12:49:35.997Z"
   },
   {
    "duration": 13,
    "start_time": "2022-07-31T12:49:36.019Z"
   },
   {
    "duration": 23,
    "start_time": "2022-07-31T12:49:36.034Z"
   },
   {
    "duration": 28,
    "start_time": "2022-07-31T12:49:36.058Z"
   },
   {
    "duration": 20,
    "start_time": "2022-07-31T12:49:36.088Z"
   },
   {
    "duration": 10,
    "start_time": "2022-07-31T12:49:36.110Z"
   },
   {
    "duration": 8,
    "start_time": "2022-07-31T12:49:36.121Z"
   },
   {
    "duration": 16,
    "start_time": "2022-07-31T12:49:36.131Z"
   },
   {
    "duration": 956,
    "start_time": "2022-07-31T12:49:36.148Z"
   },
   {
    "duration": 0,
    "start_time": "2022-07-31T12:49:37.105Z"
   },
   {
    "duration": 0,
    "start_time": "2022-07-31T12:49:37.106Z"
   },
   {
    "duration": 0,
    "start_time": "2022-07-31T12:49:37.107Z"
   },
   {
    "duration": 0,
    "start_time": "2022-07-31T12:49:37.108Z"
   },
   {
    "duration": 0,
    "start_time": "2022-07-31T12:49:37.109Z"
   },
   {
    "duration": 0,
    "start_time": "2022-07-31T12:49:37.109Z"
   },
   {
    "duration": 0,
    "start_time": "2022-07-31T12:49:37.110Z"
   },
   {
    "duration": 0,
    "start_time": "2022-07-31T12:49:37.111Z"
   },
   {
    "duration": 0,
    "start_time": "2022-07-31T12:49:37.112Z"
   },
   {
    "duration": 0,
    "start_time": "2022-07-31T12:49:37.113Z"
   },
   {
    "duration": 0,
    "start_time": "2022-07-31T12:49:37.114Z"
   },
   {
    "duration": 0,
    "start_time": "2022-07-31T12:49:37.115Z"
   },
   {
    "duration": 0,
    "start_time": "2022-07-31T12:49:37.116Z"
   },
   {
    "duration": 0,
    "start_time": "2022-07-31T12:49:37.116Z"
   },
   {
    "duration": 0,
    "start_time": "2022-07-31T12:49:37.117Z"
   },
   {
    "duration": 0,
    "start_time": "2022-07-31T12:49:37.118Z"
   },
   {
    "duration": 0,
    "start_time": "2022-07-31T12:49:37.119Z"
   },
   {
    "duration": 0,
    "start_time": "2022-07-31T12:49:37.120Z"
   },
   {
    "duration": 0,
    "start_time": "2022-07-31T12:49:37.121Z"
   },
   {
    "duration": 0,
    "start_time": "2022-07-31T12:49:37.123Z"
   },
   {
    "duration": 11,
    "start_time": "2022-07-31T12:51:08.485Z"
   },
   {
    "duration": 9,
    "start_time": "2022-07-31T12:51:23.039Z"
   },
   {
    "duration": 11,
    "start_time": "2022-07-31T12:51:43.442Z"
   },
   {
    "duration": 19,
    "start_time": "2022-07-31T12:53:28.353Z"
   },
   {
    "duration": 5,
    "start_time": "2022-07-31T12:53:33.382Z"
   },
   {
    "duration": 19,
    "start_time": "2022-07-31T12:53:36.658Z"
   },
   {
    "duration": 75,
    "start_time": "2022-07-31T12:53:41.986Z"
   },
   {
    "duration": 18,
    "start_time": "2022-07-31T12:53:42.072Z"
   },
   {
    "duration": 14,
    "start_time": "2022-07-31T12:53:42.092Z"
   },
   {
    "duration": 12,
    "start_time": "2022-07-31T12:53:42.108Z"
   },
   {
    "duration": 53,
    "start_time": "2022-07-31T12:53:42.122Z"
   },
   {
    "duration": 10,
    "start_time": "2022-07-31T12:53:42.176Z"
   },
   {
    "duration": 5,
    "start_time": "2022-07-31T12:53:42.187Z"
   },
   {
    "duration": 9,
    "start_time": "2022-07-31T12:53:42.193Z"
   },
   {
    "duration": 13,
    "start_time": "2022-07-31T12:53:42.204Z"
   },
   {
    "duration": 13,
    "start_time": "2022-07-31T12:53:42.219Z"
   },
   {
    "duration": 7,
    "start_time": "2022-07-31T12:53:42.233Z"
   },
   {
    "duration": 10,
    "start_time": "2022-07-31T12:53:42.242Z"
   },
   {
    "duration": 16,
    "start_time": "2022-07-31T12:53:42.261Z"
   },
   {
    "duration": 11,
    "start_time": "2022-07-31T12:53:42.278Z"
   },
   {
    "duration": 7,
    "start_time": "2022-07-31T12:53:42.291Z"
   },
   {
    "duration": 6,
    "start_time": "2022-07-31T12:53:42.300Z"
   },
   {
    "duration": 4,
    "start_time": "2022-07-31T12:53:42.307Z"
   },
   {
    "duration": 6,
    "start_time": "2022-07-31T12:53:42.312Z"
   },
   {
    "duration": 14,
    "start_time": "2022-07-31T12:53:42.320Z"
   },
   {
    "duration": 38,
    "start_time": "2022-07-31T12:53:42.336Z"
   },
   {
    "duration": 10,
    "start_time": "2022-07-31T12:53:42.376Z"
   },
   {
    "duration": 6,
    "start_time": "2022-07-31T12:53:42.388Z"
   },
   {
    "duration": 7,
    "start_time": "2022-07-31T12:53:42.395Z"
   },
   {
    "duration": 12,
    "start_time": "2022-07-31T12:53:42.403Z"
   },
   {
    "duration": 12,
    "start_time": "2022-07-31T12:53:42.416Z"
   },
   {
    "duration": 42,
    "start_time": "2022-07-31T12:53:42.430Z"
   },
   {
    "duration": 8,
    "start_time": "2022-07-31T12:53:42.474Z"
   },
   {
    "duration": 11,
    "start_time": "2022-07-31T12:53:42.486Z"
   },
   {
    "duration": 10,
    "start_time": "2022-07-31T12:53:42.498Z"
   },
   {
    "duration": 10,
    "start_time": "2022-07-31T12:53:42.509Z"
   },
   {
    "duration": 52,
    "start_time": "2022-07-31T12:53:42.520Z"
   },
   {
    "duration": 19,
    "start_time": "2022-07-31T12:53:42.574Z"
   },
   {
    "duration": 17,
    "start_time": "2022-07-31T12:53:42.594Z"
   },
   {
    "duration": 15,
    "start_time": "2022-07-31T12:53:42.612Z"
   },
   {
    "duration": 13,
    "start_time": "2022-07-31T12:53:42.628Z"
   },
   {
    "duration": 5,
    "start_time": "2022-07-31T12:53:42.667Z"
   },
   {
    "duration": 12,
    "start_time": "2022-07-31T12:53:42.673Z"
   },
   {
    "duration": 15,
    "start_time": "2022-07-31T12:53:42.688Z"
   },
   {
    "duration": 13,
    "start_time": "2022-07-31T12:53:42.704Z"
   },
   {
    "duration": 3,
    "start_time": "2022-07-31T12:53:42.718Z"
   },
   {
    "duration": 12,
    "start_time": "2022-07-31T12:53:42.723Z"
   },
   {
    "duration": 29,
    "start_time": "2022-07-31T12:53:42.737Z"
   },
   {
    "duration": 8,
    "start_time": "2022-07-31T12:53:42.768Z"
   },
   {
    "duration": 13,
    "start_time": "2022-07-31T12:53:42.777Z"
   },
   {
    "duration": 8,
    "start_time": "2022-07-31T12:53:42.791Z"
   },
   {
    "duration": 9,
    "start_time": "2022-07-31T12:53:42.801Z"
   },
   {
    "duration": 14,
    "start_time": "2022-07-31T12:53:42.811Z"
   },
   {
    "duration": 44,
    "start_time": "2022-07-31T12:53:42.826Z"
   },
   {
    "duration": 8,
    "start_time": "2022-07-31T12:53:42.872Z"
   },
   {
    "duration": 3,
    "start_time": "2022-07-31T12:53:42.882Z"
   },
   {
    "duration": 6,
    "start_time": "2022-07-31T12:53:42.887Z"
   },
   {
    "duration": 8,
    "start_time": "2022-07-31T12:53:42.894Z"
   },
   {
    "duration": 5,
    "start_time": "2022-07-31T12:53:42.903Z"
   },
   {
    "duration": 5,
    "start_time": "2022-07-31T12:53:42.909Z"
   },
   {
    "duration": 5,
    "start_time": "2022-07-31T12:53:42.915Z"
   },
   {
    "duration": 5,
    "start_time": "2022-07-31T12:53:42.921Z"
   },
   {
    "duration": 52,
    "start_time": "2022-07-31T12:53:42.927Z"
   },
   {
    "duration": 4,
    "start_time": "2022-07-31T12:53:42.981Z"
   },
   {
    "duration": 6,
    "start_time": "2022-07-31T12:53:42.987Z"
   },
   {
    "duration": 4,
    "start_time": "2022-07-31T12:53:42.995Z"
   },
   {
    "duration": 6,
    "start_time": "2022-07-31T12:53:43.001Z"
   },
   {
    "duration": 5,
    "start_time": "2022-07-31T12:53:43.008Z"
   },
   {
    "duration": 5,
    "start_time": "2022-07-31T12:53:43.014Z"
   },
   {
    "duration": 5,
    "start_time": "2022-07-31T12:53:43.020Z"
   },
   {
    "duration": 4,
    "start_time": "2022-07-31T12:53:43.026Z"
   },
   {
    "duration": 6,
    "start_time": "2022-07-31T12:53:43.032Z"
   },
   {
    "duration": 8,
    "start_time": "2022-07-31T12:53:43.040Z"
   },
   {
    "duration": 20,
    "start_time": "2022-07-31T12:53:43.050Z"
   },
   {
    "duration": 9,
    "start_time": "2022-07-31T12:54:59.776Z"
   },
   {
    "duration": 6,
    "start_time": "2022-07-31T12:55:29.313Z"
   },
   {
    "duration": 9,
    "start_time": "2022-07-31T12:55:48.942Z"
   },
   {
    "duration": 60,
    "start_time": "2022-07-31T13:04:39.386Z"
   },
   {
    "duration": 11,
    "start_time": "2022-07-31T13:19:58.326Z"
   },
   {
    "duration": 11,
    "start_time": "2022-07-31T13:20:43.242Z"
   },
   {
    "duration": 8,
    "start_time": "2022-07-31T13:20:55.516Z"
   },
   {
    "duration": 12,
    "start_time": "2022-07-31T13:21:07.368Z"
   },
   {
    "duration": 13,
    "start_time": "2022-07-31T13:21:57.917Z"
   },
   {
    "duration": 11,
    "start_time": "2022-07-31T13:22:12.844Z"
   },
   {
    "duration": 47,
    "start_time": "2022-07-31T13:27:16.093Z"
   },
   {
    "duration": 18,
    "start_time": "2022-07-31T13:27:38.469Z"
   },
   {
    "duration": 79,
    "start_time": "2022-07-31T13:28:06.178Z"
   },
   {
    "duration": 21,
    "start_time": "2022-07-31T13:28:06.258Z"
   },
   {
    "duration": 28,
    "start_time": "2022-07-31T13:28:06.281Z"
   },
   {
    "duration": 15,
    "start_time": "2022-07-31T13:28:06.311Z"
   },
   {
    "duration": 58,
    "start_time": "2022-07-31T13:28:06.328Z"
   },
   {
    "duration": 13,
    "start_time": "2022-07-31T13:28:06.388Z"
   },
   {
    "duration": 16,
    "start_time": "2022-07-31T13:28:06.403Z"
   },
   {
    "duration": 29,
    "start_time": "2022-07-31T13:28:06.420Z"
   },
   {
    "duration": 30,
    "start_time": "2022-07-31T13:28:06.451Z"
   },
   {
    "duration": 8,
    "start_time": "2022-07-31T13:28:06.484Z"
   },
   {
    "duration": 6,
    "start_time": "2022-07-31T13:28:06.494Z"
   },
   {
    "duration": 7,
    "start_time": "2022-07-31T13:28:06.502Z"
   },
   {
    "duration": 13,
    "start_time": "2022-07-31T13:28:06.510Z"
   },
   {
    "duration": 11,
    "start_time": "2022-07-31T13:28:06.525Z"
   },
   {
    "duration": 6,
    "start_time": "2022-07-31T13:28:06.538Z"
   },
   {
    "duration": 10,
    "start_time": "2022-07-31T13:28:06.546Z"
   },
   {
    "duration": 14,
    "start_time": "2022-07-31T13:28:06.557Z"
   },
   {
    "duration": 9,
    "start_time": "2022-07-31T13:28:06.573Z"
   },
   {
    "duration": 15,
    "start_time": "2022-07-31T13:28:06.583Z"
   },
   {
    "duration": 3,
    "start_time": "2022-07-31T13:28:06.599Z"
   },
   {
    "duration": 10,
    "start_time": "2022-07-31T13:28:06.603Z"
   },
   {
    "duration": 4,
    "start_time": "2022-07-31T13:28:06.615Z"
   },
   {
    "duration": 8,
    "start_time": "2022-07-31T13:28:06.621Z"
   },
   {
    "duration": 11,
    "start_time": "2022-07-31T13:28:06.631Z"
   },
   {
    "duration": 32,
    "start_time": "2022-07-31T13:28:06.643Z"
   },
   {
    "duration": 11,
    "start_time": "2022-07-31T13:28:06.678Z"
   },
   {
    "duration": 8,
    "start_time": "2022-07-31T13:28:06.690Z"
   },
   {
    "duration": 13,
    "start_time": "2022-07-31T13:28:06.699Z"
   },
   {
    "duration": 16,
    "start_time": "2022-07-31T13:28:06.714Z"
   },
   {
    "duration": 10,
    "start_time": "2022-07-31T13:28:06.731Z"
   },
   {
    "duration": 59,
    "start_time": "2022-07-31T13:28:06.744Z"
   },
   {
    "duration": 16,
    "start_time": "2022-07-31T13:28:06.805Z"
   },
   {
    "duration": 16,
    "start_time": "2022-07-31T13:28:06.823Z"
   },
   {
    "duration": 39,
    "start_time": "2022-07-31T13:28:06.841Z"
   },
   {
    "duration": 14,
    "start_time": "2022-07-31T13:28:06.882Z"
   },
   {
    "duration": 7,
    "start_time": "2022-07-31T13:28:06.897Z"
   },
   {
    "duration": 11,
    "start_time": "2022-07-31T13:28:06.905Z"
   },
   {
    "duration": 9,
    "start_time": "2022-07-31T13:28:06.918Z"
   },
   {
    "duration": 42,
    "start_time": "2022-07-31T13:28:06.929Z"
   },
   {
    "duration": 3,
    "start_time": "2022-07-31T13:28:06.973Z"
   },
   {
    "duration": 16,
    "start_time": "2022-07-31T13:28:06.979Z"
   },
   {
    "duration": 10,
    "start_time": "2022-07-31T13:28:06.997Z"
   },
   {
    "duration": 9,
    "start_time": "2022-07-31T13:28:07.008Z"
   },
   {
    "duration": 13,
    "start_time": "2022-07-31T13:28:07.018Z"
   },
   {
    "duration": 12,
    "start_time": "2022-07-31T13:28:07.032Z"
   },
   {
    "duration": 27,
    "start_time": "2022-07-31T13:28:07.045Z"
   },
   {
    "duration": 15,
    "start_time": "2022-07-31T13:28:07.074Z"
   },
   {
    "duration": 8,
    "start_time": "2022-07-31T13:28:07.091Z"
   },
   {
    "duration": 2,
    "start_time": "2022-07-31T13:28:07.100Z"
   },
   {
    "duration": 14,
    "start_time": "2022-07-31T13:28:07.103Z"
   },
   {
    "duration": 15,
    "start_time": "2022-07-31T13:28:07.118Z"
   },
   {
    "duration": 7,
    "start_time": "2022-07-31T13:28:07.167Z"
   },
   {
    "duration": 5,
    "start_time": "2022-07-31T13:28:07.176Z"
   },
   {
    "duration": 5,
    "start_time": "2022-07-31T13:28:07.182Z"
   },
   {
    "duration": 4,
    "start_time": "2022-07-31T13:28:07.189Z"
   },
   {
    "duration": 5,
    "start_time": "2022-07-31T13:28:07.195Z"
   },
   {
    "duration": 7,
    "start_time": "2022-07-31T13:28:07.201Z"
   },
   {
    "duration": 4,
    "start_time": "2022-07-31T13:28:07.211Z"
   },
   {
    "duration": 6,
    "start_time": "2022-07-31T13:28:07.216Z"
   },
   {
    "duration": 10,
    "start_time": "2022-07-31T13:28:07.223Z"
   },
   {
    "duration": 6,
    "start_time": "2022-07-31T13:28:07.234Z"
   },
   {
    "duration": 7,
    "start_time": "2022-07-31T13:28:07.242Z"
   },
   {
    "duration": 6,
    "start_time": "2022-07-31T13:28:24.926Z"
   },
   {
    "duration": 4,
    "start_time": "2022-07-31T13:28:58.933Z"
   },
   {
    "duration": 5,
    "start_time": "2022-07-31T13:59:23.612Z"
   },
   {
    "duration": 2,
    "start_time": "2022-07-31T14:44:45.215Z"
   },
   {
    "duration": 56,
    "start_time": "2022-07-31T15:16:30.872Z"
   },
   {
    "duration": 48,
    "start_time": "2022-07-31T15:16:51.614Z"
   },
   {
    "duration": 3,
    "start_time": "2022-07-31T15:17:08.468Z"
   },
   {
    "duration": 4,
    "start_time": "2022-07-31T15:17:34.345Z"
   },
   {
    "duration": 619,
    "start_time": "2022-07-31T15:17:38.999Z"
   },
   {
    "duration": 14,
    "start_time": "2022-07-31T15:17:39.621Z"
   },
   {
    "duration": 19,
    "start_time": "2022-07-31T15:17:39.637Z"
   },
   {
    "duration": 14,
    "start_time": "2022-07-31T15:17:39.658Z"
   },
   {
    "duration": 30,
    "start_time": "2022-07-31T15:17:39.674Z"
   },
   {
    "duration": 8,
    "start_time": "2022-07-31T15:17:39.705Z"
   },
   {
    "duration": 5,
    "start_time": "2022-07-31T15:17:39.714Z"
   },
   {
    "duration": 10,
    "start_time": "2022-07-31T15:17:39.720Z"
   },
   {
    "duration": 15,
    "start_time": "2022-07-31T15:17:39.731Z"
   },
   {
    "duration": 8,
    "start_time": "2022-07-31T15:17:39.747Z"
   },
   {
    "duration": 4,
    "start_time": "2022-07-31T15:17:39.757Z"
   },
   {
    "duration": 5,
    "start_time": "2022-07-31T15:17:39.763Z"
   },
   {
    "duration": 8,
    "start_time": "2022-07-31T15:17:39.769Z"
   },
   {
    "duration": 9,
    "start_time": "2022-07-31T15:17:39.780Z"
   },
   {
    "duration": 7,
    "start_time": "2022-07-31T15:17:39.790Z"
   },
   {
    "duration": 6,
    "start_time": "2022-07-31T15:17:39.799Z"
   },
   {
    "duration": 10,
    "start_time": "2022-07-31T15:17:39.806Z"
   },
   {
    "duration": 7,
    "start_time": "2022-07-31T15:17:39.817Z"
   },
   {
    "duration": 20,
    "start_time": "2022-07-31T15:17:39.825Z"
   },
   {
    "duration": 5,
    "start_time": "2022-07-31T15:17:39.847Z"
   },
   {
    "duration": 9,
    "start_time": "2022-07-31T15:17:39.854Z"
   },
   {
    "duration": 5,
    "start_time": "2022-07-31T15:17:39.865Z"
   },
   {
    "duration": 29,
    "start_time": "2022-07-31T15:17:39.871Z"
   },
   {
    "duration": 9,
    "start_time": "2022-07-31T15:17:39.902Z"
   },
   {
    "duration": 13,
    "start_time": "2022-07-31T15:17:39.912Z"
   },
   {
    "duration": 7,
    "start_time": "2022-07-31T15:17:39.927Z"
   },
   {
    "duration": 5,
    "start_time": "2022-07-31T15:17:39.935Z"
   },
   {
    "duration": 6,
    "start_time": "2022-07-31T15:17:39.998Z"
   },
   {
    "duration": 11,
    "start_time": "2022-07-31T15:17:40.005Z"
   },
   {
    "duration": 10,
    "start_time": "2022-07-31T15:17:40.018Z"
   },
   {
    "duration": 77,
    "start_time": "2022-07-31T15:17:40.030Z"
   },
   {
    "duration": 18,
    "start_time": "2022-07-31T15:17:40.109Z"
   },
   {
    "duration": 70,
    "start_time": "2022-07-31T15:17:40.128Z"
   },
   {
    "duration": 19,
    "start_time": "2022-07-31T15:17:40.200Z"
   },
   {
    "duration": 14,
    "start_time": "2022-07-31T15:17:40.221Z"
   },
   {
    "duration": 539,
    "start_time": "2022-07-31T15:17:40.236Z"
   },
   {
    "duration": 9,
    "start_time": "2022-07-31T15:17:40.778Z"
   },
   {
    "duration": 13,
    "start_time": "2022-07-31T15:17:40.798Z"
   },
   {
    "duration": 16,
    "start_time": "2022-07-31T15:17:40.813Z"
   },
   {
    "duration": 2,
    "start_time": "2022-07-31T15:17:40.831Z"
   },
   {
    "duration": 18,
    "start_time": "2022-07-31T15:17:40.837Z"
   },
   {
    "duration": 105,
    "start_time": "2022-07-31T15:17:40.857Z"
   },
   {
    "duration": 0,
    "start_time": "2022-07-31T15:17:40.963Z"
   },
   {
    "duration": 0,
    "start_time": "2022-07-31T15:17:40.964Z"
   },
   {
    "duration": 0,
    "start_time": "2022-07-31T15:17:40.965Z"
   },
   {
    "duration": 0,
    "start_time": "2022-07-31T15:17:40.966Z"
   },
   {
    "duration": 0,
    "start_time": "2022-07-31T15:17:40.967Z"
   },
   {
    "duration": 0,
    "start_time": "2022-07-31T15:17:40.968Z"
   },
   {
    "duration": 0,
    "start_time": "2022-07-31T15:17:40.969Z"
   },
   {
    "duration": 0,
    "start_time": "2022-07-31T15:17:40.970Z"
   },
   {
    "duration": 0,
    "start_time": "2022-07-31T15:17:40.971Z"
   },
   {
    "duration": 0,
    "start_time": "2022-07-31T15:17:40.972Z"
   },
   {
    "duration": 0,
    "start_time": "2022-07-31T15:17:40.973Z"
   },
   {
    "duration": 0,
    "start_time": "2022-07-31T15:17:40.974Z"
   },
   {
    "duration": 0,
    "start_time": "2022-07-31T15:17:40.975Z"
   },
   {
    "duration": 0,
    "start_time": "2022-07-31T15:17:40.998Z"
   },
   {
    "duration": 0,
    "start_time": "2022-07-31T15:17:40.999Z"
   },
   {
    "duration": 0,
    "start_time": "2022-07-31T15:17:41.000Z"
   },
   {
    "duration": 0,
    "start_time": "2022-07-31T15:17:41.001Z"
   },
   {
    "duration": 0,
    "start_time": "2022-07-31T15:17:41.002Z"
   },
   {
    "duration": 0,
    "start_time": "2022-07-31T15:17:41.003Z"
   },
   {
    "duration": 0,
    "start_time": "2022-07-31T15:17:41.004Z"
   },
   {
    "duration": 4,
    "start_time": "2022-07-31T15:17:45.510Z"
   },
   {
    "duration": 4,
    "start_time": "2022-07-31T15:18:48.014Z"
   },
   {
    "duration": 5,
    "start_time": "2022-07-31T15:19:08.416Z"
   },
   {
    "duration": 3,
    "start_time": "2022-07-31T15:19:10.998Z"
   },
   {
    "duration": 81,
    "start_time": "2022-08-01T12:03:19.316Z"
   },
   {
    "duration": 744,
    "start_time": "2022-08-01T12:03:29.220Z"
   },
   {
    "duration": 27,
    "start_time": "2022-08-01T12:03:29.966Z"
   },
   {
    "duration": 43,
    "start_time": "2022-08-01T12:03:29.995Z"
   },
   {
    "duration": 22,
    "start_time": "2022-08-01T12:03:30.042Z"
   },
   {
    "duration": 52,
    "start_time": "2022-08-01T12:03:30.066Z"
   },
   {
    "duration": 17,
    "start_time": "2022-08-01T12:03:30.121Z"
   },
   {
    "duration": 25,
    "start_time": "2022-08-01T12:03:30.141Z"
   },
   {
    "duration": 43,
    "start_time": "2022-08-01T12:03:30.168Z"
   },
   {
    "duration": 7,
    "start_time": "2022-08-01T12:03:30.213Z"
   },
   {
    "duration": 17,
    "start_time": "2022-08-01T12:03:30.222Z"
   },
   {
    "duration": 11,
    "start_time": "2022-08-01T12:03:30.240Z"
   },
   {
    "duration": 52,
    "start_time": "2022-08-01T12:03:30.253Z"
   },
   {
    "duration": 17,
    "start_time": "2022-08-01T12:03:30.307Z"
   },
   {
    "duration": 18,
    "start_time": "2022-08-01T12:03:30.326Z"
   },
   {
    "duration": 23,
    "start_time": "2022-08-01T12:03:30.346Z"
   },
   {
    "duration": 47,
    "start_time": "2022-08-01T12:03:30.371Z"
   },
   {
    "duration": 16,
    "start_time": "2022-08-01T12:03:30.420Z"
   },
   {
    "duration": 32,
    "start_time": "2022-08-01T12:03:30.438Z"
   },
   {
    "duration": 54,
    "start_time": "2022-08-01T12:03:30.471Z"
   },
   {
    "duration": 28,
    "start_time": "2022-08-01T12:03:30.527Z"
   },
   {
    "duration": 80,
    "start_time": "2022-08-01T12:03:30.557Z"
   },
   {
    "duration": 63,
    "start_time": "2022-08-01T12:03:30.639Z"
   },
   {
    "duration": 40,
    "start_time": "2022-08-01T12:03:30.708Z"
   },
   {
    "duration": 73,
    "start_time": "2022-08-01T12:03:30.750Z"
   },
   {
    "duration": 37,
    "start_time": "2022-08-01T12:03:30.826Z"
   },
   {
    "duration": 54,
    "start_time": "2022-08-01T12:03:30.866Z"
   },
   {
    "duration": 22,
    "start_time": "2022-08-01T12:03:30.921Z"
   },
   {
    "duration": 25,
    "start_time": "2022-08-01T12:03:30.947Z"
   },
   {
    "duration": 47,
    "start_time": "2022-08-01T12:03:30.973Z"
   },
   {
    "duration": 16,
    "start_time": "2022-08-01T12:03:31.022Z"
   },
   {
    "duration": 65,
    "start_time": "2022-08-01T12:03:31.040Z"
   },
   {
    "duration": 21,
    "start_time": "2022-08-01T12:03:31.108Z"
   },
   {
    "duration": 43,
    "start_time": "2022-08-01T12:03:31.130Z"
   },
   {
    "duration": 27,
    "start_time": "2022-08-01T12:03:31.181Z"
   },
   {
    "duration": 30,
    "start_time": "2022-08-01T12:03:31.209Z"
   },
   {
    "duration": 670,
    "start_time": "2022-08-01T12:03:31.242Z"
   },
   {
    "duration": 15,
    "start_time": "2022-08-01T12:03:31.914Z"
   },
   {
    "duration": 17,
    "start_time": "2022-08-01T12:03:31.931Z"
   },
   {
    "duration": 63,
    "start_time": "2022-08-01T12:03:31.951Z"
   },
   {
    "duration": 20,
    "start_time": "2022-08-01T12:03:32.016Z"
   },
   {
    "duration": 18,
    "start_time": "2022-08-01T12:03:32.037Z"
   },
   {
    "duration": 24,
    "start_time": "2022-08-01T12:03:32.057Z"
   },
   {
    "duration": 43,
    "start_time": "2022-08-01T12:03:32.085Z"
   },
   {
    "duration": 13,
    "start_time": "2022-08-01T12:03:32.131Z"
   },
   {
    "duration": 13,
    "start_time": "2022-08-01T12:03:32.147Z"
   },
   {
    "duration": 28,
    "start_time": "2022-08-01T12:03:32.165Z"
   },
   {
    "duration": 68,
    "start_time": "2022-08-01T12:03:32.203Z"
   },
   {
    "duration": 46,
    "start_time": "2022-08-01T12:03:32.274Z"
   },
   {
    "duration": 29,
    "start_time": "2022-08-01T12:03:32.323Z"
   },
   {
    "duration": 87,
    "start_time": "2022-08-01T12:03:32.354Z"
   },
   {
    "duration": 11,
    "start_time": "2022-08-01T12:03:32.443Z"
   },
   {
    "duration": 53,
    "start_time": "2022-08-01T12:03:32.456Z"
   },
   {
    "duration": 14,
    "start_time": "2022-08-01T12:03:32.511Z"
   },
   {
    "duration": 23,
    "start_time": "2022-08-01T12:03:32.527Z"
   },
   {
    "duration": 82,
    "start_time": "2022-08-01T12:03:32.552Z"
   },
   {
    "duration": 56,
    "start_time": "2022-08-01T12:03:32.636Z"
   },
   {
    "duration": 31,
    "start_time": "2022-08-01T12:03:32.698Z"
   },
   {
    "duration": 33,
    "start_time": "2022-08-01T12:03:32.731Z"
   },
   {
    "duration": 55,
    "start_time": "2022-08-01T12:03:32.765Z"
   },
   {
    "duration": 26,
    "start_time": "2022-08-01T12:03:32.823Z"
   },
   {
    "duration": 76,
    "start_time": "2022-08-01T12:03:32.851Z"
   },
   {
    "duration": 28,
    "start_time": "2022-08-01T12:03:32.930Z"
   },
   {
    "duration": 9,
    "start_time": "2022-08-01T12:05:08.089Z"
   },
   {
    "duration": 8,
    "start_time": "2022-08-01T12:05:26.964Z"
   },
   {
    "duration": 16,
    "start_time": "2022-08-01T12:07:51.200Z"
   },
   {
    "duration": 27,
    "start_time": "2022-08-01T12:08:17.586Z"
   },
   {
    "duration": 16,
    "start_time": "2022-08-01T12:08:47.105Z"
   },
   {
    "duration": 38,
    "start_time": "2022-08-01T12:09:09.638Z"
   },
   {
    "duration": 26,
    "start_time": "2022-08-01T12:09:24.299Z"
   },
   {
    "duration": 32,
    "start_time": "2022-08-01T12:09:37.850Z"
   },
   {
    "duration": 19,
    "start_time": "2022-08-01T12:09:57.551Z"
   },
   {
    "duration": 19,
    "start_time": "2022-08-01T12:10:59.300Z"
   },
   {
    "duration": 32,
    "start_time": "2022-08-01T12:17:35.192Z"
   },
   {
    "duration": 42,
    "start_time": "2022-08-01T12:18:10.084Z"
   },
   {
    "duration": 28,
    "start_time": "2022-08-01T12:19:10.110Z"
   },
   {
    "duration": 126,
    "start_time": "2022-08-01T12:19:58.788Z"
   },
   {
    "duration": 83,
    "start_time": "2022-08-01T12:22:01.388Z"
   },
   {
    "duration": 142,
    "start_time": "2022-08-01T12:22:39.753Z"
   },
   {
    "duration": 75,
    "start_time": "2022-08-01T12:24:12.488Z"
   },
   {
    "duration": 109,
    "start_time": "2022-08-01T12:25:14.806Z"
   },
   {
    "duration": 25,
    "start_time": "2022-08-01T12:25:29.728Z"
   },
   {
    "duration": 27,
    "start_time": "2022-08-01T12:32:19.647Z"
   },
   {
    "duration": 31,
    "start_time": "2022-08-01T12:33:06.410Z"
   },
   {
    "duration": 4,
    "start_time": "2022-08-01T12:52:26.145Z"
   },
   {
    "duration": 21,
    "start_time": "2022-08-01T12:53:02.450Z"
   },
   {
    "duration": 28,
    "start_time": "2022-08-01T12:58:36.463Z"
   },
   {
    "duration": 15,
    "start_time": "2022-08-01T12:58:53.656Z"
   },
   {
    "duration": 4,
    "start_time": "2022-08-01T13:31:56.728Z"
   },
   {
    "duration": 8,
    "start_time": "2022-08-01T13:32:10.158Z"
   },
   {
    "duration": 5,
    "start_time": "2022-08-01T13:32:21.719Z"
   },
   {
    "duration": 12,
    "start_time": "2022-08-01T13:32:56.213Z"
   },
   {
    "duration": 46,
    "start_time": "2022-08-01T13:34:42.749Z"
   },
   {
    "duration": 57,
    "start_time": "2022-08-01T13:37:20.661Z"
   },
   {
    "duration": 70,
    "start_time": "2022-08-01T13:43:51.731Z"
   },
   {
    "duration": 68,
    "start_time": "2022-08-01T13:44:50.630Z"
   },
   {
    "duration": 106,
    "start_time": "2022-08-01T13:45:15.887Z"
   },
   {
    "duration": 35,
    "start_time": "2022-08-01T13:56:19.856Z"
   },
   {
    "duration": 217,
    "start_time": "2022-08-01T13:56:41.577Z"
   },
   {
    "duration": 72,
    "start_time": "2022-08-01T13:57:24.000Z"
   },
   {
    "duration": 38,
    "start_time": "2022-08-01T14:02:51.918Z"
   },
   {
    "duration": 62,
    "start_time": "2022-08-01T14:03:55.387Z"
   },
   {
    "duration": 83,
    "start_time": "2022-08-01T14:52:06.290Z"
   },
   {
    "duration": 58,
    "start_time": "2022-08-01T14:52:22.334Z"
   },
   {
    "duration": 51,
    "start_time": "2022-08-01T14:52:29.936Z"
   },
   {
    "duration": 57,
    "start_time": "2022-08-01T14:55:17.751Z"
   },
   {
    "duration": 45,
    "start_time": "2022-08-01T14:56:25.111Z"
   },
   {
    "duration": 43,
    "start_time": "2022-08-01T14:58:00.515Z"
   },
   {
    "duration": 33,
    "start_time": "2022-08-01T15:00:10.086Z"
   },
   {
    "duration": 53,
    "start_time": "2022-08-01T15:00:19.781Z"
   },
   {
    "duration": 56,
    "start_time": "2022-08-01T15:07:13.281Z"
   },
   {
    "duration": 33,
    "start_time": "2022-08-01T15:08:08.048Z"
   },
   {
    "duration": 53,
    "start_time": "2022-08-01T15:08:36.192Z"
   },
   {
    "duration": 50,
    "start_time": "2022-08-01T15:09:58.028Z"
   },
   {
    "duration": 1612,
    "start_time": "2022-08-01T15:10:26.117Z"
   },
   {
    "duration": 1919,
    "start_time": "2022-08-01T15:10:28.508Z"
   },
   {
    "duration": 1391,
    "start_time": "2022-08-01T15:10:31.564Z"
   },
   {
    "duration": 1573,
    "start_time": "2022-08-01T15:11:37.355Z"
   },
   {
    "duration": 1820,
    "start_time": "2022-08-01T15:11:39.928Z"
   },
   {
    "duration": 41,
    "start_time": "2022-08-01T15:11:50.039Z"
   },
   {
    "duration": 47,
    "start_time": "2022-08-01T15:12:02.052Z"
   },
   {
    "duration": 11,
    "start_time": "2022-08-01T15:12:13.603Z"
   },
   {
    "duration": 54,
    "start_time": "2022-08-01T15:12:48.725Z"
   },
   {
    "duration": 55,
    "start_time": "2022-08-01T15:13:03.989Z"
   },
   {
    "duration": 55,
    "start_time": "2022-08-01T15:13:51.932Z"
   },
   {
    "duration": 81,
    "start_time": "2022-08-01T15:14:01.639Z"
   },
   {
    "duration": 34,
    "start_time": "2022-08-01T15:14:52.518Z"
   },
   {
    "duration": 46,
    "start_time": "2022-08-01T15:21:22.091Z"
   },
   {
    "duration": 9,
    "start_time": "2022-08-01T15:23:46.092Z"
   },
   {
    "duration": 52,
    "start_time": "2022-08-01T15:28:02.132Z"
   },
   {
    "duration": 54,
    "start_time": "2022-08-01T15:29:31.562Z"
   },
   {
    "duration": 18,
    "start_time": "2022-08-01T15:31:24.390Z"
   },
   {
    "duration": 107,
    "start_time": "2022-08-01T15:31:42.233Z"
   },
   {
    "duration": 21,
    "start_time": "2022-08-01T15:31:42.343Z"
   },
   {
    "duration": 71,
    "start_time": "2022-08-01T15:31:42.372Z"
   },
   {
    "duration": 13,
    "start_time": "2022-08-01T15:31:42.445Z"
   },
   {
    "duration": 118,
    "start_time": "2022-08-01T15:31:42.461Z"
   },
   {
    "duration": 29,
    "start_time": "2022-08-01T15:31:42.581Z"
   },
   {
    "duration": 14,
    "start_time": "2022-08-01T15:31:42.622Z"
   },
   {
    "duration": 54,
    "start_time": "2022-08-01T15:31:42.638Z"
   },
   {
    "duration": 41,
    "start_time": "2022-08-01T15:31:42.696Z"
   },
   {
    "duration": 24,
    "start_time": "2022-08-01T15:31:42.739Z"
   },
   {
    "duration": 51,
    "start_time": "2022-08-01T15:31:42.771Z"
   },
   {
    "duration": 13,
    "start_time": "2022-08-01T15:31:42.824Z"
   },
   {
    "duration": 9,
    "start_time": "2022-08-01T15:31:42.839Z"
   },
   {
    "duration": 17,
    "start_time": "2022-08-01T15:31:42.852Z"
   },
   {
    "duration": 53,
    "start_time": "2022-08-01T15:31:42.874Z"
   },
   {
    "duration": 7,
    "start_time": "2022-08-01T15:31:42.929Z"
   },
   {
    "duration": 7,
    "start_time": "2022-08-01T15:31:42.938Z"
   },
   {
    "duration": 7,
    "start_time": "2022-08-01T15:31:42.947Z"
   },
   {
    "duration": 67,
    "start_time": "2022-08-01T15:31:42.956Z"
   },
   {
    "duration": 5,
    "start_time": "2022-08-01T15:31:43.025Z"
   },
   {
    "duration": 11,
    "start_time": "2022-08-01T15:31:43.031Z"
   },
   {
    "duration": 6,
    "start_time": "2022-08-01T15:31:43.044Z"
   },
   {
    "duration": 6,
    "start_time": "2022-08-01T15:31:43.051Z"
   },
   {
    "duration": 63,
    "start_time": "2022-08-01T15:31:43.059Z"
   },
   {
    "duration": 19,
    "start_time": "2022-08-01T15:31:43.124Z"
   },
   {
    "duration": 7,
    "start_time": "2022-08-01T15:31:43.145Z"
   },
   {
    "duration": 7,
    "start_time": "2022-08-01T15:31:43.153Z"
   },
   {
    "duration": 57,
    "start_time": "2022-08-01T15:31:43.169Z"
   },
   {
    "duration": 9,
    "start_time": "2022-08-01T15:31:43.228Z"
   },
   {
    "duration": 10,
    "start_time": "2022-08-01T15:31:43.238Z"
   },
   {
    "duration": 51,
    "start_time": "2022-08-01T15:31:43.250Z"
   },
   {
    "duration": 23,
    "start_time": "2022-08-01T15:31:43.307Z"
   },
   {
    "duration": 19,
    "start_time": "2022-08-01T15:31:43.331Z"
   },
   {
    "duration": 19,
    "start_time": "2022-08-01T15:31:43.352Z"
   },
   {
    "duration": 60,
    "start_time": "2022-08-01T15:31:43.373Z"
   },
   {
    "duration": 3,
    "start_time": "2022-08-01T15:31:43.434Z"
   },
   {
    "duration": 12,
    "start_time": "2022-08-01T15:31:43.438Z"
   },
   {
    "duration": 23,
    "start_time": "2022-08-01T15:31:43.452Z"
   },
   {
    "duration": 51,
    "start_time": "2022-08-01T15:31:43.476Z"
   },
   {
    "duration": 3,
    "start_time": "2022-08-01T15:31:43.528Z"
   },
   {
    "duration": 15,
    "start_time": "2022-08-01T15:31:43.535Z"
   },
   {
    "duration": 14,
    "start_time": "2022-08-01T15:31:43.551Z"
   },
   {
    "duration": 55,
    "start_time": "2022-08-01T15:31:43.566Z"
   },
   {
    "duration": 13,
    "start_time": "2022-08-01T15:31:43.623Z"
   },
   {
    "duration": 10,
    "start_time": "2022-08-01T15:31:43.638Z"
   },
   {
    "duration": 13,
    "start_time": "2022-08-01T15:31:43.650Z"
   },
   {
    "duration": 75,
    "start_time": "2022-08-01T15:31:43.664Z"
   },
   {
    "duration": 10,
    "start_time": "2022-08-01T15:31:43.741Z"
   },
   {
    "duration": 3,
    "start_time": "2022-08-01T15:31:43.753Z"
   },
   {
    "duration": 29,
    "start_time": "2022-08-01T15:31:43.757Z"
   },
   {
    "duration": 29,
    "start_time": "2022-08-01T15:31:43.788Z"
   },
   {
    "duration": 6,
    "start_time": "2022-08-01T15:31:43.820Z"
   },
   {
    "duration": 29,
    "start_time": "2022-08-01T15:31:43.828Z"
   },
   {
    "duration": 21,
    "start_time": "2022-08-01T15:31:43.859Z"
   },
   {
    "duration": 38,
    "start_time": "2022-08-01T15:31:43.881Z"
   },
   {
    "duration": 8,
    "start_time": "2022-08-01T15:31:43.921Z"
   },
   {
    "duration": 40,
    "start_time": "2022-08-01T15:31:43.932Z"
   },
   {
    "duration": 23,
    "start_time": "2022-08-01T15:31:43.974Z"
   },
   {
    "duration": 79,
    "start_time": "2022-08-01T15:31:43.999Z"
   },
   {
    "duration": 21,
    "start_time": "2022-08-01T15:31:44.083Z"
   },
   {
    "duration": 0,
    "start_time": "2022-08-01T15:31:44.105Z"
   },
   {
    "duration": 0,
    "start_time": "2022-08-01T15:31:44.106Z"
   },
   {
    "duration": 0,
    "start_time": "2022-08-01T15:31:44.107Z"
   },
   {
    "duration": 12,
    "start_time": "2022-08-01T15:32:15.285Z"
   },
   {
    "duration": 13,
    "start_time": "2022-08-01T15:33:56.549Z"
   },
   {
    "duration": 11,
    "start_time": "2022-08-01T15:34:21.497Z"
   },
   {
    "duration": 46,
    "start_time": "2022-08-01T15:37:01.512Z"
   },
   {
    "duration": 54,
    "start_time": "2022-08-01T15:38:48.415Z"
   },
   {
    "duration": 37,
    "start_time": "2022-08-01T15:43:19.619Z"
   },
   {
    "duration": 48,
    "start_time": "2022-08-01T15:50:59.131Z"
   },
   {
    "duration": 8,
    "start_time": "2022-08-01T18:05:27.206Z"
   },
   {
    "duration": 5,
    "start_time": "2022-08-01T19:20:02.901Z"
   },
   {
    "duration": 6,
    "start_time": "2022-08-01T19:20:10.767Z"
   },
   {
    "duration": 9,
    "start_time": "2022-08-01T19:24:49.766Z"
   },
   {
    "duration": 5,
    "start_time": "2022-08-01T19:52:15.672Z"
   },
   {
    "duration": 54,
    "start_time": "2022-08-01T20:34:51.541Z"
   },
   {
    "duration": 20,
    "start_time": "2022-08-01T20:35:05.302Z"
   },
   {
    "duration": 16,
    "start_time": "2022-08-01T20:39:53.602Z"
   },
   {
    "duration": 644,
    "start_time": "2022-08-02T09:22:22.401Z"
   },
   {
    "duration": 14,
    "start_time": "2022-08-02T09:22:23.047Z"
   },
   {
    "duration": 18,
    "start_time": "2022-08-02T09:22:23.063Z"
   },
   {
    "duration": 13,
    "start_time": "2022-08-02T09:22:23.082Z"
   },
   {
    "duration": 29,
    "start_time": "2022-08-02T09:22:23.097Z"
   },
   {
    "duration": 8,
    "start_time": "2022-08-02T09:22:23.128Z"
   },
   {
    "duration": 10,
    "start_time": "2022-08-02T09:22:23.137Z"
   },
   {
    "duration": 4,
    "start_time": "2022-08-02T09:22:23.148Z"
   },
   {
    "duration": 14,
    "start_time": "2022-08-02T09:22:23.153Z"
   },
   {
    "duration": 9,
    "start_time": "2022-08-02T09:22:23.168Z"
   },
   {
    "duration": 5,
    "start_time": "2022-08-02T09:22:23.178Z"
   },
   {
    "duration": 6,
    "start_time": "2022-08-02T09:22:23.184Z"
   },
   {
    "duration": 15,
    "start_time": "2022-08-02T09:22:23.191Z"
   },
   {
    "duration": 8,
    "start_time": "2022-08-02T09:22:23.209Z"
   },
   {
    "duration": 11,
    "start_time": "2022-08-02T09:22:23.218Z"
   },
   {
    "duration": 9,
    "start_time": "2022-08-02T09:22:23.230Z"
   },
   {
    "duration": 9,
    "start_time": "2022-08-02T09:22:23.240Z"
   },
   {
    "duration": 6,
    "start_time": "2022-08-02T09:22:23.250Z"
   },
   {
    "duration": 13,
    "start_time": "2022-08-02T09:22:23.257Z"
   },
   {
    "duration": 4,
    "start_time": "2022-08-02T09:22:23.271Z"
   },
   {
    "duration": 29,
    "start_time": "2022-08-02T09:22:23.276Z"
   },
   {
    "duration": 7,
    "start_time": "2022-08-02T09:22:23.306Z"
   },
   {
    "duration": 5,
    "start_time": "2022-08-02T09:22:23.315Z"
   },
   {
    "duration": 9,
    "start_time": "2022-08-02T09:22:23.321Z"
   },
   {
    "duration": 10,
    "start_time": "2022-08-02T09:22:23.331Z"
   },
   {
    "duration": 7,
    "start_time": "2022-08-02T09:22:23.343Z"
   },
   {
    "duration": 10,
    "start_time": "2022-08-02T09:22:23.352Z"
   },
   {
    "duration": 10,
    "start_time": "2022-08-02T09:22:23.363Z"
   },
   {
    "duration": 7,
    "start_time": "2022-08-02T09:22:23.402Z"
   },
   {
    "duration": 15,
    "start_time": "2022-08-02T09:22:23.410Z"
   },
   {
    "duration": 34,
    "start_time": "2022-08-02T09:22:23.427Z"
   },
   {
    "duration": 17,
    "start_time": "2022-08-02T09:22:23.463Z"
   },
   {
    "duration": 37,
    "start_time": "2022-08-02T09:22:23.482Z"
   },
   {
    "duration": 16,
    "start_time": "2022-08-02T09:22:23.521Z"
   },
   {
    "duration": 14,
    "start_time": "2022-08-02T09:22:23.539Z"
   },
   {
    "duration": 399,
    "start_time": "2022-08-02T09:22:23.555Z"
   },
   {
    "duration": 10,
    "start_time": "2022-08-02T09:22:23.956Z"
   },
   {
    "duration": 14,
    "start_time": "2022-08-02T09:22:23.967Z"
   },
   {
    "duration": 26,
    "start_time": "2022-08-02T09:22:23.982Z"
   },
   {
    "duration": 2,
    "start_time": "2022-08-02T09:22:24.010Z"
   },
   {
    "duration": 17,
    "start_time": "2022-08-02T09:22:24.016Z"
   },
   {
    "duration": 11,
    "start_time": "2022-08-02T09:22:24.034Z"
   },
   {
    "duration": 7,
    "start_time": "2022-08-02T09:22:24.046Z"
   },
   {
    "duration": 9,
    "start_time": "2022-08-02T09:22:24.055Z"
   },
   {
    "duration": 9,
    "start_time": "2022-08-02T09:22:24.066Z"
   },
   {
    "duration": 9,
    "start_time": "2022-08-02T09:22:24.102Z"
   },
   {
    "duration": 13,
    "start_time": "2022-08-02T09:22:24.112Z"
   },
   {
    "duration": 8,
    "start_time": "2022-08-02T09:22:24.126Z"
   },
   {
    "duration": 4,
    "start_time": "2022-08-02T09:22:24.136Z"
   },
   {
    "duration": 10,
    "start_time": "2022-08-02T09:22:24.142Z"
   },
   {
    "duration": 4,
    "start_time": "2022-08-02T09:22:24.153Z"
   },
   {
    "duration": 44,
    "start_time": "2022-08-02T09:22:24.158Z"
   },
   {
    "duration": 7,
    "start_time": "2022-08-02T09:22:24.204Z"
   },
   {
    "duration": 5,
    "start_time": "2022-08-02T09:22:24.212Z"
   },
   {
    "duration": 21,
    "start_time": "2022-08-02T09:22:24.219Z"
   },
   {
    "duration": 17,
    "start_time": "2022-08-02T09:22:24.242Z"
   },
   {
    "duration": 72,
    "start_time": "2022-08-02T09:22:24.260Z"
   },
   {
    "duration": 8,
    "start_time": "2022-08-02T09:22:24.333Z"
   },
   {
    "duration": 36,
    "start_time": "2022-08-02T09:22:24.342Z"
   },
   {
    "duration": 55,
    "start_time": "2022-08-02T09:22:24.380Z"
   },
   {
    "duration": 35,
    "start_time": "2022-08-02T09:22:24.436Z"
   },
   {
    "duration": 15,
    "start_time": "2022-08-02T09:22:51.739Z"
   },
   {
    "duration": 18,
    "start_time": "2022-08-02T09:23:05.303Z"
   },
   {
    "duration": 14,
    "start_time": "2022-08-02T09:37:51.844Z"
   },
   {
    "duration": 7,
    "start_time": "2022-08-02T09:38:32.843Z"
   },
   {
    "duration": 88,
    "start_time": "2022-08-02T09:39:05.837Z"
   },
   {
    "duration": 14,
    "start_time": "2022-08-02T09:39:05.927Z"
   },
   {
    "duration": 18,
    "start_time": "2022-08-02T09:39:05.943Z"
   },
   {
    "duration": 13,
    "start_time": "2022-08-02T09:39:05.963Z"
   },
   {
    "duration": 33,
    "start_time": "2022-08-02T09:39:06.002Z"
   },
   {
    "duration": 20,
    "start_time": "2022-08-02T09:39:06.037Z"
   },
   {
    "duration": 32,
    "start_time": "2022-08-02T09:39:06.058Z"
   },
   {
    "duration": 38,
    "start_time": "2022-08-02T09:39:06.091Z"
   },
   {
    "duration": 18,
    "start_time": "2022-08-02T09:39:06.131Z"
   },
   {
    "duration": 17,
    "start_time": "2022-08-02T09:39:06.152Z"
   },
   {
    "duration": 12,
    "start_time": "2022-08-02T09:39:06.171Z"
   },
   {
    "duration": 23,
    "start_time": "2022-08-02T09:39:06.185Z"
   },
   {
    "duration": 18,
    "start_time": "2022-08-02T09:39:06.210Z"
   },
   {
    "duration": 11,
    "start_time": "2022-08-02T09:39:06.230Z"
   },
   {
    "duration": 23,
    "start_time": "2022-08-02T09:39:06.243Z"
   },
   {
    "duration": 12,
    "start_time": "2022-08-02T09:39:06.268Z"
   },
   {
    "duration": 10,
    "start_time": "2022-08-02T09:39:06.281Z"
   },
   {
    "duration": 19,
    "start_time": "2022-08-02T09:39:06.292Z"
   },
   {
    "duration": 10,
    "start_time": "2022-08-02T09:39:06.313Z"
   },
   {
    "duration": 6,
    "start_time": "2022-08-02T09:39:06.325Z"
   },
   {
    "duration": 5,
    "start_time": "2022-08-02T09:39:06.333Z"
   },
   {
    "duration": 8,
    "start_time": "2022-08-02T09:39:06.339Z"
   },
   {
    "duration": 11,
    "start_time": "2022-08-02T09:39:06.348Z"
   },
   {
    "duration": 8,
    "start_time": "2022-08-02T09:39:06.360Z"
   },
   {
    "duration": 54,
    "start_time": "2022-08-02T09:39:06.370Z"
   },
   {
    "duration": 17,
    "start_time": "2022-08-02T09:39:06.426Z"
   },
   {
    "duration": 17,
    "start_time": "2022-08-02T09:39:06.444Z"
   },
   {
    "duration": 38,
    "start_time": "2022-08-02T09:39:06.465Z"
   },
   {
    "duration": 13,
    "start_time": "2022-08-02T09:39:06.504Z"
   },
   {
    "duration": 31,
    "start_time": "2022-08-02T09:39:06.518Z"
   },
   {
    "duration": 9,
    "start_time": "2022-08-02T09:39:06.551Z"
   },
   {
    "duration": 12,
    "start_time": "2022-08-02T09:39:06.561Z"
   },
   {
    "duration": 9,
    "start_time": "2022-08-02T09:39:06.574Z"
   },
   {
    "duration": 4,
    "start_time": "2022-08-02T09:39:06.584Z"
   },
   {
    "duration": 12,
    "start_time": "2022-08-02T09:39:06.590Z"
   },
   {
    "duration": 9,
    "start_time": "2022-08-02T09:39:06.604Z"
   },
   {
    "duration": 6,
    "start_time": "2022-08-02T09:39:06.614Z"
   },
   {
    "duration": 12,
    "start_time": "2022-08-02T09:39:06.621Z"
   },
   {
    "duration": 8,
    "start_time": "2022-08-02T09:39:06.635Z"
   },
   {
    "duration": 8,
    "start_time": "2022-08-02T09:39:06.644Z"
   },
   {
    "duration": 17,
    "start_time": "2022-08-02T09:39:06.653Z"
   },
   {
    "duration": 31,
    "start_time": "2022-08-02T09:39:06.671Z"
   },
   {
    "duration": 2,
    "start_time": "2022-08-02T09:39:06.704Z"
   },
   {
    "duration": 10,
    "start_time": "2022-08-02T09:39:06.708Z"
   },
   {
    "duration": 5,
    "start_time": "2022-08-02T09:39:06.720Z"
   },
   {
    "duration": 25,
    "start_time": "2022-08-02T09:39:06.726Z"
   },
   {
    "duration": 6,
    "start_time": "2022-08-02T09:39:06.752Z"
   },
   {
    "duration": 4,
    "start_time": "2022-08-02T09:39:06.760Z"
   },
   {
    "duration": 44,
    "start_time": "2022-08-02T09:39:06.765Z"
   },
   {
    "duration": 17,
    "start_time": "2022-08-02T09:39:06.811Z"
   },
   {
    "duration": 40,
    "start_time": "2022-08-02T09:39:06.829Z"
   },
   {
    "duration": 7,
    "start_time": "2022-08-02T09:39:06.871Z"
   },
   {
    "duration": 58,
    "start_time": "2022-08-02T09:39:06.879Z"
   },
   {
    "duration": 35,
    "start_time": "2022-08-02T09:39:06.939Z"
   },
   {
    "duration": 53,
    "start_time": "2022-08-02T09:39:06.976Z"
   },
   {
    "duration": 9,
    "start_time": "2022-08-02T09:43:42.487Z"
   },
   {
    "duration": 86,
    "start_time": "2022-08-02T09:45:18.667Z"
   },
   {
    "duration": 12,
    "start_time": "2022-08-02T09:45:18.755Z"
   },
   {
    "duration": 17,
    "start_time": "2022-08-02T09:45:18.768Z"
   },
   {
    "duration": 12,
    "start_time": "2022-08-02T09:45:18.788Z"
   },
   {
    "duration": 27,
    "start_time": "2022-08-02T09:45:18.802Z"
   },
   {
    "duration": 10,
    "start_time": "2022-08-02T09:45:18.831Z"
   },
   {
    "duration": 6,
    "start_time": "2022-08-02T09:45:18.842Z"
   },
   {
    "duration": 4,
    "start_time": "2022-08-02T09:45:18.849Z"
   },
   {
    "duration": 4,
    "start_time": "2022-08-02T09:45:18.854Z"
   },
   {
    "duration": 5,
    "start_time": "2022-08-02T09:45:18.860Z"
   },
   {
    "duration": 6,
    "start_time": "2022-08-02T09:45:18.902Z"
   },
   {
    "duration": 13,
    "start_time": "2022-08-02T09:45:18.909Z"
   },
   {
    "duration": 8,
    "start_time": "2022-08-02T09:45:18.924Z"
   },
   {
    "duration": 7,
    "start_time": "2022-08-02T09:45:18.933Z"
   },
   {
    "duration": 13,
    "start_time": "2022-08-02T09:45:18.941Z"
   },
   {
    "duration": 8,
    "start_time": "2022-08-02T09:45:18.955Z"
   },
   {
    "duration": 37,
    "start_time": "2022-08-02T09:45:18.965Z"
   },
   {
    "duration": 5,
    "start_time": "2022-08-02T09:45:19.004Z"
   },
   {
    "duration": 12,
    "start_time": "2022-08-02T09:45:19.010Z"
   },
   {
    "duration": 11,
    "start_time": "2022-08-02T09:45:19.024Z"
   },
   {
    "duration": 6,
    "start_time": "2022-08-02T09:45:19.036Z"
   },
   {
    "duration": 7,
    "start_time": "2022-08-02T09:45:19.043Z"
   },
   {
    "duration": 9,
    "start_time": "2022-08-02T09:45:19.052Z"
   },
   {
    "duration": 9,
    "start_time": "2022-08-02T09:45:19.062Z"
   },
   {
    "duration": 36,
    "start_time": "2022-08-02T09:45:19.073Z"
   },
   {
    "duration": 62,
    "start_time": "2022-08-02T09:45:19.111Z"
   },
   {
    "duration": 17,
    "start_time": "2022-08-02T09:45:19.174Z"
   },
   {
    "duration": 19,
    "start_time": "2022-08-02T09:45:19.194Z"
   },
   {
    "duration": 16,
    "start_time": "2022-08-02T09:45:19.215Z"
   },
   {
    "duration": 13,
    "start_time": "2022-08-02T09:45:19.233Z"
   },
   {
    "duration": 2,
    "start_time": "2022-08-02T09:45:19.248Z"
   },
   {
    "duration": 18,
    "start_time": "2022-08-02T09:45:19.252Z"
   },
   {
    "duration": 14,
    "start_time": "2022-08-02T09:45:19.271Z"
   },
   {
    "duration": 23,
    "start_time": "2022-08-02T09:45:19.287Z"
   },
   {
    "duration": 20,
    "start_time": "2022-08-02T09:45:19.311Z"
   },
   {
    "duration": 21,
    "start_time": "2022-08-02T09:45:19.333Z"
   },
   {
    "duration": 11,
    "start_time": "2022-08-02T09:45:19.355Z"
   },
   {
    "duration": 6,
    "start_time": "2022-08-02T09:45:19.368Z"
   },
   {
    "duration": 16,
    "start_time": "2022-08-02T09:45:19.376Z"
   },
   {
    "duration": 9,
    "start_time": "2022-08-02T09:45:19.393Z"
   },
   {
    "duration": 7,
    "start_time": "2022-08-02T09:45:19.403Z"
   },
   {
    "duration": 12,
    "start_time": "2022-08-02T09:45:19.412Z"
   },
   {
    "duration": 8,
    "start_time": "2022-08-02T09:45:19.425Z"
   },
   {
    "duration": 10,
    "start_time": "2022-08-02T09:45:19.435Z"
   },
   {
    "duration": 8,
    "start_time": "2022-08-02T09:45:19.446Z"
   },
   {
    "duration": 4,
    "start_time": "2022-08-02T09:45:19.456Z"
   },
   {
    "duration": 42,
    "start_time": "2022-08-02T09:45:19.461Z"
   },
   {
    "duration": 6,
    "start_time": "2022-08-02T09:45:19.504Z"
   },
   {
    "duration": 3,
    "start_time": "2022-08-02T09:45:19.512Z"
   },
   {
    "duration": 17,
    "start_time": "2022-08-02T09:45:19.516Z"
   },
   {
    "duration": 14,
    "start_time": "2022-08-02T09:45:19.535Z"
   },
   {
    "duration": 64,
    "start_time": "2022-08-02T09:45:19.550Z"
   },
   {
    "duration": 7,
    "start_time": "2022-08-02T09:45:19.615Z"
   },
   {
    "duration": 37,
    "start_time": "2022-08-02T09:45:19.623Z"
   },
   {
    "duration": 49,
    "start_time": "2022-08-02T09:45:19.662Z"
   },
   {
    "duration": 33,
    "start_time": "2022-08-02T09:45:19.712Z"
   },
   {
    "duration": 14,
    "start_time": "2022-08-02T09:48:07.885Z"
   },
   {
    "duration": 12,
    "start_time": "2022-08-02T09:51:10.892Z"
   },
   {
    "duration": 10,
    "start_time": "2022-08-02T09:51:38.677Z"
   },
   {
    "duration": 8,
    "start_time": "2022-08-02T09:52:21.526Z"
   },
   {
    "duration": 44,
    "start_time": "2022-08-02T09:53:46.378Z"
   },
   {
    "duration": 15,
    "start_time": "2022-08-02T10:02:23.054Z"
   },
   {
    "duration": 116,
    "start_time": "2022-08-02T10:02:30.376Z"
   },
   {
    "duration": 14,
    "start_time": "2022-08-02T10:02:30.494Z"
   },
   {
    "duration": 18,
    "start_time": "2022-08-02T10:02:30.510Z"
   },
   {
    "duration": 12,
    "start_time": "2022-08-02T10:02:30.530Z"
   },
   {
    "duration": 37,
    "start_time": "2022-08-02T10:02:30.544Z"
   },
   {
    "duration": 24,
    "start_time": "2022-08-02T10:02:30.582Z"
   },
   {
    "duration": 7,
    "start_time": "2022-08-02T10:02:30.608Z"
   },
   {
    "duration": 20,
    "start_time": "2022-08-02T10:02:30.616Z"
   },
   {
    "duration": 9,
    "start_time": "2022-08-02T10:02:30.638Z"
   },
   {
    "duration": 15,
    "start_time": "2022-08-02T10:02:30.649Z"
   },
   {
    "duration": 16,
    "start_time": "2022-08-02T10:02:30.666Z"
   },
   {
    "duration": 12,
    "start_time": "2022-08-02T10:02:30.683Z"
   },
   {
    "duration": 19,
    "start_time": "2022-08-02T10:02:30.697Z"
   },
   {
    "duration": 8,
    "start_time": "2022-08-02T10:02:30.719Z"
   },
   {
    "duration": 11,
    "start_time": "2022-08-02T10:02:30.729Z"
   },
   {
    "duration": 15,
    "start_time": "2022-08-02T10:02:30.742Z"
   },
   {
    "duration": 12,
    "start_time": "2022-08-02T10:02:30.759Z"
   },
   {
    "duration": 10,
    "start_time": "2022-08-02T10:02:30.772Z"
   },
   {
    "duration": 18,
    "start_time": "2022-08-02T10:02:30.784Z"
   },
   {
    "duration": 21,
    "start_time": "2022-08-02T10:02:30.804Z"
   },
   {
    "duration": 23,
    "start_time": "2022-08-02T10:02:30.827Z"
   },
   {
    "duration": 32,
    "start_time": "2022-08-02T10:02:30.851Z"
   },
   {
    "duration": 17,
    "start_time": "2022-08-02T10:02:30.885Z"
   },
   {
    "duration": 31,
    "start_time": "2022-08-02T10:02:30.903Z"
   },
   {
    "duration": 13,
    "start_time": "2022-08-02T10:02:30.936Z"
   },
   {
    "duration": 9,
    "start_time": "2022-08-02T10:02:30.951Z"
   },
   {
    "duration": 16,
    "start_time": "2022-08-02T10:02:30.961Z"
   },
   {
    "duration": 31,
    "start_time": "2022-08-02T10:02:30.979Z"
   },
   {
    "duration": 9,
    "start_time": "2022-08-02T10:02:31.011Z"
   },
   {
    "duration": 10,
    "start_time": "2022-08-02T10:02:31.021Z"
   },
   {
    "duration": 8,
    "start_time": "2022-08-02T10:02:31.033Z"
   },
   {
    "duration": 9,
    "start_time": "2022-08-02T10:02:31.042Z"
   },
   {
    "duration": 8,
    "start_time": "2022-08-02T10:02:31.053Z"
   },
   {
    "duration": 41,
    "start_time": "2022-08-02T10:02:31.062Z"
   },
   {
    "duration": 13,
    "start_time": "2022-08-02T10:02:31.104Z"
   },
   {
    "duration": 10,
    "start_time": "2022-08-02T10:02:31.119Z"
   },
   {
    "duration": 12,
    "start_time": "2022-08-02T10:02:31.131Z"
   },
   {
    "duration": 11,
    "start_time": "2022-08-02T10:02:31.145Z"
   },
   {
    "duration": 20,
    "start_time": "2022-08-02T10:02:31.158Z"
   },
   {
    "duration": 6,
    "start_time": "2022-08-02T10:02:31.180Z"
   },
   {
    "duration": 13,
    "start_time": "2022-08-02T10:02:31.189Z"
   },
   {
    "duration": 16,
    "start_time": "2022-08-02T10:02:31.203Z"
   },
   {
    "duration": 21,
    "start_time": "2022-08-02T10:02:31.220Z"
   },
   {
    "duration": 41,
    "start_time": "2022-08-02T10:02:31.243Z"
   },
   {
    "duration": 18,
    "start_time": "2022-08-02T10:02:31.286Z"
   },
   {
    "duration": 32,
    "start_time": "2022-08-02T10:02:31.305Z"
   },
   {
    "duration": 30,
    "start_time": "2022-08-02T10:02:31.339Z"
   },
   {
    "duration": 50,
    "start_time": "2022-08-02T10:02:31.370Z"
   },
   {
    "duration": 683,
    "start_time": "2022-08-03T09:38:24.682Z"
   },
   {
    "duration": 16,
    "start_time": "2022-08-03T09:38:25.367Z"
   },
   {
    "duration": 19,
    "start_time": "2022-08-03T09:38:25.385Z"
   },
   {
    "duration": 14,
    "start_time": "2022-08-03T09:38:25.406Z"
   },
   {
    "duration": 50,
    "start_time": "2022-08-03T09:38:25.421Z"
   },
   {
    "duration": 9,
    "start_time": "2022-08-03T09:38:25.473Z"
   },
   {
    "duration": 8,
    "start_time": "2022-08-03T09:38:25.483Z"
   },
   {
    "duration": 4,
    "start_time": "2022-08-03T09:38:25.492Z"
   },
   {
    "duration": 8,
    "start_time": "2022-08-03T09:38:25.497Z"
   },
   {
    "duration": 14,
    "start_time": "2022-08-03T09:38:25.507Z"
   },
   {
    "duration": 5,
    "start_time": "2022-08-03T09:38:25.522Z"
   },
   {
    "duration": 13,
    "start_time": "2022-08-03T09:38:25.557Z"
   },
   {
    "duration": 14,
    "start_time": "2022-08-03T09:38:25.572Z"
   },
   {
    "duration": 12,
    "start_time": "2022-08-03T09:38:25.588Z"
   },
   {
    "duration": 6,
    "start_time": "2022-08-03T09:38:25.601Z"
   },
   {
    "duration": 18,
    "start_time": "2022-08-03T09:38:25.608Z"
   },
   {
    "duration": 35,
    "start_time": "2022-08-03T09:38:25.627Z"
   },
   {
    "duration": 15,
    "start_time": "2022-08-03T09:38:25.664Z"
   },
   {
    "duration": 7,
    "start_time": "2022-08-03T09:38:25.683Z"
   },
   {
    "duration": 11,
    "start_time": "2022-08-03T09:38:25.691Z"
   },
   {
    "duration": 9,
    "start_time": "2022-08-03T09:38:25.703Z"
   },
   {
    "duration": 61,
    "start_time": "2022-08-03T09:38:25.714Z"
   },
   {
    "duration": 16,
    "start_time": "2022-08-03T09:38:25.777Z"
   },
   {
    "duration": 32,
    "start_time": "2022-08-03T09:38:25.794Z"
   },
   {
    "duration": 27,
    "start_time": "2022-08-03T09:38:25.828Z"
   },
   {
    "duration": 14,
    "start_time": "2022-08-03T09:38:25.862Z"
   },
   {
    "duration": 12,
    "start_time": "2022-08-03T09:38:25.878Z"
   },
   {
    "duration": 9,
    "start_time": "2022-08-03T09:38:25.893Z"
   },
   {
    "duration": 15,
    "start_time": "2022-08-03T09:38:25.903Z"
   },
   {
    "duration": 9,
    "start_time": "2022-08-03T09:38:25.920Z"
   },
   {
    "duration": 28,
    "start_time": "2022-08-03T09:38:25.930Z"
   },
   {
    "duration": 9,
    "start_time": "2022-08-03T09:38:25.960Z"
   },
   {
    "duration": 13,
    "start_time": "2022-08-03T09:38:25.971Z"
   },
   {
    "duration": 8,
    "start_time": "2022-08-03T09:38:25.986Z"
   },
   {
    "duration": 12,
    "start_time": "2022-08-03T09:38:25.996Z"
   },
   {
    "duration": 8,
    "start_time": "2022-08-03T09:38:26.009Z"
   },
   {
    "duration": 6,
    "start_time": "2022-08-03T09:38:26.018Z"
   },
   {
    "duration": 4,
    "start_time": "2022-08-03T09:38:26.025Z"
   },
   {
    "duration": 23,
    "start_time": "2022-08-03T09:38:26.055Z"
   },
   {
    "duration": 9,
    "start_time": "2022-08-03T09:38:26.080Z"
   },
   {
    "duration": 3,
    "start_time": "2022-08-03T09:38:26.090Z"
   },
   {
    "duration": 17,
    "start_time": "2022-08-03T09:38:26.095Z"
   },
   {
    "duration": 56,
    "start_time": "2022-08-03T09:38:26.114Z"
   },
   {
    "duration": 45,
    "start_time": "2022-08-03T09:38:26.172Z"
   },
   {
    "duration": 48,
    "start_time": "2022-08-03T09:38:26.219Z"
   },
   {
    "duration": 34,
    "start_time": "2022-08-03T09:38:26.269Z"
   },
   {
    "duration": 33,
    "start_time": "2022-08-03T09:38:26.305Z"
   },
   {
    "duration": 26,
    "start_time": "2022-08-03T09:43:58.093Z"
   },
   {
    "duration": 51,
    "start_time": "2022-08-03T12:06:50.545Z"
   },
   {
    "duration": 660,
    "start_time": "2022-08-03T12:07:00.243Z"
   },
   {
    "duration": 17,
    "start_time": "2022-08-03T12:07:00.906Z"
   },
   {
    "duration": 26,
    "start_time": "2022-08-03T12:07:00.925Z"
   },
   {
    "duration": 18,
    "start_time": "2022-08-03T12:07:00.953Z"
   },
   {
    "duration": 49,
    "start_time": "2022-08-03T12:07:00.972Z"
   },
   {
    "duration": 12,
    "start_time": "2022-08-03T12:07:01.023Z"
   },
   {
    "duration": 8,
    "start_time": "2022-08-03T12:07:01.037Z"
   },
   {
    "duration": 9,
    "start_time": "2022-08-03T12:07:01.047Z"
   },
   {
    "duration": 17,
    "start_time": "2022-08-03T12:07:01.058Z"
   },
   {
    "duration": 17,
    "start_time": "2022-08-03T12:07:01.093Z"
   },
   {
    "duration": 24,
    "start_time": "2022-08-03T12:07:01.112Z"
   },
   {
    "duration": 24,
    "start_time": "2022-08-03T12:07:01.138Z"
   },
   {
    "duration": 22,
    "start_time": "2022-08-03T12:07:01.164Z"
   },
   {
    "duration": 23,
    "start_time": "2022-08-03T12:07:01.188Z"
   },
   {
    "duration": 42,
    "start_time": "2022-08-03T12:07:01.213Z"
   },
   {
    "duration": 53,
    "start_time": "2022-08-03T12:07:01.258Z"
   },
   {
    "duration": 29,
    "start_time": "2022-08-03T12:07:01.314Z"
   },
   {
    "duration": 35,
    "start_time": "2022-08-03T12:07:01.346Z"
   },
   {
    "duration": 21,
    "start_time": "2022-08-03T12:07:01.383Z"
   },
   {
    "duration": 1309,
    "start_time": "2022-08-03T12:07:01.407Z"
   },
   {
    "duration": 0,
    "start_time": "2022-08-03T12:07:02.719Z"
   },
   {
    "duration": 0,
    "start_time": "2022-08-03T12:07:02.720Z"
   },
   {
    "duration": 0,
    "start_time": "2022-08-03T12:07:02.721Z"
   },
   {
    "duration": 0,
    "start_time": "2022-08-03T12:07:02.722Z"
   },
   {
    "duration": 0,
    "start_time": "2022-08-03T12:07:02.723Z"
   },
   {
    "duration": 1,
    "start_time": "2022-08-03T12:07:02.724Z"
   },
   {
    "duration": 0,
    "start_time": "2022-08-03T12:07:02.726Z"
   },
   {
    "duration": 0,
    "start_time": "2022-08-03T12:07:02.727Z"
   },
   {
    "duration": 0,
    "start_time": "2022-08-03T12:07:02.728Z"
   },
   {
    "duration": 0,
    "start_time": "2022-08-03T12:07:02.729Z"
   },
   {
    "duration": 0,
    "start_time": "2022-08-03T12:07:02.731Z"
   },
   {
    "duration": 0,
    "start_time": "2022-08-03T12:07:02.732Z"
   },
   {
    "duration": 0,
    "start_time": "2022-08-03T12:07:02.733Z"
   },
   {
    "duration": 0,
    "start_time": "2022-08-03T12:07:02.734Z"
   },
   {
    "duration": 0,
    "start_time": "2022-08-03T12:07:02.735Z"
   },
   {
    "duration": 0,
    "start_time": "2022-08-03T12:07:02.736Z"
   },
   {
    "duration": 0,
    "start_time": "2022-08-03T12:07:02.736Z"
   },
   {
    "duration": 0,
    "start_time": "2022-08-03T12:07:02.738Z"
   },
   {
    "duration": 0,
    "start_time": "2022-08-03T12:07:02.739Z"
   },
   {
    "duration": 0,
    "start_time": "2022-08-03T12:07:02.740Z"
   },
   {
    "duration": 0,
    "start_time": "2022-08-03T12:07:02.741Z"
   },
   {
    "duration": 0,
    "start_time": "2022-08-03T12:07:02.742Z"
   },
   {
    "duration": 0,
    "start_time": "2022-08-03T12:07:02.743Z"
   },
   {
    "duration": 0,
    "start_time": "2022-08-03T12:07:02.744Z"
   },
   {
    "duration": 0,
    "start_time": "2022-08-03T12:07:02.745Z"
   },
   {
    "duration": 0,
    "start_time": "2022-08-03T12:07:02.746Z"
   },
   {
    "duration": 0,
    "start_time": "2022-08-03T12:07:02.747Z"
   },
   {
    "duration": 1149,
    "start_time": "2022-08-03T12:08:26.951Z"
   },
   {
    "duration": 1193,
    "start_time": "2022-08-03T12:09:03.771Z"
   },
   {
    "duration": 1655,
    "start_time": "2022-08-03T12:09:51.470Z"
   },
   {
    "duration": 1436,
    "start_time": "2022-08-03T12:10:15.644Z"
   },
   {
    "duration": 9,
    "start_time": "2022-08-03T12:14:07.883Z"
   },
   {
    "duration": 93,
    "start_time": "2022-08-03T12:29:37.576Z"
   },
   {
    "duration": 17,
    "start_time": "2022-08-03T12:29:37.671Z"
   },
   {
    "duration": 17,
    "start_time": "2022-08-03T12:29:37.690Z"
   },
   {
    "duration": 14,
    "start_time": "2022-08-03T12:29:37.709Z"
   },
   {
    "duration": 34,
    "start_time": "2022-08-03T12:29:37.725Z"
   },
   {
    "duration": 41,
    "start_time": "2022-08-03T12:29:37.761Z"
   },
   {
    "duration": 7,
    "start_time": "2022-08-03T12:29:37.804Z"
   },
   {
    "duration": 5,
    "start_time": "2022-08-03T12:29:37.813Z"
   },
   {
    "duration": 8,
    "start_time": "2022-08-03T12:29:37.820Z"
   },
   {
    "duration": 18,
    "start_time": "2022-08-03T12:29:37.831Z"
   },
   {
    "duration": 41,
    "start_time": "2022-08-03T12:29:37.851Z"
   },
   {
    "duration": 9,
    "start_time": "2022-08-03T12:29:37.894Z"
   },
   {
    "duration": 14,
    "start_time": "2022-08-03T12:29:37.905Z"
   },
   {
    "duration": 9,
    "start_time": "2022-08-03T12:29:37.921Z"
   },
   {
    "duration": 7,
    "start_time": "2022-08-03T12:29:37.932Z"
   },
   {
    "duration": 13,
    "start_time": "2022-08-03T12:29:37.940Z"
   },
   {
    "duration": 13,
    "start_time": "2022-08-03T12:29:37.992Z"
   },
   {
    "duration": 16,
    "start_time": "2022-08-03T12:29:38.007Z"
   },
   {
    "duration": 10,
    "start_time": "2022-08-03T12:29:38.025Z"
   },
   {
    "duration": 14,
    "start_time": "2022-08-03T12:29:38.036Z"
   },
   {
    "duration": 42,
    "start_time": "2022-08-03T12:29:38.052Z"
   },
   {
    "duration": 43,
    "start_time": "2022-08-03T12:29:38.096Z"
   },
   {
    "duration": 21,
    "start_time": "2022-08-03T12:29:38.141Z"
   },
   {
    "duration": 57,
    "start_time": "2022-08-03T12:29:38.164Z"
   },
   {
    "duration": 16,
    "start_time": "2022-08-03T12:29:38.223Z"
   },
   {
    "duration": 10,
    "start_time": "2022-08-03T12:29:38.240Z"
   },
   {
    "duration": 41,
    "start_time": "2022-08-03T12:29:38.252Z"
   },
   {
    "duration": 14,
    "start_time": "2022-08-03T12:29:38.297Z"
   },
   {
    "duration": 13,
    "start_time": "2022-08-03T12:29:38.313Z"
   },
   {
    "duration": 12,
    "start_time": "2022-08-03T12:29:38.328Z"
   },
   {
    "duration": 8,
    "start_time": "2022-08-03T12:29:38.342Z"
   },
   {
    "duration": 41,
    "start_time": "2022-08-03T12:29:38.352Z"
   },
   {
    "duration": 10,
    "start_time": "2022-08-03T12:29:38.395Z"
   },
   {
    "duration": 9,
    "start_time": "2022-08-03T12:29:38.407Z"
   },
   {
    "duration": 17,
    "start_time": "2022-08-03T12:29:38.418Z"
   },
   {
    "duration": 9,
    "start_time": "2022-08-03T12:29:38.437Z"
   },
   {
    "duration": 5,
    "start_time": "2022-08-03T12:29:38.493Z"
   },
   {
    "duration": 5,
    "start_time": "2022-08-03T12:29:38.500Z"
   },
   {
    "duration": 23,
    "start_time": "2022-08-03T12:29:38.507Z"
   },
   {
    "duration": 7,
    "start_time": "2022-08-03T12:29:38.532Z"
   },
   {
    "duration": 4,
    "start_time": "2022-08-03T12:29:38.541Z"
   },
   {
    "duration": 61,
    "start_time": "2022-08-03T12:29:38.547Z"
   },
   {
    "duration": 18,
    "start_time": "2022-08-03T12:29:38.610Z"
   },
   {
    "duration": 73,
    "start_time": "2022-08-03T12:29:38.630Z"
   },
   {
    "duration": 44,
    "start_time": "2022-08-03T12:29:38.706Z"
   },
   {
    "duration": 65,
    "start_time": "2022-08-03T12:29:38.752Z"
   },
   {
    "duration": 41,
    "start_time": "2022-08-03T12:29:38.819Z"
   },
   {
    "duration": 95,
    "start_time": "2022-08-03T15:31:41.238Z"
   },
   {
    "duration": 469,
    "start_time": "2022-08-03T17:06:53.742Z"
   },
   {
    "duration": 15,
    "start_time": "2022-08-03T17:06:54.214Z"
   },
   {
    "duration": 20,
    "start_time": "2022-08-03T17:06:54.231Z"
   },
   {
    "duration": 16,
    "start_time": "2022-08-03T17:06:54.252Z"
   },
   {
    "duration": 54,
    "start_time": "2022-08-03T17:06:54.270Z"
   },
   {
    "duration": 9,
    "start_time": "2022-08-03T17:06:54.326Z"
   },
   {
    "duration": 7,
    "start_time": "2022-08-03T17:06:54.336Z"
   },
   {
    "duration": 6,
    "start_time": "2022-08-03T17:06:54.345Z"
   },
   {
    "duration": 7,
    "start_time": "2022-08-03T17:06:54.353Z"
   },
   {
    "duration": 39,
    "start_time": "2022-08-03T17:06:54.362Z"
   },
   {
    "duration": 5,
    "start_time": "2022-08-03T17:06:54.402Z"
   },
   {
    "duration": 10,
    "start_time": "2022-08-03T17:06:54.409Z"
   },
   {
    "duration": 13,
    "start_time": "2022-08-03T17:06:54.420Z"
   },
   {
    "duration": 9,
    "start_time": "2022-08-03T17:06:54.436Z"
   },
   {
    "duration": 7,
    "start_time": "2022-08-03T17:06:54.447Z"
   },
   {
    "duration": 14,
    "start_time": "2022-08-03T17:06:54.455Z"
   },
   {
    "duration": 35,
    "start_time": "2022-08-03T17:06:54.471Z"
   },
   {
    "duration": 10,
    "start_time": "2022-08-03T17:06:54.508Z"
   },
   {
    "duration": 7,
    "start_time": "2022-08-03T17:06:54.520Z"
   },
   {
    "duration": 13,
    "start_time": "2022-08-03T17:06:54.528Z"
   },
   {
    "duration": 10,
    "start_time": "2022-08-03T17:06:54.542Z"
   },
   {
    "duration": 96,
    "start_time": "2022-08-03T17:06:54.553Z"
   },
   {
    "duration": 0,
    "start_time": "2022-08-03T17:06:54.651Z"
   },
   {
    "duration": 0,
    "start_time": "2022-08-03T17:06:54.652Z"
   },
   {
    "duration": 0,
    "start_time": "2022-08-03T17:06:54.653Z"
   },
   {
    "duration": 0,
    "start_time": "2022-08-03T17:06:54.654Z"
   },
   {
    "duration": 0,
    "start_time": "2022-08-03T17:06:54.656Z"
   },
   {
    "duration": 0,
    "start_time": "2022-08-03T17:06:54.657Z"
   },
   {
    "duration": 0,
    "start_time": "2022-08-03T17:06:54.658Z"
   },
   {
    "duration": 0,
    "start_time": "2022-08-03T17:06:54.659Z"
   },
   {
    "duration": 0,
    "start_time": "2022-08-03T17:06:54.660Z"
   },
   {
    "duration": 0,
    "start_time": "2022-08-03T17:06:54.661Z"
   },
   {
    "duration": 0,
    "start_time": "2022-08-03T17:06:54.662Z"
   },
   {
    "duration": 0,
    "start_time": "2022-08-03T17:06:54.663Z"
   },
   {
    "duration": 0,
    "start_time": "2022-08-03T17:06:54.664Z"
   },
   {
    "duration": 0,
    "start_time": "2022-08-03T17:06:54.666Z"
   },
   {
    "duration": 0,
    "start_time": "2022-08-03T17:06:54.667Z"
   },
   {
    "duration": 0,
    "start_time": "2022-08-03T17:06:54.668Z"
   },
   {
    "duration": 0,
    "start_time": "2022-08-03T17:06:54.669Z"
   },
   {
    "duration": 0,
    "start_time": "2022-08-03T17:06:54.670Z"
   },
   {
    "duration": 0,
    "start_time": "2022-08-03T17:06:54.671Z"
   },
   {
    "duration": 0,
    "start_time": "2022-08-03T17:06:54.672Z"
   },
   {
    "duration": 0,
    "start_time": "2022-08-03T17:06:54.673Z"
   },
   {
    "duration": 0,
    "start_time": "2022-08-03T17:06:54.674Z"
   },
   {
    "duration": 0,
    "start_time": "2022-08-03T17:06:54.675Z"
   },
   {
    "duration": 0,
    "start_time": "2022-08-03T17:06:54.677Z"
   },
   {
    "duration": 0,
    "start_time": "2022-08-03T17:06:54.678Z"
   },
   {
    "duration": 1,
    "start_time": "2022-08-03T17:06:54.679Z"
   },
   {
    "duration": 18,
    "start_time": "2022-08-03T17:07:46.606Z"
   },
   {
    "duration": 484,
    "start_time": "2022-08-03T17:08:02.379Z"
   },
   {
    "duration": 14,
    "start_time": "2022-08-03T17:08:02.864Z"
   },
   {
    "duration": 18,
    "start_time": "2022-08-03T17:08:02.880Z"
   },
   {
    "duration": 13,
    "start_time": "2022-08-03T17:08:02.900Z"
   },
   {
    "duration": 30,
    "start_time": "2022-08-03T17:08:02.915Z"
   },
   {
    "duration": 9,
    "start_time": "2022-08-03T17:08:02.946Z"
   },
   {
    "duration": 9,
    "start_time": "2022-08-03T17:08:02.956Z"
   },
   {
    "duration": 6,
    "start_time": "2022-08-03T17:08:02.967Z"
   },
   {
    "duration": 27,
    "start_time": "2022-08-03T17:08:02.974Z"
   },
   {
    "duration": 13,
    "start_time": "2022-08-03T17:08:03.004Z"
   },
   {
    "duration": 9,
    "start_time": "2022-08-03T17:08:03.018Z"
   },
   {
    "duration": 10,
    "start_time": "2022-08-03T17:08:03.028Z"
   },
   {
    "duration": 22,
    "start_time": "2022-08-03T17:08:03.039Z"
   },
   {
    "duration": 8,
    "start_time": "2022-08-03T17:08:03.063Z"
   },
   {
    "duration": 7,
    "start_time": "2022-08-03T17:08:03.072Z"
   },
   {
    "duration": 27,
    "start_time": "2022-08-03T17:08:03.080Z"
   },
   {
    "duration": 25,
    "start_time": "2022-08-03T17:08:03.109Z"
   },
   {
    "duration": 9,
    "start_time": "2022-08-03T17:08:03.135Z"
   },
   {
    "duration": 8,
    "start_time": "2022-08-03T17:08:03.145Z"
   },
   {
    "duration": 11,
    "start_time": "2022-08-03T17:08:03.154Z"
   },
   {
    "duration": 18,
    "start_time": "2022-08-03T17:08:03.166Z"
   },
   {
    "duration": 19,
    "start_time": "2022-08-03T17:08:03.185Z"
   },
   {
    "duration": 87,
    "start_time": "2022-08-03T17:08:03.206Z"
   },
   {
    "duration": 0,
    "start_time": "2022-08-03T17:08:03.295Z"
   },
   {
    "duration": 0,
    "start_time": "2022-08-03T17:08:03.296Z"
   },
   {
    "duration": 0,
    "start_time": "2022-08-03T17:08:03.297Z"
   },
   {
    "duration": 0,
    "start_time": "2022-08-03T17:08:03.298Z"
   },
   {
    "duration": 0,
    "start_time": "2022-08-03T17:08:03.299Z"
   },
   {
    "duration": 0,
    "start_time": "2022-08-03T17:08:03.300Z"
   },
   {
    "duration": 0,
    "start_time": "2022-08-03T17:08:03.301Z"
   },
   {
    "duration": 0,
    "start_time": "2022-08-03T17:08:03.301Z"
   },
   {
    "duration": 0,
    "start_time": "2022-08-03T17:08:03.302Z"
   },
   {
    "duration": 0,
    "start_time": "2022-08-03T17:08:03.303Z"
   },
   {
    "duration": 0,
    "start_time": "2022-08-03T17:08:03.304Z"
   },
   {
    "duration": 0,
    "start_time": "2022-08-03T17:08:03.305Z"
   },
   {
    "duration": 0,
    "start_time": "2022-08-03T17:08:03.306Z"
   },
   {
    "duration": 0,
    "start_time": "2022-08-03T17:08:03.307Z"
   },
   {
    "duration": 0,
    "start_time": "2022-08-03T17:08:03.308Z"
   },
   {
    "duration": 0,
    "start_time": "2022-08-03T17:08:03.309Z"
   },
   {
    "duration": 0,
    "start_time": "2022-08-03T17:08:03.310Z"
   },
   {
    "duration": 0,
    "start_time": "2022-08-03T17:08:03.310Z"
   },
   {
    "duration": 0,
    "start_time": "2022-08-03T17:08:03.311Z"
   },
   {
    "duration": 0,
    "start_time": "2022-08-03T17:08:03.312Z"
   },
   {
    "duration": 0,
    "start_time": "2022-08-03T17:08:03.313Z"
   },
   {
    "duration": 0,
    "start_time": "2022-08-03T17:08:03.314Z"
   },
   {
    "duration": 0,
    "start_time": "2022-08-03T17:08:03.315Z"
   },
   {
    "duration": 0,
    "start_time": "2022-08-03T17:08:03.316Z"
   },
   {
    "duration": 1,
    "start_time": "2022-08-03T17:08:03.316Z"
   },
   {
    "duration": 0,
    "start_time": "2022-08-03T17:08:03.317Z"
   }
  ],
  "kernelspec": {
   "display_name": "Python 3 (ipykernel)",
   "language": "python",
   "name": "python3"
  },
  "language_info": {
   "codemirror_mode": {
    "name": "ipython",
    "version": 3
   },
   "file_extension": ".py",
   "mimetype": "text/x-python",
   "name": "python",
   "nbconvert_exporter": "python",
   "pygments_lexer": "ipython3",
   "version": "3.9.12"
  },
  "toc": {
   "base_numbering": 1,
   "nav_menu": {},
   "number_sections": true,
   "sideBar": true,
   "skip_h1_title": true,
   "title_cell": "Table of Contents",
   "title_sidebar": "Contents",
   "toc_cell": false,
   "toc_position": {},
   "toc_section_display": true,
   "toc_window_display": false
  }
 },
 "nbformat": 4,
 "nbformat_minor": 2
}
